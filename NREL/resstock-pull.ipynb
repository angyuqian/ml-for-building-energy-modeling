{
 "cells": [
  {
   "cell_type": "code",
   "execution_count": 1,
   "metadata": {},
   "outputs": [],
   "source": [
    "import pandas as pd\n",
    "import boto3\n",
    "from botocore import UNSIGNED\n",
    "from botocore.client import Config\n",
    "import datetime\n",
    "import pyarrow"
   ]
  },
  {
   "cell_type": "code",
   "execution_count": 2,
   "metadata": {},
   "outputs": [],
   "source": [
    "s3 = boto3.client(\"s3\", config=Config(signature_version=UNSIGNED))"
   ]
  },
  {
   "cell_type": "code",
   "execution_count": 3,
   "metadata": {},
   "outputs": [],
   "source": [
    "b=\"oedi-data-lake\"\n",
    "# k = \"nrel-pds-building-stock/end-use-load-profiles-for-us-building-stock/2022/resstock_tmy3_release_1.1/metadata_and_annual_results/national/parquet/baseline_metadata_and_annual_results.parquet\""
   ]
  },
  {
   "cell_type": "code",
   "execution_count": 4,
   "metadata": {},
   "outputs": [],
   "source": [
    "states = [ 'AK', 'AL', 'AR', 'AZ', 'CA', 'CO', 'CT', 'DC', 'DE', 'FL', 'GA',\n",
    "           'HI', 'IA', 'ID', 'IL', 'IN', 'KS', 'KY', 'LA', 'MA', 'MD', 'ME',\n",
    "           'MI', 'MN', 'MO', 'MS', 'MT', 'NC', 'ND', 'NE', 'NH', 'NJ', 'NM',\n",
    "           'NV', 'NY', 'OH', 'OK', 'OR', 'PA', 'RI', 'SC', 'SD', 'TN', 'TX',\n",
    "           'UT', 'VA', 'VT', 'WA', 'WI', 'WV', 'WY']"
   ]
  },
  {
   "cell_type": "code",
   "execution_count": 5,
   "metadata": {},
   "outputs": [
    {
     "name": "stdout",
     "output_type": "stream",
     "text": [
      "nrel-pds-building-stock/end-use-load-profiles-for-us-building-stock/2022/resstock_tmy3_release_1.1/timeseries_individual_buildings/by_state/upgrade=0/state=AR/37-0.parquet\n"
     ]
    }
   ],
   "source": [
    "# Single building result\n",
    "building = 37\n",
    "k = f\"nrel-pds-building-stock/end-use-load-profiles-for-us-building-stock/2022/resstock_tmy3_release_1.1/timeseries_individual_buildings/by_state/upgrade=0/state=AR/{building}-0.parquet\"\n",
    "print(k)\n",
    "r = s3.get_object(Bucket=b, Key=k)"
   ]
  },
  {
   "cell_type": "code",
   "execution_count": 8,
   "metadata": {},
   "outputs": [
    {
     "ename": "UnsupportedOperation",
     "evalue": "seek",
     "output_type": "error",
     "traceback": [
      "\u001b[1;31m---------------------------------------------------------------------------\u001b[0m",
      "\u001b[1;31mUnsupportedOperation\u001b[0m                      Traceback (most recent call last)",
      "Cell \u001b[1;32mIn[8], line 1\u001b[0m\n\u001b[1;32m----> 1\u001b[0m pd\u001b[39m.\u001b[39;49mread_parquet(r[\u001b[39m\"\u001b[39;49m\u001b[39mBody\u001b[39;49m\u001b[39m\"\u001b[39;49m])\n",
      "File \u001b[1;32mc:\\Users\\zoelh\\AppData\\Local\\anaconda3\\envs\\ml-for-bem\\lib\\site-packages\\pandas\\io\\parquet.py:503\u001b[0m, in \u001b[0;36mread_parquet\u001b[1;34m(path, engine, columns, storage_options, use_nullable_dtypes, **kwargs)\u001b[0m\n\u001b[0;32m    456\u001b[0m \u001b[39m\u001b[39m\u001b[39m\"\"\"\u001b[39;00m\n\u001b[0;32m    457\u001b[0m \u001b[39mLoad a parquet object from the file path, returning a DataFrame.\u001b[39;00m\n\u001b[0;32m    458\u001b[0m \n\u001b[1;32m   (...)\u001b[0m\n\u001b[0;32m    499\u001b[0m \u001b[39mDataFrame\u001b[39;00m\n\u001b[0;32m    500\u001b[0m \u001b[39m\"\"\"\u001b[39;00m\n\u001b[0;32m    501\u001b[0m impl \u001b[39m=\u001b[39m get_engine(engine)\n\u001b[1;32m--> 503\u001b[0m \u001b[39mreturn\u001b[39;00m impl\u001b[39m.\u001b[39;49mread(\n\u001b[0;32m    504\u001b[0m     path,\n\u001b[0;32m    505\u001b[0m     columns\u001b[39m=\u001b[39;49mcolumns,\n\u001b[0;32m    506\u001b[0m     storage_options\u001b[39m=\u001b[39;49mstorage_options,\n\u001b[0;32m    507\u001b[0m     use_nullable_dtypes\u001b[39m=\u001b[39;49muse_nullable_dtypes,\n\u001b[0;32m    508\u001b[0m     \u001b[39m*\u001b[39;49m\u001b[39m*\u001b[39;49mkwargs,\n\u001b[0;32m    509\u001b[0m )\n",
      "File \u001b[1;32mc:\\Users\\zoelh\\AppData\\Local\\anaconda3\\envs\\ml-for-bem\\lib\\site-packages\\pandas\\io\\parquet.py:251\u001b[0m, in \u001b[0;36mPyArrowImpl.read\u001b[1;34m(self, path, columns, use_nullable_dtypes, storage_options, **kwargs)\u001b[0m\n\u001b[0;32m    244\u001b[0m path_or_handle, handles, kwargs[\u001b[39m\"\u001b[39m\u001b[39mfilesystem\u001b[39m\u001b[39m\"\u001b[39m] \u001b[39m=\u001b[39m _get_path_or_handle(\n\u001b[0;32m    245\u001b[0m     path,\n\u001b[0;32m    246\u001b[0m     kwargs\u001b[39m.\u001b[39mpop(\u001b[39m\"\u001b[39m\u001b[39mfilesystem\u001b[39m\u001b[39m\"\u001b[39m, \u001b[39mNone\u001b[39;00m),\n\u001b[0;32m    247\u001b[0m     storage_options\u001b[39m=\u001b[39mstorage_options,\n\u001b[0;32m    248\u001b[0m     mode\u001b[39m=\u001b[39m\u001b[39m\"\u001b[39m\u001b[39mrb\u001b[39m\u001b[39m\"\u001b[39m,\n\u001b[0;32m    249\u001b[0m )\n\u001b[0;32m    250\u001b[0m \u001b[39mtry\u001b[39;00m:\n\u001b[1;32m--> 251\u001b[0m     result \u001b[39m=\u001b[39m \u001b[39mself\u001b[39;49m\u001b[39m.\u001b[39;49mapi\u001b[39m.\u001b[39;49mparquet\u001b[39m.\u001b[39;49mread_table(\n\u001b[0;32m    252\u001b[0m         path_or_handle, columns\u001b[39m=\u001b[39;49mcolumns, \u001b[39m*\u001b[39;49m\u001b[39m*\u001b[39;49mkwargs\n\u001b[0;32m    253\u001b[0m     )\u001b[39m.\u001b[39mto_pandas(\u001b[39m*\u001b[39m\u001b[39m*\u001b[39mto_pandas_kwargs)\n\u001b[0;32m    254\u001b[0m     \u001b[39mif\u001b[39;00m manager \u001b[39m==\u001b[39m \u001b[39m\"\u001b[39m\u001b[39marray\u001b[39m\u001b[39m\"\u001b[39m:\n\u001b[0;32m    255\u001b[0m         result \u001b[39m=\u001b[39m result\u001b[39m.\u001b[39m_as_manager(\u001b[39m\"\u001b[39m\u001b[39marray\u001b[39m\u001b[39m\"\u001b[39m, copy\u001b[39m=\u001b[39m\u001b[39mFalse\u001b[39;00m)\n",
      "File \u001b[1;32mc:\\Users\\zoelh\\AppData\\Local\\anaconda3\\envs\\ml-for-bem\\lib\\site-packages\\pyarrow\\parquet\\core.py:2956\u001b[0m, in \u001b[0;36mread_table\u001b[1;34m(source, columns, use_threads, metadata, schema, use_pandas_metadata, read_dictionary, memory_map, buffer_size, partitioning, filesystem, filters, use_legacy_dataset, ignore_prefixes, pre_buffer, coerce_int96_timestamp_unit, decryption_properties, thrift_string_size_limit, thrift_container_size_limit)\u001b[0m\n\u001b[0;32m   2949\u001b[0m     \u001b[39mraise\u001b[39;00m \u001b[39mValueError\u001b[39;00m(\n\u001b[0;32m   2950\u001b[0m         \u001b[39m\"\u001b[39m\u001b[39mThe \u001b[39m\u001b[39m'\u001b[39m\u001b[39mmetadata\u001b[39m\u001b[39m'\u001b[39m\u001b[39m keyword is no longer supported with the new \u001b[39m\u001b[39m\"\u001b[39m\n\u001b[0;32m   2951\u001b[0m         \u001b[39m\"\u001b[39m\u001b[39mdatasets-based implementation. Specify \u001b[39m\u001b[39m\"\u001b[39m\n\u001b[0;32m   2952\u001b[0m         \u001b[39m\"\u001b[39m\u001b[39m'\u001b[39m\u001b[39muse_legacy_dataset=True\u001b[39m\u001b[39m'\u001b[39m\u001b[39m to temporarily recover the old \u001b[39m\u001b[39m\"\u001b[39m\n\u001b[0;32m   2953\u001b[0m         \u001b[39m\"\u001b[39m\u001b[39mbehaviour.\u001b[39m\u001b[39m\"\u001b[39m\n\u001b[0;32m   2954\u001b[0m     )\n\u001b[0;32m   2955\u001b[0m \u001b[39mtry\u001b[39;00m:\n\u001b[1;32m-> 2956\u001b[0m     dataset \u001b[39m=\u001b[39m _ParquetDatasetV2(\n\u001b[0;32m   2957\u001b[0m         source,\n\u001b[0;32m   2958\u001b[0m         schema\u001b[39m=\u001b[39;49mschema,\n\u001b[0;32m   2959\u001b[0m         filesystem\u001b[39m=\u001b[39;49mfilesystem,\n\u001b[0;32m   2960\u001b[0m         partitioning\u001b[39m=\u001b[39;49mpartitioning,\n\u001b[0;32m   2961\u001b[0m         memory_map\u001b[39m=\u001b[39;49mmemory_map,\n\u001b[0;32m   2962\u001b[0m         read_dictionary\u001b[39m=\u001b[39;49mread_dictionary,\n\u001b[0;32m   2963\u001b[0m         buffer_size\u001b[39m=\u001b[39;49mbuffer_size,\n\u001b[0;32m   2964\u001b[0m         filters\u001b[39m=\u001b[39;49mfilters,\n\u001b[0;32m   2965\u001b[0m         ignore_prefixes\u001b[39m=\u001b[39;49mignore_prefixes,\n\u001b[0;32m   2966\u001b[0m         pre_buffer\u001b[39m=\u001b[39;49mpre_buffer,\n\u001b[0;32m   2967\u001b[0m         coerce_int96_timestamp_unit\u001b[39m=\u001b[39;49mcoerce_int96_timestamp_unit,\n\u001b[0;32m   2968\u001b[0m         thrift_string_size_limit\u001b[39m=\u001b[39;49mthrift_string_size_limit,\n\u001b[0;32m   2969\u001b[0m         thrift_container_size_limit\u001b[39m=\u001b[39;49mthrift_container_size_limit,\n\u001b[0;32m   2970\u001b[0m     )\n\u001b[0;32m   2971\u001b[0m \u001b[39mexcept\u001b[39;00m \u001b[39mImportError\u001b[39;00m:\n\u001b[0;32m   2972\u001b[0m     \u001b[39m# fall back on ParquetFile for simple cases when pyarrow.dataset\u001b[39;00m\n\u001b[0;32m   2973\u001b[0m     \u001b[39m# module is not available\u001b[39;00m\n\u001b[0;32m   2974\u001b[0m     \u001b[39mif\u001b[39;00m filters \u001b[39mis\u001b[39;00m \u001b[39mnot\u001b[39;00m \u001b[39mNone\u001b[39;00m:\n",
      "File \u001b[1;32mc:\\Users\\zoelh\\AppData\\Local\\anaconda3\\envs\\ml-for-bem\\lib\\site-packages\\pyarrow\\parquet\\core.py:2496\u001b[0m, in \u001b[0;36m_ParquetDatasetV2.__init__\u001b[1;34m(self, path_or_paths, filesystem, filters, partitioning, read_dictionary, buffer_size, memory_map, ignore_prefixes, pre_buffer, coerce_int96_timestamp_unit, schema, decryption_properties, thrift_string_size_limit, thrift_container_size_limit, **kwargs)\u001b[0m\n\u001b[0;32m   2492\u001b[0m \u001b[39mif\u001b[39;00m single_file \u001b[39mis\u001b[39;00m \u001b[39mnot\u001b[39;00m \u001b[39mNone\u001b[39;00m:\n\u001b[0;32m   2493\u001b[0m     fragment \u001b[39m=\u001b[39m parquet_format\u001b[39m.\u001b[39mmake_fragment(single_file, filesystem)\n\u001b[0;32m   2495\u001b[0m     \u001b[39mself\u001b[39m\u001b[39m.\u001b[39m_dataset \u001b[39m=\u001b[39m ds\u001b[39m.\u001b[39mFileSystemDataset(\n\u001b[1;32m-> 2496\u001b[0m         [fragment], schema\u001b[39m=\u001b[39mschema \u001b[39mor\u001b[39;00m fragment\u001b[39m.\u001b[39;49mphysical_schema,\n\u001b[0;32m   2497\u001b[0m         \u001b[39mformat\u001b[39m\u001b[39m=\u001b[39mparquet_format,\n\u001b[0;32m   2498\u001b[0m         filesystem\u001b[39m=\u001b[39mfragment\u001b[39m.\u001b[39mfilesystem\n\u001b[0;32m   2499\u001b[0m     )\n\u001b[0;32m   2500\u001b[0m     \u001b[39mreturn\u001b[39;00m\n\u001b[0;32m   2502\u001b[0m \u001b[39m# check partitioning to enable dictionary encoding\u001b[39;00m\n",
      "File \u001b[1;32mc:\\Users\\zoelh\\AppData\\Local\\anaconda3\\envs\\ml-for-bem\\lib\\site-packages\\pyarrow\\_dataset.pyx:1358\u001b[0m, in \u001b[0;36mpyarrow._dataset.Fragment.physical_schema.__get__\u001b[1;34m()\u001b[0m\n",
      "File \u001b[1;32mc:\\Users\\zoelh\\AppData\\Local\\anaconda3\\envs\\ml-for-bem\\lib\\site-packages\\pyarrow\\error.pxi:154\u001b[0m, in \u001b[0;36mpyarrow.lib.pyarrow_internal_check_status\u001b[1;34m()\u001b[0m\n",
      "File \u001b[1;32mc:\\Users\\zoelh\\AppData\\Local\\anaconda3\\envs\\ml-for-bem\\lib\\site-packages\\pyarrow\\types.pxi:88\u001b[0m, in \u001b[0;36mpyarrow.lib._datatype_to_pep3118\u001b[1;34m()\u001b[0m\n",
      "\u001b[1;31mUnsupportedOperation\u001b[0m: seek"
     ]
    }
   ],
   "source": [
    "pd.read_parquet(r[\"Body\"])"
   ]
  },
  {
   "cell_type": "code",
   "execution_count": 10,
   "metadata": {},
   "outputs": [
    {
     "name": "stdout",
     "output_type": "stream",
     "text": [
      "nrel-pds-building-stock/end-use-load-profiles-for-us-building-stock/2022/resstock_tmy3_release_1.1/metadata_and_annual_results/by_state/state=AK/csv/AK_baseline_metadata_and_annual_results.csv\n",
      "nrel-pds-building-stock/end-use-load-profiles-for-us-building-stock/2022/resstock_tmy3_release_1.1/metadata_and_annual_results/by_state/state=AL/csv/AL_baseline_metadata_and_annual_results.csv\n"
     ]
    },
    {
     "name": "stderr",
     "output_type": "stream",
     "text": [
      "C:\\Users\\zoelh\\AppData\\Local\\Temp\\ipykernel_168044\\690010590.py:7: DtypeWarning: Columns (121) have mixed types. Specify dtype option on import or set low_memory=False.\n",
      "  df = pd.read_csv(r[\"Body\"])\n"
     ]
    },
    {
     "name": "stdout",
     "output_type": "stream",
     "text": [
      "nrel-pds-building-stock/end-use-load-profiles-for-us-building-stock/2022/resstock_tmy3_release_1.1/metadata_and_annual_results/by_state/state=AR/csv/AR_baseline_metadata_and_annual_results.csv\n",
      "nrel-pds-building-stock/end-use-load-profiles-for-us-building-stock/2022/resstock_tmy3_release_1.1/metadata_and_annual_results/by_state/state=AZ/csv/AZ_baseline_metadata_and_annual_results.csv\n"
     ]
    },
    {
     "name": "stderr",
     "output_type": "stream",
     "text": [
      "C:\\Users\\zoelh\\AppData\\Local\\Temp\\ipykernel_168044\\690010590.py:7: DtypeWarning: Columns (121) have mixed types. Specify dtype option on import or set low_memory=False.\n",
      "  df = pd.read_csv(r[\"Body\"])\n"
     ]
    },
    {
     "name": "stdout",
     "output_type": "stream",
     "text": [
      "nrel-pds-building-stock/end-use-load-profiles-for-us-building-stock/2022/resstock_tmy3_release_1.1/metadata_and_annual_results/by_state/state=CA/csv/CA_baseline_metadata_and_annual_results.csv\n"
     ]
    },
    {
     "name": "stderr",
     "output_type": "stream",
     "text": [
      "C:\\Users\\zoelh\\AppData\\Local\\Temp\\ipykernel_168044\\690010590.py:7: DtypeWarning: Columns (61,121) have mixed types. Specify dtype option on import or set low_memory=False.\n",
      "  df = pd.read_csv(r[\"Body\"])\n"
     ]
    },
    {
     "name": "stdout",
     "output_type": "stream",
     "text": [
      "nrel-pds-building-stock/end-use-load-profiles-for-us-building-stock/2022/resstock_tmy3_release_1.1/metadata_and_annual_results/by_state/state=CO/csv/CO_baseline_metadata_and_annual_results.csv\n",
      "nrel-pds-building-stock/end-use-load-profiles-for-us-building-stock/2022/resstock_tmy3_release_1.1/metadata_and_annual_results/by_state/state=CT/csv/CT_baseline_metadata_and_annual_results.csv\n"
     ]
    },
    {
     "name": "stderr",
     "output_type": "stream",
     "text": [
      "C:\\Users\\zoelh\\AppData\\Local\\Temp\\ipykernel_168044\\690010590.py:7: DtypeWarning: Columns (121) have mixed types. Specify dtype option on import or set low_memory=False.\n",
      "  df = pd.read_csv(r[\"Body\"])\n"
     ]
    },
    {
     "name": "stdout",
     "output_type": "stream",
     "text": [
      "nrel-pds-building-stock/end-use-load-profiles-for-us-building-stock/2022/resstock_tmy3_release_1.1/metadata_and_annual_results/by_state/state=DC/csv/DC_baseline_metadata_and_annual_results.csv\n",
      "nrel-pds-building-stock/end-use-load-profiles-for-us-building-stock/2022/resstock_tmy3_release_1.1/metadata_and_annual_results/by_state/state=DE/csv/DE_baseline_metadata_and_annual_results.csv\n",
      "nrel-pds-building-stock/end-use-load-profiles-for-us-building-stock/2022/resstock_tmy3_release_1.1/metadata_and_annual_results/by_state/state=FL/csv/FL_baseline_metadata_and_annual_results.csv\n"
     ]
    },
    {
     "name": "stderr",
     "output_type": "stream",
     "text": [
      "C:\\Users\\zoelh\\AppData\\Local\\Temp\\ipykernel_168044\\690010590.py:7: DtypeWarning: Columns (121) have mixed types. Specify dtype option on import or set low_memory=False.\n",
      "  df = pd.read_csv(r[\"Body\"])\n"
     ]
    },
    {
     "name": "stdout",
     "output_type": "stream",
     "text": [
      "nrel-pds-building-stock/end-use-load-profiles-for-us-building-stock/2022/resstock_tmy3_release_1.1/metadata_and_annual_results/by_state/state=GA/csv/GA_baseline_metadata_and_annual_results.csv\n"
     ]
    },
    {
     "name": "stderr",
     "output_type": "stream",
     "text": [
      "C:\\Users\\zoelh\\AppData\\Local\\Temp\\ipykernel_168044\\690010590.py:7: DtypeWarning: Columns (121) have mixed types. Specify dtype option on import or set low_memory=False.\n",
      "  df = pd.read_csv(r[\"Body\"])\n"
     ]
    },
    {
     "name": "stdout",
     "output_type": "stream",
     "text": [
      "nrel-pds-building-stock/end-use-load-profiles-for-us-building-stock/2022/resstock_tmy3_release_1.1/metadata_and_annual_results/by_state/state=HI/csv/HI_baseline_metadata_and_annual_results.csv\n",
      "nrel-pds-building-stock/end-use-load-profiles-for-us-building-stock/2022/resstock_tmy3_release_1.1/metadata_and_annual_results/by_state/state=IA/csv/IA_baseline_metadata_and_annual_results.csv\n"
     ]
    },
    {
     "name": "stderr",
     "output_type": "stream",
     "text": [
      "C:\\Users\\zoelh\\AppData\\Local\\Temp\\ipykernel_168044\\690010590.py:7: DtypeWarning: Columns (121) have mixed types. Specify dtype option on import or set low_memory=False.\n",
      "  df = pd.read_csv(r[\"Body\"])\n"
     ]
    },
    {
     "name": "stdout",
     "output_type": "stream",
     "text": [
      "nrel-pds-building-stock/end-use-load-profiles-for-us-building-stock/2022/resstock_tmy3_release_1.1/metadata_and_annual_results/by_state/state=ID/csv/ID_baseline_metadata_and_annual_results.csv\n"
     ]
    },
    {
     "name": "stderr",
     "output_type": "stream",
     "text": [
      "C:\\Users\\zoelh\\AppData\\Local\\Temp\\ipykernel_168044\\690010590.py:7: DtypeWarning: Columns (121) have mixed types. Specify dtype option on import or set low_memory=False.\n",
      "  df = pd.read_csv(r[\"Body\"])\n"
     ]
    },
    {
     "name": "stdout",
     "output_type": "stream",
     "text": [
      "nrel-pds-building-stock/end-use-load-profiles-for-us-building-stock/2022/resstock_tmy3_release_1.1/metadata_and_annual_results/by_state/state=IL/csv/IL_baseline_metadata_and_annual_results.csv\n",
      "nrel-pds-building-stock/end-use-load-profiles-for-us-building-stock/2022/resstock_tmy3_release_1.1/metadata_and_annual_results/by_state/state=IN/csv/IN_baseline_metadata_and_annual_results.csv\n"
     ]
    },
    {
     "name": "stderr",
     "output_type": "stream",
     "text": [
      "C:\\Users\\zoelh\\AppData\\Local\\Temp\\ipykernel_168044\\690010590.py:7: DtypeWarning: Columns (121) have mixed types. Specify dtype option on import or set low_memory=False.\n",
      "  df = pd.read_csv(r[\"Body\"])\n"
     ]
    },
    {
     "name": "stdout",
     "output_type": "stream",
     "text": [
      "nrel-pds-building-stock/end-use-load-profiles-for-us-building-stock/2022/resstock_tmy3_release_1.1/metadata_and_annual_results/by_state/state=KS/csv/KS_baseline_metadata_and_annual_results.csv\n",
      "nrel-pds-building-stock/end-use-load-profiles-for-us-building-stock/2022/resstock_tmy3_release_1.1/metadata_and_annual_results/by_state/state=KY/csv/KY_baseline_metadata_and_annual_results.csv\n"
     ]
    },
    {
     "name": "stderr",
     "output_type": "stream",
     "text": [
      "C:\\Users\\zoelh\\AppData\\Local\\Temp\\ipykernel_168044\\690010590.py:7: DtypeWarning: Columns (121) have mixed types. Specify dtype option on import or set low_memory=False.\n",
      "  df = pd.read_csv(r[\"Body\"])\n"
     ]
    },
    {
     "name": "stdout",
     "output_type": "stream",
     "text": [
      "nrel-pds-building-stock/end-use-load-profiles-for-us-building-stock/2022/resstock_tmy3_release_1.1/metadata_and_annual_results/by_state/state=LA/csv/LA_baseline_metadata_and_annual_results.csv\n"
     ]
    },
    {
     "name": "stderr",
     "output_type": "stream",
     "text": [
      "C:\\Users\\zoelh\\AppData\\Local\\Temp\\ipykernel_168044\\690010590.py:7: DtypeWarning: Columns (121) have mixed types. Specify dtype option on import or set low_memory=False.\n",
      "  df = pd.read_csv(r[\"Body\"])\n"
     ]
    },
    {
     "name": "stdout",
     "output_type": "stream",
     "text": [
      "nrel-pds-building-stock/end-use-load-profiles-for-us-building-stock/2022/resstock_tmy3_release_1.1/metadata_and_annual_results/by_state/state=MA/csv/MA_baseline_metadata_and_annual_results.csv\n"
     ]
    },
    {
     "name": "stderr",
     "output_type": "stream",
     "text": [
      "C:\\Users\\zoelh\\AppData\\Local\\Temp\\ipykernel_168044\\690010590.py:7: DtypeWarning: Columns (121) have mixed types. Specify dtype option on import or set low_memory=False.\n",
      "  df = pd.read_csv(r[\"Body\"])\n"
     ]
    },
    {
     "name": "stdout",
     "output_type": "stream",
     "text": [
      "nrel-pds-building-stock/end-use-load-profiles-for-us-building-stock/2022/resstock_tmy3_release_1.1/metadata_and_annual_results/by_state/state=MD/csv/MD_baseline_metadata_and_annual_results.csv\n"
     ]
    },
    {
     "name": "stderr",
     "output_type": "stream",
     "text": [
      "C:\\Users\\zoelh\\AppData\\Local\\Temp\\ipykernel_168044\\690010590.py:7: DtypeWarning: Columns (121) have mixed types. Specify dtype option on import or set low_memory=False.\n",
      "  df = pd.read_csv(r[\"Body\"])\n"
     ]
    },
    {
     "name": "stdout",
     "output_type": "stream",
     "text": [
      "nrel-pds-building-stock/end-use-load-profiles-for-us-building-stock/2022/resstock_tmy3_release_1.1/metadata_and_annual_results/by_state/state=ME/csv/ME_baseline_metadata_and_annual_results.csv\n",
      "nrel-pds-building-stock/end-use-load-profiles-for-us-building-stock/2022/resstock_tmy3_release_1.1/metadata_and_annual_results/by_state/state=MI/csv/MI_baseline_metadata_and_annual_results.csv\n"
     ]
    },
    {
     "name": "stderr",
     "output_type": "stream",
     "text": [
      "C:\\Users\\zoelh\\AppData\\Local\\Temp\\ipykernel_168044\\690010590.py:7: DtypeWarning: Columns (121) have mixed types. Specify dtype option on import or set low_memory=False.\n",
      "  df = pd.read_csv(r[\"Body\"])\n"
     ]
    },
    {
     "name": "stdout",
     "output_type": "stream",
     "text": [
      "nrel-pds-building-stock/end-use-load-profiles-for-us-building-stock/2022/resstock_tmy3_release_1.1/metadata_and_annual_results/by_state/state=MN/csv/MN_baseline_metadata_and_annual_results.csv\n"
     ]
    },
    {
     "name": "stderr",
     "output_type": "stream",
     "text": [
      "C:\\Users\\zoelh\\AppData\\Local\\Temp\\ipykernel_168044\\690010590.py:7: DtypeWarning: Columns (121) have mixed types. Specify dtype option on import or set low_memory=False.\n",
      "  df = pd.read_csv(r[\"Body\"])\n"
     ]
    },
    {
     "name": "stdout",
     "output_type": "stream",
     "text": [
      "nrel-pds-building-stock/end-use-load-profiles-for-us-building-stock/2022/resstock_tmy3_release_1.1/metadata_and_annual_results/by_state/state=MO/csv/MO_baseline_metadata_and_annual_results.csv\n"
     ]
    },
    {
     "name": "stderr",
     "output_type": "stream",
     "text": [
      "C:\\Users\\zoelh\\AppData\\Local\\Temp\\ipykernel_168044\\690010590.py:7: DtypeWarning: Columns (121) have mixed types. Specify dtype option on import or set low_memory=False.\n",
      "  df = pd.read_csv(r[\"Body\"])\n"
     ]
    },
    {
     "name": "stdout",
     "output_type": "stream",
     "text": [
      "nrel-pds-building-stock/end-use-load-profiles-for-us-building-stock/2022/resstock_tmy3_release_1.1/metadata_and_annual_results/by_state/state=MS/csv/MS_baseline_metadata_and_annual_results.csv\n",
      "nrel-pds-building-stock/end-use-load-profiles-for-us-building-stock/2022/resstock_tmy3_release_1.1/metadata_and_annual_results/by_state/state=MT/csv/MT_baseline_metadata_and_annual_results.csv\n",
      "nrel-pds-building-stock/end-use-load-profiles-for-us-building-stock/2022/resstock_tmy3_release_1.1/metadata_and_annual_results/by_state/state=NC/csv/NC_baseline_metadata_and_annual_results.csv\n"
     ]
    },
    {
     "name": "stderr",
     "output_type": "stream",
     "text": [
      "C:\\Users\\zoelh\\AppData\\Local\\Temp\\ipykernel_168044\\690010590.py:7: DtypeWarning: Columns (121) have mixed types. Specify dtype option on import or set low_memory=False.\n",
      "  df = pd.read_csv(r[\"Body\"])\n"
     ]
    },
    {
     "name": "stdout",
     "output_type": "stream",
     "text": [
      "nrel-pds-building-stock/end-use-load-profiles-for-us-building-stock/2022/resstock_tmy3_release_1.1/metadata_and_annual_results/by_state/state=ND/csv/ND_baseline_metadata_and_annual_results.csv\n",
      "nrel-pds-building-stock/end-use-load-profiles-for-us-building-stock/2022/resstock_tmy3_release_1.1/metadata_and_annual_results/by_state/state=NE/csv/NE_baseline_metadata_and_annual_results.csv\n"
     ]
    },
    {
     "name": "stderr",
     "output_type": "stream",
     "text": [
      "C:\\Users\\zoelh\\AppData\\Local\\Temp\\ipykernel_168044\\690010590.py:7: DtypeWarning: Columns (121) have mixed types. Specify dtype option on import or set low_memory=False.\n",
      "  df = pd.read_csv(r[\"Body\"])\n"
     ]
    },
    {
     "name": "stdout",
     "output_type": "stream",
     "text": [
      "nrel-pds-building-stock/end-use-load-profiles-for-us-building-stock/2022/resstock_tmy3_release_1.1/metadata_and_annual_results/by_state/state=NH/csv/NH_baseline_metadata_and_annual_results.csv\n"
     ]
    },
    {
     "name": "stderr",
     "output_type": "stream",
     "text": [
      "C:\\Users\\zoelh\\AppData\\Local\\Temp\\ipykernel_168044\\690010590.py:7: DtypeWarning: Columns (121) have mixed types. Specify dtype option on import or set low_memory=False.\n",
      "  df = pd.read_csv(r[\"Body\"])\n"
     ]
    },
    {
     "name": "stdout",
     "output_type": "stream",
     "text": [
      "nrel-pds-building-stock/end-use-load-profiles-for-us-building-stock/2022/resstock_tmy3_release_1.1/metadata_and_annual_results/by_state/state=NJ/csv/NJ_baseline_metadata_and_annual_results.csv\n"
     ]
    },
    {
     "name": "stderr",
     "output_type": "stream",
     "text": [
      "C:\\Users\\zoelh\\AppData\\Local\\Temp\\ipykernel_168044\\690010590.py:7: DtypeWarning: Columns (121) have mixed types. Specify dtype option on import or set low_memory=False.\n",
      "  df = pd.read_csv(r[\"Body\"])\n"
     ]
    },
    {
     "name": "stdout",
     "output_type": "stream",
     "text": [
      "nrel-pds-building-stock/end-use-load-profiles-for-us-building-stock/2022/resstock_tmy3_release_1.1/metadata_and_annual_results/by_state/state=NM/csv/NM_baseline_metadata_and_annual_results.csv\n",
      "nrel-pds-building-stock/end-use-load-profiles-for-us-building-stock/2022/resstock_tmy3_release_1.1/metadata_and_annual_results/by_state/state=NV/csv/NV_baseline_metadata_and_annual_results.csv\n"
     ]
    },
    {
     "name": "stderr",
     "output_type": "stream",
     "text": [
      "C:\\Users\\zoelh\\AppData\\Local\\Temp\\ipykernel_168044\\690010590.py:7: DtypeWarning: Columns (121) have mixed types. Specify dtype option on import or set low_memory=False.\n",
      "  df = pd.read_csv(r[\"Body\"])\n"
     ]
    },
    {
     "name": "stdout",
     "output_type": "stream",
     "text": [
      "nrel-pds-building-stock/end-use-load-profiles-for-us-building-stock/2022/resstock_tmy3_release_1.1/metadata_and_annual_results/by_state/state=NY/csv/NY_baseline_metadata_and_annual_results.csv\n"
     ]
    },
    {
     "name": "stderr",
     "output_type": "stream",
     "text": [
      "C:\\Users\\zoelh\\AppData\\Local\\Temp\\ipykernel_168044\\690010590.py:7: DtypeWarning: Columns (121) have mixed types. Specify dtype option on import or set low_memory=False.\n",
      "  df = pd.read_csv(r[\"Body\"])\n"
     ]
    },
    {
     "name": "stdout",
     "output_type": "stream",
     "text": [
      "nrel-pds-building-stock/end-use-load-profiles-for-us-building-stock/2022/resstock_tmy3_release_1.1/metadata_and_annual_results/by_state/state=OH/csv/OH_baseline_metadata_and_annual_results.csv\n"
     ]
    },
    {
     "name": "stderr",
     "output_type": "stream",
     "text": [
      "C:\\Users\\zoelh\\AppData\\Local\\Temp\\ipykernel_168044\\690010590.py:7: DtypeWarning: Columns (121) have mixed types. Specify dtype option on import or set low_memory=False.\n",
      "  df = pd.read_csv(r[\"Body\"])\n"
     ]
    },
    {
     "name": "stdout",
     "output_type": "stream",
     "text": [
      "nrel-pds-building-stock/end-use-load-profiles-for-us-building-stock/2022/resstock_tmy3_release_1.1/metadata_and_annual_results/by_state/state=OK/csv/OK_baseline_metadata_and_annual_results.csv\n",
      "nrel-pds-building-stock/end-use-load-profiles-for-us-building-stock/2022/resstock_tmy3_release_1.1/metadata_and_annual_results/by_state/state=OR/csv/OR_baseline_metadata_and_annual_results.csv\n"
     ]
    },
    {
     "name": "stderr",
     "output_type": "stream",
     "text": [
      "C:\\Users\\zoelh\\AppData\\Local\\Temp\\ipykernel_168044\\690010590.py:7: DtypeWarning: Columns (121) have mixed types. Specify dtype option on import or set low_memory=False.\n",
      "  df = pd.read_csv(r[\"Body\"])\n"
     ]
    },
    {
     "name": "stdout",
     "output_type": "stream",
     "text": [
      "nrel-pds-building-stock/end-use-load-profiles-for-us-building-stock/2022/resstock_tmy3_release_1.1/metadata_and_annual_results/by_state/state=PA/csv/PA_baseline_metadata_and_annual_results.csv\n"
     ]
    },
    {
     "name": "stderr",
     "output_type": "stream",
     "text": [
      "C:\\Users\\zoelh\\AppData\\Local\\Temp\\ipykernel_168044\\690010590.py:7: DtypeWarning: Columns (121) have mixed types. Specify dtype option on import or set low_memory=False.\n",
      "  df = pd.read_csv(r[\"Body\"])\n"
     ]
    },
    {
     "name": "stdout",
     "output_type": "stream",
     "text": [
      "nrel-pds-building-stock/end-use-load-profiles-for-us-building-stock/2022/resstock_tmy3_release_1.1/metadata_and_annual_results/by_state/state=RI/csv/RI_baseline_metadata_and_annual_results.csv\n",
      "nrel-pds-building-stock/end-use-load-profiles-for-us-building-stock/2022/resstock_tmy3_release_1.1/metadata_and_annual_results/by_state/state=SC/csv/SC_baseline_metadata_and_annual_results.csv\n",
      "nrel-pds-building-stock/end-use-load-profiles-for-us-building-stock/2022/resstock_tmy3_release_1.1/metadata_and_annual_results/by_state/state=SD/csv/SD_baseline_metadata_and_annual_results.csv\n",
      "nrel-pds-building-stock/end-use-load-profiles-for-us-building-stock/2022/resstock_tmy3_release_1.1/metadata_and_annual_results/by_state/state=TN/csv/TN_baseline_metadata_and_annual_results.csv\n"
     ]
    },
    {
     "name": "stderr",
     "output_type": "stream",
     "text": [
      "C:\\Users\\zoelh\\AppData\\Local\\Temp\\ipykernel_168044\\690010590.py:7: DtypeWarning: Columns (121) have mixed types. Specify dtype option on import or set low_memory=False.\n",
      "  df = pd.read_csv(r[\"Body\"])\n"
     ]
    },
    {
     "name": "stdout",
     "output_type": "stream",
     "text": [
      "nrel-pds-building-stock/end-use-load-profiles-for-us-building-stock/2022/resstock_tmy3_release_1.1/metadata_and_annual_results/by_state/state=TX/csv/TX_baseline_metadata_and_annual_results.csv\n"
     ]
    },
    {
     "name": "stderr",
     "output_type": "stream",
     "text": [
      "C:\\Users\\zoelh\\AppData\\Local\\Temp\\ipykernel_168044\\690010590.py:7: DtypeWarning: Columns (121) have mixed types. Specify dtype option on import or set low_memory=False.\n",
      "  df = pd.read_csv(r[\"Body\"])\n"
     ]
    },
    {
     "name": "stdout",
     "output_type": "stream",
     "text": [
      "nrel-pds-building-stock/end-use-load-profiles-for-us-building-stock/2022/resstock_tmy3_release_1.1/metadata_and_annual_results/by_state/state=UT/csv/UT_baseline_metadata_and_annual_results.csv\n"
     ]
    },
    {
     "name": "stderr",
     "output_type": "stream",
     "text": [
      "C:\\Users\\zoelh\\AppData\\Local\\Temp\\ipykernel_168044\\690010590.py:7: DtypeWarning: Columns (121) have mixed types. Specify dtype option on import or set low_memory=False.\n",
      "  df = pd.read_csv(r[\"Body\"])\n"
     ]
    },
    {
     "name": "stdout",
     "output_type": "stream",
     "text": [
      "nrel-pds-building-stock/end-use-load-profiles-for-us-building-stock/2022/resstock_tmy3_release_1.1/metadata_and_annual_results/by_state/state=VA/csv/VA_baseline_metadata_and_annual_results.csv\n"
     ]
    },
    {
     "name": "stderr",
     "output_type": "stream",
     "text": [
      "C:\\Users\\zoelh\\AppData\\Local\\Temp\\ipykernel_168044\\690010590.py:7: DtypeWarning: Columns (121) have mixed types. Specify dtype option on import or set low_memory=False.\n",
      "  df = pd.read_csv(r[\"Body\"])\n"
     ]
    },
    {
     "name": "stdout",
     "output_type": "stream",
     "text": [
      "nrel-pds-building-stock/end-use-load-profiles-for-us-building-stock/2022/resstock_tmy3_release_1.1/metadata_and_annual_results/by_state/state=VT/csv/VT_baseline_metadata_and_annual_results.csv\n",
      "nrel-pds-building-stock/end-use-load-profiles-for-us-building-stock/2022/resstock_tmy3_release_1.1/metadata_and_annual_results/by_state/state=WA/csv/WA_baseline_metadata_and_annual_results.csv\n",
      "nrel-pds-building-stock/end-use-load-profiles-for-us-building-stock/2022/resstock_tmy3_release_1.1/metadata_and_annual_results/by_state/state=WI/csv/WI_baseline_metadata_and_annual_results.csv\n",
      "nrel-pds-building-stock/end-use-load-profiles-for-us-building-stock/2022/resstock_tmy3_release_1.1/metadata_and_annual_results/by_state/state=WV/csv/WV_baseline_metadata_and_annual_results.csv\n"
     ]
    },
    {
     "name": "stderr",
     "output_type": "stream",
     "text": [
      "C:\\Users\\zoelh\\AppData\\Local\\Temp\\ipykernel_168044\\690010590.py:7: DtypeWarning: Columns (121) have mixed types. Specify dtype option on import or set low_memory=False.\n",
      "  df = pd.read_csv(r[\"Body\"])\n"
     ]
    },
    {
     "name": "stdout",
     "output_type": "stream",
     "text": [
      "nrel-pds-building-stock/end-use-load-profiles-for-us-building-stock/2022/resstock_tmy3_release_1.1/metadata_and_annual_results/by_state/state=WY/csv/WY_baseline_metadata_and_annual_results.csv\n"
     ]
    }
   ],
   "source": [
    "resstock_dfs = {}\n",
    "for state in states:\n",
    "    try:\n",
    "        k = f\"nrel-pds-building-stock/end-use-load-profiles-for-us-building-stock/2022/resstock_tmy3_release_1.1/metadata_and_annual_results/by_state/state={state}/csv/{state}_baseline_metadata_and_annual_results.csv\"\n",
    "        print(k)\n",
    "        r = s3.get_object(Bucket=b, Key=k)\n",
    "        df = pd.read_csv(r[\"Body\"])\n",
    "        resstock_dfs[state] = df   \n",
    "    except:\n",
    "        pass\n",
    "    "
   ]
  },
  {
   "cell_type": "code",
   "execution_count": 14,
   "metadata": {},
   "outputs": [
    {
     "data": {
      "text/html": [
       "<div>\n",
       "<style scoped>\n",
       "    .dataframe tbody tr th:only-of-type {\n",
       "        vertical-align: middle;\n",
       "    }\n",
       "\n",
       "    .dataframe tbody tr th {\n",
       "        vertical-align: top;\n",
       "    }\n",
       "\n",
       "    .dataframe thead th {\n",
       "        text-align: right;\n",
       "    }\n",
       "</style>\n",
       "<table border=\"1\" class=\"dataframe\">\n",
       "  <thead>\n",
       "    <tr style=\"text-align: right;\">\n",
       "      <th></th>\n",
       "      <th>bldg_id</th>\n",
       "      <th>upgrade</th>\n",
       "      <th>weight</th>\n",
       "      <th>applicability</th>\n",
       "      <th>in.sqft</th>\n",
       "      <th>in.ahs_region</th>\n",
       "      <th>in.ashrae_iecc_climate_zone_2004</th>\n",
       "      <th>in.ashrae_iecc_climate_zone_2004_2_a_split</th>\n",
       "      <th>in.bathroom_spot_vent_hour</th>\n",
       "      <th>in.bedrooms</th>\n",
       "      <th>...</th>\n",
       "      <th>out.emissions.natural_gas.lrmer_low_re_cost_25_2025_start.co2e_kg</th>\n",
       "      <th>out.emissions.propane.lrmer_low_re_cost_25_2025_start.co2e_kg</th>\n",
       "      <th>out.emissions.electricity.lrmer_mid_case_15_2025_start.co2e_kg</th>\n",
       "      <th>out.emissions.fuel_oil.lrmer_mid_case_15_2025_start.co2e_kg</th>\n",
       "      <th>out.emissions.natural_gas.lrmer_mid_case_15_2025_start.co2e_kg</th>\n",
       "      <th>out.emissions.propane.lrmer_mid_case_15_2025_start.co2e_kg</th>\n",
       "      <th>out.emissions.all_fuels.lrmer_95_decarb_by_2035_15_2025_start.co2e_kg</th>\n",
       "      <th>out.emissions.all_fuels.lrmer_low_re_cost_15_2025_start.co2e_kg</th>\n",
       "      <th>out.emissions.all_fuels.lrmer_low_re_cost_25_2025_start.co2e_kg</th>\n",
       "      <th>out.emissions.all_fuels.lrmer_mid_case_15_2025_start.co2e_kg</th>\n",
       "    </tr>\n",
       "  </thead>\n",
       "  <tbody>\n",
       "    <tr>\n",
       "      <th>0</th>\n",
       "      <td>186</td>\n",
       "      <td>0</td>\n",
       "      <td>242.131013</td>\n",
       "      <td>True</td>\n",
       "      <td>2663.0</td>\n",
       "      <td>Non-CBSA East South Central</td>\n",
       "      <td>3A</td>\n",
       "      <td>3A</td>\n",
       "      <td>Hour19</td>\n",
       "      <td>4</td>\n",
       "      <td>...</td>\n",
       "      <td>1827.689674</td>\n",
       "      <td>0.0</td>\n",
       "      <td>3616.687918</td>\n",
       "      <td>0.0</td>\n",
       "      <td>1827.689674</td>\n",
       "      <td>0.0</td>\n",
       "      <td>3235.326958</td>\n",
       "      <td>4245.727549</td>\n",
       "      <td>4160.616384</td>\n",
       "      <td>5444.377591</td>\n",
       "    </tr>\n",
       "    <tr>\n",
       "      <th>1</th>\n",
       "      <td>212</td>\n",
       "      <td>0</td>\n",
       "      <td>242.131013</td>\n",
       "      <td>True</td>\n",
       "      <td>12291.0</td>\n",
       "      <td>Non-CBSA East South Central</td>\n",
       "      <td>3A</td>\n",
       "      <td>3A</td>\n",
       "      <td>Hour16</td>\n",
       "      <td>2</td>\n",
       "      <td>...</td>\n",
       "      <td>0.000000</td>\n",
       "      <td>0.0</td>\n",
       "      <td>18768.425757</td>\n",
       "      <td>0.0</td>\n",
       "      <td>0.000000</td>\n",
       "      <td>0.0</td>\n",
       "      <td>7158.296320</td>\n",
       "      <td>13548.828132</td>\n",
       "      <td>12026.725453</td>\n",
       "      <td>18768.425757</td>\n",
       "    </tr>\n",
       "    <tr>\n",
       "      <th>2</th>\n",
       "      <td>239</td>\n",
       "      <td>0</td>\n",
       "      <td>242.131013</td>\n",
       "      <td>True</td>\n",
       "      <td>1690.0</td>\n",
       "      <td>Non-CBSA East South Central</td>\n",
       "      <td>3A</td>\n",
       "      <td>3A</td>\n",
       "      <td>Hour20</td>\n",
       "      <td>3</td>\n",
       "      <td>...</td>\n",
       "      <td>215.943534</td>\n",
       "      <td>0.0</td>\n",
       "      <td>10085.610018</td>\n",
       "      <td>0.0</td>\n",
       "      <td>215.943534</td>\n",
       "      <td>0.0</td>\n",
       "      <td>4091.218112</td>\n",
       "      <td>7537.077700</td>\n",
       "      <td>6659.591013</td>\n",
       "      <td>10301.553552</td>\n",
       "    </tr>\n",
       "    <tr>\n",
       "      <th>3</th>\n",
       "      <td>273</td>\n",
       "      <td>0</td>\n",
       "      <td>242.131013</td>\n",
       "      <td>True</td>\n",
       "      <td>1690.0</td>\n",
       "      <td>Non-CBSA East South Central</td>\n",
       "      <td>3A</td>\n",
       "      <td>3A</td>\n",
       "      <td>Hour12</td>\n",
       "      <td>3</td>\n",
       "      <td>...</td>\n",
       "      <td>0.000000</td>\n",
       "      <td>0.0</td>\n",
       "      <td>11023.725221</td>\n",
       "      <td>0.0</td>\n",
       "      <td>0.000000</td>\n",
       "      <td>0.0</td>\n",
       "      <td>4244.189417</td>\n",
       "      <td>8064.153395</td>\n",
       "      <td>7098.011172</td>\n",
       "      <td>11023.725221</td>\n",
       "    </tr>\n",
       "    <tr>\n",
       "      <th>4</th>\n",
       "      <td>307</td>\n",
       "      <td>0</td>\n",
       "      <td>242.131013</td>\n",
       "      <td>True</td>\n",
       "      <td>1220.0</td>\n",
       "      <td>Non-CBSA East South Central</td>\n",
       "      <td>3A</td>\n",
       "      <td>3A</td>\n",
       "      <td>Hour0</td>\n",
       "      <td>4</td>\n",
       "      <td>...</td>\n",
       "      <td>0.000000</td>\n",
       "      <td>0.0</td>\n",
       "      <td>8432.611466</td>\n",
       "      <td>0.0</td>\n",
       "      <td>0.000000</td>\n",
       "      <td>0.0</td>\n",
       "      <td>3235.492065</td>\n",
       "      <td>6061.079056</td>\n",
       "      <td>5408.023070</td>\n",
       "      <td>8432.611466</td>\n",
       "    </tr>\n",
       "  </tbody>\n",
       "</table>\n",
       "<p>5 rows × 260 columns</p>\n",
       "</div>"
      ],
      "text/plain": [
       "   bldg_id  upgrade      weight  applicability  in.sqft  \\\n",
       "0      186        0  242.131013           True   2663.0   \n",
       "1      212        0  242.131013           True  12291.0   \n",
       "2      239        0  242.131013           True   1690.0   \n",
       "3      273        0  242.131013           True   1690.0   \n",
       "4      307        0  242.131013           True   1220.0   \n",
       "\n",
       "                 in.ahs_region in.ashrae_iecc_climate_zone_2004  \\\n",
       "0  Non-CBSA East South Central                               3A   \n",
       "1  Non-CBSA East South Central                               3A   \n",
       "2  Non-CBSA East South Central                               3A   \n",
       "3  Non-CBSA East South Central                               3A   \n",
       "4  Non-CBSA East South Central                               3A   \n",
       "\n",
       "  in.ashrae_iecc_climate_zone_2004_2_a_split in.bathroom_spot_vent_hour  \\\n",
       "0                                         3A                     Hour19   \n",
       "1                                         3A                     Hour16   \n",
       "2                                         3A                     Hour20   \n",
       "3                                         3A                     Hour12   \n",
       "4                                         3A                      Hour0   \n",
       "\n",
       "   in.bedrooms  ...  \\\n",
       "0            4  ...   \n",
       "1            2  ...   \n",
       "2            3  ...   \n",
       "3            3  ...   \n",
       "4            4  ...   \n",
       "\n",
       "  out.emissions.natural_gas.lrmer_low_re_cost_25_2025_start.co2e_kg  \\\n",
       "0                                        1827.689674                  \n",
       "1                                           0.000000                  \n",
       "2                                         215.943534                  \n",
       "3                                           0.000000                  \n",
       "4                                           0.000000                  \n",
       "\n",
       "  out.emissions.propane.lrmer_low_re_cost_25_2025_start.co2e_kg  \\\n",
       "0                                                0.0              \n",
       "1                                                0.0              \n",
       "2                                                0.0              \n",
       "3                                                0.0              \n",
       "4                                                0.0              \n",
       "\n",
       "  out.emissions.electricity.lrmer_mid_case_15_2025_start.co2e_kg  \\\n",
       "0                                        3616.687918               \n",
       "1                                       18768.425757               \n",
       "2                                       10085.610018               \n",
       "3                                       11023.725221               \n",
       "4                                        8432.611466               \n",
       "\n",
       "  out.emissions.fuel_oil.lrmer_mid_case_15_2025_start.co2e_kg  \\\n",
       "0                                                0.0            \n",
       "1                                                0.0            \n",
       "2                                                0.0            \n",
       "3                                                0.0            \n",
       "4                                                0.0            \n",
       "\n",
       "  out.emissions.natural_gas.lrmer_mid_case_15_2025_start.co2e_kg  \\\n",
       "0                                        1827.689674               \n",
       "1                                           0.000000               \n",
       "2                                         215.943534               \n",
       "3                                           0.000000               \n",
       "4                                           0.000000               \n",
       "\n",
       "  out.emissions.propane.lrmer_mid_case_15_2025_start.co2e_kg  \\\n",
       "0                                                0.0           \n",
       "1                                                0.0           \n",
       "2                                                0.0           \n",
       "3                                                0.0           \n",
       "4                                                0.0           \n",
       "\n",
       "  out.emissions.all_fuels.lrmer_95_decarb_by_2035_15_2025_start.co2e_kg  \\\n",
       "0                                        3235.326958                      \n",
       "1                                        7158.296320                      \n",
       "2                                        4091.218112                      \n",
       "3                                        4244.189417                      \n",
       "4                                        3235.492065                      \n",
       "\n",
       "  out.emissions.all_fuels.lrmer_low_re_cost_15_2025_start.co2e_kg  \\\n",
       "0                                        4245.727549                \n",
       "1                                       13548.828132                \n",
       "2                                        7537.077700                \n",
       "3                                        8064.153395                \n",
       "4                                        6061.079056                \n",
       "\n",
       "  out.emissions.all_fuels.lrmer_low_re_cost_25_2025_start.co2e_kg  \\\n",
       "0                                        4160.616384                \n",
       "1                                       12026.725453                \n",
       "2                                        6659.591013                \n",
       "3                                        7098.011172                \n",
       "4                                        5408.023070                \n",
       "\n",
       "  out.emissions.all_fuels.lrmer_mid_case_15_2025_start.co2e_kg  \n",
       "0                                        5444.377591            \n",
       "1                                       18768.425757            \n",
       "2                                       10301.553552            \n",
       "3                                       11023.725221            \n",
       "4                                        8432.611466            \n",
       "\n",
       "[5 rows x 260 columns]"
      ]
     },
     "execution_count": 14,
     "metadata": {},
     "output_type": "execute_result"
    }
   ],
   "source": [
    "resstock_dfs[\"AL\"].head()"
   ]
  },
  {
   "cell_type": "code",
   "execution_count": 12,
   "metadata": {},
   "outputs": [
    {
     "name": "stderr",
     "output_type": "stream",
     "text": [
      "C:\\Users\\zoelh\\AppData\\Local\\Temp\\ipykernel_168044\\2393982177.py:4: PerformanceWarning: \n",
      "your performance may suffer as PyTables will pickle object types that it cannot\n",
      "map directly to c-types [inferred_type->mixed-integer,key->block3_values] [items->Index(['in.ahs_region', 'in.ashrae_iecc_climate_zone_2004',\n",
      "       'in.ashrae_iecc_climate_zone_2004_2_a_split',\n",
      "       'in.bathroom_spot_vent_hour', 'in.building_america_climate_zone',\n",
      "       'in.cec_climate_zone', 'in.ceiling_fan', 'in.census_division',\n",
      "       'in.census_division_recs', 'in.census_region',\n",
      "       ...\n",
      "       'in.usage_level', 'in.vacancy_status', 'in.vintage', 'in.vintage_acs',\n",
      "       'in.water_heater_efficiency', 'in.water_heater_fuel',\n",
      "       'in.water_heater_in_unit', 'in.weather_file_city', 'in.window_areas',\n",
      "       'in.windows'],\n",
      "      dtype='object', length=141)]\n",
      "\n",
      "  resstock_df.to_hdf(\"D:/DATA/resstock_baseline_metadata_and_annual_results.h5\", \"all\")\n"
     ]
    }
   ],
   "source": [
    "resstock_df = pd.DataFrame(resstock_dfs[\"AL\"])\n",
    "for i, (key, df) in enumerate(resstock_dfs.items(), start=1):\n",
    "    resstock_df = pd.concat([resstock_df, df])\n",
    "resstock_df.to_hdf(\"D:/DATA/resstock_baseline_metadata_and_annual_results.h5\", \"all\")"
   ]
  },
  {
   "cell_type": "code",
   "execution_count": 13,
   "metadata": {},
   "outputs": [
    {
     "data": {
      "text/plain": [
       "(558022, 260)"
      ]
     },
     "execution_count": 13,
     "metadata": {},
     "output_type": "execute_result"
    }
   ],
   "source": [
    "resstock_df.shape"
   ]
  },
  {
   "cell_type": "code",
   "execution_count": 16,
   "metadata": {},
   "outputs": [
    {
     "data": {
      "text/plain": [
       "array(['3A', '2A', '4A', '2B', '4B', '3B', '5B', '3C', '4C', '6B', '7B',\n",
       "       '5A', '1A', '6A', '7A'], dtype=object)"
      ]
     },
     "execution_count": 16,
     "metadata": {},
     "output_type": "execute_result"
    }
   ],
   "source": [
    "# Organize for each climate zone\n",
    "cz_column_name = \"in.ashrae_iecc_climate_zone_2004\"\n",
    "climate_zones = resstock_df[cz_column_name].unique()\n",
    "climate_zones"
   ]
  },
  {
   "cell_type": "code",
   "execution_count": 19,
   "metadata": {},
   "outputs": [
    {
     "name": "stderr",
     "output_type": "stream",
     "text": [
      "c:\\Users\\zoelh\\AppData\\Local\\anaconda3\\envs\\ml-for-bem\\lib\\site-packages\\tables\\path.py:137: NaturalNameWarning: object name is not a valid Python identifier: '3A'; it does not match the pattern ``^[a-zA-Z_][a-zA-Z0-9_]*$``; you will not be able to use natural naming to access this object; using ``getattr()`` will still work, though\n",
      "  check_attribute_name(name)\n",
      "C:\\Users\\zoelh\\AppData\\Local\\Temp\\ipykernel_168044\\3548047867.py:2: PerformanceWarning: \n",
      "your performance may suffer as PyTables will pickle object types that it cannot\n",
      "map directly to c-types [inferred_type->mixed-integer,key->block3_values] [items->Index(['in.ahs_region', 'in.ashrae_iecc_climate_zone_2004',\n",
      "       'in.ashrae_iecc_climate_zone_2004_2_a_split',\n",
      "       'in.bathroom_spot_vent_hour', 'in.building_america_climate_zone',\n",
      "       'in.cec_climate_zone', 'in.ceiling_fan', 'in.census_division',\n",
      "       'in.census_division_recs', 'in.census_region',\n",
      "       ...\n",
      "       'in.usage_level', 'in.vacancy_status', 'in.vintage', 'in.vintage_acs',\n",
      "       'in.water_heater_efficiency', 'in.water_heater_fuel',\n",
      "       'in.water_heater_in_unit', 'in.weather_file_city', 'in.window_areas',\n",
      "       'in.windows'],\n",
      "      dtype='object', length=141)]\n",
      "\n",
      "  resstock_df[resstock_df[cz_column_name]==cz].to_hdf(\"D:/DATA/resstock_baseline_metadata_and_annual_results_bycz.h5\", cz)\n",
      "c:\\Users\\zoelh\\AppData\\Local\\anaconda3\\envs\\ml-for-bem\\lib\\site-packages\\tables\\path.py:137: NaturalNameWarning: object name is not a valid Python identifier: '2A'; it does not match the pattern ``^[a-zA-Z_][a-zA-Z0-9_]*$``; you will not be able to use natural naming to access this object; using ``getattr()`` will still work, though\n",
      "  check_attribute_name(name)\n",
      "c:\\Users\\zoelh\\AppData\\Local\\anaconda3\\envs\\ml-for-bem\\lib\\site-packages\\tables\\path.py:137: NaturalNameWarning: object name is not a valid Python identifier: '4A'; it does not match the pattern ``^[a-zA-Z_][a-zA-Z0-9_]*$``; you will not be able to use natural naming to access this object; using ``getattr()`` will still work, though\n",
      "  check_attribute_name(name)\n",
      "c:\\Users\\zoelh\\AppData\\Local\\anaconda3\\envs\\ml-for-bem\\lib\\site-packages\\tables\\path.py:137: NaturalNameWarning: object name is not a valid Python identifier: '2B'; it does not match the pattern ``^[a-zA-Z_][a-zA-Z0-9_]*$``; you will not be able to use natural naming to access this object; using ``getattr()`` will still work, though\n",
      "  check_attribute_name(name)\n",
      "c:\\Users\\zoelh\\AppData\\Local\\anaconda3\\envs\\ml-for-bem\\lib\\site-packages\\tables\\path.py:137: NaturalNameWarning: object name is not a valid Python identifier: '4B'; it does not match the pattern ``^[a-zA-Z_][a-zA-Z0-9_]*$``; you will not be able to use natural naming to access this object; using ``getattr()`` will still work, though\n",
      "  check_attribute_name(name)\n",
      "c:\\Users\\zoelh\\AppData\\Local\\anaconda3\\envs\\ml-for-bem\\lib\\site-packages\\tables\\path.py:137: NaturalNameWarning: object name is not a valid Python identifier: '3B'; it does not match the pattern ``^[a-zA-Z_][a-zA-Z0-9_]*$``; you will not be able to use natural naming to access this object; using ``getattr()`` will still work, though\n",
      "  check_attribute_name(name)\n",
      "c:\\Users\\zoelh\\AppData\\Local\\anaconda3\\envs\\ml-for-bem\\lib\\site-packages\\tables\\path.py:137: NaturalNameWarning: object name is not a valid Python identifier: '5B'; it does not match the pattern ``^[a-zA-Z_][a-zA-Z0-9_]*$``; you will not be able to use natural naming to access this object; using ``getattr()`` will still work, though\n",
      "  check_attribute_name(name)\n",
      "c:\\Users\\zoelh\\AppData\\Local\\anaconda3\\envs\\ml-for-bem\\lib\\site-packages\\tables\\path.py:137: NaturalNameWarning: object name is not a valid Python identifier: '3C'; it does not match the pattern ``^[a-zA-Z_][a-zA-Z0-9_]*$``; you will not be able to use natural naming to access this object; using ``getattr()`` will still work, though\n",
      "  check_attribute_name(name)\n",
      "c:\\Users\\zoelh\\AppData\\Local\\anaconda3\\envs\\ml-for-bem\\lib\\site-packages\\tables\\path.py:137: NaturalNameWarning: object name is not a valid Python identifier: '4C'; it does not match the pattern ``^[a-zA-Z_][a-zA-Z0-9_]*$``; you will not be able to use natural naming to access this object; using ``getattr()`` will still work, though\n",
      "  check_attribute_name(name)\n",
      "c:\\Users\\zoelh\\AppData\\Local\\anaconda3\\envs\\ml-for-bem\\lib\\site-packages\\tables\\path.py:137: NaturalNameWarning: object name is not a valid Python identifier: '6B'; it does not match the pattern ``^[a-zA-Z_][a-zA-Z0-9_]*$``; you will not be able to use natural naming to access this object; using ``getattr()`` will still work, though\n",
      "  check_attribute_name(name)\n",
      "c:\\Users\\zoelh\\AppData\\Local\\anaconda3\\envs\\ml-for-bem\\lib\\site-packages\\tables\\path.py:137: NaturalNameWarning: object name is not a valid Python identifier: '7B'; it does not match the pattern ``^[a-zA-Z_][a-zA-Z0-9_]*$``; you will not be able to use natural naming to access this object; using ``getattr()`` will still work, though\n",
      "  check_attribute_name(name)\n",
      "c:\\Users\\zoelh\\AppData\\Local\\anaconda3\\envs\\ml-for-bem\\lib\\site-packages\\tables\\path.py:137: NaturalNameWarning: object name is not a valid Python identifier: '5A'; it does not match the pattern ``^[a-zA-Z_][a-zA-Z0-9_]*$``; you will not be able to use natural naming to access this object; using ``getattr()`` will still work, though\n",
      "  check_attribute_name(name)\n",
      "c:\\Users\\zoelh\\AppData\\Local\\anaconda3\\envs\\ml-for-bem\\lib\\site-packages\\tables\\path.py:137: NaturalNameWarning: object name is not a valid Python identifier: '1A'; it does not match the pattern ``^[a-zA-Z_][a-zA-Z0-9_]*$``; you will not be able to use natural naming to access this object; using ``getattr()`` will still work, though\n",
      "  check_attribute_name(name)\n",
      "c:\\Users\\zoelh\\AppData\\Local\\anaconda3\\envs\\ml-for-bem\\lib\\site-packages\\tables\\path.py:137: NaturalNameWarning: object name is not a valid Python identifier: '6A'; it does not match the pattern ``^[a-zA-Z_][a-zA-Z0-9_]*$``; you will not be able to use natural naming to access this object; using ``getattr()`` will still work, though\n",
      "  check_attribute_name(name)\n",
      "c:\\Users\\zoelh\\AppData\\Local\\anaconda3\\envs\\ml-for-bem\\lib\\site-packages\\tables\\path.py:137: NaturalNameWarning: object name is not a valid Python identifier: '7A'; it does not match the pattern ``^[a-zA-Z_][a-zA-Z0-9_]*$``; you will not be able to use natural naming to access this object; using ``getattr()`` will still work, though\n",
      "  check_attribute_name(name)\n"
     ]
    }
   ],
   "source": [
    "for cz in climate_zones:\n",
    "    resstock_df[resstock_df[cz_column_name]==cz].to_hdf(\"D:/DATA/resstock_baseline_metadata_and_annual_results_bycz.h5\", cz)"
   ]
  },
  {
   "cell_type": "code",
   "execution_count": 22,
   "metadata": {},
   "outputs": [],
   "source": [
    "with open(\"D:/DATA/columns.txt\", \"w\") as f:\n",
    "    for l in resstock_df[resstock_df[cz_column_name]==\"3A\"].columns:\n",
    "        f.write(f\"{l}\\n\")"
   ]
  },
  {
   "cell_type": "code",
   "execution_count": 26,
   "metadata": {},
   "outputs": [
    {
     "name": "stdout",
     "output_type": "stream",
     "text": [
      "CLIMATE ZONE 3A: 81420\n",
      "CLIMATE ZONE 2A: 65248\n",
      "CLIMATE ZONE 4A: 118824\n",
      "CLIMATE ZONE 2B: 10901\n",
      "CLIMATE ZONE 4B: 4275\n",
      "CLIMATE ZONE 3B: 51359\n",
      "CLIMATE ZONE 5B: 20937\n",
      "CLIMATE ZONE 3C: 12956\n",
      "CLIMATE ZONE 4C: 15902\n",
      "CLIMATE ZONE 6B: 5103\n",
      "CLIMATE ZONE 7B: 626\n",
      "CLIMATE ZONE 5A: 124547\n",
      "CLIMATE ZONE 1A: 7692\n",
      "CLIMATE ZONE 6A: 33868\n",
      "CLIMATE ZONE 7A: 4364\n",
      "TOTAL BUILDINGS = 558022\n"
     ]
    }
   ],
   "source": [
    "total = 0\n",
    "for cz in climate_zones:\n",
    "    s = resstock_df[resstock_df[cz_column_name]==cz].shape[0]\n",
    "    total += s\n",
    "    print(f\"CLIMATE ZONE {cz}: {s}\")\n",
    "print(f\"TOTAL BUILDINGS = {total}\")"
   ]
  },
  {
   "cell_type": "code",
   "execution_count": 27,
   "metadata": {},
   "outputs": [],
   "source": [
    "def fetch_hourly_data(building_id, state):\n",
    "    try:\n",
    "        k = f\"nrel-pds-building-stock/end-use-load-profiles-for-us-building-stock/2022/resstock_tmy3_release_1.1/timeseries_individual_buildings/by_state/upgrade=0/state={state}/{building_id}-0.parquet\"\n",
    "        print(k)\n",
    "        r = s3.get_object(Bucket=b, Key=k)\n",
    "        df = pd.read_parquet(r[\"Body\"])\n",
    "        return df\n",
    "    except Exception as e:\n",
    "        print(r)\n",
    "        raise e"
   ]
  },
  {
   "cell_type": "code",
   "execution_count": 28,
   "metadata": {},
   "outputs": [
    {
     "name": "stdout",
     "output_type": "stream",
     "text": [
      "nrel-pds-building-stock/end-use-load-profiles-for-us-building-stock/2022/resstock_tmy3_release_1.1/timeseries_individual_buildings/by_state/upgrade=0/state=AL/100066-0.parquet\n",
      "{'ResponseMetadata': {'RequestId': 'S0872420N75J8Y2S', 'HostId': 'hPFHbywMIqKg2vGTnSgO0d+WoXreHxP8ZAD7mQNxrctEcIIOpDyBJhmSW0HCmWsWG96KvOQaJ6M=', 'HTTPStatusCode': 200, 'HTTPHeaders': {'x-amz-id-2': 'hPFHbywMIqKg2vGTnSgO0d+WoXreHxP8ZAD7mQNxrctEcIIOpDyBJhmSW0HCmWsWG96KvOQaJ6M=', 'x-amz-request-id': 'S0872420N75J8Y2S', 'date': 'Wed, 15 Nov 2023 15:25:52 GMT', 'last-modified': 'Sat, 22 Apr 2023 16:12:29 GMT', 'etag': '\"84a8bee734caa0296620c9626a3de2e5\"', 'x-amz-storage-class': 'INTELLIGENT_TIERING', 'x-amz-server-side-encryption': 'AES256', 'x-amz-version-id': 'deI6cYWe5gNQR2qNE9A4yRsKARZ0ZPZ0', 'accept-ranges': 'bytes', 'content-type': 'binary/octet-stream', 'server': 'AmazonS3', 'content-length': '3175985'}, 'RetryAttempts': 0}, 'AcceptRanges': 'bytes', 'LastModified': datetime.datetime(2023, 4, 22, 16, 12, 29, tzinfo=tzutc()), 'ContentLength': 3175985, 'ETag': '\"84a8bee734caa0296620c9626a3de2e5\"', 'VersionId': 'deI6cYWe5gNQR2qNE9A4yRsKARZ0ZPZ0', 'ContentType': 'binary/octet-stream', 'ServerSideEncryption': 'AES256', 'Metadata': {}, 'StorageClass': 'INTELLIGENT_TIERING', 'Body': <botocore.response.StreamingBody object at 0x00000289C29F8E20>}\n"
     ]
    },
    {
     "ename": "UnsupportedOperation",
     "evalue": "seek",
     "output_type": "error",
     "traceback": [
      "\u001b[1;31m---------------------------------------------------------------------------\u001b[0m",
      "\u001b[1;31mUnsupportedOperation\u001b[0m                      Traceback (most recent call last)",
      "Cell \u001b[1;32mIn[28], line 1\u001b[0m\n\u001b[1;32m----> 1\u001b[0m fetch_hourly_data(\u001b[39m100066\u001b[39;49m, \u001b[39m\"\u001b[39;49m\u001b[39mAL\u001b[39;49m\u001b[39m\"\u001b[39;49m)\n",
      "Cell \u001b[1;32mIn[27], line 10\u001b[0m, in \u001b[0;36mfetch_hourly_data\u001b[1;34m(building_id, state)\u001b[0m\n\u001b[0;32m      8\u001b[0m \u001b[39mexcept\u001b[39;00m \u001b[39mException\u001b[39;00m \u001b[39mas\u001b[39;00m e:\n\u001b[0;32m      9\u001b[0m     \u001b[39mprint\u001b[39m(r)\n\u001b[1;32m---> 10\u001b[0m     \u001b[39mraise\u001b[39;00m e\n",
      "Cell \u001b[1;32mIn[27], line 6\u001b[0m, in \u001b[0;36mfetch_hourly_data\u001b[1;34m(building_id, state)\u001b[0m\n\u001b[0;32m      4\u001b[0m     \u001b[39mprint\u001b[39m(k)\n\u001b[0;32m      5\u001b[0m     r \u001b[39m=\u001b[39m s3\u001b[39m.\u001b[39mget_object(Bucket\u001b[39m=\u001b[39mb, Key\u001b[39m=\u001b[39mk)\n\u001b[1;32m----> 6\u001b[0m     df \u001b[39m=\u001b[39m pd\u001b[39m.\u001b[39;49mread_parquet(r[\u001b[39m\"\u001b[39;49m\u001b[39mBody\u001b[39;49m\u001b[39m\"\u001b[39;49m])\n\u001b[0;32m      7\u001b[0m     \u001b[39mreturn\u001b[39;00m df\n\u001b[0;32m      8\u001b[0m \u001b[39mexcept\u001b[39;00m \u001b[39mException\u001b[39;00m \u001b[39mas\u001b[39;00m e:\n",
      "File \u001b[1;32mc:\\Users\\zoelh\\AppData\\Local\\anaconda3\\envs\\ml-for-bem\\lib\\site-packages\\pandas\\io\\parquet.py:503\u001b[0m, in \u001b[0;36mread_parquet\u001b[1;34m(path, engine, columns, storage_options, use_nullable_dtypes, **kwargs)\u001b[0m\n\u001b[0;32m    456\u001b[0m \u001b[39m\u001b[39m\u001b[39m\"\"\"\u001b[39;00m\n\u001b[0;32m    457\u001b[0m \u001b[39mLoad a parquet object from the file path, returning a DataFrame.\u001b[39;00m\n\u001b[0;32m    458\u001b[0m \n\u001b[1;32m   (...)\u001b[0m\n\u001b[0;32m    499\u001b[0m \u001b[39mDataFrame\u001b[39;00m\n\u001b[0;32m    500\u001b[0m \u001b[39m\"\"\"\u001b[39;00m\n\u001b[0;32m    501\u001b[0m impl \u001b[39m=\u001b[39m get_engine(engine)\n\u001b[1;32m--> 503\u001b[0m \u001b[39mreturn\u001b[39;00m impl\u001b[39m.\u001b[39;49mread(\n\u001b[0;32m    504\u001b[0m     path,\n\u001b[0;32m    505\u001b[0m     columns\u001b[39m=\u001b[39;49mcolumns,\n\u001b[0;32m    506\u001b[0m     storage_options\u001b[39m=\u001b[39;49mstorage_options,\n\u001b[0;32m    507\u001b[0m     use_nullable_dtypes\u001b[39m=\u001b[39;49muse_nullable_dtypes,\n\u001b[0;32m    508\u001b[0m     \u001b[39m*\u001b[39;49m\u001b[39m*\u001b[39;49mkwargs,\n\u001b[0;32m    509\u001b[0m )\n",
      "File \u001b[1;32mc:\\Users\\zoelh\\AppData\\Local\\anaconda3\\envs\\ml-for-bem\\lib\\site-packages\\pandas\\io\\parquet.py:251\u001b[0m, in \u001b[0;36mPyArrowImpl.read\u001b[1;34m(self, path, columns, use_nullable_dtypes, storage_options, **kwargs)\u001b[0m\n\u001b[0;32m    244\u001b[0m path_or_handle, handles, kwargs[\u001b[39m\"\u001b[39m\u001b[39mfilesystem\u001b[39m\u001b[39m\"\u001b[39m] \u001b[39m=\u001b[39m _get_path_or_handle(\n\u001b[0;32m    245\u001b[0m     path,\n\u001b[0;32m    246\u001b[0m     kwargs\u001b[39m.\u001b[39mpop(\u001b[39m\"\u001b[39m\u001b[39mfilesystem\u001b[39m\u001b[39m\"\u001b[39m, \u001b[39mNone\u001b[39;00m),\n\u001b[0;32m    247\u001b[0m     storage_options\u001b[39m=\u001b[39mstorage_options,\n\u001b[0;32m    248\u001b[0m     mode\u001b[39m=\u001b[39m\u001b[39m\"\u001b[39m\u001b[39mrb\u001b[39m\u001b[39m\"\u001b[39m,\n\u001b[0;32m    249\u001b[0m )\n\u001b[0;32m    250\u001b[0m \u001b[39mtry\u001b[39;00m:\n\u001b[1;32m--> 251\u001b[0m     result \u001b[39m=\u001b[39m \u001b[39mself\u001b[39;49m\u001b[39m.\u001b[39;49mapi\u001b[39m.\u001b[39;49mparquet\u001b[39m.\u001b[39;49mread_table(\n\u001b[0;32m    252\u001b[0m         path_or_handle, columns\u001b[39m=\u001b[39;49mcolumns, \u001b[39m*\u001b[39;49m\u001b[39m*\u001b[39;49mkwargs\n\u001b[0;32m    253\u001b[0m     )\u001b[39m.\u001b[39mto_pandas(\u001b[39m*\u001b[39m\u001b[39m*\u001b[39mto_pandas_kwargs)\n\u001b[0;32m    254\u001b[0m     \u001b[39mif\u001b[39;00m manager \u001b[39m==\u001b[39m \u001b[39m\"\u001b[39m\u001b[39marray\u001b[39m\u001b[39m\"\u001b[39m:\n\u001b[0;32m    255\u001b[0m         result \u001b[39m=\u001b[39m result\u001b[39m.\u001b[39m_as_manager(\u001b[39m\"\u001b[39m\u001b[39marray\u001b[39m\u001b[39m\"\u001b[39m, copy\u001b[39m=\u001b[39m\u001b[39mFalse\u001b[39;00m)\n",
      "File \u001b[1;32mc:\\Users\\zoelh\\AppData\\Local\\anaconda3\\envs\\ml-for-bem\\lib\\site-packages\\pyarrow\\parquet\\core.py:2956\u001b[0m, in \u001b[0;36mread_table\u001b[1;34m(source, columns, use_threads, metadata, schema, use_pandas_metadata, read_dictionary, memory_map, buffer_size, partitioning, filesystem, filters, use_legacy_dataset, ignore_prefixes, pre_buffer, coerce_int96_timestamp_unit, decryption_properties, thrift_string_size_limit, thrift_container_size_limit)\u001b[0m\n\u001b[0;32m   2949\u001b[0m     \u001b[39mraise\u001b[39;00m \u001b[39mValueError\u001b[39;00m(\n\u001b[0;32m   2950\u001b[0m         \u001b[39m\"\u001b[39m\u001b[39mThe \u001b[39m\u001b[39m'\u001b[39m\u001b[39mmetadata\u001b[39m\u001b[39m'\u001b[39m\u001b[39m keyword is no longer supported with the new \u001b[39m\u001b[39m\"\u001b[39m\n\u001b[0;32m   2951\u001b[0m         \u001b[39m\"\u001b[39m\u001b[39mdatasets-based implementation. Specify \u001b[39m\u001b[39m\"\u001b[39m\n\u001b[0;32m   2952\u001b[0m         \u001b[39m\"\u001b[39m\u001b[39m'\u001b[39m\u001b[39muse_legacy_dataset=True\u001b[39m\u001b[39m'\u001b[39m\u001b[39m to temporarily recover the old \u001b[39m\u001b[39m\"\u001b[39m\n\u001b[0;32m   2953\u001b[0m         \u001b[39m\"\u001b[39m\u001b[39mbehaviour.\u001b[39m\u001b[39m\"\u001b[39m\n\u001b[0;32m   2954\u001b[0m     )\n\u001b[0;32m   2955\u001b[0m \u001b[39mtry\u001b[39;00m:\n\u001b[1;32m-> 2956\u001b[0m     dataset \u001b[39m=\u001b[39m _ParquetDatasetV2(\n\u001b[0;32m   2957\u001b[0m         source,\n\u001b[0;32m   2958\u001b[0m         schema\u001b[39m=\u001b[39;49mschema,\n\u001b[0;32m   2959\u001b[0m         filesystem\u001b[39m=\u001b[39;49mfilesystem,\n\u001b[0;32m   2960\u001b[0m         partitioning\u001b[39m=\u001b[39;49mpartitioning,\n\u001b[0;32m   2961\u001b[0m         memory_map\u001b[39m=\u001b[39;49mmemory_map,\n\u001b[0;32m   2962\u001b[0m         read_dictionary\u001b[39m=\u001b[39;49mread_dictionary,\n\u001b[0;32m   2963\u001b[0m         buffer_size\u001b[39m=\u001b[39;49mbuffer_size,\n\u001b[0;32m   2964\u001b[0m         filters\u001b[39m=\u001b[39;49mfilters,\n\u001b[0;32m   2965\u001b[0m         ignore_prefixes\u001b[39m=\u001b[39;49mignore_prefixes,\n\u001b[0;32m   2966\u001b[0m         pre_buffer\u001b[39m=\u001b[39;49mpre_buffer,\n\u001b[0;32m   2967\u001b[0m         coerce_int96_timestamp_unit\u001b[39m=\u001b[39;49mcoerce_int96_timestamp_unit,\n\u001b[0;32m   2968\u001b[0m         thrift_string_size_limit\u001b[39m=\u001b[39;49mthrift_string_size_limit,\n\u001b[0;32m   2969\u001b[0m         thrift_container_size_limit\u001b[39m=\u001b[39;49mthrift_container_size_limit,\n\u001b[0;32m   2970\u001b[0m     )\n\u001b[0;32m   2971\u001b[0m \u001b[39mexcept\u001b[39;00m \u001b[39mImportError\u001b[39;00m:\n\u001b[0;32m   2972\u001b[0m     \u001b[39m# fall back on ParquetFile for simple cases when pyarrow.dataset\u001b[39;00m\n\u001b[0;32m   2973\u001b[0m     \u001b[39m# module is not available\u001b[39;00m\n\u001b[0;32m   2974\u001b[0m     \u001b[39mif\u001b[39;00m filters \u001b[39mis\u001b[39;00m \u001b[39mnot\u001b[39;00m \u001b[39mNone\u001b[39;00m:\n",
      "File \u001b[1;32mc:\\Users\\zoelh\\AppData\\Local\\anaconda3\\envs\\ml-for-bem\\lib\\site-packages\\pyarrow\\parquet\\core.py:2496\u001b[0m, in \u001b[0;36m_ParquetDatasetV2.__init__\u001b[1;34m(self, path_or_paths, filesystem, filters, partitioning, read_dictionary, buffer_size, memory_map, ignore_prefixes, pre_buffer, coerce_int96_timestamp_unit, schema, decryption_properties, thrift_string_size_limit, thrift_container_size_limit, **kwargs)\u001b[0m\n\u001b[0;32m   2492\u001b[0m \u001b[39mif\u001b[39;00m single_file \u001b[39mis\u001b[39;00m \u001b[39mnot\u001b[39;00m \u001b[39mNone\u001b[39;00m:\n\u001b[0;32m   2493\u001b[0m     fragment \u001b[39m=\u001b[39m parquet_format\u001b[39m.\u001b[39mmake_fragment(single_file, filesystem)\n\u001b[0;32m   2495\u001b[0m     \u001b[39mself\u001b[39m\u001b[39m.\u001b[39m_dataset \u001b[39m=\u001b[39m ds\u001b[39m.\u001b[39mFileSystemDataset(\n\u001b[1;32m-> 2496\u001b[0m         [fragment], schema\u001b[39m=\u001b[39mschema \u001b[39mor\u001b[39;00m fragment\u001b[39m.\u001b[39;49mphysical_schema,\n\u001b[0;32m   2497\u001b[0m         \u001b[39mformat\u001b[39m\u001b[39m=\u001b[39mparquet_format,\n\u001b[0;32m   2498\u001b[0m         filesystem\u001b[39m=\u001b[39mfragment\u001b[39m.\u001b[39mfilesystem\n\u001b[0;32m   2499\u001b[0m     )\n\u001b[0;32m   2500\u001b[0m     \u001b[39mreturn\u001b[39;00m\n\u001b[0;32m   2502\u001b[0m \u001b[39m# check partitioning to enable dictionary encoding\u001b[39;00m\n",
      "File \u001b[1;32mc:\\Users\\zoelh\\AppData\\Local\\anaconda3\\envs\\ml-for-bem\\lib\\site-packages\\pyarrow\\_dataset.pyx:1358\u001b[0m, in \u001b[0;36mpyarrow._dataset.Fragment.physical_schema.__get__\u001b[1;34m()\u001b[0m\n",
      "File \u001b[1;32mc:\\Users\\zoelh\\AppData\\Local\\anaconda3\\envs\\ml-for-bem\\lib\\site-packages\\pyarrow\\error.pxi:154\u001b[0m, in \u001b[0;36mpyarrow.lib.pyarrow_internal_check_status\u001b[1;34m()\u001b[0m\n",
      "File \u001b[1;32mc:\\Users\\zoelh\\AppData\\Local\\anaconda3\\envs\\ml-for-bem\\lib\\site-packages\\pyarrow\\types.pxi:88\u001b[0m, in \u001b[0;36mpyarrow.lib._datatype_to_pep3118\u001b[1;34m()\u001b[0m\n",
      "\u001b[1;31mUnsupportedOperation\u001b[0m: seek"
     ]
    }
   ],
   "source": [
    "fetch_hourly_data(100066, \"AL\")"
   ]
  },
  {
   "attachments": {},
   "cell_type": "markdown",
   "metadata": {},
   "source": [
    "## Explore"
   ]
  },
  {
   "cell_type": "code",
   "execution_count": 40,
   "metadata": {},
   "outputs": [
    {
     "data": {
      "text/plain": [
       "<Axes: xlabel='in.sqft', ylabel='out.load.heating.energy_delivered.kbtu'>"
      ]
     },
     "execution_count": 40,
     "metadata": {},
     "output_type": "execute_result"
    },
    {
     "data": {
      "image/png": "[encoded data removed]",
      "text/plain": [
       "<Figure size 1000x500 with 2 Axes>"
      ]
     },
     "metadata": {},
     "output_type": "display_data"
    }
   ],
   "source": [
    "import matplotlib.pyplot as plt\n",
    "\n",
    "cz = \"3A\"\n",
    "fig, ax = plt.subplots(1, 2, figsize=(10, 5))\n",
    "\n",
    "resstock_df[resstock_df[cz_column_name] == cz].plot(\n",
    "    x=\"in.sqft\", y=\"out.load.cooling.energy_delivered.kbtu\", ax=ax[0], kind=\"scatter\", logx= True\n",
    ")\n",
    "resstock_df[resstock_df[cz_column_name] == cz].plot(\n",
    "    x=\"in.sqft\", y=\"out.load.heating.energy_delivered.kbtu\", ax=ax[1], kind=\"scatter\", logx= True\n",
    ")\n",
    "# resstock_df[resstock_df[cz_column_name]==cz][\"in.hvac_cooling_efficiency\"]\n",
    "# resstock_df[resstock_df[cz_column_name]==cz][\"out.load.heating.energy_delivered.kbtu\"].plot(ax=ax[1])"
   ]
  }
 ],
 "metadata": {
  "kernelspec": {
   "display_name": "base",
   "language": "python",
   "name": "python3"
  },
  "language_info": {
   "codemirror_mode": {
    "name": "ipython",
    "version": 3
   },
   "file_extension": ".py",
   "mimetype": "text/x-python",
   "name": "python",
   "nbconvert_exporter": "python",
   "pygments_lexer": "ipython3",
   "version": "3.8.16"
  },
  "orig_nbformat": 4
 },
 "nbformat": 4,
 "nbformat_minor": 2
}
