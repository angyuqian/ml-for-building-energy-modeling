{
 "cells": [
  {
   "cell_type": "code",
   "execution_count": 1,
   "metadata": {},
   "outputs": [],
   "source": [
    "import math\n",
    "from concurrent.futures import ThreadPoolExecutor\n",
    "from pathlib import Path\n",
    "\n",
    "import boto3\n",
    "import h5py\n",
    "import numpy as np\n",
    "import pandas as pd\n",
    "from botocore import UNSIGNED\n",
    "from botocore.client import Config\n",
    "from tqdm.notebook import tqdm"
   ]
  },
  {
   "cell_type": "code",
   "execution_count": 2,
   "metadata": {},
   "outputs": [
    {
     "name": "stdout",
     "output_type": "stream",
     "text": [
      "Resstock data will be written to data\\resstock\\features\\USA_2024_04_27_transformer_test_00\\upgrade_1\\resstock.hdf\n",
      "Transformed data will be written to data\\resstock\\features\\USA_2024_04_27_transformer_test_00\\upgrade_1\\resstock_transformed.hdf\n"
     ]
    }
   ],
   "source": [
    "skip_pull = False\n",
    "version = \"USA_2024_04_27_transformer_test_00\"\n",
    "root_folder = Path(\"data/resstock\")\n",
    "resstock_year = 2022\n",
    "resstock_release = \"tmy3_release_1.1\"\n",
    "amy_year = None\n",
    "upgrade_state = 1\n",
    "\n",
    "# set up depednencies\n",
    "output_folder = root_folder / \"features\" / version / f\"upgrade_{upgrade_state}\"\n",
    "output_folder.mkdir(parents=True, exist_ok=True)\n",
    "resstock_data_path = output_folder / f\"resstock.hdf\"\n",
    "resstock_output_path = output_folder / f\"resstock_transformed.hdf\"\n",
    "print(f\"Resstock data will be written to {resstock_data_path}\")\n",
    "print(f\"Transformed data will be written to {resstock_output_path}\")"
   ]
  },
  {
   "cell_type": "code",
   "execution_count": 3,
   "metadata": {},
   "outputs": [],
   "source": [
    "states = [\n",
    "    # \"AK\",\n",
    "    \"AL\",\n",
    "    \"AR\",\n",
    "    \"AZ\",\n",
    "    \"CA\",\n",
    "    \"CO\",\n",
    "    \"CT\",\n",
    "    \"DC\",\n",
    "    \"DE\",\n",
    "    \"FL\",\n",
    "    \"GA\",\n",
    "    # \"HI\",\n",
    "    \"IA\",\n",
    "    \"ID\",\n",
    "    \"IL\",\n",
    "    \"IN\",\n",
    "    \"KS\",\n",
    "    \"KY\",\n",
    "    \"LA\",\n",
    "    \"MA\",\n",
    "    \"MD\",\n",
    "    \"ME\",\n",
    "    \"MI\",\n",
    "    \"MN\",\n",
    "    \"MO\",\n",
    "    \"MS\",\n",
    "    \"MT\",\n",
    "    \"NC\",\n",
    "    \"ND\",\n",
    "    \"NE\",\n",
    "    \"NH\",\n",
    "    \"NJ\",\n",
    "    \"NM\",\n",
    "    \"NV\",\n",
    "    \"NY\",\n",
    "    \"OH\",\n",
    "    \"OK\",\n",
    "    \"OR\",\n",
    "    \"PA\",\n",
    "    \"RI\",\n",
    "    \"SC\",\n",
    "    \"SD\",\n",
    "    \"TN\",\n",
    "    \"TX\",\n",
    "    \"UT\",\n",
    "    \"VA\",\n",
    "    \"VT\",\n",
    "    \"WA\",\n",
    "    \"WI\",\n",
    "    \"WV\",\n",
    "    \"WY\",\n",
    "]\n",
    "assert (\n",
    "    \"AK\" not in states and \"HI\" not in states\n",
    "), \"Hawaii and Alaska are not supported as upgrades are not always defined.\""
   ]
  },
  {
   "cell_type": "code",
   "execution_count": 4,
   "metadata": {},
   "outputs": [
    {
     "data": {
      "application/json": {
       "ascii": false,
       "bar_format": null,
       "colour": null,
       "elapsed": 0.0050046443939208984,
       "initial": 0,
       "n": 0,
       "ncols": null,
       "nrows": null,
       "postfix": null,
       "prefix": "",
       "rate": null,
       "total": 49,
       "unit": "it",
       "unit_divisor": 1000,
       "unit_scale": false
      },
      "application/vnd.jupyter.widget-view+json": {
       "model_id": "2dd83ce86f1247f68e821a12c7705aa1",
       "version_major": 2,
       "version_minor": 0
      },
      "text/plain": [
       "  0%|          | 0/49 [00:00<?, ?it/s]"
      ]
     },
     "metadata": {},
     "output_type": "display_data"
    },
    {
     "name": "stdout",
     "output_type": "stream",
     "text": [
      "SUCCESS nrel-pds-building-stock/end-use-load-profiles-for-us-building-stock/2022/resstock_tmy3_release_1.1/metadata_and_annual_results/by_state/state=DC/csv/DC_upgrade01_metadata_and_annual_results.csv\n",
      "SUCCESS nrel-pds-building-stock/end-use-load-profiles-for-us-building-stock/2022/resstock_tmy3_release_1.1/metadata_and_annual_results/by_state/state=AR/csv/AR_upgrade01_metadata_and_annual_results.csv\n",
      "SUCCESS nrel-pds-building-stock/end-use-load-profiles-for-us-building-stock/2022/resstock_tmy3_release_1.1/metadata_and_annual_results/by_state/state=DE/csv/DE_upgrade01_metadata_and_annual_results.csv\n"
     ]
    },
    {
     "name": "stderr",
     "output_type": "stream",
     "text": [
      "C:\\Users\\szvsw\\AppData\\Local\\Temp\\ipykernel_36552\\1352942123.py:29: DtypeWarning: Columns (121) have mixed types. Specify dtype option on import or set low_memory=False.\n",
      "  df = pd.read_csv(r[\"Body\"])\n"
     ]
    },
    {
     "name": "stdout",
     "output_type": "stream",
     "text": [
      "SUCCESS nrel-pds-building-stock/end-use-load-profiles-for-us-building-stock/2022/resstock_tmy3_release_1.1/metadata_and_annual_results/by_state/state=IA/csv/IA_upgrade01_metadata_and_annual_results.csv\n",
      "SUCCESS nrel-pds-building-stock/end-use-load-profiles-for-us-building-stock/2022/resstock_tmy3_release_1.1/metadata_and_annual_results/by_state/state=ID/csv/ID_upgrade01_metadata_and_annual_results.csv\n"
     ]
    },
    {
     "name": "stderr",
     "output_type": "stream",
     "text": [
      "C:\\Users\\szvsw\\AppData\\Local\\Temp\\ipykernel_36552\\1352942123.py:29: DtypeWarning: Columns (121) have mixed types. Specify dtype option on import or set low_memory=False.\n",
      "  df = pd.read_csv(r[\"Body\"])\n",
      "C:\\Users\\szvsw\\AppData\\Local\\Temp\\ipykernel_36552\\1352942123.py:29: DtypeWarning: Columns (121) have mixed types. Specify dtype option on import or set low_memory=False.\n",
      "  df = pd.read_csv(r[\"Body\"])\n"
     ]
    },
    {
     "name": "stdout",
     "output_type": "stream",
     "text": [
      "SUCCESS nrel-pds-building-stock/end-use-load-profiles-for-us-building-stock/2022/resstock_tmy3_release_1.1/metadata_and_annual_results/by_state/state=AZ/csv/AZ_upgrade01_metadata_and_annual_results.csv\n"
     ]
    },
    {
     "name": "stderr",
     "output_type": "stream",
     "text": [
      "C:\\Users\\szvsw\\AppData\\Local\\Temp\\ipykernel_36552\\1352942123.py:29: DtypeWarning: Columns (121) have mixed types. Specify dtype option on import or set low_memory=False.\n",
      "  df = pd.read_csv(r[\"Body\"])\n"
     ]
    },
    {
     "name": "stdout",
     "output_type": "stream",
     "text": [
      "SUCCESS nrel-pds-building-stock/end-use-load-profiles-for-us-building-stock/2022/resstock_tmy3_release_1.1/metadata_and_annual_results/by_state/state=AL/csv/AL_upgrade01_metadata_and_annual_results.csv\n",
      "SUCCESS nrel-pds-building-stock/end-use-load-profiles-for-us-building-stock/2022/resstock_tmy3_release_1.1/metadata_and_annual_results/by_state/state=CO/csv/CO_upgrade01_metadata_and_annual_results.csv\n",
      "SUCCESS nrel-pds-building-stock/end-use-load-profiles-for-us-building-stock/2022/resstock_tmy3_release_1.1/metadata_and_annual_results/by_state/state=KS/csv/KS_upgrade01_metadata_and_annual_results.csv\n"
     ]
    },
    {
     "name": "stderr",
     "output_type": "stream",
     "text": [
      "C:\\Users\\szvsw\\AppData\\Local\\Temp\\ipykernel_36552\\1352942123.py:29: DtypeWarning: Columns (121) have mixed types. Specify dtype option on import or set low_memory=False.\n",
      "  df = pd.read_csv(r[\"Body\"])\n",
      "C:\\Users\\szvsw\\AppData\\Local\\Temp\\ipykernel_36552\\1352942123.py:29: DtypeWarning: Columns (121) have mixed types. Specify dtype option on import or set low_memory=False.\n",
      "  df = pd.read_csv(r[\"Body\"])\n"
     ]
    },
    {
     "name": "stdout",
     "output_type": "stream",
     "text": [
      "SUCCESS nrel-pds-building-stock/end-use-load-profiles-for-us-building-stock/2022/resstock_tmy3_release_1.1/metadata_and_annual_results/by_state/state=KY/csv/KY_upgrade01_metadata_and_annual_results.csv\n",
      "SUCCESS nrel-pds-building-stock/end-use-load-profiles-for-us-building-stock/2022/resstock_tmy3_release_1.1/metadata_and_annual_results/by_state/state=IN/csv/IN_upgrade01_metadata_and_annual_results.csv\n"
     ]
    },
    {
     "name": "stderr",
     "output_type": "stream",
     "text": [
      "C:\\Users\\szvsw\\AppData\\Local\\Temp\\ipykernel_36552\\1352942123.py:29: DtypeWarning: Columns (121) have mixed types. Specify dtype option on import or set low_memory=False.\n",
      "  df = pd.read_csv(r[\"Body\"])\n"
     ]
    },
    {
     "name": "stdout",
     "output_type": "stream",
     "text": [
      "SUCCESS nrel-pds-building-stock/end-use-load-profiles-for-us-building-stock/2022/resstock_tmy3_release_1.1/metadata_and_annual_results/by_state/state=CT/csv/CT_upgrade01_metadata_and_annual_results.csv\n",
      "SUCCESS nrel-pds-building-stock/end-use-load-profiles-for-us-building-stock/2022/resstock_tmy3_release_1.1/metadata_and_annual_results/by_state/state=ME/csv/ME_upgrade01_metadata_and_annual_results.csv\n"
     ]
    },
    {
     "name": "stderr",
     "output_type": "stream",
     "text": [
      "C:\\Users\\szvsw\\AppData\\Local\\Temp\\ipykernel_36552\\1352942123.py:29: DtypeWarning: Columns (121) have mixed types. Specify dtype option on import or set low_memory=False.\n",
      "  df = pd.read_csv(r[\"Body\"])\n"
     ]
    },
    {
     "name": "stdout",
     "output_type": "stream",
     "text": [
      "SUCCESS nrel-pds-building-stock/end-use-load-profiles-for-us-building-stock/2022/resstock_tmy3_release_1.1/metadata_and_annual_results/by_state/state=LA/csv/LA_upgrade01_metadata_and_annual_results.csv\n"
     ]
    },
    {
     "name": "stderr",
     "output_type": "stream",
     "text": [
      "C:\\Users\\szvsw\\AppData\\Local\\Temp\\ipykernel_36552\\1352942123.py:29: DtypeWarning: Columns (121) have mixed types. Specify dtype option on import or set low_memory=False.\n",
      "  df = pd.read_csv(r[\"Body\"])\n"
     ]
    },
    {
     "name": "stdout",
     "output_type": "stream",
     "text": [
      "SUCCESS nrel-pds-building-stock/end-use-load-profiles-for-us-building-stock/2022/resstock_tmy3_release_1.1/metadata_and_annual_results/by_state/state=MD/csv/MD_upgrade01_metadata_and_annual_results.csv\n",
      "SUCCESS nrel-pds-building-stock/end-use-load-profiles-for-us-building-stock/2022/resstock_tmy3_release_1.1/metadata_and_annual_results/by_state/state=MT/csv/MT_upgrade01_metadata_and_annual_results.csv\n"
     ]
    },
    {
     "name": "stderr",
     "output_type": "stream",
     "text": [
      "C:\\Users\\szvsw\\AppData\\Local\\Temp\\ipykernel_36552\\1352942123.py:29: DtypeWarning: Columns (121) have mixed types. Specify dtype option on import or set low_memory=False.\n",
      "  df = pd.read_csv(r[\"Body\"])\n"
     ]
    },
    {
     "name": "stdout",
     "output_type": "stream",
     "text": [
      "SUCCESS nrel-pds-building-stock/end-use-load-profiles-for-us-building-stock/2022/resstock_tmy3_release_1.1/metadata_and_annual_results/by_state/state=GA/csv/GA_upgrade01_metadata_and_annual_results.csv\n"
     ]
    },
    {
     "name": "stderr",
     "output_type": "stream",
     "text": [
      "C:\\Users\\szvsw\\AppData\\Local\\Temp\\ipykernel_36552\\1352942123.py:29: DtypeWarning: Columns (121) have mixed types. Specify dtype option on import or set low_memory=False.\n",
      "  df = pd.read_csv(r[\"Body\"])\n"
     ]
    },
    {
     "name": "stdout",
     "output_type": "stream",
     "text": [
      "SUCCESS nrel-pds-building-stock/end-use-load-profiles-for-us-building-stock/2022/resstock_tmy3_release_1.1/metadata_and_annual_results/by_state/state=MA/csv/MA_upgrade01_metadata_and_annual_results.csv\n",
      "SUCCESS nrel-pds-building-stock/end-use-load-profiles-for-us-building-stock/2022/resstock_tmy3_release_1.1/metadata_and_annual_results/by_state/state=ND/csv/ND_upgrade01_metadata_and_annual_results.csv\n",
      "SUCCESS nrel-pds-building-stock/end-use-load-profiles-for-us-building-stock/2022/resstock_tmy3_release_1.1/metadata_and_annual_results/by_state/state=MS/csv/MS_upgrade01_metadata_and_annual_results.csv\n"
     ]
    },
    {
     "name": "stderr",
     "output_type": "stream",
     "text": [
      "C:\\Users\\szvsw\\AppData\\Local\\Temp\\ipykernel_36552\\1352942123.py:29: DtypeWarning: Columns (121) have mixed types. Specify dtype option on import or set low_memory=False.\n",
      "  df = pd.read_csv(r[\"Body\"])\n",
      "C:\\Users\\szvsw\\AppData\\Local\\Temp\\ipykernel_36552\\1352942123.py:29: DtypeWarning: Columns (121) have mixed types. Specify dtype option on import or set low_memory=False.\n",
      "  df = pd.read_csv(r[\"Body\"])\n"
     ]
    },
    {
     "name": "stdout",
     "output_type": "stream",
     "text": [
      "SUCCESS nrel-pds-building-stock/end-use-load-profiles-for-us-building-stock/2022/resstock_tmy3_release_1.1/metadata_and_annual_results/by_state/state=NE/csv/NE_upgrade01_metadata_and_annual_results.csv\n",
      "SUCCESS nrel-pds-building-stock/end-use-load-profiles-for-us-building-stock/2022/resstock_tmy3_release_1.1/metadata_and_annual_results/by_state/state=NH/csv/NH_upgrade01_metadata_and_annual_results.csv\n"
     ]
    },
    {
     "name": "stderr",
     "output_type": "stream",
     "text": [
      "C:\\Users\\szvsw\\AppData\\Local\\Temp\\ipykernel_36552\\1352942123.py:29: DtypeWarning: Columns (121) have mixed types. Specify dtype option on import or set low_memory=False.\n",
      "  df = pd.read_csv(r[\"Body\"])\n"
     ]
    },
    {
     "name": "stdout",
     "output_type": "stream",
     "text": [
      "SUCCESS nrel-pds-building-stock/end-use-load-profiles-for-us-building-stock/2022/resstock_tmy3_release_1.1/metadata_and_annual_results/by_state/state=MO/csv/MO_upgrade01_metadata_and_annual_results.csv\n"
     ]
    },
    {
     "name": "stderr",
     "output_type": "stream",
     "text": [
      "C:\\Users\\szvsw\\AppData\\Local\\Temp\\ipykernel_36552\\1352942123.py:29: DtypeWarning: Columns (121) have mixed types. Specify dtype option on import or set low_memory=False.\n",
      "  df = pd.read_csv(r[\"Body\"])\n"
     ]
    },
    {
     "name": "stdout",
     "output_type": "stream",
     "text": [
      "SUCCESS nrel-pds-building-stock/end-use-load-profiles-for-us-building-stock/2022/resstock_tmy3_release_1.1/metadata_and_annual_results/by_state/state=MN/csv/MN_upgrade01_metadata_and_annual_results.csv\n"
     ]
    },
    {
     "name": "stderr",
     "output_type": "stream",
     "text": [
      "C:\\Users\\szvsw\\AppData\\Local\\Temp\\ipykernel_36552\\1352942123.py:29: DtypeWarning: Columns (121) have mixed types. Specify dtype option on import or set low_memory=False.\n",
      "  df = pd.read_csv(r[\"Body\"])\n"
     ]
    },
    {
     "name": "stdout",
     "output_type": "stream",
     "text": [
      "SUCCESS nrel-pds-building-stock/end-use-load-profiles-for-us-building-stock/2022/resstock_tmy3_release_1.1/metadata_and_annual_results/by_state/state=MI/csv/MI_upgrade01_metadata_and_annual_results.csv\n",
      "SUCCESS nrel-pds-building-stock/end-use-load-profiles-for-us-building-stock/2022/resstock_tmy3_release_1.1/metadata_and_annual_results/by_state/state=NM/csv/NM_upgrade01_metadata_and_annual_results.csv\n"
     ]
    },
    {
     "name": "stderr",
     "output_type": "stream",
     "text": [
      "C:\\Users\\szvsw\\AppData\\Local\\Temp\\ipykernel_36552\\1352942123.py:29: DtypeWarning: Columns (121) have mixed types. Specify dtype option on import or set low_memory=False.\n",
      "  df = pd.read_csv(r[\"Body\"])\n"
     ]
    },
    {
     "name": "stdout",
     "output_type": "stream",
     "text": [
      "SUCCESS nrel-pds-building-stock/end-use-load-profiles-for-us-building-stock/2022/resstock_tmy3_release_1.1/metadata_and_annual_results/by_state/state=NV/csv/NV_upgrade01_metadata_and_annual_results.csv\n",
      "SUCCESS nrel-pds-building-stock/end-use-load-profiles-for-us-building-stock/2022/resstock_tmy3_release_1.1/metadata_and_annual_results/by_state/state=OK/csv/OK_upgrade01_metadata_and_annual_results.csv\n"
     ]
    },
    {
     "name": "stderr",
     "output_type": "stream",
     "text": [
      "C:\\Users\\szvsw\\AppData\\Local\\Temp\\ipykernel_36552\\1352942123.py:29: DtypeWarning: Columns (121) have mixed types. Specify dtype option on import or set low_memory=False.\n",
      "  df = pd.read_csv(r[\"Body\"])\n",
      "C:\\Users\\szvsw\\AppData\\Local\\Temp\\ipykernel_36552\\1352942123.py:29: DtypeWarning: Columns (121) have mixed types. Specify dtype option on import or set low_memory=False.\n",
      "  df = pd.read_csv(r[\"Body\"])\n"
     ]
    },
    {
     "name": "stdout",
     "output_type": "stream",
     "text": [
      "SUCCESS nrel-pds-building-stock/end-use-load-profiles-for-us-building-stock/2022/resstock_tmy3_release_1.1/metadata_and_annual_results/by_state/state=FL/csv/FL_upgrade01_metadata_and_annual_results.csv\n",
      "SUCCESS nrel-pds-building-stock/end-use-load-profiles-for-us-building-stock/2022/resstock_tmy3_release_1.1/metadata_and_annual_results/by_state/state=NC/csv/NC_upgrade01_metadata_and_annual_results.csv\n",
      "SUCCESS nrel-pds-building-stock/end-use-load-profiles-for-us-building-stock/2022/resstock_tmy3_release_1.1/metadata_and_annual_results/by_state/state=RI/csv/RI_upgrade01_metadata_and_annual_results.csv\n"
     ]
    },
    {
     "name": "stderr",
     "output_type": "stream",
     "text": [
      "C:\\Users\\szvsw\\AppData\\Local\\Temp\\ipykernel_36552\\1352942123.py:29: DtypeWarning: Columns (121) have mixed types. Specify dtype option on import or set low_memory=False.\n",
      "  df = pd.read_csv(r[\"Body\"])\n"
     ]
    },
    {
     "name": "stdout",
     "output_type": "stream",
     "text": [
      "SUCCESS nrel-pds-building-stock/end-use-load-profiles-for-us-building-stock/2022/resstock_tmy3_release_1.1/metadata_and_annual_results/by_state/state=OR/csv/OR_upgrade01_metadata_and_annual_results.csv\n",
      "SUCCESS nrel-pds-building-stock/end-use-load-profiles-for-us-building-stock/2022/resstock_tmy3_release_1.1/metadata_and_annual_results/by_state/state=SD/csv/SD_upgrade01_metadata_and_annual_results.csv\n"
     ]
    },
    {
     "name": "stderr",
     "output_type": "stream",
     "text": [
      "C:\\Users\\szvsw\\AppData\\Local\\Temp\\ipykernel_36552\\1352942123.py:29: DtypeWarning: Columns (121) have mixed types. Specify dtype option on import or set low_memory=False.\n",
      "  df = pd.read_csv(r[\"Body\"])\n"
     ]
    },
    {
     "name": "stdout",
     "output_type": "stream",
     "text": [
      "SUCCESS nrel-pds-building-stock/end-use-load-profiles-for-us-building-stock/2022/resstock_tmy3_release_1.1/metadata_and_annual_results/by_state/state=NJ/csv/NJ_upgrade01_metadata_and_annual_results.csv\n",
      "SUCCESS nrel-pds-building-stock/end-use-load-profiles-for-us-building-stock/2022/resstock_tmy3_release_1.1/metadata_and_annual_results/by_state/state=IL/csv/IL_upgrade01_metadata_and_annual_results.csv\n",
      "SUCCESS nrel-pds-building-stock/end-use-load-profiles-for-us-building-stock/2022/resstock_tmy3_release_1.1/metadata_and_annual_results/by_state/state=SC/csv/SC_upgrade01_metadata_and_annual_results.csv\n",
      "SUCCESS nrel-pds-building-stock/end-use-load-profiles-for-us-building-stock/2022/resstock_tmy3_release_1.1/metadata_and_annual_results/by_state/state=UT/csv/UT_upgrade01_metadata_and_annual_results.csv\n"
     ]
    },
    {
     "name": "stderr",
     "output_type": "stream",
     "text": [
      "C:\\Users\\szvsw\\AppData\\Local\\Temp\\ipykernel_36552\\1352942123.py:29: DtypeWarning: Columns (121) have mixed types. Specify dtype option on import or set low_memory=False.\n",
      "  df = pd.read_csv(r[\"Body\"])\n"
     ]
    },
    {
     "name": "stdout",
     "output_type": "stream",
     "text": [
      "SUCCESS nrel-pds-building-stock/end-use-load-profiles-for-us-building-stock/2022/resstock_tmy3_release_1.1/metadata_and_annual_results/by_state/state=VT/csv/VT_upgrade01_metadata_and_annual_results.csv\n"
     ]
    },
    {
     "name": "stderr",
     "output_type": "stream",
     "text": [
      "C:\\Users\\szvsw\\AppData\\Local\\Temp\\ipykernel_36552\\1352942123.py:29: DtypeWarning: Columns (121) have mixed types. Specify dtype option on import or set low_memory=False.\n",
      "  df = pd.read_csv(r[\"Body\"])\n",
      "C:\\Users\\szvsw\\AppData\\Local\\Temp\\ipykernel_36552\\1352942123.py:29: DtypeWarning: Columns (121) have mixed types. Specify dtype option on import or set low_memory=False.\n",
      "  df = pd.read_csv(r[\"Body\"])\n"
     ]
    },
    {
     "name": "stdout",
     "output_type": "stream",
     "text": [
      "SUCCESS nrel-pds-building-stock/end-use-load-profiles-for-us-building-stock/2022/resstock_tmy3_release_1.1/metadata_and_annual_results/by_state/state=TN/csv/TN_upgrade01_metadata_and_annual_results.csv\n",
      "SUCCESS nrel-pds-building-stock/end-use-load-profiles-for-us-building-stock/2022/resstock_tmy3_release_1.1/metadata_and_annual_results/by_state/state=WV/csv/WV_upgrade01_metadata_and_annual_results.csv\n",
      "SUCCESS nrel-pds-building-stock/end-use-load-profiles-for-us-building-stock/2022/resstock_tmy3_release_1.1/metadata_and_annual_results/by_state/state=WY/csv/WY_upgrade01_metadata_and_annual_results.csv\n"
     ]
    },
    {
     "name": "stderr",
     "output_type": "stream",
     "text": [
      "C:\\Users\\szvsw\\AppData\\Local\\Temp\\ipykernel_36552\\1352942123.py:29: DtypeWarning: Columns (61,121) have mixed types. Specify dtype option on import or set low_memory=False.\n",
      "  df = pd.read_csv(r[\"Body\"])\n"
     ]
    },
    {
     "name": "stdout",
     "output_type": "stream",
     "text": [
      "SUCCESS nrel-pds-building-stock/end-use-load-profiles-for-us-building-stock/2022/resstock_tmy3_release_1.1/metadata_and_annual_results/by_state/state=CA/csv/CA_upgrade01_metadata_and_annual_results.csv\n",
      "SUCCESS nrel-pds-building-stock/end-use-load-profiles-for-us-building-stock/2022/resstock_tmy3_release_1.1/metadata_and_annual_results/by_state/state=VA/csv/VA_upgrade01_metadata_and_annual_results.csv\n"
     ]
    },
    {
     "name": "stderr",
     "output_type": "stream",
     "text": [
      "C:\\Users\\szvsw\\AppData\\Local\\Temp\\ipykernel_36552\\1352942123.py:29: DtypeWarning: Columns (121) have mixed types. Specify dtype option on import or set low_memory=False.\n",
      "  df = pd.read_csv(r[\"Body\"])\n"
     ]
    },
    {
     "name": "stdout",
     "output_type": "stream",
     "text": [
      "SUCCESS nrel-pds-building-stock/end-use-load-profiles-for-us-building-stock/2022/resstock_tmy3_release_1.1/metadata_and_annual_results/by_state/state=WA/csv/WA_upgrade01_metadata_and_annual_results.csv\n"
     ]
    },
    {
     "name": "stderr",
     "output_type": "stream",
     "text": [
      "C:\\Users\\szvsw\\AppData\\Local\\Temp\\ipykernel_36552\\1352942123.py:29: DtypeWarning: Columns (121) have mixed types. Specify dtype option on import or set low_memory=False.\n",
      "  df = pd.read_csv(r[\"Body\"])\n",
      "C:\\Users\\szvsw\\AppData\\Local\\Temp\\ipykernel_36552\\1352942123.py:29: DtypeWarning: Columns (121) have mixed types. Specify dtype option on import or set low_memory=False.\n",
      "  df = pd.read_csv(r[\"Body\"])\n"
     ]
    },
    {
     "name": "stdout",
     "output_type": "stream",
     "text": [
      "SUCCESS nrel-pds-building-stock/end-use-load-profiles-for-us-building-stock/2022/resstock_tmy3_release_1.1/metadata_and_annual_results/by_state/state=NY/csv/NY_upgrade01_metadata_and_annual_results.csv\n",
      "SUCCESS nrel-pds-building-stock/end-use-load-profiles-for-us-building-stock/2022/resstock_tmy3_release_1.1/metadata_and_annual_results/by_state/state=PA/csv/PA_upgrade01_metadata_and_annual_results.csv\n",
      "SUCCESS nrel-pds-building-stock/end-use-load-profiles-for-us-building-stock/2022/resstock_tmy3_release_1.1/metadata_and_annual_results/by_state/state=WI/csv/WI_upgrade01_metadata_and_annual_results.csv\n"
     ]
    },
    {
     "name": "stderr",
     "output_type": "stream",
     "text": [
      "C:\\Users\\szvsw\\AppData\\Local\\Temp\\ipykernel_36552\\1352942123.py:29: DtypeWarning: Columns (121) have mixed types. Specify dtype option on import or set low_memory=False.\n",
      "  df = pd.read_csv(r[\"Body\"])\n"
     ]
    },
    {
     "name": "stdout",
     "output_type": "stream",
     "text": [
      "SUCCESS nrel-pds-building-stock/end-use-load-profiles-for-us-building-stock/2022/resstock_tmy3_release_1.1/metadata_and_annual_results/by_state/state=OH/csv/OH_upgrade01_metadata_and_annual_results.csv\n"
     ]
    },
    {
     "name": "stderr",
     "output_type": "stream",
     "text": [
      "C:\\Users\\szvsw\\AppData\\Local\\Temp\\ipykernel_36552\\1352942123.py:29: DtypeWarning: Columns (121) have mixed types. Specify dtype option on import or set low_memory=False.\n",
      "  df = pd.read_csv(r[\"Body\"])\n"
     ]
    },
    {
     "name": "stdout",
     "output_type": "stream",
     "text": [
      "SUCCESS nrel-pds-building-stock/end-use-load-profiles-for-us-building-stock/2022/resstock_tmy3_release_1.1/metadata_and_annual_results/by_state/state=TX/csv/TX_upgrade01_metadata_and_annual_results.csv\n",
      "49\n"
     ]
    },
    {
     "name": "stderr",
     "output_type": "stream",
     "text": [
      "C:\\Users\\szvsw\\AppData\\Local\\Temp\\ipykernel_36552\\1352942123.py:49: PerformanceWarning: \n",
      "your performance may suffer as PyTables will pickle object types that it cannot\n",
      "map directly to c-types [inferred_type->mixed-integer,key->block3_values] [items->Index(['in.ahs_region', 'in.ashrae_iecc_climate_zone_2004',\n",
      "       'in.ashrae_iecc_climate_zone_2004_2_a_split',\n",
      "       'in.bathroom_spot_vent_hour', 'in.building_america_climate_zone',\n",
      "       'in.cec_climate_zone', 'in.ceiling_fan', 'in.census_division',\n",
      "       'in.census_division_recs', 'in.census_region',\n",
      "       ...\n",
      "       'in.water_heater_efficiency', 'in.water_heater_fuel',\n",
      "       'in.water_heater_in_unit', 'in.weather_file_city', 'in.window_areas',\n",
      "       'in.windows', 'upgrade.ducts', 'upgrade.infiltration_reduction',\n",
      "       'upgrade.insulation_ceiling', 'upgrade.insulation_wall'],\n",
      "      dtype='object', length=145)]\n",
      "\n",
      "  resstock_df.to_hdf(resstock_data_path, key=\"resstock\", mode=\"w\")\n"
     ]
    },
    {
     "name": "stdout",
     "output_type": "stream",
     "text": [
      "(548917, 346)\n"
     ]
    }
   ],
   "source": [
    "# nrel bucket config\n",
    "s3 = boto3.client(\"s3\", config=Config(signature_version=UNSIGNED))\n",
    "b = \"oedi-data-lake\"\n",
    "nrel_release_key = (\n",
    "    Path(\"nrel-pds-building-stock\")\n",
    "    / \"end-use-load-profiles-for-us-building-stock\"\n",
    "    / f\"{resstock_year}\"\n",
    "    / f\"resstock_{resstock_release}\"\n",
    ")\n",
    "results_str_formatter = (\n",
    "    lambda state, bid, upgrade_state: f\"{nrel_release_key.as_posix()}/timeseries_individual_buildings/by_state/upgrade={upgrade_state}/state={state}/{bid}-{upgrade_state}.parquet\"\n",
    ")\n",
    "epw_str_formatter = (\n",
    "    lambda state, county, year: f\"{nrel_release_key.as_posix()}/weather/state={state}/{county}_{year if  year else 'TMY3'}.csv\"\n",
    ")\n",
    "assert (amy_year is not None and \"amy\" in resstock_release.lower()) or (\n",
    "    amy_year is None and \"tmy\" in resstock_release.lower()\n",
    "), \"amy_year must be set if using amy data, and not set if using tmy data\"\n",
    "\n",
    "\n",
    "def get_state_df(state):\n",
    "    try:\n",
    "        upgrade_str = (\n",
    "            \"baseline\" if upgrade_state == 0 else f\"upgrade{upgrade_state:02d}\"\n",
    "        )\n",
    "        k = f\"{nrel_release_key.as_posix()}/metadata_and_annual_results/by_state/state={state}/csv/{state}_{upgrade_str}_metadata_and_annual_results.csv\"\n",
    "\n",
    "        r = s3.get_object(Bucket=b, Key=k)\n",
    "        df = pd.read_csv(r[\"Body\"])\n",
    "        print(\"SUCCESS\", k)\n",
    "        return df\n",
    "    except Exception as e:\n",
    "        print(\"ERROR\", k, e)\n",
    "        return None\n",
    "\n",
    "\n",
    "if skip_pull and Path(resstock_data_path).exists():\n",
    "    resstock_df = pd.read_hdf(resstock_data_path, key=\"resstock\")\n",
    "else:\n",
    "    resstock_dfs = {}\n",
    "\n",
    "    with ThreadPoolExecutor(max_workers=10) as e:\n",
    "        dfs = list(tqdm(e.map(get_state_df, states), total=len(states)))\n",
    "        for state, df in zip(states, dfs):\n",
    "            resstock_dfs[state] = df\n",
    "    print(len(resstock_dfs))\n",
    "\n",
    "    resstock_df = pd.concat(resstock_dfs.values())\n",
    "    resstock_df.to_hdf(resstock_data_path, key=\"resstock\", mode=\"w\")\n",
    "\n",
    "new_col_names = []\n",
    "for x in resstock_df.columns:\n",
    "    y = x.split(\".\")\n",
    "    y = (y[0], \".\".join(y[1:]))\n",
    "    new_col_names.append(y)\n",
    "resstock_df.columns = pd.MultiIndex.from_tuples(new_col_names)\n",
    "resstock_df.reset_index(drop=True, inplace=True)\n",
    "print(resstock_df.shape)"
   ]
  },
  {
   "cell_type": "code",
   "execution_count": 5,
   "metadata": {},
   "outputs": [
    {
     "name": "stdout",
     "output_type": "stream",
     "text": [
      "\n",
      "------ ducts -------\n",
      "221493\n",
      "new:  {nan}\n",
      "\n",
      "------ infiltration_reduction -------\n",
      "!NEWCOL infiltration_reduction, [nan '30%']\n",
      "\n",
      "------ insulation_ceiling -------\n",
      "193758\n",
      "new:  {nan, 'R-60'}\n",
      "\n",
      "------ insulation_wall -------\n",
      "380143\n",
      "new:  {nan, 'Wood Stud, R-13'}\n"
     ]
    }
   ],
   "source": [
    "for col in resstock_df.upgrade.columns:\n",
    "    if col == \"\":\n",
    "        continue\n",
    "    print(\"\\n------\", col, \"-------\")\n",
    "    if col not in resstock_df[\"in\"].columns:\n",
    "        print(f\"!NEWCOL {col}, {resstock_df.upgrade[col].unique()}\")\n",
    "    else:\n",
    "        original = resstock_df[\"in\"][col]\n",
    "\n",
    "        new = resstock_df.upgrade[col]\n",
    "        print(resstock_df.upgrade[col].isna().sum())\n",
    "        print(\"new: \", set(new) - set(original))\n",
    "        # print(\"all: \", set(original))"
   ]
  },
  {
   "attachments": {},
   "cell_type": "markdown",
   "metadata": {},
   "source": [
    "## Definitions for lookups"
   ]
  },
  {
   "cell_type": "code",
   "execution_count": 6,
   "metadata": {},
   "outputs": [],
   "source": [
    "EPD_BASELINE = 5.38  # Reference buildings apartment\n",
    "LPD_BASELINE = 3.88  # Reference buildings apartment\n",
    "ACH50_ACHNAT = 14.8  # LBL average for normal conditions\n",
    "SQFT_M2 = 0.092903\n",
    "F2F_HEIGHT = 3\n",
    "RVAL_RSI = 1 / 5.678\n",
    "PERIM_DEPTH = 3\n",
    "\n",
    "VentilationPerArea = 0\n",
    "VentilationPerPerson = 0\n",
    "VentilationMode = 0\n",
    "EconomizerSettings = 0\n",
    "RecoverySettings = 0\n",
    "RoofMass = 2\n",
    "\n",
    "hvac_cooling_type = {\"Central AC\": 1, \"None\": 0, \"Heat Pump\": 3, \"Room AC\": 1}\n",
    "\n",
    "heating_fuel = {\n",
    "    \"Electricity\": 1,\n",
    "    \"Natural Gas\": 0.85,\n",
    "    \"Propane\": 0.8,\n",
    "    \"Other Fuel\": 1,\n",
    "    \"Fuel Oil\": 0.8,\n",
    "    \"None\": 0,\n",
    "}\n",
    "\n",
    "lighting = {\"100% CFL\": 0.26, \"100% LED\": 0.22, \"100% Incandescent\": 1}\n",
    "\n",
    "\n",
    "def get_people_density(x):\n",
    "    (occupants, sqft) = x\n",
    "    if type(occupants) == str and \"+\" in occupants:\n",
    "        occupants = 10\n",
    "    occupants = int(occupants)\n",
    "    return occupants / (SQFT_M2 * sqft)\n",
    "\n",
    "\n",
    "def get_infiltration(x):\n",
    "    (ach50, sqft, floors) = x\n",
    "    area = SQFT_M2 * sqft\n",
    "    volume = area * F2F_HEIGHT\n",
    "    surface_area = area + math.sqrt(area) * 4 * F2F_HEIGHT * int(floors)\n",
    "    return (\n",
    "        float(ach50.split(\" ACH50\")[0])\n",
    "        / ACH50_ACHNAT\n",
    "        * volume\n",
    "        / 3.6\n",
    "        / surface_area\n",
    "        / 1000\n",
    "    )\n",
    "\n",
    "\n",
    "wall_thermal_mass_constructions = {\n",
    "    \"Brick\": 0,\n",
    "    \"Wood Stud\": 2,\n",
    "    \"CMU\": 1,\n",
    "}\n",
    "\n",
    "roof_thermal_mass_constructions = {\n",
    "    \"Asphalt Shingles, Medium\": 3,\n",
    "    \"Composition Shingles\": 3,\n",
    "    \"Wood Shingles\": 2,\n",
    "    \"Metal, Dark\": 3,\n",
    "    \"Slate\": 2,\n",
    "    \"Tile, Clay or Ceramic\": 2,\n",
    "    \"Tile, Concrete\": 0,\n",
    "}\n",
    "\n",
    "\n",
    "def get_wall_insulation(x):\n",
    "    if \"Uninsulated\" in x:\n",
    "        return 0.5\n",
    "    else:\n",
    "        return int(x.split(\"R-\")[-1]) * RVAL_RSI\n",
    "\n",
    "\n",
    "def get_slab_insulation(all_x):\n",
    "    r_tot = [0]\n",
    "    for x in all_x:\n",
    "        if \"None\" in x:\n",
    "            pass\n",
    "        elif \"Uninsulated\" in x:\n",
    "            r_tot.append(0.5)\n",
    "        elif \"R-\" in x:\n",
    "            x = x.split(\",\")\n",
    "            x = [i for i in x if \"R\" in i]\n",
    "            x = x[0]\n",
    "            r_tot.append(int(x.split(\"R-\")[-1]) * RVAL_RSI)\n",
    "        else:\n",
    "            x = x.split(\" \")\n",
    "            x = [i for i in x if \"R\" in i]\n",
    "            x = x[0]\n",
    "            r_tot.append(int(x.split(\"R\")[-1]) * RVAL_RSI)\n",
    "    return sum(r_tot) * RVAL_RSI\n",
    "\n",
    "\n",
    "# From https://www.nrel.gov/docs/fy18osti/68670.pdf\n",
    "windows_uval = {\n",
    "    \"Double, Clear, Metal, Air\": 0.76 * 5.678,\n",
    "    \"Double, Clear, Metal, Air, Exterior Clear Storm\": 0.38 * 5.678,\n",
    "    \"Double, Clear, Non-metal, Air\": 0.49 * 5.678,\n",
    "    \"Double, Clear, Non-metal, Air, Exterior Clear Storm\": 0.29 * 5.678,\n",
    "    \"Double, Low-E, Non-metal, Air, M-Gain\": 0.29 * 5.678,  # assumed\n",
    "    \"Single, Clear, Metal\": 1.16 * 5.678,\n",
    "    \"Single, Clear, Metal, Exterior Clear Storm\": 0.69 * 5.678,\n",
    "    \"Single, Clear, Non-metal\": 0.84 * 5.678,\n",
    "    \"Single, Clear, Non-metal, Exterior Clear Storm\": 0.4 * 5.678,\n",
    "    \"Triple, Low-E, Non-metal, Air, L-Gain\": 0.4 * 5.678,\n",
    "}\n",
    "\n",
    "windows_shgc = {\n",
    "    \"Double, Clear, Metal, Air\": 0.67,\n",
    "    \"Double, Clear, Metal, Air, Exterior Clear Storm\": 0.51,\n",
    "    \"Double, Clear, Non-metal, Air\": 0.56,\n",
    "    \"Double, Clear, Non-metal, Air, Exterior Clear Storm\": 0.42,\n",
    "    \"Double, Low-E, Non-metal, Air, M-Gain\": 0.52,  # assumed\n",
    "    \"Single, Clear, Metal\": 0.76,\n",
    "    \"Single, Clear, Metal, Exterior Clear Storm\": 0.59,\n",
    "    \"Single, Clear, Non-metal\": 0.63,\n",
    "    \"Single, Clear, Non-metal, Exterior Clear Storm\": 0.51,\n",
    "    \"Triple, Low-E, Non-metal, Air, L-Gain\": 0.51,\n",
    "}\n",
    "\n",
    "\n",
    "def get_perim2core(x):\n",
    "    a = x / 10.7\n",
    "    x = math.sqrt(a)\n",
    "    core_area = (x - 2 * PERIM_DEPTH) ** 2\n",
    "    perim_area = a - core_area\n",
    "    return core_area / perim_area\n",
    "\n",
    "\n",
    "def get_core_depth(x, perim_depth=PERIM_DEPTH):\n",
    "    core_area_to_perim_area = get_perim2core(x)\n",
    "    return core_area_to_perim_area * perim_depth\n",
    "\n",
    "\n",
    "def get_orientation(x):\n",
    "    if x not in [\"North\" \"East\" \"South\" \"West\"]:\n",
    "        return math.pi / 4\n",
    "    else:\n",
    "        return 0\n",
    "\n",
    "\n",
    "def get_roof2floor(x):\n",
    "    r2f = 0\n",
    "    if x[0] != \"Middle\" and x[1] != \"Middle\":\n",
    "        r2f = 1\n",
    "    elif x[2] != \"None\":\n",
    "        r2f = 0.5\n",
    "    return r2f\n",
    "\n",
    "\n",
    "def get_ground2floor(x):\n",
    "    if x == \"Middle\" or x == \"Top\":\n",
    "        return 0\n",
    "    if x == \"Bottom\":\n",
    "        return 1\n",
    "    # if x[1] == \"Slab\":\n",
    "    #     return 1\n",
    "    # if x[1] == \"Heated Basement\" or x[1] == \"Ambient\":\n",
    "    #     return 0\n",
    "    else:\n",
    "        return 1\n",
    "\n",
    "\n",
    "def get_shading_height(x):\n",
    "    \"\"\"\n",
    "    Gets shading angle given x distance away, and assumed similar height of adjascent building\n",
    "    \"\"\"\n",
    "    (dist, floors) = x\n",
    "    if dist == \"None\":\n",
    "        return 0\n",
    "    elif \"ft\" in dist:\n",
    "        dist = 15\n",
    "    else:\n",
    "        dist = int(dist)\n",
    "\n",
    "    height = F2F_HEIGHT * floors\n",
    "    return math.atan(height / dist)"
   ]
  },
  {
   "attachments": {},
   "cell_type": "markdown",
   "metadata": {},
   "source": [
    "## Space definition"
   ]
  },
  {
   "cell_type": "code",
   "execution_count": 41,
   "metadata": {},
   "outputs": [
    {
     "name": "stdout",
     "output_type": "stream",
     "text": [
      "['None']\n",
      "['None' 'Middle' 'Right' 'Left']\n"
     ]
    }
   ],
   "source": [
    "print(\n",
    "    resstock_df[\n",
    "        resstock_df[(\"in\", \"geometry_attic_type\")]\n",
    "        == \"Finished Attic or Cathedral Ceilings\"\n",
    "    ][(\"in\", \"geometry_building_horizontal_location_mf\")].unique()\n",
    ")\n",
    "print(\n",
    "    resstock_df[resstock_df[(\"in\", \"geometry_attic_type\")] == \"Vented Attic\"][\n",
    "        (\"in\", \"geometry_building_horizontal_location_sfa\")\n",
    "    ].unique()\n",
    ")"
   ]
  },
  {
   "cell_type": "code",
   "execution_count": 42,
   "metadata": {},
   "outputs": [
    {
     "data": {
      "text/plain": [
       "array(['Cooling Season, 7 days/wk'], dtype=object)"
      ]
     },
     "execution_count": 42,
     "metadata": {},
     "output_type": "execute_result"
    }
   ],
   "source": [
    "resstock_df[(\"in\", \"natural_ventilation\")].unique()"
   ]
  },
  {
   "cell_type": "code",
   "execution_count": 43,
   "metadata": {},
   "outputs": [
    {
     "data": {
      "text/plain": [
       "array(['None', 'Bottom', 'Middle', 'Top'], dtype=object)"
      ]
     },
     "execution_count": 43,
     "metadata": {},
     "output_type": "execute_result"
    }
   ],
   "source": [
    "resstock_df[(\"in\", \"geometry_building_level_mf\")].unique()"
   ]
  },
  {
   "cell_type": "code",
   "execution_count": 7,
   "metadata": {},
   "outputs": [],
   "source": [
    "space_definition = {\n",
    "    \"area\": {\n",
    "        \"name\": \"area\",\n",
    "        \"resstock_path\": [\"sqft\"],\n",
    "        \"resstock_format\": lambda x: x / 10.7,\n",
    "    },\n",
    "    \"climate_zone\": {\n",
    "        \"name\": \"epw\",\n",
    "        \"resstock_path\": [\"ashrae_iecc_climate_zone_2004\"],\n",
    "        \"resstock_format\": lambda x: x,  # TODO get epw for climate zone\n",
    "    },\n",
    "    \"state\": {\n",
    "        \"name\": \"state\",\n",
    "        \"resstock_path\": [\"state\"],\n",
    "        \"resstock_format\": lambda x: x,  # TODO get epw for state if possible\n",
    "    },\n",
    "    \"county\": {\n",
    "        \"name\": \"county\",\n",
    "        \"resstock_path\": [\"county\"],\n",
    "        \"resstock_format\": lambda x: x,  # TODO get epw for city if possible\n",
    "    },\n",
    "    \"city\": {\n",
    "        \"name\": \"epw\",\n",
    "        \"resstock_path\": [\"city\"],\n",
    "        \"resstock_format\": lambda x: x,  # TODO get epw for city if possible\n",
    "    },\n",
    "    \"floors\": {\n",
    "        \"name\": \"floors\",\n",
    "        \"resstock_path\": [\"geometry_stories\"],\n",
    "        \"resstock_format\": lambda x: x,\n",
    "    },\n",
    "    \"width\": {\n",
    "        \"name\": \"width\",\n",
    "        \"min\": 2,\n",
    "        \"max\": 8,\n",
    "        \"mode\": \"Continuous\",\n",
    "        \"resstock_path\": None,\n",
    "        \"resstock_format\": 3,\n",
    "    },\n",
    "    \"height\": {\n",
    "        \"name\": \"height\",\n",
    "        \"min\": 2.5,\n",
    "        \"max\": 6,\n",
    "        \"mode\": \"Continuous\",\n",
    "        \"resstock_path\": None,\n",
    "        \"resstock_format\": 3,\n",
    "    },\n",
    "    \"perim_depth\": {\n",
    "        \"name\": \"perim_depth\",  # assume square\n",
    "        \"min\": 1.25,\n",
    "        \"max\": 12,\n",
    "        \"mode\": \"Continuous\",\n",
    "        \"resstock_path\": None,\n",
    "        \"resstock_format\": PERIM_DEPTH,\n",
    "    },\n",
    "    \"core_depth\": {\n",
    "        \"name\": \"core_depth\",\n",
    "        \"min\": 1.25,\n",
    "        \"max\": 60,\n",
    "        \"mode\": \"Continuous\",\n",
    "        \"resstock_path\": [\"sqft\"],\n",
    "        \"resstock_format\": lambda x: get_core_depth(x),\n",
    "    },\n",
    "    \"roof_2_footprint\": {\n",
    "        \"name\": \"roof_2_footprint\",\n",
    "        \"min\": 0.0,\n",
    "        \"max\": 1.0,\n",
    "        \"mode\": \"Continuous\",\n",
    "        \"resstock_path\": [\n",
    "            \"geometry_building_horizontal_location_sfa\",\n",
    "            \"geometry_building_horizontal_location_mf\",\n",
    "            \"geometry_attic_type\",\n",
    "            # \"geometry_building_level_mf\",\n",
    "        ],\n",
    "        # \"resstock_format\": lambda x: 1 if x[0] != \"Middle\" and x[1] != \"Middle\" else 0,\n",
    "        \"resstock_format\": lambda x: get_roof2floor(x),\n",
    "    },\n",
    "    \"ground_2_footprint\": {\n",
    "        \"name\": \"ground_2_footprint\",\n",
    "        \"min\": 0.0,\n",
    "        \"max\": 1.0,\n",
    "        \"mode\": \"Continuous\",\n",
    "        \"resstock_path\": None,\n",
    "        \"resstock_format\": 1,\n",
    "        # \"resstock_path\": [\"geometry_stories\"],\n",
    "        # \"resstock_format\": lambda x: get_ground2floor(x),\n",
    "    },\n",
    "    \"orientation\": {\n",
    "        \"name\": \"orientation\",\n",
    "        \"min\": 0.0,\n",
    "        \"max\": 6.283185307179586,\n",
    "        \"mode\": \"Continuous\",\n",
    "        \"resstock_path\": [\"orientation\"],\n",
    "        \"resstock_format\": lambda x: get_orientation(x),\n",
    "    },\n",
    "    \"wwr\": {\n",
    "        \"name\": \"wwr\",\n",
    "        \"min\": 0.0,\n",
    "        \"max\": 0.9,\n",
    "        \"mode\": \"Continuous\",\n",
    "        \"resstock_path\": [\"window_areas\"],  # Format: \"F18 B18 L18 R18\"\n",
    "        \"resstock_format\": lambda x: float(x.split(\" \")[0].split(\"F\")[1]) / 100,\n",
    "    },\n",
    "    \"cop_cooling\": {\n",
    "        \"name\": \"cop_cooling\",\n",
    "        \"min\": 2,\n",
    "        \"max\": 6,\n",
    "        \"mode\": \"Continuous\",\n",
    "        \"resstock_path\": [\"hvac_cooling_type\"],\n",
    "        \"resstock_format\": lambda x: hvac_cooling_type[x],\n",
    "    },\n",
    "    \"cop_heating\": {\n",
    "        \"name\": \"cop_heating\",\n",
    "        \"min\": 0.5,\n",
    "        \"max\": 6,\n",
    "        \"mode\": \"Continuous\",\n",
    "        \"resstock_path\": [\n",
    "            \"heating_fuel\"\n",
    "        ],  # Format: ['Electricity', 'Natural Gas', 'Propane', 'Other Fuel', 'Fuel Oil','None']\n",
    "        \"resstock_format\": lambda x: heating_fuel[x],\n",
    "    },\n",
    "    \"HeatingSetpoint\": {\n",
    "        \"name\": \"HeatingSetpoint\",\n",
    "        \"min\": 14,\n",
    "        \"max\": 24,\n",
    "        \"mode\": \"Continuous\",\n",
    "        \"resstock_path\": [\"heating_setpoint\"],  # Format: F75\n",
    "        \"resstock_format\": lambda x: (float(x.split(\"F\")[0]) - 32) * 5 / 9,\n",
    "    },\n",
    "    \"CoolingSetpoint\": {\n",
    "        \"name\": \"CoolingSetpoint\",\n",
    "        \"min\": 22,\n",
    "        \"max\": 30,\n",
    "        \"mode\": \"Continuous\",\n",
    "        \"resstock_path\": [\"cooling_setpoint\"],  # Format: 75F\n",
    "        \"resstock_format\": lambda x: (float(x.split(\"F\")[0]) - 32) * 5 / 9,\n",
    "    },\n",
    "    \"LightingPowerDensity\": {\n",
    "        \"name\": \"LightingPowerDensity\",\n",
    "        \"min\": 0,\n",
    "        \"max\": 30,\n",
    "        \"mode\": \"Continuous\",\n",
    "        \"resstock_path\": [\n",
    "            \"lighting\"\n",
    "        ],  # Format: ['100% CFL', '100% LED', '100% Incandescent']\n",
    "        \"resstock_format\": lambda x: lighting[x],\n",
    "    },\n",
    "    \"EquipmentPowerDensity\": {\n",
    "        \"name\": \"EquipmentPowerDensity\",\n",
    "        \"min\": 0,\n",
    "        \"max\": 60,\n",
    "        \"mode\": \"Continuous\",\n",
    "        \"resstock_path\": [\n",
    "            \"plug_loads\"\n",
    "        ],  # Format: \"XXX%\" # NOTE plug_load_diversity is to add variation to schedules\n",
    "        \"resstock_format\": lambda x: float(x.split(\"%\")[0]) / 100 * EPD_BASELINE,\n",
    "    },\n",
    "    \"PeopleDensity\": {\n",
    "        \"name\": \"PeopleDensity\",\n",
    "        \"min\": 0,\n",
    "        \"max\": 0.5,\n",
    "        \"mode\": \"Continuous\",\n",
    "        \"resstock_path\": [\"occupants\", \"sqft\"],  # Format: int, \"int\", \"+10\"\n",
    "        \"resstock_format\": lambda x: get_people_density(x),\n",
    "    },\n",
    "    \"Infiltration\": {\n",
    "        \"name\": \"Infiltration\",\n",
    "        \"min\": 0.0,\n",
    "        \"max\": 0.001,\n",
    "        \"mode\": \"Continuous\",\n",
    "        \"resstock_path\": [\n",
    "            \"infiltration\",\n",
    "            \"sqft\",\n",
    "            \"geometry_stories\",\n",
    "        ],  # Format: \"X ACH50\" + \"natural_ventilation\"?\n",
    "        \"resstock_format\": lambda x: get_infiltration(x),\n",
    "    },\n",
    "    \"VentilationPerArea\": {\n",
    "        \"name\": \"VentilationPerArea\",\n",
    "        \"min\": 0.0,\n",
    "        \"max\": 0.005,\n",
    "        \"mode\": \"Continuous\",\n",
    "        \"resstock_path\": None,\n",
    "        \"resstock_format\": 0,\n",
    "    },\n",
    "    \"VentilationPerPerson\": {\n",
    "        \"name\": \"VentilationPerPerson\",\n",
    "        \"min\": 0,\n",
    "        \"max\": 0.015,\n",
    "        \"mode\": \"Continuous\",\n",
    "        \"resstock_path\": None,\n",
    "        \"resstock_format\": 0,\n",
    "    },\n",
    "    \"VentilationMode\": {\n",
    "        \"name\": \"VentilationMode\",\n",
    "        \"option_count\": 3,\n",
    "        \"mode\": \"Onehot\",\n",
    "        \"resstock_path\": None,\n",
    "        \"resstock_format\": 0,\n",
    "    },\n",
    "    \"FacadeMass\": {\n",
    "        \"name\": \"FacadeMass\",\n",
    "        \"option_count\": 4,\n",
    "        \"mode\": \"Onehot\",\n",
    "        \"resstock_path\": [\"insulation_wall\"],\n",
    "        \"resstock_format\": lambda x: wall_thermal_mass_constructions[x.split(\", \")[0]],\n",
    "    },\n",
    "    \"RoofMass\": {\n",
    "        \"name\": \"RoofMass\",\n",
    "        \"option_count\": 4,\n",
    "        \"mode\": \"Onehot\",\n",
    "        \"resstock_path\": [\"roof_material\"],\n",
    "        \"resstock_format\": lambda x: roof_thermal_mass_constructions[x],\n",
    "    },\n",
    "    \"FacadeRValue\": {\n",
    "        \"name\": \"FacadeRValue\",\n",
    "        \"min\": 0.3,\n",
    "        \"max\": 15,\n",
    "        \"mode\": \"Continuous\",\n",
    "        \"resstock_path\": [\"insulation_wall\"],\n",
    "        \"resstock_format\": lambda x: get_wall_insulation(x),\n",
    "    },\n",
    "    \"RoofRValue\": {\n",
    "        \"name\": \"RoofRValue\",\n",
    "        \"min\": 0.3,\n",
    "        \"max\": 18,\n",
    "        \"mode\": \"Continuous\",\n",
    "        \"resstock_path\": [\"insulation_roof\"],\n",
    "        \"resstock_format\": lambda x: get_wall_insulation(x),\n",
    "    },\n",
    "    \"SlabRValue\": {\n",
    "        \"name\": \"SlabRValue\",\n",
    "        \"min\": 0.3,\n",
    "        \"max\": 15,\n",
    "        \"mode\": \"Continuous\",\n",
    "        \"resstock_path\": [\n",
    "            \"insulation_slab\",\n",
    "            \"insulation_rim_joist\",\n",
    "            \"insulation_foundation_wall\",\n",
    "        ],  # Format:\n",
    "        \"resstock_format\": lambda x: get_slab_insulation(x),\n",
    "    },\n",
    "    \"WindowUValue\": {\n",
    "        \"name\": \"WindowUValue\",\n",
    "        \"min\": 0.3,\n",
    "        \"max\": 7.0,\n",
    "        \"mode\": \"Continuous\",\n",
    "        \"resstock_path\": [\"windows\"],\n",
    "        \"resstock_format\": lambda x: windows_uval[x],\n",
    "    },\n",
    "    \"WindowShgc\": {\n",
    "        \"name\": \"WindowShgc\",\n",
    "        \"min\": 0.05,\n",
    "        \"max\": 0.99,\n",
    "        \"mode\": \"Continuous\",\n",
    "        \"resstock_path\": [\"windows\"],\n",
    "        \"resstock_format\": lambda x: windows_shgc[x],\n",
    "    },\n",
    "    \"EconomizerSettings\": {\n",
    "        \"name\": \"EconomizerSettings\",\n",
    "        \"option_count\": 2,\n",
    "        \"mode\": \"Onehot\",\n",
    "        \"resstock_path\": None,\n",
    "        \"resstock_format\": 0,\n",
    "    },\n",
    "    \"ShadHeight\": {\n",
    "        \"name\": \"EconomizerSettings\",\n",
    "        \"option_count\": 2,\n",
    "        \"mode\": \"Onehot\",\n",
    "        \"resstock_path\": [\"neighbors\", \"geometry_stories\"],\n",
    "        \"resstock_format\": lambda x: get_shading_height(x),\n",
    "    },\n",
    "}"
   ]
  },
  {
   "attachments": {},
   "cell_type": "markdown",
   "metadata": {},
   "source": [
    "## Fetch data"
   ]
  },
  {
   "attachments": {},
   "cell_type": "markdown",
   "metadata": {},
   "source": [
    "### One building"
   ]
  },
  {
   "cell_type": "code",
   "execution_count": 45,
   "metadata": {},
   "outputs": [
    {
     "data": {
      "text/html": [
       "<div>\n",
       "<style scoped>\n",
       "    .dataframe tbody tr th:only-of-type {\n",
       "        vertical-align: middle;\n",
       "    }\n",
       "\n",
       "    .dataframe tbody tr th {\n",
       "        vertical-align: top;\n",
       "    }\n",
       "\n",
       "    .dataframe thead tr th {\n",
       "        text-align: left;\n",
       "    }\n",
       "\n",
       "    .dataframe thead tr:last-of-type th {\n",
       "        text-align: right;\n",
       "    }\n",
       "</style>\n",
       "<table border=\"1\" class=\"dataframe\">\n",
       "  <thead>\n",
       "    <tr>\n",
       "      <th></th>\n",
       "      <th>index</th>\n",
       "      <th>bldg_id</th>\n",
       "      <th>upgrade</th>\n",
       "      <th>weight</th>\n",
       "      <th>applicability</th>\n",
       "      <th colspan=\"5\" halign=\"left\">in</th>\n",
       "      <th>...</th>\n",
       "      <th colspan=\"3\" halign=\"left\">out</th>\n",
       "      <th colspan=\"7\" halign=\"left\">upgrade</th>\n",
       "    </tr>\n",
       "    <tr>\n",
       "      <th></th>\n",
       "      <th></th>\n",
       "      <th></th>\n",
       "      <th></th>\n",
       "      <th></th>\n",
       "      <th></th>\n",
       "      <th>sqft</th>\n",
       "      <th>ahs_region</th>\n",
       "      <th>ashrae_iecc_climate_zone_2004</th>\n",
       "      <th>ashrae_iecc_climate_zone_2004_2_a_split</th>\n",
       "      <th>bathroom_spot_vent_hour</th>\n",
       "      <th>...</th>\n",
       "      <th>emissions_reduction.all_fuels.lrmer_low_re_cost_15_2025_start.co2e_kg</th>\n",
       "      <th>emissions_reduction.all_fuels.lrmer_low_re_cost_25_2025_start.co2e_kg</th>\n",
       "      <th>emissions_reduction.all_fuels.lrmer_mid_case_15_2025_start.co2e_kg</th>\n",
       "      <th>ducts</th>\n",
       "      <th>geometry_foundation_type</th>\n",
       "      <th>insulation_ceiling</th>\n",
       "      <th>insulation_foundation_wall</th>\n",
       "      <th>insulation_rim_joist</th>\n",
       "      <th>insulation_roof</th>\n",
       "      <th>insulation_wall</th>\n",
       "    </tr>\n",
       "    <tr>\n",
       "      <th>(upgrade, infiltration_reduction)</th>\n",
       "      <th></th>\n",
       "      <th></th>\n",
       "      <th></th>\n",
       "      <th></th>\n",
       "      <th></th>\n",
       "      <th></th>\n",
       "      <th></th>\n",
       "      <th></th>\n",
       "      <th></th>\n",
       "      <th></th>\n",
       "      <th></th>\n",
       "      <th></th>\n",
       "      <th></th>\n",
       "      <th></th>\n",
       "      <th></th>\n",
       "      <th></th>\n",
       "      <th></th>\n",
       "      <th></th>\n",
       "      <th></th>\n",
       "      <th></th>\n",
       "      <th></th>\n",
       "    </tr>\n",
       "  </thead>\n",
       "  <tbody>\n",
       "    <tr>\n",
       "      <th>30%</th>\n",
       "      <td>2</td>\n",
       "      <td>239</td>\n",
       "      <td>2</td>\n",
       "      <td>242.131013</td>\n",
       "      <td>True</td>\n",
       "      <td>1690.0</td>\n",
       "      <td>Non-CBSA East South Central</td>\n",
       "      <td>3A</td>\n",
       "      <td>3A</td>\n",
       "      <td>Hour20</td>\n",
       "      <td>...</td>\n",
       "      <td>1642.907935</td>\n",
       "      <td>1410.865501</td>\n",
       "      <td>2153.747745</td>\n",
       "      <td>10% Leakage, R-8</td>\n",
       "      <td>Unvented Crawlspace</td>\n",
       "      <td>R-49</td>\n",
       "      <td>Wall R-10, Interior</td>\n",
       "      <td>R-10, Exterior</td>\n",
       "      <td>Finished, R-30</td>\n",
       "      <td>Wood Stud, R-13</td>\n",
       "    </tr>\n",
       "  </tbody>\n",
       "</table>\n",
       "<p>1 rows × 350 columns</p>\n",
       "</div>"
      ],
      "text/plain": [
       "                                  index bldg_id upgrade      weight  \\\n",
       "                                                                      \n",
       "(upgrade, infiltration_reduction)                                     \n",
       "30%                                   2     239       2  242.131013   \n",
       "\n",
       "                                  applicability      in  \\\n",
       "                                                   sqft   \n",
       "(upgrade, infiltration_reduction)                         \n",
       "30%                                        True  1690.0   \n",
       "\n",
       "                                                                \\\n",
       "                                                    ahs_region   \n",
       "(upgrade, infiltration_reduction)                                \n",
       "30%                                Non-CBSA East South Central   \n",
       "\n",
       "                                                                 \\\n",
       "                                  ashrae_iecc_climate_zone_2004   \n",
       "(upgrade, infiltration_reduction)                                 \n",
       "30%                                                          3A   \n",
       "\n",
       "                                                                           \\\n",
       "                                  ashrae_iecc_climate_zone_2004_2_a_split   \n",
       "(upgrade, infiltration_reduction)                                           \n",
       "30%                                                                    3A   \n",
       "\n",
       "                                                           ...  \\\n",
       "                                  bathroom_spot_vent_hour  ...   \n",
       "(upgrade, infiltration_reduction)                          ...   \n",
       "30%                                                Hour20  ...   \n",
       "\n",
       "                                                                                                    out  \\\n",
       "                                  emissions_reduction.all_fuels.lrmer_low_re_cost_15_2025_start.co2e_kg   \n",
       "(upgrade, infiltration_reduction)                                                                         \n",
       "30%                                                                      1642.907935                      \n",
       "\n",
       "                                                                                                         \\\n",
       "                                  emissions_reduction.all_fuels.lrmer_low_re_cost_25_2025_start.co2e_kg   \n",
       "(upgrade, infiltration_reduction)                                                                         \n",
       "30%                                                                      1410.865501                      \n",
       "\n",
       "                                                                                                      \\\n",
       "                                  emissions_reduction.all_fuels.lrmer_mid_case_15_2025_start.co2e_kg   \n",
       "(upgrade, infiltration_reduction)                                                                      \n",
       "30%                                                                      2153.747745                   \n",
       "\n",
       "                                            upgrade                           \\\n",
       "                                              ducts geometry_foundation_type   \n",
       "(upgrade, infiltration_reduction)                                              \n",
       "30%                                10% Leakage, R-8      Unvented Crawlspace   \n",
       "\n",
       "                                                      \\\n",
       "                                  insulation_ceiling   \n",
       "(upgrade, infiltration_reduction)                      \n",
       "30%                                             R-49   \n",
       "\n",
       "                                                              \\\n",
       "                                  insulation_foundation_wall   \n",
       "(upgrade, infiltration_reduction)                              \n",
       "30%                                      Wall R-10, Interior   \n",
       "\n",
       "                                                                        \\\n",
       "                                  insulation_rim_joist insulation_roof   \n",
       "(upgrade, infiltration_reduction)                                        \n",
       "30%                                     R-10, Exterior  Finished, R-30   \n",
       "\n",
       "                                                    \n",
       "                                   insulation_wall  \n",
       "(upgrade, infiltration_reduction)                   \n",
       "30%                                Wood Stud, R-13  \n",
       "\n",
       "[1 rows x 350 columns]"
      ]
     },
     "execution_count": 45,
     "metadata": {},
     "output_type": "execute_result"
    }
   ],
   "source": [
    "resstock_df.reset_index().groupby((\"upgrade\", \"infiltration_reduction\")).first()"
   ]
  },
  {
   "cell_type": "code",
   "execution_count": 46,
   "metadata": {},
   "outputs": [
    {
     "data": {
      "text/plain": [
       "{'area': 157.94392523364488,\n",
       " 'climate_zone': '3A',\n",
       " 'state': 'AL',\n",
       " 'county': 'G0100390',\n",
       " 'city': 'Not in a census Place',\n",
       " 'floors': 1,\n",
       " 'width': 3,\n",
       " 'height': 3,\n",
       " 'perim_depth': 3,\n",
       " 'core_depth': 1.127062914026045,\n",
       " 'roof_2_footprint': 1,\n",
       " 'ground_2_footprint': 1,\n",
       " 'orientation': 0.7853981633974483,\n",
       " 'wwr': 0.12,\n",
       " 'cop_cooling': 1,\n",
       " 'cop_heating': 1,\n",
       " 'HeatingSetpoint': 22.22222222222222,\n",
       " 'CoolingSetpoint': 23.88888888888889,\n",
       " 'LightingPowerDensity': 0.26,\n",
       " 'EquipmentPowerDensity': 5.918,\n",
       " 'PeopleDensity': 0.019107541510974702,\n",
       " 'Infiltration': 0.0004026633431675842,\n",
       " 'VentilationPerArea': 0,\n",
       " 'VentilationPerPerson': 0,\n",
       " 'VentilationMode': 0,\n",
       " 'FacadeMass': 0,\n",
       " 'RoofMass': 3,\n",
       " 'FacadeRValue': 1.2328284607256075,\n",
       " 'RoofRValue': 0.5,\n",
       " 'SlabRValue': 0.08805917576611483,\n",
       " 'WindowUValue': 1.64662,\n",
       " 'WindowShgc': 0.52,\n",
       " 'EconomizerSettings': 0,\n",
       " 'ShadHeight': 0.19739555984988078}"
      ]
     },
     "execution_count": 46,
     "metadata": {},
     "output_type": "execute_result"
    }
   ],
   "source": [
    "sb_config = {}\n",
    "i = 2\n",
    "for k, data in space_definition.items():\n",
    "    if data[\"resstock_path\"]:\n",
    "        if len(data[\"resstock_path\"]) == 1:\n",
    "            x = resstock_df.loc[i, (\"in\", data[\"resstock_path\"][0])]\n",
    "            y = data[\"resstock_format\"](x)\n",
    "            sb_config[k] = y\n",
    "\n",
    "        else:\n",
    "            x = []\n",
    "            # collected = []\n",
    "            for j in data[\"resstock_path\"]:\n",
    "                x.append(resstock_df.loc[i, (\"in\", j)])\n",
    "            y = data[\"resstock_format\"](x)\n",
    "\n",
    "            if k == \"Infiltration\":\n",
    "                if (\"upgrade\", \"infiltration_reduction\") in resstock_df.columns:\n",
    "                    if isinstance(\n",
    "                        resstock_df.loc[i, (\"upgrade\", \"infiltration_reduction\")], str\n",
    "                    ):\n",
    "                        assert resstock_df.loc[\n",
    "                            i, (\"upgrade\", \"infiltration_reduction\")\n",
    "                        ].startswith(\n",
    "                            \"30\"\n",
    "                        ), \"Looks like a value other than 30 comes up in some other upgrade package!\"\n",
    "                        y = y * 0.7\n",
    "            sb_config[k] = y\n",
    "\n",
    "    else:\n",
    "        sb_config[k] = data[\"resstock_format\"]\n",
    "sb_config"
   ]
  },
  {
   "cell_type": "code",
   "execution_count": 47,
   "metadata": {},
   "outputs": [],
   "source": [
    "for col in resstock_df[\"in\"].columns:\n",
    "    if col in resstock_df.upgrade.columns:\n",
    "        is_upgrading = resstock_df.upgrade[col].notna()\n",
    "        resstock_df.loc[is_upgrading, (\"in\", col)] = resstock_df.loc[\n",
    "            is_upgrading, (\"upgrade\", col)\n",
    "        ]"
   ]
  },
  {
   "attachments": {},
   "cell_type": "markdown",
   "metadata": {},
   "source": [
    "### All buildings"
   ]
  },
  {
   "cell_type": "code",
   "execution_count": 49,
   "metadata": {},
   "outputs": [
    {
     "data": {
      "application/json": {
       "ascii": false,
       "bar_format": null,
       "colour": null,
       "elapsed": 0.0020003318786621094,
       "initial": 0,
       "n": 0,
       "ncols": null,
       "nrows": null,
       "postfix": null,
       "prefix": "",
       "rate": null,
       "total": 548917,
       "unit": "it",
       "unit_divisor": 1000,
       "unit_scale": false
      },
      "application/vnd.jupyter.widget-view+json": {
       "model_id": "738b353d58e948f4ba61c0c706ae6044",
       "version_major": 2,
       "version_minor": 0
      },
      "text/plain": [
       "  0%|          | 0/548917 [00:00<?, ?it/s]"
      ]
     },
     "metadata": {},
     "output_type": "display_data"
    }
   ],
   "source": [
    "sb_data = []\n",
    "for i, row in tqdm(resstock_df.iterrows(), total=resstock_df.shape[0]):\n",
    "    sb_config = {}\n",
    "    sb_config[\"building_id\"] = row[\"bldg_id\"].iloc[0]\n",
    "    for k, data in space_definition.items():\n",
    "        if data[\"resstock_path\"]:\n",
    "            if len(data[\"resstock_path\"]) == 1:\n",
    "                x = row[(\"in\", data[\"resstock_path\"][0])]\n",
    "                y = data[\"resstock_format\"](x)\n",
    "                sb_config[k] = y\n",
    "\n",
    "            else:\n",
    "                x = []\n",
    "                # collected = []\n",
    "                for j in data[\"resstock_path\"]:\n",
    "                    x.append(row[(\"in\", j)])\n",
    "                y = data[\"resstock_format\"](x)\n",
    "\n",
    "                if k == \"Infiltration\":\n",
    "                    if (\"upgrade\", \"infiltration_reduction\") in resstock_df.columns:\n",
    "                        if isinstance(\n",
    "                            row[(\"upgrade\", \"infiltration_reduction\")],\n",
    "                            str,\n",
    "                        ):\n",
    "                            # assert resstock_df.loc[\n",
    "                            #     i, (\"upgrade\", \"infiltration_reduction\")\n",
    "                            # ].startswith(\n",
    "                            #     \"30\"\n",
    "                            # ), \"Looks like a value other than 30 comes up in some other upgrade package!\"\n",
    "                            y = y * 0.7\n",
    "                sb_config[k] = y\n",
    "\n",
    "        else:\n",
    "            sb_config[k] = data[\"resstock_format\"]\n",
    "    sb_data.append(sb_config)\n",
    "\n",
    "all_data = pd.DataFrame.from_dict(sb_data)\n",
    "\n",
    "all_data[\"results\"] = all_data.apply(\n",
    "    lambda x: results_str_formatter(\n",
    "        x[\"state\"], x[\"building_id\"], upgrade_state=upgrade_state\n",
    "    ),\n",
    "    axis=1,\n",
    ")\n",
    "all_data[\"epw\"] = all_data.apply(\n",
    "    lambda x: epw_str_formatter(x[\"state\"], x[\"county\"], amy_year), axis=1\n",
    ")\n",
    "all_data.to_hdf(resstock_output_path, key=\"features\", mode=\"w\")"
   ]
  },
  {
   "cell_type": "code",
   "execution_count": 50,
   "metadata": {},
   "outputs": [
    {
     "data": {
      "text/plain": [
       "<Axes: >"
      ]
     },
     "execution_count": 50,
     "metadata": {},
     "output_type": "execute_result"
    },
    {
     "data": {
      "image/png": "[encoded data removed]",
      "text/plain": [
       "<Figure size 640x480 with 1 Axes>"
      ]
     },
     "metadata": {},
     "output_type": "display_data"
    }
   ],
   "source": [
    "all_data.Infiltration.hist()"
   ]
  },
  {
   "cell_type": "code",
   "execution_count": 12,
   "metadata": {},
   "outputs": [
    {
     "data": {
      "text/plain": [
       "<Axes: >"
      ]
     },
     "execution_count": 12,
     "metadata": {},
     "output_type": "execute_result"
    },
    {
     "data": {
      "image/png": "[encoded data removed]",
      "text/plain": [
       "<Figure size 640x480 with 1 Axes>"
      ]
     },
     "metadata": {},
     "output_type": "display_data"
    }
   ],
   "source": [
    "all_data.Infiltration.hist()"
   ]
  }
 ],
 "metadata": {
  "kernelspec": {
   "display_name": "ml-for-bem",
   "language": "python",
   "name": "python3"
  },
  "language_info": {
   "codemirror_mode": {
    "name": "ipython",
    "version": 3
   },
   "file_extension": ".py",
   "mimetype": "text/x-python",
   "name": "python",
   "nbconvert_exporter": "python",
   "pygments_lexer": "ipython3",
   "version": "3.8.17"
  },
  "orig_nbformat": 4
 },
 "nbformat": 4,
 "nbformat_minor": 2
}
