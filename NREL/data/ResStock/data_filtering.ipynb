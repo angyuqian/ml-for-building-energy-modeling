{
 "cells": [
  {
   "attachments": {},
   "cell_type": "markdown",
   "metadata": {},
   "source": [
    "## Setup & Imports"
   ]
  },
  {
   "cell_type": "code",
   "execution_count": 2,
   "metadata": {},
   "outputs": [],
   "source": [
    "import pandas as pd\n",
    "import numpy as np\n",
    "\n",
    "import geopy\n",
    "from geopy.geocoders import Nominatim\n",
    "from geopy.extra.rate_limiter import RateLimiter\n",
    "import plotly.express as px\n",
    "import geopandas as gpd\n",
    "\n",
    "import matplotlib.pyplot as plt\n",
    "import seaborn as sns\n",
    "sns.set(style=\"darkgrid\")"
   ]
  },
  {
   "attachments": {},
   "cell_type": "markdown",
   "metadata": {},
   "source": [
    "## Exploring the data"
   ]
  },
  {
   "cell_type": "code",
   "execution_count": 3,
   "metadata": {},
   "outputs": [
    {
     "data": {
      "text/html": [
       "<div>\n",
       "<style scoped>\n",
       "    .dataframe tbody tr th:only-of-type {\n",
       "        vertical-align: middle;\n",
       "    }\n",
       "\n",
       "    .dataframe tbody tr th {\n",
       "        vertical-align: top;\n",
       "    }\n",
       "\n",
       "    .dataframe thead th {\n",
       "        text-align: right;\n",
       "    }\n",
       "</style>\n",
       "<table border=\"1\" class=\"dataframe\">\n",
       "  <thead>\n",
       "    <tr style=\"text-align: right;\">\n",
       "      <th></th>\n",
       "      <th>Building</th>\n",
       "      <th>Schedules</th>\n",
       "      <th>Usage Level</th>\n",
       "      <th>Orientation</th>\n",
       "      <th>Eaves</th>\n",
       "      <th>Door Area</th>\n",
       "      <th>Overhangs</th>\n",
       "      <th>Interior Shading</th>\n",
       "      <th>Doors</th>\n",
       "      <th>Hot Water Fixtures</th>\n",
       "      <th>...</th>\n",
       "      <th>Federal Poverty Level</th>\n",
       "      <th>Window Areas</th>\n",
       "      <th>Insulation Ceiling</th>\n",
       "      <th>Insulation Roof</th>\n",
       "      <th>Insulation Wall</th>\n",
       "      <th>HVAC Cooling Partial Space Conditioning</th>\n",
       "      <th>Infiltration</th>\n",
       "      <th>REEDS Balancing Area</th>\n",
       "      <th>Generation And Emissions Assessment Region</th>\n",
       "      <th>City</th>\n",
       "    </tr>\n",
       "  </thead>\n",
       "  <tbody>\n",
       "    <tr>\n",
       "      <th>0</th>\n",
       "      <td>1</td>\n",
       "      <td>Stochastic</td>\n",
       "      <td>Medium</td>\n",
       "      <td>West</td>\n",
       "      <td>2 ft</td>\n",
       "      <td>20 ft^2</td>\n",
       "      <td>None</td>\n",
       "      <td>Summer = 0.7, Winter = 0.85</td>\n",
       "      <td>Fiberglass</td>\n",
       "      <td>100% Usage</td>\n",
       "      <td>...</td>\n",
       "      <td>0-100%</td>\n",
       "      <td>F15 B15 L15 R15</td>\n",
       "      <td>None</td>\n",
       "      <td>Finished, R-13</td>\n",
       "      <td>Wood Stud, Uninsulated</td>\n",
       "      <td>100% Conditioned</td>\n",
       "      <td>15 ACH50</td>\n",
       "      <td>10</td>\n",
       "      <td>CAMXc</td>\n",
       "      <td>CA, Los Angeles</td>\n",
       "    </tr>\n",
       "    <tr>\n",
       "      <th>1</th>\n",
       "      <td>2</td>\n",
       "      <td>Stochastic</td>\n",
       "      <td>High</td>\n",
       "      <td>Northeast</td>\n",
       "      <td>2 ft</td>\n",
       "      <td>20 ft^2</td>\n",
       "      <td>None</td>\n",
       "      <td>Summer = 0.7, Winter = 0.85</td>\n",
       "      <td>Fiberglass</td>\n",
       "      <td>200% Usage</td>\n",
       "      <td>...</td>\n",
       "      <td>400%+</td>\n",
       "      <td>F15 B15 L15 R15</td>\n",
       "      <td>R-38</td>\n",
       "      <td>Unfinished, Uninsulated</td>\n",
       "      <td>Wood Stud, R-15</td>\n",
       "      <td>100% Conditioned</td>\n",
       "      <td>15 ACH50</td>\n",
       "      <td>101</td>\n",
       "      <td>FRCCc</td>\n",
       "      <td>Not in a census Place</td>\n",
       "    </tr>\n",
       "    <tr>\n",
       "      <th>2</th>\n",
       "      <td>3</td>\n",
       "      <td>Stochastic</td>\n",
       "      <td>Medium</td>\n",
       "      <td>North</td>\n",
       "      <td>2 ft</td>\n",
       "      <td>20 ft^2</td>\n",
       "      <td>None</td>\n",
       "      <td>Summer = 0.7, Winter = 0.85</td>\n",
       "      <td>Fiberglass</td>\n",
       "      <td>100% Usage</td>\n",
       "      <td>...</td>\n",
       "      <td>400%+</td>\n",
       "      <td>F12 B12 L12 R12</td>\n",
       "      <td>None</td>\n",
       "      <td>Finished, R-30</td>\n",
       "      <td>Wood Stud, Uninsulated</td>\n",
       "      <td>60% Conditioned</td>\n",
       "      <td>25 ACH50</td>\n",
       "      <td>127</td>\n",
       "      <td>NYSTc</td>\n",
       "      <td>NY, New York</td>\n",
       "    </tr>\n",
       "    <tr>\n",
       "      <th>3</th>\n",
       "      <td>4</td>\n",
       "      <td>Stochastic</td>\n",
       "      <td>Medium</td>\n",
       "      <td>West</td>\n",
       "      <td>2 ft</td>\n",
       "      <td>20 ft^2</td>\n",
       "      <td>None</td>\n",
       "      <td>Summer = 0.7, Winter = 0.85</td>\n",
       "      <td>Fiberglass</td>\n",
       "      <td>100% Usage</td>\n",
       "      <td>...</td>\n",
       "      <td>300-400%</td>\n",
       "      <td>F9 B9 L9 R9</td>\n",
       "      <td>R-30</td>\n",
       "      <td>Unfinished, Uninsulated</td>\n",
       "      <td>Brick, 12-in, 3-wythe, R-15</td>\n",
       "      <td>100% Conditioned</td>\n",
       "      <td>10 ACH50</td>\n",
       "      <td>101</td>\n",
       "      <td>FRCCc</td>\n",
       "      <td>FL, Lehigh Acres</td>\n",
       "    </tr>\n",
       "    <tr>\n",
       "      <th>4</th>\n",
       "      <td>5</td>\n",
       "      <td>Stochastic</td>\n",
       "      <td>Medium</td>\n",
       "      <td>Southeast</td>\n",
       "      <td>2 ft</td>\n",
       "      <td>20 ft^2</td>\n",
       "      <td>None</td>\n",
       "      <td>Summer = 0.7, Winter = 0.85</td>\n",
       "      <td>Fiberglass</td>\n",
       "      <td>100% Usage</td>\n",
       "      <td>...</td>\n",
       "      <td>400%+</td>\n",
       "      <td>F12 B12 L12 R12</td>\n",
       "      <td>R-30</td>\n",
       "      <td>Unfinished, Uninsulated</td>\n",
       "      <td>Wood Stud, R-19</td>\n",
       "      <td>100% Conditioned</td>\n",
       "      <td>7 ACH50</td>\n",
       "      <td>9</td>\n",
       "      <td>CAMXc</td>\n",
       "      <td>CA, Tracy</td>\n",
       "    </tr>\n",
       "  </tbody>\n",
       "</table>\n",
       "<p>5 rows × 134 columns</p>\n",
       "</div>"
      ],
      "text/plain": [
       "   Building   Schedules Usage Level Orientation Eaves Door Area Overhangs  \\\n",
       "0         1  Stochastic      Medium        West  2 ft   20 ft^2      None   \n",
       "1         2  Stochastic        High   Northeast  2 ft   20 ft^2      None   \n",
       "2         3  Stochastic      Medium       North  2 ft   20 ft^2      None   \n",
       "3         4  Stochastic      Medium        West  2 ft   20 ft^2      None   \n",
       "4         5  Stochastic      Medium   Southeast  2 ft   20 ft^2      None   \n",
       "\n",
       "              Interior Shading       Doors Hot Water Fixtures  ...  \\\n",
       "0  Summer = 0.7, Winter = 0.85  Fiberglass         100% Usage  ...   \n",
       "1  Summer = 0.7, Winter = 0.85  Fiberglass         200% Usage  ...   \n",
       "2  Summer = 0.7, Winter = 0.85  Fiberglass         100% Usage  ...   \n",
       "3  Summer = 0.7, Winter = 0.85  Fiberglass         100% Usage  ...   \n",
       "4  Summer = 0.7, Winter = 0.85  Fiberglass         100% Usage  ...   \n",
       "\n",
       "  Federal Poverty Level     Window Areas Insulation Ceiling  \\\n",
       "0                0-100%  F15 B15 L15 R15               None   \n",
       "1                 400%+  F15 B15 L15 R15               R-38   \n",
       "2                 400%+  F12 B12 L12 R12               None   \n",
       "3              300-400%      F9 B9 L9 R9               R-30   \n",
       "4                 400%+  F12 B12 L12 R12               R-30   \n",
       "\n",
       "           Insulation Roof              Insulation Wall  \\\n",
       "0           Finished, R-13       Wood Stud, Uninsulated   \n",
       "1  Unfinished, Uninsulated              Wood Stud, R-15   \n",
       "2           Finished, R-30       Wood Stud, Uninsulated   \n",
       "3  Unfinished, Uninsulated  Brick, 12-in, 3-wythe, R-15   \n",
       "4  Unfinished, Uninsulated              Wood Stud, R-19   \n",
       "\n",
       "  HVAC Cooling Partial Space Conditioning Infiltration REEDS Balancing Area  \\\n",
       "0                        100% Conditioned     15 ACH50                   10   \n",
       "1                        100% Conditioned     15 ACH50                  101   \n",
       "2                         60% Conditioned     25 ACH50                  127   \n",
       "3                        100% Conditioned     10 ACH50                  101   \n",
       "4                        100% Conditioned      7 ACH50                    9   \n",
       "\n",
       "  Generation And Emissions Assessment Region                   City  \n",
       "0                                      CAMXc        CA, Los Angeles  \n",
       "1                                      FRCCc  Not in a census Place  \n",
       "2                                      NYSTc           NY, New York  \n",
       "3                                      FRCCc       FL, Lehigh Acres  \n",
       "4                                      CAMXc              CA, Tracy  \n",
       "\n",
       "[5 rows x 134 columns]"
      ]
     },
     "execution_count": 3,
     "metadata": {},
     "output_type": "execute_result"
    }
   ],
   "source": [
    "nrel_out_df = pd.read_csv(\"buildstock_national.csv\")\n",
    "nrel_out_df.head()"
   ]
  },
  {
   "cell_type": "code",
   "execution_count": 19,
   "metadata": {},
   "outputs": [
    {
     "data": {
      "text/html": [
       "<div>\n",
       "<style scoped>\n",
       "    .dataframe tbody tr th:only-of-type {\n",
       "        vertical-align: middle;\n",
       "    }\n",
       "\n",
       "    .dataframe tbody tr th {\n",
       "        vertical-align: top;\n",
       "    }\n",
       "\n",
       "    .dataframe thead th {\n",
       "        text-align: right;\n",
       "    }\n",
       "</style>\n",
       "<table border=\"1\" class=\"dataframe\">\n",
       "  <thead>\n",
       "    <tr style=\"text-align: right;\">\n",
       "      <th></th>\n",
       "      <th>output</th>\n",
       "      <th>dependencies</th>\n",
       "      <th>selection</th>\n",
       "    </tr>\n",
       "  </thead>\n",
       "  <tbody>\n",
       "    <tr>\n",
       "      <th>0</th>\n",
       "      <td>HVAC Heating Type</td>\n",
       "      <td>['ASHRAE IECC Climate Zone 2004 - 2A Split', '...</td>\n",
       "      <td>4</td>\n",
       "    </tr>\n",
       "    <tr>\n",
       "      <th>1</th>\n",
       "      <td>Window Areas</td>\n",
       "      <td>['Geometry Building Type Height']</td>\n",
       "      <td>0</td>\n",
       "    </tr>\n",
       "    <tr>\n",
       "      <th>2</th>\n",
       "      <td>ASHRAE IECC Climate Zone 2004</td>\n",
       "      <td>[]</td>\n",
       "      <td>3</td>\n",
       "    </tr>\n",
       "    <tr>\n",
       "      <th>3</th>\n",
       "      <td>Geometry Building Type ACS</td>\n",
       "      <td>['PUMA']</td>\n",
       "      <td>3</td>\n",
       "    </tr>\n",
       "    <tr>\n",
       "      <th>4</th>\n",
       "      <td>Vintage</td>\n",
       "      <td>['Geometry Building Type ACS', 'PUMA']</td>\n",
       "      <td>3</td>\n",
       "    </tr>\n",
       "  </tbody>\n",
       "</table>\n",
       "</div>"
      ],
      "text/plain": [
       "                          output  \\\n",
       "0              HVAC Heating Type   \n",
       "1                   Window Areas   \n",
       "2  ASHRAE IECC Climate Zone 2004   \n",
       "3     Geometry Building Type ACS   \n",
       "4                        Vintage   \n",
       "\n",
       "                                        dependencies  selection  \n",
       "0  ['ASHRAE IECC Climate Zone 2004 - 2A Split', '...          4  \n",
       "1                  ['Geometry Building Type Height']          0  \n",
       "2                                                 []          3  \n",
       "3                                           ['PUMA']          3  \n",
       "4             ['Geometry Building Type ACS', 'PUMA']          3  "
      ]
     },
     "execution_count": 19,
     "metadata": {},
     "output_type": "execute_result"
    }
   ],
   "source": [
    "nrel_selectors = pd.read_csv(\"resstock_outputs_dependents.csv\")\n",
    "nrel_selectors = nrel_selectors[['output', 'dependencies', 'selection']]\n",
    "nrel_selectors.head()"
   ]
  },
  {
   "cell_type": "code",
   "execution_count": 20,
   "metadata": {},
   "outputs": [],
   "source": [
    "columns = nrel_selectors[nrel_selectors['selection']>0]['output'].tolist()\n",
    "nrel_filtered_df = nrel_out_df[columns]\n",
    "# Remove factors we are sampling by hand\n",
    "nrel_filtered_df = nrel_filtered_df.filter(regex=\"^((?!Insulation|Material|Wall|Occupants|ACS).)*$\")\n",
    "# Drop entries with no city\n",
    "nrel_filtered_df = nrel_filtered_df[\n",
    "    (nrel_filtered_df['City']!=\"Not in a census Place\") & \n",
    "    (nrel_filtered_df['City']!=\"In another census Place\") & \n",
    "    (nrel_filtered_df['City']!=\"Balance\")] #.reset_index(drop=True)"
   ]
  },
  {
   "cell_type": "code",
   "execution_count": 21,
   "metadata": {},
   "outputs": [
    {
     "name": "stdout",
     "output_type": "stream",
     "text": [
      "(608, 13)\n",
      "(608, 13)\n"
     ]
    }
   ],
   "source": [
    "print(nrel_filtered_df.shape)\n",
    "nrel_filtered_df = nrel_filtered_df.drop_duplicates() #.reset_index(drop=True)\n",
    "print(nrel_filtered_df.shape)"
   ]
  },
  {
   "cell_type": "code",
   "execution_count": 140,
   "metadata": {},
   "outputs": [
    {
     "data": {
      "text/html": [
       "<div>\n",
       "<style scoped>\n",
       "    .dataframe tbody tr th:only-of-type {\n",
       "        vertical-align: middle;\n",
       "    }\n",
       "\n",
       "    .dataframe tbody tr th {\n",
       "        vertical-align: top;\n",
       "    }\n",
       "\n",
       "    .dataframe thead th {\n",
       "        text-align: right;\n",
       "    }\n",
       "</style>\n",
       "<table border=\"1\" class=\"dataframe\">\n",
       "  <thead>\n",
       "    <tr style=\"text-align: right;\">\n",
       "      <th></th>\n",
       "      <th>HVAC Heating Type</th>\n",
       "      <th>ASHRAE IECC Climate Zone 2004</th>\n",
       "      <th>Vintage</th>\n",
       "      <th>Geometry Building Type RECS</th>\n",
       "      <th>Heating Fuel</th>\n",
       "      <th>Windows</th>\n",
       "      <th>Water Heater Fuel</th>\n",
       "      <th>HVAC Cooling Type</th>\n",
       "      <th>HVAC Heating Type And Fuel</th>\n",
       "      <th>Infiltration</th>\n",
       "      <th>City</th>\n",
       "    </tr>\n",
       "  </thead>\n",
       "  <tbody>\n",
       "    <tr>\n",
       "      <th>0</th>\n",
       "      <td>Ducted Heating</td>\n",
       "      <td>3B</td>\n",
       "      <td>&lt;1940</td>\n",
       "      <td>Multi-Family with 5+ Units</td>\n",
       "      <td>Natural Gas</td>\n",
       "      <td>Single, Clear, Non-metal</td>\n",
       "      <td>Natural Gas</td>\n",
       "      <td>Central AC</td>\n",
       "      <td>Natural Gas Shared Heating</td>\n",
       "      <td>15 ACH50</td>\n",
       "      <td>CA, Los Angeles</td>\n",
       "    </tr>\n",
       "    <tr>\n",
       "      <th>2</th>\n",
       "      <td>Non-Ducted Heating</td>\n",
       "      <td>4A</td>\n",
       "      <td>&lt;1940</td>\n",
       "      <td>Multi-Family with 2 - 4 Units</td>\n",
       "      <td>Natural Gas</td>\n",
       "      <td>Double, Clear, Metal, Air</td>\n",
       "      <td>Natural Gas</td>\n",
       "      <td>Room AC</td>\n",
       "      <td>Natural Gas Fuel Boiler</td>\n",
       "      <td>25 ACH50</td>\n",
       "      <td>NY, New York</td>\n",
       "    </tr>\n",
       "    <tr>\n",
       "      <th>3</th>\n",
       "      <td>Ducted Heat Pump</td>\n",
       "      <td>2A</td>\n",
       "      <td>2000s</td>\n",
       "      <td>Single-Family Detached</td>\n",
       "      <td>Electricity</td>\n",
       "      <td>Double, Clear, Non-metal, Air, Exterior Clear ...</td>\n",
       "      <td>Electricity</td>\n",
       "      <td>Heat Pump</td>\n",
       "      <td>Electricity ASHP</td>\n",
       "      <td>10 ACH50</td>\n",
       "      <td>FL, Lehigh Acres</td>\n",
       "    </tr>\n",
       "    <tr>\n",
       "      <th>4</th>\n",
       "      <td>Ducted Heating</td>\n",
       "      <td>3B</td>\n",
       "      <td>2000s</td>\n",
       "      <td>Single-Family Detached</td>\n",
       "      <td>Natural Gas</td>\n",
       "      <td>Double, Low-E, Non-metal, Air, M-Gain</td>\n",
       "      <td>Natural Gas</td>\n",
       "      <td>Central AC</td>\n",
       "      <td>Natural Gas Fuel Furnace</td>\n",
       "      <td>7 ACH50</td>\n",
       "      <td>CA, Tracy</td>\n",
       "    </tr>\n",
       "    <tr>\n",
       "      <th>9</th>\n",
       "      <td>Ducted Heating</td>\n",
       "      <td>4A</td>\n",
       "      <td>&lt;1940</td>\n",
       "      <td>Single-Family Detached</td>\n",
       "      <td>Natural Gas</td>\n",
       "      <td>Single, Clear, Non-metal</td>\n",
       "      <td>Natural Gas</td>\n",
       "      <td>Central AC</td>\n",
       "      <td>Natural Gas Fuel Furnace</td>\n",
       "      <td>10 ACH50</td>\n",
       "      <td>MO, St Louis</td>\n",
       "    </tr>\n",
       "  </tbody>\n",
       "</table>\n",
       "</div>"
      ],
      "text/plain": [
       "    HVAC Heating Type ASHRAE IECC Climate Zone 2004 Vintage  \\\n",
       "0      Ducted Heating                            3B   <1940   \n",
       "2  Non-Ducted Heating                            4A   <1940   \n",
       "3    Ducted Heat Pump                            2A   2000s   \n",
       "4      Ducted Heating                            3B   2000s   \n",
       "9      Ducted Heating                            4A   <1940   \n",
       "\n",
       "     Geometry Building Type RECS Heating Fuel  \\\n",
       "0     Multi-Family with 5+ Units  Natural Gas   \n",
       "2  Multi-Family with 2 - 4 Units  Natural Gas   \n",
       "3         Single-Family Detached  Electricity   \n",
       "4         Single-Family Detached  Natural Gas   \n",
       "9         Single-Family Detached  Natural Gas   \n",
       "\n",
       "                                             Windows Water Heater Fuel  \\\n",
       "0                           Single, Clear, Non-metal       Natural Gas   \n",
       "2                          Double, Clear, Metal, Air       Natural Gas   \n",
       "3  Double, Clear, Non-metal, Air, Exterior Clear ...       Electricity   \n",
       "4              Double, Low-E, Non-metal, Air, M-Gain       Natural Gas   \n",
       "9                           Single, Clear, Non-metal       Natural Gas   \n",
       "\n",
       "  HVAC Cooling Type  HVAC Heating Type And Fuel Infiltration              City  \n",
       "0        Central AC  Natural Gas Shared Heating     15 ACH50   CA, Los Angeles  \n",
       "2           Room AC     Natural Gas Fuel Boiler     25 ACH50      NY, New York  \n",
       "3         Heat Pump            Electricity ASHP     10 ACH50  FL, Lehigh Acres  \n",
       "4        Central AC    Natural Gas Fuel Furnace      7 ACH50         CA, Tracy  \n",
       "9        Central AC    Natural Gas Fuel Furnace     10 ACH50      MO, St Louis  "
      ]
     },
     "execution_count": 140,
     "metadata": {},
     "output_type": "execute_result"
    }
   ],
   "source": [
    "nrel_filtered_df.head()"
   ]
  },
  {
   "attachments": {},
   "cell_type": "markdown",
   "metadata": {},
   "source": [
    "### Some visualizations"
   ]
  },
  {
   "cell_type": "code",
   "execution_count": 99,
   "metadata": {},
   "outputs": [
    {
     "name": "stdout",
     "output_type": "stream",
     "text": [
      "There are 397 individual cities\n"
     ]
    }
   ],
   "source": [
    "print(f\"There are {len(nrel_filtered_df['City'].unique())} individual cities\")"
   ]
  },
  {
   "cell_type": "code",
   "execution_count": 100,
   "metadata": {},
   "outputs": [
    {
     "data": {
      "text/plain": [
       "<AxesSubplot: xlabel='ASHRAE IECC Climate Zone 2004', ylabel='Count'>"
      ]
     },
     "execution_count": 100,
     "metadata": {},
     "output_type": "execute_result"
    },
    {
     "data": {
      "image/png": "[encoded data removed]",
      "text/plain": [
       "<Figure size 432x288 with 1 Axes>"
      ]
     },
     "metadata": {},
     "output_type": "display_data"
    }
   ],
   "source": [
    "sns.histplot(nrel_filtered_df['ASHRAE IECC Climate Zone 2004'], kde=True)"
   ]
  },
  {
   "cell_type": "code",
   "execution_count": 116,
   "metadata": {},
   "outputs": [
    {
     "name": "stdout",
     "output_type": "stream",
     "text": [
      "IN, Indianapolis City Balance\n",
      "TN, Nashville-Davidson Metropolitan Government Balance\n",
      "KY, Louisville Jefferson County Metro Government Balance\n",
      "GA, Athens-Clarke County Unified Government Balance\n",
      "GA, Augusta-Richmond County Consolidated Government Balance\n"
     ]
    }
   ],
   "source": [
    "geolocator = Nominatim(user_agent=\"ml-for-energy\")\n",
    "lats = []\n",
    "longs = []\n",
    "cities = []\n",
    "cities_to_drop = []\n",
    "for i, city in enumerate(nrel_filtered_df['City'].unique()):\n",
    "    # print(city)\n",
    "    geocode = RateLimiter(geolocator.geocode, min_delay_seconds = 1,   return_value_on_exception = None)\n",
    "    loc = geocode(city)\n",
    "    # print(loc.raw)\n",
    "    try:\n",
    "        lats.append(loc.raw['lat'])\n",
    "        longs.append(loc.raw['lon'])\n",
    "        cities.append(city)\n",
    "    except:\n",
    "        print(city)\n",
    "        cities_to_drop.append(city)\n"
   ]
  },
  {
   "cell_type": "code",
   "execution_count": 94,
   "metadata": {},
   "outputs": [],
   "source": [
    "# Drop rows with \"Balance\"\n",
    "# nrel_out_df = nrel_out_df.drop(nrel_out_df[nrel_out_df['City'].str.contains(\"Balance\")].index)"
   ]
  },
  {
   "cell_type": "code",
   "execution_count": 127,
   "metadata": {},
   "outputs": [
    {
     "name": "stdout",
     "output_type": "stream",
     "text": [
      "392\n"
     ]
    }
   ],
   "source": [
    "print(len(lats))"
   ]
  },
  {
   "cell_type": "code",
   "execution_count": 133,
   "metadata": {},
   "outputs": [
    {
     "data": {
      "application/vnd.plotly.v1+json": {
       "config": {
        "plotlyServerURL": "https://plot.ly",
        "toImageButtonOptions": {
         "filename": "custom_image",
         "format": "png",
         "height": 1800,
         "width": 1800
        }
       },
       "data": [
        {
         "geo": "geo",
         "hovertemplate": "lat=%{lat}<br>lon=%{lon}<extra></extra>",
         "lat": [
          "34.0536909",
          "40.7127281",
          "26.6091509",
          "37.7385507",
          "38.6280278",
          "29.7589382",
          "33.6170092",
          "36.1563122",
          "39.6895036",
          "42.9632405",
          "34.02332",
          "47.9793437",
          "39.2908816",
          "40.7985464",
          "35.1987522",
          "43.0166806",
          "39.9527237",
          "34.4221319",
          "38.8339578",
          "26.1275862",
          "41.3082138",
          "34.7465071",
          "38.1040864",
          "38.9742502",
          "41.8755616",
          "47.6571934",
          "41.1035786",
          "36.1150858",
          "36.1672559",
          "27.9477595",
          "29.2108147",
          "32.9537349",
          "32.9481789",
          "38.8769326",
          "42.8501191",
          "35.0841034",
          "32.7762719",
          "41.0799898",
          "37.3893889",
          "42.498275",
          "40.4416941",
          "35.3784666",
          "35.2272086",
          "40.4233142",
          "26.271192",
          "43.0349931",
          "35.4495097",
          "39.1014537",
          "42.7656251",
          "28.0197404",
          "36.2005843",
          "26.1907543",
          "47.9078244",
          "41.5644476",
          "43.157285",
          "44.9497487",
          "30.5955289",
          "35.042036",
          "26.6059432",
          "28.106471",
          "42.3315509",
          "26.8233946",
          "34.851354",
          "39.579155",
          "42.2625621",
          "42.6829765",
          "34.1033192",
          "38.8950368",
          "41.2587459",
          "41.7809588",
          "40.0149856",
          "33.4484367",
          "38.0400864",
          "36.1111405",
          "34.3916641",
          "46.601557",
          "36.7394421",
          "37.3361663",
          "47.6038321",
          "44.0806041",
          "42.4969652",
          "25.7741728",
          "33.5206824",
          "43.0116784",
          "32.5007031",
          "35.6571367",
          "36.0301134",
          "32.7174202",
          "25.7929198",
          "47.4799078",
          "31.8457149",
          "35.3738712",
          "25.9812025",
          "41.43565975",
          "32.5369356",
          "38.3348728",
          "41.8455398",
          "40.5508527",
          "40.6061337",
          "38.2544472",
          "28.5421109",
          "44.8322405",
          "37.0300969",
          "37.2333253",
          "40.1053196",
          "34.0194704",
          "44.9772995",
          "36.0726355",
          "32.8406946",
          "28.0856815",
          "41.6020962",
          "47.5048851",
          "27.7703796",
          "42.36837",
          "35.6009498",
          "34.6981064",
          "33.7475203",
          "39.7392364",
          "35.1460249",
          "40.9115386",
          "39.9234046",
          "45.0082216",
          "27.2939333",
          "33.8347516",
          "38.8051095",
          "30.0860459",
          "44.9475726",
          "37.6922361",
          "27.9946969",
          "33.6169035",
          "39.5404679",
          "33.4942189",
          "41.1779095",
          "46.877229",
          "32.665135",
          "33.6633386",
          "36.9775016",
          "45.0065149",
          "40.2981599",
          "41.9758872",
          "42.3095704",
          "38.092239500000005",
          "26.715364",
          "45.7874957",
          "42.1018764",
          "39.7990175",
          "33.5386858",
          "43.0161693",
          "33.4151005",
          "29.4246002",
          "35.996653",
          "41.139981",
          "42.2713945",
          "37.7790262",
          "26.0112014",
          "34.9248667",
          "40.7215682",
          "33.1775233",
          "29.6519684",
          "35.4729886",
          "41.3822398",
          "35.925206",
          "33.1976496",
          "33.7578725",
          "39.5261206",
          "33.1505998",
          "30.3674198",
          "38.95967995",
          "35.7882893",
          "39.9622601",
          "40.6938609",
          "32.753177",
          "44.7670567",
          "30.2711286",
          "38.545379",
          "39.1670396",
          "26.318342",
          "32.3669656",
          "33.6856969",
          "39.100105",
          "41.6529143",
          "32.297853",
          "40.75839",
          "38.7535106",
          "32.7355816",
          "34.1469416",
          "42.291707",
          "25.9564812",
          "39.7085736",
          "39.0817985",
          "36.8448348",
          "42.8867166",
          "36.0998131",
          "41.0956718",
          "43.8122836",
          "39.2085354",
          "45.5202471",
          "44.0206919",
          "33.8901096",
          "33.0369867",
          "35.2072185",
          "34.729847",
          "28.483576",
          "34.1705609",
          "47.2455013",
          "37.0841838",
          "31.7550511",
          "37.7249296",
          "43.0481221",
          "40.7596198",
          "33.7489924",
          "35.9603948",
          "39.017316",
          "33.6864432",
          "44.0581728",
          "29.9759983",
          "32.4610708",
          "32.6098566",
          "41.5388115",
          "36.8529841",
          "47.0451022",
          "36.5277607",
          "26.339806",
          "39.063956",
          "44.0505054",
          "33.8455911",
          "46.7729322",
          "40.8088861",
          "27.044224",
          "37.8708393",
          "32.4707862",
          "42.0987125",
          "37.5385087",
          "41.4996574",
          "44.5126379",
          "47.6571104",
          "44.8546856",
          "35.0525759",
          "43.074761",
          "32.8795022",
          "46.8701049",
          "27.9658533",
          "40.4167022",
          "43.5488256",
          "32.2228765",
          "33.9463786",
          "36.1830875",
          "42.4853125",
          "42.1487691",
          "43.7128967",
          "26.2517482",
          "37.104153",
          "41.1947276",
          "33.6783336",
          "35.2521996",
          "33.5225261",
          "32.3231877",
          "40.1164841",
          "38.8769326",
          "44.6365071",
          "32.3086744",
          "32.0564572",
          "37.6820583",
          "42.3554334",
          "38.7877791",
          "42.3756401",
          "26.2378597",
          "38.2971367",
          "34.6240205",
          "42.6055893",
          "31.9973662",
          "37.8044557",
          "26.3586885",
          "39.6136578",
          "42.5846773",
          "42.3222599",
          "41.6612561",
          "32.7947731",
          "40.5863563",
          "33.5634402",
          "35.269381",
          "47.6765382",
          "30.4507936",
          "30.3321838",
          "33.9242688",
          "33.9004572",
          "39.8695516",
          "27.7635302",
          "35.6876096",
          "38.5810606",
          "41.4673238",
          "32.7884363",
          "33.7690164",
          "28.8759024",
          "26.1223084",
          "33.772179449999996",
          "48.0517429",
          "30.4380832",
          "35.0457219",
          "29.299328",
          "26.9342246",
          "34.1476452",
          "37.3688301",
          "34.539984",
          "35.7803977",
          "41.878711",
          "33.9708782",
          "40.6992918",
          "27.928463999999998",
          "38.98127255",
          "41.7003302",
          "39.7589478",
          "41.7688459",
          "26.0031465",
          "43.1009031",
          "40.735657",
          "41.0469042",
          "42.9033917",
          "45.6794293",
          "28.0041425",
          "45.1728923",
          "41.083064",
          "39.8005505",
          "35.9556924",
          "39.0924792",
          "31.1171441",
          "25.7148148",
          "37.9577016",
          "40.1936892",
          "38.4404925",
          "41.8239891",
          "41.5910323",
          "43.6166163",
          "34.0007493",
          "34.7494749",
          "29.9899926",
          "29.5074538",
          "28.0394654",
          "35.4094178",
          "42.7337712",
          "35.2225717",
          "35.613224",
          "45.4997475",
          "38.8838856",
          "40.335345",
          "42.8142432",
          "37.5482697",
          "32.44645",
          "44.0234387",
          "33.2095614",
          "33.7458511",
          "43.1700264",
          "40.9312099",
          "34.4776367",
          "43.6610277",
          "35.8460396",
          "42.0447388",
          "36.3134398",
          "48.23251",
          "32.6200973",
          "37.9747645",
          "29.8988618",
          "34.4263886",
          "48.7544012",
          "42.3238056",
          "47.6144219",
          "41.7002024",
          "39.1134562",
          "26.640628",
          "41.5235808",
          "40.385549",
          "40.7433066",
          "40.6687141",
          "38.635042999999996",
          "37.1968298",
          "31.098207",
          "32.3512601",
          "43.4887907",
          "42.3192548",
          "33.7192808",
          "34.1976308",
          "32.6400541",
          "26.2128609",
          "33.1958696",
          "40.4797828",
          "34.2257282",
          "35.4108278",
          "33.8708215",
          "27.9094665",
          "27.8428025",
          "47.313494",
          "36.0625843"
         ],
         "legendgroup": "",
         "lon": [
          "-118.242766",
          "-74.0060152",
          "-81.652407",
          "-121.4201395",
          "-90.1910154",
          "-95.3676974",
          "-117.9294401",
          "-95.9927516",
          "-84.1688274",
          "-85.6678639",
          "-84.360022",
          "-122.2127011",
          "-76.610759",
          "-81.3749508",
          "-111.651822",
          "-88.0070315",
          "-75.1635262",
          "-119.702667",
          "-104.825348",
          "-80.2331036",
          "-72.9250518",
          "-92.2896267",
          "-122.2566367",
          "-94.6851702",
          "-87.6244212",
          "-117.42351",
          "-80.6520161",
          "-115.173414",
          "-115.148516",
          "-82.458444",
          "-81.0228331",
          "-96.8902816",
          "-96.7297206",
          "-77.0893094",
          "-106.325138",
          "-106.650985",
          "-96.7968559",
          "-85.1386015",
          "-122.0832101",
          "-92.3328743",
          "-79.9900861",
          "-94.3996456",
          "-80.8430827",
          "-104.7091322",
          "-80.2706044",
          "-87.922497",
          "-97.3967025",
          "-84.5124602",
          "-71.4677032",
          "-82.7717684",
          "-115.121584",
          "-97.6960599",
          "-97.0592028",
          "-93.7594059",
          "-77.615214",
          "-93.0931028",
          "-96.3071042",
          "-89.6645266",
          "-81.9806771",
          "-80.6371513",
          "-83.0466403",
          "-80.1386547",
          "-82.3984882",
          "-104.8769227",
          "-71.8018877",
          "-89.0226793",
          "-117.5751735",
          "-77.0365427",
          "-95.9383758",
          "-71.4371257",
          "-105.270545",
          "-112.074141",
          "-84.4109993",
          "-115.2428656",
          "-118.542586",
          "-120.510842",
          "-119.7848307",
          "-121.890591",
          "-122.330062",
          "-103.2280239",
          "-82.8890965",
          "-80.19362",
          "-86.8024326",
          "-88.2314813",
          "-94.74049",
          "-97.4649038",
          "-114.9826194",
          "-117.1627728",
          "-80.1353006",
          "-122.2034496",
          "-102.367687",
          "-119.0194639",
          "-80.148379",
          "-73.46825748283703",
          "-93.6952689",
          "-75.0847659",
          "-87.7540199",
          "-105.0668085",
          "-111.9395211",
          "-104.609141",
          "-81.3790304",
          "-93.3204872",
          "-76.3452057",
          "-121.6846349",
          "-85.6802541",
          "-118.491227",
          "-93.2654692",
          "-79.7919754",
          "-83.6324022",
          "-82.75690699742961",
          "-87.3370647",
          "-111.29189",
          "-82.6695085",
          "-83.3527097",
          "-82.5540161",
          "-118.1366153",
          "-116.9719684",
          "-104.984862",
          "-90.0517638",
          "-73.7826363",
          "-83.810138",
          "-93.0456985",
          "-80.3503283",
          "-117.911732",
          "-77.0470229",
          "-94.1018461",
          "-93.3569023",
          "-97.3375448",
          "-80.6366144",
          "-112.28011795781",
          "-119.7487235",
          "-111.9260184",
          "-73.1867391",
          "-96.789821",
          "-114.47603157249804",
          "-117.903317",
          "-76.42977",
          "-93.46651",
          "-111.6944313",
          "-91.6704053",
          "-71.4413097",
          "-121.38984593366523",
          "-80.0532942",
          "-108.49607",
          "-72.5886727",
          "-89.6439575",
          "-112.185994",
          "-83.6900211",
          "-111.8314552",
          "-98.4951405",
          "-78.9018053",
          "-104.820246",
          "-89.093966",
          "-122.419906",
          "-80.1494901",
          "-81.0250784",
          "-74.047455",
          "-111.547892",
          "-82.3249846",
          "-97.5170536",
          "-81.7355692",
          "-86.8689419",
          "-96.6154471",
          "-117.9859054",
          "-119.8126581",
          "-96.8238183",
          "-89.0928155",
          "-92.28967075718833",
          "-78.7812081",
          "-83.0007065",
          "-89.5891008",
          "-97.3327459",
          "-93.2773887",
          "-97.7436995",
          "-121.744583",
          "-86.5342881",
          "-80.0996306",
          "-86.3006485",
          "-117.8259819",
          "-94.5781416",
          "-83.5378173",
          "-110.9187037",
          "-82.5154471",
          "-91.1453948",
          "-97.1071186",
          "-118.2478471",
          "-85.5872286",
          "-80.1392121",
          "-105.0846694",
          "-77.1516844",
          "-76.2863999",
          "-78.8783922",
          "-80.2440518",
          "-73.4219246",
          "-91.2514355",
          "-84.5501874",
          "-122.674194",
          "-88.5408574",
          "-117.8249705",
          "-117.2919818",
          "-101.833824",
          "-86.5859011",
          "-82.5338633376176",
          "-118.8375937",
          "-122.438329",
          "-94.5133385",
          "-106.4882345",
          "-122.1560768",
          "-76.1474244",
          "-111.886797",
          "-84.3902644",
          "-83.9210261",
          "-94.282265",
          "-117.1770437",
          "-121.3153096",
          "-90.0782127",
          "-84.9880449",
          "-85.4807825",
          "-72.801518",
          "-75.9774183",
          "-122.8950075",
          "-87.3588703",
          "-81.7786972",
          "-108.5507317",
          "-123.0950506",
          "-118.3886766",
          "-92.1251218",
          "-96.7077751",
          "-82.2359254",
          "-122.272863",
          "-93.7559378",
          "-75.9125262",
          "-77.43428",
          "-81.6936772",
          "-88.0125794",
          "-117.2613936",
          "-93.470786",
          "-78.878292",
          "-89.3837613",
          "-111.757352",
          "-113.995267",
          "-82.8001026",
          "-86.8752869",
          "-96.7307737",
          "-110.9748477",
          "-84.3342686",
          "-115.02796403836633",
          "-83.3771553",
          "-72.6071119",
          "-87.9370433",
          "-80.1789351",
          "-113.5841313",
          "-73.1307708",
          "-118.0000166",
          "-92.6888936",
          "-117.7075526",
          "-110.9952215",
          "-88.2430932",
          "-77.0893094",
          "-123.1059324",
          "-90.1983063",
          "-81.0951271",
          "-121.768053",
          "-71.060511",
          "-90.6747372",
          "-71.2358004",
          "-80.1247667",
          "-122.2855293",
          "-87.05791872812708",
          "-83.1499304",
          "-102.077948",
          "-122.271356",
          "-80.0830984",
          "-86.1066526",
          "-87.8212263",
          "-83.1763145",
          "-91.5299106",
          "-116.962526",
          "-122.391675",
          "-101.8792389",
          "-106.632819",
          "-122.2070775",
          "-91.1391153",
          "-81.655651",
          "-84.3785379",
          "-98.5020777",
          "-104.985181",
          "-97.4033191",
          "-105.938456",
          "-121.493895",
          "-82.1781904",
          "-79.9399309",
          "-118.191604",
          "-81.98457902636167",
          "-80.1433786",
          "-116.49529769683983",
          "-122.1768209",
          "-84.2809332",
          "-85.3094883",
          "-94.7945882",
          "-80.0942087",
          "-118.1444779",
          "-122.036349",
          "-112.468812",
          "-78.6390989",
          "-71.3825558",
          "-118.030839",
          "-111.855583",
          "-82.2880507720744",
          "-77.12335871396549",
          "-88.0717708",
          "-84.1916069",
          "-72.6816303",
          "-80.223937",
          "-75.2326641",
          "-74.1723667",
          "-73.5420246",
          "-78.7547536",
          "-111.044047",
          "-82.57021921991026",
          "-93.3023898",
          "-81.518485",
          "-105.0811573",
          "-80.0053176",
          "-94.4137923",
          "-97.727796",
          "-80.2769765",
          "-121.2907796",
          "-85.3865271",
          "-122.7141049",
          "-71.4128343",
          "-93.6046655",
          "-116.200886",
          "-81.0343313",
          "-77.4208221",
          "-90.1505426",
          "-95.0949303",
          "-81.9498042",
          "-80.5800049",
          "-84.5553805",
          "-97.4394816",
          "-77.3724593",
          "-122.4309766",
          "-94.81887",
          "-75.9279495",
          "-73.9395687",
          "-121.988571",
          "-99.7475905",
          "-92.4630182",
          "-87.5675258",
          "-117.826166",
          "-107.568534",
          "-73.8987469",
          "-87.3017331",
          "-70.2548596",
          "-86.3921096",
          "-87.6930459",
          "-82.3534728",
          "-101.296273",
          "-83.606568",
          "-87.5558483",
          "-93.9288723",
          "-117.3008784",
          "-122.478836",
          "-83.4005321",
          "-122.192337",
          "-71.4161108",
          "-94.626497",
          "-81.8723084",
          "-90.5770967",
          "-105.04436132094955",
          "-74.0323752",
          "-74.1143091",
          "-76.90631608403362",
          "-93.2946576",
          "-97.3427847",
          "-95.3010624",
          "-112.03628",
          "-85.1824269",
          "-116.2188054",
          "-119.1803818",
          "-117.0841955",
          "-80.2497707",
          "-117.3794834",
          "-88.9939147",
          "-77.9447107",
          "-80.8429304",
          "-117.9294165",
          "-82.7873244",
          "-82.6995444",
          "-122.33931",
          "-94.1574328"
         ],
         "marker": {
          "color": "#636efa",
          "symbol": "circle"
         },
         "mode": "markers",
         "name": "",
         "showlegend": false,
         "type": "scattergeo"
        }
       ],
       "layout": {
        "geo": {
         "center": {},
         "domain": {
          "x": [
           0,
           1
          ],
          "y": [
           0,
           1
          ]
         },
         "scope": "usa"
        },
        "legend": {
         "tracegroupgap": 0
        },
        "margin": {
         "t": 60
        },
        "template": {
         "data": {
          "bar": [
           {
            "error_x": {
             "color": "#2a3f5f"
            },
            "error_y": {
             "color": "#2a3f5f"
            },
            "marker": {
             "line": {
              "color": "#E5ECF6",
              "width": 0.5
             },
             "pattern": {
              "fillmode": "overlay",
              "size": 10,
              "solidity": 0.2
             }
            },
            "type": "bar"
           }
          ],
          "barpolar": [
           {
            "marker": {
             "line": {
              "color": "#E5ECF6",
              "width": 0.5
             },
             "pattern": {
              "fillmode": "overlay",
              "size": 10,
              "solidity": 0.2
             }
            },
            "type": "barpolar"
           }
          ],
          "carpet": [
           {
            "aaxis": {
             "endlinecolor": "#2a3f5f",
             "gridcolor": "white",
             "linecolor": "white",
             "minorgridcolor": "white",
             "startlinecolor": "#2a3f5f"
            },
            "baxis": {
             "endlinecolor": "#2a3f5f",
             "gridcolor": "white",
             "linecolor": "white",
             "minorgridcolor": "white",
             "startlinecolor": "#2a3f5f"
            },
            "type": "carpet"
           }
          ],
          "choropleth": [
           {
            "colorbar": {
             "outlinewidth": 0,
             "ticks": ""
            },
            "type": "choropleth"
           }
          ],
          "contour": [
           {
            "colorbar": {
             "outlinewidth": 0,
             "ticks": ""
            },
            "colorscale": [
             [
              0,
              "#0d0887"
             ],
             [
              0.1111111111111111,
              "#46039f"
             ],
             [
              0.2222222222222222,
              "#7201a8"
             ],
             [
              0.3333333333333333,
              "#9c179e"
             ],
             [
              0.4444444444444444,
              "#bd3786"
             ],
             [
              0.5555555555555556,
              "#d8576b"
             ],
             [
              0.6666666666666666,
              "#ed7953"
             ],
             [
              0.7777777777777778,
              "#fb9f3a"
             ],
             [
              0.8888888888888888,
              "#fdca26"
             ],
             [
              1,
              "#f0f921"
             ]
            ],
            "type": "contour"
           }
          ],
          "contourcarpet": [
           {
            "colorbar": {
             "outlinewidth": 0,
             "ticks": ""
            },
            "type": "contourcarpet"
           }
          ],
          "heatmap": [
           {
            "colorbar": {
             "outlinewidth": 0,
             "ticks": ""
            },
            "colorscale": [
             [
              0,
              "#0d0887"
             ],
             [
              0.1111111111111111,
              "#46039f"
             ],
             [
              0.2222222222222222,
              "#7201a8"
             ],
             [
              0.3333333333333333,
              "#9c179e"
             ],
             [
              0.4444444444444444,
              "#bd3786"
             ],
             [
              0.5555555555555556,
              "#d8576b"
             ],
             [
              0.6666666666666666,
              "#ed7953"
             ],
             [
              0.7777777777777778,
              "#fb9f3a"
             ],
             [
              0.8888888888888888,
              "#fdca26"
             ],
             [
              1,
              "#f0f921"
             ]
            ],
            "type": "heatmap"
           }
          ],
          "heatmapgl": [
           {
            "colorbar": {
             "outlinewidth": 0,
             "ticks": ""
            },
            "colorscale": [
             [
              0,
              "#0d0887"
             ],
             [
              0.1111111111111111,
              "#46039f"
             ],
             [
              0.2222222222222222,
              "#7201a8"
             ],
             [
              0.3333333333333333,
              "#9c179e"
             ],
             [
              0.4444444444444444,
              "#bd3786"
             ],
             [
              0.5555555555555556,
              "#d8576b"
             ],
             [
              0.6666666666666666,
              "#ed7953"
             ],
             [
              0.7777777777777778,
              "#fb9f3a"
             ],
             [
              0.8888888888888888,
              "#fdca26"
             ],
             [
              1,
              "#f0f921"
             ]
            ],
            "type": "heatmapgl"
           }
          ],
          "histogram": [
           {
            "marker": {
             "pattern": {
              "fillmode": "overlay",
              "size": 10,
              "solidity": 0.2
             }
            },
            "type": "histogram"
           }
          ],
          "histogram2d": [
           {
            "colorbar": {
             "outlinewidth": 0,
             "ticks": ""
            },
            "colorscale": [
             [
              0,
              "#0d0887"
             ],
             [
              0.1111111111111111,
              "#46039f"
             ],
             [
              0.2222222222222222,
              "#7201a8"
             ],
             [
              0.3333333333333333,
              "#9c179e"
             ],
             [
              0.4444444444444444,
              "#bd3786"
             ],
             [
              0.5555555555555556,
              "#d8576b"
             ],
             [
              0.6666666666666666,
              "#ed7953"
             ],
             [
              0.7777777777777778,
              "#fb9f3a"
             ],
             [
              0.8888888888888888,
              "#fdca26"
             ],
             [
              1,
              "#f0f921"
             ]
            ],
            "type": "histogram2d"
           }
          ],
          "histogram2dcontour": [
           {
            "colorbar": {
             "outlinewidth": 0,
             "ticks": ""
            },
            "colorscale": [
             [
              0,
              "#0d0887"
             ],
             [
              0.1111111111111111,
              "#46039f"
             ],
             [
              0.2222222222222222,
              "#7201a8"
             ],
             [
              0.3333333333333333,
              "#9c179e"
             ],
             [
              0.4444444444444444,
              "#bd3786"
             ],
             [
              0.5555555555555556,
              "#d8576b"
             ],
             [
              0.6666666666666666,
              "#ed7953"
             ],
             [
              0.7777777777777778,
              "#fb9f3a"
             ],
             [
              0.8888888888888888,
              "#fdca26"
             ],
             [
              1,
              "#f0f921"
             ]
            ],
            "type": "histogram2dcontour"
           }
          ],
          "mesh3d": [
           {
            "colorbar": {
             "outlinewidth": 0,
             "ticks": ""
            },
            "type": "mesh3d"
           }
          ],
          "parcoords": [
           {
            "line": {
             "colorbar": {
              "outlinewidth": 0,
              "ticks": ""
             }
            },
            "type": "parcoords"
           }
          ],
          "pie": [
           {
            "automargin": true,
            "type": "pie"
           }
          ],
          "scatter": [
           {
            "fillpattern": {
             "fillmode": "overlay",
             "size": 10,
             "solidity": 0.2
            },
            "type": "scatter"
           }
          ],
          "scatter3d": [
           {
            "line": {
             "colorbar": {
              "outlinewidth": 0,
              "ticks": ""
             }
            },
            "marker": {
             "colorbar": {
              "outlinewidth": 0,
              "ticks": ""
             }
            },
            "type": "scatter3d"
           }
          ],
          "scattercarpet": [
           {
            "marker": {
             "colorbar": {
              "outlinewidth": 0,
              "ticks": ""
             }
            },
            "type": "scattercarpet"
           }
          ],
          "scattergeo": [
           {
            "marker": {
             "colorbar": {
              "outlinewidth": 0,
              "ticks": ""
             }
            },
            "type": "scattergeo"
           }
          ],
          "scattergl": [
           {
            "marker": {
             "colorbar": {
              "outlinewidth": 0,
              "ticks": ""
             }
            },
            "type": "scattergl"
           }
          ],
          "scattermapbox": [
           {
            "marker": {
             "colorbar": {
              "outlinewidth": 0,
              "ticks": ""
             }
            },
            "type": "scattermapbox"
           }
          ],
          "scatterpolar": [
           {
            "marker": {
             "colorbar": {
              "outlinewidth": 0,
              "ticks": ""
             }
            },
            "type": "scatterpolar"
           }
          ],
          "scatterpolargl": [
           {
            "marker": {
             "colorbar": {
              "outlinewidth": 0,
              "ticks": ""
             }
            },
            "type": "scatterpolargl"
           }
          ],
          "scatterternary": [
           {
            "marker": {
             "colorbar": {
              "outlinewidth": 0,
              "ticks": ""
             }
            },
            "type": "scatterternary"
           }
          ],
          "surface": [
           {
            "colorbar": {
             "outlinewidth": 0,
             "ticks": ""
            },
            "colorscale": [
             [
              0,
              "#0d0887"
             ],
             [
              0.1111111111111111,
              "#46039f"
             ],
             [
              0.2222222222222222,
              "#7201a8"
             ],
             [
              0.3333333333333333,
              "#9c179e"
             ],
             [
              0.4444444444444444,
              "#bd3786"
             ],
             [
              0.5555555555555556,
              "#d8576b"
             ],
             [
              0.6666666666666666,
              "#ed7953"
             ],
             [
              0.7777777777777778,
              "#fb9f3a"
             ],
             [
              0.8888888888888888,
              "#fdca26"
             ],
             [
              1,
              "#f0f921"
             ]
            ],
            "type": "surface"
           }
          ],
          "table": [
           {
            "cells": {
             "fill": {
              "color": "#EBF0F8"
             },
             "line": {
              "color": "white"
             }
            },
            "header": {
             "fill": {
              "color": "#C8D4E3"
             },
             "line": {
              "color": "white"
             }
            },
            "type": "table"
           }
          ]
         },
         "layout": {
          "annotationdefaults": {
           "arrowcolor": "#2a3f5f",
           "arrowhead": 0,
           "arrowwidth": 1
          },
          "autotypenumbers": "strict",
          "coloraxis": {
           "colorbar": {
            "outlinewidth": 0,
            "ticks": ""
           }
          },
          "colorscale": {
           "diverging": [
            [
             0,
             "#8e0152"
            ],
            [
             0.1,
             "#c51b7d"
            ],
            [
             0.2,
             "#de77ae"
            ],
            [
             0.3,
             "#f1b6da"
            ],
            [
             0.4,
             "#fde0ef"
            ],
            [
             0.5,
             "#f7f7f7"
            ],
            [
             0.6,
             "#e6f5d0"
            ],
            [
             0.7,
             "#b8e186"
            ],
            [
             0.8,
             "#7fbc41"
            ],
            [
             0.9,
             "#4d9221"
            ],
            [
             1,
             "#276419"
            ]
           ],
           "sequential": [
            [
             0,
             "#0d0887"
            ],
            [
             0.1111111111111111,
             "#46039f"
            ],
            [
             0.2222222222222222,
             "#7201a8"
            ],
            [
             0.3333333333333333,
             "#9c179e"
            ],
            [
             0.4444444444444444,
             "#bd3786"
            ],
            [
             0.5555555555555556,
             "#d8576b"
            ],
            [
             0.6666666666666666,
             "#ed7953"
            ],
            [
             0.7777777777777778,
             "#fb9f3a"
            ],
            [
             0.8888888888888888,
             "#fdca26"
            ],
            [
             1,
             "#f0f921"
            ]
           ],
           "sequentialminus": [
            [
             0,
             "#0d0887"
            ],
            [
             0.1111111111111111,
             "#46039f"
            ],
            [
             0.2222222222222222,
             "#7201a8"
            ],
            [
             0.3333333333333333,
             "#9c179e"
            ],
            [
             0.4444444444444444,
             "#bd3786"
            ],
            [
             0.5555555555555556,
             "#d8576b"
            ],
            [
             0.6666666666666666,
             "#ed7953"
            ],
            [
             0.7777777777777778,
             "#fb9f3a"
            ],
            [
             0.8888888888888888,
             "#fdca26"
            ],
            [
             1,
             "#f0f921"
            ]
           ]
          },
          "colorway": [
           "#636efa",
           "#EF553B",
           "#00cc96",
           "#ab63fa",
           "#FFA15A",
           "#19d3f3",
           "#FF6692",
           "#B6E880",
           "#FF97FF",
           "#FECB52"
          ],
          "font": {
           "color": "#2a3f5f"
          },
          "geo": {
           "bgcolor": "white",
           "lakecolor": "white",
           "landcolor": "#E5ECF6",
           "showlakes": true,
           "showland": true,
           "subunitcolor": "white"
          },
          "hoverlabel": {
           "align": "left"
          },
          "hovermode": "closest",
          "mapbox": {
           "style": "light"
          },
          "paper_bgcolor": "white",
          "plot_bgcolor": "#E5ECF6",
          "polar": {
           "angularaxis": {
            "gridcolor": "white",
            "linecolor": "white",
            "ticks": ""
           },
           "bgcolor": "#E5ECF6",
           "radialaxis": {
            "gridcolor": "white",
            "linecolor": "white",
            "ticks": ""
           }
          },
          "scene": {
           "xaxis": {
            "backgroundcolor": "#E5ECF6",
            "gridcolor": "white",
            "gridwidth": 2,
            "linecolor": "white",
            "showbackground": true,
            "ticks": "",
            "zerolinecolor": "white"
           },
           "yaxis": {
            "backgroundcolor": "#E5ECF6",
            "gridcolor": "white",
            "gridwidth": 2,
            "linecolor": "white",
            "showbackground": true,
            "ticks": "",
            "zerolinecolor": "white"
           },
           "zaxis": {
            "backgroundcolor": "#E5ECF6",
            "gridcolor": "white",
            "gridwidth": 2,
            "linecolor": "white",
            "showbackground": true,
            "ticks": "",
            "zerolinecolor": "white"
           }
          },
          "shapedefaults": {
           "line": {
            "color": "#2a3f5f"
           }
          },
          "ternary": {
           "aaxis": {
            "gridcolor": "white",
            "linecolor": "white",
            "ticks": ""
           },
           "baxis": {
            "gridcolor": "white",
            "linecolor": "white",
            "ticks": ""
           },
           "bgcolor": "#E5ECF6",
           "caxis": {
            "gridcolor": "white",
            "linecolor": "white",
            "ticks": ""
           }
          },
          "title": {
           "x": 0.05
          },
          "xaxis": {
           "automargin": true,
           "gridcolor": "white",
           "linecolor": "white",
           "ticks": "",
           "title": {
            "standoff": 15
           },
           "zerolinecolor": "white",
           "zerolinewidth": 2
          },
          "yaxis": {
           "automargin": true,
           "gridcolor": "white",
           "linecolor": "white",
           "ticks": "",
           "title": {
            "standoff": 15
           },
           "zerolinecolor": "white",
           "zerolinewidth": 2
          }
         }
        }
       }
      }
     },
     "metadata": {},
     "output_type": "display_data"
    }
   ],
   "source": [
    "config = {\n",
    "  'toImageButtonOptions': {\n",
    "    'format': 'png', # one of png, svg, jpeg, webp\n",
    "    'filename': 'custom_image',\n",
    "    'height': 1800,\n",
    "    'width': 1800,\n",
    "    # 'scale':6 # Multiply title/legend/axis/canvas sizes by this factor\n",
    "  }\n",
    "}\n",
    "fig = px.scatter_geo(lat=lats, lon=longs, scope='usa')\n",
    "fig.show(config=config)"
   ]
  },
  {
   "cell_type": "code",
   "execution_count": 137,
   "metadata": {},
   "outputs": [
    {
     "data": {
      "text/html": [
       "<div>\n",
       "<style scoped>\n",
       "    .dataframe tbody tr th:only-of-type {\n",
       "        vertical-align: middle;\n",
       "    }\n",
       "\n",
       "    .dataframe tbody tr th {\n",
       "        vertical-align: top;\n",
       "    }\n",
       "\n",
       "    .dataframe thead th {\n",
       "        text-align: right;\n",
       "    }\n",
       "</style>\n",
       "<table border=\"1\" class=\"dataframe\">\n",
       "  <thead>\n",
       "    <tr style=\"text-align: right;\">\n",
       "      <th></th>\n",
       "      <th>latitude</th>\n",
       "      <th>longitude</th>\n",
       "      <th>city</th>\n",
       "    </tr>\n",
       "  </thead>\n",
       "  <tbody>\n",
       "    <tr>\n",
       "      <th>0</th>\n",
       "      <td>34.0536909</td>\n",
       "      <td>-118.242766</td>\n",
       "      <td>CA, Los Angeles</td>\n",
       "    </tr>\n",
       "    <tr>\n",
       "      <th>1</th>\n",
       "      <td>40.7127281</td>\n",
       "      <td>-74.0060152</td>\n",
       "      <td>NY, New York</td>\n",
       "    </tr>\n",
       "    <tr>\n",
       "      <th>2</th>\n",
       "      <td>26.6091509</td>\n",
       "      <td>-81.652407</td>\n",
       "      <td>FL, Lehigh Acres</td>\n",
       "    </tr>\n",
       "    <tr>\n",
       "      <th>3</th>\n",
       "      <td>37.7385507</td>\n",
       "      <td>-121.4201395</td>\n",
       "      <td>CA, Tracy</td>\n",
       "    </tr>\n",
       "    <tr>\n",
       "      <th>4</th>\n",
       "      <td>38.6280278</td>\n",
       "      <td>-90.1910154</td>\n",
       "      <td>MO, St Louis</td>\n",
       "    </tr>\n",
       "  </tbody>\n",
       "</table>\n",
       "</div>"
      ],
      "text/plain": [
       "     latitude     longitude              city\n",
       "0  34.0536909   -118.242766   CA, Los Angeles\n",
       "1  40.7127281   -74.0060152      NY, New York\n",
       "2  26.6091509    -81.652407  FL, Lehigh Acres\n",
       "3  37.7385507  -121.4201395         CA, Tracy\n",
       "4  38.6280278   -90.1910154      MO, St Louis"
      ]
     },
     "execution_count": 137,
     "metadata": {},
     "output_type": "execute_result"
    }
   ],
   "source": [
    "cities_db = pd.DataFrame()\n",
    "cities_db['latitude'] = lats\n",
    "cities_db['longitude'] = longs\n",
    "cities_db['city'] = cities\n",
    "cities_db.to_csv(\"cities.csv\")\n",
    "cities_db.head()"
   ]
  },
  {
   "cell_type": "code",
   "execution_count": 101,
   "metadata": {},
   "outputs": [
    {
     "data": {
      "image/png": "[encoded data removed]",
      "text/plain": [
       "<Figure size 432x288 with 1 Axes>"
      ]
     },
     "metadata": {},
     "output_type": "display_data"
    }
   ],
   "source": [
    "c = nrel_filtered_df['Geometry Building Type RECS'].value_counts()\n",
    "plt.pie(c, labels = c.index)\n",
    "plt.show()"
   ]
  },
  {
   "cell_type": "code",
   "execution_count": 102,
   "metadata": {},
   "outputs": [
    {
     "data": {
      "text/plain": [
       "<AxesSubplot: xlabel='Vintage', ylabel='Count'>"
      ]
     },
     "execution_count": 102,
     "metadata": {},
     "output_type": "execute_result"
    },
    {
     "data": {
      "image/png": "[encoded data removed]",
      "text/plain": [
       "<Figure size 432x288 with 1 Axes>"
      ]
     },
     "metadata": {},
     "output_type": "display_data"
    }
   ],
   "source": [
    "sns.histplot(nrel_filtered_df['Vintage'], kde=True)"
   ]
  },
  {
   "attachments": {},
   "cell_type": "markdown",
   "metadata": {},
   "source": [
    "From the NREL metadata: https://data.openei.org/s3_viewer?bucket=oedi-data-lake&prefix=nrel-pds-building-stock%2Fend-use-load-profiles-for-us-building-stock%2F2022%2Fresstock_tmy3_release_1%2Fmetadata_and_annual_results%2Fnational%2Fcsv%2F"
   ]
  },
  {
   "cell_type": "code",
   "execution_count": 144,
   "metadata": {},
   "outputs": [],
   "source": [
    "df = nrel_out_df.iloc[nrel_filtered_df.index.to_list()]\n",
    "df.to_csv(\"resstock_filtered.csv\")\n",
    "nrel_filtered_df.to_csv(\"resstock_filtered_cleancols.csv\")"
   ]
  },
  {
   "cell_type": "code",
   "execution_count": 3,
   "metadata": {},
   "outputs": [
    {
     "name": "stderr",
     "output_type": "stream",
     "text": [
      "C:\\Users\\zoele\\AppData\\Local\\Temp\\ipykernel_55860\\4285647504.py:1: DtypeWarning: Columns (61,121) have mixed types. Specify dtype option on import or set low_memory=False.\n",
      "  baseline_metadata_only = pd.read_csv('baseline_metadata_only.csv')\n"
     ]
    },
    {
     "data": {
      "text/html": [
       "<div>\n",
       "<style scoped>\n",
       "    .dataframe tbody tr th:only-of-type {\n",
       "        vertical-align: middle;\n",
       "    }\n",
       "\n",
       "    .dataframe tbody tr th {\n",
       "        vertical-align: top;\n",
       "    }\n",
       "\n",
       "    .dataframe thead th {\n",
       "        text-align: right;\n",
       "    }\n",
       "</style>\n",
       "<table border=\"1\" class=\"dataframe\">\n",
       "  <thead>\n",
       "    <tr style=\"text-align: right;\">\n",
       "      <th></th>\n",
       "      <th>bldg_id</th>\n",
       "      <th>upgrade</th>\n",
       "      <th>weight</th>\n",
       "      <th>applicability</th>\n",
       "      <th>in.sqft</th>\n",
       "      <th>in.ahs_region</th>\n",
       "      <th>in.ashrae_iecc_climate_zone_2004</th>\n",
       "      <th>in.ashrae_iecc_climate_zone_2004_2_a_split</th>\n",
       "      <th>in.bathroom_spot_vent_hour</th>\n",
       "      <th>in.bedrooms</th>\n",
       "      <th>...</th>\n",
       "      <th>in.vintage</th>\n",
       "      <th>in.vintage_acs</th>\n",
       "      <th>in.water_heater_efficiency</th>\n",
       "      <th>in.water_heater_fuel</th>\n",
       "      <th>in.water_heater_in_unit</th>\n",
       "      <th>in.weather_file_city</th>\n",
       "      <th>in.weather_file_latitude</th>\n",
       "      <th>in.weather_file_longitude</th>\n",
       "      <th>in.window_areas</th>\n",
       "      <th>in.windows</th>\n",
       "    </tr>\n",
       "  </thead>\n",
       "  <tbody>\n",
       "    <tr>\n",
       "      <th>0</th>\n",
       "      <td>1</td>\n",
       "      <td>0</td>\n",
       "      <td>242.131013</td>\n",
       "      <td>True</td>\n",
       "      <td>1690.0</td>\n",
       "      <td>Non-CBSA South Atlantic</td>\n",
       "      <td>4A</td>\n",
       "      <td>4A</td>\n",
       "      <td>Hour22</td>\n",
       "      <td>3</td>\n",
       "      <td>...</td>\n",
       "      <td>2000s</td>\n",
       "      <td>2000-09</td>\n",
       "      <td>Electric Standard</td>\n",
       "      <td>Electricity</td>\n",
       "      <td>Yes</td>\n",
       "      <td>Shannon Arpt</td>\n",
       "      <td>38.27</td>\n",
       "      <td>-77.45</td>\n",
       "      <td>F18 B18 L18 R18</td>\n",
       "      <td>Double, Low-E, Non-metal, Air, M-Gain</td>\n",
       "    </tr>\n",
       "    <tr>\n",
       "      <th>1</th>\n",
       "      <td>2</td>\n",
       "      <td>0</td>\n",
       "      <td>242.131013</td>\n",
       "      <td>True</td>\n",
       "      <td>1690.0</td>\n",
       "      <td>Non-CBSA Mountain</td>\n",
       "      <td>6B</td>\n",
       "      <td>6B</td>\n",
       "      <td>Hour22</td>\n",
       "      <td>3</td>\n",
       "      <td>...</td>\n",
       "      <td>1950s</td>\n",
       "      <td>1940-59</td>\n",
       "      <td>Natural Gas Standard</td>\n",
       "      <td>Natural Gas</td>\n",
       "      <td>Yes</td>\n",
       "      <td>Casper Natrona Co Intl Ap</td>\n",
       "      <td>42.90</td>\n",
       "      <td>-106.47</td>\n",
       "      <td>F12 B12 L12 R12</td>\n",
       "      <td>Single, Clear, Non-metal</td>\n",
       "    </tr>\n",
       "    <tr>\n",
       "      <th>2</th>\n",
       "      <td>4</td>\n",
       "      <td>0</td>\n",
       "      <td>242.131013</td>\n",
       "      <td>True</td>\n",
       "      <td>2176.0</td>\n",
       "      <td>Non-CBSA West South Central</td>\n",
       "      <td>2A</td>\n",
       "      <td>2A - TX, LA</td>\n",
       "      <td>Hour7</td>\n",
       "      <td>4</td>\n",
       "      <td>...</td>\n",
       "      <td>1970s</td>\n",
       "      <td>1960-79</td>\n",
       "      <td>Electric Standard</td>\n",
       "      <td>Electricity</td>\n",
       "      <td>Yes</td>\n",
       "      <td>Lake Charles Wb Airp</td>\n",
       "      <td>30.22</td>\n",
       "      <td>-93.17</td>\n",
       "      <td>F12 B12 L12 R12</td>\n",
       "      <td>Single, Clear, Metal</td>\n",
       "    </tr>\n",
       "    <tr>\n",
       "      <th>3</th>\n",
       "      <td>5</td>\n",
       "      <td>0</td>\n",
       "      <td>242.131013</td>\n",
       "      <td>True</td>\n",
       "      <td>2176.0</td>\n",
       "      <td>Non-CBSA West North Central</td>\n",
       "      <td>4A</td>\n",
       "      <td>4A</td>\n",
       "      <td>Hour19</td>\n",
       "      <td>3</td>\n",
       "      <td>...</td>\n",
       "      <td>2000s</td>\n",
       "      <td>2000-09</td>\n",
       "      <td>Natural Gas Standard</td>\n",
       "      <td>Natural Gas</td>\n",
       "      <td>Yes</td>\n",
       "      <td>Fort Leonard Wood-Waynesville-St Robert Rgnl A...</td>\n",
       "      <td>37.75</td>\n",
       "      <td>-92.15</td>\n",
       "      <td>F9 B9 L9 R9</td>\n",
       "      <td>Double, Low-E, Non-metal, Air, M-Gain</td>\n",
       "    </tr>\n",
       "    <tr>\n",
       "      <th>4</th>\n",
       "      <td>6</td>\n",
       "      <td>0</td>\n",
       "      <td>242.131013</td>\n",
       "      <td>True</td>\n",
       "      <td>1690.0</td>\n",
       "      <td>CBSA Miami-Fort Lauderdale-West Palm Beach, FL</td>\n",
       "      <td>2A</td>\n",
       "      <td>2A - FL, GA, AL, MS</td>\n",
       "      <td>Hour7</td>\n",
       "      <td>3</td>\n",
       "      <td>...</td>\n",
       "      <td>1960s</td>\n",
       "      <td>1960-79</td>\n",
       "      <td>Electric Standard</td>\n",
       "      <td>Electricity</td>\n",
       "      <td>Yes</td>\n",
       "      <td>West Palm Beach Intl Arpt</td>\n",
       "      <td>26.68</td>\n",
       "      <td>-80.10</td>\n",
       "      <td>F12 B12 L12 R12</td>\n",
       "      <td>Single, Clear, Non-metal</td>\n",
       "    </tr>\n",
       "  </tbody>\n",
       "</table>\n",
       "<p>5 rows × 158 columns</p>\n",
       "</div>"
      ],
      "text/plain": [
       "   bldg_id  upgrade      weight  applicability  in.sqft  \\\n",
       "0        1        0  242.131013           True   1690.0   \n",
       "1        2        0  242.131013           True   1690.0   \n",
       "2        4        0  242.131013           True   2176.0   \n",
       "3        5        0  242.131013           True   2176.0   \n",
       "4        6        0  242.131013           True   1690.0   \n",
       "\n",
       "                                    in.ahs_region  \\\n",
       "0                         Non-CBSA South Atlantic   \n",
       "1                               Non-CBSA Mountain   \n",
       "2                     Non-CBSA West South Central   \n",
       "3                     Non-CBSA West North Central   \n",
       "4  CBSA Miami-Fort Lauderdale-West Palm Beach, FL   \n",
       "\n",
       "  in.ashrae_iecc_climate_zone_2004 in.ashrae_iecc_climate_zone_2004_2_a_split  \\\n",
       "0                               4A                                         4A   \n",
       "1                               6B                                         6B   \n",
       "2                               2A                                2A - TX, LA   \n",
       "3                               4A                                         4A   \n",
       "4                               2A                        2A - FL, GA, AL, MS   \n",
       "\n",
       "  in.bathroom_spot_vent_hour  in.bedrooms  ... in.vintage in.vintage_acs  \\\n",
       "0                     Hour22            3  ...      2000s        2000-09   \n",
       "1                     Hour22            3  ...      1950s        1940-59   \n",
       "2                      Hour7            4  ...      1970s        1960-79   \n",
       "3                     Hour19            3  ...      2000s        2000-09   \n",
       "4                      Hour7            3  ...      1960s        1960-79   \n",
       "\n",
       "  in.water_heater_efficiency in.water_heater_fuel in.water_heater_in_unit  \\\n",
       "0          Electric Standard          Electricity                     Yes   \n",
       "1       Natural Gas Standard          Natural Gas                     Yes   \n",
       "2          Electric Standard          Electricity                     Yes   \n",
       "3       Natural Gas Standard          Natural Gas                     Yes   \n",
       "4          Electric Standard          Electricity                     Yes   \n",
       "\n",
       "                                in.weather_file_city in.weather_file_latitude  \\\n",
       "0                                       Shannon Arpt                    38.27   \n",
       "1                          Casper Natrona Co Intl Ap                    42.90   \n",
       "2                               Lake Charles Wb Airp                    30.22   \n",
       "3  Fort Leonard Wood-Waynesville-St Robert Rgnl A...                    37.75   \n",
       "4                          West Palm Beach Intl Arpt                    26.68   \n",
       "\n",
       "  in.weather_file_longitude  in.window_areas  \\\n",
       "0                    -77.45  F18 B18 L18 R18   \n",
       "1                   -106.47  F12 B12 L12 R12   \n",
       "2                    -93.17  F12 B12 L12 R12   \n",
       "3                    -92.15      F9 B9 L9 R9   \n",
       "4                    -80.10  F12 B12 L12 R12   \n",
       "\n",
       "                              in.windows  \n",
       "0  Double, Low-E, Non-metal, Air, M-Gain  \n",
       "1               Single, Clear, Non-metal  \n",
       "2                   Single, Clear, Metal  \n",
       "3  Double, Low-E, Non-metal, Air, M-Gain  \n",
       "4               Single, Clear, Non-metal  \n",
       "\n",
       "[5 rows x 158 columns]"
      ]
     },
     "execution_count": 3,
     "metadata": {},
     "output_type": "execute_result"
    }
   ],
   "source": [
    "baseline_metadata_only = pd.read_csv('baseline_metadata_only.csv')\n",
    "baseline_metadata_only.head()"
   ]
  },
  {
   "attachments": {},
   "cell_type": "markdown",
   "metadata": {},
   "source": [
    "## Conversion to numerical"
   ]
  },
  {
   "cell_type": "code",
   "execution_count": 4,
   "metadata": {},
   "outputs": [
    {
     "data": {
      "text/html": [
       "<div>\n",
       "<style scoped>\n",
       "    .dataframe tbody tr th:only-of-type {\n",
       "        vertical-align: middle;\n",
       "    }\n",
       "\n",
       "    .dataframe tbody tr th {\n",
       "        vertical-align: top;\n",
       "    }\n",
       "\n",
       "    .dataframe thead th {\n",
       "        text-align: right;\n",
       "    }\n",
       "</style>\n",
       "<table border=\"1\" class=\"dataframe\">\n",
       "  <thead>\n",
       "    <tr style=\"text-align: right;\">\n",
       "      <th></th>\n",
       "      <th>Building</th>\n",
       "      <th>Schedules</th>\n",
       "      <th>Usage Level</th>\n",
       "      <th>Orientation</th>\n",
       "      <th>Eaves</th>\n",
       "      <th>Door Area</th>\n",
       "      <th>Overhangs</th>\n",
       "      <th>Interior Shading</th>\n",
       "      <th>Doors</th>\n",
       "      <th>Hot Water Fixtures</th>\n",
       "      <th>...</th>\n",
       "      <th>Federal Poverty Level</th>\n",
       "      <th>Window Areas</th>\n",
       "      <th>Insulation Ceiling</th>\n",
       "      <th>Insulation Roof</th>\n",
       "      <th>Insulation Wall</th>\n",
       "      <th>HVAC Cooling Partial Space Conditioning</th>\n",
       "      <th>Infiltration</th>\n",
       "      <th>REEDS Balancing Area</th>\n",
       "      <th>Generation And Emissions Assessment Region</th>\n",
       "      <th>City</th>\n",
       "    </tr>\n",
       "  </thead>\n",
       "  <tbody>\n",
       "    <tr>\n",
       "      <th>0</th>\n",
       "      <td>1</td>\n",
       "      <td>Stochastic</td>\n",
       "      <td>Medium</td>\n",
       "      <td>West</td>\n",
       "      <td>2 ft</td>\n",
       "      <td>20 ft^2</td>\n",
       "      <td>None</td>\n",
       "      <td>Summer = 0.7, Winter = 0.85</td>\n",
       "      <td>Fiberglass</td>\n",
       "      <td>100% Usage</td>\n",
       "      <td>...</td>\n",
       "      <td>0-100%</td>\n",
       "      <td>F15 B15 L15 R15</td>\n",
       "      <td>None</td>\n",
       "      <td>Finished, R-13</td>\n",
       "      <td>Wood Stud, Uninsulated</td>\n",
       "      <td>100% Conditioned</td>\n",
       "      <td>15 ACH50</td>\n",
       "      <td>10</td>\n",
       "      <td>CAMXc</td>\n",
       "      <td>CA, Los Angeles</td>\n",
       "    </tr>\n",
       "    <tr>\n",
       "      <th>2</th>\n",
       "      <td>3</td>\n",
       "      <td>Stochastic</td>\n",
       "      <td>Medium</td>\n",
       "      <td>North</td>\n",
       "      <td>2 ft</td>\n",
       "      <td>20 ft^2</td>\n",
       "      <td>None</td>\n",
       "      <td>Summer = 0.7, Winter = 0.85</td>\n",
       "      <td>Fiberglass</td>\n",
       "      <td>100% Usage</td>\n",
       "      <td>...</td>\n",
       "      <td>400%+</td>\n",
       "      <td>F12 B12 L12 R12</td>\n",
       "      <td>None</td>\n",
       "      <td>Finished, R-30</td>\n",
       "      <td>Wood Stud, Uninsulated</td>\n",
       "      <td>60% Conditioned</td>\n",
       "      <td>25 ACH50</td>\n",
       "      <td>127</td>\n",
       "      <td>NYSTc</td>\n",
       "      <td>NY, New York</td>\n",
       "    </tr>\n",
       "    <tr>\n",
       "      <th>3</th>\n",
       "      <td>4</td>\n",
       "      <td>Stochastic</td>\n",
       "      <td>Medium</td>\n",
       "      <td>West</td>\n",
       "      <td>2 ft</td>\n",
       "      <td>20 ft^2</td>\n",
       "      <td>None</td>\n",
       "      <td>Summer = 0.7, Winter = 0.85</td>\n",
       "      <td>Fiberglass</td>\n",
       "      <td>100% Usage</td>\n",
       "      <td>...</td>\n",
       "      <td>300-400%</td>\n",
       "      <td>F9 B9 L9 R9</td>\n",
       "      <td>R-30</td>\n",
       "      <td>Unfinished, Uninsulated</td>\n",
       "      <td>Brick, 12-in, 3-wythe, R-15</td>\n",
       "      <td>100% Conditioned</td>\n",
       "      <td>10 ACH50</td>\n",
       "      <td>101</td>\n",
       "      <td>FRCCc</td>\n",
       "      <td>FL, Lehigh Acres</td>\n",
       "    </tr>\n",
       "    <tr>\n",
       "      <th>4</th>\n",
       "      <td>5</td>\n",
       "      <td>Stochastic</td>\n",
       "      <td>Medium</td>\n",
       "      <td>Southeast</td>\n",
       "      <td>2 ft</td>\n",
       "      <td>20 ft^2</td>\n",
       "      <td>None</td>\n",
       "      <td>Summer = 0.7, Winter = 0.85</td>\n",
       "      <td>Fiberglass</td>\n",
       "      <td>100% Usage</td>\n",
       "      <td>...</td>\n",
       "      <td>400%+</td>\n",
       "      <td>F12 B12 L12 R12</td>\n",
       "      <td>R-30</td>\n",
       "      <td>Unfinished, Uninsulated</td>\n",
       "      <td>Wood Stud, R-19</td>\n",
       "      <td>100% Conditioned</td>\n",
       "      <td>7 ACH50</td>\n",
       "      <td>9</td>\n",
       "      <td>CAMXc</td>\n",
       "      <td>CA, Tracy</td>\n",
       "    </tr>\n",
       "    <tr>\n",
       "      <th>9</th>\n",
       "      <td>10</td>\n",
       "      <td>Stochastic</td>\n",
       "      <td>Low</td>\n",
       "      <td>South</td>\n",
       "      <td>2 ft</td>\n",
       "      <td>20 ft^2</td>\n",
       "      <td>None</td>\n",
       "      <td>Summer = 0.7, Winter = 0.85</td>\n",
       "      <td>Fiberglass</td>\n",
       "      <td>50% Usage</td>\n",
       "      <td>...</td>\n",
       "      <td>0-100%</td>\n",
       "      <td>F18 B18 L18 R18</td>\n",
       "      <td>R-7</td>\n",
       "      <td>Unfinished, Uninsulated</td>\n",
       "      <td>Wood Stud, Uninsulated</td>\n",
       "      <td>100% Conditioned</td>\n",
       "      <td>10 ACH50</td>\n",
       "      <td>72</td>\n",
       "      <td>SRMWc</td>\n",
       "      <td>MO, St Louis</td>\n",
       "    </tr>\n",
       "  </tbody>\n",
       "</table>\n",
       "<p>5 rows × 134 columns</p>\n",
       "</div>"
      ],
      "text/plain": [
       "   Building   Schedules Usage Level Orientation Eaves Door Area Overhangs  \\\n",
       "0         1  Stochastic      Medium        West  2 ft   20 ft^2      None   \n",
       "2         3  Stochastic      Medium       North  2 ft   20 ft^2      None   \n",
       "3         4  Stochastic      Medium        West  2 ft   20 ft^2      None   \n",
       "4         5  Stochastic      Medium   Southeast  2 ft   20 ft^2      None   \n",
       "9        10  Stochastic         Low       South  2 ft   20 ft^2      None   \n",
       "\n",
       "              Interior Shading       Doors Hot Water Fixtures  ...  \\\n",
       "0  Summer = 0.7, Winter = 0.85  Fiberglass         100% Usage  ...   \n",
       "2  Summer = 0.7, Winter = 0.85  Fiberglass         100% Usage  ...   \n",
       "3  Summer = 0.7, Winter = 0.85  Fiberglass         100% Usage  ...   \n",
       "4  Summer = 0.7, Winter = 0.85  Fiberglass         100% Usage  ...   \n",
       "9  Summer = 0.7, Winter = 0.85  Fiberglass          50% Usage  ...   \n",
       "\n",
       "  Federal Poverty Level     Window Areas Insulation Ceiling  \\\n",
       "0                0-100%  F15 B15 L15 R15               None   \n",
       "2                 400%+  F12 B12 L12 R12               None   \n",
       "3              300-400%      F9 B9 L9 R9               R-30   \n",
       "4                 400%+  F12 B12 L12 R12               R-30   \n",
       "9                0-100%  F18 B18 L18 R18                R-7   \n",
       "\n",
       "           Insulation Roof              Insulation Wall  \\\n",
       "0           Finished, R-13       Wood Stud, Uninsulated   \n",
       "2           Finished, R-30       Wood Stud, Uninsulated   \n",
       "3  Unfinished, Uninsulated  Brick, 12-in, 3-wythe, R-15   \n",
       "4  Unfinished, Uninsulated              Wood Stud, R-19   \n",
       "9  Unfinished, Uninsulated       Wood Stud, Uninsulated   \n",
       "\n",
       "  HVAC Cooling Partial Space Conditioning Infiltration REEDS Balancing Area  \\\n",
       "0                        100% Conditioned     15 ACH50                   10   \n",
       "2                         60% Conditioned     25 ACH50                  127   \n",
       "3                        100% Conditioned     10 ACH50                  101   \n",
       "4                        100% Conditioned      7 ACH50                    9   \n",
       "9                        100% Conditioned     10 ACH50                   72   \n",
       "\n",
       "  Generation And Emissions Assessment Region              City  \n",
       "0                                      CAMXc   CA, Los Angeles  \n",
       "2                                      NYSTc      NY, New York  \n",
       "3                                      FRCCc  FL, Lehigh Acres  \n",
       "4                                      CAMXc         CA, Tracy  \n",
       "9                                      SRMWc      MO, St Louis  \n",
       "\n",
       "[5 rows x 134 columns]"
      ]
     },
     "execution_count": 4,
     "metadata": {},
     "output_type": "execute_result"
    }
   ],
   "source": [
    "resstock_filtered = pd.read_csv(\"resstock_filtered.csv\", index_col=0)\n",
    "resstock_filtered.head()"
   ]
  },
  {
   "attachments": {},
   "cell_type": "markdown",
   "metadata": {},
   "source": [
    "Information needed to build the shoebox:\n",
    "- archetype *\n",
    "- age *\n",
    "- location (epw) *\n",
    "- window construction (name of construction) *\n",
    "- conditioning\n",
    "    - heating/cooling schedule\n",
    "    - mechanical ventilation schedule\n",
    "    - heating/cooling fuel type *\n",
    "    - heat recovery\n",
    "    - economizer\n",
    "    - heat recovery efficiency\n",
    "    - heating/cooling COP *\n",
    "    - heating/cooling setpoint *\n",
    "- ventilation\n",
    "    - infiltration *\n",
    "- construction\n",
    "    - construction types (materials & thicknesses) \n",
    "- domestic hot water\n",
    "    - water supply temperature\n",
    "    - water temperature inlet\n",
    "    - flow rate per floor area *\n",
    "    - hot water schedule\n",
    "- internal mass\n",
    "    - coverage area percentage\n",
    "    - construction type\n",
    "- internal loads\n",
    "    - people density *\n",
    "    - EPD *\n",
    "    - LPD *\n",
    "    - dimming\n",
    "    - occupancy schedule\n",
    "    - lighting schedule\n",
    "    - equipment schedule"
   ]
  },
  {
   "cell_type": "code",
   "execution_count": 5,
   "metadata": {},
   "outputs": [
    {
     "data": {
      "text/plain": [
       "array(['3B', '4A', '2A', '3A', '5A', '4C', '5B', '6A', '3C', '1A', '6B',\n",
       "       '4B', '7A', '2B'], dtype=object)"
      ]
     },
     "execution_count": 5,
     "metadata": {},
     "output_type": "execute_result"
    }
   ],
   "source": [
    "cz = resstock_filtered['ASHRAE IECC Climate Zone 2004'].unique()"
   ]
  },
  {
   "cell_type": "code",
   "execution_count": 30,
   "metadata": {},
   "outputs": [
    {
     "data": {
      "text/html": [
       "<div>\n",
       "<style scoped>\n",
       "    .dataframe tbody tr th:only-of-type {\n",
       "        vertical-align: middle;\n",
       "    }\n",
       "\n",
       "    .dataframe tbody tr th {\n",
       "        vertical-align: top;\n",
       "    }\n",
       "\n",
       "    .dataframe thead th {\n",
       "        text-align: right;\n",
       "    }\n",
       "</style>\n",
       "<table border=\"1\" class=\"dataframe\">\n",
       "  <thead>\n",
       "    <tr style=\"text-align: right;\">\n",
       "      <th></th>\n",
       "      <th>Insulation Slab</th>\n",
       "      <th>Insulation Floor</th>\n",
       "      <th>Geometry Floor Area</th>\n",
       "      <th>Geometry Floor Area Bin</th>\n",
       "    </tr>\n",
       "  </thead>\n",
       "  <tbody>\n",
       "    <tr>\n",
       "      <th>0</th>\n",
       "      <td>Uninsulated</td>\n",
       "      <td>None</td>\n",
       "      <td>500-749</td>\n",
       "      <td>0-1499</td>\n",
       "    </tr>\n",
       "    <tr>\n",
       "      <th>2</th>\n",
       "      <td>None</td>\n",
       "      <td>Uninsulated</td>\n",
       "      <td>1000-1499</td>\n",
       "      <td>0-1499</td>\n",
       "    </tr>\n",
       "    <tr>\n",
       "      <th>3</th>\n",
       "      <td>2ft R5 Perimeter, Vertical</td>\n",
       "      <td>None</td>\n",
       "      <td>1500-1999</td>\n",
       "      <td>1500-2499</td>\n",
       "    </tr>\n",
       "    <tr>\n",
       "      <th>4</th>\n",
       "      <td>2ft R5 Perimeter, Vertical</td>\n",
       "      <td>None</td>\n",
       "      <td>3000-3999</td>\n",
       "      <td>2500-3999</td>\n",
       "    </tr>\n",
       "    <tr>\n",
       "      <th>9</th>\n",
       "      <td>None</td>\n",
       "      <td>Uninsulated</td>\n",
       "      <td>1000-1499</td>\n",
       "      <td>0-1499</td>\n",
       "    </tr>\n",
       "    <tr>\n",
       "      <th>...</th>\n",
       "      <td>...</td>\n",
       "      <td>...</td>\n",
       "      <td>...</td>\n",
       "      <td>...</td>\n",
       "    </tr>\n",
       "    <tr>\n",
       "      <th>993</th>\n",
       "      <td>Uninsulated</td>\n",
       "      <td>None</td>\n",
       "      <td>1500-1999</td>\n",
       "      <td>1500-2499</td>\n",
       "    </tr>\n",
       "    <tr>\n",
       "      <th>994</th>\n",
       "      <td>None</td>\n",
       "      <td>Uninsulated</td>\n",
       "      <td>2500-2999</td>\n",
       "      <td>2500-3999</td>\n",
       "    </tr>\n",
       "    <tr>\n",
       "      <th>995</th>\n",
       "      <td>Uninsulated</td>\n",
       "      <td>None</td>\n",
       "      <td>1500-1999</td>\n",
       "      <td>1500-2499</td>\n",
       "    </tr>\n",
       "    <tr>\n",
       "      <th>996</th>\n",
       "      <td>Uninsulated</td>\n",
       "      <td>None</td>\n",
       "      <td>3000-3999</td>\n",
       "      <td>2500-3999</td>\n",
       "    </tr>\n",
       "    <tr>\n",
       "      <th>999</th>\n",
       "      <td>Uninsulated</td>\n",
       "      <td>None</td>\n",
       "      <td>1000-1499</td>\n",
       "      <td>0-1499</td>\n",
       "    </tr>\n",
       "  </tbody>\n",
       "</table>\n",
       "<p>608 rows × 4 columns</p>\n",
       "</div>"
      ],
      "text/plain": [
       "                Insulation Slab Insulation Floor Geometry Floor Area  \\\n",
       "0                   Uninsulated             None             500-749   \n",
       "2                          None      Uninsulated           1000-1499   \n",
       "3    2ft R5 Perimeter, Vertical             None           1500-1999   \n",
       "4    2ft R5 Perimeter, Vertical             None           3000-3999   \n",
       "9                          None      Uninsulated           1000-1499   \n",
       "..                          ...              ...                 ...   \n",
       "993                 Uninsulated             None           1500-1999   \n",
       "994                        None      Uninsulated           2500-2999   \n",
       "995                 Uninsulated             None           1500-1999   \n",
       "996                 Uninsulated             None           3000-3999   \n",
       "999                 Uninsulated             None           1000-1499   \n",
       "\n",
       "    Geometry Floor Area Bin  \n",
       "0                    0-1499  \n",
       "2                    0-1499  \n",
       "3                 1500-2499  \n",
       "4                 2500-3999  \n",
       "9                    0-1499  \n",
       "..                      ...  \n",
       "993               1500-2499  \n",
       "994               2500-3999  \n",
       "995               1500-2499  \n",
       "996               2500-3999  \n",
       "999                  0-1499  \n",
       "\n",
       "[608 rows x 4 columns]"
      ]
     },
     "execution_count": 30,
     "metadata": {},
     "output_type": "execute_result"
    }
   ],
   "source": [
    "resstock_filtered.filter(regex='Slab|Floor')"
   ]
  },
  {
   "cell_type": "code",
   "execution_count": 146,
   "metadata": {},
   "outputs": [
    {
     "data": {
      "text/plain": [
       "<AxesSubplot: ylabel='Count'>"
      ]
     },
     "execution_count": 146,
     "metadata": {},
     "output_type": "execute_result"
    },
    {
     "data": {
      "image/png": "[encoded data removed]",
      "text/plain": [
       "<Figure size 432x288 with 1 Axes>"
      ]
     },
     "metadata": {
      "needs_background": "light"
     },
     "output_type": "display_data"
    }
   ],
   "source": [
    "sns.histplot(plg_div*plg_loads, kde=True)"
   ]
  },
  {
   "cell_type": "code",
   "execution_count": 144,
   "metadata": {},
   "outputs": [
    {
     "data": {
      "text/plain": [
       "<AxesSubplot: xlabel='Plug Loads', ylabel='Count'>"
      ]
     },
     "execution_count": 144,
     "metadata": {},
     "output_type": "execute_result"
    },
    {
     "data": {
      "image/png": "[encoded data removed]",
      "text/plain": [
       "<Figure size 432x288 with 1 Axes>"
      ]
     },
     "metadata": {
      "needs_background": "light"
     },
     "output_type": "display_data"
    }
   ],
   "source": [
    "sns.histplot(plg_loads, kde=True)"
   ]
  }
 ],
 "metadata": {
  "kernelspec": {
   "display_name": "Python 3",
   "language": "python",
   "name": "python3"
  },
  "language_info": {
   "codemirror_mode": {
    "name": "ipython",
    "version": 3
   },
   "file_extension": ".py",
   "mimetype": "text/x-python",
   "name": "python",
   "nbconvert_exporter": "python",
   "pygments_lexer": "ipython3",
   "version": "3.9.13"
  },
  "orig_nbformat": 4
 },
 "nbformat": 4,
 "nbformat_minor": 2
}
