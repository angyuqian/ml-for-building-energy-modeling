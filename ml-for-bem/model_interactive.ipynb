{
 "cells": [
  {
   "cell_type": "code",
   "execution_count": 1,
   "metadata": {},
   "outputs": [
    {
     "name": "stdout",
     "output_type": "stream",
     "text": [
      "Couldn't import dot_parser, loading of dot files will not be possible.\n"
     ]
    },
    {
     "name": "stderr",
     "output_type": "stream",
     "text": [
      "ERROR:Schema:Failed to import a package! Be wary about continuing...\n",
      "Traceback (most recent call last):\n",
      "  File \"c:\\Users\\szvsw\\repos\\ml-for-building-energy-modeling\\ml-for-bem\\schema.py\", line 24, in <module>\n",
      "    from pyumi.shoeboxer.shoebox import ShoeBox\n",
      "ModuleNotFoundError: No module named 'pyumi'\n"
     ]
    }
   ],
   "source": [
    "from model import MonthlySurrogate\n",
    "from schema import Schema"
   ]
  },
  {
   "cell_type": "code",
   "execution_count": 2,
   "metadata": {},
   "outputs": [
    {
     "name": "stderr",
     "output_type": "stream",
     "text": [
      "INFO:Model:Loading the full dataset into main RAM...\n",
      "INFO:Model:Finished loading the full dataset.\n",
      "INFO:Model:Loading climate data...\n",
      "INFO:Model:Finished loading climate data.\n"
     ]
    }
   ],
   "source": [
    "schema = Schema()\n",
    "monthly_surrogate = MonthlySurrogate(schema)"
   ]
  },
  {
   "cell_type": "code",
   "execution_count": 3,
   "metadata": {},
   "outputs": [
    {
     "data": {
      "text/plain": [
       "((2000, 60), None)"
      ]
     },
     "execution_count": 3,
     "metadata": {},
     "output_type": "execute_result"
    }
   ],
   "source": [
    "minibatch = monthly_surrogate.full_input_batch[0:2000]\n",
    "climate_timeseries = monthly_surrogate.get_batch_climate_timeseries(minibatch)\n",
    "bldg_params, bldg_timeseries = monthly_surrogate.get_building_data(minibatch)\n",
    "# TODO: mutate schedules in MonthlySurrogate or Schema\n",
    "# TODO: use schema based normalization, or just defining globals, make sure to avoid normalizing one hots.\n",
    "# TODO: make sure windows, facademass, get set to correct values due to archetypal autoadjustment before normalizing\n",
    "bldg_params.shape, bldg_timeseries"
   ]
  }
 ],
 "metadata": {
  "kernelspec": {
   "display_name": "Python 3",
   "language": "python",
   "name": "python3"
  },
  "language_info": {
   "codemirror_mode": {
    "name": "ipython",
    "version": 3
   },
   "file_extension": ".py",
   "mimetype": "text/x-python",
   "name": "python",
   "nbconvert_exporter": "python",
   "pygments_lexer": "ipython3",
   "version": "3.8.16"
  },
  "orig_nbformat": 4
 },
 "nbformat": 4,
 "nbformat_minor": 2
}
