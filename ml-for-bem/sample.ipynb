{
 "cells": [
  {
   "cell_type": "code",
   "execution_count": 2,
   "metadata": {},
   "outputs": [
    {
     "name": "stderr",
     "output_type": "stream",
     "text": [
      "WARNING:pint.util:Redefining 'h' (<class 'pint.definitions.UnitDefinition'>)\n",
      "WARNING:pint.util:Redefining 'm3' (<class 'pint.definitions.UnitDefinition'>)\n",
      "WARNING:pint.util:Redefining 'm³' (<class 'pint.definitions.UnitDefinition'>)\n",
      "WARNING:pint.util:Redefining 'ft3' (<class 'pint.definitions.UnitDefinition'>)\n",
      "WARNING:pint.util:Redefining 'ft³' (<class 'pint.definitions.UnitDefinition'>)\n",
      "WARNING:pint.util:Redefining 'ft2' (<class 'pint.definitions.UnitDefinition'>)\n",
      "WARNING:pint.util:Redefining 'ft²' (<class 'pint.definitions.UnitDefinition'>)\n",
      "WARNING:pint.util:Redefining 'm2' (<class 'pint.definitions.UnitDefinition'>)\n",
      "WARNING:pint.util:Redefining 'm²' (<class 'pint.definitions.UnitDefinition'>)\n",
      "WARNING:pint.util:Redefining 'inch2' (<class 'pint.definitions.UnitDefinition'>)\n",
      "WARNING:pint.util:Redefining 'inch²' (<class 'pint.definitions.UnitDefinition'>)\n",
      "WARNING:pint.util:Redefining 'delta_degree_Celsius' (<class 'pint.definitions.UnitDefinition'>)\n",
      "WARNING:pint.util:Redefining 'Δ°C' (<class 'pint.definitions.UnitDefinition'>)\n",
      "WARNING:pint.util:Redefining 'Δcelsius' (<class 'pint.definitions.UnitDefinition'>)\n",
      "WARNING:pint.util:Redefining 'ΔdegC' (<class 'pint.definitions.UnitDefinition'>)\n",
      "WARNING:pint.util:Redefining 'ΔdegreeC' (<class 'pint.definitions.UnitDefinition'>)\n",
      "WARNING:pint.util:Redefining 'delta_celsius' (<class 'pint.definitions.UnitDefinition'>)\n",
      "WARNING:pint.util:Redefining 'delta_degC' (<class 'pint.definitions.UnitDefinition'>)\n",
      "WARNING:pint.util:Redefining 'delta_degreeC' (<class 'pint.definitions.UnitDefinition'>)\n",
      "WARNING:pint.util:Redefining 'degree_Celsius' (<class 'pint.definitions.UnitDefinition'>)\n",
      "WARNING:pint.util:Redefining '°C' (<class 'pint.definitions.UnitDefinition'>)\n",
      "WARNING:pint.util:Redefining 'celsius' (<class 'pint.definitions.UnitDefinition'>)\n",
      "WARNING:pint.util:Redefining 'degC' (<class 'pint.definitions.UnitDefinition'>)\n",
      "WARNING:pint.util:Redefining 'degreeC' (<class 'pint.definitions.UnitDefinition'>)\n",
      "WARNING:pint.util:Redefining 'C' (<class 'pint.definitions.UnitDefinition'>)\n"
     ]
    }
   ],
   "source": [
    "\n",
    "import os\n",
    "\n",
    "import pandas as pd\n",
    "import numpy as np\n",
    "import h5py\n",
    "import matplotlib.pyplot as plt\n",
    "\n",
    "from storage import upload_to_bucket\n",
    "\n",
    "from schema import Schema, ShoeboxGeometryParameter, BuildingTemplateParameter, WhiteboxSimulation, WindowParameter, SchedulesParameters\n",
    "from nrel_uitls import ResStockConfiguration\n"
   ]
  },
  {
   "cell_type": "code",
   "execution_count": 3,
   "metadata": {},
   "outputs": [],
   "source": [
    "schema = Schema()"
   ]
  },
  {
   "cell_type": "code",
   "execution_count": 4,
   "metadata": {},
   "outputs": [
    {
     "name": "stdout",
     "output_type": "stream",
     "text": [
      "Dropped 17 samples while cleaning. Now there are 591 samples.\n"
     ]
    },
    {
     "data": {
      "text/plain": [
       "count    591.000000\n",
       "mean       0.945962\n",
       "std        1.832182\n",
       "min        0.037500\n",
       "25%        0.272143\n",
       "50%        0.272143\n",
       "75%        0.272143\n",
       "max        8.901942\n",
       "Name: RoofRValue, dtype: float64"
      ]
     },
     "execution_count": 4,
     "metadata": {},
     "output_type": "execute_result"
    }
   ],
   "source": [
    "\n",
    "basepath = os.path.dirname(os.getcwd())\n",
    "filepath = os.path.join(basepath, \"NREL\", \"data\", \"ResStock\", \"resstock_filtered.csv\")\n",
    "citypath = os.path.join(os.getcwd(), \"data\", \"city_map.json\")\n",
    "resstock_filtered = pd.read_csv(filepath, index_col=0)\n",
    "resstock_samples = ResStockConfiguration(resstock_filtered, citypath)\n",
    "sample_df = resstock_samples.get_template_df()\n",
    "sample_df.head()\n",
    "sample_df.RoofRValue.describe()\n"
   ]
  },
  {
   "cell_type": "code",
   "execution_count": 5,
   "metadata": {},
   "outputs": [
    {
     "data": {
      "text/plain": [
       "(Index(['bldg_id', 'archetype', 'vintage', 'climate_zone', 'base_epw',\n",
       "        'window_type', 'wwr', 'heating_setpoint', 'cooling_setpoint',\n",
       "        'Infiltration', 'dhw_flow', 'PeopleDensity', 'LightingPowerDensity',\n",
       "        'EquipmentPowerDensity', 'FacadeMass', 'FacadeRValue', 'RoofRValue',\n",
       "        'PartitionRValue', 'SlabRValue', 'has_electric_heating', 'heating_cop',\n",
       "        'has_cooling', 'cooling_cop'],\n",
       "       dtype='object'),\n",
       " ['batch_id',\n",
       "  'variation_id',\n",
       "  'program_type',\n",
       "  'vintage',\n",
       "  'climate_zone',\n",
       "  'base_epw',\n",
       "  'width',\n",
       "  'height',\n",
       "  'facade_2_footprint',\n",
       "  'perim_2_footprint',\n",
       "  'roof_2_footprint',\n",
       "  'footprint_2_ground',\n",
       "  'wwr',\n",
       "  'orientation',\n",
       "  'HeatingSetpoint',\n",
       "  'CoolingSetpoint',\n",
       "  'LightingPowerDensity',\n",
       "  'EquipmentPowerDensity',\n",
       "  'PeopleDensity',\n",
       "  'Infiltration',\n",
       "  'FacadeMass',\n",
       "  'RoofMass',\n",
       "  'FacadeRValue',\n",
       "  'RoofRValue',\n",
       "  'SlabRValue',\n",
       "  'WindowSettings',\n",
       "  'schedules_seed',\n",
       "  'schedules'])"
      ]
     },
     "execution_count": 5,
     "metadata": {},
     "output_type": "execute_result"
    }
   ],
   "source": [
    "sample_df.columns, schema.parameter_names"
   ]
  },
  {
   "cell_type": "code",
   "execution_count": 34,
   "metadata": {},
   "outputs": [
    {
     "name": "stderr",
     "output_type": "stream",
     "text": [
      "INFO:Storage:Uploading ./data/hdf5/batch_00000.hdf5 to bucket:final_batches/batch_00000.hdf5...\n"
     ]
    },
    {
     "name": "stdout",
     "output_type": "stream",
     "text": [
      "0.0\n",
      "2.561681427061843\n",
      "2971.8\n"
     ]
    },
    {
     "name": "stderr",
     "output_type": "stream",
     "text": [
      "INFO:Storage:Done uploading.\n",
      "INFO:Storage:Uploading ./data/hdf5/batch_00001.hdf5 to bucket:final_batches/batch_00001.hdf5...\n",
      "INFO:Storage:Done uploading.\n",
      "INFO:Storage:Uploading ./data/hdf5/batch_00002.hdf5 to bucket:final_batches/batch_00002.hdf5...\n"
     ]
    },
    {
     "name": "stdout",
     "output_type": "stream",
     "text": [
      "1.0\n",
      "5.555693403109746\n",
      "2971.8\n",
      "2.0\n",
      "0.27214285714285713\n",
      "280416.0\n"
     ]
    },
    {
     "name": "stderr",
     "output_type": "stream",
     "text": [
      "INFO:Storage:Done uploading.\n",
      "INFO:Storage:Uploading ./data/hdf5/batch_00003.hdf5 to bucket:final_batches/batch_00003.hdf5...\n",
      "INFO:Storage:Done uploading.\n",
      "INFO:Storage:Uploading ./data/hdf5/batch_00004.hdf5 to bucket:final_batches/batch_00004.hdf5...\n",
      "INFO:Storage:Done uploading.\n"
     ]
    },
    {
     "name": "stdout",
     "output_type": "stream",
     "text": [
      "3.0\n",
      "0.27214285714285713\n",
      "2971.8\n",
      "4.0\n",
      "0.27214285714285713\n",
      "2971.8\n"
     ]
    },
    {
     "name": "stderr",
     "output_type": "stream",
     "text": [
      "INFO:Storage:Uploading ./data/hdf5/batch_00005.hdf5 to bucket:final_batches/batch_00005.hdf5...\n",
      "INFO:Storage:Done uploading.\n",
      "INFO:Storage:Uploading ./data/hdf5/batch_00006.hdf5 to bucket:final_batches/batch_00006.hdf5...\n"
     ]
    },
    {
     "name": "stdout",
     "output_type": "stream",
     "text": [
      "5.0\n",
      "0.27214285714285713\n",
      "2971.8\n",
      "6.0\n",
      "0.27214285714285713\n",
      "2971.8\n"
     ]
    },
    {
     "name": "stderr",
     "output_type": "stream",
     "text": [
      "INFO:Storage:Done uploading.\n",
      "INFO:Storage:Uploading ./data/hdf5/batch_00007.hdf5 to bucket:final_batches/batch_00007.hdf5...\n",
      "INFO:Storage:Done uploading.\n",
      "INFO:Storage:Uploading ./data/hdf5/batch_00008.hdf5 to bucket:final_batches/batch_00008.hdf5...\n",
      "INFO:Storage:Done uploading.\n"
     ]
    },
    {
     "name": "stdout",
     "output_type": "stream",
     "text": [
      "7.0\n",
      "0.27214285714285713\n",
      "2971.8\n",
      "8.0\n",
      "0.27214285714285713\n",
      "2971.8\n"
     ]
    },
    {
     "name": "stderr",
     "output_type": "stream",
     "text": [
      "INFO:Storage:Uploading ./data/hdf5/batch_00009.hdf5 to bucket:final_batches/batch_00009.hdf5...\n",
      "INFO:Storage:Done uploading.\n",
      "INFO:Storage:Uploading ./data/hdf5/batch_00010.hdf5 to bucket:final_batches/batch_00010.hdf5...\n"
     ]
    },
    {
     "name": "stdout",
     "output_type": "stream",
     "text": [
      "9.0\n",
      "0.27214285714285713\n",
      "280416.0\n",
      "10.0\n",
      "0.0375\n",
      "2971.8\n"
     ]
    },
    {
     "name": "stderr",
     "output_type": "stream",
     "text": [
      "INFO:Storage:Done uploading.\n",
      "INFO:Storage:Uploading ./data/hdf5/batch_00011.hdf5 to bucket:final_batches/batch_00011.hdf5...\n",
      "INFO:Storage:Done uploading.\n",
      "INFO:Storage:Uploading ./data/hdf5/batch_00012.hdf5 to bucket:final_batches/batch_00012.hdf5...\n",
      "INFO:Storage:Done uploading.\n"
     ]
    },
    {
     "name": "stdout",
     "output_type": "stream",
     "text": [
      "11.0\n",
      "0.27214285714285713\n",
      "2971.8\n",
      "0.0\n",
      "0.27214285714285713\n",
      "2971.8\n"
     ]
    },
    {
     "name": "stderr",
     "output_type": "stream",
     "text": [
      "INFO:Storage:Uploading ./data/hdf5/batch_00013.hdf5 to bucket:final_batches/batch_00013.hdf5...\n",
      "INFO:Storage:Done uploading.\n",
      "INFO:Storage:Uploading ./data/hdf5/batch_00014.hdf5 to bucket:final_batches/batch_00014.hdf5...\n"
     ]
    },
    {
     "name": "stdout",
     "output_type": "stream",
     "text": [
      "12.0\n",
      "0.27214285714285713\n",
      "2971.8\n",
      "13.0\n",
      "0.27214285714285713\n",
      "2971.8\n"
     ]
    },
    {
     "name": "stderr",
     "output_type": "stream",
     "text": [
      "INFO:Storage:Done uploading.\n",
      "INFO:Storage:Uploading ./data/hdf5/batch_00015.hdf5 to bucket:final_batches/batch_00015.hdf5...\n",
      "INFO:Storage:Done uploading.\n",
      "INFO:Storage:Uploading ./data/hdf5/batch_00016.hdf5 to bucket:final_batches/batch_00016.hdf5...\n"
     ]
    },
    {
     "name": "stdout",
     "output_type": "stream",
     "text": [
      "14.0\n",
      "0.27214285714285713\n",
      "2971.8\n",
      "15.0\n",
      "5.555693403109746\n",
      "2971.8\n"
     ]
    },
    {
     "name": "stderr",
     "output_type": "stream",
     "text": [
      "INFO:Storage:Done uploading.\n",
      "INFO:Storage:Uploading ./data/hdf5/batch_00017.hdf5 to bucket:final_batches/batch_00017.hdf5...\n",
      "INFO:Storage:Done uploading.\n",
      "INFO:Storage:Uploading ./data/hdf5/batch_00018.hdf5 to bucket:final_batches/batch_00018.hdf5...\n",
      "INFO:Storage:Done uploading.\n"
     ]
    },
    {
     "name": "stdout",
     "output_type": "stream",
     "text": [
      "16.0\n",
      "0.27214285714285713\n",
      "280416.0\n",
      "17.0\n",
      "0.27214285714285713\n",
      "2971.8\n"
     ]
    },
    {
     "name": "stderr",
     "output_type": "stream",
     "text": [
      "INFO:Storage:Uploading ./data/hdf5/batch_00019.hdf5 to bucket:final_batches/batch_00019.hdf5...\n",
      "INFO:Storage:Done uploading.\n",
      "INFO:Storage:Uploading ./data/hdf5/batch_00020.hdf5 to bucket:final_batches/batch_00020.hdf5...\n"
     ]
    },
    {
     "name": "stdout",
     "output_type": "stream",
     "text": [
      "18.0\n",
      "0.27214285714285713\n",
      "2971.8\n",
      "19.0\n",
      "0.27214285714285713\n",
      "2971.8\n"
     ]
    },
    {
     "name": "stderr",
     "output_type": "stream",
     "text": [
      "INFO:Storage:Done uploading.\n",
      "INFO:Storage:Uploading ./data/hdf5/batch_00021.hdf5 to bucket:final_batches/batch_00021.hdf5...\n",
      "INFO:Storage:Done uploading.\n",
      "INFO:Storage:Uploading ./data/hdf5/batch_00022.hdf5 to bucket:final_batches/batch_00022.hdf5...\n"
     ]
    },
    {
     "name": "stdout",
     "output_type": "stream",
     "text": [
      "1.0\n",
      "1.5049713178684647\n",
      "2971.8\n",
      "16.0\n",
      "0.27214285714285713\n",
      "280416.0\n"
     ]
    },
    {
     "name": "stderr",
     "output_type": "stream",
     "text": [
      "INFO:Storage:Done uploading.\n",
      "INFO:Storage:Uploading ./data/hdf5/batch_00023.hdf5 to bucket:final_batches/batch_00023.hdf5...\n",
      "INFO:Storage:Done uploading.\n",
      "INFO:Storage:Uploading ./data/hdf5/batch_00024.hdf5 to bucket:final_batches/batch_00024.hdf5...\n"
     ]
    },
    {
     "name": "stdout",
     "output_type": "stream",
     "text": [
      "20.0\n",
      "3.6183915362552206\n",
      "2971.8\n",
      "21.0\n",
      "0.27214285714285713\n",
      "280416.0\n"
     ]
    },
    {
     "name": "stderr",
     "output_type": "stream",
     "text": [
      "INFO:Storage:Done uploading.\n",
      "INFO:Storage:Uploading ./data/hdf5/batch_00025.hdf5 to bucket:final_batches/batch_00025.hdf5...\n",
      "INFO:Storage:Done uploading.\n",
      "INFO:Storage:Uploading ./data/hdf5/batch_00026.hdf5 to bucket:final_batches/batch_00026.hdf5...\n",
      "INFO:Storage:Done uploading.\n"
     ]
    },
    {
     "name": "stdout",
     "output_type": "stream",
     "text": [
      "1.0\n",
      "0.27214285714285713\n",
      "2971.8\n",
      "16.0\n",
      "5.555693403109746\n",
      "2971.8\n"
     ]
    },
    {
     "name": "stderr",
     "output_type": "stream",
     "text": [
      "INFO:Storage:Uploading ./data/hdf5/batch_00027.hdf5 to bucket:final_batches/batch_00027.hdf5...\n",
      "INFO:Storage:Done uploading.\n",
      "INFO:Storage:Uploading ./data/hdf5/batch_00028.hdf5 to bucket:final_batches/batch_00028.hdf5...\n",
      "INFO:Storage:Done uploading.\n"
     ]
    },
    {
     "name": "stdout",
     "output_type": "stream",
     "text": [
      "22.0\n",
      "0.06531428571428571\n",
      "2971.8\n",
      "23.0\n",
      "0.27214285714285713\n",
      "2971.8\n"
     ]
    },
    {
     "name": "stderr",
     "output_type": "stream",
     "text": [
      "INFO:Storage:Uploading ./data/hdf5/batch_00029.hdf5 to bucket:final_batches/batch_00029.hdf5...\n",
      "INFO:Storage:Done uploading.\n",
      "INFO:Storage:Uploading ./data/hdf5/batch_00030.hdf5 to bucket:final_batches/batch_00030.hdf5...\n"
     ]
    },
    {
     "name": "stdout",
     "output_type": "stream",
     "text": [
      "24.0\n",
      "0.27214285714285713\n",
      "2971.8\n",
      "25.0\n",
      "0.27214285714285713\n",
      "2971.8\n"
     ]
    },
    {
     "name": "stderr",
     "output_type": "stream",
     "text": [
      "INFO:Storage:Done uploading.\n",
      "INFO:Storage:Uploading ./data/hdf5/batch_00031.hdf5 to bucket:final_batches/batch_00031.hdf5...\n",
      "INFO:Storage:Done uploading.\n",
      "INFO:Storage:Uploading ./data/hdf5/batch_00032.hdf5 to bucket:final_batches/batch_00032.hdf5...\n",
      "INFO:Storage:Done uploading.\n"
     ]
    },
    {
     "name": "stdout",
     "output_type": "stream",
     "text": [
      "1.0\n",
      "3.6183915362552206\n",
      "280416.0\n",
      "1.0\n",
      "1.5049713178684647\n",
      "280416.0\n"
     ]
    },
    {
     "name": "stderr",
     "output_type": "stream",
     "text": [
      "INFO:Storage:Uploading ./data/hdf5/batch_00033.hdf5 to bucket:final_batches/batch_00033.hdf5...\n",
      "INFO:Storage:Done uploading.\n",
      "INFO:Storage:Uploading ./data/hdf5/batch_00034.hdf5 to bucket:final_batches/batch_00034.hdf5...\n",
      "INFO:Storage:Done uploading.\n"
     ]
    },
    {
     "name": "stdout",
     "output_type": "stream",
     "text": [
      "0.0\n",
      "0.27214285714285713\n",
      "2971.8\n",
      "26.0\n",
      "0.27214285714285713\n",
      "2971.8\n"
     ]
    },
    {
     "name": "stderr",
     "output_type": "stream",
     "text": [
      "INFO:Storage:Uploading ./data/hdf5/batch_00035.hdf5 to bucket:final_batches/batch_00035.hdf5...\n",
      "INFO:Storage:Done uploading.\n",
      "INFO:Storage:Uploading ./data/hdf5/batch_00036.hdf5 to bucket:final_batches/batch_00036.hdf5...\n"
     ]
    },
    {
     "name": "stdout",
     "output_type": "stream",
     "text": [
      "27.0\n",
      "5.555693403109746\n",
      "2971.8\n",
      "0.0\n",
      "0.27214285714285713\n",
      "2971.8\n"
     ]
    },
    {
     "name": "stderr",
     "output_type": "stream",
     "text": [
      "INFO:Storage:Done uploading.\n",
      "INFO:Storage:Uploading ./data/hdf5/batch_00037.hdf5 to bucket:final_batches/batch_00037.hdf5...\n",
      "INFO:Storage:Done uploading.\n",
      "INFO:Storage:Uploading ./data/hdf5/batch_00038.hdf5 to bucket:final_batches/batch_00038.hdf5...\n",
      "INFO:Storage:Done uploading.\n"
     ]
    },
    {
     "name": "stdout",
     "output_type": "stream",
     "text": [
      "16.0\n",
      "0.27214285714285713\n",
      "280416.0\n",
      "28.0\n",
      "0.0375\n",
      "2971.8\n"
     ]
    },
    {
     "name": "stderr",
     "output_type": "stream",
     "text": [
      "INFO:Storage:Uploading ./data/hdf5/batch_00039.hdf5 to bucket:final_batches/batch_00039.hdf5...\n",
      "INFO:Storage:Done uploading.\n",
      "INFO:Storage:Uploading ./data/hdf5/batch_00040.hdf5 to bucket:final_batches/batch_00040.hdf5...\n",
      "INFO:Storage:Done uploading.\n"
     ]
    },
    {
     "name": "stdout",
     "output_type": "stream",
     "text": [
      "29.0\n",
      "0.27214285714285713\n",
      "2971.8\n",
      "16.0\n",
      "0.27214285714285713\n",
      "280416.0\n"
     ]
    },
    {
     "name": "stderr",
     "output_type": "stream",
     "text": [
      "INFO:Storage:Uploading ./data/hdf5/batch_00041.hdf5 to bucket:final_batches/batch_00041.hdf5...\n",
      "INFO:Storage:Done uploading.\n",
      "INFO:Storage:Uploading ./data/hdf5/batch_00042.hdf5 to bucket:final_batches/batch_00042.hdf5...\n",
      "INFO:Storage:Done uploading.\n"
     ]
    },
    {
     "name": "stdout",
     "output_type": "stream",
     "text": [
      "30.0\n",
      "0.27214285714285713\n",
      "2971.8\n",
      "31.0\n",
      "0.27214285714285713\n",
      "2971.8\n"
     ]
    },
    {
     "name": "stderr",
     "output_type": "stream",
     "text": [
      "INFO:Storage:Uploading ./data/hdf5/batch_00043.hdf5 to bucket:final_batches/batch_00043.hdf5...\n",
      "INFO:Storage:Done uploading.\n",
      "INFO:Storage:Uploading ./data/hdf5/batch_00044.hdf5 to bucket:final_batches/batch_00044.hdf5...\n",
      "INFO:Storage:Done uploading.\n"
     ]
    },
    {
     "name": "stdout",
     "output_type": "stream",
     "text": [
      "32.0\n",
      "0.27214285714285713\n",
      "280416.0\n",
      "33.0\n",
      "0.27214285714285713\n",
      "2971.8\n"
     ]
    },
    {
     "name": "stderr",
     "output_type": "stream",
     "text": [
      "INFO:Storage:Uploading ./data/hdf5/batch_00045.hdf5 to bucket:final_batches/batch_00045.hdf5...\n",
      "INFO:Storage:Done uploading.\n",
      "INFO:Storage:Uploading ./data/hdf5/batch_00046.hdf5 to bucket:final_batches/batch_00046.hdf5...\n",
      "INFO:Storage:Done uploading.\n"
     ]
    },
    {
     "name": "stdout",
     "output_type": "stream",
     "text": [
      "34.0\n",
      "0.27214285714285713\n",
      "2971.8\n",
      "35.0\n",
      "0.0375\n",
      "2971.8\n"
     ]
    },
    {
     "name": "stderr",
     "output_type": "stream",
     "text": [
      "INFO:Storage:Uploading ./data/hdf5/batch_00047.hdf5 to bucket:final_batches/batch_00047.hdf5...\n",
      "INFO:Storage:Done uploading.\n",
      "INFO:Storage:Uploading ./data/hdf5/batch_00048.hdf5 to bucket:final_batches/batch_00048.hdf5...\n",
      "INFO:Storage:Done uploading.\n"
     ]
    },
    {
     "name": "stdout",
     "output_type": "stream",
     "text": [
      "36.0\n",
      "0.27214285714285713\n",
      "2971.8\n",
      "37.0\n",
      "0.27214285714285713\n",
      "280416.0\n"
     ]
    },
    {
     "name": "stderr",
     "output_type": "stream",
     "text": [
      "INFO:Storage:Uploading ./data/hdf5/batch_00049.hdf5 to bucket:final_batches/batch_00049.hdf5...\n",
      "INFO:Storage:Done uploading.\n",
      "INFO:Storage:Uploading ./data/hdf5/batch_00050.hdf5 to bucket:final_batches/batch_00050.hdf5...\n"
     ]
    },
    {
     "name": "stdout",
     "output_type": "stream",
     "text": [
      "1.0\n",
      "0.27214285714285713\n",
      "2971.8\n",
      "38.0\n",
      "0.0375\n",
      "2971.8\n"
     ]
    },
    {
     "name": "stderr",
     "output_type": "stream",
     "text": [
      "INFO:Storage:Done uploading.\n",
      "INFO:Storage:Uploading ./data/hdf5/batch_00051.hdf5 to bucket:final_batches/batch_00051.hdf5...\n",
      "INFO:Storage:Done uploading.\n",
      "INFO:Storage:Uploading ./data/hdf5/batch_00052.hdf5 to bucket:final_batches/batch_00052.hdf5...\n"
     ]
    },
    {
     "name": "stdout",
     "output_type": "stream",
     "text": [
      "39.0\n",
      "0.27214285714285713\n",
      "2971.8\n",
      "40.0\n",
      "0.27214285714285713\n",
      "2971.8\n"
     ]
    },
    {
     "name": "stderr",
     "output_type": "stream",
     "text": [
      "INFO:Storage:Done uploading.\n",
      "INFO:Storage:Uploading ./data/hdf5/batch_00053.hdf5 to bucket:final_batches/batch_00053.hdf5...\n",
      "INFO:Storage:Done uploading.\n",
      "INFO:Storage:Uploading ./data/hdf5/batch_00054.hdf5 to bucket:final_batches/batch_00054.hdf5...\n",
      "INFO:Storage:Done uploading.\n"
     ]
    },
    {
     "name": "stdout",
     "output_type": "stream",
     "text": [
      "16.0\n",
      "0.27214285714285713\n",
      "280416.0\n",
      "0.0\n",
      "0.0375\n",
      "2971.8\n"
     ]
    },
    {
     "name": "stderr",
     "output_type": "stream",
     "text": [
      "INFO:Storage:Uploading ./data/hdf5/batch_00055.hdf5 to bucket:final_batches/batch_00055.hdf5...\n",
      "INFO:Storage:Done uploading.\n",
      "INFO:Storage:Uploading ./data/hdf5/batch_00056.hdf5 to bucket:final_batches/batch_00056.hdf5...\n",
      "INFO:Storage:Done uploading.\n"
     ]
    },
    {
     "name": "stdout",
     "output_type": "stream",
     "text": [
      "41.0\n",
      "0.27214285714285713\n",
      "280416.0\n",
      "42.0\n",
      "0.27214285714285713\n",
      "280416.0\n"
     ]
    },
    {
     "name": "stderr",
     "output_type": "stream",
     "text": [
      "INFO:Storage:Uploading ./data/hdf5/batch_00057.hdf5 to bucket:final_batches/batch_00057.hdf5...\n",
      "INFO:Storage:Done uploading.\n",
      "INFO:Storage:Uploading ./data/hdf5/batch_00058.hdf5 to bucket:final_batches/batch_00058.hdf5...\n",
      "INFO:Storage:Done uploading.\n"
     ]
    },
    {
     "name": "stdout",
     "output_type": "stream",
     "text": [
      "40.0\n",
      "0.27214285714285713\n",
      "2971.8\n",
      "43.0\n",
      "0.27214285714285713\n",
      "2971.8\n"
     ]
    },
    {
     "name": "stderr",
     "output_type": "stream",
     "text": [
      "INFO:Storage:Uploading ./data/hdf5/batch_00059.hdf5 to bucket:final_batches/batch_00059.hdf5...\n",
      "INFO:Storage:Done uploading.\n",
      "INFO:Storage:Uploading ./data/hdf5/batch_00060.hdf5 to bucket:final_batches/batch_00060.hdf5...\n"
     ]
    },
    {
     "name": "stdout",
     "output_type": "stream",
     "text": [
      "24.0\n",
      "6.9646402153675835\n",
      "2971.8\n",
      "44.0\n",
      "0.27214285714285713\n",
      "280416.0\n"
     ]
    },
    {
     "name": "stderr",
     "output_type": "stream",
     "text": [
      "INFO:Storage:Done uploading.\n",
      "INFO:Storage:Uploading ./data/hdf5/batch_00061.hdf5 to bucket:final_batches/batch_00061.hdf5...\n",
      "INFO:Storage:Done uploading.\n",
      "INFO:Storage:Uploading ./data/hdf5/batch_00062.hdf5 to bucket:final_batches/batch_00062.hdf5...\n",
      "INFO:Storage:Done uploading.\n"
     ]
    },
    {
     "name": "stdout",
     "output_type": "stream",
     "text": [
      "45.0\n",
      "0.27214285714285713\n",
      "2971.8\n",
      "46.0\n",
      "0.27214285714285713\n",
      "2971.8\n"
     ]
    },
    {
     "name": "stderr",
     "output_type": "stream",
     "text": [
      "INFO:Storage:Uploading ./data/hdf5/batch_00063.hdf5 to bucket:final_batches/batch_00063.hdf5...\n",
      "INFO:Storage:Done uploading.\n",
      "INFO:Storage:Uploading ./data/hdf5/batch_00064.hdf5 to bucket:final_batches/batch_00064.hdf5...\n",
      "INFO:Storage:Done uploading.\n"
     ]
    },
    {
     "name": "stdout",
     "output_type": "stream",
     "text": [
      "47.0\n",
      "0.27214285714285713\n",
      "2971.8\n",
      "18.0\n",
      "0.27214285714285713\n",
      "2971.8\n"
     ]
    },
    {
     "name": "stderr",
     "output_type": "stream",
     "text": [
      "INFO:Storage:Uploading ./data/hdf5/batch_00065.hdf5 to bucket:final_batches/batch_00065.hdf5...\n",
      "INFO:Storage:Done uploading.\n",
      "INFO:Storage:Uploading ./data/hdf5/batch_00066.hdf5 to bucket:final_batches/batch_00066.hdf5...\n",
      "INFO:Storage:Done uploading.\n"
     ]
    },
    {
     "name": "stdout",
     "output_type": "stream",
     "text": [
      "5.0\n",
      "0.27214285714285713\n",
      "2971.8\n",
      "48.0\n",
      "0.27214285714285713\n",
      "2971.8\n"
     ]
    },
    {
     "name": "stderr",
     "output_type": "stream",
     "text": [
      "INFO:Storage:Uploading ./data/hdf5/batch_00067.hdf5 to bucket:final_batches/batch_00067.hdf5...\n",
      "INFO:Storage:Done uploading.\n",
      "INFO:Storage:Uploading ./data/hdf5/batch_00068.hdf5 to bucket:final_batches/batch_00068.hdf5...\n",
      "INFO:Storage:Done uploading.\n"
     ]
    },
    {
     "name": "stdout",
     "output_type": "stream",
     "text": [
      "12.0\n",
      "0.27214285714285713\n",
      "2971.8\n",
      "49.0\n",
      "0.27214285714285713\n",
      "112654.08\n"
     ]
    },
    {
     "name": "stderr",
     "output_type": "stream",
     "text": [
      "INFO:Storage:Uploading ./data/hdf5/batch_00069.hdf5 to bucket:final_batches/batch_00069.hdf5...\n",
      "INFO:Storage:Done uploading.\n",
      "INFO:Storage:Uploading ./data/hdf5/batch_00070.hdf5 to bucket:final_batches/batch_00070.hdf5...\n"
     ]
    },
    {
     "name": "stdout",
     "output_type": "stream",
     "text": [
      "50.0\n",
      "0.0375\n",
      "2971.8\n",
      "51.0\n",
      "0.27214285714285713\n",
      "280416.0\n"
     ]
    },
    {
     "name": "stderr",
     "output_type": "stream",
     "text": [
      "INFO:Storage:Done uploading.\n",
      "INFO:Storage:Uploading ./data/hdf5/batch_00071.hdf5 to bucket:final_batches/batch_00071.hdf5...\n",
      "INFO:Storage:Done uploading.\n",
      "INFO:Storage:Uploading ./data/hdf5/batch_00072.hdf5 to bucket:final_batches/batch_00072.hdf5...\n",
      "INFO:Storage:Done uploading.\n"
     ]
    },
    {
     "name": "stdout",
     "output_type": "stream",
     "text": [
      "52.0\n",
      "0.27214285714285713\n",
      "2971.8\n",
      "53.0\n",
      "0.27214285714285713\n",
      "2971.8\n"
     ]
    },
    {
     "name": "stderr",
     "output_type": "stream",
     "text": [
      "INFO:Storage:Uploading ./data/hdf5/batch_00073.hdf5 to bucket:final_batches/batch_00073.hdf5...\n",
      "INFO:Storage:Done uploading.\n",
      "INFO:Storage:Uploading ./data/hdf5/batch_00074.hdf5 to bucket:final_batches/batch_00074.hdf5...\n",
      "INFO:Storage:Done uploading.\n"
     ]
    },
    {
     "name": "stdout",
     "output_type": "stream",
     "text": [
      "54.0\n",
      "0.27214285714285713\n",
      "2971.8\n",
      "55.0\n",
      "0.27214285714285713\n",
      "2971.8\n"
     ]
    },
    {
     "name": "stderr",
     "output_type": "stream",
     "text": [
      "INFO:Storage:Uploading ./data/hdf5/batch_00075.hdf5 to bucket:final_batches/batch_00075.hdf5...\n",
      "INFO:Storage:Done uploading.\n",
      "INFO:Storage:Uploading ./data/hdf5/batch_00076.hdf5 to bucket:final_batches/batch_00076.hdf5...\n",
      "INFO:Storage:Done uploading.\n"
     ]
    },
    {
     "name": "stdout",
     "output_type": "stream",
     "text": [
      "56.0\n",
      "0.27214285714285713\n",
      "280416.0\n",
      "57.0\n",
      "0.27214285714285713\n",
      "2971.8\n"
     ]
    },
    {
     "name": "stderr",
     "output_type": "stream",
     "text": [
      "INFO:Storage:Uploading ./data/hdf5/batch_00077.hdf5 to bucket:final_batches/batch_00077.hdf5...\n",
      "INFO:Storage:Done uploading.\n",
      "INFO:Storage:Uploading ./data/hdf5/batch_00078.hdf5 to bucket:final_batches/batch_00078.hdf5...\n",
      "INFO:Storage:Done uploading.\n"
     ]
    },
    {
     "name": "stdout",
     "output_type": "stream",
     "text": [
      "58.0\n",
      "0.27214285714285713\n",
      "2971.8\n",
      "59.0\n",
      "0.27214285714285713\n",
      "2971.8\n",
      "60.0\n",
      "0.27214285714285713\n",
      "280416.0\n"
     ]
    },
    {
     "name": "stderr",
     "output_type": "stream",
     "text": [
      "INFO:Storage:Uploading ./data/hdf5/batch_00079.hdf5 to bucket:final_batches/batch_00079.hdf5...\n",
      "INFO:Storage:Done uploading.\n",
      "INFO:Storage:Uploading ./data/hdf5/batch_00080.hdf5 to bucket:final_batches/batch_00080.hdf5...\n",
      "INFO:Storage:Done uploading.\n",
      "INFO:Storage:Uploading ./data/hdf5/batch_00081.hdf5 to bucket:final_batches/batch_00081.hdf5...\n"
     ]
    },
    {
     "name": "stdout",
     "output_type": "stream",
     "text": [
      "61.0\n",
      "0.27214285714285713\n",
      "280416.0\n",
      "62.0\n",
      "0.27214285714285713\n",
      "2971.8\n"
     ]
    },
    {
     "name": "stderr",
     "output_type": "stream",
     "text": [
      "INFO:Storage:Done uploading.\n",
      "INFO:Storage:Uploading ./data/hdf5/batch_00082.hdf5 to bucket:final_batches/batch_00082.hdf5...\n",
      "INFO:Storage:Done uploading.\n",
      "INFO:Storage:Uploading ./data/hdf5/batch_00083.hdf5 to bucket:final_batches/batch_00083.hdf5...\n"
     ]
    },
    {
     "name": "stdout",
     "output_type": "stream",
     "text": [
      "63.0\n",
      "0.27214285714285713\n",
      "2971.8\n",
      "64.0\n",
      "0.27214285714285713\n",
      "112654.08\n"
     ]
    },
    {
     "name": "stderr",
     "output_type": "stream",
     "text": [
      "INFO:Storage:Done uploading.\n",
      "INFO:Storage:Uploading ./data/hdf5/batch_00084.hdf5 to bucket:final_batches/batch_00084.hdf5...\n",
      "INFO:Storage:Done uploading.\n",
      "INFO:Storage:Uploading ./data/hdf5/batch_00085.hdf5 to bucket:final_batches/batch_00085.hdf5...\n",
      "INFO:Storage:Done uploading.\n"
     ]
    },
    {
     "name": "stdout",
     "output_type": "stream",
     "text": [
      "65.0\n",
      "0.27214285714285713\n",
      "2971.8\n",
      "66.0\n",
      "0.27214285714285713\n",
      "2971.8\n"
     ]
    },
    {
     "name": "stderr",
     "output_type": "stream",
     "text": [
      "INFO:Storage:Uploading ./data/hdf5/batch_00086.hdf5 to bucket:final_batches/batch_00086.hdf5...\n",
      "INFO:Storage:Done uploading.\n",
      "INFO:Storage:Uploading ./data/hdf5/batch_00087.hdf5 to bucket:final_batches/batch_00087.hdf5...\n",
      "INFO:Storage:Done uploading.\n"
     ]
    },
    {
     "name": "stdout",
     "output_type": "stream",
     "text": [
      "67.0\n",
      "0.27214285714285713\n",
      "2971.8\n",
      "68.0\n",
      "0.27214285714285713\n",
      "2971.8\n"
     ]
    },
    {
     "name": "stderr",
     "output_type": "stream",
     "text": [
      "INFO:Storage:Uploading ./data/hdf5/batch_00088.hdf5 to bucket:final_batches/batch_00088.hdf5...\n",
      "INFO:Storage:Done uploading.\n",
      "INFO:Storage:Uploading ./data/hdf5/batch_00089.hdf5 to bucket:final_batches/batch_00089.hdf5...\n",
      "INFO:Storage:Done uploading.\n"
     ]
    },
    {
     "name": "stdout",
     "output_type": "stream",
     "text": [
      "69.0\n",
      "0.27214285714285713\n",
      "2971.8\n",
      "70.0\n",
      "0.27214285714285713\n",
      "2971.8\n"
     ]
    },
    {
     "name": "stderr",
     "output_type": "stream",
     "text": [
      "INFO:Storage:Uploading ./data/hdf5/batch_00090.hdf5 to bucket:final_batches/batch_00090.hdf5...\n",
      "INFO:Storage:Done uploading.\n",
      "INFO:Storage:Uploading ./data/hdf5/batch_00091.hdf5 to bucket:final_batches/batch_00091.hdf5...\n",
      "INFO:Storage:Done uploading.\n"
     ]
    },
    {
     "name": "stdout",
     "output_type": "stream",
     "text": [
      "71.0\n",
      "0.0375\n",
      "2971.8\n",
      "72.0\n",
      "0.27214285714285713\n",
      "2971.8\n"
     ]
    },
    {
     "name": "stderr",
     "output_type": "stream",
     "text": [
      "INFO:Storage:Uploading ./data/hdf5/batch_00092.hdf5 to bucket:final_batches/batch_00092.hdf5...\n",
      "INFO:Storage:Done uploading.\n",
      "INFO:Storage:Uploading ./data/hdf5/batch_00093.hdf5 to bucket:final_batches/batch_00093.hdf5...\n",
      "INFO:Storage:Done uploading.\n"
     ]
    },
    {
     "name": "stdout",
     "output_type": "stream",
     "text": [
      "73.0\n",
      "0.27214285714285713\n",
      "2971.8\n",
      "74.0\n",
      "0.27214285714285713\n",
      "2971.8\n"
     ]
    },
    {
     "name": "stderr",
     "output_type": "stream",
     "text": [
      "INFO:Storage:Uploading ./data/hdf5/batch_00094.hdf5 to bucket:final_batches/batch_00094.hdf5...\n",
      "INFO:Storage:Done uploading.\n",
      "INFO:Storage:Uploading ./data/hdf5/batch_00095.hdf5 to bucket:final_batches/batch_00095.hdf5...\n",
      "INFO:Storage:Done uploading.\n"
     ]
    },
    {
     "name": "stdout",
     "output_type": "stream",
     "text": [
      "75.0\n",
      "0.27214285714285713\n",
      "2971.8\n",
      "76.0\n",
      "0.27214285714285713\n",
      "2971.8\n"
     ]
    },
    {
     "name": "stderr",
     "output_type": "stream",
     "text": [
      "INFO:Storage:Uploading ./data/hdf5/batch_00096.hdf5 to bucket:final_batches/batch_00096.hdf5...\n",
      "INFO:Storage:Done uploading.\n",
      "INFO:Storage:Uploading ./data/hdf5/batch_00097.hdf5 to bucket:final_batches/batch_00097.hdf5...\n"
     ]
    },
    {
     "name": "stdout",
     "output_type": "stream",
     "text": [
      "77.0\n",
      "0.27214285714285713\n",
      "2971.8\n",
      "78.0\n",
      "0.27214285714285713\n",
      "2971.8\n"
     ]
    },
    {
     "name": "stderr",
     "output_type": "stream",
     "text": [
      "INFO:Storage:Done uploading.\n",
      "INFO:Storage:Uploading ./data/hdf5/batch_00098.hdf5 to bucket:final_batches/batch_00098.hdf5...\n",
      "INFO:Storage:Done uploading.\n",
      "INFO:Storage:Uploading ./data/hdf5/batch_00099.hdf5 to bucket:final_batches/batch_00099.hdf5...\n"
     ]
    },
    {
     "name": "stdout",
     "output_type": "stream",
     "text": [
      "79.0\n",
      "0.27214285714285713\n",
      "2971.8\n",
      "80.0\n",
      "0.27214285714285713\n",
      "280416.0\n"
     ]
    },
    {
     "name": "stderr",
     "output_type": "stream",
     "text": [
      "INFO:Storage:Done uploading.\n",
      "INFO:Storage:Uploading ./data/hdf5/batch_00100.hdf5 to bucket:final_batches/batch_00100.hdf5...\n",
      "INFO:Storage:Done uploading.\n",
      "INFO:Storage:Uploading ./data/hdf5/batch_00101.hdf5 to bucket:final_batches/batch_00101.hdf5...\n",
      "INFO:Storage:Done uploading.\n"
     ]
    },
    {
     "name": "stdout",
     "output_type": "stream",
     "text": [
      "81.0\n",
      "1.5049713178684647\n",
      "280416.0\n",
      "82.0\n",
      "0.27214285714285713\n",
      "2971.8\n"
     ]
    },
    {
     "name": "stderr",
     "output_type": "stream",
     "text": [
      "INFO:Storage:Uploading ./data/hdf5/batch_00102.hdf5 to bucket:final_batches/batch_00102.hdf5...\n",
      "INFO:Storage:Done uploading.\n",
      "INFO:Storage:Uploading ./data/hdf5/batch_00103.hdf5 to bucket:final_batches/batch_00103.hdf5...\n",
      "INFO:Storage:Done uploading.\n"
     ]
    },
    {
     "name": "stdout",
     "output_type": "stream",
     "text": [
      "1.0\n",
      "6.9646402153675835\n",
      "2971.8\n",
      "83.0\n",
      "0.27214285714285713\n",
      "2971.8\n"
     ]
    },
    {
     "name": "stderr",
     "output_type": "stream",
     "text": [
      "INFO:Storage:Uploading ./data/hdf5/batch_00104.hdf5 to bucket:final_batches/batch_00104.hdf5...\n",
      "INFO:Storage:Done uploading.\n",
      "INFO:Storage:Uploading ./data/hdf5/batch_00105.hdf5 to bucket:final_batches/batch_00105.hdf5...\n",
      "INFO:Storage:Done uploading.\n"
     ]
    },
    {
     "name": "stdout",
     "output_type": "stream",
     "text": [
      "1.0\n",
      "5.555693403109746\n",
      "280416.0\n",
      "84.0\n",
      "0.27214285714285713\n",
      "280416.0\n"
     ]
    },
    {
     "name": "stderr",
     "output_type": "stream",
     "text": [
      "INFO:Storage:Uploading ./data/hdf5/batch_00106.hdf5 to bucket:final_batches/batch_00106.hdf5...\n",
      "INFO:Storage:Done uploading.\n",
      "INFO:Storage:Uploading ./data/hdf5/batch_00107.hdf5 to bucket:final_batches/batch_00107.hdf5...\n"
     ]
    },
    {
     "name": "stdout",
     "output_type": "stream",
     "text": [
      "1.0\n",
      "1.5049713178684647\n",
      "2971.8\n",
      "85.0\n",
      "0.27214285714285713\n",
      "2971.8\n"
     ]
    },
    {
     "name": "stderr",
     "output_type": "stream",
     "text": [
      "INFO:Storage:Done uploading.\n",
      "INFO:Storage:Uploading ./data/hdf5/batch_00108.hdf5 to bucket:final_batches/batch_00108.hdf5...\n",
      "INFO:Storage:Done uploading.\n",
      "INFO:Storage:Uploading ./data/hdf5/batch_00109.hdf5 to bucket:final_batches/batch_00109.hdf5...\n",
      "INFO:Storage:Done uploading.\n"
     ]
    },
    {
     "name": "stdout",
     "output_type": "stream",
     "text": [
      "5.0\n",
      "6.9646402153675835\n",
      "2971.8\n",
      "1.0\n",
      "3.6183915362552206\n",
      "2971.8\n"
     ]
    },
    {
     "name": "stderr",
     "output_type": "stream",
     "text": [
      "INFO:Storage:Uploading ./data/hdf5/batch_00110.hdf5 to bucket:final_batches/batch_00110.hdf5...\n",
      "INFO:Storage:Done uploading.\n",
      "INFO:Storage:Uploading ./data/hdf5/batch_00111.hdf5 to bucket:final_batches/batch_00111.hdf5...\n",
      "INFO:Storage:Done uploading.\n"
     ]
    },
    {
     "name": "stdout",
     "output_type": "stream",
     "text": [
      "1.0\n",
      "0.27214285714285713\n",
      "2971.8\n",
      "86.0\n",
      "0.27214285714285713\n",
      "2971.8\n"
     ]
    },
    {
     "name": "stderr",
     "output_type": "stream",
     "text": [
      "INFO:Storage:Uploading ./data/hdf5/batch_00112.hdf5 to bucket:final_batches/batch_00112.hdf5...\n",
      "INFO:Storage:Done uploading.\n",
      "INFO:Storage:Uploading ./data/hdf5/batch_00113.hdf5 to bucket:final_batches/batch_00113.hdf5...\n"
     ]
    },
    {
     "name": "stdout",
     "output_type": "stream",
     "text": [
      "87.0\n",
      "0.06531428571428571\n",
      "2971.8\n",
      "88.0\n",
      "3.6183915362552206\n",
      "2971.8\n"
     ]
    },
    {
     "name": "stderr",
     "output_type": "stream",
     "text": [
      "INFO:Storage:Done uploading.\n",
      "INFO:Storage:Uploading ./data/hdf5/batch_00114.hdf5 to bucket:final_batches/batch_00114.hdf5...\n",
      "INFO:Storage:Done uploading.\n",
      "INFO:Storage:Uploading ./data/hdf5/batch_00115.hdf5 to bucket:final_batches/batch_00115.hdf5...\n"
     ]
    },
    {
     "name": "stdout",
     "output_type": "stream",
     "text": [
      "1.0\n",
      "5.555693403109746\n",
      "2971.8\n",
      "0.0\n",
      "0.0375\n",
      "280416.0\n"
     ]
    },
    {
     "name": "stderr",
     "output_type": "stream",
     "text": [
      "INFO:Storage:Done uploading.\n",
      "INFO:Storage:Uploading ./data/hdf5/batch_00116.hdf5 to bucket:final_batches/batch_00116.hdf5...\n",
      "INFO:Storage:Done uploading.\n",
      "INFO:Storage:Uploading ./data/hdf5/batch_00117.hdf5 to bucket:final_batches/batch_00117.hdf5...\n"
     ]
    },
    {
     "name": "stdout",
     "output_type": "stream",
     "text": [
      "1.0\n",
      "5.555693403109746\n",
      "2971.8\n",
      "89.0\n",
      "0.27214285714285713\n",
      "2971.8\n"
     ]
    },
    {
     "name": "stderr",
     "output_type": "stream",
     "text": [
      "INFO:Storage:Done uploading.\n",
      "INFO:Storage:Uploading ./data/hdf5/batch_00118.hdf5 to bucket:final_batches/batch_00118.hdf5...\n",
      "INFO:Storage:Done uploading.\n",
      "INFO:Storage:Uploading ./data/hdf5/batch_00119.hdf5 to bucket:final_batches/batch_00119.hdf5...\n",
      "INFO:Storage:Done uploading.\n"
     ]
    },
    {
     "name": "stdout",
     "output_type": "stream",
     "text": [
      "90.0\n",
      "0.27214285714285713\n",
      "280416.0\n",
      "91.0\n",
      "0.27214285714285713\n",
      "2971.8\n"
     ]
    },
    {
     "name": "stderr",
     "output_type": "stream",
     "text": [
      "INFO:Storage:Uploading ./data/hdf5/batch_00120.hdf5 to bucket:final_batches/batch_00120.hdf5...\n",
      "INFO:Storage:Done uploading.\n",
      "INFO:Storage:Uploading ./data/hdf5/batch_00121.hdf5 to bucket:final_batches/batch_00121.hdf5...\n"
     ]
    },
    {
     "name": "stdout",
     "output_type": "stream",
     "text": [
      "92.0\n",
      "0.27214285714285713\n",
      "280416.0\n",
      "93.0\n",
      "0.27214285714285713\n",
      "2971.8\n"
     ]
    },
    {
     "name": "stderr",
     "output_type": "stream",
     "text": [
      "INFO:Storage:Done uploading.\n",
      "INFO:Storage:Uploading ./data/hdf5/batch_00122.hdf5 to bucket:final_batches/batch_00122.hdf5...\n",
      "INFO:Storage:Done uploading.\n",
      "INFO:Storage:Uploading ./data/hdf5/batch_00123.hdf5 to bucket:final_batches/batch_00123.hdf5...\n",
      "INFO:Storage:Done uploading.\n"
     ]
    },
    {
     "name": "stdout",
     "output_type": "stream",
     "text": [
      "1.0\n",
      "3.6183915362552206\n",
      "280416.0\n",
      "94.0\n",
      "0.27214285714285713\n",
      "2971.8\n"
     ]
    },
    {
     "name": "stderr",
     "output_type": "stream",
     "text": [
      "INFO:Storage:Uploading ./data/hdf5/batch_00124.hdf5 to bucket:final_batches/batch_00124.hdf5...\n",
      "INFO:Storage:Done uploading.\n",
      "INFO:Storage:Uploading ./data/hdf5/batch_00125.hdf5 to bucket:final_batches/batch_00125.hdf5...\n",
      "INFO:Storage:Done uploading.\n"
     ]
    },
    {
     "name": "stdout",
     "output_type": "stream",
     "text": [
      "95.0\n",
      "0.27214285714285713\n",
      "2971.8\n",
      "96.0\n",
      "0.27214285714285713\n",
      "2971.8\n"
     ]
    },
    {
     "name": "stderr",
     "output_type": "stream",
     "text": [
      "INFO:Storage:Uploading ./data/hdf5/batch_00126.hdf5 to bucket:final_batches/batch_00126.hdf5...\n",
      "INFO:Storage:Done uploading.\n",
      "INFO:Storage:Uploading ./data/hdf5/batch_00127.hdf5 to bucket:final_batches/batch_00127.hdf5...\n",
      "INFO:Storage:Done uploading.\n"
     ]
    },
    {
     "name": "stdout",
     "output_type": "stream",
     "text": [
      "97.0\n",
      "0.27214285714285713\n",
      "2971.8\n",
      "98.0\n",
      "0.27214285714285713\n",
      "2971.8\n"
     ]
    },
    {
     "name": "stderr",
     "output_type": "stream",
     "text": [
      "INFO:Storage:Uploading ./data/hdf5/batch_00128.hdf5 to bucket:final_batches/batch_00128.hdf5...\n",
      "INFO:Storage:Done uploading.\n",
      "INFO:Storage:Uploading ./data/hdf5/batch_00129.hdf5 to bucket:final_batches/batch_00129.hdf5...\n",
      "INFO:Storage:Done uploading.\n"
     ]
    },
    {
     "name": "stdout",
     "output_type": "stream",
     "text": [
      "99.0\n",
      "0.27214285714285713\n",
      "2971.8\n",
      "12.0\n",
      "0.27214285714285713\n",
      "2971.8\n"
     ]
    },
    {
     "name": "stderr",
     "output_type": "stream",
     "text": [
      "INFO:Storage:Uploading ./data/hdf5/batch_00130.hdf5 to bucket:final_batches/batch_00130.hdf5...\n",
      "INFO:Storage:Done uploading.\n",
      "INFO:Storage:Uploading ./data/hdf5/batch_00131.hdf5 to bucket:final_batches/batch_00131.hdf5...\n"
     ]
    },
    {
     "name": "stdout",
     "output_type": "stream",
     "text": [
      "100.0\n",
      "0.0375\n",
      "280416.0\n",
      "67.0\n",
      "5.555693403109746\n",
      "112654.08\n"
     ]
    },
    {
     "name": "stderr",
     "output_type": "stream",
     "text": [
      "INFO:Storage:Done uploading.\n",
      "INFO:Storage:Uploading ./data/hdf5/batch_00132.hdf5 to bucket:final_batches/batch_00132.hdf5...\n",
      "INFO:Storage:Done uploading.\n",
      "INFO:Storage:Uploading ./data/hdf5/batch_00133.hdf5 to bucket:final_batches/batch_00133.hdf5...\n",
      "INFO:Storage:Done uploading.\n"
     ]
    },
    {
     "name": "stdout",
     "output_type": "stream",
     "text": [
      "101.0\n",
      "0.27214285714285713\n",
      "2971.8\n",
      "102.0\n",
      "0.27214285714285713\n",
      "2971.8\n",
      "103.0\n",
      "0.0375\n",
      "2971.8\n"
     ]
    },
    {
     "name": "stderr",
     "output_type": "stream",
     "text": [
      "INFO:Storage:Uploading ./data/hdf5/batch_00134.hdf5 to bucket:final_batches/batch_00134.hdf5...\n",
      "INFO:Storage:Done uploading.\n",
      "INFO:Storage:Uploading ./data/hdf5/batch_00135.hdf5 to bucket:final_batches/batch_00135.hdf5...\n",
      "INFO:Storage:Done uploading.\n",
      "INFO:Storage:Uploading ./data/hdf5/batch_00136.hdf5 to bucket:final_batches/batch_00136.hdf5...\n",
      "INFO:Storage:Done uploading.\n"
     ]
    },
    {
     "name": "stdout",
     "output_type": "stream",
     "text": [
      "104.0\n",
      "0.27214285714285713\n",
      "2971.8\n",
      "105.0\n",
      "5.555693403109746\n",
      "2971.8\n"
     ]
    },
    {
     "name": "stderr",
     "output_type": "stream",
     "text": [
      "INFO:Storage:Uploading ./data/hdf5/batch_00137.hdf5 to bucket:final_batches/batch_00137.hdf5...\n",
      "INFO:Storage:Done uploading.\n",
      "INFO:Storage:Uploading ./data/hdf5/batch_00138.hdf5 to bucket:final_batches/batch_00138.hdf5...\n",
      "INFO:Storage:Done uploading.\n"
     ]
    },
    {
     "name": "stdout",
     "output_type": "stream",
     "text": [
      "106.0\n",
      "6.9646402153675835\n",
      "2971.8\n",
      "60.0\n",
      "0.27214285714285713\n",
      "280416.0\n"
     ]
    },
    {
     "name": "stderr",
     "output_type": "stream",
     "text": [
      "INFO:Storage:Uploading ./data/hdf5/batch_00139.hdf5 to bucket:final_batches/batch_00139.hdf5...\n",
      "INFO:Storage:Done uploading.\n",
      "INFO:Storage:Uploading ./data/hdf5/batch_00140.hdf5 to bucket:final_batches/batch_00140.hdf5...\n",
      "INFO:Storage:Done uploading.\n"
     ]
    },
    {
     "name": "stdout",
     "output_type": "stream",
     "text": [
      "107.0\n",
      "0.27214285714285713\n",
      "2971.8\n",
      "108.0\n",
      "0.27214285714285713\n",
      "280416.0\n"
     ]
    },
    {
     "name": "stderr",
     "output_type": "stream",
     "text": [
      "INFO:Storage:Uploading ./data/hdf5/batch_00141.hdf5 to bucket:final_batches/batch_00141.hdf5...\n",
      "INFO:Storage:Done uploading.\n",
      "INFO:Storage:Uploading ./data/hdf5/batch_00142.hdf5 to bucket:final_batches/batch_00142.hdf5...\n",
      "INFO:Storage:Done uploading.\n"
     ]
    },
    {
     "name": "stdout",
     "output_type": "stream",
     "text": [
      "109.0\n",
      "0.27214285714285713\n",
      "112654.08\n",
      "110.0\n",
      "0.27214285714285713\n",
      "2971.8\n",
      "82.0\n",
      "0.27214285714285713\n",
      "2971.8\n"
     ]
    },
    {
     "name": "stderr",
     "output_type": "stream",
     "text": [
      "INFO:Storage:Uploading ./data/hdf5/batch_00143.hdf5 to bucket:final_batches/batch_00143.hdf5...\n",
      "INFO:Storage:Done uploading.\n",
      "INFO:Storage:Uploading ./data/hdf5/batch_00144.hdf5 to bucket:final_batches/batch_00144.hdf5...\n",
      "INFO:Storage:Done uploading.\n",
      "INFO:Storage:Uploading ./data/hdf5/batch_00145.hdf5 to bucket:final_batches/batch_00145.hdf5...\n",
      "INFO:Storage:Done uploading.\n"
     ]
    },
    {
     "name": "stdout",
     "output_type": "stream",
     "text": [
      "24.0\n",
      "0.27214285714285713\n",
      "2971.8\n",
      "111.0\n",
      "0.27214285714285713\n",
      "2971.8\n"
     ]
    },
    {
     "name": "stderr",
     "output_type": "stream",
     "text": [
      "INFO:Storage:Uploading ./data/hdf5/batch_00146.hdf5 to bucket:final_batches/batch_00146.hdf5...\n",
      "INFO:Storage:Done uploading.\n",
      "INFO:Storage:Uploading ./data/hdf5/batch_00147.hdf5 to bucket:final_batches/batch_00147.hdf5...\n",
      "INFO:Storage:Done uploading.\n"
     ]
    },
    {
     "name": "stdout",
     "output_type": "stream",
     "text": [
      "76.0\n",
      "0.27214285714285713\n",
      "2971.8\n",
      "112.0\n",
      "0.27214285714285713\n",
      "2971.8\n"
     ]
    },
    {
     "name": "stderr",
     "output_type": "stream",
     "text": [
      "INFO:Storage:Uploading ./data/hdf5/batch_00148.hdf5 to bucket:final_batches/batch_00148.hdf5...\n",
      "INFO:Storage:Done uploading.\n",
      "INFO:Storage:Uploading ./data/hdf5/batch_00149.hdf5 to bucket:final_batches/batch_00149.hdf5...\n",
      "INFO:Storage:Done uploading.\n"
     ]
    },
    {
     "name": "stdout",
     "output_type": "stream",
     "text": [
      "113.0\n",
      "0.27214285714285713\n",
      "280416.0\n",
      "114.0\n",
      "0.27214285714285713\n",
      "2971.8\n"
     ]
    },
    {
     "name": "stderr",
     "output_type": "stream",
     "text": [
      "INFO:Storage:Uploading ./data/hdf5/batch_00150.hdf5 to bucket:final_batches/batch_00150.hdf5...\n",
      "INFO:Storage:Done uploading.\n",
      "INFO:Storage:Uploading ./data/hdf5/batch_00151.hdf5 to bucket:final_batches/batch_00151.hdf5...\n",
      "INFO:Storage:Done uploading.\n"
     ]
    },
    {
     "name": "stdout",
     "output_type": "stream",
     "text": [
      "115.0\n",
      "0.27214285714285713\n",
      "2971.8\n",
      "87.0\n",
      "5.555693403109746\n",
      "2971.8\n"
     ]
    },
    {
     "name": "stderr",
     "output_type": "stream",
     "text": [
      "INFO:Storage:Uploading ./data/hdf5/batch_00152.hdf5 to bucket:final_batches/batch_00152.hdf5...\n",
      "INFO:Storage:Done uploading.\n",
      "INFO:Storage:Uploading ./data/hdf5/batch_00153.hdf5 to bucket:final_batches/batch_00153.hdf5...\n",
      "INFO:Storage:Done uploading.\n"
     ]
    },
    {
     "name": "stdout",
     "output_type": "stream",
     "text": [
      "116.0\n",
      "0.27214285714285713\n",
      "2971.8\n",
      "1.0\n",
      "2.561681427061843\n",
      "2971.8\n"
     ]
    },
    {
     "name": "stderr",
     "output_type": "stream",
     "text": [
      "INFO:Storage:Uploading ./data/hdf5/batch_00154.hdf5 to bucket:final_batches/batch_00154.hdf5...\n",
      "INFO:Storage:Done uploading.\n",
      "INFO:Storage:Uploading ./data/hdf5/batch_00155.hdf5 to bucket:final_batches/batch_00155.hdf5...\n",
      "INFO:Storage:Done uploading.\n",
      "INFO:Storage:Uploading ./data/hdf5/batch_00156.hdf5 to bucket:final_batches/batch_00156.hdf5...\n"
     ]
    },
    {
     "name": "stdout",
     "output_type": "stream",
     "text": [
      "117.0\n",
      "0.27214285714285713\n",
      "2971.8\n",
      "118.0\n",
      "0.27214285714285713\n",
      "2971.8\n",
      "91.0\n",
      "0.27214285714285713\n",
      "2971.8\n"
     ]
    },
    {
     "name": "stderr",
     "output_type": "stream",
     "text": [
      "INFO:Storage:Done uploading.\n",
      "INFO:Storage:Uploading ./data/hdf5/batch_00157.hdf5 to bucket:final_batches/batch_00157.hdf5...\n",
      "INFO:Storage:Done uploading.\n",
      "INFO:Storage:Uploading ./data/hdf5/batch_00158.hdf5 to bucket:final_batches/batch_00158.hdf5...\n",
      "INFO:Storage:Done uploading.\n"
     ]
    },
    {
     "name": "stdout",
     "output_type": "stream",
     "text": [
      "119.0\n",
      "0.27214285714285713\n",
      "2971.8\n",
      "120.0\n",
      "0.27214285714285713\n",
      "2971.8\n"
     ]
    },
    {
     "name": "stderr",
     "output_type": "stream",
     "text": [
      "INFO:Storage:Uploading ./data/hdf5/batch_00159.hdf5 to bucket:final_batches/batch_00159.hdf5...\n",
      "INFO:Storage:Done uploading.\n",
      "INFO:Storage:Uploading ./data/hdf5/batch_00160.hdf5 to bucket:final_batches/batch_00160.hdf5...\n",
      "INFO:Storage:Done uploading.\n"
     ]
    },
    {
     "name": "stdout",
     "output_type": "stream",
     "text": [
      "121.0\n",
      "0.27214285714285713\n",
      "2971.8\n",
      "122.0\n",
      "0.27214285714285713\n",
      "2971.8\n"
     ]
    },
    {
     "name": "stderr",
     "output_type": "stream",
     "text": [
      "INFO:Storage:Uploading ./data/hdf5/batch_00161.hdf5 to bucket:final_batches/batch_00161.hdf5...\n",
      "INFO:Storage:Done uploading.\n",
      "INFO:Storage:Uploading ./data/hdf5/batch_00162.hdf5 to bucket:final_batches/batch_00162.hdf5...\n",
      "INFO:Storage:Done uploading.\n"
     ]
    },
    {
     "name": "stdout",
     "output_type": "stream",
     "text": [
      "123.0\n",
      "0.27214285714285713\n",
      "2971.8\n",
      "124.0\n",
      "3.6183915362552206\n",
      "280416.0\n"
     ]
    },
    {
     "name": "stderr",
     "output_type": "stream",
     "text": [
      "INFO:Storage:Uploading ./data/hdf5/batch_00163.hdf5 to bucket:final_batches/batch_00163.hdf5...\n",
      "INFO:Storage:Done uploading.\n",
      "INFO:Storage:Uploading ./data/hdf5/batch_00164.hdf5 to bucket:final_batches/batch_00164.hdf5...\n"
     ]
    },
    {
     "name": "stdout",
     "output_type": "stream",
     "text": [
      "125.0\n",
      "0.27214285714285713\n",
      "280416.0\n",
      "126.0\n",
      "0.27214285714285713\n",
      "2971.8\n"
     ]
    },
    {
     "name": "stderr",
     "output_type": "stream",
     "text": [
      "INFO:Storage:Done uploading.\n",
      "INFO:Storage:Uploading ./data/hdf5/batch_00165.hdf5 to bucket:final_batches/batch_00165.hdf5...\n",
      "INFO:Storage:Done uploading.\n",
      "INFO:Storage:Uploading ./data/hdf5/batch_00166.hdf5 to bucket:final_batches/batch_00166.hdf5...\n"
     ]
    },
    {
     "name": "stdout",
     "output_type": "stream",
     "text": [
      "127.0\n",
      "0.27214285714285713\n",
      "2971.8\n",
      "128.0\n",
      "0.27214285714285713\n",
      "112654.08\n"
     ]
    },
    {
     "name": "stderr",
     "output_type": "stream",
     "text": [
      "INFO:Storage:Done uploading.\n",
      "INFO:Storage:Uploading ./data/hdf5/batch_00167.hdf5 to bucket:final_batches/batch_00167.hdf5...\n",
      "INFO:Storage:Done uploading.\n",
      "INFO:Storage:Uploading ./data/hdf5/batch_00168.hdf5 to bucket:final_batches/batch_00168.hdf5...\n",
      "INFO:Storage:Done uploading.\n",
      "INFO:Storage:Uploading ./data/hdf5/batch_00169.hdf5 to bucket:final_batches/batch_00169.hdf5...\n"
     ]
    },
    {
     "name": "stdout",
     "output_type": "stream",
     "text": [
      "129.0\n",
      "0.27214285714285713\n",
      "2971.8\n",
      "130.0\n",
      "0.27214285714285713\n",
      "2971.8\n",
      "131.0\n",
      "0.06531428571428571\n",
      "2971.8\n"
     ]
    },
    {
     "name": "stderr",
     "output_type": "stream",
     "text": [
      "INFO:Storage:Done uploading.\n",
      "INFO:Storage:Uploading ./data/hdf5/batch_00170.hdf5 to bucket:final_batches/batch_00170.hdf5...\n",
      "INFO:Storage:Done uploading.\n",
      "INFO:Storage:Uploading ./data/hdf5/batch_00171.hdf5 to bucket:final_batches/batch_00171.hdf5...\n",
      "INFO:Storage:Done uploading.\n"
     ]
    },
    {
     "name": "stdout",
     "output_type": "stream",
     "text": [
      "132.0\n",
      "0.27214285714285713\n",
      "2971.8\n",
      "133.0\n",
      "0.27214285714285713\n",
      "2971.8\n",
      "134.0\n",
      "0.0375\n",
      "2971.8\n"
     ]
    },
    {
     "name": "stderr",
     "output_type": "stream",
     "text": [
      "INFO:Storage:Uploading ./data/hdf5/batch_00172.hdf5 to bucket:final_batches/batch_00172.hdf5...\n",
      "INFO:Storage:Done uploading.\n",
      "INFO:Storage:Uploading ./data/hdf5/batch_00173.hdf5 to bucket:final_batches/batch_00173.hdf5...\n",
      "INFO:Storage:Done uploading.\n",
      "INFO:Storage:Uploading ./data/hdf5/batch_00174.hdf5 to bucket:final_batches/batch_00174.hdf5...\n",
      "INFO:Storage:Done uploading.\n"
     ]
    },
    {
     "name": "stdout",
     "output_type": "stream",
     "text": [
      "135.0\n",
      "0.0375\n",
      "2971.8\n",
      "136.0\n",
      "0.27214285714285713\n",
      "2971.8\n"
     ]
    },
    {
     "name": "stderr",
     "output_type": "stream",
     "text": [
      "INFO:Storage:Uploading ./data/hdf5/batch_00175.hdf5 to bucket:final_batches/batch_00175.hdf5...\n",
      "INFO:Storage:Done uploading.\n",
      "INFO:Storage:Uploading ./data/hdf5/batch_00176.hdf5 to bucket:final_batches/batch_00176.hdf5...\n",
      "INFO:Storage:Done uploading.\n"
     ]
    },
    {
     "name": "stdout",
     "output_type": "stream",
     "text": [
      "137.0\n",
      "0.27214285714285713\n",
      "2971.8\n",
      "138.0\n",
      "0.27214285714285713\n",
      "2971.8\n"
     ]
    },
    {
     "name": "stderr",
     "output_type": "stream",
     "text": [
      "INFO:Storage:Uploading ./data/hdf5/batch_00177.hdf5 to bucket:final_batches/batch_00177.hdf5...\n",
      "INFO:Storage:Done uploading.\n",
      "INFO:Storage:Uploading ./data/hdf5/batch_00178.hdf5 to bucket:final_batches/batch_00178.hdf5...\n",
      "INFO:Storage:Done uploading.\n"
     ]
    },
    {
     "name": "stdout",
     "output_type": "stream",
     "text": [
      "1.0\n",
      "6.9646402153675835\n",
      "2971.8\n",
      "139.0\n",
      "0.27214285714285713\n",
      "2971.8\n"
     ]
    },
    {
     "name": "stderr",
     "output_type": "stream",
     "text": [
      "INFO:Storage:Uploading ./data/hdf5/batch_00179.hdf5 to bucket:final_batches/batch_00179.hdf5...\n",
      "INFO:Storage:Done uploading.\n",
      "INFO:Storage:Uploading ./data/hdf5/batch_00180.hdf5 to bucket:final_batches/batch_00180.hdf5...\n",
      "INFO:Storage:Done uploading.\n",
      "INFO:Storage:Uploading ./data/hdf5/batch_00181.hdf5 to bucket:final_batches/batch_00181.hdf5...\n"
     ]
    },
    {
     "name": "stdout",
     "output_type": "stream",
     "text": [
      "37.0\n",
      "0.27214285714285713\n",
      "2971.8\n",
      "1.0\n",
      "2.561681427061843\n",
      "2971.8\n",
      "140.0\n",
      "0.27214285714285713\n",
      "112654.08\n"
     ]
    },
    {
     "name": "stderr",
     "output_type": "stream",
     "text": [
      "INFO:Storage:Done uploading.\n",
      "INFO:Storage:Uploading ./data/hdf5/batch_00182.hdf5 to bucket:final_batches/batch_00182.hdf5...\n",
      "INFO:Storage:Done uploading.\n",
      "INFO:Storage:Uploading ./data/hdf5/batch_00183.hdf5 to bucket:final_batches/batch_00183.hdf5...\n",
      "INFO:Storage:Done uploading.\n"
     ]
    },
    {
     "name": "stdout",
     "output_type": "stream",
     "text": [
      "141.0\n",
      "0.27214285714285713\n",
      "2971.8\n",
      "142.0\n",
      "0.27214285714285713\n",
      "280416.0\n",
      "143.0\n",
      "0.27214285714285713\n",
      "2971.8\n"
     ]
    },
    {
     "name": "stderr",
     "output_type": "stream",
     "text": [
      "INFO:Storage:Uploading ./data/hdf5/batch_00184.hdf5 to bucket:final_batches/batch_00184.hdf5...\n",
      "INFO:Storage:Done uploading.\n",
      "INFO:Storage:Uploading ./data/hdf5/batch_00185.hdf5 to bucket:final_batches/batch_00185.hdf5...\n",
      "INFO:Storage:Done uploading.\n",
      "INFO:Storage:Uploading ./data/hdf5/batch_00186.hdf5 to bucket:final_batches/batch_00186.hdf5...\n",
      "INFO:Storage:Done uploading.\n"
     ]
    },
    {
     "name": "stdout",
     "output_type": "stream",
     "text": [
      "144.0\n",
      "0.27214285714285713\n",
      "2971.8\n",
      "145.0\n",
      "0.27214285714285713\n",
      "280416.0\n"
     ]
    },
    {
     "name": "stderr",
     "output_type": "stream",
     "text": [
      "INFO:Storage:Uploading ./data/hdf5/batch_00187.hdf5 to bucket:final_batches/batch_00187.hdf5...\n",
      "INFO:Storage:Done uploading.\n",
      "INFO:Storage:Uploading ./data/hdf5/batch_00188.hdf5 to bucket:final_batches/batch_00188.hdf5...\n",
      "INFO:Storage:Done uploading.\n"
     ]
    },
    {
     "name": "stdout",
     "output_type": "stream",
     "text": [
      "146.0\n",
      "0.27214285714285713\n",
      "2971.8\n",
      "1.0\n",
      "6.9646402153675835\n",
      "2971.8\n"
     ]
    },
    {
     "name": "stderr",
     "output_type": "stream",
     "text": [
      "INFO:Storage:Uploading ./data/hdf5/batch_00189.hdf5 to bucket:final_batches/batch_00189.hdf5...\n",
      "INFO:Storage:Done uploading.\n",
      "INFO:Storage:Uploading ./data/hdf5/batch_00190.hdf5 to bucket:final_batches/batch_00190.hdf5...\n",
      "INFO:Storage:Done uploading.\n"
     ]
    },
    {
     "name": "stdout",
     "output_type": "stream",
     "text": [
      "147.0\n",
      "0.27214285714285713\n",
      "280416.0\n",
      "24.0\n",
      "0.27214285714285713\n",
      "2971.8\n"
     ]
    },
    {
     "name": "stderr",
     "output_type": "stream",
     "text": [
      "INFO:Storage:Uploading ./data/hdf5/batch_00191.hdf5 to bucket:final_batches/batch_00191.hdf5...\n",
      "INFO:Storage:Done uploading.\n",
      "INFO:Storage:Uploading ./data/hdf5/batch_00192.hdf5 to bucket:final_batches/batch_00192.hdf5...\n",
      "INFO:Storage:Done uploading.\n"
     ]
    },
    {
     "name": "stdout",
     "output_type": "stream",
     "text": [
      "87.0\n",
      "0.27214285714285713\n",
      "2971.8\n",
      "0.0\n",
      "0.27214285714285713\n",
      "2971.8\n"
     ]
    },
    {
     "name": "stderr",
     "output_type": "stream",
     "text": [
      "INFO:Storage:Uploading ./data/hdf5/batch_00193.hdf5 to bucket:final_batches/batch_00193.hdf5...\n",
      "INFO:Storage:Done uploading.\n",
      "INFO:Storage:Uploading ./data/hdf5/batch_00194.hdf5 to bucket:final_batches/batch_00194.hdf5...\n",
      "INFO:Storage:Done uploading.\n"
     ]
    },
    {
     "name": "stdout",
     "output_type": "stream",
     "text": [
      "148.0\n",
      "0.0375\n",
      "2971.8\n",
      "1.0\n",
      "5.555693403109746\n",
      "2971.8\n"
     ]
    },
    {
     "name": "stderr",
     "output_type": "stream",
     "text": [
      "INFO:Storage:Uploading ./data/hdf5/batch_00195.hdf5 to bucket:final_batches/batch_00195.hdf5...\n",
      "INFO:Storage:Done uploading.\n",
      "INFO:Storage:Uploading ./data/hdf5/batch_00196.hdf5 to bucket:final_batches/batch_00196.hdf5...\n",
      "INFO:Storage:Done uploading.\n"
     ]
    },
    {
     "name": "stdout",
     "output_type": "stream",
     "text": [
      "149.0\n",
      "0.27214285714285713\n",
      "280416.0\n",
      "150.0\n",
      "0.27214285714285713\n",
      "280416.0\n",
      "68.0\n",
      "0.27214285714285713\n",
      "2971.8\n"
     ]
    },
    {
     "name": "stderr",
     "output_type": "stream",
     "text": [
      "INFO:Storage:Uploading ./data/hdf5/batch_00197.hdf5 to bucket:final_batches/batch_00197.hdf5...\n",
      "INFO:Storage:Done uploading.\n",
      "INFO:Storage:Uploading ./data/hdf5/batch_00198.hdf5 to bucket:final_batches/batch_00198.hdf5...\n",
      "INFO:Storage:Done uploading.\n",
      "INFO:Storage:Uploading ./data/hdf5/batch_00199.hdf5 to bucket:final_batches/batch_00199.hdf5...\n",
      "INFO:Storage:Done uploading.\n",
      "INFO:Storage:Uploading ./data/hdf5/batch_00200.hdf5 to bucket:final_batches/batch_00200.hdf5...\n"
     ]
    },
    {
     "name": "stdout",
     "output_type": "stream",
     "text": [
      "151.0\n",
      "0.27214285714285713\n",
      "2971.8\n",
      "24.0\n",
      "6.9646402153675835\n",
      "280416.0\n",
      "152.0\n",
      "0.27214285714285713\n",
      "2971.8\n"
     ]
    },
    {
     "name": "stderr",
     "output_type": "stream",
     "text": [
      "INFO:Storage:Done uploading.\n",
      "INFO:Storage:Uploading ./data/hdf5/batch_00201.hdf5 to bucket:final_batches/batch_00201.hdf5...\n",
      "INFO:Storage:Done uploading.\n",
      "INFO:Storage:Uploading ./data/hdf5/batch_00202.hdf5 to bucket:final_batches/batch_00202.hdf5...\n",
      "INFO:Storage:Done uploading.\n"
     ]
    },
    {
     "name": "stdout",
     "output_type": "stream",
     "text": [
      "153.0\n",
      "0.27214285714285713\n",
      "2971.8\n",
      "154.0\n",
      "0.27214285714285713\n",
      "280416.0\n"
     ]
    },
    {
     "name": "stderr",
     "output_type": "stream",
     "text": [
      "INFO:Storage:Uploading ./data/hdf5/batch_00203.hdf5 to bucket:final_batches/batch_00203.hdf5...\n",
      "INFO:Storage:Done uploading.\n",
      "INFO:Storage:Uploading ./data/hdf5/batch_00204.hdf5 to bucket:final_batches/batch_00204.hdf5...\n",
      "INFO:Storage:Done uploading.\n"
     ]
    },
    {
     "name": "stdout",
     "output_type": "stream",
     "text": [
      "155.0\n",
      "0.27214285714285713\n",
      "280416.0\n",
      "156.0\n",
      "5.555693403109746\n",
      "280416.0\n"
     ]
    },
    {
     "name": "stderr",
     "output_type": "stream",
     "text": [
      "INFO:Storage:Uploading ./data/hdf5/batch_00205.hdf5 to bucket:final_batches/batch_00205.hdf5...\n",
      "INFO:Storage:Done uploading.\n",
      "INFO:Storage:Uploading ./data/hdf5/batch_00206.hdf5 to bucket:final_batches/batch_00206.hdf5...\n"
     ]
    },
    {
     "name": "stdout",
     "output_type": "stream",
     "text": [
      "86.0\n",
      "0.27214285714285713\n",
      "2971.8\n",
      "157.0\n",
      "0.0375\n",
      "2971.8\n"
     ]
    },
    {
     "name": "stderr",
     "output_type": "stream",
     "text": [
      "INFO:Storage:Done uploading.\n",
      "INFO:Storage:Uploading ./data/hdf5/batch_00207.hdf5 to bucket:final_batches/batch_00207.hdf5...\n",
      "INFO:Storage:Done uploading.\n",
      "INFO:Storage:Uploading ./data/hdf5/batch_00208.hdf5 to bucket:final_batches/batch_00208.hdf5...\n",
      "INFO:Storage:Done uploading.\n"
     ]
    },
    {
     "name": "stdout",
     "output_type": "stream",
     "text": [
      "158.0\n",
      "0.27214285714285713\n",
      "2971.8\n",
      "159.0\n",
      "0.27214285714285713\n",
      "2971.8\n"
     ]
    },
    {
     "name": "stderr",
     "output_type": "stream",
     "text": [
      "INFO:Storage:Uploading ./data/hdf5/batch_00209.hdf5 to bucket:final_batches/batch_00209.hdf5...\n",
      "INFO:Storage:Done uploading.\n",
      "INFO:Storage:Uploading ./data/hdf5/batch_00210.hdf5 to bucket:final_batches/batch_00210.hdf5...\n",
      "INFO:Storage:Done uploading.\n"
     ]
    },
    {
     "name": "stdout",
     "output_type": "stream",
     "text": [
      "160.0\n",
      "0.27214285714285713\n",
      "2971.8\n",
      "161.0\n",
      "0.27214285714285713\n",
      "2971.8\n"
     ]
    },
    {
     "name": "stderr",
     "output_type": "stream",
     "text": [
      "INFO:Storage:Uploading ./data/hdf5/batch_00211.hdf5 to bucket:final_batches/batch_00211.hdf5...\n",
      "INFO:Storage:Done uploading.\n",
      "INFO:Storage:Uploading ./data/hdf5/batch_00212.hdf5 to bucket:final_batches/batch_00212.hdf5...\n"
     ]
    },
    {
     "name": "stdout",
     "output_type": "stream",
     "text": [
      "162.0\n",
      "0.27214285714285713\n",
      "2971.8\n",
      "163.0\n",
      "0.27214285714285713\n",
      "2971.8\n"
     ]
    },
    {
     "name": "stderr",
     "output_type": "stream",
     "text": [
      "INFO:Storage:Done uploading.\n",
      "INFO:Storage:Uploading ./data/hdf5/batch_00213.hdf5 to bucket:final_batches/batch_00213.hdf5...\n",
      "INFO:Storage:Done uploading.\n",
      "INFO:Storage:Uploading ./data/hdf5/batch_00214.hdf5 to bucket:final_batches/batch_00214.hdf5...\n",
      "INFO:Storage:Done uploading.\n"
     ]
    },
    {
     "name": "stdout",
     "output_type": "stream",
     "text": [
      "164.0\n",
      "0.06531428571428571\n",
      "2971.8\n",
      "165.0\n",
      "0.27214285714285713\n",
      "2971.8\n"
     ]
    },
    {
     "name": "stderr",
     "output_type": "stream",
     "text": [
      "INFO:Storage:Uploading ./data/hdf5/batch_00215.hdf5 to bucket:final_batches/batch_00215.hdf5...\n",
      "INFO:Storage:Done uploading.\n",
      "INFO:Storage:Uploading ./data/hdf5/batch_00216.hdf5 to bucket:final_batches/batch_00216.hdf5...\n",
      "INFO:Storage:Done uploading.\n"
     ]
    },
    {
     "name": "stdout",
     "output_type": "stream",
     "text": [
      "5.0\n",
      "6.9646402153675835\n",
      "280416.0\n",
      "166.0\n",
      "0.27214285714285713\n",
      "2971.8\n"
     ]
    },
    {
     "name": "stderr",
     "output_type": "stream",
     "text": [
      "INFO:Storage:Uploading ./data/hdf5/batch_00217.hdf5 to bucket:final_batches/batch_00217.hdf5...\n",
      "INFO:Storage:Done uploading.\n",
      "INFO:Storage:Uploading ./data/hdf5/batch_00218.hdf5 to bucket:final_batches/batch_00218.hdf5...\n"
     ]
    },
    {
     "name": "stdout",
     "output_type": "stream",
     "text": [
      "24.0\n",
      "5.555693403109746\n",
      "280416.0\n",
      "167.0\n",
      "0.27214285714285713\n",
      "2971.8\n"
     ]
    },
    {
     "name": "stderr",
     "output_type": "stream",
     "text": [
      "INFO:Storage:Done uploading.\n",
      "INFO:Storage:Uploading ./data/hdf5/batch_00219.hdf5 to bucket:final_batches/batch_00219.hdf5...\n",
      "INFO:Storage:Done uploading.\n",
      "INFO:Storage:Uploading ./data/hdf5/batch_00220.hdf5 to bucket:final_batches/batch_00220.hdf5...\n",
      "INFO:Storage:Done uploading.\n",
      "INFO:Storage:Uploading ./data/hdf5/batch_00221.hdf5 to bucket:final_batches/batch_00221.hdf5...\n"
     ]
    },
    {
     "name": "stdout",
     "output_type": "stream",
     "text": [
      "153.0\n",
      "3.6183915362552206\n",
      "2971.8\n",
      "42.0\n",
      "0.27214285714285713\n",
      "2971.8\n",
      "118.0\n",
      "0.27214285714285713\n",
      "2971.8\n"
     ]
    },
    {
     "name": "stderr",
     "output_type": "stream",
     "text": [
      "INFO:Storage:Done uploading.\n",
      "INFO:Storage:Uploading ./data/hdf5/batch_00222.hdf5 to bucket:final_batches/batch_00222.hdf5...\n",
      "INFO:Storage:Done uploading.\n",
      "INFO:Storage:Uploading ./data/hdf5/batch_00223.hdf5 to bucket:final_batches/batch_00223.hdf5...\n",
      "INFO:Storage:Done uploading.\n"
     ]
    },
    {
     "name": "stdout",
     "output_type": "stream",
     "text": [
      "168.0\n",
      "3.6183915362552206\n",
      "2971.8\n",
      "169.0\n",
      "0.27214285714285713\n",
      "2971.8\n"
     ]
    },
    {
     "name": "stderr",
     "output_type": "stream",
     "text": [
      "INFO:Storage:Uploading ./data/hdf5/batch_00224.hdf5 to bucket:final_batches/batch_00224.hdf5...\n",
      "INFO:Storage:Done uploading.\n",
      "INFO:Storage:Uploading ./data/hdf5/batch_00225.hdf5 to bucket:final_batches/batch_00225.hdf5...\n",
      "INFO:Storage:Done uploading.\n"
     ]
    },
    {
     "name": "stdout",
     "output_type": "stream",
     "text": [
      "170.0\n",
      "0.27214285714285713\n",
      "2971.8\n",
      "171.0\n",
      "0.27214285714285713\n",
      "280416.0\n"
     ]
    },
    {
     "name": "stderr",
     "output_type": "stream",
     "text": [
      "INFO:Storage:Uploading ./data/hdf5/batch_00226.hdf5 to bucket:final_batches/batch_00226.hdf5...\n",
      "INFO:Storage:Done uploading.\n",
      "INFO:Storage:Uploading ./data/hdf5/batch_00227.hdf5 to bucket:final_batches/batch_00227.hdf5...\n",
      "INFO:Storage:Done uploading.\n"
     ]
    },
    {
     "name": "stdout",
     "output_type": "stream",
     "text": [
      "172.0\n",
      "0.27214285714285713\n",
      "2971.8\n",
      "45.0\n",
      "0.27214285714285713\n",
      "2971.8\n"
     ]
    },
    {
     "name": "stderr",
     "output_type": "stream",
     "text": [
      "INFO:Storage:Uploading ./data/hdf5/batch_00228.hdf5 to bucket:final_batches/batch_00228.hdf5...\n",
      "INFO:Storage:Done uploading.\n",
      "INFO:Storage:Uploading ./data/hdf5/batch_00229.hdf5 to bucket:final_batches/batch_00229.hdf5...\n",
      "INFO:Storage:Done uploading.\n"
     ]
    },
    {
     "name": "stdout",
     "output_type": "stream",
     "text": [
      "173.0\n",
      "0.27214285714285713\n",
      "2971.8\n",
      "174.0\n",
      "0.0375\n",
      "2971.8\n"
     ]
    },
    {
     "name": "stderr",
     "output_type": "stream",
     "text": [
      "INFO:Storage:Uploading ./data/hdf5/batch_00230.hdf5 to bucket:final_batches/batch_00230.hdf5...\n",
      "INFO:Storage:Done uploading.\n",
      "INFO:Storage:Uploading ./data/hdf5/batch_00231.hdf5 to bucket:final_batches/batch_00231.hdf5...\n",
      "INFO:Storage:Done uploading.\n"
     ]
    },
    {
     "name": "stdout",
     "output_type": "stream",
     "text": [
      "175.0\n",
      "0.27214285714285713\n",
      "2971.8\n",
      "1.0\n",
      "5.555693403109746\n",
      "280416.0\n"
     ]
    },
    {
     "name": "stderr",
     "output_type": "stream",
     "text": [
      "INFO:Storage:Uploading ./data/hdf5/batch_00232.hdf5 to bucket:final_batches/batch_00232.hdf5...\n",
      "INFO:Storage:Done uploading.\n",
      "INFO:Storage:Uploading ./data/hdf5/batch_00233.hdf5 to bucket:final_batches/batch_00233.hdf5...\n",
      "INFO:Storage:Done uploading.\n"
     ]
    },
    {
     "name": "stdout",
     "output_type": "stream",
     "text": [
      "176.0\n",
      "0.27214285714285713\n",
      "112654.08\n",
      "1.0\n",
      "0.27214285714285713\n",
      "2971.8\n"
     ]
    },
    {
     "name": "stderr",
     "output_type": "stream",
     "text": [
      "INFO:Storage:Uploading ./data/hdf5/batch_00234.hdf5 to bucket:final_batches/batch_00234.hdf5...\n",
      "INFO:Storage:Done uploading.\n",
      "INFO:Storage:Uploading ./data/hdf5/batch_00235.hdf5 to bucket:final_batches/batch_00235.hdf5...\n",
      "INFO:Storage:Done uploading.\n"
     ]
    },
    {
     "name": "stdout",
     "output_type": "stream",
     "text": [
      "24.0\n",
      "3.6183915362552206\n",
      "2971.8\n",
      "177.0\n",
      "0.27214285714285713\n",
      "2971.8\n"
     ]
    },
    {
     "name": "stderr",
     "output_type": "stream",
     "text": [
      "INFO:Storage:Uploading ./data/hdf5/batch_00236.hdf5 to bucket:final_batches/batch_00236.hdf5...\n",
      "INFO:Storage:Done uploading.\n",
      "INFO:Storage:Uploading ./data/hdf5/batch_00237.hdf5 to bucket:final_batches/batch_00237.hdf5...\n",
      "INFO:Storage:Done uploading.\n"
     ]
    },
    {
     "name": "stdout",
     "output_type": "stream",
     "text": [
      "1.0\n",
      "3.6183915362552206\n",
      "2971.8\n",
      "178.0\n",
      "0.27214285714285713\n",
      "2971.8\n"
     ]
    },
    {
     "name": "stderr",
     "output_type": "stream",
     "text": [
      "INFO:Storage:Uploading ./data/hdf5/batch_00238.hdf5 to bucket:final_batches/batch_00238.hdf5...\n",
      "INFO:Storage:Done uploading.\n",
      "INFO:Storage:Uploading ./data/hdf5/batch_00239.hdf5 to bucket:final_batches/batch_00239.hdf5...\n",
      "INFO:Storage:Done uploading.\n"
     ]
    },
    {
     "name": "stdout",
     "output_type": "stream",
     "text": [
      "179.0\n",
      "0.27214285714285713\n",
      "280416.0\n",
      "180.0\n",
      "0.27214285714285713\n",
      "2971.8\n"
     ]
    },
    {
     "name": "stderr",
     "output_type": "stream",
     "text": [
      "INFO:Storage:Uploading ./data/hdf5/batch_00240.hdf5 to bucket:final_batches/batch_00240.hdf5...\n",
      "INFO:Storage:Done uploading.\n",
      "INFO:Storage:Uploading ./data/hdf5/batch_00241.hdf5 to bucket:final_batches/batch_00241.hdf5...\n",
      "INFO:Storage:Done uploading.\n"
     ]
    },
    {
     "name": "stdout",
     "output_type": "stream",
     "text": [
      "181.0\n",
      "0.0375\n",
      "112654.08\n",
      "182.0\n",
      "0.27214285714285713\n",
      "2971.8\n"
     ]
    },
    {
     "name": "stderr",
     "output_type": "stream",
     "text": [
      "INFO:Storage:Uploading ./data/hdf5/batch_00242.hdf5 to bucket:final_batches/batch_00242.hdf5...\n",
      "INFO:Storage:Done uploading.\n",
      "INFO:Storage:Uploading ./data/hdf5/batch_00243.hdf5 to bucket:final_batches/batch_00243.hdf5...\n",
      "INFO:Storage:Done uploading.\n"
     ]
    },
    {
     "name": "stdout",
     "output_type": "stream",
     "text": [
      "173.0\n",
      "0.27214285714285713\n",
      "2971.8\n",
      "183.0\n",
      "0.27214285714285713\n",
      "280416.0\n"
     ]
    },
    {
     "name": "stderr",
     "output_type": "stream",
     "text": [
      "INFO:Storage:Uploading ./data/hdf5/batch_00244.hdf5 to bucket:final_batches/batch_00244.hdf5...\n",
      "INFO:Storage:Done uploading.\n",
      "INFO:Storage:Uploading ./data/hdf5/batch_00245.hdf5 to bucket:final_batches/batch_00245.hdf5...\n",
      "INFO:Storage:Done uploading.\n"
     ]
    },
    {
     "name": "stdout",
     "output_type": "stream",
     "text": [
      "184.0\n",
      "0.27214285714285713\n",
      "280416.0\n",
      "185.0\n",
      "0.27214285714285713\n",
      "2971.8\n"
     ]
    },
    {
     "name": "stderr",
     "output_type": "stream",
     "text": [
      "INFO:Storage:Uploading ./data/hdf5/batch_00246.hdf5 to bucket:final_batches/batch_00246.hdf5...\n",
      "INFO:Storage:Done uploading.\n",
      "INFO:Storage:Uploading ./data/hdf5/batch_00247.hdf5 to bucket:final_batches/batch_00247.hdf5...\n",
      "INFO:Storage:Done uploading.\n"
     ]
    },
    {
     "name": "stdout",
     "output_type": "stream",
     "text": [
      "186.0\n",
      "0.27214285714285713\n",
      "2971.8\n",
      "0.0\n",
      "0.27214285714285713\n",
      "2971.8\n"
     ]
    },
    {
     "name": "stderr",
     "output_type": "stream",
     "text": [
      "INFO:Storage:Uploading ./data/hdf5/batch_00248.hdf5 to bucket:final_batches/batch_00248.hdf5...\n",
      "INFO:Storage:Done uploading.\n",
      "INFO:Storage:Uploading ./data/hdf5/batch_00249.hdf5 to bucket:final_batches/batch_00249.hdf5...\n",
      "INFO:Storage:Done uploading.\n"
     ]
    },
    {
     "name": "stdout",
     "output_type": "stream",
     "text": [
      "187.0\n",
      "3.6183915362552206\n",
      "2971.8\n",
      "188.0\n",
      "0.27214285714285713\n",
      "280416.0\n"
     ]
    },
    {
     "name": "stderr",
     "output_type": "stream",
     "text": [
      "INFO:Storage:Uploading ./data/hdf5/batch_00250.hdf5 to bucket:final_batches/batch_00250.hdf5...\n",
      "INFO:Storage:Done uploading.\n",
      "INFO:Storage:Uploading ./data/hdf5/batch_00251.hdf5 to bucket:final_batches/batch_00251.hdf5...\n",
      "INFO:Storage:Done uploading.\n"
     ]
    },
    {
     "name": "stdout",
     "output_type": "stream",
     "text": [
      "189.0\n",
      "0.27214285714285713\n",
      "2971.8\n",
      "190.0\n",
      "0.27214285714285713\n",
      "2971.8\n"
     ]
    },
    {
     "name": "stderr",
     "output_type": "stream",
     "text": [
      "INFO:Storage:Uploading ./data/hdf5/batch_00252.hdf5 to bucket:final_batches/batch_00252.hdf5...\n",
      "INFO:Storage:Done uploading.\n",
      "INFO:Storage:Uploading ./data/hdf5/batch_00253.hdf5 to bucket:final_batches/batch_00253.hdf5...\n",
      "INFO:Storage:Done uploading.\n"
     ]
    },
    {
     "name": "stdout",
     "output_type": "stream",
     "text": [
      "191.0\n",
      "0.27214285714285713\n",
      "2971.8\n",
      "192.0\n",
      "0.27214285714285713\n",
      "280416.0\n"
     ]
    },
    {
     "name": "stderr",
     "output_type": "stream",
     "text": [
      "INFO:Storage:Uploading ./data/hdf5/batch_00254.hdf5 to bucket:final_batches/batch_00254.hdf5...\n",
      "INFO:Storage:Done uploading.\n",
      "INFO:Storage:Uploading ./data/hdf5/batch_00255.hdf5 to bucket:final_batches/batch_00255.hdf5...\n",
      "INFO:Storage:Done uploading.\n"
     ]
    },
    {
     "name": "stdout",
     "output_type": "stream",
     "text": [
      "193.0\n",
      "0.27214285714285713\n",
      "2971.8\n",
      "194.0\n",
      "0.27214285714285713\n",
      "2971.8\n"
     ]
    },
    {
     "name": "stderr",
     "output_type": "stream",
     "text": [
      "INFO:Storage:Uploading ./data/hdf5/batch_00256.hdf5 to bucket:final_batches/batch_00256.hdf5...\n",
      "INFO:Storage:Done uploading.\n",
      "INFO:Storage:Uploading ./data/hdf5/batch_00257.hdf5 to bucket:final_batches/batch_00257.hdf5...\n",
      "INFO:Storage:Done uploading.\n"
     ]
    },
    {
     "name": "stdout",
     "output_type": "stream",
     "text": [
      "112.0\n",
      "0.27214285714285713\n",
      "112654.08\n",
      "195.0\n",
      "0.27214285714285713\n",
      "2971.8\n",
      "196.0\n",
      "0.27214285714285713\n",
      "2971.8\n"
     ]
    },
    {
     "name": "stderr",
     "output_type": "stream",
     "text": [
      "INFO:Storage:Uploading ./data/hdf5/batch_00258.hdf5 to bucket:final_batches/batch_00258.hdf5...\n",
      "INFO:Storage:Done uploading.\n",
      "INFO:Storage:Uploading ./data/hdf5/batch_00259.hdf5 to bucket:final_batches/batch_00259.hdf5...\n",
      "INFO:Storage:Done uploading.\n",
      "INFO:Storage:Uploading ./data/hdf5/batch_00260.hdf5 to bucket:final_batches/batch_00260.hdf5...\n",
      "INFO:Storage:Done uploading.\n",
      "INFO:Storage:Uploading ./data/hdf5/batch_00261.hdf5 to bucket:final_batches/batch_00261.hdf5...\n"
     ]
    },
    {
     "name": "stdout",
     "output_type": "stream",
     "text": [
      "197.0\n",
      "0.27214285714285713\n",
      "2971.8\n",
      "0.0\n",
      "2.561681427061843\n",
      "2971.8\n",
      "0.0\n",
      "0.27214285714285713\n",
      "2971.8\n"
     ]
    },
    {
     "name": "stderr",
     "output_type": "stream",
     "text": [
      "INFO:Storage:Done uploading.\n",
      "INFO:Storage:Uploading ./data/hdf5/batch_00262.hdf5 to bucket:final_batches/batch_00262.hdf5...\n",
      "INFO:Storage:Done uploading.\n",
      "INFO:Storage:Uploading ./data/hdf5/batch_00263.hdf5 to bucket:final_batches/batch_00263.hdf5...\n",
      "INFO:Storage:Done uploading.\n"
     ]
    },
    {
     "name": "stdout",
     "output_type": "stream",
     "text": [
      "0.0\n",
      "0.27214285714285713\n",
      "2971.8\n",
      "148.0\n",
      "0.27214285714285713\n",
      "2971.8\n"
     ]
    },
    {
     "name": "stderr",
     "output_type": "stream",
     "text": [
      "INFO:Storage:Uploading ./data/hdf5/batch_00264.hdf5 to bucket:final_batches/batch_00264.hdf5...\n",
      "INFO:Storage:Done uploading.\n",
      "INFO:Storage:Uploading ./data/hdf5/batch_00265.hdf5 to bucket:final_batches/batch_00265.hdf5...\n",
      "INFO:Storage:Done uploading.\n"
     ]
    },
    {
     "name": "stdout",
     "output_type": "stream",
     "text": [
      "198.0\n",
      "0.27214285714285713\n",
      "2971.8\n",
      "36.0\n",
      "3.6183915362552206\n",
      "280416.0\n",
      "199.0\n",
      "0.27214285714285713\n",
      "2971.8\n"
     ]
    },
    {
     "name": "stderr",
     "output_type": "stream",
     "text": [
      "INFO:Storage:Uploading ./data/hdf5/batch_00266.hdf5 to bucket:final_batches/batch_00266.hdf5...\n",
      "INFO:Storage:Done uploading.\n",
      "INFO:Storage:Uploading ./data/hdf5/batch_00267.hdf5 to bucket:final_batches/batch_00267.hdf5...\n",
      "INFO:Storage:Done uploading.\n",
      "INFO:Storage:Uploading ./data/hdf5/batch_00268.hdf5 to bucket:final_batches/batch_00268.hdf5...\n",
      "INFO:Storage:Done uploading.\n"
     ]
    },
    {
     "name": "stdout",
     "output_type": "stream",
     "text": [
      "106.0\n",
      "0.27214285714285713\n",
      "2971.8\n",
      "7.0\n",
      "0.27214285714285713\n",
      "2971.8\n"
     ]
    },
    {
     "name": "stderr",
     "output_type": "stream",
     "text": [
      "INFO:Storage:Uploading ./data/hdf5/batch_00269.hdf5 to bucket:final_batches/batch_00269.hdf5...\n",
      "INFO:Storage:Done uploading.\n",
      "INFO:Storage:Uploading ./data/hdf5/batch_00270.hdf5 to bucket:final_batches/batch_00270.hdf5...\n"
     ]
    },
    {
     "name": "stdout",
     "output_type": "stream",
     "text": [
      "200.0\n",
      "0.27214285714285713\n",
      "2971.8\n",
      "29.0\n",
      "0.27214285714285713\n",
      "2971.8\n"
     ]
    },
    {
     "name": "stderr",
     "output_type": "stream",
     "text": [
      "INFO:Storage:Done uploading.\n",
      "INFO:Storage:Uploading ./data/hdf5/batch_00271.hdf5 to bucket:final_batches/batch_00271.hdf5...\n",
      "INFO:Storage:Done uploading.\n",
      "INFO:Storage:Uploading ./data/hdf5/batch_00272.hdf5 to bucket:final_batches/batch_00272.hdf5...\n",
      "INFO:Storage:Done uploading.\n"
     ]
    },
    {
     "name": "stdout",
     "output_type": "stream",
     "text": [
      "201.0\n",
      "0.27214285714285713\n",
      "2971.8\n",
      "202.0\n",
      "0.27214285714285713\n",
      "280416.0\n"
     ]
    },
    {
     "name": "stderr",
     "output_type": "stream",
     "text": [
      "INFO:Storage:Uploading ./data/hdf5/batch_00273.hdf5 to bucket:final_batches/batch_00273.hdf5...\n",
      "INFO:Storage:Done uploading.\n",
      "INFO:Storage:Uploading ./data/hdf5/batch_00274.hdf5 to bucket:final_batches/batch_00274.hdf5...\n"
     ]
    },
    {
     "name": "stdout",
     "output_type": "stream",
     "text": [
      "203.0\n",
      "0.0375\n",
      "2971.8\n",
      "204.0\n",
      "0.27214285714285713\n",
      "2971.8\n"
     ]
    },
    {
     "name": "stderr",
     "output_type": "stream",
     "text": [
      "INFO:Storage:Done uploading.\n",
      "INFO:Storage:Uploading ./data/hdf5/batch_00275.hdf5 to bucket:final_batches/batch_00275.hdf5...\n",
      "INFO:Storage:Done uploading.\n",
      "INFO:Storage:Uploading ./data/hdf5/batch_00276.hdf5 to bucket:final_batches/batch_00276.hdf5...\n",
      "INFO:Storage:Done uploading.\n"
     ]
    },
    {
     "name": "stdout",
     "output_type": "stream",
     "text": [
      "205.0\n",
      "0.0375\n",
      "2971.8\n",
      "206.0\n",
      "0.27214285714285713\n",
      "280416.0\n"
     ]
    },
    {
     "name": "stderr",
     "output_type": "stream",
     "text": [
      "INFO:Storage:Uploading ./data/hdf5/batch_00277.hdf5 to bucket:final_batches/batch_00277.hdf5...\n",
      "INFO:Storage:Done uploading.\n",
      "INFO:Storage:Uploading ./data/hdf5/batch_00278.hdf5 to bucket:final_batches/batch_00278.hdf5...\n",
      "INFO:Storage:Done uploading.\n"
     ]
    },
    {
     "name": "stdout",
     "output_type": "stream",
     "text": [
      "207.0\n",
      "0.27214285714285713\n",
      "2971.8\n",
      "208.0\n",
      "0.27214285714285713\n",
      "2971.8\n"
     ]
    },
    {
     "name": "stderr",
     "output_type": "stream",
     "text": [
      "INFO:Storage:Uploading ./data/hdf5/batch_00279.hdf5 to bucket:final_batches/batch_00279.hdf5...\n",
      "INFO:Storage:Done uploading.\n",
      "INFO:Storage:Uploading ./data/hdf5/batch_00280.hdf5 to bucket:final_batches/batch_00280.hdf5...\n",
      "INFO:Storage:Done uploading.\n"
     ]
    },
    {
     "name": "stdout",
     "output_type": "stream",
     "text": [
      "209.0\n",
      "0.27214285714285713\n",
      "2971.8\n",
      "210.0\n",
      "0.27214285714285713\n",
      "2971.8\n"
     ]
    },
    {
     "name": "stderr",
     "output_type": "stream",
     "text": [
      "INFO:Storage:Uploading ./data/hdf5/batch_00281.hdf5 to bucket:final_batches/batch_00281.hdf5...\n",
      "INFO:Storage:Done uploading.\n",
      "INFO:Storage:Uploading ./data/hdf5/batch_00282.hdf5 to bucket:final_batches/batch_00282.hdf5...\n",
      "INFO:Storage:Done uploading.\n"
     ]
    },
    {
     "name": "stdout",
     "output_type": "stream",
     "text": [
      "211.0\n",
      "0.27214285714285713\n",
      "2971.8\n",
      "87.0\n",
      "0.27214285714285713\n",
      "2971.8\n"
     ]
    },
    {
     "name": "stderr",
     "output_type": "stream",
     "text": [
      "INFO:Storage:Uploading ./data/hdf5/batch_00283.hdf5 to bucket:final_batches/batch_00283.hdf5...\n",
      "INFO:Storage:Done uploading.\n",
      "INFO:Storage:Uploading ./data/hdf5/batch_00284.hdf5 to bucket:final_batches/batch_00284.hdf5...\n",
      "INFO:Storage:Done uploading.\n"
     ]
    },
    {
     "name": "stdout",
     "output_type": "stream",
     "text": [
      "212.0\n",
      "0.27214285714285713\n",
      "2971.8\n",
      "106.0\n",
      "0.27214285714285713\n",
      "2971.8\n"
     ]
    },
    {
     "name": "stderr",
     "output_type": "stream",
     "text": [
      "INFO:Storage:Uploading ./data/hdf5/batch_00285.hdf5 to bucket:final_batches/batch_00285.hdf5...\n",
      "INFO:Storage:Done uploading.\n",
      "INFO:Storage:Uploading ./data/hdf5/batch_00286.hdf5 to bucket:final_batches/batch_00286.hdf5...\n",
      "INFO:Storage:Done uploading.\n"
     ]
    },
    {
     "name": "stdout",
     "output_type": "stream",
     "text": [
      "1.0\n",
      "3.6183915362552206\n",
      "2971.8\n",
      "55.0\n",
      "0.27214285714285713\n",
      "2971.8\n",
      "213.0\n",
      "0.27214285714285713\n",
      "2971.8\n"
     ]
    },
    {
     "name": "stderr",
     "output_type": "stream",
     "text": [
      "INFO:Storage:Uploading ./data/hdf5/batch_00287.hdf5 to bucket:final_batches/batch_00287.hdf5...\n",
      "INFO:Storage:Done uploading.\n",
      "INFO:Storage:Uploading ./data/hdf5/batch_00288.hdf5 to bucket:final_batches/batch_00288.hdf5...\n",
      "INFO:Storage:Done uploading.\n",
      "INFO:Storage:Uploading ./data/hdf5/batch_00289.hdf5 to bucket:final_batches/batch_00289.hdf5...\n",
      "INFO:Storage:Done uploading.\n"
     ]
    },
    {
     "name": "stdout",
     "output_type": "stream",
     "text": [
      "1.0\n",
      "6.9646402153675835\n",
      "2971.8\n",
      "214.0\n",
      "0.27214285714285713\n",
      "2971.8\n"
     ]
    },
    {
     "name": "stderr",
     "output_type": "stream",
     "text": [
      "INFO:Storage:Uploading ./data/hdf5/batch_00290.hdf5 to bucket:final_batches/batch_00290.hdf5...\n",
      "INFO:Storage:Done uploading.\n",
      "INFO:Storage:Uploading ./data/hdf5/batch_00291.hdf5 to bucket:final_batches/batch_00291.hdf5...\n",
      "INFO:Storage:Done uploading.\n"
     ]
    },
    {
     "name": "stdout",
     "output_type": "stream",
     "text": [
      "215.0\n",
      "0.27214285714285713\n",
      "2971.8\n",
      "0.0\n",
      "0.0375\n",
      "2971.8\n"
     ]
    },
    {
     "name": "stderr",
     "output_type": "stream",
     "text": [
      "INFO:Storage:Uploading ./data/hdf5/batch_00292.hdf5 to bucket:final_batches/batch_00292.hdf5...\n",
      "INFO:Storage:Done uploading.\n",
      "INFO:Storage:Uploading ./data/hdf5/batch_00293.hdf5 to bucket:final_batches/batch_00293.hdf5...\n",
      "INFO:Storage:Done uploading.\n"
     ]
    },
    {
     "name": "stdout",
     "output_type": "stream",
     "text": [
      "216.0\n",
      "0.27214285714285713\n",
      "2971.8\n",
      "71.0\n",
      "0.0375\n",
      "112654.08\n"
     ]
    },
    {
     "name": "stderr",
     "output_type": "stream",
     "text": [
      "INFO:Storage:Uploading ./data/hdf5/batch_00294.hdf5 to bucket:final_batches/batch_00294.hdf5...\n",
      "INFO:Storage:Done uploading.\n",
      "INFO:Storage:Uploading ./data/hdf5/batch_00295.hdf5 to bucket:final_batches/batch_00295.hdf5...\n",
      "INFO:Storage:Done uploading.\n"
     ]
    },
    {
     "name": "stdout",
     "output_type": "stream",
     "text": [
      "180.0\n",
      "0.27214285714285713\n",
      "2971.8\n",
      "217.0\n",
      "0.27214285714285713\n",
      "2971.8\n"
     ]
    },
    {
     "name": "stderr",
     "output_type": "stream",
     "text": [
      "INFO:Storage:Uploading ./data/hdf5/batch_00296.hdf5 to bucket:final_batches/batch_00296.hdf5...\n",
      "INFO:Storage:Done uploading.\n",
      "INFO:Storage:Uploading ./data/hdf5/batch_00297.hdf5 to bucket:final_batches/batch_00297.hdf5...\n",
      "INFO:Storage:Done uploading.\n"
     ]
    },
    {
     "name": "stdout",
     "output_type": "stream",
     "text": [
      "218.0\n",
      "0.27214285714285713\n",
      "2971.8\n",
      "219.0\n",
      "0.0375\n",
      "2971.8\n"
     ]
    },
    {
     "name": "stderr",
     "output_type": "stream",
     "text": [
      "INFO:Storage:Uploading ./data/hdf5/batch_00298.hdf5 to bucket:final_batches/batch_00298.hdf5...\n",
      "INFO:Storage:Done uploading.\n",
      "INFO:Storage:Uploading ./data/hdf5/batch_00299.hdf5 to bucket:final_batches/batch_00299.hdf5...\n",
      "INFO:Storage:Done uploading.\n"
     ]
    },
    {
     "name": "stdout",
     "output_type": "stream",
     "text": [
      "220.0\n",
      "0.27214285714285713\n",
      "2971.8\n",
      "221.0\n",
      "0.27214285714285713\n",
      "2971.8\n"
     ]
    },
    {
     "name": "stderr",
     "output_type": "stream",
     "text": [
      "INFO:Storage:Uploading ./data/hdf5/batch_00300.hdf5 to bucket:final_batches/batch_00300.hdf5...\n",
      "INFO:Storage:Done uploading.\n",
      "INFO:Storage:Uploading ./data/hdf5/batch_00301.hdf5 to bucket:final_batches/batch_00301.hdf5...\n",
      "INFO:Storage:Done uploading.\n"
     ]
    },
    {
     "name": "stdout",
     "output_type": "stream",
     "text": [
      "222.0\n",
      "0.27214285714285713\n",
      "112654.08\n",
      "223.0\n",
      "0.27214285714285713\n",
      "2971.8\n"
     ]
    },
    {
     "name": "stderr",
     "output_type": "stream",
     "text": [
      "INFO:Storage:Uploading ./data/hdf5/batch_00302.hdf5 to bucket:final_batches/batch_00302.hdf5...\n",
      "INFO:Storage:Done uploading.\n",
      "INFO:Storage:Uploading ./data/hdf5/batch_00303.hdf5 to bucket:final_batches/batch_00303.hdf5...\n",
      "INFO:Storage:Done uploading.\n",
      "INFO:Storage:Uploading ./data/hdf5/batch_00304.hdf5 to bucket:final_batches/batch_00304.hdf5...\n"
     ]
    },
    {
     "name": "stdout",
     "output_type": "stream",
     "text": [
      "72.0\n",
      "0.27214285714285713\n",
      "2971.8\n",
      "224.0\n",
      "0.27214285714285713\n",
      "2971.8\n",
      "225.0\n",
      "0.27214285714285713\n",
      "2971.8\n"
     ]
    },
    {
     "name": "stderr",
     "output_type": "stream",
     "text": [
      "INFO:Storage:Done uploading.\n",
      "INFO:Storage:Uploading ./data/hdf5/batch_00305.hdf5 to bucket:final_batches/batch_00305.hdf5...\n",
      "INFO:Storage:Done uploading.\n",
      "INFO:Storage:Uploading ./data/hdf5/batch_00306.hdf5 to bucket:final_batches/batch_00306.hdf5...\n",
      "INFO:Storage:Done uploading.\n"
     ]
    },
    {
     "name": "stdout",
     "output_type": "stream",
     "text": [
      "226.0\n",
      "0.27214285714285713\n",
      "2971.8\n",
      "227.0\n",
      "0.27214285714285713\n",
      "2971.8\n"
     ]
    },
    {
     "name": "stderr",
     "output_type": "stream",
     "text": [
      "INFO:Storage:Uploading ./data/hdf5/batch_00307.hdf5 to bucket:final_batches/batch_00307.hdf5...\n",
      "INFO:Storage:Done uploading.\n",
      "INFO:Storage:Uploading ./data/hdf5/batch_00308.hdf5 to bucket:final_batches/batch_00308.hdf5...\n",
      "INFO:Storage:Done uploading.\n"
     ]
    },
    {
     "name": "stdout",
     "output_type": "stream",
     "text": [
      "24.0\n",
      "0.27214285714285713\n",
      "2971.8\n",
      "1.0\n",
      "3.6183915362552206\n",
      "2971.8\n"
     ]
    },
    {
     "name": "stderr",
     "output_type": "stream",
     "text": [
      "INFO:Storage:Uploading ./data/hdf5/batch_00309.hdf5 to bucket:final_batches/batch_00309.hdf5...\n",
      "INFO:Storage:Done uploading.\n",
      "INFO:Storage:Uploading ./data/hdf5/batch_00310.hdf5 to bucket:final_batches/batch_00310.hdf5...\n",
      "INFO:Storage:Done uploading.\n",
      "INFO:Storage:Uploading ./data/hdf5/batch_00311.hdf5 to bucket:final_batches/batch_00311.hdf5...\n"
     ]
    },
    {
     "name": "stdout",
     "output_type": "stream",
     "text": [
      "28.0\n",
      "0.27214285714285713\n",
      "2971.8\n",
      "25.0\n",
      "0.27214285714285713\n",
      "2971.8\n",
      "228.0\n",
      "0.27214285714285713\n",
      "280416.0\n"
     ]
    },
    {
     "name": "stderr",
     "output_type": "stream",
     "text": [
      "INFO:Storage:Done uploading.\n",
      "INFO:Storage:Uploading ./data/hdf5/batch_00312.hdf5 to bucket:final_batches/batch_00312.hdf5...\n",
      "INFO:Storage:Done uploading.\n",
      "INFO:Storage:Uploading ./data/hdf5/batch_00313.hdf5 to bucket:final_batches/batch_00313.hdf5...\n",
      "INFO:Storage:Done uploading.\n",
      "INFO:Storage:Uploading ./data/hdf5/batch_00314.hdf5 to bucket:final_batches/batch_00314.hdf5...\n"
     ]
    },
    {
     "name": "stdout",
     "output_type": "stream",
     "text": [
      "1.0\n",
      "0.27214285714285713\n",
      "2971.8\n",
      "229.0\n",
      "0.27214285714285713\n",
      "2971.8\n",
      "78.0\n",
      "0.27214285714285713\n",
      "2971.8\n"
     ]
    },
    {
     "name": "stderr",
     "output_type": "stream",
     "text": [
      "INFO:Storage:Done uploading.\n",
      "INFO:Storage:Uploading ./data/hdf5/batch_00315.hdf5 to bucket:final_batches/batch_00315.hdf5...\n",
      "INFO:Storage:Done uploading.\n",
      "INFO:Storage:Uploading ./data/hdf5/batch_00316.hdf5 to bucket:final_batches/batch_00316.hdf5...\n",
      "INFO:Storage:Done uploading.\n"
     ]
    },
    {
     "name": "stdout",
     "output_type": "stream",
     "text": [
      "230.0\n",
      "0.27214285714285713\n",
      "2971.8\n",
      "231.0\n",
      "0.27214285714285713\n",
      "2971.8\n"
     ]
    },
    {
     "name": "stderr",
     "output_type": "stream",
     "text": [
      "INFO:Storage:Uploading ./data/hdf5/batch_00317.hdf5 to bucket:final_batches/batch_00317.hdf5...\n",
      "INFO:Storage:Done uploading.\n",
      "INFO:Storage:Uploading ./data/hdf5/batch_00318.hdf5 to bucket:final_batches/batch_00318.hdf5...\n",
      "INFO:Storage:Done uploading.\n"
     ]
    },
    {
     "name": "stdout",
     "output_type": "stream",
     "text": [
      "232.0\n",
      "0.27214285714285713\n",
      "2971.8\n",
      "27.0\n",
      "0.27214285714285713\n",
      "2971.8\n"
     ]
    },
    {
     "name": "stderr",
     "output_type": "stream",
     "text": [
      "INFO:Storage:Uploading ./data/hdf5/batch_00319.hdf5 to bucket:final_batches/batch_00319.hdf5...\n",
      "INFO:Storage:Done uploading.\n",
      "INFO:Storage:Uploading ./data/hdf5/batch_00320.hdf5 to bucket:final_batches/batch_00320.hdf5...\n",
      "INFO:Storage:Done uploading.\n"
     ]
    },
    {
     "name": "stdout",
     "output_type": "stream",
     "text": [
      "215.0\n",
      "0.27214285714285713\n",
      "2971.8\n",
      "233.0\n",
      "0.27214285714285713\n",
      "2971.8\n"
     ]
    },
    {
     "name": "stderr",
     "output_type": "stream",
     "text": [
      "INFO:Storage:Uploading ./data/hdf5/batch_00321.hdf5 to bucket:final_batches/batch_00321.hdf5...\n",
      "INFO:Storage:Done uploading.\n",
      "INFO:Storage:Uploading ./data/hdf5/batch_00322.hdf5 to bucket:final_batches/batch_00322.hdf5...\n",
      "INFO:Storage:Done uploading.\n"
     ]
    },
    {
     "name": "stdout",
     "output_type": "stream",
     "text": [
      "234.0\n",
      "0.27214285714285713\n",
      "2971.8\n",
      "235.0\n",
      "0.27214285714285713\n",
      "2971.8\n"
     ]
    },
    {
     "name": "stderr",
     "output_type": "stream",
     "text": [
      "INFO:Storage:Uploading ./data/hdf5/batch_00323.hdf5 to bucket:final_batches/batch_00323.hdf5...\n",
      "INFO:Storage:Done uploading.\n",
      "INFO:Storage:Uploading ./data/hdf5/batch_00324.hdf5 to bucket:final_batches/batch_00324.hdf5...\n",
      "INFO:Storage:Done uploading.\n"
     ]
    },
    {
     "name": "stdout",
     "output_type": "stream",
     "text": [
      "236.0\n",
      "0.27214285714285713\n",
      "2971.8\n",
      "237.0\n",
      "0.27214285714285713\n",
      "2971.8\n"
     ]
    },
    {
     "name": "stderr",
     "output_type": "stream",
     "text": [
      "INFO:Storage:Uploading ./data/hdf5/batch_00325.hdf5 to bucket:final_batches/batch_00325.hdf5...\n",
      "INFO:Storage:Done uploading.\n",
      "INFO:Storage:Uploading ./data/hdf5/batch_00326.hdf5 to bucket:final_batches/batch_00326.hdf5...\n",
      "INFO:Storage:Done uploading.\n"
     ]
    },
    {
     "name": "stdout",
     "output_type": "stream",
     "text": [
      "238.0\n",
      "5.555693403109746\n",
      "2971.8\n",
      "239.0\n",
      "0.0375\n",
      "2971.8\n"
     ]
    },
    {
     "name": "stderr",
     "output_type": "stream",
     "text": [
      "INFO:Storage:Uploading ./data/hdf5/batch_00327.hdf5 to bucket:final_batches/batch_00327.hdf5...\n",
      "INFO:Storage:Done uploading.\n",
      "INFO:Storage:Uploading ./data/hdf5/batch_00328.hdf5 to bucket:final_batches/batch_00328.hdf5...\n",
      "INFO:Storage:Done uploading.\n"
     ]
    },
    {
     "name": "stdout",
     "output_type": "stream",
     "text": [
      "240.0\n",
      "0.27214285714285713\n",
      "2971.8\n",
      "241.0\n",
      "0.27214285714285713\n",
      "280416.0\n"
     ]
    },
    {
     "name": "stderr",
     "output_type": "stream",
     "text": [
      "INFO:Storage:Uploading ./data/hdf5/batch_00329.hdf5 to bucket:final_batches/batch_00329.hdf5...\n",
      "INFO:Storage:Done uploading.\n",
      "INFO:Storage:Uploading ./data/hdf5/batch_00330.hdf5 to bucket:final_batches/batch_00330.hdf5...\n",
      "INFO:Storage:Done uploading.\n",
      "INFO:Storage:Uploading ./data/hdf5/batch_00331.hdf5 to bucket:final_batches/batch_00331.hdf5...\n"
     ]
    },
    {
     "name": "stdout",
     "output_type": "stream",
     "text": [
      "242.0\n",
      "0.27214285714285713\n",
      "280416.0\n",
      "67.0\n",
      "5.555693403109746\n",
      "2971.8\n",
      "243.0\n",
      "0.27214285714285713\n",
      "2971.8\n"
     ]
    },
    {
     "name": "stderr",
     "output_type": "stream",
     "text": [
      "INFO:Storage:Done uploading.\n",
      "INFO:Storage:Uploading ./data/hdf5/batch_00332.hdf5 to bucket:final_batches/batch_00332.hdf5...\n",
      "INFO:Storage:Done uploading.\n",
      "INFO:Storage:Uploading ./data/hdf5/batch_00333.hdf5 to bucket:final_batches/batch_00333.hdf5...\n",
      "INFO:Storage:Done uploading.\n",
      "INFO:Storage:Uploading ./data/hdf5/batch_00334.hdf5 to bucket:final_batches/batch_00334.hdf5...\n"
     ]
    },
    {
     "name": "stdout",
     "output_type": "stream",
     "text": [
      "244.0\n",
      "0.0375\n",
      "2971.8\n",
      "0.0\n",
      "0.06531428571428571\n",
      "2971.8\n",
      "36.0\n",
      "5.555693403109746\n",
      "2971.8\n"
     ]
    },
    {
     "name": "stderr",
     "output_type": "stream",
     "text": [
      "INFO:Storage:Done uploading.\n",
      "INFO:Storage:Uploading ./data/hdf5/batch_00335.hdf5 to bucket:final_batches/batch_00335.hdf5...\n",
      "INFO:Storage:Done uploading.\n",
      "INFO:Storage:Uploading ./data/hdf5/batch_00336.hdf5 to bucket:final_batches/batch_00336.hdf5...\n",
      "INFO:Storage:Done uploading.\n"
     ]
    },
    {
     "name": "stdout",
     "output_type": "stream",
     "text": [
      "201.0\n",
      "0.27214285714285713\n",
      "2971.8\n",
      "245.0\n",
      "0.27214285714285713\n",
      "280416.0\n"
     ]
    },
    {
     "name": "stderr",
     "output_type": "stream",
     "text": [
      "INFO:Storage:Uploading ./data/hdf5/batch_00337.hdf5 to bucket:final_batches/batch_00337.hdf5...\n",
      "INFO:Storage:Done uploading.\n",
      "INFO:Storage:Uploading ./data/hdf5/batch_00338.hdf5 to bucket:final_batches/batch_00338.hdf5...\n",
      "INFO:Storage:Done uploading.\n"
     ]
    },
    {
     "name": "stdout",
     "output_type": "stream",
     "text": [
      "246.0\n",
      "0.27214285714285713\n",
      "2971.8\n",
      "16.0\n",
      "0.27214285714285713\n",
      "280416.0\n"
     ]
    },
    {
     "name": "stderr",
     "output_type": "stream",
     "text": [
      "INFO:Storage:Uploading ./data/hdf5/batch_00339.hdf5 to bucket:final_batches/batch_00339.hdf5...\n",
      "INFO:Storage:Done uploading.\n",
      "INFO:Storage:Uploading ./data/hdf5/batch_00340.hdf5 to bucket:final_batches/batch_00340.hdf5...\n",
      "INFO:Storage:Done uploading.\n"
     ]
    },
    {
     "name": "stdout",
     "output_type": "stream",
     "text": [
      "247.0\n",
      "0.27214285714285713\n",
      "280416.0\n",
      "24.0\n",
      "5.555693403109746\n",
      "280416.0\n"
     ]
    },
    {
     "name": "stderr",
     "output_type": "stream",
     "text": [
      "INFO:Storage:Uploading ./data/hdf5/batch_00341.hdf5 to bucket:final_batches/batch_00341.hdf5...\n",
      "INFO:Storage:Done uploading.\n",
      "INFO:Storage:Uploading ./data/hdf5/batch_00342.hdf5 to bucket:final_batches/batch_00342.hdf5...\n",
      "INFO:Storage:Done uploading.\n"
     ]
    },
    {
     "name": "stdout",
     "output_type": "stream",
     "text": [
      "248.0\n",
      "0.27214285714285713\n",
      "2971.8\n",
      "159.0\n",
      "0.27214285714285713\n",
      "2971.8\n"
     ]
    },
    {
     "name": "stderr",
     "output_type": "stream",
     "text": [
      "INFO:Storage:Uploading ./data/hdf5/batch_00343.hdf5 to bucket:final_batches/batch_00343.hdf5...\n",
      "INFO:Storage:Done uploading.\n",
      "INFO:Storage:Uploading ./data/hdf5/batch_00344.hdf5 to bucket:final_batches/batch_00344.hdf5...\n",
      "INFO:Storage:Done uploading.\n"
     ]
    },
    {
     "name": "stdout",
     "output_type": "stream",
     "text": [
      "249.0\n",
      "0.27214285714285713\n",
      "2971.8\n",
      "184.0\n",
      "0.27214285714285713\n",
      "2971.8\n"
     ]
    },
    {
     "name": "stderr",
     "output_type": "stream",
     "text": [
      "INFO:Storage:Uploading ./data/hdf5/batch_00345.hdf5 to bucket:final_batches/batch_00345.hdf5...\n",
      "INFO:Storage:Done uploading.\n",
      "INFO:Storage:Uploading ./data/hdf5/batch_00346.hdf5 to bucket:final_batches/batch_00346.hdf5...\n",
      "INFO:Storage:Done uploading.\n"
     ]
    },
    {
     "name": "stdout",
     "output_type": "stream",
     "text": [
      "16.0\n",
      "0.27214285714285713\n",
      "2971.8\n",
      "12.0\n",
      "0.27214285714285713\n",
      "2971.8\n"
     ]
    },
    {
     "name": "stderr",
     "output_type": "stream",
     "text": [
      "INFO:Storage:Uploading ./data/hdf5/batch_00347.hdf5 to bucket:final_batches/batch_00347.hdf5...\n",
      "INFO:Storage:Done uploading.\n",
      "INFO:Storage:Uploading ./data/hdf5/batch_00348.hdf5 to bucket:final_batches/batch_00348.hdf5...\n",
      "INFO:Storage:Done uploading.\n"
     ]
    },
    {
     "name": "stdout",
     "output_type": "stream",
     "text": [
      "1.0\n",
      "2.561681427061843\n",
      "2971.8\n",
      "250.0\n",
      "0.27214285714285713\n",
      "112654.08\n"
     ]
    },
    {
     "name": "stderr",
     "output_type": "stream",
     "text": [
      "INFO:Storage:Uploading ./data/hdf5/batch_00349.hdf5 to bucket:final_batches/batch_00349.hdf5...\n",
      "INFO:Storage:Done uploading.\n",
      "INFO:Storage:Uploading ./data/hdf5/batch_00350.hdf5 to bucket:final_batches/batch_00350.hdf5...\n",
      "INFO:Storage:Done uploading.\n",
      "INFO:Storage:Uploading ./data/hdf5/batch_00351.hdf5 to bucket:final_batches/batch_00351.hdf5...\n"
     ]
    },
    {
     "name": "stdout",
     "output_type": "stream",
     "text": [
      "251.0\n",
      "0.27214285714285713\n",
      "2971.8\n",
      "24.0\n",
      "6.9646402153675835\n",
      "280416.0\n",
      "252.0\n",
      "0.27214285714285713\n",
      "112654.08\n"
     ]
    },
    {
     "name": "stderr",
     "output_type": "stream",
     "text": [
      "INFO:Storage:Done uploading.\n",
      "INFO:Storage:Uploading ./data/hdf5/batch_00352.hdf5 to bucket:final_batches/batch_00352.hdf5...\n",
      "INFO:Storage:Done uploading.\n",
      "INFO:Storage:Uploading ./data/hdf5/batch_00353.hdf5 to bucket:final_batches/batch_00353.hdf5...\n",
      "INFO:Storage:Done uploading.\n"
     ]
    },
    {
     "name": "stdout",
     "output_type": "stream",
     "text": [
      "253.0\n",
      "0.27214285714285713\n",
      "2971.8\n",
      "254.0\n",
      "0.27214285714285713\n",
      "280416.0\n"
     ]
    },
    {
     "name": "stderr",
     "output_type": "stream",
     "text": [
      "INFO:Storage:Uploading ./data/hdf5/batch_00354.hdf5 to bucket:final_batches/batch_00354.hdf5...\n",
      "INFO:Storage:Done uploading.\n",
      "INFO:Storage:Uploading ./data/hdf5/batch_00355.hdf5 to bucket:final_batches/batch_00355.hdf5...\n",
      "INFO:Storage:Done uploading.\n"
     ]
    },
    {
     "name": "stdout",
     "output_type": "stream",
     "text": [
      "255.0\n",
      "0.27214285714285713\n",
      "2971.8\n",
      "256.0\n",
      "0.27214285714285713\n",
      "2971.8\n",
      "1.0\n",
      "1.5049713178684647\n",
      "2971.8\n"
     ]
    },
    {
     "name": "stderr",
     "output_type": "stream",
     "text": [
      "INFO:Storage:Uploading ./data/hdf5/batch_00356.hdf5 to bucket:final_batches/batch_00356.hdf5...\n",
      "INFO:Storage:Done uploading.\n",
      "INFO:Storage:Uploading ./data/hdf5/batch_00357.hdf5 to bucket:final_batches/batch_00357.hdf5...\n",
      "INFO:Storage:Done uploading.\n",
      "INFO:Storage:Uploading ./data/hdf5/batch_00358.hdf5 to bucket:final_batches/batch_00358.hdf5...\n",
      "INFO:Storage:Done uploading.\n"
     ]
    },
    {
     "name": "stdout",
     "output_type": "stream",
     "text": [
      "36.0\n",
      "0.27214285714285713\n",
      "2971.8\n",
      "24.0\n",
      "0.27214285714285713\n",
      "2971.8\n"
     ]
    },
    {
     "name": "stderr",
     "output_type": "stream",
     "text": [
      "INFO:Storage:Uploading ./data/hdf5/batch_00359.hdf5 to bucket:final_batches/batch_00359.hdf5...\n",
      "INFO:Storage:Done uploading.\n",
      "INFO:Storage:Uploading ./data/hdf5/batch_00360.hdf5 to bucket:final_batches/batch_00360.hdf5...\n",
      "INFO:Storage:Done uploading.\n"
     ]
    },
    {
     "name": "stdout",
     "output_type": "stream",
     "text": [
      "257.0\n",
      "0.27214285714285713\n",
      "280416.0\n",
      "210.0\n",
      "0.0375\n",
      "2971.8\n"
     ]
    },
    {
     "name": "stderr",
     "output_type": "stream",
     "text": [
      "INFO:Storage:Uploading ./data/hdf5/batch_00361.hdf5 to bucket:final_batches/batch_00361.hdf5...\n",
      "INFO:Storage:Done uploading.\n",
      "INFO:Storage:Uploading ./data/hdf5/batch_00362.hdf5 to bucket:final_batches/batch_00362.hdf5...\n",
      "INFO:Storage:Done uploading.\n"
     ]
    },
    {
     "name": "stdout",
     "output_type": "stream",
     "text": [
      "148.0\n",
      "0.0375\n",
      "2971.8\n",
      "258.0\n",
      "5.555693403109746\n",
      "2971.8\n"
     ]
    },
    {
     "name": "stderr",
     "output_type": "stream",
     "text": [
      "INFO:Storage:Uploading ./data/hdf5/batch_00363.hdf5 to bucket:final_batches/batch_00363.hdf5...\n",
      "INFO:Storage:Done uploading.\n",
      "INFO:Storage:Uploading ./data/hdf5/batch_00364.hdf5 to bucket:final_batches/batch_00364.hdf5...\n",
      "INFO:Storage:Done uploading.\n"
     ]
    },
    {
     "name": "stdout",
     "output_type": "stream",
     "text": [
      "47.0\n",
      "0.27214285714285713\n",
      "2971.8\n",
      "259.0\n",
      "0.27214285714285713\n",
      "2971.8\n",
      "260.0\n",
      "0.27214285714285713\n",
      "2971.8\n"
     ]
    },
    {
     "name": "stderr",
     "output_type": "stream",
     "text": [
      "INFO:Storage:Uploading ./data/hdf5/batch_00365.hdf5 to bucket:final_batches/batch_00365.hdf5...\n",
      "INFO:Storage:Done uploading.\n",
      "INFO:Storage:Uploading ./data/hdf5/batch_00366.hdf5 to bucket:final_batches/batch_00366.hdf5...\n",
      "INFO:Storage:Done uploading.\n",
      "INFO:Storage:Uploading ./data/hdf5/batch_00367.hdf5 to bucket:final_batches/batch_00367.hdf5...\n"
     ]
    },
    {
     "name": "stdout",
     "output_type": "stream",
     "text": [
      "261.0\n",
      "0.27214285714285713\n",
      "2971.8\n",
      "262.0\n",
      "0.0375\n",
      "2971.8\n"
     ]
    },
    {
     "name": "stderr",
     "output_type": "stream",
     "text": [
      "INFO:Storage:Done uploading.\n",
      "INFO:Storage:Uploading ./data/hdf5/batch_00368.hdf5 to bucket:final_batches/batch_00368.hdf5...\n",
      "INFO:Storage:Done uploading.\n",
      "INFO:Storage:Uploading ./data/hdf5/batch_00369.hdf5 to bucket:final_batches/batch_00369.hdf5...\n",
      "INFO:Storage:Done uploading.\n"
     ]
    },
    {
     "name": "stdout",
     "output_type": "stream",
     "text": [
      "263.0\n",
      "0.27214285714285713\n",
      "2971.8\n",
      "244.0\n",
      "0.06531428571428571\n",
      "2971.8\n"
     ]
    },
    {
     "name": "stderr",
     "output_type": "stream",
     "text": [
      "INFO:Storage:Uploading ./data/hdf5/batch_00370.hdf5 to bucket:final_batches/batch_00370.hdf5...\n",
      "INFO:Storage:Done uploading.\n",
      "INFO:Storage:Uploading ./data/hdf5/batch_00371.hdf5 to bucket:final_batches/batch_00371.hdf5...\n",
      "INFO:Storage:Done uploading.\n"
     ]
    },
    {
     "name": "stdout",
     "output_type": "stream",
     "text": [
      "264.0\n",
      "0.27214285714285713\n",
      "2971.8\n",
      "42.0\n",
      "0.27214285714285713\n",
      "2971.8\n",
      "265.0\n",
      "0.27214285714285713\n",
      "2971.8\n"
     ]
    },
    {
     "name": "stderr",
     "output_type": "stream",
     "text": [
      "INFO:Storage:Uploading ./data/hdf5/batch_00372.hdf5 to bucket:final_batches/batch_00372.hdf5...\n",
      "INFO:Storage:Done uploading.\n",
      "INFO:Storage:Uploading ./data/hdf5/batch_00373.hdf5 to bucket:final_batches/batch_00373.hdf5...\n",
      "INFO:Storage:Done uploading.\n",
      "INFO:Storage:Uploading ./data/hdf5/batch_00374.hdf5 to bucket:final_batches/batch_00374.hdf5...\n",
      "INFO:Storage:Done uploading.\n"
     ]
    },
    {
     "name": "stdout",
     "output_type": "stream",
     "text": [
      "67.0\n",
      "0.27214285714285713\n",
      "2971.8\n",
      "266.0\n",
      "6.9646402153675835\n",
      "2971.8\n"
     ]
    },
    {
     "name": "stderr",
     "output_type": "stream",
     "text": [
      "INFO:Storage:Uploading ./data/hdf5/batch_00375.hdf5 to bucket:final_batches/batch_00375.hdf5...\n",
      "INFO:Storage:Done uploading.\n",
      "INFO:Storage:Uploading ./data/hdf5/batch_00376.hdf5 to bucket:final_batches/batch_00376.hdf5...\n",
      "INFO:Storage:Done uploading.\n"
     ]
    },
    {
     "name": "stdout",
     "output_type": "stream",
     "text": [
      "171.0\n",
      "0.27214285714285713\n",
      "2971.8\n",
      "267.0\n",
      "0.27214285714285713\n",
      "2971.8\n"
     ]
    },
    {
     "name": "stderr",
     "output_type": "stream",
     "text": [
      "INFO:Storage:Uploading ./data/hdf5/batch_00377.hdf5 to bucket:final_batches/batch_00377.hdf5...\n",
      "INFO:Storage:Done uploading.\n",
      "INFO:Storage:Uploading ./data/hdf5/batch_00378.hdf5 to bucket:final_batches/batch_00378.hdf5...\n",
      "INFO:Storage:Done uploading.\n",
      "INFO:Storage:Uploading ./data/hdf5/batch_00379.hdf5 to bucket:final_batches/batch_00379.hdf5...\n"
     ]
    },
    {
     "name": "stdout",
     "output_type": "stream",
     "text": [
      "268.0\n",
      "0.27214285714285713\n",
      "2971.8\n",
      "269.0\n",
      "0.27214285714285713\n",
      "280416.0\n",
      "270.0\n",
      "0.27214285714285713\n",
      "280416.0\n"
     ]
    },
    {
     "name": "stderr",
     "output_type": "stream",
     "text": [
      "INFO:Storage:Done uploading.\n",
      "INFO:Storage:Uploading ./data/hdf5/batch_00380.hdf5 to bucket:final_batches/batch_00380.hdf5...\n",
      "INFO:Storage:Done uploading.\n",
      "INFO:Storage:Uploading ./data/hdf5/batch_00381.hdf5 to bucket:final_batches/batch_00381.hdf5...\n",
      "INFO:Storage:Done uploading.\n",
      "INFO:Storage:Uploading ./data/hdf5/batch_00382.hdf5 to bucket:final_batches/batch_00382.hdf5...\n"
     ]
    },
    {
     "name": "stdout",
     "output_type": "stream",
     "text": [
      "196.0\n",
      "0.27214285714285713\n",
      "2971.8\n",
      "164.0\n",
      "0.27214285714285713\n",
      "2971.8\n",
      "271.0\n",
      "0.27214285714285713\n",
      "2971.8\n"
     ]
    },
    {
     "name": "stderr",
     "output_type": "stream",
     "text": [
      "INFO:Storage:Done uploading.\n",
      "INFO:Storage:Uploading ./data/hdf5/batch_00383.hdf5 to bucket:final_batches/batch_00383.hdf5...\n",
      "INFO:Storage:Done uploading.\n",
      "INFO:Storage:Uploading ./data/hdf5/batch_00384.hdf5 to bucket:final_batches/batch_00384.hdf5...\n",
      "INFO:Storage:Done uploading.\n",
      "INFO:Storage:Uploading ./data/hdf5/batch_00385.hdf5 to bucket:final_batches/batch_00385.hdf5...\n"
     ]
    },
    {
     "name": "stdout",
     "output_type": "stream",
     "text": [
      "272.0\n",
      "0.27214285714285713\n",
      "2971.8\n",
      "273.0\n",
      "0.27214285714285713\n",
      "2971.8\n",
      "274.0\n",
      "0.27214285714285713\n",
      "2971.8\n"
     ]
    },
    {
     "name": "stderr",
     "output_type": "stream",
     "text": [
      "INFO:Storage:Done uploading.\n",
      "INFO:Storage:Uploading ./data/hdf5/batch_00386.hdf5 to bucket:final_batches/batch_00386.hdf5...\n",
      "INFO:Storage:Done uploading.\n",
      "INFO:Storage:Uploading ./data/hdf5/batch_00387.hdf5 to bucket:final_batches/batch_00387.hdf5...\n",
      "INFO:Storage:Done uploading.\n"
     ]
    },
    {
     "name": "stdout",
     "output_type": "stream",
     "text": [
      "12.0\n",
      "0.27214285714285713\n",
      "2971.8\n",
      "275.0\n",
      "0.27214285714285713\n",
      "280416.0\n"
     ]
    },
    {
     "name": "stderr",
     "output_type": "stream",
     "text": [
      "INFO:Storage:Uploading ./data/hdf5/batch_00388.hdf5 to bucket:final_batches/batch_00388.hdf5...\n",
      "INFO:Storage:Done uploading.\n",
      "INFO:Storage:Uploading ./data/hdf5/batch_00389.hdf5 to bucket:final_batches/batch_00389.hdf5...\n",
      "INFO:Storage:Done uploading.\n"
     ]
    },
    {
     "name": "stdout",
     "output_type": "stream",
     "text": [
      "276.0\n",
      "0.27214285714285713\n",
      "2971.8\n",
      "277.0\n",
      "0.27214285714285713\n",
      "2971.8\n"
     ]
    },
    {
     "name": "stderr",
     "output_type": "stream",
     "text": [
      "INFO:Storage:Uploading ./data/hdf5/batch_00390.hdf5 to bucket:final_batches/batch_00390.hdf5...\n",
      "INFO:Storage:Done uploading.\n",
      "INFO:Storage:Uploading ./data/hdf5/batch_00391.hdf5 to bucket:final_batches/batch_00391.hdf5...\n",
      "INFO:Storage:Done uploading.\n"
     ]
    },
    {
     "name": "stdout",
     "output_type": "stream",
     "text": [
      "278.0\n",
      "0.27214285714285713\n",
      "2971.8\n",
      "279.0\n",
      "0.27214285714285713\n",
      "2971.8\n"
     ]
    },
    {
     "name": "stderr",
     "output_type": "stream",
     "text": [
      "INFO:Storage:Uploading ./data/hdf5/batch_00392.hdf5 to bucket:final_batches/batch_00392.hdf5...\n",
      "INFO:Storage:Done uploading.\n",
      "INFO:Storage:Uploading ./data/hdf5/batch_00393.hdf5 to bucket:final_batches/batch_00393.hdf5...\n",
      "INFO:Storage:Done uploading.\n",
      "INFO:Storage:Uploading ./data/hdf5/batch_00394.hdf5 to bucket:final_batches/batch_00394.hdf5...\n"
     ]
    },
    {
     "name": "stdout",
     "output_type": "stream",
     "text": [
      "280.0\n",
      "0.0375\n",
      "2971.8\n",
      "36.0\n",
      "0.27214285714285713\n",
      "2971.8\n",
      "153.0\n",
      "8.90194208222211\n",
      "2971.8\n"
     ]
    },
    {
     "name": "stderr",
     "output_type": "stream",
     "text": [
      "INFO:Storage:Done uploading.\n",
      "INFO:Storage:Uploading ./data/hdf5/batch_00395.hdf5 to bucket:final_batches/batch_00395.hdf5...\n",
      "INFO:Storage:Done uploading.\n",
      "INFO:Storage:Uploading ./data/hdf5/batch_00396.hdf5 to bucket:final_batches/batch_00396.hdf5...\n",
      "INFO:Storage:Done uploading.\n"
     ]
    },
    {
     "name": "stdout",
     "output_type": "stream",
     "text": [
      "281.0\n",
      "0.27214285714285713\n",
      "2971.8\n",
      "282.0\n",
      "0.27214285714285713\n",
      "2971.8\n"
     ]
    },
    {
     "name": "stderr",
     "output_type": "stream",
     "text": [
      "INFO:Storage:Uploading ./data/hdf5/batch_00397.hdf5 to bucket:final_batches/batch_00397.hdf5...\n",
      "INFO:Storage:Done uploading.\n",
      "INFO:Storage:Uploading ./data/hdf5/batch_00398.hdf5 to bucket:final_batches/batch_00398.hdf5...\n",
      "INFO:Storage:Done uploading.\n"
     ]
    },
    {
     "name": "stdout",
     "output_type": "stream",
     "text": [
      "153.0\n",
      "6.9646402153675835\n",
      "2971.8\n",
      "127.0\n",
      "0.27214285714285713\n",
      "2971.8\n"
     ]
    },
    {
     "name": "stderr",
     "output_type": "stream",
     "text": [
      "INFO:Storage:Uploading ./data/hdf5/batch_00399.hdf5 to bucket:final_batches/batch_00399.hdf5...\n",
      "INFO:Storage:Done uploading.\n",
      "INFO:Storage:Uploading ./data/hdf5/batch_00400.hdf5 to bucket:final_batches/batch_00400.hdf5...\n",
      "INFO:Storage:Done uploading.\n"
     ]
    },
    {
     "name": "stdout",
     "output_type": "stream",
     "text": [
      "283.0\n",
      "0.27214285714285713\n",
      "280416.0\n",
      "24.0\n",
      "0.27214285714285713\n",
      "280416.0\n",
      "60.0\n",
      "0.27214285714285713\n",
      "280416.0\n"
     ]
    },
    {
     "name": "stderr",
     "output_type": "stream",
     "text": [
      "INFO:Storage:Uploading ./data/hdf5/batch_00401.hdf5 to bucket:final_batches/batch_00401.hdf5...\n",
      "INFO:Storage:Done uploading.\n",
      "INFO:Storage:Uploading ./data/hdf5/batch_00402.hdf5 to bucket:final_batches/batch_00402.hdf5...\n",
      "INFO:Storage:Done uploading.\n",
      "INFO:Storage:Uploading ./data/hdf5/batch_00403.hdf5 to bucket:final_batches/batch_00403.hdf5...\n",
      "INFO:Storage:Done uploading.\n"
     ]
    },
    {
     "name": "stdout",
     "output_type": "stream",
     "text": [
      "284.0\n",
      "0.27214285714285713\n",
      "2971.8\n",
      "60.0\n",
      "0.27214285714285713\n",
      "280416.0\n"
     ]
    },
    {
     "name": "stderr",
     "output_type": "stream",
     "text": [
      "INFO:Storage:Uploading ./data/hdf5/batch_00404.hdf5 to bucket:final_batches/batch_00404.hdf5...\n",
      "INFO:Storage:Done uploading.\n",
      "INFO:Storage:Uploading ./data/hdf5/batch_00405.hdf5 to bucket:final_batches/batch_00405.hdf5...\n",
      "INFO:Storage:Done uploading.\n"
     ]
    },
    {
     "name": "stdout",
     "output_type": "stream",
     "text": [
      "285.0\n",
      "0.27214285714285713\n",
      "2971.8\n",
      "286.0\n",
      "0.27214285714285713\n",
      "2971.8\n",
      "150.0\n",
      "0.27214285714285713\n",
      "2971.8\n"
     ]
    },
    {
     "name": "stderr",
     "output_type": "stream",
     "text": [
      "INFO:Storage:Uploading ./data/hdf5/batch_00406.hdf5 to bucket:final_batches/batch_00406.hdf5...\n",
      "INFO:Storage:Done uploading.\n",
      "INFO:Storage:Uploading ./data/hdf5/batch_00407.hdf5 to bucket:final_batches/batch_00407.hdf5...\n",
      "INFO:Storage:Done uploading.\n",
      "INFO:Storage:Uploading ./data/hdf5/batch_00408.hdf5 to bucket:final_batches/batch_00408.hdf5...\n",
      "INFO:Storage:Done uploading.\n"
     ]
    },
    {
     "name": "stdout",
     "output_type": "stream",
     "text": [
      "287.0\n",
      "0.27214285714285713\n",
      "280416.0\n",
      "288.0\n",
      "0.27214285714285713\n",
      "2971.8\n"
     ]
    },
    {
     "name": "stderr",
     "output_type": "stream",
     "text": [
      "INFO:Storage:Uploading ./data/hdf5/batch_00409.hdf5 to bucket:final_batches/batch_00409.hdf5...\n",
      "INFO:Storage:Done uploading.\n",
      "INFO:Storage:Uploading ./data/hdf5/batch_00410.hdf5 to bucket:final_batches/batch_00410.hdf5...\n",
      "INFO:Storage:Done uploading.\n"
     ]
    },
    {
     "name": "stdout",
     "output_type": "stream",
     "text": [
      "7.0\n",
      "0.27214285714285713\n",
      "2971.8\n",
      "283.0\n",
      "0.0375\n",
      "280416.0\n"
     ]
    },
    {
     "name": "stderr",
     "output_type": "stream",
     "text": [
      "INFO:Storage:Uploading ./data/hdf5/batch_00411.hdf5 to bucket:final_batches/batch_00411.hdf5...\n",
      "INFO:Storage:Done uploading.\n",
      "INFO:Storage:Uploading ./data/hdf5/batch_00412.hdf5 to bucket:final_batches/batch_00412.hdf5...\n",
      "INFO:Storage:Done uploading.\n",
      "INFO:Storage:Uploading ./data/hdf5/batch_00413.hdf5 to bucket:final_batches/batch_00413.hdf5...\n"
     ]
    },
    {
     "name": "stdout",
     "output_type": "stream",
     "text": [
      "1.0\n",
      "5.555693403109746\n",
      "2971.8\n",
      "0.0\n",
      "0.27214285714285713\n",
      "2971.8\n",
      "289.0\n",
      "0.0375\n",
      "2971.8\n"
     ]
    },
    {
     "name": "stderr",
     "output_type": "stream",
     "text": [
      "INFO:Storage:Done uploading.\n",
      "INFO:Storage:Uploading ./data/hdf5/batch_00414.hdf5 to bucket:final_batches/batch_00414.hdf5...\n",
      "INFO:Storage:Done uploading.\n",
      "INFO:Storage:Uploading ./data/hdf5/batch_00415.hdf5 to bucket:final_batches/batch_00415.hdf5...\n",
      "INFO:Storage:Done uploading.\n"
     ]
    },
    {
     "name": "stdout",
     "output_type": "stream",
     "text": [
      "290.0\n",
      "0.27214285714285713\n",
      "2971.8\n",
      "42.0\n",
      "0.27214285714285713\n",
      "2971.8\n",
      "291.0\n",
      "0.27214285714285713\n",
      "2971.8\n"
     ]
    },
    {
     "name": "stderr",
     "output_type": "stream",
     "text": [
      "INFO:Storage:Uploading ./data/hdf5/batch_00416.hdf5 to bucket:final_batches/batch_00416.hdf5...\n",
      "INFO:Storage:Done uploading.\n",
      "INFO:Storage:Uploading ./data/hdf5/batch_00417.hdf5 to bucket:final_batches/batch_00417.hdf5...\n",
      "INFO:Storage:Done uploading.\n",
      "INFO:Storage:Uploading ./data/hdf5/batch_00418.hdf5 to bucket:final_batches/batch_00418.hdf5...\n",
      "INFO:Storage:Done uploading.\n"
     ]
    },
    {
     "name": "stdout",
     "output_type": "stream",
     "text": [
      "45.0\n",
      "8.90194208222211\n",
      "2971.8\n",
      "1.0\n",
      "5.555693403109746\n",
      "280416.0\n"
     ]
    },
    {
     "name": "stderr",
     "output_type": "stream",
     "text": [
      "INFO:Storage:Uploading ./data/hdf5/batch_00419.hdf5 to bucket:final_batches/batch_00419.hdf5...\n",
      "INFO:Storage:Done uploading.\n",
      "INFO:Storage:Uploading ./data/hdf5/batch_00420.hdf5 to bucket:final_batches/batch_00420.hdf5...\n",
      "INFO:Storage:Done uploading.\n"
     ]
    },
    {
     "name": "stdout",
     "output_type": "stream",
     "text": [
      "200.0\n",
      "0.27214285714285713\n",
      "280416.0\n",
      "210.0\n",
      "0.27214285714285713\n",
      "2971.8\n"
     ]
    },
    {
     "name": "stderr",
     "output_type": "stream",
     "text": [
      "INFO:Storage:Uploading ./data/hdf5/batch_00421.hdf5 to bucket:final_batches/batch_00421.hdf5...\n",
      "INFO:Storage:Done uploading.\n",
      "INFO:Storage:Uploading ./data/hdf5/batch_00422.hdf5 to bucket:final_batches/batch_00422.hdf5...\n",
      "INFO:Storage:Done uploading.\n"
     ]
    },
    {
     "name": "stdout",
     "output_type": "stream",
     "text": [
      "24.0\n",
      "5.555693403109746\n",
      "2971.8\n",
      "292.0\n",
      "0.06531428571428571\n",
      "2971.8\n"
     ]
    },
    {
     "name": "stderr",
     "output_type": "stream",
     "text": [
      "INFO:Storage:Uploading ./data/hdf5/batch_00423.hdf5 to bucket:final_batches/batch_00423.hdf5...\n",
      "INFO:Storage:Done uploading.\n",
      "INFO:Storage:Uploading ./data/hdf5/batch_00424.hdf5 to bucket:final_batches/batch_00424.hdf5...\n",
      "INFO:Storage:Done uploading.\n"
     ]
    },
    {
     "name": "stdout",
     "output_type": "stream",
     "text": [
      "191.0\n",
      "6.9646402153675835\n",
      "280416.0\n",
      "171.0\n",
      "0.27214285714285713\n",
      "280416.0\n"
     ]
    },
    {
     "name": "stderr",
     "output_type": "stream",
     "text": [
      "INFO:Storage:Uploading ./data/hdf5/batch_00425.hdf5 to bucket:final_batches/batch_00425.hdf5...\n",
      "INFO:Storage:Done uploading.\n",
      "INFO:Storage:Uploading ./data/hdf5/batch_00426.hdf5 to bucket:final_batches/batch_00426.hdf5...\n",
      "INFO:Storage:Done uploading.\n"
     ]
    },
    {
     "name": "stdout",
     "output_type": "stream",
     "text": [
      "16.0\n",
      "0.27214285714285713\n",
      "280416.0\n",
      "23.0\n",
      "0.27214285714285713\n",
      "2971.8\n"
     ]
    },
    {
     "name": "stderr",
     "output_type": "stream",
     "text": [
      "INFO:Storage:Uploading ./data/hdf5/batch_00427.hdf5 to bucket:final_batches/batch_00427.hdf5...\n",
      "INFO:Storage:Done uploading.\n",
      "INFO:Storage:Uploading ./data/hdf5/batch_00428.hdf5 to bucket:final_batches/batch_00428.hdf5...\n",
      "INFO:Storage:Done uploading.\n"
     ]
    },
    {
     "name": "stdout",
     "output_type": "stream",
     "text": [
      "1.0\n",
      "5.555693403109746\n",
      "2971.8\n",
      "293.0\n",
      "0.27214285714285713\n",
      "112654.08\n"
     ]
    },
    {
     "name": "stderr",
     "output_type": "stream",
     "text": [
      "INFO:Storage:Uploading ./data/hdf5/batch_00429.hdf5 to bucket:final_batches/batch_00429.hdf5...\n",
      "INFO:Storage:Done uploading.\n",
      "INFO:Storage:Uploading ./data/hdf5/batch_00430.hdf5 to bucket:final_batches/batch_00430.hdf5...\n"
     ]
    },
    {
     "name": "stdout",
     "output_type": "stream",
     "text": [
      "294.0\n",
      "0.27214285714285713\n",
      "280416.0\n",
      "149.0\n",
      "0.27214285714285713\n",
      "2971.8\n"
     ]
    },
    {
     "name": "stderr",
     "output_type": "stream",
     "text": [
      "INFO:Storage:Done uploading.\n",
      "INFO:Storage:Uploading ./data/hdf5/batch_00431.hdf5 to bucket:final_batches/batch_00431.hdf5...\n",
      "INFO:Storage:Done uploading.\n",
      "INFO:Storage:Uploading ./data/hdf5/batch_00432.hdf5 to bucket:final_batches/batch_00432.hdf5...\n",
      "INFO:Storage:Done uploading.\n",
      "INFO:Storage:Uploading ./data/hdf5/batch_00433.hdf5 to bucket:final_batches/batch_00433.hdf5...\n"
     ]
    },
    {
     "name": "stdout",
     "output_type": "stream",
     "text": [
      "295.0\n",
      "0.27214285714285713\n",
      "2971.8\n",
      "296.0\n",
      "0.27214285714285713\n",
      "2971.8\n",
      "1.0\n",
      "1.5049713178684647\n",
      "280416.0\n"
     ]
    },
    {
     "name": "stderr",
     "output_type": "stream",
     "text": [
      "INFO:Storage:Done uploading.\n",
      "INFO:Storage:Uploading ./data/hdf5/batch_00434.hdf5 to bucket:final_batches/batch_00434.hdf5...\n",
      "INFO:Storage:Done uploading.\n",
      "INFO:Storage:Uploading ./data/hdf5/batch_00435.hdf5 to bucket:final_batches/batch_00435.hdf5...\n",
      "INFO:Storage:Done uploading.\n"
     ]
    },
    {
     "name": "stdout",
     "output_type": "stream",
     "text": [
      "297.0\n",
      "0.27214285714285713\n",
      "280416.0\n",
      "298.0\n",
      "0.27214285714285713\n",
      "2971.8\n"
     ]
    },
    {
     "name": "stderr",
     "output_type": "stream",
     "text": [
      "INFO:Storage:Uploading ./data/hdf5/batch_00436.hdf5 to bucket:final_batches/batch_00436.hdf5...\n",
      "INFO:Storage:Done uploading.\n",
      "INFO:Storage:Uploading ./data/hdf5/batch_00437.hdf5 to bucket:final_batches/batch_00437.hdf5...\n",
      "INFO:Storage:Done uploading.\n"
     ]
    },
    {
     "name": "stdout",
     "output_type": "stream",
     "text": [
      "1.0\n",
      "8.90194208222211\n",
      "280416.0\n",
      "299.0\n",
      "0.27214285714285713\n",
      "2971.8\n"
     ]
    },
    {
     "name": "stderr",
     "output_type": "stream",
     "text": [
      "INFO:Storage:Uploading ./data/hdf5/batch_00438.hdf5 to bucket:final_batches/batch_00438.hdf5...\n",
      "INFO:Storage:Done uploading.\n",
      "INFO:Storage:Uploading ./data/hdf5/batch_00439.hdf5 to bucket:final_batches/batch_00439.hdf5...\n"
     ]
    },
    {
     "name": "stdout",
     "output_type": "stream",
     "text": [
      "300.0\n",
      "0.27214285714285713\n",
      "2971.8\n",
      "301.0\n",
      "0.27214285714285713\n",
      "2971.8\n"
     ]
    },
    {
     "name": "stderr",
     "output_type": "stream",
     "text": [
      "INFO:Storage:Done uploading.\n",
      "INFO:Storage:Uploading ./data/hdf5/batch_00440.hdf5 to bucket:final_batches/batch_00440.hdf5...\n",
      "INFO:Storage:Done uploading.\n",
      "INFO:Storage:Uploading ./data/hdf5/batch_00441.hdf5 to bucket:final_batches/batch_00441.hdf5...\n",
      "INFO:Storage:Done uploading.\n"
     ]
    },
    {
     "name": "stdout",
     "output_type": "stream",
     "text": [
      "302.0\n",
      "0.06531428571428571\n",
      "2971.8\n",
      "303.0\n",
      "0.27214285714285713\n",
      "2971.8\n"
     ]
    },
    {
     "name": "stderr",
     "output_type": "stream",
     "text": [
      "INFO:Storage:Uploading ./data/hdf5/batch_00442.hdf5 to bucket:final_batches/batch_00442.hdf5...\n",
      "INFO:Storage:Done uploading.\n",
      "INFO:Storage:Uploading ./data/hdf5/batch_00443.hdf5 to bucket:final_batches/batch_00443.hdf5...\n",
      "INFO:Storage:Done uploading.\n",
      "INFO:Storage:Uploading ./data/hdf5/batch_00444.hdf5 to bucket:final_batches/batch_00444.hdf5...\n"
     ]
    },
    {
     "name": "stdout",
     "output_type": "stream",
     "text": [
      "304.0\n",
      "0.27214285714285713\n",
      "2971.8\n",
      "305.0\n",
      "0.27214285714285713\n",
      "2971.8\n",
      "306.0\n",
      "0.27214285714285713\n",
      "2971.8\n"
     ]
    },
    {
     "name": "stderr",
     "output_type": "stream",
     "text": [
      "INFO:Storage:Done uploading.\n",
      "INFO:Storage:Uploading ./data/hdf5/batch_00445.hdf5 to bucket:final_batches/batch_00445.hdf5...\n",
      "INFO:Storage:Done uploading.\n",
      "INFO:Storage:Uploading ./data/hdf5/batch_00446.hdf5 to bucket:final_batches/batch_00446.hdf5...\n",
      "INFO:Storage:Done uploading.\n"
     ]
    },
    {
     "name": "stdout",
     "output_type": "stream",
     "text": [
      "307.0\n",
      "0.27214285714285713\n",
      "2971.8\n",
      "159.0\n",
      "0.27214285714285713\n",
      "2971.8\n"
     ]
    },
    {
     "name": "stderr",
     "output_type": "stream",
     "text": [
      "INFO:Storage:Uploading ./data/hdf5/batch_00447.hdf5 to bucket:final_batches/batch_00447.hdf5...\n",
      "INFO:Storage:Done uploading.\n",
      "INFO:Storage:Uploading ./data/hdf5/batch_00448.hdf5 to bucket:final_batches/batch_00448.hdf5...\n",
      "INFO:Storage:Done uploading.\n"
     ]
    },
    {
     "name": "stdout",
     "output_type": "stream",
     "text": [
      "308.0\n",
      "0.0375\n",
      "2971.8\n",
      "309.0\n",
      "0.27214285714285713\n",
      "2971.8\n"
     ]
    },
    {
     "name": "stderr",
     "output_type": "stream",
     "text": [
      "INFO:Storage:Uploading ./data/hdf5/batch_00449.hdf5 to bucket:final_batches/batch_00449.hdf5...\n",
      "INFO:Storage:Done uploading.\n",
      "INFO:Storage:Uploading ./data/hdf5/batch_00450.hdf5 to bucket:final_batches/batch_00450.hdf5...\n",
      "INFO:Storage:Done uploading.\n"
     ]
    },
    {
     "name": "stdout",
     "output_type": "stream",
     "text": [
      "78.0\n",
      "0.27214285714285713\n",
      "2971.8\n",
      "310.0\n",
      "0.27214285714285713\n",
      "280416.0\n"
     ]
    },
    {
     "name": "stderr",
     "output_type": "stream",
     "text": [
      "INFO:Storage:Uploading ./data/hdf5/batch_00451.hdf5 to bucket:final_batches/batch_00451.hdf5...\n",
      "INFO:Storage:Done uploading.\n",
      "INFO:Storage:Uploading ./data/hdf5/batch_00452.hdf5 to bucket:final_batches/batch_00452.hdf5...\n",
      "INFO:Storage:Done uploading.\n"
     ]
    },
    {
     "name": "stdout",
     "output_type": "stream",
     "text": [
      "283.0\n",
      "0.27214285714285713\n",
      "280416.0\n",
      "311.0\n",
      "0.27214285714285713\n",
      "2971.8\n",
      "312.0\n",
      "8.90194208222211\n",
      "2971.8\n"
     ]
    },
    {
     "name": "stderr",
     "output_type": "stream",
     "text": [
      "INFO:Storage:Uploading ./data/hdf5/batch_00453.hdf5 to bucket:final_batches/batch_00453.hdf5...\n",
      "INFO:Storage:Done uploading.\n",
      "INFO:Storage:Uploading ./data/hdf5/batch_00454.hdf5 to bucket:final_batches/batch_00454.hdf5...\n",
      "INFO:Storage:Done uploading.\n",
      "INFO:Storage:Uploading ./data/hdf5/batch_00455.hdf5 to bucket:final_batches/batch_00455.hdf5...\n",
      "INFO:Storage:Done uploading.\n"
     ]
    },
    {
     "name": "stdout",
     "output_type": "stream",
     "text": [
      "313.0\n",
      "0.27214285714285713\n",
      "2971.8\n",
      "314.0\n",
      "0.27214285714285713\n",
      "2971.8\n"
     ]
    },
    {
     "name": "stderr",
     "output_type": "stream",
     "text": [
      "INFO:Storage:Uploading ./data/hdf5/batch_00456.hdf5 to bucket:final_batches/batch_00456.hdf5...\n",
      "INFO:Storage:Done uploading.\n",
      "INFO:Storage:Uploading ./data/hdf5/batch_00457.hdf5 to bucket:final_batches/batch_00457.hdf5...\n",
      "INFO:Storage:Done uploading.\n"
     ]
    },
    {
     "name": "stdout",
     "output_type": "stream",
     "text": [
      "315.0\n",
      "3.6183915362552206\n",
      "2971.8\n",
      "316.0\n",
      "0.27214285714285713\n",
      "112654.08\n"
     ]
    },
    {
     "name": "stderr",
     "output_type": "stream",
     "text": [
      "INFO:Storage:Uploading ./data/hdf5/batch_00458.hdf5 to bucket:final_batches/batch_00458.hdf5...\n",
      "INFO:Storage:Done uploading.\n",
      "INFO:Storage:Uploading ./data/hdf5/batch_00459.hdf5 to bucket:final_batches/batch_00459.hdf5...\n",
      "INFO:Storage:Done uploading.\n"
     ]
    },
    {
     "name": "stdout",
     "output_type": "stream",
     "text": [
      "317.0\n",
      "0.27214285714285713\n",
      "2971.8\n",
      "0.0\n",
      "0.27214285714285713\n",
      "2971.8\n"
     ]
    },
    {
     "name": "stderr",
     "output_type": "stream",
     "text": [
      "INFO:Storage:Uploading ./data/hdf5/batch_00460.hdf5 to bucket:final_batches/batch_00460.hdf5...\n",
      "INFO:Storage:Done uploading.\n",
      "INFO:Storage:Uploading ./data/hdf5/batch_00461.hdf5 to bucket:final_batches/batch_00461.hdf5...\n",
      "INFO:Storage:Done uploading.\n",
      "INFO:Storage:Uploading ./data/hdf5/batch_00462.hdf5 to bucket:final_batches/batch_00462.hdf5...\n"
     ]
    },
    {
     "name": "stdout",
     "output_type": "stream",
     "text": [
      "219.0\n",
      "0.27214285714285713\n",
      "2971.8\n",
      "131.0\n",
      "0.27214285714285713\n",
      "2971.8\n",
      "318.0\n",
      "0.27214285714285713\n",
      "2971.8\n"
     ]
    },
    {
     "name": "stderr",
     "output_type": "stream",
     "text": [
      "INFO:Storage:Done uploading.\n",
      "INFO:Storage:Uploading ./data/hdf5/batch_00463.hdf5 to bucket:final_batches/batch_00463.hdf5...\n",
      "INFO:Storage:Done uploading.\n",
      "INFO:Storage:Uploading ./data/hdf5/batch_00464.hdf5 to bucket:final_batches/batch_00464.hdf5...\n",
      "INFO:Storage:Done uploading.\n"
     ]
    },
    {
     "name": "stdout",
     "output_type": "stream",
     "text": [
      "319.0\n",
      "0.27214285714285713\n",
      "280416.0\n",
      "320.0\n",
      "0.27214285714285713\n",
      "2971.8\n"
     ]
    },
    {
     "name": "stderr",
     "output_type": "stream",
     "text": [
      "INFO:Storage:Uploading ./data/hdf5/batch_00465.hdf5 to bucket:final_batches/batch_00465.hdf5...\n",
      "INFO:Storage:Done uploading.\n",
      "INFO:Storage:Uploading ./data/hdf5/batch_00466.hdf5 to bucket:final_batches/batch_00466.hdf5...\n"
     ]
    },
    {
     "name": "stdout",
     "output_type": "stream",
     "text": [
      "321.0\n",
      "0.27214285714285713\n",
      "2971.8\n",
      "322.0\n",
      "0.27214285714285713\n",
      "2971.8\n"
     ]
    },
    {
     "name": "stderr",
     "output_type": "stream",
     "text": [
      "INFO:Storage:Done uploading.\n",
      "INFO:Storage:Uploading ./data/hdf5/batch_00467.hdf5 to bucket:final_batches/batch_00467.hdf5...\n",
      "INFO:Storage:Done uploading.\n",
      "INFO:Storage:Uploading ./data/hdf5/batch_00468.hdf5 to bucket:final_batches/batch_00468.hdf5...\n",
      "INFO:Storage:Done uploading.\n"
     ]
    },
    {
     "name": "stdout",
     "output_type": "stream",
     "text": [
      "323.0\n",
      "0.27214285714285713\n",
      "2971.8\n",
      "78.0\n",
      "0.27214285714285713\n",
      "2971.8\n"
     ]
    },
    {
     "name": "stderr",
     "output_type": "stream",
     "text": [
      "INFO:Storage:Uploading ./data/hdf5/batch_00469.hdf5 to bucket:final_batches/batch_00469.hdf5...\n",
      "INFO:Storage:Done uploading.\n",
      "INFO:Storage:Uploading ./data/hdf5/batch_00470.hdf5 to bucket:final_batches/batch_00470.hdf5...\n",
      "INFO:Storage:Done uploading.\n"
     ]
    },
    {
     "name": "stdout",
     "output_type": "stream",
     "text": [
      "169.0\n",
      "0.27214285714285713\n",
      "280416.0\n",
      "324.0\n",
      "0.27214285714285713\n",
      "2971.8\n"
     ]
    },
    {
     "name": "stderr",
     "output_type": "stream",
     "text": [
      "INFO:Storage:Uploading ./data/hdf5/batch_00471.hdf5 to bucket:final_batches/batch_00471.hdf5...\n",
      "INFO:Storage:Done uploading.\n",
      "INFO:Storage:Uploading ./data/hdf5/batch_00472.hdf5 to bucket:final_batches/batch_00472.hdf5...\n"
     ]
    },
    {
     "name": "stdout",
     "output_type": "stream",
     "text": [
      "325.0\n",
      "0.27214285714285713\n",
      "2971.8\n",
      "326.0\n",
      "0.27214285714285713\n",
      "280416.0\n"
     ]
    },
    {
     "name": "stderr",
     "output_type": "stream",
     "text": [
      "INFO:Storage:Done uploading.\n",
      "INFO:Storage:Uploading ./data/hdf5/batch_00473.hdf5 to bucket:final_batches/batch_00473.hdf5...\n",
      "INFO:Storage:Done uploading.\n",
      "INFO:Storage:Uploading ./data/hdf5/batch_00474.hdf5 to bucket:final_batches/batch_00474.hdf5...\n",
      "INFO:Storage:Done uploading.\n"
     ]
    },
    {
     "name": "stdout",
     "output_type": "stream",
     "text": [
      "327.0\n",
      "0.27214285714285713\n",
      "2971.8\n",
      "328.0\n",
      "0.27214285714285713\n",
      "2971.8\n"
     ]
    },
    {
     "name": "stderr",
     "output_type": "stream",
     "text": [
      "INFO:Storage:Uploading ./data/hdf5/batch_00475.hdf5 to bucket:final_batches/batch_00475.hdf5...\n",
      "INFO:Storage:Done uploading.\n",
      "INFO:Storage:Uploading ./data/hdf5/batch_00476.hdf5 to bucket:final_batches/batch_00476.hdf5...\n",
      "INFO:Storage:Done uploading.\n"
     ]
    },
    {
     "name": "stdout",
     "output_type": "stream",
     "text": [
      "107.0\n",
      "0.27214285714285713\n",
      "2971.8\n",
      "244.0\n",
      "0.27214285714285713\n",
      "2971.8\n"
     ]
    },
    {
     "name": "stderr",
     "output_type": "stream",
     "text": [
      "INFO:Storage:Uploading ./data/hdf5/batch_00477.hdf5 to bucket:final_batches/batch_00477.hdf5...\n",
      "INFO:Storage:Done uploading.\n",
      "INFO:Storage:Uploading ./data/hdf5/batch_00478.hdf5 to bucket:final_batches/batch_00478.hdf5...\n",
      "INFO:Storage:Done uploading.\n",
      "INFO:Storage:Uploading ./data/hdf5/batch_00479.hdf5 to bucket:final_batches/batch_00479.hdf5...\n"
     ]
    },
    {
     "name": "stdout",
     "output_type": "stream",
     "text": [
      "36.0\n",
      "0.27214285714285713\n",
      "2971.8\n",
      "246.0\n",
      "5.555693403109746\n",
      "2971.8\n",
      "329.0\n",
      "0.27214285714285713\n",
      "2971.8\n"
     ]
    },
    {
     "name": "stderr",
     "output_type": "stream",
     "text": [
      "INFO:Storage:Done uploading.\n",
      "INFO:Storage:Uploading ./data/hdf5/batch_00480.hdf5 to bucket:final_batches/batch_00480.hdf5...\n",
      "INFO:Storage:Done uploading.\n",
      "INFO:Storage:Uploading ./data/hdf5/batch_00481.hdf5 to bucket:final_batches/batch_00481.hdf5...\n",
      "INFO:Storage:Done uploading.\n"
     ]
    },
    {
     "name": "stdout",
     "output_type": "stream",
     "text": [
      "24.0\n",
      "6.9646402153675835\n",
      "2971.8\n",
      "117.0\n",
      "0.27214285714285713\n",
      "2971.8\n"
     ]
    },
    {
     "name": "stderr",
     "output_type": "stream",
     "text": [
      "INFO:Storage:Uploading ./data/hdf5/batch_00482.hdf5 to bucket:final_batches/batch_00482.hdf5...\n",
      "INFO:Storage:Done uploading.\n",
      "INFO:Storage:Uploading ./data/hdf5/batch_00483.hdf5 to bucket:final_batches/batch_00483.hdf5...\n",
      "INFO:Storage:Done uploading.\n"
     ]
    },
    {
     "name": "stdout",
     "output_type": "stream",
     "text": [
      "330.0\n",
      "5.555693403109746\n",
      "2971.8\n",
      "331.0\n",
      "0.27214285714285713\n",
      "2971.8\n"
     ]
    },
    {
     "name": "stderr",
     "output_type": "stream",
     "text": [
      "INFO:Storage:Uploading ./data/hdf5/batch_00484.hdf5 to bucket:final_batches/batch_00484.hdf5...\n",
      "INFO:Storage:Done uploading.\n",
      "INFO:Storage:Uploading ./data/hdf5/batch_00485.hdf5 to bucket:final_batches/batch_00485.hdf5...\n",
      "INFO:Storage:Done uploading.\n"
     ]
    },
    {
     "name": "stdout",
     "output_type": "stream",
     "text": [
      "332.0\n",
      "0.27214285714285713\n",
      "2971.8\n",
      "333.0\n",
      "0.27214285714285713\n",
      "280416.0\n"
     ]
    },
    {
     "name": "stderr",
     "output_type": "stream",
     "text": [
      "INFO:Storage:Uploading ./data/hdf5/batch_00486.hdf5 to bucket:final_batches/batch_00486.hdf5...\n",
      "INFO:Storage:Done uploading.\n",
      "INFO:Storage:Uploading ./data/hdf5/batch_00487.hdf5 to bucket:final_batches/batch_00487.hdf5...\n",
      "INFO:Storage:Done uploading.\n",
      "INFO:Storage:Uploading ./data/hdf5/batch_00488.hdf5 to bucket:final_batches/batch_00488.hdf5...\n"
     ]
    },
    {
     "name": "stdout",
     "output_type": "stream",
     "text": [
      "169.0\n",
      "0.27214285714285713\n",
      "2971.8\n",
      "47.0\n",
      "2.561681427061843\n",
      "280416.0\n",
      "334.0\n",
      "0.27214285714285713\n",
      "2971.8\n"
     ]
    },
    {
     "name": "stderr",
     "output_type": "stream",
     "text": [
      "INFO:Storage:Done uploading.\n",
      "INFO:Storage:Uploading ./data/hdf5/batch_00489.hdf5 to bucket:final_batches/batch_00489.hdf5...\n",
      "INFO:Storage:Done uploading.\n",
      "INFO:Storage:Uploading ./data/hdf5/batch_00490.hdf5 to bucket:final_batches/batch_00490.hdf5...\n",
      "INFO:Storage:Done uploading.\n"
     ]
    },
    {
     "name": "stdout",
     "output_type": "stream",
     "text": [
      "335.0\n",
      "0.27214285714285713\n",
      "2971.8\n",
      "60.0\n",
      "0.27214285714285713\n",
      "280416.0\n"
     ]
    },
    {
     "name": "stderr",
     "output_type": "stream",
     "text": [
      "INFO:Storage:Uploading ./data/hdf5/batch_00491.hdf5 to bucket:final_batches/batch_00491.hdf5...\n",
      "INFO:Storage:Done uploading.\n",
      "INFO:Storage:Uploading ./data/hdf5/batch_00492.hdf5 to bucket:final_batches/batch_00492.hdf5...\n",
      "INFO:Storage:Done uploading.\n"
     ]
    },
    {
     "name": "stdout",
     "output_type": "stream",
     "text": [
      "336.0\n",
      "0.27214285714285713\n",
      "280416.0\n",
      "1.0\n",
      "8.90194208222211\n",
      "280416.0\n"
     ]
    },
    {
     "name": "stderr",
     "output_type": "stream",
     "text": [
      "INFO:Storage:Uploading ./data/hdf5/batch_00493.hdf5 to bucket:final_batches/batch_00493.hdf5...\n",
      "INFO:Storage:Done uploading.\n",
      "INFO:Storage:Uploading ./data/hdf5/batch_00494.hdf5 to bucket:final_batches/batch_00494.hdf5...\n",
      "INFO:Storage:Done uploading.\n"
     ]
    },
    {
     "name": "stdout",
     "output_type": "stream",
     "text": [
      "184.0\n",
      "0.27214285714285713\n",
      "280416.0\n",
      "179.0\n",
      "0.27214285714285713\n",
      "2971.8\n",
      "117.0\n",
      "0.27214285714285713\n",
      "2971.8\n"
     ]
    },
    {
     "name": "stderr",
     "output_type": "stream",
     "text": [
      "INFO:Storage:Uploading ./data/hdf5/batch_00495.hdf5 to bucket:final_batches/batch_00495.hdf5...\n",
      "INFO:Storage:Done uploading.\n",
      "INFO:Storage:Uploading ./data/hdf5/batch_00496.hdf5 to bucket:final_batches/batch_00496.hdf5...\n",
      "INFO:Storage:Done uploading.\n",
      "INFO:Storage:Uploading ./data/hdf5/batch_00497.hdf5 to bucket:final_batches/batch_00497.hdf5...\n",
      "INFO:Storage:Done uploading.\n"
     ]
    },
    {
     "name": "stdout",
     "output_type": "stream",
     "text": [
      "337.0\n",
      "0.27214285714285713\n",
      "112654.08\n",
      "118.0\n",
      "0.27214285714285713\n",
      "2971.8\n"
     ]
    },
    {
     "name": "stderr",
     "output_type": "stream",
     "text": [
      "INFO:Storage:Uploading ./data/hdf5/batch_00498.hdf5 to bucket:final_batches/batch_00498.hdf5...\n",
      "INFO:Storage:Done uploading.\n",
      "INFO:Storage:Uploading ./data/hdf5/batch_00499.hdf5 to bucket:final_batches/batch_00499.hdf5...\n",
      "INFO:Storage:Done uploading.\n",
      "INFO:Storage:Uploading ./data/hdf5/batch_00500.hdf5 to bucket:final_batches/batch_00500.hdf5...\n"
     ]
    },
    {
     "name": "stdout",
     "output_type": "stream",
     "text": [
      "338.0\n",
      "0.27214285714285713\n",
      "2971.8\n",
      "67.0\n",
      "1.5049713178684647\n",
      "2971.8\n",
      "78.0\n",
      "2.561681427061843\n",
      "2971.8\n"
     ]
    },
    {
     "name": "stderr",
     "output_type": "stream",
     "text": [
      "INFO:Storage:Done uploading.\n",
      "INFO:Storage:Uploading ./data/hdf5/batch_00501.hdf5 to bucket:final_batches/batch_00501.hdf5...\n",
      "INFO:Storage:Done uploading.\n",
      "INFO:Storage:Uploading ./data/hdf5/batch_00502.hdf5 to bucket:final_batches/batch_00502.hdf5...\n",
      "INFO:Storage:Done uploading.\n"
     ]
    },
    {
     "name": "stdout",
     "output_type": "stream",
     "text": [
      "339.0\n",
      "0.27214285714285713\n",
      "280416.0\n",
      "340.0\n",
      "0.27214285714285713\n",
      "2971.8\n"
     ]
    },
    {
     "name": "stderr",
     "output_type": "stream",
     "text": [
      "INFO:Storage:Uploading ./data/hdf5/batch_00503.hdf5 to bucket:final_batches/batch_00503.hdf5...\n",
      "INFO:Storage:Done uploading.\n",
      "INFO:Storage:Uploading ./data/hdf5/batch_00504.hdf5 to bucket:final_batches/batch_00504.hdf5...\n",
      "INFO:Storage:Done uploading.\n"
     ]
    },
    {
     "name": "stdout",
     "output_type": "stream",
     "text": [
      "341.0\n",
      "0.27214285714285713\n",
      "2971.8\n",
      "342.0\n",
      "0.27214285714285713\n",
      "2971.8\n"
     ]
    },
    {
     "name": "stderr",
     "output_type": "stream",
     "text": [
      "INFO:Storage:Uploading ./data/hdf5/batch_00505.hdf5 to bucket:final_batches/batch_00505.hdf5...\n",
      "INFO:Storage:Done uploading.\n",
      "INFO:Storage:Uploading ./data/hdf5/batch_00506.hdf5 to bucket:final_batches/batch_00506.hdf5...\n",
      "INFO:Storage:Done uploading.\n",
      "INFO:Storage:Uploading ./data/hdf5/batch_00507.hdf5 to bucket:final_batches/batch_00507.hdf5...\n"
     ]
    },
    {
     "name": "stdout",
     "output_type": "stream",
     "text": [
      "343.0\n",
      "0.27214285714285713\n",
      "2971.8\n",
      "344.0\n",
      "0.27214285714285713\n",
      "280416.0\n",
      "345.0\n",
      "0.27214285714285713\n",
      "2971.8\n"
     ]
    },
    {
     "name": "stderr",
     "output_type": "stream",
     "text": [
      "INFO:Storage:Done uploading.\n",
      "INFO:Storage:Uploading ./data/hdf5/batch_00508.hdf5 to bucket:final_batches/batch_00508.hdf5...\n",
      "INFO:Storage:Done uploading.\n",
      "INFO:Storage:Uploading ./data/hdf5/batch_00509.hdf5 to bucket:final_batches/batch_00509.hdf5...\n",
      "INFO:Storage:Done uploading.\n"
     ]
    },
    {
     "name": "stdout",
     "output_type": "stream",
     "text": [
      "346.0\n",
      "0.27214285714285713\n",
      "2971.8\n",
      "315.0\n",
      "0.27214285714285713\n",
      "280416.0\n"
     ]
    },
    {
     "name": "stderr",
     "output_type": "stream",
     "text": [
      "INFO:Storage:Uploading ./data/hdf5/batch_00510.hdf5 to bucket:final_batches/batch_00510.hdf5...\n",
      "INFO:Storage:Done uploading.\n",
      "INFO:Storage:Uploading ./data/hdf5/batch_00511.hdf5 to bucket:final_batches/batch_00511.hdf5...\n",
      "INFO:Storage:Done uploading.\n"
     ]
    },
    {
     "name": "stdout",
     "output_type": "stream",
     "text": [
      "215.0\n",
      "0.27214285714285713\n",
      "280416.0\n",
      "0.0\n",
      "0.27214285714285713\n",
      "2971.8\n"
     ]
    },
    {
     "name": "stderr",
     "output_type": "stream",
     "text": [
      "INFO:Storage:Uploading ./data/hdf5/batch_00512.hdf5 to bucket:final_batches/batch_00512.hdf5...\n",
      "INFO:Storage:Done uploading.\n",
      "INFO:Storage:Uploading ./data/hdf5/batch_00513.hdf5 to bucket:final_batches/batch_00513.hdf5...\n",
      "INFO:Storage:Done uploading.\n",
      "INFO:Storage:Uploading ./data/hdf5/batch_00514.hdf5 to bucket:final_batches/batch_00514.hdf5...\n"
     ]
    },
    {
     "name": "stdout",
     "output_type": "stream",
     "text": [
      "117.0\n",
      "0.27214285714285713\n",
      "2971.8\n",
      "16.0\n",
      "0.27214285714285713\n",
      "280416.0\n",
      "347.0\n",
      "0.27214285714285713\n",
      "2971.8\n"
     ]
    },
    {
     "name": "stderr",
     "output_type": "stream",
     "text": [
      "INFO:Storage:Done uploading.\n",
      "INFO:Storage:Uploading ./data/hdf5/batch_00515.hdf5 to bucket:final_batches/batch_00515.hdf5...\n",
      "INFO:Storage:Done uploading.\n",
      "INFO:Storage:Uploading ./data/hdf5/batch_00516.hdf5 to bucket:final_batches/batch_00516.hdf5...\n"
     ]
    },
    {
     "name": "stdout",
     "output_type": "stream",
     "text": [
      "283.0\n",
      "0.27214285714285713\n",
      "280416.0\n",
      "87.0\n",
      "0.27214285714285713\n",
      "2971.8\n"
     ]
    },
    {
     "name": "stderr",
     "output_type": "stream",
     "text": [
      "INFO:Storage:Done uploading.\n",
      "INFO:Storage:Uploading ./data/hdf5/batch_00517.hdf5 to bucket:final_batches/batch_00517.hdf5...\n",
      "INFO:Storage:Done uploading.\n",
      "INFO:Storage:Uploading ./data/hdf5/batch_00518.hdf5 to bucket:final_batches/batch_00518.hdf5...\n",
      "INFO:Storage:Done uploading.\n"
     ]
    },
    {
     "name": "stdout",
     "output_type": "stream",
     "text": [
      "348.0\n",
      "0.27214285714285713\n",
      "2971.8\n",
      "210.0\n",
      "2.561681427061843\n",
      "2971.8\n"
     ]
    },
    {
     "name": "stderr",
     "output_type": "stream",
     "text": [
      "INFO:Storage:Uploading ./data/hdf5/batch_00519.hdf5 to bucket:final_batches/batch_00519.hdf5...\n",
      "INFO:Storage:Done uploading.\n",
      "INFO:Storage:Uploading ./data/hdf5/batch_00520.hdf5 to bucket:final_batches/batch_00520.hdf5...\n",
      "INFO:Storage:Done uploading.\n",
      "INFO:Storage:Uploading ./data/hdf5/batch_00521.hdf5 to bucket:final_batches/batch_00521.hdf5...\n"
     ]
    },
    {
     "name": "stdout",
     "output_type": "stream",
     "text": [
      "349.0\n",
      "0.27214285714285713\n",
      "280416.0\n",
      "350.0\n",
      "0.27214285714285713\n",
      "2971.8\n",
      "351.0\n",
      "0.27214285714285713\n",
      "2971.8\n"
     ]
    },
    {
     "name": "stderr",
     "output_type": "stream",
     "text": [
      "INFO:Storage:Done uploading.\n",
      "INFO:Storage:Uploading ./data/hdf5/batch_00522.hdf5 to bucket:final_batches/batch_00522.hdf5...\n",
      "INFO:Storage:Done uploading.\n",
      "INFO:Storage:Uploading ./data/hdf5/batch_00523.hdf5 to bucket:final_batches/batch_00523.hdf5...\n",
      "INFO:Storage:Done uploading.\n",
      "INFO:Storage:Uploading ./data/hdf5/batch_00524.hdf5 to bucket:final_batches/batch_00524.hdf5...\n"
     ]
    },
    {
     "name": "stdout",
     "output_type": "stream",
     "text": [
      "173.0\n",
      "0.27214285714285713\n",
      "280416.0\n",
      "352.0\n",
      "5.555693403109746\n",
      "280416.0\n",
      "233.0\n",
      "0.27214285714285713\n",
      "2971.8\n"
     ]
    },
    {
     "name": "stderr",
     "output_type": "stream",
     "text": [
      "INFO:Storage:Done uploading.\n",
      "INFO:Storage:Uploading ./data/hdf5/batch_00525.hdf5 to bucket:final_batches/batch_00525.hdf5...\n",
      "INFO:Storage:Done uploading.\n",
      "INFO:Storage:Uploading ./data/hdf5/batch_00526.hdf5 to bucket:final_batches/batch_00526.hdf5...\n",
      "INFO:Storage:Done uploading.\n"
     ]
    },
    {
     "name": "stdout",
     "output_type": "stream",
     "text": [
      "353.0\n",
      "0.27214285714285713\n",
      "2971.8\n",
      "354.0\n",
      "0.27214285714285713\n",
      "280416.0\n"
     ]
    },
    {
     "name": "stderr",
     "output_type": "stream",
     "text": [
      "INFO:Storage:Uploading ./data/hdf5/batch_00527.hdf5 to bucket:final_batches/batch_00527.hdf5...\n",
      "INFO:Storage:Done uploading.\n",
      "INFO:Storage:Uploading ./data/hdf5/batch_00528.hdf5 to bucket:final_batches/batch_00528.hdf5...\n",
      "INFO:Storage:Done uploading.\n"
     ]
    },
    {
     "name": "stdout",
     "output_type": "stream",
     "text": [
      "355.0\n",
      "0.27214285714285713\n",
      "2971.8\n",
      "131.0\n",
      "0.0375\n",
      "2971.8\n"
     ]
    },
    {
     "name": "stderr",
     "output_type": "stream",
     "text": [
      "INFO:Storage:Uploading ./data/hdf5/batch_00529.hdf5 to bucket:final_batches/batch_00529.hdf5...\n",
      "INFO:Storage:Done uploading.\n",
      "INFO:Storage:Uploading ./data/hdf5/batch_00530.hdf5 to bucket:final_batches/batch_00530.hdf5...\n",
      "INFO:Storage:Done uploading.\n"
     ]
    },
    {
     "name": "stdout",
     "output_type": "stream",
     "text": [
      "356.0\n",
      "0.27214285714285713\n",
      "280416.0\n",
      "357.0\n",
      "0.27214285714285713\n",
      "2971.8\n",
      "1.0\n",
      "5.555693403109746\n",
      "2971.8\n"
     ]
    },
    {
     "name": "stderr",
     "output_type": "stream",
     "text": [
      "INFO:Storage:Uploading ./data/hdf5/batch_00531.hdf5 to bucket:final_batches/batch_00531.hdf5...\n",
      "INFO:Storage:Done uploading.\n",
      "INFO:Storage:Uploading ./data/hdf5/batch_00532.hdf5 to bucket:final_batches/batch_00532.hdf5...\n",
      "INFO:Storage:Done uploading.\n",
      "INFO:Storage:Uploading ./data/hdf5/batch_00533.hdf5 to bucket:final_batches/batch_00533.hdf5...\n",
      "INFO:Storage:Done uploading.\n"
     ]
    },
    {
     "name": "stdout",
     "output_type": "stream",
     "text": [
      "358.0\n",
      "0.27214285714285713\n",
      "2971.8\n",
      "359.0\n",
      "0.27214285714285713\n",
      "2971.8\n"
     ]
    },
    {
     "name": "stderr",
     "output_type": "stream",
     "text": [
      "INFO:Storage:Uploading ./data/hdf5/batch_00534.hdf5 to bucket:final_batches/batch_00534.hdf5...\n",
      "INFO:Storage:Done uploading.\n",
      "INFO:Storage:Uploading ./data/hdf5/batch_00535.hdf5 to bucket:final_batches/batch_00535.hdf5...\n",
      "INFO:Storage:Done uploading.\n"
     ]
    },
    {
     "name": "stdout",
     "output_type": "stream",
     "text": [
      "283.0\n",
      "0.27214285714285713\n",
      "280416.0\n",
      "360.0\n",
      "0.27214285714285713\n",
      "2971.8\n"
     ]
    },
    {
     "name": "stderr",
     "output_type": "stream",
     "text": [
      "INFO:Storage:Uploading ./data/hdf5/batch_00536.hdf5 to bucket:final_batches/batch_00536.hdf5...\n",
      "INFO:Storage:Done uploading.\n",
      "INFO:Storage:Uploading ./data/hdf5/batch_00537.hdf5 to bucket:final_batches/batch_00537.hdf5...\n",
      "INFO:Storage:Done uploading.\n"
     ]
    },
    {
     "name": "stdout",
     "output_type": "stream",
     "text": [
      "361.0\n",
      "0.27214285714285713\n",
      "2971.8\n",
      "16.0\n",
      "0.27214285714285713\n",
      "280416.0\n"
     ]
    },
    {
     "name": "stderr",
     "output_type": "stream",
     "text": [
      "INFO:Storage:Uploading ./data/hdf5/batch_00538.hdf5 to bucket:final_batches/batch_00538.hdf5...\n",
      "INFO:Storage:Done uploading.\n",
      "INFO:Storage:Uploading ./data/hdf5/batch_00539.hdf5 to bucket:final_batches/batch_00539.hdf5...\n",
      "INFO:Storage:Done uploading.\n"
     ]
    },
    {
     "name": "stdout",
     "output_type": "stream",
     "text": [
      "42.0\n",
      "0.27214285714285713\n",
      "2971.8\n",
      "362.0\n",
      "0.27214285714285713\n",
      "2971.8\n"
     ]
    },
    {
     "name": "stderr",
     "output_type": "stream",
     "text": [
      "INFO:Storage:Uploading ./data/hdf5/batch_00540.hdf5 to bucket:final_batches/batch_00540.hdf5...\n",
      "INFO:Storage:Done uploading.\n",
      "INFO:Storage:Uploading ./data/hdf5/batch_00541.hdf5 to bucket:final_batches/batch_00541.hdf5...\n",
      "INFO:Storage:Done uploading.\n",
      "INFO:Storage:Uploading ./data/hdf5/batch_00542.hdf5 to bucket:final_batches/batch_00542.hdf5...\n"
     ]
    },
    {
     "name": "stdout",
     "output_type": "stream",
     "text": [
      "363.0\n",
      "0.27214285714285713\n",
      "2971.8\n",
      "35.0\n",
      "0.0375\n",
      "280416.0\n",
      "230.0\n",
      "0.27214285714285713\n",
      "280416.0\n"
     ]
    },
    {
     "name": "stderr",
     "output_type": "stream",
     "text": [
      "INFO:Storage:Done uploading.\n",
      "INFO:Storage:Uploading ./data/hdf5/batch_00543.hdf5 to bucket:final_batches/batch_00543.hdf5...\n",
      "INFO:Storage:Done uploading.\n",
      "INFO:Storage:Uploading ./data/hdf5/batch_00544.hdf5 to bucket:final_batches/batch_00544.hdf5...\n",
      "INFO:Storage:Done uploading.\n",
      "INFO:Storage:Uploading ./data/hdf5/batch_00545.hdf5 to bucket:final_batches/batch_00545.hdf5...\n"
     ]
    },
    {
     "name": "stdout",
     "output_type": "stream",
     "text": [
      "364.0\n",
      "0.27214285714285713\n",
      "280416.0\n",
      "365.0\n",
      "0.27214285714285713\n",
      "2971.8\n",
      "366.0\n",
      "0.27214285714285713\n",
      "2971.8\n"
     ]
    },
    {
     "name": "stderr",
     "output_type": "stream",
     "text": [
      "INFO:Storage:Done uploading.\n",
      "INFO:Storage:Uploading ./data/hdf5/batch_00546.hdf5 to bucket:final_batches/batch_00546.hdf5...\n",
      "INFO:Storage:Done uploading.\n",
      "INFO:Storage:Uploading ./data/hdf5/batch_00547.hdf5 to bucket:final_batches/batch_00547.hdf5...\n",
      "INFO:Storage:Done uploading.\n"
     ]
    },
    {
     "name": "stdout",
     "output_type": "stream",
     "text": [
      "1.0\n",
      "3.6183915362552206\n",
      "280416.0\n",
      "367.0\n",
      "0.27214285714285713\n",
      "2971.8\n"
     ]
    },
    {
     "name": "stderr",
     "output_type": "stream",
     "text": [
      "INFO:Storage:Uploading ./data/hdf5/batch_00548.hdf5 to bucket:final_batches/batch_00548.hdf5...\n",
      "INFO:Storage:Done uploading.\n",
      "INFO:Storage:Uploading ./data/hdf5/batch_00549.hdf5 to bucket:final_batches/batch_00549.hdf5...\n",
      "INFO:Storage:Done uploading.\n"
     ]
    },
    {
     "name": "stdout",
     "output_type": "stream",
     "text": [
      "1.0\n",
      "5.555693403109746\n",
      "2971.8\n",
      "35.0\n",
      "0.27214285714285713\n",
      "2971.8\n"
     ]
    },
    {
     "name": "stderr",
     "output_type": "stream",
     "text": [
      "INFO:Storage:Uploading ./data/hdf5/batch_00550.hdf5 to bucket:final_batches/batch_00550.hdf5...\n",
      "INFO:Storage:Done uploading.\n",
      "INFO:Storage:Uploading ./data/hdf5/batch_00551.hdf5 to bucket:final_batches/batch_00551.hdf5...\n",
      "INFO:Storage:Done uploading.\n"
     ]
    },
    {
     "name": "stdout",
     "output_type": "stream",
     "text": [
      "368.0\n",
      "0.27214285714285713\n",
      "280416.0\n",
      "0.0\n",
      "0.06531428571428571\n",
      "2971.8\n"
     ]
    },
    {
     "name": "stderr",
     "output_type": "stream",
     "text": [
      "INFO:Storage:Uploading ./data/hdf5/batch_00552.hdf5 to bucket:final_batches/batch_00552.hdf5...\n",
      "INFO:Storage:Done uploading.\n",
      "INFO:Storage:Uploading ./data/hdf5/batch_00553.hdf5 to bucket:final_batches/batch_00553.hdf5...\n",
      "INFO:Storage:Done uploading.\n",
      "INFO:Storage:Uploading ./data/hdf5/batch_00554.hdf5 to bucket:final_batches/batch_00554.hdf5...\n"
     ]
    },
    {
     "name": "stdout",
     "output_type": "stream",
     "text": [
      "24.0\n",
      "0.27214285714285713\n",
      "2971.8\n",
      "369.0\n",
      "0.0375\n",
      "2971.8\n",
      "227.0\n",
      "0.27214285714285713\n",
      "2971.8\n"
     ]
    },
    {
     "name": "stderr",
     "output_type": "stream",
     "text": [
      "INFO:Storage:Done uploading.\n",
      "INFO:Storage:Uploading ./data/hdf5/batch_00555.hdf5 to bucket:final_batches/batch_00555.hdf5...\n",
      "INFO:Storage:Done uploading.\n",
      "INFO:Storage:Uploading ./data/hdf5/batch_00556.hdf5 to bucket:final_batches/batch_00556.hdf5...\n",
      "INFO:Storage:Done uploading.\n"
     ]
    },
    {
     "name": "stdout",
     "output_type": "stream",
     "text": [
      "370.0\n",
      "0.27214285714285713\n",
      "2971.8\n",
      "371.0\n",
      "5.555693403109746\n",
      "2971.8\n"
     ]
    },
    {
     "name": "stderr",
     "output_type": "stream",
     "text": [
      "INFO:Storage:Uploading ./data/hdf5/batch_00557.hdf5 to bucket:final_batches/batch_00557.hdf5...\n",
      "INFO:Storage:Done uploading.\n",
      "INFO:Storage:Uploading ./data/hdf5/batch_00558.hdf5 to bucket:final_batches/batch_00558.hdf5...\n",
      "INFO:Storage:Done uploading.\n"
     ]
    },
    {
     "name": "stdout",
     "output_type": "stream",
     "text": [
      "372.0\n",
      "5.555693403109746\n",
      "280416.0\n",
      "258.0\n",
      "2.561681427061843\n",
      "2971.8\n"
     ]
    },
    {
     "name": "stderr",
     "output_type": "stream",
     "text": [
      "INFO:Storage:Uploading ./data/hdf5/batch_00559.hdf5 to bucket:final_batches/batch_00559.hdf5...\n",
      "INFO:Storage:Done uploading.\n",
      "INFO:Storage:Uploading ./data/hdf5/batch_00560.hdf5 to bucket:final_batches/batch_00560.hdf5...\n",
      "INFO:Storage:Done uploading.\n",
      "INFO:Storage:Uploading ./data/hdf5/batch_00561.hdf5 to bucket:final_batches/batch_00561.hdf5...\n"
     ]
    },
    {
     "name": "stdout",
     "output_type": "stream",
     "text": [
      "373.0\n",
      "0.27214285714285713\n",
      "2971.8\n",
      "4.0\n",
      "0.27214285714285713\n",
      "2971.8\n",
      "1.0\n",
      "2.561681427061843\n",
      "2971.8\n"
     ]
    },
    {
     "name": "stderr",
     "output_type": "stream",
     "text": [
      "INFO:Storage:Done uploading.\n",
      "INFO:Storage:Uploading ./data/hdf5/batch_00562.hdf5 to bucket:final_batches/batch_00562.hdf5...\n",
      "INFO:Storage:Done uploading.\n",
      "INFO:Storage:Uploading ./data/hdf5/batch_00563.hdf5 to bucket:final_batches/batch_00563.hdf5...\n",
      "INFO:Storage:Done uploading.\n"
     ]
    },
    {
     "name": "stdout",
     "output_type": "stream",
     "text": [
      "374.0\n",
      "0.27214285714285713\n",
      "2971.8\n",
      "375.0\n",
      "0.27214285714285713\n",
      "2971.8\n"
     ]
    },
    {
     "name": "stderr",
     "output_type": "stream",
     "text": [
      "INFO:Storage:Uploading ./data/hdf5/batch_00564.hdf5 to bucket:final_batches/batch_00564.hdf5...\n",
      "INFO:Storage:Done uploading.\n",
      "INFO:Storage:Uploading ./data/hdf5/batch_00565.hdf5 to bucket:final_batches/batch_00565.hdf5...\n",
      "INFO:Storage:Done uploading.\n"
     ]
    },
    {
     "name": "stdout",
     "output_type": "stream",
     "text": [
      "376.0\n",
      "0.27214285714285713\n",
      "2971.8\n",
      "377.0\n",
      "0.27214285714285713\n",
      "2971.8\n",
      "28.0\n",
      "0.27214285714285713\n",
      "2971.8\n"
     ]
    },
    {
     "name": "stderr",
     "output_type": "stream",
     "text": [
      "INFO:Storage:Uploading ./data/hdf5/batch_00566.hdf5 to bucket:final_batches/batch_00566.hdf5...\n",
      "INFO:Storage:Done uploading.\n",
      "INFO:Storage:Uploading ./data/hdf5/batch_00567.hdf5 to bucket:final_batches/batch_00567.hdf5...\n",
      "INFO:Storage:Done uploading.\n",
      "INFO:Storage:Uploading ./data/hdf5/batch_00568.hdf5 to bucket:final_batches/batch_00568.hdf5...\n",
      "INFO:Storage:Done uploading.\n"
     ]
    },
    {
     "name": "stdout",
     "output_type": "stream",
     "text": [
      "271.0\n",
      "5.555693403109746\n",
      "2971.8\n",
      "378.0\n",
      "0.27214285714285713\n",
      "280416.0\n"
     ]
    },
    {
     "name": "stderr",
     "output_type": "stream",
     "text": [
      "INFO:Storage:Uploading ./data/hdf5/batch_00569.hdf5 to bucket:final_batches/batch_00569.hdf5...\n",
      "INFO:Storage:Done uploading.\n",
      "INFO:Storage:Uploading ./data/hdf5/batch_00570.hdf5 to bucket:final_batches/batch_00570.hdf5...\n",
      "INFO:Storage:Done uploading.\n"
     ]
    },
    {
     "name": "stdout",
     "output_type": "stream",
     "text": [
      "379.0\n",
      "0.27214285714285713\n",
      "2971.8\n",
      "263.0\n",
      "2.561681427061843\n",
      "2971.8\n"
     ]
    },
    {
     "name": "stderr",
     "output_type": "stream",
     "text": [
      "INFO:Storage:Uploading ./data/hdf5/batch_00571.hdf5 to bucket:final_batches/batch_00571.hdf5...\n",
      "INFO:Storage:Done uploading.\n",
      "INFO:Storage:Uploading ./data/hdf5/batch_00572.hdf5 to bucket:final_batches/batch_00572.hdf5...\n",
      "INFO:Storage:Done uploading.\n",
      "INFO:Storage:Uploading ./data/hdf5/batch_00573.hdf5 to bucket:final_batches/batch_00573.hdf5...\n"
     ]
    },
    {
     "name": "stdout",
     "output_type": "stream",
     "text": [
      "5.0\n",
      "0.27214285714285713\n",
      "2971.8\n",
      "380.0\n",
      "0.27214285714285713\n",
      "2971.8\n",
      "1.0\n",
      "6.9646402153675835\n",
      "2971.8\n"
     ]
    },
    {
     "name": "stderr",
     "output_type": "stream",
     "text": [
      "INFO:Storage:Done uploading.\n",
      "INFO:Storage:Uploading ./data/hdf5/batch_00574.hdf5 to bucket:final_batches/batch_00574.hdf5...\n",
      "INFO:Storage:Done uploading.\n",
      "INFO:Storage:Uploading ./data/hdf5/batch_00575.hdf5 to bucket:final_batches/batch_00575.hdf5...\n",
      "INFO:Storage:Done uploading.\n",
      "INFO:Storage:Uploading ./data/hdf5/batch_00576.hdf5 to bucket:final_batches/batch_00576.hdf5...\n"
     ]
    },
    {
     "name": "stdout",
     "output_type": "stream",
     "text": [
      "374.0\n",
      "0.27214285714285713\n",
      "2971.8\n",
      "381.0\n",
      "0.27214285714285713\n",
      "2971.8\n",
      "382.0\n",
      "0.27214285714285713\n",
      "112654.08\n"
     ]
    },
    {
     "name": "stderr",
     "output_type": "stream",
     "text": [
      "INFO:Storage:Done uploading.\n",
      "INFO:Storage:Uploading ./data/hdf5/batch_00577.hdf5 to bucket:final_batches/batch_00577.hdf5...\n",
      "INFO:Storage:Done uploading.\n",
      "INFO:Storage:Uploading ./data/hdf5/batch_00578.hdf5 to bucket:final_batches/batch_00578.hdf5...\n",
      "INFO:Storage:Done uploading.\n"
     ]
    },
    {
     "name": "stdout",
     "output_type": "stream",
     "text": [
      "383.0\n",
      "0.0375\n",
      "2971.8\n",
      "384.0\n",
      "0.27214285714285713\n",
      "2971.8\n"
     ]
    },
    {
     "name": "stderr",
     "output_type": "stream",
     "text": [
      "INFO:Storage:Uploading ./data/hdf5/batch_00579.hdf5 to bucket:final_batches/batch_00579.hdf5...\n",
      "INFO:Storage:Done uploading.\n",
      "INFO:Storage:Uploading ./data/hdf5/batch_00580.hdf5 to bucket:final_batches/batch_00580.hdf5...\n",
      "INFO:Storage:Done uploading.\n"
     ]
    },
    {
     "name": "stdout",
     "output_type": "stream",
     "text": [
      "385.0\n",
      "0.27214285714285713\n",
      "2971.8\n",
      "298.0\n",
      "0.27214285714285713\n",
      "2971.8\n"
     ]
    },
    {
     "name": "stderr",
     "output_type": "stream",
     "text": [
      "INFO:Storage:Uploading ./data/hdf5/batch_00581.hdf5 to bucket:final_batches/batch_00581.hdf5...\n",
      "INFO:Storage:Done uploading.\n",
      "INFO:Storage:Uploading ./data/hdf5/batch_00582.hdf5 to bucket:final_batches/batch_00582.hdf5...\n",
      "INFO:Storage:Done uploading.\n"
     ]
    },
    {
     "name": "stdout",
     "output_type": "stream",
     "text": [
      "386.0\n",
      "0.27214285714285713\n",
      "2971.8\n",
      "387.0\n",
      "0.27214285714285713\n",
      "2971.8\n"
     ]
    },
    {
     "name": "stderr",
     "output_type": "stream",
     "text": [
      "INFO:Storage:Uploading ./data/hdf5/batch_00583.hdf5 to bucket:final_batches/batch_00583.hdf5...\n",
      "INFO:Storage:Done uploading.\n",
      "INFO:Storage:Uploading ./data/hdf5/batch_00584.hdf5 to bucket:final_batches/batch_00584.hdf5...\n",
      "INFO:Storage:Done uploading.\n"
     ]
    },
    {
     "name": "stdout",
     "output_type": "stream",
     "text": [
      "388.0\n",
      "0.27214285714285713\n",
      "280416.0\n",
      "304.0\n",
      "0.27214285714285713\n",
      "2971.8\n"
     ]
    },
    {
     "name": "stderr",
     "output_type": "stream",
     "text": [
      "INFO:Storage:Uploading ./data/hdf5/batch_00585.hdf5 to bucket:final_batches/batch_00585.hdf5...\n",
      "INFO:Storage:Done uploading.\n",
      "INFO:Storage:Uploading ./data/hdf5/batch_00586.hdf5 to bucket:final_batches/batch_00586.hdf5...\n",
      "INFO:Storage:Done uploading.\n"
     ]
    },
    {
     "name": "stdout",
     "output_type": "stream",
     "text": [
      "1.0\n",
      "6.9646402153675835\n",
      "280416.0\n",
      "171.0\n",
      "0.27214285714285713\n",
      "280416.0\n"
     ]
    },
    {
     "name": "stderr",
     "output_type": "stream",
     "text": [
      "INFO:Storage:Uploading ./data/hdf5/batch_00587.hdf5 to bucket:final_batches/batch_00587.hdf5...\n",
      "INFO:Storage:Done uploading.\n",
      "INFO:Storage:Uploading ./data/hdf5/batch_00588.hdf5 to bucket:final_batches/batch_00588.hdf5...\n",
      "INFO:Storage:Done uploading.\n"
     ]
    },
    {
     "name": "stdout",
     "output_type": "stream",
     "text": [
      "389.0\n",
      "0.27214285714285713\n",
      "112654.08\n",
      "390.0\n",
      "6.9646402153675835\n",
      "2971.8\n"
     ]
    },
    {
     "name": "stderr",
     "output_type": "stream",
     "text": [
      "INFO:Storage:Uploading ./data/hdf5/batch_00589.hdf5 to bucket:final_batches/batch_00589.hdf5...\n",
      "INFO:Storage:Done uploading.\n",
      "INFO:Storage:Uploading ./data/hdf5/batch_00590.hdf5 to bucket:final_batches/batch_00590.hdf5...\n",
      "INFO:Storage:Done uploading.\n"
     ]
    },
    {
     "name": "stdout",
     "output_type": "stream",
     "text": [
      "391.0\n",
      "0.27214285714285713\n",
      "2971.8\n",
      "118.0\n",
      "0.27214285714285713\n",
      "2971.8\n"
     ]
    },
    {
     "data": {
      "image/png": "[encoded data removed]",
      "text/plain": [
       "<Figure size 640x480 with 1 Axes>"
      ]
     },
     "metadata": {},
     "output_type": "display_data"
    },
    {
     "data": {
      "image/png": "[encoded data removed]",
      "text/plain": [
       "<Figure size 640x480 with 1 Axes>"
      ]
     },
     "metadata": {},
     "output_type": "display_data"
    },
    {
     "data": {
      "image/png": "[encoded data removed]",
      "text/plain": [
       "<Figure size 640x480 with 1 Axes>"
      ]
     },
     "metadata": {},
     "output_type": "display_data"
    },
    {
     "data": {
      "image/png": "[encoded data removed]",
      "text/plain": [
       "<Figure size 640x480 with 1 Axes>"
      ]
     },
     "metadata": {},
     "output_type": "display_data"
    },
    {
     "data": {
      "image/png": "[encoded data removed]",
      "text/plain": [
       "<Figure size 640x480 with 1 Axes>"
      ]
     },
     "metadata": {},
     "output_type": "display_data"
    },
    {
     "data": {
      "image/png": "[encoded data removed]",
      "text/plain": [
       "<Figure size 640x480 with 1 Axes>"
      ]
     },
     "metadata": {},
     "output_type": "display_data"
    },
    {
     "data": {
      "image/png": "[encoded data removed]",
      "text/plain": [
       "<Figure size 640x480 with 1 Axes>"
      ]
     },
     "metadata": {},
     "output_type": "display_data"
    },
    {
     "data": {
      "image/png": "[encoded data removed]",
      "text/plain": [
       "<Figure size 640x480 with 1 Axes>"
      ]
     },
     "metadata": {},
     "output_type": "display_data"
    },
    {
     "data": {
      "image/png": "[encoded data removed]",
      "text/plain": [
       "<Figure size 640x480 with 1 Axes>"
      ]
     },
     "metadata": {},
     "output_type": "display_data"
    },
    {
     "data": {
      "image/png": "[encoded data removed]",
      "text/plain": [
       "<Figure size 640x480 with 1 Axes>"
      ]
     },
     "metadata": {},
     "output_type": "display_data"
    }
   ],
   "source": [
    "start_ix = 0\n",
    "batches_to_gen = 591\n",
    "batches = []\n",
    "for batch_id in range(start_ix, start_ix+batches_to_gen):\n",
    "    base = sample_df.iloc[batch_id]\n",
    "    storage_batch = schema.generate_empty_storage_batch(1)\n",
    "    print(base.base_epw)\n",
    "    print(base.RoofRValue)\n",
    "    print(base.FacadeMass)\n",
    "    \n",
    "    # Set Constants\n",
    "    schema.update_storage_batch(storage_batch,parameter=\"batch_id\",value=batch_id)\n",
    "    schema.update_storage_batch(storage_batch,parameter=\"base_epw\",value=base.base_epw)\n",
    "    schema.update_storage_batch(storage_batch,parameter=\"climate_zone\",value=base.climate_zone)\n",
    "    schema.update_storage_batch(storage_batch,parameter=\"program_type\",value=base.archetype)\n",
    "    schema.update_storage_batch(storage_batch,parameter=\"vintage\",value=base.vintage)\n",
    "    \n",
    "    # Set Defaults\n",
    "    schema.update_storage_batch(storage_batch, parameter=\"wwr\", value=base.wwr)\n",
    "    schema.update_storage_batch(storage_batch, parameter=\"HeatingSetpoint\", value=base.heating_setpoint)\n",
    "    schema.update_storage_batch(storage_batch, parameter=\"CoolingSetpoint\", value=base.cooling_setpoint)\n",
    "    schema.update_storage_batch(storage_batch, parameter=\"Infiltration\", value=base.Infiltration)\n",
    "    schema.update_storage_batch(storage_batch, parameter=\"EquipmentPowerDensity\", value=base.EquipmentPowerDensity)\n",
    "    schema.update_storage_batch(storage_batch, parameter=\"LightingPowerDensity\", value=base.LightingPowerDensity)\n",
    "    schema.update_storage_batch(storage_batch, parameter=\"PeopleDensity\", value=base.PeopleDensity)\n",
    "    schema.update_storage_batch(storage_batch, parameter=\"FacadeMass\", value=base.FacadeMass)\n",
    "    schema.update_storage_batch(storage_batch, parameter=\"FacadeRValue\", value=base.FacadeRValue)\n",
    "    schema.update_storage_batch(storage_batch, parameter=\"RoofRValue\", value=base.RoofRValue)\n",
    "    schema.update_storage_batch(storage_batch, parameter=\"SlabRValue\", value=base.SlabRValue)\n",
    "\n",
    "    schema.update_storage_batch(storage_batch, parameter=\"WindowSettings\", value=np.array([0.7,0.5,0.7])) \n",
    "\n",
    "    # TODO: roofmass\n",
    "    # TODO: windows\n",
    "    # TODO: add summed output of product of schedules with loads\n",
    "    # TODO: Internal mass?\n",
    "\n",
    "    # Generate Orientations\n",
    "    storage_batch = storage_batch.repeat(4,axis=0)\n",
    "    orientations = np.arange(4).reshape(-1,1)\n",
    "    schema.update_storage_batch(storage_batch, parameter=\"orientation\", value=orientations)\n",
    "\n",
    "    # geneate geometric variations\n",
    "    geo_var_ct = 5\n",
    "    storage_batch = storage_batch.repeat(geo_var_ct,axis=0)\n",
    "    for j,parameter in enumerate(schema.parameters):\n",
    "        if isinstance(parameter, ShoeboxGeometryParameter):\n",
    "            name = parameter.name\n",
    "            mean = parameter.mean\n",
    "            std = parameter.std\n",
    "            shape = parameter.shape_storage\n",
    "            values = np.random.normal(loc=mean, scale=std, size=(storage_batch.shape[0], *shape))\n",
    "            schema.update_storage_batch(storage_batch, parameter=name, value=values)\n",
    "    \n",
    "    \"\"\"Generate Schedules\"\"\"\n",
    "    sched_var_ct = 10\n",
    "    storage_batch = storage_batch.repeat(sched_var_ct, axis=0)\n",
    "    for minibatch_ix in range(0,storage_batch.shape[0],sched_var_ct):\n",
    "        vec_base_ix = minibatch_ix\n",
    "        for sched_ix in range(sched_var_ct):\n",
    "            vec_ix = vec_base_ix + sched_ix\n",
    "            schedules = schema[\"schedules\"].extract_storage_values(storage_batch[vec_ix])\n",
    "            if sched_ix == 0:\n",
    "                # use default sched\n",
    "                pass\n",
    "            elif sched_ix == 1:\n",
    "                # all on\n",
    "                for j in range(3):\n",
    "                    schedules[j, SchedulesParameters.op_indices[\"on/off\"]] = 1\n",
    "            elif sched_ix == 2:\n",
    "                # all off\n",
    "                for j in range(3):\n",
    "                    schedules[j, SchedulesParameters.op_indices[\"on/off\"]] = -1\n",
    "            elif sched_ix == 3:\n",
    "                # Daily random\n",
    "                for j in range(3):\n",
    "                    schedules[j, SchedulesParameters.op_indices[\"uniform_random_dilation\"]] = 1 # 1hr per sample\n",
    "                    schedules[j, SchedulesParameters.op_indices[\"uniform_random_samples\"]] = 24 # 1 days worth of samples\n",
    "                    schedules[j, SchedulesParameters.op_indices[\"uniform_random_mode\"]] = 0\n",
    "            elif sched_ix == 4:\n",
    "                # Daily random\n",
    "                for j in range(3):\n",
    "                    schedules[j, SchedulesParameters.op_indices[\"uniform_random_dilation\"]] = 1 # 1hr per sample\n",
    "                    schedules[j, SchedulesParameters.op_indices[\"uniform_random_samples\"]] = 24*7 # 1 week worth of samples\n",
    "                    schedules[j, SchedulesParameters.op_indices[\"uniform_random_mode\"]] = 2\n",
    "            elif sched_ix == 5:\n",
    "                # Daily rando\n",
    "                for j in range(3):\n",
    "                    schedules[j, SchedulesParameters.op_indices[\"uniform_random_dilation\"]] = (j+1)*2 # 1hr per sample\n",
    "                    schedules[j, SchedulesParameters.op_indices[\"uniform_random_samples\"]] = 24/(j+1)*2*7 # 1 week worth of samples\n",
    "                    schedules[j, SchedulesParameters.op_indices[\"uniform_random_mode\"]] = 2\n",
    "            # elif sched_ix == 4:\n",
    "            #     # Weekly random\n",
    "            #     for j in range(3):\n",
    "            #         schedules[j, SchedulesParameters.op_indices[\"uniform_random_dilation\"]] = 4 # 4hr per sample\n",
    "            #         schedules[j, SchedulesParameters.op_indices[\"uniform_random_samples\"]] = 24/4*7 # 1 week worth of samples\n",
    "            #         schedules[j, SchedulesParameters.op_indices[\"uniform_random_mode\"]] = 0\n",
    "            # elif sched_ix == 5:\n",
    "            #     # Weekly random\n",
    "            #     for j in range(3):\n",
    "            #         schedules[j, SchedulesParameters.op_indices[\"uniform_random_dilation\"]] = 2 # 2hr per sample\n",
    "            #         schedules[j, SchedulesParameters.op_indices[\"uniform_random_samples\"]] = 24/2*7 # 2 worth of samples\n",
    "            #         schedules[j, SchedulesParameters.op_indices[\"uniform_random_mode\"]] = 0\n",
    "            elif sched_ix == 6:\n",
    "                # Inverted\n",
    "                for j in range(3):\n",
    "                    schedules[j, SchedulesParameters.op_indices[\"invert\"]] = 1\n",
    "            elif sched_ix == 7:\n",
    "                # Noise\n",
    "                for j in range(3):\n",
    "                    # schedules[j, SchedulesParameters.op_indices[\"noise\"]] = 0.2\n",
    "                    schedules[j, SchedulesParameters.op_indices[\"uniform_random_dilation\"]] = 24 # 1day per sample\n",
    "                    schedules[j, SchedulesParameters.op_indices[\"uniform_random_samples\"]] = 7 # 1 week worth of samples\n",
    "                    schedules[j, SchedulesParameters.op_indices[\"uniform_random_mode\"]] = 0\n",
    "            elif sched_ix == 8:\n",
    "                # work week\n",
    "                for j in range(3):\n",
    "                    schedules[j, SchedulesParameters.op_indices[\"pulse_period\"]] = 24*7 # 1 week\n",
    "                    schedules[j, SchedulesParameters.op_indices[\"pulse_width\"]] = 24*5 # 5 days\n",
    "            elif sched_ix == 9:\n",
    "                # phasing\n",
    "                for j in range(3):\n",
    "                    schedules[j, SchedulesParameters.op_indices[\"pulse_period\"]] = 12 # 1 week\n",
    "                    schedules[j, SchedulesParameters.op_indices[\"pulse_width\"]] = 4 # 5 days\n",
    "                    # schedules[j, SchedulesParameters.op_indices[\"uniform_random_dilation\"]] = int(np.random.random()*8+2) # 1hr per sample\n",
    "                    # schedules[j, SchedulesParameters.op_indices[\"uniform_random_samples\"]] = 12\n",
    "                    # schedules[j, SchedulesParameters.op_indices[\"uniform_random_mode\"]] = 0\n",
    "                    # schedules[j, SchedulesParameters.op_indices[\"uniform_random_dilation\"]] = 21 # 21 hours per sample\n",
    "                    # schedules[j, SchedulesParameters.op_indices[\"uniform_random_samples\"]] = 2*24*7 / 21 # 2 week worth of samples\n",
    "                    # schedules[j, SchedulesParameters.op_indices[\"uniform_random_mode\"]] = 0\n",
    "\n",
    "\n",
    "    \"\"\"Finalize Batch\"\"\"\n",
    "    storage_batch = storage_batch.repeat(5, axis=0)\n",
    "    n = storage_batch.shape[0]\n",
    "    # TODO:? Appy specific upgrades? or just use perturbations\n",
    "    \n",
    "    \"\"\"Pertub Geometry\"\"\"\n",
    "    for j,parameter in enumerate(schema.parameters):\n",
    "        if isinstance(parameter, ShoeboxGeometryParameter):\n",
    "            name = parameter.name\n",
    "            mean = parameter.mean\n",
    "            std = parameter.std\n",
    "            shape = parameter.shape_storage\n",
    "            values = schema[name].extract_storage_values_batch(storage_batch)\n",
    "            mods = np.random.normal(loc=0, scale=std/4, size=(n, *shape))\n",
    "            values = values + mods\n",
    "            schema.update_storage_batch(storage_batch, parameter=name, value=values)\n",
    "\n",
    "    \"\"\"Perturb Building Parameters\"\"\"\n",
    "\n",
    "    heating_setpoints = schema[\"HeatingSetpoint\"].extract_storage_values_batch(storage_batch)\n",
    "    shape = schema[\"HeatingSetpoint\"].shape_storage\n",
    "    heating_setpoints = heating_setpoints + np.random.normal(loc=0, scale=1, size=(n,*shape))\n",
    "    schema.update_storage_batch(storage_batch, parameter=\"HeatingSetpoint\", value=heating_setpoints)\n",
    "\n",
    "    shape = schema[\"CoolingSetpoint\"].shape_storage\n",
    "    cooling_setpoints = schema[\"CoolingSetpoint\"].extract_storage_values_batch(storage_batch)\n",
    "    cooling_setpoints = cooling_setpoints + np.random.normal(loc=0, scale=1, size=(n,*shape))\n",
    "    schema.update_storage_batch(storage_batch, parameter=\"CoolingSetpoint\", value=cooling_setpoints)\n",
    "\n",
    "    shape = schema[\"Infiltration\"].shape_storage\n",
    "    infiltration = schema[\"Infiltration\"].extract_storage_values_batch(storage_batch)\n",
    "    infiltration = infiltration + np.random.normal(loc=-0.2, scale=0.2, size=(n,*shape))\n",
    "    schema.update_storage_batch(storage_batch, parameter=\"Infiltration\", value=infiltration)\n",
    "\n",
    "    shape = schema[\"EquipmentPowerDensity\"].shape_storage\n",
    "    epd = schema[\"EquipmentPowerDensity\"].extract_storage_values_batch(storage_batch)\n",
    "    epd = epd + np.random.normal(loc=0, scale=2, size=(n, *shape))\n",
    "    schema.update_storage_batch(storage_batch, parameter=\"EquipmentPowerDensity\", value=epd)\n",
    "\n",
    "    shape = schema[\"LightingPowerDensity\"].shape_storage\n",
    "    lpd = schema[\"LightingPowerDensity\"].extract_storage_values_batch(storage_batch)\n",
    "    lpd = lpd + np.random.normal(loc=1, scale=2, size=(n, *shape))\n",
    "    schema.update_storage_batch(storage_batch, parameter=\"LightingPowerDensity\", value=lpd)\n",
    "\n",
    "    shape = schema[\"PeopleDensity\"].shape_storage\n",
    "    ppd = schema[\"PeopleDensity\"].extract_storage_values_batch(storage_batch)\n",
    "    ppd = ppd + np.random.normal(loc=0, scale=0.005, size=(n, *shape))\n",
    "    schema.update_storage_batch(storage_batch, parameter=\"PeopleDensity\", value=ppd)\n",
    "\n",
    "    shape = schema[\"FacadeMass\"].shape_storage\n",
    "    facade_mass = schema[\"FacadeMass\"].extract_storage_values_batch(storage_batch)\n",
    "    facade_mass = facade_mass + np.random.normal(loc=0 if base.FacadeMass > 50000 else 50000, scale=25000, size=(n, *shape))\n",
    "    schema.update_storage_batch(storage_batch, parameter=\"FacadeMass\", value=facade_mass)\n",
    "\n",
    "    shape = schema[\"RoofMass\"].shape_storage\n",
    "    roof_mass= np.random.normal(loc=schema[\"RoofMass\"].mean, scale=schema[\"RoofMass\"].std, size=(n, *shape))\n",
    "    schema.update_storage_batch(storage_batch, parameter=\"RoofMass\", value=roof_mass)\n",
    "\n",
    "    shape = schema[\"FacadeRValue\"].shape_storage\n",
    "    facade_rv = schema[\"FacadeRValue\"].extract_storage_values_batch(storage_batch)\n",
    "    facade_rv = facade_rv + np.random.normal(loc=1.5, scale=0.75, size=(n, *shape))\n",
    "    schema.update_storage_batch(storage_batch, parameter=\"FacadeRValue\", value=facade_rv)\n",
    "\n",
    "    shape = schema[\"RoofRValue\"].shape_storage\n",
    "    roof_rv = schema[\"RoofRValue\"].extract_storage_values_batch(storage_batch)\n",
    "    roof_rv = roof_rv + np.random.normal(loc=1.5, scale=0.75, size=(n, *shape))\n",
    "    schema.update_storage_batch(storage_batch, parameter=\"RoofRValue\", value=roof_rv)\n",
    "\n",
    "    shape = schema[\"SlabRValue\"].shape_storage\n",
    "    slab_rv = schema[\"SlabRValue\"].extract_storage_values_batch(storage_batch)\n",
    "    slab_rv = slab_rv + np.random.normal(loc=0.5, scale=2, size=(n, *shape))\n",
    "    schema.update_storage_batch(storage_batch, parameter=\"SlabRValue\", value=slab_rv)\n",
    "\n",
    "    # Windows\n",
    "    window_vals = schema[\"WindowSettings\"].extract_storage_values_batch(storage_batch)\n",
    "    window_vals[:,0] = np.random.normal(loc=3.5, scale=1.5, size=(n,))\n",
    "    schema.update_storage_batch(storage_batch, parameter=\"WindowSettings\", value=window_vals)\n",
    "\n",
    "    # Protect Setpoints\n",
    "    heating_setpoints = schema[\"HeatingSetpoint\"].extract_storage_values_batch(storage_batch)\n",
    "    cooling_setpoints = schema[\"CoolingSetpoint\"].extract_storage_values_batch(storage_batch)\n",
    "    heating_setpoints = np.where(heating_setpoints > cooling_setpoints, cooling_setpoints-2, heating_setpoints)\n",
    "    schema.update_storage_batch(storage_batch, parameter=\"HeatingSetpoint\", value=heating_setpoints)\n",
    "\n",
    "    # Set Variation ID\n",
    "    variation_ids = np.arange(n)\n",
    "    schema.update_storage_batch(storage_batch,parameter=\"variation_id\",value=variation_ids)\n",
    "    schema.update_storage_batch(storage_batch,parameter=\"schedules_seed\",value=(np.random.random(1))*n*variation_ids)\n",
    "\n",
    "    batches.append(storage_batch)\n",
    "\n",
    "    # Write to an HDF5 file\n",
    "    slug = f\"batch_{batch_id:05d}.hdf5\"\n",
    "    outfile = f\"./data/hdf5/{slug}\"\n",
    "    with h5py.File(outfile,\"w\") as f:\n",
    "        f.create_dataset(name=\"storage_vectors\", shape=storage_batch.shape, dtype=storage_batch.dtype, data=storage_batch)\n",
    "\n",
    "    # upload to cloud bucket for easy backup\n",
    "    destination = f\"final_batches/{slug}\"\n",
    "    upload_to_bucket(destination, outfile)\n",
    "all_batches = np.vstack(batches)\n",
    "\n",
    "plt.figure()\n",
    "f2f = schema[\"facade_2_footprint\"].extract_storage_values_batch(all_batches)\n",
    "width = schema[\"width\"].extract_storage_values_batch(all_batches)\n",
    "height = schema[\"height\"].extract_storage_values_batch(all_batches)\n",
    "area = width * height / f2f\n",
    "hist = plt.hist(area.flatten(), bins=20)\n",
    "\n",
    "for param in [\"RoofMass\", \"FacadeMass\", \"RoofRValue\", \"FacadeRValue\", \"Infiltration\", \"EquipmentPowerDensity\", \"LightingPowerDensity\", \"PeopleDensity\", \"WindowSettings\"]:\n",
    "    plt.figure()\n",
    "    vals = schema[param].extract_storage_values_batch(all_batches)\n",
    "    plt.title(param)\n",
    "    if param == \"WindowSettings\":\n",
    "        vals = vals[:,0]\n",
    "    hist = plt.hist(vals.flatten(), bins=30)\n"
   ]
  }
 ],
 "metadata": {
  "interpreter": {
   "hash": "9f41a5db8023ee0cd309c2574aea6d7dbe830d580252ed913691c16e21184903"
  },
  "kernelspec": {
   "display_name": "Python 3.8.16 64-bit ('ml-for-bem-sampling': conda)",
   "language": "python",
   "name": "python3"
  },
  "language_info": {
   "codemirror_mode": {
    "name": "ipython",
    "version": 3
   },
   "file_extension": ".py",
   "mimetype": "text/x-python",
   "name": "python",
   "nbconvert_exporter": "python",
   "pygments_lexer": "ipython3",
   "version": "3.8.16"
  },
  "orig_nbformat": 4
 },
 "nbformat": 4,
 "nbformat_minor": 2
}
