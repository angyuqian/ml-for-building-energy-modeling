{
 "cells": [
  {
   "cell_type": "code",
   "execution_count": 1,
   "metadata": {},
   "outputs": [
    {
     "name": "stdout",
     "output_type": "stream",
     "text": [
      "Couldn't import dot_parser, loading of dot files will not be possible.\n"
     ]
    },
    {
     "name": "stderr",
     "output_type": "stream",
     "text": [
      "c:\\tools\\Anaconda3\\envs\\ml-for-bem-final\\lib\\site-packages\\outdated\\utils.py:14: OutdatedPackageWarning: The package energy-pandas is out of date. Your version is 0.3.3, the latest is 0.3.4.\n",
      "Set the environment variable OUTDATED_IGNORE=1 to disable these warnings.\n",
      "  return warn(\n"
     ]
    },
    {
     "name": "stdout",
     "output_type": "stream",
     "text": [
      "[Taichi] version 1.6.0, llvm 15.0.1, commit f1c6fbbd, win, python 3.8.17\n",
      "[Taichi] Starting on arch=cuda\n"
     ]
    }
   ],
   "source": [
    "from pathlib import Path\n",
    "\n",
    "import numpy as np\n",
    "import pandas as pd\n",
    "import geopandas as gpd\n",
    "import torch\n",
    "\n",
    "from archetypal import UmiTemplateLibrary\n",
    "from ladybug.epw import EPW \n",
    "from lightning.pytorch import Trainer\n",
    "\n",
    "from ml.data import BuildingDataModule\n",
    "from ml.surrogate import Surrogate\n",
    "from ml.predict import predict_ubem\n",
    "from umi.ubem import UBEM"
   ]
  },
  {
   "cell_type": "code",
   "execution_count": 2,
   "metadata": {},
   "outputs": [
    {
     "name": "stderr",
     "output_type": "stream",
     "text": [
      "GPU available: True (cuda), used: False\n",
      "TPU available: False, using: 0 TPU cores\n",
      "IPU available: False, using: 0 IPUs\n",
      "HPU available: False, using: 0 HPUs\n"
     ]
    }
   ],
   "source": [
    "bucket = \"ml-for-bem\"\n",
    "remote_experiment = \"full_climate_zone/v5\"\n",
    "local_data_dir = \"data/lightning\"\n",
    "\n",
    "registry = \"ml-for-building-energy-modeling/model-registry\"\n",
    "model = \"Global UBEM Shoebox Surrogate with Combined TS Embedder\"\n",
    "tag = \"v1\"\n",
    "resource = \"model-with-transform-configs.ckpt\"\n",
    "\n",
    "surrogate = Surrogate.load_from_registry(registry, model, tag, resource)\n",
    "surrogate.model.eval()\n",
    "\n",
    "trainer = Trainer(\n",
    "        accelerator=\"cpu\",\n",
    "        devices=\"auto\",\n",
    "        strategy=\"auto\",\n",
    "        enable_progress_bar=True,\n",
    "    )"
   ]
  },
  {
   "cell_type": "code",
   "execution_count": null,
   "metadata": {},
   "outputs": [],
   "source": [
    "\n",
    "# gdf = gpd.read_file(Path(\"data\") / \"gis\" / \"Florianopolis_Baseline_sam.zip\")\n",
    "\n",
    "# # dict to store key fields for known gis files\n",
    "# id_cols = {\n",
    "#     \"florianpolis\": {\n",
    "#         \"height_col\": \"HEIGHT\",\n",
    "#         \"id_col\": \"OBJECTID\",\n",
    "#         \"template_name_col\": \"template_name\",\n",
    "#         \"wwr_col\": \"wwr\",\n",
    "#     }\n",
    "# }\n",
    "\n",
    "# epw_fp = (\n",
    "#     Path(\"data\")\n",
    "#     / \"epws\"\n",
    "#     / \"global_epws_indexed\"\n",
    "#     / \"cityidx_0305_MNG_--ULAANBATAAR.442920_IWEC Data.epw\"\n",
    "#     # / \"cityidx_0007_USA_IL-Chicago Midway.725340_TMY--14819.epw\"\n",
    "# )\n",
    "\n",
    "# epw = EPW(epw_fp)\n",
    "# template_lib = UmiTemplateLibrary.open(\n",
    "#     Path(\"data\") / \"template_libs\" / \"BostonTemplateLibrary.json\"\n",
    "# )\n",
    "\n",
    "# # Insert dummy template names\n",
    "# gdf[id_cols[\"florianpolis\"][\"template_name_col\"]] = np.random.choice(\n",
    "#     [t.Name for t in template_lib.BuildingTemplates], size=gdf.shape[0]\n",
    "# )\n",
    "# # insert dummy wwrs\n",
    "# gdf[id_cols[\"florianpolis\"][\"wwr_col\"]] = 0.4\n",
    "\n",
    "# # umi_test = UBEM(\n",
    "# #     gdf=gdf,\n",
    "# #     **id_cols[\"florianpolis\"],\n",
    "# #     epw=epw,\n",
    "# #     template_lib=template_lib,\n",
    "# #     shoebox_width=3,\n",
    "# #     floor_to_floor_height=4,\n",
    "# #     perim_offset=4,\n",
    "# # )\n",
    "\n",
    "# umi_test = UBEM.open_umi(Path(\"data\") / \"gis\" / \"seed_ulaanbataar.umi\", id_col=\"id\", height_col=\"Height\")"
   ]
  },
  {
   "cell_type": "code",
   "execution_count": 3,
   "metadata": {},
   "outputs": [
    {
     "name": "stderr",
     "output_type": "stream",
     "text": [
      "INFO:UMI:reading input file...\n",
      "DEBUG:UMI:TEMPORARY LOCATION C:\\Users\\szvsw\\AppData\\Local\\Temp\\tmp9f35ihdf\n",
      "INFO:UMI:Successfully loaded EPW file Data for [ULAANBATAAR]\n",
      "DEBUG:UMI:['sdl-common/district_energy_scenarios.json', 'sdl-common/planningSettings.json', 'sdl-common/project.json', 'sdl-common/shoebox-weights.json', 'sdl-common/site-analysis-settings.json', 'sdl-common/ThermalPlantSettings.json', 'sdl-common/ubemio-archetype-id-cache.json', 'sdl-common/ud-results.xml', 'sdl-common/project-settings.json', 'sdl-common/project-header.json', 'Florianopolis_Baseline.3dm', 'cityidx_0305_MNG_--ULAANBATAAR.442920_IWEC Data.epw', 'template-library.json', 'umi.sqlite3']\n",
      "INFO:UMI:Opening archetpal templates at template-library.json\n",
      "WARNING:archetypal:Modeling layer thinner (less) than 0.003 m (not recommended) for MaterialLayer '140514028050368:Metal Decking with thickness of 0.002 m'\n",
      "WARNING:archetypal:Modeling layer thinner (less) than 0.003 m (not recommended) for MaterialLayer '140514028050368:Metal Decking with thickness of 0.002 m'\n",
      "WARNING:archetypal:Modeling layer thinner (less) than 0.003 m (not recommended) for MaterialLayer '140514028050368:Metal Decking with thickness of 0.002 m'\n",
      "DEBUG:UMI:Index(['id', 'FloorCount', 'GrossFloorArea', 'Height', 'Name', 'Occupancy',\n",
      "       'TemplateName', 'UseType', 'WwrE', 'WwrN', 'WwrS', 'WwrW', 'geometry'],\n",
      "      dtype='object')\n",
      "INFO:UMI:Read 9.8KB from data\\gis\\seed_ulaanbataar.umi in 0.28 seconds\n",
      "INFO:UMI:Calculating individual floor-to-floor heights.\n",
      "DEBUG:UMI:Min building height: 3.0\n",
      "DEBUG:UMI:Max floor count: 1\n",
      "DEBUG:UMI:Floor-to-floor height: 3.0 to 5.6\n",
      "WARNING:UMI:No perimeter offset in gdf, defaulting to 3\n",
      "WARNING:UMI:No shoebox width in gdf, defaulting to 3\n"
     ]
    },
    {
     "ename": "KeyError",
     "evalue": "\"['WindowToWallRatioN'] not in index\"",
     "output_type": "error",
     "traceback": [
      "\u001b[1;31m---------------------------------------------------------------------------\u001b[0m",
      "\u001b[1;31mKeyError\u001b[0m                                  Traceback (most recent call last)",
      "Cell \u001b[1;32mIn[3], line 2\u001b[0m\n\u001b[0;32m      1\u001b[0m \u001b[39m# umi_test = UBEM.open_umi(Path(\"C:/Users/szvsw/Downloads/umi_tester_boston.umi\"), id_col=\"id\", height_col=\"Height\")\u001b[39;00m\n\u001b[1;32m----> 2\u001b[0m umi_test \u001b[39m=\u001b[39m UBEM\u001b[39m.\u001b[39;49mopen_umi(Path(\u001b[39m\"\u001b[39;49m\u001b[39mdata\u001b[39;49m\u001b[39m\"\u001b[39;49m) \u001b[39m/\u001b[39;49m \u001b[39m\"\u001b[39;49m\u001b[39mgis\u001b[39;49m\u001b[39m\"\u001b[39;49m \u001b[39m/\u001b[39;49m \u001b[39m\"\u001b[39;49m\u001b[39mseed_ulaanbataar.umi\u001b[39;49m\u001b[39m\"\u001b[39;49m, id_col\u001b[39m=\u001b[39;49m\u001b[39m\"\u001b[39;49m\u001b[39mid\u001b[39;49m\u001b[39m\"\u001b[39;49m, height_col\u001b[39m=\u001b[39;49m\u001b[39m\"\u001b[39;49m\u001b[39mHeight\u001b[39;49m\u001b[39m\"\u001b[39;49m)\n",
      "File \u001b[1;32mc:\\Users\\szvsw\\repos\\ml-for-building-energy-modeling\\ml-for-bem\\umi\\ubem.py:1051\u001b[0m, in \u001b[0;36mUBEM.open_umi\u001b[1;34m(cls, filename, height_col, id_col, template_name_col, wwr_col, shoebox_gen_type)\u001b[0m\n\u001b[0;32m   1047\u001b[0m     logger\u001b[39m.\u001b[39mwarning(\n\u001b[0;32m   1048\u001b[0m         \u001b[39mf\u001b[39m\u001b[39m\"\u001b[39m\u001b[39mNo shoebox width in gdf, defaulting to \u001b[39m\u001b[39m{\u001b[39;00mPERIM_OFFSET\u001b[39m}\u001b[39;00m\u001b[39m\"\u001b[39m\n\u001b[0;32m   1049\u001b[0m     )\n\u001b[0;32m   1050\u001b[0m     width \u001b[39m=\u001b[39m PERIM_OFFSET\n\u001b[1;32m-> 1051\u001b[0m umi_gdf \u001b[39m=\u001b[39m gdf[\n\u001b[0;32m   1052\u001b[0m     [\u001b[39m\"\u001b[39;49m\u001b[39mgeometry\u001b[39;49m\u001b[39m\"\u001b[39;49m, height_col, id_col, template_name_col, wwr_col]\n\u001b[0;32m   1053\u001b[0m ]\n\u001b[0;32m   1055\u001b[0m errors \u001b[39m=\u001b[39m umi_gdf\u001b[39m.\u001b[39misna()\u001b[39m.\u001b[39msum()\n\u001b[0;32m   1056\u001b[0m \u001b[39mfor\u001b[39;00m n, count \u001b[39min\u001b[39;00m errors\u001b[39m.\u001b[39mitems():\n",
      "File \u001b[1;32mc:\\tools\\Anaconda3\\envs\\ml-for-bem-final\\lib\\site-packages\\geopandas\\geodataframe.py:1415\u001b[0m, in \u001b[0;36mGeoDataFrame.__getitem__\u001b[1;34m(self, key)\u001b[0m\n\u001b[0;32m   1409\u001b[0m \u001b[39mdef\u001b[39;00m \u001b[39m__getitem__\u001b[39m(\u001b[39mself\u001b[39m, key):\n\u001b[0;32m   1410\u001b[0m \u001b[39m    \u001b[39m\u001b[39m\"\"\"\u001b[39;00m\n\u001b[0;32m   1411\u001b[0m \u001b[39m    If the result is a column containing only 'geometry', return a\u001b[39;00m\n\u001b[0;32m   1412\u001b[0m \u001b[39m    GeoSeries. If it's a DataFrame with any columns of GeometryDtype,\u001b[39;00m\n\u001b[0;32m   1413\u001b[0m \u001b[39m    return a GeoDataFrame.\u001b[39;00m\n\u001b[0;32m   1414\u001b[0m \u001b[39m    \"\"\"\u001b[39;00m\n\u001b[1;32m-> 1415\u001b[0m     result \u001b[39m=\u001b[39m \u001b[39msuper\u001b[39;49m()\u001b[39m.\u001b[39;49m\u001b[39m__getitem__\u001b[39;49m(key)\n\u001b[0;32m   1416\u001b[0m     geo_col \u001b[39m=\u001b[39m \u001b[39mself\u001b[39m\u001b[39m.\u001b[39m_geometry_column_name\n\u001b[0;32m   1417\u001b[0m     \u001b[39mif\u001b[39;00m \u001b[39misinstance\u001b[39m(result, Series) \u001b[39mand\u001b[39;00m \u001b[39misinstance\u001b[39m(result\u001b[39m.\u001b[39mdtype, GeometryDtype):\n",
      "File \u001b[1;32mc:\\tools\\Anaconda3\\envs\\ml-for-bem-final\\lib\\site-packages\\pandas\\core\\frame.py:3813\u001b[0m, in \u001b[0;36mDataFrame.__getitem__\u001b[1;34m(self, key)\u001b[0m\n\u001b[0;32m   3811\u001b[0m     \u001b[39mif\u001b[39;00m is_iterator(key):\n\u001b[0;32m   3812\u001b[0m         key \u001b[39m=\u001b[39m \u001b[39mlist\u001b[39m(key)\n\u001b[1;32m-> 3813\u001b[0m     indexer \u001b[39m=\u001b[39m \u001b[39mself\u001b[39;49m\u001b[39m.\u001b[39;49mcolumns\u001b[39m.\u001b[39;49m_get_indexer_strict(key, \u001b[39m\"\u001b[39;49m\u001b[39mcolumns\u001b[39;49m\u001b[39m\"\u001b[39;49m)[\u001b[39m1\u001b[39m]\n\u001b[0;32m   3815\u001b[0m \u001b[39m# take() does not accept boolean indexers\u001b[39;00m\n\u001b[0;32m   3816\u001b[0m \u001b[39mif\u001b[39;00m \u001b[39mgetattr\u001b[39m(indexer, \u001b[39m\"\u001b[39m\u001b[39mdtype\u001b[39m\u001b[39m\"\u001b[39m, \u001b[39mNone\u001b[39;00m) \u001b[39m==\u001b[39m \u001b[39mbool\u001b[39m:\n",
      "File \u001b[1;32mc:\\tools\\Anaconda3\\envs\\ml-for-bem-final\\lib\\site-packages\\pandas\\core\\indexes\\base.py:6070\u001b[0m, in \u001b[0;36mIndex._get_indexer_strict\u001b[1;34m(self, key, axis_name)\u001b[0m\n\u001b[0;32m   6067\u001b[0m \u001b[39melse\u001b[39;00m:\n\u001b[0;32m   6068\u001b[0m     keyarr, indexer, new_indexer \u001b[39m=\u001b[39m \u001b[39mself\u001b[39m\u001b[39m.\u001b[39m_reindex_non_unique(keyarr)\n\u001b[1;32m-> 6070\u001b[0m \u001b[39mself\u001b[39;49m\u001b[39m.\u001b[39;49m_raise_if_missing(keyarr, indexer, axis_name)\n\u001b[0;32m   6072\u001b[0m keyarr \u001b[39m=\u001b[39m \u001b[39mself\u001b[39m\u001b[39m.\u001b[39mtake(indexer)\n\u001b[0;32m   6073\u001b[0m \u001b[39mif\u001b[39;00m \u001b[39misinstance\u001b[39m(key, Index):\n\u001b[0;32m   6074\u001b[0m     \u001b[39m# GH 42790 - Preserve name from an Index\u001b[39;00m\n",
      "File \u001b[1;32mc:\\tools\\Anaconda3\\envs\\ml-for-bem-final\\lib\\site-packages\\pandas\\core\\indexes\\base.py:6133\u001b[0m, in \u001b[0;36mIndex._raise_if_missing\u001b[1;34m(self, key, indexer, axis_name)\u001b[0m\n\u001b[0;32m   6130\u001b[0m     \u001b[39mraise\u001b[39;00m \u001b[39mKeyError\u001b[39;00m(\u001b[39mf\u001b[39m\u001b[39m\"\u001b[39m\u001b[39mNone of [\u001b[39m\u001b[39m{\u001b[39;00mkey\u001b[39m}\u001b[39;00m\u001b[39m] are in the [\u001b[39m\u001b[39m{\u001b[39;00maxis_name\u001b[39m}\u001b[39;00m\u001b[39m]\u001b[39m\u001b[39m\"\u001b[39m)\n\u001b[0;32m   6132\u001b[0m not_found \u001b[39m=\u001b[39m \u001b[39mlist\u001b[39m(ensure_index(key)[missing_mask\u001b[39m.\u001b[39mnonzero()[\u001b[39m0\u001b[39m]]\u001b[39m.\u001b[39munique())\n\u001b[1;32m-> 6133\u001b[0m \u001b[39mraise\u001b[39;00m \u001b[39mKeyError\u001b[39;00m(\u001b[39mf\u001b[39m\u001b[39m\"\u001b[39m\u001b[39m{\u001b[39;00mnot_found\u001b[39m}\u001b[39;00m\u001b[39m not in index\u001b[39m\u001b[39m\"\u001b[39m)\n",
      "\u001b[1;31mKeyError\u001b[0m: \"['WindowToWallRatioN'] not in index\""
     ]
    }
   ],
   "source": [
    "# umi_test = UBEM.open_umi(Path(\"C:/Users/szvsw/Downloads/umi_tester_boston.umi\"), id_col=\"id\", height_col=\"Height\")\n",
    "umi_test = UBEM.open_umi(Path(\"data\") / \"gis\" / \"seed_ulaanbataar.umi\", id_col=\"id\", height_col=\"Height\")"
   ]
  },
  {
   "cell_type": "code",
   "execution_count": 141,
   "metadata": {},
   "outputs": [
    {
     "name": "stderr",
     "output_type": "stream",
     "text": [
      "WARNING:ml.data:Values for roof_2_footprint are outside of the range [0.05, 0.95]! Provided data min: 0.0, max: 1.0. Data will be clipped before prediction.\n",
      "WARNING:ml.data:Values for ground_2_footprint are outside of the range [0.05, 0.95]! Provided data min: 0.0, max: 1.0. Data will be clipped before prediction.\n",
      "WARNING:ml.data:Values for LightingPowerDensity are outside of the range [0, 20]! Provided data min: 4.29, max: 32.3. Data will be clipped before prediction.\n",
      "WARNING:ml.data:Values for PeopleDensity are outside of the range [0, 0.5]! Provided data min: 0.0281, max: 0.538. Data will be clipped before prediction.\n",
      "LOCAL_RANK: 0 - CUDA_VISIBLE_DEVICES: [0]\n"
     ]
    },
    {
     "name": "stdout",
     "output_type": "stream",
     "text": [
      "Predicting DataLoader 0: 100%|██████████| 27/27 [00:01<00:00, 23.11it/s]\n"
     ]
    },
    {
     "data": {
      "text/html": [
       "<div>\n",
       "<style scoped>\n",
       "    .dataframe tbody tr th:only-of-type {\n",
       "        vertical-align: middle;\n",
       "    }\n",
       "\n",
       "    .dataframe tbody tr th {\n",
       "        vertical-align: top;\n",
       "    }\n",
       "\n",
       "    .dataframe thead th {\n",
       "        text-align: right;\n",
       "    }\n",
       "</style>\n",
       "<table border=\"1\" class=\"dataframe\">\n",
       "  <thead>\n",
       "    <tr style=\"text-align: right;\">\n",
       "      <th>Name</th>\n",
       "      <th>Cooling</th>\n",
       "      <th>Heating</th>\n",
       "    </tr>\n",
       "    <tr>\n",
       "      <th>building_id</th>\n",
       "      <th></th>\n",
       "      <th></th>\n",
       "    </tr>\n",
       "  </thead>\n",
       "  <tbody>\n",
       "    <tr>\n",
       "      <th>027e56c0-34b7-714a-9e97-08db9fc15045</th>\n",
       "      <td>32.908970</td>\n",
       "      <td>101.731266</td>\n",
       "    </tr>\n",
       "    <tr>\n",
       "      <th>095ce372-1a56-5744-a7be-6350e9250916</th>\n",
       "      <td>3.019481</td>\n",
       "      <td>246.386669</td>\n",
       "    </tr>\n",
       "    <tr>\n",
       "      <th>0a11abfe-8782-a241-a8c0-20bd08f70dbb</th>\n",
       "      <td>39.110348</td>\n",
       "      <td>122.254172</td>\n",
       "    </tr>\n",
       "    <tr>\n",
       "      <th>11ed3672-e6fb-354f-9f76-fc3e8fbcd50b</th>\n",
       "      <td>39.138910</td>\n",
       "      <td>122.234302</td>\n",
       "    </tr>\n",
       "    <tr>\n",
       "      <th>12f9435e-d5cc-bd40-9efa-c6ec52a9f804</th>\n",
       "      <td>9.091539</td>\n",
       "      <td>159.535539</td>\n",
       "    </tr>\n",
       "    <tr>\n",
       "      <th>...</th>\n",
       "      <td>...</td>\n",
       "      <td>...</td>\n",
       "    </tr>\n",
       "    <tr>\n",
       "      <th>f7639920-472d-684e-ad8c-58d9e3e47d8d</th>\n",
       "      <td>15.921632</td>\n",
       "      <td>117.540639</td>\n",
       "    </tr>\n",
       "    <tr>\n",
       "      <th>f897dfda-495c-fa4c-b699-838a134581a9</th>\n",
       "      <td>7.960876</td>\n",
       "      <td>183.534718</td>\n",
       "    </tr>\n",
       "    <tr>\n",
       "      <th>fa78e0aa-51dd-9448-a581-d403fbf76a4e</th>\n",
       "      <td>10.777585</td>\n",
       "      <td>225.067488</td>\n",
       "    </tr>\n",
       "    <tr>\n",
       "      <th>fdc546fe-149f-3b41-8136-f5a870ada816</th>\n",
       "      <td>2.749678</td>\n",
       "      <td>275.825623</td>\n",
       "    </tr>\n",
       "    <tr>\n",
       "      <th>fe2d3c15-aa01-a34e-96d7-fc65ea3211cf</th>\n",
       "      <td>9.298466</td>\n",
       "      <td>160.612751</td>\n",
       "    </tr>\n",
       "  </tbody>\n",
       "</table>\n",
       "<p>93 rows × 2 columns</p>\n",
       "</div>"
      ],
      "text/plain": [
       "Name                                    Cooling     Heating\n",
       "building_id                                                \n",
       "027e56c0-34b7-714a-9e97-08db9fc15045  32.908970  101.731266\n",
       "095ce372-1a56-5744-a7be-6350e9250916   3.019481  246.386669\n",
       "0a11abfe-8782-a241-a8c0-20bd08f70dbb  39.110348  122.254172\n",
       "11ed3672-e6fb-354f-9f76-fc3e8fbcd50b  39.138910  122.234302\n",
       "12f9435e-d5cc-bd40-9efa-c6ec52a9f804   9.091539  159.535539\n",
       "...                                         ...         ...\n",
       "f7639920-472d-684e-ad8c-58d9e3e47d8d  15.921632  117.540639\n",
       "f897dfda-495c-fa4c-b699-838a134581a9   7.960876  183.534718\n",
       "fa78e0aa-51dd-9448-a581-d403fbf76a4e  10.777585  225.067488\n",
       "fdc546fe-149f-3b41-8136-f5a870ada816   2.749678  275.825623\n",
       "fe2d3c15-aa01-a34e-96d7-fc65ea3211cf   9.298466  160.612751\n",
       "\n",
       "[93 rows x 2 columns]"
      ]
     },
     "execution_count": 141,
     "metadata": {},
     "output_type": "execute_result"
    }
   ],
   "source": [
    "\n",
    "umi_test.prepare_epw_features(epw=EPW(\"C:/ProgramData/Solemma/Common/WeatherData/EPW/USA_MA_Boston-Logan.Intl.AP.725090_TMYx.2004-2018.epw\"))\n",
    "features, schedules, climate = umi_test.prepare_for_surrogate()\n",
    "features[\"WindowShgc\"] = 0.9\n",
    "features[\"WindowUValue\"] = 5.94\n",
    "features[\"VentilationMode\"] = 1\n",
    "features[\"EquipmentPowerDensity\"] = 2.5\n",
    "# features[\"LightingPowerDensity\"] = 5\n",
    "features[\"RoofRValue\"] = 2.6\n",
    "features[\"FacadeRValue\"] = 1.9\n",
    "features[\"FacadeMass\"] = 1\n",
    "features[\"RoofMass\"] = 1\n",
    "features[\"SlabRValue\"] = 0.3\n",
    "features[\"Infiltration\"] = 0.0005\n",
    "features[\"wwr\"] = 0.45\n",
    "features[\"width\"] = 3\n",
    "features[\"core_2_perim\"] = 0.76\n",
    "features[[col for col in features.columns if \"shading\" not in col]]\n",
    "\n",
    "torch.set_float32_matmul_precision(\"medium\")\n",
    "shoebox_predictions, monthly_predictions, annual_predictions = predict_ubem(\n",
    "        trainer=trainer,\n",
    "        surrogate=surrogate,\n",
    "        features=features,\n",
    "        schedules=schedules,\n",
    "        climate=climate,\n",
    "        batch_size=32,\n",
    "        apply_cops=True\n",
    "    )\n",
    "annual_predictions"
   ]
  },
  {
   "cell_type": "code",
   "execution_count": 136,
   "metadata": {},
   "outputs": [
    {
     "data": {
      "text/plain": [
       "0.1616811516187576"
      ]
     },
     "execution_count": 136,
     "metadata": {},
     "output_type": "execute_result"
    }
   ],
   "source": [
    "shoebox_annual = shoebox_predictions.T.groupby(level=[0,1]).sum().T\n",
    "shoebox_annual[\"Core\"][\"Cooling\"] /= 3\n",
    "shoebox_annual[\"Core\"][\"Heating\"] /= 0.8\n",
    "shoebox_annual[\"Perimeter\"][\"Cooling\"] /= 3\n",
    "shoebox_annual[\"Perimeter\"][\"Heating\"] /= 0.8\n",
    "perim_depth = umi_test.perim_offset\n",
    "df = (shoebox_annual[\"Core\"] * perim_depth*features.core_2_perim.values.reshape(-1,1) + shoebox_annual[\"Perimeter\"] * perim_depth) / (perim_depth+perim_depth*features.core_2_perim.values.reshape(-1,1))\n",
    "df[\"orientation\"] = features[\"orientation\"].values\n",
    "df[\"floor_name\"] = features[\"floor_name\"].values\n",
    "# df[(df[\"floor_name\"] == \"bottom\" ) & (df[\"orientation\"] == \"east\")]\n",
    "df = df.sort_values(by=[\"floor_name\", \"orientation\"])\n",
    "df[\"orientation\"] = df[\"orientation\"].apply(lambda x: [\"south\", \"east\", \"north\", \"west\"][x])\n",
    "df\n",
    "\n",
    "true_cooling = np.array([9,6.5,1.55,8.61,23,21,10,23,17,17,8.9,19])\n",
    "true_heating = np.array([43,56,69,56,18,48,70,44,76,119,148,115])\n",
    "np.abs((true_cooling - df[\"Cooling\"].values)).mean()\n",
    "np.abs((true_heating - df[\"Heating\"].values)).mean()\n",
    "elec_add_in = 0\n",
    "total = (true_cooling+true_heating+elec_add_in)\n",
    "total_pred = (df[\"Cooling\"].values+df[\"Heating\"].values+elec_add_in)\n",
    "(np.abs(total - total_pred)**2).mean()**0.5 / (total.mean())\n",
    "(np.abs(total-total_pred) / total).mean()\n",
    "np.abs(total.mean()- total_pred.mean()) / total.mean()"
   ]
  },
  {
   "cell_type": "code",
   "execution_count": 137,
   "metadata": {},
   "outputs": [
    {
     "data": {
      "text/html": [
       "<div>\n",
       "<style scoped>\n",
       "    .dataframe tbody tr th:only-of-type {\n",
       "        vertical-align: middle;\n",
       "    }\n",
       "\n",
       "    .dataframe tbody tr th {\n",
       "        vertical-align: top;\n",
       "    }\n",
       "\n",
       "    .dataframe thead th {\n",
       "        text-align: right;\n",
       "    }\n",
       "</style>\n",
       "<table border=\"1\" class=\"dataframe\">\n",
       "  <thead>\n",
       "    <tr style=\"text-align: right;\">\n",
       "      <th></th>\n",
       "      <th>Name</th>\n",
       "      <th>Cooling</th>\n",
       "      <th>Heating</th>\n",
       "      <th>orientation</th>\n",
       "      <th>floor_name</th>\n",
       "    </tr>\n",
       "    <tr>\n",
       "      <th>building_id</th>\n",
       "      <th></th>\n",
       "      <th></th>\n",
       "      <th></th>\n",
       "      <th></th>\n",
       "      <th></th>\n",
       "    </tr>\n",
       "  </thead>\n",
       "  <tbody>\n",
       "    <tr>\n",
       "      <th rowspan=\"12\" valign=\"top\">4b48fce5-e86f-45d3-be47-7a9b0d7d0e2c</th>\n",
       "      <th>8</th>\n",
       "      <td>7.191793</td>\n",
       "      <td>15.131004</td>\n",
       "      <td>south</td>\n",
       "      <td>bottom</td>\n",
       "    </tr>\n",
       "    <tr>\n",
       "      <th>0</th>\n",
       "      <td>9.505059</td>\n",
       "      <td>43.091584</td>\n",
       "      <td>east</td>\n",
       "      <td>bottom</td>\n",
       "    </tr>\n",
       "    <tr>\n",
       "      <th>4</th>\n",
       "      <td>2.254479</td>\n",
       "      <td>60.948079</td>\n",
       "      <td>north</td>\n",
       "      <td>bottom</td>\n",
       "    </tr>\n",
       "    <tr>\n",
       "      <th>12</th>\n",
       "      <td>9.548363</td>\n",
       "      <td>45.130214</td>\n",
       "      <td>west</td>\n",
       "      <td>bottom</td>\n",
       "    </tr>\n",
       "    <tr>\n",
       "      <th>9</th>\n",
       "      <td>22.128784</td>\n",
       "      <td>10.258557</td>\n",
       "      <td>south</td>\n",
       "      <td>middle</td>\n",
       "    </tr>\n",
       "    <tr>\n",
       "      <th>1</th>\n",
       "      <td>23.053423</td>\n",
       "      <td>33.489728</td>\n",
       "      <td>east</td>\n",
       "      <td>middle</td>\n",
       "    </tr>\n",
       "    <tr>\n",
       "      <th>5</th>\n",
       "      <td>10.910588</td>\n",
       "      <td>52.587622</td>\n",
       "      <td>north</td>\n",
       "      <td>middle</td>\n",
       "    </tr>\n",
       "    <tr>\n",
       "      <th>13</th>\n",
       "      <td>23.171582</td>\n",
       "      <td>34.930406</td>\n",
       "      <td>west</td>\n",
       "      <td>middle</td>\n",
       "    </tr>\n",
       "    <tr>\n",
       "      <th>10</th>\n",
       "      <td>16.391448</td>\n",
       "      <td>64.250706</td>\n",
       "      <td>south</td>\n",
       "      <td>top</td>\n",
       "    </tr>\n",
       "    <tr>\n",
       "      <th>2</th>\n",
       "      <td>19.071791</td>\n",
       "      <td>99.956298</td>\n",
       "      <td>east</td>\n",
       "      <td>top</td>\n",
       "    </tr>\n",
       "    <tr>\n",
       "      <th>6</th>\n",
       "      <td>9.339433</td>\n",
       "      <td>125.413194</td>\n",
       "      <td>north</td>\n",
       "      <td>top</td>\n",
       "    </tr>\n",
       "    <tr>\n",
       "      <th>14</th>\n",
       "      <td>18.998114</td>\n",
       "      <td>103.832346</td>\n",
       "      <td>west</td>\n",
       "      <td>top</td>\n",
       "    </tr>\n",
       "  </tbody>\n",
       "</table>\n",
       "</div>"
      ],
      "text/plain": [
       "Name                                       Cooling     Heating orientation  \\\n",
       "building_id                                                                  \n",
       "4b48fce5-e86f-45d3-be47-7a9b0d7d0e2c 8    7.191793   15.131004       south   \n",
       "                                     0    9.505059   43.091584        east   \n",
       "                                     4    2.254479   60.948079       north   \n",
       "                                     12   9.548363   45.130214        west   \n",
       "                                     9   22.128784   10.258557       south   \n",
       "                                     1   23.053423   33.489728        east   \n",
       "                                     5   10.910588   52.587622       north   \n",
       "                                     13  23.171582   34.930406        west   \n",
       "                                     10  16.391448   64.250706       south   \n",
       "                                     2   19.071791   99.956298        east   \n",
       "                                     6    9.339433  125.413194       north   \n",
       "                                     14  18.998114  103.832346        west   \n",
       "\n",
       "Name                                    floor_name  \n",
       "building_id                                         \n",
       "4b48fce5-e86f-45d3-be47-7a9b0d7d0e2c 8      bottom  \n",
       "                                     0      bottom  \n",
       "                                     4      bottom  \n",
       "                                     12     bottom  \n",
       "                                     9      middle  \n",
       "                                     1      middle  \n",
       "                                     5      middle  \n",
       "                                     13     middle  \n",
       "                                     10        top  \n",
       "                                     2         top  \n",
       "                                     6         top  \n",
       "                                     14        top  "
      ]
     },
     "execution_count": 137,
     "metadata": {},
     "output_type": "execute_result"
    }
   ],
   "source": [
    "df"
   ]
  },
  {
   "cell_type": "code",
   "execution_count": 130,
   "metadata": {},
   "outputs": [
    {
     "data": {
      "text/html": [
       "<div>\n",
       "<style scoped>\n",
       "    .dataframe tbody tr th:only-of-type {\n",
       "        vertical-align: middle;\n",
       "    }\n",
       "\n",
       "    .dataframe tbody tr th {\n",
       "        vertical-align: top;\n",
       "    }\n",
       "\n",
       "    .dataframe thead th {\n",
       "        text-align: right;\n",
       "    }\n",
       "</style>\n",
       "<table border=\"1\" class=\"dataframe\">\n",
       "  <thead>\n",
       "    <tr style=\"text-align: right;\">\n",
       "      <th></th>\n",
       "      <th>Name</th>\n",
       "      <th>Cooling</th>\n",
       "      <th>Heating</th>\n",
       "      <th>orientation</th>\n",
       "      <th>floor_name</th>\n",
       "    </tr>\n",
       "    <tr>\n",
       "      <th>building_id</th>\n",
       "      <th></th>\n",
       "      <th></th>\n",
       "      <th></th>\n",
       "      <th></th>\n",
       "      <th></th>\n",
       "    </tr>\n",
       "  </thead>\n",
       "  <tbody>\n",
       "    <tr>\n",
       "      <th rowspan=\"12\" valign=\"top\">4b48fce5-e86f-45d3-be47-7a9b0d7d0e2c</th>\n",
       "      <th>8</th>\n",
       "      <td>10.094458</td>\n",
       "      <td>19.395237</td>\n",
       "      <td>south</td>\n",
       "      <td>bottom</td>\n",
       "    </tr>\n",
       "    <tr>\n",
       "      <th>0</th>\n",
       "      <td>13.467731</td>\n",
       "      <td>54.014703</td>\n",
       "      <td>east</td>\n",
       "      <td>bottom</td>\n",
       "    </tr>\n",
       "    <tr>\n",
       "      <th>4</th>\n",
       "      <td>3.431132</td>\n",
       "      <td>78.134102</td>\n",
       "      <td>north</td>\n",
       "      <td>bottom</td>\n",
       "    </tr>\n",
       "    <tr>\n",
       "      <th>12</th>\n",
       "      <td>13.270586</td>\n",
       "      <td>57.171684</td>\n",
       "      <td>west</td>\n",
       "      <td>bottom</td>\n",
       "    </tr>\n",
       "    <tr>\n",
       "      <th>9</th>\n",
       "      <td>28.609388</td>\n",
       "      <td>13.845724</td>\n",
       "      <td>south</td>\n",
       "      <td>middle</td>\n",
       "    </tr>\n",
       "    <tr>\n",
       "      <th>1</th>\n",
       "      <td>29.736799</td>\n",
       "      <td>44.100200</td>\n",
       "      <td>east</td>\n",
       "      <td>middle</td>\n",
       "    </tr>\n",
       "    <tr>\n",
       "      <th>5</th>\n",
       "      <td>13.003355</td>\n",
       "      <td>70.716552</td>\n",
       "      <td>north</td>\n",
       "      <td>middle</td>\n",
       "    </tr>\n",
       "    <tr>\n",
       "      <th>13</th>\n",
       "      <td>29.419922</td>\n",
       "      <td>46.873219</td>\n",
       "      <td>west</td>\n",
       "      <td>middle</td>\n",
       "    </tr>\n",
       "    <tr>\n",
       "      <th>10</th>\n",
       "      <td>21.035337</td>\n",
       "      <td>63.592982</td>\n",
       "      <td>south</td>\n",
       "      <td>top</td>\n",
       "    </tr>\n",
       "    <tr>\n",
       "      <th>2</th>\n",
       "      <td>24.727658</td>\n",
       "      <td>108.629785</td>\n",
       "      <td>east</td>\n",
       "      <td>top</td>\n",
       "    </tr>\n",
       "    <tr>\n",
       "      <th>6</th>\n",
       "      <td>11.371634</td>\n",
       "      <td>142.408786</td>\n",
       "      <td>north</td>\n",
       "      <td>top</td>\n",
       "    </tr>\n",
       "    <tr>\n",
       "      <th>14</th>\n",
       "      <td>24.407730</td>\n",
       "      <td>113.745801</td>\n",
       "      <td>west</td>\n",
       "      <td>top</td>\n",
       "    </tr>\n",
       "  </tbody>\n",
       "</table>\n",
       "</div>"
      ],
      "text/plain": [
       "Name                                       Cooling     Heating orientation  \\\n",
       "building_id                                                                  \n",
       "4b48fce5-e86f-45d3-be47-7a9b0d7d0e2c 8   10.094458   19.395237       south   \n",
       "                                     0   13.467731   54.014703        east   \n",
       "                                     4    3.431132   78.134102       north   \n",
       "                                     12  13.270586   57.171684        west   \n",
       "                                     9   28.609388   13.845724       south   \n",
       "                                     1   29.736799   44.100200        east   \n",
       "                                     5   13.003355   70.716552       north   \n",
       "                                     13  29.419922   46.873219        west   \n",
       "                                     10  21.035337   63.592982       south   \n",
       "                                     2   24.727658  108.629785        east   \n",
       "                                     6   11.371634  142.408786       north   \n",
       "                                     14  24.407730  113.745801        west   \n",
       "\n",
       "Name                                    floor_name  \n",
       "building_id                                         \n",
       "4b48fce5-e86f-45d3-be47-7a9b0d7d0e2c 8      bottom  \n",
       "                                     0      bottom  \n",
       "                                     4      bottom  \n",
       "                                     12     bottom  \n",
       "                                     9      middle  \n",
       "                                     1      middle  \n",
       "                                     5      middle  \n",
       "                                     13     middle  \n",
       "                                     10        top  \n",
       "                                     2         top  \n",
       "                                     6         top  \n",
       "                                     14        top  "
      ]
     },
     "execution_count": 130,
     "metadata": {},
     "output_type": "execute_result"
    }
   ],
   "source": [
    "df_old"
   ]
  },
  {
   "cell_type": "code",
   "execution_count": 123,
   "metadata": {},
   "outputs": [
    {
     "data": {
      "text/plain": [
       "Text(0.5, 0, 'Climate Studio [kWh/m2]')"
      ]
     },
     "execution_count": 123,
     "metadata": {},
     "output_type": "execute_result"
    },
    {
     "data": {
      "image/png": "[encoded data removed]",
      "text/plain": [
       "<Figure size 640x480 with 1 Axes>"
      ]
     },
     "metadata": {},
     "output_type": "display_data"
    }
   ],
   "source": [
    "import matplotlib.pyplot as plt\n",
    "\n",
    "plt.scatter(true_cooling, df[\"Cooling\"].values)\n",
    "plt.plot([0,true_cooling.max()*1.2],[0,true_cooling.max()*1.2], color=\"black\")\n",
    "plt.gca().set_aspect(\"equal\")\n",
    "plt.title(\"Annual Cooling\")\n",
    "plt.ylabel(\"Surrogate [kWh/m2]\")\n",
    "plt.xlabel(\"Climate Studio [kWh/m2]\")"
   ]
  },
  {
   "cell_type": "code",
   "execution_count": 8,
   "metadata": {},
   "outputs": [
    {
     "data": {
      "text/plain": [
       "(array([13.58, 16.35,  5.75, 15.21]), array([ 1.6 ,  2.16,  2.39, 13.16]))"
      ]
     },
     "execution_count": 8,
     "metadata": {},
     "output_type": "execute_result"
    }
   ],
   "source": [
    "core_heating = (\n",
    "    np.array(\n",
    "        [\n",
    "            160,\n",
    "            216,\n",
    "            239,\n",
    "            1316,\n",
    "        ]\n",
    "    )\n",
    "    / 100\n",
    ")\n",
    "\n",
    "core_cooling = (\n",
    "    np.array(\n",
    "        [\n",
    "            1358,\n",
    "            1635,\n",
    "            575,\n",
    "            1521\n",
    "        ]\n",
    "    )\n",
    "    / 100\n",
    ")\n",
    "\n",
    "\n",
    "core_cooling, core_heating"
   ]
  },
  {
   "cell_type": "code",
   "execution_count": 6,
   "metadata": {},
   "outputs": [
    {
     "data": {
      "text/html": [
       "<div>\n",
       "<style scoped>\n",
       "    .dataframe tbody tr th:only-of-type {\n",
       "        vertical-align: middle;\n",
       "    }\n",
       "\n",
       "    .dataframe tbody tr th {\n",
       "        vertical-align: top;\n",
       "    }\n",
       "\n",
       "    .dataframe thead th {\n",
       "        text-align: right;\n",
       "    }\n",
       "</style>\n",
       "<table border=\"1\" class=\"dataframe\">\n",
       "  <thead>\n",
       "    <tr style=\"text-align: right;\">\n",
       "      <th></th>\n",
       "      <th>floor_name</th>\n",
       "      <th>weight</th>\n",
       "      <th>orientation</th>\n",
       "    </tr>\n",
       "  </thead>\n",
       "  <tbody>\n",
       "    <tr>\n",
       "      <th>0</th>\n",
       "      <td>bottom</td>\n",
       "      <td>0.083333</td>\n",
       "      <td>1</td>\n",
       "    </tr>\n",
       "    <tr>\n",
       "      <th>1</th>\n",
       "      <td>middle</td>\n",
       "      <td>0.166667</td>\n",
       "      <td>1</td>\n",
       "    </tr>\n",
       "    <tr>\n",
       "      <th>2</th>\n",
       "      <td>top</td>\n",
       "      <td>0.083333</td>\n",
       "      <td>1</td>\n",
       "    </tr>\n",
       "    <tr>\n",
       "      <th>4</th>\n",
       "      <td>bottom</td>\n",
       "      <td>0.041667</td>\n",
       "      <td>2</td>\n",
       "    </tr>\n",
       "    <tr>\n",
       "      <th>5</th>\n",
       "      <td>middle</td>\n",
       "      <td>0.083333</td>\n",
       "      <td>2</td>\n",
       "    </tr>\n",
       "    <tr>\n",
       "      <th>6</th>\n",
       "      <td>top</td>\n",
       "      <td>0.041667</td>\n",
       "      <td>2</td>\n",
       "    </tr>\n",
       "    <tr>\n",
       "      <th>8</th>\n",
       "      <td>bottom</td>\n",
       "      <td>0.041667</td>\n",
       "      <td>0</td>\n",
       "    </tr>\n",
       "    <tr>\n",
       "      <th>9</th>\n",
       "      <td>middle</td>\n",
       "      <td>0.083333</td>\n",
       "      <td>0</td>\n",
       "    </tr>\n",
       "    <tr>\n",
       "      <th>10</th>\n",
       "      <td>top</td>\n",
       "      <td>0.041667</td>\n",
       "      <td>0</td>\n",
       "    </tr>\n",
       "    <tr>\n",
       "      <th>12</th>\n",
       "      <td>bottom</td>\n",
       "      <td>0.083333</td>\n",
       "      <td>3</td>\n",
       "    </tr>\n",
       "    <tr>\n",
       "      <th>13</th>\n",
       "      <td>middle</td>\n",
       "      <td>0.166667</td>\n",
       "      <td>3</td>\n",
       "    </tr>\n",
       "    <tr>\n",
       "      <th>14</th>\n",
       "      <td>top</td>\n",
       "      <td>0.083333</td>\n",
       "      <td>3</td>\n",
       "    </tr>\n",
       "  </tbody>\n",
       "</table>\n",
       "</div>"
      ],
      "text/plain": [
       "   floor_name    weight  orientation\n",
       "0      bottom  0.083333            1\n",
       "1      middle  0.166667            1\n",
       "2         top  0.083333            1\n",
       "4      bottom  0.041667            2\n",
       "5      middle  0.083333            2\n",
       "6         top  0.041667            2\n",
       "8      bottom  0.041667            0\n",
       "9      middle  0.083333            0\n",
       "10        top  0.041667            0\n",
       "12     bottom  0.083333            3\n",
       "13     middle  0.166667            3\n",
       "14        top  0.083333            3"
      ]
     },
     "execution_count": 6,
     "metadata": {},
     "output_type": "execute_result"
    }
   ],
   "source": [
    "features[[ \"floor_name\",\"weight\",\"orientation\"]]"
   ]
  },
  {
   "cell_type": "code",
   "execution_count": 14,
   "metadata": {},
   "outputs": [
    {
     "data": {
      "text/plain": [
       "building_id                             \n",
       "4b48fce5-e86f-45d3-be47-7a9b0d7d0e2c  0     30.411108\n",
       "                                      1     45.787739\n",
       "                                      2     41.576351\n",
       "                                      4     29.609213\n",
       "                                      5     44.848309\n",
       "                                      6     40.492950\n",
       "                                      8     29.086435\n",
       "                                      9     50.942692\n",
       "                                      10    41.837627\n",
       "                                      12    10.387435\n",
       "                                      13    20.893934\n",
       "                                      14    19.126724\n",
       "dtype: float32"
      ]
     },
     "execution_count": 14,
     "metadata": {},
     "output_type": "execute_result"
    }
   ],
   "source": [
    "shoebox_predictions[\"Perimeter\"][\"Cooling\"].sum(axis=1) / 3"
   ]
  },
  {
   "cell_type": "code",
   "execution_count": 7,
   "metadata": {},
   "outputs": [
    {
     "data": {
      "text/plain": [
       "building_id                             \n",
       "4b48fce5-e86f-45d3-be47-7a9b0d7d0e2c  0     14.166623\n",
       "                                      1     29.214315\n",
       "                                      2     25.757133\n",
       "                                      4     14.499660\n",
       "                                      5     29.144798\n",
       "                                      6     25.922554\n",
       "                                      8     12.282940\n",
       "                                      9     31.331978\n",
       "                                      10    24.785196\n",
       "                                      12     5.856478\n",
       "                                      13    17.402552\n",
       "                                      14    15.721725\n",
       "dtype: float32"
      ]
     },
     "execution_count": 7,
     "metadata": {},
     "output_type": "execute_result"
    }
   ],
   "source": [
    "\n",
    "shoebox_predictions[\"Core\"][\"Cooling\"].sum(axis=1) / 3"
   ]
  },
  {
   "cell_type": "code",
   "execution_count": 8,
   "metadata": {},
   "outputs": [
    {
     "data": {
      "text/plain": [
       "building_id                             \n",
       "4b48fce5-e86f-45d3-be47-7a9b0d7d0e2c  0     19.654510\n",
       "                                      1     13.356274\n",
       "                                      2     31.087294\n",
       "                                      4     22.890020\n",
       "                                      5     15.893867\n",
       "                                      6     34.303768\n",
       "                                      8      0.992057\n",
       "                                      9      0.428594\n",
       "                                      10     8.372170\n",
       "                                      12    38.363194\n",
       "                                      13    30.974041\n",
       "                                      14    54.271023\n",
       "dtype: float32"
      ]
     },
     "execution_count": 8,
     "metadata": {},
     "output_type": "execute_result"
    }
   ],
   "source": [
    "\n",
    "shoebox_predictions[\"Perimeter\"][\"Heating\"].sum(axis=1) / 0.9"
   ]
  },
  {
   "cell_type": "code",
   "execution_count": 9,
   "metadata": {},
   "outputs": [
    {
     "data": {
      "text/plain": [
       "building_id                             \n",
       "4b48fce5-e86f-45d3-be47-7a9b0d7d0e2c  0      3.923172\n",
       "                                      1      1.267397\n",
       "                                      2     13.127552\n",
       "                                      4      5.033083\n",
       "                                      5      1.538902\n",
       "                                      6     14.833230\n",
       "                                      8      0.000000\n",
       "                                      9      0.000000\n",
       "                                      10     2.126935\n",
       "                                      12    10.856131\n",
       "                                      13     6.013148\n",
       "                                      14    24.685547\n",
       "dtype: float32"
      ]
     },
     "execution_count": 9,
     "metadata": {},
     "output_type": "execute_result"
    }
   ],
   "source": [
    "shoebox_predictions[\"Core\"][\"Heating\"].sum(axis=1) / 0.9"
   ]
  },
  {
   "cell_type": "code",
   "execution_count": 10,
   "metadata": {},
   "outputs": [
    {
     "data": {
      "image/png": "[encoded data removed]",
      "text/plain": [
       "<Figure size 640x480 with 1 Axes>"
      ]
     },
     "metadata": {},
     "output_type": "display_data"
    }
   ],
   "source": [
    "cooling = shoebox_predictions[\"Perimeter\"][\"Cooling\"].values\n",
    "heating = shoebox_predictions[\"Perimeter\"][\"Heating\"].values\n",
    "archetype = features.template_idx.values\n",
    "colors = [\"red\",\"blue\",\"green\",\"yellow\",\"orange\",\"purple\",\"pink\",\"brown\",\"black\",\"grey\"]\n",
    "import matplotlib.pyplot as plt\n",
    "for i in range(len(cooling)):\n",
    "    plt.plot(heating[i],c=\"red\", lw=0.5, alpha=0.2)\n",
    "    plt.plot(cooling[i],c=\"blue\", lw=0.5, alpha=0.2)"
   ]
  },
  {
   "cell_type": "code",
   "execution_count": 11,
   "metadata": {},
   "outputs": [
    {
     "data": {
      "text/plain": [
       "array([[<Axes: title={'center': 'Cooling'}>,\n",
       "        <Axes: title={'center': 'Heating'}>]], dtype=object)"
      ]
     },
     "execution_count": 11,
     "metadata": {},
     "output_type": "execute_result"
    },
    {
     "data": {
      "image/png": "[encoded data removed]",
      "text/plain": [
       "<Figure size 640x480 with 2 Axes>"
      ]
     },
     "metadata": {},
     "output_type": "display_data"
    }
   ],
   "source": [
    "annual_predictions.hist()"
   ]
  },
  {
   "cell_type": "code",
   "execution_count": 12,
   "metadata": {},
   "outputs": [
    {
     "ename": "KeyError",
     "evalue": "\"None of [Index(['027e56c0-34b7-714a-9e97-08db9fc15045',\\n       '095ce372-1a56-5744-a7be-6350e9250916',\\n       '0a11abfe-8782-a241-a8c0-20bd08f70dbb',\\n       '11ed3672-e6fb-354f-9f76-fc3e8fbcd50b',\\n       '12f9435e-d5cc-bd40-9efa-c6ec52a9f804',\\n       '1593071f-0654-f548-9e88-7c19a0035652',\\n       '184d2650-2966-1e49-807a-85e051d107a7',\\n       '1ad6ac2d-9542-c042-aacb-8931a225288f',\\n       '1b489621-09c7-c04c-84ba-813c4908d14a',\\n       '1bffad21-b8d4-0145-8a71-abe97df905ed',\\n       '1c28c7af-3ca2-3f42-ab49-54e2b75eba39',\\n       '1ca2f3b1-ec97-8d48-9a71-4ec991aa5622',\\n       '1cf6c185-9ef9-984f-bb1d-0faa206a5dd9',\\n       '1d83cbc6-e4e0-e147-b2cc-923bdad660fc',\\n       '1fc83084-9e4c-3a4f-9efe-2030f29f3854',\\n       '256a3447-71e0-7943-b6ef-5de308106b12',\\n       '2751d01d-c4ab-fb4f-b7ff-23be1e79ec72',\\n       '2c0846f9-737b-544d-9feb-82b06fe0257e',\\n       '2c6f9b46-92e1-d341-8bee-33b5fd917154',\\n       '2ceeb525-d784-da41-84fc-0f11df21e1ec',\\n       '2e86eafd-7bd2-0c4d-804a-5b2cdde6004a',\\n       '30abb9d5-6cd7-894a-a727-17a77c1edac5',\\n       '31a1b53a-fe81-6846-bf7d-440461f528c8',\\n       '324fc016-c43a-4841-a5cf-165de68efb12',\\n       '34e4c35f-adf5-ca40-b8cd-b77911362c41',\\n       '36b7227d-165c-244e-8a8b-62edaf01e042',\\n       '37f069f2-9f66-f547-bde6-12317abb51b7',\\n       '3a22c251-98b4-3849-bfdc-367f06e00d3a',\\n       '3bad65c4-50f0-b244-973c-b7e64a67f960',\\n       '41391093-5407-0a43-9cc6-312e66fcdd76',\\n       '4b1eb46c-689f-8b45-b8f4-b75d54c4b8ba',\\n       '500873bd-b651-254f-9970-a884b0323708',\\n       '516258c6-6838-e447-97c3-399397cb2691',\\n       '551e87c2-9a4f-d44b-9341-53cde7640265',\\n       '5857fa71-f39e-1c43-b4c0-1fc28efbac7c',\\n       '5b9a64cf-cfbc-4046-86d8-5e926878cd5f',\\n       '5cdbf518-450d-c248-91cc-6d9daf651628',\\n       '5d69840b-b24c-5447-88bc-6977c0672ede',\\n       '64287b3b-6c63-7540-9c7d-52780060f56f',\\n       '663e3324-ce20-6d43-b76d-f42ae71c9730',\\n       '68221794-bb08-8c42-a136-8923a02d697c',\\n       '6a7ec1fb-826a-b648-90af-84a089d66987',\\n       '6ad84156-47c8-6f4f-9f52-d1bcb6aa485c',\\n       '6b9bb478-9313-f249-8aa8-8faaf46b84bc',\\n       '6d9eb66e-261e-8b4b-8450-4b8447efca2d',\\n       '700fbf1e-2a71-4c43-bf16-fdb82b07c421',\\n       '739cd930-929f-f446-9cbd-1057856e207c',\\n       '762e8cad-394b-cf41-ad18-87bb496f4efd',\\n       '7e60cfa3-a55c-6b4b-b72a-171edb7fbaa6',\\n       '8409615a-ec3d-4947-b940-9db66732dd4b',\\n       '85659c25-cd74-0642-bcdb-5ed868323669',\\n       '8871aa84-b57c-9a46-a2ef-ccb8edbbac00',\\n       '8908ce9f-c42c-174a-a886-abcdd2605401',\\n       '8b451d08-3023-1542-973f-5c1849a95221',\\n       '8ee77af5-42b1-574e-8fd6-6d6d8d2637e2',\\n       '9d3515d1-1455-164b-a81c-32f4441086f1',\\n       '9deada88-0db8-3346-a76a-61cb7c134312',\\n       'a896ccfc-4a52-5d43-bb89-118f2b1d1dc6',\\n       'ab431a51-108f-f640-9a21-c4b6f9bdf628',\\n       'add662a8-efa9-2c49-8d54-66b826d722b5',\\n       'b22d4787-2653-2147-851e-ded8e4386bd6',\\n       'b5462178-646d-3946-89fb-202889a0595d',\\n       'b6e6f9fe-b088-7642-9b39-b1c16dd45095',\\n       'b841e360-a954-404c-b518-f7a5ab344285',\\n       'b8848bab-34b8-6b44-bb4c-43deca1051a6',\\n       'ba797bc2-0755-064e-95bc-c0fda173f22c',\\n       'c01d47eb-099f-d548-b919-f634261aff69',\\n       'c5d03a7e-c302-2a45-b36e-50d81895ad70',\\n       'c86941f4-5fc5-9946-8497-895f2318e922',\\n       'cc68d2e7-a7b1-374f-a43d-1baabce2fc43',\\n       'd3754066-bf9b-1744-aed5-9ae610cdb341',\\n       'd435e29a-dc7f-704e-9099-d1cb82bd3d0d',\\n       'd5202d3c-aa06-4744-ab26-290ef127b86d',\\n       'd6805327-9398-ae49-80af-ce33175b11e5',\\n       'd6ec0541-f000-5d41-837b-af6b003aa856',\\n       'd77f75ff-1c8b-d14a-bdae-a1263e35cdcb',\\n       'd9ece0ea-55b5-5e40-bf72-ef739c01499b',\\n       'da19ecf3-2f64-de4b-a2dc-9798d6489dfb',\\n       'db8376fd-5c7c-284d-a043-ab3296b02152',\\n       'de323b3c-1bdc-7243-aea6-35a270be2c72',\\n       'e0a4fb87-fb20-e74e-b54e-cbb400e1c563',\\n       'e3af0c0f-8444-e14e-8efd-60099ae9cf3e',\\n       'ec130638-fd8b-7348-abcd-dc4e21700f70',\\n       'ef6ba824-9df4-b54d-ae5f-8a440209dd66',\\n       'ef96fb96-2394-9f40-b12b-4cf5963b7533',\\n       'f066562e-fe9b-9345-b7cf-dc9445b91366',\\n       'f546ecbc-7ffa-6743-ba05-b1a8b823c126',\\n       'f67e2387-69ac-3f42-ade8-163f3b781655',\\n       'f7639920-472d-684e-ad8c-58d9e3e47d8d',\\n       'f897dfda-495c-fa4c-b699-838a134581a9',\\n       'fa78e0aa-51dd-9448-a581-d403fbf76a4e',\\n       'fdc546fe-149f-3b41-8136-f5a870ada816',\\n       'fe2d3c15-aa01-a34e-96d7-fc65ea3211cf'],\\n      dtype='object', name='building_id')] are in the [index]\"",
     "output_type": "error",
     "traceback": [
      "\u001b[1;31m---------------------------------------------------------------------------\u001b[0m",
      "\u001b[1;31mKeyError\u001b[0m                                  Traceback (most recent call last)",
      "Cell \u001b[1;32mIn[12], line 4\u001b[0m\n\u001b[0;32m      1\u001b[0m hourly \u001b[39m=\u001b[39m pd\u001b[39m.\u001b[39mread_csv(\u001b[39m\"\u001b[39m\u001b[39mdata/SeedValidation/seed_ulaanbataar_heating.csv\u001b[39m\u001b[39m\"\u001b[39m)[[\u001b[39mstr\u001b[39m(i) \u001b[39mfor\u001b[39;00m i \u001b[39min\u001b[39;00m \u001b[39mrange\u001b[39m(\u001b[39m1\u001b[39m, \u001b[39m8761\u001b[39m) ]]\n\u001b[0;32m      2\u001b[0m og \u001b[39m=\u001b[39m pd\u001b[39m.\u001b[39mread_csv(\u001b[39m\"\u001b[39m\u001b[39mdata/SeedValidation/seed_ulaanbataar_heating.csv\u001b[39m\u001b[39m\"\u001b[39m)[\u001b[39m\"\u001b[39m\u001b[39mBuilding Id\u001b[39m\u001b[39m\"\u001b[39m]\n\u001b[1;32m----> 4\u001b[0m template_ids \u001b[39m=\u001b[39m features\u001b[39m.\u001b[39;49mset_index(\u001b[39m\"\u001b[39;49m\u001b[39mbuilding_id\u001b[39;49m\u001b[39m\"\u001b[39;49m)\u001b[39m.\u001b[39;49mloc[og, \u001b[39m\"\u001b[39;49m\u001b[39mtemplate_idx\u001b[39;49m\u001b[39m\"\u001b[39;49m]\n\u001b[0;32m      6\u001b[0m \u001b[39mfor\u001b[39;00m i \u001b[39min\u001b[39;00m \u001b[39mrange\u001b[39m(\u001b[39mlen\u001b[39m(hourly)):\n\u001b[0;32m      7\u001b[0m     plt\u001b[39m.\u001b[39mplot(hourly\u001b[39m.\u001b[39miloc[i]\u001b[39m.\u001b[39mvalues,c\u001b[39m=\u001b[39mcolors[template_ids\u001b[39m.\u001b[39miloc[i]], lw\u001b[39m=\u001b[39m\u001b[39m0.5\u001b[39m, alpha\u001b[39m=\u001b[39m\u001b[39m0.2\u001b[39m)\n",
      "File \u001b[1;32mc:\\tools\\Anaconda3\\envs\\ml-for-bem-final\\lib\\site-packages\\pandas\\core\\indexing.py:1067\u001b[0m, in \u001b[0;36m_LocationIndexer.__getitem__\u001b[1;34m(self, key)\u001b[0m\n\u001b[0;32m   1065\u001b[0m     \u001b[39mif\u001b[39;00m \u001b[39mself\u001b[39m\u001b[39m.\u001b[39m_is_scalar_access(key):\n\u001b[0;32m   1066\u001b[0m         \u001b[39mreturn\u001b[39;00m \u001b[39mself\u001b[39m\u001b[39m.\u001b[39mobj\u001b[39m.\u001b[39m_get_value(\u001b[39m*\u001b[39mkey, takeable\u001b[39m=\u001b[39m\u001b[39mself\u001b[39m\u001b[39m.\u001b[39m_takeable)\n\u001b[1;32m-> 1067\u001b[0m     \u001b[39mreturn\u001b[39;00m \u001b[39mself\u001b[39;49m\u001b[39m.\u001b[39;49m_getitem_tuple(key)\n\u001b[0;32m   1068\u001b[0m \u001b[39melse\u001b[39;00m:\n\u001b[0;32m   1069\u001b[0m     \u001b[39m# we by definition only have the 0th axis\u001b[39;00m\n\u001b[0;32m   1070\u001b[0m     axis \u001b[39m=\u001b[39m \u001b[39mself\u001b[39m\u001b[39m.\u001b[39maxis \u001b[39mor\u001b[39;00m \u001b[39m0\u001b[39m\n",
      "File \u001b[1;32mc:\\tools\\Anaconda3\\envs\\ml-for-bem-final\\lib\\site-packages\\pandas\\core\\indexing.py:1247\u001b[0m, in \u001b[0;36m_LocIndexer._getitem_tuple\u001b[1;34m(self, tup)\u001b[0m\n\u001b[0;32m   1245\u001b[0m \u001b[39mwith\u001b[39;00m suppress(IndexingError):\n\u001b[0;32m   1246\u001b[0m     tup \u001b[39m=\u001b[39m \u001b[39mself\u001b[39m\u001b[39m.\u001b[39m_expand_ellipsis(tup)\n\u001b[1;32m-> 1247\u001b[0m     \u001b[39mreturn\u001b[39;00m \u001b[39mself\u001b[39;49m\u001b[39m.\u001b[39;49m_getitem_lowerdim(tup)\n\u001b[0;32m   1249\u001b[0m \u001b[39m# no multi-index, so validate all of the indexers\u001b[39;00m\n\u001b[0;32m   1250\u001b[0m tup \u001b[39m=\u001b[39m \u001b[39mself\u001b[39m\u001b[39m.\u001b[39m_validate_tuple_indexer(tup)\n",
      "File \u001b[1;32mc:\\tools\\Anaconda3\\envs\\ml-for-bem-final\\lib\\site-packages\\pandas\\core\\indexing.py:991\u001b[0m, in \u001b[0;36m_LocationIndexer._getitem_lowerdim\u001b[1;34m(self, tup)\u001b[0m\n\u001b[0;32m    989\u001b[0m             \u001b[39mreturn\u001b[39;00m section\n\u001b[0;32m    990\u001b[0m         \u001b[39m# This is an elided recursive call to iloc/loc\u001b[39;00m\n\u001b[1;32m--> 991\u001b[0m         \u001b[39mreturn\u001b[39;00m \u001b[39mgetattr\u001b[39;49m(section, \u001b[39mself\u001b[39;49m\u001b[39m.\u001b[39;49mname)[new_key]\n\u001b[0;32m    993\u001b[0m \u001b[39mraise\u001b[39;00m IndexingError(\u001b[39m\"\u001b[39m\u001b[39mnot applicable\u001b[39m\u001b[39m\"\u001b[39m)\n",
      "File \u001b[1;32mc:\\tools\\Anaconda3\\envs\\ml-for-bem-final\\lib\\site-packages\\pandas\\core\\indexing.py:1073\u001b[0m, in \u001b[0;36m_LocationIndexer.__getitem__\u001b[1;34m(self, key)\u001b[0m\n\u001b[0;32m   1070\u001b[0m axis \u001b[39m=\u001b[39m \u001b[39mself\u001b[39m\u001b[39m.\u001b[39maxis \u001b[39mor\u001b[39;00m \u001b[39m0\u001b[39m\n\u001b[0;32m   1072\u001b[0m maybe_callable \u001b[39m=\u001b[39m com\u001b[39m.\u001b[39mapply_if_callable(key, \u001b[39mself\u001b[39m\u001b[39m.\u001b[39mobj)\n\u001b[1;32m-> 1073\u001b[0m \u001b[39mreturn\u001b[39;00m \u001b[39mself\u001b[39;49m\u001b[39m.\u001b[39;49m_getitem_axis(maybe_callable, axis\u001b[39m=\u001b[39;49maxis)\n",
      "File \u001b[1;32mc:\\tools\\Anaconda3\\envs\\ml-for-bem-final\\lib\\site-packages\\pandas\\core\\indexing.py:1301\u001b[0m, in \u001b[0;36m_LocIndexer._getitem_axis\u001b[1;34m(self, key, axis)\u001b[0m\n\u001b[0;32m   1298\u001b[0m     \u001b[39mif\u001b[39;00m \u001b[39mhasattr\u001b[39m(key, \u001b[39m\"\u001b[39m\u001b[39mndim\u001b[39m\u001b[39m\"\u001b[39m) \u001b[39mand\u001b[39;00m key\u001b[39m.\u001b[39mndim \u001b[39m>\u001b[39m \u001b[39m1\u001b[39m:\n\u001b[0;32m   1299\u001b[0m         \u001b[39mraise\u001b[39;00m \u001b[39mValueError\u001b[39;00m(\u001b[39m\"\u001b[39m\u001b[39mCannot index with multidimensional key\u001b[39m\u001b[39m\"\u001b[39m)\n\u001b[1;32m-> 1301\u001b[0m     \u001b[39mreturn\u001b[39;00m \u001b[39mself\u001b[39;49m\u001b[39m.\u001b[39;49m_getitem_iterable(key, axis\u001b[39m=\u001b[39;49maxis)\n\u001b[0;32m   1303\u001b[0m \u001b[39m# nested tuple slicing\u001b[39;00m\n\u001b[0;32m   1304\u001b[0m \u001b[39mif\u001b[39;00m is_nested_tuple(key, labels):\n",
      "File \u001b[1;32mc:\\tools\\Anaconda3\\envs\\ml-for-bem-final\\lib\\site-packages\\pandas\\core\\indexing.py:1239\u001b[0m, in \u001b[0;36m_LocIndexer._getitem_iterable\u001b[1;34m(self, key, axis)\u001b[0m\n\u001b[0;32m   1236\u001b[0m \u001b[39mself\u001b[39m\u001b[39m.\u001b[39m_validate_key(key, axis)\n\u001b[0;32m   1238\u001b[0m \u001b[39m# A collection of keys\u001b[39;00m\n\u001b[1;32m-> 1239\u001b[0m keyarr, indexer \u001b[39m=\u001b[39m \u001b[39mself\u001b[39;49m\u001b[39m.\u001b[39;49m_get_listlike_indexer(key, axis)\n\u001b[0;32m   1240\u001b[0m \u001b[39mreturn\u001b[39;00m \u001b[39mself\u001b[39m\u001b[39m.\u001b[39mobj\u001b[39m.\u001b[39m_reindex_with_indexers(\n\u001b[0;32m   1241\u001b[0m     {axis: [keyarr, indexer]}, copy\u001b[39m=\u001b[39m\u001b[39mTrue\u001b[39;00m, allow_dups\u001b[39m=\u001b[39m\u001b[39mTrue\u001b[39;00m\n\u001b[0;32m   1242\u001b[0m )\n",
      "File \u001b[1;32mc:\\tools\\Anaconda3\\envs\\ml-for-bem-final\\lib\\site-packages\\pandas\\core\\indexing.py:1432\u001b[0m, in \u001b[0;36m_LocIndexer._get_listlike_indexer\u001b[1;34m(self, key, axis)\u001b[0m\n\u001b[0;32m   1429\u001b[0m ax \u001b[39m=\u001b[39m \u001b[39mself\u001b[39m\u001b[39m.\u001b[39mobj\u001b[39m.\u001b[39m_get_axis(axis)\n\u001b[0;32m   1430\u001b[0m axis_name \u001b[39m=\u001b[39m \u001b[39mself\u001b[39m\u001b[39m.\u001b[39mobj\u001b[39m.\u001b[39m_get_axis_name(axis)\n\u001b[1;32m-> 1432\u001b[0m keyarr, indexer \u001b[39m=\u001b[39m ax\u001b[39m.\u001b[39;49m_get_indexer_strict(key, axis_name)\n\u001b[0;32m   1434\u001b[0m \u001b[39mreturn\u001b[39;00m keyarr, indexer\n",
      "File \u001b[1;32mc:\\tools\\Anaconda3\\envs\\ml-for-bem-final\\lib\\site-packages\\pandas\\core\\indexes\\base.py:6070\u001b[0m, in \u001b[0;36mIndex._get_indexer_strict\u001b[1;34m(self, key, axis_name)\u001b[0m\n\u001b[0;32m   6067\u001b[0m \u001b[39melse\u001b[39;00m:\n\u001b[0;32m   6068\u001b[0m     keyarr, indexer, new_indexer \u001b[39m=\u001b[39m \u001b[39mself\u001b[39m\u001b[39m.\u001b[39m_reindex_non_unique(keyarr)\n\u001b[1;32m-> 6070\u001b[0m \u001b[39mself\u001b[39;49m\u001b[39m.\u001b[39;49m_raise_if_missing(keyarr, indexer, axis_name)\n\u001b[0;32m   6072\u001b[0m keyarr \u001b[39m=\u001b[39m \u001b[39mself\u001b[39m\u001b[39m.\u001b[39mtake(indexer)\n\u001b[0;32m   6073\u001b[0m \u001b[39mif\u001b[39;00m \u001b[39misinstance\u001b[39m(key, Index):\n\u001b[0;32m   6074\u001b[0m     \u001b[39m# GH 42790 - Preserve name from an Index\u001b[39;00m\n",
      "File \u001b[1;32mc:\\tools\\Anaconda3\\envs\\ml-for-bem-final\\lib\\site-packages\\pandas\\core\\indexes\\base.py:6130\u001b[0m, in \u001b[0;36mIndex._raise_if_missing\u001b[1;34m(self, key, indexer, axis_name)\u001b[0m\n\u001b[0;32m   6128\u001b[0m     \u001b[39mif\u001b[39;00m use_interval_msg:\n\u001b[0;32m   6129\u001b[0m         key \u001b[39m=\u001b[39m \u001b[39mlist\u001b[39m(key)\n\u001b[1;32m-> 6130\u001b[0m     \u001b[39mraise\u001b[39;00m \u001b[39mKeyError\u001b[39;00m(\u001b[39mf\u001b[39m\u001b[39m\"\u001b[39m\u001b[39mNone of [\u001b[39m\u001b[39m{\u001b[39;00mkey\u001b[39m}\u001b[39;00m\u001b[39m] are in the [\u001b[39m\u001b[39m{\u001b[39;00maxis_name\u001b[39m}\u001b[39;00m\u001b[39m]\u001b[39m\u001b[39m\"\u001b[39m)\n\u001b[0;32m   6132\u001b[0m not_found \u001b[39m=\u001b[39m \u001b[39mlist\u001b[39m(ensure_index(key)[missing_mask\u001b[39m.\u001b[39mnonzero()[\u001b[39m0\u001b[39m]]\u001b[39m.\u001b[39munique())\n\u001b[0;32m   6133\u001b[0m \u001b[39mraise\u001b[39;00m \u001b[39mKeyError\u001b[39;00m(\u001b[39mf\u001b[39m\u001b[39m\"\u001b[39m\u001b[39m{\u001b[39;00mnot_found\u001b[39m}\u001b[39;00m\u001b[39m not in index\u001b[39m\u001b[39m\"\u001b[39m)\n",
      "\u001b[1;31mKeyError\u001b[0m: \"None of [Index(['027e56c0-34b7-714a-9e97-08db9fc15045',\\n       '095ce372-1a56-5744-a7be-6350e9250916',\\n       '0a11abfe-8782-a241-a8c0-20bd08f70dbb',\\n       '11ed3672-e6fb-354f-9f76-fc3e8fbcd50b',\\n       '12f9435e-d5cc-bd40-9efa-c6ec52a9f804',\\n       '1593071f-0654-f548-9e88-7c19a0035652',\\n       '184d2650-2966-1e49-807a-85e051d107a7',\\n       '1ad6ac2d-9542-c042-aacb-8931a225288f',\\n       '1b489621-09c7-c04c-84ba-813c4908d14a',\\n       '1bffad21-b8d4-0145-8a71-abe97df905ed',\\n       '1c28c7af-3ca2-3f42-ab49-54e2b75eba39',\\n       '1ca2f3b1-ec97-8d48-9a71-4ec991aa5622',\\n       '1cf6c185-9ef9-984f-bb1d-0faa206a5dd9',\\n       '1d83cbc6-e4e0-e147-b2cc-923bdad660fc',\\n       '1fc83084-9e4c-3a4f-9efe-2030f29f3854',\\n       '256a3447-71e0-7943-b6ef-5de308106b12',\\n       '2751d01d-c4ab-fb4f-b7ff-23be1e79ec72',\\n       '2c0846f9-737b-544d-9feb-82b06fe0257e',\\n       '2c6f9b46-92e1-d341-8bee-33b5fd917154',\\n       '2ceeb525-d784-da41-84fc-0f11df21e1ec',\\n       '2e86eafd-7bd2-0c4d-804a-5b2cdde6004a',\\n       '30abb9d5-6cd7-894a-a727-17a77c1edac5',\\n       '31a1b53a-fe81-6846-bf7d-440461f528c8',\\n       '324fc016-c43a-4841-a5cf-165de68efb12',\\n       '34e4c35f-adf5-ca40-b8cd-b77911362c41',\\n       '36b7227d-165c-244e-8a8b-62edaf01e042',\\n       '37f069f2-9f66-f547-bde6-12317abb51b7',\\n       '3a22c251-98b4-3849-bfdc-367f06e00d3a',\\n       '3bad65c4-50f0-b244-973c-b7e64a67f960',\\n       '41391093-5407-0a43-9cc6-312e66fcdd76',\\n       '4b1eb46c-689f-8b45-b8f4-b75d54c4b8ba',\\n       '500873bd-b651-254f-9970-a884b0323708',\\n       '516258c6-6838-e447-97c3-399397cb2691',\\n       '551e87c2-9a4f-d44b-9341-53cde7640265',\\n       '5857fa71-f39e-1c43-b4c0-1fc28efbac7c',\\n       '5b9a64cf-cfbc-4046-86d8-5e926878cd5f',\\n       '5cdbf518-450d-c248-91cc-6d9daf651628',\\n       '5d69840b-b24c-5447-88bc-6977c0672ede',\\n       '64287b3b-6c63-7540-9c7d-52780060f56f',\\n       '663e3324-ce20-6d43-b76d-f42ae71c9730',\\n       '68221794-bb08-8c42-a136-8923a02d697c',\\n       '6a7ec1fb-826a-b648-90af-84a089d66987',\\n       '6ad84156-47c8-6f4f-9f52-d1bcb6aa485c',\\n       '6b9bb478-9313-f249-8aa8-8faaf46b84bc',\\n       '6d9eb66e-261e-8b4b-8450-4b8447efca2d',\\n       '700fbf1e-2a71-4c43-bf16-fdb82b07c421',\\n       '739cd930-929f-f446-9cbd-1057856e207c',\\n       '762e8cad-394b-cf41-ad18-87bb496f4efd',\\n       '7e60cfa3-a55c-6b4b-b72a-171edb7fbaa6',\\n       '8409615a-ec3d-4947-b940-9db66732dd4b',\\n       '85659c25-cd74-0642-bcdb-5ed868323669',\\n       '8871aa84-b57c-9a46-a2ef-ccb8edbbac00',\\n       '8908ce9f-c42c-174a-a886-abcdd2605401',\\n       '8b451d08-3023-1542-973f-5c1849a95221',\\n       '8ee77af5-42b1-574e-8fd6-6d6d8d2637e2',\\n       '9d3515d1-1455-164b-a81c-32f4441086f1',\\n       '9deada88-0db8-3346-a76a-61cb7c134312',\\n       'a896ccfc-4a52-5d43-bb89-118f2b1d1dc6',\\n       'ab431a51-108f-f640-9a21-c4b6f9bdf628',\\n       'add662a8-efa9-2c49-8d54-66b826d722b5',\\n       'b22d4787-2653-2147-851e-ded8e4386bd6',\\n       'b5462178-646d-3946-89fb-202889a0595d',\\n       'b6e6f9fe-b088-7642-9b39-b1c16dd45095',\\n       'b841e360-a954-404c-b518-f7a5ab344285',\\n       'b8848bab-34b8-6b44-bb4c-43deca1051a6',\\n       'ba797bc2-0755-064e-95bc-c0fda173f22c',\\n       'c01d47eb-099f-d548-b919-f634261aff69',\\n       'c5d03a7e-c302-2a45-b36e-50d81895ad70',\\n       'c86941f4-5fc5-9946-8497-895f2318e922',\\n       'cc68d2e7-a7b1-374f-a43d-1baabce2fc43',\\n       'd3754066-bf9b-1744-aed5-9ae610cdb341',\\n       'd435e29a-dc7f-704e-9099-d1cb82bd3d0d',\\n       'd5202d3c-aa06-4744-ab26-290ef127b86d',\\n       'd6805327-9398-ae49-80af-ce33175b11e5',\\n       'd6ec0541-f000-5d41-837b-af6b003aa856',\\n       'd77f75ff-1c8b-d14a-bdae-a1263e35cdcb',\\n       'd9ece0ea-55b5-5e40-bf72-ef739c01499b',\\n       'da19ecf3-2f64-de4b-a2dc-9798d6489dfb',\\n       'db8376fd-5c7c-284d-a043-ab3296b02152',\\n       'de323b3c-1bdc-7243-aea6-35a270be2c72',\\n       'e0a4fb87-fb20-e74e-b54e-cbb400e1c563',\\n       'e3af0c0f-8444-e14e-8efd-60099ae9cf3e',\\n       'ec130638-fd8b-7348-abcd-dc4e21700f70',\\n       'ef6ba824-9df4-b54d-ae5f-8a440209dd66',\\n       'ef96fb96-2394-9f40-b12b-4cf5963b7533',\\n       'f066562e-fe9b-9345-b7cf-dc9445b91366',\\n       'f546ecbc-7ffa-6743-ba05-b1a8b823c126',\\n       'f67e2387-69ac-3f42-ade8-163f3b781655',\\n       'f7639920-472d-684e-ad8c-58d9e3e47d8d',\\n       'f897dfda-495c-fa4c-b699-838a134581a9',\\n       'fa78e0aa-51dd-9448-a581-d403fbf76a4e',\\n       'fdc546fe-149f-3b41-8136-f5a870ada816',\\n       'fe2d3c15-aa01-a34e-96d7-fc65ea3211cf'],\\n      dtype='object', name='building_id')] are in the [index]\""
     ]
    }
   ],
   "source": [
    "hourly = pd.read_csv(\"data/SeedValidation/seed_ulaanbataar_heating.csv\")[[str(i) for i in range(1, 8761) ]]\n",
    "og = pd.read_csv(\"data/SeedValidation/seed_ulaanbataar_heating.csv\")[\"Building Id\"]\n",
    "\n",
    "template_ids = features.set_index(\"building_id\").loc[og, \"template_idx\"]\n",
    "\n",
    "for i in range(len(hourly)):\n",
    "    plt.plot(hourly.iloc[i].values,c=colors[template_ids.iloc[i]], lw=0.5, alpha=0.2)\n"
   ]
  }
 ],
 "metadata": {
  "kernelspec": {
   "display_name": "Python 3",
   "language": "python",
   "name": "python3"
  },
  "language_info": {
   "codemirror_mode": {
    "name": "ipython",
    "version": 3
   },
   "file_extension": ".py",
   "mimetype": "text/x-python",
   "name": "python",
   "nbconvert_exporter": "python",
   "pygments_lexer": "ipython3",
   "version": "3.8.17"
  },
  "orig_nbformat": 4
 },
 "nbformat": 4,
 "nbformat_minor": 2
}
