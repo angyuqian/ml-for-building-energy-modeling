{
 "cells": [
  {
   "cell_type": "code",
   "execution_count": 1,
   "metadata": {},
   "outputs": [
    {
     "name": "stdout",
     "output_type": "stream",
     "text": [
      "Couldn't import dot_parser, loading of dot files will not be possible.\n"
     ]
    },
    {
     "name": "stderr",
     "output_type": "stream",
     "text": [
      "c:\\tools\\Anaconda3\\envs\\ml-for-bem-final\\lib\\site-packages\\outdated\\utils.py:14: OutdatedPackageWarning: The package energy-pandas is out of date. Your version is 0.3.3, the latest is 0.3.4.\n",
      "Set the environment variable OUTDATED_IGNORE=1 to disable these warnings.\n",
      "  return warn(\n"
     ]
    },
    {
     "name": "stdout",
     "output_type": "stream",
     "text": [
      "[Taichi] version 1.6.0, llvm 15.0.1, commit f1c6fbbd, win, python 3.8.17\n",
      "[Taichi] Starting on arch=cuda\n"
     ]
    }
   ],
   "source": [
    "from pathlib import Path\n",
    "\n",
    "import numpy as np\n",
    "import pandas as pd\n",
    "import geopandas as gpd\n",
    "import torch\n",
    "\n",
    "from archetypal import UmiTemplateLibrary\n",
    "from ladybug.epw import EPW \n",
    "from lightning.pytorch import Trainer\n",
    "\n",
    "from ml.data import BuildingDataModule\n",
    "from ml.surrogate import Surrogate\n",
    "from ml.predict import predict_ubem\n",
    "from umi.ubem import UBEM"
   ]
  },
  {
   "cell_type": "code",
   "execution_count": 2,
   "metadata": {},
   "outputs": [
    {
     "name": "stderr",
     "output_type": "stream",
     "text": [
      "GPU available: True (cuda), used: True\n",
      "TPU available: False, using: 0 TPU cores\n",
      "IPU available: False, using: 0 IPUs\n",
      "HPU available: False, using: 0 HPUs\n"
     ]
    }
   ],
   "source": [
    "bucket = \"ml-for-bem\"\n",
    "remote_experiment = \"full_climate_zone/v5\"\n",
    "local_data_dir = \"data/lightning\"\n",
    "\n",
    "registry = \"ml-for-building-energy-modeling/model-registry\"\n",
    "model = \"Global UBEM Shoebox Surrogate with Combined TS Embedder\"\n",
    "tag = \"v1\"\n",
    "resource = \"model-with-transform-configs.ckpt\"\n",
    "\n",
    "surrogate = Surrogate.load_from_registry(registry, model, tag, resource)\n",
    "surrogate.model.eval()\n",
    "\n",
    "trainer = Trainer(\n",
    "        accelerator=\"auto\",\n",
    "        devices=\"auto\",\n",
    "        strategy=\"auto\",\n",
    "        enable_progress_bar=True,\n",
    "    )"
   ]
  },
  {
   "cell_type": "code",
   "execution_count": 10,
   "metadata": {},
   "outputs": [
    {
     "name": "stderr",
     "output_type": "stream",
     "text": [
      "DEBUG:UMI:Fetching BuildingTemplate vector data from B_Off_0\n",
      "DEBUG:UMI:Found facade with r_value 2.06 and tmass bin 1\n",
      "DEBUG:UMI:Found slab with r_value 0.71\n",
      "DEBUG:UMI:Found roof with r_value 3.25 and tmass bin 0\n",
      "WARNING:UMI:SHGC over 1, clipping.\n",
      "DEBUG:UMI:Fetching BuildingTemplate vector data from B_Ret_0\n",
      "DEBUG:UMI:Found facade with r_value 2.06 and tmass bin 1\n",
      "DEBUG:UMI:Found slab with r_value 0.71\n",
      "DEBUG:UMI:Found roof with r_value 3.25 and tmass bin 0\n",
      "WARNING:UMI:SHGC over 1, clipping.\n",
      "DEBUG:UMI:Fetching BuildingTemplate vector data from B_Res_0_Masonry\n",
      "DEBUG:UMI:Found facade with r_value 2.06 and tmass bin 1\n",
      "DEBUG:UMI:Found slab with r_value 0.71\n",
      "DEBUG:UMI:Found roof with r_value 3.3 and tmass bin 1\n",
      "WARNING:UMI:SHGC over 1, clipping.\n",
      "DEBUG:UMI:Fetching BuildingTemplate vector data from B_Res_0_WoodFrame\n",
      "DEBUG:UMI:Found facade with r_value 2.84 and tmass bin 3\n",
      "DEBUG:UMI:Found slab with r_value 0.71\n",
      "DEBUG:UMI:Found roof with r_value 3.3 and tmass bin 1\n",
      "WARNING:UMI:SHGC over 1, clipping.\n",
      "WARNING:UMI:Duplicate ids in building gdf! Overwriting with new ids.\n",
      "INFO:Radiation Analysis:Beginning sky matrix extraction...\n",
      "INFO:Radiation Analysis:Building Count: 93\n",
      "INFO:Radiation Analysis:Approximate Sensor Count: 5190\n",
      "INFO:Radiation Analysis:QuadTree Depth: 8\n",
      "INFO:Radiation Analysis:Initializing azimuths from provided sky...\n",
      "INFO:Radiation Analysis:Initializing elevations from provided Sky...\n",
      "INFO:Radiation Analysis:Initializing buildings...\n",
      "INFO:Radiation Analysis:Extracting edges...\n",
      "DEBUG:UMI:Dropping unnecessary shoeboxes...\n",
      "DEBUG:UMI:Input infiltration values range between 0.35 and 0.35 ach\n",
      "INFO:UMI:Recalculating infiltration values for each shoebox.\n",
      "INFO:UMI:Processed UMI in 2.57 seconds\n"
     ]
    }
   ],
   "source": [
    "gdf = gpd.read_file(Path(\"data\") / \"gis\" / \"Florianopolis_Baseline_sam.zip\")\n",
    "\n",
    "# dict to store key fields for known gis files\n",
    "id_cols = {\n",
    "    \"florianpolis\": {\n",
    "        \"height_col\": \"HEIGHT\",\n",
    "        \"id_col\": \"OBJECTID\",\n",
    "        \"template_name_col\": \"template_name\",\n",
    "        \"wwr_col\": \"wwr\",\n",
    "    }\n",
    "}\n",
    "\n",
    "epw_fp = (\n",
    "    Path(\"data\")\n",
    "    / \"epws\"\n",
    "    / \"global_epws_indexed\"\n",
    "    / \"cityidx_0305_MNG_--ULAANBATAAR.442920_IWEC Data.epw\"\n",
    "    # / \"cityidx_0007_USA_IL-Chicago Midway.725340_TMY--14819.epw\"\n",
    ")\n",
    "\n",
    "epw = EPW(epw_fp)\n",
    "template_lib = UmiTemplateLibrary.open(\n",
    "    Path(\"data\") / \"template_libs\" / \"BostonTemplateLibrary.json\"\n",
    ")\n",
    "\n",
    "# Insert dummy template names\n",
    "gdf[id_cols[\"florianpolis\"][\"template_name_col\"]] = np.random.choice(\n",
    "    [t.Name for t in template_lib.BuildingTemplates], size=gdf.shape[0]\n",
    ")\n",
    "# insert dummy wwrs\n",
    "gdf[id_cols[\"florianpolis\"][\"wwr_col\"]] = 0.4\n",
    "\n",
    "umi_test = UBEM(\n",
    "    gdf=gdf,\n",
    "    **id_cols[\"florianpolis\"],\n",
    "    epw=epw,\n",
    "    template_lib=template_lib,\n",
    "    shoebox_width=3,\n",
    "    floor_to_floor_height=4,\n",
    "    perim_offset=4,\n",
    ")"
   ]
  },
  {
   "cell_type": "code",
   "execution_count": 11,
   "metadata": {},
   "outputs": [
    {
     "name": "stderr",
     "output_type": "stream",
     "text": [
      "WARNING:ml.data:Values for core_2_perim are outside of the range [0.05, 1.9]! Provided data min: 0.0, max: 0.6569918252956243. Data will be clipped before prediction.\n",
      "WARNING:ml.data:Values for roof_2_footprint are outside of the range [0.05, 0.95]! Provided data min: 0.0, max: 1.0. Data will be clipped before prediction.\n",
      "WARNING:ml.data:Values for ground_2_footprint are outside of the range [0.05, 0.95]! Provided data min: 0.0, max: 1.0. Data will be clipped before prediction.\n",
      "LOCAL_RANK: 0 - CUDA_VISIBLE_DEVICES: [0]\n"
     ]
    },
    {
     "name": "stdout",
     "output_type": "stream",
     "text": [
      "Predicting DataLoader 0: 100%|██████████| 20/20 [00:00<00:00, 24.46it/s]\n"
     ]
    }
   ],
   "source": [
    "\n",
    "features, schedules, climate = umi_test.prepare_for_surrogate()\n",
    "features[\"WindowShgc\"] = 0.8\n",
    "\n",
    "torch.set_float32_matmul_precision(\"medium\")\n",
    "shoebox_predictions, monthly_predictions, annual_predictions = predict_ubem(\n",
    "        trainer=trainer,\n",
    "        surrogate=surrogate,\n",
    "        features=features,\n",
    "        schedules=schedules,\n",
    "        climate=climate,\n",
    "        batch_size=32,\n",
    "    )"
   ]
  },
  {
   "cell_type": "code",
   "execution_count": 12,
   "metadata": {},
   "outputs": [
    {
     "data": {
      "text/plain": [
       "array([[<Axes: title={'center': 'Cooling'}>,\n",
       "        <Axes: title={'center': 'Heating'}>]], dtype=object)"
      ]
     },
     "execution_count": 12,
     "metadata": {},
     "output_type": "execute_result"
    },
    {
     "data": {
      "image/png": "[encoded data removed]",
      "text/plain": [
       "<Figure size 640x480 with 2 Axes>"
      ]
     },
     "metadata": {},
     "output_type": "display_data"
    }
   ],
   "source": [
    "annual_predictions.hist()"
   ]
  },
  {
   "cell_type": "code",
   "execution_count": 16,
   "metadata": {},
   "outputs": [
    {
     "data": {
      "text/plain": [
       "Index(['Building Id', 'Building Name', 'Metric', 'Units', 'Resolution', '1',\n",
       "       '2', '3', '4', '5',\n",
       "       ...\n",
       "       '8751', '8752', '8753', '8754', '8755', '8756', '8757', '8758', '8759',\n",
       "       '8760'],\n",
       "      dtype='object', length=8765)"
      ]
     },
     "execution_count": 16,
     "metadata": {},
     "output_type": "execute_result"
    }
   ],
   "source": [
    "pd.read_csv(\"data/SeedValidation/seed_ulaanbataar_cooling.csv\")[[str(i) for i in range(8760) ]]"
   ]
  }
 ],
 "metadata": {
  "kernelspec": {
   "display_name": "Python 3",
   "language": "python",
   "name": "python3"
  },
  "language_info": {
   "codemirror_mode": {
    "name": "ipython",
    "version": 3
   },
   "file_extension": ".py",
   "mimetype": "text/x-python",
   "name": "python",
   "nbconvert_exporter": "python",
   "pygments_lexer": "ipython3",
   "version": "3.8.17"
  },
  "orig_nbformat": 4
 },
 "nbformat": 4,
 "nbformat_minor": 2
}
