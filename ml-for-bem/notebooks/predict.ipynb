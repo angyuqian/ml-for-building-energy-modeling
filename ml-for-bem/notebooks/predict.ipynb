{
 "cells": [
  {
   "cell_type": "code",
   "execution_count": 1,
   "metadata": {},
   "outputs": [
    {
     "name": "stdout",
     "output_type": "stream",
     "text": [
      "Couldn't import dot_parser, loading of dot files will not be possible.\n"
     ]
    },
    {
     "name": "stderr",
     "output_type": "stream",
     "text": [
      "c:\\tools\\Anaconda3\\envs\\ml-for-bem-final\\lib\\site-packages\\outdated\\utils.py:14: OutdatedPackageWarning: The package energy-pandas is out of date. Your version is 0.3.3, the latest is 0.3.4.\n",
      "Set the environment variable OUTDATED_IGNORE=1 to disable these warnings.\n",
      "  return warn(\n"
     ]
    },
    {
     "name": "stdout",
     "output_type": "stream",
     "text": [
      "[Taichi] version 1.6.0, llvm 15.0.1, commit f1c6fbbd, win, python 3.8.17\n",
      "[Taichi] Starting on arch=cuda\n"
     ]
    }
   ],
   "source": [
    "from pathlib import Path\n",
    "\n",
    "import numpy as np\n",
    "import pandas as pd\n",
    "import geopandas as gpd\n",
    "import torch\n",
    "\n",
    "from archetypal import UmiTemplateLibrary\n",
    "from ladybug.epw import EPW \n",
    "from lightning.pytorch import Trainer\n",
    "\n",
    "from ml.data import BuildingDataModule\n",
    "from ml.surrogate import Surrogate\n",
    "from ml.predict import predict_ubem\n",
    "from umi.ubem import UBEM"
   ]
  },
  {
   "cell_type": "code",
   "execution_count": 2,
   "metadata": {},
   "outputs": [
    {
     "name": "stderr",
     "output_type": "stream",
     "text": [
      "GPU available: True (cuda), used: True\n",
      "TPU available: False, using: 0 TPU cores\n",
      "IPU available: False, using: 0 IPUs\n",
      "HPU available: False, using: 0 HPUs\n"
     ]
    }
   ],
   "source": [
    "bucket = \"ml-for-bem\"\n",
    "remote_experiment = \"full_climate_zone/v7\"\n",
    "local_data_dir = \"data/lightning\"\n",
    "\n",
    "registry = \"ml-for-building-energy-modeling/model-registry\"\n",
    "model = \"Global UBEM Shoebox Surrogate with Combined TS Embedder\"\n",
    "tag = \"v3\"\n",
    "resource = \"model.ckpt\"\n",
    "\n",
    "surrogate = Surrogate.load_from_registry(registry, model, tag, resource)\n",
    "surrogate.model.eval()\n",
    "\n",
    "trainer = Trainer(\n",
    "        accelerator=\"auto\",\n",
    "        devices=\"auto\",\n",
    "        strategy=\"auto\",\n",
    "        enable_progress_bar=True,\n",
    "    )"
   ]
  },
  {
   "cell_type": "code",
   "execution_count": 3,
   "metadata": {},
   "outputs": [],
   "source": [
    "\n",
    "gdf = gpd.read_file(Path(\"data\") / \"gis\" / \"Florianopolis_Baseline_sam.zip\")\n",
    "\n",
    "# dict to store key fields for known gis files\n",
    "id_cols = {\n",
    "    \"florianpolis\": {\n",
    "        \"height_col\": \"HEIGHT\",\n",
    "        \"id_col\": \"OBJECTID\",\n",
    "        \"template_name_col\": \"template_name\",\n",
    "        \"wwr_col\": \"wwr\",\n",
    "    }\n",
    "}\n",
    "\n",
    "epw_fp = (\n",
    "    Path(\"data\")\n",
    "    / \"epws\"\n",
    "    / \"global_epws_indexed\"\n",
    "    / \"cityidx_0305_MNG_--ULAANBATAAR.442920_IWEC Data.epw\"\n",
    "    # / \"cityidx_0007_USA_IL-Chicago Midway.725340_TMY--14819.epw\"\n",
    ")\n",
    "\n",
    "epw = EPW(epw_fp)\n",
    "template_lib = UmiTemplateLibrary.open(\n",
    "    Path(\"data\") / \"template_libs\" / \"BostonTemplateLibrary.json\"\n",
    ")\n",
    "\n",
    "# Insert dummy template names\n",
    "gdf[id_cols[\"florianpolis\"][\"template_name_col\"]] = np.random.choice(\n",
    "    [t.Name for t in template_lib.BuildingTemplates], size=gdf.shape[0]\n",
    ")\n",
    "# insert dummy wwrs\n",
    "gdf[id_cols[\"florianpolis\"][\"wwr_col\"]] = 0.4\n"
   ]
  },
  {
   "cell_type": "code",
   "execution_count": 4,
   "metadata": {},
   "outputs": [
    {
     "name": "stderr",
     "output_type": "stream",
     "text": [
      "INFO:UMI:reading input file...\n",
      "DEBUG:UMI:TEMPORARY LOCATION C:\\Users\\szvsw\\AppData\\Local\\Temp\\tmpmx7cw3_y\n",
      "INFO:UMI:Successfully loaded EPW file Data for [ULAANBATAAR]\n",
      "DEBUG:UMI:['sdl-common/district_energy_scenarios.json', 'sdl-common/planningSettings.json', 'sdl-common/project.json', 'sdl-common/shoebox-weights.json', 'sdl-common/site-analysis-settings.json', 'sdl-common/ThermalPlantSettings.json', 'sdl-common/ubemio-archetype-id-cache.json', 'sdl-common/ud-results.xml', 'sdl-common/project-settings.json', 'sdl-common/project-header.json', 'Florianopolis_Baseline.3dm', 'cityidx_0305_MNG_--ULAANBATAAR.442920_IWEC Data.epw', 'template-library.json', 'umi.sqlite3']\n",
      "INFO:UMI:Opening archetpal templates at template-library.json\n",
      "WARNING:archetypal:Modeling layer thinner (less) than 0.003 m (not recommended) for MaterialLayer '140514028050368:Metal Decking with thickness of 0.002 m'\n",
      "WARNING:archetypal:Modeling layer thinner (less) than 0.003 m (not recommended) for MaterialLayer '140514028050368:Metal Decking with thickness of 0.002 m'\n",
      "WARNING:archetypal:Modeling layer thinner (less) than 0.003 m (not recommended) for MaterialLayer '140514028050368:Metal Decking with thickness of 0.002 m'\n",
      "DEBUG:UMI:Index(['id', 'FloorCount', 'GrossFloorArea', 'Height', 'Name', 'Occupancy',\n",
      "       'TemplateName', 'UseType', 'WwrE', 'WwrN', 'WwrS', 'WwrW', 'geometry'],\n",
      "      dtype='object')\n",
      "INFO:UMI:Read 9.8KB from data\\gis\\seed_ulaanbataar.umi in 0.03 seconds\n",
      "INFO:UMI:Calculating individual floor-to-floor heights.\n",
      "DEBUG:UMI:Min building height: 3.0\n",
      "DEBUG:UMI:Max floor count: 1\n",
      "DEBUG:UMI:Floor-to-floor height: 3.0 to 5.6\n",
      "WARNING:UMI:Dynamic floor to floor height found, but resetting to 3.\n",
      "WARNING:UMI:No perimeter offset in gdf, defaulting to 3\n",
      "WARNING:UMI:No shoebox width in gdf, defaulting to -1 (dynamic width))\n",
      "DEBUG:UMI:Fetching BuildingTemplate vector data from RefBldgFullServiceRestaurantPost1980_v1.4_7.2_2A_USA_TX_HOUSTON\n",
      "DEBUG:UMI:Found facade with r_value 3.76 and tmass bin 2\n",
      "DEBUG:UMI:Found slab with r_value 0.08\n",
      "DEBUG:UMI:Found roof with r_value 0.06 and tmass bin 3\n",
      "DEBUG:UMI:Using internal shgc calculation.\n",
      "WARNING:UMI:SHGC over 1, clipping.\n",
      "DEBUG:UMI:Thermal mass roof 3, walls 2.\n",
      "DEBUG:UMI:Fetching BuildingTemplate vector data from RefBldgMediumOfficeNew2004_v1.4_7.2_2A_USA_TX_HOUSTON\n",
      "DEBUG:UMI:Found facade with r_value 2.6 and tmass bin 3\n",
      "DEBUG:UMI:Found slab with r_value 0.28\n",
      "DEBUG:UMI:Found roof with r_value 3.53 and tmass bin 2\n",
      "DEBUG:UMI:Using internal shgc calculation.\n",
      "WARNING:UMI:SHGC over 1, clipping.\n",
      "WARNING:UMI:Economizer type DifferentialDryBulb is not supported. Defaulting to DifferentialEnthalpy\n",
      "DEBUG:UMI:Thermal mass roof 2, walls 3.\n",
      "DEBUG:UMI:Fetching BuildingTemplate vector data from RefBldgMidriseApartmentNew2004_v1.4_7.2_2A_USA_TX_HOUSTON\n",
      "DEBUG:UMI:Found facade with r_value 3.05 and tmass bin 3\n",
      "DEBUG:UMI:Found slab with r_value 0.28\n",
      "DEBUG:UMI:Found roof with r_value 3.53 and tmass bin 2\n",
      "DEBUG:UMI:Using internal shgc calculation.\n",
      "WARNING:UMI:SHGC over 1, clipping.\n",
      "DEBUG:UMI:Thermal mass roof 2, walls 3.\n",
      "DEBUG:UMI:Fetching BuildingTemplate vector data from RefBldgQuickServiceRestaurantPost1980_v1.4_7.2_2A_USA_TX_HOUSTON\n",
      "DEBUG:UMI:Found facade with r_value 3.76 and tmass bin 2\n",
      "DEBUG:UMI:Found slab with r_value 0.08\n",
      "DEBUG:UMI:Found roof with r_value 0.06 and tmass bin 3\n",
      "DEBUG:UMI:Using internal shgc calculation.\n",
      "WARNING:UMI:SHGC over 1, clipping.\n",
      "DEBUG:UMI:Thermal mass roof 3, walls 2.\n",
      "DEBUG:UMI:Fetching BuildingTemplate vector data from RefBldgSecondarySchoolNew2004_v1.4_7.2_2A_USA_TX_HOUSTON\n",
      "DEBUG:UMI:Found facade with r_value 2.6 and tmass bin 3\n",
      "DEBUG:UMI:Found slab with r_value 0.28\n",
      "DEBUG:UMI:Found roof with r_value 3.53 and tmass bin 2\n",
      "DEBUG:UMI:Using internal shgc calculation.\n",
      "WARNING:UMI:SHGC over 1, clipping.\n",
      "DEBUG:UMI:Thermal mass roof 2, walls 3.\n",
      "DEBUG:UMI:Fetching BuildingTemplate vector data from RefBldgStand-aloneRetailPost1980_v1.4_7.2_2A_USA_TX_HOUSTON\n",
      "DEBUG:UMI:Found facade with r_value 3.6 and tmass bin 0\n",
      "DEBUG:UMI:Found slab with r_value 0.08\n",
      "DEBUG:UMI:Found roof with r_value 5.55 and tmass bin 2\n",
      "DEBUG:UMI:Using internal shgc calculation.\n",
      "WARNING:UMI:SHGC over 1, clipping.\n",
      "DEBUG:UMI:Thermal mass roof 2, walls 0.\n",
      "INFO:Radiation Analysis:Beginning sky matrix extraction...\n",
      "INFO:Radiation Analysis:Building Count: 93\n",
      "INFO:Radiation Analysis:Approximate Sensor Count: -18148\n",
      "INFO:Radiation Analysis:QuadTree Depth: 8\n",
      "INFO:Radiation Analysis:Initializing azimuths from provided sky...\n",
      "INFO:Radiation Analysis:Initializing elevations from provided Sky...\n",
      "INFO:Radiation Analysis:Initializing buildings...\n",
      "INFO:Radiation Analysis:Extracting edges...\n",
      "DEBUG:UMI:Built sb df from gis features, 0 NaNs\n",
      "DEBUG:UMI:Assigned sb dimensions in df from gis features, 0 NaNs\n",
      "DEBUG:UMI:Added template features, 0 NaNs\n",
      "DEBUG:UMI:Dropping unnecessary shoeboxes...\n",
      "DEBUG:UMI:Shoeboxes built... 0 NaNs\n",
      "INFO:UMI:Processed UMI in 3.03 seconds\n"
     ]
    },
    {
     "name": "stdout",
     "output_type": "stream",
     "text": [
      "buildigns 93 sbs 1022\n"
     ]
    }
   ],
   "source": [
    "# umi_test = UBEM(\n",
    "#     gdf=gdf,\n",
    "#     **id_cols[\"florianpolis\"],\n",
    "#     epw=epw,\n",
    "#     template_lib=template_lib,\n",
    "#     shoebox_width=-1,\n",
    "#     floor_to_floor_height=4,\n",
    "#     perim_offset=4,\n",
    "#     shoebox_gen_type=\"edge_unshaded\"\n",
    "\n",
    "# )\n",
    "\n",
    "# umi_test = UBEM.open_umi(Path(\"C:/Users/szvsw/Downloads/umi_tester_boston.umi\"), id_col=\"id\", height_col=\"Height\")\n",
    "# umi_test = UBEM.open_umi(Path(\"data\") / \"gis\" / \"seed_ulaanbataar.umi\", id_col=\"id\", height_col=\"Height\")\n",
    "umi_test: UBEM = UBEM.open_umi(Path(\"data\") / \"gis\" / \"seed_ulaanbataar.umi\", id_col=\"id\", height_col=\"Height\", wwr_col=\"WwrN\")\n",
    "umi_test.prepare_epw_features(epw=EPW(\"C:/ProgramData/Solemma/Common/WeatherData/EPW/USA_MA_Boston-Logan.Intl.AP.725090_TMYx.2004-2018.epw\"))\n",
    "features, schedules, climate = umi_test.prepare_for_surrogate()\n",
    "print(\"buildigns\", len(umi_test.gis_features_df), \"sbs\", len(features))"
   ]
  },
  {
   "cell_type": "code",
   "execution_count": 11,
   "metadata": {},
   "outputs": [
    {
     "name": "stderr",
     "output_type": "stream",
     "text": [
      "WARNING:ml.data:Values for perim_depth are outside of the range [1.25, 12]! Provided data min: 1.1570132469171435, max: 2.6066661934500335. Data will be clipped before prediction.\n",
      "WARNING:ml.data:Values for core_depth are outside of the range [1.25, 60]! Provided data min: 0.0, max: 2.8232826260258004. Data will be clipped before prediction.\n",
      "WARNING:ml.data:Values for PeopleDensity are outside of the range [0, 0.5]! Provided data min: 0.0281, max: 0.538. Data will be clipped before prediction.\n",
      "LOCAL_RANK: 0 - CUDA_VISIBLE_DEVICES: [0]\n"
     ]
    },
    {
     "name": "stdout",
     "output_type": "stream",
     "text": [
      "Predicting DataLoader 0: 100%|██████████| 32/32 [00:00<00:00, 37.02it/s]\n"
     ]
    },
    {
     "data": {
      "text/plain": [
       "2018-01-01    41.621742\n",
       "2018-02-01    27.138445\n",
       "2018-03-01    16.912273\n",
       "2018-04-01     1.420256\n",
       "2018-05-01    -0.012537\n",
       "2018-06-01    -0.026825\n",
       "2018-07-01    -0.019193\n",
       "2018-08-01    -0.017363\n",
       "2018-09-01     0.962769\n",
       "2018-10-01     8.580296\n",
       "2018-11-01    28.153044\n",
       "2018-12-01    41.070786\n",
       "dtype: float32"
      ]
     },
     "execution_count": 11,
     "metadata": {},
     "output_type": "execute_result"
    }
   ],
   "source": [
    "\n",
    "features[\"WindowShgc\"] = 0.9\n",
    "features[\"WindowUValue\"] = 1\n",
    "features[\"VentilationMode\"] = 1\n",
    "features[\"EquipmentPowerDensity\"] = 2.5\n",
    "features[\"LightingPowerDensity\"] = 5\n",
    "features[\"RoofRValue\"] = 5\n",
    "features[\"FacadeRValue\"] = 5\n",
    "features[\"FacadeMass\"] = 1\n",
    "features[\"RoofMass\"] = 1\n",
    "features[\"SlabRValue\"] = 0.3\n",
    "features[\"Infiltration\"] = 0.0001\n",
    "features[\"wwr\"] = 0.45\n",
    "features[[col for col in features.columns if \"shading\" not in col]]\n",
    "\n",
    "torch.set_float32_matmul_precision(\"medium\")\n",
    "shoebox_predictions, monthly_predictions, annual_predictions = predict_ubem(\n",
    "        trainer=trainer,\n",
    "        surrogate=surrogate,\n",
    "        features=features,\n",
    "        schedules=schedules,\n",
    "        climate=climate,\n",
    "        batch_size=32,\n",
    "        apply_cops=False\n",
    "    )"
   ]
  }
 ],
 "metadata": {
  "kernelspec": {
   "display_name": "Python 3",
   "language": "python",
   "name": "python3"
  },
  "language_info": {
   "codemirror_mode": {
    "name": "ipython",
    "version": 3
   },
   "file_extension": ".py",
   "mimetype": "text/x-python",
   "name": "python",
   "nbconvert_exporter": "python",
   "pygments_lexer": "ipython3",
   "version": "3.8.17"
  },
  "orig_nbformat": 4
 },
 "nbformat": 4,
 "nbformat_minor": 2
}
