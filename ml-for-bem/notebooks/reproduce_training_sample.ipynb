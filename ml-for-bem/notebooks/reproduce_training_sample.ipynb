{
 "cells": [
  {
   "cell_type": "code",
   "execution_count": 1,
   "metadata": {},
   "outputs": [
    {
     "name": "stderr",
     "output_type": "stream",
     "text": [
      "c:\\tools\\Anaconda3\\envs\\ml-for-bem-final\\lib\\site-packages\\outdated\\utils.py:14: OutdatedPackageWarning: The package energy-pandas is out of date. Your version is 0.3.3, the latest is 0.3.4.\n",
      "Set the environment variable OUTDATED_IGNORE=1 to disable these warnings.\n",
      "  return warn(\n"
     ]
    }
   ],
   "source": [
    "import os\n",
    "\n",
    "import numpy as np\n",
    "from archetypal import settings\n",
    "from pathlib import Path\n",
    "from uuid import uuid4\n",
    "import pandas as pd\n",
    "\n",
    "from utils.constants import EPW_MAP_PATH, EPW_RELATIVE_PATH\n",
    "from shoeboxer.builder import ShoeboxConfiguration, ShoeBox\n",
    "from shoeboxer.schedules import schedules_from_seed\n",
    "\n",
    "# Check if we are running on Windows or Linux using os\n",
    "if os.name == \"nt\":\n",
    "    settings.ep_version == \"22.2.0\"\n",
    "    settings.energyplus_location = Path(\"C:/EnergyPlusV22-2-0\")\n",
    "else:\n",
    "    settings.ep_version == \"22.2.0\"\n",
    "    settings.energyplus_location = Path(\"/usr/local/EnergyPlus-22-2-0\")"
   ]
  },
  {
   "cell_type": "code",
   "execution_count": 3,
   "metadata": {},
   "outputs": [
    {
     "name": "stderr",
     "output_type": "stream",
     "text": [
      "INFO:shoeboxer.geometry_utils:New perimeter depth: 10.082928097754552\n",
      "INFO:shoeboxer.geometry_utils:New core depth: 6.3881313542761795\n",
      "INFO:shoeboxer.geometry_utils:Shifting core origin to perimeter edge; moving 5.082928097754552 m in y axis\n",
      "INFO:shoeboxer.geometry_utils:Updating adiabatic surfaces.\n",
      "INFO:shoeboxer.geometry_utils:Maximum shading point is 156.14790584285944\n",
      "INFO:shoeboxer.geometry_utils:Placing shading around center point [2.3533162 0.       ]\n",
      "INFO:ShoeBox:Building idf for data\\sim_results\\with-vent.epjson\n",
      "INFO:ShoeBox:EnergyPlus Starting\n",
      "INFO:ShoeBox:EnergyPlus, Version 22.2.0-c249759bad, YMD=2023.11.17 16:38\n",
      "INFO:ShoeBox:Converted input file format. Exiting.\n",
      "INFO:ShoeBox:EnergyPlus Run Time=00hr 00min  0.13sec\n",
      "INFO:ShoeBox:Command executed successfully.\n"
     ]
    },
    {
     "name": "stdout",
     "output_type": "stream",
     "text": [
      "Perimeter Heating (33.09, 33.09) 0.0\n",
      "Perimeter Cooling (3.27, 3.27) 0.0\n",
      "Core Heating (14.87, 14.87) 0.0\n",
      "Core Cooling (11.69, 11.69) 0.0\n"
     ]
    }
   ],
   "source": [
    "\n",
    "\"\"\"Load Training Source Data\"\"\"\n",
    "data = pd.read_hdf(\"data/lightning/full_climate_zone/v7/train/monthly.hdf\", key=\"batch_results\")\n",
    "epw_df = pd.read_csv(EPW_MAP_PATH)\n",
    "\n",
    "\"\"\"\n",
    "Pick Sample to Reproduce\n",
    "\"\"\"\n",
    "reproduce_ix = 25\n",
    "features = data.index.to_frame(index=False).iloc[reproduce_ix].to_dict()\n",
    "original_sim_results = data.iloc[reproduce_ix]\n",
    "\n",
    "\"\"\"\n",
    "Make Schedules\n",
    "\"\"\"\n",
    "scheds = schedules_from_seed(\n",
    "    features[\"schedules_seed\"]\n",
    ")\n",
    "\n",
    "\"\"\"\n",
    "Fetch EPW Path\n",
    "\"\"\"\n",
    "epw_slug = epw_df.iloc[features[\"base_epw\"]][\"slug\"]\n",
    "epw_path =EPW_RELATIVE_PATH +\"/\"+ epw_slug\n",
    "\n",
    "\"\"\"\n",
    "Copy Features Over\n",
    "\"\"\"\n",
    "sb_config = ShoeboxConfiguration()\n",
    "sb_config.width = features[\"width\"]\n",
    "sb_config.height = features[\"height\"]\n",
    "sb_config.adiabatic_partition_flag = 0\n",
    "sb_config.perim_depth = features[\"perim_depth\"]\n",
    "sb_config.core_depth = features[\"core_depth\"]\n",
    "sb_config.wwr = features[\"wwr\"]\n",
    "sb_config.roof_2_footprint = features[\"roof_2_footprint\"]\n",
    "sb_config.ground_2_footprint = features[\"ground_2_footprint\"]\n",
    "sb_config.shading_vect = np.array([features[f\"shading_{i}\"] for i in range(12)])\n",
    "sb_config.orientation = features[\"orientation\"]\n",
    "template_dict = features.copy()\n",
    "template_dict[\"schedules\"] = scheds\n",
    "sb = ShoeBox(\n",
    "    name=\"with-vent\",\n",
    "    epw=epw_path,\n",
    "    shoebox_config=sb_config,\n",
    "    template_dict=template_dict,\n",
    "    output_directory=\"data/sim_results/\"\n",
    ")\n",
    "\n",
    "\"\"\"\n",
    "Simulate\n",
    "\"\"\"\n",
    "idf = sb.idf(run_simulation=False)\n",
    "\n",
    "hourly_df, monthly_df = sb.simulate(idf=idf)\n",
    "df = sb.postprocess(monthly_df)\n",
    "for zone in [\"Perimeter\", \"Core\"]:\n",
    "    for end_use in [\"Heating\", \"Cooling\"]:\n",
    "        val = round(original_sim_results[zone][end_use].sum(),2), round(df[zone][end_use].sum(),2)\n",
    "        print(zone, end_use, val, round(val[0] - val[1],2))"
   ]
  }
 ],
 "metadata": {
  "kernelspec": {
   "display_name": "Python 3",
   "language": "python",
   "name": "python3"
  },
  "language_info": {
   "codemirror_mode": {
    "name": "ipython",
    "version": 3
   },
   "file_extension": ".py",
   "mimetype": "text/x-python",
   "name": "python",
   "nbconvert_exporter": "python",
   "pygments_lexer": "ipython3",
   "version": "3.8.17"
  },
  "orig_nbformat": 4
 },
 "nbformat": 4,
 "nbformat_minor": 2
}
