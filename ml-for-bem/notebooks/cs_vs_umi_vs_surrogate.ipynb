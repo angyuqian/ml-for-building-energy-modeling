{
 "cells": [
  {
   "attachments": {},
   "cell_type": "markdown",
   "metadata": {},
   "source": [
    "# Comparison of Florianopolis Geometry\n",
    "Multiple climate zones, comparison of CS 5-zone, umi and surrogate"
   ]
  },
  {
   "cell_type": "code",
   "execution_count": 1,
   "metadata": {},
   "outputs": [
    {
     "name": "stderr",
     "output_type": "stream",
     "text": [
      "c:\\Users\\zoelh\\AppData\\Local\\anaconda3\\envs\\ml-for-bem\\lib\\site-packages\\outdated\\utils.py:14: OutdatedPackageWarning: The package energy-pandas is out of date. Your version is 0.3.3, the latest is 0.3.4.\n",
      "Set the environment variable OUTDATED_IGNORE=1 to disable these warnings.\n",
      "  return warn(\n"
     ]
    },
    {
     "name": "stdout",
     "output_type": "stream",
     "text": [
      "[Taichi] version 1.6.0, llvm 15.0.1, commit f1c6fbbd, win, python 3.8.16\n",
      "[Taichi] Starting on arch=cuda\n"
     ]
    }
   ],
   "source": [
    "# import plotly\n",
    "import plotly.express as px\n",
    "import pandas as pd\n",
    "import numpy as np\n",
    "import os\n",
    "from pathlib import Path\n",
    "from geomeppy.patches import EpBunch\n",
    "from utils.schedules import get_schedules\n",
    "from utils.constants import *\n",
    "import json\n",
    "from archetypal import IDF, BuildingTemplate\n",
    "from archetypal.umi_template import UmiTemplateLibrary\n",
    "from umi.ubem import init_template\n",
    "\n",
    "ref_buildings_path = \"D:/Users/zoelh/Dropbox (MIT)/Thesis Work/Building Energy References/ReferenceBuildings\"\n",
    "results_dir = \"D:/Users/zoelh/Dropbox (MIT)/Thesis Work/Florianopolis/CS Sensitivity\""
   ]
  },
  {
   "cell_type": "code",
   "execution_count": 2,
   "metadata": {},
   "outputs": [
    {
     "data": {
      "text/plain": [
       "8760"
      ]
     },
     "execution_count": 2,
     "metadata": {},
     "output_type": "execute_result"
    }
   ],
   "source": [
    "month_map = {\n",
    "    \"january\": 744,\n",
    "    \"february\": 672,\n",
    "    \"march\": 744,\n",
    "    \"april\": 720,\n",
    "    \"may\": 744,\n",
    "    \"june\": 720,\n",
    "    \"july\": 744,\n",
    "    \"august\": 744,\n",
    "    \"september\": 720,\n",
    "    \"october\": 744,\n",
    "    \"november\": 720,\n",
    "    \"december\": 744,\n",
    "}\n",
    "sum(list(month_map.values()))"
   ]
  },
  {
   "attachments": {},
   "cell_type": "markdown",
   "metadata": {},
   "source": [
    "## Umi results"
   ]
  },
  {
   "cell_type": "code",
   "execution_count": 24,
   "metadata": {},
   "outputs": [],
   "source": [
    "# Import umi results for 4A (boston)\n",
    "dfs = []\n",
    "for load in [\"heating\", \"cooling\"]:\n",
    "    df = pd.read_csv(Path(results_dir, f\"UMI_florianopolis_test_bos_{load}.csv\"))\n",
    "    df[\"load\"] = load\n",
    "    dfs.append(df)\n",
    "umi_df = pd.concat(dfs)"
   ]
  },
  {
   "cell_type": "code",
   "execution_count": 25,
   "metadata": {},
   "outputs": [],
   "source": [
    "umi_df[\"annual\"] = umi_df[[str(x) for x in range(1, 8761)]].sum(axis=1)"
   ]
  },
  {
   "cell_type": "code",
   "execution_count": 26,
   "metadata": {},
   "outputs": [
    {
     "data": {
      "text/html": [
       "<div>\n",
       "<style scoped>\n",
       "    .dataframe tbody tr th:only-of-type {\n",
       "        vertical-align: middle;\n",
       "    }\n",
       "\n",
       "    .dataframe tbody tr th {\n",
       "        vertical-align: top;\n",
       "    }\n",
       "\n",
       "    .dataframe thead th {\n",
       "        text-align: right;\n",
       "    }\n",
       "</style>\n",
       "<table border=\"1\" class=\"dataframe\">\n",
       "  <thead>\n",
       "    <tr style=\"text-align: right;\">\n",
       "      <th></th>\n",
       "      <th>Building Id</th>\n",
       "      <th>Building Name</th>\n",
       "      <th>Metric</th>\n",
       "      <th>Units</th>\n",
       "      <th>Resolution</th>\n",
       "      <th>1</th>\n",
       "      <th>2</th>\n",
       "      <th>3</th>\n",
       "      <th>4</th>\n",
       "      <th>5</th>\n",
       "      <th>...</th>\n",
       "      <th>8753</th>\n",
       "      <th>8754</th>\n",
       "      <th>8755</th>\n",
       "      <th>8756</th>\n",
       "      <th>8757</th>\n",
       "      <th>8758</th>\n",
       "      <th>8759</th>\n",
       "      <th>8760</th>\n",
       "      <th>load</th>\n",
       "      <th>annual</th>\n",
       "    </tr>\n",
       "  </thead>\n",
       "  <tbody>\n",
       "    <tr>\n",
       "      <th>0</th>\n",
       "      <td>03b1d5a3-ebbf-4560-a399-b81bc391f9f7</td>\n",
       "      <td>03b1d5a3-ebbf-4560-a399-b81bc391f9f7</td>\n",
       "      <td>SDL/Heating</td>\n",
       "      <td>kWh</td>\n",
       "      <td>Hourly</td>\n",
       "      <td>0</td>\n",
       "      <td>0</td>\n",
       "      <td>0</td>\n",
       "      <td>0</td>\n",
       "      <td>0</td>\n",
       "      <td>...</td>\n",
       "      <td>0</td>\n",
       "      <td>0</td>\n",
       "      <td>0</td>\n",
       "      <td>0</td>\n",
       "      <td>0</td>\n",
       "      <td>0</td>\n",
       "      <td>0</td>\n",
       "      <td>0</td>\n",
       "      <td>heating</td>\n",
       "      <td>8803.872406</td>\n",
       "    </tr>\n",
       "    <tr>\n",
       "      <th>1</th>\n",
       "      <td>06e706f2-dcac-4c99-a4da-0afbdba2aa9a</td>\n",
       "      <td>06e706f2-dcac-4c99-a4da-0afbdba2aa9a</td>\n",
       "      <td>SDL/Heating</td>\n",
       "      <td>kWh</td>\n",
       "      <td>Hourly</td>\n",
       "      <td>0</td>\n",
       "      <td>0</td>\n",
       "      <td>0</td>\n",
       "      <td>0</td>\n",
       "      <td>0</td>\n",
       "      <td>...</td>\n",
       "      <td>0</td>\n",
       "      <td>0</td>\n",
       "      <td>0</td>\n",
       "      <td>0</td>\n",
       "      <td>0</td>\n",
       "      <td>0</td>\n",
       "      <td>0</td>\n",
       "      <td>0</td>\n",
       "      <td>heating</td>\n",
       "      <td>32649.884940</td>\n",
       "    </tr>\n",
       "    <tr>\n",
       "      <th>2</th>\n",
       "      <td>0b48b5a6-e91b-4fc9-aeaf-5805a420a8e1</td>\n",
       "      <td>0b48b5a6-e91b-4fc9-aeaf-5805a420a8e1</td>\n",
       "      <td>SDL/Heating</td>\n",
       "      <td>kWh</td>\n",
       "      <td>Hourly</td>\n",
       "      <td>0</td>\n",
       "      <td>0</td>\n",
       "      <td>0</td>\n",
       "      <td>0</td>\n",
       "      <td>0</td>\n",
       "      <td>...</td>\n",
       "      <td>0</td>\n",
       "      <td>0</td>\n",
       "      <td>0</td>\n",
       "      <td>0</td>\n",
       "      <td>0</td>\n",
       "      <td>0</td>\n",
       "      <td>0</td>\n",
       "      <td>0</td>\n",
       "      <td>heating</td>\n",
       "      <td>2338.561208</td>\n",
       "    </tr>\n",
       "    <tr>\n",
       "      <th>3</th>\n",
       "      <td>0dabd728-d95f-40d5-8836-eba55eba02c2</td>\n",
       "      <td>0dabd728-d95f-40d5-8836-eba55eba02c2</td>\n",
       "      <td>SDL/Heating</td>\n",
       "      <td>kWh</td>\n",
       "      <td>Hourly</td>\n",
       "      <td>0</td>\n",
       "      <td>0</td>\n",
       "      <td>0</td>\n",
       "      <td>0</td>\n",
       "      <td>0</td>\n",
       "      <td>...</td>\n",
       "      <td>0</td>\n",
       "      <td>0</td>\n",
       "      <td>0</td>\n",
       "      <td>0</td>\n",
       "      <td>0</td>\n",
       "      <td>0</td>\n",
       "      <td>0</td>\n",
       "      <td>0</td>\n",
       "      <td>heating</td>\n",
       "      <td>2219.940068</td>\n",
       "    </tr>\n",
       "    <tr>\n",
       "      <th>4</th>\n",
       "      <td>0e188b41-61da-4d8d-aaf3-be4502ac3cb7</td>\n",
       "      <td>0e188b41-61da-4d8d-aaf3-be4502ac3cb7</td>\n",
       "      <td>SDL/Heating</td>\n",
       "      <td>kWh</td>\n",
       "      <td>Hourly</td>\n",
       "      <td>0</td>\n",
       "      <td>0</td>\n",
       "      <td>0</td>\n",
       "      <td>0</td>\n",
       "      <td>0</td>\n",
       "      <td>...</td>\n",
       "      <td>0</td>\n",
       "      <td>0</td>\n",
       "      <td>0</td>\n",
       "      <td>0</td>\n",
       "      <td>0</td>\n",
       "      <td>0</td>\n",
       "      <td>0</td>\n",
       "      <td>0</td>\n",
       "      <td>heating</td>\n",
       "      <td>4282.442673</td>\n",
       "    </tr>\n",
       "  </tbody>\n",
       "</table>\n",
       "<p>5 rows × 8767 columns</p>\n",
       "</div>"
      ],
      "text/plain": [
       "                            Building Id                         Building Name  \\\n",
       "0  03b1d5a3-ebbf-4560-a399-b81bc391f9f7  03b1d5a3-ebbf-4560-a399-b81bc391f9f7   \n",
       "1  06e706f2-dcac-4c99-a4da-0afbdba2aa9a  06e706f2-dcac-4c99-a4da-0afbdba2aa9a   \n",
       "2  0b48b5a6-e91b-4fc9-aeaf-5805a420a8e1  0b48b5a6-e91b-4fc9-aeaf-5805a420a8e1   \n",
       "3  0dabd728-d95f-40d5-8836-eba55eba02c2  0dabd728-d95f-40d5-8836-eba55eba02c2   \n",
       "4  0e188b41-61da-4d8d-aaf3-be4502ac3cb7  0e188b41-61da-4d8d-aaf3-be4502ac3cb7   \n",
       "\n",
       "        Metric Units Resolution  1  2  3  4  5  ...  8753  8754  8755  8756  \\\n",
       "0  SDL/Heating   kWh     Hourly  0  0  0  0  0  ...     0     0     0     0   \n",
       "1  SDL/Heating   kWh     Hourly  0  0  0  0  0  ...     0     0     0     0   \n",
       "2  SDL/Heating   kWh     Hourly  0  0  0  0  0  ...     0     0     0     0   \n",
       "3  SDL/Heating   kWh     Hourly  0  0  0  0  0  ...     0     0     0     0   \n",
       "4  SDL/Heating   kWh     Hourly  0  0  0  0  0  ...     0     0     0     0   \n",
       "\n",
       "   8757  8758  8759  8760     load        annual  \n",
       "0     0     0     0     0  heating   8803.872406  \n",
       "1     0     0     0     0  heating  32649.884940  \n",
       "2     0     0     0     0  heating   2338.561208  \n",
       "3     0     0     0     0  heating   2219.940068  \n",
       "4     0     0     0     0  heating   4282.442673  \n",
       "\n",
       "[5 rows x 8767 columns]"
      ]
     },
     "execution_count": 26,
     "metadata": {},
     "output_type": "execute_result"
    }
   ],
   "source": [
    "umi_df.head()"
   ]
  },
  {
   "cell_type": "code",
   "execution_count": 113,
   "metadata": {},
   "outputs": [],
   "source": [
    "def get_monthly(df):\n",
    "    h = df.copy()\n",
    "    h.set_index([\"Building Id\", \"load\"], inplace=True)\n",
    "    nums = h[[str(x) for x in range(1, 8761)]]\n",
    "    nums.columns = nums.columns.astype(\"int\")\n",
    "    c = 0\n",
    "    print(nums.shape)\n",
    "    for month, hours in month_map.items():\n",
    "        h[month] = nums.iloc[:, c : c + hours].sum(axis=1)\n",
    "        c += hours\n",
    "    return h[list(month_map.keys())]"
   ]
  },
  {
   "cell_type": "code",
   "execution_count": 87,
   "metadata": {},
   "outputs": [
    {
     "data": {
      "application/vnd.plotly.v1+json": {
       "config": {
        "plotlyServerURL": "https://plot.ly"
       },
       "data": [
        {
         "alignmentgroup": "True",
         "hovertemplate": "variable=cooling<br>index=%{x}<br>value=%{y}<extra></extra>",
         "legendgroup": "cooling",
         "marker": {
          "color": "#636efa",
          "pattern": {
           "shape": ""
          }
         },
         "name": "cooling",
         "offsetgroup": "cooling",
         "orientation": "v",
         "showlegend": true,
         "textposition": "auto",
         "type": "bar",
         "x": [
          "january",
          "february",
          "march",
          "april",
          "may",
          "june",
          "july",
          "august",
          "september",
          "october",
          "november",
          "december"
         ],
         "xaxis": "x",
         "y": [
          0,
          0,
          0,
          0,
          0,
          44544.76056773761,
          152554.48444065484,
          209717.34729301077,
          133379.55528989492,
          59926.9187683569,
          39907.547209391654,
          24438.31322683806
         ],
         "yaxis": "y"
        },
        {
         "alignmentgroup": "True",
         "hovertemplate": "variable=heating<br>index=%{x}<br>value=%{y}<extra></extra>",
         "legendgroup": "heating",
         "marker": {
          "color": "#EF553B",
          "pattern": {
           "shape": ""
          }
         },
         "name": "heating",
         "offsetgroup": "heating",
         "orientation": "v",
         "showlegend": true,
         "textposition": "auto",
         "type": "bar",
         "x": [
          "january",
          "february",
          "march",
          "april",
          "may",
          "june",
          "july",
          "august",
          "september",
          "october",
          "november",
          "december"
         ],
         "xaxis": "x",
         "y": [
          72766.59454767479,
          318879.0511457513,
          207852.83364363498,
          32974.40966987641,
          0,
          0,
          0,
          0,
          0,
          0,
          0,
          0
         ],
         "yaxis": "y"
        }
       ],
       "layout": {
        "barmode": "relative",
        "legend": {
         "title": {
          "text": "variable"
         },
         "tracegroupgap": 0
        },
        "template": {
         "data": {
          "bar": [
           {
            "error_x": {
             "color": "#2a3f5f"
            },
            "error_y": {
             "color": "#2a3f5f"
            },
            "marker": {
             "line": {
              "color": "#E5ECF6",
              "width": 0.5
             },
             "pattern": {
              "fillmode": "overlay",
              "size": 10,
              "solidity": 0.2
             }
            },
            "type": "bar"
           }
          ],
          "barpolar": [
           {
            "marker": {
             "line": {
              "color": "#E5ECF6",
              "width": 0.5
             },
             "pattern": {
              "fillmode": "overlay",
              "size": 10,
              "solidity": 0.2
             }
            },
            "type": "barpolar"
           }
          ],
          "carpet": [
           {
            "aaxis": {
             "endlinecolor": "#2a3f5f",
             "gridcolor": "white",
             "linecolor": "white",
             "minorgridcolor": "white",
             "startlinecolor": "#2a3f5f"
            },
            "baxis": {
             "endlinecolor": "#2a3f5f",
             "gridcolor": "white",
             "linecolor": "white",
             "minorgridcolor": "white",
             "startlinecolor": "#2a3f5f"
            },
            "type": "carpet"
           }
          ],
          "choropleth": [
           {
            "colorbar": {
             "outlinewidth": 0,
             "ticks": ""
            },
            "type": "choropleth"
           }
          ],
          "contour": [
           {
            "colorbar": {
             "outlinewidth": 0,
             "ticks": ""
            },
            "colorscale": [
             [
              0,
              "#0d0887"
             ],
             [
              0.1111111111111111,
              "#46039f"
             ],
             [
              0.2222222222222222,
              "#7201a8"
             ],
             [
              0.3333333333333333,
              "#9c179e"
             ],
             [
              0.4444444444444444,
              "#bd3786"
             ],
             [
              0.5555555555555556,
              "#d8576b"
             ],
             [
              0.6666666666666666,
              "#ed7953"
             ],
             [
              0.7777777777777778,
              "#fb9f3a"
             ],
             [
              0.8888888888888888,
              "#fdca26"
             ],
             [
              1,
              "#f0f921"
             ]
            ],
            "type": "contour"
           }
          ],
          "contourcarpet": [
           {
            "colorbar": {
             "outlinewidth": 0,
             "ticks": ""
            },
            "type": "contourcarpet"
           }
          ],
          "heatmap": [
           {
            "colorbar": {
             "outlinewidth": 0,
             "ticks": ""
            },
            "colorscale": [
             [
              0,
              "#0d0887"
             ],
             [
              0.1111111111111111,
              "#46039f"
             ],
             [
              0.2222222222222222,
              "#7201a8"
             ],
             [
              0.3333333333333333,
              "#9c179e"
             ],
             [
              0.4444444444444444,
              "#bd3786"
             ],
             [
              0.5555555555555556,
              "#d8576b"
             ],
             [
              0.6666666666666666,
              "#ed7953"
             ],
             [
              0.7777777777777778,
              "#fb9f3a"
             ],
             [
              0.8888888888888888,
              "#fdca26"
             ],
             [
              1,
              "#f0f921"
             ]
            ],
            "type": "heatmap"
           }
          ],
          "heatmapgl": [
           {
            "colorbar": {
             "outlinewidth": 0,
             "ticks": ""
            },
            "colorscale": [
             [
              0,
              "#0d0887"
             ],
             [
              0.1111111111111111,
              "#46039f"
             ],
             [
              0.2222222222222222,
              "#7201a8"
             ],
             [
              0.3333333333333333,
              "#9c179e"
             ],
             [
              0.4444444444444444,
              "#bd3786"
             ],
             [
              0.5555555555555556,
              "#d8576b"
             ],
             [
              0.6666666666666666,
              "#ed7953"
             ],
             [
              0.7777777777777778,
              "#fb9f3a"
             ],
             [
              0.8888888888888888,
              "#fdca26"
             ],
             [
              1,
              "#f0f921"
             ]
            ],
            "type": "heatmapgl"
           }
          ],
          "histogram": [
           {
            "marker": {
             "pattern": {
              "fillmode": "overlay",
              "size": 10,
              "solidity": 0.2
             }
            },
            "type": "histogram"
           }
          ],
          "histogram2d": [
           {
            "colorbar": {
             "outlinewidth": 0,
             "ticks": ""
            },
            "colorscale": [
             [
              0,
              "#0d0887"
             ],
             [
              0.1111111111111111,
              "#46039f"
             ],
             [
              0.2222222222222222,
              "#7201a8"
             ],
             [
              0.3333333333333333,
              "#9c179e"
             ],
             [
              0.4444444444444444,
              "#bd3786"
             ],
             [
              0.5555555555555556,
              "#d8576b"
             ],
             [
              0.6666666666666666,
              "#ed7953"
             ],
             [
              0.7777777777777778,
              "#fb9f3a"
             ],
             [
              0.8888888888888888,
              "#fdca26"
             ],
             [
              1,
              "#f0f921"
             ]
            ],
            "type": "histogram2d"
           }
          ],
          "histogram2dcontour": [
           {
            "colorbar": {
             "outlinewidth": 0,
             "ticks": ""
            },
            "colorscale": [
             [
              0,
              "#0d0887"
             ],
             [
              0.1111111111111111,
              "#46039f"
             ],
             [
              0.2222222222222222,
              "#7201a8"
             ],
             [
              0.3333333333333333,
              "#9c179e"
             ],
             [
              0.4444444444444444,
              "#bd3786"
             ],
             [
              0.5555555555555556,
              "#d8576b"
             ],
             [
              0.6666666666666666,
              "#ed7953"
             ],
             [
              0.7777777777777778,
              "#fb9f3a"
             ],
             [
              0.8888888888888888,
              "#fdca26"
             ],
             [
              1,
              "#f0f921"
             ]
            ],
            "type": "histogram2dcontour"
           }
          ],
          "mesh3d": [
           {
            "colorbar": {
             "outlinewidth": 0,
             "ticks": ""
            },
            "type": "mesh3d"
           }
          ],
          "parcoords": [
           {
            "line": {
             "colorbar": {
              "outlinewidth": 0,
              "ticks": ""
             }
            },
            "type": "parcoords"
           }
          ],
          "pie": [
           {
            "automargin": true,
            "type": "pie"
           }
          ],
          "scatter": [
           {
            "fillpattern": {
             "fillmode": "overlay",
             "size": 10,
             "solidity": 0.2
            },
            "type": "scatter"
           }
          ],
          "scatter3d": [
           {
            "line": {
             "colorbar": {
              "outlinewidth": 0,
              "ticks": ""
             }
            },
            "marker": {
             "colorbar": {
              "outlinewidth": 0,
              "ticks": ""
             }
            },
            "type": "scatter3d"
           }
          ],
          "scattercarpet": [
           {
            "marker": {
             "colorbar": {
              "outlinewidth": 0,
              "ticks": ""
             }
            },
            "type": "scattercarpet"
           }
          ],
          "scattergeo": [
           {
            "marker": {
             "colorbar": {
              "outlinewidth": 0,
              "ticks": ""
             }
            },
            "type": "scattergeo"
           }
          ],
          "scattergl": [
           {
            "marker": {
             "colorbar": {
              "outlinewidth": 0,
              "ticks": ""
             }
            },
            "type": "scattergl"
           }
          ],
          "scattermapbox": [
           {
            "marker": {
             "colorbar": {
              "outlinewidth": 0,
              "ticks": ""
             }
            },
            "type": "scattermapbox"
           }
          ],
          "scatterpolar": [
           {
            "marker": {
             "colorbar": {
              "outlinewidth": 0,
              "ticks": ""
             }
            },
            "type": "scatterpolar"
           }
          ],
          "scatterpolargl": [
           {
            "marker": {
             "colorbar": {
              "outlinewidth": 0,
              "ticks": ""
             }
            },
            "type": "scatterpolargl"
           }
          ],
          "scatterternary": [
           {
            "marker": {
             "colorbar": {
              "outlinewidth": 0,
              "ticks": ""
             }
            },
            "type": "scatterternary"
           }
          ],
          "surface": [
           {
            "colorbar": {
             "outlinewidth": 0,
             "ticks": ""
            },
            "colorscale": [
             [
              0,
              "#0d0887"
             ],
             [
              0.1111111111111111,
              "#46039f"
             ],
             [
              0.2222222222222222,
              "#7201a8"
             ],
             [
              0.3333333333333333,
              "#9c179e"
             ],
             [
              0.4444444444444444,
              "#bd3786"
             ],
             [
              0.5555555555555556,
              "#d8576b"
             ],
             [
              0.6666666666666666,
              "#ed7953"
             ],
             [
              0.7777777777777778,
              "#fb9f3a"
             ],
             [
              0.8888888888888888,
              "#fdca26"
             ],
             [
              1,
              "#f0f921"
             ]
            ],
            "type": "surface"
           }
          ],
          "table": [
           {
            "cells": {
             "fill": {
              "color": "#EBF0F8"
             },
             "line": {
              "color": "white"
             }
            },
            "header": {
             "fill": {
              "color": "#C8D4E3"
             },
             "line": {
              "color": "white"
             }
            },
            "type": "table"
           }
          ]
         },
         "layout": {
          "annotationdefaults": {
           "arrowcolor": "#2a3f5f",
           "arrowhead": 0,
           "arrowwidth": 1
          },
          "autotypenumbers": "strict",
          "coloraxis": {
           "colorbar": {
            "outlinewidth": 0,
            "ticks": ""
           }
          },
          "colorscale": {
           "diverging": [
            [
             0,
             "#8e0152"
            ],
            [
             0.1,
             "#c51b7d"
            ],
            [
             0.2,
             "#de77ae"
            ],
            [
             0.3,
             "#f1b6da"
            ],
            [
             0.4,
             "#fde0ef"
            ],
            [
             0.5,
             "#f7f7f7"
            ],
            [
             0.6,
             "#e6f5d0"
            ],
            [
             0.7,
             "#b8e186"
            ],
            [
             0.8,
             "#7fbc41"
            ],
            [
             0.9,
             "#4d9221"
            ],
            [
             1,
             "#276419"
            ]
           ],
           "sequential": [
            [
             0,
             "#0d0887"
            ],
            [
             0.1111111111111111,
             "#46039f"
            ],
            [
             0.2222222222222222,
             "#7201a8"
            ],
            [
             0.3333333333333333,
             "#9c179e"
            ],
            [
             0.4444444444444444,
             "#bd3786"
            ],
            [
             0.5555555555555556,
             "#d8576b"
            ],
            [
             0.6666666666666666,
             "#ed7953"
            ],
            [
             0.7777777777777778,
             "#fb9f3a"
            ],
            [
             0.8888888888888888,
             "#fdca26"
            ],
            [
             1,
             "#f0f921"
            ]
           ],
           "sequentialminus": [
            [
             0,
             "#0d0887"
            ],
            [
             0.1111111111111111,
             "#46039f"
            ],
            [
             0.2222222222222222,
             "#7201a8"
            ],
            [
             0.3333333333333333,
             "#9c179e"
            ],
            [
             0.4444444444444444,
             "#bd3786"
            ],
            [
             0.5555555555555556,
             "#d8576b"
            ],
            [
             0.6666666666666666,
             "#ed7953"
            ],
            [
             0.7777777777777778,
             "#fb9f3a"
            ],
            [
             0.8888888888888888,
             "#fdca26"
            ],
            [
             1,
             "#f0f921"
            ]
           ]
          },
          "colorway": [
           "#636efa",
           "#EF553B",
           "#00cc96",
           "#ab63fa",
           "#FFA15A",
           "#19d3f3",
           "#FF6692",
           "#B6E880",
           "#FF97FF",
           "#FECB52"
          ],
          "font": {
           "color": "#2a3f5f"
          },
          "geo": {
           "bgcolor": "white",
           "lakecolor": "white",
           "landcolor": "#E5ECF6",
           "showlakes": true,
           "showland": true,
           "subunitcolor": "white"
          },
          "hoverlabel": {
           "align": "left"
          },
          "hovermode": "closest",
          "mapbox": {
           "style": "light"
          },
          "paper_bgcolor": "white",
          "plot_bgcolor": "#E5ECF6",
          "polar": {
           "angularaxis": {
            "gridcolor": "white",
            "linecolor": "white",
            "ticks": ""
           },
           "bgcolor": "#E5ECF6",
           "radialaxis": {
            "gridcolor": "white",
            "linecolor": "white",
            "ticks": ""
           }
          },
          "scene": {
           "xaxis": {
            "backgroundcolor": "#E5ECF6",
            "gridcolor": "white",
            "gridwidth": 2,
            "linecolor": "white",
            "showbackground": true,
            "ticks": "",
            "zerolinecolor": "white"
           },
           "yaxis": {
            "backgroundcolor": "#E5ECF6",
            "gridcolor": "white",
            "gridwidth": 2,
            "linecolor": "white",
            "showbackground": true,
            "ticks": "",
            "zerolinecolor": "white"
           },
           "zaxis": {
            "backgroundcolor": "#E5ECF6",
            "gridcolor": "white",
            "gridwidth": 2,
            "linecolor": "white",
            "showbackground": true,
            "ticks": "",
            "zerolinecolor": "white"
           }
          },
          "shapedefaults": {
           "line": {
            "color": "#2a3f5f"
           }
          },
          "ternary": {
           "aaxis": {
            "gridcolor": "white",
            "linecolor": "white",
            "ticks": ""
           },
           "baxis": {
            "gridcolor": "white",
            "linecolor": "white",
            "ticks": ""
           },
           "bgcolor": "#E5ECF6",
           "caxis": {
            "gridcolor": "white",
            "linecolor": "white",
            "ticks": ""
           }
          },
          "title": {
           "x": 0.05
          },
          "xaxis": {
           "automargin": true,
           "gridcolor": "white",
           "linecolor": "white",
           "ticks": "",
           "title": {
            "standoff": 15
           },
           "zerolinecolor": "white",
           "zerolinewidth": 2
          },
          "yaxis": {
           "automargin": true,
           "gridcolor": "white",
           "linecolor": "white",
           "ticks": "",
           "title": {
            "standoff": 15
           },
           "zerolinecolor": "white",
           "zerolinewidth": 2
          }
         }
        },
        "title": {
         "text": "Long-Form Input"
        },
        "xaxis": {
         "anchor": "y",
         "domain": [
          0,
          1
         ],
         "title": {
          "text": "index"
         }
        },
        "yaxis": {
         "anchor": "x",
         "domain": [
          0,
          1
         ],
         "title": {
          "text": "value"
         }
        }
       }
      }
     },
     "metadata": {},
     "output_type": "display_data"
    }
   ],
   "source": [
    "umi_all_monthly = get_monthly(umi_df).groupby(\"load\").sum()\n",
    "px.bar(umi_all_monthly.T, x=umi_all_monthly.T.index, y=[\"cooling\", \"heating\"], title=\"Long-Form Input\")"
   ]
  },
  {
   "attachments": {},
   "cell_type": "markdown",
   "metadata": {},
   "source": [
    "## CS Results (with shading)"
   ]
  },
  {
   "cell_type": "code",
   "execution_count": 166,
   "metadata": {},
   "outputs": [],
   "source": [
    "# CS with shading\n",
    "with open(Path(results_dir, \"results-out-boston.json\"), \"r\") as f:\n",
    "    CS_results = json.load(f)\n",
    "CS_results = pd.DataFrame.from_dict(CS_results)"
   ]
  },
  {
   "cell_type": "code",
   "execution_count": 98,
   "metadata": {},
   "outputs": [
    {
     "data": {
      "text/html": [
       "<div>\n",
       "<style scoped>\n",
       "    .dataframe tbody tr th:only-of-type {\n",
       "        vertical-align: middle;\n",
       "    }\n",
       "\n",
       "    .dataframe tbody tr th {\n",
       "        vertical-align: top;\n",
       "    }\n",
       "\n",
       "    .dataframe thead tr th {\n",
       "        text-align: left;\n",
       "    }\n",
       "</style>\n",
       "<table border=\"1\" class=\"dataframe\">\n",
       "  <thead>\n",
       "    <tr>\n",
       "      <th></th>\n",
       "      <th colspan=\"10\" halign=\"left\">heating</th>\n",
       "      <th>...</th>\n",
       "      <th colspan=\"10\" halign=\"left\">cooling</th>\n",
       "    </tr>\n",
       "    <tr>\n",
       "      <th></th>\n",
       "      <th>january</th>\n",
       "      <th>february</th>\n",
       "      <th>march</th>\n",
       "      <th>april</th>\n",
       "      <th>may</th>\n",
       "      <th>june</th>\n",
       "      <th>july</th>\n",
       "      <th>august</th>\n",
       "      <th>september</th>\n",
       "      <th>october</th>\n",
       "      <th>...</th>\n",
       "      <th>march</th>\n",
       "      <th>april</th>\n",
       "      <th>may</th>\n",
       "      <th>june</th>\n",
       "      <th>july</th>\n",
       "      <th>august</th>\n",
       "      <th>september</th>\n",
       "      <th>october</th>\n",
       "      <th>november</th>\n",
       "      <th>december</th>\n",
       "    </tr>\n",
       "  </thead>\n",
       "  <tbody>\n",
       "    <tr>\n",
       "      <th>0</th>\n",
       "      <td>32.090668</td>\n",
       "      <td>23.893605</td>\n",
       "      <td>19.669354</td>\n",
       "      <td>7.891526</td>\n",
       "      <td>2.921961</td>\n",
       "      <td>0.908931</td>\n",
       "      <td>0.088472</td>\n",
       "      <td>0.157210</td>\n",
       "      <td>1.140951</td>\n",
       "      <td>6.404070</td>\n",
       "      <td>...</td>\n",
       "      <td>1.549111</td>\n",
       "      <td>2.451621</td>\n",
       "      <td>4.482587</td>\n",
       "      <td>7.004161</td>\n",
       "      <td>8.785800</td>\n",
       "      <td>8.721167</td>\n",
       "      <td>5.314509</td>\n",
       "      <td>2.887471</td>\n",
       "      <td>2.171425</td>\n",
       "      <td>0.919858</td>\n",
       "    </tr>\n",
       "    <tr>\n",
       "      <th>1</th>\n",
       "      <td>44.966179</td>\n",
       "      <td>32.842645</td>\n",
       "      <td>26.579238</td>\n",
       "      <td>9.268430</td>\n",
       "      <td>2.754648</td>\n",
       "      <td>0.662748</td>\n",
       "      <td>0.015629</td>\n",
       "      <td>0.020090</td>\n",
       "      <td>0.775616</td>\n",
       "      <td>7.235908</td>\n",
       "      <td>...</td>\n",
       "      <td>1.861321</td>\n",
       "      <td>3.382152</td>\n",
       "      <td>6.571529</td>\n",
       "      <td>10.671434</td>\n",
       "      <td>13.702258</td>\n",
       "      <td>13.562467</td>\n",
       "      <td>8.023152</td>\n",
       "      <td>4.000234</td>\n",
       "      <td>2.710544</td>\n",
       "      <td>0.984728</td>\n",
       "    </tr>\n",
       "    <tr>\n",
       "      <th>2</th>\n",
       "      <td>44.320260</td>\n",
       "      <td>32.257416</td>\n",
       "      <td>25.943443</td>\n",
       "      <td>8.540037</td>\n",
       "      <td>2.273449</td>\n",
       "      <td>0.520068</td>\n",
       "      <td>0.008804</td>\n",
       "      <td>0.010966</td>\n",
       "      <td>0.582833</td>\n",
       "      <td>6.500505</td>\n",
       "      <td>...</td>\n",
       "      <td>1.704264</td>\n",
       "      <td>3.234011</td>\n",
       "      <td>6.448061</td>\n",
       "      <td>10.685268</td>\n",
       "      <td>13.892239</td>\n",
       "      <td>13.765921</td>\n",
       "      <td>8.119133</td>\n",
       "      <td>3.964886</td>\n",
       "      <td>2.628734</td>\n",
       "      <td>0.896105</td>\n",
       "    </tr>\n",
       "    <tr>\n",
       "      <th>3</th>\n",
       "      <td>73.664598</td>\n",
       "      <td>55.341310</td>\n",
       "      <td>46.160150</td>\n",
       "      <td>17.701076</td>\n",
       "      <td>5.917686</td>\n",
       "      <td>1.467348</td>\n",
       "      <td>0.058449</td>\n",
       "      <td>0.056138</td>\n",
       "      <td>1.625255</td>\n",
       "      <td>13.780964</td>\n",
       "      <td>...</td>\n",
       "      <td>1.901292</td>\n",
       "      <td>3.317164</td>\n",
       "      <td>6.807507</td>\n",
       "      <td>12.046817</td>\n",
       "      <td>15.937187</td>\n",
       "      <td>15.599665</td>\n",
       "      <td>8.903555</td>\n",
       "      <td>4.150727</td>\n",
       "      <td>2.901337</td>\n",
       "      <td>1.043165</td>\n",
       "    </tr>\n",
       "    <tr>\n",
       "      <th>4</th>\n",
       "      <td>15.747004</td>\n",
       "      <td>11.174053</td>\n",
       "      <td>7.954368</td>\n",
       "      <td>1.724187</td>\n",
       "      <td>0.129764</td>\n",
       "      <td>0.028062</td>\n",
       "      <td>0.000015</td>\n",
       "      <td>0.000006</td>\n",
       "      <td>0.014929</td>\n",
       "      <td>0.866680</td>\n",
       "      <td>...</td>\n",
       "      <td>0.418849</td>\n",
       "      <td>1.156582</td>\n",
       "      <td>2.681583</td>\n",
       "      <td>4.799353</td>\n",
       "      <td>6.448598</td>\n",
       "      <td>6.358716</td>\n",
       "      <td>3.840722</td>\n",
       "      <td>1.618487</td>\n",
       "      <td>0.815659</td>\n",
       "      <td>0.221070</td>\n",
       "    </tr>\n",
       "  </tbody>\n",
       "</table>\n",
       "<p>5 rows × 24 columns</p>\n",
       "</div>"
      ],
      "text/plain": [
       "     heating                                                                 \\\n",
       "     january   february      march      april       may      june      july   \n",
       "0  32.090668  23.893605  19.669354   7.891526  2.921961  0.908931  0.088472   \n",
       "1  44.966179  32.842645  26.579238   9.268430  2.754648  0.662748  0.015629   \n",
       "2  44.320260  32.257416  25.943443   8.540037  2.273449  0.520068  0.008804   \n",
       "3  73.664598  55.341310  46.160150  17.701076  5.917686  1.467348  0.058449   \n",
       "4  15.747004  11.174053   7.954368   1.724187  0.129764  0.028062  0.000015   \n",
       "\n",
       "                                  ...   cooling                      \\\n",
       "     august september    october  ...     march     april       may   \n",
       "0  0.157210  1.140951   6.404070  ...  1.549111  2.451621  4.482587   \n",
       "1  0.020090  0.775616   7.235908  ...  1.861321  3.382152  6.571529   \n",
       "2  0.010966  0.582833   6.500505  ...  1.704264  3.234011  6.448061   \n",
       "3  0.056138  1.625255  13.780964  ...  1.901292  3.317164  6.807507   \n",
       "4  0.000006  0.014929   0.866680  ...  0.418849  1.156582  2.681583   \n",
       "\n",
       "                                                                            \n",
       "        june       july     august september   october  november  december  \n",
       "0   7.004161   8.785800   8.721167  5.314509  2.887471  2.171425  0.919858  \n",
       "1  10.671434  13.702258  13.562467  8.023152  4.000234  2.710544  0.984728  \n",
       "2  10.685268  13.892239  13.765921  8.119133  3.964886  2.628734  0.896105  \n",
       "3  12.046817  15.937187  15.599665  8.903555  4.150727  2.901337  1.043165  \n",
       "4   4.799353   6.448598   6.358716  3.840722  1.618487  0.815659  0.221070  \n",
       "\n",
       "[5 rows x 24 columns]"
      ]
     },
     "execution_count": 98,
     "metadata": {},
     "output_type": "execute_result"
    }
   ],
   "source": [
    "# CS individual buildings\n",
    "CS_building_results = {}\n",
    "for i in range(93):\n",
    "    with open(Path(results_dir) / f\"SingleBuildings_bostonresults-out-{i}.json\", \"r\") as f:\n",
    "        r = json.load(f)\n",
    "        res_dict = {}\n",
    "        for l in [\"heating\", \"cooling\"]:\n",
    "            res_dict.update({(l, k): r for k, r in zip(month_map.keys(), r[l])})\n",
    "        CS_building_results[i] = res_dict\n",
    "CS_building_results = pd.DataFrame.from_dict(CS_building_results).T\n",
    "CS_building_results.head()"
   ]
  },
  {
   "attachments": {},
   "cell_type": "markdown",
   "metadata": {},
   "source": [
    "## Model results"
   ]
  },
  {
   "cell_type": "code",
   "execution_count": 149,
   "metadata": {},
   "outputs": [],
   "source": [
    "COP_COOLING = 3.32337\n",
    "COP_HEATING = 0.75"
   ]
  },
  {
   "cell_type": "code",
   "execution_count": 100,
   "metadata": {},
   "outputs": [
    {
     "name": "stderr",
     "output_type": "stream",
     "text": [
      "WARNING:archetypal:Modeling layer thinner (less) than 0.003 m (not recommended) for MaterialLayer '1950435530208:Metal Decking with thickness of 0.002 m'\n",
      "WARNING:archetypal:Modeling layer thinner (less) than 0.003 m (not recommended) for MaterialLayer '1950435530208:Metal Decking with thickness of 0.002 m'\n",
      "WARNING:archetypal:Modeling layer thinner (less) than 0.003 m (not recommended) for MaterialLayer '1950337513648:Metal Siding with thickness of 0.002 m'\n",
      "WARNING:archetypal:Modeling layer thinner (less) than 0.003 m (not recommended) for MaterialLayer '1950435530208:Metal Decking with thickness of 0.002 m'\n",
      "WARNING:archetypal:Modeling layer thinner (less) than 0.003 m (not recommended) for MaterialLayer '1950334453312:Semi-Cond Fixed Assembly Window with thickness of 0.002 m'\n"
     ]
    }
   ],
   "source": [
    "import geopandas as gpd\n",
    "from ladybug.epw import EPW\n",
    "\n",
    "gdf = gpd.read_file(\n",
    "    Path(\"D:/Users/zoelh/Dropbox (MIT)/Thesis Work/Florianopolis\")\n",
    "    / \"Florianopolis_Baseline.zip\"\n",
    ")\n",
    "\n",
    "# dict to store key fields for known gis files\n",
    "id_cols = {\n",
    "    \"florianpolis\": {\n",
    "        \"height_col\": \"HEIGHT\",\n",
    "        \"id_col\": \"OBJECTID\",\n",
    "        \"template_name_col\": \"template_name\",\n",
    "        \"wwr_col\": \"wwr\",\n",
    "    }\n",
    "}\n",
    "\n",
    "# epw_fp = (\n",
    "#     Path(\n",
    "#         \"D:/Users/zoelh/Dropbox (MIT)/Thesis Work/Building Energy References/ReferenceBuildings\"\n",
    "#     )\n",
    "#     / \"USA_FL-MIAMI.722020_TMY2-12839.epw\"\n",
    "# )\n",
    "epw_fp = (\"C:/ProgramData/Solemma/Common/WeatherData/EPW/USA_MA_Boston-Logan.Intl.AP.725090_TMYx.2004-2018.epw\")\n",
    "\n",
    "\n",
    "epw = EPW(epw_fp)\n",
    "template_lib = UmiTemplateLibrary.open(\n",
    "    Path(\n",
    "        \"D:/Users/zoelh/Dropbox (MIT)/Thesis Work/Building Energy References/ArchetypalReferences\"\n",
    "    )\n",
    "    / \"DefaultTemplateLibrary_1A.json\"\n",
    ")\n",
    "\n",
    "# Insert dummy template names\n",
    "gdf[id_cols[\"florianpolis\"][\"template_name_col\"]] = np.random.choice(\n",
    "    [t.Name for t in template_lib.BuildingTemplates], size=gdf.shape[0]\n",
    ")\n",
    "# insert dummy wwrs\n",
    "gdf[id_cols[\"florianpolis\"][\"wwr_col\"]] = 0.4"
   ]
  },
  {
   "cell_type": "code",
   "execution_count": 101,
   "metadata": {},
   "outputs": [
    {
     "name": "stderr",
     "output_type": "stream",
     "text": [
      "DEBUG:UMI:INITIAL GEOMETRY CHECK: 0 NaNs, 0 open polygons\n",
      "DEBUG:UMI:Fetching BuildingTemplate vector data from RefBldgFullServiceRestaurantNew2004_v1.4_7.2_1A_USA_FL_MIAMI\n",
      "DEBUG:UMI:Found facade with r_value 2.6 and tmass bin 3\n",
      "DEBUG:UMI:Found slab with r_value 0.08\n",
      "DEBUG:UMI:Found roof with r_value 0.06 and tmass bin 3\n",
      "DEBUG:UMI:Using internal shgc calculation.\n",
      "WARNING:UMI:SHGC over 1, clipping.\n",
      "DEBUG:UMI:Thermal mass roof 3, walls 3.\n",
      "DEBUG:UMI:Fetching BuildingTemplate vector data from RefBldgHospitalNew2004_v1.4_7.2_1A_USA_FL_MIAMI\n",
      "DEBUG:UMI:Found facade with r_value 3.44 and tmass bin 2\n",
      "DEBUG:UMI:Found slab with r_value 0.08\n",
      "DEBUG:UMI:Found roof with r_value 3.53 and tmass bin 2\n",
      "DEBUG:UMI:Using internal shgc calculation.\n",
      "WARNING:UMI:SHGC over 1, clipping.\n",
      "DEBUG:UMI:Thermal mass roof 2, walls 2.\n",
      "DEBUG:UMI:Fetching BuildingTemplate vector data from RefBldgLargeHotelNew2004_v1.4_7.2_1A_USA_FL_MIAMI\n",
      "DEBUG:UMI:Found facade with r_value 2.18 and tmass bin 2\n",
      "DEBUG:UMI:Found slab with r_value 0.28\n",
      "DEBUG:UMI:Found roof with r_value 3.53 and tmass bin 2\n",
      "DEBUG:UMI:Using internal shgc calculation.\n",
      "WARNING:UMI:SHGC over 1, clipping.\n",
      "DEBUG:UMI:Thermal mass roof 2, walls 2.\n",
      "DEBUG:UMI:Fetching BuildingTemplate vector data from RefBldgLargeOfficeNew2004_v1.4_7.2_1A_USA_FL_MIAMI\n",
      "DEBUG:UMI:Found facade with r_value 3.44 and tmass bin 2\n",
      "DEBUG:UMI:Found slab with r_value 0.28\n",
      "DEBUG:UMI:Found roof with r_value 3.53 and tmass bin 2\n",
      "DEBUG:UMI:Using internal shgc calculation.\n",
      "WARNING:UMI:SHGC over 1, clipping.\n",
      "WARNING:UMI:Economizer type DifferentialDryBulb is not supported. Defaulting to DifferentialEnthalpy\n",
      "DEBUG:UMI:Thermal mass roof 2, walls 2.\n",
      "DEBUG:UMI:Fetching BuildingTemplate vector data from RefBldgMediumOfficeNew2004_v1.4_7.2_1A_USA_FL_MIAMI\n",
      "DEBUG:UMI:Found facade with r_value 2.6 and tmass bin 3\n",
      "DEBUG:UMI:Found slab with r_value 0.28\n",
      "DEBUG:UMI:Found roof with r_value 3.53 and tmass bin 2\n",
      "DEBUG:UMI:Using internal shgc calculation.\n",
      "WARNING:UMI:SHGC over 1, clipping.\n",
      "WARNING:UMI:Economizer type DifferentialDryBulb is not supported. Defaulting to DifferentialEnthalpy\n",
      "DEBUG:UMI:Thermal mass roof 2, walls 3.\n",
      "DEBUG:UMI:Fetching BuildingTemplate vector data from RefBldgMidriseApartmentNew2004_v1.4_7.2_1A_USA_FL_MIAMI\n",
      "DEBUG:UMI:Found facade with r_value 3.05 and tmass bin 3\n",
      "DEBUG:UMI:Found slab with r_value 0.28\n",
      "DEBUG:UMI:Found roof with r_value 3.53 and tmass bin 2\n",
      "DEBUG:UMI:Using internal shgc calculation.\n",
      "WARNING:UMI:SHGC over 1, clipping.\n",
      "DEBUG:UMI:Thermal mass roof 2, walls 3.\n",
      "DEBUG:UMI:Fetching BuildingTemplate vector data from RefBldgOutPatientNew2004_v1.4_7.2_1A_USA_FL_MIAMI\n",
      "DEBUG:UMI:Found facade with r_value 2.6 and tmass bin 3\n",
      "DEBUG:UMI:Found slab with r_value 0.36\n",
      "DEBUG:UMI:Found roof with r_value 3.53 and tmass bin 2\n",
      "DEBUG:UMI:Using internal shgc calculation.\n",
      "WARNING:UMI:SHGC over 1, clipping.\n",
      "DEBUG:UMI:Thermal mass roof 2, walls 3.\n",
      "DEBUG:UMI:Fetching BuildingTemplate vector data from RefBldgPrimarySchoolNew2004_v1.4_7.2_1A_USA_FL_MIAMI\n",
      "DEBUG:UMI:Found facade with r_value 2.6 and tmass bin 3\n",
      "DEBUG:UMI:Found slab with r_value 0.28\n",
      "DEBUG:UMI:Found roof with r_value 3.53 and tmass bin 2\n",
      "DEBUG:UMI:Using internal shgc calculation.\n",
      "WARNING:UMI:SHGC over 1, clipping.\n",
      "DEBUG:UMI:Thermal mass roof 2, walls 3.\n",
      "DEBUG:UMI:Fetching BuildingTemplate vector data from RefBldgQuickServiceRestaurantNew2004_v1.4_7.2_1A_USA_FL_MIAMI\n",
      "DEBUG:UMI:Found facade with r_value 3.32 and tmass bin 3\n",
      "DEBUG:UMI:Found slab with r_value 0.08\n",
      "DEBUG:UMI:Found roof with r_value 0.06 and tmass bin 3\n",
      "DEBUG:UMI:Using internal shgc calculation.\n",
      "WARNING:UMI:SHGC over 1, clipping.\n",
      "DEBUG:UMI:Thermal mass roof 3, walls 3.\n",
      "DEBUG:UMI:Fetching BuildingTemplate vector data from RefBldgSecondarySchoolNew2004_v1.4_7.2_1A_USA_FL_MIAMI\n",
      "DEBUG:UMI:Found facade with r_value 2.6 and tmass bin 3\n",
      "DEBUG:UMI:Found slab with r_value 0.28\n",
      "DEBUG:UMI:Found roof with r_value 3.53 and tmass bin 2\n",
      "DEBUG:UMI:Using internal shgc calculation.\n",
      "WARNING:UMI:SHGC over 1, clipping.\n",
      "DEBUG:UMI:Thermal mass roof 2, walls 3.\n",
      "DEBUG:UMI:Fetching BuildingTemplate vector data from RefBldgSmallHotelNew2004_v1.4_7.2_1A_USA_FL_MIAMI\n",
      "DEBUG:UMI:Found facade with r_value 3.05 and tmass bin 3\n",
      "DEBUG:UMI:Found slab with r_value 0.28\n",
      "DEBUG:UMI:Found roof with r_value 3.53 and tmass bin 2\n",
      "DEBUG:UMI:Using internal shgc calculation.\n",
      "WARNING:UMI:SHGC over 1, clipping.\n",
      "DEBUG:UMI:Thermal mass roof 2, walls 3.\n",
      "DEBUG:UMI:Fetching BuildingTemplate vector data from RefBldgSmallOfficeNew2004_v1.4_7.2_1A_USA_FL_MIAMI\n",
      "DEBUG:UMI:Found facade with r_value 2.05 and tmass bin 1\n",
      "DEBUG:UMI:Found slab with r_value 6.35\n",
      "DEBUG:UMI:Found roof with r_value 0.06 and tmass bin 3\n",
      "DEBUG:UMI:Using internal shgc calculation.\n",
      "WARNING:UMI:SHGC over 1, clipping.\n",
      "DEBUG:UMI:Thermal mass roof 3, walls 1.\n",
      "DEBUG:UMI:Fetching BuildingTemplate vector data from RefBldgStand-aloneRetailNew2004_v1.4_7.2_1A_USA_FL_MIAMI\n",
      "DEBUG:UMI:Found facade with r_value 2.05 and tmass bin 1\n",
      "DEBUG:UMI:Found slab with r_value 0.08\n",
      "DEBUG:UMI:Found roof with r_value 3.53 and tmass bin 2\n",
      "DEBUG:UMI:Using internal shgc calculation.\n",
      "WARNING:UMI:SHGC over 1, clipping.\n",
      "DEBUG:UMI:Thermal mass roof 2, walls 1.\n",
      "DEBUG:UMI:Fetching BuildingTemplate vector data from RefBldgStripMallNew2004_v1.4_7.2_1A_USA_FL_MIAMI\n",
      "DEBUG:UMI:Found facade with r_value 2.6 and tmass bin 3\n",
      "DEBUG:UMI:Found slab with r_value 0.08\n",
      "DEBUG:UMI:Found roof with r_value 3.53 and tmass bin 2\n",
      "DEBUG:UMI:Using internal shgc calculation.\n",
      "WARNING:UMI:SHGC over 1, clipping.\n",
      "DEBUG:UMI:Thermal mass roof 2, walls 3.\n",
      "DEBUG:UMI:Fetching BuildingTemplate vector data from RefBldgSuperMarketNew2004_v1.4_7.2_1A_USA_FL_MIAMI\n",
      "DEBUG:UMI:Found facade with r_value 1.89 and tmass bin 2\n",
      "DEBUG:UMI:Found slab with r_value 0.08\n",
      "DEBUG:UMI:Found roof with r_value 3.53 and tmass bin 2\n",
      "DEBUG:UMI:Using internal shgc calculation.\n",
      "WARNING:UMI:SHGC over 1, clipping.\n",
      "DEBUG:UMI:Thermal mass roof 2, walls 2.\n",
      "DEBUG:UMI:Fetching BuildingTemplate vector data from RefBldgWarehouseNew2004_v1.4_7.2_1A_USA_FL_MIAMI\n",
      "DEBUG:UMI:Found facade with r_value 1.22 and tmass bin 3\n",
      "DEBUG:UMI:Found slab with r_value 0.15\n",
      "DEBUG:UMI:Found roof with r_value 2.31 and tmass bin 3\n",
      "DEBUG:UMI:Using internal shgc calculation.\n",
      "WARNING:UMI:SHGC over 1, clipping.\n",
      "DEBUG:UMI:Thermal mass roof 3, walls 3.\n",
      "DEBUG:UMI:GEOMETRY REPORT\n",
      "DEBUG:UMI:GEOMETRY, CRS: 0 NaNs, 0 open polygons\n",
      "WARNING:UMI:Duplicate ids in building gdf! Overwriting with new ids.\n",
      "DEBUG:UMI:CORES, CRS: 0 NaNs, 41 open polygons\n",
      "DEBUG:UMI:AREA: 0 NaNs, 0 infs\n",
      "DEBUG:UMI:CORE_AREAS: 0 NaNs, 0 infs\n",
      "INFO:Radiation Analysis:Beginning sky matrix extraction...\n",
      "INFO:Radiation Analysis:Building Count: 93\n",
      "INFO:Radiation Analysis:Approximate Sensor Count: 6049\n",
      "INFO:Radiation Analysis:QuadTree Depth: 8\n",
      "INFO:Radiation Analysis:Initializing azimuths from provided sky...\n",
      "INFO:Radiation Analysis:Initializing elevations from provided Sky...\n",
      "INFO:Radiation Analysis:Initializing buildings...\n",
      "INFO:Radiation Analysis:Extracting edges...\n",
      "DEBUG:UMI:Built sb df from gis features, 0 NaNs\n",
      "DEBUG:UMI:Assigned sb dimensions in df from gis features, 0 NaNs\n",
      "DEBUG:UMI:Added template features, 0 NaNs\n",
      "DEBUG:UMI:Dropping unnecessary shoeboxes...\n",
      "DEBUG:UMI:Shoeboxes built... 0 NaNs\n",
      "INFO:UMI:Processed UMI in 6.60 seconds\n"
     ]
    }
   ],
   "source": [
    "from umi.ubem import UBEM\n",
    "\n",
    "ubem = UBEM(\n",
    "    gdf=gdf,\n",
    "    epw=epw,\n",
    "    **id_cols[\"florianpolis\"],\n",
    "    template_lib=template_lib,\n",
    "    sensor_spacing=3,\n",
    "    shoebox_width=3,\n",
    "    floor_to_floor_height=3,\n",
    "    perim_offset=3,\n",
    "    shoebox_gen_type=\"edge_unshaded\",\n",
    ")"
   ]
  },
  {
   "cell_type": "code",
   "execution_count": 102,
   "metadata": {},
   "outputs": [
    {
     "name": "stdout",
     "output_type": "stream",
     "text": [
      "buildings 93 sbs 1022\n"
     ]
    }
   ],
   "source": [
    "# ubem.prepare_epw_features(epw=EPW(\"C:/ProgramData/Solemma/Common/WeatherData/EPW/USA_MA_Boston-Logan.Intl.AP.725090_TMYx.2004-2018.epw\"))\n",
    "features, schedules, climate = ubem.prepare_for_surrogate()\n",
    "print(\"buildings\", len(ubem.gis_features_df), \"sbs\", len(features))"
   ]
  },
  {
   "cell_type": "code",
   "execution_count": 103,
   "metadata": {},
   "outputs": [
    {
     "name": "stdout",
     "output_type": "stream",
     "text": [
      "Couldn't import dot_parser, loading of dot files will not be possible.\n"
     ]
    },
    {
     "name": "stderr",
     "output_type": "stream",
     "text": [
      "c:\\Users\\zoelh\\AppData\\Local\\anaconda3\\envs\\ml-for-bem\\lib\\site-packages\\lightning\\pytorch\\utilities\\parsing.py:198: Attribute 'target_transform' is an instance of `nn.Module` and is already saved during checkpointing. It is recommended to ignore them using `self.save_hyperparameters(ignore=['target_transform'])`.\n",
      "c:\\Users\\zoelh\\AppData\\Local\\anaconda3\\envs\\ml-for-bem\\lib\\site-packages\\lightning\\pytorch\\utilities\\parsing.py:198: Attribute 'weather_transform' is an instance of `nn.Module` and is already saved during checkpointing. It is recommended to ignore them using `self.save_hyperparameters(ignore=['weather_transform'])`.\n",
      "INFO: GPU available: True (cuda), used: True\n",
      "INFO:lightning.pytorch.utilities.rank_zero:GPU available: True (cuda), used: True\n",
      "INFO: TPU available: False, using: 0 TPU cores\n",
      "INFO:lightning.pytorch.utilities.rank_zero:TPU available: False, using: 0 TPU cores\n",
      "INFO: IPU available: False, using: 0 IPUs\n",
      "INFO:lightning.pytorch.utilities.rank_zero:IPU available: False, using: 0 IPUs\n",
      "INFO: HPU available: False, using: 0 HPUs\n",
      "INFO:lightning.pytorch.utilities.rank_zero:HPU available: False, using: 0 HPUs\n"
     ]
    }
   ],
   "source": [
    "from ml.surrogate import Surrogate\n",
    "from ml.predict import predict_ubem\n",
    "from lightning.pytorch import Trainer\n",
    "import torch\n",
    "\n",
    "bucket = \"ml-for-bem\"\n",
    "remote_experiment = \"full_climate_zone/v7\"\n",
    "local_data_dir = \"data/lightning\"\n",
    "\n",
    "registry = \"ml-for-building-energy-modeling/model-registry\"\n",
    "model = \"Global UBEM Shoebox Surrogate with Combined TS Embedder\"\n",
    "tag = \"v3\"\n",
    "resource = \"model.ckpt\"\n",
    "\n",
    "surrogate = Surrogate.load_from_registry(registry, model, tag, resource)\n",
    "surrogate.model.eval()\n",
    "\n",
    "trainer = Trainer(\n",
    "    accelerator=\"auto\",\n",
    "    devices=\"auto\",\n",
    "    strategy=\"auto\",\n",
    "    enable_progress_bar=True,\n",
    ")"
   ]
  },
  {
   "cell_type": "code",
   "execution_count": 104,
   "metadata": {},
   "outputs": [
    {
     "name": "stderr",
     "output_type": "stream",
     "text": [
      "WARNING:ml.data:Values for perim_depth are outside of the range [1.25, 12]! Provided data min: 1.157013247206702, max: 2.606666193404431. Data will be clipped before prediction.\n",
      "WARNING:ml.data:Values for core_depth are outside of the range [1.25, 60]! Provided data min: 0.0, max: 2.8232826262831487. Data will be clipped before prediction.\n",
      "WARNING:ml.data:Values for HeatingSetpoint are outside of the range [14, 24]! Provided data min: 10.3, max: 21.0. Data will be clipped before prediction.\n",
      "WARNING:ml.data:Values for EquipmentPowerDensity are outside of the range [0, 60]! Provided data min: 2.83, max: 864.0. Data will be clipped before prediction.\n",
      "WARNING:ml.data:Values for PeopleDensity are outside of the range [0, 0.5]! Provided data min: 0.0211, max: 0.538. Data will be clipped before prediction.\n",
      "WARNING:ml.data:Values for Infiltration are outside of the range [0.0, 0.001]! Provided data min: 0.0951, max: 0.947. Data will be clipped before prediction.\n",
      "WARNING:ml.data:Values for RoofRValue are outside of the range [0.3, 18]! Provided data min: 0.06254443457009554, max: 3.5319321896721365. Data will be clipped before prediction.\n",
      "WARNING:ml.data:Values for SlabRValue are outside of the range [0.3, 15]! Provided data min: 0.07780320366132723, max: 6.346173469387755. Data will be clipped before prediction.\n",
      "WARNING:ml.data:Values for WindowUValue are outside of the range [0.3, 7.0]! Provided data min: 4.8, max: 200.0. Data will be clipped before prediction.\n",
      "WARNING:ml.data:Values for WindowShgc are outside of the range [0.05, 0.99]! Provided data min: 1.0, max: 1.0. Data will be clipped before prediction.\n",
      "INFO: LOCAL_RANK: 0 - CUDA_VISIBLE_DEVICES: [0]\n",
      "INFO:lightning.pytorch.accelerators.cuda:LOCAL_RANK: 0 - CUDA_VISIBLE_DEVICES: [0]\n",
      "c:\\Users\\zoelh\\AppData\\Local\\anaconda3\\envs\\ml-for-bem\\lib\\site-packages\\lightning\\pytorch\\trainer\\connectors\\data_connector.py:441: The 'predict_dataloader' does not have many workers which may be a bottleneck. Consider increasing the value of the `num_workers` argument` to `num_workers=15` in the `DataLoader` to improve performance.\n"
     ]
    },
    {
     "name": "stdout",
     "output_type": "stream",
     "text": [
      "Predicting DataLoader 0:   6%|▋         | 2/32 [00:00<00:06,  4.76it/s]"
     ]
    },
    {
     "name": "stderr",
     "output_type": "stream",
     "text": [
      "c:\\Users\\zoelh\\AppData\\Local\\anaconda3\\envs\\ml-for-bem\\lib\\site-packages\\torch\\nn\\modules\\conv.py:306: UserWarning:\n",
      "\n",
      "Using padding='same' with even kernel lengths and odd dilation may require a zero-padded copy of the input be created (Triggered internally at C:\\actions-runner\\_work\\pytorch\\pytorch\\builder\\windows\\pytorch\\aten\\src\\ATen\\native\\Convolution.cpp:1009.)\n",
      "\n"
     ]
    },
    {
     "name": "stdout",
     "output_type": "stream",
     "text": [
      "Predicting DataLoader 0: 100%|██████████| 32/32 [00:02<00:00, 15.37it/s]\n"
     ]
    }
   ],
   "source": [
    "torch.set_float32_matmul_precision(\"medium\")\n",
    "shoebox_predictions, monthly_predictions, annual_predictions = predict_ubem(\n",
    "    trainer=trainer,\n",
    "    surrogate=surrogate,\n",
    "    features=features,\n",
    "    schedules=schedules,\n",
    "    climate=climate,\n",
    "    batch_size=32,\n",
    "    apply_cops=False,\n",
    ")"
   ]
  },
  {
   "cell_type": "code",
   "execution_count": 105,
   "metadata": {},
   "outputs": [
    {
     "data": {
      "text/html": [
       "<div>\n",
       "<style scoped>\n",
       "    .dataframe tbody tr th:only-of-type {\n",
       "        vertical-align: middle;\n",
       "    }\n",
       "\n",
       "    .dataframe tbody tr th {\n",
       "        vertical-align: top;\n",
       "    }\n",
       "\n",
       "    .dataframe thead th {\n",
       "        text-align: right;\n",
       "    }\n",
       "</style>\n",
       "<table border=\"1\" class=\"dataframe\">\n",
       "  <thead>\n",
       "    <tr style=\"text-align: right;\">\n",
       "      <th>Name</th>\n",
       "      <th>Cooling</th>\n",
       "      <th>Heating</th>\n",
       "    </tr>\n",
       "  </thead>\n",
       "  <tbody>\n",
       "    <tr>\n",
       "      <th>count</th>\n",
       "      <td>93.000000</td>\n",
       "      <td>93.000000</td>\n",
       "    </tr>\n",
       "    <tr>\n",
       "      <th>mean</th>\n",
       "      <td>160.484887</td>\n",
       "      <td>161.439446</td>\n",
       "    </tr>\n",
       "    <tr>\n",
       "      <th>std</th>\n",
       "      <td>56.036485</td>\n",
       "      <td>88.971107</td>\n",
       "    </tr>\n",
       "    <tr>\n",
       "      <th>min</th>\n",
       "      <td>55.313561</td>\n",
       "      <td>40.286324</td>\n",
       "    </tr>\n",
       "    <tr>\n",
       "      <th>25%</th>\n",
       "      <td>123.569832</td>\n",
       "      <td>90.665610</td>\n",
       "    </tr>\n",
       "    <tr>\n",
       "      <th>50%</th>\n",
       "      <td>159.319997</td>\n",
       "      <td>144.489333</td>\n",
       "    </tr>\n",
       "    <tr>\n",
       "      <th>75%</th>\n",
       "      <td>198.060692</td>\n",
       "      <td>217.129912</td>\n",
       "    </tr>\n",
       "    <tr>\n",
       "      <th>max</th>\n",
       "      <td>274.791931</td>\n",
       "      <td>479.999588</td>\n",
       "    </tr>\n",
       "  </tbody>\n",
       "</table>\n",
       "</div>"
      ],
      "text/plain": [
       "Name      Cooling     Heating\n",
       "count   93.000000   93.000000\n",
       "mean   160.484887  161.439446\n",
       "std     56.036485   88.971107\n",
       "min     55.313561   40.286324\n",
       "25%    123.569832   90.665610\n",
       "50%    159.319997  144.489333\n",
       "75%    198.060692  217.129912\n",
       "max    274.791931  479.999588"
      ]
     },
     "execution_count": 105,
     "metadata": {},
     "output_type": "execute_result"
    }
   ],
   "source": [
    "annual_predictions.describe()"
   ]
  },
  {
   "attachments": {},
   "cell_type": "markdown",
   "metadata": {},
   "source": [
    "## Compare"
   ]
  },
  {
   "cell_type": "code",
   "execution_count": 108,
   "metadata": {},
   "outputs": [],
   "source": [
    "tfa = ubem.gis_features_df.bldg_footprint_area * ubem.gis_features_df.floor_count"
   ]
  },
  {
   "cell_type": "code",
   "execution_count": 110,
   "metadata": {},
   "outputs": [
    {
     "data": {
      "application/vnd.plotly.v1+json": {
       "config": {
        "plotlyServerURL": "https://plot.ly"
       },
       "data": [
        {
         "alignmentgroup": "True",
         "hovertemplate": "variable=wide_variable_0<br>x=%{x}<br>value=%{y}<extra></extra>",
         "legendgroup": "wide_variable_0",
         "marker": {
          "color": "#636efa",
          "pattern": {
           "shape": ""
          }
         },
         "name": "wide_variable_0",
         "offsetgroup": "wide_variable_0",
         "orientation": "v",
         "showlegend": true,
         "textposition": "auto",
         "type": "bar",
         "x": [
          0,
          1,
          2,
          3,
          4,
          5,
          6,
          7,
          8,
          9,
          10,
          11,
          12,
          13,
          14,
          15,
          16,
          17,
          18,
          19,
          20,
          21,
          22,
          23,
          24,
          25,
          26,
          27,
          28,
          29,
          30,
          31,
          32,
          33,
          34,
          35,
          36,
          37,
          38,
          39,
          40,
          41,
          42,
          43,
          44,
          45,
          46,
          47,
          48,
          49,
          50,
          51,
          52,
          53,
          54,
          55,
          56,
          57,
          58,
          59,
          60,
          61,
          62,
          63,
          64,
          65,
          66,
          67,
          68,
          69,
          70,
          71,
          72,
          73,
          74,
          75,
          76,
          77,
          78,
          79,
          80,
          81,
          82,
          83,
          84,
          85,
          86,
          87,
          88,
          89,
          90,
          91,
          92
         ],
         "xaxis": "x",
         "y": [
          47.168415365762236,
          38.599378251637205,
          53.297794540345826,
          79.28027092417283,
          31.19349217269398,
          49.17450071951873,
          19.857189567092103,
          47.93928962382598,
          60.412484458396406,
          77.57610055700698,
          43.058883626307804,
          70.44254302544091,
          48.64034643538942,
          41.950916145307495,
          16.687764173710534,
          67.6775584916905,
          40.352847627093745,
          51.35829543613145,
          53.643191306845374,
          52.09892685937447,
          49.49172079951675,
          35.97204537368204,
          43.36996875970161,
          34.665090534549634,
          47.837969448963094,
          61.696349118826376,
          25.462997723903847,
          31.48366026310093,
          69.13827891613927,
          74.86954899396885,
          81.44672541725701,
          59.159513918364325,
          51.622967659322974,
          24.46664851956752,
          16.643816744270133,
          54.355782591951105,
          25.071788020622986,
          46.992922525504696,
          72.73697006707465,
          37.778697813833574,
          24.16534687574987,
          36.59183490896299,
          22.353405778811176,
          37.27941728509739,
          37.1820867092476,
          20.117018565037984,
          42.16519009636318,
          44.156700358365136,
          82.68472395093539,
          50.5062519367797,
          78.40057234981667,
          28.01562983790004,
          29.26765309225628,
          64.54725185161843,
          19.183851879436453,
          67.67472432223754,
          53.88478850650557,
          46.27117073434328,
          22.40891101610049,
          73.40551472198264,
          43.21649225434811,
          29.31212789441359,
          63.406203476750655,
          56.18755403701331,
          42.02669706121021,
          52.86703633286755,
          36.0091203230531,
          38.767265511203,
          43.043150616156396,
          64.68492311321549,
          58.45668160407297,
          27.739903417391744,
          40.60644835976407,
          39.02232394097473,
          75.82723291723293,
          50.62380556381973,
          59.59634101337283,
          69.12143231325538,
          53.234877929457774,
          49.89203387595998,
          36.449058758838774,
          60.239727295671145,
          49.54531542673215,
          51.52983805426774,
          44.44744260834988,
          56.84590656108209,
          25.229686547074174,
          74.0983844147055,
          43.95161510309643,
          42.67635371860194,
          79.34552391391951,
          64.06394821876358,
          53.951661386041856
         ],
         "yaxis": "y"
        },
        {
         "alignmentgroup": "True",
         "hovertemplate": "variable=wide_variable_1<br>x=%{x}<br>value=%{y}<extra></extra>",
         "legendgroup": "wide_variable_1",
         "marker": {
          "color": "#EF553B",
          "pattern": {
           "shape": ""
          }
         },
         "name": "wide_variable_1",
         "offsetgroup": "wide_variable_1",
         "orientation": "v",
         "showlegend": true,
         "textposition": "auto",
         "type": "bar",
         "x": [
          0,
          1,
          2,
          3,
          4,
          5,
          6,
          7,
          8,
          9,
          10,
          11,
          12,
          13,
          14,
          15,
          16,
          17,
          18,
          19,
          20,
          21,
          22,
          23,
          24,
          25,
          26,
          27,
          28,
          29,
          30,
          31,
          32,
          33,
          34,
          35,
          36,
          37,
          38,
          39,
          40,
          41,
          42,
          43,
          44,
          45,
          46,
          47,
          48,
          49,
          50,
          51,
          52,
          53,
          54,
          55,
          56,
          57,
          58,
          59,
          60,
          61,
          62,
          63,
          64,
          65,
          66,
          67,
          68,
          69,
          70,
          71,
          72,
          73,
          74,
          75,
          76,
          77,
          78,
          79,
          80,
          81,
          82,
          83,
          84,
          85,
          86,
          87,
          88,
          89,
          90,
          91,
          92
         ],
         "xaxis": "x",
         "y": [
          1.0730485535477494,
          121.1856090227121,
          1.4700187425859854,
          0.5445610819081773,
          7.821214988454225,
          0.05407124754464207,
          2.696597205026386,
          1.7145131687205781,
          0.34537570161547826,
          5.177463183456398,
          1.2470689253702572,
          1.2794909786062132,
          0.8001047479910023,
          0.28239206705911274,
          3.327103920137862,
          123.83737174903361,
          1.2921793433637665,
          5.455205491358355,
          6.084398246474346,
          26.678925979268033,
          3.7773584037959105,
          0.6398833848667785,
          0.11108916021250029,
          0.45348861173215865,
          0.8422884313721758,
          1.5439536344907618,
          2.4623037023100594,
          0.5685708034280352,
          16.798378969162144,
          492.6157490434918,
          4.063640916735207,
          69.94368060127805,
          25.53221330804472,
          2.4629891653693834,
          9.587532323936115,
          14.812700843041952,
          0.4806819855022845,
          6.679597727404738,
          16.787736307421497,
          9.68196962494258,
          2.2173384002934915,
          58.52027519625466,
          5.180023234043966,
          0.7923896126956261,
          5.041682783338989,
          19.899279429820513,
          27.17186234543385,
          2.7180218699476457,
          10.054975313214182,
          92.15768829561722,
          129.88981463294286,
          1.3185926159882413,
          42.558930466467544,
          22.5977435382811,
          3.4851374860903754,
          2.924916060857182,
          134.27202140647094,
          0.5999123987482774,
          4.207697261830041,
          3.7511171024952623,
          0.09269210973889976,
          68.63131601653751,
          5.660045425946551,
          38.010923651055336,
          13.01353206945035,
          7.569363550606947,
          340.00466628469763,
          22.202817769942005,
          21.035037528339252,
          10.20938323929435,
          2.0070889962752414,
          23.987933754635428,
          25.353712574292935,
          42.42117522740219,
          4.0612741957504515,
          24.04130976597963,
          440.95544859620173,
          31.43194024126671,
          1.7570194034695945,
          0.22715820451164426,
          347.9109915831067,
          127.07368594871035,
          2.972047936207006,
          8.66243062253291,
          6.446331657021096,
          2.2190878929028064,
          346.05943872878566,
          1.267413339768014,
          3.620225362133756,
          1.5203431307474413,
          0.9821663939665888,
          0.6531775865695647,
          195.4744853366304
         ],
         "yaxis": "y"
        },
        {
         "alignmentgroup": "True",
         "hovertemplate": "variable=wide_variable_2<br>x=%{x}<br>value=%{y}<extra></extra>",
         "legendgroup": "wide_variable_2",
         "marker": {
          "color": "#00cc96",
          "pattern": {
           "shape": ""
          }
         },
         "name": "wide_variable_2",
         "offsetgroup": "wide_variable_2",
         "orientation": "v",
         "showlegend": true,
         "textposition": "auto",
         "type": "bar",
         "x": [
          0,
          1,
          2,
          3,
          4,
          5,
          6,
          7,
          8,
          9,
          10,
          11,
          12,
          13,
          14,
          15,
          16,
          17,
          18,
          19,
          20,
          21,
          22,
          23,
          24,
          25,
          26,
          27,
          28,
          29,
          30,
          31,
          32,
          33,
          34,
          35,
          36,
          37,
          38,
          39,
          40,
          41,
          42,
          43,
          44,
          45,
          46,
          47,
          48,
          49,
          50,
          51,
          52,
          53,
          54,
          55,
          56,
          57,
          58,
          59,
          60,
          61,
          62,
          63,
          64,
          65,
          66,
          67,
          68,
          69,
          70,
          71,
          72,
          73,
          74,
          75,
          76,
          77,
          78,
          79,
          80,
          81,
          82,
          83,
          84,
          85,
          86,
          87,
          88,
          89,
          90,
          91,
          92
         ],
         "xaxis": "x",
         "y": [
          46.67983699999999,
          68.13627400000001,
          67.75328,
          75.291246,
          28.809609000000002,
          55.365526,
          55.261914999999995,
          68.40794700000001,
          98.289378,
          37.028167999999994,
          90.89427099999997,
          81.61559,
          37.128187,
          81.95402,
          91.540335,
          47.60986,
          58.179320000000004,
          55.17300300000001,
          37.517399,
          34.831712,
          33.051536999999996,
          38.00009,
          82.632008,
          49.122851000000004,
          28.385869,
          42.73188699999999,
          80.881667,
          50.11298299999999,
          81.28072300000001,
          54.09993300000001,
          68.79718199999999,
          64.233888,
          60.976037000000005,
          32.728376999999995,
          105.407094,
          56.149319,
          44.698433,
          0,
          38.520503,
          39.85768,
          40.280153,
          54.336202,
          32.16866400000001,
          52.727729000000004,
          36.948009,
          61.600609000000006,
          64.027774,
          38.104132,
          39.764355,
          33.72516000000001,
          54.815518000000004,
          44.68919399999999,
          53.738134,
          26.206611999999996,
          29.603476999999994,
          113.529454,
          36.974897,
          42.35508300000001,
          48.155374,
          24.610395999999998,
          58.723057000000004,
          28.389218,
          88.159685,
          56.684608,
          62.066300999999996,
          26.870421999999994,
          70.09446,
          43.968487,
          86.664113,
          28.625462000000002,
          61.600103,
          24.846301999999998,
          32.931784,
          67.415497,
          78.18795399999999,
          60.16090199999999,
          88.845284,
          62.602205000000005,
          55.490674,
          83.35658099999999,
          80.88298,
          29.921569999999996,
          49.96661100000001,
          29.384777,
          35.070069,
          44.163485,
          119.087637,
          46.248837,
          90.27395299999999,
          41.707849,
          50.07703899999999,
          74.592044,
          24.861710000000006
         ],
         "yaxis": "y"
        }
       ],
       "layout": {
        "barmode": "group",
        "legend": {
         "title": {
          "text": "variable"
         },
         "tracegroupgap": 0
        },
        "template": {
         "data": {
          "bar": [
           {
            "error_x": {
             "color": "#2a3f5f"
            },
            "error_y": {
             "color": "#2a3f5f"
            },
            "marker": {
             "line": {
              "color": "#E5ECF6",
              "width": 0.5
             },
             "pattern": {
              "fillmode": "overlay",
              "size": 10,
              "solidity": 0.2
             }
            },
            "type": "bar"
           }
          ],
          "barpolar": [
           {
            "marker": {
             "line": {
              "color": "#E5ECF6",
              "width": 0.5
             },
             "pattern": {
              "fillmode": "overlay",
              "size": 10,
              "solidity": 0.2
             }
            },
            "type": "barpolar"
           }
          ],
          "carpet": [
           {
            "aaxis": {
             "endlinecolor": "#2a3f5f",
             "gridcolor": "white",
             "linecolor": "white",
             "minorgridcolor": "white",
             "startlinecolor": "#2a3f5f"
            },
            "baxis": {
             "endlinecolor": "#2a3f5f",
             "gridcolor": "white",
             "linecolor": "white",
             "minorgridcolor": "white",
             "startlinecolor": "#2a3f5f"
            },
            "type": "carpet"
           }
          ],
          "choropleth": [
           {
            "colorbar": {
             "outlinewidth": 0,
             "ticks": ""
            },
            "type": "choropleth"
           }
          ],
          "contour": [
           {
            "colorbar": {
             "outlinewidth": 0,
             "ticks": ""
            },
            "colorscale": [
             [
              0,
              "#0d0887"
             ],
             [
              0.1111111111111111,
              "#46039f"
             ],
             [
              0.2222222222222222,
              "#7201a8"
             ],
             [
              0.3333333333333333,
              "#9c179e"
             ],
             [
              0.4444444444444444,
              "#bd3786"
             ],
             [
              0.5555555555555556,
              "#d8576b"
             ],
             [
              0.6666666666666666,
              "#ed7953"
             ],
             [
              0.7777777777777778,
              "#fb9f3a"
             ],
             [
              0.8888888888888888,
              "#fdca26"
             ],
             [
              1,
              "#f0f921"
             ]
            ],
            "type": "contour"
           }
          ],
          "contourcarpet": [
           {
            "colorbar": {
             "outlinewidth": 0,
             "ticks": ""
            },
            "type": "contourcarpet"
           }
          ],
          "heatmap": [
           {
            "colorbar": {
             "outlinewidth": 0,
             "ticks": ""
            },
            "colorscale": [
             [
              0,
              "#0d0887"
             ],
             [
              0.1111111111111111,
              "#46039f"
             ],
             [
              0.2222222222222222,
              "#7201a8"
             ],
             [
              0.3333333333333333,
              "#9c179e"
             ],
             [
              0.4444444444444444,
              "#bd3786"
             ],
             [
              0.5555555555555556,
              "#d8576b"
             ],
             [
              0.6666666666666666,
              "#ed7953"
             ],
             [
              0.7777777777777778,
              "#fb9f3a"
             ],
             [
              0.8888888888888888,
              "#fdca26"
             ],
             [
              1,
              "#f0f921"
             ]
            ],
            "type": "heatmap"
           }
          ],
          "heatmapgl": [
           {
            "colorbar": {
             "outlinewidth": 0,
             "ticks": ""
            },
            "colorscale": [
             [
              0,
              "#0d0887"
             ],
             [
              0.1111111111111111,
              "#46039f"
             ],
             [
              0.2222222222222222,
              "#7201a8"
             ],
             [
              0.3333333333333333,
              "#9c179e"
             ],
             [
              0.4444444444444444,
              "#bd3786"
             ],
             [
              0.5555555555555556,
              "#d8576b"
             ],
             [
              0.6666666666666666,
              "#ed7953"
             ],
             [
              0.7777777777777778,
              "#fb9f3a"
             ],
             [
              0.8888888888888888,
              "#fdca26"
             ],
             [
              1,
              "#f0f921"
             ]
            ],
            "type": "heatmapgl"
           }
          ],
          "histogram": [
           {
            "marker": {
             "pattern": {
              "fillmode": "overlay",
              "size": 10,
              "solidity": 0.2
             }
            },
            "type": "histogram"
           }
          ],
          "histogram2d": [
           {
            "colorbar": {
             "outlinewidth": 0,
             "ticks": ""
            },
            "colorscale": [
             [
              0,
              "#0d0887"
             ],
             [
              0.1111111111111111,
              "#46039f"
             ],
             [
              0.2222222222222222,
              "#7201a8"
             ],
             [
              0.3333333333333333,
              "#9c179e"
             ],
             [
              0.4444444444444444,
              "#bd3786"
             ],
             [
              0.5555555555555556,
              "#d8576b"
             ],
             [
              0.6666666666666666,
              "#ed7953"
             ],
             [
              0.7777777777777778,
              "#fb9f3a"
             ],
             [
              0.8888888888888888,
              "#fdca26"
             ],
             [
              1,
              "#f0f921"
             ]
            ],
            "type": "histogram2d"
           }
          ],
          "histogram2dcontour": [
           {
            "colorbar": {
             "outlinewidth": 0,
             "ticks": ""
            },
            "colorscale": [
             [
              0,
              "#0d0887"
             ],
             [
              0.1111111111111111,
              "#46039f"
             ],
             [
              0.2222222222222222,
              "#7201a8"
             ],
             [
              0.3333333333333333,
              "#9c179e"
             ],
             [
              0.4444444444444444,
              "#bd3786"
             ],
             [
              0.5555555555555556,
              "#d8576b"
             ],
             [
              0.6666666666666666,
              "#ed7953"
             ],
             [
              0.7777777777777778,
              "#fb9f3a"
             ],
             [
              0.8888888888888888,
              "#fdca26"
             ],
             [
              1,
              "#f0f921"
             ]
            ],
            "type": "histogram2dcontour"
           }
          ],
          "mesh3d": [
           {
            "colorbar": {
             "outlinewidth": 0,
             "ticks": ""
            },
            "type": "mesh3d"
           }
          ],
          "parcoords": [
           {
            "line": {
             "colorbar": {
              "outlinewidth": 0,
              "ticks": ""
             }
            },
            "type": "parcoords"
           }
          ],
          "pie": [
           {
            "automargin": true,
            "type": "pie"
           }
          ],
          "scatter": [
           {
            "fillpattern": {
             "fillmode": "overlay",
             "size": 10,
             "solidity": 0.2
            },
            "type": "scatter"
           }
          ],
          "scatter3d": [
           {
            "line": {
             "colorbar": {
              "outlinewidth": 0,
              "ticks": ""
             }
            },
            "marker": {
             "colorbar": {
              "outlinewidth": 0,
              "ticks": ""
             }
            },
            "type": "scatter3d"
           }
          ],
          "scattercarpet": [
           {
            "marker": {
             "colorbar": {
              "outlinewidth": 0,
              "ticks": ""
             }
            },
            "type": "scattercarpet"
           }
          ],
          "scattergeo": [
           {
            "marker": {
             "colorbar": {
              "outlinewidth": 0,
              "ticks": ""
             }
            },
            "type": "scattergeo"
           }
          ],
          "scattergl": [
           {
            "marker": {
             "colorbar": {
              "outlinewidth": 0,
              "ticks": ""
             }
            },
            "type": "scattergl"
           }
          ],
          "scattermapbox": [
           {
            "marker": {
             "colorbar": {
              "outlinewidth": 0,
              "ticks": ""
             }
            },
            "type": "scattermapbox"
           }
          ],
          "scatterpolar": [
           {
            "marker": {
             "colorbar": {
              "outlinewidth": 0,
              "ticks": ""
             }
            },
            "type": "scatterpolar"
           }
          ],
          "scatterpolargl": [
           {
            "marker": {
             "colorbar": {
              "outlinewidth": 0,
              "ticks": ""
             }
            },
            "type": "scatterpolargl"
           }
          ],
          "scatterternary": [
           {
            "marker": {
             "colorbar": {
              "outlinewidth": 0,
              "ticks": ""
             }
            },
            "type": "scatterternary"
           }
          ],
          "surface": [
           {
            "colorbar": {
             "outlinewidth": 0,
             "ticks": ""
            },
            "colorscale": [
             [
              0,
              "#0d0887"
             ],
             [
              0.1111111111111111,
              "#46039f"
             ],
             [
              0.2222222222222222,
              "#7201a8"
             ],
             [
              0.3333333333333333,
              "#9c179e"
             ],
             [
              0.4444444444444444,
              "#bd3786"
             ],
             [
              0.5555555555555556,
              "#d8576b"
             ],
             [
              0.6666666666666666,
              "#ed7953"
             ],
             [
              0.7777777777777778,
              "#fb9f3a"
             ],
             [
              0.8888888888888888,
              "#fdca26"
             ],
             [
              1,
              "#f0f921"
             ]
            ],
            "type": "surface"
           }
          ],
          "table": [
           {
            "cells": {
             "fill": {
              "color": "#EBF0F8"
             },
             "line": {
              "color": "white"
             }
            },
            "header": {
             "fill": {
              "color": "#C8D4E3"
             },
             "line": {
              "color": "white"
             }
            },
            "type": "table"
           }
          ]
         },
         "layout": {
          "annotationdefaults": {
           "arrowcolor": "#2a3f5f",
           "arrowhead": 0,
           "arrowwidth": 1
          },
          "autotypenumbers": "strict",
          "coloraxis": {
           "colorbar": {
            "outlinewidth": 0,
            "ticks": ""
           }
          },
          "colorscale": {
           "diverging": [
            [
             0,
             "#8e0152"
            ],
            [
             0.1,
             "#c51b7d"
            ],
            [
             0.2,
             "#de77ae"
            ],
            [
             0.3,
             "#f1b6da"
            ],
            [
             0.4,
             "#fde0ef"
            ],
            [
             0.5,
             "#f7f7f7"
            ],
            [
             0.6,
             "#e6f5d0"
            ],
            [
             0.7,
             "#b8e186"
            ],
            [
             0.8,
             "#7fbc41"
            ],
            [
             0.9,
             "#4d9221"
            ],
            [
             1,
             "#276419"
            ]
           ],
           "sequential": [
            [
             0,
             "#0d0887"
            ],
            [
             0.1111111111111111,
             "#46039f"
            ],
            [
             0.2222222222222222,
             "#7201a8"
            ],
            [
             0.3333333333333333,
             "#9c179e"
            ],
            [
             0.4444444444444444,
             "#bd3786"
            ],
            [
             0.5555555555555556,
             "#d8576b"
            ],
            [
             0.6666666666666666,
             "#ed7953"
            ],
            [
             0.7777777777777778,
             "#fb9f3a"
            ],
            [
             0.8888888888888888,
             "#fdca26"
            ],
            [
             1,
             "#f0f921"
            ]
           ],
           "sequentialminus": [
            [
             0,
             "#0d0887"
            ],
            [
             0.1111111111111111,
             "#46039f"
            ],
            [
             0.2222222222222222,
             "#7201a8"
            ],
            [
             0.3333333333333333,
             "#9c179e"
            ],
            [
             0.4444444444444444,
             "#bd3786"
            ],
            [
             0.5555555555555556,
             "#d8576b"
            ],
            [
             0.6666666666666666,
             "#ed7953"
            ],
            [
             0.7777777777777778,
             "#fb9f3a"
            ],
            [
             0.8888888888888888,
             "#fdca26"
            ],
            [
             1,
             "#f0f921"
            ]
           ]
          },
          "colorway": [
           "#636efa",
           "#EF553B",
           "#00cc96",
           "#ab63fa",
           "#FFA15A",
           "#19d3f3",
           "#FF6692",
           "#B6E880",
           "#FF97FF",
           "#FECB52"
          ],
          "font": {
           "color": "#2a3f5f"
          },
          "geo": {
           "bgcolor": "white",
           "lakecolor": "white",
           "landcolor": "#E5ECF6",
           "showlakes": true,
           "showland": true,
           "subunitcolor": "white"
          },
          "hoverlabel": {
           "align": "left"
          },
          "hovermode": "closest",
          "mapbox": {
           "style": "light"
          },
          "paper_bgcolor": "white",
          "plot_bgcolor": "#E5ECF6",
          "polar": {
           "angularaxis": {
            "gridcolor": "white",
            "linecolor": "white",
            "ticks": ""
           },
           "bgcolor": "#E5ECF6",
           "radialaxis": {
            "gridcolor": "white",
            "linecolor": "white",
            "ticks": ""
           }
          },
          "scene": {
           "xaxis": {
            "backgroundcolor": "#E5ECF6",
            "gridcolor": "white",
            "gridwidth": 2,
            "linecolor": "white",
            "showbackground": true,
            "ticks": "",
            "zerolinecolor": "white"
           },
           "yaxis": {
            "backgroundcolor": "#E5ECF6",
            "gridcolor": "white",
            "gridwidth": 2,
            "linecolor": "white",
            "showbackground": true,
            "ticks": "",
            "zerolinecolor": "white"
           },
           "zaxis": {
            "backgroundcolor": "#E5ECF6",
            "gridcolor": "white",
            "gridwidth": 2,
            "linecolor": "white",
            "showbackground": true,
            "ticks": "",
            "zerolinecolor": "white"
           }
          },
          "shapedefaults": {
           "line": {
            "color": "#2a3f5f"
           }
          },
          "ternary": {
           "aaxis": {
            "gridcolor": "white",
            "linecolor": "white",
            "ticks": ""
           },
           "baxis": {
            "gridcolor": "white",
            "linecolor": "white",
            "ticks": ""
           },
           "bgcolor": "#E5ECF6",
           "caxis": {
            "gridcolor": "white",
            "linecolor": "white",
            "ticks": ""
           }
          },
          "title": {
           "x": 0.05
          },
          "xaxis": {
           "automargin": true,
           "gridcolor": "white",
           "linecolor": "white",
           "ticks": "",
           "title": {
            "standoff": 15
           },
           "zerolinecolor": "white",
           "zerolinewidth": 2
          },
          "yaxis": {
           "automargin": true,
           "gridcolor": "white",
           "linecolor": "white",
           "ticks": "",
           "title": {
            "standoff": 15
           },
           "zerolinecolor": "white",
           "zerolinewidth": 2
          }
         }
        },
        "title": {
         "text": "Florianopolis (1A) Cooling with COP: UMI (red), surrogate (blue)"
        },
        "xaxis": {
         "anchor": "y",
         "domain": [
          0,
          1
         ],
         "title": {
          "text": "x"
         }
        },
        "yaxis": {
         "anchor": "x",
         "domain": [
          0,
          1
         ],
         "title": {
          "text": "value"
         }
        }
       }
      }
     },
     "metadata": {},
     "output_type": "display_data"
    }
   ],
   "source": [
    "# px.bar(x=annual_predictions.index, y=annual_predictions[\"Cooling\"], title=\"Surrogate\")\n",
    "fig = px.bar(\n",
    "    x=annual_predictions.index,\n",
    "    y=[\n",
    "        annual_predictions.Cooling.divide(COP_COOLING),\n",
    "        umi_df[umi_df[\"load\"] == \"cooling\"][\"annual\"].divide(tfa, axis=0),\n",
    "        CS_building_results['cooling'].sum(axis=1),\n",
    "    ],\n",
    "    title=\"Florianopolis (1A) Cooling with COP: UMI (red), surrogate (blue)\",\n",
    "    barmode=\"group\"\n",
    ")\n",
    "fig.show()"
   ]
  },
  {
   "cell_type": "code",
   "execution_count": 150,
   "metadata": {},
   "outputs": [
    {
     "data": {
      "application/vnd.plotly.v1+json": {
       "config": {
        "plotlyServerURL": "https://plot.ly"
       },
       "data": [
        {
         "alignmentgroup": "True",
         "hovertemplate": "variable=wide_variable_0<br>x=%{x}<br>value=%{y}<extra></extra>",
         "legendgroup": "wide_variable_0",
         "marker": {
          "color": "#636efa",
          "pattern": {
           "shape": ""
          }
         },
         "name": "wide_variable_0",
         "offsetgroup": "wide_variable_0",
         "orientation": "v",
         "showlegend": true,
         "textposition": "auto",
         "type": "bar",
         "x": [
          0,
          1,
          2,
          3,
          4,
          5,
          6,
          7,
          8,
          9,
          10,
          11,
          12,
          13,
          14,
          15,
          16,
          17,
          18,
          19,
          20,
          21,
          22,
          23,
          24,
          25,
          26,
          27,
          28,
          29,
          30,
          31,
          32,
          33,
          34,
          35,
          36,
          37,
          38,
          39,
          40,
          41,
          42,
          43,
          44,
          45,
          46,
          47,
          48,
          49,
          50,
          51,
          52,
          53,
          54,
          55,
          56,
          57,
          58,
          59,
          60,
          61,
          62,
          63,
          64,
          65,
          66,
          67,
          68,
          69,
          70,
          71,
          72,
          73,
          74,
          75,
          76,
          77,
          78,
          79,
          80,
          81,
          82,
          83,
          84,
          85,
          86,
          87,
          88,
          89,
          90,
          91,
          92
         ],
         "xaxis": "x",
         "y": [
          69.35291555468048,
          190.93397866524094,
          289.50654931518613,
          92.9122670665247,
          248.1247785575607,
          61.248000153810914,
          151.90153940319576,
          120.88748013538826,
          76.11873761821931,
          152.56871183449823,
          185.3660050383438,
          55.5115067304057,
          89.55221421096034,
          112.77929342437467,
          167.6141206963513,
          99.59229040116956,
          262.65038140376964,
          151.59101878418483,
          156.34994318646537,
          118.68149805188385,
          203.74296965682058,
          170.6916782999324,
          110.24307675275556,
          159.8834135138883,
          95.94659172641474,
          61.05408199003096,
          124.77359022981113,
          90.66470245331709,
          224.6323719383153,
          161.2112675218902,
          116.46051384072295,
          206.91473315365792,
          240.0747523988132,
          201.15199257281014,
          366.1884284797705,
          192.65244454161692,
          144.14555342770907,
          155.28991311327138,
          136.27784615827872,
          202.9861479096868,
          230.17188205573416,
          314.284785555132,
          152.82607498681224,
          120.14327792470976,
          192.93104700903095,
          228.18401821786708,
          147.4440593953951,
          301.45375550892135,
          355.9772675893398,
          345.94221558501886,
          236.80596539628758,
          177.51293282629118,
          293.7508286641798,
          158.3919370157146,
          124.39389651339438,
          111.5165087818541,
          100.34917080886622,
          112.9218567673717,
          207.42841975291424,
          53.71509894680536,
          90.93507285962437,
          526.5684715524806,
          250.83361822225893,
          382.22381157109584,
          353.2373870789651,
          558.3367636945267,
          356.37139600276834,
          387.75429587573876,
          385.7630178469332,
          399.37876112617954,
          237.2297592474247,
          314.41320509745384,
          425.2565423737319,
          381.55224880464374,
          366.44240238537196,
          235.4675830491968,
          242.45407135224238,
          399.4721175580796,
          202.12947886278093,
          65.61692402235997,
          355.56878330799265,
          639.9994511648848,
          280.8939857811128,
          313.79661044725293,
          257.01850678342345,
          203.25290301571488,
          264.6150501010897,
          107.20614131787056,
          175.37390411744164,
          125.341559768235,
          98.52207548246041,
          141.4332578634636,
          309.6578883588575
         ],
         "yaxis": "y"
        },
        {
         "alignmentgroup": "True",
         "hovertemplate": "variable=wide_variable_1<br>x=%{x}<br>value=%{y}<extra></extra>",
         "legendgroup": "wide_variable_1",
         "marker": {
          "color": "#EF553B",
          "pattern": {
           "shape": ""
          }
         },
         "name": "wide_variable_1",
         "offsetgroup": "wide_variable_1",
         "orientation": "v",
         "showlegend": true,
         "textposition": "auto",
         "type": "bar",
         "x": [
          0,
          1,
          2,
          3,
          4,
          5,
          6,
          7,
          8,
          9,
          10,
          11,
          12,
          13,
          14,
          15,
          16,
          17,
          18,
          19,
          20,
          21,
          22,
          23,
          24,
          25,
          26,
          27,
          28,
          29,
          30,
          31,
          32,
          33,
          34,
          35,
          36,
          37,
          38,
          39,
          40,
          41,
          42,
          43,
          44,
          45,
          46,
          47,
          48,
          49,
          50,
          51,
          52,
          53,
          54,
          55,
          56,
          57,
          58,
          59,
          60,
          61,
          62,
          63,
          64,
          65,
          66,
          67,
          68,
          69,
          70,
          71,
          72,
          73,
          74,
          75,
          76,
          77,
          78,
          79,
          80,
          81,
          82,
          83,
          84,
          85,
          86,
          87,
          88,
          89,
          90,
          91,
          92
         ],
         "xaxis": "x",
         "y": [
          2.866778453220252,
          100.4771865825615,
          7.296672200828237,
          3.2942836974433147,
          32.4978805034967,
          0.3004351002155904,
          9.184075002493977,
          6.405968916513136,
          2.0802410794184794,
          7.636243751923937,
          5.382551028198247,
          3.308930244544515,
          2.276781214506353,
          1.4443466013016697,
          7.322420303337025,
          115.03738815460706,
          6.518248370333586,
          8.920264650477739,
          15.42524215393844,
          32.92005763087874,
          13.645597190395774,
          3.2894829654879674,
          0.623255233570076,
          2.704123140951724,
          1.6074140473097382,
          2.662466279438778,
          4.9375421559271855,
          1.1141660266104427,
          25.949755571413387,
          190.0929329317543,
          9.480882118123294,
          82.41165152721682,
          28.54611052101704,
          7.434316581648534,
          32.298620392141245,
          17.728544597189416,
          1.3808084693916645,
          22.631744042826583,
          29.732414881806605,
          19.271913823098586,
          9.258639407671536,
          143.3358433514671,
          11.57144134866108,
          3.5383027761916432,
          13.3279575610099,
          37.06930006661856,
          28.034100469428914,
          14.744816950173355,
          37.16709203590037,
          94.0517882637611,
          104.60552533854604,
          8.515520754813663,
          70.29606643363498,
          19.976391651678217,
          13.210094589984417,
          8.155186198358406,
          75.26829531262986,
          1.6108734530917086,
          10.175152799996463,
          6.582398544710795,
          0.4759752657912555,
          115.03462094461584,
          17.670787658416486,
          31.590559197020877,
          59.871144420129994,
          21.709915878464717,
          195.72371456689086,
          30.47215327498583,
          27.526352690374555,
          51.63737361767637,
          7.3734371145670226,
          36.69067456626807,
          62.23893196811272,
          92.66817472860039,
          5.618487498168446,
          40.908843665378946,
          219.28889336143973,
          27.564725549735765,
          8.604022923157396,
          0.5329120358840524,
          313.71713843756834,
          136.25170967685546,
          12.747673685977162,
          33.93719575363135,
          17.790930851248604,
          10.425680622117724,
          181.78839981918384,
          2.6309062446313405,
          12.934139355992011,
          5.493379206515722,
          3.633169016583211,
          3.4589265759635937,
          98.42341859197823
         ],
         "yaxis": "y"
        },
        {
         "alignmentgroup": "True",
         "hovertemplate": "variable=wide_variable_2<br>x=%{x}<br>value=%{y}<extra></extra>",
         "legendgroup": "wide_variable_2",
         "marker": {
          "color": "#00cc96",
          "pattern": {
           "shape": ""
          }
         },
         "name": "wide_variable_2",
         "offsetgroup": "wide_variable_2",
         "orientation": "v",
         "showlegend": true,
         "textposition": "auto",
         "type": "bar",
         "x": [
          0,
          1,
          2,
          3,
          4,
          5,
          6,
          7,
          8,
          9,
          10,
          11,
          12,
          13,
          14,
          15,
          16,
          17,
          18,
          19,
          20,
          21,
          22,
          23,
          24,
          25,
          26,
          27,
          28,
          29,
          30,
          31,
          32,
          33,
          34,
          35,
          36,
          37,
          38,
          39,
          40,
          41,
          42,
          43,
          44,
          45,
          46,
          47,
          48,
          49,
          50,
          51,
          52,
          53,
          54,
          55,
          56,
          57,
          58,
          59,
          60,
          61,
          62,
          63,
          64,
          65,
          66,
          67,
          68,
          69,
          70,
          71,
          72,
          73,
          74,
          75,
          76,
          77,
          78,
          79,
          80,
          81,
          82,
          83,
          84,
          85,
          86,
          87,
          88,
          89,
          90,
          91,
          92
         ],
         "xaxis": "x",
         "y": [
          130.199001,
          173.31934599999997,
          167.878321,
          297.37088200000005,
          51.563298958400004,
          196.40495700000002,
          179.89319600000002,
          186.564281,
          256.30499999999995,
          87.381573,
          234.269074,
          205.03254800000005,
          114.85732,
          219.07085500000002,
          240.665679,
          132.52479,
          155.924694,
          160.136617,
          124.22796799999998,
          102.62494300000003,
          99.932915,
          106.99584199999998,
          220.59946300000001,
          125.69031199999998,
          62.41266199999999,
          166.17357099999998,
          213.529525,
          148.331421,
          217.293253,
          154.23639900000003,
          169.459081,
          170.36948,
          253.851072,
          66.54246900000001,
          266.72790000000003,
          144.67496899999998,
          173.94640099999998,
          0,
          108.35293399999999,
          121.729213,
          93.54373299999999,
          156.093975,
          125.686783,
          183.56503100000003,
          87.802236,
          157.239482,
          179.203514,
          117.36587899999999,
          99.46600299999999,
          112.85615099999998,
          145.684011,
          190.80373500000002,
          152.670864,
          40.591791180899996,
          71.334189,
          285.216266,
          102.092306,
          108.95401100000001,
          116.40978899999999,
          61.96017299999999,
          168.18621399999998,
          48.732690000000005,
          335.98659000000004,
          168.368185,
          165.852938,
          46.4596447924,
          191.990435,
          186.459251,
          230.21437600000002,
          85.905068,
          236.66609699999998,
          76.37957,
          102.572158,
          185.10515100000003,
          192.35025800000003,
          153.94916899999998,
          222.65599500000002,
          176.99803,
          149.625207,
          221.725035,
          198.69924600000002,
          76.338938,
          143.702723,
          51.53157493330001,
          71.808753,
          113.592581,
          304.64394999999996,
          155.052914,
          237.91943400000002,
          127.222625,
          137.07683300000002,
          205.62534899999997,
          35.659689
         ],
         "yaxis": "y"
        }
       ],
       "layout": {
        "barmode": "group",
        "legend": {
         "title": {
          "text": "variable"
         },
         "tracegroupgap": 0
        },
        "template": {
         "data": {
          "bar": [
           {
            "error_x": {
             "color": "#2a3f5f"
            },
            "error_y": {
             "color": "#2a3f5f"
            },
            "marker": {
             "line": {
              "color": "#E5ECF6",
              "width": 0.5
             },
             "pattern": {
              "fillmode": "overlay",
              "size": 10,
              "solidity": 0.2
             }
            },
            "type": "bar"
           }
          ],
          "barpolar": [
           {
            "marker": {
             "line": {
              "color": "#E5ECF6",
              "width": 0.5
             },
             "pattern": {
              "fillmode": "overlay",
              "size": 10,
              "solidity": 0.2
             }
            },
            "type": "barpolar"
           }
          ],
          "carpet": [
           {
            "aaxis": {
             "endlinecolor": "#2a3f5f",
             "gridcolor": "white",
             "linecolor": "white",
             "minorgridcolor": "white",
             "startlinecolor": "#2a3f5f"
            },
            "baxis": {
             "endlinecolor": "#2a3f5f",
             "gridcolor": "white",
             "linecolor": "white",
             "minorgridcolor": "white",
             "startlinecolor": "#2a3f5f"
            },
            "type": "carpet"
           }
          ],
          "choropleth": [
           {
            "colorbar": {
             "outlinewidth": 0,
             "ticks": ""
            },
            "type": "choropleth"
           }
          ],
          "contour": [
           {
            "colorbar": {
             "outlinewidth": 0,
             "ticks": ""
            },
            "colorscale": [
             [
              0,
              "#0d0887"
             ],
             [
              0.1111111111111111,
              "#46039f"
             ],
             [
              0.2222222222222222,
              "#7201a8"
             ],
             [
              0.3333333333333333,
              "#9c179e"
             ],
             [
              0.4444444444444444,
              "#bd3786"
             ],
             [
              0.5555555555555556,
              "#d8576b"
             ],
             [
              0.6666666666666666,
              "#ed7953"
             ],
             [
              0.7777777777777778,
              "#fb9f3a"
             ],
             [
              0.8888888888888888,
              "#fdca26"
             ],
             [
              1,
              "#f0f921"
             ]
            ],
            "type": "contour"
           }
          ],
          "contourcarpet": [
           {
            "colorbar": {
             "outlinewidth": 0,
             "ticks": ""
            },
            "type": "contourcarpet"
           }
          ],
          "heatmap": [
           {
            "colorbar": {
             "outlinewidth": 0,
             "ticks": ""
            },
            "colorscale": [
             [
              0,
              "#0d0887"
             ],
             [
              0.1111111111111111,
              "#46039f"
             ],
             [
              0.2222222222222222,
              "#7201a8"
             ],
             [
              0.3333333333333333,
              "#9c179e"
             ],
             [
              0.4444444444444444,
              "#bd3786"
             ],
             [
              0.5555555555555556,
              "#d8576b"
             ],
             [
              0.6666666666666666,
              "#ed7953"
             ],
             [
              0.7777777777777778,
              "#fb9f3a"
             ],
             [
              0.8888888888888888,
              "#fdca26"
             ],
             [
              1,
              "#f0f921"
             ]
            ],
            "type": "heatmap"
           }
          ],
          "heatmapgl": [
           {
            "colorbar": {
             "outlinewidth": 0,
             "ticks": ""
            },
            "colorscale": [
             [
              0,
              "#0d0887"
             ],
             [
              0.1111111111111111,
              "#46039f"
             ],
             [
              0.2222222222222222,
              "#7201a8"
             ],
             [
              0.3333333333333333,
              "#9c179e"
             ],
             [
              0.4444444444444444,
              "#bd3786"
             ],
             [
              0.5555555555555556,
              "#d8576b"
             ],
             [
              0.6666666666666666,
              "#ed7953"
             ],
             [
              0.7777777777777778,
              "#fb9f3a"
             ],
             [
              0.8888888888888888,
              "#fdca26"
             ],
             [
              1,
              "#f0f921"
             ]
            ],
            "type": "heatmapgl"
           }
          ],
          "histogram": [
           {
            "marker": {
             "pattern": {
              "fillmode": "overlay",
              "size": 10,
              "solidity": 0.2
             }
            },
            "type": "histogram"
           }
          ],
          "histogram2d": [
           {
            "colorbar": {
             "outlinewidth": 0,
             "ticks": ""
            },
            "colorscale": [
             [
              0,
              "#0d0887"
             ],
             [
              0.1111111111111111,
              "#46039f"
             ],
             [
              0.2222222222222222,
              "#7201a8"
             ],
             [
              0.3333333333333333,
              "#9c179e"
             ],
             [
              0.4444444444444444,
              "#bd3786"
             ],
             [
              0.5555555555555556,
              "#d8576b"
             ],
             [
              0.6666666666666666,
              "#ed7953"
             ],
             [
              0.7777777777777778,
              "#fb9f3a"
             ],
             [
              0.8888888888888888,
              "#fdca26"
             ],
             [
              1,
              "#f0f921"
             ]
            ],
            "type": "histogram2d"
           }
          ],
          "histogram2dcontour": [
           {
            "colorbar": {
             "outlinewidth": 0,
             "ticks": ""
            },
            "colorscale": [
             [
              0,
              "#0d0887"
             ],
             [
              0.1111111111111111,
              "#46039f"
             ],
             [
              0.2222222222222222,
              "#7201a8"
             ],
             [
              0.3333333333333333,
              "#9c179e"
             ],
             [
              0.4444444444444444,
              "#bd3786"
             ],
             [
              0.5555555555555556,
              "#d8576b"
             ],
             [
              0.6666666666666666,
              "#ed7953"
             ],
             [
              0.7777777777777778,
              "#fb9f3a"
             ],
             [
              0.8888888888888888,
              "#fdca26"
             ],
             [
              1,
              "#f0f921"
             ]
            ],
            "type": "histogram2dcontour"
           }
          ],
          "mesh3d": [
           {
            "colorbar": {
             "outlinewidth": 0,
             "ticks": ""
            },
            "type": "mesh3d"
           }
          ],
          "parcoords": [
           {
            "line": {
             "colorbar": {
              "outlinewidth": 0,
              "ticks": ""
             }
            },
            "type": "parcoords"
           }
          ],
          "pie": [
           {
            "automargin": true,
            "type": "pie"
           }
          ],
          "scatter": [
           {
            "fillpattern": {
             "fillmode": "overlay",
             "size": 10,
             "solidity": 0.2
            },
            "type": "scatter"
           }
          ],
          "scatter3d": [
           {
            "line": {
             "colorbar": {
              "outlinewidth": 0,
              "ticks": ""
             }
            },
            "marker": {
             "colorbar": {
              "outlinewidth": 0,
              "ticks": ""
             }
            },
            "type": "scatter3d"
           }
          ],
          "scattercarpet": [
           {
            "marker": {
             "colorbar": {
              "outlinewidth": 0,
              "ticks": ""
             }
            },
            "type": "scattercarpet"
           }
          ],
          "scattergeo": [
           {
            "marker": {
             "colorbar": {
              "outlinewidth": 0,
              "ticks": ""
             }
            },
            "type": "scattergeo"
           }
          ],
          "scattergl": [
           {
            "marker": {
             "colorbar": {
              "outlinewidth": 0,
              "ticks": ""
             }
            },
            "type": "scattergl"
           }
          ],
          "scattermapbox": [
           {
            "marker": {
             "colorbar": {
              "outlinewidth": 0,
              "ticks": ""
             }
            },
            "type": "scattermapbox"
           }
          ],
          "scatterpolar": [
           {
            "marker": {
             "colorbar": {
              "outlinewidth": 0,
              "ticks": ""
             }
            },
            "type": "scatterpolar"
           }
          ],
          "scatterpolargl": [
           {
            "marker": {
             "colorbar": {
              "outlinewidth": 0,
              "ticks": ""
             }
            },
            "type": "scatterpolargl"
           }
          ],
          "scatterternary": [
           {
            "marker": {
             "colorbar": {
              "outlinewidth": 0,
              "ticks": ""
             }
            },
            "type": "scatterternary"
           }
          ],
          "surface": [
           {
            "colorbar": {
             "outlinewidth": 0,
             "ticks": ""
            },
            "colorscale": [
             [
              0,
              "#0d0887"
             ],
             [
              0.1111111111111111,
              "#46039f"
             ],
             [
              0.2222222222222222,
              "#7201a8"
             ],
             [
              0.3333333333333333,
              "#9c179e"
             ],
             [
              0.4444444444444444,
              "#bd3786"
             ],
             [
              0.5555555555555556,
              "#d8576b"
             ],
             [
              0.6666666666666666,
              "#ed7953"
             ],
             [
              0.7777777777777778,
              "#fb9f3a"
             ],
             [
              0.8888888888888888,
              "#fdca26"
             ],
             [
              1,
              "#f0f921"
             ]
            ],
            "type": "surface"
           }
          ],
          "table": [
           {
            "cells": {
             "fill": {
              "color": "#EBF0F8"
             },
             "line": {
              "color": "white"
             }
            },
            "header": {
             "fill": {
              "color": "#C8D4E3"
             },
             "line": {
              "color": "white"
             }
            },
            "type": "table"
           }
          ]
         },
         "layout": {
          "annotationdefaults": {
           "arrowcolor": "#2a3f5f",
           "arrowhead": 0,
           "arrowwidth": 1
          },
          "autotypenumbers": "strict",
          "coloraxis": {
           "colorbar": {
            "outlinewidth": 0,
            "ticks": ""
           }
          },
          "colorscale": {
           "diverging": [
            [
             0,
             "#8e0152"
            ],
            [
             0.1,
             "#c51b7d"
            ],
            [
             0.2,
             "#de77ae"
            ],
            [
             0.3,
             "#f1b6da"
            ],
            [
             0.4,
             "#fde0ef"
            ],
            [
             0.5,
             "#f7f7f7"
            ],
            [
             0.6,
             "#e6f5d0"
            ],
            [
             0.7,
             "#b8e186"
            ],
            [
             0.8,
             "#7fbc41"
            ],
            [
             0.9,
             "#4d9221"
            ],
            [
             1,
             "#276419"
            ]
           ],
           "sequential": [
            [
             0,
             "#0d0887"
            ],
            [
             0.1111111111111111,
             "#46039f"
            ],
            [
             0.2222222222222222,
             "#7201a8"
            ],
            [
             0.3333333333333333,
             "#9c179e"
            ],
            [
             0.4444444444444444,
             "#bd3786"
            ],
            [
             0.5555555555555556,
             "#d8576b"
            ],
            [
             0.6666666666666666,
             "#ed7953"
            ],
            [
             0.7777777777777778,
             "#fb9f3a"
            ],
            [
             0.8888888888888888,
             "#fdca26"
            ],
            [
             1,
             "#f0f921"
            ]
           ],
           "sequentialminus": [
            [
             0,
             "#0d0887"
            ],
            [
             0.1111111111111111,
             "#46039f"
            ],
            [
             0.2222222222222222,
             "#7201a8"
            ],
            [
             0.3333333333333333,
             "#9c179e"
            ],
            [
             0.4444444444444444,
             "#bd3786"
            ],
            [
             0.5555555555555556,
             "#d8576b"
            ],
            [
             0.6666666666666666,
             "#ed7953"
            ],
            [
             0.7777777777777778,
             "#fb9f3a"
            ],
            [
             0.8888888888888888,
             "#fdca26"
            ],
            [
             1,
             "#f0f921"
            ]
           ]
          },
          "colorway": [
           "#636efa",
           "#EF553B",
           "#00cc96",
           "#ab63fa",
           "#FFA15A",
           "#19d3f3",
           "#FF6692",
           "#B6E880",
           "#FF97FF",
           "#FECB52"
          ],
          "font": {
           "color": "#2a3f5f"
          },
          "geo": {
           "bgcolor": "white",
           "lakecolor": "white",
           "landcolor": "#E5ECF6",
           "showlakes": true,
           "showland": true,
           "subunitcolor": "white"
          },
          "hoverlabel": {
           "align": "left"
          },
          "hovermode": "closest",
          "mapbox": {
           "style": "light"
          },
          "paper_bgcolor": "white",
          "plot_bgcolor": "#E5ECF6",
          "polar": {
           "angularaxis": {
            "gridcolor": "white",
            "linecolor": "white",
            "ticks": ""
           },
           "bgcolor": "#E5ECF6",
           "radialaxis": {
            "gridcolor": "white",
            "linecolor": "white",
            "ticks": ""
           }
          },
          "scene": {
           "xaxis": {
            "backgroundcolor": "#E5ECF6",
            "gridcolor": "white",
            "gridwidth": 2,
            "linecolor": "white",
            "showbackground": true,
            "ticks": "",
            "zerolinecolor": "white"
           },
           "yaxis": {
            "backgroundcolor": "#E5ECF6",
            "gridcolor": "white",
            "gridwidth": 2,
            "linecolor": "white",
            "showbackground": true,
            "ticks": "",
            "zerolinecolor": "white"
           },
           "zaxis": {
            "backgroundcolor": "#E5ECF6",
            "gridcolor": "white",
            "gridwidth": 2,
            "linecolor": "white",
            "showbackground": true,
            "ticks": "",
            "zerolinecolor": "white"
           }
          },
          "shapedefaults": {
           "line": {
            "color": "#2a3f5f"
           }
          },
          "ternary": {
           "aaxis": {
            "gridcolor": "white",
            "linecolor": "white",
            "ticks": ""
           },
           "baxis": {
            "gridcolor": "white",
            "linecolor": "white",
            "ticks": ""
           },
           "bgcolor": "#E5ECF6",
           "caxis": {
            "gridcolor": "white",
            "linecolor": "white",
            "ticks": ""
           }
          },
          "title": {
           "x": 0.05
          },
          "xaxis": {
           "automargin": true,
           "gridcolor": "white",
           "linecolor": "white",
           "ticks": "",
           "title": {
            "standoff": 15
           },
           "zerolinecolor": "white",
           "zerolinewidth": 2
          },
          "yaxis": {
           "automargin": true,
           "gridcolor": "white",
           "linecolor": "white",
           "ticks": "",
           "title": {
            "standoff": 15
           },
           "zerolinecolor": "white",
           "zerolinewidth": 2
          }
         }
        },
        "title": {
         "text": "Florianopolis (1A) Heating with COP: UMI (red), surrogate (blue)"
        },
        "xaxis": {
         "anchor": "y",
         "domain": [
          0,
          1
         ],
         "title": {
          "text": "x"
         }
        },
        "yaxis": {
         "anchor": "x",
         "domain": [
          0,
          1
         ],
         "title": {
          "text": "value"
         }
        }
       }
      }
     },
     "metadata": {},
     "output_type": "display_data"
    }
   ],
   "source": [
    "\n",
    "fig = px.bar(\n",
    "    x=annual_predictions.index,\n",
    "    y=[\n",
    "        annual_predictions.Heating.divide(COP_HEATING),\n",
    "        umi_df[umi_df[\"load\"] == \"heating\"][\"annual\"].divide(tfa, axis=0),\n",
    "        CS_building_results['heating'].sum(axis=1),\n",
    "    ],\n",
    "    title=\"Florianopolis (1A) Heating with COP: UMI (red), surrogate (blue)\",\n",
    "    barmode=\"group\"\n",
    ")\n",
    "fig.show()"
   ]
  },
  {
   "cell_type": "code",
   "execution_count": 145,
   "metadata": {},
   "outputs": [
    {
     "name": "stdout",
     "output_type": "stream",
     "text": [
      "(186, 8760)\n"
     ]
    },
    {
     "data": {
      "text/html": [
       "<div>\n",
       "<style scoped>\n",
       "    .dataframe tbody tr th:only-of-type {\n",
       "        vertical-align: middle;\n",
       "    }\n",
       "\n",
       "    .dataframe tbody tr th {\n",
       "        vertical-align: top;\n",
       "    }\n",
       "\n",
       "    .dataframe thead th {\n",
       "        text-align: right;\n",
       "    }\n",
       "</style>\n",
       "<table border=\"1\" class=\"dataframe\">\n",
       "  <thead>\n",
       "    <tr style=\"text-align: right;\">\n",
       "      <th></th>\n",
       "      <th>january</th>\n",
       "      <th>february</th>\n",
       "      <th>march</th>\n",
       "      <th>april</th>\n",
       "      <th>may</th>\n",
       "      <th>june</th>\n",
       "      <th>july</th>\n",
       "      <th>august</th>\n",
       "      <th>september</th>\n",
       "      <th>october</th>\n",
       "      <th>november</th>\n",
       "      <th>december</th>\n",
       "    </tr>\n",
       "    <tr>\n",
       "      <th>load</th>\n",
       "      <th></th>\n",
       "      <th></th>\n",
       "      <th></th>\n",
       "      <th></th>\n",
       "      <th></th>\n",
       "      <th></th>\n",
       "      <th></th>\n",
       "      <th></th>\n",
       "      <th></th>\n",
       "      <th></th>\n",
       "      <th></th>\n",
       "      <th></th>\n",
       "    </tr>\n",
       "  </thead>\n",
       "  <tbody>\n",
       "    <tr>\n",
       "      <th>cooling</th>\n",
       "      <td>0.000000</td>\n",
       "      <td>0.00000</td>\n",
       "      <td>0.000000</td>\n",
       "      <td>0.000000</td>\n",
       "      <td>0.0</td>\n",
       "      <td>0.720345</td>\n",
       "      <td>2.467</td>\n",
       "      <td>3.391396</td>\n",
       "      <td>2.156917</td>\n",
       "      <td>0.969094</td>\n",
       "      <td>0.645356</td>\n",
       "      <td>0.395199</td>\n",
       "    </tr>\n",
       "    <tr>\n",
       "      <th>heating</th>\n",
       "      <td>1.176728</td>\n",
       "      <td>5.15668</td>\n",
       "      <td>3.361244</td>\n",
       "      <td>0.533238</td>\n",
       "      <td>0.0</td>\n",
       "      <td>0.000000</td>\n",
       "      <td>0.000</td>\n",
       "      <td>0.000000</td>\n",
       "      <td>0.000000</td>\n",
       "      <td>0.000000</td>\n",
       "      <td>0.000000</td>\n",
       "      <td>0.000000</td>\n",
       "    </tr>\n",
       "  </tbody>\n",
       "</table>\n",
       "</div>"
      ],
      "text/plain": [
       "          january  february     march     april  may      june   july  \\\n",
       "load                                                                    \n",
       "cooling  0.000000   0.00000  0.000000  0.000000  0.0  0.720345  2.467   \n",
       "heating  1.176728   5.15668  3.361244  0.533238  0.0  0.000000  0.000   \n",
       "\n",
       "           august  september   october  november  december  \n",
       "load                                                        \n",
       "cooling  3.391396   2.156917  0.969094  0.645356  0.395199  \n",
       "heating  0.000000   0.000000  0.000000  0.000000  0.000000  "
      ]
     },
     "execution_count": 145,
     "metadata": {},
     "output_type": "execute_result"
    }
   ],
   "source": [
    "umi_df_mon_norm = get_monthly(umi_df).groupby(\"load\").sum().divide(tfa.sum())\n",
    "umi_df_mon_norm"
   ]
  },
  {
   "cell_type": "code",
   "execution_count": 183,
   "metadata": {},
   "outputs": [
    {
     "data": {
      "application/vnd.plotly.v1+json": {
       "config": {
        "plotlyServerURL": "https://plot.ly"
       },
       "data": [
        {
         "mode": "lines+markers",
         "name": "Surrogate, Cooling",
         "type": "scatter",
         "x": [
          "january",
          "february",
          "march",
          "april",
          "may",
          "june",
          "july",
          "august",
          "september",
          "october",
          "november",
          "december"
         ],
         "y": [
          0.592490242922207,
          0.86293728394941,
          1.4727121655706015,
          2.545077371553601,
          4.296720635763352,
          7.661195026494465,
          9.910597968893551,
          9.473078184841036,
          5.807872618264572,
          2.96009055862557,
          1.5401507800528529,
          0.6120509405635219
         ]
        },
        {
         "mode": "lines+markers",
         "name": "Surrogate, Heating",
         "type": "scatter",
         "x": [
          "january",
          "february",
          "march",
          "april",
          "may",
          "june",
          "july",
          "august",
          "september",
          "october",
          "november",
          "december"
         ],
         "y": [
          31.79076501737873,
          26.25859306324665,
          17.62450080661203,
          4.834134726660187,
          0.3977197473138325,
          -0.03885925618409907,
          -0.04306477219226565,
          -0.04123381419448902,
          0.009486485070486621,
          2.840966699037617,
          11.92888430104926,
          22.747324208739418
         ]
        },
        {
         "mode": "lines+markers",
         "name": "CS context, Cooling",
         "type": "scatter",
         "x": [
          "january",
          "february",
          "march",
          "april",
          "may",
          "june",
          "july",
          "august",
          "september",
          "october",
          "november",
          "december"
         ],
         "y": [
          0.224322,
          0.334789,
          0.479481,
          1.184509,
          2.731751,
          4.966134,
          6.69825,
          6.592109,
          3.864128,
          1.620085,
          0.839806,
          0.228752
         ]
        },
        {
         "mode": "lines+markers",
         "name": "CS context, Heating",
         "type": "scatter",
         "x": [
          "january",
          "february",
          "march",
          "april",
          "may",
          "june",
          "july",
          "august",
          "september",
          "october",
          "november",
          "december"
         ],
         "y": [
          22.477821,
          16.568589,
          12.775908,
          4.114498,
          1.032315,
          0.269734,
          0.015241,
          0.024786,
          0.280518,
          2.737289,
          7.922957,
          14.404169
         ]
        },
        {
         "mode": "lines+markers",
         "name": "CS no-shad, Cooling",
         "type": "scatter",
         "x": [
          "january",
          "february",
          "march",
          "april",
          "may",
          "june",
          "july",
          "august",
          "september",
          "october",
          "november",
          "december"
         ],
         "y": [
          1.226682738579909,
          1.4547654575342648,
          1.7976648134194853,
          2.9139016486218083,
          5.417848657759919,
          8.704279065426569,
          11.078455355379756,
          10.954124594931756,
          6.57170176844628,
          3.441142079246132,
          2.5213797672239857,
          1.0317369777374457
         ]
        },
        {
         "mode": "lines+markers",
         "name": "CS no-shad, Heating",
         "type": "scatter",
         "x": [
          "january",
          "february",
          "march",
          "april",
          "may",
          "june",
          "july",
          "august",
          "september",
          "october",
          "november",
          "december"
         ],
         "y": [
          40.73528017226733,
          30.25525976062168,
          24.862712789701728,
          9.529547670399609,
          3.2959992573408745,
          0.9472974567851397,
          0.07846844506707741,
          0.13004443189194329,
          1.1633866860593494,
          7.575263995061382,
          17.20116730158787,
          27.17478444728182
         ]
        }
       ],
       "layout": {
        "autosize": false,
        "height": 600,
        "template": {
         "data": {
          "bar": [
           {
            "error_x": {
             "color": "#2a3f5f"
            },
            "error_y": {
             "color": "#2a3f5f"
            },
            "marker": {
             "line": {
              "color": "#E5ECF6",
              "width": 0.5
             },
             "pattern": {
              "fillmode": "overlay",
              "size": 10,
              "solidity": 0.2
             }
            },
            "type": "bar"
           }
          ],
          "barpolar": [
           {
            "marker": {
             "line": {
              "color": "#E5ECF6",
              "width": 0.5
             },
             "pattern": {
              "fillmode": "overlay",
              "size": 10,
              "solidity": 0.2
             }
            },
            "type": "barpolar"
           }
          ],
          "carpet": [
           {
            "aaxis": {
             "endlinecolor": "#2a3f5f",
             "gridcolor": "white",
             "linecolor": "white",
             "minorgridcolor": "white",
             "startlinecolor": "#2a3f5f"
            },
            "baxis": {
             "endlinecolor": "#2a3f5f",
             "gridcolor": "white",
             "linecolor": "white",
             "minorgridcolor": "white",
             "startlinecolor": "#2a3f5f"
            },
            "type": "carpet"
           }
          ],
          "choropleth": [
           {
            "colorbar": {
             "outlinewidth": 0,
             "ticks": ""
            },
            "type": "choropleth"
           }
          ],
          "contour": [
           {
            "colorbar": {
             "outlinewidth": 0,
             "ticks": ""
            },
            "colorscale": [
             [
              0,
              "#0d0887"
             ],
             [
              0.1111111111111111,
              "#46039f"
             ],
             [
              0.2222222222222222,
              "#7201a8"
             ],
             [
              0.3333333333333333,
              "#9c179e"
             ],
             [
              0.4444444444444444,
              "#bd3786"
             ],
             [
              0.5555555555555556,
              "#d8576b"
             ],
             [
              0.6666666666666666,
              "#ed7953"
             ],
             [
              0.7777777777777778,
              "#fb9f3a"
             ],
             [
              0.8888888888888888,
              "#fdca26"
             ],
             [
              1,
              "#f0f921"
             ]
            ],
            "type": "contour"
           }
          ],
          "contourcarpet": [
           {
            "colorbar": {
             "outlinewidth": 0,
             "ticks": ""
            },
            "type": "contourcarpet"
           }
          ],
          "heatmap": [
           {
            "colorbar": {
             "outlinewidth": 0,
             "ticks": ""
            },
            "colorscale": [
             [
              0,
              "#0d0887"
             ],
             [
              0.1111111111111111,
              "#46039f"
             ],
             [
              0.2222222222222222,
              "#7201a8"
             ],
             [
              0.3333333333333333,
              "#9c179e"
             ],
             [
              0.4444444444444444,
              "#bd3786"
             ],
             [
              0.5555555555555556,
              "#d8576b"
             ],
             [
              0.6666666666666666,
              "#ed7953"
             ],
             [
              0.7777777777777778,
              "#fb9f3a"
             ],
             [
              0.8888888888888888,
              "#fdca26"
             ],
             [
              1,
              "#f0f921"
             ]
            ],
            "type": "heatmap"
           }
          ],
          "heatmapgl": [
           {
            "colorbar": {
             "outlinewidth": 0,
             "ticks": ""
            },
            "colorscale": [
             [
              0,
              "#0d0887"
             ],
             [
              0.1111111111111111,
              "#46039f"
             ],
             [
              0.2222222222222222,
              "#7201a8"
             ],
             [
              0.3333333333333333,
              "#9c179e"
             ],
             [
              0.4444444444444444,
              "#bd3786"
             ],
             [
              0.5555555555555556,
              "#d8576b"
             ],
             [
              0.6666666666666666,
              "#ed7953"
             ],
             [
              0.7777777777777778,
              "#fb9f3a"
             ],
             [
              0.8888888888888888,
              "#fdca26"
             ],
             [
              1,
              "#f0f921"
             ]
            ],
            "type": "heatmapgl"
           }
          ],
          "histogram": [
           {
            "marker": {
             "pattern": {
              "fillmode": "overlay",
              "size": 10,
              "solidity": 0.2
             }
            },
            "type": "histogram"
           }
          ],
          "histogram2d": [
           {
            "colorbar": {
             "outlinewidth": 0,
             "ticks": ""
            },
            "colorscale": [
             [
              0,
              "#0d0887"
             ],
             [
              0.1111111111111111,
              "#46039f"
             ],
             [
              0.2222222222222222,
              "#7201a8"
             ],
             [
              0.3333333333333333,
              "#9c179e"
             ],
             [
              0.4444444444444444,
              "#bd3786"
             ],
             [
              0.5555555555555556,
              "#d8576b"
             ],
             [
              0.6666666666666666,
              "#ed7953"
             ],
             [
              0.7777777777777778,
              "#fb9f3a"
             ],
             [
              0.8888888888888888,
              "#fdca26"
             ],
             [
              1,
              "#f0f921"
             ]
            ],
            "type": "histogram2d"
           }
          ],
          "histogram2dcontour": [
           {
            "colorbar": {
             "outlinewidth": 0,
             "ticks": ""
            },
            "colorscale": [
             [
              0,
              "#0d0887"
             ],
             [
              0.1111111111111111,
              "#46039f"
             ],
             [
              0.2222222222222222,
              "#7201a8"
             ],
             [
              0.3333333333333333,
              "#9c179e"
             ],
             [
              0.4444444444444444,
              "#bd3786"
             ],
             [
              0.5555555555555556,
              "#d8576b"
             ],
             [
              0.6666666666666666,
              "#ed7953"
             ],
             [
              0.7777777777777778,
              "#fb9f3a"
             ],
             [
              0.8888888888888888,
              "#fdca26"
             ],
             [
              1,
              "#f0f921"
             ]
            ],
            "type": "histogram2dcontour"
           }
          ],
          "mesh3d": [
           {
            "colorbar": {
             "outlinewidth": 0,
             "ticks": ""
            },
            "type": "mesh3d"
           }
          ],
          "parcoords": [
           {
            "line": {
             "colorbar": {
              "outlinewidth": 0,
              "ticks": ""
             }
            },
            "type": "parcoords"
           }
          ],
          "pie": [
           {
            "automargin": true,
            "type": "pie"
           }
          ],
          "scatter": [
           {
            "fillpattern": {
             "fillmode": "overlay",
             "size": 10,
             "solidity": 0.2
            },
            "type": "scatter"
           }
          ],
          "scatter3d": [
           {
            "line": {
             "colorbar": {
              "outlinewidth": 0,
              "ticks": ""
             }
            },
            "marker": {
             "colorbar": {
              "outlinewidth": 0,
              "ticks": ""
             }
            },
            "type": "scatter3d"
           }
          ],
          "scattercarpet": [
           {
            "marker": {
             "colorbar": {
              "outlinewidth": 0,
              "ticks": ""
             }
            },
            "type": "scattercarpet"
           }
          ],
          "scattergeo": [
           {
            "marker": {
             "colorbar": {
              "outlinewidth": 0,
              "ticks": ""
             }
            },
            "type": "scattergeo"
           }
          ],
          "scattergl": [
           {
            "marker": {
             "colorbar": {
              "outlinewidth": 0,
              "ticks": ""
             }
            },
            "type": "scattergl"
           }
          ],
          "scattermapbox": [
           {
            "marker": {
             "colorbar": {
              "outlinewidth": 0,
              "ticks": ""
             }
            },
            "type": "scattermapbox"
           }
          ],
          "scatterpolar": [
           {
            "marker": {
             "colorbar": {
              "outlinewidth": 0,
              "ticks": ""
             }
            },
            "type": "scatterpolar"
           }
          ],
          "scatterpolargl": [
           {
            "marker": {
             "colorbar": {
              "outlinewidth": 0,
              "ticks": ""
             }
            },
            "type": "scatterpolargl"
           }
          ],
          "scatterternary": [
           {
            "marker": {
             "colorbar": {
              "outlinewidth": 0,
              "ticks": ""
             }
            },
            "type": "scatterternary"
           }
          ],
          "surface": [
           {
            "colorbar": {
             "outlinewidth": 0,
             "ticks": ""
            },
            "colorscale": [
             [
              0,
              "#0d0887"
             ],
             [
              0.1111111111111111,
              "#46039f"
             ],
             [
              0.2222222222222222,
              "#7201a8"
             ],
             [
              0.3333333333333333,
              "#9c179e"
             ],
             [
              0.4444444444444444,
              "#bd3786"
             ],
             [
              0.5555555555555556,
              "#d8576b"
             ],
             [
              0.6666666666666666,
              "#ed7953"
             ],
             [
              0.7777777777777778,
              "#fb9f3a"
             ],
             [
              0.8888888888888888,
              "#fdca26"
             ],
             [
              1,
              "#f0f921"
             ]
            ],
            "type": "surface"
           }
          ],
          "table": [
           {
            "cells": {
             "fill": {
              "color": "#EBF0F8"
             },
             "line": {
              "color": "white"
             }
            },
            "header": {
             "fill": {
              "color": "#C8D4E3"
             },
             "line": {
              "color": "white"
             }
            },
            "type": "table"
           }
          ]
         },
         "layout": {
          "annotationdefaults": {
           "arrowcolor": "#2a3f5f",
           "arrowhead": 0,
           "arrowwidth": 1
          },
          "autotypenumbers": "strict",
          "coloraxis": {
           "colorbar": {
            "outlinewidth": 0,
            "ticks": ""
           }
          },
          "colorscale": {
           "diverging": [
            [
             0,
             "#8e0152"
            ],
            [
             0.1,
             "#c51b7d"
            ],
            [
             0.2,
             "#de77ae"
            ],
            [
             0.3,
             "#f1b6da"
            ],
            [
             0.4,
             "#fde0ef"
            ],
            [
             0.5,
             "#f7f7f7"
            ],
            [
             0.6,
             "#e6f5d0"
            ],
            [
             0.7,
             "#b8e186"
            ],
            [
             0.8,
             "#7fbc41"
            ],
            [
             0.9,
             "#4d9221"
            ],
            [
             1,
             "#276419"
            ]
           ],
           "sequential": [
            [
             0,
             "#0d0887"
            ],
            [
             0.1111111111111111,
             "#46039f"
            ],
            [
             0.2222222222222222,
             "#7201a8"
            ],
            [
             0.3333333333333333,
             "#9c179e"
            ],
            [
             0.4444444444444444,
             "#bd3786"
            ],
            [
             0.5555555555555556,
             "#d8576b"
            ],
            [
             0.6666666666666666,
             "#ed7953"
            ],
            [
             0.7777777777777778,
             "#fb9f3a"
            ],
            [
             0.8888888888888888,
             "#fdca26"
            ],
            [
             1,
             "#f0f921"
            ]
           ],
           "sequentialminus": [
            [
             0,
             "#0d0887"
            ],
            [
             0.1111111111111111,
             "#46039f"
            ],
            [
             0.2222222222222222,
             "#7201a8"
            ],
            [
             0.3333333333333333,
             "#9c179e"
            ],
            [
             0.4444444444444444,
             "#bd3786"
            ],
            [
             0.5555555555555556,
             "#d8576b"
            ],
            [
             0.6666666666666666,
             "#ed7953"
            ],
            [
             0.7777777777777778,
             "#fb9f3a"
            ],
            [
             0.8888888888888888,
             "#fdca26"
            ],
            [
             1,
             "#f0f921"
            ]
           ]
          },
          "colorway": [
           "#636efa",
           "#EF553B",
           "#00cc96",
           "#ab63fa",
           "#FFA15A",
           "#19d3f3",
           "#FF6692",
           "#B6E880",
           "#FF97FF",
           "#FECB52"
          ],
          "font": {
           "color": "#2a3f5f"
          },
          "geo": {
           "bgcolor": "white",
           "lakecolor": "white",
           "landcolor": "#E5ECF6",
           "showlakes": true,
           "showland": true,
           "subunitcolor": "white"
          },
          "hoverlabel": {
           "align": "left"
          },
          "hovermode": "closest",
          "mapbox": {
           "style": "light"
          },
          "paper_bgcolor": "white",
          "plot_bgcolor": "#E5ECF6",
          "polar": {
           "angularaxis": {
            "gridcolor": "white",
            "linecolor": "white",
            "ticks": ""
           },
           "bgcolor": "#E5ECF6",
           "radialaxis": {
            "gridcolor": "white",
            "linecolor": "white",
            "ticks": ""
           }
          },
          "scene": {
           "xaxis": {
            "backgroundcolor": "#E5ECF6",
            "gridcolor": "white",
            "gridwidth": 2,
            "linecolor": "white",
            "showbackground": true,
            "ticks": "",
            "zerolinecolor": "white"
           },
           "yaxis": {
            "backgroundcolor": "#E5ECF6",
            "gridcolor": "white",
            "gridwidth": 2,
            "linecolor": "white",
            "showbackground": true,
            "ticks": "",
            "zerolinecolor": "white"
           },
           "zaxis": {
            "backgroundcolor": "#E5ECF6",
            "gridcolor": "white",
            "gridwidth": 2,
            "linecolor": "white",
            "showbackground": true,
            "ticks": "",
            "zerolinecolor": "white"
           }
          },
          "shapedefaults": {
           "line": {
            "color": "#2a3f5f"
           }
          },
          "ternary": {
           "aaxis": {
            "gridcolor": "white",
            "linecolor": "white",
            "ticks": ""
           },
           "baxis": {
            "gridcolor": "white",
            "linecolor": "white",
            "ticks": ""
           },
           "bgcolor": "#E5ECF6",
           "caxis": {
            "gridcolor": "white",
            "linecolor": "white",
            "ticks": ""
           }
          },
          "title": {
           "x": 0.05
          },
          "xaxis": {
           "automargin": true,
           "gridcolor": "white",
           "linecolor": "white",
           "ticks": "",
           "title": {
            "standoff": 15
           },
           "zerolinecolor": "white",
           "zerolinewidth": 2
          },
          "yaxis": {
           "automargin": true,
           "gridcolor": "white",
           "linecolor": "white",
           "ticks": "",
           "title": {
            "standoff": 15
           },
           "zerolinecolor": "white",
           "zerolinewidth": 2
          }
         }
        },
        "title": {
         "text": "Surrogate, CS context, and CS-no shading average normalized heating and cooling"
        },
        "width": 800
       }
      }
     },
     "metadata": {},
     "output_type": "display_data"
    }
   ],
   "source": [
    "import plotly.graph_objects as go\n",
    "\n",
    "fig = go.Figure()\n",
    "fig.add_trace(\n",
    "    go.Scatter(\n",
    "        x = umi_df_mon_norm.columns,\n",
    "        y = monthly_predictions[\"Cooling\"].multiply(tfa, axis=0).sum(axis=0).divide(tfa.sum()*COP_COOLING),\n",
    "        mode='lines+markers',\n",
    "        name = \"Surrogate, Cooling\"\n",
    "    )\n",
    ")\n",
    "fig.add_trace(\n",
    "    go.Scatter(\n",
    "        x = umi_df_mon_norm.columns,\n",
    "        y = monthly_predictions[\"Heating\"].multiply(tfa, axis=0).sum(axis=0).divide(tfa.sum()*COP_HEATING),\n",
    "        mode='lines+markers',\n",
    "        name = \"Surrogate, Heating\"\n",
    "    )\n",
    ")\n",
    "fig.add_trace(\n",
    "    go.Scatter(\n",
    "        x = umi_df_mon_norm.columns,\n",
    "        y = CS_results[\"cooling\"],\n",
    "        mode='lines+markers',\n",
    "        name = \"CS context, Cooling\"\n",
    "    )\n",
    ")\n",
    "fig.add_trace(\n",
    "    go.Scatter(\n",
    "        x = umi_df_mon_norm.columns,\n",
    "        y = CS_results[\"heating\"],\n",
    "        mode='lines+markers',\n",
    "        name = \"CS context, Heating\"\n",
    "    )\n",
    ")\n",
    "fig.add_trace(\n",
    "    go.Scatter(\n",
    "        x = umi_df_mon_norm.columns,\n",
    "        y = CS_building_results['cooling'].multiply(tfa, axis=0).sum(axis=0).divide(tfa.sum()),\n",
    "        mode='lines+markers',\n",
    "        name = \"CS no-shad, Cooling\"\n",
    "    )\n",
    ")\n",
    "fig.add_trace(\n",
    "    go.Scatter(\n",
    "        x = umi_df_mon_norm.columns,\n",
    "        y = CS_building_results['heating'].multiply(tfa, axis=0).sum(axis=0).divide(tfa.sum()),\n",
    "        mode='lines+markers',\n",
    "        name = \"CS no-shad, Heating\"\n",
    "    )\n",
    ")\n",
    "\n",
    "# colors = []\n",
    "# for i in range(4):\n",
    "#     fig.data[i].line.color = colors[i]\n",
    "fig.update_layout(\n",
    "    title=\"Surrogate, CS context, and CS-no shading average normalized heating and cooling\",\n",
    "    autosize=False,\n",
    "    width=800,\n",
    "    height=600,\n",
    ")\n",
    "fig.show()"
   ]
  },
  {
   "cell_type": "code",
   "execution_count": 177,
   "metadata": {},
   "outputs": [
    {
     "data": {
      "application/vnd.plotly.v1+json": {
       "config": {
        "plotlyServerURL": "https://plot.ly"
       },
       "data": [
        {
         "mode": "lines+markers",
         "name": "Surrogate, Cooling",
         "type": "scatter",
         "x": [
          "january",
          "february",
          "march",
          "april",
          "may",
          "june",
          "july",
          "august",
          "september",
          "october",
          "november",
          "december"
         ],
         "y": [
          36638.44653450196,
          53362.36658459204,
          91069.66162488125,
          157382.64438572477,
          265700.86371494306,
          473753.42922814086,
          612852.1408510786,
          585796.7666786136,
          359147.569002961,
          183046.2542886579,
          95239.93463880036,
          37848.04210720572
         ]
        },
        {
         "mode": "lines+markers",
         "name": "Surrogate, Heating",
         "type": "scatter",
         "x": [
          "january",
          "february",
          "march",
          "april",
          "may",
          "june",
          "july",
          "august",
          "september",
          "october",
          "november",
          "december"
         ],
         "y": [
          1965879.1993526174,
          1623780.4242547255,
          1089864.9188137355,
          298933.50791697926,
          24594.217156731713,
          -2402.9809723947874,
          -2663.041918977218,
          -2549.819030482722,
          586.6258224627178,
          175679.8660440674,
          737659.049918967,
          1406650.3740455841
         ]
        },
        {
         "mode": "lines+markers",
         "name": "CS context, Cooling",
         "type": "scatter",
         "x": [
          "january",
          "february",
          "march",
          "april",
          "may",
          "june",
          "july",
          "august",
          "september",
          "october",
          "november",
          "december"
         ],
         "y": [
          13871.637046673975,
          20702.701898248648,
          29650.174315387187,
          73247.73729959052,
          168926.17921509562,
          307096.0867554106,
          414206.77797043516,
          407643.2245616254,
          238950.17482855098,
          100182.91163934348,
          51931.97288549088,
          14145.579647563616
         ]
        },
        {
         "mode": "lines+markers",
         "name": "CS context, Heating",
         "type": "scatter",
         "x": [
          "january",
          "february",
          "march",
          "april",
          "may",
          "june",
          "july",
          "august",
          "september",
          "october",
          "november",
          "december"
         ],
         "y": [
          1389984.8187520895,
          1024569.3823321605,
          790037.3512972352,
          254432.5696332325,
          63836.35576464745,
          16679.82697705779,
          942.4738555663646,
          1532.7181276863666,
          17346.688604144445,
          169268.6383852371,
          489940.2815613489,
          890725.8509060761
         ]
        },
        {
         "mode": "lines+markers",
         "name": "CS context, Cooling",
         "type": "scatter",
         "x": [
          "january",
          "february",
          "march",
          "april",
          "may",
          "june",
          "july",
          "august",
          "september",
          "october",
          "november",
          "december"
         ],
         "y": [
          75855.67942957247,
          89959.87203642052,
          111164.10259953099,
          180190.02175170803,
          335029.24436415226,
          538255.7214564774,
          685070.1746935634,
          677381.8018069466,
          406381.2809749926,
          212793.54655066982,
          155917.23053360102,
          63800.61198993498
         ]
        },
        {
         "mode": "lines+markers",
         "name": "CS context, Heating",
         "type": "scatter",
         "x": [
          "january",
          "february",
          "march",
          "april",
          "may",
          "june",
          "july",
          "august",
          "september",
          "october",
          "november",
          "december"
         ],
         "y": [
          2518990.6542571275,
          1870926.5348569648,
          1537461.8976936785,
          589288.7300521611,
          203818.19618200438,
          58579.035920510614,
          4852.336327187582,
          8041.695237854295,
          71941.5744062024,
          468439.6210457689,
          1063686.7965992782,
          1680435.921016638
         ]
        }
       ],
       "layout": {
        "template": {
         "data": {
          "bar": [
           {
            "error_x": {
             "color": "#2a3f5f"
            },
            "error_y": {
             "color": "#2a3f5f"
            },
            "marker": {
             "line": {
              "color": "#E5ECF6",
              "width": 0.5
             },
             "pattern": {
              "fillmode": "overlay",
              "size": 10,
              "solidity": 0.2
             }
            },
            "type": "bar"
           }
          ],
          "barpolar": [
           {
            "marker": {
             "line": {
              "color": "#E5ECF6",
              "width": 0.5
             },
             "pattern": {
              "fillmode": "overlay",
              "size": 10,
              "solidity": 0.2
             }
            },
            "type": "barpolar"
           }
          ],
          "carpet": [
           {
            "aaxis": {
             "endlinecolor": "#2a3f5f",
             "gridcolor": "white",
             "linecolor": "white",
             "minorgridcolor": "white",
             "startlinecolor": "#2a3f5f"
            },
            "baxis": {
             "endlinecolor": "#2a3f5f",
             "gridcolor": "white",
             "linecolor": "white",
             "minorgridcolor": "white",
             "startlinecolor": "#2a3f5f"
            },
            "type": "carpet"
           }
          ],
          "choropleth": [
           {
            "colorbar": {
             "outlinewidth": 0,
             "ticks": ""
            },
            "type": "choropleth"
           }
          ],
          "contour": [
           {
            "colorbar": {
             "outlinewidth": 0,
             "ticks": ""
            },
            "colorscale": [
             [
              0,
              "#0d0887"
             ],
             [
              0.1111111111111111,
              "#46039f"
             ],
             [
              0.2222222222222222,
              "#7201a8"
             ],
             [
              0.3333333333333333,
              "#9c179e"
             ],
             [
              0.4444444444444444,
              "#bd3786"
             ],
             [
              0.5555555555555556,
              "#d8576b"
             ],
             [
              0.6666666666666666,
              "#ed7953"
             ],
             [
              0.7777777777777778,
              "#fb9f3a"
             ],
             [
              0.8888888888888888,
              "#fdca26"
             ],
             [
              1,
              "#f0f921"
             ]
            ],
            "type": "contour"
           }
          ],
          "contourcarpet": [
           {
            "colorbar": {
             "outlinewidth": 0,
             "ticks": ""
            },
            "type": "contourcarpet"
           }
          ],
          "heatmap": [
           {
            "colorbar": {
             "outlinewidth": 0,
             "ticks": ""
            },
            "colorscale": [
             [
              0,
              "#0d0887"
             ],
             [
              0.1111111111111111,
              "#46039f"
             ],
             [
              0.2222222222222222,
              "#7201a8"
             ],
             [
              0.3333333333333333,
              "#9c179e"
             ],
             [
              0.4444444444444444,
              "#bd3786"
             ],
             [
              0.5555555555555556,
              "#d8576b"
             ],
             [
              0.6666666666666666,
              "#ed7953"
             ],
             [
              0.7777777777777778,
              "#fb9f3a"
             ],
             [
              0.8888888888888888,
              "#fdca26"
             ],
             [
              1,
              "#f0f921"
             ]
            ],
            "type": "heatmap"
           }
          ],
          "heatmapgl": [
           {
            "colorbar": {
             "outlinewidth": 0,
             "ticks": ""
            },
            "colorscale": [
             [
              0,
              "#0d0887"
             ],
             [
              0.1111111111111111,
              "#46039f"
             ],
             [
              0.2222222222222222,
              "#7201a8"
             ],
             [
              0.3333333333333333,
              "#9c179e"
             ],
             [
              0.4444444444444444,
              "#bd3786"
             ],
             [
              0.5555555555555556,
              "#d8576b"
             ],
             [
              0.6666666666666666,
              "#ed7953"
             ],
             [
              0.7777777777777778,
              "#fb9f3a"
             ],
             [
              0.8888888888888888,
              "#fdca26"
             ],
             [
              1,
              "#f0f921"
             ]
            ],
            "type": "heatmapgl"
           }
          ],
          "histogram": [
           {
            "marker": {
             "pattern": {
              "fillmode": "overlay",
              "size": 10,
              "solidity": 0.2
             }
            },
            "type": "histogram"
           }
          ],
          "histogram2d": [
           {
            "colorbar": {
             "outlinewidth": 0,
             "ticks": ""
            },
            "colorscale": [
             [
              0,
              "#0d0887"
             ],
             [
              0.1111111111111111,
              "#46039f"
             ],
             [
              0.2222222222222222,
              "#7201a8"
             ],
             [
              0.3333333333333333,
              "#9c179e"
             ],
             [
              0.4444444444444444,
              "#bd3786"
             ],
             [
              0.5555555555555556,
              "#d8576b"
             ],
             [
              0.6666666666666666,
              "#ed7953"
             ],
             [
              0.7777777777777778,
              "#fb9f3a"
             ],
             [
              0.8888888888888888,
              "#fdca26"
             ],
             [
              1,
              "#f0f921"
             ]
            ],
            "type": "histogram2d"
           }
          ],
          "histogram2dcontour": [
           {
            "colorbar": {
             "outlinewidth": 0,
             "ticks": ""
            },
            "colorscale": [
             [
              0,
              "#0d0887"
             ],
             [
              0.1111111111111111,
              "#46039f"
             ],
             [
              0.2222222222222222,
              "#7201a8"
             ],
             [
              0.3333333333333333,
              "#9c179e"
             ],
             [
              0.4444444444444444,
              "#bd3786"
             ],
             [
              0.5555555555555556,
              "#d8576b"
             ],
             [
              0.6666666666666666,
              "#ed7953"
             ],
             [
              0.7777777777777778,
              "#fb9f3a"
             ],
             [
              0.8888888888888888,
              "#fdca26"
             ],
             [
              1,
              "#f0f921"
             ]
            ],
            "type": "histogram2dcontour"
           }
          ],
          "mesh3d": [
           {
            "colorbar": {
             "outlinewidth": 0,
             "ticks": ""
            },
            "type": "mesh3d"
           }
          ],
          "parcoords": [
           {
            "line": {
             "colorbar": {
              "outlinewidth": 0,
              "ticks": ""
             }
            },
            "type": "parcoords"
           }
          ],
          "pie": [
           {
            "automargin": true,
            "type": "pie"
           }
          ],
          "scatter": [
           {
            "fillpattern": {
             "fillmode": "overlay",
             "size": 10,
             "solidity": 0.2
            },
            "type": "scatter"
           }
          ],
          "scatter3d": [
           {
            "line": {
             "colorbar": {
              "outlinewidth": 0,
              "ticks": ""
             }
            },
            "marker": {
             "colorbar": {
              "outlinewidth": 0,
              "ticks": ""
             }
            },
            "type": "scatter3d"
           }
          ],
          "scattercarpet": [
           {
            "marker": {
             "colorbar": {
              "outlinewidth": 0,
              "ticks": ""
             }
            },
            "type": "scattercarpet"
           }
          ],
          "scattergeo": [
           {
            "marker": {
             "colorbar": {
              "outlinewidth": 0,
              "ticks": ""
             }
            },
            "type": "scattergeo"
           }
          ],
          "scattergl": [
           {
            "marker": {
             "colorbar": {
              "outlinewidth": 0,
              "ticks": ""
             }
            },
            "type": "scattergl"
           }
          ],
          "scattermapbox": [
           {
            "marker": {
             "colorbar": {
              "outlinewidth": 0,
              "ticks": ""
             }
            },
            "type": "scattermapbox"
           }
          ],
          "scatterpolar": [
           {
            "marker": {
             "colorbar": {
              "outlinewidth": 0,
              "ticks": ""
             }
            },
            "type": "scatterpolar"
           }
          ],
          "scatterpolargl": [
           {
            "marker": {
             "colorbar": {
              "outlinewidth": 0,
              "ticks": ""
             }
            },
            "type": "scatterpolargl"
           }
          ],
          "scatterternary": [
           {
            "marker": {
             "colorbar": {
              "outlinewidth": 0,
              "ticks": ""
             }
            },
            "type": "scatterternary"
           }
          ],
          "surface": [
           {
            "colorbar": {
             "outlinewidth": 0,
             "ticks": ""
            },
            "colorscale": [
             [
              0,
              "#0d0887"
             ],
             [
              0.1111111111111111,
              "#46039f"
             ],
             [
              0.2222222222222222,
              "#7201a8"
             ],
             [
              0.3333333333333333,
              "#9c179e"
             ],
             [
              0.4444444444444444,
              "#bd3786"
             ],
             [
              0.5555555555555556,
              "#d8576b"
             ],
             [
              0.6666666666666666,
              "#ed7953"
             ],
             [
              0.7777777777777778,
              "#fb9f3a"
             ],
             [
              0.8888888888888888,
              "#fdca26"
             ],
             [
              1,
              "#f0f921"
             ]
            ],
            "type": "surface"
           }
          ],
          "table": [
           {
            "cells": {
             "fill": {
              "color": "#EBF0F8"
             },
             "line": {
              "color": "white"
             }
            },
            "header": {
             "fill": {
              "color": "#C8D4E3"
             },
             "line": {
              "color": "white"
             }
            },
            "type": "table"
           }
          ]
         },
         "layout": {
          "annotationdefaults": {
           "arrowcolor": "#2a3f5f",
           "arrowhead": 0,
           "arrowwidth": 1
          },
          "autotypenumbers": "strict",
          "coloraxis": {
           "colorbar": {
            "outlinewidth": 0,
            "ticks": ""
           }
          },
          "colorscale": {
           "diverging": [
            [
             0,
             "#8e0152"
            ],
            [
             0.1,
             "#c51b7d"
            ],
            [
             0.2,
             "#de77ae"
            ],
            [
             0.3,
             "#f1b6da"
            ],
            [
             0.4,
             "#fde0ef"
            ],
            [
             0.5,
             "#f7f7f7"
            ],
            [
             0.6,
             "#e6f5d0"
            ],
            [
             0.7,
             "#b8e186"
            ],
            [
             0.8,
             "#7fbc41"
            ],
            [
             0.9,
             "#4d9221"
            ],
            [
             1,
             "#276419"
            ]
           ],
           "sequential": [
            [
             0,
             "#0d0887"
            ],
            [
             0.1111111111111111,
             "#46039f"
            ],
            [
             0.2222222222222222,
             "#7201a8"
            ],
            [
             0.3333333333333333,
             "#9c179e"
            ],
            [
             0.4444444444444444,
             "#bd3786"
            ],
            [
             0.5555555555555556,
             "#d8576b"
            ],
            [
             0.6666666666666666,
             "#ed7953"
            ],
            [
             0.7777777777777778,
             "#fb9f3a"
            ],
            [
             0.8888888888888888,
             "#fdca26"
            ],
            [
             1,
             "#f0f921"
            ]
           ],
           "sequentialminus": [
            [
             0,
             "#0d0887"
            ],
            [
             0.1111111111111111,
             "#46039f"
            ],
            [
             0.2222222222222222,
             "#7201a8"
            ],
            [
             0.3333333333333333,
             "#9c179e"
            ],
            [
             0.4444444444444444,
             "#bd3786"
            ],
            [
             0.5555555555555556,
             "#d8576b"
            ],
            [
             0.6666666666666666,
             "#ed7953"
            ],
            [
             0.7777777777777778,
             "#fb9f3a"
            ],
            [
             0.8888888888888888,
             "#fdca26"
            ],
            [
             1,
             "#f0f921"
            ]
           ]
          },
          "colorway": [
           "#636efa",
           "#EF553B",
           "#00cc96",
           "#ab63fa",
           "#FFA15A",
           "#19d3f3",
           "#FF6692",
           "#B6E880",
           "#FF97FF",
           "#FECB52"
          ],
          "font": {
           "color": "#2a3f5f"
          },
          "geo": {
           "bgcolor": "white",
           "lakecolor": "white",
           "landcolor": "#E5ECF6",
           "showlakes": true,
           "showland": true,
           "subunitcolor": "white"
          },
          "hoverlabel": {
           "align": "left"
          },
          "hovermode": "closest",
          "mapbox": {
           "style": "light"
          },
          "paper_bgcolor": "white",
          "plot_bgcolor": "#E5ECF6",
          "polar": {
           "angularaxis": {
            "gridcolor": "white",
            "linecolor": "white",
            "ticks": ""
           },
           "bgcolor": "#E5ECF6",
           "radialaxis": {
            "gridcolor": "white",
            "linecolor": "white",
            "ticks": ""
           }
          },
          "scene": {
           "xaxis": {
            "backgroundcolor": "#E5ECF6",
            "gridcolor": "white",
            "gridwidth": 2,
            "linecolor": "white",
            "showbackground": true,
            "ticks": "",
            "zerolinecolor": "white"
           },
           "yaxis": {
            "backgroundcolor": "#E5ECF6",
            "gridcolor": "white",
            "gridwidth": 2,
            "linecolor": "white",
            "showbackground": true,
            "ticks": "",
            "zerolinecolor": "white"
           },
           "zaxis": {
            "backgroundcolor": "#E5ECF6",
            "gridcolor": "white",
            "gridwidth": 2,
            "linecolor": "white",
            "showbackground": true,
            "ticks": "",
            "zerolinecolor": "white"
           }
          },
          "shapedefaults": {
           "line": {
            "color": "#2a3f5f"
           }
          },
          "ternary": {
           "aaxis": {
            "gridcolor": "white",
            "linecolor": "white",
            "ticks": ""
           },
           "baxis": {
            "gridcolor": "white",
            "linecolor": "white",
            "ticks": ""
           },
           "bgcolor": "#E5ECF6",
           "caxis": {
            "gridcolor": "white",
            "linecolor": "white",
            "ticks": ""
           }
          },
          "title": {
           "x": 0.05
          },
          "xaxis": {
           "automargin": true,
           "gridcolor": "white",
           "linecolor": "white",
           "ticks": "",
           "title": {
            "standoff": 15
           },
           "zerolinecolor": "white",
           "zerolinewidth": 2
          },
          "yaxis": {
           "automargin": true,
           "gridcolor": "white",
           "linecolor": "white",
           "ticks": "",
           "title": {
            "standoff": 15
           },
           "zerolinecolor": "white",
           "zerolinewidth": 2
          }
         }
        },
        "title": {
         "text": "Surrogate, ClimateStudio-shading, and ClimateStudio-no shading total heating and cooling"
        }
       }
      }
     },
     "metadata": {},
     "output_type": "display_data"
    }
   ],
   "source": [
    "\n",
    "fig = go.Figure()\n",
    "fig.add_trace(\n",
    "    go.Scatter(\n",
    "        x = umi_df_mon_norm.columns,\n",
    "        y = monthly_predictions[\"Cooling\"].multiply(tfa, axis=0).sum(axis=0).divide(COP_COOLING),\n",
    "        mode='lines+markers',\n",
    "        name = \"Surrogate, Cooling\"\n",
    "    )\n",
    ")\n",
    "fig.add_trace(\n",
    "    go.Scatter(\n",
    "        x = umi_df_mon_norm.columns,\n",
    "        y = monthly_predictions[\"Heating\"].multiply(tfa, axis=0).sum(axis=0).divide(COP_HEATING),\n",
    "        mode='lines+markers',\n",
    "        name = \"Surrogate, Heating\"\n",
    "    )\n",
    ")\n",
    "fig.add_trace(\n",
    "    go.Scatter(\n",
    "        x = umi_df_mon_norm.columns,\n",
    "        y = CS_results[\"cooling\"].multiply(tfa.sum()),\n",
    "        mode='lines+markers',\n",
    "        name = \"CS context, Cooling\"\n",
    "    )\n",
    ")\n",
    "fig.add_trace(\n",
    "    go.Scatter(\n",
    "        x = umi_df_mon_norm.columns,\n",
    "        y = CS_results[\"heating\"].multiply(tfa.sum()),\n",
    "        mode='lines+markers',\n",
    "        name = \"CS context, Heating\"\n",
    "    )\n",
    ")\n",
    "fig.add_trace(\n",
    "    go.Scatter(\n",
    "        x = umi_df_mon_norm.columns,\n",
    "        y = CS_building_results['cooling'].multiply(tfa, axis=0).sum(axis=0),\n",
    "        mode='lines+markers',\n",
    "        name = \"CS context, Cooling\"\n",
    "    )\n",
    ")\n",
    "fig.add_trace(\n",
    "    go.Scatter(\n",
    "        x = umi_df_mon_norm.columns,\n",
    "        y = CS_building_results['heating'].multiply(tfa, axis=0).sum(axis=0),\n",
    "        mode='lines+markers',\n",
    "        name = \"CS context, Heating\"\n",
    "    )\n",
    ")\n",
    "\n",
    "# colors = []\n",
    "# for i in range(4):\n",
    "#     fig.data[i].line.color = colors[i]\n",
    "fig.update_layout(\n",
    "    title=\"Surrogate, ClimateStudio-shading, and ClimateStudio-no shading total heating and cooling\"\n",
    ")\n",
    "fig.show()"
   ]
  }
 ],
 "metadata": {
  "kernelspec": {
   "display_name": "ml-for-bem",
   "language": "python",
   "name": "python3"
  },
  "language_info": {
   "codemirror_mode": {
    "name": "ipython",
    "version": 3
   },
   "file_extension": ".py",
   "mimetype": "text/x-python",
   "name": "python",
   "nbconvert_exporter": "python",
   "pygments_lexer": "ipython3",
   "version": "3.8.16"
  },
  "orig_nbformat": 4
 },
 "nbformat": 4,
 "nbformat_minor": 2
}
