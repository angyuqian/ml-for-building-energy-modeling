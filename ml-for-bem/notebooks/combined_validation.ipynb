{
 "cells": [
  {
   "cell_type": "code",
   "execution_count": 1,
   "metadata": {},
   "outputs": [],
   "source": [
    "import os\n",
    "from concurrent.futures import ThreadPoolExecutor\n",
    "import pandas as pd\n",
    "from pathlib import Path\n",
    "import boto3\n",
    "import plotly.express as px\n",
    "import plotly.graph_objects as go\n",
    "import numpy as np\n",
    "\n",
    "s3 = boto3.client(\"s3\")"
   ]
  },
  {
   "cell_type": "code",
   "execution_count": 2,
   "metadata": {},
   "outputs": [],
   "source": [
    "bucket = \"ml-for-bem\"\n",
    "experiment_type = \"validation\"\n",
    "version = \"v5\"\n",
    "experiment_name = f\"{experiment_type}/{version}\"\n",
    "local_dir = Path(\"data\") / \"temp\" / experiment_name\n",
    "redownload = False"
   ]
  },
  {
   "cell_type": "code",
   "execution_count": 3,
   "metadata": {},
   "outputs": [],
   "source": [
    "def dl(file, force=False):\n",
    "    os.makedirs(local_dir, exist_ok=True)\n",
    "    if not (local_dir / file).exists() or force:\n",
    "        print(f\"Downloading {file}\")\n",
    "        s3.download_file(bucket, f\"{experiment_name}/{file}\", local_dir / file)\n",
    "    else:\n",
    "        print(f\"File {file} already exists, skipping.\")\n",
    "\n",
    "\n",
    "def dl_and_open_hdf(name, key=\"results\", force=False):\n",
    "    dl(f\"{name}.hdf\", force=force)\n",
    "    df = pd.read_hdf(local_dir / f\"{name}.hdf\", key=key)\n",
    "    if len(df) != 10000:\n",
    "        print(f\"WARNING: {name} has {len(df)} rows, expected 10000\")\n",
    "    return df\n",
    "\n",
    "\n",
    "city_map = {\n",
    "    \"name\": [\n",
    "        \"Mumbai\",\n",
    "        \"Caracas\",\n",
    "        \"Miami\",\n",
    "        \"Riyadh\",\n",
    "        \"Sao Paulo\",\n",
    "        \"Rome\",\n",
    "        \"Tokyo\",\n",
    "        \"Las Vegas\",\n",
    "        \"London\",\n",
    "        \"Seattle\",\n",
    "        \"Krakow\",\n",
    "        \"Oslo\",\n",
    "        \"Fairbanks\",\n",
    "    ],\n",
    "    \"keys\": [\n",
    "        \"mumbai\",\n",
    "        \"caracas\",\n",
    "        \"miami\",\n",
    "        \"riyadh\",\n",
    "        \"paulo\",\n",
    "        \"rome\",\n",
    "        \"tokyo\",\n",
    "        \"vegas\",\n",
    "        \"london\",\n",
    "        \"seattle\",\n",
    "        \"krakow\",\n",
    "        \"oslo\",\n",
    "        \"fairbanks\",\n",
    "    ],\n",
    "    \"Climate Zone\": [\n",
    "        \"0A\",\n",
    "        \"0B\",\n",
    "        \"1B\",\n",
    "        \"1A\",\n",
    "        \"2A\",\n",
    "        \"3A\",\n",
    "        \"3A\",\n",
    "        \"3B\",\n",
    "        \"4A\",\n",
    "        \"4C\",\n",
    "        \"5A\",\n",
    "        \"6A\",\n",
    "        \"8\",\n",
    "    ],\n",
    "}\n",
    "city_df = pd.DataFrame(city_map)\n",
    "city_df = city_df.set_index(\"keys\")\n",
    "cities = city_df.index.values\n",
    "city_df[\"Display Name\"] = city_df[\"name\"] + \" (\" + city_df[\"Climate Zone\"] + \")\""
   ]
  },
  {
   "cell_type": "code",
   "execution_count": 4,
   "metadata": {},
   "outputs": [
    {
     "name": "stdout",
     "output_type": "stream",
     "text": [
      "File mumbai.hdf already exists, skipping.\n",
      "File caracas.hdf already exists, skipping.\n",
      "File miami.hdf already exists, skipping.\n",
      "File riyadh.hdf already exists, skipping.\n",
      "File paulo.hdf already exists, skipping.\n",
      "File rome.hdf already exists, skipping.\n",
      "File vegas.hdf already exists, skipping.\n",
      "File tokyo.hdf already exists, skipping.\n",
      "File london.hdf already exists, skipping.\n",
      "File seattle.hdf already exists, skipping.\n",
      "File krakow.hdf already exists, skipping.\n",
      "File oslo.hdf already exists, skipping.\n",
      "File fairbanks.hdf already exists, skipping.\n",
      "WARNING: mumbai has 9999 rows, expected 10000\n"
     ]
    }
   ],
   "source": [
    "with ThreadPoolExecutor() as executor:\n",
    "    dl_and_open = lambda x: dl_and_open_hdf(x, force=redownload)\n",
    "    dfs = executor.map(dl_and_open, city_df.index.to_list())\n",
    "    results = pd.concat(dfs, axis=1, keys=city_df.name.to_list())\n",
    "    results = results.swaplevel(0, 1, axis=1)\n",
    "    results.columns.names = [\"Segment\", \"City\", \"End Use\", \"Month\"]\n",
    "    results.index.name = \"building_id\"\n",
    "    results = results.reindex(range(len(results)))\n",
    "\n",
    "building_features = pd.read_hdf(local_dir / \"features.hdf\", key=\"buildings\")\n",
    "building_features = building_features.reindex(results.index)"
   ]
  },
  {
   "cell_type": "markdown",
   "metadata": {},
   "source": [
    "# Building Level Annual Analysis\n"
   ]
  },
  {
   "cell_type": "code",
   "execution_count": 5,
   "metadata": {},
   "outputs": [
    {
     "data": {
      "text/html": [
       "<div>\n",
       "<style scoped>\n",
       "    .dataframe tbody tr th:only-of-type {\n",
       "        vertical-align: middle;\n",
       "    }\n",
       "\n",
       "    .dataframe tbody tr th {\n",
       "        vertical-align: top;\n",
       "    }\n",
       "\n",
       "    .dataframe thead th {\n",
       "        text-align: right;\n",
       "    }\n",
       "</style>\n",
       "<table border=\"1\" class=\"dataframe\">\n",
       "  <thead>\n",
       "    <tr style=\"text-align: right;\">\n",
       "      <th></th>\n",
       "      <th></th>\n",
       "      <th>True Mean [kWh/m2]</th>\n",
       "      <th>RMSE [kWh/m2]</th>\n",
       "      <th>CVRMSE</th>\n",
       "      <th>MAE [kWh/m2]</th>\n",
       "      <th>MBE [kWh/m2]</th>\n",
       "    </tr>\n",
       "    <tr>\n",
       "      <th>City</th>\n",
       "      <th>End Use</th>\n",
       "      <th></th>\n",
       "      <th></th>\n",
       "      <th></th>\n",
       "      <th></th>\n",
       "      <th></th>\n",
       "    </tr>\n",
       "  </thead>\n",
       "  <tbody>\n",
       "    <tr>\n",
       "      <th rowspan=\"2\" valign=\"top\">Caracas</th>\n",
       "      <th>Cooling</th>\n",
       "      <td>108.62</td>\n",
       "      <td>20.04</td>\n",
       "      <td>18.45</td>\n",
       "      <td>15.13</td>\n",
       "      <td>-13.64</td>\n",
       "    </tr>\n",
       "    <tr>\n",
       "      <th>Heating</th>\n",
       "      <td>0.09</td>\n",
       "      <td>0.58</td>\n",
       "      <td>617.14</td>\n",
       "      <td>0.26</td>\n",
       "      <td>0.25</td>\n",
       "    </tr>\n",
       "    <tr>\n",
       "      <th rowspan=\"2\" valign=\"top\">Fairbanks</th>\n",
       "      <th>Cooling</th>\n",
       "      <td>11.33</td>\n",
       "      <td>5.45</td>\n",
       "      <td>48.09</td>\n",
       "      <td>2.96</td>\n",
       "      <td>0.33</td>\n",
       "    </tr>\n",
       "    <tr>\n",
       "      <th>Heating</th>\n",
       "      <td>208.89</td>\n",
       "      <td>33.33</td>\n",
       "      <td>15.95</td>\n",
       "      <td>26.33</td>\n",
       "      <td>17.49</td>\n",
       "    </tr>\n",
       "    <tr>\n",
       "      <th rowspan=\"2\" valign=\"top\">Krakow</th>\n",
       "      <th>Cooling</th>\n",
       "      <td>17.39</td>\n",
       "      <td>5.90</td>\n",
       "      <td>33.95</td>\n",
       "      <td>3.10</td>\n",
       "      <td>0.38</td>\n",
       "    </tr>\n",
       "    <tr>\n",
       "      <th>Heating</th>\n",
       "      <td>78.51</td>\n",
       "      <td>16.09</td>\n",
       "      <td>20.50</td>\n",
       "      <td>11.81</td>\n",
       "      <td>7.45</td>\n",
       "    </tr>\n",
       "    <tr>\n",
       "      <th rowspan=\"2\" valign=\"top\">Las Vegas</th>\n",
       "      <th>Cooling</th>\n",
       "      <td>101.99</td>\n",
       "      <td>13.63</td>\n",
       "      <td>13.36</td>\n",
       "      <td>9.63</td>\n",
       "      <td>-8.45</td>\n",
       "    </tr>\n",
       "    <tr>\n",
       "      <th>Heating</th>\n",
       "      <td>18.96</td>\n",
       "      <td>9.01</td>\n",
       "      <td>47.52</td>\n",
       "      <td>6.34</td>\n",
       "      <td>5.76</td>\n",
       "    </tr>\n",
       "    <tr>\n",
       "      <th rowspan=\"2\" valign=\"top\">London</th>\n",
       "      <th>Cooling</th>\n",
       "      <td>14.13</td>\n",
       "      <td>6.25</td>\n",
       "      <td>44.25</td>\n",
       "      <td>3.09</td>\n",
       "      <td>0.60</td>\n",
       "    </tr>\n",
       "    <tr>\n",
       "      <th>Heating</th>\n",
       "      <td>51.11</td>\n",
       "      <td>13.67</td>\n",
       "      <td>26.76</td>\n",
       "      <td>9.68</td>\n",
       "      <td>6.84</td>\n",
       "    </tr>\n",
       "    <tr>\n",
       "      <th rowspan=\"2\" valign=\"top\">Miami</th>\n",
       "      <th>Cooling</th>\n",
       "      <td>150.76</td>\n",
       "      <td>23.02</td>\n",
       "      <td>15.27</td>\n",
       "      <td>18.25</td>\n",
       "      <td>-17.79</td>\n",
       "    </tr>\n",
       "    <tr>\n",
       "      <th>Heating</th>\n",
       "      <td>0.95</td>\n",
       "      <td>1.48</td>\n",
       "      <td>155.31</td>\n",
       "      <td>0.80</td>\n",
       "      <td>0.76</td>\n",
       "    </tr>\n",
       "    <tr>\n",
       "      <th rowspan=\"2\" valign=\"top\">Mumbai</th>\n",
       "      <th>Cooling</th>\n",
       "      <td>235.26</td>\n",
       "      <td>39.74</td>\n",
       "      <td>16.89</td>\n",
       "      <td>32.37</td>\n",
       "      <td>-32.12</td>\n",
       "    </tr>\n",
       "    <tr>\n",
       "      <th>Heating</th>\n",
       "      <td>0.01</td>\n",
       "      <td>0.29</td>\n",
       "      <td>2428.07</td>\n",
       "      <td>0.26</td>\n",
       "      <td>0.25</td>\n",
       "    </tr>\n",
       "    <tr>\n",
       "      <th rowspan=\"2\" valign=\"top\">Oslo</th>\n",
       "      <th>Cooling</th>\n",
       "      <td>9.63</td>\n",
       "      <td>5.56</td>\n",
       "      <td>57.73</td>\n",
       "      <td>2.64</td>\n",
       "      <td>1.31</td>\n",
       "    </tr>\n",
       "    <tr>\n",
       "      <th>Heating</th>\n",
       "      <td>84.64</td>\n",
       "      <td>17.40</td>\n",
       "      <td>20.56</td>\n",
       "      <td>12.20</td>\n",
       "      <td>7.40</td>\n",
       "    </tr>\n",
       "    <tr>\n",
       "      <th rowspan=\"2\" valign=\"top\">Riyadh</th>\n",
       "      <th>Cooling</th>\n",
       "      <td>167.08</td>\n",
       "      <td>18.52</td>\n",
       "      <td>11.08</td>\n",
       "      <td>13.77</td>\n",
       "      <td>-12.80</td>\n",
       "    </tr>\n",
       "    <tr>\n",
       "      <th>Heating</th>\n",
       "      <td>3.30</td>\n",
       "      <td>2.73</td>\n",
       "      <td>82.84</td>\n",
       "      <td>1.66</td>\n",
       "      <td>1.53</td>\n",
       "    </tr>\n",
       "    <tr>\n",
       "      <th rowspan=\"2\" valign=\"top\">Rome</th>\n",
       "      <th>Cooling</th>\n",
       "      <td>39.25</td>\n",
       "      <td>8.60</td>\n",
       "      <td>21.92</td>\n",
       "      <td>5.14</td>\n",
       "      <td>-2.75</td>\n",
       "    </tr>\n",
       "    <tr>\n",
       "      <th>Heating</th>\n",
       "      <td>28.88</td>\n",
       "      <td>11.00</td>\n",
       "      <td>38.07</td>\n",
       "      <td>7.85</td>\n",
       "      <td>6.58</td>\n",
       "    </tr>\n",
       "    <tr>\n",
       "      <th rowspan=\"2\" valign=\"top\">Sao Paulo</th>\n",
       "      <th>Cooling</th>\n",
       "      <td>63.31</td>\n",
       "      <td>10.56</td>\n",
       "      <td>16.68</td>\n",
       "      <td>7.29</td>\n",
       "      <td>-3.68</td>\n",
       "    </tr>\n",
       "    <tr>\n",
       "      <th>Heating</th>\n",
       "      <td>2.70</td>\n",
       "      <td>2.60</td>\n",
       "      <td>96.30</td>\n",
       "      <td>1.23</td>\n",
       "      <td>1.05</td>\n",
       "    </tr>\n",
       "    <tr>\n",
       "      <th rowspan=\"2\" valign=\"top\">Seattle</th>\n",
       "      <th>Cooling</th>\n",
       "      <td>20.38</td>\n",
       "      <td>6.60</td>\n",
       "      <td>32.38</td>\n",
       "      <td>3.51</td>\n",
       "      <td>-0.14</td>\n",
       "    </tr>\n",
       "    <tr>\n",
       "      <th>Heating</th>\n",
       "      <td>48.45</td>\n",
       "      <td>14.89</td>\n",
       "      <td>30.74</td>\n",
       "      <td>10.75</td>\n",
       "      <td>8.67</td>\n",
       "    </tr>\n",
       "    <tr>\n",
       "      <th rowspan=\"2\" valign=\"top\">Tokyo</th>\n",
       "      <th>Cooling</th>\n",
       "      <td>55.90</td>\n",
       "      <td>8.48</td>\n",
       "      <td>15.16</td>\n",
       "      <td>5.56</td>\n",
       "      <td>-3.49</td>\n",
       "    </tr>\n",
       "    <tr>\n",
       "      <th>Heating</th>\n",
       "      <td>29.11</td>\n",
       "      <td>8.75</td>\n",
       "      <td>30.07</td>\n",
       "      <td>5.96</td>\n",
       "      <td>4.11</td>\n",
       "    </tr>\n",
       "  </tbody>\n",
       "</table>\n",
       "</div>"
      ],
      "text/plain": [
       "                   True Mean [kWh/m2]  RMSE [kWh/m2]   CVRMSE  MAE [kWh/m2]  \\\n",
       "City      End Use                                                             \n",
       "Caracas   Cooling              108.62          20.04    18.45         15.13   \n",
       "          Heating                0.09           0.58   617.14          0.26   \n",
       "Fairbanks Cooling               11.33           5.45    48.09          2.96   \n",
       "          Heating              208.89          33.33    15.95         26.33   \n",
       "Krakow    Cooling               17.39           5.90    33.95          3.10   \n",
       "          Heating               78.51          16.09    20.50         11.81   \n",
       "Las Vegas Cooling              101.99          13.63    13.36          9.63   \n",
       "          Heating               18.96           9.01    47.52          6.34   \n",
       "London    Cooling               14.13           6.25    44.25          3.09   \n",
       "          Heating               51.11          13.67    26.76          9.68   \n",
       "Miami     Cooling              150.76          23.02    15.27         18.25   \n",
       "          Heating                0.95           1.48   155.31          0.80   \n",
       "Mumbai    Cooling              235.26          39.74    16.89         32.37   \n",
       "          Heating                0.01           0.29  2428.07          0.26   \n",
       "Oslo      Cooling                9.63           5.56    57.73          2.64   \n",
       "          Heating               84.64          17.40    20.56         12.20   \n",
       "Riyadh    Cooling              167.08          18.52    11.08         13.77   \n",
       "          Heating                3.30           2.73    82.84          1.66   \n",
       "Rome      Cooling               39.25           8.60    21.92          5.14   \n",
       "          Heating               28.88          11.00    38.07          7.85   \n",
       "Sao Paulo Cooling               63.31          10.56    16.68          7.29   \n",
       "          Heating                2.70           2.60    96.30          1.23   \n",
       "Seattle   Cooling               20.38           6.60    32.38          3.51   \n",
       "          Heating               48.45          14.89    30.74         10.75   \n",
       "Tokyo     Cooling               55.90           8.48    15.16          5.56   \n",
       "          Heating               29.11           8.75    30.07          5.96   \n",
       "\n",
       "                   MBE [kWh/m2]  \n",
       "City      End Use                \n",
       "Caracas   Cooling        -13.64  \n",
       "          Heating          0.25  \n",
       "Fairbanks Cooling          0.33  \n",
       "          Heating         17.49  \n",
       "Krakow    Cooling          0.38  \n",
       "          Heating          7.45  \n",
       "Las Vegas Cooling         -8.45  \n",
       "          Heating          5.76  \n",
       "London    Cooling          0.60  \n",
       "          Heating          6.84  \n",
       "Miami     Cooling        -17.79  \n",
       "          Heating          0.76  \n",
       "Mumbai    Cooling        -32.12  \n",
       "          Heating          0.25  \n",
       "Oslo      Cooling          1.31  \n",
       "          Heating          7.40  \n",
       "Riyadh    Cooling        -12.80  \n",
       "          Heating          1.53  \n",
       "Rome      Cooling         -2.75  \n",
       "          Heating          6.58  \n",
       "Sao Paulo Cooling         -3.68  \n",
       "          Heating          1.05  \n",
       "Seattle   Cooling         -0.14  \n",
       "          Heating          8.67  \n",
       "Tokyo     Cooling         -3.49  \n",
       "          Heating          4.11  "
      ]
     },
     "execution_count": 5,
     "metadata": {},
     "output_type": "execute_result"
    }
   ],
   "source": [
    "annual = results.T.groupby(level=[0, 1, 2]).sum().T\n",
    "true_mean = annual[\"True\"].mean()\n",
    "annual_rmse = np.sqrt(annual[\"Residuals\"].pow(2).mean())\n",
    "annual_cvrmse = annual_rmse / true_mean * 100\n",
    "annual_mae = annual[\"Residuals\"].abs().mean()\n",
    "annual_mbe = annual[\"Residuals\"].mean()\n",
    "annual_mape = (annual[\"Residuals\"].abs() / annual[\"True\"] * 100).mean()\n",
    "annual_summary = pd.concat(\n",
    "    [\n",
    "        true_mean.rename(\"True Mean [kWh/m2]\"),\n",
    "        annual_rmse.rename(\"RMSE [kWh/m2]\"),\n",
    "        annual_cvrmse.rename(\"CVRMSE\"),\n",
    "        annual_mae.rename(\"MAE [kWh/m2]\"),\n",
    "        annual_mbe.rename(\"MBE [kWh/m2]\"),\n",
    "    ],\n",
    "    axis=1,\n",
    ").drop(\"Electricity\", level=-1)\n",
    "annual_summary.round(2)"
   ]
  },
  {
   "cell_type": "code",
   "execution_count": 6,
   "metadata": {},
   "outputs": [
    {
     "data": {
      "application/vnd.plotly.v1+json": {
       "config": {
        "plotlyServerURL": "https://plot.ly"
       },
       "data": [
        {
         "alignmentgroup": "True",
         "hovertemplate": "End Use=Cooling<br>City=%{x}<br>RMSE [kWh/m2]=%{y}<extra></extra>",
         "legendgroup": "Cooling",
         "marker": {
          "color": "#636EFA",
          "pattern": {
           "shape": ""
          }
         },
         "name": "Cooling",
         "offsetgroup": "Cooling",
         "orientation": "v",
         "showlegend": true,
         "textposition": "auto",
         "type": "bar",
         "x": [
          "Mumbai (0A)",
          "Caracas (0B)",
          "Riyadh (1A)",
          "Miami (1B)",
          "Sao Paulo (2A)",
          "Rome (3A)",
          "Tokyo (3A)",
          "Las Vegas (3B)",
          "London (4A)",
          "Seattle (4C)",
          "Krakow (5A)",
          "Oslo (6A)",
          "Fairbanks (8)"
         ],
         "xaxis": "x",
         "y": [
          39.73606366812506,
          20.04401689212601,
          18.51522515405186,
          23.020618084555004,
          10.55980913697193,
          8.602323922779927,
          8.476035128185881,
          13.62522724548146,
          6.253571643321796,
          6.599272482434383,
          5.904321380326587,
          5.559125288958983,
          5.449638851621293
         ],
         "yaxis": "y"
        },
        {
         "alignmentgroup": "True",
         "hovertemplate": "End Use=Heating<br>City=%{x}<br>RMSE [kWh/m2]=%{y}<extra></extra>",
         "legendgroup": "Heating",
         "marker": {
          "color": "#EF553B",
          "pattern": {
           "shape": ""
          }
         },
         "name": "Heating",
         "offsetgroup": "Heating",
         "orientation": "v",
         "showlegend": true,
         "textposition": "auto",
         "type": "bar",
         "x": [
          "Mumbai (0A)",
          "Caracas (0B)",
          "Riyadh (1A)",
          "Miami (1B)",
          "Sao Paulo (2A)",
          "Rome (3A)",
          "Tokyo (3A)",
          "Las Vegas (3B)",
          "London (4A)",
          "Seattle (4C)",
          "Krakow (5A)",
          "Oslo (6A)",
          "Fairbanks (8)"
         ],
         "xaxis": "x",
         "y": [
          0.29295840688685676,
          0.5817160305224827,
          2.7318958622571397,
          1.4802239501778767,
          2.599103566405421,
          10.996302127633623,
          8.753697627877473,
          9.007696111384119,
          13.674888458085903,
          14.891852226935132,
          16.094836890970438,
          17.40005028216423,
          33.32512976824051
         ],
         "yaxis": "y"
        }
       ],
       "layout": {
        "barmode": "group",
        "height": 600,
        "legend": {
         "title": {
          "text": "End Use"
         },
         "tracegroupgap": 0
        },
        "template": {
         "data": {
          "bar": [
           {
            "error_x": {
             "color": "#2a3f5f"
            },
            "error_y": {
             "color": "#2a3f5f"
            },
            "marker": {
             "line": {
              "color": "#E5ECF6",
              "width": 0.5
             },
             "pattern": {
              "fillmode": "overlay",
              "size": 10,
              "solidity": 0.2
             }
            },
            "type": "bar"
           }
          ],
          "barpolar": [
           {
            "marker": {
             "line": {
              "color": "#E5ECF6",
              "width": 0.5
             },
             "pattern": {
              "fillmode": "overlay",
              "size": 10,
              "solidity": 0.2
             }
            },
            "type": "barpolar"
           }
          ],
          "carpet": [
           {
            "aaxis": {
             "endlinecolor": "#2a3f5f",
             "gridcolor": "white",
             "linecolor": "white",
             "minorgridcolor": "white",
             "startlinecolor": "#2a3f5f"
            },
            "baxis": {
             "endlinecolor": "#2a3f5f",
             "gridcolor": "white",
             "linecolor": "white",
             "minorgridcolor": "white",
             "startlinecolor": "#2a3f5f"
            },
            "type": "carpet"
           }
          ],
          "choropleth": [
           {
            "colorbar": {
             "outlinewidth": 0,
             "ticks": ""
            },
            "type": "choropleth"
           }
          ],
          "contour": [
           {
            "colorbar": {
             "outlinewidth": 0,
             "ticks": ""
            },
            "colorscale": [
             [
              0,
              "#0d0887"
             ],
             [
              0.1111111111111111,
              "#46039f"
             ],
             [
              0.2222222222222222,
              "#7201a8"
             ],
             [
              0.3333333333333333,
              "#9c179e"
             ],
             [
              0.4444444444444444,
              "#bd3786"
             ],
             [
              0.5555555555555556,
              "#d8576b"
             ],
             [
              0.6666666666666666,
              "#ed7953"
             ],
             [
              0.7777777777777778,
              "#fb9f3a"
             ],
             [
              0.8888888888888888,
              "#fdca26"
             ],
             [
              1,
              "#f0f921"
             ]
            ],
            "type": "contour"
           }
          ],
          "contourcarpet": [
           {
            "colorbar": {
             "outlinewidth": 0,
             "ticks": ""
            },
            "type": "contourcarpet"
           }
          ],
          "heatmap": [
           {
            "colorbar": {
             "outlinewidth": 0,
             "ticks": ""
            },
            "colorscale": [
             [
              0,
              "#0d0887"
             ],
             [
              0.1111111111111111,
              "#46039f"
             ],
             [
              0.2222222222222222,
              "#7201a8"
             ],
             [
              0.3333333333333333,
              "#9c179e"
             ],
             [
              0.4444444444444444,
              "#bd3786"
             ],
             [
              0.5555555555555556,
              "#d8576b"
             ],
             [
              0.6666666666666666,
              "#ed7953"
             ],
             [
              0.7777777777777778,
              "#fb9f3a"
             ],
             [
              0.8888888888888888,
              "#fdca26"
             ],
             [
              1,
              "#f0f921"
             ]
            ],
            "type": "heatmap"
           }
          ],
          "heatmapgl": [
           {
            "colorbar": {
             "outlinewidth": 0,
             "ticks": ""
            },
            "colorscale": [
             [
              0,
              "#0d0887"
             ],
             [
              0.1111111111111111,
              "#46039f"
             ],
             [
              0.2222222222222222,
              "#7201a8"
             ],
             [
              0.3333333333333333,
              "#9c179e"
             ],
             [
              0.4444444444444444,
              "#bd3786"
             ],
             [
              0.5555555555555556,
              "#d8576b"
             ],
             [
              0.6666666666666666,
              "#ed7953"
             ],
             [
              0.7777777777777778,
              "#fb9f3a"
             ],
             [
              0.8888888888888888,
              "#fdca26"
             ],
             [
              1,
              "#f0f921"
             ]
            ],
            "type": "heatmapgl"
           }
          ],
          "histogram": [
           {
            "marker": {
             "pattern": {
              "fillmode": "overlay",
              "size": 10,
              "solidity": 0.2
             }
            },
            "type": "histogram"
           }
          ],
          "histogram2d": [
           {
            "colorbar": {
             "outlinewidth": 0,
             "ticks": ""
            },
            "colorscale": [
             [
              0,
              "#0d0887"
             ],
             [
              0.1111111111111111,
              "#46039f"
             ],
             [
              0.2222222222222222,
              "#7201a8"
             ],
             [
              0.3333333333333333,
              "#9c179e"
             ],
             [
              0.4444444444444444,
              "#bd3786"
             ],
             [
              0.5555555555555556,
              "#d8576b"
             ],
             [
              0.6666666666666666,
              "#ed7953"
             ],
             [
              0.7777777777777778,
              "#fb9f3a"
             ],
             [
              0.8888888888888888,
              "#fdca26"
             ],
             [
              1,
              "#f0f921"
             ]
            ],
            "type": "histogram2d"
           }
          ],
          "histogram2dcontour": [
           {
            "colorbar": {
             "outlinewidth": 0,
             "ticks": ""
            },
            "colorscale": [
             [
              0,
              "#0d0887"
             ],
             [
              0.1111111111111111,
              "#46039f"
             ],
             [
              0.2222222222222222,
              "#7201a8"
             ],
             [
              0.3333333333333333,
              "#9c179e"
             ],
             [
              0.4444444444444444,
              "#bd3786"
             ],
             [
              0.5555555555555556,
              "#d8576b"
             ],
             [
              0.6666666666666666,
              "#ed7953"
             ],
             [
              0.7777777777777778,
              "#fb9f3a"
             ],
             [
              0.8888888888888888,
              "#fdca26"
             ],
             [
              1,
              "#f0f921"
             ]
            ],
            "type": "histogram2dcontour"
           }
          ],
          "mesh3d": [
           {
            "colorbar": {
             "outlinewidth": 0,
             "ticks": ""
            },
            "type": "mesh3d"
           }
          ],
          "parcoords": [
           {
            "line": {
             "colorbar": {
              "outlinewidth": 0,
              "ticks": ""
             }
            },
            "type": "parcoords"
           }
          ],
          "pie": [
           {
            "automargin": true,
            "type": "pie"
           }
          ],
          "scatter": [
           {
            "fillpattern": {
             "fillmode": "overlay",
             "size": 10,
             "solidity": 0.2
            },
            "type": "scatter"
           }
          ],
          "scatter3d": [
           {
            "line": {
             "colorbar": {
              "outlinewidth": 0,
              "ticks": ""
             }
            },
            "marker": {
             "colorbar": {
              "outlinewidth": 0,
              "ticks": ""
             }
            },
            "type": "scatter3d"
           }
          ],
          "scattercarpet": [
           {
            "marker": {
             "colorbar": {
              "outlinewidth": 0,
              "ticks": ""
             }
            },
            "type": "scattercarpet"
           }
          ],
          "scattergeo": [
           {
            "marker": {
             "colorbar": {
              "outlinewidth": 0,
              "ticks": ""
             }
            },
            "type": "scattergeo"
           }
          ],
          "scattergl": [
           {
            "marker": {
             "colorbar": {
              "outlinewidth": 0,
              "ticks": ""
             }
            },
            "type": "scattergl"
           }
          ],
          "scattermapbox": [
           {
            "marker": {
             "colorbar": {
              "outlinewidth": 0,
              "ticks": ""
             }
            },
            "type": "scattermapbox"
           }
          ],
          "scatterpolar": [
           {
            "marker": {
             "colorbar": {
              "outlinewidth": 0,
              "ticks": ""
             }
            },
            "type": "scatterpolar"
           }
          ],
          "scatterpolargl": [
           {
            "marker": {
             "colorbar": {
              "outlinewidth": 0,
              "ticks": ""
             }
            },
            "type": "scatterpolargl"
           }
          ],
          "scatterternary": [
           {
            "marker": {
             "colorbar": {
              "outlinewidth": 0,
              "ticks": ""
             }
            },
            "type": "scatterternary"
           }
          ],
          "surface": [
           {
            "colorbar": {
             "outlinewidth": 0,
             "ticks": ""
            },
            "colorscale": [
             [
              0,
              "#0d0887"
             ],
             [
              0.1111111111111111,
              "#46039f"
             ],
             [
              0.2222222222222222,
              "#7201a8"
             ],
             [
              0.3333333333333333,
              "#9c179e"
             ],
             [
              0.4444444444444444,
              "#bd3786"
             ],
             [
              0.5555555555555556,
              "#d8576b"
             ],
             [
              0.6666666666666666,
              "#ed7953"
             ],
             [
              0.7777777777777778,
              "#fb9f3a"
             ],
             [
              0.8888888888888888,
              "#fdca26"
             ],
             [
              1,
              "#f0f921"
             ]
            ],
            "type": "surface"
           }
          ],
          "table": [
           {
            "cells": {
             "fill": {
              "color": "#EBF0F8"
             },
             "line": {
              "color": "white"
             }
            },
            "header": {
             "fill": {
              "color": "#C8D4E3"
             },
             "line": {
              "color": "white"
             }
            },
            "type": "table"
           }
          ]
         },
         "layout": {
          "annotationdefaults": {
           "arrowcolor": "#2a3f5f",
           "arrowhead": 0,
           "arrowwidth": 1
          },
          "autotypenumbers": "strict",
          "coloraxis": {
           "colorbar": {
            "outlinewidth": 0,
            "ticks": ""
           }
          },
          "colorscale": {
           "diverging": [
            [
             0,
             "#8e0152"
            ],
            [
             0.1,
             "#c51b7d"
            ],
            [
             0.2,
             "#de77ae"
            ],
            [
             0.3,
             "#f1b6da"
            ],
            [
             0.4,
             "#fde0ef"
            ],
            [
             0.5,
             "#f7f7f7"
            ],
            [
             0.6,
             "#e6f5d0"
            ],
            [
             0.7,
             "#b8e186"
            ],
            [
             0.8,
             "#7fbc41"
            ],
            [
             0.9,
             "#4d9221"
            ],
            [
             1,
             "#276419"
            ]
           ],
           "sequential": [
            [
             0,
             "#0d0887"
            ],
            [
             0.1111111111111111,
             "#46039f"
            ],
            [
             0.2222222222222222,
             "#7201a8"
            ],
            [
             0.3333333333333333,
             "#9c179e"
            ],
            [
             0.4444444444444444,
             "#bd3786"
            ],
            [
             0.5555555555555556,
             "#d8576b"
            ],
            [
             0.6666666666666666,
             "#ed7953"
            ],
            [
             0.7777777777777778,
             "#fb9f3a"
            ],
            [
             0.8888888888888888,
             "#fdca26"
            ],
            [
             1,
             "#f0f921"
            ]
           ],
           "sequentialminus": [
            [
             0,
             "#0d0887"
            ],
            [
             0.1111111111111111,
             "#46039f"
            ],
            [
             0.2222222222222222,
             "#7201a8"
            ],
            [
             0.3333333333333333,
             "#9c179e"
            ],
            [
             0.4444444444444444,
             "#bd3786"
            ],
            [
             0.5555555555555556,
             "#d8576b"
            ],
            [
             0.6666666666666666,
             "#ed7953"
            ],
            [
             0.7777777777777778,
             "#fb9f3a"
            ],
            [
             0.8888888888888888,
             "#fdca26"
            ],
            [
             1,
             "#f0f921"
            ]
           ]
          },
          "colorway": [
           "#636efa",
           "#EF553B",
           "#00cc96",
           "#ab63fa",
           "#FFA15A",
           "#19d3f3",
           "#FF6692",
           "#B6E880",
           "#FF97FF",
           "#FECB52"
          ],
          "font": {
           "color": "#2a3f5f"
          },
          "geo": {
           "bgcolor": "white",
           "lakecolor": "white",
           "landcolor": "#E5ECF6",
           "showlakes": true,
           "showland": true,
           "subunitcolor": "white"
          },
          "hoverlabel": {
           "align": "left"
          },
          "hovermode": "closest",
          "mapbox": {
           "style": "light"
          },
          "paper_bgcolor": "white",
          "plot_bgcolor": "#E5ECF6",
          "polar": {
           "angularaxis": {
            "gridcolor": "white",
            "linecolor": "white",
            "ticks": ""
           },
           "bgcolor": "#E5ECF6",
           "radialaxis": {
            "gridcolor": "white",
            "linecolor": "white",
            "ticks": ""
           }
          },
          "scene": {
           "xaxis": {
            "backgroundcolor": "#E5ECF6",
            "gridcolor": "white",
            "gridwidth": 2,
            "linecolor": "white",
            "showbackground": true,
            "ticks": "",
            "zerolinecolor": "white"
           },
           "yaxis": {
            "backgroundcolor": "#E5ECF6",
            "gridcolor": "white",
            "gridwidth": 2,
            "linecolor": "white",
            "showbackground": true,
            "ticks": "",
            "zerolinecolor": "white"
           },
           "zaxis": {
            "backgroundcolor": "#E5ECF6",
            "gridcolor": "white",
            "gridwidth": 2,
            "linecolor": "white",
            "showbackground": true,
            "ticks": "",
            "zerolinecolor": "white"
           }
          },
          "shapedefaults": {
           "line": {
            "color": "#2a3f5f"
           }
          },
          "ternary": {
           "aaxis": {
            "gridcolor": "white",
            "linecolor": "white",
            "ticks": ""
           },
           "baxis": {
            "gridcolor": "white",
            "linecolor": "white",
            "ticks": ""
           },
           "bgcolor": "#E5ECF6",
           "caxis": {
            "gridcolor": "white",
            "linecolor": "white",
            "ticks": ""
           }
          },
          "title": {
           "x": 0.05
          },
          "xaxis": {
           "automargin": true,
           "gridcolor": "white",
           "linecolor": "white",
           "ticks": "",
           "title": {
            "standoff": 15
           },
           "zerolinecolor": "white",
           "zerolinewidth": 2
          },
          "yaxis": {
           "automargin": true,
           "gridcolor": "white",
           "linecolor": "white",
           "ticks": "",
           "title": {
            "standoff": 15
           },
           "zerolinecolor": "white",
           "zerolinewidth": 2
          }
         }
        },
        "title": {
         "text": "Building Energy Model Validation, CVRMSE"
        },
        "width": 800,
        "xaxis": {
         "anchor": "y",
         "domain": [
          0,
          1
         ],
         "title": {
          "text": "City"
         }
        },
        "yaxis": {
         "anchor": "x",
         "domain": [
          0,
          1
         ],
         "title": {
          "text": "RMSE [kWh/m2]"
         }
        }
       }
      }
     },
     "metadata": {},
     "output_type": "display_data"
    }
   ],
   "source": [
    "annual_summary[\"Climate Zone\"] = (\n",
    "    city_df.set_index(\"name\")\n",
    "    .loc[annual_summary.index.get_level_values(0), \"Climate Zone\"]\n",
    "    .values\n",
    ")\n",
    "annual_summary = annual_summary.sort_values(\"Climate Zone\")\n",
    "annual_summary_p = annual_summary.reset_index()\n",
    "annual_summary_p[\"City\"] = (\n",
    "    annual_summary_p[\"City\"] + \" (\" + annual_summary_p[\"Climate Zone\"] + \")\"\n",
    ")\n",
    "annual_summary_p = annual_summary_p.reset_index()\n",
    "fig = px.bar(\n",
    "    # annual_summary_p[annual_summary_p[\"CVRMSE\"] < 100],\n",
    "    annual_summary_p,\n",
    "    title=\"Building Energy Model Validation, CVRMSE\",\n",
    "    x=\"City\",\n",
    "    y=\"RMSE [kWh/m2]\",\n",
    "    color=\"End Use\",\n",
    "    color_discrete_map={\"Heating\": \"#EF553B\", \"Cooling\": \"#636EFA\"},\n",
    "    barmode=\"group\",\n",
    "    height=600,\n",
    "    width=800,\n",
    ")\n",
    "# fig.write_image(\"figures/rmse_by_city.png\", scale=2)\n",
    "fig"
   ]
  },
  {
   "cell_type": "markdown",
   "metadata": {},
   "source": [
    "# UBEM Level Annual Analysis w/ COPs & Elec\n"
   ]
  },
  {
   "cell_type": "code",
   "execution_count": 7,
   "metadata": {},
   "outputs": [
    {
     "data": {
      "application/vnd.plotly.v1+json": {
       "config": {
        "plotlyServerURL": "https://plot.ly"
       },
       "data": [
        {
         "alignmentgroup": "True",
         "hovertemplate": "City=%{x}<br>% Error=%{y}<extra></extra>",
         "legendgroup": "",
         "marker": {
          "color": "#636efa",
          "pattern": {
           "shape": ""
          }
         },
         "name": "",
         "offsetgroup": "",
         "orientation": "v",
         "showlegend": false,
         "textposition": "auto",
         "type": "bar",
         "x": [
          "Mumbai (0A)",
          "Caracas (0B)",
          "Riyadh (1A)",
          "Miami (1B)",
          "Sao Paulo (2A)",
          "Rome (3A)",
          "Tokyo (3A)",
          "Las Vegas (3B)",
          "London (4A)",
          "Seattle (4C)",
          "Krakow (5A)",
          "Oslo (6A)",
          "Fairbanks (8)"
         ],
         "xaxis": "x",
         "y": [
          6.327643431798564,
          3.4789636269446915,
          2.7733104522636576,
          4.0938164003004225,
          0.89606694070007,
          0.757257780917481,
          0.08459186244119599,
          1.0553554454283873,
          1.8469879745973508,
          2.0613020399294513,
          1.7932556997065794,
          1.9842170021962777,
          3.230222963775162
         ],
         "yaxis": "y"
        }
       ],
       "layout": {
        "barmode": "relative",
        "legend": {
         "tracegroupgap": 0
        },
        "template": {
         "data": {
          "bar": [
           {
            "error_x": {
             "color": "#2a3f5f"
            },
            "error_y": {
             "color": "#2a3f5f"
            },
            "marker": {
             "line": {
              "color": "#E5ECF6",
              "width": 0.5
             },
             "pattern": {
              "fillmode": "overlay",
              "size": 10,
              "solidity": 0.2
             }
            },
            "type": "bar"
           }
          ],
          "barpolar": [
           {
            "marker": {
             "line": {
              "color": "#E5ECF6",
              "width": 0.5
             },
             "pattern": {
              "fillmode": "overlay",
              "size": 10,
              "solidity": 0.2
             }
            },
            "type": "barpolar"
           }
          ],
          "carpet": [
           {
            "aaxis": {
             "endlinecolor": "#2a3f5f",
             "gridcolor": "white",
             "linecolor": "white",
             "minorgridcolor": "white",
             "startlinecolor": "#2a3f5f"
            },
            "baxis": {
             "endlinecolor": "#2a3f5f",
             "gridcolor": "white",
             "linecolor": "white",
             "minorgridcolor": "white",
             "startlinecolor": "#2a3f5f"
            },
            "type": "carpet"
           }
          ],
          "choropleth": [
           {
            "colorbar": {
             "outlinewidth": 0,
             "ticks": ""
            },
            "type": "choropleth"
           }
          ],
          "contour": [
           {
            "colorbar": {
             "outlinewidth": 0,
             "ticks": ""
            },
            "colorscale": [
             [
              0,
              "#0d0887"
             ],
             [
              0.1111111111111111,
              "#46039f"
             ],
             [
              0.2222222222222222,
              "#7201a8"
             ],
             [
              0.3333333333333333,
              "#9c179e"
             ],
             [
              0.4444444444444444,
              "#bd3786"
             ],
             [
              0.5555555555555556,
              "#d8576b"
             ],
             [
              0.6666666666666666,
              "#ed7953"
             ],
             [
              0.7777777777777778,
              "#fb9f3a"
             ],
             [
              0.8888888888888888,
              "#fdca26"
             ],
             [
              1,
              "#f0f921"
             ]
            ],
            "type": "contour"
           }
          ],
          "contourcarpet": [
           {
            "colorbar": {
             "outlinewidth": 0,
             "ticks": ""
            },
            "type": "contourcarpet"
           }
          ],
          "heatmap": [
           {
            "colorbar": {
             "outlinewidth": 0,
             "ticks": ""
            },
            "colorscale": [
             [
              0,
              "#0d0887"
             ],
             [
              0.1111111111111111,
              "#46039f"
             ],
             [
              0.2222222222222222,
              "#7201a8"
             ],
             [
              0.3333333333333333,
              "#9c179e"
             ],
             [
              0.4444444444444444,
              "#bd3786"
             ],
             [
              0.5555555555555556,
              "#d8576b"
             ],
             [
              0.6666666666666666,
              "#ed7953"
             ],
             [
              0.7777777777777778,
              "#fb9f3a"
             ],
             [
              0.8888888888888888,
              "#fdca26"
             ],
             [
              1,
              "#f0f921"
             ]
            ],
            "type": "heatmap"
           }
          ],
          "heatmapgl": [
           {
            "colorbar": {
             "outlinewidth": 0,
             "ticks": ""
            },
            "colorscale": [
             [
              0,
              "#0d0887"
             ],
             [
              0.1111111111111111,
              "#46039f"
             ],
             [
              0.2222222222222222,
              "#7201a8"
             ],
             [
              0.3333333333333333,
              "#9c179e"
             ],
             [
              0.4444444444444444,
              "#bd3786"
             ],
             [
              0.5555555555555556,
              "#d8576b"
             ],
             [
              0.6666666666666666,
              "#ed7953"
             ],
             [
              0.7777777777777778,
              "#fb9f3a"
             ],
             [
              0.8888888888888888,
              "#fdca26"
             ],
             [
              1,
              "#f0f921"
             ]
            ],
            "type": "heatmapgl"
           }
          ],
          "histogram": [
           {
            "marker": {
             "pattern": {
              "fillmode": "overlay",
              "size": 10,
              "solidity": 0.2
             }
            },
            "type": "histogram"
           }
          ],
          "histogram2d": [
           {
            "colorbar": {
             "outlinewidth": 0,
             "ticks": ""
            },
            "colorscale": [
             [
              0,
              "#0d0887"
             ],
             [
              0.1111111111111111,
              "#46039f"
             ],
             [
              0.2222222222222222,
              "#7201a8"
             ],
             [
              0.3333333333333333,
              "#9c179e"
             ],
             [
              0.4444444444444444,
              "#bd3786"
             ],
             [
              0.5555555555555556,
              "#d8576b"
             ],
             [
              0.6666666666666666,
              "#ed7953"
             ],
             [
              0.7777777777777778,
              "#fb9f3a"
             ],
             [
              0.8888888888888888,
              "#fdca26"
             ],
             [
              1,
              "#f0f921"
             ]
            ],
            "type": "histogram2d"
           }
          ],
          "histogram2dcontour": [
           {
            "colorbar": {
             "outlinewidth": 0,
             "ticks": ""
            },
            "colorscale": [
             [
              0,
              "#0d0887"
             ],
             [
              0.1111111111111111,
              "#46039f"
             ],
             [
              0.2222222222222222,
              "#7201a8"
             ],
             [
              0.3333333333333333,
              "#9c179e"
             ],
             [
              0.4444444444444444,
              "#bd3786"
             ],
             [
              0.5555555555555556,
              "#d8576b"
             ],
             [
              0.6666666666666666,
              "#ed7953"
             ],
             [
              0.7777777777777778,
              "#fb9f3a"
             ],
             [
              0.8888888888888888,
              "#fdca26"
             ],
             [
              1,
              "#f0f921"
             ]
            ],
            "type": "histogram2dcontour"
           }
          ],
          "mesh3d": [
           {
            "colorbar": {
             "outlinewidth": 0,
             "ticks": ""
            },
            "type": "mesh3d"
           }
          ],
          "parcoords": [
           {
            "line": {
             "colorbar": {
              "outlinewidth": 0,
              "ticks": ""
             }
            },
            "type": "parcoords"
           }
          ],
          "pie": [
           {
            "automargin": true,
            "type": "pie"
           }
          ],
          "scatter": [
           {
            "fillpattern": {
             "fillmode": "overlay",
             "size": 10,
             "solidity": 0.2
            },
            "type": "scatter"
           }
          ],
          "scatter3d": [
           {
            "line": {
             "colorbar": {
              "outlinewidth": 0,
              "ticks": ""
             }
            },
            "marker": {
             "colorbar": {
              "outlinewidth": 0,
              "ticks": ""
             }
            },
            "type": "scatter3d"
           }
          ],
          "scattercarpet": [
           {
            "marker": {
             "colorbar": {
              "outlinewidth": 0,
              "ticks": ""
             }
            },
            "type": "scattercarpet"
           }
          ],
          "scattergeo": [
           {
            "marker": {
             "colorbar": {
              "outlinewidth": 0,
              "ticks": ""
             }
            },
            "type": "scattergeo"
           }
          ],
          "scattergl": [
           {
            "marker": {
             "colorbar": {
              "outlinewidth": 0,
              "ticks": ""
             }
            },
            "type": "scattergl"
           }
          ],
          "scattermapbox": [
           {
            "marker": {
             "colorbar": {
              "outlinewidth": 0,
              "ticks": ""
             }
            },
            "type": "scattermapbox"
           }
          ],
          "scatterpolar": [
           {
            "marker": {
             "colorbar": {
              "outlinewidth": 0,
              "ticks": ""
             }
            },
            "type": "scatterpolar"
           }
          ],
          "scatterpolargl": [
           {
            "marker": {
             "colorbar": {
              "outlinewidth": 0,
              "ticks": ""
             }
            },
            "type": "scatterpolargl"
           }
          ],
          "scatterternary": [
           {
            "marker": {
             "colorbar": {
              "outlinewidth": 0,
              "ticks": ""
             }
            },
            "type": "scatterternary"
           }
          ],
          "surface": [
           {
            "colorbar": {
             "outlinewidth": 0,
             "ticks": ""
            },
            "colorscale": [
             [
              0,
              "#0d0887"
             ],
             [
              0.1111111111111111,
              "#46039f"
             ],
             [
              0.2222222222222222,
              "#7201a8"
             ],
             [
              0.3333333333333333,
              "#9c179e"
             ],
             [
              0.4444444444444444,
              "#bd3786"
             ],
             [
              0.5555555555555556,
              "#d8576b"
             ],
             [
              0.6666666666666666,
              "#ed7953"
             ],
             [
              0.7777777777777778,
              "#fb9f3a"
             ],
             [
              0.8888888888888888,
              "#fdca26"
             ],
             [
              1,
              "#f0f921"
             ]
            ],
            "type": "surface"
           }
          ],
          "table": [
           {
            "cells": {
             "fill": {
              "color": "#EBF0F8"
             },
             "line": {
              "color": "white"
             }
            },
            "header": {
             "fill": {
              "color": "#C8D4E3"
             },
             "line": {
              "color": "white"
             }
            },
            "type": "table"
           }
          ]
         },
         "layout": {
          "annotationdefaults": {
           "arrowcolor": "#2a3f5f",
           "arrowhead": 0,
           "arrowwidth": 1
          },
          "autotypenumbers": "strict",
          "coloraxis": {
           "colorbar": {
            "outlinewidth": 0,
            "ticks": ""
           }
          },
          "colorscale": {
           "diverging": [
            [
             0,
             "#8e0152"
            ],
            [
             0.1,
             "#c51b7d"
            ],
            [
             0.2,
             "#de77ae"
            ],
            [
             0.3,
             "#f1b6da"
            ],
            [
             0.4,
             "#fde0ef"
            ],
            [
             0.5,
             "#f7f7f7"
            ],
            [
             0.6,
             "#e6f5d0"
            ],
            [
             0.7,
             "#b8e186"
            ],
            [
             0.8,
             "#7fbc41"
            ],
            [
             0.9,
             "#4d9221"
            ],
            [
             1,
             "#276419"
            ]
           ],
           "sequential": [
            [
             0,
             "#0d0887"
            ],
            [
             0.1111111111111111,
             "#46039f"
            ],
            [
             0.2222222222222222,
             "#7201a8"
            ],
            [
             0.3333333333333333,
             "#9c179e"
            ],
            [
             0.4444444444444444,
             "#bd3786"
            ],
            [
             0.5555555555555556,
             "#d8576b"
            ],
            [
             0.6666666666666666,
             "#ed7953"
            ],
            [
             0.7777777777777778,
             "#fb9f3a"
            ],
            [
             0.8888888888888888,
             "#fdca26"
            ],
            [
             1,
             "#f0f921"
            ]
           ],
           "sequentialminus": [
            [
             0,
             "#0d0887"
            ],
            [
             0.1111111111111111,
             "#46039f"
            ],
            [
             0.2222222222222222,
             "#7201a8"
            ],
            [
             0.3333333333333333,
             "#9c179e"
            ],
            [
             0.4444444444444444,
             "#bd3786"
            ],
            [
             0.5555555555555556,
             "#d8576b"
            ],
            [
             0.6666666666666666,
             "#ed7953"
            ],
            [
             0.7777777777777778,
             "#fb9f3a"
            ],
            [
             0.8888888888888888,
             "#fdca26"
            ],
            [
             1,
             "#f0f921"
            ]
           ]
          },
          "colorway": [
           "#636efa",
           "#EF553B",
           "#00cc96",
           "#ab63fa",
           "#FFA15A",
           "#19d3f3",
           "#FF6692",
           "#B6E880",
           "#FF97FF",
           "#FECB52"
          ],
          "font": {
           "color": "#2a3f5f"
          },
          "geo": {
           "bgcolor": "white",
           "lakecolor": "white",
           "landcolor": "#E5ECF6",
           "showlakes": true,
           "showland": true,
           "subunitcolor": "white"
          },
          "hoverlabel": {
           "align": "left"
          },
          "hovermode": "closest",
          "mapbox": {
           "style": "light"
          },
          "paper_bgcolor": "white",
          "plot_bgcolor": "#E5ECF6",
          "polar": {
           "angularaxis": {
            "gridcolor": "white",
            "linecolor": "white",
            "ticks": ""
           },
           "bgcolor": "#E5ECF6",
           "radialaxis": {
            "gridcolor": "white",
            "linecolor": "white",
            "ticks": ""
           }
          },
          "scene": {
           "xaxis": {
            "backgroundcolor": "#E5ECF6",
            "gridcolor": "white",
            "gridwidth": 2,
            "linecolor": "white",
            "showbackground": true,
            "ticks": "",
            "zerolinecolor": "white"
           },
           "yaxis": {
            "backgroundcolor": "#E5ECF6",
            "gridcolor": "white",
            "gridwidth": 2,
            "linecolor": "white",
            "showbackground": true,
            "ticks": "",
            "zerolinecolor": "white"
           },
           "zaxis": {
            "backgroundcolor": "#E5ECF6",
            "gridcolor": "white",
            "gridwidth": 2,
            "linecolor": "white",
            "showbackground": true,
            "ticks": "",
            "zerolinecolor": "white"
           }
          },
          "shapedefaults": {
           "line": {
            "color": "#2a3f5f"
           }
          },
          "ternary": {
           "aaxis": {
            "gridcolor": "white",
            "linecolor": "white",
            "ticks": ""
           },
           "baxis": {
            "gridcolor": "white",
            "linecolor": "white",
            "ticks": ""
           },
           "bgcolor": "#E5ECF6",
           "caxis": {
            "gridcolor": "white",
            "linecolor": "white",
            "ticks": ""
           }
          },
          "title": {
           "x": 0.05
          },
          "xaxis": {
           "automargin": true,
           "gridcolor": "white",
           "linecolor": "white",
           "ticks": "",
           "title": {
            "standoff": 15
           },
           "zerolinecolor": "white",
           "zerolinewidth": 2
          },
          "yaxis": {
           "automargin": true,
           "gridcolor": "white",
           "linecolor": "white",
           "ticks": "",
           "title": {
            "standoff": 15
           },
           "zerolinecolor": "white",
           "zerolinewidth": 2
          }
         }
        },
        "title": {
         "text": "UBEM Error"
        },
        "xaxis": {
         "anchor": "y",
         "domain": [
          0,
          1
         ],
         "title": {
          "text": "City"
         }
        },
        "yaxis": {
         "anchor": "x",
         "domain": [
          0,
          1
         ],
         "range": [
          0,
          15
         ],
         "title": {
          "text": "% Error"
         }
        }
       }
      }
     },
     "metadata": {},
     "output_type": "display_data"
    }
   ],
   "source": [
    "np.random.seed(12)\n",
    "ubem_sims = pd.DataFrame()\n",
    "n_sims = 1\n",
    "for i in range(n_sims):\n",
    "    ubem = annual.swaplevel(0, 2, axis=1).swaplevel(1, 2, axis=1).sort_index(axis=1)\n",
    "    elec_heating_p = 0.1\n",
    "    is_elec_heating = np.random.rand(len(ubem)) < elec_heating_p\n",
    "    heating_cop = (\n",
    "        is_elec_heating * np.random.rand(len(ubem)) * 2\n",
    "        + 2\n",
    "        + (1 - is_elec_heating) * (0.92 + np.random.rand(len(ubem)) * 0.05)\n",
    "    )\n",
    "    cooling_cop = np.random.rand(len(ubem)) * 2 + 2\n",
    "    ubem[\"Heating\"] = ubem[\"Heating\"] / heating_cop.reshape(-1, 1)\n",
    "    ubem[\"Cooling\"] = ubem[\"Cooling\"] / cooling_cop.reshape(-1, 1)\n",
    "    # ubem =ubem.drop(\"Electricity\",axis=1)\n",
    "\n",
    "    # aggregate to total building normalized energy\n",
    "    ubem = ubem.T.groupby(level=[1, 2]).sum().T\n",
    "\n",
    "    # ubem is in kWh/m2, so before summing we need to multiply by GFAs\n",
    "    ubem = building_features.gfa.values.reshape(-1, 1) * ubem\n",
    "    ubem = ubem.sum() / building_features.gfa.sum()\n",
    "    if len(ubem_sims) == 0:\n",
    "        ubem_sims = pd.DataFrame(ubem).T\n",
    "        ubem_sims = ubem_sims.reindex(range(n_sims))\n",
    "    else:\n",
    "        ubem_sims.iloc[i] = ubem\n",
    "\n",
    "error = (ubem_sims[\"Predicted\"] - ubem_sims[\"True\"]) / ubem_sims[\"True\"] * 100\n",
    "error_std = error.std()\n",
    "error = error.abs().mean()\n",
    "predicted = ubem_sims[\"Predicted\"].mean()\n",
    "true = ubem_sims[\"True\"].mean()\n",
    "\n",
    "a = pd.DataFrame(error, columns=[\"% Error\"])\n",
    "b = pd.DataFrame(predicted, columns=[\"Predicted\"])\n",
    "c = pd.DataFrame(true, columns=[\"True\"])\n",
    "ubem = pd.concat([a, b, c], axis=1).reset_index()\n",
    "\n",
    "ubem[\"Climate Zone\"] = (\n",
    "    city_df.set_index(\"name\").loc[ubem[\"City\"]][\"Climate Zone\"].values\n",
    ")\n",
    "ubem.sort_values(\"Climate Zone\", inplace=True)\n",
    "ubem[\"City\"] = city_df.set_index(\"name\").loc[ubem[\"City\"]][\"Display Name\"].values\n",
    "\n",
    "px.bar(\n",
    "    ubem,\n",
    "    x=\"City\",\n",
    "    y=\"% Error\",\n",
    "    title=f\"UBEM Error\",\n",
    "    range_y=[0, 15],\n",
    ")"
   ]
  },
  {
   "cell_type": "markdown",
   "metadata": {},
   "source": [
    "## UBEM Annual Analysis w/ COPs (no electricity) Breakdown Viz\n"
   ]
  },
  {
   "cell_type": "code",
   "execution_count": 8,
   "metadata": {},
   "outputs": [
    {
     "name": "stderr",
     "output_type": "stream",
     "text": [
      "C:\\Users\\szvsw\\AppData\\Local\\Temp\\ipykernel_7776\\516248586.py:24: PerformanceWarning:\n",
      "\n",
      "dropping on a non-lexsorted multi-index without a level parameter may impact performance.\n",
      "\n"
     ]
    },
    {
     "data": {
      "application/vnd.plotly.v1+json": {
       "config": {
        "plotlyServerURL": "https://plot.ly"
       },
       "data": [
        {
         "alignmentgroup": "True",
         "hovertemplate": "End Use=Cooling<br>City=%{x}<br>Energy [kWh/m2]=%{y}<extra></extra>",
         "legendgroup": "Cooling",
         "marker": {
          "color": "#636EFA",
          "pattern": {
           "shape": ""
          }
         },
         "name": "Cooling",
         "offsetgroup": "Cooling",
         "orientation": "v",
         "showlegend": true,
         "textposition": "auto",
         "type": "bar",
         "x": [
          "Mumbai (0A) [Predicted]",
          "Mumbai (0A) [True]",
          "Caracas (0B) [Predicted]",
          "Caracas (0B) [True]",
          "Riyadh (1A) [Predicted]",
          "Riyadh (1A) [True]",
          "Miami (1B) [Predicted]",
          "Miami (1B) [True]",
          "Sao Paulo (2A) [Predicted]",
          "Sao Paulo (2A) [True]",
          "Rome (3A) [Predicted]",
          "Tokyo (3A) [Predicted]",
          "Rome (3A) [True]",
          "Tokyo (3A) [True]",
          "Las Vegas (3B) [Predicted]",
          "Las Vegas (3B) [True]",
          "London (4A) [Predicted]",
          "London (4A) [True]",
          "Seattle (4C) [Predicted]",
          "Seattle (4C) [True]",
          "Krakow (5A) [Predicted]",
          "Krakow (5A) [True]",
          "Oslo (6A) [Predicted]",
          "Oslo (6A) [True]",
          "Fairbanks (8) [Predicted]",
          "Fairbanks (8) [True]"
         ],
         "xaxis": "x",
         "y": [
          86.11608376682452,
          75.82951103030226,
          40.61060580824838,
          36.30097134872815,
          57.366227201234025,
          53.130109900365646,
          55.08279015633556,
          49.370178872917684,
          22.743836498811312,
          21.55786682415463,
          14.20609037648375,
          20.004887435094957,
          13.41521714101078,
          18.949650032092165,
          35.602539191359554,
          32.86897798362787,
          5.017459544662908,
          5.357489047876821,
          7.252711036170816,
          7.31971348021192,
          6.074298542809678,
          6.321290067550526,
          3.196950030279625,
          3.757806971817842,
          3.9961314595954,
          4.198209888524294
         ],
         "yaxis": "y"
        },
        {
         "alignmentgroup": "True",
         "hovertemplate": "End Use=Heating<br>City=%{x}<br>Energy [kWh/m2]=%{y}<extra></extra>",
         "legendgroup": "Heating",
         "marker": {
          "color": "#EF553B",
          "pattern": {
           "shape": ""
          }
         },
         "name": "Heating",
         "offsetgroup": "Heating",
         "orientation": "v",
         "showlegend": true,
         "textposition": "auto",
         "type": "bar",
         "x": [
          "Mumbai (0A) [Predicted]",
          "Mumbai (0A) [True]",
          "Caracas (0B) [Predicted]",
          "Caracas (0B) [True]",
          "Riyadh (1A) [Predicted]",
          "Riyadh (1A) [True]",
          "Miami (1B) [Predicted]",
          "Miami (1B) [True]",
          "Sao Paulo (2A) [Predicted]",
          "Sao Paulo (2A) [True]",
          "Rome (3A) [Predicted]",
          "Tokyo (3A) [Predicted]",
          "Rome (3A) [True]",
          "Tokyo (3A) [True]",
          "Las Vegas (3B) [Predicted]",
          "Las Vegas (3B) [True]",
          "London (4A) [Predicted]",
          "London (4A) [True]",
          "Seattle (4C) [Predicted]",
          "Seattle (4C) [True]",
          "Krakow (5A) [Predicted]",
          "Krakow (5A) [True]",
          "Oslo (6A) [Predicted]",
          "Oslo (6A) [True]",
          "Fairbanks (8) [Predicted]",
          "Fairbanks (8) [True]"
         ],
         "xaxis": "x",
         "y": [
          -0.08649198934718297,
          0.0026364924926375885,
          -0.05779313516551936,
          0.021780263514980764,
          0.45065722905587097,
          0.8271053308372299,
          0.03596693764430012,
          0.23421906422965824,
          0.4237151540837878,
          0.6707563582187466,
          5.902420022463719,
          6.651455920455112,
          7.523518462004238,
          7.635543875307884,
          3.4817408717916156,
          4.923229529443896,
          11.83017533090373,
          13.450840132870386,
          10.609022603237287,
          12.749167285221452,
          19.145550954297143,
          20.95603806151749,
          20.844528014870495,
          22.53933618143419,
          52.599264481889676,
          57.187646846672244
         ],
         "yaxis": "y"
        }
       ],
       "layout": {
        "barmode": "stack",
        "legend": {
         "title": {
          "text": "End Use"
         },
         "tracegroupgap": 0
        },
        "margin": {
         "t": 60
        },
        "template": {
         "data": {
          "bar": [
           {
            "error_x": {
             "color": "#2a3f5f"
            },
            "error_y": {
             "color": "#2a3f5f"
            },
            "marker": {
             "line": {
              "color": "#E5ECF6",
              "width": 0.5
             },
             "pattern": {
              "fillmode": "overlay",
              "size": 10,
              "solidity": 0.2
             }
            },
            "type": "bar"
           }
          ],
          "barpolar": [
           {
            "marker": {
             "line": {
              "color": "#E5ECF6",
              "width": 0.5
             },
             "pattern": {
              "fillmode": "overlay",
              "size": 10,
              "solidity": 0.2
             }
            },
            "type": "barpolar"
           }
          ],
          "carpet": [
           {
            "aaxis": {
             "endlinecolor": "#2a3f5f",
             "gridcolor": "white",
             "linecolor": "white",
             "minorgridcolor": "white",
             "startlinecolor": "#2a3f5f"
            },
            "baxis": {
             "endlinecolor": "#2a3f5f",
             "gridcolor": "white",
             "linecolor": "white",
             "minorgridcolor": "white",
             "startlinecolor": "#2a3f5f"
            },
            "type": "carpet"
           }
          ],
          "choropleth": [
           {
            "colorbar": {
             "outlinewidth": 0,
             "ticks": ""
            },
            "type": "choropleth"
           }
          ],
          "contour": [
           {
            "colorbar": {
             "outlinewidth": 0,
             "ticks": ""
            },
            "colorscale": [
             [
              0,
              "#0d0887"
             ],
             [
              0.1111111111111111,
              "#46039f"
             ],
             [
              0.2222222222222222,
              "#7201a8"
             ],
             [
              0.3333333333333333,
              "#9c179e"
             ],
             [
              0.4444444444444444,
              "#bd3786"
             ],
             [
              0.5555555555555556,
              "#d8576b"
             ],
             [
              0.6666666666666666,
              "#ed7953"
             ],
             [
              0.7777777777777778,
              "#fb9f3a"
             ],
             [
              0.8888888888888888,
              "#fdca26"
             ],
             [
              1,
              "#f0f921"
             ]
            ],
            "type": "contour"
           }
          ],
          "contourcarpet": [
           {
            "colorbar": {
             "outlinewidth": 0,
             "ticks": ""
            },
            "type": "contourcarpet"
           }
          ],
          "heatmap": [
           {
            "colorbar": {
             "outlinewidth": 0,
             "ticks": ""
            },
            "colorscale": [
             [
              0,
              "#0d0887"
             ],
             [
              0.1111111111111111,
              "#46039f"
             ],
             [
              0.2222222222222222,
              "#7201a8"
             ],
             [
              0.3333333333333333,
              "#9c179e"
             ],
             [
              0.4444444444444444,
              "#bd3786"
             ],
             [
              0.5555555555555556,
              "#d8576b"
             ],
             [
              0.6666666666666666,
              "#ed7953"
             ],
             [
              0.7777777777777778,
              "#fb9f3a"
             ],
             [
              0.8888888888888888,
              "#fdca26"
             ],
             [
              1,
              "#f0f921"
             ]
            ],
            "type": "heatmap"
           }
          ],
          "heatmapgl": [
           {
            "colorbar": {
             "outlinewidth": 0,
             "ticks": ""
            },
            "colorscale": [
             [
              0,
              "#0d0887"
             ],
             [
              0.1111111111111111,
              "#46039f"
             ],
             [
              0.2222222222222222,
              "#7201a8"
             ],
             [
              0.3333333333333333,
              "#9c179e"
             ],
             [
              0.4444444444444444,
              "#bd3786"
             ],
             [
              0.5555555555555556,
              "#d8576b"
             ],
             [
              0.6666666666666666,
              "#ed7953"
             ],
             [
              0.7777777777777778,
              "#fb9f3a"
             ],
             [
              0.8888888888888888,
              "#fdca26"
             ],
             [
              1,
              "#f0f921"
             ]
            ],
            "type": "heatmapgl"
           }
          ],
          "histogram": [
           {
            "marker": {
             "pattern": {
              "fillmode": "overlay",
              "size": 10,
              "solidity": 0.2
             }
            },
            "type": "histogram"
           }
          ],
          "histogram2d": [
           {
            "colorbar": {
             "outlinewidth": 0,
             "ticks": ""
            },
            "colorscale": [
             [
              0,
              "#0d0887"
             ],
             [
              0.1111111111111111,
              "#46039f"
             ],
             [
              0.2222222222222222,
              "#7201a8"
             ],
             [
              0.3333333333333333,
              "#9c179e"
             ],
             [
              0.4444444444444444,
              "#bd3786"
             ],
             [
              0.5555555555555556,
              "#d8576b"
             ],
             [
              0.6666666666666666,
              "#ed7953"
             ],
             [
              0.7777777777777778,
              "#fb9f3a"
             ],
             [
              0.8888888888888888,
              "#fdca26"
             ],
             [
              1,
              "#f0f921"
             ]
            ],
            "type": "histogram2d"
           }
          ],
          "histogram2dcontour": [
           {
            "colorbar": {
             "outlinewidth": 0,
             "ticks": ""
            },
            "colorscale": [
             [
              0,
              "#0d0887"
             ],
             [
              0.1111111111111111,
              "#46039f"
             ],
             [
              0.2222222222222222,
              "#7201a8"
             ],
             [
              0.3333333333333333,
              "#9c179e"
             ],
             [
              0.4444444444444444,
              "#bd3786"
             ],
             [
              0.5555555555555556,
              "#d8576b"
             ],
             [
              0.6666666666666666,
              "#ed7953"
             ],
             [
              0.7777777777777778,
              "#fb9f3a"
             ],
             [
              0.8888888888888888,
              "#fdca26"
             ],
             [
              1,
              "#f0f921"
             ]
            ],
            "type": "histogram2dcontour"
           }
          ],
          "mesh3d": [
           {
            "colorbar": {
             "outlinewidth": 0,
             "ticks": ""
            },
            "type": "mesh3d"
           }
          ],
          "parcoords": [
           {
            "line": {
             "colorbar": {
              "outlinewidth": 0,
              "ticks": ""
             }
            },
            "type": "parcoords"
           }
          ],
          "pie": [
           {
            "automargin": true,
            "type": "pie"
           }
          ],
          "scatter": [
           {
            "fillpattern": {
             "fillmode": "overlay",
             "size": 10,
             "solidity": 0.2
            },
            "type": "scatter"
           }
          ],
          "scatter3d": [
           {
            "line": {
             "colorbar": {
              "outlinewidth": 0,
              "ticks": ""
             }
            },
            "marker": {
             "colorbar": {
              "outlinewidth": 0,
              "ticks": ""
             }
            },
            "type": "scatter3d"
           }
          ],
          "scattercarpet": [
           {
            "marker": {
             "colorbar": {
              "outlinewidth": 0,
              "ticks": ""
             }
            },
            "type": "scattercarpet"
           }
          ],
          "scattergeo": [
           {
            "marker": {
             "colorbar": {
              "outlinewidth": 0,
              "ticks": ""
             }
            },
            "type": "scattergeo"
           }
          ],
          "scattergl": [
           {
            "marker": {
             "colorbar": {
              "outlinewidth": 0,
              "ticks": ""
             }
            },
            "type": "scattergl"
           }
          ],
          "scattermapbox": [
           {
            "marker": {
             "colorbar": {
              "outlinewidth": 0,
              "ticks": ""
             }
            },
            "type": "scattermapbox"
           }
          ],
          "scatterpolar": [
           {
            "marker": {
             "colorbar": {
              "outlinewidth": 0,
              "ticks": ""
             }
            },
            "type": "scatterpolar"
           }
          ],
          "scatterpolargl": [
           {
            "marker": {
             "colorbar": {
              "outlinewidth": 0,
              "ticks": ""
             }
            },
            "type": "scatterpolargl"
           }
          ],
          "scatterternary": [
           {
            "marker": {
             "colorbar": {
              "outlinewidth": 0,
              "ticks": ""
             }
            },
            "type": "scatterternary"
           }
          ],
          "surface": [
           {
            "colorbar": {
             "outlinewidth": 0,
             "ticks": ""
            },
            "colorscale": [
             [
              0,
              "#0d0887"
             ],
             [
              0.1111111111111111,
              "#46039f"
             ],
             [
              0.2222222222222222,
              "#7201a8"
             ],
             [
              0.3333333333333333,
              "#9c179e"
             ],
             [
              0.4444444444444444,
              "#bd3786"
             ],
             [
              0.5555555555555556,
              "#d8576b"
             ],
             [
              0.6666666666666666,
              "#ed7953"
             ],
             [
              0.7777777777777778,
              "#fb9f3a"
             ],
             [
              0.8888888888888888,
              "#fdca26"
             ],
             [
              1,
              "#f0f921"
             ]
            ],
            "type": "surface"
           }
          ],
          "table": [
           {
            "cells": {
             "fill": {
              "color": "#EBF0F8"
             },
             "line": {
              "color": "white"
             }
            },
            "header": {
             "fill": {
              "color": "#C8D4E3"
             },
             "line": {
              "color": "white"
             }
            },
            "type": "table"
           }
          ]
         },
         "layout": {
          "annotationdefaults": {
           "arrowcolor": "#2a3f5f",
           "arrowhead": 0,
           "arrowwidth": 1
          },
          "autotypenumbers": "strict",
          "coloraxis": {
           "colorbar": {
            "outlinewidth": 0,
            "ticks": ""
           }
          },
          "colorscale": {
           "diverging": [
            [
             0,
             "#8e0152"
            ],
            [
             0.1,
             "#c51b7d"
            ],
            [
             0.2,
             "#de77ae"
            ],
            [
             0.3,
             "#f1b6da"
            ],
            [
             0.4,
             "#fde0ef"
            ],
            [
             0.5,
             "#f7f7f7"
            ],
            [
             0.6,
             "#e6f5d0"
            ],
            [
             0.7,
             "#b8e186"
            ],
            [
             0.8,
             "#7fbc41"
            ],
            [
             0.9,
             "#4d9221"
            ],
            [
             1,
             "#276419"
            ]
           ],
           "sequential": [
            [
             0,
             "#0d0887"
            ],
            [
             0.1111111111111111,
             "#46039f"
            ],
            [
             0.2222222222222222,
             "#7201a8"
            ],
            [
             0.3333333333333333,
             "#9c179e"
            ],
            [
             0.4444444444444444,
             "#bd3786"
            ],
            [
             0.5555555555555556,
             "#d8576b"
            ],
            [
             0.6666666666666666,
             "#ed7953"
            ],
            [
             0.7777777777777778,
             "#fb9f3a"
            ],
            [
             0.8888888888888888,
             "#fdca26"
            ],
            [
             1,
             "#f0f921"
            ]
           ],
           "sequentialminus": [
            [
             0,
             "#0d0887"
            ],
            [
             0.1111111111111111,
             "#46039f"
            ],
            [
             0.2222222222222222,
             "#7201a8"
            ],
            [
             0.3333333333333333,
             "#9c179e"
            ],
            [
             0.4444444444444444,
             "#bd3786"
            ],
            [
             0.5555555555555556,
             "#d8576b"
            ],
            [
             0.6666666666666666,
             "#ed7953"
            ],
            [
             0.7777777777777778,
             "#fb9f3a"
            ],
            [
             0.8888888888888888,
             "#fdca26"
            ],
            [
             1,
             "#f0f921"
            ]
           ]
          },
          "colorway": [
           "#636efa",
           "#EF553B",
           "#00cc96",
           "#ab63fa",
           "#FFA15A",
           "#19d3f3",
           "#FF6692",
           "#B6E880",
           "#FF97FF",
           "#FECB52"
          ],
          "font": {
           "color": "#2a3f5f"
          },
          "geo": {
           "bgcolor": "white",
           "lakecolor": "white",
           "landcolor": "#E5ECF6",
           "showlakes": true,
           "showland": true,
           "subunitcolor": "white"
          },
          "hoverlabel": {
           "align": "left"
          },
          "hovermode": "closest",
          "mapbox": {
           "style": "light"
          },
          "paper_bgcolor": "white",
          "plot_bgcolor": "#E5ECF6",
          "polar": {
           "angularaxis": {
            "gridcolor": "white",
            "linecolor": "white",
            "ticks": ""
           },
           "bgcolor": "#E5ECF6",
           "radialaxis": {
            "gridcolor": "white",
            "linecolor": "white",
            "ticks": ""
           }
          },
          "scene": {
           "xaxis": {
            "backgroundcolor": "#E5ECF6",
            "gridcolor": "white",
            "gridwidth": 2,
            "linecolor": "white",
            "showbackground": true,
            "ticks": "",
            "zerolinecolor": "white"
           },
           "yaxis": {
            "backgroundcolor": "#E5ECF6",
            "gridcolor": "white",
            "gridwidth": 2,
            "linecolor": "white",
            "showbackground": true,
            "ticks": "",
            "zerolinecolor": "white"
           },
           "zaxis": {
            "backgroundcolor": "#E5ECF6",
            "gridcolor": "white",
            "gridwidth": 2,
            "linecolor": "white",
            "showbackground": true,
            "ticks": "",
            "zerolinecolor": "white"
           }
          },
          "shapedefaults": {
           "line": {
            "color": "#2a3f5f"
           }
          },
          "ternary": {
           "aaxis": {
            "gridcolor": "white",
            "linecolor": "white",
            "ticks": ""
           },
           "baxis": {
            "gridcolor": "white",
            "linecolor": "white",
            "ticks": ""
           },
           "bgcolor": "#E5ECF6",
           "caxis": {
            "gridcolor": "white",
            "linecolor": "white",
            "ticks": ""
           }
          },
          "title": {
           "x": 0.05
          },
          "xaxis": {
           "automargin": true,
           "gridcolor": "white",
           "linecolor": "white",
           "ticks": "",
           "title": {
            "standoff": 15
           },
           "zerolinecolor": "white",
           "zerolinewidth": 2
          },
          "yaxis": {
           "automargin": true,
           "gridcolor": "white",
           "linecolor": "white",
           "ticks": "",
           "title": {
            "standoff": 15
           },
           "zerolinecolor": "white",
           "zerolinewidth": 2
          }
         }
        },
        "xaxis": {
         "anchor": "y",
         "domain": [
          0,
          1
         ],
         "title": {
          "text": "City"
         }
        },
        "yaxis": {
         "anchor": "x",
         "domain": [
          0,
          1
         ],
         "title": {
          "text": "Energy [kWh/m2]"
         }
        }
       }
      }
     },
     "metadata": {},
     "output_type": "display_data"
    }
   ],
   "source": [
    "ubem = annual.swaplevel(0, 2, axis=1).swaplevel(1, 2, axis=1).sort_index(axis=1)\n",
    "elec_heating_p = 0.1\n",
    "is_elec_heating = np.random.rand(len(ubem)) < elec_heating_p\n",
    "heating_cop = (\n",
    "    is_elec_heating * np.random.rand(len(ubem)) * 2\n",
    "    + 2\n",
    "    + (1 - is_elec_heating) * (0.92 + np.random.rand(len(ubem)) * 0.05)\n",
    ")\n",
    "cooling_cop = np.random.rand(len(ubem)) * 2 + 2\n",
    "ubem[\"Heating\"] = ubem[\"Heating\"] / heating_cop.reshape(-1, 1)\n",
    "ubem[\"Cooling\"] = ubem[\"Cooling\"] / cooling_cop.reshape(-1, 1)\n",
    "# ubem =ubem.drop(\"Electricity\",axis=1)\n",
    "\n",
    "# # aggregate to total building normalized energy\n",
    "# ubem = ubem.T.groupby(level=[1, 2]).sum().T\n",
    "\n",
    "# ubem is in kWh/m2, so before summing we need to multiply by GFAs\n",
    "ubem = building_features.gfa.values.reshape(-1, 1) * ubem\n",
    "ubem = ubem.swaplevel(0, 1, axis=1).sum() / building_features.gfa.sum()\n",
    "\n",
    "ubem = pd.DataFrame(ubem, columns=[\"Energy [kWh/m2]\"])\n",
    "\n",
    "ubem = ubem.drop(\"Electricity\", level=1)\n",
    "ubem = ubem.drop(\"Residuals\").reset_index()\n",
    "ubem[\"Climate Zone\"] = (\n",
    "    city_df.set_index(\"name\").loc[ubem[\"City\"]][\"Climate Zone\"].values\n",
    ")\n",
    "ubem = ubem.sort_values([\"Climate Zone\", \"Segment\"])\n",
    "ubem[\"City\"] = (\n",
    "    city_df.set_index(\"name\").loc[ubem[\"City\"]][\"Display Name\"].values\n",
    "    + \" [\"\n",
    "    + ubem[\"Segment\"]\n",
    "    + \"]\"\n",
    ")\n",
    "\n",
    "\n",
    "px.bar(\n",
    "    ubem,\n",
    "    x=\"City\",\n",
    "    y=\"Energy [kWh/m2]\",\n",
    "    barmode=\"stack\",\n",
    "    color=\"End Use\",\n",
    "    color_discrete_map={\n",
    "        \"Heating\": \"#EF553B\",\n",
    "        \"Cooling\": \"#636EFA\",\n",
    "        \"Electricity\": \"#00CC96\",\n",
    "    },\n",
    ")"
   ]
  },
  {
   "cell_type": "markdown",
   "metadata": {},
   "source": [
    "# Building-Level Global Annual Analysis by End Use\n"
   ]
  },
  {
   "cell_type": "code",
   "execution_count": 53,
   "metadata": {},
   "outputs": [
    {
     "data": {
      "text/plain": [
       "End Use\n",
       "Cooling        21.359046\n",
       "Electricity     0.032991\n",
       "Heating        31.636896\n",
       "dtype: float64"
      ]
     },
     "execution_count": 53,
     "metadata": {},
     "output_type": "execute_result"
    }
   ],
   "source": [
    "world = annual.stack(level=1)\n",
    "world_means = world[\"True\"].mean()\n",
    "world_rmse = np.sqrt(world[\"Residuals\"].pow(2).mean())\n",
    "world_cvrmse = world_rmse / world_means * 100\n",
    "world_mae = world[\"Residuals\"].abs().mean()\n",
    "world_mbe = world[\"Residuals\"].mean()\n",
    "world_mape = (world[\"Residuals\"].abs() / world[\"True\"] * 100).mean()\n",
    "\n",
    "world_cvrmse"
   ]
  },
  {
   "cell_type": "markdown",
   "metadata": {},
   "source": [
    "# Building-Level Global Annual Analysis with COPs and Elec\n"
   ]
  },
  {
   "cell_type": "code",
   "execution_count": 52,
   "metadata": {},
   "outputs": [
    {
     "name": "stdout",
     "output_type": "stream",
     "text": [
      "---Global Stats---\n",
      "Individual Building CVRMSE:         5.56\n",
      "Individual Building RMSE (kWh/m2):  7.09\n",
      "Individual Building MBE (kWh/m2):   -0.7\n",
      "Individual Building MAE (kWh/m2):   4.82\n"
     ]
    },
    {
     "data": {
      "text/html": [
       "<div>\n",
       "<style scoped>\n",
       "    .dataframe tbody tr th:only-of-type {\n",
       "        vertical-align: middle;\n",
       "    }\n",
       "\n",
       "    .dataframe tbody tr th {\n",
       "        vertical-align: top;\n",
       "    }\n",
       "\n",
       "    .dataframe thead th {\n",
       "        text-align: right;\n",
       "    }\n",
       "</style>\n",
       "<table border=\"1\" class=\"dataframe\">\n",
       "  <thead>\n",
       "    <tr style=\"text-align: right;\">\n",
       "      <th></th>\n",
       "      <th>True Mean [kWh/m2]</th>\n",
       "      <th>RMSE [kWh/m2]</th>\n",
       "      <th>CVRMSE</th>\n",
       "      <th>MAE [kWh/m2]</th>\n",
       "      <th>MBE [kWh/m2]</th>\n",
       "      <th>Climate Zone</th>\n",
       "    </tr>\n",
       "    <tr>\n",
       "      <th>City</th>\n",
       "      <th></th>\n",
       "      <th></th>\n",
       "      <th></th>\n",
       "      <th></th>\n",
       "      <th></th>\n",
       "      <th></th>\n",
       "    </tr>\n",
       "  </thead>\n",
       "  <tbody>\n",
       "    <tr>\n",
       "      <th>Mumbai</th>\n",
       "      <td>167.87</td>\n",
       "      <td>13.73</td>\n",
       "      <td>8.18</td>\n",
       "      <td>11.15</td>\n",
       "      <td>-11.06</td>\n",
       "      <td>0A</td>\n",
       "    </tr>\n",
       "    <tr>\n",
       "      <th>Caracas</th>\n",
       "      <td>124.00</td>\n",
       "      <td>6.91</td>\n",
       "      <td>5.57</td>\n",
       "      <td>5.20</td>\n",
       "      <td>-4.67</td>\n",
       "      <td>0B</td>\n",
       "    </tr>\n",
       "    <tr>\n",
       "      <th>Riyadh</th>\n",
       "      <td>145.42</td>\n",
       "      <td>6.09</td>\n",
       "      <td>4.19</td>\n",
       "      <td>4.45</td>\n",
       "      <td>-3.94</td>\n",
       "      <td>1A</td>\n",
       "    </tr>\n",
       "    <tr>\n",
       "      <th>Miami</th>\n",
       "      <td>138.91</td>\n",
       "      <td>7.81</td>\n",
       "      <td>5.62</td>\n",
       "      <td>6.12</td>\n",
       "      <td>-5.93</td>\n",
       "      <td>1B</td>\n",
       "    </tr>\n",
       "    <tr>\n",
       "      <th>Sao Paulo</th>\n",
       "      <td>109.21</td>\n",
       "      <td>3.60</td>\n",
       "      <td>3.30</td>\n",
       "      <td>2.52</td>\n",
       "      <td>-0.95</td>\n",
       "      <td>2A</td>\n",
       "    </tr>\n",
       "    <tr>\n",
       "      <th>Rome</th>\n",
       "      <td>109.77</td>\n",
       "      <td>3.99</td>\n",
       "      <td>3.64</td>\n",
       "      <td>2.90</td>\n",
       "      <td>1.26</td>\n",
       "      <td>3A</td>\n",
       "    </tr>\n",
       "    <tr>\n",
       "      <th>Tokyo</th>\n",
       "      <td>115.66</td>\n",
       "      <td>3.54</td>\n",
       "      <td>3.06</td>\n",
       "      <td>2.45</td>\n",
       "      <td>0.16</td>\n",
       "      <td>3A</td>\n",
       "    </tr>\n",
       "    <tr>\n",
       "      <th>Las Vegas</th>\n",
       "      <td>128.17</td>\n",
       "      <td>4.24</td>\n",
       "      <td>3.31</td>\n",
       "      <td>2.99</td>\n",
       "      <td>-0.99</td>\n",
       "      <td>3B</td>\n",
       "    </tr>\n",
       "    <tr>\n",
       "      <th>London</th>\n",
       "      <td>108.66</td>\n",
       "      <td>4.89</td>\n",
       "      <td>4.50</td>\n",
       "      <td>3.61</td>\n",
       "      <td>2.51</td>\n",
       "      <td>4A</td>\n",
       "    </tr>\n",
       "    <tr>\n",
       "      <th>Seattle</th>\n",
       "      <td>109.92</td>\n",
       "      <td>5.18</td>\n",
       "      <td>4.71</td>\n",
       "      <td>3.86</td>\n",
       "      <td>2.87</td>\n",
       "      <td>4C</td>\n",
       "    </tr>\n",
       "    <tr>\n",
       "      <th>Krakow</th>\n",
       "      <td>119.10</td>\n",
       "      <td>5.44</td>\n",
       "      <td>4.57</td>\n",
       "      <td>4.07</td>\n",
       "      <td>2.64</td>\n",
       "      <td>5A</td>\n",
       "    </tr>\n",
       "    <tr>\n",
       "      <th>Oslo</th>\n",
       "      <td>118.48</td>\n",
       "      <td>6.12</td>\n",
       "      <td>5.17</td>\n",
       "      <td>4.48</td>\n",
       "      <td>2.94</td>\n",
       "      <td>6A</td>\n",
       "    </tr>\n",
       "    <tr>\n",
       "      <th>Fairbanks</th>\n",
       "      <td>161.40</td>\n",
       "      <td>11.18</td>\n",
       "      <td>6.93</td>\n",
       "      <td>8.83</td>\n",
       "      <td>6.05</td>\n",
       "      <td>8</td>\n",
       "    </tr>\n",
       "  </tbody>\n",
       "</table>\n",
       "</div>"
      ],
      "text/plain": [
       "           True Mean [kWh/m2]  RMSE [kWh/m2]  CVRMSE  MAE [kWh/m2]  \\\n",
       "City                                                                 \n",
       "Mumbai                 167.87          13.73    8.18         11.15   \n",
       "Caracas                124.00           6.91    5.57          5.20   \n",
       "Riyadh                 145.42           6.09    4.19          4.45   \n",
       "Miami                  138.91           7.81    5.62          6.12   \n",
       "Sao Paulo              109.21           3.60    3.30          2.52   \n",
       "Rome                   109.77           3.99    3.64          2.90   \n",
       "Tokyo                  115.66           3.54    3.06          2.45   \n",
       "Las Vegas              128.17           4.24    3.31          2.99   \n",
       "London                 108.66           4.89    4.50          3.61   \n",
       "Seattle                109.92           5.18    4.71          3.86   \n",
       "Krakow                 119.10           5.44    4.57          4.07   \n",
       "Oslo                   118.48           6.12    5.17          4.48   \n",
       "Fairbanks              161.40          11.18    6.93          8.83   \n",
       "\n",
       "           MBE [kWh/m2] Climate Zone  \n",
       "City                                  \n",
       "Mumbai           -11.06           0A  \n",
       "Caracas           -4.67           0B  \n",
       "Riyadh            -3.94           1A  \n",
       "Miami             -5.93           1B  \n",
       "Sao Paulo         -0.95           2A  \n",
       "Rome               1.26           3A  \n",
       "Tokyo              0.16           3A  \n",
       "Las Vegas         -0.99           3B  \n",
       "London             2.51           4A  \n",
       "Seattle            2.87           4C  \n",
       "Krakow             2.64           5A  \n",
       "Oslo               2.94           6A  \n",
       "Fairbanks          6.05            8  "
      ]
     },
     "execution_count": 52,
     "metadata": {},
     "output_type": "execute_result"
    }
   ],
   "source": [
    "world = annual.stack(level=1)\n",
    "world = pd.concat([world for _ in range(10)], axis=0)\n",
    "elec_heating_p = 0.1\n",
    "is_elec_heating = np.random.rand(len(world)) < elec_heating_p\n",
    "heating_cop = (\n",
    "    is_elec_heating * np.random.rand(len(world)) * 2\n",
    "    + 2\n",
    "    + (1 - is_elec_heating) * (0.92 + np.random.rand(len(world)) * 0.05)\n",
    ")\n",
    "cooling_cop = np.random.rand(len(world)) * 2 + 2\n",
    "world = world.swaplevel(0, 1, axis=1).sort_index(axis=1)\n",
    "world[\"Cooling\"] = world[\"Cooling\"] / cooling_cop.reshape(-1, 1)\n",
    "world[\"Heating\"] = world[\"Heating\"] / heating_cop.reshape(-1, 1)\n",
    "world = world.swaplevel(0, 1, axis=1).sort_index(axis=1)\n",
    "world = world.T.groupby(\"Segment\").sum().T\n",
    "assert (world.Residuals + (world.Predicted - world[\"True\"])).abs().max() < 1e-6\n",
    "world_building_true_mean = world[\"True\"].mean()\n",
    "world_building_rmse = np.sqrt(world[\"Residuals\"].pow(2).mean())\n",
    "world_building_cvrmse = world_building_rmse / world_building_true_mean * 100\n",
    "world_building_mae = world[\"Residuals\"].abs().mean()\n",
    "world_building_mbe = world[\"Residuals\"].mean()\n",
    "world_building_mape = (world[\"Residuals\"].abs() / world[\"True\"] * 100).mean()\n",
    "\n",
    "print(\"---Global Stats---\")\n",
    "print(\"Individual Building CVRMSE:        \", round(world_building_cvrmse, 2))\n",
    "print(\"Individual Building RMSE (kWh/m2): \", round(world_building_rmse, 2))\n",
    "print(\"Individual Building MBE (kWh/m2):  \", round(world_building_mbe, 2))\n",
    "print(\"Individual Building MAE (kWh/m2):  \", round(world_building_mae, 2))\n",
    "\n",
    "world = world.groupby([\"City\", \"building_id\"]).mean()\n",
    "assert (world.Residuals + (world.Predicted - world[\"True\"])).abs().max() < 1e-6\n",
    "buildings_by_city = world.unstack(level=0)\n",
    "buildings_by_city_true_mean = buildings_by_city[\"True\"].mean()\n",
    "buildings_by_city_rmse = np.sqrt(buildings_by_city[\"Residuals\"].pow(2).mean())\n",
    "buildings_by_city_cvrmse = buildings_by_city_rmse / buildings_by_city_true_mean * 100\n",
    "buildings_by_city_mae = buildings_by_city[\"Residuals\"].abs().mean()\n",
    "buildings_by_city_mbe = buildings_by_city[\"Residuals\"].mean()\n",
    "\n",
    "buildings_by_city_summary = pd.concat(\n",
    "    [\n",
    "        buildings_by_city_true_mean.rename(\"True Mean [kWh/m2]\"),\n",
    "        buildings_by_city_rmse.rename(\"RMSE [kWh/m2]\"),\n",
    "        buildings_by_city_cvrmse.rename(\"CVRMSE\"),\n",
    "        buildings_by_city_mae.rename(\"MAE [kWh/m2]\"),\n",
    "        buildings_by_city_mbe.rename(\"MBE [kWh/m2]\"),\n",
    "    ],\n",
    "    axis=1,\n",
    ")\n",
    "\n",
    "buildings_by_city_summary[\"Climate Zone\"] = (\n",
    "    city_df.set_index(\"name\")\n",
    "    .loc[buildings_by_city_summary.index.get_level_values(0), \"Climate Zone\"]\n",
    "    .values\n",
    ")\n",
    "buildings_by_city_summary = buildings_by_city_summary.sort_values(\"Climate Zone\")\n",
    "buildings_by_city_summary.round(2)"
   ]
  },
  {
   "cell_type": "code",
   "execution_count": 57,
   "metadata": {},
   "outputs": [
    {
     "data": {
      "application/vnd.plotly.v1+json": {
       "config": {
        "plotlyServerURL": "https://plot.ly"
       },
       "data": [
        {
         "alignmentgroup": "True",
         "hovertemplate": "City=%{x}<br>CVRMSE=%{y}<extra></extra>",
         "legendgroup": "",
         "marker": {
          "color": "#636efa",
          "pattern": {
           "shape": ""
          }
         },
         "name": "",
         "offsetgroup": "",
         "orientation": "v",
         "showlegend": false,
         "textposition": "auto",
         "type": "bar",
         "x": [
          "Mumbai (0A)",
          "Caracas (0B)",
          "Riyadh (1A)",
          "Miami (1B)",
          "Sao Paulo (2A)",
          "Rome (3A)",
          "Tokyo (3A)",
          "Las Vegas (3B)",
          "London (4A)",
          "Seattle (4C)",
          "Krakow (5A)",
          "Oslo (6A)",
          "Fairbanks (8)"
         ],
         "xaxis": "x",
         "y": [
          8.180286591793404,
          5.573588624063143,
          4.190611938695116,
          5.620790890713777,
          3.2952618230631705,
          3.636064025132995,
          3.0584019571134746,
          3.3070207809227217,
          4.497244811513115,
          4.712423472904588,
          4.571087798320994,
          5.169654475333382,
          6.929855733654396
         ],
         "yaxis": "y"
        }
       ],
       "layout": {
        "barmode": "group",
        "height": 600,
        "legend": {
         "tracegroupgap": 0
        },
        "template": {
         "data": {
          "bar": [
           {
            "error_x": {
             "color": "#2a3f5f"
            },
            "error_y": {
             "color": "#2a3f5f"
            },
            "marker": {
             "line": {
              "color": "#E5ECF6",
              "width": 0.5
             },
             "pattern": {
              "fillmode": "overlay",
              "size": 10,
              "solidity": 0.2
             }
            },
            "type": "bar"
           }
          ],
          "barpolar": [
           {
            "marker": {
             "line": {
              "color": "#E5ECF6",
              "width": 0.5
             },
             "pattern": {
              "fillmode": "overlay",
              "size": 10,
              "solidity": 0.2
             }
            },
            "type": "barpolar"
           }
          ],
          "carpet": [
           {
            "aaxis": {
             "endlinecolor": "#2a3f5f",
             "gridcolor": "white",
             "linecolor": "white",
             "minorgridcolor": "white",
             "startlinecolor": "#2a3f5f"
            },
            "baxis": {
             "endlinecolor": "#2a3f5f",
             "gridcolor": "white",
             "linecolor": "white",
             "minorgridcolor": "white",
             "startlinecolor": "#2a3f5f"
            },
            "type": "carpet"
           }
          ],
          "choropleth": [
           {
            "colorbar": {
             "outlinewidth": 0,
             "ticks": ""
            },
            "type": "choropleth"
           }
          ],
          "contour": [
           {
            "colorbar": {
             "outlinewidth": 0,
             "ticks": ""
            },
            "colorscale": [
             [
              0,
              "#0d0887"
             ],
             [
              0.1111111111111111,
              "#46039f"
             ],
             [
              0.2222222222222222,
              "#7201a8"
             ],
             [
              0.3333333333333333,
              "#9c179e"
             ],
             [
              0.4444444444444444,
              "#bd3786"
             ],
             [
              0.5555555555555556,
              "#d8576b"
             ],
             [
              0.6666666666666666,
              "#ed7953"
             ],
             [
              0.7777777777777778,
              "#fb9f3a"
             ],
             [
              0.8888888888888888,
              "#fdca26"
             ],
             [
              1,
              "#f0f921"
             ]
            ],
            "type": "contour"
           }
          ],
          "contourcarpet": [
           {
            "colorbar": {
             "outlinewidth": 0,
             "ticks": ""
            },
            "type": "contourcarpet"
           }
          ],
          "heatmap": [
           {
            "colorbar": {
             "outlinewidth": 0,
             "ticks": ""
            },
            "colorscale": [
             [
              0,
              "#0d0887"
             ],
             [
              0.1111111111111111,
              "#46039f"
             ],
             [
              0.2222222222222222,
              "#7201a8"
             ],
             [
              0.3333333333333333,
              "#9c179e"
             ],
             [
              0.4444444444444444,
              "#bd3786"
             ],
             [
              0.5555555555555556,
              "#d8576b"
             ],
             [
              0.6666666666666666,
              "#ed7953"
             ],
             [
              0.7777777777777778,
              "#fb9f3a"
             ],
             [
              0.8888888888888888,
              "#fdca26"
             ],
             [
              1,
              "#f0f921"
             ]
            ],
            "type": "heatmap"
           }
          ],
          "heatmapgl": [
           {
            "colorbar": {
             "outlinewidth": 0,
             "ticks": ""
            },
            "colorscale": [
             [
              0,
              "#0d0887"
             ],
             [
              0.1111111111111111,
              "#46039f"
             ],
             [
              0.2222222222222222,
              "#7201a8"
             ],
             [
              0.3333333333333333,
              "#9c179e"
             ],
             [
              0.4444444444444444,
              "#bd3786"
             ],
             [
              0.5555555555555556,
              "#d8576b"
             ],
             [
              0.6666666666666666,
              "#ed7953"
             ],
             [
              0.7777777777777778,
              "#fb9f3a"
             ],
             [
              0.8888888888888888,
              "#fdca26"
             ],
             [
              1,
              "#f0f921"
             ]
            ],
            "type": "heatmapgl"
           }
          ],
          "histogram": [
           {
            "marker": {
             "pattern": {
              "fillmode": "overlay",
              "size": 10,
              "solidity": 0.2
             }
            },
            "type": "histogram"
           }
          ],
          "histogram2d": [
           {
            "colorbar": {
             "outlinewidth": 0,
             "ticks": ""
            },
            "colorscale": [
             [
              0,
              "#0d0887"
             ],
             [
              0.1111111111111111,
              "#46039f"
             ],
             [
              0.2222222222222222,
              "#7201a8"
             ],
             [
              0.3333333333333333,
              "#9c179e"
             ],
             [
              0.4444444444444444,
              "#bd3786"
             ],
             [
              0.5555555555555556,
              "#d8576b"
             ],
             [
              0.6666666666666666,
              "#ed7953"
             ],
             [
              0.7777777777777778,
              "#fb9f3a"
             ],
             [
              0.8888888888888888,
              "#fdca26"
             ],
             [
              1,
              "#f0f921"
             ]
            ],
            "type": "histogram2d"
           }
          ],
          "histogram2dcontour": [
           {
            "colorbar": {
             "outlinewidth": 0,
             "ticks": ""
            },
            "colorscale": [
             [
              0,
              "#0d0887"
             ],
             [
              0.1111111111111111,
              "#46039f"
             ],
             [
              0.2222222222222222,
              "#7201a8"
             ],
             [
              0.3333333333333333,
              "#9c179e"
             ],
             [
              0.4444444444444444,
              "#bd3786"
             ],
             [
              0.5555555555555556,
              "#d8576b"
             ],
             [
              0.6666666666666666,
              "#ed7953"
             ],
             [
              0.7777777777777778,
              "#fb9f3a"
             ],
             [
              0.8888888888888888,
              "#fdca26"
             ],
             [
              1,
              "#f0f921"
             ]
            ],
            "type": "histogram2dcontour"
           }
          ],
          "mesh3d": [
           {
            "colorbar": {
             "outlinewidth": 0,
             "ticks": ""
            },
            "type": "mesh3d"
           }
          ],
          "parcoords": [
           {
            "line": {
             "colorbar": {
              "outlinewidth": 0,
              "ticks": ""
             }
            },
            "type": "parcoords"
           }
          ],
          "pie": [
           {
            "automargin": true,
            "type": "pie"
           }
          ],
          "scatter": [
           {
            "fillpattern": {
             "fillmode": "overlay",
             "size": 10,
             "solidity": 0.2
            },
            "type": "scatter"
           }
          ],
          "scatter3d": [
           {
            "line": {
             "colorbar": {
              "outlinewidth": 0,
              "ticks": ""
             }
            },
            "marker": {
             "colorbar": {
              "outlinewidth": 0,
              "ticks": ""
             }
            },
            "type": "scatter3d"
           }
          ],
          "scattercarpet": [
           {
            "marker": {
             "colorbar": {
              "outlinewidth": 0,
              "ticks": ""
             }
            },
            "type": "scattercarpet"
           }
          ],
          "scattergeo": [
           {
            "marker": {
             "colorbar": {
              "outlinewidth": 0,
              "ticks": ""
             }
            },
            "type": "scattergeo"
           }
          ],
          "scattergl": [
           {
            "marker": {
             "colorbar": {
              "outlinewidth": 0,
              "ticks": ""
             }
            },
            "type": "scattergl"
           }
          ],
          "scattermapbox": [
           {
            "marker": {
             "colorbar": {
              "outlinewidth": 0,
              "ticks": ""
             }
            },
            "type": "scattermapbox"
           }
          ],
          "scatterpolar": [
           {
            "marker": {
             "colorbar": {
              "outlinewidth": 0,
              "ticks": ""
             }
            },
            "type": "scatterpolar"
           }
          ],
          "scatterpolargl": [
           {
            "marker": {
             "colorbar": {
              "outlinewidth": 0,
              "ticks": ""
             }
            },
            "type": "scatterpolargl"
           }
          ],
          "scatterternary": [
           {
            "marker": {
             "colorbar": {
              "outlinewidth": 0,
              "ticks": ""
             }
            },
            "type": "scatterternary"
           }
          ],
          "surface": [
           {
            "colorbar": {
             "outlinewidth": 0,
             "ticks": ""
            },
            "colorscale": [
             [
              0,
              "#0d0887"
             ],
             [
              0.1111111111111111,
              "#46039f"
             ],
             [
              0.2222222222222222,
              "#7201a8"
             ],
             [
              0.3333333333333333,
              "#9c179e"
             ],
             [
              0.4444444444444444,
              "#bd3786"
             ],
             [
              0.5555555555555556,
              "#d8576b"
             ],
             [
              0.6666666666666666,
              "#ed7953"
             ],
             [
              0.7777777777777778,
              "#fb9f3a"
             ],
             [
              0.8888888888888888,
              "#fdca26"
             ],
             [
              1,
              "#f0f921"
             ]
            ],
            "type": "surface"
           }
          ],
          "table": [
           {
            "cells": {
             "fill": {
              "color": "#EBF0F8"
             },
             "line": {
              "color": "white"
             }
            },
            "header": {
             "fill": {
              "color": "#C8D4E3"
             },
             "line": {
              "color": "white"
             }
            },
            "type": "table"
           }
          ]
         },
         "layout": {
          "annotationdefaults": {
           "arrowcolor": "#2a3f5f",
           "arrowhead": 0,
           "arrowwidth": 1
          },
          "autotypenumbers": "strict",
          "coloraxis": {
           "colorbar": {
            "outlinewidth": 0,
            "ticks": ""
           }
          },
          "colorscale": {
           "diverging": [
            [
             0,
             "#8e0152"
            ],
            [
             0.1,
             "#c51b7d"
            ],
            [
             0.2,
             "#de77ae"
            ],
            [
             0.3,
             "#f1b6da"
            ],
            [
             0.4,
             "#fde0ef"
            ],
            [
             0.5,
             "#f7f7f7"
            ],
            [
             0.6,
             "#e6f5d0"
            ],
            [
             0.7,
             "#b8e186"
            ],
            [
             0.8,
             "#7fbc41"
            ],
            [
             0.9,
             "#4d9221"
            ],
            [
             1,
             "#276419"
            ]
           ],
           "sequential": [
            [
             0,
             "#0d0887"
            ],
            [
             0.1111111111111111,
             "#46039f"
            ],
            [
             0.2222222222222222,
             "#7201a8"
            ],
            [
             0.3333333333333333,
             "#9c179e"
            ],
            [
             0.4444444444444444,
             "#bd3786"
            ],
            [
             0.5555555555555556,
             "#d8576b"
            ],
            [
             0.6666666666666666,
             "#ed7953"
            ],
            [
             0.7777777777777778,
             "#fb9f3a"
            ],
            [
             0.8888888888888888,
             "#fdca26"
            ],
            [
             1,
             "#f0f921"
            ]
           ],
           "sequentialminus": [
            [
             0,
             "#0d0887"
            ],
            [
             0.1111111111111111,
             "#46039f"
            ],
            [
             0.2222222222222222,
             "#7201a8"
            ],
            [
             0.3333333333333333,
             "#9c179e"
            ],
            [
             0.4444444444444444,
             "#bd3786"
            ],
            [
             0.5555555555555556,
             "#d8576b"
            ],
            [
             0.6666666666666666,
             "#ed7953"
            ],
            [
             0.7777777777777778,
             "#fb9f3a"
            ],
            [
             0.8888888888888888,
             "#fdca26"
            ],
            [
             1,
             "#f0f921"
            ]
           ]
          },
          "colorway": [
           "#636efa",
           "#EF553B",
           "#00cc96",
           "#ab63fa",
           "#FFA15A",
           "#19d3f3",
           "#FF6692",
           "#B6E880",
           "#FF97FF",
           "#FECB52"
          ],
          "font": {
           "color": "#2a3f5f"
          },
          "geo": {
           "bgcolor": "white",
           "lakecolor": "white",
           "landcolor": "#E5ECF6",
           "showlakes": true,
           "showland": true,
           "subunitcolor": "white"
          },
          "hoverlabel": {
           "align": "left"
          },
          "hovermode": "closest",
          "mapbox": {
           "style": "light"
          },
          "paper_bgcolor": "white",
          "plot_bgcolor": "#E5ECF6",
          "polar": {
           "angularaxis": {
            "gridcolor": "white",
            "linecolor": "white",
            "ticks": ""
           },
           "bgcolor": "#E5ECF6",
           "radialaxis": {
            "gridcolor": "white",
            "linecolor": "white",
            "ticks": ""
           }
          },
          "scene": {
           "xaxis": {
            "backgroundcolor": "#E5ECF6",
            "gridcolor": "white",
            "gridwidth": 2,
            "linecolor": "white",
            "showbackground": true,
            "ticks": "",
            "zerolinecolor": "white"
           },
           "yaxis": {
            "backgroundcolor": "#E5ECF6",
            "gridcolor": "white",
            "gridwidth": 2,
            "linecolor": "white",
            "showbackground": true,
            "ticks": "",
            "zerolinecolor": "white"
           },
           "zaxis": {
            "backgroundcolor": "#E5ECF6",
            "gridcolor": "white",
            "gridwidth": 2,
            "linecolor": "white",
            "showbackground": true,
            "ticks": "",
            "zerolinecolor": "white"
           }
          },
          "shapedefaults": {
           "line": {
            "color": "#2a3f5f"
           }
          },
          "ternary": {
           "aaxis": {
            "gridcolor": "white",
            "linecolor": "white",
            "ticks": ""
           },
           "baxis": {
            "gridcolor": "white",
            "linecolor": "white",
            "ticks": ""
           },
           "bgcolor": "#E5ECF6",
           "caxis": {
            "gridcolor": "white",
            "linecolor": "white",
            "ticks": ""
           }
          },
          "title": {
           "x": 0.05
          },
          "xaxis": {
           "automargin": true,
           "gridcolor": "white",
           "linecolor": "white",
           "ticks": "",
           "title": {
            "standoff": 15
           },
           "zerolinecolor": "white",
           "zerolinewidth": 2
          },
          "yaxis": {
           "automargin": true,
           "gridcolor": "white",
           "linecolor": "white",
           "ticks": "",
           "title": {
            "standoff": 15
           },
           "zerolinecolor": "white",
           "zerolinewidth": 2
          }
         }
        },
        "title": {
         "text": "Building Total Energy, CVRMSE"
        },
        "width": 800,
        "xaxis": {
         "anchor": "y",
         "domain": [
          0,
          1
         ],
         "title": {
          "text": "City"
         }
        },
        "yaxis": {
         "anchor": "x",
         "domain": [
          0,
          1
         ],
         "range": [
          0,
          15
         ],
         "title": {
          "text": "CVRMSE"
         }
        }
       }
      }
     },
     "metadata": {},
     "output_type": "display_data"
    }
   ],
   "source": [
    "buildings_by_city_summary_p = buildings_by_city_summary.reset_index()\n",
    "buildings_by_city_summary_p[\"City\"] = (\n",
    "    buildings_by_city_summary_p[\"City\"]\n",
    "    + \" (\"\n",
    "    + buildings_by_city_summary_p[\"Climate Zone\"]\n",
    "    + \")\"\n",
    ")\n",
    "\n",
    "fig = px.bar(\n",
    "    buildings_by_city_summary_p,\n",
    "    title=\"Building Total Energy, CVRMSE\",\n",
    "    x=\"City\",\n",
    "    y=\"CVRMSE\",\n",
    "    barmode=\"group\",\n",
    "    height=600,\n",
    "    width=800,\n",
    "    range_y=[0, 15],\n",
    ")\n",
    "fig"
   ]
  }
 ],
 "metadata": {
  "kernelspec": {
   "display_name": "Python 3",
   "language": "python",
   "name": "python3"
  },
  "language_info": {
   "codemirror_mode": {
    "name": "ipython",
    "version": 3
   },
   "file_extension": ".py",
   "mimetype": "text/x-python",
   "name": "python",
   "nbconvert_exporter": "python",
   "pygments_lexer": "ipython3",
   "version": "3.9.17"
  },
  "orig_nbformat": 4
 },
 "nbformat": 4,
 "nbformat_minor": 2
}
