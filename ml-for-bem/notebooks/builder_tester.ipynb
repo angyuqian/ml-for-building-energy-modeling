{
 "cells": [
  {
   "cell_type": "code",
   "execution_count": 1,
   "metadata": {},
   "outputs": [
    {
     "name": "stderr",
     "output_type": "stream",
     "text": [
      "c:\\Users\\zoele\\anaconda3\\envs\\ml-for-bem\\lib\\site-packages\\outdated\\utils.py:14: OutdatedPackageWarning: The package outdated is out of date. Your version is 0.2.1, the latest is 0.2.2.\n",
      "Set the environment variable OUTDATED_IGNORE=1 to disable these warnings.\n",
      "  return warn(\n",
      "c:\\Users\\zoele\\anaconda3\\envs\\ml-for-bem\\lib\\site-packages\\outdated\\utils.py:14: OutdatedPackageWarning: The package energy-pandas is out of date. Your version is 0.3.3, the latest is 0.3.4.\n",
      "Set the environment variable OUTDATED_IGNORE=1 to disable these warnings.\n",
      "  return warn(\n"
     ]
    }
   ],
   "source": [
    "from pathlib import Path\n",
    "import numpy as np\n",
    "import pandas as pd\n",
    "from archetypal import settings\n",
    "from utils.constants import *\n",
    "from shoeboxer.shoebox_config import ShoeboxConfiguration\n",
    "from shoeboxer.builder import template_dict, ShoeBox\n",
    "import matplotlib.pyplot as plt"
   ]
  },
  {
   "cell_type": "code",
   "execution_count": 2,
   "metadata": {},
   "outputs": [],
   "source": [
    "settings.energyplus_location = Path(\"C:\\EnergyPlusV22-2-0\")\n",
    "settings.ep_version = \"22.2.0\""
   ]
  },
  {
   "cell_type": "code",
   "execution_count": 3,
   "metadata": {},
   "outputs": [
    {
     "data": {
      "text/plain": [
       "(16, 3, 8760)"
      ]
     },
     "execution_count": 3,
     "metadata": {},
     "output_type": "execute_result"
    }
   ],
   "source": [
    "schedules = np.load(\"./data/schedules.npy\")\n",
    "schedules.shape"
   ]
  },
  {
   "cell_type": "code",
   "execution_count": 4,
   "metadata": {},
   "outputs": [],
   "source": [
    "epw = Path(\n",
    "    \"./data/epws/city_epws_indexed/cityidx_0001_USA_NY-New York Central Prk Obs Belv.725033_TMY3.epw\"\n",
    ")\n",
    "out_dir = Path(\"./shoeboxer/cache\")\n",
    "scheds = schedules[1]\n",
    "d = template_dict(scheds)"
   ]
  },
  {
   "cell_type": "code",
   "execution_count": 5,
   "metadata": {},
   "outputs": [],
   "source": [
    "shoebox_config = ShoeboxConfiguration()\n",
    "shoebox_config.width = 3\n",
    "shoebox_config.height = 4\n",
    "shoebox_config.perim_depth = 5\n",
    "shoebox_config.core_depth = 4\n",
    "shoebox_config.adiabatic_partition_flag = 1\n",
    "shoebox_config.roof_2_footprint = 0.5\n",
    "shoebox_config.ground_2_footprint = 0.5\n",
    "shoebox_config.wwr = 0.2\n",
    "shoebox_config.orientation = 0\n",
    "shoebox_config.shading_vect = np.zeros(SHADING_DIV_SIZE)\n",
    "# shoebox_config.shading_vect = np.random.random(SHADING_DIV_SIZE) * np.pi / 3"
   ]
  },
  {
   "cell_type": "markdown",
   "metadata": {},
   "source": [
    "### Test out sensitivity to adiabatic partition\n",
    "Non-adiabatic partition with increasing core depth vs adiabatic partition with increasing core depth\n"
   ]
  },
  {
   "cell_type": "code",
   "execution_count": 12,
   "metadata": {},
   "outputs": [
    {
     "name": "stderr",
     "output_type": "stream",
     "text": [
      "INFO:shoeboxer.geometry_utils:New perimeter depth: 5\n",
      "INFO:shoeboxer.geometry_utils:New core depth: 2.0\n",
      "INFO:shoeboxer.geometry_utils:Shifting core origin to perimeter edge; moving 0 m in y axis\n",
      "INFO:shoeboxer.geometry_utils:Updating adiabatic surfaces.\n",
      "INFO:shoeboxer.geometry_utils:Maximum shading point is 0.0\n",
      "INFO:shoeboxer.geometry_utils:Placing shading around center point [1.5 0. ]\n",
      "INFO:ShoeBox:Building idf for shoeboxer\\cache\\test_shoebox_partition_0_core_20.epjson\n",
      "INFO:ShoeBox:EnergyPlus Starting\n",
      "INFO:ShoeBox:EnergyPlus, Version 22.2.0-c249759bad, YMD=2023.11.06 23:11\n",
      "INFO:ShoeBox:Converted input file format. Exiting.\n",
      "INFO:ShoeBox:EnergyPlus Run Time=00hr 00min  0.10sec\n",
      "INFO:ShoeBox:Command executed successfully.\n",
      "INFO:shoeboxer.geometry_utils:New perimeter depth: 5\n",
      "INFO:shoeboxer.geometry_utils:New core depth: 5.111111111111111\n",
      "INFO:shoeboxer.geometry_utils:Shifting core origin to perimeter edge; moving 0 m in y axis\n",
      "INFO:shoeboxer.geometry_utils:Updating adiabatic surfaces.\n",
      "INFO:shoeboxer.geometry_utils:Maximum shading point is 0.0\n",
      "INFO:shoeboxer.geometry_utils:Placing shading around center point [1.5 0. ]\n",
      "INFO:ShoeBox:Building idf for shoeboxer\\cache\\test_shoebox_partition_0_core_511.epjson\n"
     ]
    },
    {
     "name": "stdout",
     "output_type": "stream",
     "text": [
      "KeyValue                   Name                                            \n",
      "CORE IDEAL LOADS AIR       Zone Ideal Loads Supply Air Total Heating Energy    23.657470\n",
      "                           Zone Ideal Loads Supply Air Total Cooling Energy    16.262126\n",
      "PERIMETER IDEAL LOADS AIR  Zone Ideal Loads Supply Air Total Heating Energy    27.595568\n",
      "                           Zone Ideal Loads Supply Air Total Cooling Energy    24.101362\n",
      "dtype: float64\n"
     ]
    },
    {
     "name": "stderr",
     "output_type": "stream",
     "text": [
      "INFO:ShoeBox:EnergyPlus Starting\n",
      "INFO:ShoeBox:EnergyPlus, Version 22.2.0-c249759bad, YMD=2023.11.06 23:11\n",
      "INFO:ShoeBox:Converted input file format. Exiting.\n",
      "INFO:ShoeBox:EnergyPlus Run Time=00hr 00min  0.10sec\n",
      "INFO:ShoeBox:Command executed successfully.\n",
      "INFO:shoeboxer.geometry_utils:New perimeter depth: 5\n",
      "INFO:shoeboxer.geometry_utils:New core depth: 8.222222222222221\n",
      "INFO:shoeboxer.geometry_utils:Shifting core origin to perimeter edge; moving 0 m in y axis\n",
      "INFO:shoeboxer.geometry_utils:Updating adiabatic surfaces.\n",
      "INFO:shoeboxer.geometry_utils:Maximum shading point is 0.0\n",
      "INFO:shoeboxer.geometry_utils:Placing shading around center point [1.5 0. ]\n",
      "INFO:ShoeBox:Building idf for shoeboxer\\cache\\test_shoebox_partition_0_core_822.epjson\n"
     ]
    },
    {
     "name": "stdout",
     "output_type": "stream",
     "text": [
      "KeyValue                   Name                                            \n",
      "CORE IDEAL LOADS AIR       Zone Ideal Loads Supply Air Total Heating Energy    27.285856\n",
      "                           Zone Ideal Loads Supply Air Total Cooling Energy    12.101053\n",
      "PERIMETER IDEAL LOADS AIR  Zone Ideal Loads Supply Air Total Heating Energy    28.257238\n",
      "                           Zone Ideal Loads Supply Air Total Cooling Energy    23.561781\n",
      "dtype: float64\n"
     ]
    },
    {
     "name": "stderr",
     "output_type": "stream",
     "text": [
      "INFO:ShoeBox:EnergyPlus Starting\n",
      "INFO:ShoeBox:EnergyPlus, Version 22.2.0-c249759bad, YMD=2023.11.06 23:11\n",
      "INFO:ShoeBox:Converted input file format. Exiting.\n",
      "INFO:ShoeBox:EnergyPlus Run Time=00hr 00min  0.09sec\n",
      "INFO:ShoeBox:Command executed successfully.\n",
      "INFO:shoeboxer.geometry_utils:New perimeter depth: 5\n",
      "INFO:shoeboxer.geometry_utils:New core depth: 11.333333333333334\n",
      "INFO:shoeboxer.geometry_utils:Shifting core origin to perimeter edge; moving 0 m in y axis\n",
      "INFO:shoeboxer.geometry_utils:Updating adiabatic surfaces.\n",
      "INFO:shoeboxer.geometry_utils:Maximum shading point is 0.0\n",
      "INFO:shoeboxer.geometry_utils:Placing shading around center point [1.5 0. ]\n",
      "INFO:ShoeBox:Building idf for shoeboxer\\cache\\test_shoebox_partition_0_core_1133.epjson\n"
     ]
    },
    {
     "name": "stdout",
     "output_type": "stream",
     "text": [
      "KeyValue                   Name                                            \n",
      "CORE IDEAL LOADS AIR       Zone Ideal Loads Supply Air Total Heating Energy    28.704911\n",
      "                           Zone Ideal Loads Supply Air Total Cooling Energy    10.728809\n",
      "PERIMETER IDEAL LOADS AIR  Zone Ideal Loads Supply Air Total Heating Energy    28.574435\n",
      "                           Zone Ideal Loads Supply Air Total Cooling Energy    23.276445\n",
      "dtype: float64\n"
     ]
    },
    {
     "name": "stderr",
     "output_type": "stream",
     "text": [
      "INFO:ShoeBox:EnergyPlus Starting\n",
      "INFO:ShoeBox:EnergyPlus, Version 22.2.0-c249759bad, YMD=2023.11.06 23:11\n",
      "INFO:ShoeBox:Converted input file format. Exiting.\n",
      "INFO:ShoeBox:EnergyPlus Run Time=00hr 00min  0.10sec\n",
      "INFO:ShoeBox:Command executed successfully.\n",
      "INFO:shoeboxer.geometry_utils:New perimeter depth: 5\n",
      "INFO:shoeboxer.geometry_utils:New core depth: 14.444444444444445\n",
      "INFO:shoeboxer.geometry_utils:Shifting core origin to perimeter edge; moving 0 m in y axis\n",
      "INFO:shoeboxer.geometry_utils:Updating adiabatic surfaces.\n",
      "INFO:shoeboxer.geometry_utils:Maximum shading point is 0.0\n",
      "INFO:shoeboxer.geometry_utils:Placing shading around center point [1.5 0. ]\n",
      "INFO:ShoeBox:Building idf for shoeboxer\\cache\\test_shoebox_partition_0_core_1444.epjson\n"
     ]
    },
    {
     "name": "stdout",
     "output_type": "stream",
     "text": [
      "KeyValue                   Name                                            \n",
      "CORE IDEAL LOADS AIR       Zone Ideal Loads Supply Air Total Heating Energy    29.506222\n",
      "                           Zone Ideal Loads Supply Air Total Cooling Energy     9.993992\n",
      "PERIMETER IDEAL LOADS AIR  Zone Ideal Loads Supply Air Total Heating Energy    28.764758\n",
      "                           Zone Ideal Loads Supply Air Total Cooling Energy    23.105121\n",
      "dtype: float64\n"
     ]
    },
    {
     "name": "stderr",
     "output_type": "stream",
     "text": [
      "INFO:ShoeBox:EnergyPlus Starting\n",
      "INFO:ShoeBox:EnergyPlus, Version 22.2.0-c249759bad, YMD=2023.11.06 23:11\n",
      "INFO:ShoeBox:Converted input file format. Exiting.\n",
      "INFO:ShoeBox:EnergyPlus Run Time=00hr 00min  0.10sec\n",
      "INFO:ShoeBox:Command executed successfully.\n",
      "INFO:shoeboxer.geometry_utils:New perimeter depth: 5\n",
      "INFO:shoeboxer.geometry_utils:New core depth: 17.555555555555557\n",
      "INFO:shoeboxer.geometry_utils:Shifting core origin to perimeter edge; moving 0 m in y axis\n",
      "INFO:shoeboxer.geometry_utils:Updating adiabatic surfaces.\n",
      "INFO:shoeboxer.geometry_utils:Maximum shading point is 0.0\n",
      "INFO:shoeboxer.geometry_utils:Placing shading around center point [1.5 0. ]\n",
      "INFO:ShoeBox:Building idf for shoeboxer\\cache\\test_shoebox_partition_0_core_1756.epjson\n"
     ]
    },
    {
     "name": "stdout",
     "output_type": "stream",
     "text": [
      "KeyValue                   Name                                            \n",
      "CORE IDEAL LOADS AIR       Zone Ideal Loads Supply Air Total Heating Energy    30.021592\n",
      "                           Zone Ideal Loads Supply Air Total Cooling Energy     9.553229\n",
      "PERIMETER IDEAL LOADS AIR  Zone Ideal Loads Supply Air Total Heating Energy    28.883750\n",
      "                           Zone Ideal Loads Supply Air Total Cooling Energy    22.991177\n",
      "dtype: float64\n"
     ]
    },
    {
     "name": "stderr",
     "output_type": "stream",
     "text": [
      "INFO:ShoeBox:EnergyPlus Starting\n",
      "INFO:ShoeBox:EnergyPlus, Version 22.2.0-c249759bad, YMD=2023.11.06 23:11\n",
      "INFO:ShoeBox:Converted input file format. Exiting.\n",
      "INFO:ShoeBox:EnergyPlus Run Time=00hr 00min  0.10sec\n",
      "INFO:ShoeBox:Command executed successfully.\n",
      "INFO:shoeboxer.geometry_utils:New perimeter depth: 5\n",
      "INFO:shoeboxer.geometry_utils:New core depth: 20.666666666666668\n",
      "INFO:shoeboxer.geometry_utils:Shifting core origin to perimeter edge; moving 0 m in y axis\n",
      "INFO:shoeboxer.geometry_utils:Updating adiabatic surfaces.\n",
      "INFO:shoeboxer.geometry_utils:Maximum shading point is 0.0\n",
      "INFO:shoeboxer.geometry_utils:Placing shading around center point [1.5 0. ]\n"
     ]
    },
    {
     "name": "stdout",
     "output_type": "stream",
     "text": [
      "KeyValue                   Name                                            \n",
      "CORE IDEAL LOADS AIR       Zone Ideal Loads Supply Air Total Heating Energy    30.385752\n",
      "                           Zone Ideal Loads Supply Air Total Cooling Energy     9.245118\n",
      "PERIMETER IDEAL LOADS AIR  Zone Ideal Loads Supply Air Total Heating Energy    28.964167\n",
      "                           Zone Ideal Loads Supply Air Total Cooling Energy    22.904212\n",
      "dtype: float64\n"
     ]
    },
    {
     "name": "stderr",
     "output_type": "stream",
     "text": [
      "INFO:ShoeBox:Building idf for shoeboxer\\cache\\test_shoebox_partition_0_core_2067.epjson\n",
      "INFO:ShoeBox:EnergyPlus Starting\n",
      "INFO:ShoeBox:EnergyPlus, Version 22.2.0-c249759bad, YMD=2023.11.06 23:11\n",
      "INFO:ShoeBox:Converted input file format. Exiting.\n",
      "INFO:ShoeBox:EnergyPlus Run Time=00hr 00min  0.09sec\n",
      "INFO:ShoeBox:Command executed successfully.\n",
      "INFO:shoeboxer.geometry_utils:New perimeter depth: 5\n",
      "INFO:shoeboxer.geometry_utils:New core depth: 23.77777777777778\n",
      "INFO:shoeboxer.geometry_utils:Shifting core origin to perimeter edge; moving 0 m in y axis\n",
      "INFO:shoeboxer.geometry_utils:Updating adiabatic surfaces.\n",
      "INFO:shoeboxer.geometry_utils:Maximum shading point is 0.0\n",
      "INFO:shoeboxer.geometry_utils:Placing shading around center point [1.5 0. ]\n",
      "INFO:ShoeBox:Building idf for shoeboxer\\cache\\test_shoebox_partition_0_core_2378.epjson\n"
     ]
    },
    {
     "name": "stdout",
     "output_type": "stream",
     "text": [
      "KeyValue                   Name                                            \n",
      "CORE IDEAL LOADS AIR       Zone Ideal Loads Supply Air Total Heating Energy    30.659511\n",
      "                           Zone Ideal Loads Supply Air Total Cooling Energy     9.007055\n",
      "PERIMETER IDEAL LOADS AIR  Zone Ideal Loads Supply Air Total Heating Energy    29.021446\n",
      "                           Zone Ideal Loads Supply Air Total Cooling Energy    22.840068\n",
      "dtype: float64\n"
     ]
    },
    {
     "name": "stderr",
     "output_type": "stream",
     "text": [
      "INFO:ShoeBox:EnergyPlus Starting\n",
      "INFO:ShoeBox:EnergyPlus, Version 22.2.0-c249759bad, YMD=2023.11.06 23:11\n",
      "INFO:ShoeBox:Converted input file format. Exiting.\n",
      "INFO:ShoeBox:EnergyPlus Run Time=00hr 00min  0.09sec\n",
      "INFO:ShoeBox:Command executed successfully.\n",
      "INFO:shoeboxer.geometry_utils:New perimeter depth: 5\n",
      "INFO:shoeboxer.geometry_utils:New core depth: 26.88888888888889\n",
      "INFO:shoeboxer.geometry_utils:Shifting core origin to perimeter edge; moving 0 m in y axis\n",
      "INFO:shoeboxer.geometry_utils:Updating adiabatic surfaces.\n",
      "INFO:shoeboxer.geometry_utils:Maximum shading point is 0.0\n",
      "INFO:shoeboxer.geometry_utils:Placing shading around center point [1.5 0. ]\n",
      "INFO:ShoeBox:Building idf for shoeboxer\\cache\\test_shoebox_partition_0_core_2689.epjson\n"
     ]
    },
    {
     "name": "stdout",
     "output_type": "stream",
     "text": [
      "KeyValue                   Name                                            \n",
      "CORE IDEAL LOADS AIR       Zone Ideal Loads Supply Air Total Heating Energy    30.871097\n",
      "                           Zone Ideal Loads Supply Air Total Cooling Energy     8.834811\n",
      "PERIMETER IDEAL LOADS AIR  Zone Ideal Loads Supply Air Total Heating Energy    29.065004\n",
      "                           Zone Ideal Loads Supply Air Total Cooling Energy    22.789952\n",
      "dtype: float64\n"
     ]
    },
    {
     "name": "stderr",
     "output_type": "stream",
     "text": [
      "INFO:ShoeBox:EnergyPlus Starting\n",
      "INFO:ShoeBox:EnergyPlus, Version 22.2.0-c249759bad, YMD=2023.11.06 23:11\n",
      "INFO:ShoeBox:Converted input file format. Exiting.\n",
      "INFO:ShoeBox:EnergyPlus Run Time=00hr 00min  0.09sec\n",
      "INFO:ShoeBox:Command executed successfully.\n",
      "INFO:shoeboxer.geometry_utils:New perimeter depth: 5\n",
      "INFO:shoeboxer.geometry_utils:New core depth: 30.0\n",
      "INFO:shoeboxer.geometry_utils:Shifting core origin to perimeter edge; moving 0 m in y axis\n",
      "INFO:shoeboxer.geometry_utils:Updating adiabatic surfaces.\n",
      "INFO:shoeboxer.geometry_utils:Maximum shading point is 0.0\n",
      "INFO:shoeboxer.geometry_utils:Placing shading around center point [1.5 0. ]\n",
      "INFO:ShoeBox:Building idf for shoeboxer\\cache\\test_shoebox_partition_0_core_300.epjson\n"
     ]
    },
    {
     "name": "stdout",
     "output_type": "stream",
     "text": [
      "KeyValue                   Name                                            \n",
      "CORE IDEAL LOADS AIR       Zone Ideal Loads Supply Air Total Heating Energy    31.038367\n",
      "                           Zone Ideal Loads Supply Air Total Cooling Energy     8.706328\n",
      "PERIMETER IDEAL LOADS AIR  Zone Ideal Loads Supply Air Total Heating Energy    29.099413\n",
      "                           Zone Ideal Loads Supply Air Total Cooling Energy    22.750668\n",
      "dtype: float64\n"
     ]
    },
    {
     "name": "stderr",
     "output_type": "stream",
     "text": [
      "INFO:ShoeBox:EnergyPlus Starting\n",
      "INFO:ShoeBox:EnergyPlus, Version 22.2.0-c249759bad, YMD=2023.11.06 23:11\n",
      "INFO:ShoeBox:Converted input file format. Exiting.\n",
      "INFO:ShoeBox:EnergyPlus Run Time=00hr 00min  0.09sec\n",
      "INFO:ShoeBox:Command executed successfully.\n",
      "INFO:shoeboxer.geometry_utils:New perimeter depth: 5\n",
      "INFO:shoeboxer.geometry_utils:New core depth: 2.0\n",
      "INFO:shoeboxer.geometry_utils:Shifting core origin to perimeter edge; moving 0 m in y axis\n",
      "INFO:shoeboxer.geometry_utils:Updating adiabatic surfaces.\n",
      "INFO:shoeboxer.geometry_utils:Maximum shading point is 0.0\n",
      "INFO:shoeboxer.geometry_utils:Placing shading around center point [1.5 0. ]\n",
      "INFO:ShoeBox:Building idf for shoeboxer\\cache\\test_shoebox_partition_1_core_20.epjson\n"
     ]
    },
    {
     "name": "stdout",
     "output_type": "stream",
     "text": [
      "KeyValue                   Name                                            \n",
      "CORE IDEAL LOADS AIR       Zone Ideal Loads Supply Air Total Heating Energy    31.173691\n",
      "                           Zone Ideal Loads Supply Air Total Cooling Energy     8.600142\n",
      "PERIMETER IDEAL LOADS AIR  Zone Ideal Loads Supply Air Total Heating Energy    29.127399\n",
      "                           Zone Ideal Loads Supply Air Total Cooling Energy    22.715893\n",
      "dtype: float64\n"
     ]
    },
    {
     "name": "stderr",
     "output_type": "stream",
     "text": [
      "INFO:ShoeBox:EnergyPlus Starting\n",
      "INFO:ShoeBox:EnergyPlus, Version 22.2.0-c249759bad, YMD=2023.11.06 23:11\n",
      "INFO:ShoeBox:Converted input file format. Exiting.\n",
      "INFO:ShoeBox:EnergyPlus Run Time=00hr 00min  0.09sec\n",
      "INFO:ShoeBox:Command executed successfully.\n",
      "INFO:shoeboxer.geometry_utils:New perimeter depth: 5\n",
      "INFO:shoeboxer.geometry_utils:New core depth: 5.111111111111111\n",
      "INFO:shoeboxer.geometry_utils:Shifting core origin to perimeter edge; moving 0 m in y axis\n",
      "INFO:shoeboxer.geometry_utils:Updating adiabatic surfaces.\n",
      "INFO:shoeboxer.geometry_utils:Maximum shading point is 0.0\n",
      "INFO:shoeboxer.geometry_utils:Placing shading around center point [1.5 0. ]\n",
      "INFO:ShoeBox:Building idf for shoeboxer\\cache\\test_shoebox_partition_1_core_511.epjson\n"
     ]
    },
    {
     "name": "stdout",
     "output_type": "stream",
     "text": [
      "KeyValue                   Name                                            \n",
      "CORE IDEAL LOADS AIR       Zone Ideal Loads Supply Air Total Heating Energy    32.286062\n",
      "                           Zone Ideal Loads Supply Air Total Cooling Energy     7.466729\n",
      "PERIMETER IDEAL LOADS AIR  Zone Ideal Loads Supply Air Total Heating Energy    25.510735\n",
      "                           Zone Ideal Loads Supply Air Total Cooling Energy    26.726088\n",
      "dtype: float64\n"
     ]
    },
    {
     "name": "stderr",
     "output_type": "stream",
     "text": [
      "INFO:ShoeBox:EnergyPlus Starting\n",
      "INFO:ShoeBox:EnergyPlus, Version 22.2.0-c249759bad, YMD=2023.11.06 23:11\n",
      "INFO:ShoeBox:Converted input file format. Exiting.\n",
      "INFO:ShoeBox:EnergyPlus Run Time=00hr 00min  0.09sec\n",
      "INFO:ShoeBox:Command executed successfully.\n",
      "INFO:shoeboxer.geometry_utils:New perimeter depth: 5\n",
      "INFO:shoeboxer.geometry_utils:New core depth: 8.222222222222221\n",
      "INFO:shoeboxer.geometry_utils:Shifting core origin to perimeter edge; moving 0 m in y axis\n",
      "INFO:shoeboxer.geometry_utils:Updating adiabatic surfaces.\n",
      "INFO:shoeboxer.geometry_utils:Maximum shading point is 0.0\n",
      "INFO:shoeboxer.geometry_utils:Placing shading around center point [1.5 0. ]\n",
      "INFO:ShoeBox:Building idf for shoeboxer\\cache\\test_shoebox_partition_1_core_822.epjson\n"
     ]
    },
    {
     "name": "stdout",
     "output_type": "stream",
     "text": [
      "KeyValue                   Name                                            \n",
      "CORE IDEAL LOADS AIR       Zone Ideal Loads Supply Air Total Heating Energy    32.400887\n",
      "                           Zone Ideal Loads Supply Air Total Cooling Energy     7.551043\n",
      "PERIMETER IDEAL LOADS AIR  Zone Ideal Loads Supply Air Total Heating Energy    25.510686\n",
      "                           Zone Ideal Loads Supply Air Total Cooling Energy    26.726065\n",
      "dtype: float64\n"
     ]
    },
    {
     "name": "stderr",
     "output_type": "stream",
     "text": [
      "INFO:ShoeBox:EnergyPlus Starting\n",
      "INFO:ShoeBox:EnergyPlus, Version 22.2.0-c249759bad, YMD=2023.11.06 23:12\n",
      "INFO:ShoeBox:Converted input file format. Exiting.\n",
      "INFO:ShoeBox:EnergyPlus Run Time=00hr 00min  0.09sec\n",
      "INFO:ShoeBox:Command executed successfully.\n",
      "INFO:shoeboxer.geometry_utils:New perimeter depth: 5\n",
      "INFO:shoeboxer.geometry_utils:New core depth: 11.333333333333334\n",
      "INFO:shoeboxer.geometry_utils:Shifting core origin to perimeter edge; moving 0 m in y axis\n",
      "INFO:shoeboxer.geometry_utils:Updating adiabatic surfaces.\n",
      "INFO:shoeboxer.geometry_utils:Maximum shading point is 0.0\n",
      "INFO:shoeboxer.geometry_utils:Placing shading around center point [1.5 0. ]\n",
      "INFO:ShoeBox:Building idf for shoeboxer\\cache\\test_shoebox_partition_1_core_1133.epjson\n"
     ]
    },
    {
     "name": "stdout",
     "output_type": "stream",
     "text": [
      "KeyValue                   Name                                            \n",
      "CORE IDEAL LOADS AIR       Zone Ideal Loads Supply Air Total Heating Energy    32.437074\n",
      "                           Zone Ideal Loads Supply Air Total Cooling Energy     7.573313\n",
      "PERIMETER IDEAL LOADS AIR  Zone Ideal Loads Supply Air Total Heating Energy    25.510663\n",
      "                           Zone Ideal Loads Supply Air Total Cooling Energy    26.726067\n",
      "dtype: float64\n"
     ]
    },
    {
     "name": "stderr",
     "output_type": "stream",
     "text": [
      "INFO:ShoeBox:EnergyPlus Starting\n",
      "INFO:ShoeBox:EnergyPlus, Version 22.2.0-c249759bad, YMD=2023.11.06 23:12\n",
      "INFO:ShoeBox:Converted input file format. Exiting.\n",
      "INFO:ShoeBox:EnergyPlus Run Time=00hr 00min  0.09sec\n",
      "INFO:ShoeBox:Command executed successfully.\n",
      "INFO:shoeboxer.geometry_utils:New perimeter depth: 5\n",
      "INFO:shoeboxer.geometry_utils:New core depth: 14.444444444444445\n",
      "INFO:shoeboxer.geometry_utils:Shifting core origin to perimeter edge; moving 0 m in y axis\n",
      "INFO:shoeboxer.geometry_utils:Updating adiabatic surfaces.\n",
      "INFO:shoeboxer.geometry_utils:Maximum shading point is 0.0\n",
      "INFO:shoeboxer.geometry_utils:Placing shading around center point [1.5 0. ]\n",
      "INFO:ShoeBox:Building idf for shoeboxer\\cache\\test_shoebox_partition_1_core_1444.epjson\n"
     ]
    },
    {
     "name": "stdout",
     "output_type": "stream",
     "text": [
      "KeyValue                   Name                                            \n",
      "CORE IDEAL LOADS AIR       Zone Ideal Loads Supply Air Total Heating Energy    32.465448\n",
      "                           Zone Ideal Loads Supply Air Total Cooling Energy     7.582017\n",
      "PERIMETER IDEAL LOADS AIR  Zone Ideal Loads Supply Air Total Heating Energy    25.525612\n",
      "                           Zone Ideal Loads Supply Air Total Cooling Energy    26.726066\n",
      "dtype: float64\n"
     ]
    },
    {
     "name": "stderr",
     "output_type": "stream",
     "text": [
      "INFO:ShoeBox:EnergyPlus Starting\n",
      "INFO:ShoeBox:EnergyPlus, Version 22.2.0-c249759bad, YMD=2023.11.06 23:12\n",
      "INFO:ShoeBox:Converted input file format. Exiting.\n",
      "INFO:ShoeBox:EnergyPlus Run Time=00hr 00min  0.09sec\n",
      "INFO:ShoeBox:Command executed successfully.\n",
      "INFO:shoeboxer.geometry_utils:New perimeter depth: 5\n",
      "INFO:shoeboxer.geometry_utils:New core depth: 17.555555555555557\n",
      "INFO:shoeboxer.geometry_utils:Shifting core origin to perimeter edge; moving 0 m in y axis\n",
      "INFO:shoeboxer.geometry_utils:Updating adiabatic surfaces.\n",
      "INFO:shoeboxer.geometry_utils:Maximum shading point is 0.0\n",
      "INFO:shoeboxer.geometry_utils:Placing shading around center point [1.5 0. ]\n",
      "INFO:ShoeBox:Building idf for shoeboxer\\cache\\test_shoebox_partition_1_core_1756.epjson\n"
     ]
    },
    {
     "name": "stdout",
     "output_type": "stream",
     "text": [
      "KeyValue                   Name                                            \n",
      "CORE IDEAL LOADS AIR       Zone Ideal Loads Supply Air Total Heating Energy    32.478271\n",
      "                           Zone Ideal Loads Supply Air Total Cooling Energy     7.587207\n",
      "PERIMETER IDEAL LOADS AIR  Zone Ideal Loads Supply Air Total Heating Energy    25.528365\n",
      "                           Zone Ideal Loads Supply Air Total Cooling Energy    26.726064\n",
      "dtype: float64\n"
     ]
    },
    {
     "name": "stderr",
     "output_type": "stream",
     "text": [
      "INFO:ShoeBox:EnergyPlus Starting\n",
      "INFO:ShoeBox:EnergyPlus, Version 22.2.0-c249759bad, YMD=2023.11.06 23:12\n",
      "INFO:ShoeBox:Converted input file format. Exiting.\n",
      "INFO:ShoeBox:EnergyPlus Run Time=00hr 00min  0.10sec\n",
      "INFO:ShoeBox:Command executed successfully.\n",
      "INFO:shoeboxer.geometry_utils:New perimeter depth: 5\n",
      "INFO:shoeboxer.geometry_utils:New core depth: 20.666666666666668\n",
      "INFO:shoeboxer.geometry_utils:Shifting core origin to perimeter edge; moving 0 m in y axis\n",
      "INFO:shoeboxer.geometry_utils:Updating adiabatic surfaces.\n",
      "INFO:shoeboxer.geometry_utils:Maximum shading point is 0.0\n",
      "INFO:shoeboxer.geometry_utils:Placing shading around center point [1.5 0. ]\n",
      "INFO:ShoeBox:Building idf for shoeboxer\\cache\\test_shoebox_partition_1_core_2067.epjson\n"
     ]
    },
    {
     "name": "stdout",
     "output_type": "stream",
     "text": [
      "KeyValue                   Name                                            \n",
      "CORE IDEAL LOADS AIR       Zone Ideal Loads Supply Air Total Heating Energy    32.484893\n",
      "                           Zone Ideal Loads Supply Air Total Cooling Energy     7.590531\n",
      "PERIMETER IDEAL LOADS AIR  Zone Ideal Loads Supply Air Total Heating Energy    25.528370\n",
      "                           Zone Ideal Loads Supply Air Total Cooling Energy    26.726065\n",
      "dtype: float64\n"
     ]
    },
    {
     "name": "stderr",
     "output_type": "stream",
     "text": [
      "INFO:ShoeBox:EnergyPlus Starting\n",
      "INFO:ShoeBox:EnergyPlus, Version 22.2.0-c249759bad, YMD=2023.11.06 23:12\n",
      "INFO:ShoeBox:Converted input file format. Exiting.\n",
      "INFO:ShoeBox:EnergyPlus Run Time=00hr 00min  0.09sec\n",
      "INFO:ShoeBox:Command executed successfully.\n",
      "INFO:shoeboxer.geometry_utils:New perimeter depth: 5\n",
      "INFO:shoeboxer.geometry_utils:New core depth: 23.77777777777778\n",
      "INFO:shoeboxer.geometry_utils:Shifting core origin to perimeter edge; moving 0 m in y axis\n",
      "INFO:shoeboxer.geometry_utils:Updating adiabatic surfaces.\n",
      "INFO:shoeboxer.geometry_utils:Maximum shading point is 0.0\n",
      "INFO:shoeboxer.geometry_utils:Placing shading around center point [1.5 0. ]\n",
      "INFO:ShoeBox:Building idf for shoeboxer\\cache\\test_shoebox_partition_1_core_2378.epjson\n"
     ]
    },
    {
     "name": "stdout",
     "output_type": "stream",
     "text": [
      "KeyValue                   Name                                            \n",
      "CORE IDEAL LOADS AIR       Zone Ideal Loads Supply Air Total Heating Energy    32.489624\n",
      "                           Zone Ideal Loads Supply Air Total Cooling Energy     7.593093\n",
      "PERIMETER IDEAL LOADS AIR  Zone Ideal Loads Supply Air Total Heating Energy    25.528372\n",
      "                           Zone Ideal Loads Supply Air Total Cooling Energy    26.726070\n",
      "dtype: float64\n"
     ]
    },
    {
     "name": "stderr",
     "output_type": "stream",
     "text": [
      "INFO:ShoeBox:EnergyPlus Starting\n",
      "INFO:ShoeBox:EnergyPlus, Version 22.2.0-c249759bad, YMD=2023.11.06 23:12\n",
      "INFO:ShoeBox:Converted input file format. Exiting.\n",
      "INFO:ShoeBox:EnergyPlus Run Time=00hr 00min  0.10sec\n",
      "INFO:ShoeBox:Command executed successfully.\n",
      "INFO:shoeboxer.geometry_utils:New perimeter depth: 5\n",
      "INFO:shoeboxer.geometry_utils:New core depth: 26.88888888888889\n",
      "INFO:shoeboxer.geometry_utils:Shifting core origin to perimeter edge; moving 0 m in y axis\n",
      "INFO:shoeboxer.geometry_utils:Updating adiabatic surfaces.\n",
      "INFO:shoeboxer.geometry_utils:Maximum shading point is 0.0\n",
      "INFO:shoeboxer.geometry_utils:Placing shading around center point [1.5 0. ]\n",
      "INFO:ShoeBox:Building idf for shoeboxer\\cache\\test_shoebox_partition_1_core_2689.epjson\n"
     ]
    },
    {
     "name": "stdout",
     "output_type": "stream",
     "text": [
      "KeyValue                   Name                                            \n",
      "CORE IDEAL LOADS AIR       Zone Ideal Loads Supply Air Total Heating Energy    32.493158\n",
      "                           Zone Ideal Loads Supply Air Total Cooling Energy     7.594784\n",
      "PERIMETER IDEAL LOADS AIR  Zone Ideal Loads Supply Air Total Heating Energy    25.528374\n",
      "                           Zone Ideal Loads Supply Air Total Cooling Energy    26.726073\n",
      "dtype: float64\n"
     ]
    },
    {
     "name": "stderr",
     "output_type": "stream",
     "text": [
      "INFO:ShoeBox:EnergyPlus Starting\n",
      "INFO:ShoeBox:EnergyPlus, Version 22.2.0-c249759bad, YMD=2023.11.06 23:12\n",
      "INFO:ShoeBox:Converted input file format. Exiting.\n",
      "INFO:ShoeBox:EnergyPlus Run Time=00hr 00min  0.11sec\n",
      "INFO:ShoeBox:Command executed successfully.\n",
      "INFO:shoeboxer.geometry_utils:New perimeter depth: 5\n",
      "INFO:shoeboxer.geometry_utils:New core depth: 30.0\n",
      "INFO:shoeboxer.geometry_utils:Shifting core origin to perimeter edge; moving 0 m in y axis\n",
      "INFO:shoeboxer.geometry_utils:Updating adiabatic surfaces.\n",
      "INFO:shoeboxer.geometry_utils:Maximum shading point is 0.0\n",
      "INFO:shoeboxer.geometry_utils:Placing shading around center point [1.5 0. ]\n",
      "INFO:ShoeBox:Building idf for shoeboxer\\cache\\test_shoebox_partition_1_core_300.epjson\n"
     ]
    },
    {
     "name": "stdout",
     "output_type": "stream",
     "text": [
      "KeyValue                   Name                                            \n",
      "CORE IDEAL LOADS AIR       Zone Ideal Loads Supply Air Total Heating Energy    32.495895\n",
      "                           Zone Ideal Loads Supply Air Total Cooling Energy     7.596080\n",
      "PERIMETER IDEAL LOADS AIR  Zone Ideal Loads Supply Air Total Heating Energy    25.528375\n",
      "                           Zone Ideal Loads Supply Air Total Cooling Energy    26.726075\n",
      "dtype: float64\n"
     ]
    },
    {
     "name": "stderr",
     "output_type": "stream",
     "text": [
      "INFO:ShoeBox:EnergyPlus Starting\n",
      "INFO:ShoeBox:EnergyPlus, Version 22.2.0-c249759bad, YMD=2023.11.06 23:12\n",
      "INFO:ShoeBox:Converted input file format. Exiting.\n",
      "INFO:ShoeBox:EnergyPlus Run Time=00hr 00min  0.09sec\n",
      "INFO:ShoeBox:Command executed successfully.\n"
     ]
    },
    {
     "name": "stdout",
     "output_type": "stream",
     "text": [
      "KeyValue                   Name                                            \n",
      "CORE IDEAL LOADS AIR       Zone Ideal Loads Supply Air Total Heating Energy    32.498082\n",
      "                           Zone Ideal Loads Supply Air Total Cooling Energy     7.597101\n",
      "PERIMETER IDEAL LOADS AIR  Zone Ideal Loads Supply Air Total Heating Energy    25.528376\n",
      "                           Zone Ideal Loads Supply Air Total Cooling Energy    26.726081\n",
      "dtype: float64\n"
     ]
    }
   ],
   "source": [
    "n = 10\n",
    "core_depths = np.linspace(start=2, stop=30, num=n)\n",
    "results = np.zeros((2, n, 4))\n",
    "for flag in [0, 1]:\n",
    "    for i, core_depth in enumerate(core_depths):\n",
    "        shoebox_config.core_depth = core_depth\n",
    "        shoebox_config.adiabatic_partition_flag = flag\n",
    "        sb = ShoeBox(\n",
    "            name=f\"test_shoebox_partition_{flag}_core_{str(round(core_depth, 2)).replace('.', '')}\",\n",
    "            shoebox_config=shoebox_config,\n",
    "            epw=epw,\n",
    "            output_directory=out_dir,\n",
    "            template_dict=d,\n",
    "            change_summary=False,\n",
    "            verbose=False\n",
    "        )\n",
    "        idf = sb.idf(run_simulation=False)\n",
    "        hourly, monthly = sb.simulate(idf=idf)\n",
    "        annual = (monthly.sum() * JOULES_TO_KWH)['System']\n",
    "        annual[\"CORE IDEAL LOADS AIR\"] = annual[\"CORE IDEAL LOADS AIR\"] / (shoebox_config.width * core_depth)\n",
    "        annual[\"PERIMETER IDEAL LOADS AIR\"] = annual[\"PERIMETER IDEAL LOADS AIR\"] / (shoebox_config.width * shoebox_config.perim_depth)\n",
    "        print(annual)\n",
    "        results[flag, i, :] = annual.values"
   ]
  },
  {
   "cell_type": "code",
   "execution_count": 13,
   "metadata": {},
   "outputs": [
    {
     "data": {
      "image/png": "[encoded data removed]",
      "text/plain": [
       "<Figure size 1500x500 with 2 Axes>"
      ]
     },
     "metadata": {},
     "output_type": "display_data"
    }
   ],
   "source": [
    "fig, ax = plt.subplots(1, 2, figsize=(15,5))\n",
    "for i, flag in enumerate([\"Conductive\", \"Adiabatic\"]):\n",
    "    ax[i].set_title(flag)\n",
    "    ax[i].set_xlabel(\"Core depth\")\n",
    "    ax[i].set_ylabel(\"EUI\")\n",
    "    for j, res in enumerate([\"Core, heating\", \"Core, cooling\", \"Perim, heating\", \"Perim, cooling\"]):\n",
    "        ax[i].plot(core_depths, results[i, :, j], label=res)\n",
    "ax[1].legend()\n",
    "ax[0].set_ylim(0, round(results.max()))\n",
    "ax[1].set_ylim(0, round(results.max()))\n",
    "fig.show()"
   ]
  }
 ],
 "metadata": {
  "kernelspec": {
   "display_name": "ml-for-bem",
   "language": "python",
   "name": "python3"
  },
  "language_info": {
   "codemirror_mode": {
    "name": "ipython",
    "version": 3
   },
   "file_extension": ".py",
   "mimetype": "text/x-python",
   "name": "python",
   "nbconvert_exporter": "python",
   "pygments_lexer": "ipython3",
   "version": "3.8.13"
  }
 },
 "nbformat": 4,
 "nbformat_minor": 2
}
