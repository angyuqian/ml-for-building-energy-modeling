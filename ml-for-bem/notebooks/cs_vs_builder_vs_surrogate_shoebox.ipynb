{
 "cells": [
  {
   "cell_type": "code",
   "execution_count": 8,
   "metadata": {},
   "outputs": [],
   "source": [
    "import os\n",
    "import json\n",
    "import numpy as np\n",
    "import pandas as pd\n",
    "from archetypal import settings\n",
    "from pathlib import Path\n",
    "from ladybug.epw import EPW\n",
    "from uuid import uuid4\n",
    "from shoeboxer.builder import ShoeboxConfiguration, ShoeBox\n",
    "# from shoeboxer.schedules import default_schedules\n",
    "from utils.constants import *\n",
    "import torch\n",
    "from lightning.pytorch import Trainer\n",
    "from torch.utils.data import DataLoader\n",
    "from ml.surrogate import Surrogate\n",
    "from ml.predict import predict_ubem\n",
    "from weather.weather import extract\n",
    "\n",
    "# Check if we are running on Windows or Linux using os\n",
    "if os.name == \"nt\":\n",
    "    settings.ep_version == \"22.2.0\"\n",
    "    settings.energyplus_location = Path(\"C:/EnergyPlusV22-2-0\")\n",
    "else:\n",
    "    settings.ep_version == \"22.2.0\"\n",
    "    settings.energyplus_location = Path(\"/usr/local/EnergyPlus-22-2-0\")"
   ]
  },
  {
   "cell_type": "code",
   "execution_count": 9,
   "metadata": {},
   "outputs": [
    {
     "name": "stderr",
     "output_type": "stream",
     "text": [
      "c:\\Users\\zoelh\\AppData\\Local\\anaconda3\\envs\\ml-for-bem\\lib\\site-packages\\lightning\\pytorch\\utilities\\parsing.py:198: Attribute 'target_transform' is an instance of `nn.Module` and is already saved during checkpointing. It is recommended to ignore them using `self.save_hyperparameters(ignore=['target_transform'])`.\n",
      "c:\\Users\\zoelh\\AppData\\Local\\anaconda3\\envs\\ml-for-bem\\lib\\site-packages\\lightning\\pytorch\\utilities\\parsing.py:198: Attribute 'weather_transform' is an instance of `nn.Module` and is already saved during checkpointing. It is recommended to ignore them using `self.save_hyperparameters(ignore=['weather_transform'])`.\n",
      "INFO: GPU available: True (cuda), used: True\n",
      "INFO:lightning.pytorch.utilities.rank_zero:GPU available: True (cuda), used: True\n",
      "INFO: TPU available: False, using: 0 TPU cores\n",
      "INFO:lightning.pytorch.utilities.rank_zero:TPU available: False, using: 0 TPU cores\n",
      "INFO: IPU available: False, using: 0 IPUs\n",
      "INFO:lightning.pytorch.utilities.rank_zero:IPU available: False, using: 0 IPUs\n",
      "INFO: HPU available: False, using: 0 HPUs\n",
      "INFO:lightning.pytorch.utilities.rank_zero:HPU available: False, using: 0 HPUs\n"
     ]
    }
   ],
   "source": [
    "registry = \"ml-for-building-energy-modeling/model-registry\"\n",
    "model = \"Global UBEM Shoebox Surrogate with Combined TS Embedder\"\n",
    "tag = \"v3\"\n",
    "resource = \"model.ckpt\"\n",
    "\n",
    "surrogate = Surrogate.load_from_registry(registry, model, tag, resource)\n",
    "surrogate.model.eval()\n",
    "\n",
    "trainer = Trainer(\n",
    "        accelerator=\"auto\",\n",
    "        devices=\"auto\",\n",
    "        strategy=\"auto\",\n",
    "        enable_progress_bar=True,\n",
    "    )"
   ]
  },
  {
   "cell_type": "code",
   "execution_count": 10,
   "metadata": {},
   "outputs": [],
   "source": [
    "# Get grasshopper json data for config\n",
    "gh_data_dir = \"D:/DATA/SingleShoeboxTests/Shoebox.json\"\n",
    "with open(gh_data_dir, 'r') as f:\n",
    "    gh_data = json.load(f)"
   ]
  },
  {
   "cell_type": "code",
   "execution_count": 22,
   "metadata": {},
   "outputs": [
    {
     "data": {
      "text/plain": [
       "1"
      ]
     },
     "execution_count": 22,
     "metadata": {},
     "output_type": "execute_result"
    }
   ],
   "source": [
    "gh_data[\"ShoeboxConfig\"][\"ground_2_footprint\"]"
   ]
  },
  {
   "cell_type": "code",
   "execution_count": 11,
   "metadata": {},
   "outputs": [],
   "source": [
    "epw_path = \"C:/ProgramData/Solemma/Common/WeatherData/EPW/USA_MA_Boston-Logan.Intl.AP.725090_TMYx.2004-2018.epw\"\n",
    "# epw_path =\"C:/ProgramData/Solemma/Common/WeatherData/EPW/USA_NY_New.York-LaGuardia.AP.725030_TMYx.2004-2018.epw\"\n",
    "if gh_data[\"Conditioning\"][\"HeatRecoveryType\"] == \"None\":\n",
    "    hrv = 0\n",
    "else:\n",
    "    hrv = HRV[gh_data[\"Conditioning\"][\"HeatRecoveryType\"]].value \n",
    "config = {\n",
    "    \"FacadeMass\": 1, #TODO\n",
    "    \"RoofMass\": 1,\n",
    "    \"FacadeRValue\": 4.88,\n",
    "    \"RoofRValue\": 4.88,\n",
    "    \"SlabRValue\": 4.88,\n",
    "    \"WindowUValue\": gh_data[\"SimpleWindow\"][\"uval\"],\n",
    "    \"WindowShgc\": gh_data[\"SimpleWindow\"][\"shgc\"],\n",
    "    \"PeopleDensity\": gh_data[\"Loads\"][\"PeopleDensity\"],\n",
    "    \"EquipmentPowerDensity\": gh_data[\"Loads\"][\"EquipmentPowerDensity\"],\n",
    "    \"LightingPowerDensity\": gh_data[\"Loads\"][\"LightingPowerDensity\"],\n",
    "    \"HeatingSetpoint\": gh_data[\"Conditioning\"][\"HeatingSetpoint\"],\n",
    "    \"CoolingSetpoint\": gh_data[\"Conditioning\"][\"CoolingSetpoint\"],\n",
    "    \"cop_heating\": 1,\n",
    "    \"cop_cooling\": 1,\n",
    "    \"VentilationMode\": MechVentMode[gh_data[\"Conditioning\"][\"MechVentSchedule\"]].value,\n",
    "    \"VentilationPerArea\": gh_data[\"Conditioning\"][\"MinFreshAirArea\"],\n",
    "    \"VentilationPerPerson\": gh_data[\"Conditioning\"][\"MinFreshAirPerson\"],\n",
    "    \"EconomizerSettings\": Econ[gh_data[\"Conditioning\"][\"EconomizerType\"]].value,\n",
    "    \"RecoverySettings\": hrv,\n",
    "    \"Infiltration\": gh_data[\"Infiltration\"][\"InfiltrationFlowPerExteriorSurfaceArea\"],\n",
    "    \"wwr\": gh_data[\"ShoeboxConfig\"][\"wwr\"],\n",
    "    \"roof_2_footprint\": gh_data[\"ShoeboxConfig\"][\"roof_2_footprint\"],\n",
    "    \"ground_2_footprint\": gh_data[\"ShoeboxConfig\"][\"ground_2_footprint\"],\n",
    "    \"orientation\": gh_data[\"ShoeboxConfig\"][\"orientation\"],\n",
    "    \"width\": gh_data[\"ShoeboxConfig\"][\"width\"],\n",
    "    \"height\": gh_data[\"ShoeboxConfig\"][\"height\"],\n",
    "    \"perim_depth\": gh_data[\"ShoeboxConfig\"][\"perim_depth\"],\n",
    "    \"core_depth\": gh_data[\"ShoeboxConfig\"][\"core_depth\"],\n",
    "    \"building_idx\": 0,\n",
    "    \"edge_length\": 1,\n",
    "    \"edge_weight\": 1,\n",
    "    \"weight\": 1,\n",
    "    \"template_idx\": 0.0,\n",
    "    \"floor_name\": \"none\",\n",
    "}"
   ]
  },
  {
   "cell_type": "code",
   "execution_count": 12,
   "metadata": {},
   "outputs": [],
   "source": [
    "\"\"\"\n",
    "Make Schedules\n",
    "\"\"\"\n",
    "schedules = pd.read_hdf(\"data/schedules.h5\")\n",
    "idx = gh_data[\"ShoeboxConfig\"][\"schedule_index\"]\n",
    "scheds = schedules.loc[schedules.index[idx][0]].to_numpy()"
   ]
  },
  {
   "cell_type": "code",
   "execution_count": 13,
   "metadata": {},
   "outputs": [],
   "source": [
    "# schedules.xs('EquipmentAvailabilitySchedule', level=1, drop_level=True).to_csv(\"EquipmentAvailabilitySchedule.csv\")\n",
    "# schedules.xs('LightsAvailabilitySchedule', level=1, drop_level=True).to_csv(\"LightsAvailabilitySchedule.csv\")\n",
    "# schedules.xs('OccupancySchedule', level=1, drop_level=True).to_csv(\"OccupancySchedule.csv\")"
   ]
  },
  {
   "cell_type": "code",
   "execution_count": 14,
   "metadata": {},
   "outputs": [
    {
     "name": "stderr",
     "output_type": "stream",
     "text": [
      "INFO:shoeboxer.geometry_utils:New perimeter depth: 8.0\n",
      "INFO:shoeboxer.geometry_utils:New core depth: 7.0\n",
      "INFO:shoeboxer.geometry_utils:Shifting core origin to perimeter edge; moving 3.0 m in y axis\n",
      "INFO:shoeboxer.geometry_utils:Updating adiabatic surfaces.\n",
      "WARNING:shoeboxer.geometry_utils:Perim roof adiabatic depth is too small. Dropping adiabatic.\n",
      "WARNING:shoeboxer.geometry_utils:Core roof adiabatic depth is too small. Dropping adiabatic.\n",
      "WARNING:shoeboxer.geometry_utils:Perim adiabatic ground depth is too small. Dropping adiabatic.\n",
      "WARNING:shoeboxer.geometry_utils:Core adiabatic ground depth is too small. Dropping adiabatic.\n",
      "INFO:shoeboxer.geometry_utils:Maximum shading point is 0.0\n",
      "INFO:shoeboxer.geometry_utils:Placing shading around center point [1.5 0. ]\n",
      "INFO:ShoeBox:Building idf for data\\sim_results\\164d8a7d-f2e6-49e1-8724-18501501da4d.epjson\n",
      "INFO:ShoeBox:EnergyPlus Starting\n",
      "INFO:ShoeBox:EnergyPlus, Version 22.2.0-c249759bad, YMD=2023.11.18 19:17\n",
      "INFO:ShoeBox:Converted input file format. Exiting.\n",
      "INFO:ShoeBox:EnergyPlus Run Time=00hr 00min  0.09sec\n",
      "INFO:ShoeBox:Command executed successfully.\n",
      "C:\\EnergyPlusV22-2-0\\ExpandObjects.EXE #0-164d8a7d-f2e6-49e1-8724-18501501da4d.idf: 3.00it [00:00, 17.2it/s]\n",
      "C:\\EnergyPlusV22-2-0\\energyplus.exe 164d8a7d-f2e6-49e1-8724-18501501da4d.idf: 58it [00:04, 11.77it/s]\n"
     ]
    },
    {
     "data": {
      "text/plain": [
       "KeyValue   Name   \n",
       "Core       Cooling     1.971082\n",
       "           Heating     9.788825\n",
       "Perimeter  Cooling     4.193268\n",
       "           Heating    17.164913\n",
       "dtype: float64"
      ]
     },
     "execution_count": 14,
     "metadata": {},
     "output_type": "execute_result"
    }
   ],
   "source": [
    "\"\"\"\n",
    "Make Shoebox\n",
    "\"\"\"\n",
    "sb_config = ShoeboxConfiguration()\n",
    "sb_config.width = config[\"width\"]\n",
    "sb_config.height = config[\"height\"]\n",
    "sb_config.adiabatic_partition_flag = 0\n",
    "sb_config.perim_depth = config[\"perim_depth\"]\n",
    "sb_config.core_depth = config[\"core_depth\"]\n",
    "sb_config.wwr = config[\"wwr\"]\n",
    "sb_config.roof_2_footprint = config[\"roof_2_footprint\"]\n",
    "sb_config.ground_2_footprint = config[\"ground_2_footprint\"]\n",
    "sb_config.shading_vect = np.zeros(12)\n",
    "sb_config.orientation = config[\"orientation\"]\n",
    "template_dict = config.copy()\n",
    "template_dict[\"VentilationMode\"] = 0\n",
    "template_dict[\"schedules\"] = scheds\n",
    "\n",
    "sb = ShoeBox(\n",
    "    name=str(uuid4()),\n",
    "    epw=epw_path,\n",
    "    shoebox_config=sb_config,\n",
    "    template_dict=template_dict,\n",
    "    output_directory=\"data/sim_results/\"\n",
    ")\n",
    "idf = sb.idf(run_simulation=False)\n",
    "\n",
    "\"\"\"\n",
    "Simulate\n",
    "\"\"\"\n",
    "\n",
    "hourly_df, monthly_df = sb.simulate(idf=idf)\n",
    "df = sb.postprocess(monthly_df)\n",
    "annual = df.T.groupby(level=[0,1]).sum().T\n",
    "annual"
   ]
  },
  {
   "cell_type": "code",
   "execution_count": 15,
   "metadata": {},
   "outputs": [
    {
     "name": "stdout",
     "output_type": "stream",
     "text": [
      "D:/DATA/SingleShoeboxTests/Shoebox_whitebox_out.csv\n"
     ]
    }
   ],
   "source": [
    "# core, heating, cooling\n",
    "out_file = gh_data_dir.split(\".json\")[0] + \"_whitebox_out.csv\"\n",
    "print(out_file)\n",
    "np.savetxt(out_file, np.resize(df.to_numpy(), (4,12)), delimiter=\",\")\n"
   ]
  },
  {
   "cell_type": "code",
   "execution_count": 16,
   "metadata": {},
   "outputs": [],
   "source": [
    "climate = extract(EPW(epw_path))\n",
    "for i in range(12):\n",
    "    config[f\"shading_{i}\"] = 0\n",
    "features = pd.DataFrame(data=config, index=[0])"
   ]
  },
  {
   "cell_type": "code",
   "execution_count": 17,
   "metadata": {},
   "outputs": [
    {
     "name": "stderr",
     "output_type": "stream",
     "text": [
      "WARNING:ml.data:Values for VentilationPerArea are outside of the range [0.0, 0.005]! Provided data min: 0.1, max: 0.1. Data will be clipped before prediction.\n",
      "WARNING:ml.data:Values for VentilationPerPerson are outside of the range [0, 0.015]! Provided data min: 6.9, max: 6.9. Data will be clipped before prediction.\n",
      "INFO: LOCAL_RANK: 0 - CUDA_VISIBLE_DEVICES: [0]\n",
      "INFO:lightning.pytorch.accelerators.cuda:LOCAL_RANK: 0 - CUDA_VISIBLE_DEVICES: [0]\n",
      "c:\\Users\\zoelh\\AppData\\Local\\anaconda3\\envs\\ml-for-bem\\lib\\site-packages\\lightning\\pytorch\\trainer\\connectors\\data_connector.py:441: The 'predict_dataloader' does not have many workers which may be a bottleneck. Consider increasing the value of the `num_workers` argument` to `num_workers=15` in the `DataLoader` to improve performance.\n"
     ]
    },
    {
     "name": "stdout",
     "output_type": "stream",
     "text": [
      "Predicting DataLoader 0:   0%|          | 0/1 [00:00<?, ?it/s]"
     ]
    },
    {
     "name": "stderr",
     "output_type": "stream",
     "text": [
      "c:\\Users\\zoelh\\AppData\\Local\\anaconda3\\envs\\ml-for-bem\\lib\\site-packages\\torch\\nn\\modules\\conv.py:306: UserWarning: Using padding='same' with even kernel lengths and odd dilation may require a zero-padded copy of the input be created (Triggered internally at C:\\actions-runner\\_work\\pytorch\\pytorch\\builder\\windows\\pytorch\\aten\\src\\ATen\\native\\Convolution.cpp:1009.)\n",
      "  return F.conv1d(input, weight, bias, self.stride,\n"
     ]
    },
    {
     "name": "stdout",
     "output_type": "stream",
     "text": [
      "Predicting DataLoader 0: 100%|██████████| 1/1 [00:00<00:00,  5.14it/s]\n"
     ]
    }
   ],
   "source": [
    "from ml.data import PredictBuildingDataset\n",
    "\n",
    "dataset = PredictBuildingDataset(features, np.expand_dims(scheds, 0),climate, surrogate.space_config)\n",
    "dataloader = DataLoader(dataset, batch_size=1, shuffle=False)\n",
    "shoebox_predictions = trainer.predict(surrogate, dataloader)\n",
    "shoebox_predictions = torch.cat(shoebox_predictions)\n",
    "try:\n",
    "    shoebox_predictions = shoebox_predictions.cpu().numpy()\n",
    "except:\n",
    "    shoebox_predictions = shoebox_predictions.numpy()\n",
    "shoebox_predictions[shoebox_predictions <= 0] = 0\n",
    "shoebox_predictions = pd.DataFrame(\n",
    "    shoebox_predictions,\n",
    "    columns=surrogate.target_transform.columns,\n",
    ")"
   ]
  },
  {
   "cell_type": "code",
   "execution_count": 18,
   "metadata": {},
   "outputs": [
    {
     "name": "stdout",
     "output_type": "stream",
     "text": [
      "KeyValue   Name   \n",
      "Core       Cooling     1.971082\n",
      "           Heating     9.788825\n",
      "Perimeter  Cooling     4.193268\n",
      "           Heating    17.164913\n",
      "dtype: float64\n",
      "KeyValue      Core             Perimeter            \n",
      "Name       Cooling     Heating   Cooling     Heating\n",
      "0         2.132782  149.068588  3.543859  153.292664\n"
     ]
    }
   ],
   "source": [
    "import plotly.express as px\n",
    "print(annual)\n",
    "print(shoebox_predictions.T.groupby(level=[0,1]).sum().T)"
   ]
  },
  {
   "cell_type": "code",
   "execution_count": 19,
   "metadata": {},
   "outputs": [
    {
     "name": "stdout",
     "output_type": "stream",
     "text": [
      "D:/DATA/SingleShoeboxTests/Shoebox_surrogate_out.csv\n"
     ]
    }
   ],
   "source": [
    "# core, heating, cooling\n",
    "out_file = gh_data_dir.split(\".json\")[0] + \"_surrogate_out.csv\"\n",
    "print(out_file)\n",
    "np.savetxt(out_file, np.resize(shoebox_predictions.to_numpy(), (4,12)), delimiter=\",\")"
   ]
  }
 ],
 "metadata": {
  "kernelspec": {
   "display_name": "Python 3",
   "language": "python",
   "name": "python3"
  },
  "language_info": {
   "codemirror_mode": {
    "name": "ipython",
    "version": 3
   },
   "file_extension": ".py",
   "mimetype": "text/x-python",
   "name": "python",
   "nbconvert_exporter": "python",
   "pygments_lexer": "ipython3",
   "version": "3.8.16"
  },
  "orig_nbformat": 4
 },
 "nbformat": 4,
 "nbformat_minor": 2
}
