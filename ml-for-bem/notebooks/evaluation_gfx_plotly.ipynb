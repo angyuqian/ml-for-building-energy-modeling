{
 "cells": [
  {
   "cell_type": "code",
   "execution_count": 15,
   "metadata": {},
   "outputs": [
    {
     "data": {
      "text/html": [
       "<div>\n",
       "<style scoped>\n",
       "    .dataframe tbody tr th:only-of-type {\n",
       "        vertical-align: middle;\n",
       "    }\n",
       "\n",
       "    .dataframe tbody tr th {\n",
       "        vertical-align: top;\n",
       "    }\n",
       "\n",
       "    .dataframe thead tr th {\n",
       "        text-align: left;\n",
       "    }\n",
       "\n",
       "    .dataframe thead tr:last-of-type th {\n",
       "        text-align: right;\n",
       "    }\n",
       "</style>\n",
       "<table border=\"1\" class=\"dataframe\">\n",
       "  <thead>\n",
       "    <tr>\n",
       "      <th>KeyValue</th>\n",
       "      <th colspan=\"2\" halign=\"left\">Core</th>\n",
       "      <th colspan=\"2\" halign=\"left\">Perimeter</th>\n",
       "    </tr>\n",
       "    <tr>\n",
       "      <th>Name</th>\n",
       "      <th>Cooling</th>\n",
       "      <th>Heating</th>\n",
       "      <th>Cooling</th>\n",
       "      <th>Heating</th>\n",
       "    </tr>\n",
       "    <tr>\n",
       "      <th>CZ</th>\n",
       "      <th></th>\n",
       "      <th></th>\n",
       "      <th></th>\n",
       "      <th></th>\n",
       "    </tr>\n",
       "  </thead>\n",
       "  <tbody>\n",
       "    <tr>\n",
       "      <th>0A</th>\n",
       "      <td>5.644775</td>\n",
       "      <td>1.626710e+07</td>\n",
       "      <td>4.383427</td>\n",
       "      <td>1.043568e+07</td>\n",
       "    </tr>\n",
       "    <tr>\n",
       "      <th>0B</th>\n",
       "      <td>5.479965</td>\n",
       "      <td>1.052959e+02</td>\n",
       "      <td>4.955372</td>\n",
       "      <td>9.921133e+01</td>\n",
       "    </tr>\n",
       "    <tr>\n",
       "      <th>1A</th>\n",
       "      <td>7.217948</td>\n",
       "      <td>1.600701e+02</td>\n",
       "      <td>6.817793</td>\n",
       "      <td>1.447587e+02</td>\n",
       "    </tr>\n",
       "    <tr>\n",
       "      <th>1B</th>\n",
       "      <td>4.755439</td>\n",
       "      <td>5.583363e+01</td>\n",
       "      <td>3.853229</td>\n",
       "      <td>5.144489e+01</td>\n",
       "    </tr>\n",
       "    <tr>\n",
       "      <th>2A</th>\n",
       "      <td>7.532504</td>\n",
       "      <td>4.823705e+01</td>\n",
       "      <td>6.253027</td>\n",
       "      <td>3.873716e+01</td>\n",
       "    </tr>\n",
       "    <tr>\n",
       "      <th>2B</th>\n",
       "      <td>5.949141</td>\n",
       "      <td>3.933097e+01</td>\n",
       "      <td>6.482520</td>\n",
       "      <td>3.604128e+01</td>\n",
       "    </tr>\n",
       "    <tr>\n",
       "      <th>3A</th>\n",
       "      <td>10.432064</td>\n",
       "      <td>1.470465e+01</td>\n",
       "      <td>9.495648</td>\n",
       "      <td>1.254085e+01</td>\n",
       "    </tr>\n",
       "    <tr>\n",
       "      <th>3B</th>\n",
       "      <td>6.917306</td>\n",
       "      <td>2.308355e+01</td>\n",
       "      <td>8.250217</td>\n",
       "      <td>2.018752e+01</td>\n",
       "    </tr>\n",
       "    <tr>\n",
       "      <th>3C</th>\n",
       "      <td>8.737988</td>\n",
       "      <td>2.112268e+01</td>\n",
       "      <td>13.560918</td>\n",
       "      <td>1.780329e+01</td>\n",
       "    </tr>\n",
       "    <tr>\n",
       "      <th>4A</th>\n",
       "      <td>6.658889</td>\n",
       "      <td>8.327044e+00</td>\n",
       "      <td>6.903833</td>\n",
       "      <td>7.877623e+00</td>\n",
       "    </tr>\n",
       "    <tr>\n",
       "      <th>4B</th>\n",
       "      <td>7.536419</td>\n",
       "      <td>7.475340e+00</td>\n",
       "      <td>6.952764</td>\n",
       "      <td>7.229611e+00</td>\n",
       "    </tr>\n",
       "    <tr>\n",
       "      <th>4C</th>\n",
       "      <td>9.477378</td>\n",
       "      <td>1.452143e+01</td>\n",
       "      <td>14.621389</td>\n",
       "      <td>1.089962e+01</td>\n",
       "    </tr>\n",
       "    <tr>\n",
       "      <th>5A</th>\n",
       "      <td>9.511075</td>\n",
       "      <td>1.351035e+01</td>\n",
       "      <td>12.923035</td>\n",
       "      <td>1.065303e+01</td>\n",
       "    </tr>\n",
       "    <tr>\n",
       "      <th>5B</th>\n",
       "      <td>7.156927</td>\n",
       "      <td>1.041299e+01</td>\n",
       "      <td>9.341887</td>\n",
       "      <td>8.585582e+00</td>\n",
       "    </tr>\n",
       "    <tr>\n",
       "      <th>5C</th>\n",
       "      <td>6.334042</td>\n",
       "      <td>7.046766e+00</td>\n",
       "      <td>8.191332</td>\n",
       "      <td>6.832476e+00</td>\n",
       "    </tr>\n",
       "    <tr>\n",
       "      <th>6A</th>\n",
       "      <td>9.505383</td>\n",
       "      <td>7.921712e+00</td>\n",
       "      <td>12.150984</td>\n",
       "      <td>6.792231e+00</td>\n",
       "    </tr>\n",
       "    <tr>\n",
       "      <th>6B</th>\n",
       "      <td>9.305826</td>\n",
       "      <td>1.512454e+01</td>\n",
       "      <td>12.383385</td>\n",
       "      <td>1.102739e+01</td>\n",
       "    </tr>\n",
       "    <tr>\n",
       "      <th>7</th>\n",
       "      <td>9.264672</td>\n",
       "      <td>1.340272e+01</td>\n",
       "      <td>14.458325</td>\n",
       "      <td>8.032825e+00</td>\n",
       "    </tr>\n",
       "    <tr>\n",
       "      <th>8</th>\n",
       "      <td>11.433699</td>\n",
       "      <td>8.102654e+00</td>\n",
       "      <td>13.939285</td>\n",
       "      <td>6.198219e+00</td>\n",
       "    </tr>\n",
       "  </tbody>\n",
       "</table>\n",
       "</div>"
      ],
      "text/plain": [
       "KeyValue       Core                Perimeter              \n",
       "Name        Cooling       Heating    Cooling       Heating\n",
       "CZ                                                        \n",
       "0A         5.644775  1.626710e+07   4.383427  1.043568e+07\n",
       "0B         5.479965  1.052959e+02   4.955372  9.921133e+01\n",
       "1A         7.217948  1.600701e+02   6.817793  1.447587e+02\n",
       "1B         4.755439  5.583363e+01   3.853229  5.144489e+01\n",
       "2A         7.532504  4.823705e+01   6.253027  3.873716e+01\n",
       "2B         5.949141  3.933097e+01   6.482520  3.604128e+01\n",
       "3A        10.432064  1.470465e+01   9.495648  1.254085e+01\n",
       "3B         6.917306  2.308355e+01   8.250217  2.018752e+01\n",
       "3C         8.737988  2.112268e+01  13.560918  1.780329e+01\n",
       "4A         6.658889  8.327044e+00   6.903833  7.877623e+00\n",
       "4B         7.536419  7.475340e+00   6.952764  7.229611e+00\n",
       "4C         9.477378  1.452143e+01  14.621389  1.089962e+01\n",
       "5A         9.511075  1.351035e+01  12.923035  1.065303e+01\n",
       "5B         7.156927  1.041299e+01   9.341887  8.585582e+00\n",
       "5C         6.334042  7.046766e+00   8.191332  6.832476e+00\n",
       "6A         9.505383  7.921712e+00  12.150984  6.792231e+00\n",
       "6B         9.305826  1.512454e+01  12.383385  1.102739e+01\n",
       "7          9.264672  1.340272e+01  14.458325  8.032825e+00\n",
       "8         11.433699  8.102654e+00  13.939285  6.198219e+00"
      ]
     },
     "execution_count": 15,
     "metadata": {},
     "output_type": "execute_result"
    }
   ],
   "source": [
    "import pandas as pd\n",
    "import plotly.express as px"
   ]
  },
  {
   "cell_type": "code",
   "execution_count": 25,
   "metadata": {},
   "outputs": [
    {
     "data": {
      "application/vnd.plotly.v1+json": {
       "config": {
        "plotlyServerURL": "https://plot.ly"
       },
       "data": [
        {
         "alignmentgroup": "True",
         "hovertemplate": "End Use=Cooling<br>Zone=Core<br>Climate Zone=%{x}<br>CVRMSE [%]=%{y}<extra></extra>",
         "legendgroup": "Cooling",
         "marker": {
          "color": "#92C3DE",
          "pattern": {
           "shape": ""
          }
         },
         "name": "Cooling",
         "offsetgroup": "Cooling",
         "orientation": "v",
         "showlegend": true,
         "textposition": "auto",
         "type": "bar",
         "x": [
          "0A",
          "0B",
          "1A",
          "1B",
          "2A",
          "2B",
          "3A",
          "3B",
          "3C",
          "4A",
          "4B",
          "4C",
          "5A",
          "5B",
          "5C",
          "6A",
          "6B",
          "7",
          "8"
         ],
         "xaxis": "x2",
         "y": [
          5.644775390625,
          5.4799652099609375,
          7.217947959899902,
          4.755438804626465,
          7.532503604888916,
          5.949140548706055,
          10.432064056396484,
          6.917305946350098,
          8.737988471984863,
          6.658888816833496,
          7.53641939163208,
          9.477377891540527,
          9.511075019836426,
          7.156927108764648,
          6.334041595458984,
          9.505382537841797,
          9.305826187133789,
          9.26467227935791,
          11.433698654174805
         ],
         "yaxis": "y2"
        },
        {
         "alignmentgroup": "True",
         "hovertemplate": "End Use=Cooling<br>Zone=Perimeter<br>Climate Zone=%{x}<br>CVRMSE [%]=%{y}<extra></extra>",
         "legendgroup": "Cooling",
         "marker": {
          "color": "#92C3DE",
          "pattern": {
           "shape": ""
          }
         },
         "name": "Cooling",
         "offsetgroup": "Cooling",
         "orientation": "v",
         "showlegend": false,
         "textposition": "auto",
         "type": "bar",
         "x": [
          "0A",
          "0B",
          "1A",
          "1B",
          "2A",
          "2B",
          "3A",
          "3B",
          "3C",
          "4A",
          "4B",
          "4C",
          "5A",
          "5B",
          "5C",
          "6A",
          "6B",
          "7",
          "8"
         ],
         "xaxis": "x",
         "y": [
          4.383426666259766,
          4.955372333526611,
          6.817792892456055,
          3.85322904586792,
          6.253026962280273,
          6.48252010345459,
          9.495648384094238,
          8.25021743774414,
          13.560917854309082,
          6.903833389282227,
          6.95276403427124,
          14.621389389038086,
          12.92303466796875,
          9.341887474060059,
          8.19133186340332,
          12.150983810424805,
          12.383384704589844,
          14.458325386047363,
          13.939285278320312
         ],
         "yaxis": "y"
        },
        {
         "alignmentgroup": "True",
         "hovertemplate": "End Use=Heating<br>Zone=Core<br>Climate Zone=%{x}<br>CVRMSE [%]=%{y}<extra></extra>",
         "legendgroup": "Heating",
         "marker": {
          "color": "#E32f27",
          "pattern": {
           "shape": ""
          }
         },
         "name": "Heating",
         "offsetgroup": "Heating",
         "orientation": "v",
         "showlegend": true,
         "textposition": "auto",
         "type": "bar",
         "x": [
          "0A",
          "0B",
          "1A",
          "1B",
          "2A",
          "2B",
          "3A",
          "3B",
          "3C",
          "4A",
          "4B",
          "4C",
          "5A",
          "5B",
          "5C",
          "6A",
          "6B",
          "7",
          "8"
         ],
         "xaxis": "x2",
         "y": [
          0,
          0,
          0,
          0,
          0,
          0,
          14.7046537399292,
          23.083553314208984,
          21.122678756713867,
          8.327043533325195,
          7.475340366363525,
          14.521427154541016,
          13.510346412658691,
          10.412992477416992,
          7.0467658042907715,
          7.9217119216918945,
          15.124544143676758,
          13.402718544006348,
          8.102653503417969
         ],
         "yaxis": "y2"
        },
        {
         "alignmentgroup": "True",
         "hovertemplate": "End Use=Heating<br>Zone=Perimeter<br>Climate Zone=%{x}<br>CVRMSE [%]=%{y}<extra></extra>",
         "legendgroup": "Heating",
         "marker": {
          "color": "#E32f27",
          "pattern": {
           "shape": ""
          }
         },
         "name": "Heating",
         "offsetgroup": "Heating",
         "orientation": "v",
         "showlegend": false,
         "textposition": "auto",
         "type": "bar",
         "x": [
          "0A",
          "0B",
          "1A",
          "1B",
          "2A",
          "2B",
          "3A",
          "3B",
          "3C",
          "4A",
          "4B",
          "4C",
          "5A",
          "5B",
          "5C",
          "6A",
          "6B",
          "7",
          "8"
         ],
         "xaxis": "x",
         "y": [
          0,
          0,
          0,
          0,
          0,
          0,
          12.540853500366211,
          20.187522888183594,
          17.80329132080078,
          7.877623081207275,
          7.229611396789551,
          10.89962387084961,
          10.653032302856445,
          8.58558177947998,
          6.8324761390686035,
          6.79223108291626,
          11.027393341064453,
          8.032824516296387,
          6.198218822479248
         ],
         "yaxis": "y"
        }
       ],
       "layout": {
        "annotations": [
         {
          "font": {},
          "showarrow": false,
          "text": "Zone=Perimeter",
          "textangle": 90,
          "x": 0.98,
          "xanchor": "left",
          "xref": "paper",
          "y": 0.2425,
          "yanchor": "middle",
          "yref": "paper"
         },
         {
          "font": {},
          "showarrow": false,
          "text": "Zone=Core",
          "textangle": 90,
          "x": 0.98,
          "xanchor": "left",
          "xref": "paper",
          "y": 0.7575000000000001,
          "yanchor": "middle",
          "yref": "paper"
         }
        ],
        "barmode": "group",
        "font": {
         "size": 14
        },
        "height": 800,
        "legend": {
         "title": {
          "text": "End Use"
         },
         "tracegroupgap": 0
        },
        "template": {
         "data": {
          "bar": [
           {
            "error_x": {
             "color": "#2a3f5f"
            },
            "error_y": {
             "color": "#2a3f5f"
            },
            "marker": {
             "line": {
              "color": "#E5ECF6",
              "width": 0.5
             },
             "pattern": {
              "fillmode": "overlay",
              "size": 10,
              "solidity": 0.2
             }
            },
            "type": "bar"
           }
          ],
          "barpolar": [
           {
            "marker": {
             "line": {
              "color": "#E5ECF6",
              "width": 0.5
             },
             "pattern": {
              "fillmode": "overlay",
              "size": 10,
              "solidity": 0.2
             }
            },
            "type": "barpolar"
           }
          ],
          "carpet": [
           {
            "aaxis": {
             "endlinecolor": "#2a3f5f",
             "gridcolor": "white",
             "linecolor": "white",
             "minorgridcolor": "white",
             "startlinecolor": "#2a3f5f"
            },
            "baxis": {
             "endlinecolor": "#2a3f5f",
             "gridcolor": "white",
             "linecolor": "white",
             "minorgridcolor": "white",
             "startlinecolor": "#2a3f5f"
            },
            "type": "carpet"
           }
          ],
          "choropleth": [
           {
            "colorbar": {
             "outlinewidth": 0,
             "ticks": ""
            },
            "type": "choropleth"
           }
          ],
          "contour": [
           {
            "colorbar": {
             "outlinewidth": 0,
             "ticks": ""
            },
            "colorscale": [
             [
              0,
              "#0d0887"
             ],
             [
              0.1111111111111111,
              "#46039f"
             ],
             [
              0.2222222222222222,
              "#7201a8"
             ],
             [
              0.3333333333333333,
              "#9c179e"
             ],
             [
              0.4444444444444444,
              "#bd3786"
             ],
             [
              0.5555555555555556,
              "#d8576b"
             ],
             [
              0.6666666666666666,
              "#ed7953"
             ],
             [
              0.7777777777777778,
              "#fb9f3a"
             ],
             [
              0.8888888888888888,
              "#fdca26"
             ],
             [
              1,
              "#f0f921"
             ]
            ],
            "type": "contour"
           }
          ],
          "contourcarpet": [
           {
            "colorbar": {
             "outlinewidth": 0,
             "ticks": ""
            },
            "type": "contourcarpet"
           }
          ],
          "heatmap": [
           {
            "colorbar": {
             "outlinewidth": 0,
             "ticks": ""
            },
            "colorscale": [
             [
              0,
              "#0d0887"
             ],
             [
              0.1111111111111111,
              "#46039f"
             ],
             [
              0.2222222222222222,
              "#7201a8"
             ],
             [
              0.3333333333333333,
              "#9c179e"
             ],
             [
              0.4444444444444444,
              "#bd3786"
             ],
             [
              0.5555555555555556,
              "#d8576b"
             ],
             [
              0.6666666666666666,
              "#ed7953"
             ],
             [
              0.7777777777777778,
              "#fb9f3a"
             ],
             [
              0.8888888888888888,
              "#fdca26"
             ],
             [
              1,
              "#f0f921"
             ]
            ],
            "type": "heatmap"
           }
          ],
          "heatmapgl": [
           {
            "colorbar": {
             "outlinewidth": 0,
             "ticks": ""
            },
            "colorscale": [
             [
              0,
              "#0d0887"
             ],
             [
              0.1111111111111111,
              "#46039f"
             ],
             [
              0.2222222222222222,
              "#7201a8"
             ],
             [
              0.3333333333333333,
              "#9c179e"
             ],
             [
              0.4444444444444444,
              "#bd3786"
             ],
             [
              0.5555555555555556,
              "#d8576b"
             ],
             [
              0.6666666666666666,
              "#ed7953"
             ],
             [
              0.7777777777777778,
              "#fb9f3a"
             ],
             [
              0.8888888888888888,
              "#fdca26"
             ],
             [
              1,
              "#f0f921"
             ]
            ],
            "type": "heatmapgl"
           }
          ],
          "histogram": [
           {
            "marker": {
             "pattern": {
              "fillmode": "overlay",
              "size": 10,
              "solidity": 0.2
             }
            },
            "type": "histogram"
           }
          ],
          "histogram2d": [
           {
            "colorbar": {
             "outlinewidth": 0,
             "ticks": ""
            },
            "colorscale": [
             [
              0,
              "#0d0887"
             ],
             [
              0.1111111111111111,
              "#46039f"
             ],
             [
              0.2222222222222222,
              "#7201a8"
             ],
             [
              0.3333333333333333,
              "#9c179e"
             ],
             [
              0.4444444444444444,
              "#bd3786"
             ],
             [
              0.5555555555555556,
              "#d8576b"
             ],
             [
              0.6666666666666666,
              "#ed7953"
             ],
             [
              0.7777777777777778,
              "#fb9f3a"
             ],
             [
              0.8888888888888888,
              "#fdca26"
             ],
             [
              1,
              "#f0f921"
             ]
            ],
            "type": "histogram2d"
           }
          ],
          "histogram2dcontour": [
           {
            "colorbar": {
             "outlinewidth": 0,
             "ticks": ""
            },
            "colorscale": [
             [
              0,
              "#0d0887"
             ],
             [
              0.1111111111111111,
              "#46039f"
             ],
             [
              0.2222222222222222,
              "#7201a8"
             ],
             [
              0.3333333333333333,
              "#9c179e"
             ],
             [
              0.4444444444444444,
              "#bd3786"
             ],
             [
              0.5555555555555556,
              "#d8576b"
             ],
             [
              0.6666666666666666,
              "#ed7953"
             ],
             [
              0.7777777777777778,
              "#fb9f3a"
             ],
             [
              0.8888888888888888,
              "#fdca26"
             ],
             [
              1,
              "#f0f921"
             ]
            ],
            "type": "histogram2dcontour"
           }
          ],
          "mesh3d": [
           {
            "colorbar": {
             "outlinewidth": 0,
             "ticks": ""
            },
            "type": "mesh3d"
           }
          ],
          "parcoords": [
           {
            "line": {
             "colorbar": {
              "outlinewidth": 0,
              "ticks": ""
             }
            },
            "type": "parcoords"
           }
          ],
          "pie": [
           {
            "automargin": true,
            "type": "pie"
           }
          ],
          "scatter": [
           {
            "fillpattern": {
             "fillmode": "overlay",
             "size": 10,
             "solidity": 0.2
            },
            "type": "scatter"
           }
          ],
          "scatter3d": [
           {
            "line": {
             "colorbar": {
              "outlinewidth": 0,
              "ticks": ""
             }
            },
            "marker": {
             "colorbar": {
              "outlinewidth": 0,
              "ticks": ""
             }
            },
            "type": "scatter3d"
           }
          ],
          "scattercarpet": [
           {
            "marker": {
             "colorbar": {
              "outlinewidth": 0,
              "ticks": ""
             }
            },
            "type": "scattercarpet"
           }
          ],
          "scattergeo": [
           {
            "marker": {
             "colorbar": {
              "outlinewidth": 0,
              "ticks": ""
             }
            },
            "type": "scattergeo"
           }
          ],
          "scattergl": [
           {
            "marker": {
             "colorbar": {
              "outlinewidth": 0,
              "ticks": ""
             }
            },
            "type": "scattergl"
           }
          ],
          "scattermapbox": [
           {
            "marker": {
             "colorbar": {
              "outlinewidth": 0,
              "ticks": ""
             }
            },
            "type": "scattermapbox"
           }
          ],
          "scatterpolar": [
           {
            "marker": {
             "colorbar": {
              "outlinewidth": 0,
              "ticks": ""
             }
            },
            "type": "scatterpolar"
           }
          ],
          "scatterpolargl": [
           {
            "marker": {
             "colorbar": {
              "outlinewidth": 0,
              "ticks": ""
             }
            },
            "type": "scatterpolargl"
           }
          ],
          "scatterternary": [
           {
            "marker": {
             "colorbar": {
              "outlinewidth": 0,
              "ticks": ""
             }
            },
            "type": "scatterternary"
           }
          ],
          "surface": [
           {
            "colorbar": {
             "outlinewidth": 0,
             "ticks": ""
            },
            "colorscale": [
             [
              0,
              "#0d0887"
             ],
             [
              0.1111111111111111,
              "#46039f"
             ],
             [
              0.2222222222222222,
              "#7201a8"
             ],
             [
              0.3333333333333333,
              "#9c179e"
             ],
             [
              0.4444444444444444,
              "#bd3786"
             ],
             [
              0.5555555555555556,
              "#d8576b"
             ],
             [
              0.6666666666666666,
              "#ed7953"
             ],
             [
              0.7777777777777778,
              "#fb9f3a"
             ],
             [
              0.8888888888888888,
              "#fdca26"
             ],
             [
              1,
              "#f0f921"
             ]
            ],
            "type": "surface"
           }
          ],
          "table": [
           {
            "cells": {
             "fill": {
              "color": "#EBF0F8"
             },
             "line": {
              "color": "white"
             }
            },
            "header": {
             "fill": {
              "color": "#C8D4E3"
             },
             "line": {
              "color": "white"
             }
            },
            "type": "table"
           }
          ]
         },
         "layout": {
          "annotationdefaults": {
           "arrowcolor": "#2a3f5f",
           "arrowhead": 0,
           "arrowwidth": 1
          },
          "autotypenumbers": "strict",
          "coloraxis": {
           "colorbar": {
            "outlinewidth": 0,
            "ticks": ""
           }
          },
          "colorscale": {
           "diverging": [
            [
             0,
             "#8e0152"
            ],
            [
             0.1,
             "#c51b7d"
            ],
            [
             0.2,
             "#de77ae"
            ],
            [
             0.3,
             "#f1b6da"
            ],
            [
             0.4,
             "#fde0ef"
            ],
            [
             0.5,
             "#f7f7f7"
            ],
            [
             0.6,
             "#e6f5d0"
            ],
            [
             0.7,
             "#b8e186"
            ],
            [
             0.8,
             "#7fbc41"
            ],
            [
             0.9,
             "#4d9221"
            ],
            [
             1,
             "#276419"
            ]
           ],
           "sequential": [
            [
             0,
             "#0d0887"
            ],
            [
             0.1111111111111111,
             "#46039f"
            ],
            [
             0.2222222222222222,
             "#7201a8"
            ],
            [
             0.3333333333333333,
             "#9c179e"
            ],
            [
             0.4444444444444444,
             "#bd3786"
            ],
            [
             0.5555555555555556,
             "#d8576b"
            ],
            [
             0.6666666666666666,
             "#ed7953"
            ],
            [
             0.7777777777777778,
             "#fb9f3a"
            ],
            [
             0.8888888888888888,
             "#fdca26"
            ],
            [
             1,
             "#f0f921"
            ]
           ],
           "sequentialminus": [
            [
             0,
             "#0d0887"
            ],
            [
             0.1111111111111111,
             "#46039f"
            ],
            [
             0.2222222222222222,
             "#7201a8"
            ],
            [
             0.3333333333333333,
             "#9c179e"
            ],
            [
             0.4444444444444444,
             "#bd3786"
            ],
            [
             0.5555555555555556,
             "#d8576b"
            ],
            [
             0.6666666666666666,
             "#ed7953"
            ],
            [
             0.7777777777777778,
             "#fb9f3a"
            ],
            [
             0.8888888888888888,
             "#fdca26"
            ],
            [
             1,
             "#f0f921"
            ]
           ]
          },
          "colorway": [
           "#636efa",
           "#EF553B",
           "#00cc96",
           "#ab63fa",
           "#FFA15A",
           "#19d3f3",
           "#FF6692",
           "#B6E880",
           "#FF97FF",
           "#FECB52"
          ],
          "font": {
           "color": "#2a3f5f"
          },
          "geo": {
           "bgcolor": "white",
           "lakecolor": "white",
           "landcolor": "#E5ECF6",
           "showlakes": true,
           "showland": true,
           "subunitcolor": "white"
          },
          "hoverlabel": {
           "align": "left"
          },
          "hovermode": "closest",
          "mapbox": {
           "style": "light"
          },
          "paper_bgcolor": "white",
          "plot_bgcolor": "#E5ECF6",
          "polar": {
           "angularaxis": {
            "gridcolor": "white",
            "linecolor": "white",
            "ticks": ""
           },
           "bgcolor": "#E5ECF6",
           "radialaxis": {
            "gridcolor": "white",
            "linecolor": "white",
            "ticks": ""
           }
          },
          "scene": {
           "xaxis": {
            "backgroundcolor": "#E5ECF6",
            "gridcolor": "white",
            "gridwidth": 2,
            "linecolor": "white",
            "showbackground": true,
            "ticks": "",
            "zerolinecolor": "white"
           },
           "yaxis": {
            "backgroundcolor": "#E5ECF6",
            "gridcolor": "white",
            "gridwidth": 2,
            "linecolor": "white",
            "showbackground": true,
            "ticks": "",
            "zerolinecolor": "white"
           },
           "zaxis": {
            "backgroundcolor": "#E5ECF6",
            "gridcolor": "white",
            "gridwidth": 2,
            "linecolor": "white",
            "showbackground": true,
            "ticks": "",
            "zerolinecolor": "white"
           }
          },
          "shapedefaults": {
           "line": {
            "color": "#2a3f5f"
           }
          },
          "ternary": {
           "aaxis": {
            "gridcolor": "white",
            "linecolor": "white",
            "ticks": ""
           },
           "baxis": {
            "gridcolor": "white",
            "linecolor": "white",
            "ticks": ""
           },
           "bgcolor": "#E5ECF6",
           "caxis": {
            "gridcolor": "white",
            "linecolor": "white",
            "ticks": ""
           }
          },
          "title": {
           "x": 0.05
          },
          "xaxis": {
           "automargin": true,
           "gridcolor": "white",
           "linecolor": "white",
           "ticks": "",
           "title": {
            "standoff": 15
           },
           "zerolinecolor": "white",
           "zerolinewidth": 2
          },
          "yaxis": {
           "automargin": true,
           "gridcolor": "white",
           "linecolor": "white",
           "ticks": "",
           "title": {
            "standoff": 15
           },
           "zerolinecolor": "white",
           "zerolinewidth": 2
          }
         }
        },
        "title": {
         "text": "Shoebox Monthly CVRMSE by Climate Zone and Thermal Zone"
        },
        "width": 1200,
        "xaxis": {
         "anchor": "y",
         "domain": [
          0,
          0.98
         ],
         "tickfont": {
          "size": 16
         },
         "title": {
          "font": {
           "size": 18
          },
          "text": "Climate Zone"
         }
        },
        "xaxis2": {
         "anchor": "y2",
         "domain": [
          0,
          0.98
         ],
         "matches": "x",
         "showticklabels": false,
         "tickfont": {
          "size": 16
         },
         "title": {
          "font": {
           "size": 18
          }
         }
        },
        "yaxis": {
         "anchor": "x",
         "domain": [
          0,
          0.485
         ],
         "range": [
          0,
          25
         ],
         "tickfont": {
          "size": 16
         },
         "title": {
          "font": {
           "size": 18
          },
          "text": "CVRMSE [%]"
         }
        },
        "yaxis2": {
         "anchor": "x2",
         "domain": [
          0.515,
          1
         ],
         "matches": "y",
         "range": [
          0,
          25
         ],
         "tickfont": {
          "size": 16
         },
         "title": {
          "font": {
           "size": 18
          },
          "text": "CVRMSE [%]"
         }
        }
       }
      }
     },
     "metadata": {},
     "output_type": "display_data"
    }
   ],
   "source": [
    "df_cvrmse = pd.read_hdf(\"unseen-shoebox-results.hdf\", \"cvrmse_by_cz_and_zone\")\n",
    "df_cvrmse.columns.names = [\"Zone\", \"End Use\"]\n",
    "df_cvrmse.loc[\"0A\", (\"Core\", \"Heating\")] = 0\n",
    "df_cvrmse.loc[\"0A\", (\"Perimeter\", \"Heating\")] = 0\n",
    "df_cvrmse.loc[\"0B\", (\"Core\", \"Heating\")] = 0\n",
    "df_cvrmse.loc[\"0B\", (\"Perimeter\", \"Heating\")] = 0\n",
    "df_cvrmse.loc[\"1A\", (\"Core\", \"Heating\")] = 0\n",
    "df_cvrmse.loc[\"1A\", (\"Perimeter\", \"Heating\")] = 0\n",
    "df_cvrmse.loc[\"1B\", (\"Core\", \"Heating\")] = 0\n",
    "df_cvrmse.loc[\"1B\", (\"Perimeter\", \"Heating\")] = 0\n",
    "df_cvrmse.loc[\"2A\", (\"Core\", \"Heating\")] = 0\n",
    "df_cvrmse.loc[\"2A\", (\"Perimeter\", \"Heating\")] = 0\n",
    "df_cvrmse.loc[\"2B\", (\"Core\", \"Heating\")] = 0\n",
    "df_cvrmse.loc[\"2B\", (\"Perimeter\", \"Heating\")] = 0\n",
    "fig = px.bar(\n",
    "    df_cvrmse.melt(ignore_index=False, value_name=\"CVRMSE [%]\").reset_index(),\n",
    "    title=\"Shoebox Monthly CVRMSE by Climate Zone and Thermal Zone\",\n",
    "    x=\"CZ\",\n",
    "    y=\"CVRMSE [%]\",\n",
    "    color=\"End Use\",\n",
    "    facet_row=\"Zone\",\n",
    "    barmode=\"group\",\n",
    "    color_discrete_map={\"Heating\": \"#E32f27\", \"Cooling\": \"#92C3DE\"},\n",
    "    labels={\"CZ\": \"Climate Zone\"},\n",
    "    height=800,\n",
    "    width=1200,\n",
    "    # log_y=True,\n",
    "    range_y=[0, 25],\n",
    ")\n",
    "\n",
    "\n",
    "fig.update_layout(font_size=14)\n",
    "fig.update_xaxes(tickfont_size=16)\n",
    "fig.update_yaxes(tickfont_size=16)\n",
    "fig.update_xaxes(title_font_size=18)\n",
    "fig.update_yaxes(title_font_size=18)\n",
    "# fig.write_image(\"figures/shoebox_cvrmse_by_cz_and_zone.png\", scale=2)"
   ]
  },
  {
   "cell_type": "code",
   "execution_count": 28,
   "metadata": {},
   "outputs": [
    {
     "data": {
      "application/vnd.plotly.v1+json": {
       "config": {
        "plotlyServerURL": "https://plot.ly"
       },
       "data": [
        {
         "alignmentgroup": "True",
         "hovertemplate": "End Use=Cooling<br>Zone=Core<br>Climate Zone=%{x}<br>MAE [kWh/m2]=%{y}<extra></extra>",
         "legendgroup": "Cooling",
         "marker": {
          "color": "#92C3DE",
          "pattern": {
           "shape": ""
          }
         },
         "name": "Cooling",
         "offsetgroup": "Cooling",
         "orientation": "v",
         "showlegend": true,
         "textposition": "auto",
         "type": "bar",
         "x": [
          "0A",
          "0B",
          "1A",
          "1B",
          "2A",
          "2B",
          "3A",
          "3B",
          "3C",
          "4A",
          "4B",
          "4C",
          "5A",
          "5B",
          "5C",
          "6A",
          "6B",
          "7",
          "8"
         ],
         "xaxis": "x2",
         "y": [
          0.47698572278022766,
          0.3985969126224518,
          0.36506330966949463,
          0.3164617717266083,
          0.3579683303833008,
          0.28168976306915283,
          0.279643177986145,
          0.22004105150699615,
          0.18060080707073212,
          0.2072400152683258,
          0.18906326591968536,
          0.15473651885986328,
          0.16521605849266052,
          0.1852298527956009,
          0.1528548002243042,
          0.153340682387352,
          0.17611248791217804,
          0.16160498559474945,
          0.16059252619743347
         ],
         "yaxis": "y2"
        },
        {
         "alignmentgroup": "True",
         "hovertemplate": "End Use=Cooling<br>Zone=Perimeter<br>Climate Zone=%{x}<br>MAE [kWh/m2]=%{y}<extra></extra>",
         "legendgroup": "Cooling",
         "marker": {
          "color": "#92C3DE",
          "pattern": {
           "shape": ""
          }
         },
         "name": "Cooling",
         "offsetgroup": "Cooling",
         "orientation": "v",
         "showlegend": false,
         "textposition": "auto",
         "type": "bar",
         "x": [
          "0A",
          "0B",
          "1A",
          "1B",
          "2A",
          "2B",
          "3A",
          "3B",
          "3C",
          "4A",
          "4B",
          "4C",
          "5A",
          "5B",
          "5C",
          "6A",
          "6B",
          "7",
          "8"
         ],
         "xaxis": "x",
         "y": [
          0.7769371271133423,
          0.6975154876708984,
          0.6477123498916626,
          0.5136499404907227,
          0.5825321674346924,
          0.5212686657905579,
          0.45559725165367126,
          0.4072782099246979,
          0.32464757561683655,
          0.3304811716079712,
          0.2987454831600189,
          0.25770294666290283,
          0.2508811950683594,
          0.31582754850387573,
          0.24644222855567932,
          0.22625838220119476,
          0.2822468876838684,
          0.2238064706325531,
          0.2098427563905716
         ],
         "yaxis": "y"
        },
        {
         "alignmentgroup": "True",
         "hovertemplate": "End Use=Heating<br>Zone=Core<br>Climate Zone=%{x}<br>MAE [kWh/m2]=%{y}<extra></extra>",
         "legendgroup": "Heating",
         "marker": {
          "color": "#E32f27",
          "pattern": {
           "shape": ""
          }
         },
         "name": "Heating",
         "offsetgroup": "Heating",
         "orientation": "v",
         "showlegend": true,
         "textposition": "auto",
         "type": "bar",
         "x": [
          "0A",
          "0B",
          "1A",
          "1B",
          "2A",
          "2B",
          "3A",
          "3B",
          "3C",
          "4A",
          "4B",
          "4C",
          "5A",
          "5B",
          "5C",
          "6A",
          "6B",
          "7",
          "8"
         ],
         "xaxis": "x2",
         "y": [
          0.020298315212130547,
          0.027850892394781113,
          0.03536825627088547,
          0.03021332062780857,
          0.07421773672103882,
          0.049070093780756,
          0.11439132690429688,
          0.11252887547016144,
          0.1005561500787735,
          0.10288583487272263,
          0.0991879478096962,
          0.1960679143667221,
          0.18790344893932343,
          0.1355053335428238,
          0.1003679633140564,
          0.15924471616744995,
          0.1949682980775833,
          0.24758963286876678,
          0.18562766909599304
         ],
         "yaxis": "y2"
        },
        {
         "alignmentgroup": "True",
         "hovertemplate": "End Use=Heating<br>Zone=Perimeter<br>Climate Zone=%{x}<br>MAE [kWh/m2]=%{y}<extra></extra>",
         "legendgroup": "Heating",
         "marker": {
          "color": "#E32f27",
          "pattern": {
           "shape": ""
          }
         },
         "name": "Heating",
         "offsetgroup": "Heating",
         "orientation": "v",
         "showlegend": false,
         "textposition": "auto",
         "type": "bar",
         "x": [
          "0A",
          "0B",
          "1A",
          "1B",
          "2A",
          "2B",
          "3A",
          "3B",
          "3C",
          "4A",
          "4B",
          "4C",
          "5A",
          "5B",
          "5C",
          "6A",
          "6B",
          "7",
          "8"
         ],
         "xaxis": "x",
         "y": [
          0.02017088420689106,
          0.03112618811428547,
          0.0485961027443409,
          0.03582119941711426,
          0.11238429695367813,
          0.07515599578619003,
          0.1944749504327774,
          0.19095559418201447,
          0.16601945459842682,
          0.19193901121616364,
          0.19294613599777222,
          0.3296334445476532,
          0.34708911180496216,
          0.24982059001922607,
          0.20238104462623596,
          0.3500276207923889,
          0.3818322420120239,
          0.4756932556629181,
          0.38062024116516113
         ],
         "yaxis": "y"
        }
       ],
       "layout": {
        "annotations": [
         {
          "font": {},
          "showarrow": false,
          "text": "Zone=Perimeter",
          "textangle": 90,
          "x": 0.98,
          "xanchor": "left",
          "xref": "paper",
          "y": 0.2425,
          "yanchor": "middle",
          "yref": "paper"
         },
         {
          "font": {},
          "showarrow": false,
          "text": "Zone=Core",
          "textangle": 90,
          "x": 0.98,
          "xanchor": "left",
          "xref": "paper",
          "y": 0.7575000000000001,
          "yanchor": "middle",
          "yref": "paper"
         }
        ],
        "barmode": "group",
        "font": {
         "size": 14
        },
        "height": 800,
        "legend": {
         "title": {
          "text": "End Use"
         },
         "tracegroupgap": 0
        },
        "template": {
         "data": {
          "bar": [
           {
            "error_x": {
             "color": "#2a3f5f"
            },
            "error_y": {
             "color": "#2a3f5f"
            },
            "marker": {
             "line": {
              "color": "#E5ECF6",
              "width": 0.5
             },
             "pattern": {
              "fillmode": "overlay",
              "size": 10,
              "solidity": 0.2
             }
            },
            "type": "bar"
           }
          ],
          "barpolar": [
           {
            "marker": {
             "line": {
              "color": "#E5ECF6",
              "width": 0.5
             },
             "pattern": {
              "fillmode": "overlay",
              "size": 10,
              "solidity": 0.2
             }
            },
            "type": "barpolar"
           }
          ],
          "carpet": [
           {
            "aaxis": {
             "endlinecolor": "#2a3f5f",
             "gridcolor": "white",
             "linecolor": "white",
             "minorgridcolor": "white",
             "startlinecolor": "#2a3f5f"
            },
            "baxis": {
             "endlinecolor": "#2a3f5f",
             "gridcolor": "white",
             "linecolor": "white",
             "minorgridcolor": "white",
             "startlinecolor": "#2a3f5f"
            },
            "type": "carpet"
           }
          ],
          "choropleth": [
           {
            "colorbar": {
             "outlinewidth": 0,
             "ticks": ""
            },
            "type": "choropleth"
           }
          ],
          "contour": [
           {
            "colorbar": {
             "outlinewidth": 0,
             "ticks": ""
            },
            "colorscale": [
             [
              0,
              "#0d0887"
             ],
             [
              0.1111111111111111,
              "#46039f"
             ],
             [
              0.2222222222222222,
              "#7201a8"
             ],
             [
              0.3333333333333333,
              "#9c179e"
             ],
             [
              0.4444444444444444,
              "#bd3786"
             ],
             [
              0.5555555555555556,
              "#d8576b"
             ],
             [
              0.6666666666666666,
              "#ed7953"
             ],
             [
              0.7777777777777778,
              "#fb9f3a"
             ],
             [
              0.8888888888888888,
              "#fdca26"
             ],
             [
              1,
              "#f0f921"
             ]
            ],
            "type": "contour"
           }
          ],
          "contourcarpet": [
           {
            "colorbar": {
             "outlinewidth": 0,
             "ticks": ""
            },
            "type": "contourcarpet"
           }
          ],
          "heatmap": [
           {
            "colorbar": {
             "outlinewidth": 0,
             "ticks": ""
            },
            "colorscale": [
             [
              0,
              "#0d0887"
             ],
             [
              0.1111111111111111,
              "#46039f"
             ],
             [
              0.2222222222222222,
              "#7201a8"
             ],
             [
              0.3333333333333333,
              "#9c179e"
             ],
             [
              0.4444444444444444,
              "#bd3786"
             ],
             [
              0.5555555555555556,
              "#d8576b"
             ],
             [
              0.6666666666666666,
              "#ed7953"
             ],
             [
              0.7777777777777778,
              "#fb9f3a"
             ],
             [
              0.8888888888888888,
              "#fdca26"
             ],
             [
              1,
              "#f0f921"
             ]
            ],
            "type": "heatmap"
           }
          ],
          "heatmapgl": [
           {
            "colorbar": {
             "outlinewidth": 0,
             "ticks": ""
            },
            "colorscale": [
             [
              0,
              "#0d0887"
             ],
             [
              0.1111111111111111,
              "#46039f"
             ],
             [
              0.2222222222222222,
              "#7201a8"
             ],
             [
              0.3333333333333333,
              "#9c179e"
             ],
             [
              0.4444444444444444,
              "#bd3786"
             ],
             [
              0.5555555555555556,
              "#d8576b"
             ],
             [
              0.6666666666666666,
              "#ed7953"
             ],
             [
              0.7777777777777778,
              "#fb9f3a"
             ],
             [
              0.8888888888888888,
              "#fdca26"
             ],
             [
              1,
              "#f0f921"
             ]
            ],
            "type": "heatmapgl"
           }
          ],
          "histogram": [
           {
            "marker": {
             "pattern": {
              "fillmode": "overlay",
              "size": 10,
              "solidity": 0.2
             }
            },
            "type": "histogram"
           }
          ],
          "histogram2d": [
           {
            "colorbar": {
             "outlinewidth": 0,
             "ticks": ""
            },
            "colorscale": [
             [
              0,
              "#0d0887"
             ],
             [
              0.1111111111111111,
              "#46039f"
             ],
             [
              0.2222222222222222,
              "#7201a8"
             ],
             [
              0.3333333333333333,
              "#9c179e"
             ],
             [
              0.4444444444444444,
              "#bd3786"
             ],
             [
              0.5555555555555556,
              "#d8576b"
             ],
             [
              0.6666666666666666,
              "#ed7953"
             ],
             [
              0.7777777777777778,
              "#fb9f3a"
             ],
             [
              0.8888888888888888,
              "#fdca26"
             ],
             [
              1,
              "#f0f921"
             ]
            ],
            "type": "histogram2d"
           }
          ],
          "histogram2dcontour": [
           {
            "colorbar": {
             "outlinewidth": 0,
             "ticks": ""
            },
            "colorscale": [
             [
              0,
              "#0d0887"
             ],
             [
              0.1111111111111111,
              "#46039f"
             ],
             [
              0.2222222222222222,
              "#7201a8"
             ],
             [
              0.3333333333333333,
              "#9c179e"
             ],
             [
              0.4444444444444444,
              "#bd3786"
             ],
             [
              0.5555555555555556,
              "#d8576b"
             ],
             [
              0.6666666666666666,
              "#ed7953"
             ],
             [
              0.7777777777777778,
              "#fb9f3a"
             ],
             [
              0.8888888888888888,
              "#fdca26"
             ],
             [
              1,
              "#f0f921"
             ]
            ],
            "type": "histogram2dcontour"
           }
          ],
          "mesh3d": [
           {
            "colorbar": {
             "outlinewidth": 0,
             "ticks": ""
            },
            "type": "mesh3d"
           }
          ],
          "parcoords": [
           {
            "line": {
             "colorbar": {
              "outlinewidth": 0,
              "ticks": ""
             }
            },
            "type": "parcoords"
           }
          ],
          "pie": [
           {
            "automargin": true,
            "type": "pie"
           }
          ],
          "scatter": [
           {
            "fillpattern": {
             "fillmode": "overlay",
             "size": 10,
             "solidity": 0.2
            },
            "type": "scatter"
           }
          ],
          "scatter3d": [
           {
            "line": {
             "colorbar": {
              "outlinewidth": 0,
              "ticks": ""
             }
            },
            "marker": {
             "colorbar": {
              "outlinewidth": 0,
              "ticks": ""
             }
            },
            "type": "scatter3d"
           }
          ],
          "scattercarpet": [
           {
            "marker": {
             "colorbar": {
              "outlinewidth": 0,
              "ticks": ""
             }
            },
            "type": "scattercarpet"
           }
          ],
          "scattergeo": [
           {
            "marker": {
             "colorbar": {
              "outlinewidth": 0,
              "ticks": ""
             }
            },
            "type": "scattergeo"
           }
          ],
          "scattergl": [
           {
            "marker": {
             "colorbar": {
              "outlinewidth": 0,
              "ticks": ""
             }
            },
            "type": "scattergl"
           }
          ],
          "scattermapbox": [
           {
            "marker": {
             "colorbar": {
              "outlinewidth": 0,
              "ticks": ""
             }
            },
            "type": "scattermapbox"
           }
          ],
          "scatterpolar": [
           {
            "marker": {
             "colorbar": {
              "outlinewidth": 0,
              "ticks": ""
             }
            },
            "type": "scatterpolar"
           }
          ],
          "scatterpolargl": [
           {
            "marker": {
             "colorbar": {
              "outlinewidth": 0,
              "ticks": ""
             }
            },
            "type": "scatterpolargl"
           }
          ],
          "scatterternary": [
           {
            "marker": {
             "colorbar": {
              "outlinewidth": 0,
              "ticks": ""
             }
            },
            "type": "scatterternary"
           }
          ],
          "surface": [
           {
            "colorbar": {
             "outlinewidth": 0,
             "ticks": ""
            },
            "colorscale": [
             [
              0,
              "#0d0887"
             ],
             [
              0.1111111111111111,
              "#46039f"
             ],
             [
              0.2222222222222222,
              "#7201a8"
             ],
             [
              0.3333333333333333,
              "#9c179e"
             ],
             [
              0.4444444444444444,
              "#bd3786"
             ],
             [
              0.5555555555555556,
              "#d8576b"
             ],
             [
              0.6666666666666666,
              "#ed7953"
             ],
             [
              0.7777777777777778,
              "#fb9f3a"
             ],
             [
              0.8888888888888888,
              "#fdca26"
             ],
             [
              1,
              "#f0f921"
             ]
            ],
            "type": "surface"
           }
          ],
          "table": [
           {
            "cells": {
             "fill": {
              "color": "#EBF0F8"
             },
             "line": {
              "color": "white"
             }
            },
            "header": {
             "fill": {
              "color": "#C8D4E3"
             },
             "line": {
              "color": "white"
             }
            },
            "type": "table"
           }
          ]
         },
         "layout": {
          "annotationdefaults": {
           "arrowcolor": "#2a3f5f",
           "arrowhead": 0,
           "arrowwidth": 1
          },
          "autotypenumbers": "strict",
          "coloraxis": {
           "colorbar": {
            "outlinewidth": 0,
            "ticks": ""
           }
          },
          "colorscale": {
           "diverging": [
            [
             0,
             "#8e0152"
            ],
            [
             0.1,
             "#c51b7d"
            ],
            [
             0.2,
             "#de77ae"
            ],
            [
             0.3,
             "#f1b6da"
            ],
            [
             0.4,
             "#fde0ef"
            ],
            [
             0.5,
             "#f7f7f7"
            ],
            [
             0.6,
             "#e6f5d0"
            ],
            [
             0.7,
             "#b8e186"
            ],
            [
             0.8,
             "#7fbc41"
            ],
            [
             0.9,
             "#4d9221"
            ],
            [
             1,
             "#276419"
            ]
           ],
           "sequential": [
            [
             0,
             "#0d0887"
            ],
            [
             0.1111111111111111,
             "#46039f"
            ],
            [
             0.2222222222222222,
             "#7201a8"
            ],
            [
             0.3333333333333333,
             "#9c179e"
            ],
            [
             0.4444444444444444,
             "#bd3786"
            ],
            [
             0.5555555555555556,
             "#d8576b"
            ],
            [
             0.6666666666666666,
             "#ed7953"
            ],
            [
             0.7777777777777778,
             "#fb9f3a"
            ],
            [
             0.8888888888888888,
             "#fdca26"
            ],
            [
             1,
             "#f0f921"
            ]
           ],
           "sequentialminus": [
            [
             0,
             "#0d0887"
            ],
            [
             0.1111111111111111,
             "#46039f"
            ],
            [
             0.2222222222222222,
             "#7201a8"
            ],
            [
             0.3333333333333333,
             "#9c179e"
            ],
            [
             0.4444444444444444,
             "#bd3786"
            ],
            [
             0.5555555555555556,
             "#d8576b"
            ],
            [
             0.6666666666666666,
             "#ed7953"
            ],
            [
             0.7777777777777778,
             "#fb9f3a"
            ],
            [
             0.8888888888888888,
             "#fdca26"
            ],
            [
             1,
             "#f0f921"
            ]
           ]
          },
          "colorway": [
           "#636efa",
           "#EF553B",
           "#00cc96",
           "#ab63fa",
           "#FFA15A",
           "#19d3f3",
           "#FF6692",
           "#B6E880",
           "#FF97FF",
           "#FECB52"
          ],
          "font": {
           "color": "#2a3f5f"
          },
          "geo": {
           "bgcolor": "white",
           "lakecolor": "white",
           "landcolor": "#E5ECF6",
           "showlakes": true,
           "showland": true,
           "subunitcolor": "white"
          },
          "hoverlabel": {
           "align": "left"
          },
          "hovermode": "closest",
          "mapbox": {
           "style": "light"
          },
          "paper_bgcolor": "white",
          "plot_bgcolor": "#E5ECF6",
          "polar": {
           "angularaxis": {
            "gridcolor": "white",
            "linecolor": "white",
            "ticks": ""
           },
           "bgcolor": "#E5ECF6",
           "radialaxis": {
            "gridcolor": "white",
            "linecolor": "white",
            "ticks": ""
           }
          },
          "scene": {
           "xaxis": {
            "backgroundcolor": "#E5ECF6",
            "gridcolor": "white",
            "gridwidth": 2,
            "linecolor": "white",
            "showbackground": true,
            "ticks": "",
            "zerolinecolor": "white"
           },
           "yaxis": {
            "backgroundcolor": "#E5ECF6",
            "gridcolor": "white",
            "gridwidth": 2,
            "linecolor": "white",
            "showbackground": true,
            "ticks": "",
            "zerolinecolor": "white"
           },
           "zaxis": {
            "backgroundcolor": "#E5ECF6",
            "gridcolor": "white",
            "gridwidth": 2,
            "linecolor": "white",
            "showbackground": true,
            "ticks": "",
            "zerolinecolor": "white"
           }
          },
          "shapedefaults": {
           "line": {
            "color": "#2a3f5f"
           }
          },
          "ternary": {
           "aaxis": {
            "gridcolor": "white",
            "linecolor": "white",
            "ticks": ""
           },
           "baxis": {
            "gridcolor": "white",
            "linecolor": "white",
            "ticks": ""
           },
           "bgcolor": "#E5ECF6",
           "caxis": {
            "gridcolor": "white",
            "linecolor": "white",
            "ticks": ""
           }
          },
          "title": {
           "x": 0.05
          },
          "xaxis": {
           "automargin": true,
           "gridcolor": "white",
           "linecolor": "white",
           "ticks": "",
           "title": {
            "standoff": 15
           },
           "zerolinecolor": "white",
           "zerolinewidth": 2
          },
          "yaxis": {
           "automargin": true,
           "gridcolor": "white",
           "linecolor": "white",
           "ticks": "",
           "title": {
            "standoff": 15
           },
           "zerolinecolor": "white",
           "zerolinewidth": 2
          }
         }
        },
        "title": {
         "text": "Shoebox Monthly MAE by Climate Zone and Thermal Zone"
        },
        "width": 1200,
        "xaxis": {
         "anchor": "y",
         "domain": [
          0,
          0.98
         ],
         "tickfont": {
          "size": 16
         },
         "title": {
          "font": {
           "size": 18
          },
          "text": "Climate Zone"
         }
        },
        "xaxis2": {
         "anchor": "y2",
         "domain": [
          0,
          0.98
         ],
         "matches": "x",
         "showticklabels": false,
         "tickfont": {
          "size": 16
         },
         "title": {
          "font": {
           "size": 18
          }
         }
        },
        "yaxis": {
         "anchor": "x",
         "domain": [
          0,
          0.485
         ],
         "tickfont": {
          "size": 16
         },
         "title": {
          "font": {
           "size": 18
          },
          "text": "MAE [kWh/m2]"
         }
        },
        "yaxis2": {
         "anchor": "x2",
         "domain": [
          0.515,
          1
         ],
         "matches": "y",
         "tickfont": {
          "size": 16
         },
         "title": {
          "font": {
           "size": 18
          },
          "text": "MAE [kWh/m2]"
         }
        }
       }
      }
     },
     "metadata": {},
     "output_type": "display_data"
    }
   ],
   "source": [
    "df_mae = pd.read_hdf(\"unseen-shoebox-results.hdf\", \"mae_by_cz_and_zone\")\n",
    "df_mae.columns.names = [\"Zone\", \"End Use\"]\n",
    "# df_mae.loc[\"0A\", (\"Core\", \"Heating\")] = 0\n",
    "# df_mae.loc[\"0A\", (\"Perimeter\", \"Heating\")] = 0\n",
    "# df_mae.loc[\"0B\", (\"Core\", \"Heating\")] = 0\n",
    "# df_mae.loc[\"0B\", (\"Perimeter\", \"Heating\")] = 0\n",
    "# df_mae.loc[\"1A\", (\"Core\", \"Heating\")] = 0\n",
    "# df_mae.loc[\"1A\", (\"Perimeter\", \"Heating\")] = 0\n",
    "# df_mae.loc[\"1B\", (\"Core\", \"Heating\")] = 0\n",
    "# df_mae.loc[\"1B\", (\"Perimeter\", \"Heating\")] = 0\n",
    "# df_mae.loc[\"2A\", (\"Core\", \"Heating\")] = 0\n",
    "# df_mae.loc[\"2A\", (\"Perimeter\", \"Heating\")] = 0\n",
    "# df_mae.loc[\"2B\", (\"Core\", \"Heating\")] = 0\n",
    "# df_mae.loc[\"2B\", (\"Perimeter\", \"Heating\")] = 0\n",
    "fig = px.bar(\n",
    "    df_mae.melt(ignore_index=False, value_name=\"MAE [kWh/m2]\").reset_index(),\n",
    "    title=\"Shoebox Monthly MAE by Climate Zone and Thermal Zone\",\n",
    "    x=\"CZ\",\n",
    "    y=\"MAE [kWh/m2]\",\n",
    "    color=\"End Use\",\n",
    "    facet_row=\"Zone\",\n",
    "    barmode=\"group\",\n",
    "    color_discrete_map={\"Heating\": \"#E32f27\", \"Cooling\": \"#92C3DE\"},\n",
    "    labels={\"CZ\": \"Climate Zone\"},\n",
    "    height=800,\n",
    "    width=1200,\n",
    "    # log_y=True,\n",
    ")\n",
    "\n",
    "\n",
    "fig.update_layout(font_size=14)\n",
    "fig.update_xaxes(tickfont_size=16)\n",
    "fig.update_yaxes(tickfont_size=16)\n",
    "fig.update_xaxes(title_font_size=18)\n",
    "fig.update_yaxes(title_font_size=18)"
   ]
  },
  {
   "cell_type": "code",
   "execution_count": 32,
   "metadata": {},
   "outputs": [
    {
     "data": {
      "application/vnd.plotly.v1+json": {
       "config": {
        "plotlyServerURL": "https://plot.ly"
       },
       "data": [
        {
         "alignmentgroup": "True",
         "hovertemplate": "End Use=Cooling<br>Zone=Core<br>Climate Zone=%{x}<br>CVRMSE [%]=%{y}<extra></extra>",
         "legendgroup": "Cooling",
         "marker": {
          "color": "#92C3DE",
          "pattern": {
           "shape": ""
          }
         },
         "name": "Cooling",
         "offsetgroup": "Cooling",
         "orientation": "v",
         "showlegend": true,
         "textposition": "auto",
         "type": "bar",
         "x": [
          "0A",
          "0B",
          "1A",
          "1B",
          "2A",
          "2B",
          "3A",
          "3B",
          "3C",
          "4A",
          "4B",
          "4C",
          "5A",
          "5B",
          "5C",
          "6A",
          "6B",
          "7",
          "8"
         ],
         "xaxis": "x2",
         "y": [
          4.128312110900879,
          3.5371947288513184,
          4.211976528167725,
          3.0598607063293457,
          3.756077289581299,
          3.6077325344085693,
          4.645036697387695,
          3.90163254737854,
          6.319950580596924,
          3.1394169330596924,
          5.193129539489746,
          6.496123790740967,
          6.273619651794434,
          4.569055080413818,
          3.9425909519195557,
          6.254316806793213,
          6.557357311248779,
          5.779842376708984,
          7.929786205291748
         ],
         "yaxis": "y2"
        },
        {
         "alignmentgroup": "True",
         "hovertemplate": "End Use=Cooling<br>Zone=Perimeter<br>Climate Zone=%{x}<br>CVRMSE [%]=%{y}<extra></extra>",
         "legendgroup": "Cooling",
         "marker": {
          "color": "#92C3DE",
          "pattern": {
           "shape": ""
          }
         },
         "name": "Cooling",
         "offsetgroup": "Cooling",
         "orientation": "v",
         "showlegend": false,
         "textposition": "auto",
         "type": "bar",
         "x": [
          "0A",
          "0B",
          "1A",
          "1B",
          "2A",
          "2B",
          "3A",
          "3B",
          "3C",
          "4A",
          "4B",
          "4C",
          "5A",
          "5B",
          "5C",
          "6A",
          "6B",
          "7",
          "8"
         ],
         "xaxis": "x",
         "y": [
          2.911421298980713,
          2.8882575035095215,
          3.7243590354919434,
          2.1900112628936768,
          2.798478364944458,
          3.5304114818573,
          3.7818853855133057,
          4.377873420715332,
          9.020417213439941,
          3.3308188915252686,
          3.86247181892395,
          9.49309253692627,
          8.054515838623047,
          5.568863868713379,
          4.750077247619629,
          7.054898262023926,
          7.60437536239624,
          8.8271484375,
          8.018863677978516
         ],
         "yaxis": "y"
        },
        {
         "alignmentgroup": "True",
         "hovertemplate": "End Use=Heating<br>Zone=Core<br>Climate Zone=%{x}<br>CVRMSE [%]=%{y}<extra></extra>",
         "legendgroup": "Heating",
         "marker": {
          "color": "#E32f27",
          "pattern": {
           "shape": ""
          }
         },
         "name": "Heating",
         "offsetgroup": "Heating",
         "orientation": "v",
         "showlegend": true,
         "textposition": "auto",
         "type": "bar",
         "x": [
          "0A",
          "0B",
          "1A",
          "1B",
          "2A",
          "2B",
          "3A",
          "3B",
          "3C",
          "4A",
          "4B",
          "4C",
          "5A",
          "5B",
          "5C",
          "6A",
          "6B",
          "7",
          "8"
         ],
         "xaxis": "x2",
         "y": [
          0,
          0,
          0,
          28.36203956604004,
          22.48006248474121,
          15.998798370361328,
          6.2441816329956055,
          10.142580032348633,
          10.780793190002441,
          4.726199626922607,
          4.2023444175720215,
          9.041820526123047,
          7.469793319702148,
          6.177470684051514,
          4.093071937561035,
          4.978557586669922,
          6.618125915527344,
          8.487723350524902,
          5.172059535980225
         ],
         "yaxis": "y2"
        },
        {
         "alignmentgroup": "True",
         "hovertemplate": "End Use=Heating<br>Zone=Perimeter<br>Climate Zone=%{x}<br>CVRMSE [%]=%{y}<extra></extra>",
         "legendgroup": "Heating",
         "marker": {
          "color": "#E32f27",
          "pattern": {
           "shape": ""
          }
         },
         "name": "Heating",
         "offsetgroup": "Heating",
         "orientation": "v",
         "showlegend": false,
         "textposition": "auto",
         "type": "bar",
         "x": [
          "0A",
          "0B",
          "1A",
          "1B",
          "2A",
          "2B",
          "3A",
          "3B",
          "3C",
          "4A",
          "4B",
          "4C",
          "5A",
          "5B",
          "5C",
          "6A",
          "6B",
          "7",
          "8"
         ],
         "xaxis": "x",
         "y": [
          0,
          0,
          0,
          25.5189208984375,
          17.90106201171875,
          15.120668411254883,
          5.649544715881348,
          9.373903274536133,
          9.205768585205078,
          4.4873247146606445,
          4.015279769897461,
          6.520726680755615,
          5.611817359924316,
          4.93298864364624,
          3.9013583660125732,
          4.163642406463623,
          4.821375370025635,
          4.927242279052734,
          3.7538301944732666
         ],
         "yaxis": "y"
        }
       ],
       "layout": {
        "annotations": [
         {
          "font": {},
          "showarrow": false,
          "text": "Zone=Perimeter",
          "textangle": 90,
          "x": 0.98,
          "xanchor": "left",
          "xref": "paper",
          "y": 0.2425,
          "yanchor": "middle",
          "yref": "paper"
         },
         {
          "font": {},
          "showarrow": false,
          "text": "Zone=Core",
          "textangle": 90,
          "x": 0.98,
          "xanchor": "left",
          "xref": "paper",
          "y": 0.7575000000000001,
          "yanchor": "middle",
          "yref": "paper"
         }
        ],
        "barmode": "group",
        "font": {
         "size": 14
        },
        "height": 800,
        "legend": {
         "title": {
          "text": "End Use"
         },
         "tracegroupgap": 0
        },
        "template": {
         "data": {
          "bar": [
           {
            "error_x": {
             "color": "#2a3f5f"
            },
            "error_y": {
             "color": "#2a3f5f"
            },
            "marker": {
             "line": {
              "color": "#E5ECF6",
              "width": 0.5
             },
             "pattern": {
              "fillmode": "overlay",
              "size": 10,
              "solidity": 0.2
             }
            },
            "type": "bar"
           }
          ],
          "barpolar": [
           {
            "marker": {
             "line": {
              "color": "#E5ECF6",
              "width": 0.5
             },
             "pattern": {
              "fillmode": "overlay",
              "size": 10,
              "solidity": 0.2
             }
            },
            "type": "barpolar"
           }
          ],
          "carpet": [
           {
            "aaxis": {
             "endlinecolor": "#2a3f5f",
             "gridcolor": "white",
             "linecolor": "white",
             "minorgridcolor": "white",
             "startlinecolor": "#2a3f5f"
            },
            "baxis": {
             "endlinecolor": "#2a3f5f",
             "gridcolor": "white",
             "linecolor": "white",
             "minorgridcolor": "white",
             "startlinecolor": "#2a3f5f"
            },
            "type": "carpet"
           }
          ],
          "choropleth": [
           {
            "colorbar": {
             "outlinewidth": 0,
             "ticks": ""
            },
            "type": "choropleth"
           }
          ],
          "contour": [
           {
            "colorbar": {
             "outlinewidth": 0,
             "ticks": ""
            },
            "colorscale": [
             [
              0,
              "#0d0887"
             ],
             [
              0.1111111111111111,
              "#46039f"
             ],
             [
              0.2222222222222222,
              "#7201a8"
             ],
             [
              0.3333333333333333,
              "#9c179e"
             ],
             [
              0.4444444444444444,
              "#bd3786"
             ],
             [
              0.5555555555555556,
              "#d8576b"
             ],
             [
              0.6666666666666666,
              "#ed7953"
             ],
             [
              0.7777777777777778,
              "#fb9f3a"
             ],
             [
              0.8888888888888888,
              "#fdca26"
             ],
             [
              1,
              "#f0f921"
             ]
            ],
            "type": "contour"
           }
          ],
          "contourcarpet": [
           {
            "colorbar": {
             "outlinewidth": 0,
             "ticks": ""
            },
            "type": "contourcarpet"
           }
          ],
          "heatmap": [
           {
            "colorbar": {
             "outlinewidth": 0,
             "ticks": ""
            },
            "colorscale": [
             [
              0,
              "#0d0887"
             ],
             [
              0.1111111111111111,
              "#46039f"
             ],
             [
              0.2222222222222222,
              "#7201a8"
             ],
             [
              0.3333333333333333,
              "#9c179e"
             ],
             [
              0.4444444444444444,
              "#bd3786"
             ],
             [
              0.5555555555555556,
              "#d8576b"
             ],
             [
              0.6666666666666666,
              "#ed7953"
             ],
             [
              0.7777777777777778,
              "#fb9f3a"
             ],
             [
              0.8888888888888888,
              "#fdca26"
             ],
             [
              1,
              "#f0f921"
             ]
            ],
            "type": "heatmap"
           }
          ],
          "heatmapgl": [
           {
            "colorbar": {
             "outlinewidth": 0,
             "ticks": ""
            },
            "colorscale": [
             [
              0,
              "#0d0887"
             ],
             [
              0.1111111111111111,
              "#46039f"
             ],
             [
              0.2222222222222222,
              "#7201a8"
             ],
             [
              0.3333333333333333,
              "#9c179e"
             ],
             [
              0.4444444444444444,
              "#bd3786"
             ],
             [
              0.5555555555555556,
              "#d8576b"
             ],
             [
              0.6666666666666666,
              "#ed7953"
             ],
             [
              0.7777777777777778,
              "#fb9f3a"
             ],
             [
              0.8888888888888888,
              "#fdca26"
             ],
             [
              1,
              "#f0f921"
             ]
            ],
            "type": "heatmapgl"
           }
          ],
          "histogram": [
           {
            "marker": {
             "pattern": {
              "fillmode": "overlay",
              "size": 10,
              "solidity": 0.2
             }
            },
            "type": "histogram"
           }
          ],
          "histogram2d": [
           {
            "colorbar": {
             "outlinewidth": 0,
             "ticks": ""
            },
            "colorscale": [
             [
              0,
              "#0d0887"
             ],
             [
              0.1111111111111111,
              "#46039f"
             ],
             [
              0.2222222222222222,
              "#7201a8"
             ],
             [
              0.3333333333333333,
              "#9c179e"
             ],
             [
              0.4444444444444444,
              "#bd3786"
             ],
             [
              0.5555555555555556,
              "#d8576b"
             ],
             [
              0.6666666666666666,
              "#ed7953"
             ],
             [
              0.7777777777777778,
              "#fb9f3a"
             ],
             [
              0.8888888888888888,
              "#fdca26"
             ],
             [
              1,
              "#f0f921"
             ]
            ],
            "type": "histogram2d"
           }
          ],
          "histogram2dcontour": [
           {
            "colorbar": {
             "outlinewidth": 0,
             "ticks": ""
            },
            "colorscale": [
             [
              0,
              "#0d0887"
             ],
             [
              0.1111111111111111,
              "#46039f"
             ],
             [
              0.2222222222222222,
              "#7201a8"
             ],
             [
              0.3333333333333333,
              "#9c179e"
             ],
             [
              0.4444444444444444,
              "#bd3786"
             ],
             [
              0.5555555555555556,
              "#d8576b"
             ],
             [
              0.6666666666666666,
              "#ed7953"
             ],
             [
              0.7777777777777778,
              "#fb9f3a"
             ],
             [
              0.8888888888888888,
              "#fdca26"
             ],
             [
              1,
              "#f0f921"
             ]
            ],
            "type": "histogram2dcontour"
           }
          ],
          "mesh3d": [
           {
            "colorbar": {
             "outlinewidth": 0,
             "ticks": ""
            },
            "type": "mesh3d"
           }
          ],
          "parcoords": [
           {
            "line": {
             "colorbar": {
              "outlinewidth": 0,
              "ticks": ""
             }
            },
            "type": "parcoords"
           }
          ],
          "pie": [
           {
            "automargin": true,
            "type": "pie"
           }
          ],
          "scatter": [
           {
            "fillpattern": {
             "fillmode": "overlay",
             "size": 10,
             "solidity": 0.2
            },
            "type": "scatter"
           }
          ],
          "scatter3d": [
           {
            "line": {
             "colorbar": {
              "outlinewidth": 0,
              "ticks": ""
             }
            },
            "marker": {
             "colorbar": {
              "outlinewidth": 0,
              "ticks": ""
             }
            },
            "type": "scatter3d"
           }
          ],
          "scattercarpet": [
           {
            "marker": {
             "colorbar": {
              "outlinewidth": 0,
              "ticks": ""
             }
            },
            "type": "scattercarpet"
           }
          ],
          "scattergeo": [
           {
            "marker": {
             "colorbar": {
              "outlinewidth": 0,
              "ticks": ""
             }
            },
            "type": "scattergeo"
           }
          ],
          "scattergl": [
           {
            "marker": {
             "colorbar": {
              "outlinewidth": 0,
              "ticks": ""
             }
            },
            "type": "scattergl"
           }
          ],
          "scattermapbox": [
           {
            "marker": {
             "colorbar": {
              "outlinewidth": 0,
              "ticks": ""
             }
            },
            "type": "scattermapbox"
           }
          ],
          "scatterpolar": [
           {
            "marker": {
             "colorbar": {
              "outlinewidth": 0,
              "ticks": ""
             }
            },
            "type": "scatterpolar"
           }
          ],
          "scatterpolargl": [
           {
            "marker": {
             "colorbar": {
              "outlinewidth": 0,
              "ticks": ""
             }
            },
            "type": "scatterpolargl"
           }
          ],
          "scatterternary": [
           {
            "marker": {
             "colorbar": {
              "outlinewidth": 0,
              "ticks": ""
             }
            },
            "type": "scatterternary"
           }
          ],
          "surface": [
           {
            "colorbar": {
             "outlinewidth": 0,
             "ticks": ""
            },
            "colorscale": [
             [
              0,
              "#0d0887"
             ],
             [
              0.1111111111111111,
              "#46039f"
             ],
             [
              0.2222222222222222,
              "#7201a8"
             ],
             [
              0.3333333333333333,
              "#9c179e"
             ],
             [
              0.4444444444444444,
              "#bd3786"
             ],
             [
              0.5555555555555556,
              "#d8576b"
             ],
             [
              0.6666666666666666,
              "#ed7953"
             ],
             [
              0.7777777777777778,
              "#fb9f3a"
             ],
             [
              0.8888888888888888,
              "#fdca26"
             ],
             [
              1,
              "#f0f921"
             ]
            ],
            "type": "surface"
           }
          ],
          "table": [
           {
            "cells": {
             "fill": {
              "color": "#EBF0F8"
             },
             "line": {
              "color": "white"
             }
            },
            "header": {
             "fill": {
              "color": "#C8D4E3"
             },
             "line": {
              "color": "white"
             }
            },
            "type": "table"
           }
          ]
         },
         "layout": {
          "annotationdefaults": {
           "arrowcolor": "#2a3f5f",
           "arrowhead": 0,
           "arrowwidth": 1
          },
          "autotypenumbers": "strict",
          "coloraxis": {
           "colorbar": {
            "outlinewidth": 0,
            "ticks": ""
           }
          },
          "colorscale": {
           "diverging": [
            [
             0,
             "#8e0152"
            ],
            [
             0.1,
             "#c51b7d"
            ],
            [
             0.2,
             "#de77ae"
            ],
            [
             0.3,
             "#f1b6da"
            ],
            [
             0.4,
             "#fde0ef"
            ],
            [
             0.5,
             "#f7f7f7"
            ],
            [
             0.6,
             "#e6f5d0"
            ],
            [
             0.7,
             "#b8e186"
            ],
            [
             0.8,
             "#7fbc41"
            ],
            [
             0.9,
             "#4d9221"
            ],
            [
             1,
             "#276419"
            ]
           ],
           "sequential": [
            [
             0,
             "#0d0887"
            ],
            [
             0.1111111111111111,
             "#46039f"
            ],
            [
             0.2222222222222222,
             "#7201a8"
            ],
            [
             0.3333333333333333,
             "#9c179e"
            ],
            [
             0.4444444444444444,
             "#bd3786"
            ],
            [
             0.5555555555555556,
             "#d8576b"
            ],
            [
             0.6666666666666666,
             "#ed7953"
            ],
            [
             0.7777777777777778,
             "#fb9f3a"
            ],
            [
             0.8888888888888888,
             "#fdca26"
            ],
            [
             1,
             "#f0f921"
            ]
           ],
           "sequentialminus": [
            [
             0,
             "#0d0887"
            ],
            [
             0.1111111111111111,
             "#46039f"
            ],
            [
             0.2222222222222222,
             "#7201a8"
            ],
            [
             0.3333333333333333,
             "#9c179e"
            ],
            [
             0.4444444444444444,
             "#bd3786"
            ],
            [
             0.5555555555555556,
             "#d8576b"
            ],
            [
             0.6666666666666666,
             "#ed7953"
            ],
            [
             0.7777777777777778,
             "#fb9f3a"
            ],
            [
             0.8888888888888888,
             "#fdca26"
            ],
            [
             1,
             "#f0f921"
            ]
           ]
          },
          "colorway": [
           "#636efa",
           "#EF553B",
           "#00cc96",
           "#ab63fa",
           "#FFA15A",
           "#19d3f3",
           "#FF6692",
           "#B6E880",
           "#FF97FF",
           "#FECB52"
          ],
          "font": {
           "color": "#2a3f5f"
          },
          "geo": {
           "bgcolor": "white",
           "lakecolor": "white",
           "landcolor": "#E5ECF6",
           "showlakes": true,
           "showland": true,
           "subunitcolor": "white"
          },
          "hoverlabel": {
           "align": "left"
          },
          "hovermode": "closest",
          "mapbox": {
           "style": "light"
          },
          "paper_bgcolor": "white",
          "plot_bgcolor": "#E5ECF6",
          "polar": {
           "angularaxis": {
            "gridcolor": "white",
            "linecolor": "white",
            "ticks": ""
           },
           "bgcolor": "#E5ECF6",
           "radialaxis": {
            "gridcolor": "white",
            "linecolor": "white",
            "ticks": ""
           }
          },
          "scene": {
           "xaxis": {
            "backgroundcolor": "#E5ECF6",
            "gridcolor": "white",
            "gridwidth": 2,
            "linecolor": "white",
            "showbackground": true,
            "ticks": "",
            "zerolinecolor": "white"
           },
           "yaxis": {
            "backgroundcolor": "#E5ECF6",
            "gridcolor": "white",
            "gridwidth": 2,
            "linecolor": "white",
            "showbackground": true,
            "ticks": "",
            "zerolinecolor": "white"
           },
           "zaxis": {
            "backgroundcolor": "#E5ECF6",
            "gridcolor": "white",
            "gridwidth": 2,
            "linecolor": "white",
            "showbackground": true,
            "ticks": "",
            "zerolinecolor": "white"
           }
          },
          "shapedefaults": {
           "line": {
            "color": "#2a3f5f"
           }
          },
          "ternary": {
           "aaxis": {
            "gridcolor": "white",
            "linecolor": "white",
            "ticks": ""
           },
           "baxis": {
            "gridcolor": "white",
            "linecolor": "white",
            "ticks": ""
           },
           "bgcolor": "#E5ECF6",
           "caxis": {
            "gridcolor": "white",
            "linecolor": "white",
            "ticks": ""
           }
          },
          "title": {
           "x": 0.05
          },
          "xaxis": {
           "automargin": true,
           "gridcolor": "white",
           "linecolor": "white",
           "ticks": "",
           "title": {
            "standoff": 15
           },
           "zerolinecolor": "white",
           "zerolinewidth": 2
          },
          "yaxis": {
           "automargin": true,
           "gridcolor": "white",
           "linecolor": "white",
           "ticks": "",
           "title": {
            "standoff": 15
           },
           "zerolinecolor": "white",
           "zerolinewidth": 2
          }
         }
        },
        "title": {
         "text": "Shoebox Annual CVRMSE by Climate Zone and Thermal Zone"
        },
        "width": 1200,
        "xaxis": {
         "anchor": "y",
         "domain": [
          0,
          0.98
         ],
         "tickfont": {
          "size": 16
         },
         "title": {
          "font": {
           "size": 18
          },
          "text": "Climate Zone"
         }
        },
        "xaxis2": {
         "anchor": "y2",
         "domain": [
          0,
          0.98
         ],
         "matches": "x",
         "showticklabels": false,
         "tickfont": {
          "size": 16
         },
         "title": {
          "font": {
           "size": 18
          }
         }
        },
        "yaxis": {
         "anchor": "x",
         "domain": [
          0,
          0.485
         ],
         "tickfont": {
          "size": 16
         },
         "title": {
          "font": {
           "size": 18
          },
          "text": "CVRMSE [%]"
         }
        },
        "yaxis2": {
         "anchor": "x2",
         "domain": [
          0.515,
          1
         ],
         "matches": "y",
         "tickfont": {
          "size": 16
         },
         "title": {
          "font": {
           "size": 18
          },
          "text": "CVRMSE [%]"
         }
        }
       }
      }
     },
     "metadata": {},
     "output_type": "display_data"
    }
   ],
   "source": [
    "df_acvrmse = pd.read_hdf(\"unseen-shoebox-results.hdf\", \"annual_cvrmse_by_cz_and_zone\")\n",
    "df_acvrmse.columns.names = [\"Zone\", \"End Use\"]\n",
    "df_acvrmse.loc[\"0A\", (\"Core\", \"Heating\")] = 0\n",
    "df_acvrmse.loc[\"0A\", (\"Perimeter\", \"Heating\")] = 0\n",
    "df_acvrmse.loc[\"0B\", (\"Core\", \"Heating\")] = 0\n",
    "df_acvrmse.loc[\"0B\", (\"Perimeter\", \"Heating\")] = 0\n",
    "df_acvrmse.loc[\"1A\", (\"Core\", \"Heating\")] = 0\n",
    "df_acvrmse.loc[\"1A\", (\"Perimeter\", \"Heating\")] = 0\n",
    "# df_acvrmse.loc[\"1B\", (\"Core\", \"Heating\")] = 0\n",
    "# df_acvrmse.loc[\"1B\", (\"Perimeter\", \"Heating\")] = 0\n",
    "# df_acvrmse.loc[\"2A\", (\"Core\", \"Heating\")] = 0\n",
    "# df_acvrmse.loc[\"2A\", (\"Perimeter\", \"Heating\")] = 0\n",
    "# df_acvrmse.loc[\"2B\", (\"Core\", \"Heating\")] = 0\n",
    "# df_acvrmse.loc[\"2B\", (\"Perimeter\", \"Heating\")] = 0\n",
    "fig = px.bar(\n",
    "    df_acvrmse.melt(ignore_index=False, value_name=\"CVRMSE [%]\").reset_index(),\n",
    "    title=\"Shoebox Annual CVRMSE by Climate Zone and Thermal Zone\",\n",
    "    x=\"CZ\",\n",
    "    y=\"CVRMSE [%]\",\n",
    "    color=\"End Use\",\n",
    "    facet_row=\"Zone\",\n",
    "    barmode=\"group\",\n",
    "    color_discrete_map={\"Heating\": \"#E32f27\", \"Cooling\": \"#92C3DE\"},\n",
    "    labels={\"CZ\": \"Climate Zone\"},\n",
    "    height=800,\n",
    "    width=1200,\n",
    "    # log_y=True,\n",
    ")\n",
    "\n",
    "\n",
    "fig.update_layout(font_size=14)\n",
    "fig.update_xaxes(tickfont_size=16)\n",
    "fig.update_yaxes(tickfont_size=16)\n",
    "fig.update_xaxes(title_font_size=18)\n",
    "fig.update_yaxes(title_font_size=18)"
   ]
  },
  {
   "cell_type": "code",
   "execution_count": 33,
   "metadata": {},
   "outputs": [
    {
     "data": {
      "application/vnd.plotly.v1+json": {
       "config": {
        "plotlyServerURL": "https://plot.ly"
       },
       "data": [
        {
         "alignmentgroup": "True",
         "hovertemplate": "End Use=Cooling<br>Zone=Core<br>Climate Zone=%{x}<br>MAE [kWh/m2]=%{y}<extra></extra>",
         "legendgroup": "Cooling",
         "marker": {
          "color": "#92C3DE",
          "pattern": {
           "shape": ""
          }
         },
         "name": "Cooling",
         "offsetgroup": "Cooling",
         "orientation": "v",
         "showlegend": true,
         "textposition": "auto",
         "type": "bar",
         "x": [
          "0A",
          "0B",
          "1A",
          "1B",
          "2A",
          "2B",
          "3A",
          "3B",
          "3C",
          "4A",
          "4B",
          "4C",
          "5A",
          "5B",
          "5C",
          "6A",
          "6B",
          "7",
          "8"
         ],
         "xaxis": "x2",
         "y": [
          4.356637001037598,
          3.262256145477295,
          2.850562334060669,
          2.3885538578033447,
          2.4268596172332764,
          2.1615381240844727,
          1.9598749876022339,
          1.5875235795974731,
          1.5286449193954468,
          1.4957635402679443,
          1.4299029111862183,
          1.276405692100525,
          1.440050482749939,
          1.5041987895965576,
          1.2528808116912842,
          1.2303577661514282,
          1.5068116188049316,
          1.353307843208313,
          1.4067312479019165
         ],
         "yaxis": "y2"
        },
        {
         "alignmentgroup": "True",
         "hovertemplate": "End Use=Cooling<br>Zone=Perimeter<br>Climate Zone=%{x}<br>MAE [kWh/m2]=%{y}<extra></extra>",
         "legendgroup": "Cooling",
         "marker": {
          "color": "#92C3DE",
          "pattern": {
           "shape": ""
          }
         },
         "name": "Cooling",
         "offsetgroup": "Cooling",
         "orientation": "v",
         "showlegend": false,
         "textposition": "auto",
         "type": "bar",
         "x": [
          "0A",
          "0B",
          "1A",
          "1B",
          "2A",
          "2B",
          "3A",
          "3B",
          "3C",
          "4A",
          "4B",
          "4C",
          "5A",
          "5B",
          "5C",
          "6A",
          "6B",
          "7",
          "8"
         ],
         "xaxis": "x",
         "y": [
          6.409447193145752,
          5.031104564666748,
          4.564145088195801,
          3.5221681594848633,
          3.5930514335632324,
          3.6545190811157227,
          2.802990674972534,
          2.86956787109375,
          2.4399538040161133,
          2.195040464401245,
          2.109084129333496,
          2.0055577754974365,
          1.9886544942855835,
          2.419008493423462,
          1.8493332862854004,
          1.7467014789581299,
          2.1962661743164062,
          1.7191178798675537,
          1.6761130094528198
         ],
         "yaxis": "y"
        },
        {
         "alignmentgroup": "True",
         "hovertemplate": "End Use=Heating<br>Zone=Core<br>Climate Zone=%{x}<br>MAE [kWh/m2]=%{y}<extra></extra>",
         "legendgroup": "Heating",
         "marker": {
          "color": "#E32f27",
          "pattern": {
           "shape": ""
          }
         },
         "name": "Heating",
         "offsetgroup": "Heating",
         "orientation": "v",
         "showlegend": true,
         "textposition": "auto",
         "type": "bar",
         "x": [
          "0A",
          "0B",
          "1A",
          "1B",
          "2A",
          "2B",
          "3A",
          "3B",
          "3C",
          "4A",
          "4B",
          "4C",
          "5A",
          "5B",
          "5C",
          "6A",
          "6B",
          "7",
          "8"
         ],
         "xaxis": "x2",
         "y": [
          0.24338912963867188,
          0.3132392466068268,
          0.34069421887397766,
          0.3167952597141266,
          0.7336164116859436,
          0.42569196224212646,
          0.8670377731323242,
          0.9163016080856323,
          0.83625727891922,
          0.9512917399406433,
          0.9099839329719543,
          1.6359851360321045,
          1.4885121583938599,
          1.2488164901733398,
          0.9273582100868225,
          1.5355966091156006,
          1.4284864664077759,
          2.535754919052124,
          1.786211371421814
         ],
         "yaxis": "y2"
        },
        {
         "alignmentgroup": "True",
         "hovertemplate": "End Use=Heating<br>Zone=Perimeter<br>Climate Zone=%{x}<br>MAE [kWh/m2]=%{y}<extra></extra>",
         "legendgroup": "Heating",
         "marker": {
          "color": "#E32f27",
          "pattern": {
           "shape": ""
          }
         },
         "name": "Heating",
         "offsetgroup": "Heating",
         "orientation": "v",
         "showlegend": false,
         "textposition": "auto",
         "type": "bar",
         "x": [
          "0A",
          "0B",
          "1A",
          "1B",
          "2A",
          "2B",
          "3A",
          "3B",
          "3C",
          "4A",
          "4B",
          "4C",
          "5A",
          "5B",
          "5C",
          "6A",
          "6B",
          "7",
          "8"
         ],
         "xaxis": "x",
         "y": [
          0.24199554324150085,
          0.3484332263469696,
          0.4481780529022217,
          0.36042049527168274,
          1.0763410329818726,
          0.6253198981285095,
          1.4907323122024536,
          1.5114294290542603,
          1.3379155397415161,
          1.78183114528656,
          1.7893869876861572,
          2.618051290512085,
          2.706864356994629,
          2.256680965423584,
          1.8366934061050415,
          3.4408695697784424,
          2.8413825035095215,
          4.69829797744751,
          3.6171271800994873
         ],
         "yaxis": "y"
        }
       ],
       "layout": {
        "annotations": [
         {
          "font": {},
          "showarrow": false,
          "text": "Zone=Perimeter",
          "textangle": 90,
          "x": 0.98,
          "xanchor": "left",
          "xref": "paper",
          "y": 0.2425,
          "yanchor": "middle",
          "yref": "paper"
         },
         {
          "font": {},
          "showarrow": false,
          "text": "Zone=Core",
          "textangle": 90,
          "x": 0.98,
          "xanchor": "left",
          "xref": "paper",
          "y": 0.7575000000000001,
          "yanchor": "middle",
          "yref": "paper"
         }
        ],
        "barmode": "group",
        "font": {
         "size": 14
        },
        "height": 800,
        "legend": {
         "title": {
          "text": "End Use"
         },
         "tracegroupgap": 0
        },
        "template": {
         "data": {
          "bar": [
           {
            "error_x": {
             "color": "#2a3f5f"
            },
            "error_y": {
             "color": "#2a3f5f"
            },
            "marker": {
             "line": {
              "color": "#E5ECF6",
              "width": 0.5
             },
             "pattern": {
              "fillmode": "overlay",
              "size": 10,
              "solidity": 0.2
             }
            },
            "type": "bar"
           }
          ],
          "barpolar": [
           {
            "marker": {
             "line": {
              "color": "#E5ECF6",
              "width": 0.5
             },
             "pattern": {
              "fillmode": "overlay",
              "size": 10,
              "solidity": 0.2
             }
            },
            "type": "barpolar"
           }
          ],
          "carpet": [
           {
            "aaxis": {
             "endlinecolor": "#2a3f5f",
             "gridcolor": "white",
             "linecolor": "white",
             "minorgridcolor": "white",
             "startlinecolor": "#2a3f5f"
            },
            "baxis": {
             "endlinecolor": "#2a3f5f",
             "gridcolor": "white",
             "linecolor": "white",
             "minorgridcolor": "white",
             "startlinecolor": "#2a3f5f"
            },
            "type": "carpet"
           }
          ],
          "choropleth": [
           {
            "colorbar": {
             "outlinewidth": 0,
             "ticks": ""
            },
            "type": "choropleth"
           }
          ],
          "contour": [
           {
            "colorbar": {
             "outlinewidth": 0,
             "ticks": ""
            },
            "colorscale": [
             [
              0,
              "#0d0887"
             ],
             [
              0.1111111111111111,
              "#46039f"
             ],
             [
              0.2222222222222222,
              "#7201a8"
             ],
             [
              0.3333333333333333,
              "#9c179e"
             ],
             [
              0.4444444444444444,
              "#bd3786"
             ],
             [
              0.5555555555555556,
              "#d8576b"
             ],
             [
              0.6666666666666666,
              "#ed7953"
             ],
             [
              0.7777777777777778,
              "#fb9f3a"
             ],
             [
              0.8888888888888888,
              "#fdca26"
             ],
             [
              1,
              "#f0f921"
             ]
            ],
            "type": "contour"
           }
          ],
          "contourcarpet": [
           {
            "colorbar": {
             "outlinewidth": 0,
             "ticks": ""
            },
            "type": "contourcarpet"
           }
          ],
          "heatmap": [
           {
            "colorbar": {
             "outlinewidth": 0,
             "ticks": ""
            },
            "colorscale": [
             [
              0,
              "#0d0887"
             ],
             [
              0.1111111111111111,
              "#46039f"
             ],
             [
              0.2222222222222222,
              "#7201a8"
             ],
             [
              0.3333333333333333,
              "#9c179e"
             ],
             [
              0.4444444444444444,
              "#bd3786"
             ],
             [
              0.5555555555555556,
              "#d8576b"
             ],
             [
              0.6666666666666666,
              "#ed7953"
             ],
             [
              0.7777777777777778,
              "#fb9f3a"
             ],
             [
              0.8888888888888888,
              "#fdca26"
             ],
             [
              1,
              "#f0f921"
             ]
            ],
            "type": "heatmap"
           }
          ],
          "heatmapgl": [
           {
            "colorbar": {
             "outlinewidth": 0,
             "ticks": ""
            },
            "colorscale": [
             [
              0,
              "#0d0887"
             ],
             [
              0.1111111111111111,
              "#46039f"
             ],
             [
              0.2222222222222222,
              "#7201a8"
             ],
             [
              0.3333333333333333,
              "#9c179e"
             ],
             [
              0.4444444444444444,
              "#bd3786"
             ],
             [
              0.5555555555555556,
              "#d8576b"
             ],
             [
              0.6666666666666666,
              "#ed7953"
             ],
             [
              0.7777777777777778,
              "#fb9f3a"
             ],
             [
              0.8888888888888888,
              "#fdca26"
             ],
             [
              1,
              "#f0f921"
             ]
            ],
            "type": "heatmapgl"
           }
          ],
          "histogram": [
           {
            "marker": {
             "pattern": {
              "fillmode": "overlay",
              "size": 10,
              "solidity": 0.2
             }
            },
            "type": "histogram"
           }
          ],
          "histogram2d": [
           {
            "colorbar": {
             "outlinewidth": 0,
             "ticks": ""
            },
            "colorscale": [
             [
              0,
              "#0d0887"
             ],
             [
              0.1111111111111111,
              "#46039f"
             ],
             [
              0.2222222222222222,
              "#7201a8"
             ],
             [
              0.3333333333333333,
              "#9c179e"
             ],
             [
              0.4444444444444444,
              "#bd3786"
             ],
             [
              0.5555555555555556,
              "#d8576b"
             ],
             [
              0.6666666666666666,
              "#ed7953"
             ],
             [
              0.7777777777777778,
              "#fb9f3a"
             ],
             [
              0.8888888888888888,
              "#fdca26"
             ],
             [
              1,
              "#f0f921"
             ]
            ],
            "type": "histogram2d"
           }
          ],
          "histogram2dcontour": [
           {
            "colorbar": {
             "outlinewidth": 0,
             "ticks": ""
            },
            "colorscale": [
             [
              0,
              "#0d0887"
             ],
             [
              0.1111111111111111,
              "#46039f"
             ],
             [
              0.2222222222222222,
              "#7201a8"
             ],
             [
              0.3333333333333333,
              "#9c179e"
             ],
             [
              0.4444444444444444,
              "#bd3786"
             ],
             [
              0.5555555555555556,
              "#d8576b"
             ],
             [
              0.6666666666666666,
              "#ed7953"
             ],
             [
              0.7777777777777778,
              "#fb9f3a"
             ],
             [
              0.8888888888888888,
              "#fdca26"
             ],
             [
              1,
              "#f0f921"
             ]
            ],
            "type": "histogram2dcontour"
           }
          ],
          "mesh3d": [
           {
            "colorbar": {
             "outlinewidth": 0,
             "ticks": ""
            },
            "type": "mesh3d"
           }
          ],
          "parcoords": [
           {
            "line": {
             "colorbar": {
              "outlinewidth": 0,
              "ticks": ""
             }
            },
            "type": "parcoords"
           }
          ],
          "pie": [
           {
            "automargin": true,
            "type": "pie"
           }
          ],
          "scatter": [
           {
            "fillpattern": {
             "fillmode": "overlay",
             "size": 10,
             "solidity": 0.2
            },
            "type": "scatter"
           }
          ],
          "scatter3d": [
           {
            "line": {
             "colorbar": {
              "outlinewidth": 0,
              "ticks": ""
             }
            },
            "marker": {
             "colorbar": {
              "outlinewidth": 0,
              "ticks": ""
             }
            },
            "type": "scatter3d"
           }
          ],
          "scattercarpet": [
           {
            "marker": {
             "colorbar": {
              "outlinewidth": 0,
              "ticks": ""
             }
            },
            "type": "scattercarpet"
           }
          ],
          "scattergeo": [
           {
            "marker": {
             "colorbar": {
              "outlinewidth": 0,
              "ticks": ""
             }
            },
            "type": "scattergeo"
           }
          ],
          "scattergl": [
           {
            "marker": {
             "colorbar": {
              "outlinewidth": 0,
              "ticks": ""
             }
            },
            "type": "scattergl"
           }
          ],
          "scattermapbox": [
           {
            "marker": {
             "colorbar": {
              "outlinewidth": 0,
              "ticks": ""
             }
            },
            "type": "scattermapbox"
           }
          ],
          "scatterpolar": [
           {
            "marker": {
             "colorbar": {
              "outlinewidth": 0,
              "ticks": ""
             }
            },
            "type": "scatterpolar"
           }
          ],
          "scatterpolargl": [
           {
            "marker": {
             "colorbar": {
              "outlinewidth": 0,
              "ticks": ""
             }
            },
            "type": "scatterpolargl"
           }
          ],
          "scatterternary": [
           {
            "marker": {
             "colorbar": {
              "outlinewidth": 0,
              "ticks": ""
             }
            },
            "type": "scatterternary"
           }
          ],
          "surface": [
           {
            "colorbar": {
             "outlinewidth": 0,
             "ticks": ""
            },
            "colorscale": [
             [
              0,
              "#0d0887"
             ],
             [
              0.1111111111111111,
              "#46039f"
             ],
             [
              0.2222222222222222,
              "#7201a8"
             ],
             [
              0.3333333333333333,
              "#9c179e"
             ],
             [
              0.4444444444444444,
              "#bd3786"
             ],
             [
              0.5555555555555556,
              "#d8576b"
             ],
             [
              0.6666666666666666,
              "#ed7953"
             ],
             [
              0.7777777777777778,
              "#fb9f3a"
             ],
             [
              0.8888888888888888,
              "#fdca26"
             ],
             [
              1,
              "#f0f921"
             ]
            ],
            "type": "surface"
           }
          ],
          "table": [
           {
            "cells": {
             "fill": {
              "color": "#EBF0F8"
             },
             "line": {
              "color": "white"
             }
            },
            "header": {
             "fill": {
              "color": "#C8D4E3"
             },
             "line": {
              "color": "white"
             }
            },
            "type": "table"
           }
          ]
         },
         "layout": {
          "annotationdefaults": {
           "arrowcolor": "#2a3f5f",
           "arrowhead": 0,
           "arrowwidth": 1
          },
          "autotypenumbers": "strict",
          "coloraxis": {
           "colorbar": {
            "outlinewidth": 0,
            "ticks": ""
           }
          },
          "colorscale": {
           "diverging": [
            [
             0,
             "#8e0152"
            ],
            [
             0.1,
             "#c51b7d"
            ],
            [
             0.2,
             "#de77ae"
            ],
            [
             0.3,
             "#f1b6da"
            ],
            [
             0.4,
             "#fde0ef"
            ],
            [
             0.5,
             "#f7f7f7"
            ],
            [
             0.6,
             "#e6f5d0"
            ],
            [
             0.7,
             "#b8e186"
            ],
            [
             0.8,
             "#7fbc41"
            ],
            [
             0.9,
             "#4d9221"
            ],
            [
             1,
             "#276419"
            ]
           ],
           "sequential": [
            [
             0,
             "#0d0887"
            ],
            [
             0.1111111111111111,
             "#46039f"
            ],
            [
             0.2222222222222222,
             "#7201a8"
            ],
            [
             0.3333333333333333,
             "#9c179e"
            ],
            [
             0.4444444444444444,
             "#bd3786"
            ],
            [
             0.5555555555555556,
             "#d8576b"
            ],
            [
             0.6666666666666666,
             "#ed7953"
            ],
            [
             0.7777777777777778,
             "#fb9f3a"
            ],
            [
             0.8888888888888888,
             "#fdca26"
            ],
            [
             1,
             "#f0f921"
            ]
           ],
           "sequentialminus": [
            [
             0,
             "#0d0887"
            ],
            [
             0.1111111111111111,
             "#46039f"
            ],
            [
             0.2222222222222222,
             "#7201a8"
            ],
            [
             0.3333333333333333,
             "#9c179e"
            ],
            [
             0.4444444444444444,
             "#bd3786"
            ],
            [
             0.5555555555555556,
             "#d8576b"
            ],
            [
             0.6666666666666666,
             "#ed7953"
            ],
            [
             0.7777777777777778,
             "#fb9f3a"
            ],
            [
             0.8888888888888888,
             "#fdca26"
            ],
            [
             1,
             "#f0f921"
            ]
           ]
          },
          "colorway": [
           "#636efa",
           "#EF553B",
           "#00cc96",
           "#ab63fa",
           "#FFA15A",
           "#19d3f3",
           "#FF6692",
           "#B6E880",
           "#FF97FF",
           "#FECB52"
          ],
          "font": {
           "color": "#2a3f5f"
          },
          "geo": {
           "bgcolor": "white",
           "lakecolor": "white",
           "landcolor": "#E5ECF6",
           "showlakes": true,
           "showland": true,
           "subunitcolor": "white"
          },
          "hoverlabel": {
           "align": "left"
          },
          "hovermode": "closest",
          "mapbox": {
           "style": "light"
          },
          "paper_bgcolor": "white",
          "plot_bgcolor": "#E5ECF6",
          "polar": {
           "angularaxis": {
            "gridcolor": "white",
            "linecolor": "white",
            "ticks": ""
           },
           "bgcolor": "#E5ECF6",
           "radialaxis": {
            "gridcolor": "white",
            "linecolor": "white",
            "ticks": ""
           }
          },
          "scene": {
           "xaxis": {
            "backgroundcolor": "#E5ECF6",
            "gridcolor": "white",
            "gridwidth": 2,
            "linecolor": "white",
            "showbackground": true,
            "ticks": "",
            "zerolinecolor": "white"
           },
           "yaxis": {
            "backgroundcolor": "#E5ECF6",
            "gridcolor": "white",
            "gridwidth": 2,
            "linecolor": "white",
            "showbackground": true,
            "ticks": "",
            "zerolinecolor": "white"
           },
           "zaxis": {
            "backgroundcolor": "#E5ECF6",
            "gridcolor": "white",
            "gridwidth": 2,
            "linecolor": "white",
            "showbackground": true,
            "ticks": "",
            "zerolinecolor": "white"
           }
          },
          "shapedefaults": {
           "line": {
            "color": "#2a3f5f"
           }
          },
          "ternary": {
           "aaxis": {
            "gridcolor": "white",
            "linecolor": "white",
            "ticks": ""
           },
           "baxis": {
            "gridcolor": "white",
            "linecolor": "white",
            "ticks": ""
           },
           "bgcolor": "#E5ECF6",
           "caxis": {
            "gridcolor": "white",
            "linecolor": "white",
            "ticks": ""
           }
          },
          "title": {
           "x": 0.05
          },
          "xaxis": {
           "automargin": true,
           "gridcolor": "white",
           "linecolor": "white",
           "ticks": "",
           "title": {
            "standoff": 15
           },
           "zerolinecolor": "white",
           "zerolinewidth": 2
          },
          "yaxis": {
           "automargin": true,
           "gridcolor": "white",
           "linecolor": "white",
           "ticks": "",
           "title": {
            "standoff": 15
           },
           "zerolinecolor": "white",
           "zerolinewidth": 2
          }
         }
        },
        "title": {
         "text": "Shoebox Annual MAE by Climate Zone and Thermal Zone"
        },
        "width": 1200,
        "xaxis": {
         "anchor": "y",
         "domain": [
          0,
          0.98
         ],
         "tickfont": {
          "size": 16
         },
         "title": {
          "font": {
           "size": 18
          },
          "text": "Climate Zone"
         }
        },
        "xaxis2": {
         "anchor": "y2",
         "domain": [
          0,
          0.98
         ],
         "matches": "x",
         "showticklabels": false,
         "tickfont": {
          "size": 16
         },
         "title": {
          "font": {
           "size": 18
          }
         }
        },
        "yaxis": {
         "anchor": "x",
         "domain": [
          0,
          0.485
         ],
         "tickfont": {
          "size": 16
         },
         "title": {
          "font": {
           "size": 18
          },
          "text": "MAE [kWh/m2]"
         }
        },
        "yaxis2": {
         "anchor": "x2",
         "domain": [
          0.515,
          1
         ],
         "matches": "y",
         "tickfont": {
          "size": 16
         },
         "title": {
          "font": {
           "size": 18
          },
          "text": "MAE [kWh/m2]"
         }
        }
       }
      }
     },
     "metadata": {},
     "output_type": "display_data"
    }
   ],
   "source": [
    "df_amae = pd.read_hdf(\"unseen-shoebox-results.hdf\", \"annual_mae_by_cz_and_zone\")\n",
    "df_amae.columns.names = [\"Zone\", \"End Use\"]\n",
    "# df_amae.loc[\"0A\", (\"Core\", \"Heating\")] = 0\n",
    "# df_amae.loc[\"0A\", (\"Perimeter\", \"Heating\")] = 0\n",
    "# df_amae.loc[\"0B\", (\"Core\", \"Heating\")] = 0\n",
    "# df_amae.loc[\"0B\", (\"Perimeter\", \"Heating\")] = 0\n",
    "# df_amae.loc[\"1A\", (\"Core\", \"Heating\")] = 0\n",
    "# df_amae.loc[\"1A\", (\"Perimeter\", \"Heating\")] = 0\n",
    "# df_amae.loc[\"1B\", (\"Core\", \"Heating\")] = 0\n",
    "# df_amae.loc[\"1B\", (\"Perimeter\", \"Heating\")] = 0\n",
    "# df_amae.loc[\"2A\", (\"Core\", \"Heating\")] = 0\n",
    "# df_amae.loc[\"2A\", (\"Perimeter\", \"Heating\")] = 0\n",
    "# df_amae.loc[\"2B\", (\"Core\", \"Heating\")] = 0\n",
    "# df_amae.loc[\"2B\", (\"Perimeter\", \"Heating\")] = 0\n",
    "fig = px.bar(\n",
    "    df_amae.melt(ignore_index=False, value_name=\"MAE [kWh/m2]\").reset_index(),\n",
    "    title=\"Shoebox Annual MAE by Climate Zone and Thermal Zone\",\n",
    "    x=\"CZ\",\n",
    "    y=\"MAE [kWh/m2]\",\n",
    "    color=\"End Use\",\n",
    "    facet_row=\"Zone\",\n",
    "    barmode=\"group\",\n",
    "    color_discrete_map={\"Heating\": \"#E32f27\", \"Cooling\": \"#92C3DE\"},\n",
    "    labels={\"CZ\": \"Climate Zone\"},\n",
    "    height=800,\n",
    "    width=1200,\n",
    "    # log_y=True,\n",
    ")\n",
    "\n",
    "\n",
    "fig.update_layout(font_size=14)\n",
    "fig.update_xaxes(tickfont_size=16)\n",
    "fig.update_yaxes(tickfont_size=16)\n",
    "fig.update_xaxes(title_font_size=18)\n",
    "fig.update_yaxes(title_font_size=18)"
   ]
  },
  {
   "cell_type": "code",
   "execution_count": 39,
   "metadata": {},
   "outputs": [
    {
     "data": {
      "application/vnd.plotly.v1+json": {
       "config": {
        "plotlyServerURL": "https://plot.ly"
       },
       "data": [
        {
         "alignmentgroup": "True",
         "hovertemplate": "End Use=Cooling<br>Zone=Core<br>Climate Zone=%{x}<br>nMBE [%]=%{y}<extra></extra>",
         "legendgroup": "Cooling",
         "marker": {
          "color": "#92C3DE",
          "pattern": {
           "shape": ""
          }
         },
         "name": "Cooling",
         "offsetgroup": "Cooling",
         "orientation": "v",
         "showlegend": true,
         "textposition": "auto",
         "type": "bar",
         "x": [
          "0A",
          "0B",
          "1A",
          "1B",
          "2A",
          "2B",
          "3A",
          "3B",
          "3C",
          "4A",
          "4B",
          "4C",
          "5A",
          "5B",
          "5C",
          "6A",
          "6B",
          "7",
          "8"
         ],
         "xaxis": "x2",
         "y": [
          -0.4863101840019226,
          -1.0724138021469116,
          -1.4193731546401978,
          -0.6821625828742981,
          -0.7971200346946716,
          -1.245144009590149,
          -1.5957063436508179,
          -1.4319247007369995,
          -2.1434824466705322,
          -1.1721422672271729,
          -1.3556984663009644,
          -1.8709533214569092,
          -2.3729522228240967,
          -1.8991144895553589,
          -1.694504976272583,
          -1.86253821849823,
          -2.63529372215271,
          -2.461843490600586,
          -2.402500629425049
         ],
         "yaxis": "y2"
        },
        {
         "alignmentgroup": "True",
         "hovertemplate": "End Use=Cooling<br>Zone=Perimeter<br>Climate Zone=%{x}<br>nMBE [%]=%{y}<extra></extra>",
         "legendgroup": "Cooling",
         "marker": {
          "color": "#92C3DE",
          "pattern": {
           "shape": ""
          }
         },
         "name": "Cooling",
         "offsetgroup": "Cooling",
         "orientation": "v",
         "showlegend": false,
         "textposition": "auto",
         "type": "bar",
         "x": [
          "0A",
          "0B",
          "1A",
          "1B",
          "2A",
          "2B",
          "3A",
          "3B",
          "3C",
          "4A",
          "4B",
          "4C",
          "5A",
          "5B",
          "5C",
          "6A",
          "6B",
          "7",
          "8"
         ],
         "xaxis": "x",
         "y": [
          0.10767121613025665,
          -0.2337917685508728,
          -0.7747178673744202,
          0.055025603622198105,
          0.11170314252376556,
          -0.5034591555595398,
          -0.5946674942970276,
          -0.551593005657196,
          -1.4491381645202637,
          -0.31281778216362,
          -0.42555713653564453,
          -1.4435571432113647,
          -1.4736106395721436,
          -1.079567313194275,
          -0.762466549873352,
          -1.3311434984207153,
          -1.9430263042449951,
          -2.020923137664795,
          -2.014500856399536
         ],
         "yaxis": "y"
        },
        {
         "alignmentgroup": "True",
         "hovertemplate": "End Use=Heating<br>Zone=Core<br>Climate Zone=%{x}<br>nMBE [%]=%{y}<extra></extra>",
         "legendgroup": "Heating",
         "marker": {
          "color": "#E32f27",
          "pattern": {
           "shape": ""
          }
         },
         "name": "Heating",
         "offsetgroup": "Heating",
         "orientation": "v",
         "showlegend": true,
         "textposition": "auto",
         "type": "bar",
         "x": [
          "0A",
          "0B",
          "1A",
          "1B",
          "2A",
          "2B",
          "3A",
          "3B",
          "3C",
          "4A",
          "4B",
          "4C",
          "5A",
          "5B",
          "5C",
          "6A",
          "6B",
          "7",
          "8"
         ],
         "xaxis": "x2",
         "y": [
          0,
          0,
          0,
          0,
          0,
          0,
          -0.7924852967262268,
          -4.212967395782471,
          -3.283158779144287,
          -1.959437370300293,
          -1.5897067785263062,
          -2.814011573791504,
          -0.32307127118110657,
          0.16171051561832428,
          -1.401233434677124,
          -1.8554469347000122,
          0.9836117625236511,
          1.5571646690368652,
          0.2467842698097229
         ],
         "yaxis": "y2"
        },
        {
         "alignmentgroup": "True",
         "hovertemplate": "End Use=Heating<br>Zone=Perimeter<br>Climate Zone=%{x}<br>nMBE [%]=%{y}<extra></extra>",
         "legendgroup": "Heating",
         "marker": {
          "color": "#E32f27",
          "pattern": {
           "shape": ""
          }
         },
         "name": "Heating",
         "offsetgroup": "Heating",
         "orientation": "v",
         "showlegend": false,
         "textposition": "auto",
         "type": "bar",
         "x": [
          "0A",
          "0B",
          "1A",
          "1B",
          "2A",
          "2B",
          "3A",
          "3B",
          "3C",
          "4A",
          "4B",
          "4C",
          "5A",
          "5B",
          "5C",
          "6A",
          "6B",
          "7",
          "8"
         ],
         "xaxis": "x",
         "y": [
          0,
          0,
          0,
          0,
          0,
          0,
          -0.20165351033210754,
          -3.6868386268615723,
          -2.3969225883483887,
          -1.8556883335113525,
          -1.6919265985488892,
          -2.0594568252563477,
          -0.6968590617179871,
          -0.10410311818122864,
          -1.3999005556106567,
          -2.0643465518951416,
          0.4482741355895996,
          0.24474871158599854,
          -0.4966573715209961
         ],
         "yaxis": "y"
        }
       ],
       "layout": {
        "annotations": [
         {
          "font": {},
          "showarrow": false,
          "text": "Zone=Perimeter",
          "textangle": 90,
          "x": 0.98,
          "xanchor": "left",
          "xref": "paper",
          "y": 0.2425,
          "yanchor": "middle",
          "yref": "paper"
         },
         {
          "font": {},
          "showarrow": false,
          "text": "Zone=Core",
          "textangle": 90,
          "x": 0.98,
          "xanchor": "left",
          "xref": "paper",
          "y": 0.7575000000000001,
          "yanchor": "middle",
          "yref": "paper"
         }
        ],
        "barmode": "group",
        "font": {
         "size": 14
        },
        "height": 800,
        "legend": {
         "title": {
          "text": "End Use"
         },
         "tracegroupgap": 0
        },
        "template": {
         "data": {
          "bar": [
           {
            "error_x": {
             "color": "#2a3f5f"
            },
            "error_y": {
             "color": "#2a3f5f"
            },
            "marker": {
             "line": {
              "color": "#E5ECF6",
              "width": 0.5
             },
             "pattern": {
              "fillmode": "overlay",
              "size": 10,
              "solidity": 0.2
             }
            },
            "type": "bar"
           }
          ],
          "barpolar": [
           {
            "marker": {
             "line": {
              "color": "#E5ECF6",
              "width": 0.5
             },
             "pattern": {
              "fillmode": "overlay",
              "size": 10,
              "solidity": 0.2
             }
            },
            "type": "barpolar"
           }
          ],
          "carpet": [
           {
            "aaxis": {
             "endlinecolor": "#2a3f5f",
             "gridcolor": "white",
             "linecolor": "white",
             "minorgridcolor": "white",
             "startlinecolor": "#2a3f5f"
            },
            "baxis": {
             "endlinecolor": "#2a3f5f",
             "gridcolor": "white",
             "linecolor": "white",
             "minorgridcolor": "white",
             "startlinecolor": "#2a3f5f"
            },
            "type": "carpet"
           }
          ],
          "choropleth": [
           {
            "colorbar": {
             "outlinewidth": 0,
             "ticks": ""
            },
            "type": "choropleth"
           }
          ],
          "contour": [
           {
            "colorbar": {
             "outlinewidth": 0,
             "ticks": ""
            },
            "colorscale": [
             [
              0,
              "#0d0887"
             ],
             [
              0.1111111111111111,
              "#46039f"
             ],
             [
              0.2222222222222222,
              "#7201a8"
             ],
             [
              0.3333333333333333,
              "#9c179e"
             ],
             [
              0.4444444444444444,
              "#bd3786"
             ],
             [
              0.5555555555555556,
              "#d8576b"
             ],
             [
              0.6666666666666666,
              "#ed7953"
             ],
             [
              0.7777777777777778,
              "#fb9f3a"
             ],
             [
              0.8888888888888888,
              "#fdca26"
             ],
             [
              1,
              "#f0f921"
             ]
            ],
            "type": "contour"
           }
          ],
          "contourcarpet": [
           {
            "colorbar": {
             "outlinewidth": 0,
             "ticks": ""
            },
            "type": "contourcarpet"
           }
          ],
          "heatmap": [
           {
            "colorbar": {
             "outlinewidth": 0,
             "ticks": ""
            },
            "colorscale": [
             [
              0,
              "#0d0887"
             ],
             [
              0.1111111111111111,
              "#46039f"
             ],
             [
              0.2222222222222222,
              "#7201a8"
             ],
             [
              0.3333333333333333,
              "#9c179e"
             ],
             [
              0.4444444444444444,
              "#bd3786"
             ],
             [
              0.5555555555555556,
              "#d8576b"
             ],
             [
              0.6666666666666666,
              "#ed7953"
             ],
             [
              0.7777777777777778,
              "#fb9f3a"
             ],
             [
              0.8888888888888888,
              "#fdca26"
             ],
             [
              1,
              "#f0f921"
             ]
            ],
            "type": "heatmap"
           }
          ],
          "heatmapgl": [
           {
            "colorbar": {
             "outlinewidth": 0,
             "ticks": ""
            },
            "colorscale": [
             [
              0,
              "#0d0887"
             ],
             [
              0.1111111111111111,
              "#46039f"
             ],
             [
              0.2222222222222222,
              "#7201a8"
             ],
             [
              0.3333333333333333,
              "#9c179e"
             ],
             [
              0.4444444444444444,
              "#bd3786"
             ],
             [
              0.5555555555555556,
              "#d8576b"
             ],
             [
              0.6666666666666666,
              "#ed7953"
             ],
             [
              0.7777777777777778,
              "#fb9f3a"
             ],
             [
              0.8888888888888888,
              "#fdca26"
             ],
             [
              1,
              "#f0f921"
             ]
            ],
            "type": "heatmapgl"
           }
          ],
          "histogram": [
           {
            "marker": {
             "pattern": {
              "fillmode": "overlay",
              "size": 10,
              "solidity": 0.2
             }
            },
            "type": "histogram"
           }
          ],
          "histogram2d": [
           {
            "colorbar": {
             "outlinewidth": 0,
             "ticks": ""
            },
            "colorscale": [
             [
              0,
              "#0d0887"
             ],
             [
              0.1111111111111111,
              "#46039f"
             ],
             [
              0.2222222222222222,
              "#7201a8"
             ],
             [
              0.3333333333333333,
              "#9c179e"
             ],
             [
              0.4444444444444444,
              "#bd3786"
             ],
             [
              0.5555555555555556,
              "#d8576b"
             ],
             [
              0.6666666666666666,
              "#ed7953"
             ],
             [
              0.7777777777777778,
              "#fb9f3a"
             ],
             [
              0.8888888888888888,
              "#fdca26"
             ],
             [
              1,
              "#f0f921"
             ]
            ],
            "type": "histogram2d"
           }
          ],
          "histogram2dcontour": [
           {
            "colorbar": {
             "outlinewidth": 0,
             "ticks": ""
            },
            "colorscale": [
             [
              0,
              "#0d0887"
             ],
             [
              0.1111111111111111,
              "#46039f"
             ],
             [
              0.2222222222222222,
              "#7201a8"
             ],
             [
              0.3333333333333333,
              "#9c179e"
             ],
             [
              0.4444444444444444,
              "#bd3786"
             ],
             [
              0.5555555555555556,
              "#d8576b"
             ],
             [
              0.6666666666666666,
              "#ed7953"
             ],
             [
              0.7777777777777778,
              "#fb9f3a"
             ],
             [
              0.8888888888888888,
              "#fdca26"
             ],
             [
              1,
              "#f0f921"
             ]
            ],
            "type": "histogram2dcontour"
           }
          ],
          "mesh3d": [
           {
            "colorbar": {
             "outlinewidth": 0,
             "ticks": ""
            },
            "type": "mesh3d"
           }
          ],
          "parcoords": [
           {
            "line": {
             "colorbar": {
              "outlinewidth": 0,
              "ticks": ""
             }
            },
            "type": "parcoords"
           }
          ],
          "pie": [
           {
            "automargin": true,
            "type": "pie"
           }
          ],
          "scatter": [
           {
            "fillpattern": {
             "fillmode": "overlay",
             "size": 10,
             "solidity": 0.2
            },
            "type": "scatter"
           }
          ],
          "scatter3d": [
           {
            "line": {
             "colorbar": {
              "outlinewidth": 0,
              "ticks": ""
             }
            },
            "marker": {
             "colorbar": {
              "outlinewidth": 0,
              "ticks": ""
             }
            },
            "type": "scatter3d"
           }
          ],
          "scattercarpet": [
           {
            "marker": {
             "colorbar": {
              "outlinewidth": 0,
              "ticks": ""
             }
            },
            "type": "scattercarpet"
           }
          ],
          "scattergeo": [
           {
            "marker": {
             "colorbar": {
              "outlinewidth": 0,
              "ticks": ""
             }
            },
            "type": "scattergeo"
           }
          ],
          "scattergl": [
           {
            "marker": {
             "colorbar": {
              "outlinewidth": 0,
              "ticks": ""
             }
            },
            "type": "scattergl"
           }
          ],
          "scattermapbox": [
           {
            "marker": {
             "colorbar": {
              "outlinewidth": 0,
              "ticks": ""
             }
            },
            "type": "scattermapbox"
           }
          ],
          "scatterpolar": [
           {
            "marker": {
             "colorbar": {
              "outlinewidth": 0,
              "ticks": ""
             }
            },
            "type": "scatterpolar"
           }
          ],
          "scatterpolargl": [
           {
            "marker": {
             "colorbar": {
              "outlinewidth": 0,
              "ticks": ""
             }
            },
            "type": "scatterpolargl"
           }
          ],
          "scatterternary": [
           {
            "marker": {
             "colorbar": {
              "outlinewidth": 0,
              "ticks": ""
             }
            },
            "type": "scatterternary"
           }
          ],
          "surface": [
           {
            "colorbar": {
             "outlinewidth": 0,
             "ticks": ""
            },
            "colorscale": [
             [
              0,
              "#0d0887"
             ],
             [
              0.1111111111111111,
              "#46039f"
             ],
             [
              0.2222222222222222,
              "#7201a8"
             ],
             [
              0.3333333333333333,
              "#9c179e"
             ],
             [
              0.4444444444444444,
              "#bd3786"
             ],
             [
              0.5555555555555556,
              "#d8576b"
             ],
             [
              0.6666666666666666,
              "#ed7953"
             ],
             [
              0.7777777777777778,
              "#fb9f3a"
             ],
             [
              0.8888888888888888,
              "#fdca26"
             ],
             [
              1,
              "#f0f921"
             ]
            ],
            "type": "surface"
           }
          ],
          "table": [
           {
            "cells": {
             "fill": {
              "color": "#EBF0F8"
             },
             "line": {
              "color": "white"
             }
            },
            "header": {
             "fill": {
              "color": "#C8D4E3"
             },
             "line": {
              "color": "white"
             }
            },
            "type": "table"
           }
          ]
         },
         "layout": {
          "annotationdefaults": {
           "arrowcolor": "#2a3f5f",
           "arrowhead": 0,
           "arrowwidth": 1
          },
          "autotypenumbers": "strict",
          "coloraxis": {
           "colorbar": {
            "outlinewidth": 0,
            "ticks": ""
           }
          },
          "colorscale": {
           "diverging": [
            [
             0,
             "#8e0152"
            ],
            [
             0.1,
             "#c51b7d"
            ],
            [
             0.2,
             "#de77ae"
            ],
            [
             0.3,
             "#f1b6da"
            ],
            [
             0.4,
             "#fde0ef"
            ],
            [
             0.5,
             "#f7f7f7"
            ],
            [
             0.6,
             "#e6f5d0"
            ],
            [
             0.7,
             "#b8e186"
            ],
            [
             0.8,
             "#7fbc41"
            ],
            [
             0.9,
             "#4d9221"
            ],
            [
             1,
             "#276419"
            ]
           ],
           "sequential": [
            [
             0,
             "#0d0887"
            ],
            [
             0.1111111111111111,
             "#46039f"
            ],
            [
             0.2222222222222222,
             "#7201a8"
            ],
            [
             0.3333333333333333,
             "#9c179e"
            ],
            [
             0.4444444444444444,
             "#bd3786"
            ],
            [
             0.5555555555555556,
             "#d8576b"
            ],
            [
             0.6666666666666666,
             "#ed7953"
            ],
            [
             0.7777777777777778,
             "#fb9f3a"
            ],
            [
             0.8888888888888888,
             "#fdca26"
            ],
            [
             1,
             "#f0f921"
            ]
           ],
           "sequentialminus": [
            [
             0,
             "#0d0887"
            ],
            [
             0.1111111111111111,
             "#46039f"
            ],
            [
             0.2222222222222222,
             "#7201a8"
            ],
            [
             0.3333333333333333,
             "#9c179e"
            ],
            [
             0.4444444444444444,
             "#bd3786"
            ],
            [
             0.5555555555555556,
             "#d8576b"
            ],
            [
             0.6666666666666666,
             "#ed7953"
            ],
            [
             0.7777777777777778,
             "#fb9f3a"
            ],
            [
             0.8888888888888888,
             "#fdca26"
            ],
            [
             1,
             "#f0f921"
            ]
           ]
          },
          "colorway": [
           "#636efa",
           "#EF553B",
           "#00cc96",
           "#ab63fa",
           "#FFA15A",
           "#19d3f3",
           "#FF6692",
           "#B6E880",
           "#FF97FF",
           "#FECB52"
          ],
          "font": {
           "color": "#2a3f5f"
          },
          "geo": {
           "bgcolor": "white",
           "lakecolor": "white",
           "landcolor": "#E5ECF6",
           "showlakes": true,
           "showland": true,
           "subunitcolor": "white"
          },
          "hoverlabel": {
           "align": "left"
          },
          "hovermode": "closest",
          "mapbox": {
           "style": "light"
          },
          "paper_bgcolor": "white",
          "plot_bgcolor": "#E5ECF6",
          "polar": {
           "angularaxis": {
            "gridcolor": "white",
            "linecolor": "white",
            "ticks": ""
           },
           "bgcolor": "#E5ECF6",
           "radialaxis": {
            "gridcolor": "white",
            "linecolor": "white",
            "ticks": ""
           }
          },
          "scene": {
           "xaxis": {
            "backgroundcolor": "#E5ECF6",
            "gridcolor": "white",
            "gridwidth": 2,
            "linecolor": "white",
            "showbackground": true,
            "ticks": "",
            "zerolinecolor": "white"
           },
           "yaxis": {
            "backgroundcolor": "#E5ECF6",
            "gridcolor": "white",
            "gridwidth": 2,
            "linecolor": "white",
            "showbackground": true,
            "ticks": "",
            "zerolinecolor": "white"
           },
           "zaxis": {
            "backgroundcolor": "#E5ECF6",
            "gridcolor": "white",
            "gridwidth": 2,
            "linecolor": "white",
            "showbackground": true,
            "ticks": "",
            "zerolinecolor": "white"
           }
          },
          "shapedefaults": {
           "line": {
            "color": "#2a3f5f"
           }
          },
          "ternary": {
           "aaxis": {
            "gridcolor": "white",
            "linecolor": "white",
            "ticks": ""
           },
           "baxis": {
            "gridcolor": "white",
            "linecolor": "white",
            "ticks": ""
           },
           "bgcolor": "#E5ECF6",
           "caxis": {
            "gridcolor": "white",
            "linecolor": "white",
            "ticks": ""
           }
          },
          "title": {
           "x": 0.05
          },
          "xaxis": {
           "automargin": true,
           "gridcolor": "white",
           "linecolor": "white",
           "ticks": "",
           "title": {
            "standoff": 15
           },
           "zerolinecolor": "white",
           "zerolinewidth": 2
          },
          "yaxis": {
           "automargin": true,
           "gridcolor": "white",
           "linecolor": "white",
           "ticks": "",
           "title": {
            "standoff": 15
           },
           "zerolinecolor": "white",
           "zerolinewidth": 2
          }
         }
        },
        "title": {
         "text": "Shoebox Annual nMBE by Climate Zone and Thermal Zone"
        },
        "width": 1200,
        "xaxis": {
         "anchor": "y",
         "domain": [
          0,
          0.98
         ],
         "tickfont": {
          "size": 16
         },
         "title": {
          "font": {
           "size": 18
          },
          "text": "Climate Zone"
         }
        },
        "xaxis2": {
         "anchor": "y2",
         "domain": [
          0,
          0.98
         ],
         "matches": "x",
         "showticklabels": false,
         "tickfont": {
          "size": 16
         },
         "title": {
          "font": {
           "size": 18
          }
         }
        },
        "yaxis": {
         "anchor": "x",
         "domain": [
          0,
          0.485
         ],
         "tickfont": {
          "size": 16
         },
         "title": {
          "font": {
           "size": 18
          },
          "text": "nMBE [%]"
         }
        },
        "yaxis2": {
         "anchor": "x2",
         "domain": [
          0.515,
          1
         ],
         "matches": "y",
         "tickfont": {
          "size": 16
         },
         "title": {
          "font": {
           "size": 18
          },
          "text": "nMBE [%]"
         }
        }
       }
      }
     },
     "metadata": {},
     "output_type": "display_data"
    }
   ],
   "source": [
    "df_anmbe = pd.read_hdf(\"unseen-shoebox-results.hdf\", \"annual_nmbe_by_cz_and_zone\")\n",
    "df_anmbe.columns.names = [\"Zone\", \"End Use\"]\n",
    "df_anmbe.loc[\"0A\", (\"Core\", \"Heating\")] = 0\n",
    "df_anmbe.loc[\"0A\", (\"Perimeter\", \"Heating\")] = 0\n",
    "df_anmbe.loc[\"0B\", (\"Core\", \"Heating\")] = 0\n",
    "df_anmbe.loc[\"0B\", (\"Perimeter\", \"Heating\")] = 0\n",
    "df_anmbe.loc[\"1A\", (\"Core\", \"Heating\")] = 0\n",
    "df_anmbe.loc[\"1A\", (\"Perimeter\", \"Heating\")] = 0\n",
    "df_anmbe.loc[\"1B\", (\"Core\", \"Heating\")] = 0\n",
    "df_anmbe.loc[\"1B\", (\"Perimeter\", \"Heating\")] = 0\n",
    "df_anmbe.loc[\"2A\", (\"Core\", \"Heating\")] = 0\n",
    "df_anmbe.loc[\"2A\", (\"Perimeter\", \"Heating\")] = 0\n",
    "df_anmbe.loc[\"2B\", (\"Core\", \"Heating\")] = 0\n",
    "df_anmbe.loc[\"2B\", (\"Perimeter\", \"Heating\")] = 0\n",
    "fig = px.bar(\n",
    "    df_anmbe.melt(ignore_index=False, value_name=\"nMBE [%]\").reset_index(),\n",
    "    title=\"Shoebox Annual nMBE by Climate Zone and Thermal Zone\",\n",
    "    x=\"CZ\",\n",
    "    y=\"nMBE [%]\",\n",
    "    color=\"End Use\",\n",
    "    facet_row=\"Zone\",\n",
    "    barmode=\"group\",\n",
    "    color_discrete_map={\"Heating\": \"#E32f27\", \"Cooling\": \"#92C3DE\"},\n",
    "    labels={\"CZ\": \"Climate Zone\"},\n",
    "    height=800,\n",
    "    width=1200,\n",
    "    # log_y=True,\n",
    ")\n",
    "\n",
    "\n",
    "fig.update_layout(font_size=14)\n",
    "fig.update_xaxes(tickfont_size=16)\n",
    "fig.update_yaxes(tickfont_size=16)\n",
    "fig.update_xaxes(title_font_size=18)\n",
    "fig.update_yaxes(title_font_size=18)"
   ]
  }
 ],
 "metadata": {
  "kernelspec": {
   "display_name": "carbon-signal-engine",
   "language": "python",
   "name": "python3"
  },
  "language_info": {
   "codemirror_mode": {
    "name": "ipython",
    "version": 3
   },
   "file_extension": ".py",
   "mimetype": "text/x-python",
   "name": "python",
   "nbconvert_exporter": "python",
   "pygments_lexer": "ipython3",
   "version": "3.9.18"
  }
 },
 "nbformat": 4,
 "nbformat_minor": 2
}
