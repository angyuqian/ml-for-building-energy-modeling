{
 "cells": [
  {
   "cell_type": "markdown",
   "metadata": {},
   "source": [
    "# Validation\n"
   ]
  },
  {
   "cell_type": "markdown",
   "metadata": {},
   "source": [
    "## Imports / Setup\n"
   ]
  },
  {
   "cell_type": "code",
   "execution_count": 1,
   "metadata": {},
   "outputs": [
    {
     "name": "stdout",
     "output_type": "stream",
     "text": [
      "Couldn't import dot_parser, loading of dot files will not be possible.\n"
     ]
    },
    {
     "name": "stderr",
     "output_type": "stream",
     "text": [
      "WARNING:pint.util:Redefining 'h' (<class 'pint.definitions.UnitDefinition'>)\n",
      "WARNING:pint.util:Redefining 'm3' (<class 'pint.definitions.UnitDefinition'>)\n",
      "WARNING:pint.util:Redefining 'm³' (<class 'pint.definitions.UnitDefinition'>)\n",
      "WARNING:pint.util:Redefining 'ft3' (<class 'pint.definitions.UnitDefinition'>)\n",
      "WARNING:pint.util:Redefining 'ft³' (<class 'pint.definitions.UnitDefinition'>)\n",
      "WARNING:pint.util:Redefining 'ft2' (<class 'pint.definitions.UnitDefinition'>)\n",
      "WARNING:pint.util:Redefining 'ft²' (<class 'pint.definitions.UnitDefinition'>)\n",
      "WARNING:pint.util:Redefining 'm2' (<class 'pint.definitions.UnitDefinition'>)\n",
      "WARNING:pint.util:Redefining 'm²' (<class 'pint.definitions.UnitDefinition'>)\n",
      "WARNING:pint.util:Redefining 'inch2' (<class 'pint.definitions.UnitDefinition'>)\n",
      "WARNING:pint.util:Redefining 'inch²' (<class 'pint.definitions.UnitDefinition'>)\n",
      "WARNING:pint.util:Redefining 'delta_degree_Celsius' (<class 'pint.definitions.UnitDefinition'>)\n",
      "WARNING:pint.util:Redefining 'Δ°C' (<class 'pint.definitions.UnitDefinition'>)\n",
      "WARNING:pint.util:Redefining 'Δcelsius' (<class 'pint.definitions.UnitDefinition'>)\n",
      "WARNING:pint.util:Redefining 'ΔdegC' (<class 'pint.definitions.UnitDefinition'>)\n",
      "WARNING:pint.util:Redefining 'ΔdegreeC' (<class 'pint.definitions.UnitDefinition'>)\n",
      "WARNING:pint.util:Redefining 'delta_celsius' (<class 'pint.definitions.UnitDefinition'>)\n",
      "WARNING:pint.util:Redefining 'delta_degC' (<class 'pint.definitions.UnitDefinition'>)\n",
      "WARNING:pint.util:Redefining 'delta_degreeC' (<class 'pint.definitions.UnitDefinition'>)\n",
      "WARNING:pint.util:Redefining 'degree_Celsius' (<class 'pint.definitions.UnitDefinition'>)\n",
      "WARNING:pint.util:Redefining '°C' (<class 'pint.definitions.UnitDefinition'>)\n",
      "WARNING:pint.util:Redefining 'celsius' (<class 'pint.definitions.UnitDefinition'>)\n",
      "WARNING:pint.util:Redefining 'degC' (<class 'pint.definitions.UnitDefinition'>)\n",
      "WARNING:pint.util:Redefining 'degreeC' (<class 'pint.definitions.UnitDefinition'>)\n",
      "WARNING:pint.util:Redefining 'C' (<class 'pint.definitions.UnitDefinition'>)\n",
      "c:\\tools\\Anaconda3\\envs\\ml-for-bem-final\\lib\\site-packages\\outdated\\utils.py:14: OutdatedPackageWarning: The package energy-pandas is out of date. Your version is 0.3.3, the latest is 0.3.4.\n",
      "Set the environment variable OUTDATED_IGNORE=1 to disable these warnings.\n",
      "  return warn(\n"
     ]
    }
   ],
   "source": [
    "import boto3\n",
    "import pandas as pd\n",
    "import json\n",
    "import os\n",
    "from pathlib import Path\n",
    "import matplotlib.pyplot as plt\n",
    "from concurrent.futures import ThreadPoolExecutor\n",
    "from tqdm.notebook import tqdm\n",
    "from ladybug.epw import EPW\n",
    "from lightning.pytorch import Trainer\n",
    "import torch\n",
    "import numpy as np\n",
    "\n",
    "from ml.surrogate import Surrogate\n",
    "from ml.predict import predict_ubem\n",
    "from utils.constants import JOULES_TO_KWH\n",
    "from weather.weather import extract\n",
    "\n",
    "from archetypal import settings\n",
    "\n",
    "if os.name == \"nt\":\n",
    "    settings.ep_version == \"22.2.0\"\n",
    "    settings.energyplus_location = Path(\"C:/EnergyPlusV22-2-0\")\n",
    "else:\n",
    "    settings.ep_version == \"22.2.0\"\n",
    "    settings.energyplus_location = Path(\"/usr/local/EnergyPlus-22-2-0\")\n",
    "\n",
    "from archetypal.idfclass import IDF"
   ]
  },
  {
   "cell_type": "markdown",
   "metadata": {},
   "source": [
    "## Config Vars\n"
   ]
  },
  {
   "cell_type": "code",
   "execution_count": 2,
   "metadata": {},
   "outputs": [
    {
     "name": "stderr",
     "output_type": "stream",
     "text": [
      "INFO:botocore.credentials:Found credentials in shared credentials file: ~/.aws/credentials\n"
     ]
    }
   ],
   "source": [
    "bucket = \"ml-for-bem\"\n",
    "s3 = boto3.client(\"s3\")\n",
    "\n",
    "local_dir = Path(\"data\") / \"temp\"\n",
    "experiment_name = \"validation/v2/seattle\"\n",
    "should_gather_idf = False\n",
    "\n",
    "registry = \"ml-for-building-energy-modeling/model-registry\"\n",
    "model = \"Global UBEM Shoebox Surrogate with Combined TS Embedder\"\n",
    "tag = \"v3\"\n",
    "resource = \"model.ckpt\""
   ]
  },
  {
   "cell_type": "markdown",
   "metadata": {},
   "source": [
    "## Helper Fns\n"
   ]
  },
  {
   "cell_type": "code",
   "execution_count": 20,
   "metadata": {},
   "outputs": [],
   "source": [
    "# list objects in bucket using paginator\n",
    "def get_files_in_experiment(experiment):\n",
    "    print(\"Listing files for experiment: \", experiment, \"...\")\n",
    "    files = []\n",
    "    paginator = s3.get_paginator(\"list_objects_v2\")\n",
    "    for page in paginator.paginate(Bucket=bucket, Prefix=experiment):\n",
    "        if page.get(\"Contents\"):\n",
    "            for obj in page[\"Contents\"]:\n",
    "                files.append(obj[\"Key\"])\n",
    "    return files\n",
    "\n",
    "\n",
    "def download(file):\n",
    "    filepath = local_dir / file\n",
    "    os.makedirs(filepath.parent, exist_ok=True)\n",
    "    s3.download_file(bucket, file, filepath)\n",
    "    return filepath\n",
    "\n",
    "\n",
    "def download_and_open_json(file):\n",
    "    filepath = download(file)\n",
    "    with open(filepath, \"r\") as f:\n",
    "        return json.load(f)\n",
    "\n",
    "\n",
    "def download_and_open_hdf(file):\n",
    "    filepath = download(file)\n",
    "    return pd.read_hdf(filepath)\n",
    "\n",
    "\n",
    "def get_weather():\n",
    "    weather_folder = (Path(experiment_name).parent / \"epw\").as_posix()\n",
    "    # list files in weather folder\n",
    "    weather_files = get_files_in_experiment(weather_folder)\n",
    "    with ThreadPoolExecutor(max_workers=8) as executor:\n",
    "        weather_files = list(\n",
    "            tqdm(executor.map(download, weather_files), total=len(weather_files))\n",
    "        )\n",
    "    return weather_files\n",
    "\n",
    "\n",
    "def download_and_open_ground_truth():\n",
    "    file = experiment_name + \"/Buildings.hdf\"\n",
    "    true_df = download_and_open_hdf(file)\n",
    "\n",
    "    true_df = true_df.sort_index(level=\"file_name\")\n",
    "    building_id = (\n",
    "        true_df.index.to_frame()[\"file_name\"].str.split(\".\").str[0].astype(int)\n",
    "    )\n",
    "    building_id.name = \"building_id\"\n",
    "    true_df = true_df.set_index(building_id, append=True).sort_index(\n",
    "        level=\"building_id\"\n",
    "    )\n",
    "\n",
    "    true_df = true_df * JOULES_TO_KWH\n",
    "    return true_df"
   ]
  },
  {
   "cell_type": "markdown",
   "metadata": {},
   "source": [
    "## Gather/Download Validation Files\n"
   ]
  },
  {
   "cell_type": "code",
   "execution_count": 4,
   "metadata": {},
   "outputs": [],
   "source": [
    "if should_gather_idf:\n",
    "    idf_files = get_files_in_experiment(experiment_name + \"/idf\")\n",
    "    idf_files = idf_files[:100]\n",
    "    with ThreadPoolExecutor(max_workers=8) as executor:\n",
    "        idf_files = list(tqdm(executor.map(download, idf_files), total=len(idf_files)))\n",
    "\n",
    "features_fp = Path(experiment_name).parent / \"features.hdf\"\n",
    "features_fp = download(features_fp.as_posix())\n",
    "features = pd.read_hdf(features_fp, key=\"shoeboxes\")\n",
    "building_meta = pd.read_hdf(features_fp, key=\"buildings\")"
   ]
  },
  {
   "cell_type": "markdown",
   "metadata": {},
   "source": [
    "## Check for errors in hdf etc\n"
   ]
  },
  {
   "cell_type": "code",
   "execution_count": 5,
   "metadata": {},
   "outputs": [
    {
     "data": {
      "application/json": {
       "ascii": false,
       "bar_format": null,
       "colour": null,
       "elapsed": 0.003998994827270508,
       "initial": 0,
       "n": 0,
       "ncols": null,
       "nrows": null,
       "postfix": null,
       "prefix": "",
       "rate": null,
       "total": 10,
       "unit": "it",
       "unit_divisor": 1000,
       "unit_scale": false
      },
      "application/vnd.jupyter.widget-view+json": {
       "model_id": "66f4f1bd02d04a1b9847671af65acc1c",
       "version_major": 2,
       "version_minor": 0
      },
      "text/plain": [
       "  0%|          | 0/10 [00:00<?, ?it/s]"
      ]
     },
     "metadata": {},
     "output_type": "display_data"
    }
   ],
   "source": [
    "def test_idf(building_id):\n",
    "    idf_path = (\n",
    "        Path(\"data\")\n",
    "        / \"temp\"\n",
    "        / Path(experiment_name).parent\n",
    "        / \"idf\"\n",
    "        / f\"{building_id:09d}.idf\"\n",
    "    ).as_posix()\n",
    "    idf = IDF(idf_path)\n",
    "    zones = idf.idfobjects[\"ZONE\"]\n",
    "    # remove final _<number> from zone names\n",
    "    zone_names = [\"_\".join(zone.Name.split(\"_\")[:-1]) for zone in zones]\n",
    "    zones_by_name = {zone_name: zone for zone_name, zone in zip(zone_names, zones)}\n",
    "\n",
    "    area = 0\n",
    "    for zone in zones_by_name.values():\n",
    "        area += zone.Floor_Area\n",
    "\n",
    "    assert abs(building_meta.loc[building_id, \"gfa\"] - area) < 1\n",
    "    areas = (\n",
    "        features.groupby(level=\"building_id\")\n",
    "        .sum()\n",
    "        .loc[building_id, [\"core_area\", \"zone_perimeter_area\"]]\n",
    "    )\n",
    "    assert np.abs(areas[\"core_area\"] / 4 + areas[\"zone_perimeter_area\"] - area) < 1e-1\n",
    "\n",
    "\n",
    "for building_id in tqdm(building_meta.index.to_list()[:10]):\n",
    "    test_idf(building_id)"
   ]
  },
  {
   "cell_type": "markdown",
   "metadata": {},
   "source": [
    "## Allocate Shoebox dimensions\n",
    "\n",
    "Floor-to-floor height and shoebox width are fixed.\n"
   ]
  },
  {
   "cell_type": "code",
   "execution_count": 6,
   "metadata": {},
   "outputs": [],
   "source": [
    "# sb_perim_facade_area = features.width * features.height\n",
    "# sb_perim_area = features.zone_perim_floor_area_to_facade_area * sb_perim_facade_area\n",
    "# sb_perim_depth = sb_perim_area / features.width\n",
    "# sb_core_depth = features.zone_core_area_to_perimeter_area * sb_perim_depth\n",
    "\n",
    "features[\"perim_depth\"] = features.building_computed_perim_depth\n",
    "features[\"core_depth\"] = features.building_computed_core_depth"
   ]
  },
  {
   "cell_type": "markdown",
   "metadata": {},
   "source": [
    "## Load Weather, Schedules\n"
   ]
  },
  {
   "cell_type": "code",
   "execution_count": 7,
   "metadata": {},
   "outputs": [
    {
     "name": "stdout",
     "output_type": "stream",
     "text": [
      "Listing files for experiment:  validation/v2/epw ...\n"
     ]
    },
    {
     "data": {
      "application/json": {
       "ascii": false,
       "bar_format": null,
       "colour": null,
       "elapsed": 0.004525661468505859,
       "initial": 0,
       "n": 0,
       "ncols": null,
       "nrows": null,
       "postfix": null,
       "prefix": "",
       "rate": null,
       "total": 3,
       "unit": "it",
       "unit_divisor": 1000,
       "unit_scale": false
      },
      "application/vnd.jupyter.widget-view+json": {
       "model_id": "0b0a60a0310b480da153a9bba4bff385",
       "version_major": 2,
       "version_minor": 0
      },
      "text/plain": [
       "  0%|          | 0/3 [00:00<?, ?it/s]"
      ]
     },
     "metadata": {},
     "output_type": "display_data"
    },
    {
     "name": "stdout",
     "output_type": "stream",
     "text": [
      "data\\temp\\validation\\v2\\epw\\USA_WA_Seattle-Tacoma.Intl.AP.727930_TMYx.2007-2021.epw\n"
     ]
    }
   ],
   "source": [
    "city = \"seattle\"\n",
    "weather_files = get_weather()\n",
    "epw_path = next(filter(lambda x: city.lower() in str(x).lower(), weather_files))\n",
    "print(epw_path)\n",
    "epw = EPW(epw_path)\n",
    "climate = extract(epw)\n",
    "scheds = np.load(\"data/schedules.npy\")"
   ]
  },
  {
   "cell_type": "markdown",
   "metadata": {},
   "source": [
    "## Load Surrogate and Predict\n"
   ]
  },
  {
   "cell_type": "code",
   "execution_count": 8,
   "metadata": {},
   "outputs": [
    {
     "name": "stderr",
     "output_type": "stream",
     "text": [
      "GPU available: True (cuda), used: True\n",
      "TPU available: False, using: 0 TPU cores\n",
      "IPU available: False, using: 0 IPUs\n",
      "HPU available: False, using: 0 HPUs\n"
     ]
    }
   ],
   "source": [
    "surrogate = Surrogate.load_from_registry(registry, model, tag, resource)\n",
    "surrogate.model.eval()\n",
    "torch.set_float32_matmul_precision(\"medium\")\n",
    "\n",
    "trainer = Trainer(\n",
    "    accelerator=\"auto\",\n",
    "    devices=\"auto\",\n",
    "    strategy=\"auto\",\n",
    "    enable_progress_bar=True,\n",
    ")"
   ]
  },
  {
   "cell_type": "code",
   "execution_count": 9,
   "metadata": {},
   "outputs": [
    {
     "name": "stderr",
     "output_type": "stream",
     "text": [
      "WARNING:ml.data:Values for core_depth are outside of the range [1.25, 60]! Provided data min: 0.03710072306171179, max: 13.206184920244507. Data will be clipped before prediction.\n",
      "LOCAL_RANK: 0 - CUDA_VISIBLE_DEVICES: [0]\n"
     ]
    },
    {
     "name": "stdout",
     "output_type": "stream",
     "text": [
      "Predicting DataLoader 0: 100%|██████████| 3440/3440 [01:54<00:00, 30.00it/s]\n"
     ]
    }
   ],
   "source": [
    "ml_shoebox_results, ml_monthly, ml_annual = predict_ubem(\n",
    "    trainer=trainer,\n",
    "    surrogate=surrogate,\n",
    "    features=features.reset_index(),\n",
    "    schedules=scheds,\n",
    "    climate=climate,\n",
    "    apply_cops=False,\n",
    "    batch_size=64,\n",
    ")"
   ]
  },
  {
   "cell_type": "markdown",
   "metadata": {},
   "source": [
    "## Compute Electricity\n"
   ]
  },
  {
   "cell_type": "code",
   "execution_count": 51,
   "metadata": {},
   "outputs": [
    {
     "data": {
      "application/json": {
       "ascii": false,
       "bar_format": null,
       "colour": null,
       "elapsed": 0.0027167797088623047,
       "initial": 0,
       "n": 0,
       "ncols": null,
       "nrows": null,
       "postfix": null,
       "prefix": "",
       "rate": null,
       "total": 10000,
       "unit": "it",
       "unit_divisor": 1000,
       "unit_scale": false
      },
      "application/vnd.jupyter.widget-view+json": {
       "model_id": "fd5fadb7cf60424a924e6da4affd21d4",
       "version_major": 2,
       "version_minor": 0
      },
      "text/plain": [
       "  0%|          | 0/10000 [00:00<?, ?it/s]"
      ]
     },
     "metadata": {},
     "output_type": "display_data"
    }
   ],
   "source": [
    "month_lengths = [31, 28, 31, 30, 31, 30, 31, 31, 30, 31, 30, 31]\n",
    "cols = [\n",
    "    \"January\",\n",
    "    \"February\",\n",
    "    \"March\",\n",
    "    \"April\",\n",
    "    \"May\",\n",
    "    \"June\",\n",
    "    \"July\",\n",
    "    \"August\",\n",
    "    \"September\",\n",
    "    \"October\",\n",
    "    \"November\",\n",
    "    \"December\",\n",
    "]\n",
    "\n",
    "pred_elec = pd.DataFrame(columns=cols, index=[])\n",
    "for ix, row in tqdm(list(building_meta.iterrows()), total=len(building_meta)):\n",
    "    template_ix = int(row[\"template_idx\"])\n",
    "    e_sched = scheds[template_ix, 0]\n",
    "    l_sched = scheds[template_ix, 1]\n",
    "    lpd = row[\"LightingPowerDensity\"]  # measured in Watts/m2\n",
    "    epd = row[\"EquipmentPowerDensity\"]  # measured in Watts/m2\n",
    "    e_timestep = epd * e_sched / 1000  # kWh\n",
    "    l_timestep = lpd * l_sched / 1000  # kWh\n",
    "    total = e_timestep + l_timestep\n",
    "    # split total into months, each timestep is one hour\n",
    "    hours_passed = 0\n",
    "    month_totals = []\n",
    "    for month in month_lengths:\n",
    "        month_total = total[hours_passed : hours_passed + month * 24]\n",
    "        hours_passed += month * 24\n",
    "        month_totals.append(month_total.sum())\n",
    "    pred_elec.loc[ix] = month_totals"
   ]
  },
  {
   "cell_type": "code",
   "execution_count": 56,
   "metadata": {},
   "outputs": [],
   "source": [
    "es = pd.read_csv(\"data/EquipmentAvailabilitySchedule.csv\")\n",
    "es = es[es.columns[1:]]"
   ]
  },
  {
   "cell_type": "markdown",
   "metadata": {},
   "source": [
    "## Load Ground Truth\n"
   ]
  },
  {
   "cell_type": "code",
   "execution_count": 49,
   "metadata": {},
   "outputs": [
    {
     "name": "stdout",
     "output_type": "stream",
     "text": [
      "WARNING: Not all buildings have ground truth results!!\n"
     ]
    }
   ],
   "source": [
    "true_results = download_and_open_ground_truth()\n",
    "if len(true_results) != len(building_meta):\n",
    "    print(\"WARNING: Not all buildings have ground truth results!!\")\n",
    "true_results_ids = true_results.index.get_level_values(\"building_id\")\n",
    "\n",
    "true_results = true_results / building_meta.loc[true_results_ids, \"gfa\"].values.reshape(\n",
    "    -1, 1\n",
    ")"
   ]
  },
  {
   "cell_type": "code",
   "execution_count": 63,
   "metadata": {},
   "outputs": [
    {
     "data": {
      "text/plain": [
       "0.0"
      ]
     },
     "execution_count": 63,
     "metadata": {},
     "output_type": "execute_result"
    }
   ],
   "source": [
    "scheds[14].sum()"
   ]
  },
  {
   "cell_type": "code",
   "execution_count": 55,
   "metadata": {},
   "outputs": [
    {
     "data": {
      "text/plain": [
       "<matplotlib.colorbar.Colorbar at 0x15f673e6be0>"
      ]
     },
     "execution_count": 55,
     "metadata": {},
     "output_type": "execute_result"
    },
    {
     "data": {
      "image/png": "[encoded data removed]",
      "text/plain": [
       "<Figure size 640x480 with 2 Axes>"
      ]
     },
     "metadata": {},
     "output_type": "display_data"
    }
   ],
   "source": [
    "template_indices = (\n",
    "    building_meta.loc[true_results_ids, \"template_idx\"]\n",
    "    .astype(float)\n",
    "    .values.reshape(-1, 1)\n",
    "    .repeat(12, axis=1)\n",
    "    .flatten()\n",
    ")\n",
    "pred_elec_res = pred_elec.loc[true_results_ids].values.flatten()\n",
    "plt.scatter(\n",
    "    true_results[\"Electricity:Facility\"].values.flatten(),\n",
    "    pred_elec_res,\n",
    "    # alpha=0.1,\n",
    "    s=0.1,\n",
    "    c=template_indices,\n",
    ")\n",
    "plt.colorbar()"
   ]
  },
  {
   "cell_type": "code",
   "execution_count": 60,
   "metadata": {},
   "outputs": [
    {
     "data": {
      "text/plain": [
       "14.0"
      ]
     },
     "execution_count": 60,
     "metadata": {},
     "output_type": "execute_result"
    }
   ],
   "source": [
    "building_meta.iloc[3].template_idx"
   ]
  },
  {
   "cell_type": "code",
   "execution_count": 62,
   "metadata": {},
   "outputs": [
    {
     "data": {
      "text/html": [
       "<div>\n",
       "<style scoped>\n",
       "    .dataframe tbody tr th:only-of-type {\n",
       "        vertical-align: middle;\n",
       "    }\n",
       "\n",
       "    .dataframe tbody tr th {\n",
       "        vertical-align: top;\n",
       "    }\n",
       "\n",
       "    .dataframe thead th {\n",
       "        text-align: right;\n",
       "    }\n",
       "</style>\n",
       "<table border=\"1\" class=\"dataframe\">\n",
       "  <thead>\n",
       "    <tr style=\"text-align: right;\">\n",
       "      <th></th>\n",
       "      <th>0</th>\n",
       "      <th>1</th>\n",
       "      <th>2</th>\n",
       "      <th>3</th>\n",
       "      <th>4</th>\n",
       "      <th>5</th>\n",
       "      <th>6</th>\n",
       "      <th>7</th>\n",
       "      <th>8</th>\n",
       "      <th>9</th>\n",
       "      <th>...</th>\n",
       "      <th>8750</th>\n",
       "      <th>8751</th>\n",
       "      <th>8752</th>\n",
       "      <th>8753</th>\n",
       "      <th>8754</th>\n",
       "      <th>8755</th>\n",
       "      <th>8756</th>\n",
       "      <th>8757</th>\n",
       "      <th>8758</th>\n",
       "      <th>8759</th>\n",
       "    </tr>\n",
       "  </thead>\n",
       "  <tbody>\n",
       "    <tr>\n",
       "      <th>0</th>\n",
       "      <td>0.10</td>\n",
       "      <td>0.10</td>\n",
       "      <td>0.10</td>\n",
       "      <td>0.10</td>\n",
       "      <td>0.10</td>\n",
       "      <td>0.10</td>\n",
       "      <td>0.10</td>\n",
       "      <td>0.10</td>\n",
       "      <td>0.10</td>\n",
       "      <td>0.10</td>\n",
       "      <td>...</td>\n",
       "      <td>0.10</td>\n",
       "      <td>0.10</td>\n",
       "      <td>0.10</td>\n",
       "      <td>0.10</td>\n",
       "      <td>0.10</td>\n",
       "      <td>0.10</td>\n",
       "      <td>0.10</td>\n",
       "      <td>0.10</td>\n",
       "      <td>0.10</td>\n",
       "      <td>0.10</td>\n",
       "    </tr>\n",
       "    <tr>\n",
       "      <th>1</th>\n",
       "      <td>0.10</td>\n",
       "      <td>0.10</td>\n",
       "      <td>0.10</td>\n",
       "      <td>0.10</td>\n",
       "      <td>0.10</td>\n",
       "      <td>0.10</td>\n",
       "      <td>0.25</td>\n",
       "      <td>0.35</td>\n",
       "      <td>0.35</td>\n",
       "      <td>0.25</td>\n",
       "      <td>...</td>\n",
       "      <td>0.25</td>\n",
       "      <td>0.25</td>\n",
       "      <td>0.35</td>\n",
       "      <td>0.35</td>\n",
       "      <td>0.35</td>\n",
       "      <td>0.25</td>\n",
       "      <td>0.25</td>\n",
       "      <td>0.25</td>\n",
       "      <td>0.25</td>\n",
       "      <td>0.25</td>\n",
       "    </tr>\n",
       "    <tr>\n",
       "      <th>2</th>\n",
       "      <td>0.10</td>\n",
       "      <td>0.10</td>\n",
       "      <td>0.10</td>\n",
       "      <td>0.10</td>\n",
       "      <td>0.10</td>\n",
       "      <td>0.10</td>\n",
       "      <td>0.25</td>\n",
       "      <td>0.35</td>\n",
       "      <td>0.35</td>\n",
       "      <td>0.25</td>\n",
       "      <td>...</td>\n",
       "      <td>0.25</td>\n",
       "      <td>0.25</td>\n",
       "      <td>0.35</td>\n",
       "      <td>0.35</td>\n",
       "      <td>0.35</td>\n",
       "      <td>0.25</td>\n",
       "      <td>0.25</td>\n",
       "      <td>0.25</td>\n",
       "      <td>0.25</td>\n",
       "      <td>0.25</td>\n",
       "    </tr>\n",
       "    <tr>\n",
       "      <th>3</th>\n",
       "      <td>0.10</td>\n",
       "      <td>0.10</td>\n",
       "      <td>0.10</td>\n",
       "      <td>0.10</td>\n",
       "      <td>0.10</td>\n",
       "      <td>0.10</td>\n",
       "      <td>0.35</td>\n",
       "      <td>0.35</td>\n",
       "      <td>0.25</td>\n",
       "      <td>0.25</td>\n",
       "      <td>...</td>\n",
       "      <td>0.25</td>\n",
       "      <td>0.25</td>\n",
       "      <td>0.25</td>\n",
       "      <td>0.35</td>\n",
       "      <td>0.35</td>\n",
       "      <td>0.35</td>\n",
       "      <td>0.25</td>\n",
       "      <td>0.25</td>\n",
       "      <td>0.25</td>\n",
       "      <td>0.25</td>\n",
       "    </tr>\n",
       "    <tr>\n",
       "      <th>4</th>\n",
       "      <td>0.15</td>\n",
       "      <td>0.15</td>\n",
       "      <td>0.15</td>\n",
       "      <td>0.15</td>\n",
       "      <td>0.15</td>\n",
       "      <td>0.15</td>\n",
       "      <td>0.15</td>\n",
       "      <td>0.15</td>\n",
       "      <td>0.30</td>\n",
       "      <td>0.30</td>\n",
       "      <td>...</td>\n",
       "      <td>0.90</td>\n",
       "      <td>0.90</td>\n",
       "      <td>0.90</td>\n",
       "      <td>0.90</td>\n",
       "      <td>0.80</td>\n",
       "      <td>0.80</td>\n",
       "      <td>0.70</td>\n",
       "      <td>0.40</td>\n",
       "      <td>0.20</td>\n",
       "      <td>0.20</td>\n",
       "    </tr>\n",
       "    <tr>\n",
       "      <th>5</th>\n",
       "      <td>0.15</td>\n",
       "      <td>0.15</td>\n",
       "      <td>0.15</td>\n",
       "      <td>0.15</td>\n",
       "      <td>0.15</td>\n",
       "      <td>0.15</td>\n",
       "      <td>0.30</td>\n",
       "      <td>0.30</td>\n",
       "      <td>0.30</td>\n",
       "      <td>0.30</td>\n",
       "      <td>...</td>\n",
       "      <td>0.80</td>\n",
       "      <td>0.80</td>\n",
       "      <td>0.80</td>\n",
       "      <td>0.60</td>\n",
       "      <td>0.40</td>\n",
       "      <td>0.40</td>\n",
       "      <td>0.40</td>\n",
       "      <td>0.40</td>\n",
       "      <td>0.15</td>\n",
       "      <td>0.15</td>\n",
       "    </tr>\n",
       "    <tr>\n",
       "      <th>6</th>\n",
       "      <td>0.30</td>\n",
       "      <td>0.30</td>\n",
       "      <td>0.30</td>\n",
       "      <td>0.30</td>\n",
       "      <td>0.30</td>\n",
       "      <td>0.30</td>\n",
       "      <td>0.30</td>\n",
       "      <td>0.30</td>\n",
       "      <td>0.30</td>\n",
       "      <td>0.30</td>\n",
       "      <td>...</td>\n",
       "      <td>0.30</td>\n",
       "      <td>0.30</td>\n",
       "      <td>0.30</td>\n",
       "      <td>0.30</td>\n",
       "      <td>0.30</td>\n",
       "      <td>0.30</td>\n",
       "      <td>0.30</td>\n",
       "      <td>0.30</td>\n",
       "      <td>0.30</td>\n",
       "      <td>0.30</td>\n",
       "    </tr>\n",
       "    <tr>\n",
       "      <th>7</th>\n",
       "      <td>0.30</td>\n",
       "      <td>0.30</td>\n",
       "      <td>0.30</td>\n",
       "      <td>0.30</td>\n",
       "      <td>0.30</td>\n",
       "      <td>0.30</td>\n",
       "      <td>0.30</td>\n",
       "      <td>0.30</td>\n",
       "      <td>0.30</td>\n",
       "      <td>0.30</td>\n",
       "      <td>...</td>\n",
       "      <td>0.30</td>\n",
       "      <td>0.30</td>\n",
       "      <td>0.30</td>\n",
       "      <td>0.30</td>\n",
       "      <td>0.30</td>\n",
       "      <td>0.30</td>\n",
       "      <td>0.30</td>\n",
       "      <td>0.30</td>\n",
       "      <td>0.30</td>\n",
       "      <td>0.30</td>\n",
       "    </tr>\n",
       "    <tr>\n",
       "      <th>8</th>\n",
       "      <td>0.30</td>\n",
       "      <td>0.30</td>\n",
       "      <td>0.30</td>\n",
       "      <td>0.30</td>\n",
       "      <td>0.30</td>\n",
       "      <td>0.30</td>\n",
       "      <td>0.30</td>\n",
       "      <td>0.30</td>\n",
       "      <td>0.50</td>\n",
       "      <td>0.50</td>\n",
       "      <td>...</td>\n",
       "      <td>1.00</td>\n",
       "      <td>1.00</td>\n",
       "      <td>1.00</td>\n",
       "      <td>1.00</td>\n",
       "      <td>0.50</td>\n",
       "      <td>0.50</td>\n",
       "      <td>0.30</td>\n",
       "      <td>0.30</td>\n",
       "      <td>0.30</td>\n",
       "      <td>0.30</td>\n",
       "    </tr>\n",
       "    <tr>\n",
       "      <th>9</th>\n",
       "      <td>0.30</td>\n",
       "      <td>0.30</td>\n",
       "      <td>0.30</td>\n",
       "      <td>0.30</td>\n",
       "      <td>0.30</td>\n",
       "      <td>0.30</td>\n",
       "      <td>0.30</td>\n",
       "      <td>0.30</td>\n",
       "      <td>0.50</td>\n",
       "      <td>0.50</td>\n",
       "      <td>...</td>\n",
       "      <td>0.50</td>\n",
       "      <td>0.50</td>\n",
       "      <td>0.50</td>\n",
       "      <td>0.30</td>\n",
       "      <td>0.30</td>\n",
       "      <td>0.30</td>\n",
       "      <td>0.30</td>\n",
       "      <td>0.30</td>\n",
       "      <td>0.30</td>\n",
       "      <td>0.30</td>\n",
       "    </tr>\n",
       "    <tr>\n",
       "      <th>10</th>\n",
       "      <td>0.33</td>\n",
       "      <td>0.33</td>\n",
       "      <td>0.33</td>\n",
       "      <td>0.33</td>\n",
       "      <td>0.33</td>\n",
       "      <td>0.33</td>\n",
       "      <td>0.33</td>\n",
       "      <td>0.33</td>\n",
       "      <td>0.33</td>\n",
       "      <td>0.33</td>\n",
       "      <td>...</td>\n",
       "      <td>0.33</td>\n",
       "      <td>0.33</td>\n",
       "      <td>0.33</td>\n",
       "      <td>0.33</td>\n",
       "      <td>0.33</td>\n",
       "      <td>0.33</td>\n",
       "      <td>0.33</td>\n",
       "      <td>0.33</td>\n",
       "      <td>0.33</td>\n",
       "      <td>0.33</td>\n",
       "    </tr>\n",
       "    <tr>\n",
       "      <th>11</th>\n",
       "      <td>0.35</td>\n",
       "      <td>0.35</td>\n",
       "      <td>0.35</td>\n",
       "      <td>0.35</td>\n",
       "      <td>0.35</td>\n",
       "      <td>0.35</td>\n",
       "      <td>0.35</td>\n",
       "      <td>0.35</td>\n",
       "      <td>0.35</td>\n",
       "      <td>0.35</td>\n",
       "      <td>...</td>\n",
       "      <td>0.35</td>\n",
       "      <td>0.35</td>\n",
       "      <td>0.35</td>\n",
       "      <td>0.35</td>\n",
       "      <td>0.35</td>\n",
       "      <td>0.35</td>\n",
       "      <td>0.35</td>\n",
       "      <td>0.35</td>\n",
       "      <td>0.35</td>\n",
       "      <td>0.35</td>\n",
       "    </tr>\n",
       "    <tr>\n",
       "      <th>12</th>\n",
       "      <td>0.35</td>\n",
       "      <td>0.35</td>\n",
       "      <td>0.35</td>\n",
       "      <td>0.35</td>\n",
       "      <td>0.35</td>\n",
       "      <td>0.35</td>\n",
       "      <td>0.35</td>\n",
       "      <td>0.35</td>\n",
       "      <td>0.35</td>\n",
       "      <td>0.35</td>\n",
       "      <td>...</td>\n",
       "      <td>0.35</td>\n",
       "      <td>0.35</td>\n",
       "      <td>0.35</td>\n",
       "      <td>0.35</td>\n",
       "      <td>0.35</td>\n",
       "      <td>0.35</td>\n",
       "      <td>0.35</td>\n",
       "      <td>0.35</td>\n",
       "      <td>0.35</td>\n",
       "      <td>0.35</td>\n",
       "    </tr>\n",
       "    <tr>\n",
       "      <th>13</th>\n",
       "      <td>0.40</td>\n",
       "      <td>0.40</td>\n",
       "      <td>0.30</td>\n",
       "      <td>0.30</td>\n",
       "      <td>0.30</td>\n",
       "      <td>0.30</td>\n",
       "      <td>0.40</td>\n",
       "      <td>0.50</td>\n",
       "      <td>0.50</td>\n",
       "      <td>0.40</td>\n",
       "      <td>...</td>\n",
       "      <td>0.30</td>\n",
       "      <td>0.30</td>\n",
       "      <td>0.30</td>\n",
       "      <td>0.30</td>\n",
       "      <td>0.60</td>\n",
       "      <td>0.80</td>\n",
       "      <td>0.90</td>\n",
       "      <td>0.70</td>\n",
       "      <td>0.60</td>\n",
       "      <td>0.40</td>\n",
       "    </tr>\n",
       "    <tr>\n",
       "      <th>14</th>\n",
       "      <td>0.00</td>\n",
       "      <td>0.00</td>\n",
       "      <td>0.00</td>\n",
       "      <td>0.00</td>\n",
       "      <td>0.00</td>\n",
       "      <td>0.00</td>\n",
       "      <td>0.00</td>\n",
       "      <td>0.00</td>\n",
       "      <td>0.00</td>\n",
       "      <td>0.00</td>\n",
       "      <td>...</td>\n",
       "      <td>0.00</td>\n",
       "      <td>0.00</td>\n",
       "      <td>0.00</td>\n",
       "      <td>0.00</td>\n",
       "      <td>0.00</td>\n",
       "      <td>0.00</td>\n",
       "      <td>0.00</td>\n",
       "      <td>0.00</td>\n",
       "      <td>0.00</td>\n",
       "      <td>0.00</td>\n",
       "    </tr>\n",
       "    <tr>\n",
       "      <th>15</th>\n",
       "      <td>1.00</td>\n",
       "      <td>1.00</td>\n",
       "      <td>1.00</td>\n",
       "      <td>1.00</td>\n",
       "      <td>1.00</td>\n",
       "      <td>1.00</td>\n",
       "      <td>1.00</td>\n",
       "      <td>1.00</td>\n",
       "      <td>1.00</td>\n",
       "      <td>1.00</td>\n",
       "      <td>...</td>\n",
       "      <td>1.00</td>\n",
       "      <td>1.00</td>\n",
       "      <td>1.00</td>\n",
       "      <td>1.00</td>\n",
       "      <td>1.00</td>\n",
       "      <td>1.00</td>\n",
       "      <td>1.00</td>\n",
       "      <td>1.00</td>\n",
       "      <td>1.00</td>\n",
       "      <td>1.00</td>\n",
       "    </tr>\n",
       "  </tbody>\n",
       "</table>\n",
       "<p>16 rows × 8760 columns</p>\n",
       "</div>"
      ],
      "text/plain": [
       "       0     1     2     3     4     5     6     7     8     9  ...  8750  \\\n",
       "0   0.10  0.10  0.10  0.10  0.10  0.10  0.10  0.10  0.10  0.10  ...  0.10   \n",
       "1   0.10  0.10  0.10  0.10  0.10  0.10  0.25  0.35  0.35  0.25  ...  0.25   \n",
       "2   0.10  0.10  0.10  0.10  0.10  0.10  0.25  0.35  0.35  0.25  ...  0.25   \n",
       "3   0.10  0.10  0.10  0.10  0.10  0.10  0.35  0.35  0.25  0.25  ...  0.25   \n",
       "4   0.15  0.15  0.15  0.15  0.15  0.15  0.15  0.15  0.30  0.30  ...  0.90   \n",
       "5   0.15  0.15  0.15  0.15  0.15  0.15  0.30  0.30  0.30  0.30  ...  0.80   \n",
       "6   0.30  0.30  0.30  0.30  0.30  0.30  0.30  0.30  0.30  0.30  ...  0.30   \n",
       "7   0.30  0.30  0.30  0.30  0.30  0.30  0.30  0.30  0.30  0.30  ...  0.30   \n",
       "8   0.30  0.30  0.30  0.30  0.30  0.30  0.30  0.30  0.50  0.50  ...  1.00   \n",
       "9   0.30  0.30  0.30  0.30  0.30  0.30  0.30  0.30  0.50  0.50  ...  0.50   \n",
       "10  0.33  0.33  0.33  0.33  0.33  0.33  0.33  0.33  0.33  0.33  ...  0.33   \n",
       "11  0.35  0.35  0.35  0.35  0.35  0.35  0.35  0.35  0.35  0.35  ...  0.35   \n",
       "12  0.35  0.35  0.35  0.35  0.35  0.35  0.35  0.35  0.35  0.35  ...  0.35   \n",
       "13  0.40  0.40  0.30  0.30  0.30  0.30  0.40  0.50  0.50  0.40  ...  0.30   \n",
       "14  0.00  0.00  0.00  0.00  0.00  0.00  0.00  0.00  0.00  0.00  ...  0.00   \n",
       "15  1.00  1.00  1.00  1.00  1.00  1.00  1.00  1.00  1.00  1.00  ...  1.00   \n",
       "\n",
       "    8751  8752  8753  8754  8755  8756  8757  8758  8759  \n",
       "0   0.10  0.10  0.10  0.10  0.10  0.10  0.10  0.10  0.10  \n",
       "1   0.25  0.35  0.35  0.35  0.25  0.25  0.25  0.25  0.25  \n",
       "2   0.25  0.35  0.35  0.35  0.25  0.25  0.25  0.25  0.25  \n",
       "3   0.25  0.25  0.35  0.35  0.35  0.25  0.25  0.25  0.25  \n",
       "4   0.90  0.90  0.90  0.80  0.80  0.70  0.40  0.20  0.20  \n",
       "5   0.80  0.80  0.60  0.40  0.40  0.40  0.40  0.15  0.15  \n",
       "6   0.30  0.30  0.30  0.30  0.30  0.30  0.30  0.30  0.30  \n",
       "7   0.30  0.30  0.30  0.30  0.30  0.30  0.30  0.30  0.30  \n",
       "8   1.00  1.00  1.00  0.50  0.50  0.30  0.30  0.30  0.30  \n",
       "9   0.50  0.50  0.30  0.30  0.30  0.30  0.30  0.30  0.30  \n",
       "10  0.33  0.33  0.33  0.33  0.33  0.33  0.33  0.33  0.33  \n",
       "11  0.35  0.35  0.35  0.35  0.35  0.35  0.35  0.35  0.35  \n",
       "12  0.35  0.35  0.35  0.35  0.35  0.35  0.35  0.35  0.35  \n",
       "13  0.30  0.30  0.30  0.60  0.80  0.90  0.70  0.60  0.40  \n",
       "14  0.00  0.00  0.00  0.00  0.00  0.00  0.00  0.00  0.00  \n",
       "15  1.00  1.00  1.00  1.00  1.00  1.00  1.00  1.00  1.00  \n",
       "\n",
       "[16 rows x 8760 columns]"
      ]
     },
     "execution_count": 62,
     "metadata": {},
     "output_type": "execute_result"
    }
   ],
   "source": [
    "es"
   ]
  },
  {
   "cell_type": "code",
   "execution_count": 61,
   "metadata": {},
   "outputs": [
    {
     "data": {
      "text/plain": [
       "array([0., 0., 0., 0., 0., 0., 0., 0., 0., 0., 0., 0., 0., 0., 0., 0., 0.,\n",
       "       0., 0., 0., 0., 0., 0., 0., 0., 0., 0., 0., 0., 0., 0., 0., 0., 0.,\n",
       "       0., 0., 0., 0., 0., 0., 0., 0., 0., 0., 0., 0., 0., 0., 0., 0., 0.,\n",
       "       0., 0., 0., 0., 0., 0., 0., 0., 0., 0., 0., 0., 0., 0., 0., 0., 0.,\n",
       "       0., 0., 0., 0., 0., 0., 0., 0., 0., 0., 0., 0., 0., 0., 0., 0., 0.,\n",
       "       0., 0., 0., 0., 0., 0., 0., 0., 0., 0., 0., 0., 0., 0., 0., 0., 0.,\n",
       "       0., 0., 0., 0., 0., 0., 0., 0., 0., 0., 0., 0., 0., 0., 0., 0., 0.,\n",
       "       0., 0., 0., 0., 0., 0., 0., 0., 0., 0., 0., 0., 0., 0., 0., 0., 0.,\n",
       "       0., 0., 0., 0., 0., 0., 0., 0., 0., 0., 0., 0., 0., 0., 0., 0., 0.,\n",
       "       0., 0., 0., 0., 0., 0., 0., 0., 0., 0., 0., 0., 0., 0., 0.])"
      ]
     },
     "execution_count": 61,
     "metadata": {},
     "output_type": "execute_result"
    }
   ],
   "source": [
    "scheds[14, 0, : 24 * 7]"
   ]
  },
  {
   "cell_type": "code",
   "execution_count": 57,
   "metadata": {},
   "outputs": [],
   "source": [
    "# true_results[\"Electricity:Facility\"]"
   ]
  },
  {
   "cell_type": "code",
   "execution_count": 58,
   "metadata": {},
   "outputs": [],
   "source": [
    "# elec_error = np.abs(\n",
    "#     true_results[\"Electricity:Facility\"].values - pred_elec.loc[true_results_ids].values\n",
    "# )\n",
    "# elec_error"
   ]
  },
  {
   "cell_type": "markdown",
   "metadata": {},
   "source": [
    "## Plotting\n"
   ]
  },
  {
   "cell_type": "code",
   "execution_count": null,
   "metadata": {},
   "outputs": [],
   "source": [
    "fig, ax = plt.subplots(2, 2, figsize=(15, 15))\n",
    "ml_ax = ax[0, 0]\n",
    "idf_ax = ax[0, 1]\n",
    "scatter_h_ax = ax[1, 0]\n",
    "scatter_c_ax = ax[1, 1]\n",
    "\n",
    "\n",
    "ml_ax.plot(ml_monthly.Heating.values.T, color=\"red\", alpha=0.2)\n",
    "\n",
    "\n",
    "ml_ax.plot(ml_monthly.Cooling.values.T, color=\"blue\", alpha=0.2)\n",
    "idf_ax.plot(true_results[\"Heating:DistrictHeating\"].values.T, color=\"red\", alpha=0.2)\n",
    "idf_ax.plot(true_results[\"Cooling:DistrictCooling\"].values.T, color=\"blue\", alpha=0.2)\n",
    "ml_ax.set_ylim(0, 100)\n",
    "idf_ax.set_ylim(0, 100)\n",
    "ml_ax.set_title(\"ML\")\n",
    "idf_ax.set_title(\"IDF\")\n",
    "scatter_h_ax.set_title(\"Heating Model Fit\")\n",
    "scatter_h_ax.set_xlabel(\"IDF\")\n",
    "scatter_h_ax.set_ylabel(\"ML\")\n",
    "scatter_c_ax.set_title(\"Cooling Model Fit\")\n",
    "scatter_c_ax.set_xlabel(\"IDF\")\n",
    "scatter_c_ax.set_ylabel(\"ML\")\n",
    "scatter_h_ax.scatter(\n",
    "    true_results[\"Heating:DistrictHeating\"].values.flatten(),\n",
    "    ml_monthly.Heating.values.flatten().clip(0, 1000),\n",
    "    color=\"red\",\n",
    "    alpha=0.2,\n",
    ")\n",
    "scatter_c_ax.scatter(\n",
    "    true_results[\"Cooling:DistrictCooling\"].values.flatten(),\n",
    "    ml_monthly.Cooling.values.flatten().clip(0, 1000),\n",
    "    color=\"blue\",\n",
    "    alpha=0.2,\n",
    ")\n",
    "# plot identity line on top of scatter\n",
    "x = np.linspace(0, np.max(ml_monthly.Cooling.values.flatten()), 100)\n",
    "scatter_c_ax.plot(x, x, color=\"black\", linestyle=\"--\")\n",
    "x = np.linspace(0, np.max(ml_monthly.Heating.values.flatten()), 100)\n",
    "scatter_h_ax.plot(x, x, color=\"black\", linestyle=\"--\")\n",
    "fig.tight_layout()"
   ]
  },
  {
   "cell_type": "code",
   "execution_count": null,
   "metadata": {},
   "outputs": [],
   "source": [
    "fig, ax = plt.subplots(1, 2, figsize=(15, 5))\n",
    "plt.suptitle(\"Annual Model Fits\")\n",
    "h_ax = ax[0]\n",
    "c_ax = ax[1]\n",
    "h_ax.set_title(\"Heating\")\n",
    "c_ax.set_title(\"Cooling\")\n",
    "\n",
    "h_ax.scatter(\n",
    "    true_results[\"Heating:DistrictHeating\"].sum(axis=1),\n",
    "    ml_annual.Heating,\n",
    "    color=\"red\",\n",
    "    alpha=0.2,\n",
    ")\n",
    "h_ax.set_ylim(0, 50)\n",
    "h_ax.set_xlim(0, 50)\n",
    "\n",
    "c_ax.scatter(\n",
    "    true_results[\"Cooling:DistrictCooling\"].sum(axis=1),\n",
    "    ml_annual.Cooling,\n",
    "    color=\"blue\",\n",
    "    alpha=0.2,\n",
    ")\n",
    "c_ax.set_ylim(0, 50)\n",
    "c_ax.set_xlim(0, 50)"
   ]
  }
 ],
 "metadata": {
  "kernelspec": {
   "display_name": "Python 3",
   "language": "python",
   "name": "python3"
  },
  "language_info": {
   "codemirror_mode": {
    "name": "ipython",
    "version": 3
   },
   "file_extension": ".py",
   "mimetype": "text/x-python",
   "name": "python",
   "nbconvert_exporter": "python",
   "pygments_lexer": "ipython3",
   "version": "3.8.17"
  },
  "orig_nbformat": 4
 },
 "nbformat": 4,
 "nbformat_minor": 2
}
