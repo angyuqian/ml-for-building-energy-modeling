{
 "cells": [
  {
   "cell_type": "markdown",
   "metadata": {},
   "source": [
    "# Validation\n"
   ]
  },
  {
   "cell_type": "markdown",
   "metadata": {},
   "source": [
    "## Imports / Setup\n"
   ]
  },
  {
   "cell_type": "code",
   "execution_count": 1,
   "metadata": {},
   "outputs": [
    {
     "name": "stdout",
     "output_type": "stream",
     "text": [
      "Couldn't import dot_parser, loading of dot files will not be possible.\n"
     ]
    },
    {
     "name": "stderr",
     "output_type": "stream",
     "text": [
      "WARNING:pint.util:Redefining 'h' (<class 'pint.definitions.UnitDefinition'>)\n",
      "WARNING:pint.util:Redefining 'm3' (<class 'pint.definitions.UnitDefinition'>)\n",
      "WARNING:pint.util:Redefining 'm³' (<class 'pint.definitions.UnitDefinition'>)\n",
      "WARNING:pint.util:Redefining 'ft3' (<class 'pint.definitions.UnitDefinition'>)\n",
      "WARNING:pint.util:Redefining 'ft³' (<class 'pint.definitions.UnitDefinition'>)\n",
      "WARNING:pint.util:Redefining 'ft2' (<class 'pint.definitions.UnitDefinition'>)\n",
      "WARNING:pint.util:Redefining 'ft²' (<class 'pint.definitions.UnitDefinition'>)\n",
      "WARNING:pint.util:Redefining 'm2' (<class 'pint.definitions.UnitDefinition'>)\n",
      "WARNING:pint.util:Redefining 'm²' (<class 'pint.definitions.UnitDefinition'>)\n",
      "WARNING:pint.util:Redefining 'inch2' (<class 'pint.definitions.UnitDefinition'>)\n",
      "WARNING:pint.util:Redefining 'inch²' (<class 'pint.definitions.UnitDefinition'>)\n",
      "WARNING:pint.util:Redefining 'delta_degree_Celsius' (<class 'pint.definitions.UnitDefinition'>)\n",
      "WARNING:pint.util:Redefining 'Δ°C' (<class 'pint.definitions.UnitDefinition'>)\n",
      "WARNING:pint.util:Redefining 'Δcelsius' (<class 'pint.definitions.UnitDefinition'>)\n",
      "WARNING:pint.util:Redefining 'ΔdegC' (<class 'pint.definitions.UnitDefinition'>)\n",
      "WARNING:pint.util:Redefining 'ΔdegreeC' (<class 'pint.definitions.UnitDefinition'>)\n",
      "WARNING:pint.util:Redefining 'delta_celsius' (<class 'pint.definitions.UnitDefinition'>)\n",
      "WARNING:pint.util:Redefining 'delta_degC' (<class 'pint.definitions.UnitDefinition'>)\n",
      "WARNING:pint.util:Redefining 'delta_degreeC' (<class 'pint.definitions.UnitDefinition'>)\n",
      "WARNING:pint.util:Redefining 'degree_Celsius' (<class 'pint.definitions.UnitDefinition'>)\n",
      "WARNING:pint.util:Redefining '°C' (<class 'pint.definitions.UnitDefinition'>)\n",
      "WARNING:pint.util:Redefining 'celsius' (<class 'pint.definitions.UnitDefinition'>)\n",
      "WARNING:pint.util:Redefining 'degC' (<class 'pint.definitions.UnitDefinition'>)\n",
      "WARNING:pint.util:Redefining 'degreeC' (<class 'pint.definitions.UnitDefinition'>)\n",
      "WARNING:pint.util:Redefining 'C' (<class 'pint.definitions.UnitDefinition'>)\n",
      "c:\\tools\\Anaconda3\\envs\\ml-for-bem-final\\lib\\site-packages\\outdated\\utils.py:14: OutdatedPackageWarning: The package energy-pandas is out of date. Your version is 0.3.3, the latest is 0.3.4.\n",
      "Set the environment variable OUTDATED_IGNORE=1 to disable these warnings.\n",
      "  return warn(\n"
     ]
    }
   ],
   "source": [
    "import boto3\n",
    "import pandas as pd\n",
    "import json\n",
    "import os\n",
    "from pathlib import Path\n",
    "import matplotlib.pyplot as plt\n",
    "from concurrent.futures import ThreadPoolExecutor\n",
    "from tqdm.notebook import tqdm\n",
    "from ladybug.epw import EPW\n",
    "from lightning.pytorch import Trainer\n",
    "import torch\n",
    "import numpy as np\n",
    "\n",
    "from ml.surrogate import Surrogate\n",
    "from ml.predict import predict_ubem\n",
    "from utils.constants import JOULES_TO_KWH\n",
    "from weather.weather import extract\n",
    "\n",
    "from archetypal import settings\n",
    "\n",
    "if os.name == \"nt\":\n",
    "    settings.ep_version == \"22.2.0\"\n",
    "    settings.energyplus_location = Path(\"C:/EnergyPlusV22-2-0\")\n",
    "else:\n",
    "    settings.ep_version == \"22.2.0\"\n",
    "    settings.energyplus_location = Path(\"/usr/local/EnergyPlus-22-2-0\")\n",
    "\n",
    "from archetypal.idfclass import IDF"
   ]
  },
  {
   "cell_type": "markdown",
   "metadata": {},
   "source": [
    "## Config Vars\n"
   ]
  },
  {
   "cell_type": "code",
   "execution_count": 2,
   "metadata": {},
   "outputs": [
    {
     "name": "stderr",
     "output_type": "stream",
     "text": [
      "INFO:botocore.credentials:Found credentials in shared credentials file: ~/.aws/credentials\n"
     ]
    }
   ],
   "source": [
    "bucket = \"ml-for-bem\"\n",
    "s3 = boto3.client(\"s3\")\n",
    "\n",
    "local_dir = Path(\"data\") / \"temp\"\n",
    "experiment_name = \"validation/v2/seattle\"\n",
    "should_gather_idf = False\n",
    "\n",
    "registry = \"ml-for-building-energy-modeling/model-registry\"\n",
    "model = \"Global UBEM Shoebox Surrogate with Combined TS Embedder\"\n",
    "tag = \"v3\"\n",
    "resource = \"model.ckpt\""
   ]
  },
  {
   "cell_type": "markdown",
   "metadata": {},
   "source": [
    "## Helper Fns\n"
   ]
  },
  {
   "cell_type": "code",
   "execution_count": 19,
   "metadata": {},
   "outputs": [],
   "source": [
    "# list objects in bucket using paginator\n",
    "def get_files_in_experiment(experiment):\n",
    "    print(\"Listing files for experiment: \", experiment, \"...\")\n",
    "    files = []\n",
    "    paginator = s3.get_paginator(\"list_objects_v2\")\n",
    "    for page in paginator.paginate(Bucket=bucket, Prefix=experiment):\n",
    "        if page.get(\"Contents\"):\n",
    "            for obj in page[\"Contents\"]:\n",
    "                files.append(obj[\"Key\"])\n",
    "    return files\n",
    "\n",
    "\n",
    "def download(file):\n",
    "    filepath = local_dir / file\n",
    "    os.makedirs(filepath.parent, exist_ok=True)\n",
    "    s3.download_file(bucket, file, filepath)\n",
    "    return filepath\n",
    "\n",
    "\n",
    "def download_and_open_json(file):\n",
    "    filepath = download(file)\n",
    "    with open(filepath, \"r\") as f:\n",
    "        return json.load(f)\n",
    "\n",
    "\n",
    "def download_and_open_hdf(file):\n",
    "    filepath = download(file)\n",
    "    return pd.read_hdf(filepath)\n",
    "\n",
    "\n",
    "def get_weather():\n",
    "    weather_folder = experiment_name + \"/epw\"\n",
    "    # list files in weather folder\n",
    "    weather_files = get_files_in_experiment(weather_folder)\n",
    "    with ThreadPoolExecutor(max_workers=8) as executor:\n",
    "        weather_files = list(\n",
    "            tqdm(executor.map(download, weather_files), total=len(weather_files))\n",
    "        )\n",
    "    return weather_files\n",
    "\n",
    "\n",
    "def download_and_open_ground_truth():\n",
    "    file = experiment_name + \"/Buildings.hdf\"\n",
    "    true_df = download_and_open_hdf(file)\n",
    "\n",
    "    true_df = true_df.sort_index(level=\"file_name\")\n",
    "    building_id = true_df.index.to_frame()[\"file_name\"].str.split(\".\").str[0]\n",
    "    building_id.name = \"building_id\"\n",
    "    true_df = true_df.set_index(building_id, append=True).sort_index(\n",
    "        level=\"building_id\"\n",
    "    )\n",
    "\n",
    "    true_df = true_df * JOULES_TO_KWH\n",
    "    return true_df"
   ]
  },
  {
   "cell_type": "markdown",
   "metadata": {},
   "source": [
    "## Gather/Download Validation Files\n"
   ]
  },
  {
   "cell_type": "code",
   "execution_count": 25,
   "metadata": {},
   "outputs": [],
   "source": [
    "if should_gather_idf:\n",
    "    idf_files = get_files_in_experiment(experiment_name + \"/idf\")\n",
    "    idf_files = idf_files[:100]\n",
    "    with ThreadPoolExecutor(max_workers=8) as executor:\n",
    "        idf_files = list(tqdm(executor.map(download, idf_files), total=len(idf_files)))\n",
    "\n",
    "features_fp = Path(experiment_name).parent / \"features.hdf\"\n",
    "features_fp = download(features_fp.as_posix())\n",
    "features = pd.read_hdf(features_fp, key=\"shoeboxes\")\n",
    "building_meta = pd.read_hdf(features_fp, key=\"buildings\")"
   ]
  },
  {
   "cell_type": "code",
   "execution_count": 27,
   "metadata": {},
   "outputs": [
    {
     "data": {
      "text/plain": [
       "(216940, 9451)"
      ]
     },
     "execution_count": 27,
     "metadata": {},
     "output_type": "execute_result"
    }
   ],
   "source": [
    "len(features), len(building_meta)"
   ]
  },
  {
   "cell_type": "markdown",
   "metadata": {},
   "source": [
    "## Check for errors in hdf etc\n"
   ]
  },
  {
   "cell_type": "code",
   "execution_count": 5,
   "metadata": {},
   "outputs": [
    {
     "data": {
      "application/json": {
       "ascii": false,
       "bar_format": null,
       "colour": null,
       "elapsed": 0.009606361389160156,
       "initial": 0,
       "n": 0,
       "ncols": null,
       "nrows": null,
       "postfix": null,
       "prefix": "",
       "rate": null,
       "total": 10,
       "unit": "it",
       "unit_divisor": 1000,
       "unit_scale": false
      },
      "application/vnd.jupyter.widget-view+json": {
       "model_id": "42f355fbca734adfbad0ac9354ec7a68",
       "version_major": 2,
       "version_minor": 0
      },
      "text/plain": [
       "  0%|          | 0/10 [00:00<?, ?it/s]"
      ]
     },
     "metadata": {},
     "output_type": "display_data"
    }
   ],
   "source": [
    "def test_idf(building_id):\n",
    "    idf_path = (\n",
    "        Path(\"data\")\n",
    "        / \"temp\"\n",
    "        / Path(experiment_name).parent\n",
    "        / \"idf\"\n",
    "        / f\"{building_id:09d}.idf\"\n",
    "    ).as_posix()\n",
    "    idf = IDF(idf_path)\n",
    "    zones = idf.idfobjects[\"ZONE\"]\n",
    "    # remove final _<number> from zone names\n",
    "    zone_names = [\"_\".join(zone.Name.split(\"_\")[:-1]) for zone in zones]\n",
    "    zones_by_name = {zone_name: zone for zone_name, zone in zip(zone_names, zones)}\n",
    "\n",
    "    area = 0\n",
    "    for zone in zones_by_name.values():\n",
    "        area += zone.Floor_Area\n",
    "\n",
    "    assert abs(building_meta.loc[building_id, \"gfa\"] - area) < 1\n",
    "    areas = (\n",
    "        features.groupby(level=\"building_id\")\n",
    "        .sum()\n",
    "        .loc[building_id, [\"core_area\", \"zone_perimeter_area\"]]\n",
    "    )\n",
    "    assert np.abs(areas[\"core_area\"] / 4 + areas[\"zone_perimeter_area\"] - area) < 1e-1\n",
    "\n",
    "\n",
    "for building_id in tqdm(building_meta.index.to_list()[:10]):\n",
    "    test_idf(building_id)"
   ]
  },
  {
   "cell_type": "markdown",
   "metadata": {},
   "source": [
    "## Allocate Shoebox dimensions\n",
    "\n",
    "Floor-to-floor height and shoebox width are fixed.\n"
   ]
  },
  {
   "cell_type": "code",
   "execution_count": 6,
   "metadata": {},
   "outputs": [],
   "source": [
    "# sb_perim_facade_area = features.width * features.height\n",
    "# sb_perim_area = features.zone_perim_floor_area_to_facade_area * sb_perim_facade_area\n",
    "# sb_perim_depth = sb_perim_area / features.width\n",
    "# sb_core_depth = features.zone_core_area_to_perimeter_area * sb_perim_depth\n",
    "\n",
    "features[\"perim_depth\"] = features.building_computed_perim_depth\n",
    "features[\"core_depth\"] = features.building_computed_core_depth"
   ]
  },
  {
   "cell_type": "markdown",
   "metadata": {},
   "source": [
    "## Load Ground Truth\n"
   ]
  },
  {
   "cell_type": "code",
   "execution_count": 20,
   "metadata": {},
   "outputs": [],
   "source": [
    "true_results = download_and_open_ground_truth()"
   ]
  },
  {
   "cell_type": "code",
   "execution_count": 23,
   "metadata": {},
   "outputs": [
    {
     "data": {
      "text/plain": [
       "9451"
      ]
     },
     "execution_count": 23,
     "metadata": {},
     "output_type": "execute_result"
    }
   ],
   "source": [
    "len(building_meta.index.get_level_values(\"building_id\"))"
   ]
  },
  {
   "cell_type": "code",
   "execution_count": 24,
   "metadata": {},
   "outputs": [
    {
     "data": {
      "text/plain": [
       "9746"
      ]
     },
     "execution_count": 24,
     "metadata": {},
     "output_type": "execute_result"
    }
   ],
   "source": [
    "len(true_results.index.get_level_values(\"building_id\"))"
   ]
  },
  {
   "cell_type": "code",
   "execution_count": 15,
   "metadata": {},
   "outputs": [
    {
     "data": {
      "text/plain": [
       "45"
      ]
     },
     "execution_count": 15,
     "metadata": {},
     "output_type": "execute_result"
    }
   ],
   "source": [
    "true_results = true_results.loc[\n",
    "    (slice(None), slice(None), slice(None), building_meta.index), :\n",
    "]\n",
    "\n",
    "assert (\n",
    "    true_results.index.get_level_values(\"building_id\") == building_meta.index.values\n",
    ").all()"
   ]
  },
  {
   "cell_type": "code",
   "execution_count": 16,
   "metadata": {},
   "outputs": [],
   "source": [
    "true_results = true_results / building_meta.gfa.values.reshape(-1, 1)"
   ]
  },
  {
   "cell_type": "markdown",
   "metadata": {},
   "source": [
    "## Load Weather, Schedules\n"
   ]
  },
  {
   "cell_type": "code",
   "execution_count": 15,
   "metadata": {},
   "outputs": [
    {
     "name": "stdout",
     "output_type": "stream",
     "text": [
      "Listing files for experiment:  idf/batch/validation_v1/seattle/epw ...\n"
     ]
    },
    {
     "data": {
      "application/json": {
       "ascii": false,
       "bar_format": null,
       "colour": null,
       "elapsed": 0.003951549530029297,
       "initial": 0,
       "n": 0,
       "ncols": null,
       "nrows": null,
       "postfix": null,
       "prefix": "",
       "rate": null,
       "total": 1,
       "unit": "it",
       "unit_divisor": 1000,
       "unit_scale": false
      },
      "application/vnd.jupyter.widget-view+json": {
       "model_id": "6aeaa4caf1864016823217ea895971a4",
       "version_major": 2,
       "version_minor": 0
      },
      "text/plain": [
       "  0%|          | 0/1 [00:00<?, ?it/s]"
      ]
     },
     "metadata": {},
     "output_type": "display_data"
    }
   ],
   "source": [
    "city = \"seattle\"\n",
    "weather_files = get_weather(city)\n",
    "epw_path = weather_files[0]\n",
    "epw = EPW(epw_path)\n",
    "climate = extract(epw)\n",
    "scheds = np.load(\"data/schedules.npy\")"
   ]
  },
  {
   "cell_type": "markdown",
   "metadata": {},
   "source": [
    "## Load Surrogate and Predict\n"
   ]
  },
  {
   "cell_type": "code",
   "execution_count": 20,
   "metadata": {},
   "outputs": [
    {
     "name": "stderr",
     "output_type": "stream",
     "text": [
      "GPU available: True (cuda), used: True\n",
      "TPU available: False, using: 0 TPU cores\n",
      "IPU available: False, using: 0 IPUs\n",
      "HPU available: False, using: 0 HPUs\n"
     ]
    }
   ],
   "source": [
    "surrogate = Surrogate.load_from_registry(registry, model, tag, resource)\n",
    "surrogate.model.eval()\n",
    "torch.set_float32_matmul_precision(\"medium\")\n",
    "\n",
    "trainer = Trainer(\n",
    "    accelerator=\"auto\",\n",
    "    devices=\"auto\",\n",
    "    strategy=\"auto\",\n",
    "    enable_progress_bar=True,\n",
    ")"
   ]
  },
  {
   "cell_type": "code",
   "execution_count": 21,
   "metadata": {},
   "outputs": [
    {
     "name": "stderr",
     "output_type": "stream",
     "text": [
      "WARNING:ml.data:Values for perim_depth are outside of the range [1.25, 12]! Provided data min: 7.496742198192372, max: 12.626918828375715. Data will be clipped before prediction.\n",
      "WARNING:ml.data:Values for core_depth are outside of the range [1.25, 60]! Provided data min: 2.1284673742463487, max: 152.9183029728543. Data will be clipped before prediction.\n",
      "WARNING:ml.data:Values for shading_0 are outside of the range [0, 1.5707963267948966]! Provided data min: 0.0, max: 2.3492480388752384. Data will be clipped before prediction.\n",
      "WARNING:ml.data:Values for shading_1 are outside of the range [0, 1.5707963267948966]! Provided data min: 0.0, max: 2.653265589557746. Data will be clipped before prediction.\n",
      "WARNING:ml.data:Values for shading_2 are outside of the range [0, 1.5707963267948966]! Provided data min: 0.0, max: 2.405763883909743. Data will be clipped before prediction.\n",
      "WARNING:ml.data:Values for shading_3 are outside of the range [0, 1.5707963267948966]! Provided data min: 0.0, max: 2.1431062972547075. Data will be clipped before prediction.\n",
      "WARNING:ml.data:Values for shading_4 are outside of the range [0, 1.5707963267948966]! Provided data min: 0.0, max: 1.8590508062109774. Data will be clipped before prediction.\n",
      "WARNING:ml.data:Values for shading_5 are outside of the range [0, 1.5707963267948966]! Provided data min: 0.0, max: 1.5841262481790646. Data will be clipped before prediction.\n",
      "WARNING:ml.data:Values for shading_6 are outside of the range [0, 1.5707963267948966]! Provided data min: 0.0, max: 1.5843718646973985. Data will be clipped before prediction.\n",
      "WARNING:ml.data:Values for shading_7 are outside of the range [0, 1.5707963267948966]! Provided data min: 0.0, max: 1.859396708548599. Data will be clipped before prediction.\n",
      "WARNING:ml.data:Values for shading_8 are outside of the range [0, 1.5707963267948966]! Provided data min: 0.0, max: 2.1433495008297485. Data will be clipped before prediction.\n",
      "WARNING:ml.data:Values for shading_9 are outside of the range [0, 1.5707963267948966]! Provided data min: 0.0, max: 2.4033811579884983. Data will be clipped before prediction.\n",
      "WARNING:ml.data:Values for shading_10 are outside of the range [0, 1.5707963267948966]! Provided data min: 0.0, max: 2.650937740396849. Data will be clipped before prediction.\n",
      "WARNING:ml.data:Values for shading_11 are outside of the range [0, 1.5707963267948966]! Provided data min: 0.0, max: 2.35307530454842. Data will be clipped before prediction.\n",
      "LOCAL_RANK: 0 - CUDA_VISIBLE_DEVICES: [0]\n"
     ]
    },
    {
     "name": "stdout",
     "output_type": "stream",
     "text": [
      "Predicting DataLoader 0: 100%|██████████| 18/18 [00:02<00:00,  7.92it/s]\n"
     ]
    }
   ],
   "source": [
    "ml_shoebox_results, ml_monthly, ml_annual = predict_ubem(\n",
    "    trainer=trainer,\n",
    "    surrogate=surrogate,\n",
    "    features=features.reset_index(),\n",
    "    schedules=scheds,\n",
    "    climate=climate,\n",
    "    apply_cops=False,\n",
    "    batch_size=64,\n",
    ")"
   ]
  },
  {
   "cell_type": "markdown",
   "metadata": {},
   "source": [
    "## Plotting\n"
   ]
  },
  {
   "cell_type": "code",
   "execution_count": null,
   "metadata": {},
   "outputs": [],
   "source": [
    "fig, ax = plt.subplots(2, 2, figsize=(15, 15))\n",
    "ml_ax = ax[0, 0]\n",
    "idf_ax = ax[0, 1]\n",
    "scatter_h_ax = ax[1, 0]\n",
    "scatter_c_ax = ax[1, 1]\n",
    "\n",
    "\n",
    "ml_ax.plot(ml_monthly.Heating.values.T, color=\"red\", alpha=0.2)\n",
    "\n",
    "\n",
    "ml_ax.plot(ml_monthly.Cooling.values.T, color=\"blue\", alpha=0.2)\n",
    "idf_ax.plot(true_results[\"Heating:DistrictHeating\"].values.T, color=\"red\", alpha=0.2)\n",
    "idf_ax.plot(true_results[\"Cooling:DistrictCooling\"].values.T, color=\"blue\", alpha=0.2)\n",
    "ml_ax.set_ylim(0, 100)\n",
    "idf_ax.set_ylim(0, 100)\n",
    "ml_ax.set_title(\"ML\")\n",
    "idf_ax.set_title(\"IDF\")\n",
    "scatter_h_ax.set_title(\"Heating Model Fit\")\n",
    "scatter_h_ax.set_xlabel(\"IDF\")\n",
    "scatter_h_ax.set_ylabel(\"ML\")\n",
    "scatter_c_ax.set_title(\"Cooling Model Fit\")\n",
    "scatter_c_ax.set_xlabel(\"IDF\")\n",
    "scatter_c_ax.set_ylabel(\"ML\")\n",
    "scatter_h_ax.scatter(\n",
    "    true_results[\"Heating:DistrictHeating\"].values.flatten(),\n",
    "    ml_monthly.Heating.values.flatten().clip(0, 1000),\n",
    "    color=\"red\",\n",
    "    alpha=0.2,\n",
    ")\n",
    "scatter_c_ax.scatter(\n",
    "    true_results[\"Cooling:DistrictCooling\"].values.flatten(),\n",
    "    ml_monthly.Cooling.values.flatten().clip(0, 1000),\n",
    "    color=\"blue\",\n",
    "    alpha=0.2,\n",
    ")\n",
    "# plot identity line on top of scatter\n",
    "x = np.linspace(0, np.max(ml_monthly.Cooling.values.flatten()), 100)\n",
    "scatter_c_ax.plot(x, x, color=\"black\", linestyle=\"--\")\n",
    "x = np.linspace(0, np.max(ml_monthly.Heating.values.flatten()), 100)\n",
    "scatter_h_ax.plot(x, x, color=\"black\", linestyle=\"--\")\n",
    "fig.tight_layout()"
   ]
  },
  {
   "cell_type": "code",
   "execution_count": null,
   "metadata": {},
   "outputs": [],
   "source": [
    "fig, ax = plt.subplots(1, 2, figsize=(15, 5))\n",
    "plt.suptitle(\"Annual Model Fits\")\n",
    "h_ax = ax[0]\n",
    "c_ax = ax[1]\n",
    "h_ax.set_title(\"Heating\")\n",
    "c_ax.set_title(\"Cooling\")\n",
    "\n",
    "h_ax.scatter(\n",
    "    true_results[\"Heating:DistrictHeating\"].sum(axis=1),\n",
    "    ml_annual.Heating,\n",
    "    color=\"red\",\n",
    "    alpha=0.2,\n",
    ")\n",
    "h_ax.set_ylim(0, 50)\n",
    "h_ax.set_xlim(0, 50)\n",
    "\n",
    "c_ax.scatter(\n",
    "    true_results[\"Cooling:DistrictCooling\"].sum(axis=1),\n",
    "    ml_annual.Cooling,\n",
    "    color=\"blue\",\n",
    "    alpha=0.2,\n",
    ")\n",
    "c_ax.set_ylim(0, 50)\n",
    "c_ax.set_xlim(0, 50)"
   ]
  }
 ],
 "metadata": {
  "kernelspec": {
   "display_name": "Python 3",
   "language": "python",
   "name": "python3"
  },
  "language_info": {
   "codemirror_mode": {
    "name": "ipython",
    "version": 3
   },
   "file_extension": ".py",
   "mimetype": "text/x-python",
   "name": "python",
   "nbconvert_exporter": "python",
   "pygments_lexer": "ipython3",
   "version": "3.8.17"
  },
  "orig_nbformat": 4
 },
 "nbformat": 4,
 "nbformat_minor": 2
}
