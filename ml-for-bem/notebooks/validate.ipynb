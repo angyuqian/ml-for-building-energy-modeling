{
 "cells": [
  {
   "cell_type": "code",
   "execution_count": 62,
   "metadata": {},
   "outputs": [],
   "source": [
    "import boto3\n",
    "import pandas as pd\n",
    "import json\n",
    "import os\n",
    "from pathlib import Path\n",
    "from concurrent.futures import ThreadPoolExecutor\n",
    "from tqdm.notebook import tqdm\n",
    "\n",
    "bucket = \"ml-for-bem\"\n",
    "s3 = boto3.client('s3')\n",
    "\n",
    "data_root = Path(\"data\") / \"temp\" / \"validate\"\n",
    "experiment_root = \"idf/batch/validation_v1/\"\n",
    "should_gather = False\n",
    "\n",
    "# list objects in bucket using paginator\n",
    "def get_files_in_experiment(experiment):\n",
    "    print(\"Listing files for experiment: \", experiment, \"...\")\n",
    "    files = []\n",
    "    paginator = s3.get_paginator('list_objects_v2')\n",
    "    for page in paginator.paginate(Bucket=bucket, Prefix=experiment):\n",
    "        if page.get('Contents'):\n",
    "            for obj in page['Contents']:\n",
    "                files.append(obj['Key'])\n",
    "    return files\n",
    "\n",
    "def download(file):\n",
    "    filepath = data_root / file\n",
    "    os.makedirs(filepath.parent, exist_ok=True)\n",
    "    s3.download_file(bucket, file, filepath)\n",
    "    return filepath\n",
    "\n",
    "def download_and_open_json(file):\n",
    "    filepath = download(file)\n",
    "    with open(filepath, 'r') as f:\n",
    "        return json.load(f)\n",
    "\n",
    "def download_and_open_hdf(file):\n",
    "    filepath = download(file)\n",
    "    return pd.read_hdf(filepath)\n",
    "\n",
    "def get_weather(val_experiment):\n",
    "    experiment_folder = experiment_root + val_experiment + \"/\"\n",
    "    weather_folder = experiment_folder + \"epw\"\n",
    "    # list files in weather folder\n",
    "    weather_files = get_files_in_experiment(weather_folder)\n",
    "    with ThreadPoolExecutor(max_workers=8) as executor:\n",
    "        weather_files = list(tqdm(executor.map(download, weather_files), total=len(weather_files)))\n",
    "    return weather_files"
   ]
  },
  {
   "cell_type": "code",
   "execution_count": 27,
   "metadata": {},
   "outputs": [
    {
     "name": "stdout",
     "output_type": "stream",
     "text": [
      "Listing files for experiment:  idf/batch/validation_v1/geometry ...\n",
      "Listing files for experiment:  idf/batch/validation_v1/parameters ...\n",
      "Listing files for experiment:  idf/batch/validation_v1/template ...\n"
     ]
    }
   ],
   "source": [
    "geometry_files = get_files_in_experiment(experiment_root + \"geometry\")\n",
    "parameter_files = get_files_in_experiment(experiment_root + \"parameters\")\n",
    "template_files = get_files_in_experiment(experiment_root + \"template\")"
   ]
  },
  {
   "cell_type": "code",
   "execution_count": 55,
   "metadata": {},
   "outputs": [
    {
     "name": "stdout",
     "output_type": "stream",
     "text": [
      "Using cached geometry from s3...\n"
     ]
    }
   ],
   "source": [
    "if should_gather:\n",
    "    print(\"Gathering individual geometry files...\")\n",
    "    with ThreadPoolExecutor(max_workers=8) as executor:\n",
    "        geometry = list(tqdm(executor.map(download_and_open_json, geometry_files), total=len(geometry_files)))\n",
    "\n",
    "    with open(data_root / \"geometry.json\", 'w') as f:\n",
    "        json.dump(geometry, f)\n",
    "\n",
    "    # upload geometry to s3\n",
    "    s3.upload_file(str(data_root / \"geometry.json\"), bucket, experiment_root + \"geometry.json\")\n",
    "else:\n",
    "    print(\"Using cached geometry from s3...\")\n",
    "    geometry = download_and_open_json(experiment_root + \"geometry.json\")"
   ]
  },
  {
   "cell_type": "code",
   "execution_count": 56,
   "metadata": {},
   "outputs": [
    {
     "name": "stdout",
     "output_type": "stream",
     "text": [
      "Using cached parameters from s3...\n"
     ]
    }
   ],
   "source": [
    "if should_gather:\n",
    "    print(\"Gathering individual parameter files from s3...\")\n",
    "    with ThreadPoolExecutor(max_workers=8) as executor:\n",
    "        parameters = list(tqdm(executor.map(download_and_open_hdf, parameter_files), total=len(parameter_files)))\n",
    "        parameters = pd.concat(parameters, ignore_index=True, axis=0)\n",
    "\n",
    "    for col in parameters.columns:\n",
    "        if parameters[col].dtype == 'object':\n",
    "            if col not in ['name', 'building_id','facade_normal','idf_path', 'vert']:\n",
    "                parameters[col] = parameters[col].astype('float') if col != 'floor' else parameters[col].astype('int')\n",
    "    # save and upload to s3\n",
    "    parameters.to_hdf(data_root / \"parameters.hdf\", key='df')\n",
    "    s3.upload_file(str(data_root / \"parameters.hdf\"), bucket, experiment_root + \"sb_parameters.hdf\")\n",
    "else:\n",
    "    print(\"Using cached parameters from s3...\")\n",
    "    parameters_fp = experiment_root + \"sb_parameters.hdf\"\n",
    "    parameters_fp = download(parameters_fp)\n",
    "    parameters = pd.read_hdf(parameters_fp, key='df')"
   ]
  },
  {
   "cell_type": "code",
   "execution_count": 63,
   "metadata": {},
   "outputs": [
    {
     "name": "stdout",
     "output_type": "stream",
     "text": [
      "Listing files for experiment:  idf/batch/validation_v1/seattle/epw ...\n"
     ]
    },
    {
     "data": {
      "application/json": {
       "ascii": false,
       "bar_format": null,
       "colour": null,
       "elapsed": 0.002999544143676758,
       "initial": 0,
       "n": 0,
       "ncols": null,
       "nrows": null,
       "postfix": null,
       "prefix": "",
       "rate": null,
       "total": 1,
       "unit": "it",
       "unit_divisor": 1000,
       "unit_scale": false
      },
      "application/vnd.jupyter.widget-view+json": {
       "model_id": "739f9f00a21f451dbbd8ea50ef9003d4",
       "version_major": 2,
       "version_minor": 0
      },
      "text/plain": [
       "  0%|          | 0/1 [00:00<?, ?it/s]"
      ]
     },
     "metadata": {},
     "output_type": "display_data"
    },
    {
     "data": {
      "text/plain": [
       "[WindowsPath('data/temp/validate/idf/batch/validation_v1/seattle/epw/USA_WA_Seattle-Tacoma.Intl.AP.727930_TMYx.2007-2021.epw')]"
      ]
     },
     "execution_count": 63,
     "metadata": {},
     "output_type": "execute_result"
    }
   ],
   "source": [
    "weather_experiment = \"seattle\"\n",
    "weather_files = get_weather(weather_experiment)\n",
    "epw_fp = weather_files[0]"
   ]
  }
 ],
 "metadata": {
  "kernelspec": {
   "display_name": "Python 3",
   "language": "python",
   "name": "python3"
  },
  "language_info": {
   "codemirror_mode": {
    "name": "ipython",
    "version": 3
   },
   "file_extension": ".py",
   "mimetype": "text/x-python",
   "name": "python",
   "nbconvert_exporter": "python",
   "pygments_lexer": "ipython3",
   "version": "3.8.17"
  },
  "orig_nbformat": 4
 },
 "nbformat": 4,
 "nbformat_minor": 2
}
