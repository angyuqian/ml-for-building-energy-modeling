{
 "cells": [
  {
   "cell_type": "code",
   "execution_count": 1,
   "metadata": {},
   "outputs": [
    {
     "name": "stderr",
     "output_type": "stream",
     "text": [
      "c:\\tools\\Anaconda3\\envs\\ml-for-bem-final\\lib\\site-packages\\outdated\\utils.py:14: OutdatedPackageWarning: The package energy-pandas is out of date. Your version is 0.3.3, the latest is 0.3.4.\n",
      "Set the environment variable OUTDATED_IGNORE=1 to disable these warnings.\n",
      "  return warn(\n"
     ]
    }
   ],
   "source": [
    "import os\n",
    "\n",
    "import numpy as np\n",
    "from archetypal import settings\n",
    "from pathlib import Path\n",
    "from uuid import uuid4\n",
    "\n",
    "from shoeboxer.builder import ShoeboxConfiguration, ShoeBox\n",
    "from shoeboxer.schedules import default_schedules\n",
    "\n",
    "# Check if we are running on Windows or Linux using os\n",
    "if os.name == \"nt\":\n",
    "    settings.ep_version == \"22.2.0\"\n",
    "    settings.energyplus_location = Path(\"C:/EnergyPlusV22-2-0\")\n",
    "else:\n",
    "    settings.ep_version == \"22.2.0\"\n",
    "    settings.energyplus_location = Path(\"/usr/local/EnergyPlus-22-2-0\")"
   ]
  },
  {
   "cell_type": "code",
   "execution_count": 2,
   "metadata": {},
   "outputs": [
    {
     "name": "stderr",
     "output_type": "stream",
     "text": [
      "INFO:shoeboxer.geometry_utils:New perimeter depth: 3.6\n",
      "INFO:shoeboxer.geometry_utils:New core depth: 6.4\n",
      "INFO:shoeboxer.geometry_utils:Shifting core origin to perimeter edge; moving -1.4 m in y axis\n",
      "INFO:shoeboxer.geometry_utils:Updating adiabatic surfaces.\n",
      "WARNING:shoeboxer.geometry_utils:Perim ground exposed depth is too small. Making adiabatic.\n",
      "WARNING:shoeboxer.geometry_utils:Core ground exposed depth is too small. Making adiabatic.\n",
      "WARNING:shoeboxer.geometry_utils:Perim roof adiabatic depth is too small. Dropping adiabatic.\n",
      "WARNING:shoeboxer.geometry_utils:Core roof adiabatic depth is too small. Dropping adiabatic.\n",
      "INFO:shoeboxer.geometry_utils:Maximum shading point is 0.0\n",
      "INFO:shoeboxer.geometry_utils:Placing shading around center point [1.5 0. ]\n",
      "INFO:ShoeBox:Building idf for data\\sim_results\\f82b510d-2354-47dc-a0e8-333916bdbe4e.epjson\n",
      "INFO:ShoeBox:EnergyPlus Starting\n",
      "INFO:ShoeBox:EnergyPlus, Version 22.2.0-c249759bad, YMD=2023.11.17 16:20\n",
      "INFO:ShoeBox:Converted input file format. Exiting.\n",
      "INFO:ShoeBox:EnergyPlus Run Time=00hr 00min  0.13sec\n",
      "INFO:ShoeBox:Command executed successfully.\n",
      "C:\\EnergyPlusV22-2-0\\ExpandObjects.EXE #0-f82b510d-2354-47dc-a0e8-333916bdbe4e.idf: 3.00it [00:00, 9.05it/s]\n",
      "C:\\EnergyPlusV22-2-0\\energyplus.exe f82b510d-2354-47dc-a0e8-333916bdbe4e.idf: 55it [00:04, 13.38it/s]\n"
     ]
    },
    {
     "data": {
      "text/plain": [
       "KeyValue   Name   \n",
       "Core       Cooling    16.728359\n",
       "           Heating    23.218456\n",
       "Perimeter  Cooling    51.524641\n",
       "           Heating    39.305976\n",
       "dtype: float64"
      ]
     },
     "execution_count": 2,
     "metadata": {},
     "output_type": "execute_result"
    }
   ],
   "source": [
    "# epw_path = \"C:/ProgramData/Solemma/Common/WeatherData/EPW/USA_MA_Boston-Logan.Intl.AP.725090_TMYx.2004-2018.epw\"\n",
    "epw_path =\"C:/ProgramData/Solemma/Common/WeatherData/EPW/USA_NY_New.York-LaGuardia.AP.725030_TMYx.2004-2018.epw\"\n",
    "config = {\n",
    "    \"FacadeMass\": 1,\n",
    "    \"RoofMass\": 1,\n",
    "    \"FacadeRValue\": 4.88,\n",
    "    \"RoofRValue\": 4.88,\n",
    "    \"SlabRValue\": 4.88,\n",
    "    \"WindowUValue\": 2.0,\n",
    "    \"WindowShgc\": 0.75,\n",
    "    \"PeopleDensity\": 0.025,\n",
    "    \"EquipmentPowerDensity\": 2,\n",
    "    \"LightingPowerDensity\": 2,\n",
    "    \"HeatingSetpoint\": 19,\n",
    "    \"CoolingSetpoint\": 25,\n",
    "    \"cop_heating\": 1,\n",
    "    \"cop_cooling\": 1,\n",
    "    \"VentilationMode\": 0,\n",
    "    \"VentilationPerArea\": 0.001,\n",
    "    \"VentilationPerPerson\": 0.001,\n",
    "    \"EconomizerSettings\": 0,\n",
    "    \"RecoverySettings\": 0,\n",
    "    \"Infiltration\": 0.0005,\n",
    "    \"wwr\": 0.2,\n",
    "    \"roof_2_footprint\": 1,\n",
    "    \"ground_2_footprint\": 0,\n",
    "    \"orientation\": 0,\n",
    "    \"width\": 3,\n",
    "    \"height\": 4,\n",
    "    \"perim_depth\": 3.6,\n",
    "    \"core_depth\": 6.4,\n",
    "    \"building_id\": 0,\n",
    "    \"weight\": 1,\n",
    "    \"template_idx\": 0,\n",
    "}\n",
    "\n",
    "\"\"\"\n",
    "Make Schedules\n",
    "\"\"\"\n",
    "\n",
    "# scheds = default_schedules[0]\n",
    "sin_schedule = np.linspace(0,2*np.pi*365-1/24*2*np.pi,365*24)\n",
    "sin_schedule = -np.cos(sin_schedule)/2 + 0.5\n",
    "scheds = np.stack([sin_schedule]*3).reshape(3,8760)\n",
    "\n",
    "\"\"\"\n",
    "Make Shoebox\n",
    "\"\"\"\n",
    "sb_config = ShoeboxConfiguration()\n",
    "sb_config.width = config[\"width\"]\n",
    "sb_config.height = config[\"height\"]\n",
    "sb_config.adiabatic_partition_flag = 0\n",
    "sb_config.perim_depth = config[\"perim_depth\"]\n",
    "sb_config.core_depth = config[\"core_depth\"]\n",
    "sb_config.wwr = config[\"wwr\"]\n",
    "sb_config.roof_2_footprint = config[\"roof_2_footprint\"]\n",
    "sb_config.ground_2_footprint = config[\"ground_2_footprint\"]\n",
    "sb_config.shading_vect = np.zeros(12)\n",
    "sb_config.orientation = config[\"orientation\"]\n",
    "template_dict = config.copy()\n",
    "template_dict[\"VentilationMode\"] = 0\n",
    "template_dict[\"schedules\"] = scheds\n",
    "\n",
    "sb = ShoeBox(\n",
    "    name=str(uuid4()),\n",
    "    epw=epw_path,\n",
    "    shoebox_config=sb_config,\n",
    "    template_dict=template_dict,\n",
    "    output_directory=\"data/sim_results/\"\n",
    ")\n",
    "idf = sb.idf(run_simulation=False)\n",
    "\n",
    "\"\"\"\n",
    "Simulate\n",
    "\"\"\"\n",
    "\n",
    "hourly_df, monthly_df = sb.simulate(idf=idf)\n",
    "df = sb.postprocess(monthly_df)\n",
    "annual = df.T.groupby(level=[0,1]).sum().T\n",
    "annual"
   ]
  }
 ],
 "metadata": {
  "kernelspec": {
   "display_name": "Python 3",
   "language": "python",
   "name": "python3"
  },
  "language_info": {
   "codemirror_mode": {
    "name": "ipython",
    "version": 3
   },
   "file_extension": ".py",
   "mimetype": "text/x-python",
   "name": "python",
   "nbconvert_exporter": "python",
   "pygments_lexer": "ipython3",
   "version": "3.8.17"
  },
  "orig_nbformat": 4
 },
 "nbformat": 4,
 "nbformat_minor": 2
}
