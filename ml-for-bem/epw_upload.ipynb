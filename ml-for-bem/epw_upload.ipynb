{
 "cells": [
  {
   "cell_type": "code",
   "execution_count": 1,
   "metadata": {},
   "outputs": [],
   "source": [
    "from storage import upload_to_bucket, download_from_bucket\n",
    "import shutil\n",
    "import os"
   ]
  },
  {
   "cell_type": "code",
   "execution_count": null,
   "metadata": {},
   "outputs": [],
   "source": [
    "shutil.make_archive(\"city_epws_indexed\", \"zip\", \"./data/epws/city_epws_indexed\")\n",
    "upload_to_bucket(\"data/epw/city_epws_indexed.zip\", \"./data/epws/city_epws_indexed.zip\")"
   ]
  },
  {
   "cell_type": "code",
   "execution_count": null,
   "metadata": {},
   "outputs": [],
   "source": []
  },
  {
   "cell_type": "code",
   "execution_count": 2,
   "metadata": {},
   "outputs": [],
   "source": [
    "download_from_bucket(\"epws/city_epws_indexed.zip\", \"./data/epws/city_epws_indexed.zip\")\n",
    "os.makedirs(\"./data/epws/city_epws_indexed\", exist_ok=True)\n",
    "shutil.unpack_archive(\"./data/epws/city_epws_indexed.zip\", \"./data/epws/city_epws_indexed\")"
   ]
  }
 ],
 "metadata": {
  "interpreter": {
   "hash": "b28d6c767bba6074716622251e46d7b06b4f3a574214780a29c5cdfb14800233"
  },
  "kernelspec": {
   "display_name": "Python 3.8.16 64-bit ('ml-for-ubem': conda)",
   "language": "python",
   "name": "python3"
  },
  "language_info": {
   "codemirror_mode": {
    "name": "ipython",
    "version": 3
   },
   "file_extension": ".py",
   "mimetype": "text/x-python",
   "name": "python",
   "nbconvert_exporter": "python",
   "pygments_lexer": "ipython3",
   "version": "3.8.16"
  },
  "orig_nbformat": 4
 },
 "nbformat": 4,
 "nbformat_minor": 2
}
