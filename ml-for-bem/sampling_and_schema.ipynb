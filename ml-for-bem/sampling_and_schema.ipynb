{
 "cells": [
  {
   "attachments": {},
   "cell_type": "markdown",
   "metadata": {},
   "source": [
    "# Schema Usage\n",
    "\n",
    "The schema does not actually store any data.  Instead, it is an interface which allows us to interact with numpy/torch tensors in a semantic manner.  It lets us convert between storage vectors (i.e. how we store the building parameters numerically on disk), simulation objects (e.g. Archetypal Templates and PyUmi Shoeboxes) and machine learning model imports (i.e. torch tensors with full hourly schedule data)."
   ]
  },
  {
   "attachments": {},
   "cell_type": "markdown",
   "metadata": {},
   "source": [
    "## Notebook setup\n",
    "\n",
    "We need some jank to get relative imports working."
   ]
  },
  {
   "cell_type": "code",
   "execution_count": 36,
   "metadata": {},
   "outputs": [],
   "source": [
    "import os\n",
    "import sys\n",
    "module_path = os.path.abspath(os.path.join('..'))\n",
    "if module_path not in sys.path:\n",
    "    sys.path.append(module_path)"
   ]
  },
  {
   "cell_type": "code",
   "execution_count": 37,
   "metadata": {},
   "outputs": [],
   "source": [
    "import matplotlib.pyplot as plt\n",
    "import numpy as np"
   ]
  },
  {
   "attachments": {},
   "cell_type": "markdown",
   "metadata": {},
   "source": [
    "## Initialize the Schema"
   ]
  },
  {
   "cell_type": "code",
   "execution_count": 38,
   "metadata": {},
   "outputs": [],
   "source": [
    "from schema import Schema, ShoeboxGeometryParameter, BuildingTemplateParameter, WhiteboxSimulation\n",
    "schema = Schema()"
   ]
  },
  {
   "attachments": {},
   "cell_type": "markdown",
   "metadata": {},
   "source": [
    "Let's see what's in the schema:"
   ]
  },
  {
   "cell_type": "code",
   "execution_count": 39,
   "metadata": {},
   "outputs": [
    {
     "data": {
      "text/plain": [
       "['batch_id',\n",
       " 'variation_id',\n",
       " 'base_template_lib',\n",
       " 'base_template',\n",
       " 'base_epw',\n",
       " 'width',\n",
       " 'height',\n",
       " 'facade_2_footprint',\n",
       " 'perim_2_footprint',\n",
       " 'roof_2_footprint',\n",
       " 'footprint_2_ground',\n",
       " 'shading_fact',\n",
       " 'wwr_n',\n",
       " 'wwr_e',\n",
       " 'wwr_s',\n",
       " 'wwr_w',\n",
       " 'orientation',\n",
       " 'LightingPowerDensity',\n",
       " 'EquipmentPowerDensity',\n",
       " 'PeopleDensity',\n",
       " 'FacadeRValue',\n",
       " 'RoofRValue',\n",
       " 'PartitionRValue',\n",
       " 'SlabRValue',\n",
       " 'FacadeMass',\n",
       " 'RoofMass',\n",
       " 'PartitionMass',\n",
       " 'SlabMass',\n",
       " 'schedules_seed',\n",
       " 'schedules']"
      ]
     },
     "execution_count": 39,
     "metadata": {},
     "output_type": "execute_result"
    }
   ],
   "source": [
    "schema.parameter_names"
   ]
  },
  {
   "attachments": {},
   "cell_type": "markdown",
   "metadata": {},
   "source": [
    "We can access a schema parameter from the schema with list indexing:"
   ]
  },
  {
   "cell_type": "code",
   "execution_count": 40,
   "metadata": {},
   "outputs": [
    {
     "name": "stdout",
     "output_type": "stream",
     "text": [
      "---width---\n",
      "shape_storage=(1,), shape_ml=(1,), dtype=scalar\n",
      "Width [m]\n",
      "---schedules---\n",
      "shape_storage=(8, 16), shape_ml=(8, 8760), dtype=matrix\n",
      "A matrix in the storage vector with operations to apply to schedules; a matrix of timeseries in ml vector\n",
      "---orientation---\n",
      "shape_storage=(1,), shape_ml=(4,), dtype=onehot\n",
      "Shoebox Orientation\n"
     ]
    }
   ],
   "source": [
    "print(schema[\"width\"])\n",
    "print(schema[\"schedules\"])\n",
    "print(schema[\"orientation\"])"
   ]
  },
  {
   "attachments": {},
   "cell_type": "markdown",
   "metadata": {},
   "source": [
    "We see that each parameter may have multiple different lengths in the storage vector and ML vector.\n",
    "\n",
    "We can also print a summary of the whole schema:"
   ]
  },
  {
   "cell_type": "code",
   "execution_count": 41,
   "metadata": {},
   "outputs": [
    {
     "name": "stdout",
     "output_type": "stream",
     "text": [
      "-------- Schema --------\n",
      "---- batch_id ----\n",
      "shape storage: (1,) / shape ml: (0,)\n",
      "location storage: 0->1 / location ml: 0->0\n",
      "\n",
      "---- variation_id ----\n",
      "shape storage: (1,) / shape ml: (0,)\n",
      "location storage: 1->2 / location ml: 0->0\n",
      "\n",
      "---- base_template_lib ----\n",
      "shape storage: (1,) / shape ml: (0,)\n",
      "location storage: 2->3 / location ml: 0->0\n",
      "\n",
      "---- base_template ----\n",
      "shape storage: (1,) / shape ml: (0,)\n",
      "location storage: 3->4 / location ml: 0->0\n",
      "\n",
      "---- base_epw ----\n",
      "shape storage: (1,) / shape ml: (0,)\n",
      "location storage: 4->5 / location ml: 0->0\n",
      "\n",
      "---- width ----\n",
      "shape storage: (1,) / shape ml: (1,)\n",
      "location storage: 5->6 / location ml: 0->1\n",
      "\n",
      "---- height ----\n",
      "shape storage: (1,) / shape ml: (1,)\n",
      "location storage: 6->7 / location ml: 1->2\n",
      "\n",
      "---- facade_2_footprint ----\n",
      "shape storage: (1,) / shape ml: (1,)\n",
      "location storage: 7->8 / location ml: 2->3\n",
      "\n",
      "---- perim_2_footprint ----\n",
      "shape storage: (1,) / shape ml: (1,)\n",
      "location storage: 8->9 / location ml: 3->4\n",
      "\n",
      "---- roof_2_footprint ----\n",
      "shape storage: (1,) / shape ml: (1,)\n",
      "location storage: 9->10 / location ml: 4->5\n",
      "\n",
      "---- footprint_2_ground ----\n",
      "shape storage: (1,) / shape ml: (1,)\n",
      "location storage: 10->11 / location ml: 5->6\n",
      "\n",
      "---- shading_fact ----\n",
      "shape storage: (1,) / shape ml: (1,)\n",
      "location storage: 11->12 / location ml: 6->7\n",
      "\n",
      "---- wwr_n ----\n",
      "shape storage: (1,) / shape ml: (1,)\n",
      "location storage: 12->13 / location ml: 7->8\n",
      "\n",
      "---- wwr_e ----\n",
      "shape storage: (1,) / shape ml: (1,)\n",
      "location storage: 13->14 / location ml: 8->9\n",
      "\n",
      "---- wwr_s ----\n",
      "shape storage: (1,) / shape ml: (1,)\n",
      "location storage: 14->15 / location ml: 9->10\n",
      "\n",
      "---- wwr_w ----\n",
      "shape storage: (1,) / shape ml: (1,)\n",
      "location storage: 15->16 / location ml: 10->11\n",
      "\n",
      "---- orientation ----\n",
      "shape storage: (1,) / shape ml: (4,)\n",
      "location storage: 16->17 / location ml: 11->15\n",
      "\n",
      "---- LightingPowerDensity ----\n",
      "shape storage: (1,) / shape ml: (1,)\n",
      "location storage: 17->18 / location ml: 15->16\n",
      "\n",
      "---- EquipmentPowerDensity ----\n",
      "shape storage: (1,) / shape ml: (1,)\n",
      "location storage: 18->19 / location ml: 16->17\n",
      "\n",
      "---- PeopleDensity ----\n",
      "shape storage: (1,) / shape ml: (1,)\n",
      "location storage: 19->20 / location ml: 17->18\n",
      "\n",
      "---- FacadeRValue ----\n",
      "shape storage: (1,) / shape ml: (1,)\n",
      "location storage: 20->21 / location ml: 18->19\n",
      "\n",
      "---- RoofRValue ----\n",
      "shape storage: (1,) / shape ml: (1,)\n",
      "location storage: 21->22 / location ml: 19->20\n",
      "\n",
      "---- PartitionRValue ----\n",
      "shape storage: (1,) / shape ml: (1,)\n",
      "location storage: 22->23 / location ml: 20->21\n",
      "\n",
      "---- SlabRValue ----\n",
      "shape storage: (1,) / shape ml: (1,)\n",
      "location storage: 23->24 / location ml: 21->22\n",
      "\n",
      "---- FacadeMass ----\n",
      "shape storage: (1,) / shape ml: (1,)\n",
      "location storage: 24->25 / location ml: 22->23\n",
      "\n",
      "---- RoofMass ----\n",
      "shape storage: (1,) / shape ml: (1,)\n",
      "location storage: 25->26 / location ml: 23->24\n",
      "\n",
      "---- PartitionMass ----\n",
      "shape storage: (1,) / shape ml: (1,)\n",
      "location storage: 26->27 / location ml: 24->25\n",
      "\n",
      "---- SlabMass ----\n",
      "shape storage: (1,) / shape ml: (1,)\n",
      "location storage: 27->28 / location ml: 25->26\n",
      "\n",
      "---- schedules_seed ----\n",
      "shape storage: (1,) / shape ml: (0,)\n",
      "location storage: 28->29 / location ml: 26->26\n",
      "\n",
      "---- schedules ----\n",
      "shape storage: (8, 16) / shape ml: (8, 8760)\n",
      "location storage: 29->157 / location ml: 26->70106\n",
      "\n",
      "Total length of storage vectors: 157 / Total length of ml vectors: 70106\n"
     ]
    }
   ],
   "source": [
    "print(schema)"
   ]
  },
  {
   "attachments": {},
   "cell_type": "markdown",
   "metadata": {},
   "source": [
    "We see that the length of the storage vector is significantly smaller than the length the vector the ML model will see."
   ]
  },
  {
   "attachments": {},
   "cell_type": "markdown",
   "metadata": {},
   "source": [
    "## Generating new design vectors in storage space"
   ]
  },
  {
   "attachments": {},
   "cell_type": "markdown",
   "metadata": {},
   "source": [
    "First let's generate a new, empty design vector, and update the Roof R-Value, and then check that it updated correctly:"
   ]
  },
  {
   "cell_type": "code",
   "execution_count": 42,
   "metadata": {},
   "outputs": [
    {
     "data": {
      "text/plain": [
       "25.0"
      ]
     },
     "execution_count": 42,
     "metadata": {},
     "output_type": "execute_result"
    }
   ],
   "source": [
    "storage_vector = schema.generate_empty_storage_vector()\n",
    "schema.update_storage_vector(storage_vector=storage_vector, parameter=\"RoofRValue\", value=25)\n",
    "schema[\"RoofRValue\"].extract_storage_values(storage_vector)"
   ]
  },
  {
   "attachments": {},
   "cell_type": "markdown",
   "metadata": {},
   "source": [
    "If we print out the full vector, we should be able to see th 25 and a whole bunch of zeros:"
   ]
  },
  {
   "cell_type": "code",
   "execution_count": 43,
   "metadata": {},
   "outputs": [
    {
     "name": "stdout",
     "output_type": "stream",
     "text": [
      "[ 0.  0.  0.  0.  0.  0.  0.  0.  0.  0.  0.  0.  0.  0.  0.  0.  0.  0.\n",
      "  0.  0.  0. 25.  0.  0.  0.  0.  0.  0.  0.  0.  0.  0.  0.  0.  0.  0.\n",
      "  0.  0.  0.  0.  0.  0.  0.  0.  0.  0.  0.  0.  0.  0.  0.  0.  0.  0.\n",
      "  0.  0.  0.  0.  0.  0.  0.  0.  0.  0.  0.  0.  0.  0.  0.  0.  0.  0.\n",
      "  0.  0.  0.  0.  0.  0.  0.  0.  0.  0.  0.  0.  0.  0.  0.  0.  0.  0.\n",
      "  0.  0.  0.  0.  0.  0.  0.  0.  0.  0.  0.  0.  0.  0.  0.  0.  0.  0.\n",
      "  0.  0.  0.  0.  0.  0.  0.  0.  0.  0.  0.  0.  0.  0.  0.  0.  0.  0.\n",
      "  0.  0.  0.  0.  0.  0.  0.  0.  0.  0.  0.  0.  0.  0.  0.  0.  0.  0.\n",
      "  0.  0.  0.  0.  0.  0.  0.  0.  0.  0.  0.  0.  0.]\n"
     ]
    }
   ],
   "source": [
    "print(storage_vector)"
   ]
  },
  {
   "attachments": {},
   "cell_type": "markdown",
   "metadata": {},
   "source": [
    "Let's create a new batch of designs:"
   ]
  },
  {
   "cell_type": "code",
   "execution_count": 44,
   "metadata": {},
   "outputs": [
    {
     "data": {
      "text/plain": [
       "(20, 157)"
      ]
     },
     "execution_count": 44,
     "metadata": {},
     "output_type": "execute_result"
    }
   ],
   "source": [
    "batch_size = 20\n",
    "storage_batch = schema.generate_empty_storage_batch(batch_size)\n",
    "storage_batch.shape"
   ]
  },
  {
   "attachments": {},
   "cell_type": "markdown",
   "metadata": {},
   "source": [
    "Great, we see that it has 20 design vectors with 151 values each.\n",
    "\n",
    "Let's try updating all of the facade R-values values in a batch with the same value:"
   ]
  },
  {
   "cell_type": "code",
   "execution_count": 45,
   "metadata": {},
   "outputs": [
    {
     "data": {
      "text/plain": [
       "array([[14.],\n",
       "       [14.],\n",
       "       [14.],\n",
       "       [14.],\n",
       "       [14.],\n",
       "       [14.],\n",
       "       [14.],\n",
       "       [14.],\n",
       "       [14.],\n",
       "       [14.],\n",
       "       [14.],\n",
       "       [14.],\n",
       "       [14.],\n",
       "       [14.],\n",
       "       [14.],\n",
       "       [14.],\n",
       "       [14.],\n",
       "       [14.],\n",
       "       [14.],\n",
       "       [14.]])"
      ]
     },
     "execution_count": 45,
     "metadata": {},
     "output_type": "execute_result"
    }
   ],
   "source": [
    "schema.update_storage_batch(storage_batch, parameter=\"FacadeRValue\", value=14)\n",
    "schema[\"FacadeRValue\"].extract_storage_values_batch(storage_batch)"
   ]
  },
  {
   "attachments": {},
   "cell_type": "markdown",
   "metadata": {},
   "source": [
    "Now let's try updating an entire batch with random values.  We can also unnormalize the uniform random variable into the desired range:"
   ]
  },
  {
   "cell_type": "code",
   "execution_count": 46,
   "metadata": {},
   "outputs": [
    {
     "data": {
      "text/plain": [
       "array([[13.75555624],\n",
       "       [12.99750627],\n",
       "       [ 0.82032116],\n",
       "       [ 3.82719871],\n",
       "       [ 6.45852444],\n",
       "       [ 1.84712761],\n",
       "       [13.00675875],\n",
       "       [ 7.04552552],\n",
       "       [ 2.70067468],\n",
       "       [ 0.50608678],\n",
       "       [14.25081783],\n",
       "       [10.04538506],\n",
       "       [11.67761398],\n",
       "       [ 9.64298854],\n",
       "       [14.7662466 ],\n",
       "       [10.21390114],\n",
       "       [ 1.98175302],\n",
       "       [ 6.60543521],\n",
       "       [13.89003287],\n",
       "       [11.81778673]])"
      ]
     },
     "execution_count": 46,
     "metadata": {},
     "output_type": "execute_result"
    }
   ],
   "source": [
    "parameter = \"SlabRValue\"\n",
    "n = batch_size\n",
    "shape = (n, *schema[parameter].shape_storage)\n",
    "values = np.random.rand(*shape) # create a random sample with appropriate shape\n",
    "values = schema[parameter].unnormalize(values) # schema parameter must be a numeric type with min/max defined for unnormalize to work\n",
    "schema.update_storage_batch(storage_batch, parameter=parameter, value=values)\n",
    "schema[parameter].extract_storage_values_batch(storage_batch)"
   ]
  },
  {
   "attachments": {},
   "cell_type": "markdown",
   "metadata": {},
   "source": [
    "Finally, let's try updating just a subset of the batch by using the `index` parameter:\n",
    "\n",
    "*nb: we can also use an int instead of a tuple for `index` to only update a single vector's parameter*"
   ]
  },
  {
   "cell_type": "code",
   "execution_count": 47,
   "metadata": {},
   "outputs": [
    {
     "data": {
      "text/plain": [
       "array([[0.        ],\n",
       "       [0.        ],\n",
       "       [0.05444635],\n",
       "       [0.82962058],\n",
       "       [0.11401286],\n",
       "       [0.76654051],\n",
       "       [0.20856012],\n",
       "       [0.43860779],\n",
       "       [0.50727226],\n",
       "       [0.5889278 ],\n",
       "       [0.        ],\n",
       "       [0.        ],\n",
       "       [0.        ],\n",
       "       [0.        ],\n",
       "       [0.        ],\n",
       "       [0.        ],\n",
       "       [0.        ],\n",
       "       [0.        ],\n",
       "       [0.        ],\n",
       "       [0.        ]])"
      ]
     },
     "execution_count": 47,
     "metadata": {},
     "output_type": "execute_result"
    }
   ],
   "source": [
    "start = 2\n",
    "n = 8\n",
    "end = start + n\n",
    "parameter = \"PartitionRValue\"\n",
    "shape = (n, *schema[parameter].shape_storage)\n",
    "values = np.random.rand(*shape) # create a random sample with appropriate shape\n",
    "\n",
    "schema.update_storage_batch(storage_batch, index=(start,end), parameter=parameter, value=values)\n",
    "schema[parameter].extract_storage_values_batch(storage_batch) "
   ]
  },
  {
   "attachments": {},
   "cell_type": "markdown",
   "metadata": {},
   "source": [
    "A useful technique will be to start with a small batch, and then duplicate it in concatenations along `axis=0` as we build up our mixed grid/hypercube/random samples.  Let's start by creating a new batch with a single vector."
   ]
  },
  {
   "cell_type": "code",
   "execution_count": 48,
   "metadata": {},
   "outputs": [
    {
     "data": {
      "text/plain": [
       "(1, 157)"
      ]
     },
     "execution_count": 48,
     "metadata": {},
     "output_type": "execute_result"
    }
   ],
   "source": [
    "storage_batch = schema.generate_empty_storage_batch(1)\n",
    "storage_batch.shape"
   ]
  },
  {
   "attachments": {},
   "cell_type": "markdown",
   "metadata": {},
   "source": [
    "Now let's say some baseline parameters (e.g. pulled from ResStock)"
   ]
  },
  {
   "cell_type": "code",
   "execution_count": 49,
   "metadata": {},
   "outputs": [
    {
     "data": {
      "text/plain": [
       "array([[ 0. ,  0. ,  0. ,  2. ,  0. ,  0. ,  0. ,  0. ,  0. ,  0. ,  0. ,\n",
       "         0. ,  0. ,  0. ,  0. ,  0. ,  0. ,  7.2,  0. ,  0. , 20. , 30. ,\n",
       "         0. ,  0. ,  0. ,  0. ,  0. ,  0. ,  0. ,  0. ,  0. ,  0. ,  0. ,\n",
       "         0. ,  0. ,  0. ,  0. ,  0. ,  0. ,  0. ,  0. ,  0. ,  0. ,  0. ,\n",
       "         0. ,  0. ,  0. ,  0. ,  0. ,  0. ,  0. ,  0. ,  0. ,  0. ,  0. ,\n",
       "         0. ,  0. ,  0. ,  0. ,  0. ,  0. ,  0. ,  0. ,  0. ,  0. ,  0. ,\n",
       "         0. ,  0. ,  0. ,  0. ,  0. ,  0. ,  0. ,  0. ,  0. ,  0. ,  0. ,\n",
       "         0. ,  0. ,  0. ,  0. ,  0. ,  0. ,  0. ,  0. ,  0. ,  0. ,  0. ,\n",
       "         0. ,  0. ,  0. ,  0. ,  0. ,  0. ,  0. ,  0. ,  0. ,  0. ,  0. ,\n",
       "         0. ,  0. ,  0. ,  0. ,  0. ,  0. ,  0. ,  0. ,  0. ,  0. ,  0. ,\n",
       "         0. ,  0. ,  0. ,  0. ,  0. ,  0. ,  0. ,  0. ,  0. ,  0. ,  0. ,\n",
       "         0. ,  0. ,  0. ,  0. ,  0. ,  0. ,  0. ,  0. ,  0. ,  0. ,  0. ,\n",
       "         0. ,  0. ,  0. ,  0. ,  0. ,  0. ,  0. ,  0. ,  0. ,  0. ,  0. ,\n",
       "         0. ,  0. ,  0. ,  0. ,  0. ,  0. ,  0. ,  0. ,  0. ,  0. ,  0. ,\n",
       "         0. ,  0. ,  0. ],\n",
       "       [ 0. ,  0. ,  0. ,  2. ,  0. ,  0. ,  0. ,  0. ,  0. ,  0. ,  0. ,\n",
       "         0. ,  0. ,  0. ,  0. ,  0. ,  0. ,  7.2,  0. ,  0. , 20. , 30. ,\n",
       "         0. ,  0. ,  0. ,  0. ,  0. ,  0. ,  0. ,  0. ,  0. ,  0. ,  0. ,\n",
       "         0. ,  0. ,  0. ,  0. ,  0. ,  0. ,  0. ,  0. ,  0. ,  0. ,  0. ,\n",
       "         0. ,  0. ,  0. ,  0. ,  0. ,  0. ,  0. ,  0. ,  0. ,  0. ,  0. ,\n",
       "         0. ,  0. ,  0. ,  0. ,  0. ,  0. ,  0. ,  0. ,  0. ,  0. ,  0. ,\n",
       "         0. ,  0. ,  0. ,  0. ,  0. ,  0. ,  0. ,  0. ,  0. ,  0. ,  0. ,\n",
       "         0. ,  0. ,  0. ,  0. ,  0. ,  0. ,  0. ,  0. ,  0. ,  0. ,  0. ,\n",
       "         0. ,  0. ,  0. ,  0. ,  0. ,  0. ,  0. ,  0. ,  0. ,  0. ,  0. ,\n",
       "         0. ,  0. ,  0. ,  0. ,  0. ,  0. ,  0. ,  0. ,  0. ,  0. ,  0. ,\n",
       "         0. ,  0. ,  0. ,  0. ,  0. ,  0. ,  0. ,  0. ,  0. ,  0. ,  0. ,\n",
       "         0. ,  0. ,  0. ,  0. ,  0. ,  0. ,  0. ,  0. ,  0. ,  0. ,  0. ,\n",
       "         0. ,  0. ,  0. ,  0. ,  0. ,  0. ,  0. ,  0. ,  0. ,  0. ,  0. ,\n",
       "         0. ,  0. ,  0. ,  0. ,  0. ,  0. ,  0. ,  0. ,  0. ,  0. ,  0. ,\n",
       "         0. ,  0. ,  0. ],\n",
       "       [ 0. ,  0. ,  0. ,  2. ,  0. ,  0. ,  0. ,  0. ,  0. ,  0. ,  0. ,\n",
       "         0. ,  0. ,  0. ,  0. ,  0. ,  0. ,  7.2,  0. ,  0. , 20. , 30. ,\n",
       "         0. ,  0. ,  0. ,  0. ,  0. ,  0. ,  0. ,  0. ,  0. ,  0. ,  0. ,\n",
       "         0. ,  0. ,  0. ,  0. ,  0. ,  0. ,  0. ,  0. ,  0. ,  0. ,  0. ,\n",
       "         0. ,  0. ,  0. ,  0. ,  0. ,  0. ,  0. ,  0. ,  0. ,  0. ,  0. ,\n",
       "         0. ,  0. ,  0. ,  0. ,  0. ,  0. ,  0. ,  0. ,  0. ,  0. ,  0. ,\n",
       "         0. ,  0. ,  0. ,  0. ,  0. ,  0. ,  0. ,  0. ,  0. ,  0. ,  0. ,\n",
       "         0. ,  0. ,  0. ,  0. ,  0. ,  0. ,  0. ,  0. ,  0. ,  0. ,  0. ,\n",
       "         0. ,  0. ,  0. ,  0. ,  0. ,  0. ,  0. ,  0. ,  0. ,  0. ,  0. ,\n",
       "         0. ,  0. ,  0. ,  0. ,  0. ,  0. ,  0. ,  0. ,  0. ,  0. ,  0. ,\n",
       "         0. ,  0. ,  0. ,  0. ,  0. ,  0. ,  0. ,  0. ,  0. ,  0. ,  0. ,\n",
       "         0. ,  0. ,  0. ,  0. ,  0. ,  0. ,  0. ,  0. ,  0. ,  0. ,  0. ,\n",
       "         0. ,  0. ,  0. ,  0. ,  0. ,  0. ,  0. ,  0. ,  0. ,  0. ,  0. ,\n",
       "         0. ,  0. ,  0. ,  0. ,  0. ,  0. ,  0. ,  0. ,  0. ,  0. ,  0. ,\n",
       "         0. ,  0. ,  0. ],\n",
       "       [ 0. ,  0. ,  0. ,  2. ,  0. ,  0. ,  0. ,  0. ,  0. ,  0. ,  0. ,\n",
       "         0. ,  0. ,  0. ,  0. ,  0. ,  0. ,  7.2,  0. ,  0. , 20. , 30. ,\n",
       "         0. ,  0. ,  0. ,  0. ,  0. ,  0. ,  0. ,  0. ,  0. ,  0. ,  0. ,\n",
       "         0. ,  0. ,  0. ,  0. ,  0. ,  0. ,  0. ,  0. ,  0. ,  0. ,  0. ,\n",
       "         0. ,  0. ,  0. ,  0. ,  0. ,  0. ,  0. ,  0. ,  0. ,  0. ,  0. ,\n",
       "         0. ,  0. ,  0. ,  0. ,  0. ,  0. ,  0. ,  0. ,  0. ,  0. ,  0. ,\n",
       "         0. ,  0. ,  0. ,  0. ,  0. ,  0. ,  0. ,  0. ,  0. ,  0. ,  0. ,\n",
       "         0. ,  0. ,  0. ,  0. ,  0. ,  0. ,  0. ,  0. ,  0. ,  0. ,  0. ,\n",
       "         0. ,  0. ,  0. ,  0. ,  0. ,  0. ,  0. ,  0. ,  0. ,  0. ,  0. ,\n",
       "         0. ,  0. ,  0. ,  0. ,  0. ,  0. ,  0. ,  0. ,  0. ,  0. ,  0. ,\n",
       "         0. ,  0. ,  0. ,  0. ,  0. ,  0. ,  0. ,  0. ,  0. ,  0. ,  0. ,\n",
       "         0. ,  0. ,  0. ,  0. ,  0. ,  0. ,  0. ,  0. ,  0. ,  0. ,  0. ,\n",
       "         0. ,  0. ,  0. ,  0. ,  0. ,  0. ,  0. ,  0. ,  0. ,  0. ,  0. ,\n",
       "         0. ,  0. ,  0. ,  0. ,  0. ,  0. ,  0. ,  0. ,  0. ,  0. ,  0. ,\n",
       "         0. ,  0. ,  0. ]])"
      ]
     },
     "execution_count": 49,
     "metadata": {},
     "output_type": "execute_result"
    }
   ],
   "source": [
    "schema.update_storage_batch(storage_batch, parameter=\"FacadeRValue\", value=20)\n",
    "schema.update_storage_batch(storage_batch, parameter=\"RoofRValue\", value=30)\n",
    "schema.update_storage_batch(storage_batch, parameter=\"LightingPowerDensity\", value=7.2)\n",
    "schema.update_storage_batch(storage_batch, parameter=\"base_template_lib\", value=0)\n",
    "schema.update_storage_batch(storage_batch, parameter=\"base_template\", value=2)\n",
    "storage_batch = np.concatenate([storage_batch for _ in range(4)], axis=0)\n",
    "storage_batch"
   ]
  },
  {
   "attachments": {},
   "cell_type": "markdown",
   "metadata": {},
   "source": [
    "Now let's set the orientations:"
   ]
  },
  {
   "cell_type": "code",
   "execution_count": 50,
   "metadata": {},
   "outputs": [
    {
     "data": {
      "text/plain": [
       "array([[0.],\n",
       "       [1.],\n",
       "       [2.],\n",
       "       [3.]])"
      ]
     },
     "execution_count": 50,
     "metadata": {},
     "output_type": "execute_result"
    }
   ],
   "source": [
    "values = np.arange(4).reshape(-1,1)\n",
    "parameter = \"orientation\"\n",
    "schema.update_storage_batch(storage_batch, parameter=parameter, value=values)\n",
    "schema[parameter].extract_storage_values_batch(storage_batch)"
   ]
  },
  {
   "attachments": {},
   "cell_type": "markdown",
   "metadata": {},
   "source": [
    "Looks good!  Now let's stack this up and begin generating some geometric variations."
   ]
  },
  {
   "cell_type": "code",
   "execution_count": 51,
   "metadata": {},
   "outputs": [],
   "source": [
    "orientations_per_base = 4\n",
    "geometric_variations_per_orientation = 5"
   ]
  },
  {
   "cell_type": "code",
   "execution_count": 52,
   "metadata": {},
   "outputs": [
    {
     "data": {
      "text/plain": [
       "(20, 157)"
      ]
     },
     "execution_count": 52,
     "metadata": {},
     "output_type": "execute_result"
    }
   ],
   "source": [
    "storage_batch = np.repeat(storage_batch, geometric_variations_per_orientation, axis=0)\n",
    "storage_batch.shape"
   ]
  },
  {
   "cell_type": "code",
   "execution_count": 53,
   "metadata": {},
   "outputs": [
    {
     "data": {
      "text/plain": [
       "array([[0.],\n",
       "       [0.],\n",
       "       [0.],\n",
       "       [0.],\n",
       "       [0.],\n",
       "       [1.],\n",
       "       [1.],\n",
       "       [1.],\n",
       "       [1.],\n",
       "       [1.],\n",
       "       [2.],\n",
       "       [2.],\n",
       "       [2.],\n",
       "       [2.],\n",
       "       [2.],\n",
       "       [3.],\n",
       "       [3.],\n",
       "       [3.],\n",
       "       [3.],\n",
       "       [3.]])"
      ]
     },
     "execution_count": 53,
     "metadata": {},
     "output_type": "execute_result"
    }
   ],
   "source": [
    "schema[\"orientation\"].extract_storage_values_batch(storage_batch)"
   ]
  },
  {
   "attachments": {},
   "cell_type": "markdown",
   "metadata": {},
   "source": [
    "Looks good!  let's start populating this: if we wanted to use repeating values, we could do nested loops:"
   ]
  },
  {
   "cell_type": "code",
   "execution_count": 54,
   "metadata": {},
   "outputs": [],
   "source": [
    "n = geometric_variations_per_orientation # how many design vectors in this mini batch\n",
    "for i in range(orientations_per_base):\n",
    "\tstart = i*n # where this mini batch starts in the parent batch\n",
    "\tend = start + n # where this mini batch ends in the parent batch\n",
    "\tfor j,parameter in enumerate(schema.parameters):\n",
    "\t\tif isinstance(parameter, ShoeboxGeometryParameter):\n",
    "\t\t\tname = parameter.name\n",
    "\t\t\tshape = parameter.shape_storage\n",
    "\t\t\tnp.random.seed(j+20923) # arbitrary but reliable seed\n",
    "\t\t\tvalues = np.random.rand(n, *shape) \n",
    "\t\t\tvalues = parameter.unnormalize(values)\n",
    "\t\t\tschema.update_storage_batch(storage_batch, index=(start,end), parameter=name, value=values)\n"
   ]
  },
  {
   "cell_type": "code",
   "execution_count": 55,
   "metadata": {},
   "outputs": [
    {
     "data": {
      "text/plain": [
       "array([[0.40193869],\n",
       "       [0.5068512 ],\n",
       "       [0.05550449],\n",
       "       [0.61793909],\n",
       "       [0.97010965],\n",
       "       [0.40193869],\n",
       "       [0.5068512 ],\n",
       "       [0.05550449],\n",
       "       [0.61793909],\n",
       "       [0.97010965],\n",
       "       [0.40193869],\n",
       "       [0.5068512 ],\n",
       "       [0.05550449],\n",
       "       [0.61793909],\n",
       "       [0.97010965],\n",
       "       [0.40193869],\n",
       "       [0.5068512 ],\n",
       "       [0.05550449],\n",
       "       [0.61793909],\n",
       "       [0.97010965]])"
      ]
     },
     "execution_count": 55,
     "metadata": {},
     "output_type": "execute_result"
    }
   ],
   "source": [
    "schema[\"wwr_e\"].extract_storage_values_batch(storage_batch)"
   ]
  },
  {
   "cell_type": "code",
   "execution_count": 56,
   "metadata": {},
   "outputs": [
    {
     "data": {
      "text/plain": [
       "array([[6.29478162],\n",
       "       [8.1783848 ],\n",
       "       [7.71875683],\n",
       "       [8.13812409],\n",
       "       [8.49262696],\n",
       "       [6.29478162],\n",
       "       [8.1783848 ],\n",
       "       [7.71875683],\n",
       "       [8.13812409],\n",
       "       [8.49262696],\n",
       "       [6.29478162],\n",
       "       [8.1783848 ],\n",
       "       [7.71875683],\n",
       "       [8.13812409],\n",
       "       [8.49262696],\n",
       "       [6.29478162],\n",
       "       [8.1783848 ],\n",
       "       [7.71875683],\n",
       "       [8.13812409],\n",
       "       [8.49262696]])"
      ]
     },
     "execution_count": 56,
     "metadata": {},
     "output_type": "execute_result"
    }
   ],
   "source": [
    "schema[\"width\"].extract_storage_values_batch(storage_batch)"
   ]
  },
  {
   "attachments": {},
   "cell_type": "markdown",
   "metadata": {},
   "source": [
    "Great, these are repeating correctly!  Now, suppose we want to just slightly perturb all of these so that they aren't perfectly repeating, but are close to repeating:"
   ]
  },
  {
   "cell_type": "code",
   "execution_count": 57,
   "metadata": {},
   "outputs": [
    {
     "data": {
      "text/plain": [
       "array([[6.31768741],\n",
       "       [8.16401562],\n",
       "       [7.69802477],\n",
       "       [8.12204568],\n",
       "       [8.5925901 ],\n",
       "       [6.35466394],\n",
       "       [8.13898185],\n",
       "       [7.79176962],\n",
       "       [8.15827553],\n",
       "       [8.48304531],\n",
       "       [6.27396719],\n",
       "       [8.19034802],\n",
       "       [7.8071466 ],\n",
       "       [8.14228871],\n",
       "       [8.50921745],\n",
       "       [6.31695304],\n",
       "       [8.13701467],\n",
       "       [7.81001684],\n",
       "       [8.17402808],\n",
       "       [8.46220546]])"
      ]
     },
     "execution_count": 57,
     "metadata": {},
     "output_type": "execute_result"
    }
   ],
   "source": [
    "n = storage_batch.shape[0]\n",
    "for i,parameter in enumerate(schema.parameters):\n",
    "\tif isinstance(parameter, ShoeboxGeometryParameter):\n",
    "\t\tname = parameter.name\n",
    "\t\tshape = parameter.shape_storage\n",
    "\t\tperturbations = np.random.rand(n,*shape)*0.2 - 0.1\n",
    "\t\tvalues = parameter.extract_storage_values_batch(storage_batch)\n",
    "\t\tvalues += perturbations\n",
    "\t\tschema.update_storage_batch(storage_batch,parameter=name,value=values)\n",
    "\n",
    "schema[\"width\"].extract_storage_values_batch(storage_batch)"
   ]
  },
  {
   "attachments": {},
   "cell_type": "markdown",
   "metadata": {},
   "source": [
    "Great!  We see that they are close to their previous values, but not identical.  \n",
    "\n",
    "Alternatively, we might prefer to simply use fully random geometric variations for all of our orientation duplicates, rather than repeating the geometry across orientations:"
   ]
  },
  {
   "cell_type": "code",
   "execution_count": 58,
   "metadata": {},
   "outputs": [
    {
     "data": {
      "text/plain": [
       "array([[10.82209539],\n",
       "       [ 7.57764369],\n",
       "       [ 4.44701543],\n",
       "       [11.49733639],\n",
       "       [ 6.75531458],\n",
       "       [ 8.77008879],\n",
       "       [ 8.29771713],\n",
       "       [ 5.93074429],\n",
       "       [ 9.20371717],\n",
       "       [ 7.50698059],\n",
       "       [ 4.55912467],\n",
       "       [ 6.83968463],\n",
       "       [ 4.04239211],\n",
       "       [11.86941893],\n",
       "       [ 4.67267898],\n",
       "       [ 5.92858978],\n",
       "       [ 6.91735153],\n",
       "       [ 4.96718329],\n",
       "       [ 3.17630159],\n",
       "       [11.89581458]])"
      ]
     },
     "execution_count": 58,
     "metadata": {},
     "output_type": "execute_result"
    }
   ],
   "source": [
    "n = storage_batch.shape[0]\n",
    "for i,parameter in enumerate(schema.parameters):\n",
    "\tif isinstance(parameter, ShoeboxGeometryParameter):\n",
    "\t\tname = parameter.name\n",
    "\t\tshape = parameter.shape_storage\n",
    "\t\tvalues = np.random.rand(n,*shape)\n",
    "\t\tvalues = parameter.unnormalize(values)\n",
    "\t\tschema.update_storage_batch(storage_batch,parameter=name,value=values)\n",
    "\n",
    "schema[\"width\"].extract_storage_values_batch(storage_batch)"
   ]
  },
  {
   "attachments": {},
   "cell_type": "markdown",
   "metadata": {},
   "source": [
    "Later on in this file, we will be inspecting template parameters as well, so let's just arbitrarily set some building template parameters for each design:"
   ]
  },
  {
   "cell_type": "code",
   "execution_count": 59,
   "metadata": {},
   "outputs": [
    {
     "data": {
      "text/plain": [
       "array([[16.0987722 ],\n",
       "       [ 0.54685159],\n",
       "       [ 9.92263323],\n",
       "       [ 0.58972666],\n",
       "       [ 5.75351925],\n",
       "       [ 2.69068308],\n",
       "       [ 4.6627841 ],\n",
       "       [ 3.36097484],\n",
       "       [17.97861308],\n",
       "       [17.19523042],\n",
       "       [18.69919415],\n",
       "       [15.33366732],\n",
       "       [18.12874707],\n",
       "       [11.99523585],\n",
       "       [ 8.32273254],\n",
       "       [ 1.34838942],\n",
       "       [17.17378608],\n",
       "       [18.39893199],\n",
       "       [14.52133785],\n",
       "       [ 1.34805487]])"
      ]
     },
     "execution_count": 59,
     "metadata": {},
     "output_type": "execute_result"
    }
   ],
   "source": [
    "n = storage_batch.shape[0]\n",
    "for i,parameter in enumerate(schema.parameters):\n",
    "\tif isinstance(parameter, BuildingTemplateParameter):\n",
    "\t\tname = parameter.name\n",
    "\t\tshape = parameter.shape_storage\n",
    "\t\tvalues = np.random.rand(n,*shape)\n",
    "\t\tvalues = parameter.unnormalize(values)\n",
    "\t\tschema.update_storage_batch(storage_batch,parameter=name,value=values)\n",
    "\n",
    "schema[\"LightingPowerDensity\"].extract_storage_values_batch(storage_batch)"
   ]
  },
  {
   "attachments": {},
   "cell_type": "markdown",
   "metadata": {},
   "source": [
    "Suppose this was our finished batch.  We can save it to an HDF5 file.  Let's say this was building 23 from our ResStock database."
   ]
  },
  {
   "cell_type": "code",
   "execution_count": 60,
   "metadata": {},
   "outputs": [],
   "source": [
    "import h5py\n",
    "from storage import upload_to_bucket"
   ]
  },
  {
   "cell_type": "code",
   "execution_count": 61,
   "metadata": {},
   "outputs": [],
   "source": [
    "# Update the building IDs\n",
    "batch_id = 23 # suppose this is the base building we are drawing from\n",
    "n = storage_batch.shape[0]\n",
    "variation_ids = np.arange(n)\n",
    "schema.update_storage_batch(storage_batch,parameter=\"batch_id\",value=batch_id)\n",
    "schema.update_storage_batch(storage_batch,parameter=\"variation_id\",value=variation_ids)\n",
    "\n",
    "# Write to an HDF5 file\n",
    "slug = f\"batch_{batch_id:05d}.hdf5\"\n",
    "outfile = f\"./data/{slug}\"\n",
    "with h5py.File(outfile,\"w\") as f:\n",
    "    f.create_dataset(name=\"storage_vectors\", shape=storage_batch.shape, dtype=storage_batch.dtype, data=storage_batch)\n",
    "\n",
    "# upload to cloud bucket for easy backup\n",
    "destination = f\"demo-batch-data/{slug}\"\n",
    "upload_to_bucket(destination, outfile)\n"
   ]
  },
  {
   "attachments": {},
   "cell_type": "markdown",
   "metadata": {},
   "source": [
    "## Simulation"
   ]
  },
  {
   "attachments": {},
   "cell_type": "markdown",
   "metadata": {},
   "source": [
    "Now let's suppose you want to simulate a design vector.  Let's open up an HDF5 file and read in only the first storage vector to get started."
   ]
  },
  {
   "cell_type": "code",
   "execution_count": 62,
   "metadata": {},
   "outputs": [
    {
     "data": {
      "text/plain": [
       "(23.0, 0.0)"
      ]
     },
     "execution_count": 62,
     "metadata": {},
     "output_type": "execute_result"
    }
   ],
   "source": [
    "batch_id = 23\n",
    "slug = f\"batch_{batch_id:05d}.hdf5\"\n",
    "outfile = f\"./data/hdf5/{slug}\"\n",
    "storage_vector = None\n",
    "with h5py.File(outfile,'r') as f:\n",
    "    storage_vector = f[\"storage_vectors\"][0]\n",
    "\n",
    "schema[\"batch_id\"].extract_storage_values(storage_vector), schema[\"variation_id\"].extract_storage_values(storage_vector)"
   ]
  },
  {
   "attachments": {},
   "cell_type": "markdown",
   "metadata": {},
   "source": [
    "Great! Looks like we successfully opened the 0th design variation from batch 23.\n",
    "\n",
    "Now let's create a simulation object for this storage vector:"
   ]
  },
  {
   "cell_type": "code",
   "execution_count": 63,
   "metadata": {},
   "outputs": [
    {
     "name": "stderr",
     "output_type": "stream",
     "text": [
      "INFO:archetypal:No 'ZONEVENTILATION:DESIGNFLOWRATE' created since IsScheduledVentilationOn == False.\n",
      "INFO:archetypal:No 'ZONEVENTILATION:WINDANDSTACKOPENAREA' created since IsNatVentOn == False.\n",
      "INFO:archetypal:No 'ZONEVENTILATION:DESIGNFLOWRATE' created since IsScheduledVentilationOn == False.\n",
      "INFO:archetypal:No 'ZONEVENTILATION:WINDANDSTACKOPENAREA' created since IsNatVentOn == False.\n"
     ]
    }
   ],
   "source": [
    "whitebox_sim = WhiteboxSimulation(schema, storage_vector)"
   ]
  },
  {
   "attachments": {},
   "cell_type": "markdown",
   "metadata": {},
   "source": [
    "Now we can take a look at the semantic objects that have been configured!"
   ]
  },
  {
   "cell_type": "code",
   "execution_count": 64,
   "metadata": {},
   "outputs": [
    {
     "name": "stdout",
     "output_type": "stream",
     "text": [
      "1.902105808817122\n",
      "10.822095385622553\n",
      "16.098772201515562\n",
      "0.47917882744739826\n",
      "89493fa4-df2e-11ed-b987-841b77d62e9a.idf\n"
     ]
    }
   ],
   "source": [
    "print(whitebox_sim.shoebox_config.facade_2_footprint)\n",
    "print(whitebox_sim.shoebox_config.width)\n",
    "print(whitebox_sim.template.Perimeter.Loads.LightingPowerDensity)\n",
    "print(whitebox_sim.template.Core.Loads.PeopleDensity)\n",
    "print(whitebox_sim.shoebox)"
   ]
  },
  {
   "cell_type": "markdown",
   "metadata": {},
   "source": [
    "Great!  Jeez I'm saying that a lot in this notebook.\n",
    "\n",
    "Let's run an actual simulation."
   ]
  },
  {
   "cell_type": "code",
   "execution_count": 65,
   "metadata": {},
   "outputs": [
    {
     "name": "stderr",
     "output_type": "stream",
     "text": [
      "C:\\EnergyPlusV9-2-0\\ExpandObjects.EXE #0-89493fa4-df2e-11ed-b987-841b77d62e9a.idf: 0.00it [00:00, ?it/s]INFO:89493fa4-df2e-11ed-b987-841b77d62e9a.idf:ExpandObjects Started.\n",
      "C:\\EnergyPlusV9-2-0\\ExpandObjects.EXE #0-89493fa4-df2e-11ed-b987-841b77d62e9a.idf: 1.00it [00:00, 31.7it/s]INFO:89493fa4-df2e-11ed-b987-841b77d62e9a.idf: Begin reading Energy+.idd file.\n",
      "C:\\EnergyPlusV9-2-0\\ExpandObjects.EXE #0-89493fa4-df2e-11ed-b987-841b77d62e9a.idf: 2.00it [00:00, 19.8it/s]INFO:89493fa4-df2e-11ed-b987-841b77d62e9a.idf: Done reading Energy+.idd file.\n",
      "C:\\EnergyPlusV9-2-0\\ExpandObjects.EXE #0-89493fa4-df2e-11ed-b987-841b77d62e9a.idf: 3.00it [00:00, 29.4it/s]INFO:89493fa4-df2e-11ed-b987-841b77d62e9a.idf:ExpandObjects Finished. Time:     0.062\n"
     ]
    },
    {
     "name": "stdout",
     "output_type": "stream",
     "text": [
      "ExpandObjects Started.\n",
      " Begin reading Energy+.idd file.\n",
      " Done reading Energy+.idd file.\n",
      "ExpandObjects Finished. Time:     0.062\n"
     ]
    },
    {
     "name": "stderr",
     "output_type": "stream",
     "text": [
      "C:\\EnergyPlusV9-2-0\\ExpandObjects.EXE #0-89493fa4-df2e-11ed-b987-841b77d62e9a.idf: 4.00it [00:00, 29.4it/s]INFO:89493fa4-df2e-11ed-b987-841b77d62e9a.idf:ExpandObjects completed in 0.10 seconds\n",
      "C:\\EnergyPlusV9-2-0\\ExpandObjects.EXE #0-89493fa4-df2e-11ed-b987-841b77d62e9a.idf: 4.00it [00:00, 36.3it/s]\n"
     ]
    },
    {
     "name": "stdout",
     "output_type": "stream",
     "text": [
      "ExpandObjects completed in 0.10 seconds\n"
     ]
    },
    {
     "name": "stderr",
     "output_type": "stream",
     "text": [
      "C:\\EnergyPlusV9-2-0\\energyplus.exe 89493fa4-df2e-11ed-b987-841b77d62e9a.idf: 0it [00:00, ?it/s]INFO:89493fa4-df2e-11ed-b987-841b77d62e9a.idf:Simulation started\n",
      "C:\\EnergyPlusV9-2-0\\energyplus.exe 89493fa4-df2e-11ed-b987-841b77d62e9a.idf: 0it [00:00, ?it/s]INFO:89493fa4-df2e-11ed-b987-841b77d62e9a.idf:EnergyPlus Starting\n",
      "C:\\EnergyPlusV9-2-0\\energyplus.exe 89493fa4-df2e-11ed-b987-841b77d62e9a.idf: 1it [00:00, 58.56it/s]INFO:89493fa4-df2e-11ed-b987-841b77d62e9a.idf:EnergyPlus, Version 9.2.0-921312fa1d, YMD=2023.04.19 20:50\n"
     ]
    },
    {
     "name": "stdout",
     "output_type": "stream",
     "text": [
      "Simulation started\n",
      "EnergyPlus Starting\n",
      "EnergyPlus, Version 9.2.0-921312fa1d, YMD=2023.04.19 20:50\n"
     ]
    },
    {
     "name": "stderr",
     "output_type": "stream",
     "text": [
      "C:\\EnergyPlusV9-2-0\\energyplus.exe 89493fa4-df2e-11ed-b987-841b77d62e9a.idf: 2it [00:00, 10.71it/s]INFO:89493fa4-df2e-11ed-b987-841b77d62e9a.idf:Adjusting Air System Sizing\n",
      "C:\\EnergyPlusV9-2-0\\energyplus.exe 89493fa4-df2e-11ed-b987-841b77d62e9a.idf: 3it [00:00, 15.89it/s]INFO:89493fa4-df2e-11ed-b987-841b77d62e9a.idf:Adjusting Standard 62.1 Ventilation Sizing\n",
      "C:\\EnergyPlusV9-2-0\\energyplus.exe 89493fa4-df2e-11ed-b987-841b77d62e9a.idf: 4it [00:00, 15.89it/s]INFO:89493fa4-df2e-11ed-b987-841b77d62e9a.idf:Initializing Simulation\n",
      "C:\\EnergyPlusV9-2-0\\energyplus.exe 89493fa4-df2e-11ed-b987-841b77d62e9a.idf: 5it [00:00, 15.89it/s]INFO:89493fa4-df2e-11ed-b987-841b77d62e9a.idf:Reporting Surfaces\n",
      "C:\\EnergyPlusV9-2-0\\energyplus.exe 89493fa4-df2e-11ed-b987-841b77d62e9a.idf: 6it [00:00, 15.89it/s]INFO:89493fa4-df2e-11ed-b987-841b77d62e9a.idf:Beginning Primary Simulation\n",
      "C:\\EnergyPlusV9-2-0\\energyplus.exe 89493fa4-df2e-11ed-b987-841b77d62e9a.idf: 7it [00:00, 15.89it/s]INFO:89493fa4-df2e-11ed-b987-841b77d62e9a.idf:Initializing New Environment Parameters\n",
      "C:\\EnergyPlusV9-2-0\\energyplus.exe 89493fa4-df2e-11ed-b987-841b77d62e9a.idf: 8it [00:00, 15.89it/s]INFO:89493fa4-df2e-11ed-b987-841b77d62e9a.idf:Warming up {1}\n",
      "C:\\EnergyPlusV9-2-0\\energyplus.exe 89493fa4-df2e-11ed-b987-841b77d62e9a.idf: 9it [00:00, 15.89it/s]INFO:89493fa4-df2e-11ed-b987-841b77d62e9a.idf:Warming up {2}\n",
      "C:\\EnergyPlusV9-2-0\\energyplus.exe 89493fa4-df2e-11ed-b987-841b77d62e9a.idf: 10it [00:00, 15.89it/s]INFO:89493fa4-df2e-11ed-b987-841b77d62e9a.idf:Warming up {3}\n",
      "C:\\EnergyPlusV9-2-0\\energyplus.exe 89493fa4-df2e-11ed-b987-841b77d62e9a.idf: 11it [00:00, 15.89it/s]INFO:89493fa4-df2e-11ed-b987-841b77d62e9a.idf:Warming up {4}\n",
      "C:\\EnergyPlusV9-2-0\\energyplus.exe 89493fa4-df2e-11ed-b987-841b77d62e9a.idf: 12it [00:00, 15.89it/s]INFO:89493fa4-df2e-11ed-b987-841b77d62e9a.idf:Warming up {5}\n",
      "C:\\EnergyPlusV9-2-0\\energyplus.exe 89493fa4-df2e-11ed-b987-841b77d62e9a.idf: 13it [00:00, 15.89it/s]INFO:89493fa4-df2e-11ed-b987-841b77d62e9a.idf:Warming up {6}\n",
      "C:\\EnergyPlusV9-2-0\\energyplus.exe 89493fa4-df2e-11ed-b987-841b77d62e9a.idf: 14it [00:00, 15.89it/s]INFO:89493fa4-df2e-11ed-b987-841b77d62e9a.idf:Starting Simulation at 01/01/2017 for RUN PERIOD 1\n",
      "C:\\EnergyPlusV9-2-0\\energyplus.exe 89493fa4-df2e-11ed-b987-841b77d62e9a.idf: 15it [00:00, 15.89it/s]INFO:89493fa4-df2e-11ed-b987-841b77d62e9a.idf:Updating Shadowing Calculations, Start Date=01/21/2017\n",
      "C:\\EnergyPlusV9-2-0\\energyplus.exe 89493fa4-df2e-11ed-b987-841b77d62e9a.idf: 16it [00:00, 54.85it/s]INFO:89493fa4-df2e-11ed-b987-841b77d62e9a.idf:Continuing Simulation at 01/21/2017 for RUN PERIOD 1\n"
     ]
    },
    {
     "name": "stdout",
     "output_type": "stream",
     "text": [
      "Adjusting Air System Sizing\n",
      "Adjusting Standard 62.1 Ventilation Sizing\n",
      "Initializing Simulation\n",
      "Reporting Surfaces\n",
      "Beginning Primary Simulation\n",
      "Initializing New Environment Parameters\n",
      "Warming up {1}\n",
      "Warming up {2}\n",
      "Warming up {3}\n",
      "Warming up {4}\n",
      "Warming up {5}\n",
      "Warming up {6}\n",
      "Starting Simulation at 01/01/2017 for RUN PERIOD 1\n",
      "Updating Shadowing Calculations, Start Date=01/21/2017\n",
      "Continuing Simulation at 01/21/2017 for RUN PERIOD 1\n"
     ]
    },
    {
     "name": "stderr",
     "output_type": "stream",
     "text": [
      "C:\\EnergyPlusV9-2-0\\energyplus.exe 89493fa4-df2e-11ed-b987-841b77d62e9a.idf: 17it [00:00, 54.85it/s]INFO:89493fa4-df2e-11ed-b987-841b77d62e9a.idf:Updating Shadowing Calculations, Start Date=02/10/2017\n",
      "C:\\EnergyPlusV9-2-0\\energyplus.exe 89493fa4-df2e-11ed-b987-841b77d62e9a.idf: 18it [00:00, 54.85it/s]INFO:89493fa4-df2e-11ed-b987-841b77d62e9a.idf:Continuing Simulation at 02/10/2017 for RUN PERIOD 1\n",
      "C:\\EnergyPlusV9-2-0\\energyplus.exe 89493fa4-df2e-11ed-b987-841b77d62e9a.idf: 19it [00:00, 54.85it/s]INFO:89493fa4-df2e-11ed-b987-841b77d62e9a.idf:Updating Shadowing Calculations, Start Date=03/02/2017\n",
      "C:\\EnergyPlusV9-2-0\\energyplus.exe 89493fa4-df2e-11ed-b987-841b77d62e9a.idf: 20it [00:00, 38.67it/s]INFO:89493fa4-df2e-11ed-b987-841b77d62e9a.idf:Continuing Simulation at 03/02/2017 for RUN PERIOD 1\n",
      "C:\\EnergyPlusV9-2-0\\energyplus.exe 89493fa4-df2e-11ed-b987-841b77d62e9a.idf: 21it [00:00, 38.67it/s]INFO:89493fa4-df2e-11ed-b987-841b77d62e9a.idf:Updating Shadowing Calculations, Start Date=03/22/2017\n"
     ]
    },
    {
     "name": "stdout",
     "output_type": "stream",
     "text": [
      "Updating Shadowing Calculations, Start Date=02/10/2017\n",
      "Continuing Simulation at 02/10/2017 for RUN PERIOD 1\n",
      "Updating Shadowing Calculations, Start Date=03/02/2017\n",
      "Continuing Simulation at 03/02/2017 for RUN PERIOD 1\n",
      "Updating Shadowing Calculations, Start Date=03/22/2017\n"
     ]
    },
    {
     "name": "stderr",
     "output_type": "stream",
     "text": [
      "C:\\EnergyPlusV9-2-0\\energyplus.exe 89493fa4-df2e-11ed-b987-841b77d62e9a.idf: 22it [00:00, 38.67it/s]INFO:89493fa4-df2e-11ed-b987-841b77d62e9a.idf:Continuing Simulation at 03/22/2017 for RUN PERIOD 1\n",
      "C:\\EnergyPlusV9-2-0\\energyplus.exe 89493fa4-df2e-11ed-b987-841b77d62e9a.idf: 23it [00:00, 38.67it/s]INFO:89493fa4-df2e-11ed-b987-841b77d62e9a.idf:Updating Shadowing Calculations, Start Date=04/11/2017\n",
      "C:\\EnergyPlusV9-2-0\\energyplus.exe 89493fa4-df2e-11ed-b987-841b77d62e9a.idf: 24it [00:00, 31.87it/s]INFO:89493fa4-df2e-11ed-b987-841b77d62e9a.idf:Continuing Simulation at 04/11/2017 for RUN PERIOD 1\n",
      "C:\\EnergyPlusV9-2-0\\energyplus.exe 89493fa4-df2e-11ed-b987-841b77d62e9a.idf: 25it [00:00, 31.87it/s]INFO:89493fa4-df2e-11ed-b987-841b77d62e9a.idf:Updating Shadowing Calculations, Start Date=05/01/2017\n",
      "C:\\EnergyPlusV9-2-0\\energyplus.exe 89493fa4-df2e-11ed-b987-841b77d62e9a.idf: 26it [00:00, 31.87it/s]INFO:89493fa4-df2e-11ed-b987-841b77d62e9a.idf:Continuing Simulation at 05/01/2017 for RUN PERIOD 1\n"
     ]
    },
    {
     "name": "stdout",
     "output_type": "stream",
     "text": [
      "Continuing Simulation at 03/22/2017 for RUN PERIOD 1\n",
      "Updating Shadowing Calculations, Start Date=04/11/2017\n",
      "Continuing Simulation at 04/11/2017 for RUN PERIOD 1\n",
      "Updating Shadowing Calculations, Start Date=05/01/2017\n",
      "Continuing Simulation at 05/01/2017 for RUN PERIOD 1\n"
     ]
    },
    {
     "name": "stderr",
     "output_type": "stream",
     "text": [
      "C:\\EnergyPlusV9-2-0\\energyplus.exe 89493fa4-df2e-11ed-b987-841b77d62e9a.idf: 27it [00:00, 31.87it/s]INFO:89493fa4-df2e-11ed-b987-841b77d62e9a.idf:Updating Shadowing Calculations, Start Date=05/21/2017\n",
      "C:\\EnergyPlusV9-2-0\\energyplus.exe 89493fa4-df2e-11ed-b987-841b77d62e9a.idf: 28it [00:00, 28.25it/s]INFO:89493fa4-df2e-11ed-b987-841b77d62e9a.idf:Continuing Simulation at 05/21/2017 for RUN PERIOD 1\n",
      "C:\\EnergyPlusV9-2-0\\energyplus.exe 89493fa4-df2e-11ed-b987-841b77d62e9a.idf: 29it [00:00, 28.25it/s]INFO:89493fa4-df2e-11ed-b987-841b77d62e9a.idf:Updating Shadowing Calculations, Start Date=06/10/2017\n",
      "C:\\EnergyPlusV9-2-0\\energyplus.exe 89493fa4-df2e-11ed-b987-841b77d62e9a.idf: 30it [00:00, 28.25it/s]INFO:89493fa4-df2e-11ed-b987-841b77d62e9a.idf:Continuing Simulation at 06/10/2017 for RUN PERIOD 1\n",
      "C:\\EnergyPlusV9-2-0\\energyplus.exe 89493fa4-df2e-11ed-b987-841b77d62e9a.idf: 31it [00:01, 28.25it/s]INFO:89493fa4-df2e-11ed-b987-841b77d62e9a.idf:Updating Shadowing Calculations, Start Date=06/30/2017\n",
      "C:\\EnergyPlusV9-2-0\\energyplus.exe 89493fa4-df2e-11ed-b987-841b77d62e9a.idf: 32it [00:01, 26.56it/s]INFO:89493fa4-df2e-11ed-b987-841b77d62e9a.idf:Continuing Simulation at 06/30/2017 for RUN PERIOD 1\n"
     ]
    },
    {
     "name": "stdout",
     "output_type": "stream",
     "text": [
      "Updating Shadowing Calculations, Start Date=05/21/2017\n",
      "Continuing Simulation at 05/21/2017 for RUN PERIOD 1\n",
      "Updating Shadowing Calculations, Start Date=06/10/2017\n",
      "Continuing Simulation at 06/10/2017 for RUN PERIOD 1\n",
      "Updating Shadowing Calculations, Start Date=06/30/2017\n",
      "Continuing Simulation at 06/30/2017 for RUN PERIOD 1\n"
     ]
    },
    {
     "name": "stderr",
     "output_type": "stream",
     "text": [
      "C:\\EnergyPlusV9-2-0\\energyplus.exe 89493fa4-df2e-11ed-b987-841b77d62e9a.idf: 33it [00:01, 26.56it/s]INFO:89493fa4-df2e-11ed-b987-841b77d62e9a.idf:Updating Shadowing Calculations, Start Date=07/20/2017\n",
      "C:\\EnergyPlusV9-2-0\\energyplus.exe 89493fa4-df2e-11ed-b987-841b77d62e9a.idf: 34it [00:01, 26.56it/s]INFO:89493fa4-df2e-11ed-b987-841b77d62e9a.idf:Continuing Simulation at 07/20/2017 for RUN PERIOD 1\n",
      "C:\\EnergyPlusV9-2-0\\energyplus.exe 89493fa4-df2e-11ed-b987-841b77d62e9a.idf: 35it [00:01, 26.56it/s]INFO:89493fa4-df2e-11ed-b987-841b77d62e9a.idf:Updating Shadowing Calculations, Start Date=08/09/2017\n",
      "C:\\EnergyPlusV9-2-0\\energyplus.exe 89493fa4-df2e-11ed-b987-841b77d62e9a.idf: 36it [00:01, 25.61it/s]INFO:89493fa4-df2e-11ed-b987-841b77d62e9a.idf:Continuing Simulation at 08/09/2017 for RUN PERIOD 1\n",
      "C:\\EnergyPlusV9-2-0\\energyplus.exe 89493fa4-df2e-11ed-b987-841b77d62e9a.idf: 37it [00:01, 25.61it/s]INFO:89493fa4-df2e-11ed-b987-841b77d62e9a.idf:Updating Shadowing Calculations, Start Date=08/29/2017\n",
      "C:\\EnergyPlusV9-2-0\\energyplus.exe 89493fa4-df2e-11ed-b987-841b77d62e9a.idf: 38it [00:01, 25.61it/s]INFO:89493fa4-df2e-11ed-b987-841b77d62e9a.idf:Continuing Simulation at 08/29/2017 for RUN PERIOD 1\n"
     ]
    },
    {
     "name": "stdout",
     "output_type": "stream",
     "text": [
      "Updating Shadowing Calculations, Start Date=07/20/2017\n",
      "Continuing Simulation at 07/20/2017 for RUN PERIOD 1\n",
      "Updating Shadowing Calculations, Start Date=08/09/2017\n",
      "Continuing Simulation at 08/09/2017 for RUN PERIOD 1\n",
      "Updating Shadowing Calculations, Start Date=08/29/2017\n",
      "Continuing Simulation at 08/29/2017 for RUN PERIOD 1\n"
     ]
    },
    {
     "name": "stderr",
     "output_type": "stream",
     "text": [
      "C:\\EnergyPlusV9-2-0\\energyplus.exe 89493fa4-df2e-11ed-b987-841b77d62e9a.idf: 39it [00:01, 25.61it/s]INFO:89493fa4-df2e-11ed-b987-841b77d62e9a.idf:Updating Shadowing Calculations, Start Date=09/18/2017\n",
      "C:\\EnergyPlusV9-2-0\\energyplus.exe 89493fa4-df2e-11ed-b987-841b77d62e9a.idf: 40it [00:01, 24.96it/s]INFO:89493fa4-df2e-11ed-b987-841b77d62e9a.idf:Continuing Simulation at 09/18/2017 for RUN PERIOD 1\n",
      "C:\\EnergyPlusV9-2-0\\energyplus.exe 89493fa4-df2e-11ed-b987-841b77d62e9a.idf: 41it [00:01, 24.96it/s]INFO:89493fa4-df2e-11ed-b987-841b77d62e9a.idf:Updating Shadowing Calculations, Start Date=10/08/2017\n",
      "C:\\EnergyPlusV9-2-0\\energyplus.exe 89493fa4-df2e-11ed-b987-841b77d62e9a.idf: 42it [00:01, 24.96it/s]INFO:89493fa4-df2e-11ed-b987-841b77d62e9a.idf:Continuing Simulation at 10/08/2017 for RUN PERIOD 1\n",
      "C:\\EnergyPlusV9-2-0\\energyplus.exe 89493fa4-df2e-11ed-b987-841b77d62e9a.idf: 43it [00:01, 24.96it/s]INFO:89493fa4-df2e-11ed-b987-841b77d62e9a.idf:Updating Shadowing Calculations, Start Date=10/28/2017\n",
      "C:\\EnergyPlusV9-2-0\\energyplus.exe 89493fa4-df2e-11ed-b987-841b77d62e9a.idf: 44it [00:01, 23.91it/s]"
     ]
    },
    {
     "name": "stdout",
     "output_type": "stream",
     "text": [
      "Updating Shadowing Calculations, Start Date=09/18/2017\n",
      "Continuing Simulation at 09/18/2017 for RUN PERIOD 1\n",
      "Updating Shadowing Calculations, Start Date=10/08/2017\n",
      "Continuing Simulation at 10/08/2017 for RUN PERIOD 1\n",
      "Updating Shadowing Calculations, Start Date=10/28/2017\n"
     ]
    },
    {
     "name": "stderr",
     "output_type": "stream",
     "text": [
      "C:\\EnergyPlusV9-2-0\\energyplus.exe 89493fa4-df2e-11ed-b987-841b77d62e9a.idf: 44it [00:01, 23.91it/s]INFO:89493fa4-df2e-11ed-b987-841b77d62e9a.idf:Continuing Simulation at 10/28/2017 for RUN PERIOD 1\n",
      "C:\\EnergyPlusV9-2-0\\energyplus.exe 89493fa4-df2e-11ed-b987-841b77d62e9a.idf: 45it [00:01, 23.91it/s]INFO:89493fa4-df2e-11ed-b987-841b77d62e9a.idf:Updating Shadowing Calculations, Start Date=11/17/2017\n",
      "C:\\EnergyPlusV9-2-0\\energyplus.exe 89493fa4-df2e-11ed-b987-841b77d62e9a.idf: 46it [00:01, 23.91it/s]INFO:89493fa4-df2e-11ed-b987-841b77d62e9a.idf:Continuing Simulation at 11/17/2017 for RUN PERIOD 1\n",
      "C:\\EnergyPlusV9-2-0\\energyplus.exe 89493fa4-df2e-11ed-b987-841b77d62e9a.idf: 47it [00:01, 23.91it/s]INFO:89493fa4-df2e-11ed-b987-841b77d62e9a.idf:Updating Shadowing Calculations, Start Date=12/07/2017\n",
      "C:\\EnergyPlusV9-2-0\\energyplus.exe 89493fa4-df2e-11ed-b987-841b77d62e9a.idf: 48it [00:01, 23.24it/s]INFO:89493fa4-df2e-11ed-b987-841b77d62e9a.idf:Continuing Simulation at 12/07/2017 for RUN PERIOD 1\n"
     ]
    },
    {
     "name": "stdout",
     "output_type": "stream",
     "text": [
      "Continuing Simulation at 10/28/2017 for RUN PERIOD 1\n",
      "Updating Shadowing Calculations, Start Date=11/17/2017\n",
      "Continuing Simulation at 11/17/2017 for RUN PERIOD 1\n",
      "Updating Shadowing Calculations, Start Date=12/07/2017\n",
      "Continuing Simulation at 12/07/2017 for RUN PERIOD 1\n"
     ]
    },
    {
     "name": "stderr",
     "output_type": "stream",
     "text": [
      "C:\\EnergyPlusV9-2-0\\energyplus.exe 89493fa4-df2e-11ed-b987-841b77d62e9a.idf: 49it [00:01, 23.24it/s]INFO:89493fa4-df2e-11ed-b987-841b77d62e9a.idf:Updating Shadowing Calculations, Start Date=12/27/2017\n",
      "C:\\EnergyPlusV9-2-0\\energyplus.exe 89493fa4-df2e-11ed-b987-841b77d62e9a.idf: 50it [00:01, 23.24it/s]INFO:89493fa4-df2e-11ed-b987-841b77d62e9a.idf:Continuing Simulation at 12/27/2017 for RUN PERIOD 1\n",
      "C:\\EnergyPlusV9-2-0\\energyplus.exe 89493fa4-df2e-11ed-b987-841b77d62e9a.idf: 51it [00:01, 23.24it/s]INFO:89493fa4-df2e-11ed-b987-841b77d62e9a.idf:Writing tabular output file results using comma format.\n",
      "C:\\EnergyPlusV9-2-0\\energyplus.exe 89493fa4-df2e-11ed-b987-841b77d62e9a.idf: 52it [00:01, 25.64it/s]INFO:89493fa4-df2e-11ed-b987-841b77d62e9a.idf:Writing tabular output file results using HTML format.\n",
      "C:\\EnergyPlusV9-2-0\\energyplus.exe 89493fa4-df2e-11ed-b987-841b77d62e9a.idf: 53it [00:01, 25.64it/s]INFO:89493fa4-df2e-11ed-b987-841b77d62e9a.idf:Writing final SQL reports\n",
      "C:\\EnergyPlusV9-2-0\\energyplus.exe 89493fa4-df2e-11ed-b987-841b77d62e9a.idf: 54it [00:01, 25.64it/s]INFO:89493fa4-df2e-11ed-b987-841b77d62e9a.idf:EnergyPlus Run Time=00hr 00min  1.89sec\n",
      "C:\\EnergyPlusV9-2-0\\energyplus.exe 89493fa4-df2e-11ed-b987-841b77d62e9a.idf: 55it [00:01, 25.64it/s]INFO:89493fa4-df2e-11ed-b987-841b77d62e9a.idf:EnergyPlus Completed in 1.93 seconds\n",
      "C:\\EnergyPlusV9-2-0\\energyplus.exe 89493fa4-df2e-11ed-b987-841b77d62e9a.idf: 55it [00:01, 27.87it/s]\n"
     ]
    },
    {
     "name": "stdout",
     "output_type": "stream",
     "text": [
      "Updating Shadowing Calculations, Start Date=12/27/2017\n",
      "Continuing Simulation at 12/27/2017 for RUN PERIOD 1\n",
      "Writing tabular output file results using comma format.\n",
      "Writing tabular output file results using HTML format.\n",
      "Writing final SQL reports\n",
      "EnergyPlus Run Time=00hr 00min  1.89sec\n",
      "EnergyPlus Completed in 1.93 seconds\n"
     ]
    },
    {
     "name": "stderr",
     "output_type": "stream",
     "text": [
      "INFO:archetypal:collected data for ['Zone Ideal Loads Zone Total Heating Energy', 'Zone Ideal Loads Zone Total Cooling Energy']\n",
      "INFO:archetypal:collected data for ['Zone Ideal Loads Zone Total Heating Energy', 'Zone Ideal Loads Zone Total Cooling Energy']\n"
     ]
    }
   ],
   "source": [
    "res_hourly, res_monthly = whitebox_sim.simulate()"
   ]
  },
  {
   "cell_type": "markdown",
   "metadata": {},
   "source": [
    "Looks like it simulated successfully! Let's confirm by taking a look at the the tables."
   ]
  },
  {
   "cell_type": "code",
   "execution_count": 66,
   "metadata": {},
   "outputs": [
    {
     "data": {
      "text/html": [
       "<div>\n",
       "<style scoped>\n",
       "    .dataframe tbody tr th:only-of-type {\n",
       "        vertical-align: middle;\n",
       "    }\n",
       "\n",
       "    .dataframe tbody tr th {\n",
       "        vertical-align: top;\n",
       "    }\n",
       "\n",
       "    .dataframe thead tr th {\n",
       "        text-align: left;\n",
       "    }\n",
       "</style>\n",
       "<table border=\"1\" class=\"dataframe\">\n",
       "  <thead>\n",
       "    <tr>\n",
       "      <th>IndexGroup</th>\n",
       "      <th colspan=\"4\" halign=\"left\">System</th>\n",
       "    </tr>\n",
       "    <tr>\n",
       "      <th>KeyValue</th>\n",
       "      <th colspan=\"2\" halign=\"left\">BLOCK PERIM STOREY 0 IDEAL LOADS AIR SYSTEM</th>\n",
       "      <th colspan=\"2\" halign=\"left\">BLOCK CORE STOREY 0 IDEAL LOADS AIR SYSTEM</th>\n",
       "    </tr>\n",
       "    <tr>\n",
       "      <th>Name</th>\n",
       "      <th>Zone Ideal Loads Zone Total Heating Energy</th>\n",
       "      <th>Zone Ideal Loads Zone Total Cooling Energy</th>\n",
       "      <th>Zone Ideal Loads Zone Total Heating Energy</th>\n",
       "      <th>Zone Ideal Loads Zone Total Cooling Energy</th>\n",
       "    </tr>\n",
       "  </thead>\n",
       "  <tbody>\n",
       "    <tr>\n",
       "      <th>2018-01-01 00:00:00</th>\n",
       "      <td>1.493033e+06</td>\n",
       "      <td>5.379377e-08</td>\n",
       "      <td>321196.580949</td>\n",
       "      <td>1.223981e-08</td>\n",
       "    </tr>\n",
       "    <tr>\n",
       "      <th>2018-01-01 01:00:00</th>\n",
       "      <td>3.851080e+05</td>\n",
       "      <td>1.102478e-08</td>\n",
       "      <td>454137.063797</td>\n",
       "      <td>2.138449e-08</td>\n",
       "    </tr>\n",
       "    <tr>\n",
       "      <th>2018-01-01 02:00:00</th>\n",
       "      <td>1.080300e+05</td>\n",
       "      <td>4.316547e-09</td>\n",
       "      <td>499129.456650</td>\n",
       "      <td>1.608953e-08</td>\n",
       "    </tr>\n",
       "    <tr>\n",
       "      <th>2018-01-01 03:00:00</th>\n",
       "      <td>1.773405e+03</td>\n",
       "      <td>1.057154e-10</td>\n",
       "      <td>509575.470155</td>\n",
       "      <td>1.176659e-09</td>\n",
       "    </tr>\n",
       "    <tr>\n",
       "      <th>2018-01-01 04:00:00</th>\n",
       "      <td>0.000000e+00</td>\n",
       "      <td>0.000000e+00</td>\n",
       "      <td>506742.411238</td>\n",
       "      <td>0.000000e+00</td>\n",
       "    </tr>\n",
       "  </tbody>\n",
       "</table>\n",
       "</div>"
      ],
      "text/plain": [
       "IndexGroup                                               System  \\\n",
       "KeyValue            BLOCK PERIM STOREY 0 IDEAL LOADS AIR SYSTEM   \n",
       "Name                 Zone Ideal Loads Zone Total Heating Energy   \n",
       "2018-01-01 00:00:00                                1.493033e+06   \n",
       "2018-01-01 01:00:00                                3.851080e+05   \n",
       "2018-01-01 02:00:00                                1.080300e+05   \n",
       "2018-01-01 03:00:00                                1.773405e+03   \n",
       "2018-01-01 04:00:00                                0.000000e+00   \n",
       "\n",
       "IndexGroup                                                      \\\n",
       "KeyValue                                                         \n",
       "Name                Zone Ideal Loads Zone Total Cooling Energy   \n",
       "2018-01-01 00:00:00                               5.379377e-08   \n",
       "2018-01-01 01:00:00                               1.102478e-08   \n",
       "2018-01-01 02:00:00                               4.316547e-09   \n",
       "2018-01-01 03:00:00                               1.057154e-10   \n",
       "2018-01-01 04:00:00                               0.000000e+00   \n",
       "\n",
       "IndexGroup                                                      \\\n",
       "KeyValue            BLOCK CORE STOREY 0 IDEAL LOADS AIR SYSTEM   \n",
       "Name                Zone Ideal Loads Zone Total Heating Energy   \n",
       "2018-01-01 00:00:00                              321196.580949   \n",
       "2018-01-01 01:00:00                              454137.063797   \n",
       "2018-01-01 02:00:00                              499129.456650   \n",
       "2018-01-01 03:00:00                              509575.470155   \n",
       "2018-01-01 04:00:00                              506742.411238   \n",
       "\n",
       "IndexGroup                                                      \n",
       "KeyValue                                                        \n",
       "Name                Zone Ideal Loads Zone Total Cooling Energy  \n",
       "2018-01-01 00:00:00                               1.223981e-08  \n",
       "2018-01-01 01:00:00                               2.138449e-08  \n",
       "2018-01-01 02:00:00                               1.608953e-08  \n",
       "2018-01-01 03:00:00                               1.176659e-09  \n",
       "2018-01-01 04:00:00                               0.000000e+00  "
      ]
     },
     "execution_count": 66,
     "metadata": {},
     "output_type": "execute_result"
    }
   ],
   "source": [
    "res_hourly.head()"
   ]
  },
  {
   "cell_type": "code",
   "execution_count": 67,
   "metadata": {},
   "outputs": [
    {
     "data": {
      "text/html": [
       "<div>\n",
       "<style scoped>\n",
       "    .dataframe tbody tr th:only-of-type {\n",
       "        vertical-align: middle;\n",
       "    }\n",
       "\n",
       "    .dataframe tbody tr th {\n",
       "        vertical-align: top;\n",
       "    }\n",
       "\n",
       "    .dataframe thead tr th {\n",
       "        text-align: left;\n",
       "    }\n",
       "</style>\n",
       "<table border=\"1\" class=\"dataframe\">\n",
       "  <thead>\n",
       "    <tr>\n",
       "      <th>IndexGroup</th>\n",
       "      <th colspan=\"4\" halign=\"left\">System</th>\n",
       "    </tr>\n",
       "    <tr>\n",
       "      <th>KeyValue</th>\n",
       "      <th colspan=\"2\" halign=\"left\">BLOCK PERIM STOREY 0 IDEAL LOADS AIR SYSTEM</th>\n",
       "      <th colspan=\"2\" halign=\"left\">BLOCK CORE STOREY 0 IDEAL LOADS AIR SYSTEM</th>\n",
       "    </tr>\n",
       "    <tr>\n",
       "      <th>Name</th>\n",
       "      <th>Zone Ideal Loads Zone Total Heating Energy</th>\n",
       "      <th>Zone Ideal Loads Zone Total Cooling Energy</th>\n",
       "      <th>Zone Ideal Loads Zone Total Heating Energy</th>\n",
       "      <th>Zone Ideal Loads Zone Total Cooling Energy</th>\n",
       "    </tr>\n",
       "  </thead>\n",
       "  <tbody>\n",
       "    <tr>\n",
       "      <th>2018-01-01</th>\n",
       "      <td>2.002599e+09</td>\n",
       "      <td>1.668717e+09</td>\n",
       "      <td>5.319640e+08</td>\n",
       "      <td>1.581283e+08</td>\n",
       "    </tr>\n",
       "    <tr>\n",
       "      <th>2018-02-01</th>\n",
       "      <td>1.378436e+09</td>\n",
       "      <td>2.483798e+09</td>\n",
       "      <td>3.602359e+08</td>\n",
       "      <td>2.539872e+08</td>\n",
       "    </tr>\n",
       "    <tr>\n",
       "      <th>2018-03-01</th>\n",
       "      <td>8.220652e+08</td>\n",
       "      <td>3.124138e+09</td>\n",
       "      <td>2.304835e+08</td>\n",
       "      <td>3.894507e+08</td>\n",
       "    </tr>\n",
       "    <tr>\n",
       "      <th>2018-04-01</th>\n",
       "      <td>3.042288e+08</td>\n",
       "      <td>2.238335e+09</td>\n",
       "      <td>1.041267e+08</td>\n",
       "      <td>2.718182e+08</td>\n",
       "    </tr>\n",
       "    <tr>\n",
       "      <th>2018-05-01</th>\n",
       "      <td>6.058682e+07</td>\n",
       "      <td>2.915479e+09</td>\n",
       "      <td>2.145698e+07</td>\n",
       "      <td>4.042504e+08</td>\n",
       "    </tr>\n",
       "    <tr>\n",
       "      <th>2018-06-01</th>\n",
       "      <td>0.000000e+00</td>\n",
       "      <td>3.745359e+09</td>\n",
       "      <td>0.000000e+00</td>\n",
       "      <td>5.491771e+08</td>\n",
       "    </tr>\n",
       "    <tr>\n",
       "      <th>2018-07-01</th>\n",
       "      <td>0.000000e+00</td>\n",
       "      <td>4.442171e+09</td>\n",
       "      <td>0.000000e+00</td>\n",
       "      <td>6.412566e+08</td>\n",
       "    </tr>\n",
       "    <tr>\n",
       "      <th>2018-08-01</th>\n",
       "      <td>0.000000e+00</td>\n",
       "      <td>4.801488e+09</td>\n",
       "      <td>0.000000e+00</td>\n",
       "      <td>6.582920e+08</td>\n",
       "    </tr>\n",
       "    <tr>\n",
       "      <th>2018-09-01</th>\n",
       "      <td>2.944630e+06</td>\n",
       "      <td>4.636557e+09</td>\n",
       "      <td>9.341114e+05</td>\n",
       "      <td>5.889141e+08</td>\n",
       "    </tr>\n",
       "    <tr>\n",
       "      <th>2018-10-01</th>\n",
       "      <td>9.954352e+07</td>\n",
       "      <td>3.158846e+09</td>\n",
       "      <td>4.094756e+07</td>\n",
       "      <td>3.668574e+08</td>\n",
       "    </tr>\n",
       "    <tr>\n",
       "      <th>2018-11-01</th>\n",
       "      <td>7.306875e+08</td>\n",
       "      <td>1.831848e+09</td>\n",
       "      <td>2.624657e+08</td>\n",
       "      <td>1.963134e+08</td>\n",
       "    </tr>\n",
       "    <tr>\n",
       "      <th>2018-12-01</th>\n",
       "      <td>1.914352e+09</td>\n",
       "      <td>1.267573e+09</td>\n",
       "      <td>5.294453e+08</td>\n",
       "      <td>1.176675e+08</td>\n",
       "    </tr>\n",
       "  </tbody>\n",
       "</table>\n",
       "</div>"
      ],
      "text/plain": [
       "IndexGroup                                      System  \\\n",
       "KeyValue   BLOCK PERIM STOREY 0 IDEAL LOADS AIR SYSTEM   \n",
       "Name        Zone Ideal Loads Zone Total Heating Energy   \n",
       "2018-01-01                                2.002599e+09   \n",
       "2018-02-01                                1.378436e+09   \n",
       "2018-03-01                                8.220652e+08   \n",
       "2018-04-01                                3.042288e+08   \n",
       "2018-05-01                                6.058682e+07   \n",
       "2018-06-01                                0.000000e+00   \n",
       "2018-07-01                                0.000000e+00   \n",
       "2018-08-01                                0.000000e+00   \n",
       "2018-09-01                                2.944630e+06   \n",
       "2018-10-01                                9.954352e+07   \n",
       "2018-11-01                                7.306875e+08   \n",
       "2018-12-01                                1.914352e+09   \n",
       "\n",
       "IndexGroup                                             \\\n",
       "KeyValue                                                \n",
       "Name       Zone Ideal Loads Zone Total Cooling Energy   \n",
       "2018-01-01                               1.668717e+09   \n",
       "2018-02-01                               2.483798e+09   \n",
       "2018-03-01                               3.124138e+09   \n",
       "2018-04-01                               2.238335e+09   \n",
       "2018-05-01                               2.915479e+09   \n",
       "2018-06-01                               3.745359e+09   \n",
       "2018-07-01                               4.442171e+09   \n",
       "2018-08-01                               4.801488e+09   \n",
       "2018-09-01                               4.636557e+09   \n",
       "2018-10-01                               3.158846e+09   \n",
       "2018-11-01                               1.831848e+09   \n",
       "2018-12-01                               1.267573e+09   \n",
       "\n",
       "IndexGroup                                             \\\n",
       "KeyValue   BLOCK CORE STOREY 0 IDEAL LOADS AIR SYSTEM   \n",
       "Name       Zone Ideal Loads Zone Total Heating Energy   \n",
       "2018-01-01                               5.319640e+08   \n",
       "2018-02-01                               3.602359e+08   \n",
       "2018-03-01                               2.304835e+08   \n",
       "2018-04-01                               1.041267e+08   \n",
       "2018-05-01                               2.145698e+07   \n",
       "2018-06-01                               0.000000e+00   \n",
       "2018-07-01                               0.000000e+00   \n",
       "2018-08-01                               0.000000e+00   \n",
       "2018-09-01                               9.341114e+05   \n",
       "2018-10-01                               4.094756e+07   \n",
       "2018-11-01                               2.624657e+08   \n",
       "2018-12-01                               5.294453e+08   \n",
       "\n",
       "IndexGroup                                             \n",
       "KeyValue                                               \n",
       "Name       Zone Ideal Loads Zone Total Cooling Energy  \n",
       "2018-01-01                               1.581283e+08  \n",
       "2018-02-01                               2.539872e+08  \n",
       "2018-03-01                               3.894507e+08  \n",
       "2018-04-01                               2.718182e+08  \n",
       "2018-05-01                               4.042504e+08  \n",
       "2018-06-01                               5.491771e+08  \n",
       "2018-07-01                               6.412566e+08  \n",
       "2018-08-01                               6.582920e+08  \n",
       "2018-09-01                               5.889141e+08  \n",
       "2018-10-01                               3.668574e+08  \n",
       "2018-11-01                               1.963134e+08  \n",
       "2018-12-01                               1.176675e+08  "
      ]
     },
     "execution_count": 67,
     "metadata": {},
     "output_type": "execute_result"
    }
   ],
   "source": [
    "res_monthly"
   ]
  },
  {
   "cell_type": "code",
   "execution_count": 68,
   "metadata": {},
   "outputs": [
    {
     "data": {
      "image/png": "[encoded data removed]",
      "text/plain": [
       "<Figure size 640x480 with 1 Axes>"
      ]
     },
     "metadata": {},
     "output_type": "display_data"
    },
    {
     "data": {
      "image/png": "[encoded data removed]",
      "text/plain": [
       "<Figure size 640x480 with 1 Axes>"
      ]
     },
     "metadata": {},
     "output_type": "display_data"
    },
    {
     "data": {
      "image/png": "[encoded data removed]",
      "text/plain": [
       "<Figure size 640x480 with 1 Axes>"
      ]
     },
     "metadata": {},
     "output_type": "display_data"
    },
    {
     "data": {
      "image/png": "[encoded data removed]",
      "text/plain": [
       "<Figure size 640x480 with 1 Axes>"
      ]
     },
     "metadata": {},
     "output_type": "display_data"
    }
   ],
   "source": [
    "fig = plt.figure()\n",
    "plt.plot(res_hourly[\"System\"][\"BLOCK CORE STOREY 0 IDEAL LOADS AIR SYSTEM\"]*2.777e-7, linewidth=0.3)\n",
    "txt = plt.title(\"Hourly/Core\")\n",
    "fig = plt.figure()\n",
    "plt.plot(res_hourly[\"System\"][\"BLOCK PERIM STOREY 0 IDEAL LOADS AIR SYSTEM\"]*2.777e-7, linewidth=0.3)\n",
    "txt = plt.title(\"Hourly/Perim\")\n",
    "fig = plt.figure()\n",
    "plt.plot(res_monthly[\"System\"][\"BLOCK CORE STOREY 0 IDEAL LOADS AIR SYSTEM\"]*2.777e-7, linewidth=0.3)\n",
    "txt = plt.title(\"Monthly/Core\")\n",
    "fig = plt.figure()\n",
    "plt.plot(res_monthly[\"System\"][\"BLOCK PERIM STOREY 0 IDEAL LOADS AIR SYSTEM\"]*2.777e-7, linewidth=0.3)\n",
    "txt = plt.title(\"Monthly/Perim\")"
   ]
  },
  {
   "cell_type": "markdown",
   "metadata": {},
   "source": [
    "## Batch Simulation"
   ]
  },
  {
   "cell_type": "markdown",
   "metadata": {},
   "source": [
    "Now let's take a look at simulating a whole batch.\n",
    "\n",
    "First, we need to instantiate the batch simulator.  This configures an object which will automatically handle identifying and opening the correct storage vector batch, and can automatically run simulations in parallel and write results to a new HDF5 file.  It will also automatically upload the results files to the cloud bucket.\n",
    "\n",
    "*nb: `simulate.py` can be called from the CLI in order to facilitate easily launching many Batches simultaneously from many processes running on multiple servers, i.e.* `python simulate.py <batch_id> <n of processes>`"
   ]
  },
  {
   "cell_type": "code",
   "execution_count": 69,
   "metadata": {},
   "outputs": [
    {
     "name": "stderr",
     "output_type": "stream",
     "text": [
      "INFO:Batch Simulator:--------- Batch Simulation ---------\n",
      "INFO:Batch Simulator:Batch ID: 23\n",
      "INFO:Batch Simulator:Opening HDF5 storage batch file for batch 23...\n",
      "INFO:Batch Simulator:Loaded BATCH:23, which has 20 design vectors\n",
      "INFO:Batch Simulator:Building parallel dict config for BATCH:23...\n"
     ]
    }
   ],
   "source": [
    "from simulate import BatchSimulator\n",
    "batch_runner = BatchSimulator(schema, batch_id=23, processes=5)"
   ]
  },
  {
   "cell_type": "markdown",
   "metadata": {},
   "source": [
    "To simulate, all we need to do is call the `run` method!"
   ]
  },
  {
   "cell_type": "code",
   "execution_count": 70,
   "metadata": {},
   "outputs": [
    {
     "name": "stderr",
     "output_type": "stream",
     "text": [
      "INFO:Batch Simulator:Launching parallel processing for BATCH:23 with 5 p.processors...\n",
      "simulate:   0%|          | 0.00/20.0 [00:00<?, ?runs/s]INFO:archetypal:No 'ZONEVENTILATION:DESIGNFLOWRATE' created since IsScheduledVentilationOn == False.\n",
      "INFO:archetypal:No 'ZONEVENTILATION:WINDANDSTACKOPENAREA' created since IsNatVentOn == False.\n",
      "INFO:archetypal:No 'ZONEVENTILATION:DESIGNFLOWRATE' created since IsScheduledVentilationOn == False.\n",
      "INFO:archetypal:No 'ZONEVENTILATION:WINDANDSTACKOPENAREA' created since IsNatVentOn == False.\n",
      "INFO:archetypal:No 'ZONEVENTILATION:DESIGNFLOWRATE' created since IsScheduledVentilationOn == False.\n",
      "INFO:archetypal:No 'ZONEVENTILATION:WINDANDSTACKOPENAREA' created since IsNatVentOn == False.\n",
      "INFO:archetypal:No 'ZONEVENTILATION:DESIGNFLOWRATE' created since IsScheduledVentilationOn == False.\n",
      "INFO:archetypal:No 'ZONEVENTILATION:WINDANDSTACKOPENAREA' created since IsNatVentOn == False.\n",
      "INFO:archetypal:No 'ZONEVENTILATION:DESIGNFLOWRATE' created since IsScheduledVentilationOn == False.\n",
      "INFO:archetypal:No 'ZONEVENTILATION:WINDANDSTACKOPENAREA' created since IsNatVentOn == False.\n",
      "INFO:archetypal:No 'ZONEVENTILATION:DESIGNFLOWRATE' created since IsScheduledVentilationOn == False.\n",
      "INFO:archetypal:No 'ZONEVENTILATION:DESIGNFLOWRATE' created since IsScheduledVentilationOn == False.\n",
      "INFO:archetypal:No 'ZONEVENTILATION:DESIGNFLOWRATE' created since IsScheduledVentilationOn == False.\n",
      "INFO:archetypal:No 'ZONEVENTILATION:WINDANDSTACKOPENAREA' created since IsNatVentOn == False.\n",
      "INFO:archetypal:No 'ZONEVENTILATION:WINDANDSTACKOPENAREA' created since IsNatVentOn == False.\n",
      "INFO:archetypal:No 'ZONEVENTILATION:WINDANDSTACKOPENAREA' created since IsNatVentOn == False.\n",
      "INFO:archetypal:No 'ZONEVENTILATION:DESIGNFLOWRATE' created since IsScheduledVentilationOn == False.\n",
      "INFO:archetypal:No 'ZONEVENTILATION:DESIGNFLOWRATE' created since IsScheduledVentilationOn == False.\n",
      "INFO:archetypal:No 'ZONEVENTILATION:WINDANDSTACKOPENAREA' created since IsNatVentOn == False.\n",
      "INFO:archetypal:No 'ZONEVENTILATION:WINDANDSTACKOPENAREA' created since IsNatVentOn == False.\n",
      "C:\\EnergyPlusV9-2-0\\ExpandObjects.EXE #0-8bcb0266-df2e-11ed-872a-841b77d62e9a.idf: 0.00it [00:00, ?it/s]INFO:8bcb6466-df2e-11ed-bc29-841b77d62e9a.idf:ExpandObjects Started.\n",
      "C:\\EnergyPlusV9-2-0\\ExpandObjects.EXE #0-8bcb0266-df2e-11ed-872a-841b77d62e9a.idf: 0.00it [00:00, ?it/s]INFO:8bcb0266-df2e-11ed-872a-841b77d62e9a.idf:ExpandObjects Started.\n",
      "                                                       INFO:8bcb6466-df2e-11ed-bc29-841b77d62e9a.idf: Begin reading Energy+.idd file.\n",
      "C:\\EnergyPlusV9-2-0\\ExpandObjects.EXE #0-8bcb0266-df2e-11ed-872a-841b77d62e9a.idf: 1.00it [00:00, 13.9it/s]INFO:8bcb0266-df2e-11ed-872a-841b77d62e9a.idf: Begin reading Energy+.idd file.\n"
     ]
    },
    {
     "name": "stdout",
     "output_type": "stream",
     "text": [
      "ExpandObjects Started.\n",
      "ExpandObjects Started.\n",
      " Begin reading Energy+.idd file.\n",
      " Begin reading Energy+.idd file.\n"
     ]
    },
    {
     "name": "stderr",
     "output_type": "stream",
     "text": [
      "C:\\EnergyPlusV9-2-0\\ExpandObjects.EXE #0-8bcb6466-df2e-11ed-bc29-841b77d62e9a.idf: 2.00it [00:00, 15.2it/s]INFO:8bcbb2c0-df2e-11ed-b90f-841b77d62e9a.idf:ExpandObjects Started.\n",
      "C:\\EnergyPlusV9-2-0\\ExpandObjects.EXE #0-8bcb6466-df2e-11ed-bc29-841b77d62e9a.idf: 2.00it [00:00, 13.6it/s]INFO:8bcb29a7-df2e-11ed-bffc-841b77d62e9a.idf:ExpandObjects Started.\n",
      "C:\\EnergyPlusV9-2-0\\ExpandObjects.EXE #0-8bcb6466-df2e-11ed-bc29-841b77d62e9a.idf: 2.00it [00:00, 12.4it/s]INFO:8bcb50b9-df2e-11ed-a733-841b77d62e9a.idf:ExpandObjects Started.\n",
      "C:\\EnergyPlusV9-2-0\\ExpandObjects.EXE #0-8bcb6466-df2e-11ed-bc29-841b77d62e9a.idf: 2.00it [00:00, 11.5it/s]INFO:8bcb6466-df2e-11ed-bc29-841b77d62e9a.idf: Done reading Energy+.idd file.\n",
      "C:\\EnergyPlusV9-2-0\\ExpandObjects.EXE #0-8bcb6466-df2e-11ed-bc29-841b77d62e9a.idf: 3.00it [00:00, 17.0it/s]INFO:8bcb0266-df2e-11ed-872a-841b77d62e9a.idf: Done reading Energy+.idd file.\n",
      "C:\\EnergyPlusV9-2-0\\ExpandObjects.EXE #0-8bcb6466-df2e-11ed-bc29-841b77d62e9a.idf: 3.00it [00:00, 17.0it/s]INFO:8bcbb2c0-df2e-11ed-b90f-841b77d62e9a.idf: Begin reading Energy+.idd file.\n",
      "C:\\EnergyPlusV9-2-0\\ExpandObjects.EXE #0-8bcb6466-df2e-11ed-bc29-841b77d62e9a.idf: 3.00it [00:00, 17.0it/s]INFO:8bcb29a7-df2e-11ed-bffc-841b77d62e9a.idf: Begin reading Energy+.idd file.\n",
      "                                                       "
     ]
    },
    {
     "name": "stdout",
     "output_type": "stream",
     "text": [
      "ExpandObjects Started.\n",
      "ExpandObjects Started.\n",
      "ExpandObjects Started.\n",
      " Done reading Energy+.idd file.\n",
      " Done reading Energy+.idd file.\n",
      " Begin reading Energy+.idd file.\n",
      " Begin reading Energy+.idd file.\n"
     ]
    },
    {
     "name": "stderr",
     "output_type": "stream",
     "text": [
      "C:\\EnergyPlusV9-2-0\\ExpandObjects.EXE #0-8bcb6466-df2e-11ed-bc29-841b77d62e9a.idf: 3.00it [00:00, 17.0it/s]INFO:8bcb50b9-df2e-11ed-a733-841b77d62e9a.idf: Begin reading Energy+.idd file.\n",
      "C:\\EnergyPlusV9-2-0\\ExpandObjects.EXE #0-8bcb6466-df2e-11ed-bc29-841b77d62e9a.idf: 3.00it [00:00, 17.0it/s]INFO:8bcb6466-df2e-11ed-bc29-841b77d62e9a.idf:ExpandObjects Finished. Time:     0.031\n",
      "C:\\EnergyPlusV9-2-0\\ExpandObjects.EXE #0-8bcb6466-df2e-11ed-bc29-841b77d62e9a.idf: 4.00it [00:00, 17.0it/s]INFO:8bcb0266-df2e-11ed-872a-841b77d62e9a.idf:ExpandObjects Finished. Time:     0.094\n",
      "C:\\EnergyPlusV9-2-0\\ExpandObjects.EXE #0-8bcb6466-df2e-11ed-bc29-841b77d62e9a.idf: 4.00it [00:00, 17.0it/s]INFO:8bcbb2c0-df2e-11ed-b90f-841b77d62e9a.idf: Done reading Energy+.idd file.\n",
      "C:\\EnergyPlusV9-2-0\\ExpandObjects.EXE #0-8bcb6466-df2e-11ed-bc29-841b77d62e9a.idf: 4.00it [00:00, 17.0it/s]INFO:8bcb29a7-df2e-11ed-bffc-841b77d62e9a.idf: Done reading Energy+.idd file.\n",
      "C:\\EnergyPlusV9-2-0\\ExpandObjects.EXE #0-8bcb6466-df2e-11ed-bc29-841b77d62e9a.idf: 4.00it [00:00, 17.0it/s]INFO:8bcb50b9-df2e-11ed-a733-841b77d62e9a.idf: Done reading Energy+.idd file.\n"
     ]
    },
    {
     "name": "stdout",
     "output_type": "stream",
     "text": [
      " Begin reading Energy+.idd file.\n",
      "ExpandObjects Finished. Time:     0.031\n",
      "ExpandObjects Finished. Time:     0.094\n",
      " Done reading Energy+.idd file.\n",
      " Done reading Energy+.idd file.\n",
      " Done reading Energy+.idd file.\n"
     ]
    },
    {
     "name": "stderr",
     "output_type": "stream",
     "text": [
      "C:\\EnergyPlusV9-2-0\\ExpandObjects.EXE #0-8bcb6466-df2e-11ed-bc29-841b77d62e9a.idf: 4.00it [00:00, 17.0it/s]INFO:8bcb6466-df2e-11ed-bc29-841b77d62e9a.idf:ExpandObjects completed in 0.24 seconds\n",
      "C:\\EnergyPlusV9-2-0\\ExpandObjects.EXE #0-8bcb50b9-df2e-11ed-a733-841b77d62e9a.idf: 3.00it [00:00, 16.1it/s]INFO:8bcb0266-df2e-11ed-872a-841b77d62e9a.idf:ExpandObjects completed in 0.24 seconds\n",
      "C:\\EnergyPlusV9-2-0\\ExpandObjects.EXE #0-8bcb50b9-df2e-11ed-a733-841b77d62e9a.idf: 3.00it [00:00, 16.1it/s]INFO:8bcbb2c0-df2e-11ed-b90f-841b77d62e9a.idf:ExpandObjects Finished. Time:     0.062\n",
      "C:\\EnergyPlusV9-2-0\\ExpandObjects.EXE #0-8bcb50b9-df2e-11ed-a733-841b77d62e9a.idf: 3.00it [00:00, 16.1it/s]INFO:8bcb29a7-df2e-11ed-bffc-841b77d62e9a.idf:ExpandObjects Finished. Time:     0.047\n",
      "C:\\EnergyPlusV9-2-0\\ExpandObjects.EXE #0-8bcbb2c0-df2e-11ed-b90f-841b77d62e9a.idf: 4.00it [00:00, 15.9it/s]INFO:8bcb50b9-df2e-11ed-a733-841b77d62e9a.idf:ExpandObjects Finished. Time:     0.062\n",
      "C:\\EnergyPlusV9-2-0\\ExpandObjects.EXE #0-8bcb0266-df2e-11ed-872a-841b77d62e9a.idf: 4.00it [00:00, 11.7it/s]\n",
      "C:\\EnergyPlusV9-2-0\\ExpandObjects.EXE #0-8bcb6466-df2e-11ed-bc29-841b77d62e9a.idf: 4.00it [00:00, 11.1it/s]\n",
      "                                                       INFO:8bcbb2c0-df2e-11ed-b90f-841b77d62e9a.idf:ExpandObjects completed in 0.26 seconds\n",
      "C:\\EnergyPlusV9-2-0\\ExpandObjects.EXE #0-8bcb50b9-df2e-11ed-a733-841b77d62e9a.idf: 4.00it [00:00, 15.9it/s]INFO:8bcb29a7-df2e-11ed-bffc-841b77d62e9a.idf:ExpandObjects completed in 0.25 seconds\n",
      "C:\\EnergyPlusV9-2-0\\ExpandObjects.EXE #0-8bcb29a7-df2e-11ed-bffc-841b77d62e9a.idf: 4.00it [00:00, 13.3it/s]"
     ]
    },
    {
     "name": "stdout",
     "output_type": "stream",
     "text": [
      "ExpandObjects completed in 0.24 seconds\n",
      "ExpandObjects completed in 0.24 seconds\n",
      "ExpandObjects Finished. Time:     0.062\n",
      "ExpandObjects Finished. Time:     0.047\n",
      "ExpandObjects Finished. Time:     0.062\n",
      "ExpandObjects completed in 0.26 seconds\n",
      "ExpandObjects completed in 0.25 seconds\n",
      "ExpandObjects completed in 0.25 seconds\n"
     ]
    },
    {
     "name": "stderr",
     "output_type": "stream",
     "text": [
      "INFO:8bcb50b9-df2e-11ed-a733-841b77d62e9a.idf:ExpandObjects completed in 0.25 seconds\n",
      "\n",
      "C:\\EnergyPlusV9-2-0\\ExpandObjects.EXE #0-8bcbb2c0-df2e-11ed-b90f-841b77d62e9a.idf: 4.00it [00:00, 12.9it/s]\n",
      "C:\\EnergyPlusV9-2-0\\ExpandObjects.EXE #0-8bcb50b9-df2e-11ed-a733-841b77d62e9a.idf: 4.00it [00:00, 13.1it/s]\n",
      "C:\\EnergyPlusV9-2-0\\energyplus.exe 8bcb0266-df2e-11ed-872a-841b77d62e9a.idf: 0it [00:00, ?it/s]INFO:8bcb6466-df2e-11ed-bc29-841b77d62e9a.idf:Simulation started\n",
      "C:\\EnergyPlusV9-2-0\\energyplus.exe 8bcb6466-df2e-11ed-bc29-841b77d62e9a.idf: 0it [00:00, ?it/s]INFO:8bcb6466-df2e-11ed-bc29-841b77d62e9a.idf:EnergyPlus Starting\n",
      "C:\\EnergyPlusV9-2-0\\energyplus.exe 8bcb6466-df2e-11ed-bc29-841b77d62e9a.idf: 1it [00:00, 13.95it/s]INFO:8bcb0266-df2e-11ed-872a-841b77d62e9a.idf:Simulation started\n",
      "C:\\EnergyPlusV9-2-0\\energyplus.exe 8bcb6466-df2e-11ed-bc29-841b77d62e9a.idf: 1it [00:00, 12.01it/s]INFO:8bcb6466-df2e-11ed-bc29-841b77d62e9a.idf:EnergyPlus, Version 9.2.0-921312fa1d, YMD=2023.04.19 20:50\n"
     ]
    },
    {
     "name": "stdout",
     "output_type": "stream",
     "text": [
      "Simulation started\n",
      "EnergyPlus Starting\n",
      "Simulation started\n",
      "EnergyPlus, Version 9.2.0-921312fa1d, YMD=2023.04.19 20:50\n"
     ]
    },
    {
     "name": "stderr",
     "output_type": "stream",
     "text": [
      "C:\\EnergyPlusV9-2-0\\energyplus.exe 8bcbb2c0-df2e-11ed-b90f-841b77d62e9a.idf: 0it [00:00, ?it/s]INFO:8bcb0266-df2e-11ed-872a-841b77d62e9a.idf:EnergyPlus Starting\n"
     ]
    },
    {
     "name": "stdout",
     "output_type": "stream",
     "text": [
      "EnergyPlus Starting\n"
     ]
    },
    {
     "name": "stderr",
     "output_type": "stream",
     "text": [
      "C:\\EnergyPlusV9-2-0\\energyplus.exe 8bcb50b9-df2e-11ed-a733-841b77d62e9a.idf: 0it [00:00, ?it/s]INFO:8bcb0266-df2e-11ed-872a-841b77d62e9a.idf:EnergyPlus, Version 9.2.0-921312fa1d, YMD=2023.04.19 20:50\n",
      "C:\\EnergyPlusV9-2-0\\energyplus.exe 8bcb50b9-df2e-11ed-a733-841b77d62e9a.idf: 0it [00:00, ?it/s]INFO:8bcbb2c0-df2e-11ed-b90f-841b77d62e9a.idf:Simulation started\n",
      "C:\\EnergyPlusV9-2-0\\energyplus.exe 8bcb50b9-df2e-11ed-a733-841b77d62e9a.idf: 0it [00:00, ?it/s]INFO:8bcb29a7-df2e-11ed-bffc-841b77d62e9a.idf:Simulation started\n",
      "C:\\EnergyPlusV9-2-0\\energyplus.exe 8bcb50b9-df2e-11ed-a733-841b77d62e9a.idf: 0it [00:00, ?it/s]INFO:8bcb50b9-df2e-11ed-a733-841b77d62e9a.idf:Simulation started\n",
      "C:\\EnergyPlusV9-2-0\\energyplus.exe 8bcb50b9-df2e-11ed-a733-841b77d62e9a.idf: 0it [00:00, ?it/s]INFO:8bcbb2c0-df2e-11ed-b90f-841b77d62e9a.idf:EnergyPlus Starting\n",
      "C:\\EnergyPlusV9-2-0\\energyplus.exe 8bcb0266-df2e-11ed-872a-841b77d62e9a.idf: 2it [00:00, 12.42it/s]"
     ]
    },
    {
     "name": "stdout",
     "output_type": "stream",
     "text": [
      "EnergyPlus, Version 9.2.0-921312fa1d, YMD=2023.04.19 20:50\n",
      "Simulation started\n",
      "Simulation started\n",
      "Simulation started\n",
      "EnergyPlus Starting\n",
      "EnergyPlus Starting\n"
     ]
    },
    {
     "name": "stderr",
     "output_type": "stream",
     "text": [
      "C:\\EnergyPlusV9-2-0\\energyplus.exe 8bcb50b9-df2e-11ed-a733-841b77d62e9a.idf: 0it [00:00, ?it/s]INFO:8bcb29a7-df2e-11ed-bffc-841b77d62e9a.idf:EnergyPlus Starting\n",
      "C:\\EnergyPlusV9-2-0\\energyplus.exe 8bcb50b9-df2e-11ed-a733-841b77d62e9a.idf: 0it [00:00, ?it/s]INFO:8bcb50b9-df2e-11ed-a733-841b77d62e9a.idf:EnergyPlus Starting\n",
      "C:\\EnergyPlusV9-2-0\\energyplus.exe 8bcb29a7-df2e-11ed-bffc-841b77d62e9a.idf: 1it [00:00,  9.23it/s]INFO:8bcbb2c0-df2e-11ed-b90f-841b77d62e9a.idf:EnergyPlus, Version 9.2.0-921312fa1d, YMD=2023.04.19 20:50\n",
      "C:\\EnergyPlusV9-2-0\\energyplus.exe 8bcbb2c0-df2e-11ed-b90f-841b77d62e9a.idf: 2it [00:00, 14.18it/s]INFO:8bcb29a7-df2e-11ed-bffc-841b77d62e9a.idf:EnergyPlus, Version 9.2.0-921312fa1d, YMD=2023.04.19 20:50\n"
     ]
    },
    {
     "name": "stdout",
     "output_type": "stream",
     "text": [
      "EnergyPlus Starting\n",
      "EnergyPlus, Version 9.2.0-921312fa1d, YMD=2023.04.19 20:50\n",
      "EnergyPlus, Version 9.2.0-921312fa1d, YMD=2023.04.19 20:50\n"
     ]
    },
    {
     "name": "stderr",
     "output_type": "stream",
     "text": [
      "C:\\EnergyPlusV9-2-0\\energyplus.exe 8bcb50b9-df2e-11ed-a733-841b77d62e9a.idf: 1it [00:00,  8.30it/s]INFO:8bcb50b9-df2e-11ed-a733-841b77d62e9a.idf:EnergyPlus, Version 9.2.0-921312fa1d, YMD=2023.04.19 20:50\n",
      "C:\\EnergyPlusV9-2-0\\energyplus.exe 8bcb50b9-df2e-11ed-a733-841b77d62e9a.idf: 2it [00:00,  8.30it/s]INFO:8bcb6466-df2e-11ed-bc29-841b77d62e9a.idf:Adjusting Air System Sizing\n"
     ]
    },
    {
     "name": "stdout",
     "output_type": "stream",
     "text": [
      "EnergyPlus, Version 9.2.0-921312fa1d, YMD=2023.04.19 20:50\n",
      "Adjusting Air System Sizing\n"
     ]
    },
    {
     "name": "stderr",
     "output_type": "stream",
     "text": [
      "C:\\EnergyPlusV9-2-0\\energyplus.exe 8bcb50b9-df2e-11ed-a733-841b77d62e9a.idf: 2it [00:00,  8.30it/s]INFO:8bcb6466-df2e-11ed-bc29-841b77d62e9a.idf:Adjusting Standard 62.1 Ventilation Sizing\n",
      "C:\\EnergyPlusV9-2-0\\energyplus.exe 8bcb50b9-df2e-11ed-a733-841b77d62e9a.idf: 2it [00:00,  8.30it/s]INFO:8bcb6466-df2e-11ed-bc29-841b77d62e9a.idf:Initializing Simulation\n",
      "C:\\EnergyPlusV9-2-0\\energyplus.exe 8bcb50b9-df2e-11ed-a733-841b77d62e9a.idf: 2it [00:00,  8.30it/s]INFO:8bcb0266-df2e-11ed-872a-841b77d62e9a.idf:Adjusting Air System Sizing\n",
      "C:\\EnergyPlusV9-2-0\\energyplus.exe 8bcb0266-df2e-11ed-872a-841b77d62e9a.idf: 3it [00:00,  9.83it/s]INFO:8bcb6466-df2e-11ed-bc29-841b77d62e9a.idf:Reporting Surfaces\n",
      "C:\\EnergyPlusV9-2-0\\energyplus.exe 8bcb50b9-df2e-11ed-a733-841b77d62e9a.idf: 2it [00:00,  8.30it/s]INFO:8bcb0266-df2e-11ed-872a-841b77d62e9a.idf:Adjusting Standard 62.1 Ventilation Sizing\n",
      "C:\\EnergyPlusV9-2-0\\energyplus.exe 8bcb29a7-df2e-11ed-bffc-841b77d62e9a.idf: 2it [00:00,  9.23it/s]"
     ]
    },
    {
     "name": "stdout",
     "output_type": "stream",
     "text": [
      "Adjusting Standard 62.1 Ventilation Sizing\n",
      "Initializing Simulation\n",
      "Adjusting Air System Sizing\n",
      "Reporting Surfaces\n",
      "Adjusting Standard 62.1 Ventilation Sizing\n",
      "Beginning Primary Simulation\n"
     ]
    },
    {
     "name": "stderr",
     "output_type": "stream",
     "text": [
      "C:\\EnergyPlusV9-2-0\\energyplus.exe 8bcb50b9-df2e-11ed-a733-841b77d62e9a.idf: 2it [00:00,  8.30it/s]INFO:8bcb6466-df2e-11ed-bc29-841b77d62e9a.idf:Beginning Primary Simulation\n",
      "C:\\EnergyPlusV9-2-0\\energyplus.exe 8bcb50b9-df2e-11ed-a733-841b77d62e9a.idf: 2it [00:00,  8.30it/s]INFO:8bcb0266-df2e-11ed-872a-841b77d62e9a.idf:Initializing Simulation\n",
      "C:\\EnergyPlusV9-2-0\\energyplus.exe 8bcb6466-df2e-11ed-bc29-841b77d62e9a.idf: 7it [00:00, 19.78it/s]INFO:8bcb50b9-df2e-11ed-a733-841b77d62e9a.idf:Adjusting Air System Sizing\n",
      "C:\\EnergyPlusV9-2-0\\energyplus.exe 8bcb50b9-df2e-11ed-a733-841b77d62e9a.idf: 3it [00:00,  9.12it/s]INFO:8bcb29a7-df2e-11ed-bffc-841b77d62e9a.idf:Adjusting Air System Sizing\n"
     ]
    },
    {
     "name": "stdout",
     "output_type": "stream",
     "text": [
      "Initializing Simulation\n",
      "Adjusting Air System Sizing\n",
      "Adjusting Air System Sizing\n"
     ]
    },
    {
     "name": "stderr",
     "output_type": "stream",
     "text": [
      "C:\\EnergyPlusV9-2-0\\energyplus.exe 8bcb50b9-df2e-11ed-a733-841b77d62e9a.idf: 3it [00:00,  9.12it/s]INFO:8bcbb2c0-df2e-11ed-b90f-841b77d62e9a.idf:Adjusting Air System Sizing\n",
      "C:\\EnergyPlusV9-2-0\\energyplus.exe 8bcb50b9-df2e-11ed-a733-841b77d62e9a.idf: 3it [00:00,  9.12it/s]"
     ]
    },
    {
     "name": "stdout",
     "output_type": "stream",
     "text": [
      "Adjusting Air System Sizing\n",
      "Reporting Surfaces\n"
     ]
    },
    {
     "name": "stderr",
     "output_type": "stream",
     "text": [
      "INFO:8bcb0266-df2e-11ed-872a-841b77d62e9a.idf:Reporting Surfaces\n",
      "C:\\EnergyPlusV9-2-0\\energyplus.exe 8bcb50b9-df2e-11ed-a733-841b77d62e9a.idf: 3it [00:00,  9.12it/s]INFO:8bcb6466-df2e-11ed-bc29-841b77d62e9a.idf:Initializing New Environment Parameters\n",
      "C:\\EnergyPlusV9-2-0\\energyplus.exe 8bcb6466-df2e-11ed-bc29-841b77d62e9a.idf: 8it [00:00, 16.44it/s]INFO:8bcb50b9-df2e-11ed-a733-841b77d62e9a.idf:Adjusting Standard 62.1 Ventilation Sizing\n",
      "C:\\EnergyPlusV9-2-0\\energyplus.exe 8bcb50b9-df2e-11ed-a733-841b77d62e9a.idf: 4it [00:00,  9.12it/s]INFO:8bcb29a7-df2e-11ed-bffc-841b77d62e9a.idf:Adjusting Standard 62.1 Ventilation Sizing\n",
      "C:\\EnergyPlusV9-2-0\\energyplus.exe 8bcb50b9-df2e-11ed-a733-841b77d62e9a.idf: 4it [00:00,  9.12it/s]INFO:8bcbb2c0-df2e-11ed-b90f-841b77d62e9a.idf:Adjusting Standard 62.1 Ventilation Sizing\n",
      "C:\\EnergyPlusV9-2-0\\energyplus.exe 8bcb50b9-df2e-11ed-a733-841b77d62e9a.idf: 4it [00:00,  9.12it/s]INFO:8bcb0266-df2e-11ed-872a-841b77d62e9a.idf:Beginning Primary Simulation\n",
      "C:\\EnergyPlusV9-2-0\\energyplus.exe 8bcb50b9-df2e-11ed-a733-841b77d62e9a.idf: 4it [00:00,  9.12it/s]INFO:8bcb50b9-df2e-11ed-a733-841b77d62e9a.idf:Initializing Simulation\n",
      "C:\\EnergyPlusV9-2-0\\energyplus.exe 8bcb50b9-df2e-11ed-a733-841b77d62e9a.idf: 5it [00:00, 11.10it/s]"
     ]
    },
    {
     "name": "stdout",
     "output_type": "stream",
     "text": [
      "Initializing New Environment Parameters\n",
      "Adjusting Standard 62.1 Ventilation Sizing\n",
      "Adjusting Standard 62.1 Ventilation Sizing\n",
      "Adjusting Standard 62.1 Ventilation Sizing\n",
      "Beginning Primary Simulation\n",
      "Initializing Simulation\n",
      "Warming up {1}\n"
     ]
    },
    {
     "name": "stderr",
     "output_type": "stream",
     "text": [
      "INFO:8bcb6466-df2e-11ed-bc29-841b77d62e9a.idf:Warming up {1}\n",
      "C:\\EnergyPlusV9-2-0\\energyplus.exe 8bcb50b9-df2e-11ed-a733-841b77d62e9a.idf: 5it [00:00, 11.10it/s]INFO:8bcb29a7-df2e-11ed-bffc-841b77d62e9a.idf:Initializing Simulation\n",
      "C:\\EnergyPlusV9-2-0\\energyplus.exe 8bcb50b9-df2e-11ed-a733-841b77d62e9a.idf: 5it [00:00, 11.10it/s]INFO:8bcbb2c0-df2e-11ed-b90f-841b77d62e9a.idf:Initializing Simulation\n",
      "C:\\EnergyPlusV9-2-0\\energyplus.exe 8bcb50b9-df2e-11ed-a733-841b77d62e9a.idf: 5it [00:00, 11.10it/s]"
     ]
    },
    {
     "name": "stdout",
     "output_type": "stream",
     "text": [
      "Initializing Simulation\n",
      "Initializing Simulation\n",
      "Initializing New Environment Parameters\n"
     ]
    },
    {
     "name": "stderr",
     "output_type": "stream",
     "text": [
      "C:\\EnergyPlusV9-2-0\\energyplus.exe 8bcb50b9-df2e-11ed-a733-841b77d62e9a.idf: 5it [00:00, 11.10it/s]INFO:8bcb0266-df2e-11ed-872a-841b77d62e9a.idf:Initializing New Environment Parameters\n",
      "C:\\EnergyPlusV9-2-0\\energyplus.exe 8bcb29a7-df2e-11ed-bffc-841b77d62e9a.idf: 5it [00:00, 10.12it/s]INFO:8bcb6466-df2e-11ed-bc29-841b77d62e9a.idf:Warming up {2}\n",
      "simulate:   0%|          | 0.00/20.0 [00:03<?, ?runs/s]"
     ]
    },
    {
     "name": "stdout",
     "output_type": "stream",
     "text": [
      "Warming up {2}\n",
      "Reporting Surfaces\n"
     ]
    },
    {
     "name": "stderr",
     "output_type": "stream",
     "text": [
      "C:\\EnergyPlusV9-2-0\\energyplus.exe 8bcb0266-df2e-11ed-872a-841b77d62e9a.idf: 8it [00:00, 13.76it/s]INFO:8bcb50b9-df2e-11ed-a733-841b77d62e9a.idf:Reporting Surfaces\n",
      "C:\\EnergyPlusV9-2-0\\energyplus.exe 8bcb6466-df2e-11ed-bc29-841b77d62e9a.idf: 10it [00:00, 14.73it/s]INFO:8bcb29a7-df2e-11ed-bffc-841b77d62e9a.idf:Reporting Surfaces\n",
      "C:\\EnergyPlusV9-2-0\\energyplus.exe 8bcb50b9-df2e-11ed-a733-841b77d62e9a.idf: 6it [00:00, 10.76it/s]INFO:8bcbb2c0-df2e-11ed-b90f-841b77d62e9a.idf:Reporting Surfaces\n",
      "C:\\EnergyPlusV9-2-0\\energyplus.exe 8bcb50b9-df2e-11ed-a733-841b77d62e9a.idf: 6it [00:00, 10.76it/s]INFO:8bcb0266-df2e-11ed-872a-841b77d62e9a.idf:Warming up {1}\n",
      "C:\\EnergyPlusV9-2-0\\energyplus.exe 8bcb50b9-df2e-11ed-a733-841b77d62e9a.idf: 6it [00:00, 10.76it/s]INFO:8bcb6466-df2e-11ed-bc29-841b77d62e9a.idf:Warming up {3}\n",
      "C:\\EnergyPlusV9-2-0\\energyplus.exe 8bcb50b9-df2e-11ed-a733-841b77d62e9a.idf: 6it [00:00, 10.76it/s]INFO:8bcb29a7-df2e-11ed-bffc-841b77d62e9a.idf:Beginning Primary Simulation\n",
      "                                                                                                    "
     ]
    },
    {
     "name": "stdout",
     "output_type": "stream",
     "text": [
      "Reporting Surfaces\n",
      "Reporting Surfaces\n",
      "Warming up {1}\n",
      "Warming up {3}\n",
      "Beginning Primary Simulation\n"
     ]
    },
    {
     "name": "stderr",
     "output_type": "stream",
     "text": [
      "C:\\EnergyPlusV9-2-0\\energyplus.exe 8bcb50b9-df2e-11ed-a733-841b77d62e9a.idf: 6it [00:00, 10.76it/s]INFO:8bcb50b9-df2e-11ed-a733-841b77d62e9a.idf:Beginning Primary Simulation\n",
      "C:\\EnergyPlusV9-2-0\\energyplus.exe 8bcb50b9-df2e-11ed-a733-841b77d62e9a.idf: 7it [00:00, 10.03it/s]INFO:8bcbb2c0-df2e-11ed-b90f-841b77d62e9a.idf:Beginning Primary Simulation\n",
      "C:\\EnergyPlusV9-2-0\\energyplus.exe 8bcb6466-df2e-11ed-bc29-841b77d62e9a.idf: 11it [00:00, 14.73it/s]"
     ]
    },
    {
     "name": "stdout",
     "output_type": "stream",
     "text": [
      "Beginning Primary Simulation\n",
      "Beginning Primary Simulation\n",
      "Warming up {2}\n"
     ]
    },
    {
     "name": "stderr",
     "output_type": "stream",
     "text": [
      "C:\\EnergyPlusV9-2-0\\energyplus.exe 8bcb50b9-df2e-11ed-a733-841b77d62e9a.idf: 7it [00:00, 10.03it/s]INFO:8bcb0266-df2e-11ed-872a-841b77d62e9a.idf:Warming up {2}\n",
      "C:\\EnergyPlusV9-2-0\\energyplus.exe 8bcb29a7-df2e-11ed-bffc-841b77d62e9a.idf: 7it [00:00, 10.91it/s]INFO:8bcb6466-df2e-11ed-bc29-841b77d62e9a.idf:Warming up {4}\n",
      "C:\\EnergyPlusV9-2-0\\energyplus.exe 8bcb6466-df2e-11ed-bc29-841b77d62e9a.idf: 12it [00:00, 13.10it/s]INFO:8bcb29a7-df2e-11ed-bffc-841b77d62e9a.idf:Initializing New Environment Parameters\n"
     ]
    },
    {
     "name": "stdout",
     "output_type": "stream",
     "text": [
      "Warming up {4}\n",
      "Initializing New Environment Parameters\n"
     ]
    },
    {
     "name": "stderr",
     "output_type": "stream",
     "text": [
      "C:\\EnergyPlusV9-2-0\\energyplus.exe 8bcb50b9-df2e-11ed-a733-841b77d62e9a.idf: 7it [00:00, 10.03it/s]INFO:8bcb50b9-df2e-11ed-a733-841b77d62e9a.idf:Initializing New Environment Parameters\n",
      "C:\\EnergyPlusV9-2-0\\energyplus.exe 8bcb50b9-df2e-11ed-a733-841b77d62e9a.idf: 8it [00:00, 10.03it/s]INFO:8bcbb2c0-df2e-11ed-b90f-841b77d62e9a.idf:Initializing New Environment Parameters\n",
      "C:\\EnergyPlusV9-2-0\\energyplus.exe 8bcb50b9-df2e-11ed-a733-841b77d62e9a.idf: 8it [00:00, 10.03it/s]INFO:8bcb0266-df2e-11ed-872a-841b77d62e9a.idf:Warming up {3}\n",
      "C:\\EnergyPlusV9-2-0\\energyplus.exe 8bcb50b9-df2e-11ed-a733-841b77d62e9a.idf: 8it [00:00, 10.03it/s]INFO:8bcb6466-df2e-11ed-bc29-841b77d62e9a.idf:Warming up {5}\n",
      "C:\\EnergyPlusV9-2-0\\energyplus.exe 8bcb50b9-df2e-11ed-a733-841b77d62e9a.idf: 8it [00:00, 10.03it/s]INFO:8bcb29a7-df2e-11ed-bffc-841b77d62e9a.idf:Warming up {1}\n",
      "C:\\EnergyPlusV9-2-0\\energyplus.exe 8bcb50b9-df2e-11ed-a733-841b77d62e9a.idf: 8it [00:00, 10.03it/s]"
     ]
    },
    {
     "name": "stdout",
     "output_type": "stream",
     "text": [
      "Initializing New Environment Parameters\n",
      "Initializing New Environment Parameters\n",
      "Warming up {3}\n",
      "Warming up {5}\n",
      "Warming up {1}\n",
      "Warming up {1}\n"
     ]
    },
    {
     "name": "stderr",
     "output_type": "stream",
     "text": [
      "INFO:8bcb50b9-df2e-11ed-a733-841b77d62e9a.idf:Warming up {1}\n",
      "C:\\EnergyPlusV9-2-0\\energyplus.exe 8bcb50b9-df2e-11ed-a733-841b77d62e9a.idf: 9it [00:00, 10.63it/s]INFO:8bcbb2c0-df2e-11ed-b90f-841b77d62e9a.idf:Warming up {1}\n",
      "C:\\EnergyPlusV9-2-0\\energyplus.exe 8bcb50b9-df2e-11ed-a733-841b77d62e9a.idf: 9it [00:00, 10.63it/s]INFO:8bcb0266-df2e-11ed-872a-841b77d62e9a.idf:Warming up {4}\n",
      "simulate:   0%|          | 0.00/20.0 [00:04<?, ?runs/s]"
     ]
    },
    {
     "name": "stdout",
     "output_type": "stream",
     "text": [
      "Warming up {1}\n",
      "Warming up {4}\n",
      "Warming up {6}\n"
     ]
    },
    {
     "name": "stderr",
     "output_type": "stream",
     "text": [
      "C:\\EnergyPlusV9-2-0\\energyplus.exe 8bcb50b9-df2e-11ed-a733-841b77d62e9a.idf: 9it [00:00, 10.63it/s]INFO:8bcb6466-df2e-11ed-bc29-841b77d62e9a.idf:Warming up {6}\n",
      "C:\\EnergyPlusV9-2-0\\energyplus.exe 8bcb50b9-df2e-11ed-a733-841b77d62e9a.idf: 9it [00:00, 10.63it/s]INFO:8bcb29a7-df2e-11ed-bffc-841b77d62e9a.idf:Warming up {2}\n",
      "C:\\EnergyPlusV9-2-0\\energyplus.exe 8bcb50b9-df2e-11ed-a733-841b77d62e9a.idf: 9it [00:00, 10.63it/s]INFO:8bcb50b9-df2e-11ed-a733-841b77d62e9a.idf:Warming up {2}\n"
     ]
    },
    {
     "name": "stdout",
     "output_type": "stream",
     "text": [
      "Warming up {2}\n",
      "Warming up {2}\n"
     ]
    },
    {
     "name": "stderr",
     "output_type": "stream",
     "text": [
      "C:\\EnergyPlusV9-2-0\\energyplus.exe 8bcb50b9-df2e-11ed-a733-841b77d62e9a.idf: 10it [00:00, 10.63it/s]INFO:8bcbb2c0-df2e-11ed-b90f-841b77d62e9a.idf:Warming up {2}\n",
      "C:\\EnergyPlusV9-2-0\\energyplus.exe 8bcb50b9-df2e-11ed-a733-841b77d62e9a.idf: 10it [00:00, 10.63it/s]INFO:8bcb0266-df2e-11ed-872a-841b77d62e9a.idf:Warming up {5}\n",
      "C:\\EnergyPlusV9-2-0\\energyplus.exe 8bcb50b9-df2e-11ed-a733-841b77d62e9a.idf: 10it [00:01, 10.63it/s]INFO:8bcb6466-df2e-11ed-bc29-841b77d62e9a.idf:Starting Simulation at 01/01/2017 for RUN PERIOD 1\n",
      "C:\\EnergyPlusV9-2-0\\energyplus.exe 8bcb50b9-df2e-11ed-a733-841b77d62e9a.idf: 10it [00:01, 10.63it/s]INFO:8bcb29a7-df2e-11ed-bffc-841b77d62e9a.idf:Warming up {3}\n",
      "C:\\EnergyPlusV9-2-0\\energyplus.exe 8bcb50b9-df2e-11ed-a733-841b77d62e9a.idf: 10it [00:01, 10.63it/s]INFO:8bcb50b9-df2e-11ed-a733-841b77d62e9a.idf:Warming up {3}\n",
      "C:\\EnergyPlusV9-2-0\\energyplus.exe 8bcb50b9-df2e-11ed-a733-841b77d62e9a.idf: 11it [00:01, 11.08it/s]"
     ]
    },
    {
     "name": "stdout",
     "output_type": "stream",
     "text": [
      "Warming up {2}\n",
      "Warming up {5}\n",
      "Starting Simulation at 01/01/2017 for RUN PERIOD 1\n",
      "Warming up {3}\n",
      "Warming up {3}\n",
      "Warming up {3}\n"
     ]
    },
    {
     "name": "stderr",
     "output_type": "stream",
     "text": [
      "INFO:8bcbb2c0-df2e-11ed-b90f-841b77d62e9a.idf:Warming up {3}\n",
      "C:\\EnergyPlusV9-2-0\\energyplus.exe 8bcb50b9-df2e-11ed-a733-841b77d62e9a.idf: 11it [00:01, 11.08it/s]INFO:8bcb0266-df2e-11ed-872a-841b77d62e9a.idf:Warming up {6}\n",
      "C:\\EnergyPlusV9-2-0\\energyplus.exe 8bcb29a7-df2e-11ed-bffc-841b77d62e9a.idf: 11it [00:01, 11.26it/s]INFO:8bcb6466-df2e-11ed-bc29-841b77d62e9a.idf:Updating Shadowing Calculations, Start Date=01/21/2017\n",
      "C:\\EnergyPlusV9-2-0\\energyplus.exe 8bcb6466-df2e-11ed-bc29-841b77d62e9a.idf: 16it [00:01, 12.33it/s]INFO:8bcb29a7-df2e-11ed-bffc-841b77d62e9a.idf:Warming up {4}\n",
      "                                                                                                    "
     ]
    },
    {
     "name": "stdout",
     "output_type": "stream",
     "text": [
      "Warming up {6}\n",
      "Updating Shadowing Calculations, Start Date=01/21/2017\n",
      "Warming up {4}\n"
     ]
    },
    {
     "name": "stderr",
     "output_type": "stream",
     "text": [
      "C:\\EnergyPlusV9-2-0\\energyplus.exe 8bcb50b9-df2e-11ed-a733-841b77d62e9a.idf: 11it [00:01, 11.08it/s]INFO:8bcb50b9-df2e-11ed-a733-841b77d62e9a.idf:Warming up {4}\n",
      "C:\\EnergyPlusV9-2-0\\energyplus.exe 8bcb50b9-df2e-11ed-a733-841b77d62e9a.idf: 12it [00:01, 11.08it/s]INFO:8bcbb2c0-df2e-11ed-b90f-841b77d62e9a.idf:Warming up {4}\n",
      "                                                                                                    "
     ]
    },
    {
     "name": "stdout",
     "output_type": "stream",
     "text": [
      "Warming up {4}\n",
      "Warming up {4}\n"
     ]
    },
    {
     "name": "stderr",
     "output_type": "stream",
     "text": [
      "C:\\EnergyPlusV9-2-0\\energyplus.exe 8bcb50b9-df2e-11ed-a733-841b77d62e9a.idf: 12it [00:01, 11.08it/s]INFO:8bcb0266-df2e-11ed-872a-841b77d62e9a.idf:Starting Simulation at 01/01/2017 for RUN PERIOD 1\n",
      "C:\\EnergyPlusV9-2-0\\energyplus.exe 8bcb50b9-df2e-11ed-a733-841b77d62e9a.idf: 12it [00:01, 11.08it/s]INFO:8bcb6466-df2e-11ed-bc29-841b77d62e9a.idf:Continuing Simulation at 01/21/2017 for RUN PERIOD 1\n",
      "C:\\EnergyPlusV9-2-0\\energyplus.exe 8bcb50b9-df2e-11ed-a733-841b77d62e9a.idf: 12it [00:01, 11.08it/s]INFO:8bcb29a7-df2e-11ed-bffc-841b77d62e9a.idf:Warming up {5}\n",
      "C:\\EnergyPlusV9-2-0\\energyplus.exe 8bcb50b9-df2e-11ed-a733-841b77d62e9a.idf: 12it [00:01, 11.08it/s]INFO:8bcb50b9-df2e-11ed-a733-841b77d62e9a.idf:Warming up {5}\n",
      "C:\\EnergyPlusV9-2-0\\energyplus.exe 8bcb50b9-df2e-11ed-a733-841b77d62e9a.idf: 13it [00:01, 11.31it/s]INFO:8bcbb2c0-df2e-11ed-b90f-841b77d62e9a.idf:Warming up {5}\n",
      "C:\\EnergyPlusV9-2-0\\energyplus.exe 8bcb50b9-df2e-11ed-a733-841b77d62e9a.idf: 13it [00:01, 11.31it/s]INFO:8bcb0266-df2e-11ed-872a-841b77d62e9a.idf:Updating Shadowing Calculations, Start Date=01/21/2017\n"
     ]
    },
    {
     "name": "stdout",
     "output_type": "stream",
     "text": [
      "Starting Simulation at 01/01/2017 for RUN PERIOD 1\n",
      "Continuing Simulation at 01/21/2017 for RUN PERIOD 1\n",
      "Warming up {5}\n",
      "Warming up {5}\n",
      "Warming up {5}\n",
      "Updating Shadowing Calculations, Start Date=01/21/2017\n"
     ]
    },
    {
     "name": "stderr",
     "output_type": "stream",
     "text": [
      "C:\\EnergyPlusV9-2-0\\energyplus.exe 8bcb29a7-df2e-11ed-bffc-841b77d62e9a.idf: 13it [00:01, 11.42it/s]INFO:8bcb6466-df2e-11ed-bc29-841b77d62e9a.idf:Updating Shadowing Calculations, Start Date=02/10/2017\n",
      "C:\\EnergyPlusV9-2-0\\energyplus.exe 8bcb50b9-df2e-11ed-a733-841b77d62e9a.idf: 13it [00:01, 11.31it/s]INFO:8bcb29a7-df2e-11ed-bffc-841b77d62e9a.idf:Warming up {6}\n",
      "C:\\EnergyPlusV9-2-0\\energyplus.exe 8bcb50b9-df2e-11ed-a733-841b77d62e9a.idf: 13it [00:01, 11.31it/s]INFO:8bcb50b9-df2e-11ed-a733-841b77d62e9a.idf:Warming up {6}\n",
      "C:\\EnergyPlusV9-2-0\\energyplus.exe 8bcb29a7-df2e-11ed-bffc-841b77d62e9a.idf: 14it [00:01, 11.42it/s]"
     ]
    },
    {
     "name": "stdout",
     "output_type": "stream",
     "text": [
      "Updating Shadowing Calculations, Start Date=02/10/2017\n",
      "Warming up {6}\n",
      "Warming up {6}\n",
      "Warming up {6}\n"
     ]
    },
    {
     "name": "stderr",
     "output_type": "stream",
     "text": [
      "                                                       INFO:8bcbb2c0-df2e-11ed-b90f-841b77d62e9a.idf:Warming up {6}\n",
      "C:\\EnergyPlusV9-2-0\\energyplus.exe 8bcb50b9-df2e-11ed-a733-841b77d62e9a.idf: 14it [00:01, 11.31it/s]INFO:8bcb0266-df2e-11ed-872a-841b77d62e9a.idf:Continuing Simulation at 01/21/2017 for RUN PERIOD 1\n",
      "simulate:   0%|          | 0.00/20.0 [00:04<?, ?runs/s]"
     ]
    },
    {
     "name": "stdout",
     "output_type": "stream",
     "text": [
      "Continuing Simulation at 01/21/2017 for RUN PERIOD 1\n",
      "Continuing Simulation at 02/10/2017 for RUN PERIOD 1\n"
     ]
    },
    {
     "name": "stderr",
     "output_type": "stream",
     "text": [
      "                                                       INFO:8bcb6466-df2e-11ed-bc29-841b77d62e9a.idf:Continuing Simulation at 02/10/2017 for RUN PERIOD 1\n",
      "C:\\EnergyPlusV9-2-0\\energyplus.exe 8bcb50b9-df2e-11ed-a733-841b77d62e9a.idf: 14it [00:01, 11.31it/s]INFO:8bcb29a7-df2e-11ed-bffc-841b77d62e9a.idf:Starting Simulation at 01/01/2017 for RUN PERIOD 1\n",
      "C:\\EnergyPlusV9-2-0\\energyplus.exe 8bcb50b9-df2e-11ed-a733-841b77d62e9a.idf: 14it [00:01, 11.31it/s]INFO:8bcb50b9-df2e-11ed-a733-841b77d62e9a.idf:Starting Simulation at 01/01/2017 for RUN PERIOD 1\n",
      "C:\\EnergyPlusV9-2-0\\energyplus.exe 8bcb50b9-df2e-11ed-a733-841b77d62e9a.idf: 15it [00:01, 11.53it/s]INFO:8bcbb2c0-df2e-11ed-b90f-841b77d62e9a.idf:Starting Simulation at 01/01/2017 for RUN PERIOD 1\n",
      "C:\\EnergyPlusV9-2-0\\energyplus.exe 8bcb50b9-df2e-11ed-a733-841b77d62e9a.idf: 15it [00:01, 11.53it/s]INFO:8bcb0266-df2e-11ed-872a-841b77d62e9a.idf:Updating Shadowing Calculations, Start Date=02/10/2017\n",
      "C:\\EnergyPlusV9-2-0\\energyplus.exe 8bcbb2c0-df2e-11ed-b90f-841b77d62e9a.idf: 15it [00:01, 11.47it/s]"
     ]
    },
    {
     "name": "stdout",
     "output_type": "stream",
     "text": [
      "Starting Simulation at 01/01/2017 for RUN PERIOD 1\n",
      "Starting Simulation at 01/01/2017 for RUN PERIOD 1\n",
      "Starting Simulation at 01/01/2017 for RUN PERIOD 1\n",
      "Updating Shadowing Calculations, Start Date=02/10/2017\n",
      "Updating Shadowing Calculations, Start Date=03/02/2017\n"
     ]
    },
    {
     "name": "stderr",
     "output_type": "stream",
     "text": [
      "C:\\EnergyPlusV9-2-0\\energyplus.exe 8bcb29a7-df2e-11ed-bffc-841b77d62e9a.idf: 15it [00:01, 11.59it/s]INFO:8bcb6466-df2e-11ed-bc29-841b77d62e9a.idf:Updating Shadowing Calculations, Start Date=03/02/2017\n",
      "C:\\EnergyPlusV9-2-0\\energyplus.exe 8bcb6466-df2e-11ed-bc29-841b77d62e9a.idf: 20it [00:01, 11.84it/s]INFO:8bcb29a7-df2e-11ed-bffc-841b77d62e9a.idf:Updating Shadowing Calculations, Start Date=01/21/2017\n",
      "C:\\EnergyPlusV9-2-0\\energyplus.exe 8bcb50b9-df2e-11ed-a733-841b77d62e9a.idf: 15it [00:01, 11.53it/s]INFO:8bcb50b9-df2e-11ed-a733-841b77d62e9a.idf:Updating Shadowing Calculations, Start Date=01/21/2017\n",
      "C:\\EnergyPlusV9-2-0\\energyplus.exe 8bcb50b9-df2e-11ed-a733-841b77d62e9a.idf: 16it [00:01, 11.18it/s]INFO:8bcbb2c0-df2e-11ed-b90f-841b77d62e9a.idf:Updating Shadowing Calculations, Start Date=01/21/2017\n",
      "C:\\EnergyPlusV9-2-0\\energyplus.exe 8bcb50b9-df2e-11ed-a733-841b77d62e9a.idf: 16it [00:01, 11.18it/s]INFO:8bcb0266-df2e-11ed-872a-841b77d62e9a.idf:Continuing Simulation at 02/10/2017 for RUN PERIOD 1\n"
     ]
    },
    {
     "name": "stdout",
     "output_type": "stream",
     "text": [
      "Updating Shadowing Calculations, Start Date=01/21/2017\n",
      "Updating Shadowing Calculations, Start Date=01/21/2017\n",
      "Updating Shadowing Calculations, Start Date=01/21/2017\n",
      "Continuing Simulation at 02/10/2017 for RUN PERIOD 1\n"
     ]
    },
    {
     "name": "stderr",
     "output_type": "stream",
     "text": [
      "C:\\EnergyPlusV9-2-0\\energyplus.exe 8bcb50b9-df2e-11ed-a733-841b77d62e9a.idf: 16it [00:01, 11.18it/s]INFO:8bcb6466-df2e-11ed-bc29-841b77d62e9a.idf:Continuing Simulation at 03/02/2017 for RUN PERIOD 1\n",
      "C:\\EnergyPlusV9-2-0\\energyplus.exe 8bcb50b9-df2e-11ed-a733-841b77d62e9a.idf: 16it [00:01, 11.18it/s]INFO:8bcb29a7-df2e-11ed-bffc-841b77d62e9a.idf:Continuing Simulation at 01/21/2017 for RUN PERIOD 1\n",
      "C:\\EnergyPlusV9-2-0\\energyplus.exe 8bcbb2c0-df2e-11ed-b90f-841b77d62e9a.idf: 16it [00:01, 11.08it/s]"
     ]
    },
    {
     "name": "stdout",
     "output_type": "stream",
     "text": [
      "Continuing Simulation at 03/02/2017 for RUN PERIOD 1\n",
      "Continuing Simulation at 01/21/2017 for RUN PERIOD 1\n"
     ]
    },
    {
     "name": "stderr",
     "output_type": "stream",
     "text": [
      "C:\\EnergyPlusV9-2-0\\energyplus.exe 8bcb50b9-df2e-11ed-a733-841b77d62e9a.idf: 16it [00:01, 11.18it/s]INFO:8bcb0266-df2e-11ed-872a-841b77d62e9a.idf:Updating Shadowing Calculations, Start Date=03/02/2017\n",
      "C:\\EnergyPlusV9-2-0\\energyplus.exe 8bcb50b9-df2e-11ed-a733-841b77d62e9a.idf: 16it [00:01, 11.18it/s]INFO:8bcb6466-df2e-11ed-bc29-841b77d62e9a.idf:Updating Shadowing Calculations, Start Date=03/22/2017\n",
      "C:\\EnergyPlusV9-2-0\\energyplus.exe 8bcb29a7-df2e-11ed-bffc-841b77d62e9a.idf: 17it [00:01, 11.46it/s]INFO:8bcb50b9-df2e-11ed-a733-841b77d62e9a.idf:Continuing Simulation at 01/21/2017 for RUN PERIOD 1\n",
      "C:\\EnergyPlusV9-2-0\\energyplus.exe 8bcb0266-df2e-11ed-872a-841b77d62e9a.idf: 20it [00:01, 12.40it/s]INFO:8bcbb2c0-df2e-11ed-b90f-841b77d62e9a.idf:Continuing Simulation at 01/21/2017 for RUN PERIOD 1\n",
      "C:\\EnergyPlusV9-2-0\\energyplus.exe 8bcb50b9-df2e-11ed-a733-841b77d62e9a.idf: 17it [00:01, 10.55it/s]INFO:8bcb29a7-df2e-11ed-bffc-841b77d62e9a.idf:Updating Shadowing Calculations, Start Date=02/10/2017\n",
      "C:\\EnergyPlusV9-2-0\\energyplus.exe 8bcbb2c0-df2e-11ed-b90f-841b77d62e9a.idf: 17it [00:01, 10.56it/s]"
     ]
    },
    {
     "name": "stdout",
     "output_type": "stream",
     "text": [
      "Updating Shadowing Calculations, Start Date=03/02/2017\n",
      "Updating Shadowing Calculations, Start Date=03/22/2017\n",
      "Continuing Simulation at 01/21/2017 for RUN PERIOD 1\n",
      "Continuing Simulation at 01/21/2017 for RUN PERIOD 1\n",
      "Updating Shadowing Calculations, Start Date=02/10/2017\n",
      "Continuing Simulation at 03/02/2017 for RUN PERIOD 1\n"
     ]
    },
    {
     "name": "stderr",
     "output_type": "stream",
     "text": [
      "C:\\EnergyPlusV9-2-0\\energyplus.exe 8bcbb2c0-df2e-11ed-b90f-841b77d62e9a.idf: 17it [00:01, 10.56it/s]INFO:8bcb0266-df2e-11ed-872a-841b77d62e9a.idf:Continuing Simulation at 03/02/2017 for RUN PERIOD 1\n",
      "                                                       INFO:8bcb6466-df2e-11ed-bc29-841b77d62e9a.idf:Continuing Simulation at 03/22/2017 for RUN PERIOD 1\n",
      "C:\\EnergyPlusV9-2-0\\energyplus.exe 8bcb50b9-df2e-11ed-a733-841b77d62e9a.idf: 17it [00:01, 10.55it/s]INFO:8bcb50b9-df2e-11ed-a733-841b77d62e9a.idf:Updating Shadowing Calculations, Start Date=02/10/2017\n",
      "C:\\EnergyPlusV9-2-0\\energyplus.exe 8bcb50b9-df2e-11ed-a733-841b77d62e9a.idf: 18it [00:01, 10.55it/s]INFO:8bcb29a7-df2e-11ed-bffc-841b77d62e9a.idf:Continuing Simulation at 02/10/2017 for RUN PERIOD 1\n",
      "                                                                                                    "
     ]
    },
    {
     "name": "stdout",
     "output_type": "stream",
     "text": [
      "Continuing Simulation at 03/22/2017 for RUN PERIOD 1\n",
      "Updating Shadowing Calculations, Start Date=02/10/2017\n",
      "Continuing Simulation at 02/10/2017 for RUN PERIOD 1\n"
     ]
    },
    {
     "name": "stderr",
     "output_type": "stream",
     "text": [
      "C:\\EnergyPlusV9-2-0\\energyplus.exe 8bcb50b9-df2e-11ed-a733-841b77d62e9a.idf: 18it [00:01, 10.55it/s]INFO:8bcbb2c0-df2e-11ed-b90f-841b77d62e9a.idf:Updating Shadowing Calculations, Start Date=02/10/2017\n",
      "C:\\EnergyPlusV9-2-0\\energyplus.exe 8bcb50b9-df2e-11ed-a733-841b77d62e9a.idf: 18it [00:01, 10.55it/s]INFO:8bcb0266-df2e-11ed-872a-841b77d62e9a.idf:Updating Shadowing Calculations, Start Date=03/22/2017\n",
      "                                                                                                    "
     ]
    },
    {
     "name": "stdout",
     "output_type": "stream",
     "text": [
      "Updating Shadowing Calculations, Start Date=02/10/2017\n",
      "Updating Shadowing Calculations, Start Date=03/22/2017\n"
     ]
    },
    {
     "name": "stderr",
     "output_type": "stream",
     "text": [
      "C:\\EnergyPlusV9-2-0\\energyplus.exe 8bcb50b9-df2e-11ed-a733-841b77d62e9a.idf: 18it [00:01, 10.55it/s]INFO:8bcb6466-df2e-11ed-bc29-841b77d62e9a.idf:Updating Shadowing Calculations, Start Date=04/11/2017\n",
      "C:\\EnergyPlusV9-2-0\\energyplus.exe 8bcb29a7-df2e-11ed-bffc-841b77d62e9a.idf: 19it [00:01, 12.09it/s]INFO:8bcb50b9-df2e-11ed-a733-841b77d62e9a.idf:Continuing Simulation at 02/10/2017 for RUN PERIOD 1\n",
      "C:\\EnergyPlusV9-2-0\\energyplus.exe 8bcb0266-df2e-11ed-872a-841b77d62e9a.idf: 22it [00:01, 12.42it/s]INFO:8bcbb2c0-df2e-11ed-b90f-841b77d62e9a.idf:Continuing Simulation at 02/10/2017 for RUN PERIOD 1\n",
      "C:\\EnergyPlusV9-2-0\\energyplus.exe 8bcb50b9-df2e-11ed-a733-841b77d62e9a.idf: 19it [00:01, 11.09it/s]INFO:8bcb29a7-df2e-11ed-bffc-841b77d62e9a.idf:Updating Shadowing Calculations, Start Date=03/02/2017\n",
      "C:\\EnergyPlusV9-2-0\\energyplus.exe 8bcbb2c0-df2e-11ed-b90f-841b77d62e9a.idf: 19it [00:01, 11.09it/s]INFO:8bcb0266-df2e-11ed-872a-841b77d62e9a.idf:Continuing Simulation at 03/22/2017 for RUN PERIOD 1\n",
      "C:\\EnergyPlusV9-2-0\\energyplus.exe 8bcb50b9-df2e-11ed-a733-841b77d62e9a.idf: 19it [00:01, 11.09it/s]INFO:8bcb6466-df2e-11ed-bc29-841b77d62e9a.idf:Continuing Simulation at 04/11/2017 for RUN PERIOD 1\n",
      "C:\\EnergyPlusV9-2-0\\energyplus.exe 8bcb29a7-df2e-11ed-bffc-841b77d62e9a.idf: 20it [00:01, 11.54it/s]INFO:8bcb50b9-df2e-11ed-a733-841b77d62e9a.idf:Updating Shadowing Calculations, Start Date=03/02/2017\n"
     ]
    },
    {
     "name": "stdout",
     "output_type": "stream",
     "text": [
      "Updating Shadowing Calculations, Start Date=04/11/2017\n",
      "Continuing Simulation at 02/10/2017 for RUN PERIOD 1\n",
      "Continuing Simulation at 02/10/2017 for RUN PERIOD 1\n",
      "Updating Shadowing Calculations, Start Date=03/02/2017\n",
      "Continuing Simulation at 03/22/2017 for RUN PERIOD 1\n",
      "Continuing Simulation at 04/11/2017 for RUN PERIOD 1\n",
      "Updating Shadowing Calculations, Start Date=03/02/2017\n"
     ]
    },
    {
     "name": "stderr",
     "output_type": "stream",
     "text": [
      "C:\\EnergyPlusV9-2-0\\energyplus.exe 8bcb50b9-df2e-11ed-a733-841b77d62e9a.idf: 20it [00:01, 11.09it/s]INFO:8bcbb2c0-df2e-11ed-b90f-841b77d62e9a.idf:Updating Shadowing Calculations, Start Date=03/02/2017\n",
      "C:\\EnergyPlusV9-2-0\\energyplus.exe 8bcb50b9-df2e-11ed-a733-841b77d62e9a.idf: 20it [00:01, 11.09it/s]INFO:8bcb0266-df2e-11ed-872a-841b77d62e9a.idf:Updating Shadowing Calculations, Start Date=04/11/2017\n",
      "C:\\EnergyPlusV9-2-0\\energyplus.exe 8bcb50b9-df2e-11ed-a733-841b77d62e9a.idf: 20it [00:01, 11.09it/s]"
     ]
    },
    {
     "name": "stdout",
     "output_type": "stream",
     "text": [
      "Updating Shadowing Calculations, Start Date=03/02/2017\n",
      "Updating Shadowing Calculations, Start Date=04/11/2017\n",
      "Updating Shadowing Calculations, Start Date=05/01/2017\n"
     ]
    },
    {
     "name": "stderr",
     "output_type": "stream",
     "text": [
      "INFO:8bcb6466-df2e-11ed-bc29-841b77d62e9a.idf:Updating Shadowing Calculations, Start Date=05/01/2017\n",
      "C:\\EnergyPlusV9-2-0\\energyplus.exe 8bcb50b9-df2e-11ed-a733-841b77d62e9a.idf: 20it [00:01, 11.09it/s]INFO:8bcb29a7-df2e-11ed-bffc-841b77d62e9a.idf:Continuing Simulation at 03/02/2017 for RUN PERIOD 1\n"
     ]
    },
    {
     "name": "stdout",
     "output_type": "stream",
     "text": [
      "Continuing Simulation at 03/02/2017 for RUN PERIOD 1\n"
     ]
    },
    {
     "name": "stderr",
     "output_type": "stream",
     "text": [
      "C:\\EnergyPlusV9-2-0\\energyplus.exe 8bcb50b9-df2e-11ed-a733-841b77d62e9a.idf: 20it [00:01, 11.09it/s]INFO:8bcb50b9-df2e-11ed-a733-841b77d62e9a.idf:Continuing Simulation at 03/02/2017 for RUN PERIOD 1\n",
      "C:\\EnergyPlusV9-2-0\\energyplus.exe 8bcb0266-df2e-11ed-872a-841b77d62e9a.idf: 24it [00:01, 12.69it/s]INFO:8bcbb2c0-df2e-11ed-b90f-841b77d62e9a.idf:Continuing Simulation at 03/02/2017 for RUN PERIOD 1\n",
      "C:\\EnergyPlusV9-2-0\\energyplus.exe 8bcbb2c0-df2e-11ed-b90f-841b77d62e9a.idf: 21it [00:01, 11.35it/s]INFO:8bcb0266-df2e-11ed-872a-841b77d62e9a.idf:Continuing Simulation at 04/11/2017 for RUN PERIOD 1\n",
      "C:\\EnergyPlusV9-2-0\\energyplus.exe 8bcb50b9-df2e-11ed-a733-841b77d62e9a.idf: 21it [00:01, 11.37it/s]INFO:8bcb6466-df2e-11ed-bc29-841b77d62e9a.idf:Continuing Simulation at 05/01/2017 for RUN PERIOD 1\n",
      "C:\\EnergyPlusV9-2-0\\energyplus.exe 8bcb50b9-df2e-11ed-a733-841b77d62e9a.idf: 21it [00:01, 11.37it/s]INFO:8bcb29a7-df2e-11ed-bffc-841b77d62e9a.idf:Updating Shadowing Calculations, Start Date=03/22/2017\n",
      "C:\\EnergyPlusV9-2-0\\energyplus.exe 8bcb50b9-df2e-11ed-a733-841b77d62e9a.idf: 21it [00:02, 11.37it/s]INFO:8bcb50b9-df2e-11ed-a733-841b77d62e9a.idf:Updating Shadowing Calculations, Start Date=03/22/2017\n",
      "C:\\EnergyPlusV9-2-0\\energyplus.exe 8bcb0266-df2e-11ed-872a-841b77d62e9a.idf: 25it [00:02, 12.69it/s]"
     ]
    },
    {
     "name": "stdout",
     "output_type": "stream",
     "text": [
      "Continuing Simulation at 03/02/2017 for RUN PERIOD 1\n",
      "Continuing Simulation at 03/02/2017 for RUN PERIOD 1\n",
      "Continuing Simulation at 04/11/2017 for RUN PERIOD 1\n",
      "Continuing Simulation at 05/01/2017 for RUN PERIOD 1\n",
      "Updating Shadowing Calculations, Start Date=03/22/2017\n",
      "Updating Shadowing Calculations, Start Date=03/22/2017\n",
      "Updating Shadowing Calculations, Start Date=03/22/2017\n"
     ]
    },
    {
     "name": "stderr",
     "output_type": "stream",
     "text": [
      "C:\\EnergyPlusV9-2-0\\energyplus.exe 8bcb50b9-df2e-11ed-a733-841b77d62e9a.idf: 22it [00:02, 11.37it/s]INFO:8bcbb2c0-df2e-11ed-b90f-841b77d62e9a.idf:Updating Shadowing Calculations, Start Date=03/22/2017\n",
      "C:\\EnergyPlusV9-2-0\\energyplus.exe 8bcb50b9-df2e-11ed-a733-841b77d62e9a.idf: 22it [00:02, 11.37it/s]INFO:8bcb0266-df2e-11ed-872a-841b77d62e9a.idf:Updating Shadowing Calculations, Start Date=05/01/2017\n",
      "C:\\EnergyPlusV9-2-0\\energyplus.exe 8bcb50b9-df2e-11ed-a733-841b77d62e9a.idf: 22it [00:02, 11.37it/s]INFO:8bcb6466-df2e-11ed-bc29-841b77d62e9a.idf:Updating Shadowing Calculations, Start Date=05/21/2017\n"
     ]
    },
    {
     "name": "stdout",
     "output_type": "stream",
     "text": [
      "Updating Shadowing Calculations, Start Date=05/01/2017\n",
      "Updating Shadowing Calculations, Start Date=05/21/2017\n"
     ]
    },
    {
     "name": "stderr",
     "output_type": "stream",
     "text": [
      "C:\\EnergyPlusV9-2-0\\energyplus.exe 8bcb50b9-df2e-11ed-a733-841b77d62e9a.idf: 22it [00:02, 11.37it/s]INFO:8bcb29a7-df2e-11ed-bffc-841b77d62e9a.idf:Continuing Simulation at 03/22/2017 for RUN PERIOD 1\n",
      "C:\\EnergyPlusV9-2-0\\energyplus.exe 8bcb50b9-df2e-11ed-a733-841b77d62e9a.idf: 22it [00:02, 11.37it/s]INFO:8bcb50b9-df2e-11ed-a733-841b77d62e9a.idf:Continuing Simulation at 03/22/2017 for RUN PERIOD 1\n"
     ]
    },
    {
     "name": "stdout",
     "output_type": "stream",
     "text": [
      "Continuing Simulation at 03/22/2017 for RUN PERIOD 1\n",
      "Continuing Simulation at 03/22/2017 for RUN PERIOD 1\n"
     ]
    },
    {
     "name": "stderr",
     "output_type": "stream",
     "text": [
      "C:\\EnergyPlusV9-2-0\\energyplus.exe 8bcb0266-df2e-11ed-872a-841b77d62e9a.idf: 26it [00:02, 12.14it/s]INFO:8bcbb2c0-df2e-11ed-b90f-841b77d62e9a.idf:Continuing Simulation at 03/22/2017 for RUN PERIOD 1\n",
      "C:\\EnergyPlusV9-2-0\\energyplus.exe 8bcbb2c0-df2e-11ed-b90f-841b77d62e9a.idf: 23it [00:02, 11.45it/s]INFO:8bcb0266-df2e-11ed-872a-841b77d62e9a.idf:Continuing Simulation at 05/01/2017 for RUN PERIOD 1\n",
      "C:\\EnergyPlusV9-2-0\\energyplus.exe 8bcb50b9-df2e-11ed-a733-841b77d62e9a.idf: 23it [00:02, 11.47it/s]INFO:8bcb6466-df2e-11ed-bc29-841b77d62e9a.idf:Continuing Simulation at 05/21/2017 for RUN PERIOD 1\n",
      "C:\\EnergyPlusV9-2-0\\energyplus.exe 8bcb50b9-df2e-11ed-a733-841b77d62e9a.idf: 23it [00:02, 11.47it/s]INFO:8bcb29a7-df2e-11ed-bffc-841b77d62e9a.idf:Updating Shadowing Calculations, Start Date=04/11/2017\n",
      "C:\\EnergyPlusV9-2-0\\energyplus.exe 8bcb50b9-df2e-11ed-a733-841b77d62e9a.idf: 23it [00:02, 11.47it/s]INFO:8bcb50b9-df2e-11ed-a733-841b77d62e9a.idf:Updating Shadowing Calculations, Start Date=04/11/2017\n",
      "C:\\EnergyPlusV9-2-0\\energyplus.exe 8bcb50b9-df2e-11ed-a733-841b77d62e9a.idf: 24it [00:02, 11.47it/s]INFO:8bcbb2c0-df2e-11ed-b90f-841b77d62e9a.idf:Updating Shadowing Calculations, Start Date=04/11/2017\n",
      "C:\\EnergyPlusV9-2-0\\energyplus.exe 8bcb50b9-df2e-11ed-a733-841b77d62e9a.idf: 24it [00:02, 11.47it/s]INFO:8bcb0266-df2e-11ed-872a-841b77d62e9a.idf:Updating Shadowing Calculations, Start Date=05/21/2017\n",
      "C:\\EnergyPlusV9-2-0\\energyplus.exe 8bcb50b9-df2e-11ed-a733-841b77d62e9a.idf: 24it [00:02, 11.47it/s]"
     ]
    },
    {
     "name": "stdout",
     "output_type": "stream",
     "text": [
      "Continuing Simulation at 03/22/2017 for RUN PERIOD 1\n",
      "Continuing Simulation at 05/01/2017 for RUN PERIOD 1\n",
      "Continuing Simulation at 05/21/2017 for RUN PERIOD 1\n",
      "Updating Shadowing Calculations, Start Date=04/11/2017\n",
      "Updating Shadowing Calculations, Start Date=04/11/2017\n",
      "Updating Shadowing Calculations, Start Date=04/11/2017\n",
      "Updating Shadowing Calculations, Start Date=05/21/2017\n",
      "Updating Shadowing Calculations, Start Date=06/10/2017\n"
     ]
    },
    {
     "name": "stderr",
     "output_type": "stream",
     "text": [
      "INFO:8bcb6466-df2e-11ed-bc29-841b77d62e9a.idf:Updating Shadowing Calculations, Start Date=06/10/2017\n",
      "C:\\EnergyPlusV9-2-0\\energyplus.exe 8bcb50b9-df2e-11ed-a733-841b77d62e9a.idf: 24it [00:02, 11.47it/s]INFO:8bcb29a7-df2e-11ed-bffc-841b77d62e9a.idf:Continuing Simulation at 04/11/2017 for RUN PERIOD 1\n",
      "simulate:   0%|          | 0.00/20.0 [00:05<?, ?runs/s]"
     ]
    },
    {
     "name": "stdout",
     "output_type": "stream",
     "text": [
      "Continuing Simulation at 04/11/2017 for RUN PERIOD 1\n",
      "Continuing Simulation at 04/11/2017 for RUN PERIOD 1\n"
     ]
    },
    {
     "name": "stderr",
     "output_type": "stream",
     "text": [
      "C:\\EnergyPlusV9-2-0\\energyplus.exe 8bcb50b9-df2e-11ed-a733-841b77d62e9a.idf: 24it [00:02, 11.47it/s]INFO:8bcb50b9-df2e-11ed-a733-841b77d62e9a.idf:Continuing Simulation at 04/11/2017 for RUN PERIOD 1\n",
      "C:\\EnergyPlusV9-2-0\\energyplus.exe 8bcb0266-df2e-11ed-872a-841b77d62e9a.idf: 28it [00:02, 12.17it/s]INFO:8bcbb2c0-df2e-11ed-b90f-841b77d62e9a.idf:Continuing Simulation at 04/11/2017 for RUN PERIOD 1\n"
     ]
    },
    {
     "name": "stdout",
     "output_type": "stream",
     "text": [
      "Continuing Simulation at 04/11/2017 for RUN PERIOD 1\n"
     ]
    },
    {
     "name": "stderr",
     "output_type": "stream",
     "text": [
      "C:\\EnergyPlusV9-2-0\\energyplus.exe 8bcbb2c0-df2e-11ed-b90f-841b77d62e9a.idf: 25it [00:02, 11.51it/s]INFO:8bcb0266-df2e-11ed-872a-841b77d62e9a.idf:Continuing Simulation at 05/21/2017 for RUN PERIOD 1\n",
      "C:\\EnergyPlusV9-2-0\\energyplus.exe 8bcb50b9-df2e-11ed-a733-841b77d62e9a.idf: 25it [00:02, 11.55it/s]INFO:8bcb6466-df2e-11ed-bc29-841b77d62e9a.idf:Continuing Simulation at 06/10/2017 for RUN PERIOD 1\n",
      "C:\\EnergyPlusV9-2-0\\energyplus.exe 8bcb50b9-df2e-11ed-a733-841b77d62e9a.idf: 25it [00:02, 11.55it/s]INFO:8bcb29a7-df2e-11ed-bffc-841b77d62e9a.idf:Updating Shadowing Calculations, Start Date=05/01/2017\n",
      "C:\\EnergyPlusV9-2-0\\energyplus.exe 8bcb50b9-df2e-11ed-a733-841b77d62e9a.idf: 25it [00:02, 11.55it/s]INFO:8bcb50b9-df2e-11ed-a733-841b77d62e9a.idf:Updating Shadowing Calculations, Start Date=05/01/2017\n",
      "C:\\EnergyPlusV9-2-0\\energyplus.exe 8bcb50b9-df2e-11ed-a733-841b77d62e9a.idf: 26it [00:02, 11.55it/s]INFO:8bcbb2c0-df2e-11ed-b90f-841b77d62e9a.idf:Updating Shadowing Calculations, Start Date=05/01/2017\n",
      "C:\\EnergyPlusV9-2-0\\energyplus.exe 8bcb50b9-df2e-11ed-a733-841b77d62e9a.idf: 26it [00:02, 11.55it/s]INFO:8bcb0266-df2e-11ed-872a-841b77d62e9a.idf:Updating Shadowing Calculations, Start Date=06/10/2017\n",
      "                                                       INFO:8bcb6466-df2e-11ed-bc29-841b77d62e9a.idf:Updating Shadowing Calculations, Start Date=06/30/2017\n",
      "C:\\EnergyPlusV9-2-0\\energyplus.exe 8bcb50b9-df2e-11ed-a733-841b77d62e9a.idf: 26it [00:02, 11.55it/s]INFO:8bcb29a7-df2e-11ed-bffc-841b77d62e9a.idf:Continuing Simulation at 05/01/2017 for RUN PERIOD 1\n"
     ]
    },
    {
     "name": "stdout",
     "output_type": "stream",
     "text": [
      "Continuing Simulation at 05/21/2017 for RUN PERIOD 1\n",
      "Continuing Simulation at 06/10/2017 for RUN PERIOD 1\n",
      "Updating Shadowing Calculations, Start Date=05/01/2017\n",
      "Updating Shadowing Calculations, Start Date=05/01/2017\n",
      "Updating Shadowing Calculations, Start Date=05/01/2017\n",
      "Updating Shadowing Calculations, Start Date=06/10/2017\n",
      "Updating Shadowing Calculations, Start Date=06/30/2017\n",
      "Continuing Simulation at 05/01/2017 for RUN PERIOD 1\n"
     ]
    },
    {
     "name": "stderr",
     "output_type": "stream",
     "text": [
      "C:\\EnergyPlusV9-2-0\\energyplus.exe 8bcb50b9-df2e-11ed-a733-841b77d62e9a.idf: 26it [00:02, 11.55it/s]INFO:8bcb50b9-df2e-11ed-a733-841b77d62e9a.idf:Continuing Simulation at 05/01/2017 for RUN PERIOD 1\n",
      "C:\\EnergyPlusV9-2-0\\energyplus.exe 8bcb0266-df2e-11ed-872a-841b77d62e9a.idf: 30it [00:02, 12.18it/s]INFO:8bcbb2c0-df2e-11ed-b90f-841b77d62e9a.idf:Continuing Simulation at 05/01/2017 for RUN PERIOD 1\n",
      "C:\\EnergyPlusV9-2-0\\energyplus.exe 8bcbb2c0-df2e-11ed-b90f-841b77d62e9a.idf: 27it [00:02, 11.92it/s]INFO:8bcb0266-df2e-11ed-872a-841b77d62e9a.idf:Continuing Simulation at 06/10/2017 for RUN PERIOD 1\n"
     ]
    },
    {
     "name": "stdout",
     "output_type": "stream",
     "text": [
      "Continuing Simulation at 05/01/2017 for RUN PERIOD 1\n",
      "Continuing Simulation at 05/01/2017 for RUN PERIOD 1\n",
      "Continuing Simulation at 06/10/2017 for RUN PERIOD 1\n"
     ]
    },
    {
     "name": "stderr",
     "output_type": "stream",
     "text": [
      "C:\\EnergyPlusV9-2-0\\energyplus.exe 8bcb50b9-df2e-11ed-a733-841b77d62e9a.idf: 27it [00:02, 11.86it/s]INFO:8bcb6466-df2e-11ed-bc29-841b77d62e9a.idf:Continuing Simulation at 06/30/2017 for RUN PERIOD 1\n"
     ]
    },
    {
     "name": "stdout",
     "output_type": "stream",
     "text": [
      "Continuing Simulation at 06/30/2017 for RUN PERIOD 1\n"
     ]
    },
    {
     "name": "stderr",
     "output_type": "stream",
     "text": [
      "C:\\EnergyPlusV9-2-0\\energyplus.exe 8bcb50b9-df2e-11ed-a733-841b77d62e9a.idf: 27it [00:02, 11.86it/s]INFO:8bcb29a7-df2e-11ed-bffc-841b77d62e9a.idf:Updating Shadowing Calculations, Start Date=05/21/2017\n",
      "C:\\EnergyPlusV9-2-0\\energyplus.exe 8bcb50b9-df2e-11ed-a733-841b77d62e9a.idf: 27it [00:02, 11.86it/s]INFO:8bcb50b9-df2e-11ed-a733-841b77d62e9a.idf:Updating Shadowing Calculations, Start Date=05/21/2017\n",
      "C:\\EnergyPlusV9-2-0\\energyplus.exe 8bcb50b9-df2e-11ed-a733-841b77d62e9a.idf: 28it [00:02, 11.86it/s]INFO:8bcbb2c0-df2e-11ed-b90f-841b77d62e9a.idf:Updating Shadowing Calculations, Start Date=05/21/2017\n",
      "C:\\EnergyPlusV9-2-0\\energyplus.exe 8bcb50b9-df2e-11ed-a733-841b77d62e9a.idf: 28it [00:02, 11.86it/s]INFO:8bcb0266-df2e-11ed-872a-841b77d62e9a.idf:Updating Shadowing Calculations, Start Date=06/30/2017\n",
      "C:\\EnergyPlusV9-2-0\\energyplus.exe 8bcb50b9-df2e-11ed-a733-841b77d62e9a.idf: 28it [00:02, 11.86it/s]INFO:8bcb6466-df2e-11ed-bc29-841b77d62e9a.idf:Updating Shadowing Calculations, Start Date=07/20/2017\n",
      "C:\\EnergyPlusV9-2-0\\energyplus.exe 8bcb50b9-df2e-11ed-a733-841b77d62e9a.idf: 28it [00:02, 11.86it/s]INFO:8bcb29a7-df2e-11ed-bffc-841b77d62e9a.idf:Continuing Simulation at 05/21/2017 for RUN PERIOD 1\n",
      "                                                       INFO:8bcb50b9-df2e-11ed-a733-841b77d62e9a.idf:Continuing Simulation at 05/21/2017 for RUN PERIOD 1\n",
      "C:\\EnergyPlusV9-2-0\\energyplus.exe 8bcb50b9-df2e-11ed-a733-841b77d62e9a.idf: 29it [00:02, 11.89it/s]"
     ]
    },
    {
     "name": "stdout",
     "output_type": "stream",
     "text": [
      "Updating Shadowing Calculations, Start Date=05/21/2017\n",
      "Updating Shadowing Calculations, Start Date=05/21/2017\n",
      "Updating Shadowing Calculations, Start Date=05/21/2017\n",
      "Updating Shadowing Calculations, Start Date=06/30/2017\n",
      "Updating Shadowing Calculations, Start Date=07/20/2017\n",
      "Continuing Simulation at 05/21/2017 for RUN PERIOD 1\n",
      "Continuing Simulation at 05/21/2017 for RUN PERIOD 1\n",
      "Continuing Simulation at 05/21/2017 for RUN PERIOD 1\n"
     ]
    },
    {
     "name": "stderr",
     "output_type": "stream",
     "text": [
      "C:\\EnergyPlusV9-2-0\\energyplus.exe 8bcb0266-df2e-11ed-872a-841b77d62e9a.idf: 32it [00:02, 12.10it/s]INFO:8bcbb2c0-df2e-11ed-b90f-841b77d62e9a.idf:Continuing Simulation at 05/21/2017 for RUN PERIOD 1\n",
      "C:\\EnergyPlusV9-2-0\\energyplus.exe 8bcbb2c0-df2e-11ed-b90f-841b77d62e9a.idf: 29it [00:02, 11.94it/s]INFO:8bcb0266-df2e-11ed-872a-841b77d62e9a.idf:Continuing Simulation at 06/30/2017 for RUN PERIOD 1\n",
      "C:\\EnergyPlusV9-2-0\\energyplus.exe 8bcb50b9-df2e-11ed-a733-841b77d62e9a.idf: 29it [00:02, 11.89it/s]INFO:8bcb6466-df2e-11ed-bc29-841b77d62e9a.idf:Continuing Simulation at 07/20/2017 for RUN PERIOD 1\n"
     ]
    },
    {
     "name": "stdout",
     "output_type": "stream",
     "text": [
      "Continuing Simulation at 06/30/2017 for RUN PERIOD 1\n",
      "Continuing Simulation at 07/20/2017 for RUN PERIOD 1\n"
     ]
    },
    {
     "name": "stderr",
     "output_type": "stream",
     "text": [
      "C:\\EnergyPlusV9-2-0\\energyplus.exe 8bcb50b9-df2e-11ed-a733-841b77d62e9a.idf: 29it [00:02, 11.89it/s]INFO:8bcb29a7-df2e-11ed-bffc-841b77d62e9a.idf:Updating Shadowing Calculations, Start Date=06/10/2017\n"
     ]
    },
    {
     "name": "stdout",
     "output_type": "stream",
     "text": [
      "Updating Shadowing Calculations, Start Date=06/10/2017\n"
     ]
    },
    {
     "name": "stderr",
     "output_type": "stream",
     "text": [
      "C:\\EnergyPlusV9-2-0\\energyplus.exe 8bcb50b9-df2e-11ed-a733-841b77d62e9a.idf: 29it [00:02, 11.89it/s]INFO:8bcb50b9-df2e-11ed-a733-841b77d62e9a.idf:Updating Shadowing Calculations, Start Date=06/10/2017\n",
      "C:\\EnergyPlusV9-2-0\\energyplus.exe 8bcb50b9-df2e-11ed-a733-841b77d62e9a.idf: 30it [00:02, 11.89it/s]INFO:8bcbb2c0-df2e-11ed-b90f-841b77d62e9a.idf:Updating Shadowing Calculations, Start Date=06/10/2017\n",
      "C:\\EnergyPlusV9-2-0\\energyplus.exe 8bcb50b9-df2e-11ed-a733-841b77d62e9a.idf: 30it [00:02, 11.89it/s]INFO:8bcb0266-df2e-11ed-872a-841b77d62e9a.idf:Updating Shadowing Calculations, Start Date=07/20/2017\n",
      "C:\\EnergyPlusV9-2-0\\energyplus.exe 8bcb50b9-df2e-11ed-a733-841b77d62e9a.idf: 30it [00:02, 11.89it/s]INFO:8bcb6466-df2e-11ed-bc29-841b77d62e9a.idf:Updating Shadowing Calculations, Start Date=08/09/2017\n",
      "C:\\EnergyPlusV9-2-0\\energyplus.exe 8bcb50b9-df2e-11ed-a733-841b77d62e9a.idf: 30it [00:02, 11.89it/s]INFO:8bcb29a7-df2e-11ed-bffc-841b77d62e9a.idf:Continuing Simulation at 06/10/2017 for RUN PERIOD 1\n",
      "C:\\EnergyPlusV9-2-0\\energyplus.exe 8bcb50b9-df2e-11ed-a733-841b77d62e9a.idf: 30it [00:02, 11.89it/s]INFO:8bcb50b9-df2e-11ed-a733-841b77d62e9a.idf:Continuing Simulation at 06/10/2017 for RUN PERIOD 1\n",
      "C:\\EnergyPlusV9-2-0\\energyplus.exe 8bcb0266-df2e-11ed-872a-841b77d62e9a.idf: 34it [00:02, 12.24it/s]INFO:8bcbb2c0-df2e-11ed-b90f-841b77d62e9a.idf:Continuing Simulation at 06/10/2017 for RUN PERIOD 1\n",
      "C:\\EnergyPlusV9-2-0\\energyplus.exe 8bcb50b9-df2e-11ed-a733-841b77d62e9a.idf: 31it [00:02, 12.04it/s]INFO:8bcb0266-df2e-11ed-872a-841b77d62e9a.idf:Continuing Simulation at 07/20/2017 for RUN PERIOD 1\n",
      "C:\\EnergyPlusV9-2-0\\energyplus.exe 8bcb50b9-df2e-11ed-a733-841b77d62e9a.idf: 31it [00:02, 12.04it/s]INFO:8bcb6466-df2e-11ed-bc29-841b77d62e9a.idf:Continuing Simulation at 08/09/2017 for RUN PERIOD 1\n"
     ]
    },
    {
     "name": "stdout",
     "output_type": "stream",
     "text": [
      "Updating Shadowing Calculations, Start Date=06/10/2017\n",
      "Updating Shadowing Calculations, Start Date=06/10/2017\n",
      "Updating Shadowing Calculations, Start Date=07/20/2017\n",
      "Updating Shadowing Calculations, Start Date=08/09/2017\n",
      "Continuing Simulation at 06/10/2017 for RUN PERIOD 1\n",
      "Continuing Simulation at 06/10/2017 for RUN PERIOD 1\n",
      "Continuing Simulation at 06/10/2017 for RUN PERIOD 1\n",
      "Continuing Simulation at 07/20/2017 for RUN PERIOD 1\n",
      "Continuing Simulation at 08/09/2017 for RUN PERIOD 1\n"
     ]
    },
    {
     "name": "stderr",
     "output_type": "stream",
     "text": [
      "C:\\EnergyPlusV9-2-0\\energyplus.exe 8bcb50b9-df2e-11ed-a733-841b77d62e9a.idf: 31it [00:02, 12.04it/s]INFO:8bcb29a7-df2e-11ed-bffc-841b77d62e9a.idf:Updating Shadowing Calculations, Start Date=06/30/2017\n",
      "C:\\EnergyPlusV9-2-0\\energyplus.exe 8bcb50b9-df2e-11ed-a733-841b77d62e9a.idf: 31it [00:02, 12.04it/s]INFO:8bcb50b9-df2e-11ed-a733-841b77d62e9a.idf:Updating Shadowing Calculations, Start Date=06/30/2017\n"
     ]
    },
    {
     "name": "stdout",
     "output_type": "stream",
     "text": [
      "Updating Shadowing Calculations, Start Date=06/30/2017\n",
      "Updating Shadowing Calculations, Start Date=06/30/2017\n"
     ]
    },
    {
     "name": "stderr",
     "output_type": "stream",
     "text": [
      "C:\\EnergyPlusV9-2-0\\energyplus.exe 8bcb50b9-df2e-11ed-a733-841b77d62e9a.idf: 32it [00:02, 12.04it/s]INFO:8bcbb2c0-df2e-11ed-b90f-841b77d62e9a.idf:Updating Shadowing Calculations, Start Date=06/30/2017\n",
      "C:\\EnergyPlusV9-2-0\\energyplus.exe 8bcb29a7-df2e-11ed-bffc-841b77d62e9a.idf: 32it [00:02, 11.91it/s]"
     ]
    },
    {
     "name": "stdout",
     "output_type": "stream",
     "text": [
      "Updating Shadowing Calculations, Start Date=06/30/2017\n",
      "Updating Shadowing Calculations, Start Date=08/09/2017\n"
     ]
    },
    {
     "name": "stderr",
     "output_type": "stream",
     "text": [
      "C:\\EnergyPlusV9-2-0\\energyplus.exe 8bcb50b9-df2e-11ed-a733-841b77d62e9a.idf: 32it [00:02, 12.04it/s]INFO:8bcb0266-df2e-11ed-872a-841b77d62e9a.idf:Updating Shadowing Calculations, Start Date=08/09/2017\n",
      "C:\\EnergyPlusV9-2-0\\energyplus.exe 8bcb50b9-df2e-11ed-a733-841b77d62e9a.idf: 32it [00:02, 12.04it/s]INFO:8bcb6466-df2e-11ed-bc29-841b77d62e9a.idf:Updating Shadowing Calculations, Start Date=08/29/2017\n",
      "C:\\EnergyPlusV9-2-0\\energyplus.exe 8bcb50b9-df2e-11ed-a733-841b77d62e9a.idf: 32it [00:02, 12.04it/s]INFO:8bcb29a7-df2e-11ed-bffc-841b77d62e9a.idf:Continuing Simulation at 06/30/2017 for RUN PERIOD 1\n",
      "C:\\EnergyPlusV9-2-0\\energyplus.exe 8bcb50b9-df2e-11ed-a733-841b77d62e9a.idf: 32it [00:02, 12.04it/s]INFO:8bcb50b9-df2e-11ed-a733-841b77d62e9a.idf:Continuing Simulation at 06/30/2017 for RUN PERIOD 1\n",
      "C:\\EnergyPlusV9-2-0\\energyplus.exe 8bcb0266-df2e-11ed-872a-841b77d62e9a.idf: 36it [00:02, 12.51it/s]INFO:8bcbb2c0-df2e-11ed-b90f-841b77d62e9a.idf:Continuing Simulation at 06/30/2017 for RUN PERIOD 1\n",
      "C:\\EnergyPlusV9-2-0\\energyplus.exe 8bcbb2c0-df2e-11ed-b90f-841b77d62e9a.idf: 33it [00:02, 12.60it/s]INFO:8bcb0266-df2e-11ed-872a-841b77d62e9a.idf:Continuing Simulation at 08/09/2017 for RUN PERIOD 1\n",
      "                                                       INFO:8bcb6466-df2e-11ed-bc29-841b77d62e9a.idf:Continuing Simulation at 08/29/2017 for RUN PERIOD 1\n",
      "C:\\EnergyPlusV9-2-0\\energyplus.exe 8bcb50b9-df2e-11ed-a733-841b77d62e9a.idf: 33it [00:02, 12.52it/s]INFO:8bcb29a7-df2e-11ed-bffc-841b77d62e9a.idf:Updating Shadowing Calculations, Start Date=07/20/2017\n",
      "C:\\EnergyPlusV9-2-0\\energyplus.exe 8bcb50b9-df2e-11ed-a733-841b77d62e9a.idf: 33it [00:02, 12.52it/s]INFO:8bcb50b9-df2e-11ed-a733-841b77d62e9a.idf:Updating Shadowing Calculations, Start Date=07/20/2017\n",
      "C:\\EnergyPlusV9-2-0\\energyplus.exe 8bcb50b9-df2e-11ed-a733-841b77d62e9a.idf: 34it [00:02, 12.52it/s]INFO:8bcb0266-df2e-11ed-872a-841b77d62e9a.idf:Updating Shadowing Calculations, Start Date=08/29/2017\n",
      "C:\\EnergyPlusV9-2-0\\energyplus.exe 8bcb50b9-df2e-11ed-a733-841b77d62e9a.idf: 34it [00:02, 12.52it/s]INFO:8bcbb2c0-df2e-11ed-b90f-841b77d62e9a.idf:Updating Shadowing Calculations, Start Date=07/20/2017\n",
      "C:\\EnergyPlusV9-2-0\\energyplus.exe 8bcb29a7-df2e-11ed-bffc-841b77d62e9a.idf: 34it [00:02, 12.42it/s]"
     ]
    },
    {
     "name": "stdout",
     "output_type": "stream",
     "text": [
      "Updating Shadowing Calculations, Start Date=08/29/2017\n",
      "Continuing Simulation at 06/30/2017 for RUN PERIOD 1\n",
      "Continuing Simulation at 06/30/2017 for RUN PERIOD 1\n",
      "Continuing Simulation at 06/30/2017 for RUN PERIOD 1\n",
      "Continuing Simulation at 08/09/2017 for RUN PERIOD 1\n",
      "Continuing Simulation at 08/29/2017 for RUN PERIOD 1\n",
      "Updating Shadowing Calculations, Start Date=07/20/2017\n",
      "Updating Shadowing Calculations, Start Date=07/20/2017\n",
      "Updating Shadowing Calculations, Start Date=08/29/2017\n",
      "Updating Shadowing Calculations, Start Date=07/20/2017\n",
      "Updating Shadowing Calculations, Start Date=09/18/2017\n"
     ]
    },
    {
     "name": "stderr",
     "output_type": "stream",
     "text": [
      "C:\\EnergyPlusV9-2-0\\energyplus.exe 8bcb50b9-df2e-11ed-a733-841b77d62e9a.idf: 34it [00:02, 12.52it/s]INFO:8bcb6466-df2e-11ed-bc29-841b77d62e9a.idf:Updating Shadowing Calculations, Start Date=09/18/2017\n",
      "C:\\EnergyPlusV9-2-0\\energyplus.exe 8bcb50b9-df2e-11ed-a733-841b77d62e9a.idf: 34it [00:03, 12.52it/s]INFO:8bcb29a7-df2e-11ed-bffc-841b77d62e9a.idf:Continuing Simulation at 07/20/2017 for RUN PERIOD 1\n",
      "C:\\EnergyPlusV9-2-0\\energyplus.exe 8bcb0266-df2e-11ed-872a-841b77d62e9a.idf: 38it [00:03, 13.61it/s]INFO:8bcb50b9-df2e-11ed-a733-841b77d62e9a.idf:Continuing Simulation at 07/20/2017 for RUN PERIOD 1\n",
      "                                                                                                    "
     ]
    },
    {
     "name": "stdout",
     "output_type": "stream",
     "text": [
      "Continuing Simulation at 07/20/2017 for RUN PERIOD 1\n",
      "Continuing Simulation at 07/20/2017 for RUN PERIOD 1\n"
     ]
    },
    {
     "name": "stderr",
     "output_type": "stream",
     "text": [
      "C:\\EnergyPlusV9-2-0\\energyplus.exe 8bcb50b9-df2e-11ed-a733-841b77d62e9a.idf: 35it [00:03, 13.45it/s]INFO:8bcbb2c0-df2e-11ed-b90f-841b77d62e9a.idf:Continuing Simulation at 07/20/2017 for RUN PERIOD 1\n"
     ]
    },
    {
     "name": "stdout",
     "output_type": "stream",
     "text": [
      "Continuing Simulation at 07/20/2017 for RUN PERIOD 1\n"
     ]
    },
    {
     "name": "stderr",
     "output_type": "stream",
     "text": [
      "C:\\EnergyPlusV9-2-0\\energyplus.exe 8bcbb2c0-df2e-11ed-b90f-841b77d62e9a.idf: 35it [00:03, 13.50it/s]INFO:8bcb0266-df2e-11ed-872a-841b77d62e9a.idf:Continuing Simulation at 08/29/2017 for RUN PERIOD 1\n",
      "C:\\EnergyPlusV9-2-0\\energyplus.exe 8bcb50b9-df2e-11ed-a733-841b77d62e9a.idf: 35it [00:03, 13.45it/s]INFO:8bcb6466-df2e-11ed-bc29-841b77d62e9a.idf:Continuing Simulation at 09/18/2017 for RUN PERIOD 1\n",
      "C:\\EnergyPlusV9-2-0\\energyplus.exe 8bcb50b9-df2e-11ed-a733-841b77d62e9a.idf: 35it [00:03, 13.45it/s]INFO:8bcb29a7-df2e-11ed-bffc-841b77d62e9a.idf:Updating Shadowing Calculations, Start Date=08/09/2017\n",
      "C:\\EnergyPlusV9-2-0\\energyplus.exe 8bcb50b9-df2e-11ed-a733-841b77d62e9a.idf: 35it [00:03, 13.45it/s]INFO:8bcb50b9-df2e-11ed-a733-841b77d62e9a.idf:Updating Shadowing Calculations, Start Date=08/09/2017\n",
      "C:\\EnergyPlusV9-2-0\\energyplus.exe 8bcb50b9-df2e-11ed-a733-841b77d62e9a.idf: 36it [00:03, 13.45it/s]INFO:8bcbb2c0-df2e-11ed-b90f-841b77d62e9a.idf:Updating Shadowing Calculations, Start Date=08/09/2017\n",
      "C:\\EnergyPlusV9-2-0\\energyplus.exe 8bcb50b9-df2e-11ed-a733-841b77d62e9a.idf: 36it [00:03, 13.45it/s]INFO:8bcb0266-df2e-11ed-872a-841b77d62e9a.idf:Updating Shadowing Calculations, Start Date=09/18/2017\n",
      "C:\\EnergyPlusV9-2-0\\energyplus.exe 8bcb50b9-df2e-11ed-a733-841b77d62e9a.idf: 36it [00:03, 13.45it/s]INFO:8bcb6466-df2e-11ed-bc29-841b77d62e9a.idf:Updating Shadowing Calculations, Start Date=10/08/2017\n",
      "C:\\EnergyPlusV9-2-0\\energyplus.exe 8bcb50b9-df2e-11ed-a733-841b77d62e9a.idf: 36it [00:03, 13.45it/s]INFO:8bcb29a7-df2e-11ed-bffc-841b77d62e9a.idf:Continuing Simulation at 08/09/2017 for RUN PERIOD 1\n",
      "C:\\EnergyPlusV9-2-0\\energyplus.exe 8bcb50b9-df2e-11ed-a733-841b77d62e9a.idf: 36it [00:03, 13.45it/s]INFO:8bcb50b9-df2e-11ed-a733-841b77d62e9a.idf:Continuing Simulation at 08/09/2017 for RUN PERIOD 1\n",
      "C:\\EnergyPlusV9-2-0\\energyplus.exe 8bcb0266-df2e-11ed-872a-841b77d62e9a.idf: 40it [00:03, 13.80it/s]INFO:8bcbb2c0-df2e-11ed-b90f-841b77d62e9a.idf:Continuing Simulation at 08/09/2017 for RUN PERIOD 1\n",
      "C:\\EnergyPlusV9-2-0\\energyplus.exe 8bcbb2c0-df2e-11ed-b90f-841b77d62e9a.idf: 37it [00:03, 14.15it/s]INFO:8bcb0266-df2e-11ed-872a-841b77d62e9a.idf:Continuing Simulation at 09/18/2017 for RUN PERIOD 1\n",
      "simulate:   0%|          | 0.00/20.0 [00:06<?, ?runs/s]"
     ]
    },
    {
     "name": "stdout",
     "output_type": "stream",
     "text": [
      "Continuing Simulation at 08/29/2017 for RUN PERIOD 1\n",
      "Continuing Simulation at 09/18/2017 for RUN PERIOD 1\n",
      "Updating Shadowing Calculations, Start Date=08/09/2017\n",
      "Updating Shadowing Calculations, Start Date=08/09/2017\n",
      "Updating Shadowing Calculations, Start Date=08/09/2017\n",
      "Updating Shadowing Calculations, Start Date=09/18/2017\n",
      "Updating Shadowing Calculations, Start Date=10/08/2017\n",
      "Continuing Simulation at 08/09/2017 for RUN PERIOD 1\n",
      "Continuing Simulation at 08/09/2017 for RUN PERIOD 1\n",
      "Continuing Simulation at 08/09/2017 for RUN PERIOD 1\n",
      "Continuing Simulation at 09/18/2017 for RUN PERIOD 1\n",
      "Continuing Simulation at 10/08/2017 for RUN PERIOD 1\n"
     ]
    },
    {
     "name": "stderr",
     "output_type": "stream",
     "text": [
      "C:\\EnergyPlusV9-2-0\\energyplus.exe 8bcb50b9-df2e-11ed-a733-841b77d62e9a.idf: 37it [00:03, 14.09it/s]INFO:8bcb6466-df2e-11ed-bc29-841b77d62e9a.idf:Continuing Simulation at 10/08/2017 for RUN PERIOD 1\n",
      "C:\\EnergyPlusV9-2-0\\energyplus.exe 8bcb50b9-df2e-11ed-a733-841b77d62e9a.idf: 37it [00:03, 14.09it/s]INFO:8bcb29a7-df2e-11ed-bffc-841b77d62e9a.idf:Updating Shadowing Calculations, Start Date=08/29/2017\n",
      "C:\\EnergyPlusV9-2-0\\energyplus.exe 8bcb50b9-df2e-11ed-a733-841b77d62e9a.idf: 37it [00:03, 14.09it/s]INFO:8bcb50b9-df2e-11ed-a733-841b77d62e9a.idf:Updating Shadowing Calculations, Start Date=08/29/2017\n"
     ]
    },
    {
     "name": "stdout",
     "output_type": "stream",
     "text": [
      "Updating Shadowing Calculations, Start Date=08/29/2017\n",
      "Updating Shadowing Calculations, Start Date=08/29/2017\n"
     ]
    },
    {
     "name": "stderr",
     "output_type": "stream",
     "text": [
      "C:\\EnergyPlusV9-2-0\\energyplus.exe 8bcb50b9-df2e-11ed-a733-841b77d62e9a.idf: 38it [00:03, 14.09it/s]INFO:8bcbb2c0-df2e-11ed-b90f-841b77d62e9a.idf:Updating Shadowing Calculations, Start Date=08/29/2017\n"
     ]
    },
    {
     "name": "stdout",
     "output_type": "stream",
     "text": [
      "Updating Shadowing Calculations, Start Date=08/29/2017\n",
      "Updating Shadowing Calculations, Start Date=10/08/2017\n"
     ]
    },
    {
     "name": "stderr",
     "output_type": "stream",
     "text": [
      "C:\\EnergyPlusV9-2-0\\energyplus.exe 8bcb50b9-df2e-11ed-a733-841b77d62e9a.idf: 38it [00:03, 14.09it/s]INFO:8bcb0266-df2e-11ed-872a-841b77d62e9a.idf:Updating Shadowing Calculations, Start Date=10/08/2017\n",
      "C:\\EnergyPlusV9-2-0\\energyplus.exe 8bcb50b9-df2e-11ed-a733-841b77d62e9a.idf: 38it [00:03, 14.09it/s]INFO:8bcb6466-df2e-11ed-bc29-841b77d62e9a.idf:Updating Shadowing Calculations, Start Date=10/28/2017\n",
      "C:\\EnergyPlusV9-2-0\\energyplus.exe 8bcb50b9-df2e-11ed-a733-841b77d62e9a.idf: 38it [00:03, 14.09it/s]INFO:8bcb29a7-df2e-11ed-bffc-841b77d62e9a.idf:Continuing Simulation at 08/29/2017 for RUN PERIOD 1\n",
      "C:\\EnergyPlusV9-2-0\\energyplus.exe 8bcb50b9-df2e-11ed-a733-841b77d62e9a.idf: 38it [00:03, 14.09it/s]INFO:8bcb50b9-df2e-11ed-a733-841b77d62e9a.idf:Continuing Simulation at 08/29/2017 for RUN PERIOD 1\n",
      "C:\\EnergyPlusV9-2-0\\energyplus.exe 8bcb0266-df2e-11ed-872a-841b77d62e9a.idf: 42it [00:03, 14.57it/s]INFO:8bcbb2c0-df2e-11ed-b90f-841b77d62e9a.idf:Continuing Simulation at 08/29/2017 for RUN PERIOD 1\n",
      "C:\\EnergyPlusV9-2-0\\energyplus.exe 8bcb50b9-df2e-11ed-a733-841b77d62e9a.idf: 39it [00:03, 14.68it/s]INFO:8bcb0266-df2e-11ed-872a-841b77d62e9a.idf:Continuing Simulation at 10/08/2017 for RUN PERIOD 1\n",
      "C:\\EnergyPlusV9-2-0\\energyplus.exe 8bcb50b9-df2e-11ed-a733-841b77d62e9a.idf: 39it [00:03, 14.68it/s]INFO:8bcb6466-df2e-11ed-bc29-841b77d62e9a.idf:Continuing Simulation at 10/28/2017 for RUN PERIOD 1\n",
      "C:\\EnergyPlusV9-2-0\\energyplus.exe 8bcb50b9-df2e-11ed-a733-841b77d62e9a.idf: 39it [00:03, 14.68it/s]INFO:8bcb29a7-df2e-11ed-bffc-841b77d62e9a.idf:Updating Shadowing Calculations, Start Date=09/18/2017\n",
      "C:\\EnergyPlusV9-2-0\\energyplus.exe 8bcb50b9-df2e-11ed-a733-841b77d62e9a.idf: 39it [00:03, 14.68it/s]INFO:8bcb50b9-df2e-11ed-a733-841b77d62e9a.idf:Updating Shadowing Calculations, Start Date=09/18/2017\n",
      "                                                       INFO:8bcbb2c0-df2e-11ed-b90f-841b77d62e9a.idf:Updating Shadowing Calculations, Start Date=09/18/2017\n",
      "C:\\EnergyPlusV9-2-0\\energyplus.exe 8bcb50b9-df2e-11ed-a733-841b77d62e9a.idf: 40it [00:03, 14.68it/s]INFO:8bcb0266-df2e-11ed-872a-841b77d62e9a.idf:Updating Shadowing Calculations, Start Date=10/28/2017\n",
      "C:\\EnergyPlusV9-2-0\\energyplus.exe 8bcb50b9-df2e-11ed-a733-841b77d62e9a.idf: 40it [00:03, 14.68it/s]INFO:8bcb6466-df2e-11ed-bc29-841b77d62e9a.idf:Updating Shadowing Calculations, Start Date=11/17/2017\n"
     ]
    },
    {
     "name": "stdout",
     "output_type": "stream",
     "text": [
      "Updating Shadowing Calculations, Start Date=10/28/2017\n",
      "Continuing Simulation at 08/29/2017 for RUN PERIOD 1\n",
      "Continuing Simulation at 08/29/2017 for RUN PERIOD 1\n",
      "Continuing Simulation at 08/29/2017 for RUN PERIOD 1\n",
      "Continuing Simulation at 10/08/2017 for RUN PERIOD 1\n",
      "Continuing Simulation at 10/28/2017 for RUN PERIOD 1\n",
      "Updating Shadowing Calculations, Start Date=09/18/2017\n",
      "Updating Shadowing Calculations, Start Date=09/18/2017\n",
      "Updating Shadowing Calculations, Start Date=09/18/2017\n",
      "Updating Shadowing Calculations, Start Date=10/28/2017\n",
      "Updating Shadowing Calculations, Start Date=11/17/2017\n"
     ]
    },
    {
     "name": "stderr",
     "output_type": "stream",
     "text": [
      "C:\\EnergyPlusV9-2-0\\energyplus.exe 8bcb50b9-df2e-11ed-a733-841b77d62e9a.idf: 40it [00:03, 14.68it/s]INFO:8bcb29a7-df2e-11ed-bffc-841b77d62e9a.idf:Continuing Simulation at 09/18/2017 for RUN PERIOD 1\n",
      "C:\\EnergyPlusV9-2-0\\energyplus.exe 8bcb50b9-df2e-11ed-a733-841b77d62e9a.idf: 40it [00:03, 14.68it/s]INFO:8bcb50b9-df2e-11ed-a733-841b77d62e9a.idf:Continuing Simulation at 09/18/2017 for RUN PERIOD 1\n"
     ]
    },
    {
     "name": "stdout",
     "output_type": "stream",
     "text": [
      "Continuing Simulation at 09/18/2017 for RUN PERIOD 1\n",
      "Continuing Simulation at 09/18/2017 for RUN PERIOD 1\n"
     ]
    },
    {
     "name": "stderr",
     "output_type": "stream",
     "text": [
      "C:\\EnergyPlusV9-2-0\\energyplus.exe 8bcb0266-df2e-11ed-872a-841b77d62e9a.idf: 44it [00:03, 14.99it/s]INFO:8bcbb2c0-df2e-11ed-b90f-841b77d62e9a.idf:Continuing Simulation at 09/18/2017 for RUN PERIOD 1\n",
      "                                                                                                    "
     ]
    },
    {
     "name": "stdout",
     "output_type": "stream",
     "text": [
      "Continuing Simulation at 09/18/2017 for RUN PERIOD 1\n"
     ]
    },
    {
     "name": "stderr",
     "output_type": "stream",
     "text": [
      "C:\\EnergyPlusV9-2-0\\energyplus.exe 8bcb50b9-df2e-11ed-a733-841b77d62e9a.idf: 41it [00:03, 15.10it/s]INFO:8bcb0266-df2e-11ed-872a-841b77d62e9a.idf:Continuing Simulation at 10/28/2017 for RUN PERIOD 1\n",
      "C:\\EnergyPlusV9-2-0\\energyplus.exe 8bcbb2c0-df2e-11ed-b90f-841b77d62e9a.idf: 41it [00:03, 15.13it/s]INFO:8bcb6466-df2e-11ed-bc29-841b77d62e9a.idf:Continuing Simulation at 11/17/2017 for RUN PERIOD 1\n",
      "C:\\EnergyPlusV9-2-0\\energyplus.exe 8bcb50b9-df2e-11ed-a733-841b77d62e9a.idf: 41it [00:03, 15.10it/s]INFO:8bcb29a7-df2e-11ed-bffc-841b77d62e9a.idf:Updating Shadowing Calculations, Start Date=10/08/2017\n",
      "C:\\EnergyPlusV9-2-0\\energyplus.exe 8bcb50b9-df2e-11ed-a733-841b77d62e9a.idf: 41it [00:03, 15.10it/s]INFO:8bcb50b9-df2e-11ed-a733-841b77d62e9a.idf:Updating Shadowing Calculations, Start Date=10/08/2017\n",
      "C:\\EnergyPlusV9-2-0\\energyplus.exe 8bcb50b9-df2e-11ed-a733-841b77d62e9a.idf: 42it [00:03, 15.10it/s]INFO:8bcb0266-df2e-11ed-872a-841b77d62e9a.idf:Updating Shadowing Calculations, Start Date=11/17/2017\n",
      "C:\\EnergyPlusV9-2-0\\energyplus.exe 8bcb50b9-df2e-11ed-a733-841b77d62e9a.idf: 42it [00:03, 15.10it/s]INFO:8bcbb2c0-df2e-11ed-b90f-841b77d62e9a.idf:Updating Shadowing Calculations, Start Date=10/08/2017\n",
      "C:\\EnergyPlusV9-2-0\\energyplus.exe 8bcb50b9-df2e-11ed-a733-841b77d62e9a.idf: 42it [00:03, 15.10it/s]INFO:8bcb6466-df2e-11ed-bc29-841b77d62e9a.idf:Updating Shadowing Calculations, Start Date=12/07/2017\n",
      "C:\\EnergyPlusV9-2-0\\energyplus.exe 8bcb50b9-df2e-11ed-a733-841b77d62e9a.idf: 42it [00:03, 15.10it/s]INFO:8bcb29a7-df2e-11ed-bffc-841b77d62e9a.idf:Continuing Simulation at 10/08/2017 for RUN PERIOD 1\n",
      "C:\\EnergyPlusV9-2-0\\energyplus.exe 8bcb0266-df2e-11ed-872a-841b77d62e9a.idf: 46it [00:03, 15.77it/s]INFO:8bcb50b9-df2e-11ed-a733-841b77d62e9a.idf:Continuing Simulation at 10/08/2017 for RUN PERIOD 1\n",
      "C:\\EnergyPlusV9-2-0\\energyplus.exe 8bcb6466-df2e-11ed-bc29-841b77d62e9a.idf: 48it [00:03, 15.41it/s]INFO:8bcbb2c0-df2e-11ed-b90f-841b77d62e9a.idf:Continuing Simulation at 10/08/2017 for RUN PERIOD 1\n",
      "C:\\EnergyPlusV9-2-0\\energyplus.exe 8bcbb2c0-df2e-11ed-b90f-841b77d62e9a.idf: 43it [00:03, 15.18it/s]INFO:8bcb0266-df2e-11ed-872a-841b77d62e9a.idf:Continuing Simulation at 11/17/2017 for RUN PERIOD 1\n"
     ]
    },
    {
     "name": "stdout",
     "output_type": "stream",
     "text": [
      "Continuing Simulation at 10/28/2017 for RUN PERIOD 1\n",
      "Continuing Simulation at 11/17/2017 for RUN PERIOD 1\n",
      "Updating Shadowing Calculations, Start Date=10/08/2017\n",
      "Updating Shadowing Calculations, Start Date=10/08/2017\n",
      "Updating Shadowing Calculations, Start Date=11/17/2017\n",
      "Updating Shadowing Calculations, Start Date=10/08/2017\n",
      "Updating Shadowing Calculations, Start Date=12/07/2017\n",
      "Continuing Simulation at 10/08/2017 for RUN PERIOD 1\n",
      "Continuing Simulation at 10/08/2017 for RUN PERIOD 1\n",
      "Continuing Simulation at 10/08/2017 for RUN PERIOD 1\n",
      "Continuing Simulation at 11/17/2017 for RUN PERIOD 1\n"
     ]
    },
    {
     "name": "stderr",
     "output_type": "stream",
     "text": [
      "C:\\EnergyPlusV9-2-0\\energyplus.exe 8bcb50b9-df2e-11ed-a733-841b77d62e9a.idf: 43it [00:03, 15.39it/s]INFO:8bcb6466-df2e-11ed-bc29-841b77d62e9a.idf:Continuing Simulation at 12/07/2017 for RUN PERIOD 1\n",
      "C:\\EnergyPlusV9-2-0\\energyplus.exe 8bcb50b9-df2e-11ed-a733-841b77d62e9a.idf: 43it [00:03, 15.39it/s]INFO:8bcb29a7-df2e-11ed-bffc-841b77d62e9a.idf:Updating Shadowing Calculations, Start Date=10/28/2017\n",
      "C:\\EnergyPlusV9-2-0\\energyplus.exe 8bcb6466-df2e-11ed-bc29-841b77d62e9a.idf: 49it [00:03, 15.41it/s]"
     ]
    },
    {
     "name": "stdout",
     "output_type": "stream",
     "text": [
      "Continuing Simulation at 12/07/2017 for RUN PERIOD 1\n",
      "Updating Shadowing Calculations, Start Date=10/28/2017\n",
      "Updating Shadowing Calculations, Start Date=10/28/2017\n"
     ]
    },
    {
     "name": "stderr",
     "output_type": "stream",
     "text": [
      "C:\\EnergyPlusV9-2-0\\energyplus.exe 8bcb50b9-df2e-11ed-a733-841b77d62e9a.idf: 43it [00:03, 15.39it/s]INFO:8bcb50b9-df2e-11ed-a733-841b77d62e9a.idf:Updating Shadowing Calculations, Start Date=10/28/2017\n",
      "C:\\EnergyPlusV9-2-0\\energyplus.exe 8bcb50b9-df2e-11ed-a733-841b77d62e9a.idf: 44it [00:03, 15.39it/s]INFO:8bcb0266-df2e-11ed-872a-841b77d62e9a.idf:Updating Shadowing Calculations, Start Date=12/07/2017\n"
     ]
    },
    {
     "name": "stdout",
     "output_type": "stream",
     "text": [
      "Updating Shadowing Calculations, Start Date=12/07/2017\n"
     ]
    },
    {
     "name": "stderr",
     "output_type": "stream",
     "text": [
      "C:\\EnergyPlusV9-2-0\\energyplus.exe 8bcb50b9-df2e-11ed-a733-841b77d62e9a.idf: 44it [00:03, 15.39it/s]INFO:8bcbb2c0-df2e-11ed-b90f-841b77d62e9a.idf:Updating Shadowing Calculations, Start Date=10/28/2017\n",
      "C:\\EnergyPlusV9-2-0\\energyplus.exe 8bcb50b9-df2e-11ed-a733-841b77d62e9a.idf: 44it [00:03, 15.39it/s]INFO:8bcb6466-df2e-11ed-bc29-841b77d62e9a.idf:Updating Shadowing Calculations, Start Date=12/27/2017\n",
      "C:\\EnergyPlusV9-2-0\\energyplus.exe 8bcb50b9-df2e-11ed-a733-841b77d62e9a.idf: 44it [00:03, 15.39it/s]INFO:8bcb29a7-df2e-11ed-bffc-841b77d62e9a.idf:Continuing Simulation at 10/28/2017 for RUN PERIOD 1\n",
      "C:\\EnergyPlusV9-2-0\\energyplus.exe 8bcb0266-df2e-11ed-872a-841b77d62e9a.idf: 48it [00:03, 15.51it/s]INFO:8bcb50b9-df2e-11ed-a733-841b77d62e9a.idf:Continuing Simulation at 10/28/2017 for RUN PERIOD 1\n",
      "C:\\EnergyPlusV9-2-0\\energyplus.exe 8bcb6466-df2e-11ed-bc29-841b77d62e9a.idf: 50it [00:03, 15.30it/s]INFO:8bcbb2c0-df2e-11ed-b90f-841b77d62e9a.idf:Continuing Simulation at 10/28/2017 for RUN PERIOD 1\n",
      "C:\\EnergyPlusV9-2-0\\energyplus.exe 8bcb50b9-df2e-11ed-a733-841b77d62e9a.idf: 45it [00:03, 15.36it/s]INFO:8bcb0266-df2e-11ed-872a-841b77d62e9a.idf:Continuing Simulation at 12/07/2017 for RUN PERIOD 1\n",
      "C:\\EnergyPlusV9-2-0\\energyplus.exe 8bcb50b9-df2e-11ed-a733-841b77d62e9a.idf: 45it [00:03, 15.36it/s]INFO:8bcb6466-df2e-11ed-bc29-841b77d62e9a.idf:Continuing Simulation at 12/27/2017 for RUN PERIOD 1\n",
      "C:\\EnergyPlusV9-2-0\\energyplus.exe 8bcbb2c0-df2e-11ed-b90f-841b77d62e9a.idf: 45it [00:03, 15.35it/s]INFO:8bcb29a7-df2e-11ed-bffc-841b77d62e9a.idf:Updating Shadowing Calculations, Start Date=11/17/2017\n",
      "C:\\EnergyPlusV9-2-0\\energyplus.exe 8bcb50b9-df2e-11ed-a733-841b77d62e9a.idf: 45it [00:03, 15.36it/s]INFO:8bcb50b9-df2e-11ed-a733-841b77d62e9a.idf:Updating Shadowing Calculations, Start Date=11/17/2017\n",
      "C:\\EnergyPlusV9-2-0\\energyplus.exe 8bcb50b9-df2e-11ed-a733-841b77d62e9a.idf: 46it [00:03, 15.36it/s]INFO:8bcb0266-df2e-11ed-872a-841b77d62e9a.idf:Updating Shadowing Calculations, Start Date=12/27/2017\n",
      "C:\\EnergyPlusV9-2-0\\energyplus.exe 8bcb50b9-df2e-11ed-a733-841b77d62e9a.idf: 46it [00:03, 15.36it/s]INFO:8bcb6466-df2e-11ed-bc29-841b77d62e9a.idf:Writing tabular output file results using comma format.\n",
      "                                                                                                    "
     ]
    },
    {
     "name": "stdout",
     "output_type": "stream",
     "text": [
      "Updating Shadowing Calculations, Start Date=10/28/2017\n",
      "Updating Shadowing Calculations, Start Date=12/27/2017\n",
      "Continuing Simulation at 10/28/2017 for RUN PERIOD 1\n",
      "Continuing Simulation at 10/28/2017 for RUN PERIOD 1\n",
      "Continuing Simulation at 10/28/2017 for RUN PERIOD 1\n",
      "Continuing Simulation at 12/07/2017 for RUN PERIOD 1\n",
      "Continuing Simulation at 12/27/2017 for RUN PERIOD 1\n",
      "Updating Shadowing Calculations, Start Date=11/17/2017\n",
      "Updating Shadowing Calculations, Start Date=11/17/2017\n",
      "Updating Shadowing Calculations, Start Date=12/27/2017\n",
      "Writing tabular output file results using comma format.\n"
     ]
    },
    {
     "name": "stderr",
     "output_type": "stream",
     "text": [
      "C:\\EnergyPlusV9-2-0\\energyplus.exe 8bcb50b9-df2e-11ed-a733-841b77d62e9a.idf: 46it [00:03, 15.36it/s]INFO:8bcbb2c0-df2e-11ed-b90f-841b77d62e9a.idf:Updating Shadowing Calculations, Start Date=11/17/2017\n",
      "C:\\EnergyPlusV9-2-0\\energyplus.exe 8bcb50b9-df2e-11ed-a733-841b77d62e9a.idf: 46it [00:03, 15.36it/s]INFO:8bcb29a7-df2e-11ed-bffc-841b77d62e9a.idf:Continuing Simulation at 11/17/2017 for RUN PERIOD 1\n",
      "C:\\EnergyPlusV9-2-0\\energyplus.exe 8bcb6466-df2e-11ed-bc29-841b77d62e9a.idf: 52it [00:03, 15.98it/s]"
     ]
    },
    {
     "name": "stdout",
     "output_type": "stream",
     "text": [
      "Updating Shadowing Calculations, Start Date=11/17/2017\n",
      "Continuing Simulation at 11/17/2017 for RUN PERIOD 1\n",
      "Continuing Simulation at 11/17/2017 for RUN PERIOD 1\n"
     ]
    },
    {
     "name": "stderr",
     "output_type": "stream",
     "text": [
      "C:\\EnergyPlusV9-2-0\\energyplus.exe 8bcb0266-df2e-11ed-872a-841b77d62e9a.idf: 50it [00:03, 15.67it/s]INFO:8bcb50b9-df2e-11ed-a733-841b77d62e9a.idf:Continuing Simulation at 11/17/2017 for RUN PERIOD 1\n",
      "C:\\EnergyPlusV9-2-0\\energyplus.exe 8bcb29a7-df2e-11ed-bffc-841b77d62e9a.idf: 47it [00:03, 15.41it/s]INFO:8bcbb2c0-df2e-11ed-b90f-841b77d62e9a.idf:Continuing Simulation at 11/17/2017 for RUN PERIOD 1\n"
     ]
    },
    {
     "name": "stdout",
     "output_type": "stream",
     "text": [
      "Continuing Simulation at 11/17/2017 for RUN PERIOD 1\n"
     ]
    },
    {
     "name": "stderr",
     "output_type": "stream",
     "text": [
      "C:\\EnergyPlusV9-2-0\\energyplus.exe 8bcb50b9-df2e-11ed-a733-841b77d62e9a.idf: 47it [00:03, 15.43it/s]INFO:8bcb0266-df2e-11ed-872a-841b77d62e9a.idf:Continuing Simulation at 12/27/2017 for RUN PERIOD 1\n",
      "C:\\EnergyPlusV9-2-0\\energyplus.exe 8bcb50b9-df2e-11ed-a733-841b77d62e9a.idf: 47it [00:03, 15.43it/s]INFO:8bcb6466-df2e-11ed-bc29-841b77d62e9a.idf:Writing tabular output file results using HTML format.\n",
      "C:\\EnergyPlusV9-2-0\\energyplus.exe 8bcbb2c0-df2e-11ed-b90f-841b77d62e9a.idf: 47it [00:03, 15.35it/s]INFO:8bcb29a7-df2e-11ed-bffc-841b77d62e9a.idf:Updating Shadowing Calculations, Start Date=12/07/2017\n",
      "C:\\EnergyPlusV9-2-0\\energyplus.exe 8bcb50b9-df2e-11ed-a733-841b77d62e9a.idf: 47it [00:03, 15.43it/s]INFO:8bcb50b9-df2e-11ed-a733-841b77d62e9a.idf:Updating Shadowing Calculations, Start Date=12/07/2017\n",
      "C:\\EnergyPlusV9-2-0\\energyplus.exe 8bcb50b9-df2e-11ed-a733-841b77d62e9a.idf: 48it [00:03, 15.43it/s]INFO:8bcb0266-df2e-11ed-872a-841b77d62e9a.idf:Writing tabular output file results using comma format.\n",
      "C:\\EnergyPlusV9-2-0\\energyplus.exe 8bcb50b9-df2e-11ed-a733-841b77d62e9a.idf: 48it [00:03, 15.43it/s]INFO:8bcb6466-df2e-11ed-bc29-841b77d62e9a.idf:Writing final SQL reports\n",
      "C:\\EnergyPlusV9-2-0\\energyplus.exe 8bcb50b9-df2e-11ed-a733-841b77d62e9a.idf: 48it [00:03, 15.43it/s]INFO:8bcbb2c0-df2e-11ed-b90f-841b77d62e9a.idf:Updating Shadowing Calculations, Start Date=12/07/2017\n",
      "C:\\EnergyPlusV9-2-0\\energyplus.exe 8bcb50b9-df2e-11ed-a733-841b77d62e9a.idf: 48it [00:03, 15.43it/s]INFO:8bcb29a7-df2e-11ed-bffc-841b77d62e9a.idf:Continuing Simulation at 12/07/2017 for RUN PERIOD 1\n",
      "C:\\EnergyPlusV9-2-0\\energyplus.exe 8bcb0266-df2e-11ed-872a-841b77d62e9a.idf: 52it [00:03, 15.73it/s]INFO:8bcb50b9-df2e-11ed-a733-841b77d62e9a.idf:Continuing Simulation at 12/07/2017 for RUN PERIOD 1\n",
      "C:\\EnergyPlusV9-2-0\\energyplus.exe 8bcb29a7-df2e-11ed-bffc-841b77d62e9a.idf: 49it [00:03, 15.60it/s]INFO:8bcbb2c0-df2e-11ed-b90f-841b77d62e9a.idf:Continuing Simulation at 12/07/2017 for RUN PERIOD 1\n",
      "C:\\EnergyPlusV9-2-0\\energyplus.exe 8bcb50b9-df2e-11ed-a733-841b77d62e9a.idf: 49it [00:03, 15.64it/s]INFO:8bcb0266-df2e-11ed-872a-841b77d62e9a.idf:Writing tabular output file results using HTML format.\n"
     ]
    },
    {
     "name": "stdout",
     "output_type": "stream",
     "text": [
      "Continuing Simulation at 12/27/2017 for RUN PERIOD 1\n",
      "Writing tabular output file results using HTML format.\n",
      "Updating Shadowing Calculations, Start Date=12/07/2017\n",
      "Updating Shadowing Calculations, Start Date=12/07/2017\n",
      "Writing tabular output file results using comma format.\n",
      "Writing final SQL reports\n",
      "Updating Shadowing Calculations, Start Date=12/07/2017\n",
      "Continuing Simulation at 12/07/2017 for RUN PERIOD 1\n",
      "Continuing Simulation at 12/07/2017 for RUN PERIOD 1\n",
      "Continuing Simulation at 12/07/2017 for RUN PERIOD 1\n",
      "Writing tabular output file results using HTML format.\n"
     ]
    },
    {
     "name": "stderr",
     "output_type": "stream",
     "text": [
      "C:\\EnergyPlusV9-2-0\\energyplus.exe 8bcb50b9-df2e-11ed-a733-841b77d62e9a.idf: 49it [00:03, 15.64it/s]INFO:8bcb6466-df2e-11ed-bc29-841b77d62e9a.idf:EnergyPlus Run Time=00hr 00min  2.62sec\n",
      "C:\\EnergyPlusV9-2-0\\energyplus.exe 8bcbb2c0-df2e-11ed-b90f-841b77d62e9a.idf: 49it [00:03, 15.66it/s]INFO:8bcb29a7-df2e-11ed-bffc-841b77d62e9a.idf:Updating Shadowing Calculations, Start Date=12/27/2017\n",
      "C:\\EnergyPlusV9-2-0\\energyplus.exe 8bcb50b9-df2e-11ed-a733-841b77d62e9a.idf: 49it [00:03, 15.64it/s]"
     ]
    },
    {
     "name": "stdout",
     "output_type": "stream",
     "text": [
      "EnergyPlus Run Time=00hr 00min  2.62sec\n",
      "Updating Shadowing Calculations, Start Date=12/27/2017\n",
      "Updating Shadowing Calculations, Start Date=12/27/2017\n"
     ]
    },
    {
     "name": "stderr",
     "output_type": "stream",
     "text": [
      "INFO:8bcb50b9-df2e-11ed-a733-841b77d62e9a.idf:Updating Shadowing Calculations, Start Date=12/27/2017\n",
      "C:\\EnergyPlusV9-2-0\\energyplus.exe 8bcb50b9-df2e-11ed-a733-841b77d62e9a.idf: 50it [00:03, 15.64it/s]INFO:8bcb0266-df2e-11ed-872a-841b77d62e9a.idf:Writing final SQL reports\n"
     ]
    },
    {
     "name": "stdout",
     "output_type": "stream",
     "text": [
      "Writing final SQL reports\n"
     ]
    },
    {
     "name": "stderr",
     "output_type": "stream",
     "text": [
      "C:\\EnergyPlusV9-2-0\\energyplus.exe 8bcb50b9-df2e-11ed-a733-841b77d62e9a.idf: 50it [00:03, 15.64it/s]INFO:8bcb6466-df2e-11ed-bc29-841b77d62e9a.idf:EnergyPlus Completed in 4.03 seconds\n",
      "                                                       INFO:8bcbb2c0-df2e-11ed-b90f-841b77d62e9a.idf:Updating Shadowing Calculations, Start Date=12/27/2017\n",
      "C:\\EnergyPlusV9-2-0\\energyplus.exe 8bcb50b9-df2e-11ed-a733-841b77d62e9a.idf: 50it [00:04, 15.64it/s]INFO:8bcb29a7-df2e-11ed-bffc-841b77d62e9a.idf:Continuing Simulation at 12/27/2017 for RUN PERIOD 1\n",
      "C:\\EnergyPlusV9-2-0\\energyplus.exe 8bcb0266-df2e-11ed-872a-841b77d62e9a.idf: 54it [00:04, 15.94it/s]INFO:8bcb50b9-df2e-11ed-a733-841b77d62e9a.idf:Continuing Simulation at 12/27/2017 for RUN PERIOD 1\n",
      "C:\\EnergyPlusV9-2-0\\energyplus.exe 8bcb50b9-df2e-11ed-a733-841b77d62e9a.idf: 51it [00:04, 14.91it/s]INFO:8bcbb2c0-df2e-11ed-b90f-841b77d62e9a.idf:Continuing Simulation at 12/27/2017 for RUN PERIOD 1\n",
      "C:\\EnergyPlusV9-2-0\\energyplus.exe 8bcb50b9-df2e-11ed-a733-841b77d62e9a.idf: 51it [00:04, 14.91it/s]INFO:8bcb0266-df2e-11ed-872a-841b77d62e9a.idf:EnergyPlus Run Time=00hr 00min  2.66sec\n",
      "C:\\EnergyPlusV9-2-0\\energyplus.exe 8bcbb2c0-df2e-11ed-b90f-841b77d62e9a.idf: 51it [00:04, 14.78it/s]INFO:8bcb29a7-df2e-11ed-bffc-841b77d62e9a.idf:Writing tabular output file results using comma format.\n",
      "C:\\EnergyPlusV9-2-0\\energyplus.exe 8bcb0266-df2e-11ed-872a-841b77d62e9a.idf: 55it [00:04, 13.98it/s]INFO:8bcb50b9-df2e-11ed-a733-841b77d62e9a.idf:Writing tabular output file results using comma format.\n"
     ]
    },
    {
     "name": "stdout",
     "output_type": "stream",
     "text": [
      "EnergyPlus Completed in 4.03 seconds\n",
      "Updating Shadowing Calculations, Start Date=12/27/2017\n",
      "Continuing Simulation at 12/27/2017 for RUN PERIOD 1\n",
      "Continuing Simulation at 12/27/2017 for RUN PERIOD 1\n",
      "Continuing Simulation at 12/27/2017 for RUN PERIOD 1\n",
      "EnergyPlus Run Time=00hr 00min  2.66sec\n",
      "Writing tabular output file results using comma format.\n",
      "Writing tabular output file results using comma format.\n"
     ]
    },
    {
     "name": "stderr",
     "output_type": "stream",
     "text": [
      "C:\\EnergyPlusV9-2-0\\energyplus.exe 8bcb50b9-df2e-11ed-a733-841b77d62e9a.idf: 52it [00:04, 14.91it/s]INFO:8bcbb2c0-df2e-11ed-b90f-841b77d62e9a.idf:Writing tabular output file results using comma format.\n",
      "C:\\EnergyPlusV9-2-0\\energyplus.exe 8bcb50b9-df2e-11ed-a733-841b77d62e9a.idf: 52it [00:04, 14.91it/s]INFO:8bcb29a7-df2e-11ed-bffc-841b77d62e9a.idf:Writing tabular output file results using HTML format.\n",
      "C:\\EnergyPlusV9-2-0\\energyplus.exe 8bcb6466-df2e-11ed-bc29-841b77d62e9a.idf: 55it [00:04, 12.94it/s]INFO:8bcb50b9-df2e-11ed-a733-841b77d62e9a.idf:Writing tabular output file results using HTML format.\n",
      "\n",
      "                                                                                                    "
     ]
    },
    {
     "name": "stdout",
     "output_type": "stream",
     "text": [
      "Writing tabular output file results using comma format.\n",
      "Writing tabular output file results using HTML format.\n",
      "Writing tabular output file results using HTML format.\n"
     ]
    },
    {
     "name": "stderr",
     "output_type": "stream",
     "text": [
      "                                                       INFO:8bcb0266-df2e-11ed-872a-841b77d62e9a.idf:EnergyPlus Completed in 4.17 seconds\n"
     ]
    },
    {
     "name": "stdout",
     "output_type": "stream",
     "text": [
      "EnergyPlus Completed in 4.17 seconds\n"
     ]
    },
    {
     "name": "stderr",
     "output_type": "stream",
     "text": [
      "C:\\EnergyPlusV9-2-0\\energyplus.exe 8bcb29a7-df2e-11ed-bffc-841b77d62e9a.idf: 53it [00:04, 16.04it/s]INFO:8bcbb2c0-df2e-11ed-b90f-841b77d62e9a.idf:Writing tabular output file results using HTML format.\n",
      "C:\\EnergyPlusV9-2-0\\energyplus.exe 8bcb50b9-df2e-11ed-a733-841b77d62e9a.idf: 53it [00:04, 14.91it/s]INFO:8bcb50b9-df2e-11ed-a733-841b77d62e9a.idf:Writing final SQL reports\n",
      "C:\\EnergyPlusV9-2-0\\energyplus.exe 8bcb50b9-df2e-11ed-a733-841b77d62e9a.idf: 54it [00:04, 15.94it/s]INFO:8bcb29a7-df2e-11ed-bffc-841b77d62e9a.idf:Writing final SQL reports\n",
      "C:\\EnergyPlusV9-2-0\\energyplus.exe 8bcb50b9-df2e-11ed-a733-841b77d62e9a.idf: 54it [00:04, 15.94it/s]INFO:8bcbb2c0-df2e-11ed-b90f-841b77d62e9a.idf:Writing final SQL reports\n",
      "C:\\EnergyPlusV9-2-0\\energyplus.exe 8bcb50b9-df2e-11ed-a733-841b77d62e9a.idf: 54it [00:04, 15.94it/s]INFO:8bcb50b9-df2e-11ed-a733-841b77d62e9a.idf:EnergyPlus Run Time=00hr 00min  2.75sec\n",
      "C:\\EnergyPlusV9-2-0\\energyplus.exe 8bcb50b9-df2e-11ed-a733-841b77d62e9a.idf: 55it [00:04, 15.94it/s]INFO:8bcb29a7-df2e-11ed-bffc-841b77d62e9a.idf:EnergyPlus Run Time=00hr 00min  2.69sec\n",
      "C:\\EnergyPlusV9-2-0\\energyplus.exe 8bcb50b9-df2e-11ed-a733-841b77d62e9a.idf: 55it [00:04, 15.94it/s]INFO:8bcbb2c0-df2e-11ed-b90f-841b77d62e9a.idf:EnergyPlus Run Time=00hr 00min  2.76sec\n",
      "C:\\EnergyPlusV9-2-0\\energyplus.exe 8bcb29a7-df2e-11ed-bffc-841b77d62e9a.idf: 55it [00:04, 15.63it/s]INFO:8bcb50b9-df2e-11ed-a733-841b77d62e9a.idf:EnergyPlus Completed in 4.25 seconds\n"
     ]
    },
    {
     "name": "stdout",
     "output_type": "stream",
     "text": [
      "Writing tabular output file results using HTML format.\n",
      "Writing final SQL reports\n",
      "Writing final SQL reports\n",
      "Writing final SQL reports\n",
      "EnergyPlus Run Time=00hr 00min  2.75sec\n",
      "EnergyPlus Run Time=00hr 00min  2.69sec\n",
      "EnergyPlus Run Time=00hr 00min  2.76sec\n",
      "EnergyPlus Completed in 4.25 seconds\n"
     ]
    },
    {
     "name": "stderr",
     "output_type": "stream",
     "text": [
      "C:\\EnergyPlusV9-2-0\\energyplus.exe 8bcb50b9-df2e-11ed-a733-841b77d62e9a.idf: 55it [00:04, 15.94it/s]INFO:8bcbb2c0-df2e-11ed-b90f-841b77d62e9a.idf:EnergyPlus Completed in 4.29 seconds\n"
     ]
    },
    {
     "name": "stdout",
     "output_type": "stream",
     "text": [
      "EnergyPlus Completed in 4.29 seconds\n"
     ]
    },
    {
     "name": "stderr",
     "output_type": "stream",
     "text": [
      "C:\\EnergyPlusV9-2-0\\energyplus.exe 8bcb0266-df2e-11ed-872a-841b77d62e9a.idf: 55it [00:04, 12.47it/s]INFO:8bcb29a7-df2e-11ed-bffc-841b77d62e9a.idf:EnergyPlus Completed in 4.29 seconds\n",
      "\n"
     ]
    },
    {
     "name": "stdout",
     "output_type": "stream",
     "text": [
      "EnergyPlus Completed in 4.29 seconds\n"
     ]
    },
    {
     "name": "stderr",
     "output_type": "stream",
     "text": [
      "C:\\EnergyPlusV9-2-0\\energyplus.exe 8bcb50b9-df2e-11ed-a733-841b77d62e9a.idf: 55it [00:04, 12.48it/s]\n",
      "C:\\EnergyPlusV9-2-0\\energyplus.exe 8bcb29a7-df2e-11ed-bffc-841b77d62e9a.idf: 55it [00:04, 12.40it/s]\n",
      "C:\\EnergyPlusV9-2-0\\energyplus.exe 8bcbb2c0-df2e-11ed-b90f-841b77d62e9a.idf: 55it [00:04, 12.38it/s]\n",
      "INFO:archetypal:collected data for ['Zone Ideal Loads Zone Total Heating Energy', 'Zone Ideal Loads Zone Total Cooling Energy']\n",
      "INFO:archetypal:collected data for ['Zone Ideal Loads Zone Total Heating Energy', 'Zone Ideal Loads Zone Total Cooling Energy']\n",
      "simulate:   5%|▌         | 1.00/20.0 [00:10<03:25, 10.8s/runs]INFO:archetypal:No 'ZONEVENTILATION:DESIGNFLOWRATE' created since IsScheduledVentilationOn == False.\n",
      "INFO:archetypal:No 'ZONEVENTILATION:WINDANDSTACKOPENAREA' created since IsNatVentOn == False.\n",
      "INFO:archetypal:No 'ZONEVENTILATION:DESIGNFLOWRATE' created since IsScheduledVentilationOn == False.\n",
      "INFO:archetypal:No 'ZONEVENTILATION:WINDANDSTACKOPENAREA' created since IsNatVentOn == False.\n",
      "C:\\EnergyPlusV9-2-0\\ExpandObjects.EXE #0-923a394c-df2e-11ed-8377-841b77d62e9a.idf: 0.00it [00:00, ?it/s]INFO:923a394c-df2e-11ed-8377-841b77d62e9a.idf:ExpandObjects Started.\n",
      "C:\\EnergyPlusV9-2-0\\ExpandObjects.EXE #0-923a394c-df2e-11ed-8377-841b77d62e9a.idf: 1.00it [00:00, 21.7it/s]INFO:923a394c-df2e-11ed-8377-841b77d62e9a.idf: Begin reading Energy+.idd file.\n",
      "C:\\EnergyPlusV9-2-0\\ExpandObjects.EXE #0-923a394c-df2e-11ed-8377-841b77d62e9a.idf: 2.00it [00:00, 16.9it/s]INFO:923a394c-df2e-11ed-8377-841b77d62e9a.idf: Done reading Energy+.idd file.\n",
      "C:\\EnergyPlusV9-2-0\\ExpandObjects.EXE #0-923a394c-df2e-11ed-8377-841b77d62e9a.idf: 3.00it [00:00, 24.9it/s]INFO:923a394c-df2e-11ed-8377-841b77d62e9a.idf:ExpandObjects Finished. Time:     0.062\n",
      "C:\\EnergyPlusV9-2-0\\ExpandObjects.EXE #0-923a394c-df2e-11ed-8377-841b77d62e9a.idf: 4.00it [00:00, 24.9it/s]INFO:923a394c-df2e-11ed-8377-841b77d62e9a.idf:ExpandObjects completed in 0.12 seconds\n",
      "C:\\EnergyPlusV9-2-0\\ExpandObjects.EXE #0-923a394c-df2e-11ed-8377-841b77d62e9a.idf: 4.00it [00:00, 29.7it/s]\n"
     ]
    },
    {
     "name": "stdout",
     "output_type": "stream",
     "text": [
      "ExpandObjects Started.\n",
      " Begin reading Energy+.idd file.\n",
      " Done reading Energy+.idd file.\n",
      "ExpandObjects Finished. Time:     0.062\n",
      "ExpandObjects completed in 0.12 seconds\n"
     ]
    },
    {
     "name": "stderr",
     "output_type": "stream",
     "text": [
      "C:\\EnergyPlusV9-2-0\\energyplus.exe 923a394c-df2e-11ed-8377-841b77d62e9a.idf: 0it [00:00, ?it/s]INFO:923a394c-df2e-11ed-8377-841b77d62e9a.idf:Simulation started\n",
      "C:\\EnergyPlusV9-2-0\\energyplus.exe 923a394c-df2e-11ed-8377-841b77d62e9a.idf: 0it [00:00, ?it/s]INFO:923a394c-df2e-11ed-8377-841b77d62e9a.idf:EnergyPlus Starting\n",
      "C:\\EnergyPlusV9-2-0\\energyplus.exe 923a394c-df2e-11ed-8377-841b77d62e9a.idf: 1it [00:00, 34.47it/s]INFO:923a394c-df2e-11ed-8377-841b77d62e9a.idf:EnergyPlus, Version 9.2.0-921312fa1d, YMD=2023.04.19 20:51\n"
     ]
    },
    {
     "name": "stdout",
     "output_type": "stream",
     "text": [
      "Simulation started\n",
      "EnergyPlus Starting\n",
      "EnergyPlus, Version 9.2.0-921312fa1d, YMD=2023.04.19 20:51\n"
     ]
    },
    {
     "name": "stderr",
     "output_type": "stream",
     "text": [
      "C:\\EnergyPlusV9-2-0\\energyplus.exe 923a394c-df2e-11ed-8377-841b77d62e9a.idf: 2it [00:00,  9.45it/s]INFO:923a394c-df2e-11ed-8377-841b77d62e9a.idf:Adjusting Air System Sizing\n",
      "C:\\EnergyPlusV9-2-0\\energyplus.exe 923a394c-df2e-11ed-8377-841b77d62e9a.idf: 3it [00:00, 13.98it/s]INFO:923a394c-df2e-11ed-8377-841b77d62e9a.idf:Adjusting Standard 62.1 Ventilation Sizing\n",
      "C:\\EnergyPlusV9-2-0\\energyplus.exe 923a394c-df2e-11ed-8377-841b77d62e9a.idf: 4it [00:00, 13.98it/s]INFO:923a394c-df2e-11ed-8377-841b77d62e9a.idf:Initializing Simulation\n",
      "C:\\EnergyPlusV9-2-0\\energyplus.exe 923a394c-df2e-11ed-8377-841b77d62e9a.idf: 5it [00:00, 13.98it/s]INFO:923a394c-df2e-11ed-8377-841b77d62e9a.idf:Reporting Surfaces\n",
      "C:\\EnergyPlusV9-2-0\\energyplus.exe 923a394c-df2e-11ed-8377-841b77d62e9a.idf: 6it [00:00, 13.98it/s]INFO:923a394c-df2e-11ed-8377-841b77d62e9a.idf:Beginning Primary Simulation\n",
      "C:\\EnergyPlusV9-2-0\\energyplus.exe 923a394c-df2e-11ed-8377-841b77d62e9a.idf: 7it [00:00, 13.98it/s]INFO:923a394c-df2e-11ed-8377-841b77d62e9a.idf:Initializing New Environment Parameters\n",
      "C:\\EnergyPlusV9-2-0\\energyplus.exe 923a394c-df2e-11ed-8377-841b77d62e9a.idf: 8it [00:00, 13.98it/s]INFO:923a394c-df2e-11ed-8377-841b77d62e9a.idf:Warming up {1}\n",
      "C:\\EnergyPlusV9-2-0\\energyplus.exe 923a394c-df2e-11ed-8377-841b77d62e9a.idf: 9it [00:00, 13.98it/s]INFO:923a394c-df2e-11ed-8377-841b77d62e9a.idf:Warming up {2}\n",
      "C:\\EnergyPlusV9-2-0\\energyplus.exe 923a394c-df2e-11ed-8377-841b77d62e9a.idf: 10it [00:00, 13.98it/s]INFO:923a394c-df2e-11ed-8377-841b77d62e9a.idf:Warming up {3}\n",
      "C:\\EnergyPlusV9-2-0\\energyplus.exe 923a394c-df2e-11ed-8377-841b77d62e9a.idf: 11it [00:00, 13.98it/s]INFO:923a394c-df2e-11ed-8377-841b77d62e9a.idf:Warming up {4}\n",
      "C:\\EnergyPlusV9-2-0\\energyplus.exe 923a394c-df2e-11ed-8377-841b77d62e9a.idf: 12it [00:00, 42.22it/s]INFO:archetypal:collected data for ['Zone Ideal Loads Zone Total Heating Energy', 'Zone Ideal Loads Zone Total Cooling Energy']\n",
      "C:\\EnergyPlusV9-2-0\\energyplus.exe 923a394c-df2e-11ed-8377-841b77d62e9a.idf: 12it [00:00, 42.22it/s]INFO:923a394c-df2e-11ed-8377-841b77d62e9a.idf:Warming up {5}\n",
      "C:\\EnergyPlusV9-2-0\\energyplus.exe 923a394c-df2e-11ed-8377-841b77d62e9a.idf: 13it [00:00, 42.22it/s]INFO:923a394c-df2e-11ed-8377-841b77d62e9a.idf:Warming up {6}\n",
      "C:\\EnergyPlusV9-2-0\\energyplus.exe 923a394c-df2e-11ed-8377-841b77d62e9a.idf: 14it [00:00, 42.22it/s]INFO:923a394c-df2e-11ed-8377-841b77d62e9a.idf:Starting Simulation at 01/01/2017 for RUN PERIOD 1\n",
      "C:\\EnergyPlusV9-2-0\\energyplus.exe 923a394c-df2e-11ed-8377-841b77d62e9a.idf: 15it [00:00, 42.22it/s]INFO:923a394c-df2e-11ed-8377-841b77d62e9a.idf:Updating Shadowing Calculations, Start Date=01/21/2017\n",
      "C:\\EnergyPlusV9-2-0\\energyplus.exe 923a394c-df2e-11ed-8377-841b77d62e9a.idf: 16it [00:00, 42.22it/s]INFO:archetypal:collected data for ['Zone Ideal Loads Zone Total Heating Energy', 'Zone Ideal Loads Zone Total Cooling Energy']\n",
      "INFO:923a394c-df2e-11ed-8377-841b77d62e9a.idf:Continuing Simulation at 01/21/2017 for RUN PERIOD 1\n",
      "simulate:  10%|█         | 2.00/20.0 [00:12<01:32, 5.16s/runs]"
     ]
    },
    {
     "name": "stdout",
     "output_type": "stream",
     "text": [
      "Adjusting Air System Sizing\n",
      "Adjusting Standard 62.1 Ventilation Sizing\n",
      "Initializing Simulation\n",
      "Reporting Surfaces\n",
      "Beginning Primary Simulation\n",
      "Initializing New Environment Parameters\n",
      "Warming up {1}\n",
      "Warming up {2}\n",
      "Warming up {3}\n",
      "Warming up {4}\n",
      "Warming up {5}\n",
      "Warming up {6}\n",
      "Starting Simulation at 01/01/2017 for RUN PERIOD 1\n",
      "Updating Shadowing Calculations, Start Date=01/21/2017\n",
      "Continuing Simulation at 01/21/2017 for RUN PERIOD 1\n"
     ]
    },
    {
     "name": "stderr",
     "output_type": "stream",
     "text": [
      "C:\\EnergyPlusV9-2-0\\energyplus.exe 923a394c-df2e-11ed-8377-841b77d62e9a.idf: 17it [00:00, 42.22it/s]INFO:923a394c-df2e-11ed-8377-841b77d62e9a.idf:Updating Shadowing Calculations, Start Date=02/10/2017\n",
      "C:\\EnergyPlusV9-2-0\\energyplus.exe 923a394c-df2e-11ed-8377-841b77d62e9a.idf: 18it [00:00, 44.40it/s]INFO:923a394c-df2e-11ed-8377-841b77d62e9a.idf:Continuing Simulation at 02/10/2017 for RUN PERIOD 1\n",
      "C:\\EnergyPlusV9-2-0\\energyplus.exe 923a394c-df2e-11ed-8377-841b77d62e9a.idf: 19it [00:00, 44.40it/s]INFO:923a394c-df2e-11ed-8377-841b77d62e9a.idf:Updating Shadowing Calculations, Start Date=03/02/2017\n",
      "C:\\EnergyPlusV9-2-0\\energyplus.exe 923a394c-df2e-11ed-8377-841b77d62e9a.idf: 20it [00:00, 34.72it/s]INFO:923a394c-df2e-11ed-8377-841b77d62e9a.idf:Continuing Simulation at 03/02/2017 for RUN PERIOD 1\n"
     ]
    },
    {
     "name": "stdout",
     "output_type": "stream",
     "text": [
      "Updating Shadowing Calculations, Start Date=02/10/2017\n",
      "Continuing Simulation at 02/10/2017 for RUN PERIOD 1\n",
      "Updating Shadowing Calculations, Start Date=03/02/2017\n",
      "Continuing Simulation at 03/02/2017 for RUN PERIOD 1\n"
     ]
    },
    {
     "name": "stderr",
     "output_type": "stream",
     "text": [
      "C:\\EnergyPlusV9-2-0\\energyplus.exe 923a394c-df2e-11ed-8377-841b77d62e9a.idf: 21it [00:00, 34.72it/s]INFO:923a394c-df2e-11ed-8377-841b77d62e9a.idf:Updating Shadowing Calculations, Start Date=03/22/2017\n",
      "C:\\EnergyPlusV9-2-0\\energyplus.exe 923a394c-df2e-11ed-8377-841b77d62e9a.idf: 22it [00:00, 34.72it/s]INFO:923a394c-df2e-11ed-8377-841b77d62e9a.idf:Continuing Simulation at 03/22/2017 for RUN PERIOD 1\n",
      "C:\\EnergyPlusV9-2-0\\energyplus.exe 923a394c-df2e-11ed-8377-841b77d62e9a.idf: 23it [00:00, 32.81it/s]INFO:archetypal:collected data for ['Zone Ideal Loads Zone Total Heating Energy', 'Zone Ideal Loads Zone Total Cooling Energy']\n",
      "C:\\EnergyPlusV9-2-0\\energyplus.exe 923a394c-df2e-11ed-8377-841b77d62e9a.idf: 23it [00:00, 32.81it/s]INFO:923a394c-df2e-11ed-8377-841b77d62e9a.idf:Updating Shadowing Calculations, Start Date=04/11/2017\n",
      "C:\\EnergyPlusV9-2-0\\energyplus.exe 923a394c-df2e-11ed-8377-841b77d62e9a.idf: 24it [00:00, 32.81it/s]INFO:923a394c-df2e-11ed-8377-841b77d62e9a.idf:Continuing Simulation at 04/11/2017 for RUN PERIOD 1\n",
      "INFO:archetypal:collected data for ['Zone Ideal Loads Zone Total Heating Energy', 'Zone Ideal Loads Zone Total Cooling Energy']\n",
      "C:\\EnergyPlusV9-2-0\\energyplus.exe 923a394c-df2e-11ed-8377-841b77d62e9a.idf: 25it [00:00, 32.81it/s]INFO:923a394c-df2e-11ed-8377-841b77d62e9a.idf:Updating Shadowing Calculations, Start Date=05/01/2017\n",
      "C:\\EnergyPlusV9-2-0\\energyplus.exe 923a394c-df2e-11ed-8377-841b77d62e9a.idf: 26it [00:00, 27.50it/s]INFO:923a394c-df2e-11ed-8377-841b77d62e9a.idf:Continuing Simulation at 05/01/2017 for RUN PERIOD 1\n"
     ]
    },
    {
     "name": "stdout",
     "output_type": "stream",
     "text": [
      "Updating Shadowing Calculations, Start Date=03/22/2017\n",
      "Continuing Simulation at 03/22/2017 for RUN PERIOD 1\n",
      "Updating Shadowing Calculations, Start Date=04/11/2017\n",
      "Continuing Simulation at 04/11/2017 for RUN PERIOD 1\n",
      "Updating Shadowing Calculations, Start Date=05/01/2017\n",
      "Continuing Simulation at 05/01/2017 for RUN PERIOD 1\n"
     ]
    },
    {
     "name": "stderr",
     "output_type": "stream",
     "text": [
      "INFO:archetypal:No 'ZONEVENTILATION:DESIGNFLOWRATE' created since IsScheduledVentilationOn == False.\n",
      "INFO:archetypal:No 'ZONEVENTILATION:WINDANDSTACKOPENAREA' created since IsNatVentOn == False.\n",
      "                                                                                                    INFO:archetypal:No 'ZONEVENTILATION:DESIGNFLOWRATE' created since IsScheduledVentilationOn == False.\n",
      "INFO:archetypal:No 'ZONEVENTILATION:WINDANDSTACKOPENAREA' created since IsNatVentOn == False.\n",
      "C:\\EnergyPlusV9-2-0\\energyplus.exe 923a394c-df2e-11ed-8377-841b77d62e9a.idf: 27it [00:01, 27.50it/s]INFO:923a394c-df2e-11ed-8377-841b77d62e9a.idf:Updating Shadowing Calculations, Start Date=05/21/2017\n",
      "C:\\EnergyPlusV9-2-0\\energyplus.exe 923a394c-df2e-11ed-8377-841b77d62e9a.idf: 28it [00:01, 16.44it/s]INFO:923a394c-df2e-11ed-8377-841b77d62e9a.idf:Continuing Simulation at 05/21/2017 for RUN PERIOD 1\n",
      "C:\\EnergyPlusV9-2-0\\energyplus.exe 923a394c-df2e-11ed-8377-841b77d62e9a.idf: 29it [00:01, 16.44it/s]INFO:923a394c-df2e-11ed-8377-841b77d62e9a.idf:Updating Shadowing Calculations, Start Date=06/10/2017\n",
      "C:\\EnergyPlusV9-2-0\\energyplus.exe 923a394c-df2e-11ed-8377-841b77d62e9a.idf: 30it [00:01, 16.44it/s]INFO:923a394c-df2e-11ed-8377-841b77d62e9a.idf:Continuing Simulation at 06/10/2017 for RUN PERIOD 1\n",
      "C:\\EnergyPlusV9-2-0\\energyplus.exe 923a394c-df2e-11ed-8377-841b77d62e9a.idf: 31it [00:01, 16.44it/s]INFO:923a394c-df2e-11ed-8377-841b77d62e9a.idf:Updating Shadowing Calculations, Start Date=06/30/2017\n",
      "C:\\EnergyPlusV9-2-0\\energyplus.exe 923a394c-df2e-11ed-8377-841b77d62e9a.idf: 32it [00:01, 16.44it/s]INFO:923a394c-df2e-11ed-8377-841b77d62e9a.idf:Continuing Simulation at 06/30/2017 for RUN PERIOD 1\n",
      "C:\\EnergyPlusV9-2-0\\energyplus.exe 923a394c-df2e-11ed-8377-841b77d62e9a.idf: 33it [00:01, 16.44it/s]INFO:923a394c-df2e-11ed-8377-841b77d62e9a.idf:Updating Shadowing Calculations, Start Date=07/20/2017\n",
      "C:\\EnergyPlusV9-2-0\\energyplus.exe 923a394c-df2e-11ed-8377-841b77d62e9a.idf: 34it [00:01, 16.44it/s]INFO:923a394c-df2e-11ed-8377-841b77d62e9a.idf:Continuing Simulation at 07/20/2017 for RUN PERIOD 1\n"
     ]
    },
    {
     "name": "stdout",
     "output_type": "stream",
     "text": [
      "Updating Shadowing Calculations, Start Date=05/21/2017\n",
      "Continuing Simulation at 05/21/2017 for RUN PERIOD 1\n",
      "Updating Shadowing Calculations, Start Date=06/10/2017\n",
      "Continuing Simulation at 06/10/2017 for RUN PERIOD 1\n",
      "Updating Shadowing Calculations, Start Date=06/30/2017\n",
      "Continuing Simulation at 06/30/2017 for RUN PERIOD 1\n",
      "Updating Shadowing Calculations, Start Date=07/20/2017\n",
      "Continuing Simulation at 07/20/2017 for RUN PERIOD 1\n",
      "Updating Shadowing Calculations, Start Date=08/09/2017\n"
     ]
    },
    {
     "name": "stderr",
     "output_type": "stream",
     "text": [
      "C:\\EnergyPlusV9-2-0\\energyplus.exe 923a394c-df2e-11ed-8377-841b77d62e9a.idf: 35it [00:01, 16.44it/s]INFO:archetypal:collected data for ['Zone Ideal Loads Zone Total Heating Energy', 'Zone Ideal Loads Zone Total Cooling Energy']\n",
      "INFO:923a394c-df2e-11ed-8377-841b77d62e9a.idf:Updating Shadowing Calculations, Start Date=08/09/2017\n",
      "C:\\EnergyPlusV9-2-0\\energyplus.exe 923a394c-df2e-11ed-8377-841b77d62e9a.idf: 36it [00:01, 23.74it/s]INFO:923a394c-df2e-11ed-8377-841b77d62e9a.idf:Continuing Simulation at 08/09/2017 for RUN PERIOD 1\n",
      "C:\\EnergyPlusV9-2-0\\energyplus.exe 923a394c-df2e-11ed-8377-841b77d62e9a.idf: 37it [00:01, 23.74it/s]INFO:923a394c-df2e-11ed-8377-841b77d62e9a.idf:Updating Shadowing Calculations, Start Date=08/29/2017\n",
      "C:\\EnergyPlusV9-2-0\\energyplus.exe 923a394c-df2e-11ed-8377-841b77d62e9a.idf: 38it [00:01, 23.74it/s]INFO:923a394c-df2e-11ed-8377-841b77d62e9a.idf:Continuing Simulation at 08/29/2017 for RUN PERIOD 1\n",
      "INFO:archetypal:collected data for ['Zone Ideal Loads Zone Total Heating Energy', 'Zone Ideal Loads Zone Total Cooling Energy']\n",
      "C:\\EnergyPlusV9-2-0\\energyplus.exe 923a394c-df2e-11ed-8377-841b77d62e9a.idf: 39it [00:01, 23.74it/s]INFO:923a394c-df2e-11ed-8377-841b77d62e9a.idf:Updating Shadowing Calculations, Start Date=09/18/2017\n",
      "C:\\EnergyPlusV9-2-0\\energyplus.exe 923a394c-df2e-11ed-8377-841b77d62e9a.idf: 40it [00:01, 25.63it/s]"
     ]
    },
    {
     "name": "stdout",
     "output_type": "stream",
     "text": [
      "Continuing Simulation at 08/09/2017 for RUN PERIOD 1\n",
      "Updating Shadowing Calculations, Start Date=08/29/2017\n",
      "Continuing Simulation at 08/29/2017 for RUN PERIOD 1\n",
      "Updating Shadowing Calculations, Start Date=09/18/2017\n"
     ]
    },
    {
     "name": "stderr",
     "output_type": "stream",
     "text": [
      "C:\\EnergyPlusV9-2-0\\ExpandObjects.EXE #0-92f23697-df2e-11ed-a336-841b77d62e9a.idf: 0.00it [00:00, ?it/s]INFO:923a394c-df2e-11ed-8377-841b77d62e9a.idf:Continuing Simulation at 09/18/2017 for RUN PERIOD 1\n"
     ]
    },
    {
     "name": "stdout",
     "output_type": "stream",
     "text": [
      "Continuing Simulation at 09/18/2017 for RUN PERIOD 1\n"
     ]
    },
    {
     "name": "stderr",
     "output_type": "stream",
     "text": [
      "INFO:archetypal:collected data for ['Zone Ideal Loads Zone Total Heating Energy', 'Zone Ideal Loads Zone Total Cooling Energy']\n",
      "C:\\EnergyPlusV9-2-0\\ExpandObjects.EXE #0-92f23697-df2e-11ed-a336-841b77d62e9a.idf: 0.00it [00:00, ?it/s]INFO:923a394c-df2e-11ed-8377-841b77d62e9a.idf:Updating Shadowing Calculations, Start Date=10/08/2017\n",
      "C:\\EnergyPlusV9-2-0\\energyplus.exe 923a394c-df2e-11ed-8377-841b77d62e9a.idf: 42it [00:01, 23.04it/s]INFO:92f23697-df2e-11ed-a336-841b77d62e9a.idf:ExpandObjects Started.\n",
      "C:\\EnergyPlusV9-2-0\\ExpandObjects.EXE #0-92f23697-df2e-11ed-a336-841b77d62e9a.idf: 1.00it [00:00, 9.17it/s]INFO:923a394c-df2e-11ed-8377-841b77d62e9a.idf:Continuing Simulation at 10/08/2017 for RUN PERIOD 1\n",
      "                                                              INFO:92f23697-df2e-11ed-a336-841b77d62e9a.idf: Begin reading Energy+.idd file.\n",
      "C:\\EnergyPlusV9-2-0\\ExpandObjects.EXE #0-92f23697-df2e-11ed-a336-841b77d62e9a.idf: 2.00it [00:00, 15.7it/s]INFO:923a394c-df2e-11ed-8377-841b77d62e9a.idf:Updating Shadowing Calculations, Start Date=10/28/2017\n"
     ]
    },
    {
     "name": "stdout",
     "output_type": "stream",
     "text": [
      "Updating Shadowing Calculations, Start Date=10/08/2017\n",
      "ExpandObjects Started.\n",
      "Continuing Simulation at 10/08/2017 for RUN PERIOD 1\n",
      " Begin reading Energy+.idd file.\n",
      "Updating Shadowing Calculations, Start Date=10/28/2017\n"
     ]
    },
    {
     "name": "stderr",
     "output_type": "stream",
     "text": [
      "INFO:archetypal:collected data for ['Zone Ideal Loads Zone Total Heating Energy', 'Zone Ideal Loads Zone Total Cooling Energy']\n",
      "                                                              INFO:92f23697-df2e-11ed-a336-841b77d62e9a.idf: Done reading Energy+.idd file.\n"
     ]
    },
    {
     "name": "stdout",
     "output_type": "stream",
     "text": [
      " Done reading Energy+.idd file.\n"
     ]
    },
    {
     "name": "stderr",
     "output_type": "stream",
     "text": [
      "INFO:archetypal:No 'ZONEVENTILATION:DESIGNFLOWRATE' created since IsScheduledVentilationOn == False.\n",
      "simulate:  25%|██▌       | 5.00/20.0 [00:13<00:21, 1.42s/runs]INFO:archetypal:No 'ZONEVENTILATION:WINDANDSTACKOPENAREA' created since IsNatVentOn == False.\n",
      "C:\\EnergyPlusV9-2-0\\ExpandObjects.EXE #0-92f23697-df2e-11ed-a336-841b77d62e9a.idf: 3.00it [00:00, 12.7it/s]INFO:archetypal:No 'ZONEVENTILATION:DESIGNFLOWRATE' created since IsScheduledVentilationOn == False.\n",
      "simulate:  25%|██▌       | 5.00/20.0 [00:13<00:21, 1.42s/runs]INFO:archetypal:No 'ZONEVENTILATION:WINDANDSTACKOPENAREA' created since IsNatVentOn == False.\n",
      "C:\\EnergyPlusV9-2-0\\ExpandObjects.EXE #0-92f23697-df2e-11ed-a336-841b77d62e9a.idf: 3.00it [00:00, 12.7it/s]INFO:923a394c-df2e-11ed-8377-841b77d62e9a.idf:Continuing Simulation at 10/28/2017 for RUN PERIOD 1\n"
     ]
    },
    {
     "name": "stdout",
     "output_type": "stream",
     "text": [
      "Continuing Simulation at 10/28/2017 for RUN PERIOD 1\n"
     ]
    },
    {
     "name": "stderr",
     "output_type": "stream",
     "text": [
      "                                                              INFO:92f23697-df2e-11ed-a336-841b77d62e9a.idf:ExpandObjects Finished. Time:     0.078\n",
      "C:\\EnergyPlusV9-2-0\\ExpandObjects.EXE #0-92f23697-df2e-11ed-a336-841b77d62e9a.idf: 4.00it [00:00, 7.11it/s]INFO:923a394c-df2e-11ed-8377-841b77d62e9a.idf:Updating Shadowing Calculations, Start Date=11/17/2017\n"
     ]
    },
    {
     "name": "stdout",
     "output_type": "stream",
     "text": [
      "ExpandObjects Finished. Time:     0.078\n",
      "Updating Shadowing Calculations, Start Date=11/17/2017\n"
     ]
    },
    {
     "name": "stderr",
     "output_type": "stream",
     "text": [
      "C:\\EnergyPlusV9-2-0\\ExpandObjects.EXE #0-92f23697-df2e-11ed-a336-841b77d62e9a.idf: 4.00it [00:00, 7.11it/s]INFO:92f23697-df2e-11ed-a336-841b77d62e9a.idf:ExpandObjects completed in 0.45 seconds\n",
      "C:\\EnergyPlusV9-2-0\\energyplus.exe 923a394c-df2e-11ed-8377-841b77d62e9a.idf: 46it [00:02, 16.45it/s]INFO:923a394c-df2e-11ed-8377-841b77d62e9a.idf:Continuing Simulation at 11/17/2017 for RUN PERIOD 1\n",
      "C:\\EnergyPlusV9-2-0\\ExpandObjects.EXE #0-92f23697-df2e-11ed-a336-841b77d62e9a.idf: 4.00it [00:00, 7.81it/s]\n",
      "C:\\EnergyPlusV9-2-0\\energyplus.exe 923a394c-df2e-11ed-8377-841b77d62e9a.idf: 47it [00:02, 17.05it/s]INFO:923a394c-df2e-11ed-8377-841b77d62e9a.idf:Updating Shadowing Calculations, Start Date=12/07/2017\n",
      "C:\\EnergyPlusV9-2-0\\energyplus.exe 923a394c-df2e-11ed-8377-841b77d62e9a.idf: 48it [00:02, 17.05it/s]INFO:923a394c-df2e-11ed-8377-841b77d62e9a.idf:Continuing Simulation at 12/07/2017 for RUN PERIOD 1\n",
      "C:\\EnergyPlusV9-2-0\\energyplus.exe 923a394c-df2e-11ed-8377-841b77d62e9a.idf: 49it [00:02, 17.05it/s]INFO:923a394c-df2e-11ed-8377-841b77d62e9a.idf:Updating Shadowing Calculations, Start Date=12/27/2017\n",
      "C:\\EnergyPlusV9-2-0\\energyplus.exe 923a394c-df2e-11ed-8377-841b77d62e9a.idf: 50it [00:02, 17.05it/s]INFO:923a394c-df2e-11ed-8377-841b77d62e9a.idf:Continuing Simulation at 12/27/2017 for RUN PERIOD 1\n",
      "C:\\EnergyPlusV9-2-0\\energyplus.exe 923a394c-df2e-11ed-8377-841b77d62e9a.idf: 51it [00:02, 20.61it/s]"
     ]
    },
    {
     "name": "stdout",
     "output_type": "stream",
     "text": [
      "ExpandObjects completed in 0.45 seconds\n",
      "Continuing Simulation at 11/17/2017 for RUN PERIOD 1\n",
      "Updating Shadowing Calculations, Start Date=12/07/2017\n",
      "Continuing Simulation at 12/07/2017 for RUN PERIOD 1\n",
      "Updating Shadowing Calculations, Start Date=12/27/2017\n",
      "Continuing Simulation at 12/27/2017 for RUN PERIOD 1\n"
     ]
    },
    {
     "name": "stderr",
     "output_type": "stream",
     "text": [
      "C:\\EnergyPlusV9-2-0\\energyplus.exe 923a394c-df2e-11ed-8377-841b77d62e9a.idf: 51it [00:02, 20.61it/s]INFO:923a394c-df2e-11ed-8377-841b77d62e9a.idf:Writing tabular output file results using comma format.\n",
      "simulate:  25%|██▌       | 5.00/20.0 [00:13<00:21, 1.42s/runs]"
     ]
    },
    {
     "name": "stdout",
     "output_type": "stream",
     "text": [
      "Writing tabular output file results using comma format.\n",
      "Writing tabular output file results using HTML format.\n"
     ]
    },
    {
     "name": "stderr",
     "output_type": "stream",
     "text": [
      "C:\\EnergyPlusV9-2-0\\energyplus.exe 923a394c-df2e-11ed-8377-841b77d62e9a.idf: 52it [00:02, 20.61it/s]INFO:923a394c-df2e-11ed-8377-841b77d62e9a.idf:Writing tabular output file results using HTML format.\n",
      "C:\\EnergyPlusV9-2-0\\energyplus.exe 923a394c-df2e-11ed-8377-841b77d62e9a.idf: 53it [00:02, 18.35it/s]INFO:923a394c-df2e-11ed-8377-841b77d62e9a.idf:Writing final SQL reports\n",
      "C:\\EnergyPlusV9-2-0\\energyplus.exe 923a394c-df2e-11ed-8377-841b77d62e9a.idf: 54it [00:02, 18.35it/s]INFO:923a394c-df2e-11ed-8377-841b77d62e9a.idf:EnergyPlus Run Time=00hr 00min  1.92sec\n"
     ]
    },
    {
     "name": "stdout",
     "output_type": "stream",
     "text": [
      "Writing final SQL reports\n",
      "EnergyPlus Run Time=00hr 00min  1.92sec\n"
     ]
    },
    {
     "name": "stderr",
     "output_type": "stream",
     "text": [
      "C:\\EnergyPlusV9-2-0\\energyplus.exe 923a394c-df2e-11ed-8377-841b77d62e9a.idf: 55it [00:02, 18.35it/s]INFO:923a394c-df2e-11ed-8377-841b77d62e9a.idf:EnergyPlus Completed in 2.34 seconds\n"
     ]
    },
    {
     "name": "stdout",
     "output_type": "stream",
     "text": [
      "EnergyPlus Completed in 2.34 seconds\n"
     ]
    },
    {
     "name": "stderr",
     "output_type": "stream",
     "text": [
      "C:\\EnergyPlusV9-2-0\\ExpandObjects.EXE #0-9330a868-df2e-11ed-857e-841b77d62e9a.idf: 0.00it [00:00, ?it/s]INFO:9330a868-df2e-11ed-857e-841b77d62e9a.idf:ExpandObjects Started.\n",
      "                                                              "
     ]
    },
    {
     "name": "stdout",
     "output_type": "stream",
     "text": [
      "ExpandObjects Started.\n"
     ]
    },
    {
     "name": "stderr",
     "output_type": "stream",
     "text": [
      "C:\\EnergyPlusV9-2-0\\ExpandObjects.EXE #0-9330a868-df2e-11ed-857e-841b77d62e9a.idf: 1.00it [00:00, 8.05it/s]INFO:9330a868-df2e-11ed-857e-841b77d62e9a.idf: Begin reading Energy+.idd file.\n",
      "                                                                                                    "
     ]
    },
    {
     "name": "stdout",
     "output_type": "stream",
     "text": [
      " Begin reading Energy+.idd file.\n"
     ]
    },
    {
     "name": "stderr",
     "output_type": "stream",
     "text": [
      "C:\\EnergyPlusV9-2-0\\ExpandObjects.EXE #0-9330a868-df2e-11ed-857e-841b77d62e9a.idf: 2.00it [00:00, 15.7it/s]INFO:9330a868-df2e-11ed-857e-841b77d62e9a.idf: Done reading Energy+.idd file.\n"
     ]
    },
    {
     "name": "stdout",
     "output_type": "stream",
     "text": [
      " Done reading Energy+.idd file.\n"
     ]
    },
    {
     "name": "stderr",
     "output_type": "stream",
     "text": [
      "INFO:archetypal:No 'ZONEVENTILATION:DESIGNFLOWRATE' created since IsScheduledVentilationOn == False.\n",
      "                                                                                                    INFO:archetypal:No 'ZONEVENTILATION:WINDANDSTACKOPENAREA' created since IsNatVentOn == False.\n",
      "                                                                                                           INFO:archetypal:No 'ZONEVENTILATION:DESIGNFLOWRATE' created since IsScheduledVentilationOn == False.\n",
      "INFO:archetypal:No 'ZONEVENTILATION:WINDANDSTACKOPENAREA' created since IsNatVentOn == False.\n",
      "C:\\EnergyPlusV9-2-0\\ExpandObjects.EXE #0-9330a868-df2e-11ed-857e-841b77d62e9a.idf: 3.00it [00:00, 15.7it/s]INFO:9330a868-df2e-11ed-857e-841b77d62e9a.idf:ExpandObjects Finished. Time:     0.062\n",
      "C:\\EnergyPlusV9-2-0\\ExpandObjects.EXE #0-9330a868-df2e-11ed-857e-841b77d62e9a.idf: 4.00it [00:00, 9.64it/s]INFO:9330a868-df2e-11ed-857e-841b77d62e9a.idf:ExpandObjects completed in 0.39 seconds\n",
      "C:\\EnergyPlusV9-2-0\\ExpandObjects.EXE #0-9330a868-df2e-11ed-857e-841b77d62e9a.idf: 4.00it [00:00, 9.30it/s]\n",
      "C:\\EnergyPlusV9-2-0\\energyplus.exe 923a394c-df2e-11ed-8377-841b77d62e9a.idf: 55it [00:02, 19.41it/s]\n"
     ]
    },
    {
     "name": "stdout",
     "output_type": "stream",
     "text": [
      "ExpandObjects Finished. Time:     0.062\n",
      "ExpandObjects completed in 0.39 seconds\n"
     ]
    },
    {
     "name": "stderr",
     "output_type": "stream",
     "text": [
      "INFO:archetypal:No 'ZONEVENTILATION:DESIGNFLOWRATE' created since IsScheduledVentilationOn == False.\n",
      "INFO:archetypal:No 'ZONEVENTILATION:WINDANDSTACKOPENAREA' created since IsNatVentOn == False.\n",
      "INFO:archetypal:No 'ZONEVENTILATION:DESIGNFLOWRATE' created since IsScheduledVentilationOn == False.\n",
      "INFO:archetypal:No 'ZONEVENTILATION:WINDANDSTACKOPENAREA' created since IsNatVentOn == False.\n",
      "C:\\EnergyPlusV9-2-0\\ExpandObjects.EXE #0-939ca3a2-df2e-11ed-b0f7-841b77d62e9a.idf: 0.00it [00:00, ?it/s]INFO:939ca3a2-df2e-11ed-b0f7-841b77d62e9a.idf:ExpandObjects Started.\n",
      "C:\\EnergyPlusV9-2-0\\ExpandObjects.EXE #0-939ca3a2-df2e-11ed-b0f7-841b77d62e9a.idf: 1.00it [00:00, 24.6it/s]INFO:92f23697-df2e-11ed-a336-841b77d62e9a.idf:Simulation started\n",
      "C:\\EnergyPlusV9-2-0\\ExpandObjects.EXE #0-939ca3a2-df2e-11ed-b0f7-841b77d62e9a.idf: 1.00it [00:00, 18.4it/s]INFO:939ca3a2-df2e-11ed-b0f7-841b77d62e9a.idf: Begin reading Energy+.idd file.\n",
      "C:\\EnergyPlusV9-2-0\\ExpandObjects.EXE #0-939ca3a2-df2e-11ed-b0f7-841b77d62e9a.idf: 2.00it [00:00, 30.0it/s]INFO:92f23697-df2e-11ed-a336-841b77d62e9a.idf:EnergyPlus Starting\n",
      "C:\\EnergyPlusV9-2-0\\ExpandObjects.EXE #0-939ca3a2-df2e-11ed-b0f7-841b77d62e9a.idf: 2.00it [00:00, 25.2it/s]INFO:92f23697-df2e-11ed-a336-841b77d62e9a.idf:EnergyPlus, Version 9.2.0-921312fa1d, YMD=2023.04.19 20:51\n"
     ]
    },
    {
     "name": "stdout",
     "output_type": "stream",
     "text": [
      "ExpandObjects Started.\n",
      "Simulation started\n",
      " Begin reading Energy+.idd file.\n",
      "EnergyPlus Starting\n",
      "EnergyPlus, Version 9.2.0-921312fa1d, YMD=2023.04.19 20:51\n"
     ]
    },
    {
     "name": "stderr",
     "output_type": "stream",
     "text": [
      "                                                              INFO:939ca3a2-df2e-11ed-b0f7-841b77d62e9a.idf: Done reading Energy+.idd file.\n",
      "C:\\EnergyPlusV9-2-0\\ExpandObjects.EXE #0-939ca3a2-df2e-11ed-b0f7-841b77d62e9a.idf: 3.00it [00:00, 24.2it/s]INFO:93de73cc-df2e-11ed-b78e-841b77d62e9a.idf:ExpandObjects Started.\n",
      "C:\\EnergyPlusV9-2-0\\ExpandObjects.EXE #0-939ca3a2-df2e-11ed-b0f7-841b77d62e9a.idf: 3.00it [00:00, 24.2it/s]INFO:939ca3a2-df2e-11ed-b0f7-841b77d62e9a.idf:ExpandObjects Finished. Time:     0.047\n",
      "C:\\EnergyPlusV9-2-0\\ExpandObjects.EXE #0-939ca3a2-df2e-11ed-b0f7-841b77d62e9a.idf: 4.00it [00:00, 24.2it/s]INFO:93de73cc-df2e-11ed-b78e-841b77d62e9a.idf: Begin reading Energy+.idd file.\n",
      "C:\\EnergyPlusV9-2-0\\ExpandObjects.EXE #0-939ca3a2-df2e-11ed-b0f7-841b77d62e9a.idf: 4.00it [00:00, 24.2it/s]INFO:939ca3a2-df2e-11ed-b0f7-841b77d62e9a.idf:ExpandObjects completed in 0.14 seconds\n",
      "C:\\EnergyPlusV9-2-0\\ExpandObjects.EXE #0-939ca3a2-df2e-11ed-b0f7-841b77d62e9a.idf: 4.00it [00:00, 21.7it/s]\n"
     ]
    },
    {
     "name": "stdout",
     "output_type": "stream",
     "text": [
      " Done reading Energy+.idd file.\n",
      "ExpandObjects Started.\n",
      "ExpandObjects Finished. Time:     0.047\n",
      " Begin reading Energy+.idd file.\n",
      "ExpandObjects completed in 0.14 seconds\n"
     ]
    },
    {
     "name": "stderr",
     "output_type": "stream",
     "text": [
      "C:\\EnergyPlusV9-2-0\\energyplus.exe 9330a868-df2e-11ed-857e-841b77d62e9a.idf: 0it [00:00, ?it/s]INFO:9330a868-df2e-11ed-857e-841b77d62e9a.idf:Simulation started\n",
      "                                                              INFO:93de73cc-df2e-11ed-b78e-841b77d62e9a.idf: Done reading Energy+.idd file.\n",
      "                                                                                               "
     ]
    },
    {
     "name": "stdout",
     "output_type": "stream",
     "text": [
      "Simulation started\n",
      " Done reading Energy+.idd file.\n"
     ]
    },
    {
     "name": "stderr",
     "output_type": "stream",
     "text": [
      "C:\\EnergyPlusV9-2-0\\energyplus.exe 9330a868-df2e-11ed-857e-841b77d62e9a.idf: 0it [00:00, ?it/s]INFO:9330a868-df2e-11ed-857e-841b77d62e9a.idf:EnergyPlus Starting\n",
      "C:\\EnergyPlusV9-2-0\\ExpandObjects.EXE #0-93de73cc-df2e-11ed-b78e-841b77d62e9a.idf: 3.00it [00:00, 22.4it/s]INFO:92f23697-df2e-11ed-a336-841b77d62e9a.idf:Adjusting Air System Sizing\n",
      "C:\\EnergyPlusV9-2-0\\energyplus.exe 92f23697-df2e-11ed-a336-841b77d62e9a.idf: 3it [00:00,  8.63it/s]"
     ]
    },
    {
     "name": "stdout",
     "output_type": "stream",
     "text": [
      "EnergyPlus Starting\n",
      "Adjusting Air System Sizing\n",
      "ExpandObjects Finished. Time:     0.062\n"
     ]
    },
    {
     "name": "stderr",
     "output_type": "stream",
     "text": [
      "C:\\EnergyPlusV9-2-0\\energyplus.exe 9330a868-df2e-11ed-857e-841b77d62e9a.idf: 1it [00:00,  6.39it/s]INFO:93de73cc-df2e-11ed-b78e-841b77d62e9a.idf:ExpandObjects Finished. Time:     0.062\n",
      "C:\\EnergyPlusV9-2-0\\energyplus.exe 92f23697-df2e-11ed-a336-841b77d62e9a.idf: 3it [00:00,  8.63it/s]INFO:9330a868-df2e-11ed-857e-841b77d62e9a.idf:EnergyPlus, Version 9.2.0-921312fa1d, YMD=2023.04.19 20:51\n",
      "C:\\EnergyPlusV9-2-0\\energyplus.exe 9330a868-df2e-11ed-857e-841b77d62e9a.idf: 2it [00:00,  6.39it/s]INFO:92f23697-df2e-11ed-a336-841b77d62e9a.idf:Adjusting Standard 62.1 Ventilation Sizing\n",
      "C:\\EnergyPlusV9-2-0\\energyplus.exe 9330a868-df2e-11ed-857e-841b77d62e9a.idf: 2it [00:00,  6.39it/s]INFO:9330a868-df2e-11ed-857e-841b77d62e9a.idf:Adjusting Air System Sizing\n",
      "C:\\EnergyPlusV9-2-0\\energyplus.exe 9330a868-df2e-11ed-857e-841b77d62e9a.idf: 3it [00:00,  6.39it/s]INFO:93de73cc-df2e-11ed-b78e-841b77d62e9a.idf:ExpandObjects completed in 0.30 seconds\n",
      "                                                              INFO:92f23697-df2e-11ed-a336-841b77d62e9a.idf:Initializing Simulation\n",
      "C:\\EnergyPlusV9-2-0\\energyplus.exe 92f23697-df2e-11ed-a336-841b77d62e9a.idf: 5it [00:00, 11.89it/s]INFO:9330a868-df2e-11ed-857e-841b77d62e9a.idf:Adjusting Standard 62.1 Ventilation Sizing\n",
      "C:\\EnergyPlusV9-2-0\\ExpandObjects.EXE #0-93de73cc-df2e-11ed-b78e-841b77d62e9a.idf: 4.00it [00:00, 10.6it/s]\n",
      "                                                              INFO:92f23697-df2e-11ed-a336-841b77d62e9a.idf:Reporting Surfaces\n",
      "C:\\EnergyPlusV9-2-0\\energyplus.exe 9330a868-df2e-11ed-857e-841b77d62e9a.idf: 4it [00:00, 15.73it/s]INFO:9330a868-df2e-11ed-857e-841b77d62e9a.idf:Initializing Simulation\n",
      "C:\\EnergyPlusV9-2-0\\energyplus.exe 9330a868-df2e-11ed-857e-841b77d62e9a.idf: 5it [00:00, 15.73it/s]INFO:92f23697-df2e-11ed-a336-841b77d62e9a.idf:Beginning Primary Simulation\n"
     ]
    },
    {
     "name": "stdout",
     "output_type": "stream",
     "text": [
      "EnergyPlus, Version 9.2.0-921312fa1d, YMD=2023.04.19 20:51\n",
      "Adjusting Standard 62.1 Ventilation Sizing\n",
      "Adjusting Air System Sizing\n",
      "ExpandObjects completed in 0.30 seconds\n",
      "Initializing Simulation\n",
      "Adjusting Standard 62.1 Ventilation Sizing\n",
      "Reporting Surfaces\n",
      "Initializing Simulation\n",
      "Beginning Primary Simulation\n"
     ]
    },
    {
     "name": "stderr",
     "output_type": "stream",
     "text": [
      "C:\\EnergyPlusV9-2-0\\energyplus.exe 9330a868-df2e-11ed-857e-841b77d62e9a.idf: 5it [00:00, 15.73it/s]INFO:9330a868-df2e-11ed-857e-841b77d62e9a.idf:Reporting Surfaces\n"
     ]
    },
    {
     "name": "stdout",
     "output_type": "stream",
     "text": [
      "Reporting Surfaces\n"
     ]
    },
    {
     "name": "stderr",
     "output_type": "stream",
     "text": [
      "C:\\EnergyPlusV9-2-0\\energyplus.exe 9330a868-df2e-11ed-857e-841b77d62e9a.idf: 6it [00:00, 15.73it/s]INFO:92f23697-df2e-11ed-a336-841b77d62e9a.idf:Initializing New Environment Parameters\n",
      "C:\\EnergyPlusV9-2-0\\energyplus.exe 92f23697-df2e-11ed-a336-841b77d62e9a.idf: 8it [00:00, 13.36it/s]INFO:9330a868-df2e-11ed-857e-841b77d62e9a.idf:Beginning Primary Simulation\n",
      "C:\\EnergyPlusV9-2-0\\energyplus.exe 9330a868-df2e-11ed-857e-841b77d62e9a.idf: 7it [00:00, 15.41it/s]INFO:92f23697-df2e-11ed-a336-841b77d62e9a.idf:Warming up {1}\n",
      "C:\\EnergyPlusV9-2-0\\energyplus.exe 9330a868-df2e-11ed-857e-841b77d62e9a.idf: 7it [00:00, 15.41it/s]INFO:9330a868-df2e-11ed-857e-841b77d62e9a.idf:Initializing New Environment Parameters\n"
     ]
    },
    {
     "name": "stdout",
     "output_type": "stream",
     "text": [
      "Initializing New Environment Parameters\n",
      "Beginning Primary Simulation\n",
      "Warming up {1}\n",
      "Initializing New Environment Parameters\n"
     ]
    },
    {
     "name": "stderr",
     "output_type": "stream",
     "text": [
      "                                                              INFO:92f23697-df2e-11ed-a336-841b77d62e9a.idf:Warming up {2}\n",
      "                                                              INFO:9330a868-df2e-11ed-857e-841b77d62e9a.idf:Warming up {1}\n",
      "C:\\EnergyPlusV9-2-0\\energyplus.exe 9330a868-df2e-11ed-857e-841b77d62e9a.idf: 9it [00:00, 15.41it/s]INFO:92f23697-df2e-11ed-a336-841b77d62e9a.idf:Warming up {3}\n",
      "C:\\EnergyPlusV9-2-0\\energyplus.exe 9330a868-df2e-11ed-857e-841b77d62e9a.idf: 9it [00:00, 15.41it/s]INFO:9330a868-df2e-11ed-857e-841b77d62e9a.idf:Warming up {2}\n",
      "                                                              INFO:92f23697-df2e-11ed-a336-841b77d62e9a.idf:Warming up {4}\n",
      "C:\\EnergyPlusV9-2-0\\energyplus.exe 92f23697-df2e-11ed-a336-841b77d62e9a.idf: 12it [00:00, 18.89it/s]INFO:9330a868-df2e-11ed-857e-841b77d62e9a.idf:Warming up {3}\n",
      "INFO:92f23697-df2e-11ed-a336-841b77d62e9a.idf:Warming up {5}\n",
      "C:\\EnergyPlusV9-2-0\\energyplus.exe 9330a868-df2e-11ed-857e-841b77d62e9a.idf: 11it [00:00, 19.52it/s]INFO:9330a868-df2e-11ed-857e-841b77d62e9a.idf:Warming up {4}\n",
      "C:\\EnergyPlusV9-2-0\\energyplus.exe 9330a868-df2e-11ed-857e-841b77d62e9a.idf: 12it [00:00, 19.52it/s]"
     ]
    },
    {
     "name": "stdout",
     "output_type": "stream",
     "text": [
      "Warming up {2}\n",
      "Warming up {1}\n",
      "Warming up {3}\n",
      "Warming up {2}\n",
      "Warming up {4}\n",
      "Warming up {3}\n",
      "Warming up {5}\n",
      "Warming up {4}\n",
      "Warming up {6}\n"
     ]
    },
    {
     "name": "stderr",
     "output_type": "stream",
     "text": [
      "INFO:92f23697-df2e-11ed-a336-841b77d62e9a.idf:Warming up {6}\n",
      "C:\\EnergyPlusV9-2-0\\energyplus.exe 939ca3a2-df2e-11ed-b0f7-841b77d62e9a.idf: 0it [00:00, ?it/s]INFO:9330a868-df2e-11ed-857e-841b77d62e9a.idf:Warming up {5}\n",
      "C:\\EnergyPlusV9-2-0\\energyplus.exe 9330a868-df2e-11ed-857e-841b77d62e9a.idf: 13it [00:00, 19.52it/s]INFO:92f23697-df2e-11ed-a336-841b77d62e9a.idf:Starting Simulation at 01/01/2017 for RUN PERIOD 1\n",
      "                                                              INFO:9330a868-df2e-11ed-857e-841b77d62e9a.idf:Warming up {6}\n",
      "                                                                                                    "
     ]
    },
    {
     "name": "stdout",
     "output_type": "stream",
     "text": [
      "Warming up {5}\n",
      "Starting Simulation at 01/01/2017 for RUN PERIOD 1\n",
      "Warming up {6}\n"
     ]
    },
    {
     "name": "stderr",
     "output_type": "stream",
     "text": [
      "C:\\EnergyPlusV9-2-0\\energyplus.exe 9330a868-df2e-11ed-857e-841b77d62e9a.idf: 14it [00:00, 23.86it/s]INFO:939ca3a2-df2e-11ed-b0f7-841b77d62e9a.idf:Simulation started\n",
      "C:\\EnergyPlusV9-2-0\\energyplus.exe 9330a868-df2e-11ed-857e-841b77d62e9a.idf: 14it [00:00, 23.86it/s]INFO:92f23697-df2e-11ed-a336-841b77d62e9a.idf:Updating Shadowing Calculations, Start Date=01/21/2017\n",
      "C:\\EnergyPlusV9-2-0\\energyplus.exe 9330a868-df2e-11ed-857e-841b77d62e9a.idf: 14it [00:00, 23.86it/s]INFO:939ca3a2-df2e-11ed-b0f7-841b77d62e9a.idf:EnergyPlus Starting\n",
      "C:\\EnergyPlusV9-2-0\\energyplus.exe 92f23697-df2e-11ed-a336-841b77d62e9a.idf: 16it [00:00, 21.65it/s]INFO:9330a868-df2e-11ed-857e-841b77d62e9a.idf:Starting Simulation at 01/01/2017 for RUN PERIOD 1\n",
      "INFO:92f23697-df2e-11ed-a336-841b77d62e9a.idf:Continuing Simulation at 01/21/2017 for RUN PERIOD 1\n",
      "C:\\EnergyPlusV9-2-0\\energyplus.exe 9330a868-df2e-11ed-857e-841b77d62e9a.idf: 15it [00:00, 23.86it/s]INFO:9330a868-df2e-11ed-857e-841b77d62e9a.idf:Updating Shadowing Calculations, Start Date=01/21/2017\n",
      "C:\\EnergyPlusV9-2-0\\energyplus.exe 9330a868-df2e-11ed-857e-841b77d62e9a.idf: 16it [00:00, 22.27it/s]INFO:939ca3a2-df2e-11ed-b0f7-841b77d62e9a.idf:EnergyPlus, Version 9.2.0-921312fa1d, YMD=2023.04.19 20:51\n"
     ]
    },
    {
     "name": "stdout",
     "output_type": "stream",
     "text": [
      "Simulation started\n",
      "Updating Shadowing Calculations, Start Date=01/21/2017\n",
      "EnergyPlus Starting\n",
      "Starting Simulation at 01/01/2017 for RUN PERIOD 1\n",
      "Continuing Simulation at 01/21/2017 for RUN PERIOD 1\n",
      "Updating Shadowing Calculations, Start Date=01/21/2017\n",
      "EnergyPlus, Version 9.2.0-921312fa1d, YMD=2023.04.19 20:51\n"
     ]
    },
    {
     "name": "stderr",
     "output_type": "stream",
     "text": [
      "C:\\EnergyPlusV9-2-0\\energyplus.exe 9330a868-df2e-11ed-857e-841b77d62e9a.idf: 16it [00:00, 22.27it/s]INFO:92f23697-df2e-11ed-a336-841b77d62e9a.idf:Updating Shadowing Calculations, Start Date=02/10/2017\n",
      "C:\\EnergyPlusV9-2-0\\energyplus.exe 9330a868-df2e-11ed-857e-841b77d62e9a.idf: 16it [00:00, 22.27it/s]INFO:9330a868-df2e-11ed-857e-841b77d62e9a.idf:Continuing Simulation at 01/21/2017 for RUN PERIOD 1\n",
      "C:\\EnergyPlusV9-2-0\\energyplus.exe 92f23697-df2e-11ed-a336-841b77d62e9a.idf: 18it [00:01, 21.14it/s]"
     ]
    },
    {
     "name": "stdout",
     "output_type": "stream",
     "text": [
      "Updating Shadowing Calculations, Start Date=02/10/2017\n",
      "Continuing Simulation at 01/21/2017 for RUN PERIOD 1\n"
     ]
    },
    {
     "name": "stderr",
     "output_type": "stream",
     "text": [
      "C:\\EnergyPlusV9-2-0\\energyplus.exe 9330a868-df2e-11ed-857e-841b77d62e9a.idf: 17it [00:00, 22.27it/s]INFO:92f23697-df2e-11ed-a336-841b77d62e9a.idf:Continuing Simulation at 02/10/2017 for RUN PERIOD 1\n",
      "C:\\EnergyPlusV9-2-0\\energyplus.exe 93de73cc-df2e-11ed-b78e-841b77d62e9a.idf: 0it [00:00, ?it/s]INFO:9330a868-df2e-11ed-857e-841b77d62e9a.idf:Updating Shadowing Calculations, Start Date=02/10/2017\n",
      "C:\\EnergyPlusV9-2-0\\energyplus.exe 9330a868-df2e-11ed-857e-841b77d62e9a.idf: 18it [00:00, 22.27it/s]INFO:92f23697-df2e-11ed-a336-841b77d62e9a.idf:Updating Shadowing Calculations, Start Date=03/02/2017\n",
      "                                                              "
     ]
    },
    {
     "name": "stdout",
     "output_type": "stream",
     "text": [
      "Continuing Simulation at 02/10/2017 for RUN PERIOD 1\n",
      "Updating Shadowing Calculations, Start Date=02/10/2017\n",
      "Updating Shadowing Calculations, Start Date=03/02/2017\n"
     ]
    },
    {
     "name": "stderr",
     "output_type": "stream",
     "text": [
      "C:\\EnergyPlusV9-2-0\\energyplus.exe 9330a868-df2e-11ed-857e-841b77d62e9a.idf: 18it [00:00, 22.27it/s]INFO:9330a868-df2e-11ed-857e-841b77d62e9a.idf:Continuing Simulation at 02/10/2017 for RUN PERIOD 1\n",
      "                                                              INFO:93de73cc-df2e-11ed-b78e-841b77d62e9a.idf:Simulation started\n",
      "C:\\EnergyPlusV9-2-0\\energyplus.exe 9330a868-df2e-11ed-857e-841b77d62e9a.idf: 19it [00:00, 24.27it/s]INFO:92f23697-df2e-11ed-a336-841b77d62e9a.idf:Continuing Simulation at 03/02/2017 for RUN PERIOD 1\n",
      "C:\\EnergyPlusV9-2-0\\energyplus.exe 9330a868-df2e-11ed-857e-841b77d62e9a.idf: 19it [00:00, 24.27it/s]INFO:939ca3a2-df2e-11ed-b0f7-841b77d62e9a.idf:Adjusting Air System Sizing\n",
      "C:\\EnergyPlusV9-2-0\\energyplus.exe 92f23697-df2e-11ed-a336-841b77d62e9a.idf: 21it [00:01, 23.24it/s]INFO:93de73cc-df2e-11ed-b78e-841b77d62e9a.idf:EnergyPlus Starting\n",
      "                                                              INFO:9330a868-df2e-11ed-857e-841b77d62e9a.idf:Updating Shadowing Calculations, Start Date=03/02/2017\n",
      "C:\\EnergyPlusV9-2-0\\energyplus.exe 9330a868-df2e-11ed-857e-841b77d62e9a.idf: 20it [00:01, 24.27it/s]INFO:92f23697-df2e-11ed-a336-841b77d62e9a.idf:Updating Shadowing Calculations, Start Date=03/22/2017\n",
      "                                                              INFO:93de73cc-df2e-11ed-b78e-841b77d62e9a.idf:EnergyPlus, Version 9.2.0-921312fa1d, YMD=2023.04.19 20:51\n"
     ]
    },
    {
     "name": "stdout",
     "output_type": "stream",
     "text": [
      "Continuing Simulation at 02/10/2017 for RUN PERIOD 1\n",
      "Simulation started\n",
      "Continuing Simulation at 03/02/2017 for RUN PERIOD 1\n",
      "Adjusting Air System Sizing\n",
      "EnergyPlus Starting\n",
      "Updating Shadowing Calculations, Start Date=03/02/2017\n",
      "Updating Shadowing Calculations, Start Date=03/22/2017\n",
      "EnergyPlus, Version 9.2.0-921312fa1d, YMD=2023.04.19 20:51\n"
     ]
    },
    {
     "name": "stderr",
     "output_type": "stream",
     "text": [
      "INFO:939ca3a2-df2e-11ed-b0f7-841b77d62e9a.idf:Adjusting Standard 62.1 Ventilation Sizing\n"
     ]
    },
    {
     "name": "stdout",
     "output_type": "stream",
     "text": [
      "Adjusting Standard 62.1 Ventilation Sizing\n"
     ]
    },
    {
     "name": "stderr",
     "output_type": "stream",
     "text": [
      "C:\\EnergyPlusV9-2-0\\energyplus.exe 9330a868-df2e-11ed-857e-841b77d62e9a.idf: 20it [00:01, 24.27it/s]INFO:9330a868-df2e-11ed-857e-841b77d62e9a.idf:Continuing Simulation at 03/02/2017 for RUN PERIOD 1\n",
      "C:\\EnergyPlusV9-2-0\\energyplus.exe 93de73cc-df2e-11ed-b78e-841b77d62e9a.idf: 2it [00:00, 14.24it/s]INFO:92f23697-df2e-11ed-a336-841b77d62e9a.idf:Continuing Simulation at 03/22/2017 for RUN PERIOD 1\n",
      "C:\\EnergyPlusV9-2-0\\energyplus.exe 9330a868-df2e-11ed-857e-841b77d62e9a.idf: 21it [00:01, 20.87it/s]INFO:939ca3a2-df2e-11ed-b0f7-841b77d62e9a.idf:Initializing Simulation\n"
     ]
    },
    {
     "name": "stdout",
     "output_type": "stream",
     "text": [
      "Continuing Simulation at 03/02/2017 for RUN PERIOD 1\n",
      "Continuing Simulation at 03/22/2017 for RUN PERIOD 1\n",
      "Initializing Simulation\n"
     ]
    },
    {
     "name": "stderr",
     "output_type": "stream",
     "text": [
      "C:\\EnergyPlusV9-2-0\\energyplus.exe 9330a868-df2e-11ed-857e-841b77d62e9a.idf: 21it [00:01, 20.87it/s]INFO:9330a868-df2e-11ed-857e-841b77d62e9a.idf:Updating Shadowing Calculations, Start Date=03/22/2017\n",
      "C:\\EnergyPlusV9-2-0\\energyplus.exe 939ca3a2-df2e-11ed-b0f7-841b77d62e9a.idf: 5it [00:00, 12.32it/s]INFO:92f23697-df2e-11ed-a336-841b77d62e9a.idf:Updating Shadowing Calculations, Start Date=04/11/2017\n",
      "C:\\EnergyPlusV9-2-0\\energyplus.exe 9330a868-df2e-11ed-857e-841b77d62e9a.idf: 22it [00:01, 20.87it/s]INFO:9330a868-df2e-11ed-857e-841b77d62e9a.idf:Continuing Simulation at 03/22/2017 for RUN PERIOD 1\n",
      "C:\\EnergyPlusV9-2-0\\energyplus.exe 9330a868-df2e-11ed-857e-841b77d62e9a.idf: 23it [00:01, 20.87it/s]INFO:92f23697-df2e-11ed-a336-841b77d62e9a.idf:Continuing Simulation at 04/11/2017 for RUN PERIOD 1\n",
      "C:\\EnergyPlusV9-2-0\\energyplus.exe 9330a868-df2e-11ed-857e-841b77d62e9a.idf: 23it [00:01, 20.87it/s]INFO:939ca3a2-df2e-11ed-b0f7-841b77d62e9a.idf:Reporting Surfaces\n",
      "C:\\EnergyPlusV9-2-0\\energyplus.exe 9330a868-df2e-11ed-857e-841b77d62e9a.idf: 23it [00:01, 20.87it/s]INFO:9330a868-df2e-11ed-857e-841b77d62e9a.idf:Updating Shadowing Calculations, Start Date=04/11/2017\n",
      "C:\\EnergyPlusV9-2-0\\energyplus.exe 9330a868-df2e-11ed-857e-841b77d62e9a.idf: 24it [00:01, 21.71it/s]INFO:92f23697-df2e-11ed-a336-841b77d62e9a.idf:Updating Shadowing Calculations, Start Date=05/01/2017\n",
      "C:\\EnergyPlusV9-2-0\\energyplus.exe 9330a868-df2e-11ed-857e-841b77d62e9a.idf: 24it [00:01, 21.71it/s]INFO:93de73cc-df2e-11ed-b78e-841b77d62e9a.idf:Adjusting Air System Sizing\n"
     ]
    },
    {
     "name": "stdout",
     "output_type": "stream",
     "text": [
      "Updating Shadowing Calculations, Start Date=03/22/2017\n",
      "Updating Shadowing Calculations, Start Date=04/11/2017\n",
      "Continuing Simulation at 03/22/2017 for RUN PERIOD 1\n",
      "Continuing Simulation at 04/11/2017 for RUN PERIOD 1\n",
      "Reporting Surfaces\n",
      "Updating Shadowing Calculations, Start Date=04/11/2017\n",
      "Updating Shadowing Calculations, Start Date=05/01/2017\n",
      "Adjusting Air System Sizing\n"
     ]
    },
    {
     "name": "stderr",
     "output_type": "stream",
     "text": [
      "C:\\EnergyPlusV9-2-0\\energyplus.exe 9330a868-df2e-11ed-857e-841b77d62e9a.idf: 24it [00:01, 21.71it/s]INFO:939ca3a2-df2e-11ed-b0f7-841b77d62e9a.idf:Beginning Primary Simulation\n",
      "                                                              "
     ]
    },
    {
     "name": "stdout",
     "output_type": "stream",
     "text": [
      "Beginning Primary Simulation\n"
     ]
    },
    {
     "name": "stderr",
     "output_type": "stream",
     "text": [
      "                                                              INFO:9330a868-df2e-11ed-857e-841b77d62e9a.idf:Continuing Simulation at 04/11/2017 for RUN PERIOD 1\n",
      "C:\\EnergyPlusV9-2-0\\energyplus.exe 939ca3a2-df2e-11ed-b0f7-841b77d62e9a.idf: 7it [00:00, 13.06it/s]INFO:92f23697-df2e-11ed-a336-841b77d62e9a.idf:Continuing Simulation at 05/01/2017 for RUN PERIOD 1\n",
      "C:\\EnergyPlusV9-2-0\\energyplus.exe 9330a868-df2e-11ed-857e-841b77d62e9a.idf: 25it [00:01, 21.71it/s]INFO:93de73cc-df2e-11ed-b78e-841b77d62e9a.idf:Adjusting Standard 62.1 Ventilation Sizing\n"
     ]
    },
    {
     "name": "stdout",
     "output_type": "stream",
     "text": [
      "Continuing Simulation at 04/11/2017 for RUN PERIOD 1\n",
      "Continuing Simulation at 05/01/2017 for RUN PERIOD 1\n",
      "Adjusting Standard 62.1 Ventilation Sizing\n"
     ]
    },
    {
     "name": "stderr",
     "output_type": "stream",
     "text": [
      "C:\\EnergyPlusV9-2-0\\energyplus.exe 9330a868-df2e-11ed-857e-841b77d62e9a.idf: 25it [00:01, 21.71it/s]INFO:9330a868-df2e-11ed-857e-841b77d62e9a.idf:Updating Shadowing Calculations, Start Date=05/01/2017\n",
      "                                                              INFO:939ca3a2-df2e-11ed-b0f7-841b77d62e9a.idf:Initializing New Environment Parameters\n",
      "                                                              INFO:92f23697-df2e-11ed-a336-841b77d62e9a.idf:Updating Shadowing Calculations, Start Date=05/21/2017\n",
      "C:\\EnergyPlusV9-2-0\\energyplus.exe 9330a868-df2e-11ed-857e-841b77d62e9a.idf: 26it [00:01, 20.93it/s]INFO:93de73cc-df2e-11ed-b78e-841b77d62e9a.idf:Initializing Simulation\n",
      "C:\\EnergyPlusV9-2-0\\energyplus.exe 92f23697-df2e-11ed-a336-841b77d62e9a.idf: 28it [00:01, 20.37it/s]INFO:939ca3a2-df2e-11ed-b0f7-841b77d62e9a.idf:Warming up {1}\n",
      "C:\\EnergyPlusV9-2-0\\energyplus.exe 9330a868-df2e-11ed-857e-841b77d62e9a.idf: 26it [00:01, 20.93it/s]INFO:9330a868-df2e-11ed-857e-841b77d62e9a.idf:Continuing Simulation at 05/01/2017 for RUN PERIOD 1\n",
      "C:\\EnergyPlusV9-2-0\\energyplus.exe 939ca3a2-df2e-11ed-b0f7-841b77d62e9a.idf: 9it [00:00, 14.22it/s]INFO:92f23697-df2e-11ed-a336-841b77d62e9a.idf:Continuing Simulation at 05/21/2017 for RUN PERIOD 1\n",
      "C:\\EnergyPlusV9-2-0\\energyplus.exe 9330a868-df2e-11ed-857e-841b77d62e9a.idf: 27it [00:01, 20.93it/s]INFO:93de73cc-df2e-11ed-b78e-841b77d62e9a.idf:Reporting Surfaces\n"
     ]
    },
    {
     "name": "stdout",
     "output_type": "stream",
     "text": [
      "Updating Shadowing Calculations, Start Date=05/01/2017\n",
      "Initializing New Environment Parameters\n",
      "Updating Shadowing Calculations, Start Date=05/21/2017\n",
      "Initializing Simulation\n",
      "Warming up {1}\n",
      "Continuing Simulation at 05/01/2017 for RUN PERIOD 1\n",
      "Continuing Simulation at 05/21/2017 for RUN PERIOD 1\n",
      "Reporting Surfaces\n"
     ]
    },
    {
     "name": "stderr",
     "output_type": "stream",
     "text": [
      "C:\\EnergyPlusV9-2-0\\energyplus.exe 9330a868-df2e-11ed-857e-841b77d62e9a.idf: 27it [00:01, 20.93it/s]INFO:9330a868-df2e-11ed-857e-841b77d62e9a.idf:Updating Shadowing Calculations, Start Date=05/21/2017\n"
     ]
    },
    {
     "name": "stdout",
     "output_type": "stream",
     "text": [
      "Updating Shadowing Calculations, Start Date=05/21/2017\n"
     ]
    },
    {
     "name": "stderr",
     "output_type": "stream",
     "text": [
      "C:\\EnergyPlusV9-2-0\\energyplus.exe 9330a868-df2e-11ed-857e-841b77d62e9a.idf: 28it [00:01, 19.24it/s]INFO:939ca3a2-df2e-11ed-b0f7-841b77d62e9a.idf:Warming up {2}\n",
      "C:\\EnergyPlusV9-2-0\\energyplus.exe 9330a868-df2e-11ed-857e-841b77d62e9a.idf: 28it [00:01, 19.24it/s]INFO:92f23697-df2e-11ed-a336-841b77d62e9a.idf:Updating Shadowing Calculations, Start Date=06/10/2017\n",
      "C:\\EnergyPlusV9-2-0\\energyplus.exe 9330a868-df2e-11ed-857e-841b77d62e9a.idf: 28it [00:01, 19.24it/s]"
     ]
    },
    {
     "name": "stdout",
     "output_type": "stream",
     "text": [
      "Warming up {2}\n",
      "Updating Shadowing Calculations, Start Date=06/10/2017\n",
      "Beginning Primary Simulation\n"
     ]
    },
    {
     "name": "stderr",
     "output_type": "stream",
     "text": [
      "INFO:93de73cc-df2e-11ed-b78e-841b77d62e9a.idf:Beginning Primary Simulation\n",
      "C:\\EnergyPlusV9-2-0\\energyplus.exe 92f23697-df2e-11ed-a336-841b77d62e9a.idf: 30it [00:01, 18.70it/s]INFO:939ca3a2-df2e-11ed-b0f7-841b77d62e9a.idf:Warming up {3}\n",
      "C:\\EnergyPlusV9-2-0\\energyplus.exe 93de73cc-df2e-11ed-b78e-841b77d62e9a.idf: 7it [00:00, 12.74it/s]INFO:9330a868-df2e-11ed-857e-841b77d62e9a.idf:Continuing Simulation at 05/21/2017 for RUN PERIOD 1\n",
      "C:\\EnergyPlusV9-2-0\\energyplus.exe 9330a868-df2e-11ed-857e-841b77d62e9a.idf: 29it [00:01, 19.24it/s]INFO:92f23697-df2e-11ed-a336-841b77d62e9a.idf:Continuing Simulation at 06/10/2017 for RUN PERIOD 1\n",
      "                                                              INFO:9330a868-df2e-11ed-857e-841b77d62e9a.idf:Updating Shadowing Calculations, Start Date=06/10/2017\n",
      "                                                              INFO:93de73cc-df2e-11ed-b78e-841b77d62e9a.idf:Initializing New Environment Parameters\n",
      "C:\\EnergyPlusV9-2-0\\energyplus.exe 9330a868-df2e-11ed-857e-841b77d62e9a.idf: 30it [00:01, 18.62it/s]INFO:92f23697-df2e-11ed-a336-841b77d62e9a.idf:Updating Shadowing Calculations, Start Date=06/30/2017\n",
      "C:\\EnergyPlusV9-2-0\\energyplus.exe 9330a868-df2e-11ed-857e-841b77d62e9a.idf: 30it [00:01, 18.62it/s]INFO:939ca3a2-df2e-11ed-b0f7-841b77d62e9a.idf:Warming up {4}\n",
      "C:\\EnergyPlusV9-2-0\\energyplus.exe 92f23697-df2e-11ed-a336-841b77d62e9a.idf: 32it [00:01, 18.47it/s]"
     ]
    },
    {
     "name": "stdout",
     "output_type": "stream",
     "text": [
      "Warming up {3}\n",
      "Continuing Simulation at 05/21/2017 for RUN PERIOD 1\n",
      "Continuing Simulation at 06/10/2017 for RUN PERIOD 1\n",
      "Updating Shadowing Calculations, Start Date=06/10/2017\n",
      "Initializing New Environment Parameters\n",
      "Updating Shadowing Calculations, Start Date=06/30/2017\n",
      "Warming up {4}\n",
      "Warming up {1}\n"
     ]
    },
    {
     "name": "stderr",
     "output_type": "stream",
     "text": [
      "INFO:93de73cc-df2e-11ed-b78e-841b77d62e9a.idf:Warming up {1}\n",
      "C:\\EnergyPlusV9-2-0\\energyplus.exe 9330a868-df2e-11ed-857e-841b77d62e9a.idf: 30it [00:01, 18.62it/s]"
     ]
    },
    {
     "name": "stdout",
     "output_type": "stream",
     "text": [
      "Continuing Simulation at 06/10/2017 for RUN PERIOD 1\n"
     ]
    },
    {
     "name": "stderr",
     "output_type": "stream",
     "text": [
      "INFO:9330a868-df2e-11ed-857e-841b77d62e9a.idf:Continuing Simulation at 06/10/2017 for RUN PERIOD 1\n",
      "C:\\EnergyPlusV9-2-0\\energyplus.exe 9330a868-df2e-11ed-857e-841b77d62e9a.idf: 31it [00:01, 18.62it/s]INFO:939ca3a2-df2e-11ed-b0f7-841b77d62e9a.idf:Warming up {5}\n",
      "C:\\EnergyPlusV9-2-0\\energyplus.exe 93de73cc-df2e-11ed-b78e-841b77d62e9a.idf: 9it [00:00, 13.87it/s]INFO:92f23697-df2e-11ed-a336-841b77d62e9a.idf:Continuing Simulation at 06/30/2017 for RUN PERIOD 1\n",
      "C:\\EnergyPlusV9-2-0\\energyplus.exe 939ca3a2-df2e-11ed-b0f7-841b77d62e9a.idf: 13it [00:00, 14.43it/s]INFO:9330a868-df2e-11ed-857e-841b77d62e9a.idf:Updating Shadowing Calculations, Start Date=06/30/2017\n",
      "                                                              "
     ]
    },
    {
     "name": "stdout",
     "output_type": "stream",
     "text": [
      "Warming up {5}\n",
      "Continuing Simulation at 06/30/2017 for RUN PERIOD 1\n",
      "Updating Shadowing Calculations, Start Date=06/30/2017\n"
     ]
    },
    {
     "name": "stderr",
     "output_type": "stream",
     "text": [
      "C:\\EnergyPlusV9-2-0\\energyplus.exe 9330a868-df2e-11ed-857e-841b77d62e9a.idf: 32it [00:01, 18.05it/s]INFO:93de73cc-df2e-11ed-b78e-841b77d62e9a.idf:Warming up {2}\n",
      "C:\\EnergyPlusV9-2-0\\energyplus.exe 9330a868-df2e-11ed-857e-841b77d62e9a.idf: 32it [00:01, 18.05it/s]INFO:92f23697-df2e-11ed-a336-841b77d62e9a.idf:Updating Shadowing Calculations, Start Date=07/20/2017\n",
      "C:\\EnergyPlusV9-2-0\\energyplus.exe 9330a868-df2e-11ed-857e-841b77d62e9a.idf: 32it [00:01, 18.05it/s]INFO:939ca3a2-df2e-11ed-b0f7-841b77d62e9a.idf:Warming up {6}\n",
      "C:\\EnergyPlusV9-2-0\\energyplus.exe 92f23697-df2e-11ed-a336-841b77d62e9a.idf: 34it [00:01, 17.72it/s]INFO:93de73cc-df2e-11ed-b78e-841b77d62e9a.idf:Warming up {3}\n",
      "                                                              INFO:9330a868-df2e-11ed-857e-841b77d62e9a.idf:Continuing Simulation at 06/30/2017 for RUN PERIOD 1\n",
      "                                                              INFO:939ca3a2-df2e-11ed-b0f7-841b77d62e9a.idf:Starting Simulation at 01/01/2017 for RUN PERIOD 1\n",
      "C:\\EnergyPlusV9-2-0\\energyplus.exe 93de73cc-df2e-11ed-b78e-841b77d62e9a.idf: 11it [00:00, 14.44it/s]INFO:92f23697-df2e-11ed-a336-841b77d62e9a.idf:Continuing Simulation at 07/20/2017 for RUN PERIOD 1\n",
      "C:\\EnergyPlusV9-2-0\\energyplus.exe 939ca3a2-df2e-11ed-b0f7-841b77d62e9a.idf: 15it [00:01, 14.69it/s]INFO:9330a868-df2e-11ed-857e-841b77d62e9a.idf:Updating Shadowing Calculations, Start Date=07/20/2017\n"
     ]
    },
    {
     "name": "stdout",
     "output_type": "stream",
     "text": [
      "Warming up {2}\n",
      "Updating Shadowing Calculations, Start Date=07/20/2017\n",
      "Warming up {6}\n",
      "Warming up {3}\n",
      "Continuing Simulation at 06/30/2017 for RUN PERIOD 1\n",
      "Starting Simulation at 01/01/2017 for RUN PERIOD 1\n",
      "Continuing Simulation at 07/20/2017 for RUN PERIOD 1\n",
      "Updating Shadowing Calculations, Start Date=07/20/2017\n"
     ]
    },
    {
     "name": "stderr",
     "output_type": "stream",
     "text": [
      "C:\\EnergyPlusV9-2-0\\energyplus.exe 93de73cc-df2e-11ed-b78e-841b77d62e9a.idf: 11it [00:00, 14.44it/s]"
     ]
    },
    {
     "name": "stdout",
     "output_type": "stream",
     "text": [
      "Warming up {4}\n"
     ]
    },
    {
     "name": "stderr",
     "output_type": "stream",
     "text": [
      "C:\\EnergyPlusV9-2-0\\energyplus.exe 9330a868-df2e-11ed-857e-841b77d62e9a.idf: 34it [00:01, 17.34it/s]INFO:93de73cc-df2e-11ed-b78e-841b77d62e9a.idf:Warming up {4}\n",
      "C:\\EnergyPlusV9-2-0\\energyplus.exe 9330a868-df2e-11ed-857e-841b77d62e9a.idf: 34it [00:01, 17.34it/s]INFO:92f23697-df2e-11ed-a336-841b77d62e9a.idf:Updating Shadowing Calculations, Start Date=08/09/2017\n",
      "C:\\EnergyPlusV9-2-0\\energyplus.exe 9330a868-df2e-11ed-857e-841b77d62e9a.idf: 34it [00:01, 17.34it/s]INFO:939ca3a2-df2e-11ed-b0f7-841b77d62e9a.idf:Updating Shadowing Calculations, Start Date=01/21/2017\n",
      "C:\\EnergyPlusV9-2-0\\energyplus.exe 92f23697-df2e-11ed-a336-841b77d62e9a.idf: 36it [00:02, 17.17it/s]INFO:93de73cc-df2e-11ed-b78e-841b77d62e9a.idf:Warming up {5}\n"
     ]
    },
    {
     "name": "stdout",
     "output_type": "stream",
     "text": [
      "Updating Shadowing Calculations, Start Date=08/09/2017\n",
      "Updating Shadowing Calculations, Start Date=01/21/2017\n",
      "Warming up {5}\n"
     ]
    },
    {
     "name": "stderr",
     "output_type": "stream",
     "text": [
      "                                                              INFO:9330a868-df2e-11ed-857e-841b77d62e9a.idf:Continuing Simulation at 07/20/2017 for RUN PERIOD 1\n",
      "C:\\EnergyPlusV9-2-0\\energyplus.exe 9330a868-df2e-11ed-857e-841b77d62e9a.idf: 35it [00:01, 17.34it/s]INFO:939ca3a2-df2e-11ed-b0f7-841b77d62e9a.idf:Continuing Simulation at 01/21/2017 for RUN PERIOD 1\n",
      "C:\\EnergyPlusV9-2-0\\energyplus.exe 93de73cc-df2e-11ed-b78e-841b77d62e9a.idf: 13it [00:00, 15.04it/s]INFO:92f23697-df2e-11ed-a336-841b77d62e9a.idf:Continuing Simulation at 08/09/2017 for RUN PERIOD 1\n",
      "C:\\EnergyPlusV9-2-0\\energyplus.exe 9330a868-df2e-11ed-857e-841b77d62e9a.idf: 35it [00:01, 17.34it/s]INFO:9330a868-df2e-11ed-857e-841b77d62e9a.idf:Updating Shadowing Calculations, Start Date=08/09/2017\n",
      "C:\\EnergyPlusV9-2-0\\energyplus.exe 9330a868-df2e-11ed-857e-841b77d62e9a.idf: 36it [00:01, 17.03it/s]INFO:93de73cc-df2e-11ed-b78e-841b77d62e9a.idf:Warming up {6}\n",
      "C:\\EnergyPlusV9-2-0\\energyplus.exe 9330a868-df2e-11ed-857e-841b77d62e9a.idf: 36it [00:01, 17.03it/s]INFO:92f23697-df2e-11ed-a336-841b77d62e9a.idf:Updating Shadowing Calculations, Start Date=08/29/2017\n",
      "C:\\EnergyPlusV9-2-0\\energyplus.exe 9330a868-df2e-11ed-857e-841b77d62e9a.idf: 36it [00:01, 17.03it/s]INFO:939ca3a2-df2e-11ed-b0f7-841b77d62e9a.idf:Updating Shadowing Calculations, Start Date=02/10/2017\n",
      "                                                              INFO:93de73cc-df2e-11ed-b78e-841b77d62e9a.idf:Starting Simulation at 01/01/2017 for RUN PERIOD 1\n"
     ]
    },
    {
     "name": "stdout",
     "output_type": "stream",
     "text": [
      "Continuing Simulation at 07/20/2017 for RUN PERIOD 1\n",
      "Continuing Simulation at 01/21/2017 for RUN PERIOD 1\n",
      "Continuing Simulation at 08/09/2017 for RUN PERIOD 1\n",
      "Updating Shadowing Calculations, Start Date=08/09/2017\n",
      "Warming up {6}\n",
      "Updating Shadowing Calculations, Start Date=08/29/2017\n",
      "Updating Shadowing Calculations, Start Date=02/10/2017\n",
      "Starting Simulation at 01/01/2017 for RUN PERIOD 1\n"
     ]
    },
    {
     "name": "stderr",
     "output_type": "stream",
     "text": [
      "C:\\EnergyPlusV9-2-0\\energyplus.exe 92f23697-df2e-11ed-a336-841b77d62e9a.idf: 38it [00:02, 17.06it/s]INFO:9330a868-df2e-11ed-857e-841b77d62e9a.idf:Continuing Simulation at 08/09/2017 for RUN PERIOD 1\n"
     ]
    },
    {
     "name": "stdout",
     "output_type": "stream",
     "text": [
      "Continuing Simulation at 08/09/2017 for RUN PERIOD 1\n"
     ]
    },
    {
     "name": "stderr",
     "output_type": "stream",
     "text": [
      "C:\\EnergyPlusV9-2-0\\energyplus.exe 93de73cc-df2e-11ed-b78e-841b77d62e9a.idf: 15it [00:01, 15.66it/s]INFO:939ca3a2-df2e-11ed-b0f7-841b77d62e9a.idf:Continuing Simulation at 02/10/2017 for RUN PERIOD 1\n",
      "C:\\EnergyPlusV9-2-0\\energyplus.exe 9330a868-df2e-11ed-857e-841b77d62e9a.idf: 37it [00:01, 17.03it/s]INFO:92f23697-df2e-11ed-a336-841b77d62e9a.idf:Continuing Simulation at 08/29/2017 for RUN PERIOD 1\n",
      "C:\\EnergyPlusV9-2-0\\energyplus.exe 9330a868-df2e-11ed-857e-841b77d62e9a.idf: 37it [00:02, 17.03it/s]INFO:9330a868-df2e-11ed-857e-841b77d62e9a.idf:Updating Shadowing Calculations, Start Date=08/29/2017\n",
      "simulate:  25%|██▌       | 5.00/20.0 [00:17<00:21, 1.42s/runs]"
     ]
    },
    {
     "name": "stdout",
     "output_type": "stream",
     "text": [
      "Continuing Simulation at 02/10/2017 for RUN PERIOD 1\n",
      "Continuing Simulation at 08/29/2017 for RUN PERIOD 1\n",
      "Updating Shadowing Calculations, Start Date=08/29/2017\n",
      "Updating Shadowing Calculations, Start Date=01/21/2017\n"
     ]
    },
    {
     "name": "stderr",
     "output_type": "stream",
     "text": [
      "C:\\EnergyPlusV9-2-0\\energyplus.exe 939ca3a2-df2e-11ed-b0f7-841b77d62e9a.idf: 19it [00:01, 15.82it/s]INFO:93de73cc-df2e-11ed-b78e-841b77d62e9a.idf:Updating Shadowing Calculations, Start Date=01/21/2017\n",
      "C:\\EnergyPlusV9-2-0\\energyplus.exe 9330a868-df2e-11ed-857e-841b77d62e9a.idf: 38it [00:02, 17.18it/s]INFO:92f23697-df2e-11ed-a336-841b77d62e9a.idf:Updating Shadowing Calculations, Start Date=09/18/2017\n",
      "C:\\EnergyPlusV9-2-0\\energyplus.exe 9330a868-df2e-11ed-857e-841b77d62e9a.idf: 38it [00:02, 17.18it/s]INFO:939ca3a2-df2e-11ed-b0f7-841b77d62e9a.idf:Updating Shadowing Calculations, Start Date=03/02/2017\n",
      "C:\\EnergyPlusV9-2-0\\energyplus.exe 9330a868-df2e-11ed-857e-841b77d62e9a.idf: 38it [00:02, 17.18it/s]INFO:93de73cc-df2e-11ed-b78e-841b77d62e9a.idf:Continuing Simulation at 01/21/2017 for RUN PERIOD 1\n",
      "C:\\EnergyPlusV9-2-0\\energyplus.exe 92f23697-df2e-11ed-a336-841b77d62e9a.idf: 40it [00:02, 17.06it/s]INFO:9330a868-df2e-11ed-857e-841b77d62e9a.idf:Continuing Simulation at 08/29/2017 for RUN PERIOD 1\n",
      "C:\\EnergyPlusV9-2-0\\energyplus.exe 9330a868-df2e-11ed-857e-841b77d62e9a.idf: 39it [00:02, 17.18it/s]INFO:939ca3a2-df2e-11ed-b0f7-841b77d62e9a.idf:Continuing Simulation at 03/02/2017 for RUN PERIOD 1\n",
      "                                                              INFO:9330a868-df2e-11ed-857e-841b77d62e9a.idf:Updating Shadowing Calculations, Start Date=09/18/2017\n",
      "C:\\EnergyPlusV9-2-0\\energyplus.exe 9330a868-df2e-11ed-857e-841b77d62e9a.idf: 40it [00:02, 17.71it/s]INFO:92f23697-df2e-11ed-a336-841b77d62e9a.idf:Continuing Simulation at 09/18/2017 for RUN PERIOD 1\n",
      "C:\\EnergyPlusV9-2-0\\energyplus.exe 939ca3a2-df2e-11ed-b0f7-841b77d62e9a.idf: 21it [00:01, 16.17it/s]INFO:93de73cc-df2e-11ed-b78e-841b77d62e9a.idf:Updating Shadowing Calculations, Start Date=02/10/2017\n"
     ]
    },
    {
     "name": "stdout",
     "output_type": "stream",
     "text": [
      "Updating Shadowing Calculations, Start Date=09/18/2017\n",
      "Updating Shadowing Calculations, Start Date=03/02/2017\n",
      "Continuing Simulation at 01/21/2017 for RUN PERIOD 1\n",
      "Continuing Simulation at 08/29/2017 for RUN PERIOD 1\n",
      "Continuing Simulation at 03/02/2017 for RUN PERIOD 1\n",
      "Updating Shadowing Calculations, Start Date=09/18/2017\n",
      "Continuing Simulation at 09/18/2017 for RUN PERIOD 1\n",
      "Updating Shadowing Calculations, Start Date=02/10/2017\n"
     ]
    },
    {
     "name": "stderr",
     "output_type": "stream",
     "text": [
      "C:\\EnergyPlusV9-2-0\\energyplus.exe 9330a868-df2e-11ed-857e-841b77d62e9a.idf: 40it [00:02, 17.71it/s]INFO:92f23697-df2e-11ed-a336-841b77d62e9a.idf:Updating Shadowing Calculations, Start Date=10/08/2017\n"
     ]
    },
    {
     "name": "stdout",
     "output_type": "stream",
     "text": [
      "Updating Shadowing Calculations, Start Date=10/08/2017\n"
     ]
    },
    {
     "name": "stderr",
     "output_type": "stream",
     "text": [
      "                                                              INFO:939ca3a2-df2e-11ed-b0f7-841b77d62e9a.idf:Updating Shadowing Calculations, Start Date=03/22/2017\n",
      "C:\\EnergyPlusV9-2-0\\energyplus.exe 9330a868-df2e-11ed-857e-841b77d62e9a.idf: 40it [00:02, 17.71it/s]INFO:93de73cc-df2e-11ed-b78e-841b77d62e9a.idf:Continuing Simulation at 02/10/2017 for RUN PERIOD 1\n",
      "C:\\EnergyPlusV9-2-0\\energyplus.exe 92f23697-df2e-11ed-a336-841b77d62e9a.idf: 42it [00:02, 17.00it/s]INFO:9330a868-df2e-11ed-857e-841b77d62e9a.idf:Continuing Simulation at 09/18/2017 for RUN PERIOD 1\n"
     ]
    },
    {
     "name": "stdout",
     "output_type": "stream",
     "text": [
      "Updating Shadowing Calculations, Start Date=03/22/2017\n",
      "Continuing Simulation at 02/10/2017 for RUN PERIOD 1\n",
      "Continuing Simulation at 09/18/2017 for RUN PERIOD 1\n"
     ]
    },
    {
     "name": "stderr",
     "output_type": "stream",
     "text": [
      "C:\\EnergyPlusV9-2-0\\energyplus.exe 9330a868-df2e-11ed-857e-841b77d62e9a.idf: 41it [00:02, 17.71it/s]INFO:939ca3a2-df2e-11ed-b0f7-841b77d62e9a.idf:Continuing Simulation at 03/22/2017 for RUN PERIOD 1\n",
      "C:\\EnergyPlusV9-2-0\\energyplus.exe 9330a868-df2e-11ed-857e-841b77d62e9a.idf: 41it [00:02, 17.71it/s]INFO:92f23697-df2e-11ed-a336-841b77d62e9a.idf:Continuing Simulation at 10/08/2017 for RUN PERIOD 1\n",
      "C:\\EnergyPlusV9-2-0\\energyplus.exe 939ca3a2-df2e-11ed-b0f7-841b77d62e9a.idf: 23it [00:01, 16.09it/s]INFO:9330a868-df2e-11ed-857e-841b77d62e9a.idf:Updating Shadowing Calculations, Start Date=10/08/2017\n",
      "                                                              INFO:93de73cc-df2e-11ed-b78e-841b77d62e9a.idf:Updating Shadowing Calculations, Start Date=03/02/2017\n",
      "C:\\EnergyPlusV9-2-0\\energyplus.exe 9330a868-df2e-11ed-857e-841b77d62e9a.idf: 42it [00:02, 16.48it/s]INFO:92f23697-df2e-11ed-a336-841b77d62e9a.idf:Updating Shadowing Calculations, Start Date=10/28/2017\n",
      "C:\\EnergyPlusV9-2-0\\energyplus.exe 9330a868-df2e-11ed-857e-841b77d62e9a.idf: 42it [00:02, 16.48it/s]INFO:939ca3a2-df2e-11ed-b0f7-841b77d62e9a.idf:Updating Shadowing Calculations, Start Date=04/11/2017\n",
      "C:\\EnergyPlusV9-2-0\\energyplus.exe 92f23697-df2e-11ed-a336-841b77d62e9a.idf: 44it [00:02, 16.62it/s]INFO:93de73cc-df2e-11ed-b78e-841b77d62e9a.idf:Continuing Simulation at 03/02/2017 for RUN PERIOD 1\n",
      "C:\\EnergyPlusV9-2-0\\energyplus.exe 92f23697-df2e-11ed-a336-841b77d62e9a.idf: 44it [00:02, 16.62it/s]"
     ]
    },
    {
     "name": "stdout",
     "output_type": "stream",
     "text": [
      "Continuing Simulation at 03/22/2017 for RUN PERIOD 1\n",
      "Continuing Simulation at 10/08/2017 for RUN PERIOD 1\n",
      "Updating Shadowing Calculations, Start Date=10/08/2017\n",
      "Updating Shadowing Calculations, Start Date=03/02/2017\n",
      "Updating Shadowing Calculations, Start Date=10/28/2017\n",
      "Updating Shadowing Calculations, Start Date=04/11/2017\n",
      "Continuing Simulation at 03/02/2017 for RUN PERIOD 1\n",
      "Continuing Simulation at 10/08/2017 for RUN PERIOD 1\n"
     ]
    },
    {
     "name": "stderr",
     "output_type": "stream",
     "text": [
      "C:\\EnergyPlusV9-2-0\\energyplus.exe 9330a868-df2e-11ed-857e-841b77d62e9a.idf: 42it [00:02, 16.48it/s]INFO:9330a868-df2e-11ed-857e-841b77d62e9a.idf:Continuing Simulation at 10/08/2017 for RUN PERIOD 1\n",
      "C:\\EnergyPlusV9-2-0\\energyplus.exe 9330a868-df2e-11ed-857e-841b77d62e9a.idf: 43it [00:02, 16.48it/s]"
     ]
    },
    {
     "name": "stdout",
     "output_type": "stream",
     "text": [
      "Continuing Simulation at 04/11/2017 for RUN PERIOD 1\n"
     ]
    },
    {
     "name": "stderr",
     "output_type": "stream",
     "text": [
      "C:\\EnergyPlusV9-2-0\\energyplus.exe 93de73cc-df2e-11ed-b78e-841b77d62e9a.idf: 21it [00:01, 15.94it/s]INFO:939ca3a2-df2e-11ed-b0f7-841b77d62e9a.idf:Continuing Simulation at 04/11/2017 for RUN PERIOD 1\n",
      "                                                              INFO:92f23697-df2e-11ed-a336-841b77d62e9a.idf:Continuing Simulation at 10/28/2017 for RUN PERIOD 1\n",
      "C:\\EnergyPlusV9-2-0\\energyplus.exe 9330a868-df2e-11ed-857e-841b77d62e9a.idf: 43it [00:02, 16.48it/s]INFO:9330a868-df2e-11ed-857e-841b77d62e9a.idf:Updating Shadowing Calculations, Start Date=10/28/2017\n",
      "C:\\EnergyPlusV9-2-0\\energyplus.exe 939ca3a2-df2e-11ed-b0f7-841b77d62e9a.idf: 25it [00:01, 15.88it/s]INFO:93de73cc-df2e-11ed-b78e-841b77d62e9a.idf:Updating Shadowing Calculations, Start Date=03/22/2017\n"
     ]
    },
    {
     "name": "stdout",
     "output_type": "stream",
     "text": [
      "Continuing Simulation at 10/28/2017 for RUN PERIOD 1\n",
      "Updating Shadowing Calculations, Start Date=10/28/2017\n",
      "Updating Shadowing Calculations, Start Date=03/22/2017\n"
     ]
    },
    {
     "name": "stderr",
     "output_type": "stream",
     "text": [
      "C:\\EnergyPlusV9-2-0\\energyplus.exe 9330a868-df2e-11ed-857e-841b77d62e9a.idf: 44it [00:02, 16.39it/s]INFO:92f23697-df2e-11ed-a336-841b77d62e9a.idf:Updating Shadowing Calculations, Start Date=11/17/2017\n",
      "C:\\EnergyPlusV9-2-0\\energyplus.exe 9330a868-df2e-11ed-857e-841b77d62e9a.idf: 44it [00:02, 16.39it/s]INFO:939ca3a2-df2e-11ed-b0f7-841b77d62e9a.idf:Updating Shadowing Calculations, Start Date=05/01/2017\n",
      "C:\\EnergyPlusV9-2-0\\energyplus.exe 9330a868-df2e-11ed-857e-841b77d62e9a.idf: 44it [00:02, 16.39it/s]INFO:93de73cc-df2e-11ed-b78e-841b77d62e9a.idf:Continuing Simulation at 03/22/2017 for RUN PERIOD 1\n",
      "C:\\EnergyPlusV9-2-0\\energyplus.exe 92f23697-df2e-11ed-a336-841b77d62e9a.idf: 46it [00:02, 16.64it/s]INFO:9330a868-df2e-11ed-857e-841b77d62e9a.idf:Continuing Simulation at 10/28/2017 for RUN PERIOD 1\n",
      "C:\\EnergyPlusV9-2-0\\energyplus.exe 93de73cc-df2e-11ed-b78e-841b77d62e9a.idf: 23it [00:01, 16.51it/s]INFO:939ca3a2-df2e-11ed-b0f7-841b77d62e9a.idf:Continuing Simulation at 05/01/2017 for RUN PERIOD 1\n",
      "C:\\EnergyPlusV9-2-0\\energyplus.exe 9330a868-df2e-11ed-857e-841b77d62e9a.idf: 45it [00:02, 16.39it/s]INFO:92f23697-df2e-11ed-a336-841b77d62e9a.idf:Continuing Simulation at 11/17/2017 for RUN PERIOD 1\n",
      "C:\\EnergyPlusV9-2-0\\energyplus.exe 9330a868-df2e-11ed-857e-841b77d62e9a.idf: 45it [00:02, 16.39it/s]INFO:9330a868-df2e-11ed-857e-841b77d62e9a.idf:Updating Shadowing Calculations, Start Date=11/17/2017\n",
      "C:\\EnergyPlusV9-2-0\\energyplus.exe 939ca3a2-df2e-11ed-b0f7-841b77d62e9a.idf: 27it [00:01, 16.64it/s]INFO:93de73cc-df2e-11ed-b78e-841b77d62e9a.idf:Updating Shadowing Calculations, Start Date=04/11/2017\n",
      "C:\\EnergyPlusV9-2-0\\energyplus.exe 9330a868-df2e-11ed-857e-841b77d62e9a.idf: 46it [00:02, 17.07it/s]INFO:92f23697-df2e-11ed-a336-841b77d62e9a.idf:Updating Shadowing Calculations, Start Date=12/07/2017\n",
      "                                                              INFO:939ca3a2-df2e-11ed-b0f7-841b77d62e9a.idf:Updating Shadowing Calculations, Start Date=05/21/2017\n"
     ]
    },
    {
     "name": "stdout",
     "output_type": "stream",
     "text": [
      "Updating Shadowing Calculations, Start Date=11/17/2017\n",
      "Updating Shadowing Calculations, Start Date=05/01/2017\n",
      "Continuing Simulation at 03/22/2017 for RUN PERIOD 1\n",
      "Continuing Simulation at 10/28/2017 for RUN PERIOD 1\n",
      "Continuing Simulation at 05/01/2017 for RUN PERIOD 1\n",
      "Continuing Simulation at 11/17/2017 for RUN PERIOD 1\n",
      "Updating Shadowing Calculations, Start Date=11/17/2017\n",
      "Updating Shadowing Calculations, Start Date=04/11/2017\n",
      "Updating Shadowing Calculations, Start Date=12/07/2017\n",
      "Updating Shadowing Calculations, Start Date=05/21/2017\n"
     ]
    },
    {
     "name": "stderr",
     "output_type": "stream",
     "text": [
      "                                                              INFO:93de73cc-df2e-11ed-b78e-841b77d62e9a.idf:Continuing Simulation at 04/11/2017 for RUN PERIOD 1\n"
     ]
    },
    {
     "name": "stdout",
     "output_type": "stream",
     "text": [
      "Continuing Simulation at 04/11/2017 for RUN PERIOD 1\n"
     ]
    },
    {
     "name": "stderr",
     "output_type": "stream",
     "text": [
      "C:\\EnergyPlusV9-2-0\\energyplus.exe 92f23697-df2e-11ed-a336-841b77d62e9a.idf: 48it [00:02, 17.47it/s]INFO:9330a868-df2e-11ed-857e-841b77d62e9a.idf:Continuing Simulation at 11/17/2017 for RUN PERIOD 1\n",
      "C:\\EnergyPlusV9-2-0\\energyplus.exe 93de73cc-df2e-11ed-b78e-841b77d62e9a.idf: 25it [00:01, 17.38it/s]INFO:939ca3a2-df2e-11ed-b0f7-841b77d62e9a.idf:Continuing Simulation at 05/21/2017 for RUN PERIOD 1\n",
      "                                                              INFO:92f23697-df2e-11ed-a336-841b77d62e9a.idf:Continuing Simulation at 12/07/2017 for RUN PERIOD 1\n",
      "C:\\EnergyPlusV9-2-0\\energyplus.exe 9330a868-df2e-11ed-857e-841b77d62e9a.idf: 47it [00:02, 17.07it/s]"
     ]
    },
    {
     "name": "stdout",
     "output_type": "stream",
     "text": [
      "Continuing Simulation at 11/17/2017 for RUN PERIOD 1\n",
      "Continuing Simulation at 05/21/2017 for RUN PERIOD 1\n",
      "Continuing Simulation at 12/07/2017 for RUN PERIOD 1\n",
      "Updating Shadowing Calculations, Start Date=12/07/2017\n"
     ]
    },
    {
     "name": "stderr",
     "output_type": "stream",
     "text": [
      "INFO:9330a868-df2e-11ed-857e-841b77d62e9a.idf:Updating Shadowing Calculations, Start Date=12/07/2017\n",
      "C:\\EnergyPlusV9-2-0\\energyplus.exe 9330a868-df2e-11ed-857e-841b77d62e9a.idf: 48it [00:02, 17.78it/s]INFO:93de73cc-df2e-11ed-b78e-841b77d62e9a.idf:Updating Shadowing Calculations, Start Date=05/01/2017\n",
      "                                                              INFO:939ca3a2-df2e-11ed-b0f7-841b77d62e9a.idf:Updating Shadowing Calculations, Start Date=06/10/2017\n",
      "C:\\EnergyPlusV9-2-0\\energyplus.exe 9330a868-df2e-11ed-857e-841b77d62e9a.idf: 48it [00:02, 17.78it/s]INFO:92f23697-df2e-11ed-a336-841b77d62e9a.idf:Updating Shadowing Calculations, Start Date=12/27/2017\n",
      "C:\\EnergyPlusV9-2-0\\energyplus.exe 939ca3a2-df2e-11ed-b0f7-841b77d62e9a.idf: 30it [00:01, 17.87it/s]INFO:93de73cc-df2e-11ed-b78e-841b77d62e9a.idf:Continuing Simulation at 05/01/2017 for RUN PERIOD 1\n",
      "C:\\EnergyPlusV9-2-0\\energyplus.exe 92f23697-df2e-11ed-a336-841b77d62e9a.idf: 50it [00:02, 17.58it/s]INFO:9330a868-df2e-11ed-857e-841b77d62e9a.idf:Continuing Simulation at 12/07/2017 for RUN PERIOD 1\n",
      "C:\\EnergyPlusV9-2-0\\energyplus.exe 9330a868-df2e-11ed-857e-841b77d62e9a.idf: 49it [00:02, 17.78it/s]INFO:939ca3a2-df2e-11ed-b0f7-841b77d62e9a.idf:Continuing Simulation at 06/10/2017 for RUN PERIOD 1\n",
      "C:\\EnergyPlusV9-2-0\\energyplus.exe 9330a868-df2e-11ed-857e-841b77d62e9a.idf: 49it [00:02, 17.78it/s]INFO:93de73cc-df2e-11ed-b78e-841b77d62e9a.idf:Updating Shadowing Calculations, Start Date=05/21/2017\n",
      "                                                              INFO:92f23697-df2e-11ed-a336-841b77d62e9a.idf:Continuing Simulation at 12/27/2017 for RUN PERIOD 1\n",
      "C:\\EnergyPlusV9-2-0\\energyplus.exe 9330a868-df2e-11ed-857e-841b77d62e9a.idf: 49it [00:02, 17.78it/s]INFO:9330a868-df2e-11ed-857e-841b77d62e9a.idf:Updating Shadowing Calculations, Start Date=12/27/2017\n",
      "C:\\EnergyPlusV9-2-0\\energyplus.exe 93de73cc-df2e-11ed-b78e-841b77d62e9a.idf: 28it [00:01, 18.99it/s]INFO:939ca3a2-df2e-11ed-b0f7-841b77d62e9a.idf:Updating Shadowing Calculations, Start Date=06/30/2017\n"
     ]
    },
    {
     "name": "stdout",
     "output_type": "stream",
     "text": [
      "Updating Shadowing Calculations, Start Date=05/01/2017\n",
      "Updating Shadowing Calculations, Start Date=06/10/2017\n",
      "Updating Shadowing Calculations, Start Date=12/27/2017\n",
      "Continuing Simulation at 05/01/2017 for RUN PERIOD 1\n",
      "Continuing Simulation at 12/07/2017 for RUN PERIOD 1\n",
      "Continuing Simulation at 06/10/2017 for RUN PERIOD 1\n",
      "Updating Shadowing Calculations, Start Date=05/21/2017\n",
      "Continuing Simulation at 12/27/2017 for RUN PERIOD 1\n",
      "Updating Shadowing Calculations, Start Date=12/27/2017\n",
      "Updating Shadowing Calculations, Start Date=06/30/2017\n"
     ]
    },
    {
     "name": "stderr",
     "output_type": "stream",
     "text": [
      "C:\\EnergyPlusV9-2-0\\energyplus.exe 9330a868-df2e-11ed-857e-841b77d62e9a.idf: 50it [00:02, 18.23it/s]INFO:92f23697-df2e-11ed-a336-841b77d62e9a.idf:Writing tabular output file results using comma format.\n",
      "C:\\EnergyPlusV9-2-0\\energyplus.exe 93de73cc-df2e-11ed-b78e-841b77d62e9a.idf: 28it [00:01, 18.99it/s]"
     ]
    },
    {
     "name": "stdout",
     "output_type": "stream",
     "text": [
      "Writing tabular output file results using comma format.\n",
      "Continuing Simulation at 05/21/2017 for RUN PERIOD 1\n"
     ]
    },
    {
     "name": "stderr",
     "output_type": "stream",
     "text": [
      "                                                              INFO:93de73cc-df2e-11ed-b78e-841b77d62e9a.idf:Continuing Simulation at 05/21/2017 for RUN PERIOD 1\n",
      "C:\\EnergyPlusV9-2-0\\energyplus.exe 9330a868-df2e-11ed-857e-841b77d62e9a.idf: 50it [00:02, 18.23it/s]INFO:939ca3a2-df2e-11ed-b0f7-841b77d62e9a.idf:Continuing Simulation at 06/30/2017 for RUN PERIOD 1\n",
      "C:\\EnergyPlusV9-2-0\\energyplus.exe 9330a868-df2e-11ed-857e-841b77d62e9a.idf: 50it [00:02, 18.23it/s]INFO:9330a868-df2e-11ed-857e-841b77d62e9a.idf:Continuing Simulation at 12/27/2017 for RUN PERIOD 1\n",
      "                                                              INFO:92f23697-df2e-11ed-a336-841b77d62e9a.idf:Writing tabular output file results using HTML format.\n",
      "simulate:  25%|██▌       | 5.00/20.0 [00:17<00:21, 1.42s/runs]"
     ]
    },
    {
     "name": "stdout",
     "output_type": "stream",
     "text": [
      "Continuing Simulation at 06/30/2017 for RUN PERIOD 1\n",
      "Continuing Simulation at 12/27/2017 for RUN PERIOD 1\n",
      "Writing tabular output file results using HTML format.\n",
      "Updating Shadowing Calculations, Start Date=06/10/2017\n"
     ]
    },
    {
     "name": "stderr",
     "output_type": "stream",
     "text": [
      "C:\\EnergyPlusV9-2-0\\energyplus.exe 939ca3a2-df2e-11ed-b0f7-841b77d62e9a.idf: 33it [00:02, 19.46it/s]INFO:93de73cc-df2e-11ed-b78e-841b77d62e9a.idf:Updating Shadowing Calculations, Start Date=06/10/2017\n",
      "C:\\EnergyPlusV9-2-0\\energyplus.exe 92f23697-df2e-11ed-a336-841b77d62e9a.idf: 53it [00:02, 18.71it/s]INFO:9330a868-df2e-11ed-857e-841b77d62e9a.idf:Writing tabular output file results using comma format.\n",
      "C:\\EnergyPlusV9-2-0\\energyplus.exe 93de73cc-df2e-11ed-b78e-841b77d62e9a.idf: 30it [00:01, 19.01it/s]INFO:939ca3a2-df2e-11ed-b0f7-841b77d62e9a.idf:Updating Shadowing Calculations, Start Date=07/20/2017\n",
      "C:\\EnergyPlusV9-2-0\\energyplus.exe 9330a868-df2e-11ed-857e-841b77d62e9a.idf: 52it [00:02, 18.23it/s]INFO:92f23697-df2e-11ed-a336-841b77d62e9a.idf:Writing final SQL reports\n",
      "C:\\EnergyPlusV9-2-0\\energyplus.exe 9330a868-df2e-11ed-857e-841b77d62e9a.idf: 52it [00:02, 18.23it/s]INFO:9330a868-df2e-11ed-857e-841b77d62e9a.idf:Writing tabular output file results using HTML format.\n",
      "C:\\EnergyPlusV9-2-0\\energyplus.exe 9330a868-df2e-11ed-857e-841b77d62e9a.idf: 53it [00:02, 19.63it/s]INFO:939ca3a2-df2e-11ed-b0f7-841b77d62e9a.idf:Continuing Simulation at 07/20/2017 for RUN PERIOD 1\n",
      "C:\\EnergyPlusV9-2-0\\energyplus.exe 9330a868-df2e-11ed-857e-841b77d62e9a.idf: 53it [00:02, 19.63it/s]INFO:93de73cc-df2e-11ed-b78e-841b77d62e9a.idf:Continuing Simulation at 06/10/2017 for RUN PERIOD 1\n",
      "C:\\EnergyPlusV9-2-0\\energyplus.exe 9330a868-df2e-11ed-857e-841b77d62e9a.idf: 53it [00:02, 19.63it/s]INFO:92f23697-df2e-11ed-a336-841b77d62e9a.idf:EnergyPlus Run Time=00hr 00min  2.44sec\n",
      "C:\\EnergyPlusV9-2-0\\energyplus.exe 9330a868-df2e-11ed-857e-841b77d62e9a.idf: 53it [00:02, 19.63it/s]INFO:939ca3a2-df2e-11ed-b0f7-841b77d62e9a.idf:Updating Shadowing Calculations, Start Date=08/09/2017\n",
      "C:\\EnergyPlusV9-2-0\\energyplus.exe 9330a868-df2e-11ed-857e-841b77d62e9a.idf: 53it [00:02, 19.63it/s]INFO:93de73cc-df2e-11ed-b78e-841b77d62e9a.idf:Updating Shadowing Calculations, Start Date=06/30/2017\n",
      "C:\\EnergyPlusV9-2-0\\energyplus.exe 9330a868-df2e-11ed-857e-841b77d62e9a.idf: 53it [00:02, 19.63it/s]"
     ]
    },
    {
     "name": "stdout",
     "output_type": "stream",
     "text": [
      "Writing tabular output file results using comma format.\n",
      "Updating Shadowing Calculations, Start Date=07/20/2017\n",
      "Writing final SQL reports\n",
      "Writing tabular output file results using HTML format.\n",
      "Continuing Simulation at 07/20/2017 for RUN PERIOD 1\n",
      "Continuing Simulation at 06/10/2017 for RUN PERIOD 1\n",
      "EnergyPlus Run Time=00hr 00min  2.44sec\n",
      "Updating Shadowing Calculations, Start Date=08/09/2017\n",
      "Updating Shadowing Calculations, Start Date=06/30/2017\n",
      "Writing final SQL reports\n"
     ]
    },
    {
     "name": "stderr",
     "output_type": "stream",
     "text": [
      "                                                              INFO:9330a868-df2e-11ed-857e-841b77d62e9a.idf:Writing final SQL reports\n",
      "C:\\EnergyPlusV9-2-0\\energyplus.exe 939ca3a2-df2e-11ed-b0f7-841b77d62e9a.idf: 36it [00:02, 20.51it/s]INFO:92f23697-df2e-11ed-a336-841b77d62e9a.idf:EnergyPlus Completed in 3.03 seconds\n",
      "C:\\EnergyPlusV9-2-0\\energyplus.exe 93de73cc-df2e-11ed-b78e-841b77d62e9a.idf: 32it [00:02, 18.78it/s]"
     ]
    },
    {
     "name": "stdout",
     "output_type": "stream",
     "text": [
      "EnergyPlus Completed in 3.03 seconds\n"
     ]
    },
    {
     "name": "stderr",
     "output_type": "stream",
     "text": [
      "C:\\EnergyPlusV9-2-0\\energyplus.exe 9330a868-df2e-11ed-857e-841b77d62e9a.idf: 54it [00:02, 19.63it/s]INFO:9330a868-df2e-11ed-857e-841b77d62e9a.idf:EnergyPlus Run Time=00hr 00min  2.31sec\n",
      "C:\\EnergyPlusV9-2-0\\energyplus.exe 93de73cc-df2e-11ed-b78e-841b77d62e9a.idf: 32it [00:02, 18.78it/s]"
     ]
    },
    {
     "name": "stdout",
     "output_type": "stream",
     "text": [
      "EnergyPlus Run Time=00hr 00min  2.31sec\n",
      "Continuing Simulation at 08/09/2017 for RUN PERIOD 1\n"
     ]
    },
    {
     "name": "stderr",
     "output_type": "stream",
     "text": [
      "C:\\EnergyPlusV9-2-0\\energyplus.exe 9330a868-df2e-11ed-857e-841b77d62e9a.idf: 55it [00:02, 18.67it/s]INFO:939ca3a2-df2e-11ed-b0f7-841b77d62e9a.idf:Continuing Simulation at 08/09/2017 for RUN PERIOD 1\n",
      "C:\\EnergyPlusV9-2-0\\energyplus.exe 9330a868-df2e-11ed-857e-841b77d62e9a.idf: 55it [00:02, 18.67it/s]INFO:93de73cc-df2e-11ed-b78e-841b77d62e9a.idf:Continuing Simulation at 06/30/2017 for RUN PERIOD 1\n",
      "                                                              INFO:939ca3a2-df2e-11ed-b0f7-841b77d62e9a.idf:Updating Shadowing Calculations, Start Date=08/29/2017\n",
      "C:\\EnergyPlusV9-2-0\\energyplus.exe 9330a868-df2e-11ed-857e-841b77d62e9a.idf: 55it [00:03, 18.67it/s]INFO:9330a868-df2e-11ed-857e-841b77d62e9a.idf:EnergyPlus Completed in 2.98 seconds\n",
      "C:\\EnergyPlusV9-2-0\\energyplus.exe 939ca3a2-df2e-11ed-b0f7-841b77d62e9a.idf: 38it [00:02, 18.78it/s]INFO:93de73cc-df2e-11ed-b78e-841b77d62e9a.idf:Updating Shadowing Calculations, Start Date=07/20/2017\n",
      "C:\\EnergyPlusV9-2-0\\energyplus.exe 93de73cc-df2e-11ed-b78e-841b77d62e9a.idf: 34it [00:02, 16.14it/s]INFO:939ca3a2-df2e-11ed-b0f7-841b77d62e9a.idf:Continuing Simulation at 08/29/2017 for RUN PERIOD 1\n",
      "C:\\EnergyPlusV9-2-0\\energyplus.exe 939ca3a2-df2e-11ed-b0f7-841b77d62e9a.idf: 39it [00:02, 18.78it/s]"
     ]
    },
    {
     "name": "stdout",
     "output_type": "stream",
     "text": [
      "Continuing Simulation at 06/30/2017 for RUN PERIOD 1\n",
      "Updating Shadowing Calculations, Start Date=08/29/2017\n",
      "EnergyPlus Completed in 2.98 seconds\n",
      "Updating Shadowing Calculations, Start Date=07/20/2017\n",
      "Continuing Simulation at 08/29/2017 for RUN PERIOD 1\n",
      "Continuing Simulation at 07/20/2017 for RUN PERIOD 1\n"
     ]
    },
    {
     "name": "stderr",
     "output_type": "stream",
     "text": [
      "                                                              INFO:93de73cc-df2e-11ed-b78e-841b77d62e9a.idf:Continuing Simulation at 07/20/2017 for RUN PERIOD 1\n",
      "C:\\EnergyPlusV9-2-0\\energyplus.exe 9330a868-df2e-11ed-857e-841b77d62e9a.idf: 55it [00:03, 18.67it/s]"
     ]
    },
    {
     "name": "stdout",
     "output_type": "stream",
     "text": [
      "Updating Shadowing Calculations, Start Date=09/18/2017\n"
     ]
    },
    {
     "name": "stderr",
     "output_type": "stream",
     "text": [
      "INFO:939ca3a2-df2e-11ed-b0f7-841b77d62e9a.idf:Updating Shadowing Calculations, Start Date=09/18/2017\n",
      "C:\\EnergyPlusV9-2-0\\energyplus.exe 9330a868-df2e-11ed-857e-841b77d62e9a.idf: 55it [00:03, 18.67it/s]INFO:93de73cc-df2e-11ed-b78e-841b77d62e9a.idf:Updating Shadowing Calculations, Start Date=08/09/2017\n",
      "C:\\EnergyPlusV9-2-0\\energyplus.exe 92f23697-df2e-11ed-a336-841b77d62e9a.idf: 55it [00:03, 16.69it/s]\n",
      "C:\\EnergyPlusV9-2-0\\energyplus.exe 9330a868-df2e-11ed-857e-841b77d62e9a.idf: 55it [00:03, 18.67it/s]INFO:939ca3a2-df2e-11ed-b0f7-841b77d62e9a.idf:Continuing Simulation at 09/18/2017 for RUN PERIOD 1\n",
      "C:\\EnergyPlusV9-2-0\\energyplus.exe 9330a868-df2e-11ed-857e-841b77d62e9a.idf: 55it [00:03, 18.67it/s]"
     ]
    },
    {
     "name": "stdout",
     "output_type": "stream",
     "text": [
      "Updating Shadowing Calculations, Start Date=08/09/2017\n",
      "Continuing Simulation at 09/18/2017 for RUN PERIOD 1\n",
      "Continuing Simulation at 08/09/2017 for RUN PERIOD 1\n"
     ]
    },
    {
     "name": "stderr",
     "output_type": "stream",
     "text": [
      "C:\\EnergyPlusV9-2-0\\energyplus.exe 939ca3a2-df2e-11ed-b0f7-841b77d62e9a.idf: 41it [00:02, 20.01it/s]INFO:93de73cc-df2e-11ed-b78e-841b77d62e9a.idf:Continuing Simulation at 08/09/2017 for RUN PERIOD 1\n",
      "C:\\EnergyPlusV9-2-0\\energyplus.exe 93de73cc-df2e-11ed-b78e-841b77d62e9a.idf: 37it [00:02, 18.88it/s]INFO:939ca3a2-df2e-11ed-b0f7-841b77d62e9a.idf:Updating Shadowing Calculations, Start Date=10/08/2017\n",
      "INFO:939ca3a2-df2e-11ed-b0f7-841b77d62e9a.idf:Continuing Simulation at 10/08/2017 for RUN PERIOD 1\n",
      "C:\\EnergyPlusV9-2-0\\energyplus.exe 939ca3a2-df2e-11ed-b0f7-841b77d62e9a.idf: 43it [00:02, 20.01it/s]INFO:93de73cc-df2e-11ed-b78e-841b77d62e9a.idf:Updating Shadowing Calculations, Start Date=08/29/2017\n",
      "C:\\EnergyPlusV9-2-0\\energyplus.exe 9330a868-df2e-11ed-857e-841b77d62e9a.idf: 55it [00:03, 17.12it/s]\n",
      "INFO:939ca3a2-df2e-11ed-b0f7-841b77d62e9a.idf:Updating Shadowing Calculations, Start Date=10/28/2017\n",
      "C:\\EnergyPlusV9-2-0\\energyplus.exe 939ca3a2-df2e-11ed-b0f7-841b77d62e9a.idf: 44it [00:02, 20.01it/s]INFO:93de73cc-df2e-11ed-b78e-841b77d62e9a.idf:Continuing Simulation at 08/29/2017 for RUN PERIOD 1\n",
      "C:\\EnergyPlusV9-2-0\\energyplus.exe 939ca3a2-df2e-11ed-b0f7-841b77d62e9a.idf: 44it [00:02, 20.01it/s]INFO:939ca3a2-df2e-11ed-b0f7-841b77d62e9a.idf:Continuing Simulation at 10/28/2017 for RUN PERIOD 1\n",
      "                                                              INFO:93de73cc-df2e-11ed-b78e-841b77d62e9a.idf:Updating Shadowing Calculations, Start Date=09/18/2017\n",
      "C:\\EnergyPlusV9-2-0\\energyplus.exe 939ca3a2-df2e-11ed-b0f7-841b77d62e9a.idf: 45it [00:02, 20.01it/s]INFO:939ca3a2-df2e-11ed-b0f7-841b77d62e9a.idf:Updating Shadowing Calculations, Start Date=11/17/2017\n",
      "C:\\EnergyPlusV9-2-0\\energyplus.exe 939ca3a2-df2e-11ed-b0f7-841b77d62e9a.idf: 46it [00:02, 25.63it/s]"
     ]
    },
    {
     "name": "stdout",
     "output_type": "stream",
     "text": [
      "Updating Shadowing Calculations, Start Date=10/08/2017\n",
      "Continuing Simulation at 10/08/2017 for RUN PERIOD 1\n",
      "Updating Shadowing Calculations, Start Date=08/29/2017\n",
      "Updating Shadowing Calculations, Start Date=10/28/2017\n",
      "Continuing Simulation at 08/29/2017 for RUN PERIOD 1\n",
      "Continuing Simulation at 10/28/2017 for RUN PERIOD 1\n",
      "Updating Shadowing Calculations, Start Date=09/18/2017\n",
      "Updating Shadowing Calculations, Start Date=11/17/2017\n",
      "Continuing Simulation at 09/18/2017 for RUN PERIOD 1\n"
     ]
    },
    {
     "name": "stderr",
     "output_type": "stream",
     "text": [
      "INFO:93de73cc-df2e-11ed-b78e-841b77d62e9a.idf:Continuing Simulation at 09/18/2017 for RUN PERIOD 1\n",
      "C:\\EnergyPlusV9-2-0\\energyplus.exe 939ca3a2-df2e-11ed-b0f7-841b77d62e9a.idf: 46it [00:02, 25.63it/s]INFO:939ca3a2-df2e-11ed-b0f7-841b77d62e9a.idf:Continuing Simulation at 11/17/2017 for RUN PERIOD 1\n",
      "                                                                                                    "
     ]
    },
    {
     "name": "stdout",
     "output_type": "stream",
     "text": [
      "Continuing Simulation at 11/17/2017 for RUN PERIOD 1\n"
     ]
    },
    {
     "name": "stderr",
     "output_type": "stream",
     "text": [
      "C:\\EnergyPlusV9-2-0\\energyplus.exe 939ca3a2-df2e-11ed-b0f7-841b77d62e9a.idf: 47it [00:02, 25.63it/s]INFO:939ca3a2-df2e-11ed-b0f7-841b77d62e9a.idf:Updating Shadowing Calculations, Start Date=12/07/2017\n",
      "                                                              INFO:93de73cc-df2e-11ed-b78e-841b77d62e9a.idf:Updating Shadowing Calculations, Start Date=10/08/2017\n",
      "C:\\EnergyPlusV9-2-0\\energyplus.exe 939ca3a2-df2e-11ed-b0f7-841b77d62e9a.idf: 48it [00:02, 25.63it/s]INFO:939ca3a2-df2e-11ed-b0f7-841b77d62e9a.idf:Continuing Simulation at 12/07/2017 for RUN PERIOD 1\n",
      "C:\\EnergyPlusV9-2-0\\energyplus.exe 939ca3a2-df2e-11ed-b0f7-841b77d62e9a.idf: 49it [00:02, 25.63it/s]INFO:93de73cc-df2e-11ed-b78e-841b77d62e9a.idf:Continuing Simulation at 10/08/2017 for RUN PERIOD 1\n",
      "C:\\EnergyPlusV9-2-0\\energyplus.exe 939ca3a2-df2e-11ed-b0f7-841b77d62e9a.idf: 49it [00:02, 25.63it/s]INFO:939ca3a2-df2e-11ed-b0f7-841b77d62e9a.idf:Updating Shadowing Calculations, Start Date=12/27/2017\n",
      "INFO:93de73cc-df2e-11ed-b78e-841b77d62e9a.idf:Updating Shadowing Calculations, Start Date=10/28/2017\n",
      "C:\\EnergyPlusV9-2-0\\energyplus.exe 939ca3a2-df2e-11ed-b0f7-841b77d62e9a.idf: 50it [00:02, 25.63it/s]INFO:939ca3a2-df2e-11ed-b0f7-841b77d62e9a.idf:Continuing Simulation at 12/27/2017 for RUN PERIOD 1\n",
      "                                                                                                    "
     ]
    },
    {
     "name": "stdout",
     "output_type": "stream",
     "text": [
      "Updating Shadowing Calculations, Start Date=12/07/2017\n",
      "Updating Shadowing Calculations, Start Date=10/08/2017\n",
      "Continuing Simulation at 12/07/2017 for RUN PERIOD 1\n",
      "Continuing Simulation at 10/08/2017 for RUN PERIOD 1\n",
      "Updating Shadowing Calculations, Start Date=12/27/2017\n",
      "Updating Shadowing Calculations, Start Date=10/28/2017\n",
      "Continuing Simulation at 12/27/2017 for RUN PERIOD 1\n"
     ]
    },
    {
     "name": "stderr",
     "output_type": "stream",
     "text": [
      "C:\\EnergyPlusV9-2-0\\energyplus.exe 939ca3a2-df2e-11ed-b0f7-841b77d62e9a.idf: 51it [00:02, 25.63it/s]INFO:93de73cc-df2e-11ed-b78e-841b77d62e9a.idf:Continuing Simulation at 10/28/2017 for RUN PERIOD 1\n",
      "C:\\EnergyPlusV9-2-0\\energyplus.exe 939ca3a2-df2e-11ed-b0f7-841b77d62e9a.idf: 51it [00:02, 25.63it/s]INFO:939ca3a2-df2e-11ed-b0f7-841b77d62e9a.idf:Writing tabular output file results using comma format.\n",
      "C:\\EnergyPlusV9-2-0\\energyplus.exe 939ca3a2-df2e-11ed-b0f7-841b77d62e9a.idf: 52it [00:02, 34.08it/s]INFO:93de73cc-df2e-11ed-b78e-841b77d62e9a.idf:Updating Shadowing Calculations, Start Date=11/17/2017\n",
      "                                                              INFO:939ca3a2-df2e-11ed-b0f7-841b77d62e9a.idf:Writing tabular output file results using HTML format.\n",
      "C:\\EnergyPlusV9-2-0\\energyplus.exe 939ca3a2-df2e-11ed-b0f7-841b77d62e9a.idf: 53it [00:02, 34.08it/s]INFO:93de73cc-df2e-11ed-b78e-841b77d62e9a.idf:Continuing Simulation at 11/17/2017 for RUN PERIOD 1\n",
      "                                                              INFO:939ca3a2-df2e-11ed-b0f7-841b77d62e9a.idf:Writing final SQL reports\n",
      "C:\\EnergyPlusV9-2-0\\energyplus.exe 939ca3a2-df2e-11ed-b0f7-841b77d62e9a.idf: 54it [00:02, 34.08it/s]INFO:93de73cc-df2e-11ed-b78e-841b77d62e9a.idf:Updating Shadowing Calculations, Start Date=12/07/2017\n",
      "                                                              INFO:939ca3a2-df2e-11ed-b0f7-841b77d62e9a.idf:EnergyPlus Run Time=00hr 00min  2.46sec\n",
      "INFO:93de73cc-df2e-11ed-b78e-841b77d62e9a.idf:Continuing Simulation at 12/07/2017 for RUN PERIOD 1\n",
      "C:\\EnergyPlusV9-2-0\\energyplus.exe 939ca3a2-df2e-11ed-b0f7-841b77d62e9a.idf: 55it [00:02, 34.08it/s]INFO:939ca3a2-df2e-11ed-b0f7-841b77d62e9a.idf:EnergyPlus Completed in 2.76 seconds\n",
      "C:\\EnergyPlusV9-2-0\\energyplus.exe 939ca3a2-df2e-11ed-b0f7-841b77d62e9a.idf: 55it [00:02, 34.08it/s]INFO:93de73cc-df2e-11ed-b78e-841b77d62e9a.idf:Updating Shadowing Calculations, Start Date=12/27/2017\n",
      "C:\\EnergyPlusV9-2-0\\energyplus.exe 939ca3a2-df2e-11ed-b0f7-841b77d62e9a.idf: 55it [00:02, 34.08it/s]INFO:93de73cc-df2e-11ed-b78e-841b77d62e9a.idf:Continuing Simulation at 12/27/2017 for RUN PERIOD 1\n"
     ]
    },
    {
     "name": "stdout",
     "output_type": "stream",
     "text": [
      "Continuing Simulation at 10/28/2017 for RUN PERIOD 1\n",
      "Writing tabular output file results using comma format.\n",
      "Updating Shadowing Calculations, Start Date=11/17/2017\n",
      "Writing tabular output file results using HTML format.\n",
      "Continuing Simulation at 11/17/2017 for RUN PERIOD 1\n",
      "Writing final SQL reports\n",
      "Updating Shadowing Calculations, Start Date=12/07/2017\n",
      "EnergyPlus Run Time=00hr 00min  2.46sec\n",
      "Continuing Simulation at 12/07/2017 for RUN PERIOD 1\n",
      "EnergyPlus Completed in 2.76 seconds\n",
      "Updating Shadowing Calculations, Start Date=12/27/2017\n",
      "Continuing Simulation at 12/27/2017 for RUN PERIOD 1\n"
     ]
    },
    {
     "name": "stderr",
     "output_type": "stream",
     "text": [
      "C:\\EnergyPlusV9-2-0\\energyplus.exe 939ca3a2-df2e-11ed-b0f7-841b77d62e9a.idf: 55it [00:02, 34.08it/s]INFO:93de73cc-df2e-11ed-b78e-841b77d62e9a.idf:Writing tabular output file results using comma format.\n"
     ]
    },
    {
     "name": "stdout",
     "output_type": "stream",
     "text": [
      "Writing tabular output file results using comma format.\n"
     ]
    },
    {
     "name": "stderr",
     "output_type": "stream",
     "text": [
      "C:\\EnergyPlusV9-2-0\\energyplus.exe 939ca3a2-df2e-11ed-b0f7-841b77d62e9a.idf: 55it [00:02, 34.08it/s]INFO:93de73cc-df2e-11ed-b78e-841b77d62e9a.idf:Writing tabular output file results using HTML format.\n",
      "C:\\EnergyPlusV9-2-0\\energyplus.exe 939ca3a2-df2e-11ed-b0f7-841b77d62e9a.idf: 55it [00:02, 34.08it/s]INFO:93de73cc-df2e-11ed-b78e-841b77d62e9a.idf:Writing final SQL reports\n",
      "C:\\EnergyPlusV9-2-0\\energyplus.exe 939ca3a2-df2e-11ed-b0f7-841b77d62e9a.idf: 55it [00:02, 34.08it/s]INFO:93de73cc-df2e-11ed-b78e-841b77d62e9a.idf:EnergyPlus Run Time=00hr 00min  2.45sec\n",
      "C:\\EnergyPlusV9-2-0\\energyplus.exe 939ca3a2-df2e-11ed-b0f7-841b77d62e9a.idf: 55it [00:02, 34.08it/s]INFO:93de73cc-df2e-11ed-b78e-841b77d62e9a.idf:EnergyPlus Completed in 2.62 seconds\n"
     ]
    },
    {
     "name": "stdout",
     "output_type": "stream",
     "text": [
      "Writing tabular output file results using HTML format.\n",
      "Writing final SQL reports\n",
      "EnergyPlus Run Time=00hr 00min  2.45sec\n",
      "EnergyPlus Completed in 2.62 seconds\n"
     ]
    },
    {
     "name": "stderr",
     "output_type": "stream",
     "text": [
      "C:\\EnergyPlusV9-2-0\\energyplus.exe 939ca3a2-df2e-11ed-b0f7-841b77d62e9a.idf: 55it [00:02, 18.99it/s]\n",
      "C:\\EnergyPlusV9-2-0\\energyplus.exe 93de73cc-df2e-11ed-b78e-841b77d62e9a.idf: 55it [00:02, 20.42it/s]\n",
      "INFO:archetypal:collected data for ['Zone Ideal Loads Zone Total Heating Energy', 'Zone Ideal Loads Zone Total Cooling Energy']\n",
      "INFO:archetypal:collected data for ['Zone Ideal Loads Zone Total Heating Energy', 'Zone Ideal Loads Zone Total Cooling Energy']\n",
      "simulate:  30%|███       | 6.00/20.0 [00:19<00:41, 2.95s/runs]INFO:archetypal:No 'ZONEVENTILATION:DESIGNFLOWRATE' created since IsScheduledVentilationOn == False.\n",
      "INFO:archetypal:No 'ZONEVENTILATION:WINDANDSTACKOPENAREA' created since IsNatVentOn == False.\n",
      "INFO:archetypal:No 'ZONEVENTILATION:DESIGNFLOWRATE' created since IsScheduledVentilationOn == False.\n",
      "INFO:archetypal:No 'ZONEVENTILATION:WINDANDSTACKOPENAREA' created since IsNatVentOn == False.\n",
      "C:\\EnergyPlusV9-2-0\\ExpandObjects.EXE #0-9742c7a3-df2e-11ed-8bb7-841b77d62e9a.idf: 0.00it [00:00, ?it/s]INFO:9742c7a3-df2e-11ed-8bb7-841b77d62e9a.idf:ExpandObjects Started.\n",
      "C:\\EnergyPlusV9-2-0\\ExpandObjects.EXE #0-9742c7a3-df2e-11ed-8bb7-841b77d62e9a.idf: 1.00it [00:00, 17.0it/s]INFO:9742c7a3-df2e-11ed-8bb7-841b77d62e9a.idf: Begin reading Energy+.idd file.\n",
      "C:\\EnergyPlusV9-2-0\\ExpandObjects.EXE #0-9742c7a3-df2e-11ed-8bb7-841b77d62e9a.idf: 2.00it [00:00, 14.0it/s]INFO:9742c7a3-df2e-11ed-8bb7-841b77d62e9a.idf: Done reading Energy+.idd file.\n",
      "C:\\EnergyPlusV9-2-0\\ExpandObjects.EXE #0-9742c7a3-df2e-11ed-8bb7-841b77d62e9a.idf: 3.00it [00:00, 20.6it/s]INFO:9742c7a3-df2e-11ed-8bb7-841b77d62e9a.idf:ExpandObjects Finished. Time:     0.031\n",
      "C:\\EnergyPlusV9-2-0\\ExpandObjects.EXE #0-9742c7a3-df2e-11ed-8bb7-841b77d62e9a.idf: 4.00it [00:00, 20.6it/s]INFO:9742c7a3-df2e-11ed-8bb7-841b77d62e9a.idf:ExpandObjects completed in 0.15 seconds\n",
      "C:\\EnergyPlusV9-2-0\\ExpandObjects.EXE #0-9742c7a3-df2e-11ed-8bb7-841b77d62e9a.idf: 4.00it [00:00, 24.9it/s]\n"
     ]
    },
    {
     "name": "stdout",
     "output_type": "stream",
     "text": [
      "ExpandObjects Started.\n",
      " Begin reading Energy+.idd file.\n",
      " Done reading Energy+.idd file.\n",
      "ExpandObjects Finished. Time:     0.031\n",
      "ExpandObjects completed in 0.15 seconds\n"
     ]
    },
    {
     "name": "stderr",
     "output_type": "stream",
     "text": [
      "C:\\EnergyPlusV9-2-0\\energyplus.exe 9742c7a3-df2e-11ed-8bb7-841b77d62e9a.idf: 0it [00:00, ?it/s]INFO:9742c7a3-df2e-11ed-8bb7-841b77d62e9a.idf:Simulation started\n",
      "C:\\EnergyPlusV9-2-0\\energyplus.exe 9742c7a3-df2e-11ed-8bb7-841b77d62e9a.idf: 0it [00:00, ?it/s]INFO:9742c7a3-df2e-11ed-8bb7-841b77d62e9a.idf:EnergyPlus Starting\n",
      "C:\\EnergyPlusV9-2-0\\energyplus.exe 9742c7a3-df2e-11ed-8bb7-841b77d62e9a.idf: 1it [00:00, 28.53it/s]INFO:9742c7a3-df2e-11ed-8bb7-841b77d62e9a.idf:EnergyPlus, Version 9.2.0-921312fa1d, YMD=2023.04.19 20:51\n"
     ]
    },
    {
     "name": "stdout",
     "output_type": "stream",
     "text": [
      "Simulation started\n",
      "EnergyPlus Starting\n",
      "EnergyPlus, Version 9.2.0-921312fa1d, YMD=2023.04.19 20:51\n"
     ]
    },
    {
     "name": "stderr",
     "output_type": "stream",
     "text": [
      "C:\\EnergyPlusV9-2-0\\energyplus.exe 9742c7a3-df2e-11ed-8bb7-841b77d62e9a.idf: 2it [00:00,  8.89it/s]INFO:9742c7a3-df2e-11ed-8bb7-841b77d62e9a.idf:Adjusting Air System Sizing\n",
      "C:\\EnergyPlusV9-2-0\\energyplus.exe 9742c7a3-df2e-11ed-8bb7-841b77d62e9a.idf: 3it [00:00, 13.27it/s]INFO:9742c7a3-df2e-11ed-8bb7-841b77d62e9a.idf:Adjusting Standard 62.1 Ventilation Sizing\n",
      "C:\\EnergyPlusV9-2-0\\energyplus.exe 9742c7a3-df2e-11ed-8bb7-841b77d62e9a.idf: 4it [00:00, 13.27it/s]INFO:9742c7a3-df2e-11ed-8bb7-841b77d62e9a.idf:Initializing Simulation\n",
      "C:\\EnergyPlusV9-2-0\\energyplus.exe 9742c7a3-df2e-11ed-8bb7-841b77d62e9a.idf: 5it [00:00, 13.27it/s]INFO:9742c7a3-df2e-11ed-8bb7-841b77d62e9a.idf:Reporting Surfaces\n",
      "C:\\EnergyPlusV9-2-0\\energyplus.exe 9742c7a3-df2e-11ed-8bb7-841b77d62e9a.idf: 6it [00:00, 13.27it/s]INFO:9742c7a3-df2e-11ed-8bb7-841b77d62e9a.idf:Beginning Primary Simulation\n",
      "C:\\EnergyPlusV9-2-0\\energyplus.exe 9742c7a3-df2e-11ed-8bb7-841b77d62e9a.idf: 7it [00:00, 13.27it/s]INFO:9742c7a3-df2e-11ed-8bb7-841b77d62e9a.idf:Initializing New Environment Parameters\n",
      "C:\\EnergyPlusV9-2-0\\energyplus.exe 9742c7a3-df2e-11ed-8bb7-841b77d62e9a.idf: 8it [00:00, 13.27it/s]INFO:9742c7a3-df2e-11ed-8bb7-841b77d62e9a.idf:Warming up {1}\n",
      "C:\\EnergyPlusV9-2-0\\energyplus.exe 9742c7a3-df2e-11ed-8bb7-841b77d62e9a.idf: 9it [00:00, 13.27it/s]INFO:9742c7a3-df2e-11ed-8bb7-841b77d62e9a.idf:Warming up {2}\n",
      "C:\\EnergyPlusV9-2-0\\energyplus.exe 9742c7a3-df2e-11ed-8bb7-841b77d62e9a.idf: 10it [00:00, 13.27it/s]INFO:9742c7a3-df2e-11ed-8bb7-841b77d62e9a.idf:Warming up {3}\n",
      "C:\\EnergyPlusV9-2-0\\energyplus.exe 9742c7a3-df2e-11ed-8bb7-841b77d62e9a.idf: 11it [00:00, 13.27it/s]INFO:9742c7a3-df2e-11ed-8bb7-841b77d62e9a.idf:Warming up {4}\n",
      "C:\\EnergyPlusV9-2-0\\energyplus.exe 9742c7a3-df2e-11ed-8bb7-841b77d62e9a.idf: 12it [00:00, 13.27it/s]INFO:9742c7a3-df2e-11ed-8bb7-841b77d62e9a.idf:Warming up {5}\n",
      "C:\\EnergyPlusV9-2-0\\energyplus.exe 9742c7a3-df2e-11ed-8bb7-841b77d62e9a.idf: 13it [00:00, 13.27it/s]INFO:9742c7a3-df2e-11ed-8bb7-841b77d62e9a.idf:Warming up {6}\n",
      "C:\\EnergyPlusV9-2-0\\energyplus.exe 9742c7a3-df2e-11ed-8bb7-841b77d62e9a.idf: 14it [00:00, 13.27it/s]INFO:9742c7a3-df2e-11ed-8bb7-841b77d62e9a.idf:Starting Simulation at 01/01/2017 for RUN PERIOD 1\n",
      "C:\\EnergyPlusV9-2-0\\energyplus.exe 9742c7a3-df2e-11ed-8bb7-841b77d62e9a.idf: 15it [00:00, 13.27it/s]INFO:9742c7a3-df2e-11ed-8bb7-841b77d62e9a.idf:Updating Shadowing Calculations, Start Date=01/21/2017\n",
      "C:\\EnergyPlusV9-2-0\\energyplus.exe 9742c7a3-df2e-11ed-8bb7-841b77d62e9a.idf: 16it [00:00, 45.90it/s]"
     ]
    },
    {
     "name": "stdout",
     "output_type": "stream",
     "text": [
      "Adjusting Air System Sizing\n",
      "Adjusting Standard 62.1 Ventilation Sizing\n",
      "Initializing Simulation\n",
      "Reporting Surfaces\n",
      "Beginning Primary Simulation\n",
      "Initializing New Environment Parameters\n",
      "Warming up {1}\n",
      "Warming up {2}\n",
      "Warming up {3}\n",
      "Warming up {4}\n",
      "Warming up {5}\n",
      "Warming up {6}\n",
      "Starting Simulation at 01/01/2017 for RUN PERIOD 1\n",
      "Updating Shadowing Calculations, Start Date=01/21/2017\n"
     ]
    },
    {
     "name": "stderr",
     "output_type": "stream",
     "text": [
      "C:\\EnergyPlusV9-2-0\\energyplus.exe 9742c7a3-df2e-11ed-8bb7-841b77d62e9a.idf: 16it [00:00, 45.90it/s]INFO:9742c7a3-df2e-11ed-8bb7-841b77d62e9a.idf:Continuing Simulation at 01/21/2017 for RUN PERIOD 1\n",
      "C:\\EnergyPlusV9-2-0\\energyplus.exe 9742c7a3-df2e-11ed-8bb7-841b77d62e9a.idf: 17it [00:00, 45.90it/s]INFO:9742c7a3-df2e-11ed-8bb7-841b77d62e9a.idf:Updating Shadowing Calculations, Start Date=02/10/2017\n",
      "C:\\EnergyPlusV9-2-0\\energyplus.exe 9742c7a3-df2e-11ed-8bb7-841b77d62e9a.idf: 18it [00:00, 45.90it/s]INFO:9742c7a3-df2e-11ed-8bb7-841b77d62e9a.idf:Continuing Simulation at 02/10/2017 for RUN PERIOD 1\n",
      "C:\\EnergyPlusV9-2-0\\energyplus.exe 9742c7a3-df2e-11ed-8bb7-841b77d62e9a.idf: 19it [00:00, 45.90it/s]INFO:9742c7a3-df2e-11ed-8bb7-841b77d62e9a.idf:Updating Shadowing Calculations, Start Date=03/02/2017\n"
     ]
    },
    {
     "name": "stdout",
     "output_type": "stream",
     "text": [
      "Continuing Simulation at 01/21/2017 for RUN PERIOD 1\n",
      "Updating Shadowing Calculations, Start Date=02/10/2017\n",
      "Continuing Simulation at 02/10/2017 for RUN PERIOD 1\n",
      "Updating Shadowing Calculations, Start Date=03/02/2017\n",
      "Continuing Simulation at 03/02/2017 for RUN PERIOD 1\n"
     ]
    },
    {
     "name": "stderr",
     "output_type": "stream",
     "text": [
      "C:\\EnergyPlusV9-2-0\\energyplus.exe 9742c7a3-df2e-11ed-8bb7-841b77d62e9a.idf: 20it [00:00, 35.27it/s]INFO:9742c7a3-df2e-11ed-8bb7-841b77d62e9a.idf:Continuing Simulation at 03/02/2017 for RUN PERIOD 1\n",
      "C:\\EnergyPlusV9-2-0\\energyplus.exe 9742c7a3-df2e-11ed-8bb7-841b77d62e9a.idf: 21it [00:00, 35.27it/s]INFO:9742c7a3-df2e-11ed-8bb7-841b77d62e9a.idf:Updating Shadowing Calculations, Start Date=03/22/2017\n",
      "C:\\EnergyPlusV9-2-0\\energyplus.exe 9742c7a3-df2e-11ed-8bb7-841b77d62e9a.idf: 22it [00:00, 35.27it/s]INFO:9742c7a3-df2e-11ed-8bb7-841b77d62e9a.idf:Continuing Simulation at 03/22/2017 for RUN PERIOD 1\n",
      "C:\\EnergyPlusV9-2-0\\energyplus.exe 9742c7a3-df2e-11ed-8bb7-841b77d62e9a.idf: 23it [00:00, 35.27it/s]INFO:9742c7a3-df2e-11ed-8bb7-841b77d62e9a.idf:Updating Shadowing Calculations, Start Date=04/11/2017\n",
      "C:\\EnergyPlusV9-2-0\\energyplus.exe 9742c7a3-df2e-11ed-8bb7-841b77d62e9a.idf: 24it [00:00, 29.68it/s]INFO:9742c7a3-df2e-11ed-8bb7-841b77d62e9a.idf:Continuing Simulation at 04/11/2017 for RUN PERIOD 1\n"
     ]
    },
    {
     "name": "stdout",
     "output_type": "stream",
     "text": [
      "Updating Shadowing Calculations, Start Date=03/22/2017\n",
      "Continuing Simulation at 03/22/2017 for RUN PERIOD 1\n",
      "Updating Shadowing Calculations, Start Date=04/11/2017\n",
      "Continuing Simulation at 04/11/2017 for RUN PERIOD 1\n"
     ]
    },
    {
     "name": "stderr",
     "output_type": "stream",
     "text": [
      "C:\\EnergyPlusV9-2-0\\energyplus.exe 9742c7a3-df2e-11ed-8bb7-841b77d62e9a.idf: 25it [00:00, 29.68it/s]INFO:9742c7a3-df2e-11ed-8bb7-841b77d62e9a.idf:Updating Shadowing Calculations, Start Date=05/01/2017\n",
      "C:\\EnergyPlusV9-2-0\\energyplus.exe 9742c7a3-df2e-11ed-8bb7-841b77d62e9a.idf: 26it [00:00, 29.68it/s]INFO:9742c7a3-df2e-11ed-8bb7-841b77d62e9a.idf:Continuing Simulation at 05/01/2017 for RUN PERIOD 1\n",
      "C:\\EnergyPlusV9-2-0\\energyplus.exe 9742c7a3-df2e-11ed-8bb7-841b77d62e9a.idf: 27it [00:00, 29.68it/s]INFO:9742c7a3-df2e-11ed-8bb7-841b77d62e9a.idf:Updating Shadowing Calculations, Start Date=05/21/2017\n",
      "C:\\EnergyPlusV9-2-0\\energyplus.exe 9742c7a3-df2e-11ed-8bb7-841b77d62e9a.idf: 28it [00:00, 26.80it/s]INFO:9742c7a3-df2e-11ed-8bb7-841b77d62e9a.idf:Continuing Simulation at 05/21/2017 for RUN PERIOD 1\n"
     ]
    },
    {
     "name": "stdout",
     "output_type": "stream",
     "text": [
      "Updating Shadowing Calculations, Start Date=05/01/2017\n",
      "Continuing Simulation at 05/01/2017 for RUN PERIOD 1\n",
      "Updating Shadowing Calculations, Start Date=05/21/2017\n",
      "Continuing Simulation at 05/21/2017 for RUN PERIOD 1\n"
     ]
    },
    {
     "name": "stderr",
     "output_type": "stream",
     "text": [
      "C:\\EnergyPlusV9-2-0\\energyplus.exe 9742c7a3-df2e-11ed-8bb7-841b77d62e9a.idf: 29it [00:01, 26.80it/s]INFO:9742c7a3-df2e-11ed-8bb7-841b77d62e9a.idf:Updating Shadowing Calculations, Start Date=06/10/2017\n",
      "C:\\EnergyPlusV9-2-0\\energyplus.exe 9742c7a3-df2e-11ed-8bb7-841b77d62e9a.idf: 30it [00:01, 26.80it/s]INFO:9742c7a3-df2e-11ed-8bb7-841b77d62e9a.idf:Continuing Simulation at 06/10/2017 for RUN PERIOD 1\n",
      "C:\\EnergyPlusV9-2-0\\energyplus.exe 9742c7a3-df2e-11ed-8bb7-841b77d62e9a.idf: 31it [00:01, 27.44it/s]INFO:9742c7a3-df2e-11ed-8bb7-841b77d62e9a.idf:Updating Shadowing Calculations, Start Date=06/30/2017\n",
      "C:\\EnergyPlusV9-2-0\\energyplus.exe 9742c7a3-df2e-11ed-8bb7-841b77d62e9a.idf: 32it [00:01, 27.44it/s]INFO:9742c7a3-df2e-11ed-8bb7-841b77d62e9a.idf:Continuing Simulation at 06/30/2017 for RUN PERIOD 1\n"
     ]
    },
    {
     "name": "stdout",
     "output_type": "stream",
     "text": [
      "Updating Shadowing Calculations, Start Date=06/10/2017\n",
      "Continuing Simulation at 06/10/2017 for RUN PERIOD 1\n",
      "Updating Shadowing Calculations, Start Date=06/30/2017\n",
      "Continuing Simulation at 06/30/2017 for RUN PERIOD 1\n"
     ]
    },
    {
     "name": "stderr",
     "output_type": "stream",
     "text": [
      "C:\\EnergyPlusV9-2-0\\energyplus.exe 9742c7a3-df2e-11ed-8bb7-841b77d62e9a.idf: 33it [00:01, 27.44it/s]INFO:9742c7a3-df2e-11ed-8bb7-841b77d62e9a.idf:Updating Shadowing Calculations, Start Date=07/20/2017\n",
      "C:\\EnergyPlusV9-2-0\\energyplus.exe 9742c7a3-df2e-11ed-8bb7-841b77d62e9a.idf: 34it [00:01, 23.28it/s]INFO:9742c7a3-df2e-11ed-8bb7-841b77d62e9a.idf:Continuing Simulation at 07/20/2017 for RUN PERIOD 1\n",
      "C:\\EnergyPlusV9-2-0\\energyplus.exe 9742c7a3-df2e-11ed-8bb7-841b77d62e9a.idf: 35it [00:01, 23.28it/s]INFO:9742c7a3-df2e-11ed-8bb7-841b77d62e9a.idf:Updating Shadowing Calculations, Start Date=08/09/2017\n",
      "C:\\EnergyPlusV9-2-0\\energyplus.exe 9742c7a3-df2e-11ed-8bb7-841b77d62e9a.idf: 36it [00:01, 23.28it/s]INFO:9742c7a3-df2e-11ed-8bb7-841b77d62e9a.idf:Continuing Simulation at 08/09/2017 for RUN PERIOD 1\n"
     ]
    },
    {
     "name": "stdout",
     "output_type": "stream",
     "text": [
      "Updating Shadowing Calculations, Start Date=07/20/2017\n",
      "Continuing Simulation at 07/20/2017 for RUN PERIOD 1\n",
      "Updating Shadowing Calculations, Start Date=08/09/2017\n",
      "Continuing Simulation at 08/09/2017 for RUN PERIOD 1\n"
     ]
    },
    {
     "name": "stderr",
     "output_type": "stream",
     "text": [
      "C:\\EnergyPlusV9-2-0\\energyplus.exe 9742c7a3-df2e-11ed-8bb7-841b77d62e9a.idf: 37it [00:01, 23.28it/s]INFO:9742c7a3-df2e-11ed-8bb7-841b77d62e9a.idf:Updating Shadowing Calculations, Start Date=08/29/2017\n",
      "C:\\EnergyPlusV9-2-0\\energyplus.exe 9742c7a3-df2e-11ed-8bb7-841b77d62e9a.idf: 38it [00:01, 22.88it/s]INFO:9742c7a3-df2e-11ed-8bb7-841b77d62e9a.idf:Continuing Simulation at 08/29/2017 for RUN PERIOD 1\n",
      "C:\\EnergyPlusV9-2-0\\energyplus.exe 9742c7a3-df2e-11ed-8bb7-841b77d62e9a.idf: 39it [00:01, 22.88it/s]INFO:9742c7a3-df2e-11ed-8bb7-841b77d62e9a.idf:Updating Shadowing Calculations, Start Date=09/18/2017\n",
      "C:\\EnergyPlusV9-2-0\\energyplus.exe 9742c7a3-df2e-11ed-8bb7-841b77d62e9a.idf: 40it [00:01, 22.88it/s]INFO:9742c7a3-df2e-11ed-8bb7-841b77d62e9a.idf:Continuing Simulation at 09/18/2017 for RUN PERIOD 1\n"
     ]
    },
    {
     "name": "stdout",
     "output_type": "stream",
     "text": [
      "Updating Shadowing Calculations, Start Date=08/29/2017\n",
      "Continuing Simulation at 08/29/2017 for RUN PERIOD 1\n",
      "Updating Shadowing Calculations, Start Date=09/18/2017\n",
      "Continuing Simulation at 09/18/2017 for RUN PERIOD 1\n"
     ]
    },
    {
     "name": "stderr",
     "output_type": "stream",
     "text": [
      "C:\\EnergyPlusV9-2-0\\energyplus.exe 9742c7a3-df2e-11ed-8bb7-841b77d62e9a.idf: 41it [00:01, 22.88it/s]INFO:9742c7a3-df2e-11ed-8bb7-841b77d62e9a.idf:Updating Shadowing Calculations, Start Date=10/08/2017\n",
      "C:\\EnergyPlusV9-2-0\\energyplus.exe 9742c7a3-df2e-11ed-8bb7-841b77d62e9a.idf: 42it [00:01, 21.60it/s]INFO:9742c7a3-df2e-11ed-8bb7-841b77d62e9a.idf:Continuing Simulation at 10/08/2017 for RUN PERIOD 1\n",
      "C:\\EnergyPlusV9-2-0\\energyplus.exe 9742c7a3-df2e-11ed-8bb7-841b77d62e9a.idf: 43it [00:01, 21.60it/s]INFO:9742c7a3-df2e-11ed-8bb7-841b77d62e9a.idf:Updating Shadowing Calculations, Start Date=10/28/2017\n",
      "C:\\EnergyPlusV9-2-0\\energyplus.exe 9742c7a3-df2e-11ed-8bb7-841b77d62e9a.idf: 44it [00:01, 21.01it/s]INFO:9742c7a3-df2e-11ed-8bb7-841b77d62e9a.idf:Continuing Simulation at 10/28/2017 for RUN PERIOD 1\n"
     ]
    },
    {
     "name": "stdout",
     "output_type": "stream",
     "text": [
      "Updating Shadowing Calculations, Start Date=10/08/2017\n",
      "Continuing Simulation at 10/08/2017 for RUN PERIOD 1\n",
      "Updating Shadowing Calculations, Start Date=10/28/2017\n",
      "Continuing Simulation at 10/28/2017 for RUN PERIOD 1\n"
     ]
    },
    {
     "name": "stderr",
     "output_type": "stream",
     "text": [
      "C:\\EnergyPlusV9-2-0\\energyplus.exe 9742c7a3-df2e-11ed-8bb7-841b77d62e9a.idf: 45it [00:01, 21.01it/s]INFO:9742c7a3-df2e-11ed-8bb7-841b77d62e9a.idf:Updating Shadowing Calculations, Start Date=11/17/2017\n",
      "C:\\EnergyPlusV9-2-0\\energyplus.exe 9742c7a3-df2e-11ed-8bb7-841b77d62e9a.idf: 46it [00:01, 21.01it/s]INFO:9742c7a3-df2e-11ed-8bb7-841b77d62e9a.idf:Continuing Simulation at 11/17/2017 for RUN PERIOD 1\n",
      "C:\\EnergyPlusV9-2-0\\energyplus.exe 9742c7a3-df2e-11ed-8bb7-841b77d62e9a.idf: 47it [00:01, 21.01it/s]INFO:9742c7a3-df2e-11ed-8bb7-841b77d62e9a.idf:Updating Shadowing Calculations, Start Date=12/07/2017\n",
      "C:\\EnergyPlusV9-2-0\\energyplus.exe 9742c7a3-df2e-11ed-8bb7-841b77d62e9a.idf: 48it [00:01, 21.14it/s]INFO:9742c7a3-df2e-11ed-8bb7-841b77d62e9a.idf:Continuing Simulation at 12/07/2017 for RUN PERIOD 1\n"
     ]
    },
    {
     "name": "stdout",
     "output_type": "stream",
     "text": [
      "Updating Shadowing Calculations, Start Date=11/17/2017\n",
      "Continuing Simulation at 11/17/2017 for RUN PERIOD 1\n",
      "Updating Shadowing Calculations, Start Date=12/07/2017\n",
      "Continuing Simulation at 12/07/2017 for RUN PERIOD 1\n"
     ]
    },
    {
     "name": "stderr",
     "output_type": "stream",
     "text": [
      "C:\\EnergyPlusV9-2-0\\energyplus.exe 9742c7a3-df2e-11ed-8bb7-841b77d62e9a.idf: 49it [00:02, 21.14it/s]INFO:9742c7a3-df2e-11ed-8bb7-841b77d62e9a.idf:Updating Shadowing Calculations, Start Date=12/27/2017\n",
      "C:\\EnergyPlusV9-2-0\\energyplus.exe 9742c7a3-df2e-11ed-8bb7-841b77d62e9a.idf: 50it [00:02, 21.14it/s]INFO:9742c7a3-df2e-11ed-8bb7-841b77d62e9a.idf:Continuing Simulation at 12/27/2017 for RUN PERIOD 1\n",
      "C:\\EnergyPlusV9-2-0\\energyplus.exe 9742c7a3-df2e-11ed-8bb7-841b77d62e9a.idf: 51it [00:02, 22.90it/s]INFO:9742c7a3-df2e-11ed-8bb7-841b77d62e9a.idf:Writing tabular output file results using comma format.\n",
      "C:\\EnergyPlusV9-2-0\\energyplus.exe 9742c7a3-df2e-11ed-8bb7-841b77d62e9a.idf: 52it [00:02, 22.90it/s]INFO:9742c7a3-df2e-11ed-8bb7-841b77d62e9a.idf:Writing tabular output file results using HTML format.\n",
      "C:\\EnergyPlusV9-2-0\\energyplus.exe 9742c7a3-df2e-11ed-8bb7-841b77d62e9a.idf: 53it [00:02, 22.90it/s]INFO:9742c7a3-df2e-11ed-8bb7-841b77d62e9a.idf:Writing final SQL reports\n",
      "C:\\EnergyPlusV9-2-0\\energyplus.exe 9742c7a3-df2e-11ed-8bb7-841b77d62e9a.idf: 54it [00:02, 22.90it/s]INFO:9742c7a3-df2e-11ed-8bb7-841b77d62e9a.idf:EnergyPlus Run Time=00hr 00min  2.04sec\n",
      "C:\\EnergyPlusV9-2-0\\energyplus.exe 9742c7a3-df2e-11ed-8bb7-841b77d62e9a.idf: 55it [00:02, 22.90it/s]INFO:9742c7a3-df2e-11ed-8bb7-841b77d62e9a.idf:EnergyPlus Completed in 2.09 seconds\n",
      "C:\\EnergyPlusV9-2-0\\energyplus.exe 9742c7a3-df2e-11ed-8bb7-841b77d62e9a.idf: 55it [00:02, 25.56it/s]\n"
     ]
    },
    {
     "name": "stdout",
     "output_type": "stream",
     "text": [
      "Updating Shadowing Calculations, Start Date=12/27/2017\n",
      "Continuing Simulation at 12/27/2017 for RUN PERIOD 1\n",
      "Writing tabular output file results using comma format.\n",
      "Writing tabular output file results using HTML format.\n",
      "Writing final SQL reports\n",
      "EnergyPlus Run Time=00hr 00min  2.04sec\n",
      "EnergyPlus Completed in 2.09 seconds\n"
     ]
    },
    {
     "name": "stderr",
     "output_type": "stream",
     "text": [
      "INFO:archetypal:collected data for ['Zone Ideal Loads Zone Total Heating Energy', 'Zone Ideal Loads Zone Total Cooling Energy']\n",
      "INFO:archetypal:collected data for ['Zone Ideal Loads Zone Total Heating Energy', 'Zone Ideal Loads Zone Total Cooling Energy']\n",
      "simulate:  35%|███▌      | 7.00/20.0 [00:22<00:40, 3.10s/runs]INFO:archetypal:No 'ZONEVENTILATION:DESIGNFLOWRATE' created since IsScheduledVentilationOn == False.\n",
      "INFO:archetypal:No 'ZONEVENTILATION:WINDANDSTACKOPENAREA' created since IsNatVentOn == False.\n",
      "INFO:archetypal:No 'ZONEVENTILATION:DESIGNFLOWRATE' created since IsScheduledVentilationOn == False.\n",
      "INFO:archetypal:No 'ZONEVENTILATION:WINDANDSTACKOPENAREA' created since IsNatVentOn == False.\n",
      "INFO:archetypal:collected data for ['Zone Ideal Loads Zone Total Heating Energy', 'Zone Ideal Loads Zone Total Cooling Energy']\n",
      "C:\\EnergyPlusV9-2-0\\ExpandObjects.EXE #0-99486780-df2e-11ed-aa8f-841b77d62e9a.idf: 0.00it [00:00, ?it/s]INFO:99486780-df2e-11ed-aa8f-841b77d62e9a.idf:ExpandObjects Started.\n",
      "C:\\EnergyPlusV9-2-0\\ExpandObjects.EXE #0-99486780-df2e-11ed-aa8f-841b77d62e9a.idf: 1.00it [00:00, 18.2it/s]INFO:99486780-df2e-11ed-aa8f-841b77d62e9a.idf: Begin reading Energy+.idd file.\n",
      "INFO:archetypal:collected data for ['Zone Ideal Loads Zone Total Heating Energy', 'Zone Ideal Loads Zone Total Cooling Energy']\n",
      "                                                                                                           INFO:archetypal:collected data for ['Zone Ideal Loads Zone Total Heating Energy', 'Zone Ideal Loads Zone Total Cooling Energy']\n",
      "C:\\EnergyPlusV9-2-0\\ExpandObjects.EXE #0-99486780-df2e-11ed-aa8f-841b77d62e9a.idf: 2.00it [00:00, 12.8it/s]INFO:99486780-df2e-11ed-aa8f-841b77d62e9a.idf: Done reading Energy+.idd file.\n",
      "                                                                                                           INFO:archetypal:collected data for ['Zone Ideal Loads Zone Total Heating Energy', 'Zone Ideal Loads Zone Total Cooling Energy']\n",
      "simulate:  40%|████      | 8.00/20.0 [00:23<00:28, 2.37s/runs]INFO:99486780-df2e-11ed-aa8f-841b77d62e9a.idf:ExpandObjects Finished. Time:     0.062\n"
     ]
    },
    {
     "name": "stdout",
     "output_type": "stream",
     "text": [
      "ExpandObjects Started.\n",
      " Begin reading Energy+.idd file.\n",
      " Done reading Energy+.idd file.\n",
      "ExpandObjects Finished. Time:     0.062\n"
     ]
    },
    {
     "name": "stderr",
     "output_type": "stream",
     "text": [
      "C:\\EnergyPlusV9-2-0\\ExpandObjects.EXE #0-99486780-df2e-11ed-aa8f-841b77d62e9a.idf: 4.00it [00:00, 18.9it/s]INFO:99486780-df2e-11ed-aa8f-841b77d62e9a.idf:ExpandObjects completed in 0.21 seconds\n",
      "C:\\EnergyPlusV9-2-0\\ExpandObjects.EXE #0-99486780-df2e-11ed-aa8f-841b77d62e9a.idf: 4.00it [00:00, 17.5it/s]\n",
      "INFO:archetypal:collected data for ['Zone Ideal Loads Zone Total Heating Energy', 'Zone Ideal Loads Zone Total Cooling Energy']\n",
      "INFO:archetypal:collected data for ['Zone Ideal Loads Zone Total Heating Energy', 'Zone Ideal Loads Zone Total Cooling Energy']\n",
      "simulate:  50%|█████     | 10.0/20.0 [00:23<00:12, 1.28s/runs]"
     ]
    },
    {
     "name": "stdout",
     "output_type": "stream",
     "text": [
      "ExpandObjects completed in 0.21 seconds\n"
     ]
    },
    {
     "name": "stderr",
     "output_type": "stream",
     "text": [
      "INFO:archetypal:No 'ZONEVENTILATION:DESIGNFLOWRATE' created since IsScheduledVentilationOn == False.\n",
      "INFO:archetypal:No 'ZONEVENTILATION:WINDANDSTACKOPENAREA' created since IsNatVentOn == False.\n",
      "INFO:archetypal:No 'ZONEVENTILATION:DESIGNFLOWRATE' created since IsScheduledVentilationOn == False.\n",
      "INFO:archetypal:No 'ZONEVENTILATION:WINDANDSTACKOPENAREA' created since IsNatVentOn == False.\n",
      "INFO:archetypal:No 'ZONEVENTILATION:DESIGNFLOWRATE' created since IsScheduledVentilationOn == False.\n",
      "INFO:archetypal:No 'ZONEVENTILATION:WINDANDSTACKOPENAREA' created since IsNatVentOn == False.\n",
      "INFO:archetypal:No 'ZONEVENTILATION:DESIGNFLOWRATE' created since IsScheduledVentilationOn == False.\n",
      "INFO:archetypal:No 'ZONEVENTILATION:WINDANDSTACKOPENAREA' created since IsNatVentOn == False.\n",
      "C:\\EnergyPlusV9-2-0\\energyplus.exe 99486780-df2e-11ed-aa8f-841b77d62e9a.idf: 0it [00:00, ?it/s]INFO:99486780-df2e-11ed-aa8f-841b77d62e9a.idf:Simulation started\n",
      "INFO:archetypal:No 'ZONEVENTILATION:DESIGNFLOWRATE' created since IsScheduledVentilationOn == False.\n",
      "INFO:archetypal:No 'ZONEVENTILATION:WINDANDSTACKOPENAREA' created since IsNatVentOn == False.\n",
      "INFO:archetypal:No 'ZONEVENTILATION:DESIGNFLOWRATE' created since IsScheduledVentilationOn == False.\n",
      "INFO:archetypal:No 'ZONEVENTILATION:WINDANDSTACKOPENAREA' created since IsNatVentOn == False.\n"
     ]
    },
    {
     "name": "stdout",
     "output_type": "stream",
     "text": [
      "Simulation started\n"
     ]
    },
    {
     "name": "stderr",
     "output_type": "stream",
     "text": [
      "C:\\EnergyPlusV9-2-0\\energyplus.exe 99486780-df2e-11ed-aa8f-841b77d62e9a.idf: 0it [00:00, ?it/s]INFO:99486780-df2e-11ed-aa8f-841b77d62e9a.idf:EnergyPlus Starting\n",
      "C:\\EnergyPlusV9-2-0\\energyplus.exe 99486780-df2e-11ed-aa8f-841b77d62e9a.idf: 1it [00:00,  4.04it/s]INFO:99486780-df2e-11ed-aa8f-841b77d62e9a.idf:EnergyPlus, Version 9.2.0-921312fa1d, YMD=2023.04.19 20:51\n",
      "C:\\EnergyPlusV9-2-0\\energyplus.exe 99486780-df2e-11ed-aa8f-841b77d62e9a.idf: 2it [00:00,  4.04it/s]INFO:99486780-df2e-11ed-aa8f-841b77d62e9a.idf:Adjusting Air System Sizing\n",
      "C:\\EnergyPlusV9-2-0\\energyplus.exe 99486780-df2e-11ed-aa8f-841b77d62e9a.idf: 3it [00:00,  4.04it/s]INFO:99486780-df2e-11ed-aa8f-841b77d62e9a.idf:Adjusting Standard 62.1 Ventilation Sizing\n",
      "C:\\EnergyPlusV9-2-0\\energyplus.exe 99486780-df2e-11ed-aa8f-841b77d62e9a.idf: 4it [00:00,  4.04it/s]INFO:99486780-df2e-11ed-aa8f-841b77d62e9a.idf:Initializing Simulation\n",
      "C:\\EnergyPlusV9-2-0\\energyplus.exe 99486780-df2e-11ed-aa8f-841b77d62e9a.idf: 5it [00:00,  4.04it/s]INFO:99486780-df2e-11ed-aa8f-841b77d62e9a.idf:Reporting Surfaces\n",
      "C:\\EnergyPlusV9-2-0\\energyplus.exe 99486780-df2e-11ed-aa8f-841b77d62e9a.idf: 6it [00:00,  4.04it/s]INFO:99486780-df2e-11ed-aa8f-841b77d62e9a.idf:Beginning Primary Simulation\n",
      "C:\\EnergyPlusV9-2-0\\energyplus.exe 99486780-df2e-11ed-aa8f-841b77d62e9a.idf: 7it [00:00,  4.04it/s]INFO:99486780-df2e-11ed-aa8f-841b77d62e9a.idf:Initializing New Environment Parameters\n"
     ]
    },
    {
     "name": "stdout",
     "output_type": "stream",
     "text": [
      "EnergyPlus Starting\n",
      "EnergyPlus, Version 9.2.0-921312fa1d, YMD=2023.04.19 20:51\n",
      "Adjusting Air System Sizing\n",
      "Adjusting Standard 62.1 Ventilation Sizing\n",
      "Initializing Simulation\n",
      "Reporting Surfaces\n",
      "Beginning Primary Simulation\n",
      "Initializing New Environment Parameters\n"
     ]
    },
    {
     "name": "stderr",
     "output_type": "stream",
     "text": [
      "C:\\EnergyPlusV9-2-0\\energyplus.exe 99486780-df2e-11ed-aa8f-841b77d62e9a.idf: 8it [00:00,  4.04it/s]INFO:99486780-df2e-11ed-aa8f-841b77d62e9a.idf:Warming up {1}\n",
      "C:\\EnergyPlusV9-2-0\\energyplus.exe 99486780-df2e-11ed-aa8f-841b77d62e9a.idf: 9it [00:00, 30.13it/s]INFO:99486780-df2e-11ed-aa8f-841b77d62e9a.idf:Warming up {2}\n",
      "C:\\EnergyPlusV9-2-0\\energyplus.exe 99486780-df2e-11ed-aa8f-841b77d62e9a.idf: 10it [00:00, 30.13it/s]INFO:99db391f-df2e-11ed-a712-841b77d62e9a.idf:ExpandObjects Started.\n",
      "C:\\EnergyPlusV9-2-0\\energyplus.exe 99486780-df2e-11ed-aa8f-841b77d62e9a.idf: 10it [00:00, 30.13it/s]INFO:99486780-df2e-11ed-aa8f-841b77d62e9a.idf:Warming up {3}\n",
      "                                                              "
     ]
    },
    {
     "name": "stdout",
     "output_type": "stream",
     "text": [
      "Warming up {1}\n",
      "Warming up {2}\n",
      "ExpandObjects Started.\n",
      "Warming up {3}\n"
     ]
    },
    {
     "name": "stderr",
     "output_type": "stream",
     "text": [
      "                                                              INFO:99db391f-df2e-11ed-a712-841b77d62e9a.idf: Begin reading Energy+.idd file.\n",
      "C:\\EnergyPlusV9-2-0\\energyplus.exe 99486780-df2e-11ed-aa8f-841b77d62e9a.idf: 11it [00:00, 30.13it/s]"
     ]
    },
    {
     "name": "stdout",
     "output_type": "stream",
     "text": [
      " Begin reading Energy+.idd file.\n",
      "Warming up {4}\n"
     ]
    },
    {
     "name": "stderr",
     "output_type": "stream",
     "text": [
      "C:\\EnergyPlusV9-2-0\\ExpandObjects.EXE #0-99c844f5-df2e-11ed-bd36-841b77d62e9a.idf: 0.00it [00:00, ?it/s]INFO:99486780-df2e-11ed-aa8f-841b77d62e9a.idf:Warming up {4}\n",
      "C:\\EnergyPlusV9-2-0\\energyplus.exe 99486780-df2e-11ed-aa8f-841b77d62e9a.idf: 12it [00:00, 30.13it/s]INFO:99486780-df2e-11ed-aa8f-841b77d62e9a.idf:Warming up {5}\n"
     ]
    },
    {
     "name": "stdout",
     "output_type": "stream",
     "text": [
      "Warming up {5}\n"
     ]
    },
    {
     "name": "stderr",
     "output_type": "stream",
     "text": [
      "C:\\EnergyPlusV9-2-0\\ExpandObjects.EXE #0-99e5bdc4-df2e-11ed-909d-841b77d62e9a.idf: 0.00it [00:00, ?it/s]INFO:99486780-df2e-11ed-aa8f-841b77d62e9a.idf:Warming up {6}\n",
      "                                                              INFO:99c844f5-df2e-11ed-bd36-841b77d62e9a.idf:ExpandObjects Started.\n",
      "C:\\EnergyPlusV9-2-0\\energyplus.exe 99486780-df2e-11ed-aa8f-841b77d62e9a.idf: 14it [00:00, 30.13it/s]INFO:99486780-df2e-11ed-aa8f-841b77d62e9a.idf:Starting Simulation at 01/01/2017 for RUN PERIOD 1\n",
      "C:\\EnergyPlusV9-2-0\\energyplus.exe 99486780-df2e-11ed-aa8f-841b77d62e9a.idf: 15it [00:00, 36.78it/s]INFO:99db391f-df2e-11ed-a712-841b77d62e9a.idf: Done reading Energy+.idd file.\n",
      "C:\\EnergyPlusV9-2-0\\energyplus.exe 99486780-df2e-11ed-aa8f-841b77d62e9a.idf: 15it [00:00, 36.78it/s]INFO:99c844f5-df2e-11ed-bd36-841b77d62e9a.idf: Begin reading Energy+.idd file.\n",
      "C:\\EnergyPlusV9-2-0\\ExpandObjects.EXE #0-99db391f-df2e-11ed-a712-841b77d62e9a.idf: 3.00it [00:00, 19.6it/s]INFO:99e5bdc4-df2e-11ed-909d-841b77d62e9a.idf:ExpandObjects Started.\n"
     ]
    },
    {
     "name": "stdout",
     "output_type": "stream",
     "text": [
      "Warming up {6}\n",
      "ExpandObjects Started.\n",
      "Starting Simulation at 01/01/2017 for RUN PERIOD 1\n",
      " Done reading Energy+.idd file.\n",
      " Begin reading Energy+.idd file.\n",
      "ExpandObjects Started.\n"
     ]
    },
    {
     "name": "stderr",
     "output_type": "stream",
     "text": [
      "C:\\EnergyPlusV9-2-0\\energyplus.exe 99486780-df2e-11ed-aa8f-841b77d62e9a.idf: 15it [00:00, 36.78it/s]INFO:99486780-df2e-11ed-aa8f-841b77d62e9a.idf:Updating Shadowing Calculations, Start Date=01/21/2017\n",
      "                                                              INFO:99db391f-df2e-11ed-a712-841b77d62e9a.idf:ExpandObjects Finished. Time:     0.062\n",
      "C:\\EnergyPlusV9-2-0\\energyplus.exe 99486780-df2e-11ed-aa8f-841b77d62e9a.idf: 16it [00:00, 36.78it/s]INFO:99e5bdc4-df2e-11ed-909d-841b77d62e9a.idf: Begin reading Energy+.idd file.\n",
      "C:\\EnergyPlusV9-2-0\\energyplus.exe 99486780-df2e-11ed-aa8f-841b77d62e9a.idf: 16it [00:00, 36.78it/s]INFO:99486780-df2e-11ed-aa8f-841b77d62e9a.idf:Continuing Simulation at 01/21/2017 for RUN PERIOD 1\n",
      "C:\\EnergyPlusV9-2-0\\energyplus.exe 99486780-df2e-11ed-aa8f-841b77d62e9a.idf: 17it [00:00, 36.78it/s]INFO:99c844f5-df2e-11ed-bd36-841b77d62e9a.idf: Done reading Energy+.idd file.\n"
     ]
    },
    {
     "name": "stdout",
     "output_type": "stream",
     "text": [
      "Updating Shadowing Calculations, Start Date=01/21/2017\n",
      "ExpandObjects Finished. Time:     0.062\n",
      " Begin reading Energy+.idd file.\n",
      "Continuing Simulation at 01/21/2017 for RUN PERIOD 1\n",
      " Done reading Energy+.idd file.\n"
     ]
    },
    {
     "name": "stderr",
     "output_type": "stream",
     "text": [
      "C:\\EnergyPlusV9-2-0\\ExpandObjects.EXE #0-99e5bdc4-df2e-11ed-909d-841b77d62e9a.idf: 2.00it [00:00, 17.7it/s]INFO:99db391f-df2e-11ed-a712-841b77d62e9a.idf:ExpandObjects completed in 0.20 seconds\n"
     ]
    },
    {
     "name": "stdout",
     "output_type": "stream",
     "text": [
      "ExpandObjects completed in 0.20 seconds\n"
     ]
    },
    {
     "name": "stderr",
     "output_type": "stream",
     "text": [
      "C:\\EnergyPlusV9-2-0\\ExpandObjects.EXE #0-99c844f5-df2e-11ed-bd36-841b77d62e9a.idf: 3.00it [00:00, 17.9it/s]INFO:99486780-df2e-11ed-aa8f-841b77d62e9a.idf:Updating Shadowing Calculations, Start Date=02/10/2017\n"
     ]
    },
    {
     "name": "stdout",
     "output_type": "stream",
     "text": [
      "Updating Shadowing Calculations, Start Date=02/10/2017\n"
     ]
    },
    {
     "name": "stderr",
     "output_type": "stream",
     "text": [
      "C:\\EnergyPlusV9-2-0\\energyplus.exe 99486780-df2e-11ed-aa8f-841b77d62e9a.idf: 18it [00:00, 31.74it/s]INFO:99e5bdc4-df2e-11ed-909d-841b77d62e9a.idf: Done reading Energy+.idd file.\n",
      "C:\\EnergyPlusV9-2-0\\energyplus.exe 99486780-df2e-11ed-aa8f-841b77d62e9a.idf: 18it [00:00, 31.74it/s]INFO:99c844f5-df2e-11ed-bd36-841b77d62e9a.idf:ExpandObjects Finished. Time:     0.062\n",
      "C:\\EnergyPlusV9-2-0\\ExpandObjects.EXE #0-99db391f-df2e-11ed-a712-841b77d62e9a.idf: 4.00it [00:00, 13.3it/s]\n",
      "C:\\EnergyPlusV9-2-0\\energyplus.exe 99486780-df2e-11ed-aa8f-841b77d62e9a.idf: 18it [00:00, 31.74it/s]INFO:99e5bdc4-df2e-11ed-909d-841b77d62e9a.idf:ExpandObjects Finished. Time:     0.094\n",
      "                                                              INFO:99486780-df2e-11ed-aa8f-841b77d62e9a.idf:Continuing Simulation at 02/10/2017 for RUN PERIOD 1\n",
      "C:\\EnergyPlusV9-2-0\\energyplus.exe 99486780-df2e-11ed-aa8f-841b77d62e9a.idf: 19it [00:00, 31.74it/s]INFO:99c844f5-df2e-11ed-bd36-841b77d62e9a.idf:ExpandObjects completed in 0.21 seconds\n",
      "C:\\EnergyPlusV9-2-0\\ExpandObjects.EXE #0-99e5bdc4-df2e-11ed-909d-841b77d62e9a.idf: 4.00it [00:00, 17.7it/s]"
     ]
    },
    {
     "name": "stdout",
     "output_type": "stream",
     "text": [
      " Done reading Energy+.idd file.\n",
      "ExpandObjects Finished. Time:     0.062\n",
      "ExpandObjects Finished. Time:     0.094\n",
      "Continuing Simulation at 02/10/2017 for RUN PERIOD 1\n",
      "ExpandObjects completed in 0.21 seconds\n",
      "ExpandObjects completed in 0.20 seconds\n"
     ]
    },
    {
     "name": "stderr",
     "output_type": "stream",
     "text": [
      "C:\\EnergyPlusV9-2-0\\energyplus.exe 99486780-df2e-11ed-aa8f-841b77d62e9a.idf: 19it [00:00, 31.74it/s]INFO:99e5bdc4-df2e-11ed-909d-841b77d62e9a.idf:ExpandObjects completed in 0.20 seconds\n",
      "C:\\EnergyPlusV9-2-0\\ExpandObjects.EXE #0-99c844f5-df2e-11ed-bd36-841b77d62e9a.idf: 4.00it [00:00, 10.6it/s]\n",
      "C:\\EnergyPlusV9-2-0\\ExpandObjects.EXE #0-99e5bdc4-df2e-11ed-909d-841b77d62e9a.idf: 4.00it [00:00, 11.4it/s]INFO:99486780-df2e-11ed-aa8f-841b77d62e9a.idf:Updating Shadowing Calculations, Start Date=03/02/2017\n",
      "\n",
      "C:\\EnergyPlusV9-2-0\\energyplus.exe 99486780-df2e-11ed-aa8f-841b77d62e9a.idf: 20it [00:00, 22.84it/s]"
     ]
    },
    {
     "name": "stdout",
     "output_type": "stream",
     "text": [
      "Updating Shadowing Calculations, Start Date=03/02/2017\n",
      "Continuing Simulation at 03/02/2017 for RUN PERIOD 1\n"
     ]
    },
    {
     "name": "stderr",
     "output_type": "stream",
     "text": [
      "INFO:99486780-df2e-11ed-aa8f-841b77d62e9a.idf:Continuing Simulation at 03/02/2017 for RUN PERIOD 1\n",
      "C:\\EnergyPlusV9-2-0\\energyplus.exe 99486780-df2e-11ed-aa8f-841b77d62e9a.idf: 21it [00:00, 22.84it/s]INFO:99486780-df2e-11ed-aa8f-841b77d62e9a.idf:Updating Shadowing Calculations, Start Date=03/22/2017\n",
      "C:\\EnergyPlusV9-2-0\\energyplus.exe 99486780-df2e-11ed-aa8f-841b77d62e9a.idf: 22it [00:00, 22.84it/s]INFO:99486780-df2e-11ed-aa8f-841b77d62e9a.idf:Continuing Simulation at 03/22/2017 for RUN PERIOD 1\n",
      "C:\\EnergyPlusV9-2-0\\energyplus.exe 99486780-df2e-11ed-aa8f-841b77d62e9a.idf: 23it [00:00, 22.84it/s]INFO:99486780-df2e-11ed-aa8f-841b77d62e9a.idf:Updating Shadowing Calculations, Start Date=04/11/2017\n",
      "C:\\EnergyPlusV9-2-0\\energyplus.exe 99486780-df2e-11ed-aa8f-841b77d62e9a.idf: 24it [00:00, 22.84it/s]INFO:99486780-df2e-11ed-aa8f-841b77d62e9a.idf:Continuing Simulation at 04/11/2017 for RUN PERIOD 1\n"
     ]
    },
    {
     "name": "stdout",
     "output_type": "stream",
     "text": [
      "Updating Shadowing Calculations, Start Date=03/22/2017\n",
      "Continuing Simulation at 03/22/2017 for RUN PERIOD 1\n",
      "Updating Shadowing Calculations, Start Date=04/11/2017\n",
      "Continuing Simulation at 04/11/2017 for RUN PERIOD 1\n"
     ]
    },
    {
     "name": "stderr",
     "output_type": "stream",
     "text": [
      "C:\\EnergyPlusV9-2-0\\energyplus.exe 99486780-df2e-11ed-aa8f-841b77d62e9a.idf: 25it [00:01, 22.84it/s]INFO:99486780-df2e-11ed-aa8f-841b77d62e9a.idf:Updating Shadowing Calculations, Start Date=05/01/2017\n",
      "C:\\EnergyPlusV9-2-0\\energyplus.exe 99486780-df2e-11ed-aa8f-841b77d62e9a.idf: 26it [00:01, 21.97it/s]INFO:99486780-df2e-11ed-aa8f-841b77d62e9a.idf:Continuing Simulation at 05/01/2017 for RUN PERIOD 1\n",
      "C:\\EnergyPlusV9-2-0\\energyplus.exe 99486780-df2e-11ed-aa8f-841b77d62e9a.idf: 27it [00:01, 21.97it/s]INFO:99486780-df2e-11ed-aa8f-841b77d62e9a.idf:Updating Shadowing Calculations, Start Date=05/21/2017\n",
      "C:\\EnergyPlusV9-2-0\\energyplus.exe 99486780-df2e-11ed-aa8f-841b77d62e9a.idf: 28it [00:01, 21.97it/s]INFO:99486780-df2e-11ed-aa8f-841b77d62e9a.idf:Continuing Simulation at 05/21/2017 for RUN PERIOD 1\n",
      "C:\\EnergyPlusV9-2-0\\energyplus.exe 99486780-df2e-11ed-aa8f-841b77d62e9a.idf: 29it [00:01, 21.97it/s]INFO:99486780-df2e-11ed-aa8f-841b77d62e9a.idf:Updating Shadowing Calculations, Start Date=06/10/2017\n",
      "C:\\EnergyPlusV9-2-0\\energyplus.exe 99486780-df2e-11ed-aa8f-841b77d62e9a.idf: 30it [00:01, 21.97it/s]INFO:99486780-df2e-11ed-aa8f-841b77d62e9a.idf:Continuing Simulation at 06/10/2017 for RUN PERIOD 1\n",
      "C:\\EnergyPlusV9-2-0\\energyplus.exe 99486780-df2e-11ed-aa8f-841b77d62e9a.idf: 31it [00:01, 21.97it/s]INFO:99486780-df2e-11ed-aa8f-841b77d62e9a.idf:Updating Shadowing Calculations, Start Date=06/30/2017\n",
      "C:\\EnergyPlusV9-2-0\\energyplus.exe 99486780-df2e-11ed-aa8f-841b77d62e9a.idf: 32it [00:01, 21.97it/s]INFO:99486780-df2e-11ed-aa8f-841b77d62e9a.idf:Continuing Simulation at 06/30/2017 for RUN PERIOD 1\n"
     ]
    },
    {
     "name": "stdout",
     "output_type": "stream",
     "text": [
      "Updating Shadowing Calculations, Start Date=05/01/2017\n",
      "Continuing Simulation at 05/01/2017 for RUN PERIOD 1\n",
      "Updating Shadowing Calculations, Start Date=05/21/2017\n",
      "Continuing Simulation at 05/21/2017 for RUN PERIOD 1\n",
      "Updating Shadowing Calculations, Start Date=06/10/2017\n",
      "Continuing Simulation at 06/10/2017 for RUN PERIOD 1\n",
      "Updating Shadowing Calculations, Start Date=06/30/2017\n",
      "Continuing Simulation at 06/30/2017 for RUN PERIOD 1\n"
     ]
    },
    {
     "name": "stderr",
     "output_type": "stream",
     "text": [
      "C:\\EnergyPlusV9-2-0\\energyplus.exe 99486780-df2e-11ed-aa8f-841b77d62e9a.idf: 33it [00:01, 21.97it/s]INFO:99486780-df2e-11ed-aa8f-841b77d62e9a.idf:Updating Shadowing Calculations, Start Date=07/20/2017\n",
      "C:\\EnergyPlusV9-2-0\\energyplus.exe 99486780-df2e-11ed-aa8f-841b77d62e9a.idf: 34it [00:01, 28.07it/s]INFO:99486780-df2e-11ed-aa8f-841b77d62e9a.idf:Continuing Simulation at 07/20/2017 for RUN PERIOD 1\n"
     ]
    },
    {
     "name": "stdout",
     "output_type": "stream",
     "text": [
      "Updating Shadowing Calculations, Start Date=07/20/2017\n",
      "Continuing Simulation at 07/20/2017 for RUN PERIOD 1\n"
     ]
    },
    {
     "name": "stderr",
     "output_type": "stream",
     "text": [
      "                                                              INFO:99db391f-df2e-11ed-a712-841b77d62e9a.idf:Simulation started\n",
      "C:\\EnergyPlusV9-2-0\\energyplus.exe 99db391f-df2e-11ed-a712-841b77d62e9a.idf: 0it [00:00, ?it/s]INFO:99486780-df2e-11ed-aa8f-841b77d62e9a.idf:Updating Shadowing Calculations, Start Date=08/09/2017\n",
      "C:\\EnergyPlusV9-2-0\\energyplus.exe 99486780-df2e-11ed-aa8f-841b77d62e9a.idf: 36it [00:01, 26.21it/s]INFO:99db391f-df2e-11ed-a712-841b77d62e9a.idf:EnergyPlus Starting\n",
      "                                                              "
     ]
    },
    {
     "name": "stdout",
     "output_type": "stream",
     "text": [
      "Simulation started\n",
      "Updating Shadowing Calculations, Start Date=08/09/2017\n",
      "EnergyPlus Starting\n"
     ]
    },
    {
     "name": "stderr",
     "output_type": "stream",
     "text": [
      "C:\\EnergyPlusV9-2-0\\energyplus.exe 99db391f-df2e-11ed-a712-841b77d62e9a.idf: 1it [00:00, 14.94it/s]"
     ]
    },
    {
     "name": "stdout",
     "output_type": "stream",
     "text": [
      "Continuing Simulation at 08/09/2017 for RUN PERIOD 1\n"
     ]
    },
    {
     "name": "stderr",
     "output_type": "stream",
     "text": [
      "INFO:99486780-df2e-11ed-aa8f-841b77d62e9a.idf:Continuing Simulation at 08/09/2017 for RUN PERIOD 1\n",
      "C:\\EnergyPlusV9-2-0\\energyplus.exe 99e5bdc4-df2e-11ed-909d-841b77d62e9a.idf: 0it [00:00, ?it/s]INFO:99db391f-df2e-11ed-a712-841b77d62e9a.idf:EnergyPlus, Version 9.2.0-921312fa1d, YMD=2023.04.19 20:51\n",
      "C:\\EnergyPlusV9-2-0\\energyplus.exe 99db391f-df2e-11ed-a712-841b77d62e9a.idf: 2it [00:00, 21.03it/s]INFO:99e5bdc4-df2e-11ed-909d-841b77d62e9a.idf:Simulation started\n",
      "C:\\EnergyPlusV9-2-0\\energyplus.exe 99db391f-df2e-11ed-a712-841b77d62e9a.idf: 2it [00:00, 18.54it/s]"
     ]
    },
    {
     "name": "stdout",
     "output_type": "stream",
     "text": [
      "EnergyPlus, Version 9.2.0-921312fa1d, YMD=2023.04.19 20:51\n",
      "Simulation started\n",
      "Simulation started\n"
     ]
    },
    {
     "name": "stderr",
     "output_type": "stream",
     "text": [
      "                                                              INFO:99c844f5-df2e-11ed-bd36-841b77d62e9a.idf:Simulation started\n",
      "C:\\EnergyPlusV9-2-0\\energyplus.exe 99db391f-df2e-11ed-a712-841b77d62e9a.idf: 2it [00:00, 16.40it/s]INFO:99e5bdc4-df2e-11ed-909d-841b77d62e9a.idf:EnergyPlus Starting\n",
      "                                                              INFO:99c844f5-df2e-11ed-bd36-841b77d62e9a.idf:EnergyPlus Starting\n",
      "                                                              INFO:99486780-df2e-11ed-aa8f-841b77d62e9a.idf:Updating Shadowing Calculations, Start Date=08/29/2017\n",
      "C:\\EnergyPlusV9-2-0\\energyplus.exe 99db391f-df2e-11ed-a712-841b77d62e9a.idf: 2it [00:00, 12.43it/s]INFO:99e5bdc4-df2e-11ed-909d-841b77d62e9a.idf:EnergyPlus, Version 9.2.0-921312fa1d, YMD=2023.04.19 20:51\n",
      "C:\\EnergyPlusV9-2-0\\energyplus.exe 99db391f-df2e-11ed-a712-841b77d62e9a.idf: 2it [00:00, 11.56it/s]INFO:99c844f5-df2e-11ed-bd36-841b77d62e9a.idf:EnergyPlus, Version 9.2.0-921312fa1d, YMD=2023.04.19 20:51\n",
      "C:\\EnergyPlusV9-2-0\\energyplus.exe 99db391f-df2e-11ed-a712-841b77d62e9a.idf: 2it [00:00, 10.72it/s]INFO:99486780-df2e-11ed-aa8f-841b77d62e9a.idf:Continuing Simulation at 08/29/2017 for RUN PERIOD 1\n"
     ]
    },
    {
     "name": "stdout",
     "output_type": "stream",
     "text": [
      "EnergyPlus Starting\n",
      "EnergyPlus Starting\n",
      "Updating Shadowing Calculations, Start Date=08/29/2017\n",
      "EnergyPlus, Version 9.2.0-921312fa1d, YMD=2023.04.19 20:51\n",
      "EnergyPlus, Version 9.2.0-921312fa1d, YMD=2023.04.19 20:51\n",
      "Continuing Simulation at 08/29/2017 for RUN PERIOD 1\n"
     ]
    },
    {
     "name": "stderr",
     "output_type": "stream",
     "text": [
      "                                                              INFO:99db391f-df2e-11ed-a712-841b77d62e9a.idf:Adjusting Air System Sizing\n",
      "C:\\EnergyPlusV9-2-0\\energyplus.exe 99db391f-df2e-11ed-a712-841b77d62e9a.idf: 3it [00:00, 12.84it/s]INFO:99486780-df2e-11ed-aa8f-841b77d62e9a.idf:Updating Shadowing Calculations, Start Date=09/18/2017\n"
     ]
    },
    {
     "name": "stdout",
     "output_type": "stream",
     "text": [
      "Adjusting Air System Sizing\n",
      "Updating Shadowing Calculations, Start Date=09/18/2017\n"
     ]
    },
    {
     "name": "stderr",
     "output_type": "stream",
     "text": [
      "C:\\EnergyPlusV9-2-0\\energyplus.exe 99db391f-df2e-11ed-a712-841b77d62e9a.idf: 3it [00:00, 12.84it/s]INFO:99db391f-df2e-11ed-a712-841b77d62e9a.idf:Adjusting Standard 62.1 Ventilation Sizing\n",
      "C:\\EnergyPlusV9-2-0\\energyplus.exe 99db391f-df2e-11ed-a712-841b77d62e9a.idf: 4it [00:00, 12.84it/s]INFO:99486780-df2e-11ed-aa8f-841b77d62e9a.idf:Continuing Simulation at 09/18/2017 for RUN PERIOD 1\n",
      "C:\\EnergyPlusV9-2-0\\energyplus.exe 99486780-df2e-11ed-aa8f-841b77d62e9a.idf: 41it [00:01, 24.69it/s]INFO:99db391f-df2e-11ed-a712-841b77d62e9a.idf:Initializing Simulation\n",
      "                                                                                                   "
     ]
    },
    {
     "name": "stdout",
     "output_type": "stream",
     "text": [
      "Adjusting Standard 62.1 Ventilation Sizing\n",
      "Continuing Simulation at 09/18/2017 for RUN PERIOD 1\n",
      "Initializing Simulation\n"
     ]
    },
    {
     "name": "stderr",
     "output_type": "stream",
     "text": [
      "C:\\EnergyPlusV9-2-0\\energyplus.exe 99db391f-df2e-11ed-a712-841b77d62e9a.idf: 5it [00:00, 12.84it/s]INFO:99db391f-df2e-11ed-a712-841b77d62e9a.idf:Reporting Surfaces\n",
      "C:\\EnergyPlusV9-2-0\\energyplus.exe 99db391f-df2e-11ed-a712-841b77d62e9a.idf: 6it [00:00, 12.84it/s]INFO:99db391f-df2e-11ed-a712-841b77d62e9a.idf:Beginning Primary Simulation\n",
      "                                                              INFO:99e5bdc4-df2e-11ed-909d-841b77d62e9a.idf:Adjusting Air System Sizing\n",
      "C:\\EnergyPlusV9-2-0\\energyplus.exe 99db391f-df2e-11ed-a712-841b77d62e9a.idf: 7it [00:00, 12.84it/s]INFO:99db391f-df2e-11ed-a712-841b77d62e9a.idf:Initializing New Environment Parameters\n",
      "C:\\EnergyPlusV9-2-0\\energyplus.exe 99e5bdc4-df2e-11ed-909d-841b77d62e9a.idf: 3it [00:00, 11.70it/s]INFO:99486780-df2e-11ed-aa8f-841b77d62e9a.idf:Updating Shadowing Calculations, Start Date=10/08/2017\n",
      "                                                              INFO:99c844f5-df2e-11ed-bd36-841b77d62e9a.idf:Adjusting Air System Sizing\n",
      "C:\\EnergyPlusV9-2-0\\energyplus.exe 99db391f-df2e-11ed-a712-841b77d62e9a.idf: 8it [00:00, 25.42it/s]INFO:99e5bdc4-df2e-11ed-909d-841b77d62e9a.idf:Adjusting Standard 62.1 Ventilation Sizing\n",
      "C:\\EnergyPlusV9-2-0\\energyplus.exe 99db391f-df2e-11ed-a712-841b77d62e9a.idf: 8it [00:00, 25.42it/s]"
     ]
    },
    {
     "name": "stdout",
     "output_type": "stream",
     "text": [
      "Reporting Surfaces\n",
      "Beginning Primary Simulation\n",
      "Adjusting Air System Sizing\n",
      "Initializing New Environment Parameters\n",
      "Updating Shadowing Calculations, Start Date=10/08/2017\n",
      "Adjusting Air System Sizing\n",
      "Adjusting Standard 62.1 Ventilation Sizing\n",
      "Continuing Simulation at 10/08/2017 for RUN PERIOD 1\n"
     ]
    },
    {
     "name": "stderr",
     "output_type": "stream",
     "text": [
      "INFO:99486780-df2e-11ed-aa8f-841b77d62e9a.idf:Continuing Simulation at 10/08/2017 for RUN PERIOD 1\n",
      "C:\\EnergyPlusV9-2-0\\energyplus.exe 99c844f5-df2e-11ed-bd36-841b77d62e9a.idf: 3it [00:00,  9.94it/s]INFO:99db391f-df2e-11ed-a712-841b77d62e9a.idf:Warming up {1}\n",
      "C:\\EnergyPlusV9-2-0\\energyplus.exe 99486780-df2e-11ed-aa8f-841b77d62e9a.idf: 43it [00:01, 21.70it/s]INFO:99e5bdc4-df2e-11ed-909d-841b77d62e9a.idf:Initializing Simulation\n"
     ]
    },
    {
     "name": "stdout",
     "output_type": "stream",
     "text": [
      "Warming up {1}\n",
      "Initializing Simulation\n"
     ]
    },
    {
     "name": "stderr",
     "output_type": "stream",
     "text": [
      "INFO:99c844f5-df2e-11ed-bd36-841b77d62e9a.idf:Adjusting Standard 62.1 Ventilation Sizing\n",
      "C:\\EnergyPlusV9-2-0\\energyplus.exe 99e5bdc4-df2e-11ed-909d-841b77d62e9a.idf: 5it [00:00, 14.56it/s]INFO:99db391f-df2e-11ed-a712-841b77d62e9a.idf:Warming up {2}\n",
      "C:\\EnergyPlusV9-2-0\\energyplus.exe 99db391f-df2e-11ed-a712-841b77d62e9a.idf: 10it [00:00, 22.40it/s]INFO:99486780-df2e-11ed-aa8f-841b77d62e9a.idf:Updating Shadowing Calculations, Start Date=10/28/2017\n"
     ]
    },
    {
     "name": "stdout",
     "output_type": "stream",
     "text": [
      "Adjusting Standard 62.1 Ventilation Sizing\n",
      "Warming up {2}\n",
      "Updating Shadowing Calculations, Start Date=10/28/2017\n"
     ]
    },
    {
     "name": "stderr",
     "output_type": "stream",
     "text": [
      "                                                              INFO:99c844f5-df2e-11ed-bd36-841b77d62e9a.idf:Initializing Simulation\n",
      "C:\\EnergyPlusV9-2-0\\energyplus.exe 99db391f-df2e-11ed-a712-841b77d62e9a.idf: 10it [00:00, 22.40it/s]INFO:99e5bdc4-df2e-11ed-909d-841b77d62e9a.idf:Reporting Surfaces\n",
      "C:\\EnergyPlusV9-2-0\\energyplus.exe 99c844f5-df2e-11ed-bd36-841b77d62e9a.idf: 5it [00:00, 11.07it/s]INFO:99486780-df2e-11ed-aa8f-841b77d62e9a.idf:Continuing Simulation at 10/28/2017 for RUN PERIOD 1\n"
     ]
    },
    {
     "name": "stdout",
     "output_type": "stream",
     "text": [
      "Initializing Simulation\n",
      "Reporting Surfaces\n",
      "Continuing Simulation at 10/28/2017 for RUN PERIOD 1\n"
     ]
    },
    {
     "name": "stderr",
     "output_type": "stream",
     "text": [
      "C:\\EnergyPlusV9-2-0\\energyplus.exe 99e5bdc4-df2e-11ed-909d-841b77d62e9a.idf: 6it [00:00, 11.95it/s]INFO:99db391f-df2e-11ed-a712-841b77d62e9a.idf:Warming up {3}\n",
      "C:\\EnergyPlusV9-2-0\\energyplus.exe 99486780-df2e-11ed-aa8f-841b77d62e9a.idf: 45it [00:01, 18.06it/s]INFO:99c844f5-df2e-11ed-bd36-841b77d62e9a.idf:Reporting Surfaces\n"
     ]
    },
    {
     "name": "stdout",
     "output_type": "stream",
     "text": [
      "Warming up {3}\n",
      "Reporting Surfaces\n"
     ]
    },
    {
     "name": "stderr",
     "output_type": "stream",
     "text": [
      "simulate:  50%|█████     | 10.0/20.0 [00:26<00:12, 1.28s/runs]INFO:archetypal:collected data for ['Zone Ideal Loads Zone Total Heating Energy', 'Zone Ideal Loads Zone Total Cooling Energy']\n"
     ]
    },
    {
     "name": "stdout",
     "output_type": "stream",
     "text": [
      "Beginning Primary Simulation\n"
     ]
    },
    {
     "name": "stderr",
     "output_type": "stream",
     "text": [
      "C:\\EnergyPlusV9-2-0\\energyplus.exe 99db391f-df2e-11ed-a712-841b77d62e9a.idf: 11it [00:00, 16.59it/s]INFO:99e5bdc4-df2e-11ed-909d-841b77d62e9a.idf:Beginning Primary Simulation\n",
      "C:\\EnergyPlusV9-2-0\\energyplus.exe 99db391f-df2e-11ed-a712-841b77d62e9a.idf: 11it [00:00, 16.59it/s]INFO:99486780-df2e-11ed-aa8f-841b77d62e9a.idf:Updating Shadowing Calculations, Start Date=11/17/2017\n",
      "                                                                                                   INFO:archetypal:collected data for ['Zone Ideal Loads Zone Total Heating Energy', 'Zone Ideal Loads Zone Total Cooling Energy']\n"
     ]
    },
    {
     "name": "stdout",
     "output_type": "stream",
     "text": [
      "Updating Shadowing Calculations, Start Date=11/17/2017\n"
     ]
    },
    {
     "name": "stderr",
     "output_type": "stream",
     "text": [
      "C:\\EnergyPlusV9-2-0\\energyplus.exe 99db391f-df2e-11ed-a712-841b77d62e9a.idf: 11it [00:00, 16.59it/s]INFO:99c844f5-df2e-11ed-bd36-841b77d62e9a.idf:Beginning Primary Simulation\n",
      "C:\\EnergyPlusV9-2-0\\energyplus.exe 99e5bdc4-df2e-11ed-909d-841b77d62e9a.idf: 7it [00:00, 10.67it/s]INFO:99db391f-df2e-11ed-a712-841b77d62e9a.idf:Warming up {4}\n",
      "C:\\EnergyPlusV9-2-0\\energyplus.exe 99db391f-df2e-11ed-a712-841b77d62e9a.idf: 12it [00:00, 11.06it/s]INFO:99e5bdc4-df2e-11ed-909d-841b77d62e9a.idf:Initializing New Environment Parameters\n",
      "C:\\EnergyPlusV9-2-0\\energyplus.exe 99db391f-df2e-11ed-a712-841b77d62e9a.idf: 12it [00:00, 11.06it/s]"
     ]
    },
    {
     "name": "stdout",
     "output_type": "stream",
     "text": [
      "Beginning Primary Simulation\n",
      "Warming up {4}\n",
      "Initializing New Environment Parameters\n",
      "Continuing Simulation at 11/17/2017 for RUN PERIOD 1\n"
     ]
    },
    {
     "name": "stderr",
     "output_type": "stream",
     "text": [
      "                                                              INFO:99486780-df2e-11ed-aa8f-841b77d62e9a.idf:Continuing Simulation at 11/17/2017 for RUN PERIOD 1\n",
      "C:\\EnergyPlusV9-2-0\\energyplus.exe 99db391f-df2e-11ed-a712-841b77d62e9a.idf: 12it [00:00, 11.06it/s]INFO:99c844f5-df2e-11ed-bd36-841b77d62e9a.idf:Initializing New Environment Parameters\n",
      "C:\\EnergyPlusV9-2-0\\energyplus.exe 99e5bdc4-df2e-11ed-909d-841b77d62e9a.idf: 8it [00:00,  8.96it/s]INFO:99db391f-df2e-11ed-a712-841b77d62e9a.idf:Warming up {5}\n",
      "C:\\EnergyPlusV9-2-0\\energyplus.exe 99db391f-df2e-11ed-a712-841b77d62e9a.idf: 13it [00:00, 10.45it/s]INFO:99e5bdc4-df2e-11ed-909d-841b77d62e9a.idf:Warming up {1}\n"
     ]
    },
    {
     "name": "stdout",
     "output_type": "stream",
     "text": [
      "Initializing New Environment Parameters\n",
      "Warming up {5}\n",
      "Warming up {1}\n"
     ]
    },
    {
     "name": "stderr",
     "output_type": "stream",
     "text": [
      "INFO:archetypal:No 'ZONEVENTILATION:DESIGNFLOWRATE' created since IsScheduledVentilationOn == False.\n",
      "INFO:archetypal:No 'ZONEVENTILATION:WINDANDSTACKOPENAREA' created since IsNatVentOn == False.\n",
      "INFO:archetypal:No 'ZONEVENTILATION:DESIGNFLOWRATE' created since IsScheduledVentilationOn == False.\n",
      "INFO:archetypal:No 'ZONEVENTILATION:WINDANDSTACKOPENAREA' created since IsNatVentOn == False.\n",
      "C:\\EnergyPlusV9-2-0\\energyplus.exe 99db391f-df2e-11ed-a712-841b77d62e9a.idf: 13it [00:01, 10.45it/s]INFO:99486780-df2e-11ed-aa8f-841b77d62e9a.idf:Updating Shadowing Calculations, Start Date=12/07/2017\n",
      "C:\\EnergyPlusV9-2-0\\energyplus.exe 99db391f-df2e-11ed-a712-841b77d62e9a.idf: 13it [00:01, 10.45it/s]INFO:99c844f5-df2e-11ed-bd36-841b77d62e9a.idf:Warming up {1}\n",
      "C:\\EnergyPlusV9-2-0\\energyplus.exe 99e5bdc4-df2e-11ed-909d-841b77d62e9a.idf: 9it [00:01,  8.33it/s]INFO:99db391f-df2e-11ed-a712-841b77d62e9a.idf:Warming up {6}\n",
      "C:\\EnergyPlusV9-2-0\\energyplus.exe 99db391f-df2e-11ed-a712-841b77d62e9a.idf: 14it [00:01,  6.16it/s]INFO:99e5bdc4-df2e-11ed-909d-841b77d62e9a.idf:Warming up {2}\n",
      "                                                              INFO:99486780-df2e-11ed-aa8f-841b77d62e9a.idf:Continuing Simulation at 12/07/2017 for RUN PERIOD 1\n",
      "C:\\EnergyPlusV9-2-0\\energyplus.exe 99db391f-df2e-11ed-a712-841b77d62e9a.idf: 14it [00:01,  6.16it/s]INFO:99c844f5-df2e-11ed-bd36-841b77d62e9a.idf:Warming up {2}\n",
      "C:\\EnergyPlusV9-2-0\\energyplus.exe 99e5bdc4-df2e-11ed-909d-841b77d62e9a.idf: 10it [00:01,  5.38it/s]INFO:99db391f-df2e-11ed-a712-841b77d62e9a.idf:Starting Simulation at 01/01/2017 for RUN PERIOD 1\n",
      "C:\\EnergyPlusV9-2-0\\energyplus.exe 99db391f-df2e-11ed-a712-841b77d62e9a.idf: 15it [00:01,  6.16it/s]INFO:99486780-df2e-11ed-aa8f-841b77d62e9a.idf:Updating Shadowing Calculations, Start Date=12/27/2017\n"
     ]
    },
    {
     "name": "stdout",
     "output_type": "stream",
     "text": [
      "Updating Shadowing Calculations, Start Date=12/07/2017\n",
      "Warming up {1}\n",
      "Warming up {6}\n",
      "Warming up {2}\n",
      "Continuing Simulation at 12/07/2017 for RUN PERIOD 1\n",
      "Warming up {2}\n",
      "Starting Simulation at 01/01/2017 for RUN PERIOD 1\n",
      "Updating Shadowing Calculations, Start Date=12/27/2017\n"
     ]
    },
    {
     "name": "stderr",
     "output_type": "stream",
     "text": [
      "C:\\EnergyPlusV9-2-0\\energyplus.exe 99db391f-df2e-11ed-a712-841b77d62e9a.idf: 15it [00:01,  6.16it/s]INFO:99c844f5-df2e-11ed-bd36-841b77d62e9a.idf:Warming up {3}\n",
      "C:\\EnergyPlusV9-2-0\\energyplus.exe 99db391f-df2e-11ed-a712-841b77d62e9a.idf: 15it [00:01,  6.16it/s]INFO:99e5bdc4-df2e-11ed-909d-841b77d62e9a.idf:Warming up {3}\n",
      "C:\\EnergyPlusV9-2-0\\energyplus.exe 99486780-df2e-11ed-aa8f-841b77d62e9a.idf: 50it [00:02,  8.77it/s]INFO:99db391f-df2e-11ed-a712-841b77d62e9a.idf:Updating Shadowing Calculations, Start Date=01/21/2017\n"
     ]
    },
    {
     "name": "stdout",
     "output_type": "stream",
     "text": [
      "Warming up {3}\n",
      "Warming up {3}\n",
      "Updating Shadowing Calculations, Start Date=01/21/2017\n"
     ]
    },
    {
     "name": "stderr",
     "output_type": "stream",
     "text": [
      "C:\\EnergyPlusV9-2-0\\energyplus.exe 99db391f-df2e-11ed-a712-841b77d62e9a.idf: 16it [00:01,  8.27it/s]INFO:99e5bdc4-df2e-11ed-909d-841b77d62e9a.idf:Warming up {4}\n",
      "C:\\EnergyPlusV9-2-0\\ExpandObjects.EXE #0-9bc63666-df2e-11ed-ac5c-841b77d62e9a.idf: 0.00it [00:00, ?it/s]INFO:99486780-df2e-11ed-aa8f-841b77d62e9a.idf:Continuing Simulation at 12/27/2017 for RUN PERIOD 1\n",
      "C:\\EnergyPlusV9-2-0\\energyplus.exe 99db391f-df2e-11ed-a712-841b77d62e9a.idf: 16it [00:01,  8.27it/s]INFO:99c844f5-df2e-11ed-bd36-841b77d62e9a.idf:Warming up {4}\n",
      "C:\\EnergyPlusV9-2-0\\energyplus.exe 99e5bdc4-df2e-11ed-909d-841b77d62e9a.idf: 12it [00:01,  7.84it/s]INFO:99db391f-df2e-11ed-a712-841b77d62e9a.idf:Continuing Simulation at 01/21/2017 for RUN PERIOD 1\n",
      "C:\\EnergyPlusV9-2-0\\energyplus.exe 99db391f-df2e-11ed-a712-841b77d62e9a.idf: 17it [00:01,  8.27it/s]INFO:99486780-df2e-11ed-aa8f-841b77d62e9a.idf:Writing tabular output file results using comma format.\n",
      "                                                              INFO:99c844f5-df2e-11ed-bd36-841b77d62e9a.idf:Warming up {5}\n",
      "C:\\EnergyPlusV9-2-0\\energyplus.exe 99db391f-df2e-11ed-a712-841b77d62e9a.idf: 17it [00:01,  8.27it/s]INFO:9bc63666-df2e-11ed-ac5c-841b77d62e9a.idf:ExpandObjects Started.\n",
      "C:\\EnergyPlusV9-2-0\\energyplus.exe 99db391f-df2e-11ed-a712-841b77d62e9a.idf: 17it [00:01,  8.27it/s]INFO:99e5bdc4-df2e-11ed-909d-841b77d62e9a.idf:Warming up {5}\n",
      "C:\\EnergyPlusV9-2-0\\energyplus.exe 99486780-df2e-11ed-aa8f-841b77d62e9a.idf: 52it [00:02, 10.49it/s]INFO:99db391f-df2e-11ed-a712-841b77d62e9a.idf:Updating Shadowing Calculations, Start Date=02/10/2017\n"
     ]
    },
    {
     "name": "stdout",
     "output_type": "stream",
     "text": [
      "Warming up {4}\n",
      "Continuing Simulation at 12/27/2017 for RUN PERIOD 1\n",
      "Warming up {4}\n",
      "Continuing Simulation at 01/21/2017 for RUN PERIOD 1\n",
      "Writing tabular output file results using comma format.\n",
      "Warming up {5}\n",
      "ExpandObjects Started.\n",
      "Warming up {5}\n",
      "Updating Shadowing Calculations, Start Date=02/10/2017\n"
     ]
    },
    {
     "name": "stderr",
     "output_type": "stream",
     "text": [
      "C:\\EnergyPlusV9-2-0\\energyplus.exe 99e5bdc4-df2e-11ed-909d-841b77d62e9a.idf: 13it [00:01,  8.13it/s]INFO:9bc63666-df2e-11ed-ac5c-841b77d62e9a.idf: Begin reading Energy+.idd file.\n",
      "C:\\EnergyPlusV9-2-0\\energyplus.exe 99db391f-df2e-11ed-a712-841b77d62e9a.idf: 18it [00:01,  9.72it/s]INFO:99486780-df2e-11ed-aa8f-841b77d62e9a.idf:Writing tabular output file results using HTML format.\n",
      "C:\\EnergyPlusV9-2-0\\energyplus.exe 99db391f-df2e-11ed-a712-841b77d62e9a.idf: 18it [00:01,  9.72it/s]INFO:99c844f5-df2e-11ed-bd36-841b77d62e9a.idf:Warming up {6}\n"
     ]
    },
    {
     "name": "stdout",
     "output_type": "stream",
     "text": [
      " Begin reading Energy+.idd file.\n",
      "Writing tabular output file results using HTML format.\n",
      "Warming up {6}\n"
     ]
    },
    {
     "name": "stderr",
     "output_type": "stream",
     "text": [
      "C:\\EnergyPlusV9-2-0\\ExpandObjects.EXE #0-9bc63666-df2e-11ed-ac5c-841b77d62e9a.idf: 2.00it [00:00, 14.8it/s]INFO:99e5bdc4-df2e-11ed-909d-841b77d62e9a.idf:Warming up {6}\n",
      "C:\\EnergyPlusV9-2-0\\energyplus.exe 99486780-df2e-11ed-aa8f-841b77d62e9a.idf: 53it [00:02, 10.36it/s]INFO:99db391f-df2e-11ed-a712-841b77d62e9a.idf:Continuing Simulation at 02/10/2017 for RUN PERIOD 1\n",
      "C:\\EnergyPlusV9-2-0\\energyplus.exe 99db391f-df2e-11ed-a712-841b77d62e9a.idf: 19it [00:01,  9.72it/s]INFO:9bc63666-df2e-11ed-ac5c-841b77d62e9a.idf: Done reading Energy+.idd file.\n",
      "C:\\EnergyPlusV9-2-0\\energyplus.exe 99db391f-df2e-11ed-a712-841b77d62e9a.idf: 19it [00:01,  9.72it/s]INFO:99e5bdc4-df2e-11ed-909d-841b77d62e9a.idf:Starting Simulation at 01/01/2017 for RUN PERIOD 1\n",
      "C:\\EnergyPlusV9-2-0\\energyplus.exe 99db391f-df2e-11ed-a712-841b77d62e9a.idf: 19it [00:01,  9.72it/s]INFO:99db391f-df2e-11ed-a712-841b77d62e9a.idf:Updating Shadowing Calculations, Start Date=03/02/2017\n",
      "C:\\EnergyPlusV9-2-0\\energyplus.exe 99db391f-df2e-11ed-a712-841b77d62e9a.idf: 20it [00:01, 11.26it/s]INFO:99486780-df2e-11ed-aa8f-841b77d62e9a.idf:Writing final SQL reports\n",
      "C:\\EnergyPlusV9-2-0\\energyplus.exe 99db391f-df2e-11ed-a712-841b77d62e9a.idf: 20it [00:01, 11.26it/s]INFO:99c844f5-df2e-11ed-bd36-841b77d62e9a.idf:Starting Simulation at 01/01/2017 for RUN PERIOD 1\n",
      "C:\\EnergyPlusV9-2-0\\energyplus.exe 99e5bdc4-df2e-11ed-909d-841b77d62e9a.idf: 15it [00:01, 10.13it/s]INFO:9bc63666-df2e-11ed-ac5c-841b77d62e9a.idf:ExpandObjects Finished. Time:     0.047\n",
      "C:\\EnergyPlusV9-2-0\\energyplus.exe 99db391f-df2e-11ed-a712-841b77d62e9a.idf: 20it [00:01, 11.26it/s]INFO:99e5bdc4-df2e-11ed-909d-841b77d62e9a.idf:Updating Shadowing Calculations, Start Date=01/21/2017\n",
      "C:\\EnergyPlusV9-2-0\\energyplus.exe 99db391f-df2e-11ed-a712-841b77d62e9a.idf: 20it [00:01, 11.26it/s]"
     ]
    },
    {
     "name": "stdout",
     "output_type": "stream",
     "text": [
      "Warming up {6}\n",
      "Continuing Simulation at 02/10/2017 for RUN PERIOD 1\n",
      " Done reading Energy+.idd file.\n",
      "Starting Simulation at 01/01/2017 for RUN PERIOD 1\n",
      "Updating Shadowing Calculations, Start Date=03/02/2017\n",
      "Writing final SQL reports\n",
      "Starting Simulation at 01/01/2017 for RUN PERIOD 1\n",
      "ExpandObjects Finished. Time:     0.047\n",
      "Updating Shadowing Calculations, Start Date=01/21/2017\n",
      "Continuing Simulation at 03/02/2017 for RUN PERIOD 1\n"
     ]
    },
    {
     "name": "stderr",
     "output_type": "stream",
     "text": [
      "C:\\EnergyPlusV9-2-0\\ExpandObjects.EXE #0-9bc63666-df2e-11ed-ac5c-841b77d62e9a.idf: 4.00it [00:00, 14.0it/s]INFO:99db391f-df2e-11ed-a712-841b77d62e9a.idf:Continuing Simulation at 03/02/2017 for RUN PERIOD 1\n",
      "C:\\EnergyPlusV9-2-0\\energyplus.exe 99db391f-df2e-11ed-a712-841b77d62e9a.idf: 21it [00:01, 11.26it/s]INFO:99486780-df2e-11ed-aa8f-841b77d62e9a.idf:EnergyPlus Run Time=00hr 00min  2.17sec\n",
      "C:\\EnergyPlusV9-2-0\\energyplus.exe 99db391f-df2e-11ed-a712-841b77d62e9a.idf: 21it [00:01, 11.26it/s]INFO:99c844f5-df2e-11ed-bd36-841b77d62e9a.idf:Updating Shadowing Calculations, Start Date=01/21/2017\n",
      "C:\\EnergyPlusV9-2-0\\ExpandObjects.EXE #0-9bc63666-df2e-11ed-ac5c-841b77d62e9a.idf: 4.00it [00:00, 14.0it/s]"
     ]
    },
    {
     "name": "stdout",
     "output_type": "stream",
     "text": [
      "EnergyPlus Run Time=00hr 00min  2.17sec\n",
      "Updating Shadowing Calculations, Start Date=01/21/2017\n",
      "Continuing Simulation at 01/21/2017 for RUN PERIOD 1\n"
     ]
    },
    {
     "name": "stderr",
     "output_type": "stream",
     "text": [
      "C:\\EnergyPlusV9-2-0\\energyplus.exe 99db391f-df2e-11ed-a712-841b77d62e9a.idf: 21it [00:01, 11.26it/s]INFO:99e5bdc4-df2e-11ed-909d-841b77d62e9a.idf:Continuing Simulation at 01/21/2017 for RUN PERIOD 1\n",
      "C:\\EnergyPlusV9-2-0\\energyplus.exe 99db391f-df2e-11ed-a712-841b77d62e9a.idf: 21it [00:01, 11.26it/s]INFO:99db391f-df2e-11ed-a712-841b77d62e9a.idf:Updating Shadowing Calculations, Start Date=03/22/2017\n",
      "C:\\EnergyPlusV9-2-0\\energyplus.exe 99db391f-df2e-11ed-a712-841b77d62e9a.idf: 22it [00:01, 12.12it/s]INFO:9bc63666-df2e-11ed-ac5c-841b77d62e9a.idf:ExpandObjects completed in 0.31 seconds\n",
      "C:\\EnergyPlusV9-2-0\\energyplus.exe 99db391f-df2e-11ed-a712-841b77d62e9a.idf: 22it [00:01, 12.12it/s]INFO:99486780-df2e-11ed-aa8f-841b77d62e9a.idf:EnergyPlus Completed in 3.12 seconds\n",
      "C:\\EnergyPlusV9-2-0\\energyplus.exe 99e5bdc4-df2e-11ed-909d-841b77d62e9a.idf: 17it [00:01, 11.40it/s]INFO:99c844f5-df2e-11ed-bd36-841b77d62e9a.idf:Continuing Simulation at 01/21/2017 for RUN PERIOD 1\n",
      "C:\\EnergyPlusV9-2-0\\energyplus.exe 99db391f-df2e-11ed-a712-841b77d62e9a.idf: 22it [00:01, 12.12it/s]INFO:99e5bdc4-df2e-11ed-909d-841b77d62e9a.idf:Updating Shadowing Calculations, Start Date=02/10/2017\n",
      "C:\\EnergyPlusV9-2-0\\ExpandObjects.EXE #0-9bc63666-df2e-11ed-ac5c-841b77d62e9a.idf: 4.00it [00:00, 8.54it/s]INFO:99db391f-df2e-11ed-a712-841b77d62e9a.idf:Continuing Simulation at 03/22/2017 for RUN PERIOD 1\n",
      "\n",
      "C:\\EnergyPlusV9-2-0\\energyplus.exe 99db391f-df2e-11ed-a712-841b77d62e9a.idf: 23it [00:01, 12.12it/s]INFO:99c844f5-df2e-11ed-bd36-841b77d62e9a.idf:Updating Shadowing Calculations, Start Date=02/10/2017\n"
     ]
    },
    {
     "name": "stdout",
     "output_type": "stream",
     "text": [
      "Updating Shadowing Calculations, Start Date=03/22/2017\n",
      "ExpandObjects completed in 0.31 seconds\n",
      "EnergyPlus Completed in 3.12 seconds\n",
      "Continuing Simulation at 01/21/2017 for RUN PERIOD 1\n",
      "Updating Shadowing Calculations, Start Date=02/10/2017\n",
      "Continuing Simulation at 03/22/2017 for RUN PERIOD 1\n",
      "Updating Shadowing Calculations, Start Date=02/10/2017\n"
     ]
    },
    {
     "name": "stderr",
     "output_type": "stream",
     "text": [
      "C:\\EnergyPlusV9-2-0\\energyplus.exe 99e5bdc4-df2e-11ed-909d-841b77d62e9a.idf: 18it [00:01, 11.40it/s]"
     ]
    },
    {
     "name": "stdout",
     "output_type": "stream",
     "text": [
      "Continuing Simulation at 02/10/2017 for RUN PERIOD 1\n"
     ]
    },
    {
     "name": "stderr",
     "output_type": "stream",
     "text": [
      "C:\\EnergyPlusV9-2-0\\energyplus.exe 99db391f-df2e-11ed-a712-841b77d62e9a.idf: 23it [00:02, 12.12it/s]INFO:99e5bdc4-df2e-11ed-909d-841b77d62e9a.idf:Continuing Simulation at 02/10/2017 for RUN PERIOD 1\n",
      "C:\\EnergyPlusV9-2-0\\energyplus.exe 99db391f-df2e-11ed-a712-841b77d62e9a.idf: 23it [00:02, 12.12it/s]INFO:99db391f-df2e-11ed-a712-841b77d62e9a.idf:Updating Shadowing Calculations, Start Date=04/11/2017\n",
      "C:\\EnergyPlusV9-2-0\\energyplus.exe 99e5bdc4-df2e-11ed-909d-841b77d62e9a.idf: 19it [00:02,  9.84it/s]INFO:99c844f5-df2e-11ed-bd36-841b77d62e9a.idf:Continuing Simulation at 02/10/2017 for RUN PERIOD 1\n",
      "C:\\EnergyPlusV9-2-0\\energyplus.exe 99486780-df2e-11ed-aa8f-841b77d62e9a.idf: 55it [00:03, 15.80it/s]INFO:99e5bdc4-df2e-11ed-909d-841b77d62e9a.idf:Updating Shadowing Calculations, Start Date=03/02/2017\n",
      "\n",
      "                                                                                                    "
     ]
    },
    {
     "name": "stdout",
     "output_type": "stream",
     "text": [
      "Updating Shadowing Calculations, Start Date=04/11/2017\n",
      "Continuing Simulation at 02/10/2017 for RUN PERIOD 1\n",
      "Updating Shadowing Calculations, Start Date=03/02/2017\n"
     ]
    },
    {
     "name": "stderr",
     "output_type": "stream",
     "text": [
      "C:\\EnergyPlusV9-2-0\\energyplus.exe 99db391f-df2e-11ed-a712-841b77d62e9a.idf: 24it [00:02, 10.22it/s]INFO:99db391f-df2e-11ed-a712-841b77d62e9a.idf:Continuing Simulation at 04/11/2017 for RUN PERIOD 1\n",
      "C:\\EnergyPlusV9-2-0\\energyplus.exe 99db391f-df2e-11ed-a712-841b77d62e9a.idf: 25it [00:02, 10.22it/s]INFO:99c844f5-df2e-11ed-bd36-841b77d62e9a.idf:Updating Shadowing Calculations, Start Date=03/02/2017\n",
      "C:\\EnergyPlusV9-2-0\\energyplus.exe 99db391f-df2e-11ed-a712-841b77d62e9a.idf: 25it [00:02, 10.22it/s]INFO:99e5bdc4-df2e-11ed-909d-841b77d62e9a.idf:Continuing Simulation at 03/02/2017 for RUN PERIOD 1\n",
      "C:\\EnergyPlusV9-2-0\\energyplus.exe 99db391f-df2e-11ed-a712-841b77d62e9a.idf: 25it [00:02, 10.22it/s]INFO:99db391f-df2e-11ed-a712-841b77d62e9a.idf:Updating Shadowing Calculations, Start Date=05/01/2017\n",
      "C:\\EnergyPlusV9-2-0\\energyplus.exe 99e5bdc4-df2e-11ed-909d-841b77d62e9a.idf: 21it [00:02, 11.10it/s]INFO:99c844f5-df2e-11ed-bd36-841b77d62e9a.idf:Continuing Simulation at 03/02/2017 for RUN PERIOD 1\n",
      "C:\\EnergyPlusV9-2-0\\energyplus.exe 99db391f-df2e-11ed-a712-841b77d62e9a.idf: 26it [00:02, 11.50it/s]INFO:99e5bdc4-df2e-11ed-909d-841b77d62e9a.idf:Updating Shadowing Calculations, Start Date=03/22/2017\n",
      "simulate:  55%|█████▌    | 11.0/20.0 [00:28<00:15, 1.76s/runs]"
     ]
    },
    {
     "name": "stdout",
     "output_type": "stream",
     "text": [
      "Continuing Simulation at 04/11/2017 for RUN PERIOD 1\n",
      "Updating Shadowing Calculations, Start Date=03/02/2017\n",
      "Continuing Simulation at 03/02/2017 for RUN PERIOD 1\n",
      "Updating Shadowing Calculations, Start Date=05/01/2017\n",
      "Continuing Simulation at 03/02/2017 for RUN PERIOD 1\n",
      "Updating Shadowing Calculations, Start Date=03/22/2017\n",
      "Continuing Simulation at 05/01/2017 for RUN PERIOD 1\n"
     ]
    },
    {
     "name": "stderr",
     "output_type": "stream",
     "text": [
      "C:\\EnergyPlusV9-2-0\\energyplus.exe 99c844f5-df2e-11ed-bd36-841b77d62e9a.idf: 21it [00:02, 11.43it/s]INFO:99db391f-df2e-11ed-a712-841b77d62e9a.idf:Continuing Simulation at 05/01/2017 for RUN PERIOD 1\n",
      "C:\\EnergyPlusV9-2-0\\energyplus.exe 99db391f-df2e-11ed-a712-841b77d62e9a.idf: 27it [00:02, 11.50it/s]INFO:99e5bdc4-df2e-11ed-909d-841b77d62e9a.idf:Continuing Simulation at 03/22/2017 for RUN PERIOD 1\n",
      "C:\\EnergyPlusV9-2-0\\energyplus.exe 99db391f-df2e-11ed-a712-841b77d62e9a.idf: 27it [00:02, 11.50it/s]INFO:99c844f5-df2e-11ed-bd36-841b77d62e9a.idf:Updating Shadowing Calculations, Start Date=03/22/2017\n",
      "C:\\EnergyPlusV9-2-0\\energyplus.exe 99db391f-df2e-11ed-a712-841b77d62e9a.idf: 27it [00:02, 11.50it/s]INFO:99db391f-df2e-11ed-a712-841b77d62e9a.idf:Updating Shadowing Calculations, Start Date=05/21/2017\n"
     ]
    },
    {
     "name": "stdout",
     "output_type": "stream",
     "text": [
      "Continuing Simulation at 03/22/2017 for RUN PERIOD 1\n",
      "Updating Shadowing Calculations, Start Date=03/22/2017\n",
      "Updating Shadowing Calculations, Start Date=05/21/2017\n"
     ]
    },
    {
     "name": "stderr",
     "output_type": "stream",
     "text": [
      "                                                              INFO:99e5bdc4-df2e-11ed-909d-841b77d62e9a.idf:Updating Shadowing Calculations, Start Date=04/11/2017\n",
      "C:\\EnergyPlusV9-2-0\\energyplus.exe 99db391f-df2e-11ed-a712-841b77d62e9a.idf: 28it [00:02, 13.17it/s]INFO:99c844f5-df2e-11ed-bd36-841b77d62e9a.idf:Continuing Simulation at 03/22/2017 for RUN PERIOD 1\n",
      "C:\\EnergyPlusV9-2-0\\energyplus.exe 99db391f-df2e-11ed-a712-841b77d62e9a.idf: 28it [00:02, 13.17it/s]INFO:99db391f-df2e-11ed-a712-841b77d62e9a.idf:Continuing Simulation at 05/21/2017 for RUN PERIOD 1\n",
      "                                                              INFO:99e5bdc4-df2e-11ed-909d-841b77d62e9a.idf:Continuing Simulation at 04/11/2017 for RUN PERIOD 1\n",
      "C:\\EnergyPlusV9-2-0\\energyplus.exe 99db391f-df2e-11ed-a712-841b77d62e9a.idf: 29it [00:02, 13.17it/s]INFO:99db391f-df2e-11ed-a712-841b77d62e9a.idf:Updating Shadowing Calculations, Start Date=06/10/2017\n",
      "C:\\EnergyPlusV9-2-0\\energyplus.exe 99db391f-df2e-11ed-a712-841b77d62e9a.idf: 30it [00:02, 13.17it/s]"
     ]
    },
    {
     "name": "stdout",
     "output_type": "stream",
     "text": [
      "Updating Shadowing Calculations, Start Date=04/11/2017\n",
      "Continuing Simulation at 03/22/2017 for RUN PERIOD 1\n",
      "Continuing Simulation at 05/21/2017 for RUN PERIOD 1\n",
      "Continuing Simulation at 04/11/2017 for RUN PERIOD 1\n",
      "Updating Shadowing Calculations, Start Date=06/10/2017\n",
      "Updating Shadowing Calculations, Start Date=04/11/2017\n"
     ]
    },
    {
     "name": "stderr",
     "output_type": "stream",
     "text": [
      "INFO:99c844f5-df2e-11ed-bd36-841b77d62e9a.idf:Updating Shadowing Calculations, Start Date=04/11/2017\n",
      "C:\\EnergyPlusV9-2-0\\energyplus.exe 99db391f-df2e-11ed-a712-841b77d62e9a.idf: 30it [00:02, 13.17it/s]INFO:99e5bdc4-df2e-11ed-909d-841b77d62e9a.idf:Updating Shadowing Calculations, Start Date=05/01/2017\n",
      "C:\\EnergyPlusV9-2-0\\energyplus.exe 9bc63666-df2e-11ed-ac5c-841b77d62e9a.idf: 0it [00:00, ?it/s]INFO:99db391f-df2e-11ed-a712-841b77d62e9a.idf:Continuing Simulation at 06/10/2017 for RUN PERIOD 1\n",
      "C:\\EnergyPlusV9-2-0\\energyplus.exe 99db391f-df2e-11ed-a712-841b77d62e9a.idf: 31it [00:02, 16.51it/s]INFO:99c844f5-df2e-11ed-bd36-841b77d62e9a.idf:Continuing Simulation at 04/11/2017 for RUN PERIOD 1\n",
      "C:\\EnergyPlusV9-2-0\\energyplus.exe 99db391f-df2e-11ed-a712-841b77d62e9a.idf: 31it [00:02, 16.51it/s]INFO:99e5bdc4-df2e-11ed-909d-841b77d62e9a.idf:Continuing Simulation at 05/01/2017 for RUN PERIOD 1\n"
     ]
    },
    {
     "name": "stdout",
     "output_type": "stream",
     "text": [
      "Updating Shadowing Calculations, Start Date=05/01/2017\n",
      "Continuing Simulation at 06/10/2017 for RUN PERIOD 1\n",
      "Continuing Simulation at 04/11/2017 for RUN PERIOD 1\n",
      "Continuing Simulation at 05/01/2017 for RUN PERIOD 1\n"
     ]
    },
    {
     "name": "stderr",
     "output_type": "stream",
     "text": [
      "                                                              INFO:9bc63666-df2e-11ed-ac5c-841b77d62e9a.idf:Simulation started\n",
      "C:\\EnergyPlusV9-2-0\\energyplus.exe 99db391f-df2e-11ed-a712-841b77d62e9a.idf: 31it [00:02, 16.51it/s]INFO:99c844f5-df2e-11ed-bd36-841b77d62e9a.idf:Updating Shadowing Calculations, Start Date=05/01/2017\n"
     ]
    },
    {
     "name": "stdout",
     "output_type": "stream",
     "text": [
      "Simulation started\n",
      "Updating Shadowing Calculations, Start Date=05/01/2017\n"
     ]
    },
    {
     "name": "stderr",
     "output_type": "stream",
     "text": [
      "C:\\EnergyPlusV9-2-0\\energyplus.exe 99e5bdc4-df2e-11ed-909d-841b77d62e9a.idf: 27it [00:02, 16.42it/s]INFO:99db391f-df2e-11ed-a712-841b77d62e9a.idf:Updating Shadowing Calculations, Start Date=06/30/2017\n",
      "C:\\EnergyPlusV9-2-0\\energyplus.exe 99c844f5-df2e-11ed-bd36-841b77d62e9a.idf: 26it [00:02, 15.07it/s]INFO:9bc63666-df2e-11ed-ac5c-841b77d62e9a.idf:EnergyPlus Starting\n",
      "C:\\EnergyPlusV9-2-0\\energyplus.exe 99db391f-df2e-11ed-a712-841b77d62e9a.idf: 32it [00:02, 16.51it/s]INFO:99e5bdc4-df2e-11ed-909d-841b77d62e9a.idf:Updating Shadowing Calculations, Start Date=05/21/2017\n",
      "                                                              INFO:99db391f-df2e-11ed-a712-841b77d62e9a.idf:Continuing Simulation at 06/30/2017 for RUN PERIOD 1\n",
      "C:\\EnergyPlusV9-2-0\\energyplus.exe 99db391f-df2e-11ed-a712-841b77d62e9a.idf: 33it [00:02, 16.17it/s]INFO:99c844f5-df2e-11ed-bd36-841b77d62e9a.idf:Continuing Simulation at 05/01/2017 for RUN PERIOD 1\n",
      "C:\\EnergyPlusV9-2-0\\energyplus.exe 99db391f-df2e-11ed-a712-841b77d62e9a.idf: 33it [00:02, 16.17it/s]INFO:9bc63666-df2e-11ed-ac5c-841b77d62e9a.idf:EnergyPlus, Version 9.2.0-921312fa1d, YMD=2023.04.19 20:51\n"
     ]
    },
    {
     "name": "stdout",
     "output_type": "stream",
     "text": [
      "Updating Shadowing Calculations, Start Date=06/30/2017\n",
      "EnergyPlus Starting\n",
      "Updating Shadowing Calculations, Start Date=05/21/2017\n",
      "Continuing Simulation at 06/30/2017 for RUN PERIOD 1\n",
      "Continuing Simulation at 05/01/2017 for RUN PERIOD 1\n",
      "EnergyPlus, Version 9.2.0-921312fa1d, YMD=2023.04.19 20:51\n"
     ]
    },
    {
     "name": "stderr",
     "output_type": "stream",
     "text": [
      "C:\\EnergyPlusV9-2-0\\energyplus.exe 99db391f-df2e-11ed-a712-841b77d62e9a.idf: 33it [00:02, 16.17it/s]INFO:99e5bdc4-df2e-11ed-909d-841b77d62e9a.idf:Continuing Simulation at 05/21/2017 for RUN PERIOD 1\n",
      "C:\\EnergyPlusV9-2-0\\energyplus.exe 9bc63666-df2e-11ed-ac5c-841b77d62e9a.idf: 2it [00:00, 12.65it/s]INFO:99c844f5-df2e-11ed-bd36-841b77d62e9a.idf:Updating Shadowing Calculations, Start Date=05/21/2017\n",
      "C:\\EnergyPlusV9-2-0\\energyplus.exe 99e5bdc4-df2e-11ed-909d-841b77d62e9a.idf: 29it [00:02, 15.99it/s]INFO:99db391f-df2e-11ed-a712-841b77d62e9a.idf:Updating Shadowing Calculations, Start Date=07/20/2017\n",
      "C:\\EnergyPlusV9-2-0\\energyplus.exe 99db391f-df2e-11ed-a712-841b77d62e9a.idf: 34it [00:02, 16.17it/s]INFO:99e5bdc4-df2e-11ed-909d-841b77d62e9a.idf:Updating Shadowing Calculations, Start Date=06/10/2017\n",
      "C:\\EnergyPlusV9-2-0\\energyplus.exe 99e5bdc4-df2e-11ed-909d-841b77d62e9a.idf: 30it [00:02, 15.99it/s]"
     ]
    },
    {
     "name": "stdout",
     "output_type": "stream",
     "text": [
      "Continuing Simulation at 05/21/2017 for RUN PERIOD 1\n",
      "Updating Shadowing Calculations, Start Date=05/21/2017\n",
      "Updating Shadowing Calculations, Start Date=07/20/2017\n",
      "Updating Shadowing Calculations, Start Date=06/10/2017\n",
      "Continuing Simulation at 07/20/2017 for RUN PERIOD 1\n"
     ]
    },
    {
     "name": "stderr",
     "output_type": "stream",
     "text": [
      "                                                              INFO:99db391f-df2e-11ed-a712-841b77d62e9a.idf:Continuing Simulation at 07/20/2017 for RUN PERIOD 1\n",
      "C:\\EnergyPlusV9-2-0\\energyplus.exe 99db391f-df2e-11ed-a712-841b77d62e9a.idf: 35it [00:02, 16.17it/s]INFO:99c844f5-df2e-11ed-bd36-841b77d62e9a.idf:Continuing Simulation at 05/21/2017 for RUN PERIOD 1\n",
      "                                                              INFO:99e5bdc4-df2e-11ed-909d-841b77d62e9a.idf:Continuing Simulation at 06/10/2017 for RUN PERIOD 1\n",
      "C:\\EnergyPlusV9-2-0\\energyplus.exe 99db391f-df2e-11ed-a712-841b77d62e9a.idf: 35it [00:02, 16.17it/s]INFO:99db391f-df2e-11ed-a712-841b77d62e9a.idf:Updating Shadowing Calculations, Start Date=08/09/2017\n"
     ]
    },
    {
     "name": "stdout",
     "output_type": "stream",
     "text": [
      "Continuing Simulation at 05/21/2017 for RUN PERIOD 1\n",
      "Continuing Simulation at 06/10/2017 for RUN PERIOD 1\n",
      "Updating Shadowing Calculations, Start Date=08/09/2017\n"
     ]
    },
    {
     "name": "stderr",
     "output_type": "stream",
     "text": [
      "C:\\EnergyPlusV9-2-0\\energyplus.exe 99db391f-df2e-11ed-a712-841b77d62e9a.idf: 36it [00:02, 18.00it/s]INFO:99c844f5-df2e-11ed-bd36-841b77d62e9a.idf:Updating Shadowing Calculations, Start Date=06/10/2017\n",
      "C:\\EnergyPlusV9-2-0\\energyplus.exe 99db391f-df2e-11ed-a712-841b77d62e9a.idf: 36it [00:02, 18.00it/s]INFO:99e5bdc4-df2e-11ed-909d-841b77d62e9a.idf:Updating Shadowing Calculations, Start Date=06/30/2017\n",
      "C:\\EnergyPlusV9-2-0\\energyplus.exe 99db391f-df2e-11ed-a712-841b77d62e9a.idf: 36it [00:02, 18.00it/s]INFO:9bc63666-df2e-11ed-ac5c-841b77d62e9a.idf:Adjusting Air System Sizing\n",
      "C:\\EnergyPlusV9-2-0\\energyplus.exe 99e5bdc4-df2e-11ed-909d-841b77d62e9a.idf: 32it [00:02, 18.37it/s]INFO:99c844f5-df2e-11ed-bd36-841b77d62e9a.idf:Continuing Simulation at 06/10/2017 for RUN PERIOD 1\n",
      "C:\\EnergyPlusV9-2-0\\energyplus.exe 99db391f-df2e-11ed-a712-841b77d62e9a.idf: 36it [00:02, 18.00it/s]INFO:99db391f-df2e-11ed-a712-841b77d62e9a.idf:Continuing Simulation at 08/09/2017 for RUN PERIOD 1\n",
      "C:\\EnergyPlusV9-2-0\\energyplus.exe 99c844f5-df2e-11ed-bd36-841b77d62e9a.idf: 31it [00:02, 17.69it/s]INFO:99e5bdc4-df2e-11ed-909d-841b77d62e9a.idf:Continuing Simulation at 06/30/2017 for RUN PERIOD 1\n"
     ]
    },
    {
     "name": "stdout",
     "output_type": "stream",
     "text": [
      "Updating Shadowing Calculations, Start Date=06/10/2017\n",
      "Updating Shadowing Calculations, Start Date=06/30/2017\n",
      "Adjusting Air System Sizing\n",
      "Continuing Simulation at 06/10/2017 for RUN PERIOD 1\n",
      "Continuing Simulation at 08/09/2017 for RUN PERIOD 1\n",
      "Continuing Simulation at 06/30/2017 for RUN PERIOD 1\n"
     ]
    },
    {
     "name": "stderr",
     "output_type": "stream",
     "text": [
      "C:\\EnergyPlusV9-2-0\\energyplus.exe 99db391f-df2e-11ed-a712-841b77d62e9a.idf: 37it [00:02, 18.00it/s]INFO:9bc63666-df2e-11ed-ac5c-841b77d62e9a.idf:Adjusting Standard 62.1 Ventilation Sizing\n",
      "C:\\EnergyPlusV9-2-0\\energyplus.exe 99db391f-df2e-11ed-a712-841b77d62e9a.idf: 37it [00:02, 18.00it/s]INFO:99db391f-df2e-11ed-a712-841b77d62e9a.idf:Updating Shadowing Calculations, Start Date=08/29/2017\n",
      "C:\\EnergyPlusV9-2-0\\energyplus.exe 99db391f-df2e-11ed-a712-841b77d62e9a.idf: 38it [00:02, 18.01it/s]INFO:99e5bdc4-df2e-11ed-909d-841b77d62e9a.idf:Updating Shadowing Calculations, Start Date=07/20/2017\n",
      "INFO:99c844f5-df2e-11ed-bd36-841b77d62e9a.idf:Updating Shadowing Calculations, Start Date=06/30/2017\n"
     ]
    },
    {
     "name": "stdout",
     "output_type": "stream",
     "text": [
      "Adjusting Standard 62.1 Ventilation Sizing\n",
      "Updating Shadowing Calculations, Start Date=08/29/2017\n",
      "Updating Shadowing Calculations, Start Date=07/20/2017\n",
      "Updating Shadowing Calculations, Start Date=06/30/2017\n"
     ]
    },
    {
     "name": "stderr",
     "output_type": "stream",
     "text": [
      "C:\\EnergyPlusV9-2-0\\energyplus.exe 99db391f-df2e-11ed-a712-841b77d62e9a.idf: 38it [00:02, 18.01it/s]INFO:9bc63666-df2e-11ed-ac5c-841b77d62e9a.idf:Initializing Simulation\n",
      "C:\\EnergyPlusV9-2-0\\energyplus.exe 99db391f-df2e-11ed-a712-841b77d62e9a.idf: 38it [00:02, 18.01it/s]INFO:99c844f5-df2e-11ed-bd36-841b77d62e9a.idf:Continuing Simulation at 06/30/2017 for RUN PERIOD 1\n",
      "C:\\EnergyPlusV9-2-0\\energyplus.exe 9bc63666-df2e-11ed-ac5c-841b77d62e9a.idf: 5it [00:00, 12.53it/s]INFO:99db391f-df2e-11ed-a712-841b77d62e9a.idf:Continuing Simulation at 08/29/2017 for RUN PERIOD 1\n",
      "C:\\EnergyPlusV9-2-0\\energyplus.exe 99db391f-df2e-11ed-a712-841b77d62e9a.idf: 39it [00:02, 18.01it/s]"
     ]
    },
    {
     "name": "stdout",
     "output_type": "stream",
     "text": [
      "Initializing Simulation\n",
      "Continuing Simulation at 06/30/2017 for RUN PERIOD 1\n",
      "Continuing Simulation at 08/29/2017 for RUN PERIOD 1\n",
      "Continuing Simulation at 07/20/2017 for RUN PERIOD 1\n"
     ]
    },
    {
     "name": "stderr",
     "output_type": "stream",
     "text": [
      "C:\\EnergyPlusV9-2-0\\energyplus.exe 99c844f5-df2e-11ed-bd36-841b77d62e9a.idf: 33it [00:02, 17.63it/s]INFO:99e5bdc4-df2e-11ed-909d-841b77d62e9a.idf:Continuing Simulation at 07/20/2017 for RUN PERIOD 1\n",
      "C:\\EnergyPlusV9-2-0\\energyplus.exe 99db391f-df2e-11ed-a712-841b77d62e9a.idf: 39it [00:02, 18.01it/s]INFO:9bc63666-df2e-11ed-ac5c-841b77d62e9a.idf:Reporting Surfaces\n",
      "C:\\EnergyPlusV9-2-0\\energyplus.exe 99db391f-df2e-11ed-a712-841b77d62e9a.idf: 39it [00:02, 18.01it/s]INFO:99db391f-df2e-11ed-a712-841b77d62e9a.idf:Updating Shadowing Calculations, Start Date=09/18/2017\n",
      "C:\\EnergyPlusV9-2-0\\energyplus.exe 99db391f-df2e-11ed-a712-841b77d62e9a.idf: 40it [00:02, 18.13it/s]INFO:99c844f5-df2e-11ed-bd36-841b77d62e9a.idf:Updating Shadowing Calculations, Start Date=07/20/2017\n",
      "C:\\EnergyPlusV9-2-0\\energyplus.exe 99db391f-df2e-11ed-a712-841b77d62e9a.idf: 40it [00:02, 18.13it/s]INFO:99e5bdc4-df2e-11ed-909d-841b77d62e9a.idf:Updating Shadowing Calculations, Start Date=08/09/2017\n",
      "C:\\EnergyPlusV9-2-0\\energyplus.exe 99db391f-df2e-11ed-a712-841b77d62e9a.idf: 40it [00:02, 18.13it/s]INFO:9bc63666-df2e-11ed-ac5c-841b77d62e9a.idf:Beginning Primary Simulation\n",
      "C:\\EnergyPlusV9-2-0\\energyplus.exe 99db391f-df2e-11ed-a712-841b77d62e9a.idf: 40it [00:02, 18.13it/s]"
     ]
    },
    {
     "name": "stdout",
     "output_type": "stream",
     "text": [
      "Reporting Surfaces\n",
      "Updating Shadowing Calculations, Start Date=09/18/2017\n",
      "Updating Shadowing Calculations, Start Date=07/20/2017\n",
      "Updating Shadowing Calculations, Start Date=08/09/2017\n",
      "Beginning Primary Simulation\n",
      "Continuing Simulation at 07/20/2017 for RUN PERIOD 1\n"
     ]
    },
    {
     "name": "stderr",
     "output_type": "stream",
     "text": [
      "C:\\EnergyPlusV9-2-0\\energyplus.exe 99e5bdc4-df2e-11ed-909d-841b77d62e9a.idf: 36it [00:02, 18.11it/s]INFO:99c844f5-df2e-11ed-bd36-841b77d62e9a.idf:Continuing Simulation at 07/20/2017 for RUN PERIOD 1\n",
      "C:\\EnergyPlusV9-2-0\\energyplus.exe 9bc63666-df2e-11ed-ac5c-841b77d62e9a.idf: 7it [00:00, 14.75it/s]INFO:99db391f-df2e-11ed-a712-841b77d62e9a.idf:Continuing Simulation at 09/18/2017 for RUN PERIOD 1\n",
      "C:\\EnergyPlusV9-2-0\\energyplus.exe 99c844f5-df2e-11ed-bd36-841b77d62e9a.idf: 35it [00:02, 18.06it/s]INFO:99e5bdc4-df2e-11ed-909d-841b77d62e9a.idf:Continuing Simulation at 08/09/2017 for RUN PERIOD 1\n",
      "                                                              INFO:9bc63666-df2e-11ed-ac5c-841b77d62e9a.idf:Initializing New Environment Parameters\n",
      "                                                              INFO:99db391f-df2e-11ed-a712-841b77d62e9a.idf:Updating Shadowing Calculations, Start Date=10/08/2017\n",
      "C:\\EnergyPlusV9-2-0\\energyplus.exe 99db391f-df2e-11ed-a712-841b77d62e9a.idf: 42it [00:03, 18.49it/s]"
     ]
    },
    {
     "name": "stdout",
     "output_type": "stream",
     "text": [
      "Continuing Simulation at 09/18/2017 for RUN PERIOD 1\n",
      "Continuing Simulation at 08/09/2017 for RUN PERIOD 1\n",
      "Initializing New Environment Parameters\n",
      "Updating Shadowing Calculations, Start Date=10/08/2017\n",
      "Updating Shadowing Calculations, Start Date=08/29/2017\n"
     ]
    },
    {
     "name": "stderr",
     "output_type": "stream",
     "text": [
      "INFO:99e5bdc4-df2e-11ed-909d-841b77d62e9a.idf:Updating Shadowing Calculations, Start Date=08/29/2017\n",
      "C:\\EnergyPlusV9-2-0\\energyplus.exe 99db391f-df2e-11ed-a712-841b77d62e9a.idf: 42it [00:03, 18.49it/s]INFO:99c844f5-df2e-11ed-bd36-841b77d62e9a.idf:Updating Shadowing Calculations, Start Date=08/09/2017\n",
      "C:\\EnergyPlusV9-2-0\\energyplus.exe 99db391f-df2e-11ed-a712-841b77d62e9a.idf: 42it [00:03, 18.49it/s]INFO:9bc63666-df2e-11ed-ac5c-841b77d62e9a.idf:Warming up {1}\n",
      "C:\\EnergyPlusV9-2-0\\energyplus.exe 99db391f-df2e-11ed-a712-841b77d62e9a.idf: 42it [00:03, 18.49it/s]INFO:99e5bdc4-df2e-11ed-909d-841b77d62e9a.idf:Continuing Simulation at 08/29/2017 for RUN PERIOD 1\n"
     ]
    },
    {
     "name": "stdout",
     "output_type": "stream",
     "text": [
      "Updating Shadowing Calculations, Start Date=08/09/2017\n",
      "Warming up {1}\n",
      "Continuing Simulation at 08/29/2017 for RUN PERIOD 1\n"
     ]
    },
    {
     "name": "stderr",
     "output_type": "stream",
     "text": [
      "C:\\EnergyPlusV9-2-0\\energyplus.exe 99db391f-df2e-11ed-a712-841b77d62e9a.idf: 42it [00:03, 18.49it/s]INFO:99c844f5-df2e-11ed-bd36-841b77d62e9a.idf:Continuing Simulation at 08/09/2017 for RUN PERIOD 1\n",
      "C:\\EnergyPlusV9-2-0\\energyplus.exe 9bc63666-df2e-11ed-ac5c-841b77d62e9a.idf: 9it [00:00, 16.40it/s]INFO:99db391f-df2e-11ed-a712-841b77d62e9a.idf:Continuing Simulation at 10/08/2017 for RUN PERIOD 1\n",
      "                                                              INFO:9bc63666-df2e-11ed-ac5c-841b77d62e9a.idf:Warming up {2}\n",
      "C:\\EnergyPlusV9-2-0\\energyplus.exe 99db391f-df2e-11ed-a712-841b77d62e9a.idf: 43it [00:03, 18.49it/s]INFO:99e5bdc4-df2e-11ed-909d-841b77d62e9a.idf:Updating Shadowing Calculations, Start Date=09/18/2017\n",
      "C:\\EnergyPlusV9-2-0\\energyplus.exe 99db391f-df2e-11ed-a712-841b77d62e9a.idf: 43it [00:03, 18.49it/s]INFO:99db391f-df2e-11ed-a712-841b77d62e9a.idf:Updating Shadowing Calculations, Start Date=10/28/2017\n",
      "C:\\EnergyPlusV9-2-0\\energyplus.exe 99db391f-df2e-11ed-a712-841b77d62e9a.idf: 44it [00:03, 18.18it/s]INFO:99c844f5-df2e-11ed-bd36-841b77d62e9a.idf:Updating Shadowing Calculations, Start Date=08/29/2017\n",
      "C:\\EnergyPlusV9-2-0\\energyplus.exe 99db391f-df2e-11ed-a712-841b77d62e9a.idf: 44it [00:03, 18.18it/s]"
     ]
    },
    {
     "name": "stdout",
     "output_type": "stream",
     "text": [
      "Continuing Simulation at 08/09/2017 for RUN PERIOD 1\n",
      "Continuing Simulation at 10/08/2017 for RUN PERIOD 1\n",
      "Warming up {2}\n",
      "Updating Shadowing Calculations, Start Date=09/18/2017\n",
      "Updating Shadowing Calculations, Start Date=10/28/2017\n",
      "Updating Shadowing Calculations, Start Date=08/29/2017\n",
      "Warming up {3}\n"
     ]
    },
    {
     "name": "stderr",
     "output_type": "stream",
     "text": [
      "                                                              INFO:9bc63666-df2e-11ed-ac5c-841b77d62e9a.idf:Warming up {3}\n",
      "C:\\EnergyPlusV9-2-0\\energyplus.exe 99db391f-df2e-11ed-a712-841b77d62e9a.idf: 44it [00:03, 18.18it/s]INFO:99e5bdc4-df2e-11ed-909d-841b77d62e9a.idf:Continuing Simulation at 09/18/2017 for RUN PERIOD 1\n",
      "C:\\EnergyPlusV9-2-0\\energyplus.exe 99db391f-df2e-11ed-a712-841b77d62e9a.idf: 44it [00:03, 18.18it/s]INFO:99c844f5-df2e-11ed-bd36-841b77d62e9a.idf:Continuing Simulation at 08/29/2017 for RUN PERIOD 1\n",
      "C:\\EnergyPlusV9-2-0\\energyplus.exe 99db391f-df2e-11ed-a712-841b77d62e9a.idf: 44it [00:03, 18.18it/s]INFO:99e5bdc4-df2e-11ed-909d-841b77d62e9a.idf:Updating Shadowing Calculations, Start Date=10/08/2017\n",
      "C:\\EnergyPlusV9-2-0\\energyplus.exe 99db391f-df2e-11ed-a712-841b77d62e9a.idf: 44it [00:03, 18.18it/s]INFO:99db391f-df2e-11ed-a712-841b77d62e9a.idf:Continuing Simulation at 10/28/2017 for RUN PERIOD 1\n",
      "C:\\EnergyPlusV9-2-0\\energyplus.exe 99db391f-df2e-11ed-a712-841b77d62e9a.idf: 45it [00:03, 18.18it/s]INFO:9bc63666-df2e-11ed-ac5c-841b77d62e9a.idf:Warming up {4}\n"
     ]
    },
    {
     "name": "stdout",
     "output_type": "stream",
     "text": [
      "Continuing Simulation at 09/18/2017 for RUN PERIOD 1\n",
      "Continuing Simulation at 08/29/2017 for RUN PERIOD 1\n",
      "Updating Shadowing Calculations, Start Date=10/08/2017\n",
      "Continuing Simulation at 10/28/2017 for RUN PERIOD 1\n",
      "Warming up {4}\n"
     ]
    },
    {
     "name": "stderr",
     "output_type": "stream",
     "text": [
      "C:\\EnergyPlusV9-2-0\\energyplus.exe 99db391f-df2e-11ed-a712-841b77d62e9a.idf: 45it [00:03, 18.18it/s]INFO:99c844f5-df2e-11ed-bd36-841b77d62e9a.idf:Updating Shadowing Calculations, Start Date=09/18/2017\n",
      "                                                              INFO:99db391f-df2e-11ed-a712-841b77d62e9a.idf:Updating Shadowing Calculations, Start Date=11/17/2017\n",
      "C:\\EnergyPlusV9-2-0\\energyplus.exe 99db391f-df2e-11ed-a712-841b77d62e9a.idf: 46it [00:03, 18.58it/s]INFO:9bc63666-df2e-11ed-ac5c-841b77d62e9a.idf:Warming up {5}\n",
      "C:\\EnergyPlusV9-2-0\\energyplus.exe 99db391f-df2e-11ed-a712-841b77d62e9a.idf: 46it [00:03, 18.58it/s]INFO:99e5bdc4-df2e-11ed-909d-841b77d62e9a.idf:Continuing Simulation at 10/08/2017 for RUN PERIOD 1\n"
     ]
    },
    {
     "name": "stdout",
     "output_type": "stream",
     "text": [
      "Updating Shadowing Calculations, Start Date=09/18/2017\n",
      "Updating Shadowing Calculations, Start Date=11/17/2017\n",
      "Warming up {5}\n",
      "Continuing Simulation at 10/08/2017 for RUN PERIOD 1\n"
     ]
    },
    {
     "name": "stderr",
     "output_type": "stream",
     "text": [
      "C:\\EnergyPlusV9-2-0\\energyplus.exe 99db391f-df2e-11ed-a712-841b77d62e9a.idf: 46it [00:03, 18.58it/s]INFO:9bc63666-df2e-11ed-ac5c-841b77d62e9a.idf:Warming up {6}\n",
      "C:\\EnergyPlusV9-2-0\\energyplus.exe 99db391f-df2e-11ed-a712-841b77d62e9a.idf: 46it [00:03, 18.58it/s]INFO:99e5bdc4-df2e-11ed-909d-841b77d62e9a.idf:Updating Shadowing Calculations, Start Date=10/28/2017\n",
      "C:\\EnergyPlusV9-2-0\\energyplus.exe 99db391f-df2e-11ed-a712-841b77d62e9a.idf: 46it [00:03, 18.58it/s]INFO:99c844f5-df2e-11ed-bd36-841b77d62e9a.idf:Continuing Simulation at 09/18/2017 for RUN PERIOD 1\n",
      "C:\\EnergyPlusV9-2-0\\energyplus.exe 9bc63666-df2e-11ed-ac5c-841b77d62e9a.idf: 14it [00:00, 20.34it/s]INFO:99db391f-df2e-11ed-a712-841b77d62e9a.idf:Continuing Simulation at 11/17/2017 for RUN PERIOD 1\n",
      "C:\\EnergyPlusV9-2-0\\energyplus.exe 99db391f-df2e-11ed-a712-841b77d62e9a.idf: 47it [00:03, 18.58it/s]INFO:99e5bdc4-df2e-11ed-909d-841b77d62e9a.idf:Continuing Simulation at 10/28/2017 for RUN PERIOD 1\n",
      "C:\\EnergyPlusV9-2-0\\energyplus.exe 99db391f-df2e-11ed-a712-841b77d62e9a.idf: 47it [00:03, 18.58it/s]INFO:99c844f5-df2e-11ed-bd36-841b77d62e9a.idf:Updating Shadowing Calculations, Start Date=10/08/2017\n",
      "C:\\EnergyPlusV9-2-0\\energyplus.exe 99db391f-df2e-11ed-a712-841b77d62e9a.idf: 47it [00:03, 18.58it/s]"
     ]
    },
    {
     "name": "stdout",
     "output_type": "stream",
     "text": [
      "Warming up {6}\n",
      "Updating Shadowing Calculations, Start Date=10/28/2017\n",
      "Continuing Simulation at 09/18/2017 for RUN PERIOD 1\n",
      "Continuing Simulation at 11/17/2017 for RUN PERIOD 1\n",
      "Continuing Simulation at 10/28/2017 for RUN PERIOD 1\n",
      "Updating Shadowing Calculations, Start Date=10/08/2017\n",
      "Starting Simulation at 01/01/2017 for RUN PERIOD 1\n"
     ]
    },
    {
     "name": "stderr",
     "output_type": "stream",
     "text": [
      "INFO:9bc63666-df2e-11ed-ac5c-841b77d62e9a.idf:Starting Simulation at 01/01/2017 for RUN PERIOD 1\n",
      "C:\\EnergyPlusV9-2-0\\energyplus.exe 99e5bdc4-df2e-11ed-909d-841b77d62e9a.idf: 45it [00:03, 21.86it/s]INFO:99db391f-df2e-11ed-a712-841b77d62e9a.idf:Updating Shadowing Calculations, Start Date=12/07/2017\n",
      "                                                              INFO:9bc63666-df2e-11ed-ac5c-841b77d62e9a.idf:Updating Shadowing Calculations, Start Date=01/21/2017\n",
      "C:\\EnergyPlusV9-2-0\\energyplus.exe 99db391f-df2e-11ed-a712-841b77d62e9a.idf: 48it [00:03, 18.01it/s]INFO:99e5bdc4-df2e-11ed-909d-841b77d62e9a.idf:Updating Shadowing Calculations, Start Date=11/17/2017\n",
      "C:\\EnergyPlusV9-2-0\\energyplus.exe 99db391f-df2e-11ed-a712-841b77d62e9a.idf: 48it [00:03, 18.01it/s]INFO:99c844f5-df2e-11ed-bd36-841b77d62e9a.idf:Continuing Simulation at 10/08/2017 for RUN PERIOD 1\n",
      "C:\\EnergyPlusV9-2-0\\energyplus.exe 99db391f-df2e-11ed-a712-841b77d62e9a.idf: 48it [00:03, 18.01it/s]"
     ]
    },
    {
     "name": "stdout",
     "output_type": "stream",
     "text": [
      "Updating Shadowing Calculations, Start Date=12/07/2017\n",
      "Updating Shadowing Calculations, Start Date=01/21/2017\n",
      "Updating Shadowing Calculations, Start Date=11/17/2017\n",
      "Continuing Simulation at 10/08/2017 for RUN PERIOD 1\n",
      "Continuing Simulation at 01/21/2017 for RUN PERIOD 1\n"
     ]
    },
    {
     "name": "stderr",
     "output_type": "stream",
     "text": [
      "                                                              INFO:9bc63666-df2e-11ed-ac5c-841b77d62e9a.idf:Continuing Simulation at 01/21/2017 for RUN PERIOD 1\n",
      "                                                              INFO:99db391f-df2e-11ed-a712-841b77d62e9a.idf:Continuing Simulation at 12/07/2017 for RUN PERIOD 1\n",
      "C:\\EnergyPlusV9-2-0\\energyplus.exe 99db391f-df2e-11ed-a712-841b77d62e9a.idf: 49it [00:03, 18.01it/s]INFO:99e5bdc4-df2e-11ed-909d-841b77d62e9a.idf:Continuing Simulation at 11/17/2017 for RUN PERIOD 1\n",
      "C:\\EnergyPlusV9-2-0\\energyplus.exe 9bc63666-df2e-11ed-ac5c-841b77d62e9a.idf: 17it [00:01, 21.09it/s]INFO:99c844f5-df2e-11ed-bd36-841b77d62e9a.idf:Updating Shadowing Calculations, Start Date=10/28/2017\n",
      "C:\\EnergyPlusV9-2-0\\energyplus.exe 99c844f5-df2e-11ed-bd36-841b77d62e9a.idf: 44it [00:03, 18.84it/s]"
     ]
    },
    {
     "name": "stdout",
     "output_type": "stream",
     "text": [
      "Continuing Simulation at 12/07/2017 for RUN PERIOD 1\n",
      "Continuing Simulation at 11/17/2017 for RUN PERIOD 1\n",
      "Updating Shadowing Calculations, Start Date=10/28/2017\n",
      "Updating Shadowing Calculations, Start Date=12/27/2017\n"
     ]
    },
    {
     "name": "stderr",
     "output_type": "stream",
     "text": [
      "C:\\EnergyPlusV9-2-0\\energyplus.exe 99e5bdc4-df2e-11ed-909d-841b77d62e9a.idf: 47it [00:03, 20.80it/s]INFO:99db391f-df2e-11ed-a712-841b77d62e9a.idf:Updating Shadowing Calculations, Start Date=12/27/2017\n",
      "C:\\EnergyPlusV9-2-0\\energyplus.exe 99c844f5-df2e-11ed-bd36-841b77d62e9a.idf: 44it [00:03, 18.84it/s]INFO:9bc63666-df2e-11ed-ac5c-841b77d62e9a.idf:Updating Shadowing Calculations, Start Date=02/10/2017\n",
      "                                                              INFO:99db391f-df2e-11ed-a712-841b77d62e9a.idf:Continuing Simulation at 12/27/2017 for RUN PERIOD 1\n",
      "                                                              INFO:99e5bdc4-df2e-11ed-909d-841b77d62e9a.idf:Updating Shadowing Calculations, Start Date=12/07/2017\n",
      "C:\\EnergyPlusV9-2-0\\energyplus.exe 99db391f-df2e-11ed-a712-841b77d62e9a.idf: 51it [00:03, 19.96it/s]INFO:99c844f5-df2e-11ed-bd36-841b77d62e9a.idf:Continuing Simulation at 10/28/2017 for RUN PERIOD 1\n",
      "C:\\EnergyPlusV9-2-0\\energyplus.exe 99db391f-df2e-11ed-a712-841b77d62e9a.idf: 51it [00:03, 19.96it/s]INFO:9bc63666-df2e-11ed-ac5c-841b77d62e9a.idf:Continuing Simulation at 02/10/2017 for RUN PERIOD 1\n",
      "C:\\EnergyPlusV9-2-0\\energyplus.exe 99db391f-df2e-11ed-a712-841b77d62e9a.idf: 51it [00:03, 19.96it/s]INFO:99e5bdc4-df2e-11ed-909d-841b77d62e9a.idf:Continuing Simulation at 12/07/2017 for RUN PERIOD 1\n",
      "                                                                                                    "
     ]
    },
    {
     "name": "stdout",
     "output_type": "stream",
     "text": [
      "Updating Shadowing Calculations, Start Date=02/10/2017\n",
      "Continuing Simulation at 12/27/2017 for RUN PERIOD 1\n",
      "Updating Shadowing Calculations, Start Date=12/07/2017\n",
      "Continuing Simulation at 10/28/2017 for RUN PERIOD 1\n",
      "Continuing Simulation at 02/10/2017 for RUN PERIOD 1\n",
      "Continuing Simulation at 12/07/2017 for RUN PERIOD 1\n"
     ]
    },
    {
     "name": "stderr",
     "output_type": "stream",
     "text": [
      "C:\\EnergyPlusV9-2-0\\energyplus.exe 99db391f-df2e-11ed-a712-841b77d62e9a.idf: 51it [00:03, 19.96it/s]INFO:99c844f5-df2e-11ed-bd36-841b77d62e9a.idf:Updating Shadowing Calculations, Start Date=11/17/2017\n",
      "C:\\EnergyPlusV9-2-0\\energyplus.exe 9bc63666-df2e-11ed-ac5c-841b77d62e9a.idf: 19it [00:01, 20.31it/s]INFO:99db391f-df2e-11ed-a712-841b77d62e9a.idf:Writing tabular output file results using comma format.\n",
      "C:\\EnergyPlusV9-2-0\\energyplus.exe 99c844f5-df2e-11ed-bd36-841b77d62e9a.idf: 46it [00:03, 19.12it/s]INFO:99e5bdc4-df2e-11ed-909d-841b77d62e9a.idf:Updating Shadowing Calculations, Start Date=12/27/2017\n",
      "C:\\EnergyPlusV9-2-0\\energyplus.exe 99db391f-df2e-11ed-a712-841b77d62e9a.idf: 52it [00:03, 19.96it/s]INFO:9bc63666-df2e-11ed-ac5c-841b77d62e9a.idf:Updating Shadowing Calculations, Start Date=03/02/2017\n",
      "C:\\EnergyPlusV9-2-0\\energyplus.exe 99db391f-df2e-11ed-a712-841b77d62e9a.idf: 52it [00:03, 19.96it/s]"
     ]
    },
    {
     "name": "stdout",
     "output_type": "stream",
     "text": [
      "Updating Shadowing Calculations, Start Date=11/17/2017\n",
      "Writing tabular output file results using comma format.\n",
      "Updating Shadowing Calculations, Start Date=12/27/2017\n",
      "Updating Shadowing Calculations, Start Date=03/02/2017\n",
      "Writing tabular output file results using HTML format.\n"
     ]
    },
    {
     "name": "stderr",
     "output_type": "stream",
     "text": [
      "INFO:99db391f-df2e-11ed-a712-841b77d62e9a.idf:Writing tabular output file results using HTML format.\n",
      "C:\\EnergyPlusV9-2-0\\energyplus.exe 99e5bdc4-df2e-11ed-909d-841b77d62e9a.idf: 50it [00:03, 21.23it/s]INFO:99c844f5-df2e-11ed-bd36-841b77d62e9a.idf:Continuing Simulation at 11/17/2017 for RUN PERIOD 1\n",
      "C:\\EnergyPlusV9-2-0\\energyplus.exe 99db391f-df2e-11ed-a712-841b77d62e9a.idf: 53it [00:03, 19.27it/s]INFO:9bc63666-df2e-11ed-ac5c-841b77d62e9a.idf:Continuing Simulation at 03/02/2017 for RUN PERIOD 1\n",
      "C:\\EnergyPlusV9-2-0\\energyplus.exe 99db391f-df2e-11ed-a712-841b77d62e9a.idf: 53it [00:03, 19.27it/s]INFO:99e5bdc4-df2e-11ed-909d-841b77d62e9a.idf:Continuing Simulation at 12/27/2017 for RUN PERIOD 1\n"
     ]
    },
    {
     "name": "stdout",
     "output_type": "stream",
     "text": [
      "Continuing Simulation at 11/17/2017 for RUN PERIOD 1\n",
      "Continuing Simulation at 03/02/2017 for RUN PERIOD 1\n",
      "Continuing Simulation at 12/27/2017 for RUN PERIOD 1\n"
     ]
    },
    {
     "name": "stderr",
     "output_type": "stream",
     "text": [
      "C:\\EnergyPlusV9-2-0\\energyplus.exe 99db391f-df2e-11ed-a712-841b77d62e9a.idf: 53it [00:03, 19.27it/s]INFO:99c844f5-df2e-11ed-bd36-841b77d62e9a.idf:Updating Shadowing Calculations, Start Date=12/07/2017\n",
      "C:\\EnergyPlusV9-2-0\\energyplus.exe 9bc63666-df2e-11ed-ac5c-841b77d62e9a.idf: 21it [00:01, 19.89it/s]INFO:99db391f-df2e-11ed-a712-841b77d62e9a.idf:Writing final SQL reports\n",
      "C:\\EnergyPlusV9-2-0\\energyplus.exe 99c844f5-df2e-11ed-bd36-841b77d62e9a.idf: 48it [00:03, 18.91it/s]INFO:99e5bdc4-df2e-11ed-909d-841b77d62e9a.idf:Writing tabular output file results using comma format.\n",
      "C:\\EnergyPlusV9-2-0\\energyplus.exe 99db391f-df2e-11ed-a712-841b77d62e9a.idf: 54it [00:03, 19.27it/s]INFO:99db391f-df2e-11ed-a712-841b77d62e9a.idf:EnergyPlus Run Time=00hr 00min  2.27sec\n",
      "C:\\EnergyPlusV9-2-0\\energyplus.exe 99db391f-df2e-11ed-a712-841b77d62e9a.idf: 55it [00:03, 19.27it/s]INFO:9bc63666-df2e-11ed-ac5c-841b77d62e9a.idf:Updating Shadowing Calculations, Start Date=03/22/2017\n",
      "C:\\EnergyPlusV9-2-0\\energyplus.exe 99e5bdc4-df2e-11ed-909d-841b77d62e9a.idf: 52it [00:03, 20.47it/s]INFO:99c844f5-df2e-11ed-bd36-841b77d62e9a.idf:Continuing Simulation at 12/07/2017 for RUN PERIOD 1\n"
     ]
    },
    {
     "name": "stdout",
     "output_type": "stream",
     "text": [
      "Updating Shadowing Calculations, Start Date=12/07/2017\n",
      "Writing final SQL reports\n",
      "Writing tabular output file results using comma format.\n",
      "EnergyPlus Run Time=00hr 00min  2.27sec\n",
      "Updating Shadowing Calculations, Start Date=03/22/2017\n",
      "Continuing Simulation at 12/07/2017 for RUN PERIOD 1\n"
     ]
    },
    {
     "name": "stderr",
     "output_type": "stream",
     "text": [
      "                                                              INFO:99db391f-df2e-11ed-a712-841b77d62e9a.idf:EnergyPlus Completed in 3.68 seconds\n",
      "C:\\EnergyPlusV9-2-0\\energyplus.exe 99db391f-df2e-11ed-a712-841b77d62e9a.idf: 55it [00:03, 19.27it/s]INFO:9bc63666-df2e-11ed-ac5c-841b77d62e9a.idf:Continuing Simulation at 03/22/2017 for RUN PERIOD 1\n",
      "                                                              INFO:99e5bdc4-df2e-11ed-909d-841b77d62e9a.idf:Writing tabular output file results using HTML format.\n",
      "C:\\EnergyPlusV9-2-0\\energyplus.exe 9bc63666-df2e-11ed-ac5c-841b77d62e9a.idf: 23it [00:01, 18.58it/s]INFO:99c844f5-df2e-11ed-bd36-841b77d62e9a.idf:Updating Shadowing Calculations, Start Date=12/27/2017\n"
     ]
    },
    {
     "name": "stdout",
     "output_type": "stream",
     "text": [
      "EnergyPlus Completed in 3.68 seconds\n",
      "Continuing Simulation at 03/22/2017 for RUN PERIOD 1\n",
      "Writing tabular output file results using HTML format.\n",
      "Updating Shadowing Calculations, Start Date=12/27/2017\n"
     ]
    },
    {
     "name": "stderr",
     "output_type": "stream",
     "text": [
      "                                                              INFO:99e5bdc4-df2e-11ed-909d-841b77d62e9a.idf:Writing final SQL reports\n",
      "C:\\EnergyPlusV9-2-0\\energyplus.exe 99c844f5-df2e-11ed-bd36-841b77d62e9a.idf: 50it [00:03, 17.69it/s]INFO:9bc63666-df2e-11ed-ac5c-841b77d62e9a.idf:Updating Shadowing Calculations, Start Date=04/11/2017\n",
      "simulate:  55%|█████▌    | 11.0/20.0 [00:29<00:15, 1.76s/runs]"
     ]
    },
    {
     "name": "stdout",
     "output_type": "stream",
     "text": [
      "Writing final SQL reports\n",
      "Updating Shadowing Calculations, Start Date=04/11/2017\n",
      "Continuing Simulation at 12/27/2017 for RUN PERIOD 1\n"
     ]
    },
    {
     "name": "stderr",
     "output_type": "stream",
     "text": [
      "C:\\EnergyPlusV9-2-0\\energyplus.exe 99db391f-df2e-11ed-a712-841b77d62e9a.idf: 55it [00:03, 19.27it/s]INFO:99c844f5-df2e-11ed-bd36-841b77d62e9a.idf:Continuing Simulation at 12/27/2017 for RUN PERIOD 1\n",
      "C:\\EnergyPlusV9-2-0\\energyplus.exe 99e5bdc4-df2e-11ed-909d-841b77d62e9a.idf: 54it [00:03, 19.23it/s]INFO:99e5bdc4-df2e-11ed-909d-841b77d62e9a.idf:EnergyPlus Run Time=00hr 00min  2.39sec\n",
      "C:\\EnergyPlusV9-2-0\\energyplus.exe 99e5bdc4-df2e-11ed-909d-841b77d62e9a.idf: 55it [00:03, 19.23it/s]INFO:9bc63666-df2e-11ed-ac5c-841b77d62e9a.idf:Continuing Simulation at 04/11/2017 for RUN PERIOD 1\n",
      "C:\\EnergyPlusV9-2-0\\energyplus.exe 99e5bdc4-df2e-11ed-909d-841b77d62e9a.idf: 55it [00:03, 19.23it/s]INFO:99c844f5-df2e-11ed-bd36-841b77d62e9a.idf:Writing tabular output file results using comma format.\n",
      "C:\\EnergyPlusV9-2-0\\energyplus.exe 9bc63666-df2e-11ed-ac5c-841b77d62e9a.idf: 25it [00:01, 18.27it/s]INFO:99e5bdc4-df2e-11ed-909d-841b77d62e9a.idf:EnergyPlus Completed in 3.77 seconds\n",
      "C:\\EnergyPlusV9-2-0\\energyplus.exe 99db391f-df2e-11ed-a712-841b77d62e9a.idf: 55it [00:03, 14.15it/s]\n",
      "C:\\EnergyPlusV9-2-0\\energyplus.exe 99e5bdc4-df2e-11ed-909d-841b77d62e9a.idf: 55it [00:03, 19.23it/s]"
     ]
    },
    {
     "name": "stdout",
     "output_type": "stream",
     "text": [
      "EnergyPlus Run Time=00hr 00min  2.39sec\n",
      "Continuing Simulation at 04/11/2017 for RUN PERIOD 1\n",
      "Writing tabular output file results using comma format.\n",
      "EnergyPlus Completed in 3.77 seconds\n",
      "Writing tabular output file results using HTML format.\n"
     ]
    },
    {
     "name": "stderr",
     "output_type": "stream",
     "text": [
      "                                                              INFO:99c844f5-df2e-11ed-bd36-841b77d62e9a.idf:Writing tabular output file results using HTML format.\n",
      "C:\\EnergyPlusV9-2-0\\energyplus.exe 99c844f5-df2e-11ed-bd36-841b77d62e9a.idf: 53it [00:03, 19.28it/s]INFO:9bc63666-df2e-11ed-ac5c-841b77d62e9a.idf:Updating Shadowing Calculations, Start Date=05/01/2017\n",
      "                                                              INFO:99c844f5-df2e-11ed-bd36-841b77d62e9a.idf:Writing final SQL reports\n"
     ]
    },
    {
     "name": "stdout",
     "output_type": "stream",
     "text": [
      "Updating Shadowing Calculations, Start Date=05/01/2017\n",
      "Writing final SQL reports\n"
     ]
    },
    {
     "name": "stderr",
     "output_type": "stream",
     "text": [
      "C:\\EnergyPlusV9-2-0\\energyplus.exe 99e5bdc4-df2e-11ed-909d-841b77d62e9a.idf: 55it [00:03, 19.23it/s]INFO:9bc63666-df2e-11ed-ac5c-841b77d62e9a.idf:Continuing Simulation at 05/01/2017 for RUN PERIOD 1\n",
      "C:\\EnergyPlusV9-2-0\\energyplus.exe 9bc63666-df2e-11ed-ac5c-841b77d62e9a.idf: 27it [00:01, 18.17it/s]INFO:99c844f5-df2e-11ed-bd36-841b77d62e9a.idf:EnergyPlus Run Time=00hr 00min  2.47sec\n",
      "                                                              INFO:9bc63666-df2e-11ed-ac5c-841b77d62e9a.idf:Updating Shadowing Calculations, Start Date=05/21/2017\n",
      "C:\\EnergyPlusV9-2-0\\energyplus.exe 99e5bdc4-df2e-11ed-909d-841b77d62e9a.idf: 55it [00:03, 19.23it/s]INFO:99c844f5-df2e-11ed-bd36-841b77d62e9a.idf:EnergyPlus Completed in 3.91 seconds\n",
      "C:\\EnergyPlusV9-2-0\\energyplus.exe 99e5bdc4-df2e-11ed-909d-841b77d62e9a.idf: 55it [00:03, 19.23it/s]INFO:9bc63666-df2e-11ed-ac5c-841b77d62e9a.idf:Continuing Simulation at 05/21/2017 for RUN PERIOD 1\n",
      "                                                              "
     ]
    },
    {
     "name": "stdout",
     "output_type": "stream",
     "text": [
      "Continuing Simulation at 05/01/2017 for RUN PERIOD 1\n",
      "EnergyPlus Run Time=00hr 00min  2.47sec\n",
      "Updating Shadowing Calculations, Start Date=05/21/2017\n",
      "EnergyPlus Completed in 3.91 seconds\n",
      "Continuing Simulation at 05/21/2017 for RUN PERIOD 1\n"
     ]
    },
    {
     "name": "stderr",
     "output_type": "stream",
     "text": [
      "C:\\EnergyPlusV9-2-0\\energyplus.exe 99e5bdc4-df2e-11ed-909d-841b77d62e9a.idf: 55it [00:03, 19.23it/s]INFO:9bc63666-df2e-11ed-ac5c-841b77d62e9a.idf:Updating Shadowing Calculations, Start Date=06/10/2017\n",
      "C:\\EnergyPlusV9-2-0\\energyplus.exe 99e5bdc4-df2e-11ed-909d-841b77d62e9a.idf: 55it [00:03, 13.78it/s]INFO:9bc63666-df2e-11ed-ac5c-841b77d62e9a.idf:Continuing Simulation at 06/10/2017 for RUN PERIOD 1\n",
      "\n",
      "C:\\EnergyPlusV9-2-0\\energyplus.exe 9bc63666-df2e-11ed-ac5c-841b77d62e9a.idf: 31it [00:01, 18.17it/s]INFO:9bc63666-df2e-11ed-ac5c-841b77d62e9a.idf:Updating Shadowing Calculations, Start Date=06/30/2017\n",
      "C:\\EnergyPlusV9-2-0\\energyplus.exe 9bc63666-df2e-11ed-ac5c-841b77d62e9a.idf: 32it [00:01, 26.33it/s]INFO:9bc63666-df2e-11ed-ac5c-841b77d62e9a.idf:Continuing Simulation at 06/30/2017 for RUN PERIOD 1\n"
     ]
    },
    {
     "name": "stdout",
     "output_type": "stream",
     "text": [
      "Updating Shadowing Calculations, Start Date=06/10/2017\n",
      "Continuing Simulation at 06/10/2017 for RUN PERIOD 1\n",
      "Updating Shadowing Calculations, Start Date=06/30/2017\n",
      "Continuing Simulation at 06/30/2017 for RUN PERIOD 1\n"
     ]
    },
    {
     "name": "stderr",
     "output_type": "stream",
     "text": [
      "C:\\EnergyPlusV9-2-0\\energyplus.exe 9bc63666-df2e-11ed-ac5c-841b77d62e9a.idf: 33it [00:01, 26.33it/s]INFO:9bc63666-df2e-11ed-ac5c-841b77d62e9a.idf:Updating Shadowing Calculations, Start Date=07/20/2017\n",
      "C:\\EnergyPlusV9-2-0\\energyplus.exe 9bc63666-df2e-11ed-ac5c-841b77d62e9a.idf: 34it [00:01, 26.33it/s]INFO:9bc63666-df2e-11ed-ac5c-841b77d62e9a.idf:Continuing Simulation at 07/20/2017 for RUN PERIOD 1\n",
      "C:\\EnergyPlusV9-2-0\\energyplus.exe 9bc63666-df2e-11ed-ac5c-841b77d62e9a.idf: 35it [00:01, 26.33it/s]INFO:9bc63666-df2e-11ed-ac5c-841b77d62e9a.idf:Updating Shadowing Calculations, Start Date=08/09/2017\n",
      "C:\\EnergyPlusV9-2-0\\energyplus.exe 9bc63666-df2e-11ed-ac5c-841b77d62e9a.idf: 36it [00:01, 26.33it/s]INFO:9bc63666-df2e-11ed-ac5c-841b77d62e9a.idf:Continuing Simulation at 08/09/2017 for RUN PERIOD 1\n",
      "                                                              "
     ]
    },
    {
     "name": "stdout",
     "output_type": "stream",
     "text": [
      "Updating Shadowing Calculations, Start Date=07/20/2017\n",
      "Continuing Simulation at 07/20/2017 for RUN PERIOD 1\n",
      "Updating Shadowing Calculations, Start Date=08/09/2017\n",
      "Continuing Simulation at 08/09/2017 for RUN PERIOD 1\n"
     ]
    },
    {
     "name": "stderr",
     "output_type": "stream",
     "text": [
      "C:\\EnergyPlusV9-2-0\\energyplus.exe 9bc63666-df2e-11ed-ac5c-841b77d62e9a.idf: 37it [00:01, 26.33it/s]INFO:9bc63666-df2e-11ed-ac5c-841b77d62e9a.idf:Updating Shadowing Calculations, Start Date=08/29/2017\n",
      "C:\\EnergyPlusV9-2-0\\energyplus.exe 9bc63666-df2e-11ed-ac5c-841b77d62e9a.idf: 38it [00:01, 26.33it/s]INFO:9bc63666-df2e-11ed-ac5c-841b77d62e9a.idf:Continuing Simulation at 08/29/2017 for RUN PERIOD 1\n",
      "C:\\EnergyPlusV9-2-0\\energyplus.exe 99c844f5-df2e-11ed-bd36-841b77d62e9a.idf: 55it [00:04, 13.39it/s]INFO:9bc63666-df2e-11ed-ac5c-841b77d62e9a.idf:Updating Shadowing Calculations, Start Date=09/18/2017\n",
      "\n",
      "C:\\EnergyPlusV9-2-0\\energyplus.exe 9bc63666-df2e-11ed-ac5c-841b77d62e9a.idf: 40it [00:01, 40.47it/s]INFO:9bc63666-df2e-11ed-ac5c-841b77d62e9a.idf:Continuing Simulation at 09/18/2017 for RUN PERIOD 1\n",
      "C:\\EnergyPlusV9-2-0\\energyplus.exe 9bc63666-df2e-11ed-ac5c-841b77d62e9a.idf: 41it [00:01, 40.47it/s]INFO:9bc63666-df2e-11ed-ac5c-841b77d62e9a.idf:Updating Shadowing Calculations, Start Date=10/08/2017\n",
      "C:\\EnergyPlusV9-2-0\\energyplus.exe 9bc63666-df2e-11ed-ac5c-841b77d62e9a.idf: 42it [00:01, 40.47it/s]INFO:9bc63666-df2e-11ed-ac5c-841b77d62e9a.idf:Continuing Simulation at 10/08/2017 for RUN PERIOD 1\n"
     ]
    },
    {
     "name": "stdout",
     "output_type": "stream",
     "text": [
      "Updating Shadowing Calculations, Start Date=08/29/2017\n",
      "Continuing Simulation at 08/29/2017 for RUN PERIOD 1\n",
      "Updating Shadowing Calculations, Start Date=09/18/2017\n",
      "Continuing Simulation at 09/18/2017 for RUN PERIOD 1\n",
      "Updating Shadowing Calculations, Start Date=10/08/2017\n",
      "Continuing Simulation at 10/08/2017 for RUN PERIOD 1\n"
     ]
    },
    {
     "name": "stderr",
     "output_type": "stream",
     "text": [
      "C:\\EnergyPlusV9-2-0\\energyplus.exe 9bc63666-df2e-11ed-ac5c-841b77d62e9a.idf: 43it [00:01, 40.47it/s]INFO:9bc63666-df2e-11ed-ac5c-841b77d62e9a.idf:Updating Shadowing Calculations, Start Date=10/28/2017\n",
      "C:\\EnergyPlusV9-2-0\\energyplus.exe 9bc63666-df2e-11ed-ac5c-841b77d62e9a.idf: 44it [00:01, 40.47it/s]INFO:9bc63666-df2e-11ed-ac5c-841b77d62e9a.idf:Continuing Simulation at 10/28/2017 for RUN PERIOD 1\n"
     ]
    },
    {
     "name": "stdout",
     "output_type": "stream",
     "text": [
      "Updating Shadowing Calculations, Start Date=10/28/2017\n",
      "Continuing Simulation at 10/28/2017 for RUN PERIOD 1\n"
     ]
    },
    {
     "name": "stderr",
     "output_type": "stream",
     "text": [
      "C:\\EnergyPlusV9-2-0\\energyplus.exe 9bc63666-df2e-11ed-ac5c-841b77d62e9a.idf: 45it [00:01, 40.47it/s]INFO:9bc63666-df2e-11ed-ac5c-841b77d62e9a.idf:Updating Shadowing Calculations, Start Date=11/17/2017\n",
      "C:\\EnergyPlusV9-2-0\\energyplus.exe 9bc63666-df2e-11ed-ac5c-841b77d62e9a.idf: 46it [00:01, 41.10it/s]INFO:9bc63666-df2e-11ed-ac5c-841b77d62e9a.idf:Continuing Simulation at 11/17/2017 for RUN PERIOD 1\n"
     ]
    },
    {
     "name": "stdout",
     "output_type": "stream",
     "text": [
      "Updating Shadowing Calculations, Start Date=11/17/2017\n",
      "Continuing Simulation at 11/17/2017 for RUN PERIOD 1\n"
     ]
    },
    {
     "name": "stderr",
     "output_type": "stream",
     "text": [
      "C:\\EnergyPlusV9-2-0\\energyplus.exe 9bc63666-df2e-11ed-ac5c-841b77d62e9a.idf: 47it [00:02, 41.10it/s]INFO:9bc63666-df2e-11ed-ac5c-841b77d62e9a.idf:Updating Shadowing Calculations, Start Date=12/07/2017\n",
      "C:\\EnergyPlusV9-2-0\\energyplus.exe 9bc63666-df2e-11ed-ac5c-841b77d62e9a.idf: 48it [00:02, 34.93it/s]INFO:9bc63666-df2e-11ed-ac5c-841b77d62e9a.idf:Continuing Simulation at 12/07/2017 for RUN PERIOD 1\n"
     ]
    },
    {
     "name": "stdout",
     "output_type": "stream",
     "text": [
      "Updating Shadowing Calculations, Start Date=12/07/2017\n",
      "Continuing Simulation at 12/07/2017 for RUN PERIOD 1\n"
     ]
    },
    {
     "name": "stderr",
     "output_type": "stream",
     "text": [
      "C:\\EnergyPlusV9-2-0\\energyplus.exe 9bc63666-df2e-11ed-ac5c-841b77d62e9a.idf: 49it [00:02, 34.93it/s]INFO:9bc63666-df2e-11ed-ac5c-841b77d62e9a.idf:Updating Shadowing Calculations, Start Date=12/27/2017\n",
      "C:\\EnergyPlusV9-2-0\\energyplus.exe 9bc63666-df2e-11ed-ac5c-841b77d62e9a.idf: 50it [00:02, 34.93it/s]INFO:9bc63666-df2e-11ed-ac5c-841b77d62e9a.idf:Continuing Simulation at 12/27/2017 for RUN PERIOD 1\n",
      "C:\\EnergyPlusV9-2-0\\energyplus.exe 9bc63666-df2e-11ed-ac5c-841b77d62e9a.idf: 51it [00:02, 34.93it/s]INFO:9bc63666-df2e-11ed-ac5c-841b77d62e9a.idf:Writing tabular output file results using comma format.\n",
      "C:\\EnergyPlusV9-2-0\\energyplus.exe 9bc63666-df2e-11ed-ac5c-841b77d62e9a.idf: 52it [00:02, 35.01it/s]INFO:9bc63666-df2e-11ed-ac5c-841b77d62e9a.idf:Writing tabular output file results using HTML format.\n",
      "C:\\EnergyPlusV9-2-0\\energyplus.exe 9bc63666-df2e-11ed-ac5c-841b77d62e9a.idf: 53it [00:02, 35.01it/s]INFO:9bc63666-df2e-11ed-ac5c-841b77d62e9a.idf:Writing final SQL reports\n",
      "C:\\EnergyPlusV9-2-0\\energyplus.exe 9bc63666-df2e-11ed-ac5c-841b77d62e9a.idf: 54it [00:02, 35.01it/s]INFO:9bc63666-df2e-11ed-ac5c-841b77d62e9a.idf:EnergyPlus Run Time=00hr 00min  2.11sec\n",
      "C:\\EnergyPlusV9-2-0\\energyplus.exe 9bc63666-df2e-11ed-ac5c-841b77d62e9a.idf: 55it [00:02, 35.01it/s]INFO:9bc63666-df2e-11ed-ac5c-841b77d62e9a.idf:EnergyPlus Completed in 2.16 seconds\n"
     ]
    },
    {
     "name": "stdout",
     "output_type": "stream",
     "text": [
      "Updating Shadowing Calculations, Start Date=12/27/2017\n",
      "Continuing Simulation at 12/27/2017 for RUN PERIOD 1\n",
      "Writing tabular output file results using comma format.\n",
      "Writing tabular output file results using HTML format.\n",
      "Writing final SQL reports\n",
      "EnergyPlus Run Time=00hr 00min  2.11sec\n",
      "EnergyPlus Completed in 2.16 seconds\n"
     ]
    },
    {
     "name": "stderr",
     "output_type": "stream",
     "text": [
      "C:\\EnergyPlusV9-2-0\\energyplus.exe 9bc63666-df2e-11ed-ac5c-841b77d62e9a.idf: 55it [00:02, 24.70it/s]\n",
      "INFO:archetypal:collected data for ['Zone Ideal Loads Zone Total Heating Energy', 'Zone Ideal Loads Zone Total Cooling Energy']\n",
      "INFO:archetypal:collected data for ['Zone Ideal Loads Zone Total Heating Energy', 'Zone Ideal Loads Zone Total Cooling Energy']\n",
      "simulate:  60%|██████    | 12.0/20.0 [00:32<00:21, 2.68s/runs]INFO:archetypal:No 'ZONEVENTILATION:DESIGNFLOWRATE' created since IsScheduledVentilationOn == False.\n",
      "INFO:archetypal:No 'ZONEVENTILATION:WINDANDSTACKOPENAREA' created since IsNatVentOn == False.\n",
      "INFO:archetypal:No 'ZONEVENTILATION:DESIGNFLOWRATE' created since IsScheduledVentilationOn == False.\n",
      "INFO:archetypal:No 'ZONEVENTILATION:WINDANDSTACKOPENAREA' created since IsNatVentOn == False.\n",
      "C:\\EnergyPlusV9-2-0\\ExpandObjects.EXE #0-9edb0df9-df2e-11ed-a828-841b77d62e9a.idf: 0.00it [00:00, ?it/s]INFO:9edb0df9-df2e-11ed-a828-841b77d62e9a.idf:ExpandObjects Started.\n",
      "C:\\EnergyPlusV9-2-0\\ExpandObjects.EXE #0-9edb0df9-df2e-11ed-a828-841b77d62e9a.idf: 1.00it [00:00, 20.8it/s]INFO:9edb0df9-df2e-11ed-a828-841b77d62e9a.idf: Begin reading Energy+.idd file.\n",
      "C:\\EnergyPlusV9-2-0\\ExpandObjects.EXE #0-9edb0df9-df2e-11ed-a828-841b77d62e9a.idf: 2.00it [00:00, 16.1it/s]INFO:9edb0df9-df2e-11ed-a828-841b77d62e9a.idf: Done reading Energy+.idd file.\n",
      "C:\\EnergyPlusV9-2-0\\ExpandObjects.EXE #0-9edb0df9-df2e-11ed-a828-841b77d62e9a.idf: 3.00it [00:00, 23.7it/s]INFO:9edb0df9-df2e-11ed-a828-841b77d62e9a.idf:ExpandObjects Finished. Time:     0.062\n",
      "C:\\EnergyPlusV9-2-0\\ExpandObjects.EXE #0-9edb0df9-df2e-11ed-a828-841b77d62e9a.idf: 4.00it [00:00, 23.7it/s]INFO:9edb0df9-df2e-11ed-a828-841b77d62e9a.idf:ExpandObjects completed in 0.13 seconds\n",
      "C:\\EnergyPlusV9-2-0\\ExpandObjects.EXE #0-9edb0df9-df2e-11ed-a828-841b77d62e9a.idf: 4.00it [00:00, 28.6it/s]\n"
     ]
    },
    {
     "name": "stdout",
     "output_type": "stream",
     "text": [
      "ExpandObjects Started.\n",
      " Begin reading Energy+.idd file.\n",
      " Done reading Energy+.idd file.\n",
      "ExpandObjects Finished. Time:     0.062\n",
      "ExpandObjects completed in 0.13 seconds\n"
     ]
    },
    {
     "name": "stderr",
     "output_type": "stream",
     "text": [
      "C:\\EnergyPlusV9-2-0\\energyplus.exe 9edb0df9-df2e-11ed-a828-841b77d62e9a.idf: 0it [00:00, ?it/s]INFO:9edb0df9-df2e-11ed-a828-841b77d62e9a.idf:Simulation started\n",
      "C:\\EnergyPlusV9-2-0\\energyplus.exe 9edb0df9-df2e-11ed-a828-841b77d62e9a.idf: 0it [00:00, ?it/s]INFO:9edb0df9-df2e-11ed-a828-841b77d62e9a.idf:EnergyPlus Starting\n",
      "C:\\EnergyPlusV9-2-0\\energyplus.exe 9edb0df9-df2e-11ed-a828-841b77d62e9a.idf: 1it [00:00, 35.15it/s]INFO:9edb0df9-df2e-11ed-a828-841b77d62e9a.idf:EnergyPlus, Version 9.2.0-921312fa1d, YMD=2023.04.19 20:51\n"
     ]
    },
    {
     "name": "stdout",
     "output_type": "stream",
     "text": [
      "Simulation started\n",
      "EnergyPlus Starting\n",
      "EnergyPlus, Version 9.2.0-921312fa1d, YMD=2023.04.19 20:51\n"
     ]
    },
    {
     "name": "stderr",
     "output_type": "stream",
     "text": [
      "C:\\EnergyPlusV9-2-0\\energyplus.exe 9edb0df9-df2e-11ed-a828-841b77d62e9a.idf: 2it [00:00,  9.63it/s]INFO:9edb0df9-df2e-11ed-a828-841b77d62e9a.idf:Adjusting Air System Sizing\n",
      "C:\\EnergyPlusV9-2-0\\energyplus.exe 9edb0df9-df2e-11ed-a828-841b77d62e9a.idf: 3it [00:00, 14.24it/s]INFO:9edb0df9-df2e-11ed-a828-841b77d62e9a.idf:Adjusting Standard 62.1 Ventilation Sizing\n",
      "C:\\EnergyPlusV9-2-0\\energyplus.exe 9edb0df9-df2e-11ed-a828-841b77d62e9a.idf: 4it [00:00, 14.24it/s]INFO:9edb0df9-df2e-11ed-a828-841b77d62e9a.idf:Initializing Simulation\n",
      "C:\\EnergyPlusV9-2-0\\energyplus.exe 9edb0df9-df2e-11ed-a828-841b77d62e9a.idf: 5it [00:00, 14.24it/s]INFO:9edb0df9-df2e-11ed-a828-841b77d62e9a.idf:Reporting Surfaces\n",
      "C:\\EnergyPlusV9-2-0\\energyplus.exe 9edb0df9-df2e-11ed-a828-841b77d62e9a.idf: 6it [00:00, 14.24it/s]INFO:9edb0df9-df2e-11ed-a828-841b77d62e9a.idf:Beginning Primary Simulation\n",
      "C:\\EnergyPlusV9-2-0\\energyplus.exe 9edb0df9-df2e-11ed-a828-841b77d62e9a.idf: 7it [00:00, 14.24it/s]INFO:9edb0df9-df2e-11ed-a828-841b77d62e9a.idf:Initializing New Environment Parameters\n",
      "C:\\EnergyPlusV9-2-0\\energyplus.exe 9edb0df9-df2e-11ed-a828-841b77d62e9a.idf: 8it [00:00, 14.24it/s]INFO:9edb0df9-df2e-11ed-a828-841b77d62e9a.idf:Warming up {1}\n",
      "C:\\EnergyPlusV9-2-0\\energyplus.exe 9edb0df9-df2e-11ed-a828-841b77d62e9a.idf: 9it [00:00, 14.24it/s]INFO:9edb0df9-df2e-11ed-a828-841b77d62e9a.idf:Warming up {2}\n",
      "C:\\EnergyPlusV9-2-0\\energyplus.exe 9edb0df9-df2e-11ed-a828-841b77d62e9a.idf: 10it [00:00, 14.24it/s]INFO:9edb0df9-df2e-11ed-a828-841b77d62e9a.idf:Warming up {3}\n",
      "C:\\EnergyPlusV9-2-0\\energyplus.exe 9edb0df9-df2e-11ed-a828-841b77d62e9a.idf: 11it [00:00, 14.24it/s]INFO:9edb0df9-df2e-11ed-a828-841b77d62e9a.idf:Warming up {4}\n",
      "C:\\EnergyPlusV9-2-0\\energyplus.exe 9edb0df9-df2e-11ed-a828-841b77d62e9a.idf: 12it [00:00, 14.24it/s]INFO:9edb0df9-df2e-11ed-a828-841b77d62e9a.idf:Warming up {5}\n",
      "C:\\EnergyPlusV9-2-0\\energyplus.exe 9edb0df9-df2e-11ed-a828-841b77d62e9a.idf: 13it [00:00, 14.24it/s]INFO:9edb0df9-df2e-11ed-a828-841b77d62e9a.idf:Warming up {6}\n",
      "C:\\EnergyPlusV9-2-0\\energyplus.exe 9edb0df9-df2e-11ed-a828-841b77d62e9a.idf: 14it [00:00, 14.24it/s]INFO:9edb0df9-df2e-11ed-a828-841b77d62e9a.idf:Starting Simulation at 01/01/2017 for RUN PERIOD 1\n",
      "C:\\EnergyPlusV9-2-0\\energyplus.exe 9edb0df9-df2e-11ed-a828-841b77d62e9a.idf: 15it [00:00, 14.24it/s]INFO:9edb0df9-df2e-11ed-a828-841b77d62e9a.idf:Updating Shadowing Calculations, Start Date=01/21/2017\n",
      "C:\\EnergyPlusV9-2-0\\energyplus.exe 9edb0df9-df2e-11ed-a828-841b77d62e9a.idf: 16it [00:00, 49.34it/s]INFO:9edb0df9-df2e-11ed-a828-841b77d62e9a.idf:Continuing Simulation at 01/21/2017 for RUN PERIOD 1\n"
     ]
    },
    {
     "name": "stdout",
     "output_type": "stream",
     "text": [
      "Adjusting Air System Sizing\n",
      "Adjusting Standard 62.1 Ventilation Sizing\n",
      "Initializing Simulation\n",
      "Reporting Surfaces\n",
      "Beginning Primary Simulation\n",
      "Initializing New Environment Parameters\n",
      "Warming up {1}\n",
      "Warming up {2}\n",
      "Warming up {3}\n",
      "Warming up {4}\n",
      "Warming up {5}\n",
      "Warming up {6}\n",
      "Starting Simulation at 01/01/2017 for RUN PERIOD 1\n",
      "Updating Shadowing Calculations, Start Date=01/21/2017\n",
      "Continuing Simulation at 01/21/2017 for RUN PERIOD 1\n"
     ]
    },
    {
     "name": "stderr",
     "output_type": "stream",
     "text": [
      "C:\\EnergyPlusV9-2-0\\energyplus.exe 9edb0df9-df2e-11ed-a828-841b77d62e9a.idf: 17it [00:00, 49.34it/s]INFO:9edb0df9-df2e-11ed-a828-841b77d62e9a.idf:Updating Shadowing Calculations, Start Date=02/10/2017\n",
      "C:\\EnergyPlusV9-2-0\\energyplus.exe 9edb0df9-df2e-11ed-a828-841b77d62e9a.idf: 18it [00:00, 49.34it/s]INFO:9edb0df9-df2e-11ed-a828-841b77d62e9a.idf:Continuing Simulation at 02/10/2017 for RUN PERIOD 1\n",
      "C:\\EnergyPlusV9-2-0\\energyplus.exe 9edb0df9-df2e-11ed-a828-841b77d62e9a.idf: 19it [00:00, 49.34it/s]INFO:9edb0df9-df2e-11ed-a828-841b77d62e9a.idf:Updating Shadowing Calculations, Start Date=03/02/2017\n",
      "C:\\EnergyPlusV9-2-0\\energyplus.exe 9edb0df9-df2e-11ed-a828-841b77d62e9a.idf: 20it [00:00, 34.61it/s]INFO:9edb0df9-df2e-11ed-a828-841b77d62e9a.idf:Continuing Simulation at 03/02/2017 for RUN PERIOD 1\n"
     ]
    },
    {
     "name": "stdout",
     "output_type": "stream",
     "text": [
      "Updating Shadowing Calculations, Start Date=02/10/2017\n",
      "Continuing Simulation at 02/10/2017 for RUN PERIOD 1\n",
      "Updating Shadowing Calculations, Start Date=03/02/2017\n",
      "Continuing Simulation at 03/02/2017 for RUN PERIOD 1\n"
     ]
    },
    {
     "name": "stderr",
     "output_type": "stream",
     "text": [
      "C:\\EnergyPlusV9-2-0\\energyplus.exe 9edb0df9-df2e-11ed-a828-841b77d62e9a.idf: 21it [00:00, 34.61it/s]INFO:9edb0df9-df2e-11ed-a828-841b77d62e9a.idf:Updating Shadowing Calculations, Start Date=03/22/2017\n",
      "C:\\EnergyPlusV9-2-0\\energyplus.exe 9edb0df9-df2e-11ed-a828-841b77d62e9a.idf: 22it [00:00, 34.61it/s]INFO:9edb0df9-df2e-11ed-a828-841b77d62e9a.idf:Continuing Simulation at 03/22/2017 for RUN PERIOD 1\n",
      "C:\\EnergyPlusV9-2-0\\energyplus.exe 9edb0df9-df2e-11ed-a828-841b77d62e9a.idf: 23it [00:00, 33.33it/s]INFO:9edb0df9-df2e-11ed-a828-841b77d62e9a.idf:Updating Shadowing Calculations, Start Date=04/11/2017\n",
      "C:\\EnergyPlusV9-2-0\\energyplus.exe 9edb0df9-df2e-11ed-a828-841b77d62e9a.idf: 24it [00:00, 33.33it/s]INFO:9edb0df9-df2e-11ed-a828-841b77d62e9a.idf:Continuing Simulation at 04/11/2017 for RUN PERIOD 1\n"
     ]
    },
    {
     "name": "stdout",
     "output_type": "stream",
     "text": [
      "Updating Shadowing Calculations, Start Date=03/22/2017\n",
      "Continuing Simulation at 03/22/2017 for RUN PERIOD 1\n",
      "Updating Shadowing Calculations, Start Date=04/11/2017\n",
      "Continuing Simulation at 04/11/2017 for RUN PERIOD 1\n"
     ]
    },
    {
     "name": "stderr",
     "output_type": "stream",
     "text": [
      "C:\\EnergyPlusV9-2-0\\energyplus.exe 9edb0df9-df2e-11ed-a828-841b77d62e9a.idf: 25it [00:00, 33.33it/s]INFO:9edb0df9-df2e-11ed-a828-841b77d62e9a.idf:Updating Shadowing Calculations, Start Date=05/01/2017\n",
      "C:\\EnergyPlusV9-2-0\\energyplus.exe 9edb0df9-df2e-11ed-a828-841b77d62e9a.idf: 26it [00:00, 26.14it/s]INFO:9edb0df9-df2e-11ed-a828-841b77d62e9a.idf:Continuing Simulation at 05/01/2017 for RUN PERIOD 1\n",
      "C:\\EnergyPlusV9-2-0\\energyplus.exe 9edb0df9-df2e-11ed-a828-841b77d62e9a.idf: 27it [00:00, 26.14it/s]INFO:9edb0df9-df2e-11ed-a828-841b77d62e9a.idf:Updating Shadowing Calculations, Start Date=05/21/2017\n",
      "C:\\EnergyPlusV9-2-0\\energyplus.exe 9edb0df9-df2e-11ed-a828-841b77d62e9a.idf: 28it [00:00, 26.14it/s]INFO:9edb0df9-df2e-11ed-a828-841b77d62e9a.idf:Continuing Simulation at 05/21/2017 for RUN PERIOD 1\n",
      "C:\\EnergyPlusV9-2-0\\energyplus.exe 9edb0df9-df2e-11ed-a828-841b77d62e9a.idf: 29it [00:00, 27.04it/s]"
     ]
    },
    {
     "name": "stdout",
     "output_type": "stream",
     "text": [
      "Updating Shadowing Calculations, Start Date=05/01/2017\n",
      "Continuing Simulation at 05/01/2017 for RUN PERIOD 1\n",
      "Updating Shadowing Calculations, Start Date=05/21/2017\n",
      "Continuing Simulation at 05/21/2017 for RUN PERIOD 1\n"
     ]
    },
    {
     "name": "stderr",
     "output_type": "stream",
     "text": [
      "C:\\EnergyPlusV9-2-0\\energyplus.exe 9edb0df9-df2e-11ed-a828-841b77d62e9a.idf: 29it [00:01, 27.04it/s]INFO:9edb0df9-df2e-11ed-a828-841b77d62e9a.idf:Updating Shadowing Calculations, Start Date=06/10/2017\n",
      "C:\\EnergyPlusV9-2-0\\energyplus.exe 9edb0df9-df2e-11ed-a828-841b77d62e9a.idf: 30it [00:01, 27.04it/s]INFO:9edb0df9-df2e-11ed-a828-841b77d62e9a.idf:Continuing Simulation at 06/10/2017 for RUN PERIOD 1\n",
      "C:\\EnergyPlusV9-2-0\\energyplus.exe 9edb0df9-df2e-11ed-a828-841b77d62e9a.idf: 31it [00:01, 27.04it/s]INFO:9edb0df9-df2e-11ed-a828-841b77d62e9a.idf:Updating Shadowing Calculations, Start Date=06/30/2017\n",
      "C:\\EnergyPlusV9-2-0\\energyplus.exe 9edb0df9-df2e-11ed-a828-841b77d62e9a.idf: 32it [00:01, 22.85it/s]INFO:9edb0df9-df2e-11ed-a828-841b77d62e9a.idf:Continuing Simulation at 06/30/2017 for RUN PERIOD 1\n"
     ]
    },
    {
     "name": "stdout",
     "output_type": "stream",
     "text": [
      "Updating Shadowing Calculations, Start Date=06/10/2017\n",
      "Continuing Simulation at 06/10/2017 for RUN PERIOD 1\n",
      "Updating Shadowing Calculations, Start Date=06/30/2017\n",
      "Continuing Simulation at 06/30/2017 for RUN PERIOD 1\n"
     ]
    },
    {
     "name": "stderr",
     "output_type": "stream",
     "text": [
      "C:\\EnergyPlusV9-2-0\\energyplus.exe 9edb0df9-df2e-11ed-a828-841b77d62e9a.idf: 33it [00:01, 22.85it/s]INFO:9edb0df9-df2e-11ed-a828-841b77d62e9a.idf:Updating Shadowing Calculations, Start Date=07/20/2017\n",
      "C:\\EnergyPlusV9-2-0\\energyplus.exe 9edb0df9-df2e-11ed-a828-841b77d62e9a.idf: 34it [00:01, 22.85it/s]INFO:9edb0df9-df2e-11ed-a828-841b77d62e9a.idf:Continuing Simulation at 07/20/2017 for RUN PERIOD 1\n",
      "C:\\EnergyPlusV9-2-0\\energyplus.exe 9edb0df9-df2e-11ed-a828-841b77d62e9a.idf: 35it [00:01, 24.45it/s]INFO:9edb0df9-df2e-11ed-a828-841b77d62e9a.idf:Updating Shadowing Calculations, Start Date=08/09/2017\n",
      "C:\\EnergyPlusV9-2-0\\energyplus.exe 9edb0df9-df2e-11ed-a828-841b77d62e9a.idf: 36it [00:01, 24.45it/s]INFO:9edb0df9-df2e-11ed-a828-841b77d62e9a.idf:Continuing Simulation at 08/09/2017 for RUN PERIOD 1\n",
      "C:\\EnergyPlusV9-2-0\\energyplus.exe 9edb0df9-df2e-11ed-a828-841b77d62e9a.idf: 37it [00:01, 23.29it/s]INFO:archetypal:collected data for ['Zone Ideal Loads Zone Total Heating Energy', 'Zone Ideal Loads Zone Total Cooling Energy']\n",
      "C:\\EnergyPlusV9-2-0\\energyplus.exe 9edb0df9-df2e-11ed-a828-841b77d62e9a.idf: 37it [00:01, 23.29it/s]"
     ]
    },
    {
     "name": "stdout",
     "output_type": "stream",
     "text": [
      "Updating Shadowing Calculations, Start Date=07/20/2017\n",
      "Continuing Simulation at 07/20/2017 for RUN PERIOD 1\n",
      "Updating Shadowing Calculations, Start Date=08/09/2017\n",
      "Continuing Simulation at 08/09/2017 for RUN PERIOD 1\n",
      "Updating Shadowing Calculations, Start Date=08/29/2017\n"
     ]
    },
    {
     "name": "stderr",
     "output_type": "stream",
     "text": [
      "INFO:9edb0df9-df2e-11ed-a828-841b77d62e9a.idf:Updating Shadowing Calculations, Start Date=08/29/2017\n",
      "C:\\EnergyPlusV9-2-0\\energyplus.exe 9edb0df9-df2e-11ed-a828-841b77d62e9a.idf: 38it [00:01, 23.29it/s]INFO:9edb0df9-df2e-11ed-a828-841b77d62e9a.idf:Continuing Simulation at 08/29/2017 for RUN PERIOD 1\n",
      "INFO:archetypal:collected data for ['Zone Ideal Loads Zone Total Heating Energy', 'Zone Ideal Loads Zone Total Cooling Energy']\n",
      "C:\\EnergyPlusV9-2-0\\energyplus.exe 9edb0df9-df2e-11ed-a828-841b77d62e9a.idf: 39it [00:01, 23.29it/s]INFO:9edb0df9-df2e-11ed-a828-841b77d62e9a.idf:Updating Shadowing Calculations, Start Date=09/18/2017\n",
      "C:\\EnergyPlusV9-2-0\\energyplus.exe 9edb0df9-df2e-11ed-a828-841b77d62e9a.idf: 40it [00:01, 21.26it/s]INFO:9edb0df9-df2e-11ed-a828-841b77d62e9a.idf:Continuing Simulation at 09/18/2017 for RUN PERIOD 1\n",
      "                                                              "
     ]
    },
    {
     "name": "stdout",
     "output_type": "stream",
     "text": [
      "Continuing Simulation at 08/29/2017 for RUN PERIOD 1\n",
      "Updating Shadowing Calculations, Start Date=09/18/2017\n",
      "Continuing Simulation at 09/18/2017 for RUN PERIOD 1\n"
     ]
    },
    {
     "name": "stderr",
     "output_type": "stream",
     "text": [
      "C:\\EnergyPlusV9-2-0\\energyplus.exe 9edb0df9-df2e-11ed-a828-841b77d62e9a.idf: 41it [00:01, 21.26it/s]INFO:9edb0df9-df2e-11ed-a828-841b77d62e9a.idf:Updating Shadowing Calculations, Start Date=10/08/2017\n",
      "C:\\EnergyPlusV9-2-0\\energyplus.exe 9edb0df9-df2e-11ed-a828-841b77d62e9a.idf: 42it [00:01, 20.80it/s]INFO:9edb0df9-df2e-11ed-a828-841b77d62e9a.idf:Continuing Simulation at 10/08/2017 for RUN PERIOD 1\n",
      "C:\\EnergyPlusV9-2-0\\energyplus.exe 9edb0df9-df2e-11ed-a828-841b77d62e9a.idf: 43it [00:01, 20.80it/s]INFO:9edb0df9-df2e-11ed-a828-841b77d62e9a.idf:Updating Shadowing Calculations, Start Date=10/28/2017\n",
      "INFO:archetypal:collected data for ['Zone Ideal Loads Zone Total Heating Energy', 'Zone Ideal Loads Zone Total Cooling Energy']\n",
      "C:\\EnergyPlusV9-2-0\\energyplus.exe 9edb0df9-df2e-11ed-a828-841b77d62e9a.idf: 44it [00:01, 20.80it/s]INFO:9edb0df9-df2e-11ed-a828-841b77d62e9a.idf:Continuing Simulation at 10/28/2017 for RUN PERIOD 1\n"
     ]
    },
    {
     "name": "stdout",
     "output_type": "stream",
     "text": [
      "Updating Shadowing Calculations, Start Date=10/08/2017\n",
      "Continuing Simulation at 10/08/2017 for RUN PERIOD 1\n",
      "Updating Shadowing Calculations, Start Date=10/28/2017\n",
      "Continuing Simulation at 10/28/2017 for RUN PERIOD 1\n"
     ]
    },
    {
     "name": "stderr",
     "output_type": "stream",
     "text": [
      "C:\\EnergyPlusV9-2-0\\energyplus.exe 9edb0df9-df2e-11ed-a828-841b77d62e9a.idf: 45it [00:01, 21.71it/s]INFO:9edb0df9-df2e-11ed-a828-841b77d62e9a.idf:Updating Shadowing Calculations, Start Date=11/17/2017\n",
      "C:\\EnergyPlusV9-2-0\\energyplus.exe 9edb0df9-df2e-11ed-a828-841b77d62e9a.idf: 46it [00:01, 21.71it/s]INFO:9edb0df9-df2e-11ed-a828-841b77d62e9a.idf:Continuing Simulation at 11/17/2017 for RUN PERIOD 1\n",
      "INFO:archetypal:collected data for ['Zone Ideal Loads Zone Total Heating Energy', 'Zone Ideal Loads Zone Total Cooling Energy']\n",
      "C:\\EnergyPlusV9-2-0\\energyplus.exe 9edb0df9-df2e-11ed-a828-841b77d62e9a.idf: 47it [00:01, 21.71it/s]INFO:9edb0df9-df2e-11ed-a828-841b77d62e9a.idf:Updating Shadowing Calculations, Start Date=12/07/2017\n",
      "                                                                                                    INFO:archetypal:collected data for ['Zone Ideal Loads Zone Total Heating Energy', 'Zone Ideal Loads Zone Total Cooling Energy']\n",
      "simulate:  70%|███████   | 14.0/20.0 [00:34<00:11, 1.99s/runs]INFO:9edb0df9-df2e-11ed-a828-841b77d62e9a.idf:Continuing Simulation at 12/07/2017 for RUN PERIOD 1\n",
      "C:\\EnergyPlusV9-2-0\\energyplus.exe 9edb0df9-df2e-11ed-a828-841b77d62e9a.idf: 49it [00:01, 21.18it/s]"
     ]
    },
    {
     "name": "stdout",
     "output_type": "stream",
     "text": [
      "Updating Shadowing Calculations, Start Date=11/17/2017\n",
      "Continuing Simulation at 11/17/2017 for RUN PERIOD 1\n",
      "Updating Shadowing Calculations, Start Date=12/07/2017\n",
      "Continuing Simulation at 12/07/2017 for RUN PERIOD 1\n",
      "Updating Shadowing Calculations, Start Date=12/27/2017\n"
     ]
    },
    {
     "name": "stderr",
     "output_type": "stream",
     "text": [
      "INFO:9edb0df9-df2e-11ed-a828-841b77d62e9a.idf:Updating Shadowing Calculations, Start Date=12/27/2017\n",
      "C:\\EnergyPlusV9-2-0\\energyplus.exe 9edb0df9-df2e-11ed-a828-841b77d62e9a.idf: 50it [00:02, 18.96it/s]INFO:archetypal:No 'ZONEVENTILATION:DESIGNFLOWRATE' created since IsScheduledVentilationOn == False.\n",
      "INFO:archetypal:No 'ZONEVENTILATION:WINDANDSTACKOPENAREA' created since IsNatVentOn == False.\n",
      "INFO:archetypal:No 'ZONEVENTILATION:DESIGNFLOWRATE' created since IsScheduledVentilationOn == False.\n",
      "INFO:archetypal:collected data for ['Zone Ideal Loads Zone Total Heating Energy', 'Zone Ideal Loads Zone Total Cooling Energy']\n",
      "INFO:archetypal:No 'ZONEVENTILATION:WINDANDSTACKOPENAREA' created since IsNatVentOn == False.\n",
      "simulate:  75%|███████▌  | 15.0/20.0 [00:35<00:07, 1.49s/runs]INFO:9edb0df9-df2e-11ed-a828-841b77d62e9a.idf:Continuing Simulation at 12/27/2017 for RUN PERIOD 1\n",
      "C:\\EnergyPlusV9-2-0\\energyplus.exe 9edb0df9-df2e-11ed-a828-841b77d62e9a.idf: 51it [00:02, 13.77it/s]INFO:9edb0df9-df2e-11ed-a828-841b77d62e9a.idf:Writing tabular output file results using comma format.\n",
      "C:\\EnergyPlusV9-2-0\\energyplus.exe 9edb0df9-df2e-11ed-a828-841b77d62e9a.idf: 52it [00:02, 13.77it/s]INFO:9edb0df9-df2e-11ed-a828-841b77d62e9a.idf:Writing tabular output file results using HTML format.\n",
      "C:\\EnergyPlusV9-2-0\\energyplus.exe 9edb0df9-df2e-11ed-a828-841b77d62e9a.idf: 53it [00:02, 13.77it/s]INFO:9edb0df9-df2e-11ed-a828-841b77d62e9a.idf:Writing final SQL reports\n",
      "C:\\EnergyPlusV9-2-0\\energyplus.exe 9edb0df9-df2e-11ed-a828-841b77d62e9a.idf: 54it [00:02, 13.77it/s]INFO:9edb0df9-df2e-11ed-a828-841b77d62e9a.idf:EnergyPlus Run Time=00hr 00min  2.01sec\n",
      "C:\\EnergyPlusV9-2-0\\energyplus.exe 9edb0df9-df2e-11ed-a828-841b77d62e9a.idf: 55it [00:02, 13.77it/s]INFO:9edb0df9-df2e-11ed-a828-841b77d62e9a.idf:EnergyPlus Completed in 2.28 seconds\n"
     ]
    },
    {
     "name": "stdout",
     "output_type": "stream",
     "text": [
      "Continuing Simulation at 12/27/2017 for RUN PERIOD 1\n",
      "Writing tabular output file results using comma format.\n",
      "Writing tabular output file results using HTML format.\n",
      "Writing final SQL reports\n",
      "EnergyPlus Run Time=00hr 00min  2.01sec\n",
      "EnergyPlus Completed in 2.28 seconds\n"
     ]
    },
    {
     "name": "stderr",
     "output_type": "stream",
     "text": [
      "C:\\EnergyPlusV9-2-0\\energyplus.exe 9edb0df9-df2e-11ed-a828-841b77d62e9a.idf: 55it [00:02, 21.37it/s]INFO:a043523a-df2e-11ed-9b8b-841b77d62e9a.idf:ExpandObjects Started.\n",
      "\n",
      "C:\\EnergyPlusV9-2-0\\ExpandObjects.EXE #0-a043523a-df2e-11ed-9b8b-841b77d62e9a.idf: 1.00it [00:00, 9.01it/s]INFO:a043523a-df2e-11ed-9b8b-841b77d62e9a.idf: Begin reading Energy+.idd file.\n",
      "C:\\EnergyPlusV9-2-0\\ExpandObjects.EXE #0-a043523a-df2e-11ed-9b8b-841b77d62e9a.idf: 2.00it [00:00, 17.4it/s]INFO:a043523a-df2e-11ed-9b8b-841b77d62e9a.idf: Done reading Energy+.idd file.\n",
      "C:\\EnergyPlusV9-2-0\\ExpandObjects.EXE #0-a043523a-df2e-11ed-9b8b-841b77d62e9a.idf: 3.00it [00:00, 17.4it/s]INFO:a043523a-df2e-11ed-9b8b-841b77d62e9a.idf:ExpandObjects Finished. Time:     0.031\n",
      "C:\\EnergyPlusV9-2-0\\ExpandObjects.EXE #0-a043523a-df2e-11ed-9b8b-841b77d62e9a.idf: 4.00it [00:00, 17.4it/s]INFO:a043523a-df2e-11ed-9b8b-841b77d62e9a.idf:ExpandObjects completed in 0.15 seconds\n",
      "INFO:archetypal:No 'ZONEVENTILATION:DESIGNFLOWRATE' created since IsScheduledVentilationOn == False.\n"
     ]
    },
    {
     "name": "stdout",
     "output_type": "stream",
     "text": [
      "ExpandObjects Started.\n",
      " Begin reading Energy+.idd file.\n",
      " Done reading Energy+.idd file.\n",
      "ExpandObjects Finished. Time:     0.031\n",
      "ExpandObjects completed in 0.15 seconds\n"
     ]
    },
    {
     "name": "stderr",
     "output_type": "stream",
     "text": [
      "INFO:archetypal:No 'ZONEVENTILATION:WINDANDSTACKOPENAREA' created since IsNatVentOn == False.\n",
      "C:\\EnergyPlusV9-2-0\\ExpandObjects.EXE #0-a043523a-df2e-11ed-9b8b-841b77d62e9a.idf: 4.00it [00:00, 14.9it/s]\n",
      "INFO:archetypal:No 'ZONEVENTILATION:DESIGNFLOWRATE' created since IsScheduledVentilationOn == False.\n",
      "INFO:archetypal:No 'ZONEVENTILATION:WINDANDSTACKOPENAREA' created since IsNatVentOn == False.\n",
      "INFO:archetypal:No 'ZONEVENTILATION:DESIGNFLOWRATE' created since IsScheduledVentilationOn == False.\n",
      "INFO:archetypal:No 'ZONEVENTILATION:WINDANDSTACKOPENAREA' created since IsNatVentOn == False.\n",
      "INFO:archetypal:No 'ZONEVENTILATION:DESIGNFLOWRATE' created since IsScheduledVentilationOn == False.\n",
      "INFO:archetypal:No 'ZONEVENTILATION:WINDANDSTACKOPENAREA' created since IsNatVentOn == False.\n",
      "C:\\EnergyPlusV9-2-0\\ExpandObjects.EXE #0-a08cf7a4-df2e-11ed-a78a-841b77d62e9a.idf: 0.00it [00:00, ?it/s]INFO:a08cf7a4-df2e-11ed-a78a-841b77d62e9a.idf:ExpandObjects Started.\n",
      "C:\\EnergyPlusV9-2-0\\ExpandObjects.EXE #0-a08cf7a4-df2e-11ed-a78a-841b77d62e9a.idf: 1.00it [00:00, 21.0it/s]INFO:a0b6be8a-df2e-11ed-a7d4-841b77d62e9a.idf:ExpandObjects Started.\n",
      "C:\\EnergyPlusV9-2-0\\ExpandObjects.EXE #0-a08cf7a4-df2e-11ed-a78a-841b77d62e9a.idf: 1.00it [00:00, 17.0it/s]INFO:a08cf7a4-df2e-11ed-a78a-841b77d62e9a.idf: Begin reading Energy+.idd file.\n",
      "C:\\EnergyPlusV9-2-0\\ExpandObjects.EXE #0-a08cf7a4-df2e-11ed-a78a-841b77d62e9a.idf: 2.00it [00:00, 29.1it/s]INFO:a0b6be8a-df2e-11ed-a7d4-841b77d62e9a.idf: Begin reading Energy+.idd file.\n",
      "C:\\EnergyPlusV9-2-0\\ExpandObjects.EXE #0-a08cf7a4-df2e-11ed-a78a-841b77d62e9a.idf: 2.00it [00:00, 12.6it/s]INFO:a08cf7a4-df2e-11ed-a78a-841b77d62e9a.idf: Done reading Energy+.idd file.\n",
      "C:\\EnergyPlusV9-2-0\\ExpandObjects.EXE #0-a08cf7a4-df2e-11ed-a78a-841b77d62e9a.idf: 3.00it [00:00, 18.4it/s]INFO:a0b6be8a-df2e-11ed-a7d4-841b77d62e9a.idf: Done reading Energy+.idd file.\n"
     ]
    },
    {
     "name": "stdout",
     "output_type": "stream",
     "text": [
      "ExpandObjects Started.\n",
      "ExpandObjects Started.\n",
      " Begin reading Energy+.idd file.\n",
      " Begin reading Energy+.idd file.\n",
      " Done reading Energy+.idd file.\n",
      " Done reading Energy+.idd file.\n"
     ]
    },
    {
     "name": "stderr",
     "output_type": "stream",
     "text": [
      "C:\\EnergyPlusV9-2-0\\ExpandObjects.EXE #0-a0b6be8a-df2e-11ed-a7d4-841b77d62e9a.idf: 3.00it [00:00, 17.7it/s]INFO:a08cf7a4-df2e-11ed-a78a-841b77d62e9a.idf:ExpandObjects Finished. Time:     0.047\n",
      "C:\\EnergyPlusV9-2-0\\ExpandObjects.EXE #0-a08cf7a4-df2e-11ed-a78a-841b77d62e9a.idf: 4.00it [00:00, 18.4it/s]INFO:a0b6be8a-df2e-11ed-a7d4-841b77d62e9a.idf:ExpandObjects Finished. Time:     0.047\n"
     ]
    },
    {
     "name": "stdout",
     "output_type": "stream",
     "text": [
      "ExpandObjects Finished. Time:     0.047\n",
      "ExpandObjects Finished. Time:     0.047\n"
     ]
    },
    {
     "name": "stderr",
     "output_type": "stream",
     "text": [
      "                                                              INFO:a08cf7a4-df2e-11ed-a78a-841b77d62e9a.idf:ExpandObjects completed in 0.19 seconds\n",
      "C:\\EnergyPlusV9-2-0\\ExpandObjects.EXE #0-a0b6be8a-df2e-11ed-a7d4-841b77d62e9a.idf: 4.00it [00:00, 17.7it/s]INFO:a043523a-df2e-11ed-9b8b-841b77d62e9a.idf:Simulation started\n",
      "                                                                                                           INFO:archetypal:collected data for ['Zone Ideal Loads Zone Total Heating Energy', 'Zone Ideal Loads Zone Total Cooling Energy']\n",
      "C:\\EnergyPlusV9-2-0\\ExpandObjects.EXE #0-a0b6be8a-df2e-11ed-a7d4-841b77d62e9a.idf: 4.00it [00:00, 17.7it/s]INFO:a0b6be8a-df2e-11ed-a7d4-841b77d62e9a.idf:ExpandObjects completed in 0.19 seconds\n",
      "C:\\EnergyPlusV9-2-0\\ExpandObjects.EXE #0-a08cf7a4-df2e-11ed-a78a-841b77d62e9a.idf: 4.00it [00:00, 14.1it/s]INFO:a043523a-df2e-11ed-9b8b-841b77d62e9a.idf:EnergyPlus Starting\n",
      "\n",
      "C:\\EnergyPlusV9-2-0\\ExpandObjects.EXE #0-a0b6be8a-df2e-11ed-a7d4-841b77d62e9a.idf: 4.00it [00:00, 14.2it/s]INFO:a043523a-df2e-11ed-9b8b-841b77d62e9a.idf:EnergyPlus, Version 9.2.0-921312fa1d, YMD=2023.04.19 20:51\n",
      "\n",
      "C:\\EnergyPlusV9-2-0\\energyplus.exe a043523a-df2e-11ed-9b8b-841b77d62e9a.idf: 2it [00:00, 19.43it/s]INFO:archetypal:collected data for ['Zone Ideal Loads Zone Total Heating Energy', 'Zone Ideal Loads Zone Total Cooling Energy']\n",
      "simulate:  80%|████████  | 16.0/20.0 [00:36<00:05, 1.46s/runs]"
     ]
    },
    {
     "name": "stdout",
     "output_type": "stream",
     "text": [
      "ExpandObjects completed in 0.19 seconds\n",
      "Simulation started\n",
      "ExpandObjects completed in 0.19 seconds\n",
      "EnergyPlus Starting\n",
      "EnergyPlus, Version 9.2.0-921312fa1d, YMD=2023.04.19 20:51\n"
     ]
    },
    {
     "name": "stderr",
     "output_type": "stream",
     "text": [
      "C:\\EnergyPlusV9-2-0\\energyplus.exe a043523a-df2e-11ed-9b8b-841b77d62e9a.idf: 2it [00:00, 19.43it/s]INFO:a043523a-df2e-11ed-9b8b-841b77d62e9a.idf:Adjusting Air System Sizing\n",
      "C:\\EnergyPlusV9-2-0\\energyplus.exe a043523a-df2e-11ed-9b8b-841b77d62e9a.idf: 3it [00:00,  7.53it/s]INFO:a043523a-df2e-11ed-9b8b-841b77d62e9a.idf:Adjusting Standard 62.1 Ventilation Sizing\n",
      "C:\\EnergyPlusV9-2-0\\energyplus.exe a043523a-df2e-11ed-9b8b-841b77d62e9a.idf: 4it [00:00,  7.53it/s]INFO:a043523a-df2e-11ed-9b8b-841b77d62e9a.idf:Initializing Simulation\n",
      "C:\\EnergyPlusV9-2-0\\energyplus.exe a043523a-df2e-11ed-9b8b-841b77d62e9a.idf: 5it [00:00,  7.53it/s]INFO:a043523a-df2e-11ed-9b8b-841b77d62e9a.idf:Reporting Surfaces\n",
      "C:\\EnergyPlusV9-2-0\\energyplus.exe a043523a-df2e-11ed-9b8b-841b77d62e9a.idf: 6it [00:00,  7.53it/s]INFO:a043523a-df2e-11ed-9b8b-841b77d62e9a.idf:Beginning Primary Simulation\n",
      "C:\\EnergyPlusV9-2-0\\energyplus.exe a043523a-df2e-11ed-9b8b-841b77d62e9a.idf: 7it [00:00,  7.53it/s]INFO:a043523a-df2e-11ed-9b8b-841b77d62e9a.idf:Initializing New Environment Parameters\n",
      "C:\\EnergyPlusV9-2-0\\energyplus.exe a043523a-df2e-11ed-9b8b-841b77d62e9a.idf: 8it [00:00,  7.53it/s]INFO:a043523a-df2e-11ed-9b8b-841b77d62e9a.idf:Warming up {1}\n"
     ]
    },
    {
     "name": "stdout",
     "output_type": "stream",
     "text": [
      "Adjusting Air System Sizing\n",
      "Adjusting Standard 62.1 Ventilation Sizing\n",
      "Initializing Simulation\n",
      "Reporting Surfaces\n",
      "Beginning Primary Simulation\n",
      "Initializing New Environment Parameters\n",
      "Warming up {1}\n"
     ]
    },
    {
     "name": "stderr",
     "output_type": "stream",
     "text": [
      "C:\\EnergyPlusV9-2-0\\energyplus.exe a043523a-df2e-11ed-9b8b-841b77d62e9a.idf: 9it [00:00,  7.53it/s]INFO:a043523a-df2e-11ed-9b8b-841b77d62e9a.idf:Warming up {2}\n",
      "C:\\EnergyPlusV9-2-0\\energyplus.exe a043523a-df2e-11ed-9b8b-841b77d62e9a.idf: 10it [00:00, 26.68it/s]INFO:a043523a-df2e-11ed-9b8b-841b77d62e9a.idf:Warming up {3}\n",
      "C:\\EnergyPlusV9-2-0\\energyplus.exe a043523a-df2e-11ed-9b8b-841b77d62e9a.idf: 11it [00:00, 26.68it/s]INFO:a043523a-df2e-11ed-9b8b-841b77d62e9a.idf:Warming up {4}\n",
      "C:\\EnergyPlusV9-2-0\\energyplus.exe a043523a-df2e-11ed-9b8b-841b77d62e9a.idf: 12it [00:00, 26.68it/s]INFO:a043523a-df2e-11ed-9b8b-841b77d62e9a.idf:Warming up {5}\n",
      "C:\\EnergyPlusV9-2-0\\energyplus.exe a043523a-df2e-11ed-9b8b-841b77d62e9a.idf: 13it [00:00, 26.68it/s]INFO:a043523a-df2e-11ed-9b8b-841b77d62e9a.idf:Warming up {6}\n",
      "C:\\EnergyPlusV9-2-0\\energyplus.exe a043523a-df2e-11ed-9b8b-841b77d62e9a.idf: 14it [00:00, 26.68it/s]INFO:a043523a-df2e-11ed-9b8b-841b77d62e9a.idf:Starting Simulation at 01/01/2017 for RUN PERIOD 1\n",
      "C:\\EnergyPlusV9-2-0\\energyplus.exe a043523a-df2e-11ed-9b8b-841b77d62e9a.idf: 15it [00:00, 26.68it/s]INFO:a043523a-df2e-11ed-9b8b-841b77d62e9a.idf:Updating Shadowing Calculations, Start Date=01/21/2017\n",
      "C:\\EnergyPlusV9-2-0\\energyplus.exe a043523a-df2e-11ed-9b8b-841b77d62e9a.idf: 16it [00:00, 26.68it/s]INFO:a043523a-df2e-11ed-9b8b-841b77d62e9a.idf:Continuing Simulation at 01/21/2017 for RUN PERIOD 1\n",
      "C:\\EnergyPlusV9-2-0\\energyplus.exe a043523a-df2e-11ed-9b8b-841b77d62e9a.idf: 17it [00:00, 26.68it/s]INFO:a043523a-df2e-11ed-9b8b-841b77d62e9a.idf:Updating Shadowing Calculations, Start Date=02/10/2017\n",
      "C:\\EnergyPlusV9-2-0\\energyplus.exe a043523a-df2e-11ed-9b8b-841b77d62e9a.idf: 18it [00:00, 26.68it/s]INFO:a043523a-df2e-11ed-9b8b-841b77d62e9a.idf:Continuing Simulation at 02/10/2017 for RUN PERIOD 1\n",
      "C:\\EnergyPlusV9-2-0\\energyplus.exe a043523a-df2e-11ed-9b8b-841b77d62e9a.idf: 19it [00:00, 26.68it/s]INFO:a043523a-df2e-11ed-9b8b-841b77d62e9a.idf:Updating Shadowing Calculations, Start Date=03/02/2017\n",
      "C:\\EnergyPlusV9-2-0\\energyplus.exe a043523a-df2e-11ed-9b8b-841b77d62e9a.idf: 20it [00:00, 46.15it/s]INFO:a043523a-df2e-11ed-9b8b-841b77d62e9a.idf:Continuing Simulation at 03/02/2017 for RUN PERIOD 1\n"
     ]
    },
    {
     "name": "stdout",
     "output_type": "stream",
     "text": [
      "Warming up {2}\n",
      "Warming up {3}\n",
      "Warming up {4}\n",
      "Warming up {5}\n",
      "Warming up {6}\n",
      "Starting Simulation at 01/01/2017 for RUN PERIOD 1\n",
      "Updating Shadowing Calculations, Start Date=01/21/2017\n",
      "Continuing Simulation at 01/21/2017 for RUN PERIOD 1\n",
      "Updating Shadowing Calculations, Start Date=02/10/2017\n",
      "Continuing Simulation at 02/10/2017 for RUN PERIOD 1\n",
      "Updating Shadowing Calculations, Start Date=03/02/2017\n",
      "Continuing Simulation at 03/02/2017 for RUN PERIOD 1\n"
     ]
    },
    {
     "name": "stderr",
     "output_type": "stream",
     "text": [
      "C:\\EnergyPlusV9-2-0\\energyplus.exe a0b6be8a-df2e-11ed-a7d4-841b77d62e9a.idf: 0it [00:00, ?it/s]INFO:a043523a-df2e-11ed-9b8b-841b77d62e9a.idf:Updating Shadowing Calculations, Start Date=03/22/2017\n",
      "C:\\EnergyPlusV9-2-0\\energyplus.exe a08cf7a4-df2e-11ed-a78a-841b77d62e9a.idf: 0it [00:00, ?it/s]INFO:a043523a-df2e-11ed-9b8b-841b77d62e9a.idf:Continuing Simulation at 03/22/2017 for RUN PERIOD 1\n",
      "C:\\EnergyPlusV9-2-0\\energyplus.exe a08cf7a4-df2e-11ed-a78a-841b77d62e9a.idf: 0it [00:00, ?it/s]INFO:a0b6be8a-df2e-11ed-a7d4-841b77d62e9a.idf:Simulation started\n",
      "                                                              INFO:a08cf7a4-df2e-11ed-a78a-841b77d62e9a.idf:Simulation started\n",
      "C:\\EnergyPlusV9-2-0\\energyplus.exe a08cf7a4-df2e-11ed-a78a-841b77d62e9a.idf: 0it [00:00, ?it/s]INFO:a0b6be8a-df2e-11ed-a7d4-841b77d62e9a.idf:EnergyPlus Starting\n",
      "C:\\EnergyPlusV9-2-0\\energyplus.exe a08cf7a4-df2e-11ed-a78a-841b77d62e9a.idf: 0it [00:00, ?it/s]INFO:a08cf7a4-df2e-11ed-a78a-841b77d62e9a.idf:EnergyPlus Starting\n",
      "C:\\EnergyPlusV9-2-0\\energyplus.exe a08cf7a4-df2e-11ed-a78a-841b77d62e9a.idf: 1it [00:00, 14.71it/s]INFO:a0b6be8a-df2e-11ed-a7d4-841b77d62e9a.idf:EnergyPlus, Version 9.2.0-921312fa1d, YMD=2023.04.19 20:51\n",
      "C:\\EnergyPlusV9-2-0\\energyplus.exe a08cf7a4-df2e-11ed-a78a-841b77d62e9a.idf: 1it [00:00, 12.58it/s]INFO:a08cf7a4-df2e-11ed-a78a-841b77d62e9a.idf:EnergyPlus, Version 9.2.0-921312fa1d, YMD=2023.04.19 20:51\n",
      "C:\\EnergyPlusV9-2-0\\energyplus.exe a08cf7a4-df2e-11ed-a78a-841b77d62e9a.idf: 2it [00:00, 19.51it/s]INFO:a043523a-df2e-11ed-9b8b-841b77d62e9a.idf:Updating Shadowing Calculations, Start Date=04/11/2017\n",
      "C:\\EnergyPlusV9-2-0\\energyplus.exe a08cf7a4-df2e-11ed-a78a-841b77d62e9a.idf: 2it [00:00, 17.93it/s]INFO:a043523a-df2e-11ed-9b8b-841b77d62e9a.idf:Continuing Simulation at 04/11/2017 for RUN PERIOD 1\n"
     ]
    },
    {
     "name": "stdout",
     "output_type": "stream",
     "text": [
      "Updating Shadowing Calculations, Start Date=03/22/2017\n",
      "Continuing Simulation at 03/22/2017 for RUN PERIOD 1\n",
      "Simulation started\n",
      "Simulation started\n",
      "EnergyPlus Starting\n",
      "EnergyPlus Starting\n",
      "EnergyPlus, Version 9.2.0-921312fa1d, YMD=2023.04.19 20:51\n",
      "EnergyPlus, Version 9.2.0-921312fa1d, YMD=2023.04.19 20:51\n",
      "Updating Shadowing Calculations, Start Date=04/11/2017\n",
      "Continuing Simulation at 04/11/2017 for RUN PERIOD 1\n"
     ]
    },
    {
     "name": "stderr",
     "output_type": "stream",
     "text": [
      "C:\\EnergyPlusV9-2-0\\energyplus.exe a08cf7a4-df2e-11ed-a78a-841b77d62e9a.idf: 2it [00:00,  9.45it/s]INFO:a043523a-df2e-11ed-9b8b-841b77d62e9a.idf:Updating Shadowing Calculations, Start Date=05/01/2017\n",
      "                                                              INFO:a043523a-df2e-11ed-9b8b-841b77d62e9a.idf:Continuing Simulation at 05/01/2017 for RUN PERIOD 1\n",
      "C:\\EnergyPlusV9-2-0\\energyplus.exe a08cf7a4-df2e-11ed-a78a-841b77d62e9a.idf: 2it [00:00,  8.11it/s]INFO:a0b6be8a-df2e-11ed-a7d4-841b77d62e9a.idf:Adjusting Air System Sizing\n",
      "simulate:  80%|████████  | 16.0/20.0 [00:37<00:05, 1.46s/runs]INFO:archetypal:collected data for ['Zone Ideal Loads Zone Total Heating Energy', 'Zone Ideal Loads Zone Total Cooling Energy']\n",
      "C:\\EnergyPlusV9-2-0\\energyplus.exe a0b6be8a-df2e-11ed-a7d4-841b77d62e9a.idf: 3it [00:00, 11.85it/s]INFO:a08cf7a4-df2e-11ed-a78a-841b77d62e9a.idf:Adjusting Air System Sizing\n",
      "C:\\EnergyPlusV9-2-0\\energyplus.exe a08cf7a4-df2e-11ed-a78a-841b77d62e9a.idf: 3it [00:00,  9.45it/s]INFO:a0b6be8a-df2e-11ed-a7d4-841b77d62e9a.idf:Adjusting Standard 62.1 Ventilation Sizing\n",
      "                                                                                                    INFO:archetypal:collected data for ['Zone Ideal Loads Zone Total Heating Energy', 'Zone Ideal Loads Zone Total Cooling Energy']\n",
      "C:\\EnergyPlusV9-2-0\\energyplus.exe a08cf7a4-df2e-11ed-a78a-841b77d62e9a.idf: 3it [00:00,  9.45it/s]INFO:a043523a-df2e-11ed-9b8b-841b77d62e9a.idf:Updating Shadowing Calculations, Start Date=05/21/2017\n",
      "C:\\EnergyPlusV9-2-0\\energyplus.exe a08cf7a4-df2e-11ed-a78a-841b77d62e9a.idf: 3it [00:00,  9.45it/s]INFO:a08cf7a4-df2e-11ed-a78a-841b77d62e9a.idf:Adjusting Standard 62.1 Ventilation Sizing\n",
      "simulate:  85%|████████▌ | 17.0/20.0 [00:37<00:03, 1.29s/runs]INFO:a0b6be8a-df2e-11ed-a7d4-841b77d62e9a.idf:Initializing Simulation\n",
      "C:\\EnergyPlusV9-2-0\\energyplus.exe a0b6be8a-df2e-11ed-a7d4-841b77d62e9a.idf: 5it [00:00, 13.41it/s]INFO:a08cf7a4-df2e-11ed-a78a-841b77d62e9a.idf:Initializing Simulation\n"
     ]
    },
    {
     "name": "stdout",
     "output_type": "stream",
     "text": [
      "Updating Shadowing Calculations, Start Date=05/01/2017\n",
      "Continuing Simulation at 05/01/2017 for RUN PERIOD 1\n",
      "Adjusting Air System Sizing\n",
      "Adjusting Air System Sizing\n",
      "Adjusting Standard 62.1 Ventilation Sizing\n",
      "Updating Shadowing Calculations, Start Date=05/21/2017\n",
      "Adjusting Standard 62.1 Ventilation Sizing\n",
      "Initializing Simulation\n",
      "Initializing Simulation\n"
     ]
    },
    {
     "name": "stderr",
     "output_type": "stream",
     "text": [
      "C:\\EnergyPlusV9-2-0\\energyplus.exe a08cf7a4-df2e-11ed-a78a-841b77d62e9a.idf: 5it [00:00,  9.45it/s]INFO:a043523a-df2e-11ed-9b8b-841b77d62e9a.idf:Continuing Simulation at 05/21/2017 for RUN PERIOD 1\n",
      "C:\\EnergyPlusV9-2-0\\energyplus.exe a08cf7a4-df2e-11ed-a78a-841b77d62e9a.idf: 5it [00:00,  9.45it/s]INFO:a08cf7a4-df2e-11ed-a78a-841b77d62e9a.idf:Reporting Surfaces\n",
      "C:\\EnergyPlusV9-2-0\\energyplus.exe a08cf7a4-df2e-11ed-a78a-841b77d62e9a.idf: 6it [00:00,  9.45it/s]INFO:a0b6be8a-df2e-11ed-a7d4-841b77d62e9a.idf:Reporting Surfaces\n",
      "C:\\EnergyPlusV9-2-0\\energyplus.exe a08cf7a4-df2e-11ed-a78a-841b77d62e9a.idf: 6it [00:00,  9.45it/s]INFO:a08cf7a4-df2e-11ed-a78a-841b77d62e9a.idf:Beginning Primary Simulation\n",
      "C:\\EnergyPlusV9-2-0\\energyplus.exe a08cf7a4-df2e-11ed-a78a-841b77d62e9a.idf: 7it [00:00, 18.27it/s]INFO:a0b6be8a-df2e-11ed-a7d4-841b77d62e9a.idf:Beginning Primary Simulation\n",
      "C:\\EnergyPlusV9-2-0\\energyplus.exe a08cf7a4-df2e-11ed-a78a-841b77d62e9a.idf: 7it [00:00, 18.27it/s]INFO:a043523a-df2e-11ed-9b8b-841b77d62e9a.idf:Updating Shadowing Calculations, Start Date=06/10/2017\n",
      "C:\\EnergyPlusV9-2-0\\energyplus.exe a08cf7a4-df2e-11ed-a78a-841b77d62e9a.idf: 7it [00:00, 18.27it/s]INFO:a0b6be8a-df2e-11ed-a7d4-841b77d62e9a.idf:Initializing New Environment Parameters\n",
      "C:\\EnergyPlusV9-2-0\\energyplus.exe a08cf7a4-df2e-11ed-a78a-841b77d62e9a.idf: 7it [00:00, 18.27it/s]INFO:a08cf7a4-df2e-11ed-a78a-841b77d62e9a.idf:Initializing New Environment Parameters\n",
      "C:\\EnergyPlusV9-2-0\\energyplus.exe a08cf7a4-df2e-11ed-a78a-841b77d62e9a.idf: 8it [00:00, 18.27it/s]INFO:a043523a-df2e-11ed-9b8b-841b77d62e9a.idf:Continuing Simulation at 06/10/2017 for RUN PERIOD 1\n",
      "C:\\EnergyPlusV9-2-0\\energyplus.exe a08cf7a4-df2e-11ed-a78a-841b77d62e9a.idf: 8it [00:00, 18.27it/s]INFO:a0b6be8a-df2e-11ed-a7d4-841b77d62e9a.idf:Warming up {1}\n",
      "C:\\EnergyPlusV9-2-0\\energyplus.exe a043523a-df2e-11ed-9b8b-841b77d62e9a.idf: 31it [00:01, 25.07it/s]INFO:a08cf7a4-df2e-11ed-a78a-841b77d62e9a.idf:Warming up {1}\n",
      "C:\\EnergyPlusV9-2-0\\energyplus.exe a08cf7a4-df2e-11ed-a78a-841b77d62e9a.idf: 9it [00:00, 18.27it/s]INFO:a08cf7a4-df2e-11ed-a78a-841b77d62e9a.idf:Warming up {2}\n",
      "C:\\EnergyPlusV9-2-0\\energyplus.exe a08cf7a4-df2e-11ed-a78a-841b77d62e9a.idf: 10it [00:00, 18.27it/s]INFO:a0b6be8a-df2e-11ed-a7d4-841b77d62e9a.idf:Warming up {2}\n",
      "C:\\EnergyPlusV9-2-0\\energyplus.exe a08cf7a4-df2e-11ed-a78a-841b77d62e9a.idf: 10it [00:00, 18.27it/s]INFO:a08cf7a4-df2e-11ed-a78a-841b77d62e9a.idf:Warming up {3}\n",
      "C:\\EnergyPlusV9-2-0\\energyplus.exe a08cf7a4-df2e-11ed-a78a-841b77d62e9a.idf: 11it [00:00, 24.35it/s]INFO:a0b6be8a-df2e-11ed-a7d4-841b77d62e9a.idf:Warming up {3}\n",
      "C:\\EnergyPlusV9-2-0\\energyplus.exe a08cf7a4-df2e-11ed-a78a-841b77d62e9a.idf: 11it [00:00, 24.35it/s]INFO:a043523a-df2e-11ed-9b8b-841b77d62e9a.idf:Updating Shadowing Calculations, Start Date=06/30/2017\n",
      "C:\\EnergyPlusV9-2-0\\energyplus.exe a08cf7a4-df2e-11ed-a78a-841b77d62e9a.idf: 11it [00:00, 24.35it/s]INFO:a0b6be8a-df2e-11ed-a7d4-841b77d62e9a.idf:Warming up {4}\n",
      "C:\\EnergyPlusV9-2-0\\energyplus.exe a08cf7a4-df2e-11ed-a78a-841b77d62e9a.idf: 11it [00:00, 24.35it/s]INFO:a08cf7a4-df2e-11ed-a78a-841b77d62e9a.idf:Warming up {4}\n"
     ]
    },
    {
     "name": "stdout",
     "output_type": "stream",
     "text": [
      "Continuing Simulation at 05/21/2017 for RUN PERIOD 1\n",
      "Reporting Surfaces\n",
      "Reporting Surfaces\n",
      "Beginning Primary Simulation\n",
      "Beginning Primary Simulation\n",
      "Updating Shadowing Calculations, Start Date=06/10/2017\n",
      "Initializing New Environment Parameters\n",
      "Initializing New Environment Parameters\n",
      "Continuing Simulation at 06/10/2017 for RUN PERIOD 1\n",
      "Warming up {1}\n",
      "Warming up {1}\n",
      "Warming up {2}\n",
      "Warming up {2}\n",
      "Warming up {3}\n",
      "Warming up {3}\n",
      "Updating Shadowing Calculations, Start Date=06/30/2017\n",
      "Warming up {4}\n",
      "Warming up {4}\n"
     ]
    },
    {
     "name": "stderr",
     "output_type": "stream",
     "text": [
      "C:\\EnergyPlusV9-2-0\\energyplus.exe a08cf7a4-df2e-11ed-a78a-841b77d62e9a.idf: 12it [00:00, 24.35it/s]INFO:a043523a-df2e-11ed-9b8b-841b77d62e9a.idf:Continuing Simulation at 06/30/2017 for RUN PERIOD 1\n",
      "C:\\EnergyPlusV9-2-0\\energyplus.exe a08cf7a4-df2e-11ed-a78a-841b77d62e9a.idf: 12it [00:00, 24.35it/s]INFO:a0b6be8a-df2e-11ed-a7d4-841b77d62e9a.idf:Warming up {5}\n",
      "C:\\EnergyPlusV9-2-0\\energyplus.exe a043523a-df2e-11ed-9b8b-841b77d62e9a.idf: 33it [00:01, 23.30it/s]INFO:a08cf7a4-df2e-11ed-a78a-841b77d62e9a.idf:Warming up {5}\n",
      "C:\\EnergyPlusV9-2-0\\energyplus.exe a08cf7a4-df2e-11ed-a78a-841b77d62e9a.idf: 13it [00:00, 24.35it/s]INFO:a0b6be8a-df2e-11ed-a7d4-841b77d62e9a.idf:Warming up {6}\n",
      "C:\\EnergyPlusV9-2-0\\energyplus.exe a08cf7a4-df2e-11ed-a78a-841b77d62e9a.idf: 13it [00:00, 24.35it/s]INFO:a08cf7a4-df2e-11ed-a78a-841b77d62e9a.idf:Warming up {6}\n",
      "C:\\EnergyPlusV9-2-0\\energyplus.exe a08cf7a4-df2e-11ed-a78a-841b77d62e9a.idf: 14it [00:00, 24.35it/s]INFO:a0b6be8a-df2e-11ed-a7d4-841b77d62e9a.idf:Starting Simulation at 01/01/2017 for RUN PERIOD 1\n",
      "C:\\EnergyPlusV9-2-0\\energyplus.exe a08cf7a4-df2e-11ed-a78a-841b77d62e9a.idf: 14it [00:00, 24.35it/s]INFO:a08cf7a4-df2e-11ed-a78a-841b77d62e9a.idf:Starting Simulation at 01/01/2017 for RUN PERIOD 1\n",
      "C:\\EnergyPlusV9-2-0\\energyplus.exe a08cf7a4-df2e-11ed-a78a-841b77d62e9a.idf: 15it [00:00, 28.22it/s]INFO:a0b6be8a-df2e-11ed-a7d4-841b77d62e9a.idf:Updating Shadowing Calculations, Start Date=01/21/2017\n",
      "C:\\EnergyPlusV9-2-0\\energyplus.exe a08cf7a4-df2e-11ed-a78a-841b77d62e9a.idf: 15it [00:00, 28.22it/s]INFO:a043523a-df2e-11ed-9b8b-841b77d62e9a.idf:Updating Shadowing Calculations, Start Date=07/20/2017\n",
      "C:\\EnergyPlusV9-2-0\\energyplus.exe a08cf7a4-df2e-11ed-a78a-841b77d62e9a.idf: 15it [00:00, 28.22it/s]INFO:a0b6be8a-df2e-11ed-a7d4-841b77d62e9a.idf:Continuing Simulation at 01/21/2017 for RUN PERIOD 1\n",
      "C:\\EnergyPlusV9-2-0\\energyplus.exe a08cf7a4-df2e-11ed-a78a-841b77d62e9a.idf: 15it [00:00, 28.22it/s]INFO:a08cf7a4-df2e-11ed-a78a-841b77d62e9a.idf:Updating Shadowing Calculations, Start Date=01/21/2017\n",
      "C:\\EnergyPlusV9-2-0\\energyplus.exe a08cf7a4-df2e-11ed-a78a-841b77d62e9a.idf: 16it [00:00, 28.22it/s]INFO:a043523a-df2e-11ed-9b8b-841b77d62e9a.idf:Continuing Simulation at 07/20/2017 for RUN PERIOD 1\n",
      "C:\\EnergyPlusV9-2-0\\energyplus.exe a08cf7a4-df2e-11ed-a78a-841b77d62e9a.idf: 16it [00:00, 28.22it/s]INFO:a0b6be8a-df2e-11ed-a7d4-841b77d62e9a.idf:Updating Shadowing Calculations, Start Date=02/10/2017\n",
      "C:\\EnergyPlusV9-2-0\\energyplus.exe a08cf7a4-df2e-11ed-a78a-841b77d62e9a.idf: 16it [00:00, 28.22it/s]INFO:a08cf7a4-df2e-11ed-a78a-841b77d62e9a.idf:Continuing Simulation at 01/21/2017 for RUN PERIOD 1\n",
      "C:\\EnergyPlusV9-2-0\\energyplus.exe a08cf7a4-df2e-11ed-a78a-841b77d62e9a.idf: 17it [00:00, 28.22it/s]INFO:a0b6be8a-df2e-11ed-a7d4-841b77d62e9a.idf:Continuing Simulation at 02/10/2017 for RUN PERIOD 1\n",
      "C:\\EnergyPlusV9-2-0\\energyplus.exe a0b6be8a-df2e-11ed-a7d4-841b77d62e9a.idf: 19it [00:00, 34.39it/s]INFO:a08cf7a4-df2e-11ed-a78a-841b77d62e9a.idf:Updating Shadowing Calculations, Start Date=02/10/2017\n",
      "C:\\EnergyPlusV9-2-0\\energyplus.exe a08cf7a4-df2e-11ed-a78a-841b77d62e9a.idf: 18it [00:00, 28.22it/s]INFO:a0b6be8a-df2e-11ed-a7d4-841b77d62e9a.idf:Updating Shadowing Calculations, Start Date=03/02/2017\n",
      "C:\\EnergyPlusV9-2-0\\energyplus.exe a08cf7a4-df2e-11ed-a78a-841b77d62e9a.idf: 18it [00:00, 28.22it/s]INFO:a08cf7a4-df2e-11ed-a78a-841b77d62e9a.idf:Continuing Simulation at 02/10/2017 for RUN PERIOD 1\n",
      "C:\\EnergyPlusV9-2-0\\energyplus.exe a08cf7a4-df2e-11ed-a78a-841b77d62e9a.idf: 19it [00:00, 31.51it/s]INFO:a0b6be8a-df2e-11ed-a7d4-841b77d62e9a.idf:Continuing Simulation at 03/02/2017 for RUN PERIOD 1\n",
      "C:\\EnergyPlusV9-2-0\\energyplus.exe a08cf7a4-df2e-11ed-a78a-841b77d62e9a.idf: 19it [00:00, 31.51it/s]INFO:a043523a-df2e-11ed-9b8b-841b77d62e9a.idf:Updating Shadowing Calculations, Start Date=08/09/2017\n"
     ]
    },
    {
     "name": "stdout",
     "output_type": "stream",
     "text": [
      "Continuing Simulation at 06/30/2017 for RUN PERIOD 1\n",
      "Warming up {5}\n",
      "Warming up {5}\n",
      "Warming up {6}\n",
      "Warming up {6}\n",
      "Starting Simulation at 01/01/2017 for RUN PERIOD 1\n",
      "Starting Simulation at 01/01/2017 for RUN PERIOD 1\n",
      "Updating Shadowing Calculations, Start Date=01/21/2017\n",
      "Updating Shadowing Calculations, Start Date=07/20/2017\n",
      "Continuing Simulation at 01/21/2017 for RUN PERIOD 1\n",
      "Updating Shadowing Calculations, Start Date=01/21/2017\n",
      "Continuing Simulation at 07/20/2017 for RUN PERIOD 1\n",
      "Updating Shadowing Calculations, Start Date=02/10/2017\n",
      "Continuing Simulation at 01/21/2017 for RUN PERIOD 1\n",
      "Continuing Simulation at 02/10/2017 for RUN PERIOD 1\n",
      "Updating Shadowing Calculations, Start Date=02/10/2017\n",
      "Updating Shadowing Calculations, Start Date=03/02/2017\n",
      "Continuing Simulation at 02/10/2017 for RUN PERIOD 1\n",
      "Continuing Simulation at 03/02/2017 for RUN PERIOD 1\n",
      "Updating Shadowing Calculations, Start Date=08/09/2017\n"
     ]
    },
    {
     "name": "stderr",
     "output_type": "stream",
     "text": [
      "C:\\EnergyPlusV9-2-0\\energyplus.exe a08cf7a4-df2e-11ed-a78a-841b77d62e9a.idf: 19it [00:00, 31.51it/s]INFO:a08cf7a4-df2e-11ed-a78a-841b77d62e9a.idf:Updating Shadowing Calculations, Start Date=03/02/2017\n",
      "C:\\EnergyPlusV9-2-0\\energyplus.exe a043523a-df2e-11ed-9b8b-841b77d62e9a.idf: 36it [00:01, 20.83it/s]INFO:a0b6be8a-df2e-11ed-a7d4-841b77d62e9a.idf:Updating Shadowing Calculations, Start Date=03/22/2017\n",
      "C:\\EnergyPlusV9-2-0\\energyplus.exe a08cf7a4-df2e-11ed-a78a-841b77d62e9a.idf: 20it [00:00, 31.51it/s]INFO:a08cf7a4-df2e-11ed-a78a-841b77d62e9a.idf:Continuing Simulation at 03/02/2017 for RUN PERIOD 1\n",
      "C:\\EnergyPlusV9-2-0\\energyplus.exe a08cf7a4-df2e-11ed-a78a-841b77d62e9a.idf: 21it [00:00, 31.51it/s]INFO:a043523a-df2e-11ed-9b8b-841b77d62e9a.idf:Continuing Simulation at 08/09/2017 for RUN PERIOD 1\n",
      "                                                              INFO:a0b6be8a-df2e-11ed-a7d4-841b77d62e9a.idf:Continuing Simulation at 03/22/2017 for RUN PERIOD 1\n",
      "C:\\EnergyPlusV9-2-0\\energyplus.exe a08cf7a4-df2e-11ed-a78a-841b77d62e9a.idf: 21it [00:00, 31.51it/s]INFO:a08cf7a4-df2e-11ed-a78a-841b77d62e9a.idf:Updating Shadowing Calculations, Start Date=03/22/2017\n",
      "C:\\EnergyPlusV9-2-0\\energyplus.exe a08cf7a4-df2e-11ed-a78a-841b77d62e9a.idf: 22it [00:00, 31.51it/s]INFO:a08cf7a4-df2e-11ed-a78a-841b77d62e9a.idf:Continuing Simulation at 03/22/2017 for RUN PERIOD 1\n",
      "                                                              INFO:a08cf7a4-df2e-11ed-a78a-841b77d62e9a.idf:Updating Shadowing Calculations, Start Date=04/11/2017\n",
      "C:\\EnergyPlusV9-2-0\\energyplus.exe a08cf7a4-df2e-11ed-a78a-841b77d62e9a.idf: 24it [00:00, 36.88it/s]INFO:a0b6be8a-df2e-11ed-a7d4-841b77d62e9a.idf:Updating Shadowing Calculations, Start Date=04/11/2017\n",
      "C:\\EnergyPlusV9-2-0\\energyplus.exe a08cf7a4-df2e-11ed-a78a-841b77d62e9a.idf: 24it [00:00, 36.88it/s]INFO:a043523a-df2e-11ed-9b8b-841b77d62e9a.idf:Updating Shadowing Calculations, Start Date=08/29/2017\n",
      "C:\\EnergyPlusV9-2-0\\energyplus.exe a08cf7a4-df2e-11ed-a78a-841b77d62e9a.idf: 24it [00:00, 36.88it/s]INFO:a043523a-df2e-11ed-9b8b-841b77d62e9a.idf:Continuing Simulation at 08/29/2017 for RUN PERIOD 1\n",
      "C:\\EnergyPlusV9-2-0\\energyplus.exe a08cf7a4-df2e-11ed-a78a-841b77d62e9a.idf: 24it [00:00, 36.88it/s]INFO:a08cf7a4-df2e-11ed-a78a-841b77d62e9a.idf:Continuing Simulation at 04/11/2017 for RUN PERIOD 1\n",
      "C:\\EnergyPlusV9-2-0\\energyplus.exe a043523a-df2e-11ed-9b8b-841b77d62e9a.idf: 39it [00:01, 22.39it/s]INFO:a0b6be8a-df2e-11ed-a7d4-841b77d62e9a.idf:Continuing Simulation at 04/11/2017 for RUN PERIOD 1\n",
      "C:\\EnergyPlusV9-2-0\\energyplus.exe a08cf7a4-df2e-11ed-a78a-841b77d62e9a.idf: 25it [00:00, 36.88it/s]INFO:a08cf7a4-df2e-11ed-a78a-841b77d62e9a.idf:Updating Shadowing Calculations, Start Date=05/01/2017\n",
      "C:\\EnergyPlusV9-2-0\\energyplus.exe a08cf7a4-df2e-11ed-a78a-841b77d62e9a.idf: 26it [00:00, 36.88it/s]INFO:a08cf7a4-df2e-11ed-a78a-841b77d62e9a.idf:Continuing Simulation at 05/01/2017 for RUN PERIOD 1\n",
      "C:\\EnergyPlusV9-2-0\\energyplus.exe a08cf7a4-df2e-11ed-a78a-841b77d62e9a.idf: 27it [00:00, 36.88it/s]INFO:a0b6be8a-df2e-11ed-a7d4-841b77d62e9a.idf:Updating Shadowing Calculations, Start Date=05/01/2017\n"
     ]
    },
    {
     "name": "stdout",
     "output_type": "stream",
     "text": [
      "Updating Shadowing Calculations, Start Date=03/02/2017\n",
      "Updating Shadowing Calculations, Start Date=03/22/2017\n",
      "Continuing Simulation at 03/02/2017 for RUN PERIOD 1\n",
      "Continuing Simulation at 08/09/2017 for RUN PERIOD 1\n",
      "Continuing Simulation at 03/22/2017 for RUN PERIOD 1\n",
      "Updating Shadowing Calculations, Start Date=03/22/2017\n",
      "Continuing Simulation at 03/22/2017 for RUN PERIOD 1\n",
      "Updating Shadowing Calculations, Start Date=04/11/2017\n",
      "Updating Shadowing Calculations, Start Date=04/11/2017\n",
      "Updating Shadowing Calculations, Start Date=08/29/2017\n",
      "Continuing Simulation at 08/29/2017 for RUN PERIOD 1\n",
      "Continuing Simulation at 04/11/2017 for RUN PERIOD 1\n",
      "Continuing Simulation at 04/11/2017 for RUN PERIOD 1\n",
      "Updating Shadowing Calculations, Start Date=05/01/2017\n",
      "Continuing Simulation at 05/01/2017 for RUN PERIOD 1\n",
      "Updating Shadowing Calculations, Start Date=05/01/2017\n"
     ]
    },
    {
     "name": "stderr",
     "output_type": "stream",
     "text": [
      "INFO:a043523a-df2e-11ed-9b8b-841b77d62e9a.idf:Updating Shadowing Calculations, Start Date=09/18/2017\n",
      "                                                              INFO:a0b6be8a-df2e-11ed-a7d4-841b77d62e9a.idf:Continuing Simulation at 05/01/2017 for RUN PERIOD 1\n",
      "C:\\EnergyPlusV9-2-0\\energyplus.exe a0b6be8a-df2e-11ed-a7d4-841b77d62e9a.idf: 27it [00:00, 32.19it/s]INFO:a043523a-df2e-11ed-9b8b-841b77d62e9a.idf:Continuing Simulation at 09/18/2017 for RUN PERIOD 1\n",
      "C:\\EnergyPlusV9-2-0\\energyplus.exe a08cf7a4-df2e-11ed-a78a-841b77d62e9a.idf: 27it [00:01, 36.88it/s]INFO:a08cf7a4-df2e-11ed-a78a-841b77d62e9a.idf:Updating Shadowing Calculations, Start Date=05/21/2017\n",
      "C:\\EnergyPlusV9-2-0\\energyplus.exe a08cf7a4-df2e-11ed-a78a-841b77d62e9a.idf: 28it [00:01, 30.70it/s]INFO:a08cf7a4-df2e-11ed-a78a-841b77d62e9a.idf:Continuing Simulation at 05/21/2017 for RUN PERIOD 1\n",
      "C:\\EnergyPlusV9-2-0\\energyplus.exe a08cf7a4-df2e-11ed-a78a-841b77d62e9a.idf: 29it [00:01, 30.70it/s]INFO:a0b6be8a-df2e-11ed-a7d4-841b77d62e9a.idf:Updating Shadowing Calculations, Start Date=05/21/2017\n",
      "C:\\EnergyPlusV9-2-0\\energyplus.exe a08cf7a4-df2e-11ed-a78a-841b77d62e9a.idf: 29it [00:01, 30.70it/s]INFO:a043523a-df2e-11ed-9b8b-841b77d62e9a.idf:Updating Shadowing Calculations, Start Date=10/08/2017\n",
      "C:\\EnergyPlusV9-2-0\\energyplus.exe a08cf7a4-df2e-11ed-a78a-841b77d62e9a.idf: 29it [00:01, 30.70it/s]INFO:a0b6be8a-df2e-11ed-a7d4-841b77d62e9a.idf:Continuing Simulation at 05/21/2017 for RUN PERIOD 1\n",
      "C:\\EnergyPlusV9-2-0\\energyplus.exe a08cf7a4-df2e-11ed-a78a-841b77d62e9a.idf: 29it [00:01, 30.70it/s]INFO:a043523a-df2e-11ed-9b8b-841b77d62e9a.idf:Continuing Simulation at 10/08/2017 for RUN PERIOD 1\n",
      "C:\\EnergyPlusV9-2-0\\energyplus.exe a08cf7a4-df2e-11ed-a78a-841b77d62e9a.idf: 29it [00:01, 30.70it/s]INFO:a0b6be8a-df2e-11ed-a7d4-841b77d62e9a.idf:Updating Shadowing Calculations, Start Date=06/10/2017\n",
      "C:\\EnergyPlusV9-2-0\\energyplus.exe a0b6be8a-df2e-11ed-a7d4-841b77d62e9a.idf: 30it [00:01, 27.68it/s]INFO:a08cf7a4-df2e-11ed-a78a-841b77d62e9a.idf:Updating Shadowing Calculations, Start Date=06/10/2017\n",
      "C:\\EnergyPlusV9-2-0\\energyplus.exe a08cf7a4-df2e-11ed-a78a-841b77d62e9a.idf: 30it [00:01, 27.18it/s]INFO:a043523a-df2e-11ed-9b8b-841b77d62e9a.idf:Updating Shadowing Calculations, Start Date=10/28/2017\n"
     ]
    },
    {
     "name": "stdout",
     "output_type": "stream",
     "text": [
      "Updating Shadowing Calculations, Start Date=09/18/2017\n",
      "Continuing Simulation at 05/01/2017 for RUN PERIOD 1\n",
      "Continuing Simulation at 09/18/2017 for RUN PERIOD 1\n",
      "Updating Shadowing Calculations, Start Date=05/21/2017\n",
      "Continuing Simulation at 05/21/2017 for RUN PERIOD 1\n",
      "Updating Shadowing Calculations, Start Date=05/21/2017\n",
      "Updating Shadowing Calculations, Start Date=10/08/2017\n",
      "Continuing Simulation at 05/21/2017 for RUN PERIOD 1\n",
      "Continuing Simulation at 10/08/2017 for RUN PERIOD 1\n",
      "Updating Shadowing Calculations, Start Date=06/10/2017\n",
      "Updating Shadowing Calculations, Start Date=06/10/2017\n",
      "Updating Shadowing Calculations, Start Date=10/28/2017\n"
     ]
    },
    {
     "name": "stderr",
     "output_type": "stream",
     "text": [
      "C:\\EnergyPlusV9-2-0\\energyplus.exe a08cf7a4-df2e-11ed-a78a-841b77d62e9a.idf: 30it [00:01, 27.18it/s]INFO:a0b6be8a-df2e-11ed-a7d4-841b77d62e9a.idf:Continuing Simulation at 06/10/2017 for RUN PERIOD 1\n",
      "C:\\EnergyPlusV9-2-0\\energyplus.exe a08cf7a4-df2e-11ed-a78a-841b77d62e9a.idf: 30it [00:01, 27.18it/s]INFO:a08cf7a4-df2e-11ed-a78a-841b77d62e9a.idf:Continuing Simulation at 06/10/2017 for RUN PERIOD 1\n",
      "C:\\EnergyPlusV9-2-0\\energyplus.exe a08cf7a4-df2e-11ed-a78a-841b77d62e9a.idf: 31it [00:01, 27.18it/s]INFO:a043523a-df2e-11ed-9b8b-841b77d62e9a.idf:Continuing Simulation at 10/28/2017 for RUN PERIOD 1\n",
      "C:\\EnergyPlusV9-2-0\\energyplus.exe a08cf7a4-df2e-11ed-a78a-841b77d62e9a.idf: 31it [00:01, 27.18it/s]INFO:a08cf7a4-df2e-11ed-a78a-841b77d62e9a.idf:Updating Shadowing Calculations, Start Date=06/30/2017\n",
      "C:\\EnergyPlusV9-2-0\\energyplus.exe a08cf7a4-df2e-11ed-a78a-841b77d62e9a.idf: 32it [00:01, 27.18it/s]INFO:a0b6be8a-df2e-11ed-a7d4-841b77d62e9a.idf:Updating Shadowing Calculations, Start Date=06/30/2017\n",
      "C:\\EnergyPlusV9-2-0\\energyplus.exe a08cf7a4-df2e-11ed-a78a-841b77d62e9a.idf: 32it [00:01, 27.18it/s]INFO:a08cf7a4-df2e-11ed-a78a-841b77d62e9a.idf:Continuing Simulation at 06/30/2017 for RUN PERIOD 1\n",
      "C:\\EnergyPlusV9-2-0\\energyplus.exe a08cf7a4-df2e-11ed-a78a-841b77d62e9a.idf: 33it [00:01, 27.18it/s]INFO:a043523a-df2e-11ed-9b8b-841b77d62e9a.idf:Updating Shadowing Calculations, Start Date=11/17/2017\n",
      "C:\\EnergyPlusV9-2-0\\energyplus.exe a08cf7a4-df2e-11ed-a78a-841b77d62e9a.idf: 33it [00:01, 27.18it/s]INFO:a0b6be8a-df2e-11ed-a7d4-841b77d62e9a.idf:Continuing Simulation at 06/30/2017 for RUN PERIOD 1\n",
      "C:\\EnergyPlusV9-2-0\\energyplus.exe a0b6be8a-df2e-11ed-a7d4-841b77d62e9a.idf: 33it [00:01, 26.96it/s]INFO:a043523a-df2e-11ed-9b8b-841b77d62e9a.idf:Continuing Simulation at 11/17/2017 for RUN PERIOD 1\n",
      "C:\\EnergyPlusV9-2-0\\energyplus.exe a08cf7a4-df2e-11ed-a78a-841b77d62e9a.idf: 33it [00:01, 27.18it/s]INFO:a08cf7a4-df2e-11ed-a78a-841b77d62e9a.idf:Updating Shadowing Calculations, Start Date=07/20/2017\n",
      "C:\\EnergyPlusV9-2-0\\energyplus.exe a08cf7a4-df2e-11ed-a78a-841b77d62e9a.idf: 34it [00:01, 26.31it/s]INFO:a08cf7a4-df2e-11ed-a78a-841b77d62e9a.idf:Continuing Simulation at 07/20/2017 for RUN PERIOD 1\n",
      "C:\\EnergyPlusV9-2-0\\energyplus.exe a08cf7a4-df2e-11ed-a78a-841b77d62e9a.idf: 35it [00:01, 26.31it/s]INFO:a0b6be8a-df2e-11ed-a7d4-841b77d62e9a.idf:Updating Shadowing Calculations, Start Date=07/20/2017\n",
      "C:\\EnergyPlusV9-2-0\\energyplus.exe a08cf7a4-df2e-11ed-a78a-841b77d62e9a.idf: 35it [00:01, 26.31it/s]INFO:a043523a-df2e-11ed-9b8b-841b77d62e9a.idf:Updating Shadowing Calculations, Start Date=12/07/2017\n"
     ]
    },
    {
     "name": "stdout",
     "output_type": "stream",
     "text": [
      "Continuing Simulation at 06/10/2017 for RUN PERIOD 1\n",
      "Continuing Simulation at 06/10/2017 for RUN PERIOD 1\n",
      "Continuing Simulation at 10/28/2017 for RUN PERIOD 1\n",
      "Updating Shadowing Calculations, Start Date=06/30/2017\n",
      "Updating Shadowing Calculations, Start Date=06/30/2017\n",
      "Continuing Simulation at 06/30/2017 for RUN PERIOD 1\n",
      "Updating Shadowing Calculations, Start Date=11/17/2017\n",
      "Continuing Simulation at 06/30/2017 for RUN PERIOD 1\n",
      "Continuing Simulation at 11/17/2017 for RUN PERIOD 1\n",
      "Updating Shadowing Calculations, Start Date=07/20/2017\n",
      "Continuing Simulation at 07/20/2017 for RUN PERIOD 1\n",
      "Updating Shadowing Calculations, Start Date=07/20/2017\n",
      "Updating Shadowing Calculations, Start Date=12/07/2017\n"
     ]
    },
    {
     "name": "stderr",
     "output_type": "stream",
     "text": [
      "C:\\EnergyPlusV9-2-0\\energyplus.exe a08cf7a4-df2e-11ed-a78a-841b77d62e9a.idf: 35it [00:01, 26.31it/s]INFO:a0b6be8a-df2e-11ed-a7d4-841b77d62e9a.idf:Continuing Simulation at 07/20/2017 for RUN PERIOD 1\n",
      "C:\\EnergyPlusV9-2-0\\energyplus.exe a08cf7a4-df2e-11ed-a78a-841b77d62e9a.idf: 35it [00:01, 26.31it/s]INFO:a043523a-df2e-11ed-9b8b-841b77d62e9a.idf:Continuing Simulation at 12/07/2017 for RUN PERIOD 1\n",
      "C:\\EnergyPlusV9-2-0\\energyplus.exe a08cf7a4-df2e-11ed-a78a-841b77d62e9a.idf: 35it [00:01, 26.31it/s]INFO:a08cf7a4-df2e-11ed-a78a-841b77d62e9a.idf:Updating Shadowing Calculations, Start Date=08/09/2017\n",
      "                                                              INFO:a0b6be8a-df2e-11ed-a7d4-841b77d62e9a.idf:Updating Shadowing Calculations, Start Date=08/09/2017\n",
      "C:\\EnergyPlusV9-2-0\\energyplus.exe a0b6be8a-df2e-11ed-a7d4-841b77d62e9a.idf: 36it [00:01, 24.54it/s]INFO:a08cf7a4-df2e-11ed-a78a-841b77d62e9a.idf:Continuing Simulation at 08/09/2017 for RUN PERIOD 1\n",
      "C:\\EnergyPlusV9-2-0\\energyplus.exe a08cf7a4-df2e-11ed-a78a-841b77d62e9a.idf: 37it [00:01, 26.93it/s]INFO:a0b6be8a-df2e-11ed-a7d4-841b77d62e9a.idf:Continuing Simulation at 08/09/2017 for RUN PERIOD 1\n",
      "C:\\EnergyPlusV9-2-0\\energyplus.exe a08cf7a4-df2e-11ed-a78a-841b77d62e9a.idf: 37it [00:01, 26.93it/s]INFO:a043523a-df2e-11ed-9b8b-841b77d62e9a.idf:Updating Shadowing Calculations, Start Date=12/27/2017\n",
      "C:\\EnergyPlusV9-2-0\\energyplus.exe a08cf7a4-df2e-11ed-a78a-841b77d62e9a.idf: 37it [00:01, 26.93it/s]INFO:a043523a-df2e-11ed-9b8b-841b77d62e9a.idf:Continuing Simulation at 12/27/2017 for RUN PERIOD 1\n",
      "C:\\EnergyPlusV9-2-0\\energyplus.exe a08cf7a4-df2e-11ed-a78a-841b77d62e9a.idf: 37it [00:01, 26.93it/s]INFO:a043523a-df2e-11ed-9b8b-841b77d62e9a.idf:Writing tabular output file results using comma format.\n",
      "C:\\EnergyPlusV9-2-0\\energyplus.exe a08cf7a4-df2e-11ed-a78a-841b77d62e9a.idf: 37it [00:01, 26.93it/s]INFO:a043523a-df2e-11ed-9b8b-841b77d62e9a.idf:Writing tabular output file results using HTML format.\n",
      "C:\\EnergyPlusV9-2-0\\energyplus.exe a08cf7a4-df2e-11ed-a78a-841b77d62e9a.idf: 37it [00:01, 26.93it/s]INFO:a043523a-df2e-11ed-9b8b-841b77d62e9a.idf:Writing final SQL reports\n",
      "C:\\EnergyPlusV9-2-0\\energyplus.exe a08cf7a4-df2e-11ed-a78a-841b77d62e9a.idf: 37it [00:01, 26.93it/s]INFO:a0b6be8a-df2e-11ed-a7d4-841b77d62e9a.idf:Updating Shadowing Calculations, Start Date=08/29/2017\n",
      "C:\\EnergyPlusV9-2-0\\energyplus.exe a08cf7a4-df2e-11ed-a78a-841b77d62e9a.idf: 37it [00:01, 26.93it/s]INFO:a043523a-df2e-11ed-9b8b-841b77d62e9a.idf:EnergyPlus Run Time=00hr 00min  2.10sec\n",
      "C:\\EnergyPlusV9-2-0\\energyplus.exe a08cf7a4-df2e-11ed-a78a-841b77d62e9a.idf: 37it [00:01, 26.93it/s]INFO:a08cf7a4-df2e-11ed-a78a-841b77d62e9a.idf:Updating Shadowing Calculations, Start Date=08/29/2017\n"
     ]
    },
    {
     "name": "stdout",
     "output_type": "stream",
     "text": [
      "Continuing Simulation at 07/20/2017 for RUN PERIOD 1\n",
      "Continuing Simulation at 12/07/2017 for RUN PERIOD 1\n",
      "Updating Shadowing Calculations, Start Date=08/09/2017\n",
      "Updating Shadowing Calculations, Start Date=08/09/2017\n",
      "Continuing Simulation at 08/09/2017 for RUN PERIOD 1\n",
      "Continuing Simulation at 08/09/2017 for RUN PERIOD 1\n",
      "Updating Shadowing Calculations, Start Date=12/27/2017\n",
      "Continuing Simulation at 12/27/2017 for RUN PERIOD 1\n",
      "Writing tabular output file results using comma format.\n",
      "Writing tabular output file results using HTML format.\n",
      "Writing final SQL reports\n",
      "Updating Shadowing Calculations, Start Date=08/29/2017\n",
      "EnergyPlus Run Time=00hr 00min  2.10sec\n",
      "Updating Shadowing Calculations, Start Date=08/29/2017\n"
     ]
    },
    {
     "name": "stderr",
     "output_type": "stream",
     "text": [
      "C:\\EnergyPlusV9-2-0\\energyplus.exe a08cf7a4-df2e-11ed-a78a-841b77d62e9a.idf: 38it [00:01, 21.92it/s]INFO:a0b6be8a-df2e-11ed-a7d4-841b77d62e9a.idf:Continuing Simulation at 08/29/2017 for RUN PERIOD 1\n",
      "C:\\EnergyPlusV9-2-0\\energyplus.exe a08cf7a4-df2e-11ed-a78a-841b77d62e9a.idf: 38it [00:01, 21.92it/s]INFO:a043523a-df2e-11ed-9b8b-841b77d62e9a.idf:EnergyPlus Completed in 2.15 seconds\n",
      "C:\\EnergyPlusV9-2-0\\energyplus.exe a08cf7a4-df2e-11ed-a78a-841b77d62e9a.idf: 38it [00:01, 21.92it/s]INFO:a08cf7a4-df2e-11ed-a78a-841b77d62e9a.idf:Continuing Simulation at 08/29/2017 for RUN PERIOD 1\n",
      "C:\\EnergyPlusV9-2-0\\energyplus.exe a08cf7a4-df2e-11ed-a78a-841b77d62e9a.idf: 39it [00:01, 21.92it/s]INFO:a0b6be8a-df2e-11ed-a7d4-841b77d62e9a.idf:Updating Shadowing Calculations, Start Date=09/18/2017\n",
      "C:\\EnergyPlusV9-2-0\\energyplus.exe a08cf7a4-df2e-11ed-a78a-841b77d62e9a.idf: 39it [00:01, 21.92it/s]INFO:a08cf7a4-df2e-11ed-a78a-841b77d62e9a.idf:Updating Shadowing Calculations, Start Date=09/18/2017\n",
      "C:\\EnergyPlusV9-2-0\\energyplus.exe a043523a-df2e-11ed-9b8b-841b77d62e9a.idf: 55it [00:02, 24.34it/s]INFO:a0b6be8a-df2e-11ed-a7d4-841b77d62e9a.idf:Continuing Simulation at 09/18/2017 for RUN PERIOD 1\n",
      "\n",
      "C:\\EnergyPlusV9-2-0\\energyplus.exe a08cf7a4-df2e-11ed-a78a-841b77d62e9a.idf: 40it [00:01, 21.92it/s]INFO:a08cf7a4-df2e-11ed-a78a-841b77d62e9a.idf:Continuing Simulation at 09/18/2017 for RUN PERIOD 1\n",
      "C:\\EnergyPlusV9-2-0\\energyplus.exe a08cf7a4-df2e-11ed-a78a-841b77d62e9a.idf: 41it [00:01, 23.93it/s]INFO:a0b6be8a-df2e-11ed-a7d4-841b77d62e9a.idf:Updating Shadowing Calculations, Start Date=10/08/2017\n",
      "C:\\EnergyPlusV9-2-0\\energyplus.exe a0b6be8a-df2e-11ed-a7d4-841b77d62e9a.idf: 42it [00:01, 22.20it/s]INFO:a08cf7a4-df2e-11ed-a78a-841b77d62e9a.idf:Updating Shadowing Calculations, Start Date=10/08/2017\n",
      "C:\\EnergyPlusV9-2-0\\energyplus.exe a08cf7a4-df2e-11ed-a78a-841b77d62e9a.idf: 42it [00:01, 23.93it/s]INFO:a08cf7a4-df2e-11ed-a78a-841b77d62e9a.idf:Continuing Simulation at 10/08/2017 for RUN PERIOD 1\n",
      "C:\\EnergyPlusV9-2-0\\energyplus.exe a0b6be8a-df2e-11ed-a7d4-841b77d62e9a.idf: 42it [00:01, 22.20it/s]"
     ]
    },
    {
     "name": "stdout",
     "output_type": "stream",
     "text": [
      "Continuing Simulation at 08/29/2017 for RUN PERIOD 1\n",
      "EnergyPlus Completed in 2.15 seconds\n",
      "Continuing Simulation at 08/29/2017 for RUN PERIOD 1\n",
      "Updating Shadowing Calculations, Start Date=09/18/2017\n",
      "Updating Shadowing Calculations, Start Date=09/18/2017\n",
      "Continuing Simulation at 09/18/2017 for RUN PERIOD 1\n",
      "Continuing Simulation at 09/18/2017 for RUN PERIOD 1\n",
      "Updating Shadowing Calculations, Start Date=10/08/2017\n",
      "Updating Shadowing Calculations, Start Date=10/08/2017\n",
      "Continuing Simulation at 10/08/2017 for RUN PERIOD 1\n",
      "Continuing Simulation at 10/08/2017 for RUN PERIOD 1\n"
     ]
    },
    {
     "name": "stderr",
     "output_type": "stream",
     "text": [
      "C:\\EnergyPlusV9-2-0\\energyplus.exe a08cf7a4-df2e-11ed-a78a-841b77d62e9a.idf: 43it [00:01, 23.93it/s]INFO:a0b6be8a-df2e-11ed-a7d4-841b77d62e9a.idf:Continuing Simulation at 10/08/2017 for RUN PERIOD 1\n",
      "C:\\EnergyPlusV9-2-0\\energyplus.exe a08cf7a4-df2e-11ed-a78a-841b77d62e9a.idf: 43it [00:01, 23.93it/s]INFO:a0b6be8a-df2e-11ed-a7d4-841b77d62e9a.idf:Updating Shadowing Calculations, Start Date=10/28/2017\n",
      "C:\\EnergyPlusV9-2-0\\energyplus.exe a0b6be8a-df2e-11ed-a7d4-841b77d62e9a.idf: 44it [00:01, 20.73it/s]INFO:a08cf7a4-df2e-11ed-a78a-841b77d62e9a.idf:Updating Shadowing Calculations, Start Date=10/28/2017\n",
      "C:\\EnergyPlusV9-2-0\\energyplus.exe a08cf7a4-df2e-11ed-a78a-841b77d62e9a.idf: 44it [00:01, 20.03it/s]INFO:a0b6be8a-df2e-11ed-a7d4-841b77d62e9a.idf:Continuing Simulation at 10/28/2017 for RUN PERIOD 1\n",
      "C:\\EnergyPlusV9-2-0\\energyplus.exe a08cf7a4-df2e-11ed-a78a-841b77d62e9a.idf: 44it [00:01, 20.03it/s]INFO:a08cf7a4-df2e-11ed-a78a-841b77d62e9a.idf:Continuing Simulation at 10/28/2017 for RUN PERIOD 1\n",
      "INFO:archetypal:collected data for ['Zone Ideal Loads Zone Total Heating Energy', 'Zone Ideal Loads Zone Total Cooling Energy']\n",
      "C:\\EnergyPlusV9-2-0\\energyplus.exe a08cf7a4-df2e-11ed-a78a-841b77d62e9a.idf: 45it [00:01, 20.03it/s]INFO:a0b6be8a-df2e-11ed-a7d4-841b77d62e9a.idf:Updating Shadowing Calculations, Start Date=11/17/2017\n",
      "C:\\EnergyPlusV9-2-0\\energyplus.exe a08cf7a4-df2e-11ed-a78a-841b77d62e9a.idf: 45it [00:01, 20.03it/s]INFO:a08cf7a4-df2e-11ed-a78a-841b77d62e9a.idf:Updating Shadowing Calculations, Start Date=11/17/2017\n",
      "INFO:archetypal:collected data for ['Zone Ideal Loads Zone Total Heating Energy', 'Zone Ideal Loads Zone Total Cooling Energy']\n",
      "C:\\EnergyPlusV9-2-0\\energyplus.exe a08cf7a4-df2e-11ed-a78a-841b77d62e9a.idf: 46it [00:01, 20.03it/s]INFO:a0b6be8a-df2e-11ed-a7d4-841b77d62e9a.idf:Continuing Simulation at 11/17/2017 for RUN PERIOD 1\n",
      "simulate:  90%|█████████ | 18.0/20.0 [00:38<00:02, 1.37s/runs]INFO:a08cf7a4-df2e-11ed-a78a-841b77d62e9a.idf:Continuing Simulation at 11/17/2017 for RUN PERIOD 1\n",
      "C:\\EnergyPlusV9-2-0\\energyplus.exe a08cf7a4-df2e-11ed-a78a-841b77d62e9a.idf: 47it [00:01, 21.66it/s]INFO:a08cf7a4-df2e-11ed-a78a-841b77d62e9a.idf:Updating Shadowing Calculations, Start Date=12/07/2017\n",
      "C:\\EnergyPlusV9-2-0\\energyplus.exe a08cf7a4-df2e-11ed-a78a-841b77d62e9a.idf: 48it [00:01, 21.66it/s]INFO:a0b6be8a-df2e-11ed-a7d4-841b77d62e9a.idf:Updating Shadowing Calculations, Start Date=12/07/2017\n",
      "C:\\EnergyPlusV9-2-0\\energyplus.exe a08cf7a4-df2e-11ed-a78a-841b77d62e9a.idf: 48it [00:01, 21.66it/s]INFO:a08cf7a4-df2e-11ed-a78a-841b77d62e9a.idf:Continuing Simulation at 12/07/2017 for RUN PERIOD 1\n",
      "C:\\EnergyPlusV9-2-0\\energyplus.exe a08cf7a4-df2e-11ed-a78a-841b77d62e9a.idf: 49it [00:01, 21.66it/s]INFO:a0b6be8a-df2e-11ed-a7d4-841b77d62e9a.idf:Continuing Simulation at 12/07/2017 for RUN PERIOD 1\n"
     ]
    },
    {
     "name": "stdout",
     "output_type": "stream",
     "text": [
      "Updating Shadowing Calculations, Start Date=10/28/2017\n",
      "Updating Shadowing Calculations, Start Date=10/28/2017\n",
      "Continuing Simulation at 10/28/2017 for RUN PERIOD 1\n",
      "Continuing Simulation at 10/28/2017 for RUN PERIOD 1\n",
      "Updating Shadowing Calculations, Start Date=11/17/2017\n",
      "Updating Shadowing Calculations, Start Date=11/17/2017\n",
      "Continuing Simulation at 11/17/2017 for RUN PERIOD 1\n",
      "Continuing Simulation at 11/17/2017 for RUN PERIOD 1\n",
      "Updating Shadowing Calculations, Start Date=12/07/2017\n",
      "Updating Shadowing Calculations, Start Date=12/07/2017\n",
      "Continuing Simulation at 12/07/2017 for RUN PERIOD 1\n",
      "Continuing Simulation at 12/07/2017 for RUN PERIOD 1\n"
     ]
    },
    {
     "name": "stderr",
     "output_type": "stream",
     "text": [
      "C:\\EnergyPlusV9-2-0\\energyplus.exe a08cf7a4-df2e-11ed-a78a-841b77d62e9a.idf: 49it [00:02, 21.66it/s]INFO:a0b6be8a-df2e-11ed-a7d4-841b77d62e9a.idf:Updating Shadowing Calculations, Start Date=12/27/2017\n",
      "C:\\EnergyPlusV9-2-0\\energyplus.exe a0b6be8a-df2e-11ed-a7d4-841b77d62e9a.idf: 50it [00:02, 22.39it/s]INFO:a08cf7a4-df2e-11ed-a78a-841b77d62e9a.idf:Updating Shadowing Calculations, Start Date=12/27/2017\n",
      "C:\\EnergyPlusV9-2-0\\energyplus.exe a08cf7a4-df2e-11ed-a78a-841b77d62e9a.idf: 50it [00:02, 22.09it/s]INFO:a0b6be8a-df2e-11ed-a7d4-841b77d62e9a.idf:Continuing Simulation at 12/27/2017 for RUN PERIOD 1\n",
      "C:\\EnergyPlusV9-2-0\\energyplus.exe a08cf7a4-df2e-11ed-a78a-841b77d62e9a.idf: 50it [00:02, 22.09it/s]INFO:a08cf7a4-df2e-11ed-a78a-841b77d62e9a.idf:Continuing Simulation at 12/27/2017 for RUN PERIOD 1\n",
      "C:\\EnergyPlusV9-2-0\\energyplus.exe a08cf7a4-df2e-11ed-a78a-841b77d62e9a.idf: 51it [00:02, 22.09it/s]INFO:a0b6be8a-df2e-11ed-a7d4-841b77d62e9a.idf:Writing tabular output file results using comma format.\n",
      "C:\\EnergyPlusV9-2-0\\energyplus.exe a08cf7a4-df2e-11ed-a78a-841b77d62e9a.idf: 51it [00:02, 22.09it/s]INFO:a08cf7a4-df2e-11ed-a78a-841b77d62e9a.idf:Writing tabular output file results using comma format.\n",
      "C:\\EnergyPlusV9-2-0\\energyplus.exe a08cf7a4-df2e-11ed-a78a-841b77d62e9a.idf: 52it [00:02, 22.09it/s]INFO:a0b6be8a-df2e-11ed-a7d4-841b77d62e9a.idf:Writing tabular output file results using HTML format.\n",
      "C:\\EnergyPlusV9-2-0\\energyplus.exe a08cf7a4-df2e-11ed-a78a-841b77d62e9a.idf: 52it [00:02, 22.09it/s]INFO:a08cf7a4-df2e-11ed-a78a-841b77d62e9a.idf:Writing tabular output file results using HTML format.\n",
      "C:\\EnergyPlusV9-2-0\\energyplus.exe a08cf7a4-df2e-11ed-a78a-841b77d62e9a.idf: 53it [00:02, 22.09it/s]INFO:a0b6be8a-df2e-11ed-a7d4-841b77d62e9a.idf:Writing final SQL reports\n",
      "C:\\EnergyPlusV9-2-0\\energyplus.exe a08cf7a4-df2e-11ed-a78a-841b77d62e9a.idf: 53it [00:02, 22.09it/s]INFO:a08cf7a4-df2e-11ed-a78a-841b77d62e9a.idf:Writing final SQL reports\n",
      "C:\\EnergyPlusV9-2-0\\energyplus.exe a08cf7a4-df2e-11ed-a78a-841b77d62e9a.idf: 54it [00:02, 22.09it/s]INFO:a0b6be8a-df2e-11ed-a7d4-841b77d62e9a.idf:EnergyPlus Run Time=00hr 00min  2.08sec\n",
      "C:\\EnergyPlusV9-2-0\\energyplus.exe a08cf7a4-df2e-11ed-a78a-841b77d62e9a.idf: 54it [00:02, 22.09it/s]INFO:a08cf7a4-df2e-11ed-a78a-841b77d62e9a.idf:EnergyPlus Run Time=00hr 00min  2.08sec\n",
      "C:\\EnergyPlusV9-2-0\\energyplus.exe a08cf7a4-df2e-11ed-a78a-841b77d62e9a.idf: 55it [00:02, 22.09it/s]INFO:a0b6be8a-df2e-11ed-a7d4-841b77d62e9a.idf:EnergyPlus Completed in 2.13 seconds\n",
      "C:\\EnergyPlusV9-2-0\\energyplus.exe a08cf7a4-df2e-11ed-a78a-841b77d62e9a.idf: 55it [00:02, 22.09it/s]INFO:a08cf7a4-df2e-11ed-a78a-841b77d62e9a.idf:EnergyPlus Completed in 2.14 seconds\n",
      "C:\\EnergyPlusV9-2-0\\energyplus.exe a0b6be8a-df2e-11ed-a7d4-841b77d62e9a.idf: 55it [00:02, 24.88it/s]\n",
      "C:\\EnergyPlusV9-2-0\\energyplus.exe a08cf7a4-df2e-11ed-a78a-841b77d62e9a.idf: 55it [00:02, 24.87it/s]\n"
     ]
    },
    {
     "name": "stdout",
     "output_type": "stream",
     "text": [
      "Updating Shadowing Calculations, Start Date=12/27/2017\n",
      "Updating Shadowing Calculations, Start Date=12/27/2017\n",
      "Continuing Simulation at 12/27/2017 for RUN PERIOD 1\n",
      "Continuing Simulation at 12/27/2017 for RUN PERIOD 1\n",
      "Writing tabular output file results using comma format.\n",
      "Writing tabular output file results using comma format.\n",
      "Writing tabular output file results using HTML format.\n",
      "Writing tabular output file results using HTML format.\n",
      "Writing final SQL reports\n",
      "Writing final SQL reports\n",
      "EnergyPlus Run Time=00hr 00min  2.08sec\n",
      "EnergyPlus Run Time=00hr 00min  2.08sec\n",
      "EnergyPlus Completed in 2.13 seconds\n",
      "EnergyPlus Completed in 2.14 seconds\n"
     ]
    },
    {
     "name": "stderr",
     "output_type": "stream",
     "text": [
      "INFO:archetypal:collected data for ['Zone Ideal Loads Zone Total Heating Energy', 'Zone Ideal Loads Zone Total Cooling Energy']\n",
      "INFO:archetypal:collected data for ['Zone Ideal Loads Zone Total Heating Energy', 'Zone Ideal Loads Zone Total Cooling Energy']\n",
      "simulate:  95%|█████████▌| 19.0/20.0 [00:39<00:01, 1.19s/runs]INFO:archetypal:collected data for ['Zone Ideal Loads Zone Total Heating Energy', 'Zone Ideal Loads Zone Total Cooling Energy']\n",
      "INFO:archetypal:collected data for ['Zone Ideal Loads Zone Total Heating Energy', 'Zone Ideal Loads Zone Total Cooling Energy']\n",
      "simulate: 100%|██████████| 20.0/20.0 [00:39<00:00, 1.99s/runs]\n",
      "INFO:Batch Simulator:Completed parallel processing for BATCH:23 with 5!\n",
      "INFO:Batch Simulator:Moving data to numpy tensors for BATCH:23!\n",
      "INFO:Batch Simulator:Writing results to hdf5 for BATCH:23...\n",
      "INFO:Batch Simulator:Done writing results to GCP bucket for BATCH:23.\n"
     ]
    }
   ],
   "source": [
    "batch_runner.run()"
   ]
  },
  {
   "cell_type": "markdown",
   "metadata": {},
   "source": [
    "Afterwards, we can automatically upload the results to the Google storage bucket:"
   ]
  },
  {
   "cell_type": "code",
   "execution_count": 71,
   "metadata": {},
   "outputs": [
    {
     "name": "stderr",
     "output_type": "stream",
     "text": [
      "INFO:Batch Simulator:Upload results to GCP bucket for BATCH:23...\n",
      "INFO:Batch Simulator:Done uploading results to GCP bucket for BATCH:23.\n"
     ]
    }
   ],
   "source": [
    "batch_runner.upload()"
   ]
  },
  {
   "cell_type": "markdown",
   "metadata": {},
   "source": [
    "Let's take a look at some results:"
   ]
  },
  {
   "cell_type": "code",
   "execution_count": 72,
   "metadata": {},
   "outputs": [
    {
     "name": "stdout",
     "output_type": "stream",
     "text": [
      "(20, 4, 8760)\n"
     ]
    }
   ],
   "source": [
    "results = None\n",
    "with h5py.File(\"./data/hdf5/batch_00023_results.hdf5\", 'r') as f:\n",
    "    results = f[\"hourly\"][...] # this loads the whole batch into memory!\n",
    "\n",
    "print(results.shape)\n",
    "\n"
   ]
  },
  {
   "cell_type": "code",
   "execution_count": 73,
   "metadata": {},
   "outputs": [
    {
     "data": {
      "text/plain": [
       "[<matplotlib.lines.Line2D at 0x1ea373eb8b0>]"
      ]
     },
     "execution_count": 73,
     "metadata": {},
     "output_type": "execute_result"
    },
    {
     "data": {
      "image/png": "[encoded data removed]",
      "text/plain": [
       "<Figure size 640x480 with 1 Axes>"
      ]
     },
     "metadata": {},
     "output_type": "display_data"
    },
    {
     "data": {
      "image/png": "[encoded data removed]",
      "text/plain": [
       "<Figure size 640x480 with 1 Axes>"
      ]
     },
     "metadata": {},
     "output_type": "display_data"
    }
   ],
   "source": [
    "fig = plt.figure()\n",
    "plt.plot(results[0,0,:]*2.777e-7, linewidth=0.5)\n",
    "plt.plot(results[0,1,:]*2.777e-7, linewidth=0.5)\n",
    "fig = plt.figure()\n",
    "plt.plot(results[0,2,:]*2.777e-7, linewidth=0.5)\n",
    "plt.plot(results[0,3,:]*2.777e-7, linewidth=0.5)"
   ]
  }
 ],
 "metadata": {
  "kernelspec": {
   "display_name": "ml-for-bem-sampling",
   "language": "python",
   "name": "python3"
  },
  "language_info": {
   "codemirror_mode": {
    "name": "ipython",
    "version": 3
   },
   "file_extension": ".py",
   "mimetype": "text/x-python",
   "name": "python",
   "nbconvert_exporter": "python",
   "pygments_lexer": "ipython3",
   "version": "3.8.16"
  },
  "orig_nbformat": 4
 },
 "nbformat": 4,
 "nbformat_minor": 2
}
