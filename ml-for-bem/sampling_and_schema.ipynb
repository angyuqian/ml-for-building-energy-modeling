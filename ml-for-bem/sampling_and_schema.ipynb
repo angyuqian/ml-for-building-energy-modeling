{
 "cells": [
  {
   "attachments": {},
   "cell_type": "markdown",
   "metadata": {},
   "source": [
    "# Schema Usage\n",
    "\n",
    "The schema does not actually store any data.  Instead, it is an interface which allows us to interact with numpy/torch tensors in a semantic manner.  It lets us convert between storage vectors (i.e. how we store the building parameters numerically on disk), simulation objects (e.g. Archetypal Templates and PyUmi Shoeboxes) and machine learning model imports (i.e. torch tensors with full hourly schedule data)."
   ]
  },
  {
   "attachments": {},
   "cell_type": "markdown",
   "metadata": {},
   "source": [
    "## Notebook setup\n",
    "\n",
    "We need some jank to get relative imports working."
   ]
  },
  {
   "cell_type": "code",
   "execution_count": 1,
   "metadata": {},
   "outputs": [],
   "source": [
    "import os\n",
    "import sys\n",
    "module_path = os.path.abspath(os.path.join('..'))\n",
    "if module_path not in sys.path:\n",
    "    sys.path.append(module_path)\n",
    "import numpy as np"
   ]
  },
  {
   "attachments": {},
   "cell_type": "markdown",
   "metadata": {},
   "source": [
    "## Initialize the Schema"
   ]
  },
  {
   "cell_type": "code",
   "execution_count": 2,
   "metadata": {},
   "outputs": [
    {
     "name": "stderr",
     "output_type": "stream",
     "text": [
      "c:\\anacondas\\envs\\ml-for-bem-sampling\\lib\\site-packages\\outdated\\utils.py:14: OutdatedPackageWarning: The package energy-pandas is out of date. Your version is 0.3.2, the latest is 0.3.3.\n",
      "Set the environment variable OUTDATED_IGNORE=1 to disable these warnings.\n",
      "  return warn(\n"
     ]
    }
   ],
   "source": [
    "from schema import Schema, ShoeboxGeometryParameter\n",
    "schema = Schema()"
   ]
  },
  {
   "attachments": {},
   "cell_type": "markdown",
   "metadata": {},
   "source": [
    "Let's see what's in the schema:"
   ]
  },
  {
   "cell_type": "code",
   "execution_count": 3,
   "metadata": {},
   "outputs": [
    {
     "data": {
      "text/plain": [
       "['id',\n",
       " 'base_template',\n",
       " 'base_epw',\n",
       " 'width',\n",
       " 'height',\n",
       " 'facade_2_footprint',\n",
       " 'perim_2_footprint',\n",
       " 'roof_2_footprint',\n",
       " 'footprint_2_ground',\n",
       " 'shading_fact',\n",
       " 'wwr_n',\n",
       " 'wwr_e',\n",
       " 'wwr_s',\n",
       " 'wwr_w',\n",
       " 'orientation',\n",
       " 'LightingPowerDensity',\n",
       " 'EquipmentPowerDensity',\n",
       " 'PeopleDensity',\n",
       " 'FacadeRValue',\n",
       " 'RoofRValue',\n",
       " 'PartitionRValue',\n",
       " 'SlabRValue',\n",
       " 'schedules_seed',\n",
       " 'schedules']"
      ]
     },
     "execution_count": 3,
     "metadata": {},
     "output_type": "execute_result"
    }
   ],
   "source": [
    "schema.parameter_names"
   ]
  },
  {
   "attachments": {},
   "cell_type": "markdown",
   "metadata": {},
   "source": [
    "We can access a schema parameter from the schema with list indexing:"
   ]
  },
  {
   "cell_type": "code",
   "execution_count": 5,
   "metadata": {},
   "outputs": [
    {
     "name": "stdout",
     "output_type": "stream",
     "text": [
      "---width---\n",
      "shape_storage=(1,), shape_ml=(1,), dtype=scalar\n",
      "Width [m]\n",
      "---schedules---\n",
      "shape_storage=(8, 16), shape_ml=(8, 8760), dtype=matrix\n",
      "A matrix in the storage vector with operations to apply to schedules; a matrix of timeseries in ml vector\n",
      "---orientation---\n",
      "shape_storage=(1,), shape_ml=(4,), dtype=onehot\n",
      "Shoebox Orientation\n"
     ]
    }
   ],
   "source": [
    "print(schema[\"width\"])\n",
    "print(schema[\"schedules\"])\n",
    "print(schema[\"orientation\"])"
   ]
  },
  {
   "attachments": {},
   "cell_type": "markdown",
   "metadata": {},
   "source": [
    "We see that each parameter may have multiple different lengths in the storage vector and ML vector.\n",
    "\n",
    "We can also print a summary of the whole schema:"
   ]
  },
  {
   "cell_type": "code",
   "execution_count": 8,
   "metadata": {},
   "outputs": [
    {
     "name": "stdout",
     "output_type": "stream",
     "text": [
      "-------- Schema --------\n",
      "---- id ----\n",
      "shape storage: (1,) / shape ml: (0,)\n",
      "location storage: 0->1 / location ml: 0->0\n",
      "\n",
      "---- base_template ----\n",
      "shape storage: (1,) / shape ml: (0,)\n",
      "location storage: 1->2 / location ml: 0->0\n",
      "\n",
      "---- base_epw ----\n",
      "shape storage: (1,) / shape ml: (0,)\n",
      "location storage: 2->3 / location ml: 0->0\n",
      "\n",
      "---- width ----\n",
      "shape storage: (1,) / shape ml: (1,)\n",
      "location storage: 3->4 / location ml: 0->1\n",
      "\n",
      "---- height ----\n",
      "shape storage: (1,) / shape ml: (1,)\n",
      "location storage: 4->5 / location ml: 1->2\n",
      "\n",
      "---- facade_2_footprint ----\n",
      "shape storage: (1,) / shape ml: (1,)\n",
      "location storage: 5->6 / location ml: 2->3\n",
      "\n",
      "---- perim_2_footprint ----\n",
      "shape storage: (1,) / shape ml: (1,)\n",
      "location storage: 6->7 / location ml: 3->4\n",
      "\n",
      "---- roof_2_footprint ----\n",
      "shape storage: (1,) / shape ml: (1,)\n",
      "location storage: 7->8 / location ml: 4->5\n",
      "\n",
      "---- footprint_2_ground ----\n",
      "shape storage: (1,) / shape ml: (1,)\n",
      "location storage: 8->9 / location ml: 5->6\n",
      "\n",
      "---- shading_fact ----\n",
      "shape storage: (1,) / shape ml: (1,)\n",
      "location storage: 9->10 / location ml: 6->7\n",
      "\n",
      "---- wwr_n ----\n",
      "shape storage: (1,) / shape ml: (1,)\n",
      "location storage: 10->11 / location ml: 7->8\n",
      "\n",
      "---- wwr_e ----\n",
      "shape storage: (1,) / shape ml: (1,)\n",
      "location storage: 11->12 / location ml: 8->9\n",
      "\n",
      "---- wwr_s ----\n",
      "shape storage: (1,) / shape ml: (1,)\n",
      "location storage: 12->13 / location ml: 9->10\n",
      "\n",
      "---- wwr_w ----\n",
      "shape storage: (1,) / shape ml: (1,)\n",
      "location storage: 13->14 / location ml: 10->11\n",
      "\n",
      "---- orientation ----\n",
      "shape storage: (1,) / shape ml: (4,)\n",
      "location storage: 14->15 / location ml: 11->15\n",
      "\n",
      "---- LightingPowerDensity ----\n",
      "shape storage: (1,) / shape ml: (1,)\n",
      "location storage: 15->16 / location ml: 15->16\n",
      "\n",
      "---- EquipmentPowerDensity ----\n",
      "shape storage: (1,) / shape ml: (1,)\n",
      "location storage: 16->17 / location ml: 16->17\n",
      "\n",
      "---- PeopleDensity ----\n",
      "shape storage: (1,) / shape ml: (1,)\n",
      "location storage: 17->18 / location ml: 17->18\n",
      "\n",
      "---- FacadeRValue ----\n",
      "shape storage: (1,) / shape ml: (1,)\n",
      "location storage: 18->19 / location ml: 18->19\n",
      "\n",
      "---- RoofRValue ----\n",
      "shape storage: (1,) / shape ml: (1,)\n",
      "location storage: 19->20 / location ml: 19->20\n",
      "\n",
      "---- PartitionRValue ----\n",
      "shape storage: (1,) / shape ml: (1,)\n",
      "location storage: 20->21 / location ml: 20->21\n",
      "\n",
      "---- SlabRValue ----\n",
      "shape storage: (1,) / shape ml: (1,)\n",
      "location storage: 21->22 / location ml: 21->22\n",
      "\n",
      "---- schedules_seed ----\n",
      "shape storage: (1,) / shape ml: (0,)\n",
      "location storage: 22->23 / location ml: 22->22\n",
      "\n",
      "---- schedules ----\n",
      "shape storage: (8, 16) / shape ml: (8, 8760)\n",
      "location storage: 23->151 / location ml: 22->70102\n",
      "\n",
      "Total length of storage vectors: 151 / Total length of ml vectors: 70102\n"
     ]
    }
   ],
   "source": [
    "print(schema)"
   ]
  },
  {
   "attachments": {},
   "cell_type": "markdown",
   "metadata": {},
   "source": [
    "We see that the length of the storage vector is significantly smaller than the length the vector the ML model will see."
   ]
  },
  {
   "attachments": {},
   "cell_type": "markdown",
   "metadata": {},
   "source": [
    "## Generating new design vectors in storage space"
   ]
  },
  {
   "attachments": {},
   "cell_type": "markdown",
   "metadata": {},
   "source": [
    "First let's generate a new, empty design vector, and update the Roof R-Value, and then check that it updated correctly:"
   ]
  },
  {
   "cell_type": "code",
   "execution_count": 9,
   "metadata": {},
   "outputs": [
    {
     "data": {
      "text/plain": [
       "25.0"
      ]
     },
     "execution_count": 9,
     "metadata": {},
     "output_type": "execute_result"
    }
   ],
   "source": [
    "storage_vector = schema.generate_empty_storage_vector()\n",
    "schema.update_storage_vector(storage_vector=storage_vector, parameter=\"RoofRValue\", value=25)\n",
    "schema[\"RoofRValue\"].extract_storage_values(storage_vector)"
   ]
  },
  {
   "attachments": {},
   "cell_type": "markdown",
   "metadata": {},
   "source": [
    "If we print out the full vector, we should be able to see th 25 and a whole bunch of zeros:"
   ]
  },
  {
   "cell_type": "code",
   "execution_count": 10,
   "metadata": {},
   "outputs": [
    {
     "name": "stdout",
     "output_type": "stream",
     "text": [
      "[ 0.  0.  0.  0.  0.  0.  0.  0.  0.  0.  0.  0.  0.  0.  0.  0.  0.  0.\n",
      "  0. 25.  0.  0.  0.  0.  0.  0.  0.  0.  0.  0.  0.  0.  0.  0.  0.  0.\n",
      "  0.  0.  0.  0.  0.  0.  0.  0.  0.  0.  0.  0.  0.  0.  0.  0.  0.  0.\n",
      "  0.  0.  0.  0.  0.  0.  0.  0.  0.  0.  0.  0.  0.  0.  0.  0.  0.  0.\n",
      "  0.  0.  0.  0.  0.  0.  0.  0.  0.  0.  0.  0.  0.  0.  0.  0.  0.  0.\n",
      "  0.  0.  0.  0.  0.  0.  0.  0.  0.  0.  0.  0.  0.  0.  0.  0.  0.  0.\n",
      "  0.  0.  0.  0.  0.  0.  0.  0.  0.  0.  0.  0.  0.  0.  0.  0.  0.  0.\n",
      "  0.  0.  0.  0.  0.  0.  0.  0.  0.  0.  0.  0.  0.  0.  0.  0.  0.  0.\n",
      "  0.  0.  0.  0.  0.  0.  0.]\n"
     ]
    }
   ],
   "source": [
    "print(storage_vector)"
   ]
  },
  {
   "attachments": {},
   "cell_type": "markdown",
   "metadata": {},
   "source": [
    "Let's create a new batch of designs:"
   ]
  },
  {
   "cell_type": "code",
   "execution_count": 15,
   "metadata": {},
   "outputs": [
    {
     "data": {
      "text/plain": [
       "(20, 151)"
      ]
     },
     "execution_count": 15,
     "metadata": {},
     "output_type": "execute_result"
    }
   ],
   "source": [
    "batch_size = 20\n",
    "storage_batch = schema.generate_empty_storage_batch(batch_size)\n",
    "storage_batch.shape"
   ]
  },
  {
   "attachments": {},
   "cell_type": "markdown",
   "metadata": {},
   "source": [
    "Great, we see that it has 20 design vectors with 151 values each.\n",
    "\n",
    "Let's try updating all of the facade R-values values in a batch with the same value:"
   ]
  },
  {
   "cell_type": "code",
   "execution_count": 19,
   "metadata": {},
   "outputs": [
    {
     "data": {
      "text/plain": [
       "array([[14.],\n",
       "       [14.],\n",
       "       [14.],\n",
       "       [14.],\n",
       "       [14.],\n",
       "       [14.],\n",
       "       [14.],\n",
       "       [14.],\n",
       "       [14.],\n",
       "       [14.],\n",
       "       [14.],\n",
       "       [14.],\n",
       "       [14.],\n",
       "       [14.],\n",
       "       [14.],\n",
       "       [14.],\n",
       "       [14.],\n",
       "       [14.],\n",
       "       [14.],\n",
       "       [14.]])"
      ]
     },
     "execution_count": 19,
     "metadata": {},
     "output_type": "execute_result"
    }
   ],
   "source": [
    "schema.update_storage_batch(storage_batch, parameter=\"FacadeRValue\", value=14)\n",
    "schema[\"FacadeRValue\"].extract_storage_values_batch(storage_batch)"
   ]
  },
  {
   "attachments": {},
   "cell_type": "markdown",
   "metadata": {},
   "source": [
    "Now let's try updating an entire batch with random values.  We can also unnormalize the uniform random variable into the desired range:"
   ]
  },
  {
   "cell_type": "code",
   "execution_count": 17,
   "metadata": {},
   "outputs": [
    {
     "data": {
      "text/plain": [
       "array([[49.69044519],\n",
       "       [35.83417614],\n",
       "       [36.15324811],\n",
       "       [39.70141417],\n",
       "       [36.91452215],\n",
       "       [35.8058487 ],\n",
       "       [47.14623408],\n",
       "       [28.00483113],\n",
       "       [11.64489202],\n",
       "       [ 5.76324733],\n",
       "       [43.97896559],\n",
       "       [23.8966386 ],\n",
       "       [18.18477858],\n",
       "       [22.40312448],\n",
       "       [24.79133712],\n",
       "       [48.51735346],\n",
       "       [23.83342887],\n",
       "       [40.33448286],\n",
       "       [41.80882116],\n",
       "       [37.35796057]])"
      ]
     },
     "execution_count": 17,
     "metadata": {},
     "output_type": "execute_result"
    }
   ],
   "source": [
    "parameter = \"SlabRValue\"\n",
    "n = batch_size\n",
    "shape = (n, *schema[parameter].shape_storage)\n",
    "values = np.random.rand(*shape) # create a random sample with appropriate shape\n",
    "values = schema[parameter].unnormalize(values) # schema parameter must be a numeric type with min/max defined for unnormalize to work\n",
    "schema.update_storage_batch(storage_batch, parameter=parameter, value=values)\n",
    "schema[parameter].extract_storage_values_batch(storage_batch)"
   ]
  },
  {
   "attachments": {},
   "cell_type": "markdown",
   "metadata": {},
   "source": [
    "Finally, let's try updating just a subset of the batch by using the `index` parameter:\n",
    "\n",
    "*nb: we can also use an int instead of a tuple for `index` to only update a single vector's parameter*"
   ]
  },
  {
   "cell_type": "code",
   "execution_count": 18,
   "metadata": {},
   "outputs": [
    {
     "data": {
      "text/plain": [
       "array([[0.        ],\n",
       "       [0.        ],\n",
       "       [0.14358503],\n",
       "       [0.41262764],\n",
       "       [0.5909276 ],\n",
       "       [0.74166519],\n",
       "       [0.25399637],\n",
       "       [0.09774832],\n",
       "       [0.59075003],\n",
       "       [0.8960576 ],\n",
       "       [0.        ],\n",
       "       [0.        ],\n",
       "       [0.        ],\n",
       "       [0.        ],\n",
       "       [0.        ],\n",
       "       [0.        ],\n",
       "       [0.        ],\n",
       "       [0.        ],\n",
       "       [0.        ],\n",
       "       [0.        ]])"
      ]
     },
     "execution_count": 18,
     "metadata": {},
     "output_type": "execute_result"
    }
   ],
   "source": [
    "start = 2\n",
    "n = 8\n",
    "end = start + n\n",
    "parameter = \"PartitionRValue\"\n",
    "shape = (n, *schema[parameter].shape_storage)\n",
    "values = np.random.rand(*shape) # create a random sample with appropriate shape\n",
    "\n",
    "schema.update_storage_batch(storage_batch, index=(start,end), parameter=parameter, value=values)\n",
    "schema[parameter].extract_storage_values_batch(storage_batch) "
   ]
  },
  {
   "attachments": {},
   "cell_type": "markdown",
   "metadata": {},
   "source": [
    "A useful technique will be to start with a small batch, and then duplicate it in concatenations along `axis=0` as we build up our mixed grid/hypercube/random samples.  Let's start by creating a new batch with a single vector."
   ]
  },
  {
   "cell_type": "code",
   "execution_count": 38,
   "metadata": {},
   "outputs": [
    {
     "data": {
      "text/plain": [
       "(1, 151)"
      ]
     },
     "execution_count": 38,
     "metadata": {},
     "output_type": "execute_result"
    }
   ],
   "source": [
    "storage_batch = schema.generate_empty_storage_batch(1)\n",
    "storage_batch.shape"
   ]
  },
  {
   "attachments": {},
   "cell_type": "markdown",
   "metadata": {},
   "source": [
    "Now let's say some baseline parameters (e.g. pulled from ResStock)"
   ]
  },
  {
   "cell_type": "code",
   "execution_count": 39,
   "metadata": {},
   "outputs": [
    {
     "data": {
      "text/plain": [
       "array([[ 0. , 15. ,  0. ,  0. ,  0. ,  0. ,  0. ,  0. ,  0. ,  0. ,  0. ,\n",
       "         0. ,  0. ,  0. ,  0. ,  7.2,  0. ,  0. , 20. , 30. ,  0. ,  0. ,\n",
       "         0. ,  0. ,  0. ,  0. ,  0. ,  0. ,  0. ,  0. ,  0. ,  0. ,  0. ,\n",
       "         0. ,  0. ,  0. ,  0. ,  0. ,  0. ,  0. ,  0. ,  0. ,  0. ,  0. ,\n",
       "         0. ,  0. ,  0. ,  0. ,  0. ,  0. ,  0. ,  0. ,  0. ,  0. ,  0. ,\n",
       "         0. ,  0. ,  0. ,  0. ,  0. ,  0. ,  0. ,  0. ,  0. ,  0. ,  0. ,\n",
       "         0. ,  0. ,  0. ,  0. ,  0. ,  0. ,  0. ,  0. ,  0. ,  0. ,  0. ,\n",
       "         0. ,  0. ,  0. ,  0. ,  0. ,  0. ,  0. ,  0. ,  0. ,  0. ,  0. ,\n",
       "         0. ,  0. ,  0. ,  0. ,  0. ,  0. ,  0. ,  0. ,  0. ,  0. ,  0. ,\n",
       "         0. ,  0. ,  0. ,  0. ,  0. ,  0. ,  0. ,  0. ,  0. ,  0. ,  0. ,\n",
       "         0. ,  0. ,  0. ,  0. ,  0. ,  0. ,  0. ,  0. ,  0. ,  0. ,  0. ,\n",
       "         0. ,  0. ,  0. ,  0. ,  0. ,  0. ,  0. ,  0. ,  0. ,  0. ,  0. ,\n",
       "         0. ,  0. ,  0. ,  0. ,  0. ,  0. ,  0. ,  0. ,  0. ,  0. ,  0. ,\n",
       "         0. ,  0. ,  0. ,  0. ,  0. ,  0. ,  0. ,  0. ],\n",
       "       [ 0. , 15. ,  0. ,  0. ,  0. ,  0. ,  0. ,  0. ,  0. ,  0. ,  0. ,\n",
       "         0. ,  0. ,  0. ,  0. ,  7.2,  0. ,  0. , 20. , 30. ,  0. ,  0. ,\n",
       "         0. ,  0. ,  0. ,  0. ,  0. ,  0. ,  0. ,  0. ,  0. ,  0. ,  0. ,\n",
       "         0. ,  0. ,  0. ,  0. ,  0. ,  0. ,  0. ,  0. ,  0. ,  0. ,  0. ,\n",
       "         0. ,  0. ,  0. ,  0. ,  0. ,  0. ,  0. ,  0. ,  0. ,  0. ,  0. ,\n",
       "         0. ,  0. ,  0. ,  0. ,  0. ,  0. ,  0. ,  0. ,  0. ,  0. ,  0. ,\n",
       "         0. ,  0. ,  0. ,  0. ,  0. ,  0. ,  0. ,  0. ,  0. ,  0. ,  0. ,\n",
       "         0. ,  0. ,  0. ,  0. ,  0. ,  0. ,  0. ,  0. ,  0. ,  0. ,  0. ,\n",
       "         0. ,  0. ,  0. ,  0. ,  0. ,  0. ,  0. ,  0. ,  0. ,  0. ,  0. ,\n",
       "         0. ,  0. ,  0. ,  0. ,  0. ,  0. ,  0. ,  0. ,  0. ,  0. ,  0. ,\n",
       "         0. ,  0. ,  0. ,  0. ,  0. ,  0. ,  0. ,  0. ,  0. ,  0. ,  0. ,\n",
       "         0. ,  0. ,  0. ,  0. ,  0. ,  0. ,  0. ,  0. ,  0. ,  0. ,  0. ,\n",
       "         0. ,  0. ,  0. ,  0. ,  0. ,  0. ,  0. ,  0. ,  0. ,  0. ,  0. ,\n",
       "         0. ,  0. ,  0. ,  0. ,  0. ,  0. ,  0. ,  0. ],\n",
       "       [ 0. , 15. ,  0. ,  0. ,  0. ,  0. ,  0. ,  0. ,  0. ,  0. ,  0. ,\n",
       "         0. ,  0. ,  0. ,  0. ,  7.2,  0. ,  0. , 20. , 30. ,  0. ,  0. ,\n",
       "         0. ,  0. ,  0. ,  0. ,  0. ,  0. ,  0. ,  0. ,  0. ,  0. ,  0. ,\n",
       "         0. ,  0. ,  0. ,  0. ,  0. ,  0. ,  0. ,  0. ,  0. ,  0. ,  0. ,\n",
       "         0. ,  0. ,  0. ,  0. ,  0. ,  0. ,  0. ,  0. ,  0. ,  0. ,  0. ,\n",
       "         0. ,  0. ,  0. ,  0. ,  0. ,  0. ,  0. ,  0. ,  0. ,  0. ,  0. ,\n",
       "         0. ,  0. ,  0. ,  0. ,  0. ,  0. ,  0. ,  0. ,  0. ,  0. ,  0. ,\n",
       "         0. ,  0. ,  0. ,  0. ,  0. ,  0. ,  0. ,  0. ,  0. ,  0. ,  0. ,\n",
       "         0. ,  0. ,  0. ,  0. ,  0. ,  0. ,  0. ,  0. ,  0. ,  0. ,  0. ,\n",
       "         0. ,  0. ,  0. ,  0. ,  0. ,  0. ,  0. ,  0. ,  0. ,  0. ,  0. ,\n",
       "         0. ,  0. ,  0. ,  0. ,  0. ,  0. ,  0. ,  0. ,  0. ,  0. ,  0. ,\n",
       "         0. ,  0. ,  0. ,  0. ,  0. ,  0. ,  0. ,  0. ,  0. ,  0. ,  0. ,\n",
       "         0. ,  0. ,  0. ,  0. ,  0. ,  0. ,  0. ,  0. ,  0. ,  0. ,  0. ,\n",
       "         0. ,  0. ,  0. ,  0. ,  0. ,  0. ,  0. ,  0. ],\n",
       "       [ 0. , 15. ,  0. ,  0. ,  0. ,  0. ,  0. ,  0. ,  0. ,  0. ,  0. ,\n",
       "         0. ,  0. ,  0. ,  0. ,  7.2,  0. ,  0. , 20. , 30. ,  0. ,  0. ,\n",
       "         0. ,  0. ,  0. ,  0. ,  0. ,  0. ,  0. ,  0. ,  0. ,  0. ,  0. ,\n",
       "         0. ,  0. ,  0. ,  0. ,  0. ,  0. ,  0. ,  0. ,  0. ,  0. ,  0. ,\n",
       "         0. ,  0. ,  0. ,  0. ,  0. ,  0. ,  0. ,  0. ,  0. ,  0. ,  0. ,\n",
       "         0. ,  0. ,  0. ,  0. ,  0. ,  0. ,  0. ,  0. ,  0. ,  0. ,  0. ,\n",
       "         0. ,  0. ,  0. ,  0. ,  0. ,  0. ,  0. ,  0. ,  0. ,  0. ,  0. ,\n",
       "         0. ,  0. ,  0. ,  0. ,  0. ,  0. ,  0. ,  0. ,  0. ,  0. ,  0. ,\n",
       "         0. ,  0. ,  0. ,  0. ,  0. ,  0. ,  0. ,  0. ,  0. ,  0. ,  0. ,\n",
       "         0. ,  0. ,  0. ,  0. ,  0. ,  0. ,  0. ,  0. ,  0. ,  0. ,  0. ,\n",
       "         0. ,  0. ,  0. ,  0. ,  0. ,  0. ,  0. ,  0. ,  0. ,  0. ,  0. ,\n",
       "         0. ,  0. ,  0. ,  0. ,  0. ,  0. ,  0. ,  0. ,  0. ,  0. ,  0. ,\n",
       "         0. ,  0. ,  0. ,  0. ,  0. ,  0. ,  0. ,  0. ,  0. ,  0. ,  0. ,\n",
       "         0. ,  0. ,  0. ,  0. ,  0. ,  0. ,  0. ,  0. ]])"
      ]
     },
     "execution_count": 39,
     "metadata": {},
     "output_type": "execute_result"
    }
   ],
   "source": [
    "schema.update_storage_batch(storage_batch, parameter=\"FacadeRValue\", value=20)\n",
    "schema.update_storage_batch(storage_batch, parameter=\"RoofRValue\", value=30)\n",
    "schema.update_storage_batch(storage_batch, parameter=\"LightingPowerDensity\", value=7.2)\n",
    "schema.update_storage_batch(storage_batch, parameter=\"base_template\", value=15)\n",
    "storage_batch = np.concatenate([storage_batch for _ in range(4)], axis=0)\n",
    "storage_batch"
   ]
  },
  {
   "attachments": {},
   "cell_type": "markdown",
   "metadata": {},
   "source": [
    "Now let's set the orientations:"
   ]
  },
  {
   "cell_type": "code",
   "execution_count": 40,
   "metadata": {},
   "outputs": [
    {
     "data": {
      "text/plain": [
       "array([[0.],\n",
       "       [1.],\n",
       "       [2.],\n",
       "       [3.]])"
      ]
     },
     "execution_count": 40,
     "metadata": {},
     "output_type": "execute_result"
    }
   ],
   "source": [
    "values = np.arange(4).reshape(-1,1)\n",
    "parameter = \"orientation\"\n",
    "schema.update_storage_batch(storage_batch, parameter=parameter, value=values)\n",
    "schema[parameter].extract_storage_values_batch(storage_batch)"
   ]
  },
  {
   "attachments": {},
   "cell_type": "markdown",
   "metadata": {},
   "source": [
    "Looks good!  Now let's stack this up and begin generating some geometric variations."
   ]
  },
  {
   "cell_type": "code",
   "execution_count": 41,
   "metadata": {},
   "outputs": [],
   "source": [
    "orientations_per_base = 4\n",
    "geometric_variations_per_orientation = 5"
   ]
  },
  {
   "cell_type": "code",
   "execution_count": 42,
   "metadata": {},
   "outputs": [
    {
     "data": {
      "text/plain": [
       "(20, 151)"
      ]
     },
     "execution_count": 42,
     "metadata": {},
     "output_type": "execute_result"
    }
   ],
   "source": [
    "storage_batch = np.repeat(storage_batch, geometric_variations_per_orientation, axis=0)\n",
    "storage_batch.shape"
   ]
  },
  {
   "cell_type": "code",
   "execution_count": 45,
   "metadata": {},
   "outputs": [
    {
     "data": {
      "text/plain": [
       "array([[0.],\n",
       "       [0.],\n",
       "       [0.],\n",
       "       [0.],\n",
       "       [0.],\n",
       "       [1.],\n",
       "       [1.],\n",
       "       [1.],\n",
       "       [1.],\n",
       "       [1.],\n",
       "       [2.],\n",
       "       [2.],\n",
       "       [2.],\n",
       "       [2.],\n",
       "       [2.],\n",
       "       [3.],\n",
       "       [3.],\n",
       "       [3.],\n",
       "       [3.],\n",
       "       [3.]])"
      ]
     },
     "execution_count": 45,
     "metadata": {},
     "output_type": "execute_result"
    }
   ],
   "source": [
    "schema[\"orientation\"].extract_storage_values_batch(storage_batch)"
   ]
  },
  {
   "attachments": {},
   "cell_type": "markdown",
   "metadata": {},
   "source": [
    "Looks good!  let's start populating this: if we wanted to use repeating values, we could do nested loops:"
   ]
  },
  {
   "cell_type": "code",
   "execution_count": 51,
   "metadata": {},
   "outputs": [],
   "source": [
    "for i in range(orientations_per_base):\n",
    "\tn = geometric_variations_per_orientation # how many design vectors in this mini batch\n",
    "\tstart = i*n # where this mini batch starts in the parent batch\n",
    "\tend = start + n # where this mini batch ends in the parent batch\n",
    "\tfor j,parameter in enumerate(schema.parameters):\n",
    "\t\tif isinstance(parameter, ShoeboxGeometryParameter):\n",
    "\t\t\tname = parameter.name\n",
    "\t\t\tshape = parameter.shape_storage\n",
    "\t\t\tnp.random.seed(j+20923) # arbitrary but reliable seed\n",
    "\t\t\tvalues = np.random.rand(n, *shape) \n",
    "\t\t\tvalues = parameter.unnormalize(values)\n",
    "\t\t\tschema.update_storage_batch(storage_batch, index=(start,end), parameter=name, value=values)\n"
   ]
  },
  {
   "cell_type": "code",
   "execution_count": 52,
   "metadata": {},
   "outputs": [
    {
     "data": {
      "text/plain": [
       "array([[0.73061709],\n",
       "       [0.49898089],\n",
       "       [0.93358064],\n",
       "       [0.31829062],\n",
       "       [0.86278618],\n",
       "       [0.73061709],\n",
       "       [0.49898089],\n",
       "       [0.93358064],\n",
       "       [0.31829062],\n",
       "       [0.86278618],\n",
       "       [0.73061709],\n",
       "       [0.49898089],\n",
       "       [0.93358064],\n",
       "       [0.31829062],\n",
       "       [0.86278618],\n",
       "       [0.73061709],\n",
       "       [0.49898089],\n",
       "       [0.93358064],\n",
       "       [0.31829062],\n",
       "       [0.86278618]])"
      ]
     },
     "execution_count": 52,
     "metadata": {},
     "output_type": "execute_result"
    }
   ],
   "source": [
    "schema[\"wwr_e\"].extract_storage_values_batch(storage_batch)"
   ]
  },
  {
   "cell_type": "code",
   "execution_count": 54,
   "metadata": {},
   "outputs": [
    {
     "data": {
      "text/plain": [
       "array([[2.47060375],\n",
       "       [1.55185543],\n",
       "       [3.44850939],\n",
       "       [4.77931689],\n",
       "       [2.03592266],\n",
       "       [2.47060375],\n",
       "       [1.55185543],\n",
       "       [3.44850939],\n",
       "       [4.77931689],\n",
       "       [2.03592266],\n",
       "       [2.47060375],\n",
       "       [1.55185543],\n",
       "       [3.44850939],\n",
       "       [4.77931689],\n",
       "       [2.03592266],\n",
       "       [2.47060375],\n",
       "       [1.55185543],\n",
       "       [3.44850939],\n",
       "       [4.77931689],\n",
       "       [2.03592266]])"
      ]
     },
     "execution_count": 54,
     "metadata": {},
     "output_type": "execute_result"
    }
   ],
   "source": [
    "schema[\"width\"].extract_storage_values_batch(storage_batch)"
   ]
  },
  {
   "attachments": {},
   "cell_type": "markdown",
   "metadata": {},
   "source": [
    "Great, these are repeating correctly!  Now, suppose we want to just slightly perturb all of these so that they aren't perfectly repeating, but are close to repeating:"
   ]
  },
  {
   "cell_type": "code",
   "execution_count": 56,
   "metadata": {},
   "outputs": [
    {
     "data": {
      "text/plain": [
       "array([[2.51081291],\n",
       "       [1.46387821],\n",
       "       [3.36970034],\n",
       "       [4.76810012],\n",
       "       [1.99254176],\n",
       "       [2.54458022],\n",
       "       [1.59163977],\n",
       "       [3.52996215],\n",
       "       [4.87626705],\n",
       "       [2.06258373],\n",
       "       [2.3725389 ],\n",
       "       [1.60041238],\n",
       "       [3.47399806],\n",
       "       [4.74630787],\n",
       "       [2.05948589],\n",
       "       [2.42965623],\n",
       "       [1.51820695],\n",
       "       [3.54316544],\n",
       "       [4.81372785],\n",
       "       [2.06793996]])"
      ]
     },
     "execution_count": 56,
     "metadata": {},
     "output_type": "execute_result"
    }
   ],
   "source": [
    "for i,parameter in enumerate(schema.parameters):\n",
    "\tn = storage_batch.shape[0]\n",
    "\tname = parameter.name\n",
    "\tshape = parameter.shape_storage\n",
    "\tperturbations = np.random.rand(n,*shape)*0.2 - 0.1\n",
    "\tvalues = parameter.extract_storage_values_batch(storage_batch)\n",
    "\tvalues += perturbations\n",
    "\tschema.update_storage_batch(storage_batch,parameter=name,value=values)\n",
    "\n",
    "schema[\"width\"].extract_storage_values_batch(storage_batch)"
   ]
  },
  {
   "attachments": {},
   "cell_type": "markdown",
   "metadata": {},
   "source": [
    "Great!  We see that they are close to their previous values, but not identical.  \n",
    "\n",
    "Alternatively, we might prefer to simply use fully random geometric variations for all of our orientation duplicates, rather than repeating the geometry across orientations:"
   ]
  },
  {
   "cell_type": "code",
   "execution_count": 57,
   "metadata": {},
   "outputs": [
    {
     "data": {
      "text/plain": [
       "array([[4.13487261],\n",
       "       [3.97507724],\n",
       "       [3.48762092],\n",
       "       [3.2486845 ],\n",
       "       [3.60323479],\n",
       "       [3.94003224],\n",
       "       [4.95712946],\n",
       "       [2.9570808 ],\n",
       "       [2.20389045],\n",
       "       [1.92241243],\n",
       "       [4.72837206],\n",
       "       [1.8059675 ],\n",
       "       [3.92463522],\n",
       "       [1.67167951],\n",
       "       [1.89828836],\n",
       "       [3.84975856],\n",
       "       [4.77331265],\n",
       "       [4.97268823],\n",
       "       [2.33213755],\n",
       "       [2.10742535]])"
      ]
     },
     "execution_count": 57,
     "metadata": {},
     "output_type": "execute_result"
    }
   ],
   "source": [
    "for i,parameter in enumerate(schema.parameters):\n",
    "\tn = storage_batch.shape[0]\n",
    "\tname = parameter.name\n",
    "\tshape = parameter.shape_storage\n",
    "\tvalues = np.random.rand(n,*shape)\n",
    "\tvalues = parameter.unnormalize(values)\n",
    "\tschema.update_storage_batch(storage_batch,parameter=name,value=values)\n",
    "\n",
    "schema[\"width\"].extract_storage_values_batch(storage_batch)"
   ]
  }
 ],
 "metadata": {
  "kernelspec": {
   "display_name": "ml-for-bem-sampling",
   "language": "python",
   "name": "python3"
  },
  "language_info": {
   "codemirror_mode": {
    "name": "ipython",
    "version": 3
   },
   "file_extension": ".py",
   "mimetype": "text/x-python",
   "name": "python",
   "nbconvert_exporter": "python",
   "pygments_lexer": "ipython3",
   "version": "3.8.16"
  },
  "orig_nbformat": 4
 },
 "nbformat": 4,
 "nbformat_minor": 2
}
